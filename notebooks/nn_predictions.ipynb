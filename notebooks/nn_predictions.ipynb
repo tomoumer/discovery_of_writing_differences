{
 "cells": [
  {
   "attachments": {},
   "cell_type": "markdown",
   "metadata": {},
   "source": [
    "# Discovery of Writing Differences - Neural Networks Representation\n",
    "\n",
    "Capstone project by Tomo Umer"
   ]
  },
  {
   "attachments": {},
   "cell_type": "markdown",
   "metadata": {},
   "source": [
    "<img src=\"https://tomoumerdotcom.files.wordpress.com/2022/04/cropped-pho_logo_notext.png\" alt=\"PRAISE DOG\" style=\"width:400px;height:400px;\"/>"
   ]
  },
  {
   "attachments": {},
   "cell_type": "markdown",
   "metadata": {},
   "source": [
    "## Imports"
   ]
  },
  {
   "cell_type": "code",
   "execution_count": 1,
   "metadata": {},
   "outputs": [],
   "source": [
    "import pandas as pd\n",
    "import numpy as np\n",
    "import re\n",
    "import glob\n",
    "import plotly.express as px\n",
    "import pickle\n",
    "\n",
    "from sklearn.model_selection import train_test_split\n",
    "from sklearn.metrics import accuracy_score, confusion_matrix, classification_report\n",
    "from sklearn.feature_extraction.text import TfidfVectorizer\n",
    "from sklearn.linear_model import LogisticRegression\n",
    "from sklearn.pipeline import Pipeline\n",
    "\n",
    "\n",
    "import matplotlib.pyplot as plt\n",
    "import seaborn as sns\n",
    "from sklearn.neural_network import MLPClassifier, MLPRegressor\n",
    "from sklearn.preprocessing import MaxAbsScaler\n",
    "from copy import deepcopy\n",
    "\n",
    "import umap\n",
    "from scipy import spatial\n",
    "from scipy.cluster.hierarchy import linkage, dendrogram"
   ]
  },
  {
   "attachments": {},
   "cell_type": "markdown",
   "metadata": {},
   "source": [
    "## Reading In the Library and Prep for NN\n",
    "\n",
    "In this part, reading the .pkl file. "
   ]
  },
  {
   "cell_type": "code",
   "execution_count": 2,
   "metadata": {},
   "outputs": [],
   "source": [
    "library_select = pd.read_pickle('../data/library_select01.pkl')"
   ]
  },
  {
   "cell_type": "code",
   "execution_count": 3,
   "metadata": {},
   "outputs": [
    {
     "data": {
      "text/plain": [
       "(651, 12)"
      ]
     },
     "execution_count": 3,
     "metadata": {},
     "output_type": "execute_result"
    }
   ],
   "source": [
    "library_select.shape"
   ]
  },
  {
   "attachments": {},
   "cell_type": "markdown",
   "metadata": {},
   "source": [
    "Next, extract authors, create dictionary to convert authors name to numeric values (for predictions) and add a column with that."
   ]
  },
  {
   "cell_type": "code",
   "execution_count": 4,
   "metadata": {},
   "outputs": [],
   "source": [
    "select_authors = list(library_select.sort_values(by='authorcentury')['author'].unique())\n",
    "\n",
    "authors_to_num = {select_authors[i]: i for i in range(len(select_authors))}\n",
    "#num_to_authors = {v: k for k, v in authors_to_num.items()}\n",
    "\n",
    "library_select['author_num'] = library_select['author'].map(authors_to_num)"
   ]
  },
  {
   "attachments": {},
   "cell_type": "markdown",
   "metadata": {},
   "source": [
    "## Sklearn NN\n",
    "\n",
    "First round of neural network analysis, using sklearn."
   ]
  },
  {
   "cell_type": "code",
   "execution_count": 5,
   "metadata": {},
   "outputs": [],
   "source": [
    "X = library_select[['book_content']]\n",
    "y = library_select['author_num']\n",
    "\n",
    "X_train, X_test, y_train, y_test = train_test_split(X, y, random_state = 42, stratify = y)"
   ]
  },
  {
   "cell_type": "code",
   "execution_count": 6,
   "metadata": {},
   "outputs": [],
   "source": [
    "pipe_nn = Pipeline(\n",
    "    steps = [\n",
    "        ('vect', TfidfVectorizer(min_df=2, max_df=0.8, ngram_range=(1,2))),\n",
    "        ('scaler', MaxAbsScaler()),  #this is needed in order to make it converge in a reasonable time!\n",
    "        ('nn', MLPClassifier(verbose = True,\n",
    "                             hidden_layer_sizes = (100, 100),\n",
    "                             #activation = 'relu',\n",
    "                             #max_iter = 10000,\n",
    "                             #alpha=0.05\n",
    "                             ))\n",
    "    ]\n",
    ")"
   ]
  },
  {
   "cell_type": "code",
   "execution_count": 8,
   "metadata": {},
   "outputs": [
    {
     "name": "stdout",
     "output_type": "stream",
     "text": [
      "Iteration 1, loss = 2.05760069\n",
      "Iteration 2, loss = 0.21752568\n",
      "Iteration 3, loss = 0.04001671\n",
      "Iteration 4, loss = 0.01544992\n",
      "Iteration 5, loss = 0.01075980\n",
      "Iteration 6, loss = 0.00938157\n",
      "Iteration 7, loss = 0.00869037\n",
      "Iteration 8, loss = 0.00810409\n",
      "Iteration 9, loss = 0.00770447\n",
      "Iteration 10, loss = 0.00711750\n",
      "Iteration 11, loss = 0.00670056\n",
      "Iteration 12, loss = 0.00627428\n",
      "Iteration 13, loss = 0.00583835\n",
      "Iteration 14, loss = 0.00546611\n",
      "Iteration 15, loss = 0.00517065\n",
      "Iteration 16, loss = 0.00482834\n",
      "Iteration 17, loss = 0.00443677\n",
      "Iteration 18, loss = 0.00418134\n",
      "Iteration 19, loss = 0.00397561\n",
      "Iteration 20, loss = 0.00369328\n",
      "Iteration 21, loss = 0.00362501\n",
      "Iteration 22, loss = 0.00345571\n",
      "Iteration 23, loss = 0.00344258\n",
      "Iteration 24, loss = 0.00349978\n",
      "Iteration 25, loss = 0.00337683\n",
      "Iteration 26, loss = 0.00316837\n",
      "Iteration 27, loss = 0.00306236\n",
      "Iteration 28, loss = 0.00296979\n",
      "Iteration 29, loss = 0.00283702\n",
      "Iteration 30, loss = 0.00278364\n"
     ]
    },
    {
     "name": "stderr",
     "output_type": "stream",
     "text": [
      "/Users/tomoumer/opt/anaconda3/lib/python3.9/site-packages/sklearn/neural_network/_multilayer_perceptron.py:691: UserWarning: Training interrupted by user.\n",
      "  warnings.warn(\"Training interrupted by user.\")\n"
     ]
    },
    {
     "ename": "KeyboardInterrupt",
     "evalue": "",
     "output_type": "error",
     "traceback": [
      "\u001b[0;31m---------------------------------------------------------------------------\u001b[0m",
      "\u001b[0;31mKeyError\u001b[0m                                  Traceback (most recent call last)",
      "File \u001b[0;32m~/opt/anaconda3/lib/python3.9/site-packages/sklearn/feature_extraction/text.py:1276\u001b[0m, in \u001b[0;36mCountVectorizer._count_vocab\u001b[0;34m(self, raw_documents, fixed_vocab)\u001b[0m\n\u001b[1;32m   1275\u001b[0m \u001b[39mtry\u001b[39;00m:\n\u001b[0;32m-> 1276\u001b[0m     feature_idx \u001b[39m=\u001b[39m vocabulary[feature]\n\u001b[1;32m   1277\u001b[0m     \u001b[39mif\u001b[39;00m feature_idx \u001b[39mnot\u001b[39;00m \u001b[39min\u001b[39;00m feature_counter:\n",
      "\u001b[0;31mKeyError\u001b[0m: 'give'",
      "\nDuring handling of the above exception, another exception occurred:\n",
      "\u001b[0;31mKeyboardInterrupt\u001b[0m                         Traceback (most recent call last)",
      "Cell \u001b[0;32mIn[8], line 11\u001b[0m\n\u001b[1;32m      1\u001b[0m \u001b[39m# pipe_nn.fit(X_train['book_content'], y_train)\u001b[39;00m\n\u001b[1;32m      2\u001b[0m \u001b[39m# y_pred = pipe_nn.predict(X_test['book_content'])\u001b[39;00m\n\u001b[1;32m      3\u001b[0m \n\u001b[0;32m   (...)\u001b[0m\n\u001b[1;32m      7\u001b[0m \u001b[39m# print('-------- classification report ---------')\u001b[39;00m\n\u001b[1;32m      8\u001b[0m \u001b[39m# print(classification_report(y_test, y_pred))\u001b[39;00m\n\u001b[1;32m     10\u001b[0m pipe_nn\u001b[39m.\u001b[39mfit(X[\u001b[39m'\u001b[39m\u001b[39mbook_content\u001b[39m\u001b[39m'\u001b[39m], y)\n\u001b[0;32m---> 11\u001b[0m y_pred \u001b[39m=\u001b[39m pipe_nn\u001b[39m.\u001b[39;49mpredict(X[\u001b[39m'\u001b[39;49m\u001b[39mbook_content\u001b[39;49m\u001b[39m'\u001b[39;49m])\n\u001b[1;32m     13\u001b[0m \u001b[39mprint\u001b[39m(\u001b[39m'\u001b[39m\u001b[39maccuracy score:\u001b[39m\u001b[39m'\u001b[39m, accuracy_score(y, y_pred), \u001b[39m'\u001b[39m\u001b[39m\\n\u001b[39;00m\u001b[39m'\u001b[39m)\n\u001b[1;32m     14\u001b[0m \u001b[39mprint\u001b[39m(\u001b[39m'\u001b[39m\u001b[39m----- confusion matrix ------\u001b[39m\u001b[39m'\u001b[39m)\n",
      "File \u001b[0;32m~/opt/anaconda3/lib/python3.9/site-packages/sklearn/pipeline.py:480\u001b[0m, in \u001b[0;36mPipeline.predict\u001b[0;34m(self, X, **predict_params)\u001b[0m\n\u001b[1;32m    478\u001b[0m Xt \u001b[39m=\u001b[39m X\n\u001b[1;32m    479\u001b[0m \u001b[39mfor\u001b[39;00m _, name, transform \u001b[39min\u001b[39;00m \u001b[39mself\u001b[39m\u001b[39m.\u001b[39m_iter(with_final\u001b[39m=\u001b[39m\u001b[39mFalse\u001b[39;00m):\n\u001b[0;32m--> 480\u001b[0m     Xt \u001b[39m=\u001b[39m transform\u001b[39m.\u001b[39;49mtransform(Xt)\n\u001b[1;32m    481\u001b[0m \u001b[39mreturn\u001b[39;00m \u001b[39mself\u001b[39m\u001b[39m.\u001b[39msteps[\u001b[39m-\u001b[39m\u001b[39m1\u001b[39m][\u001b[39m1\u001b[39m]\u001b[39m.\u001b[39mpredict(Xt, \u001b[39m*\u001b[39m\u001b[39m*\u001b[39mpredict_params)\n",
      "File \u001b[0;32m~/opt/anaconda3/lib/python3.9/site-packages/sklearn/feature_extraction/text.py:2155\u001b[0m, in \u001b[0;36mTfidfVectorizer.transform\u001b[0;34m(self, raw_documents)\u001b[0m\n\u001b[1;32m   2138\u001b[0m \u001b[39m\"\"\"Transform documents to document-term matrix.\u001b[39;00m\n\u001b[1;32m   2139\u001b[0m \n\u001b[1;32m   2140\u001b[0m \u001b[39mUses the vocabulary and document frequencies (df) learned by fit (or\u001b[39;00m\n\u001b[0;32m   (...)\u001b[0m\n\u001b[1;32m   2151\u001b[0m \u001b[39m    Tf-idf-weighted document-term matrix.\u001b[39;00m\n\u001b[1;32m   2152\u001b[0m \u001b[39m\"\"\"\u001b[39;00m\n\u001b[1;32m   2153\u001b[0m check_is_fitted(\u001b[39mself\u001b[39m, msg\u001b[39m=\u001b[39m\u001b[39m\"\u001b[39m\u001b[39mThe TF-IDF vectorizer is not fitted\u001b[39m\u001b[39m\"\u001b[39m)\n\u001b[0;32m-> 2155\u001b[0m X \u001b[39m=\u001b[39m \u001b[39msuper\u001b[39;49m()\u001b[39m.\u001b[39;49mtransform(raw_documents)\n\u001b[1;32m   2156\u001b[0m \u001b[39mreturn\u001b[39;00m \u001b[39mself\u001b[39m\u001b[39m.\u001b[39m_tfidf\u001b[39m.\u001b[39mtransform(X, copy\u001b[39m=\u001b[39m\u001b[39mFalse\u001b[39;00m)\n",
      "File \u001b[0;32m~/opt/anaconda3/lib/python3.9/site-packages/sklearn/feature_extraction/text.py:1432\u001b[0m, in \u001b[0;36mCountVectorizer.transform\u001b[0;34m(self, raw_documents)\u001b[0m\n\u001b[1;32m   1429\u001b[0m \u001b[39mself\u001b[39m\u001b[39m.\u001b[39m_check_vocabulary()\n\u001b[1;32m   1431\u001b[0m \u001b[39m# use the same matrix-building strategy as fit_transform\u001b[39;00m\n\u001b[0;32m-> 1432\u001b[0m _, X \u001b[39m=\u001b[39m \u001b[39mself\u001b[39;49m\u001b[39m.\u001b[39;49m_count_vocab(raw_documents, fixed_vocab\u001b[39m=\u001b[39;49m\u001b[39mTrue\u001b[39;49;00m)\n\u001b[1;32m   1433\u001b[0m \u001b[39mif\u001b[39;00m \u001b[39mself\u001b[39m\u001b[39m.\u001b[39mbinary:\n\u001b[1;32m   1434\u001b[0m     X\u001b[39m.\u001b[39mdata\u001b[39m.\u001b[39mfill(\u001b[39m1\u001b[39m)\n",
      "File \u001b[0;32m~/opt/anaconda3/lib/python3.9/site-packages/sklearn/feature_extraction/text.py:1276\u001b[0m, in \u001b[0;36mCountVectorizer._count_vocab\u001b[0;34m(self, raw_documents, fixed_vocab)\u001b[0m\n\u001b[1;32m   1274\u001b[0m \u001b[39mfor\u001b[39;00m feature \u001b[39min\u001b[39;00m analyze(doc):\n\u001b[1;32m   1275\u001b[0m     \u001b[39mtry\u001b[39;00m:\n\u001b[0;32m-> 1276\u001b[0m         feature_idx \u001b[39m=\u001b[39m vocabulary[feature]\n\u001b[1;32m   1277\u001b[0m         \u001b[39mif\u001b[39;00m feature_idx \u001b[39mnot\u001b[39;00m \u001b[39min\u001b[39;00m feature_counter:\n\u001b[1;32m   1278\u001b[0m             feature_counter[feature_idx] \u001b[39m=\u001b[39m \u001b[39m1\u001b[39m\n",
      "\u001b[0;31mKeyboardInterrupt\u001b[0m: "
     ]
    }
   ],
   "source": [
    "# pipe_nn.fit(X_train['book_content'], y_train)\n",
    "y_pred = pipe_nn.predict(X_test['book_content'])\n",
    "\n",
    "print('accuracy score:', accuracy_score(y_test, y_pred), '\\n')\n",
    "print('----- confusion matrix ------')\n",
    "print(confusion_matrix(y_test, y_pred), '\\n')\n",
    "print('-------- classification report ---------')\n",
    "print(classification_report(y_test, y_pred))\n",
    "\n",
    "# this below ran for almost 2 hours and didn't finish yet...\n",
    "# pipe_nn.fit(X['book_content'], y)\n",
    "# y_pred = pipe_nn.predict(X['book_content'])\n",
    "\n",
    "# print('accuracy score:', accuracy_score(y, y_pred), '\\n')\n",
    "# print('----- confusion matrix ------')\n",
    "# print(confusion_matrix(y, y_pred), '\\n')\n",
    "# print('-------- classification report ---------')\n",
    "# print(classification_report(y, y_pred))"
   ]
  },
  {
   "cell_type": "code",
   "execution_count": 10,
   "metadata": {},
   "outputs": [
    {
     "data": {
      "application/vnd.plotly.v1+json": {
       "config": {
        "plotlyServerURL": "https://plot.ly"
       },
       "data": [
        {
         "coloraxis": "coloraxis",
         "hovertemplate": "Predicted Label: %{x}<br>True Label: %{y}<br>color: %{z}<extra></extra>",
         "name": "0",
         "texttemplate": "%{z}",
         "type": "heatmap",
         "x": [
          "Homer",
          "Confucius",
          "Plato",
          "Cicero, Marcus Tullius",
          "Seneca, Lucius Annaeus",
          "Marcus Aurelius, Emperor of Rome",
          "Dante Alighieri",
          "Boccaccio, Giovanni",
          "Machiavelli, Niccolò",
          "Shakespeare, William",
          "Molière",
          "Defoe, Daniel",
          "Jefferson, Thomas",
          "Austen, Jane",
          "Dickens, Charles",
          "Dumas, Alexandre",
          "Doyle, Arthur Conan",
          "Twain, Mark",
          "Lovecraft, H. P. (Howard Phillips)",
          "Churchill, Winston",
          "Dick, Philip K.",
          "Huxley, Aldous"
         ],
         "xaxis": "x",
         "y": [
          "Homer",
          "Confucius",
          "Plato",
          "Cicero, Marcus Tullius",
          "Seneca, Lucius Annaeus",
          "Marcus Aurelius, Emperor of Rome",
          "Dante Alighieri",
          "Boccaccio, Giovanni",
          "Machiavelli, Niccolò",
          "Shakespeare, William",
          "Molière",
          "Defoe, Daniel",
          "Jefferson, Thomas",
          "Austen, Jane",
          "Dickens, Charles",
          "Dumas, Alexandre",
          "Doyle, Arthur Conan",
          "Twain, Mark",
          "Lovecraft, H. P. (Howard Phillips)",
          "Churchill, Winston",
          "Dick, Philip K.",
          "Huxley, Aldous"
         ],
         "yaxis": "y",
         "z": [
          [
           14,
           0,
           0,
           0,
           0,
           0,
           0,
           0,
           0,
           0,
           0,
           0,
           0,
           0,
           0,
           0,
           0,
           0,
           0,
           0,
           0,
           0
          ],
          [
           0,
           5,
           0,
           0,
           0,
           0,
           0,
           0,
           0,
           0,
           0,
           0,
           0,
           0,
           0,
           0,
           0,
           0,
           0,
           0,
           0,
           0
          ],
          [
           0,
           0,
           33,
           0,
           0,
           0,
           0,
           0,
           0,
           0,
           0,
           0,
           0,
           0,
           0,
           0,
           0,
           0,
           0,
           0,
           0,
           0
          ],
          [
           0,
           0,
           0,
           14,
           0,
           0,
           0,
           0,
           0,
           0,
           0,
           0,
           0,
           0,
           0,
           0,
           0,
           0,
           0,
           0,
           0,
           0
          ],
          [
           0,
           0,
           0,
           0,
           7,
           0,
           0,
           0,
           0,
           0,
           0,
           0,
           0,
           0,
           0,
           0,
           0,
           0,
           0,
           0,
           0,
           0
          ],
          [
           0,
           0,
           0,
           0,
           0,
           5,
           0,
           0,
           0,
           0,
           0,
           0,
           0,
           0,
           0,
           0,
           0,
           0,
           0,
           0,
           0,
           0
          ],
          [
           0,
           0,
           0,
           0,
           0,
           0,
           19,
           0,
           0,
           0,
           0,
           0,
           0,
           0,
           0,
           0,
           0,
           0,
           0,
           0,
           0,
           0
          ],
          [
           0,
           0,
           0,
           0,
           0,
           0,
           0,
           6,
           0,
           0,
           0,
           0,
           0,
           0,
           0,
           0,
           0,
           0,
           0,
           0,
           0,
           0
          ],
          [
           0,
           0,
           0,
           0,
           0,
           0,
           0,
           0,
           5,
           0,
           0,
           0,
           0,
           0,
           0,
           0,
           0,
           0,
           0,
           0,
           0,
           0
          ],
          [
           0,
           0,
           0,
           0,
           0,
           0,
           0,
           0,
           0,
           70,
           0,
           0,
           0,
           0,
           0,
           0,
           0,
           0,
           0,
           0,
           0,
           0
          ],
          [
           0,
           0,
           0,
           0,
           0,
           0,
           0,
           0,
           0,
           0,
           18,
           0,
           0,
           0,
           0,
           0,
           0,
           0,
           0,
           0,
           0,
           0
          ],
          [
           0,
           0,
           0,
           0,
           0,
           0,
           0,
           0,
           0,
           0,
           0,
           45,
           0,
           0,
           0,
           0,
           0,
           0,
           0,
           0,
           0,
           0
          ],
          [
           0,
           0,
           0,
           0,
           0,
           0,
           0,
           0,
           0,
           0,
           0,
           0,
           19,
           0,
           0,
           0,
           0,
           0,
           0,
           0,
           0,
           0
          ],
          [
           0,
           0,
           0,
           0,
           0,
           0,
           0,
           0,
           0,
           0,
           0,
           0,
           0,
           14,
           0,
           0,
           0,
           0,
           0,
           0,
           0,
           0
          ],
          [
           0,
           0,
           0,
           0,
           0,
           0,
           0,
           0,
           0,
           0,
           0,
           0,
           0,
           0,
           70,
           0,
           0,
           0,
           0,
           0,
           0,
           0
          ],
          [
           0,
           0,
           0,
           0,
           0,
           0,
           0,
           0,
           0,
           0,
           0,
           0,
           0,
           0,
           0,
           63,
           0,
           0,
           0,
           0,
           0,
           0
          ],
          [
           0,
           0,
           0,
           0,
           0,
           0,
           0,
           0,
           0,
           0,
           0,
           0,
           0,
           0,
           0,
           0,
           70,
           0,
           0,
           0,
           0,
           0
          ],
          [
           0,
           0,
           0,
           0,
           0,
           0,
           0,
           0,
           0,
           0,
           0,
           0,
           0,
           0,
           0,
           0,
           0,
           70,
           0,
           0,
           0,
           0
          ],
          [
           0,
           0,
           0,
           0,
           0,
           0,
           0,
           0,
           0,
           0,
           0,
           0,
           0,
           0,
           0,
           0,
           0,
           0,
           8,
           0,
           0,
           0
          ],
          [
           0,
           0,
           0,
           0,
           0,
           0,
           0,
           0,
           0,
           0,
           0,
           0,
           0,
           0,
           0,
           0,
           0,
           0,
           0,
           70,
           0,
           0
          ],
          [
           0,
           0,
           0,
           0,
           0,
           0,
           0,
           0,
           0,
           0,
           0,
           0,
           0,
           0,
           0,
           0,
           0,
           0,
           0,
           0,
           14,
           0
          ],
          [
           0,
           0,
           0,
           0,
           0,
           0,
           0,
           0,
           0,
           0,
           0,
           0,
           0,
           0,
           0,
           0,
           0,
           0,
           0,
           0,
           0,
           12
          ]
         ]
        }
       ],
       "layout": {
        "coloraxis": {
         "colorscale": [
          [
           0,
           "rgb(209, 238, 234)"
          ],
          [
           0.16666666666666666,
           "rgb(168, 219, 217)"
          ],
          [
           0.3333333333333333,
           "rgb(133, 196, 201)"
          ],
          [
           0.5,
           "rgb(104, 171, 184)"
          ],
          [
           0.6666666666666666,
           "rgb(79, 144, 166)"
          ],
          [
           0.8333333333333334,
           "rgb(59, 115, 143)"
          ],
          [
           1,
           "rgb(42, 86, 116)"
          ]
         ],
         "showscale": false
        },
        "height": 800,
        "margin": {
         "t": 60
        },
        "template": {
         "data": {
          "bar": [
           {
            "error_x": {
             "color": "#2a3f5f"
            },
            "error_y": {
             "color": "#2a3f5f"
            },
            "marker": {
             "line": {
              "color": "#E5ECF6",
              "width": 0.5
             },
             "pattern": {
              "fillmode": "overlay",
              "size": 10,
              "solidity": 0.2
             }
            },
            "type": "bar"
           }
          ],
          "barpolar": [
           {
            "marker": {
             "line": {
              "color": "#E5ECF6",
              "width": 0.5
             },
             "pattern": {
              "fillmode": "overlay",
              "size": 10,
              "solidity": 0.2
             }
            },
            "type": "barpolar"
           }
          ],
          "carpet": [
           {
            "aaxis": {
             "endlinecolor": "#2a3f5f",
             "gridcolor": "white",
             "linecolor": "white",
             "minorgridcolor": "white",
             "startlinecolor": "#2a3f5f"
            },
            "baxis": {
             "endlinecolor": "#2a3f5f",
             "gridcolor": "white",
             "linecolor": "white",
             "minorgridcolor": "white",
             "startlinecolor": "#2a3f5f"
            },
            "type": "carpet"
           }
          ],
          "choropleth": [
           {
            "colorbar": {
             "outlinewidth": 0,
             "ticks": ""
            },
            "type": "choropleth"
           }
          ],
          "contour": [
           {
            "colorbar": {
             "outlinewidth": 0,
             "ticks": ""
            },
            "colorscale": [
             [
              0,
              "#0d0887"
             ],
             [
              0.1111111111111111,
              "#46039f"
             ],
             [
              0.2222222222222222,
              "#7201a8"
             ],
             [
              0.3333333333333333,
              "#9c179e"
             ],
             [
              0.4444444444444444,
              "#bd3786"
             ],
             [
              0.5555555555555556,
              "#d8576b"
             ],
             [
              0.6666666666666666,
              "#ed7953"
             ],
             [
              0.7777777777777778,
              "#fb9f3a"
             ],
             [
              0.8888888888888888,
              "#fdca26"
             ],
             [
              1,
              "#f0f921"
             ]
            ],
            "type": "contour"
           }
          ],
          "contourcarpet": [
           {
            "colorbar": {
             "outlinewidth": 0,
             "ticks": ""
            },
            "type": "contourcarpet"
           }
          ],
          "heatmap": [
           {
            "colorbar": {
             "outlinewidth": 0,
             "ticks": ""
            },
            "colorscale": [
             [
              0,
              "#0d0887"
             ],
             [
              0.1111111111111111,
              "#46039f"
             ],
             [
              0.2222222222222222,
              "#7201a8"
             ],
             [
              0.3333333333333333,
              "#9c179e"
             ],
             [
              0.4444444444444444,
              "#bd3786"
             ],
             [
              0.5555555555555556,
              "#d8576b"
             ],
             [
              0.6666666666666666,
              "#ed7953"
             ],
             [
              0.7777777777777778,
              "#fb9f3a"
             ],
             [
              0.8888888888888888,
              "#fdca26"
             ],
             [
              1,
              "#f0f921"
             ]
            ],
            "type": "heatmap"
           }
          ],
          "heatmapgl": [
           {
            "colorbar": {
             "outlinewidth": 0,
             "ticks": ""
            },
            "colorscale": [
             [
              0,
              "#0d0887"
             ],
             [
              0.1111111111111111,
              "#46039f"
             ],
             [
              0.2222222222222222,
              "#7201a8"
             ],
             [
              0.3333333333333333,
              "#9c179e"
             ],
             [
              0.4444444444444444,
              "#bd3786"
             ],
             [
              0.5555555555555556,
              "#d8576b"
             ],
             [
              0.6666666666666666,
              "#ed7953"
             ],
             [
              0.7777777777777778,
              "#fb9f3a"
             ],
             [
              0.8888888888888888,
              "#fdca26"
             ],
             [
              1,
              "#f0f921"
             ]
            ],
            "type": "heatmapgl"
           }
          ],
          "histogram": [
           {
            "marker": {
             "pattern": {
              "fillmode": "overlay",
              "size": 10,
              "solidity": 0.2
             }
            },
            "type": "histogram"
           }
          ],
          "histogram2d": [
           {
            "colorbar": {
             "outlinewidth": 0,
             "ticks": ""
            },
            "colorscale": [
             [
              0,
              "#0d0887"
             ],
             [
              0.1111111111111111,
              "#46039f"
             ],
             [
              0.2222222222222222,
              "#7201a8"
             ],
             [
              0.3333333333333333,
              "#9c179e"
             ],
             [
              0.4444444444444444,
              "#bd3786"
             ],
             [
              0.5555555555555556,
              "#d8576b"
             ],
             [
              0.6666666666666666,
              "#ed7953"
             ],
             [
              0.7777777777777778,
              "#fb9f3a"
             ],
             [
              0.8888888888888888,
              "#fdca26"
             ],
             [
              1,
              "#f0f921"
             ]
            ],
            "type": "histogram2d"
           }
          ],
          "histogram2dcontour": [
           {
            "colorbar": {
             "outlinewidth": 0,
             "ticks": ""
            },
            "colorscale": [
             [
              0,
              "#0d0887"
             ],
             [
              0.1111111111111111,
              "#46039f"
             ],
             [
              0.2222222222222222,
              "#7201a8"
             ],
             [
              0.3333333333333333,
              "#9c179e"
             ],
             [
              0.4444444444444444,
              "#bd3786"
             ],
             [
              0.5555555555555556,
              "#d8576b"
             ],
             [
              0.6666666666666666,
              "#ed7953"
             ],
             [
              0.7777777777777778,
              "#fb9f3a"
             ],
             [
              0.8888888888888888,
              "#fdca26"
             ],
             [
              1,
              "#f0f921"
             ]
            ],
            "type": "histogram2dcontour"
           }
          ],
          "mesh3d": [
           {
            "colorbar": {
             "outlinewidth": 0,
             "ticks": ""
            },
            "type": "mesh3d"
           }
          ],
          "parcoords": [
           {
            "line": {
             "colorbar": {
              "outlinewidth": 0,
              "ticks": ""
             }
            },
            "type": "parcoords"
           }
          ],
          "pie": [
           {
            "automargin": true,
            "type": "pie"
           }
          ],
          "scatter": [
           {
            "fillpattern": {
             "fillmode": "overlay",
             "size": 10,
             "solidity": 0.2
            },
            "type": "scatter"
           }
          ],
          "scatter3d": [
           {
            "line": {
             "colorbar": {
              "outlinewidth": 0,
              "ticks": ""
             }
            },
            "marker": {
             "colorbar": {
              "outlinewidth": 0,
              "ticks": ""
             }
            },
            "type": "scatter3d"
           }
          ],
          "scattercarpet": [
           {
            "marker": {
             "colorbar": {
              "outlinewidth": 0,
              "ticks": ""
             }
            },
            "type": "scattercarpet"
           }
          ],
          "scattergeo": [
           {
            "marker": {
             "colorbar": {
              "outlinewidth": 0,
              "ticks": ""
             }
            },
            "type": "scattergeo"
           }
          ],
          "scattergl": [
           {
            "marker": {
             "colorbar": {
              "outlinewidth": 0,
              "ticks": ""
             }
            },
            "type": "scattergl"
           }
          ],
          "scattermapbox": [
           {
            "marker": {
             "colorbar": {
              "outlinewidth": 0,
              "ticks": ""
             }
            },
            "type": "scattermapbox"
           }
          ],
          "scatterpolar": [
           {
            "marker": {
             "colorbar": {
              "outlinewidth": 0,
              "ticks": ""
             }
            },
            "type": "scatterpolar"
           }
          ],
          "scatterpolargl": [
           {
            "marker": {
             "colorbar": {
              "outlinewidth": 0,
              "ticks": ""
             }
            },
            "type": "scatterpolargl"
           }
          ],
          "scatterternary": [
           {
            "marker": {
             "colorbar": {
              "outlinewidth": 0,
              "ticks": ""
             }
            },
            "type": "scatterternary"
           }
          ],
          "surface": [
           {
            "colorbar": {
             "outlinewidth": 0,
             "ticks": ""
            },
            "colorscale": [
             [
              0,
              "#0d0887"
             ],
             [
              0.1111111111111111,
              "#46039f"
             ],
             [
              0.2222222222222222,
              "#7201a8"
             ],
             [
              0.3333333333333333,
              "#9c179e"
             ],
             [
              0.4444444444444444,
              "#bd3786"
             ],
             [
              0.5555555555555556,
              "#d8576b"
             ],
             [
              0.6666666666666666,
              "#ed7953"
             ],
             [
              0.7777777777777778,
              "#fb9f3a"
             ],
             [
              0.8888888888888888,
              "#fdca26"
             ],
             [
              1,
              "#f0f921"
             ]
            ],
            "type": "surface"
           }
          ],
          "table": [
           {
            "cells": {
             "fill": {
              "color": "#EBF0F8"
             },
             "line": {
              "color": "white"
             }
            },
            "header": {
             "fill": {
              "color": "#C8D4E3"
             },
             "line": {
              "color": "white"
             }
            },
            "type": "table"
           }
          ]
         },
         "layout": {
          "annotationdefaults": {
           "arrowcolor": "#2a3f5f",
           "arrowhead": 0,
           "arrowwidth": 1
          },
          "autotypenumbers": "strict",
          "coloraxis": {
           "colorbar": {
            "outlinewidth": 0,
            "ticks": ""
           }
          },
          "colorscale": {
           "diverging": [
            [
             0,
             "#8e0152"
            ],
            [
             0.1,
             "#c51b7d"
            ],
            [
             0.2,
             "#de77ae"
            ],
            [
             0.3,
             "#f1b6da"
            ],
            [
             0.4,
             "#fde0ef"
            ],
            [
             0.5,
             "#f7f7f7"
            ],
            [
             0.6,
             "#e6f5d0"
            ],
            [
             0.7,
             "#b8e186"
            ],
            [
             0.8,
             "#7fbc41"
            ],
            [
             0.9,
             "#4d9221"
            ],
            [
             1,
             "#276419"
            ]
           ],
           "sequential": [
            [
             0,
             "#0d0887"
            ],
            [
             0.1111111111111111,
             "#46039f"
            ],
            [
             0.2222222222222222,
             "#7201a8"
            ],
            [
             0.3333333333333333,
             "#9c179e"
            ],
            [
             0.4444444444444444,
             "#bd3786"
            ],
            [
             0.5555555555555556,
             "#d8576b"
            ],
            [
             0.6666666666666666,
             "#ed7953"
            ],
            [
             0.7777777777777778,
             "#fb9f3a"
            ],
            [
             0.8888888888888888,
             "#fdca26"
            ],
            [
             1,
             "#f0f921"
            ]
           ],
           "sequentialminus": [
            [
             0,
             "#0d0887"
            ],
            [
             0.1111111111111111,
             "#46039f"
            ],
            [
             0.2222222222222222,
             "#7201a8"
            ],
            [
             0.3333333333333333,
             "#9c179e"
            ],
            [
             0.4444444444444444,
             "#bd3786"
            ],
            [
             0.5555555555555556,
             "#d8576b"
            ],
            [
             0.6666666666666666,
             "#ed7953"
            ],
            [
             0.7777777777777778,
             "#fb9f3a"
            ],
            [
             0.8888888888888888,
             "#fdca26"
            ],
            [
             1,
             "#f0f921"
            ]
           ]
          },
          "colorway": [
           "#636efa",
           "#EF553B",
           "#00cc96",
           "#ab63fa",
           "#FFA15A",
           "#19d3f3",
           "#FF6692",
           "#B6E880",
           "#FF97FF",
           "#FECB52"
          ],
          "font": {
           "color": "#2a3f5f"
          },
          "geo": {
           "bgcolor": "white",
           "lakecolor": "white",
           "landcolor": "#E5ECF6",
           "showlakes": true,
           "showland": true,
           "subunitcolor": "white"
          },
          "hoverlabel": {
           "align": "left"
          },
          "hovermode": "closest",
          "mapbox": {
           "style": "light"
          },
          "paper_bgcolor": "white",
          "plot_bgcolor": "#E5ECF6",
          "polar": {
           "angularaxis": {
            "gridcolor": "white",
            "linecolor": "white",
            "ticks": ""
           },
           "bgcolor": "#E5ECF6",
           "radialaxis": {
            "gridcolor": "white",
            "linecolor": "white",
            "ticks": ""
           }
          },
          "scene": {
           "xaxis": {
            "backgroundcolor": "#E5ECF6",
            "gridcolor": "white",
            "gridwidth": 2,
            "linecolor": "white",
            "showbackground": true,
            "ticks": "",
            "zerolinecolor": "white"
           },
           "yaxis": {
            "backgroundcolor": "#E5ECF6",
            "gridcolor": "white",
            "gridwidth": 2,
            "linecolor": "white",
            "showbackground": true,
            "ticks": "",
            "zerolinecolor": "white"
           },
           "zaxis": {
            "backgroundcolor": "#E5ECF6",
            "gridcolor": "white",
            "gridwidth": 2,
            "linecolor": "white",
            "showbackground": true,
            "ticks": "",
            "zerolinecolor": "white"
           }
          },
          "shapedefaults": {
           "line": {
            "color": "#2a3f5f"
           }
          },
          "ternary": {
           "aaxis": {
            "gridcolor": "white",
            "linecolor": "white",
            "ticks": ""
           },
           "baxis": {
            "gridcolor": "white",
            "linecolor": "white",
            "ticks": ""
           },
           "bgcolor": "#E5ECF6",
           "caxis": {
            "gridcolor": "white",
            "linecolor": "white",
            "ticks": ""
           }
          },
          "title": {
           "x": 0.05
          },
          "xaxis": {
           "automargin": true,
           "gridcolor": "white",
           "linecolor": "white",
           "ticks": "",
           "title": {
            "standoff": 15
           },
           "zerolinecolor": "white",
           "zerolinewidth": 2
          },
          "yaxis": {
           "automargin": true,
           "gridcolor": "white",
           "linecolor": "white",
           "ticks": "",
           "title": {
            "standoff": 15
           },
           "zerolinecolor": "white",
           "zerolinewidth": 2
          }
         }
        },
        "width": 1000,
        "xaxis": {
         "anchor": "y",
         "constrain": "domain",
         "domain": [
          0,
          1
         ],
         "scaleanchor": "y",
         "title": {
          "text": "Predicted Label"
         }
        },
        "yaxis": {
         "anchor": "x",
         "autorange": "reversed",
         "constrain": "domain",
         "domain": [
          0,
          1
         ],
         "title": {
          "text": "True Label"
         }
        }
       }
      }
     },
     "metadata": {},
     "output_type": "display_data"
    }
   ],
   "source": [
    "fig = px.imshow(confusion_matrix(y, pipe_nn.predict(X['book_content'])),\n",
    "                width=1000,\n",
    "                height=800,\n",
    "                text_auto=True,\n",
    "                labels=dict(x='Predicted Label',\n",
    "                            y='True Label'),\n",
    "                            x=select_authors,\n",
    "                            y=select_authors,\n",
    "                            color_continuous_scale='Teal'\n",
    "                            )\n",
    "\n",
    "fig.update(layout_coloraxis_showscale=False)\n",
    "\n",
    "fig.show()"
   ]
  },
  {
   "attachments": {},
   "cell_type": "markdown",
   "metadata": {},
   "source": [
    "## Encoding and lower-dimensional representation of the NN\n",
    "\n",
    "With a trained model, using embeddings to find similarities between books and authors."
   ]
  },
  {
   "cell_type": "code",
   "execution_count": 11,
   "metadata": {},
   "outputs": [],
   "source": [
    "# have to use the regressor because classifiers thinks we're expecting int results, even if we chop it off before final step!\n",
    "# :2 and layers = 3 if I use two hidden layers with nn; for one, reduce those by 1\n",
    "encoder = MLPRegressor()\n",
    "encoder.coefs_ = pipe_nn['nn'].coefs_[:2]\n",
    "encoder.intercepts_ = pipe_nn['nn'].intercepts_[:2]\n",
    "encoder.n_layers_ = 3\n",
    "encoder.out_activation_ = 'relu'"
   ]
  },
  {
   "cell_type": "code",
   "execution_count": 12,
   "metadata": {},
   "outputs": [],
   "source": [
    "# copy the pipeline\n",
    "pipe_nn_encoder = deepcopy(pipe_nn)\n",
    "\n",
    "# remove the classifier\n",
    "pipe_nn_encoder.steps.pop(2)\n",
    "\n",
    "# append the new encoder (essentially, it contains all layers minus the final one)\n",
    "pipe_nn_encoder.steps.append(['enc', encoder])"
   ]
  },
  {
   "cell_type": "code",
   "execution_count": 13,
   "metadata": {},
   "outputs": [],
   "source": [
    "# now using predict from the encoder to get the 100-dimensional projection of the top six authors\n",
    "nn_represent = pipe_nn_encoder.predict(library_select['book_content'])"
   ]
  },
  {
   "attachments": {},
   "cell_type": "markdown",
   "metadata": {},
   "source": [
    "Finally, adding to that, the reduced 2D representation using UMAP."
   ]
  },
  {
   "cell_type": "code",
   "execution_count": 14,
   "metadata": {},
   "outputs": [],
   "source": [
    "umap_mnist = umap.UMAP()\n",
    "umap_mnist.fit(nn_represent)\n",
    "\n",
    "umap_projection = umap_mnist.transform(nn_represent)"
   ]
  },
  {
   "cell_type": "code",
   "execution_count": 15,
   "metadata": {},
   "outputs": [],
   "source": [
    "# convert the 100 dimensional vector of neuron weights into dataframe\n",
    "library_select_represent = pd.DataFrame(nn_represent, columns=[f'dim_{x}' for x in range(100)])\n",
    "\n",
    "# and also the 2d representation\n",
    "library_select_proj = pd.DataFrame(umap_projection, columns=[f'proj_{x}' for x in range(2)])\n",
    "\n",
    "# concatenate together with some info from the original df. at this point, for this notebook won't be needing the book texts anymore\n",
    "# I'll create a new notebook for NN from a different package\n",
    "library_select = pd.concat([\n",
    "    library_select[['id','title','author','authorcentury']],\n",
    "    library_select_proj.set_index(library_select.index),\n",
    "    library_select_represent.set_index(library_select.index)],\n",
    "    axis=1)"
   ]
  },
  {
   "cell_type": "code",
   "execution_count": 16,
   "metadata": {},
   "outputs": [
    {
     "data": {
      "image/png": "[encoded data removed]",
      "text/plain": [
       "<Figure size 1600x800 with 1 Axes>"
      ]
     },
     "metadata": {},
     "output_type": "display_data"
    }
   ],
   "source": [
    "# # old code:\n",
    "# sns.scatterplot(x=umap_projection[:,0], y=umap_projection[:,1], \n",
    "#                 hue = library_select.replace({'author': num_to_authors})['author'].astype('category'),\n",
    "#                alpha = 0.7);\n",
    "\n",
    "plt.figure(figsize = (16,8))\n",
    "sns.scatterplot(data=library_select, x='proj_0', y='proj_1', \n",
    "                hue = 'author',\n",
    "               alpha = 0.7);"
   ]
  },
  {
   "cell_type": "code",
   "execution_count": 19,
   "metadata": {},
   "outputs": [
    {
     "data": {
      "text/plain": [
       "array([ 1., 14., 13., -6., 16., 19., 18., 15., -1., -4., 20.,  2., -7.,\n",
       "       17.])"
      ]
     },
     "execution_count": 19,
     "metadata": {},
     "output_type": "execute_result"
    }
   ],
   "source": [
    "library_select['authorcentury'].unique()"
   ]
  },
  {
   "cell_type": "code",
   "execution_count": 24,
   "metadata": {},
   "outputs": [
    {
     "data": {
      "image/png": "[encoded data removed]",
      "text/plain": [
       "<Figure size 1600x800 with 1 Axes>"
      ]
     },
     "metadata": {},
     "output_type": "display_data"
    }
   ],
   "source": [
    "plt.figure(figsize = (16,8))\n",
    "sns.scatterplot(data=library_select, x='proj_0', y='proj_1', \n",
    "                hue = library_select['authorcentury'].astype('category'),\n",
    "               alpha = 0.7);"
   ]
  },
  {
   "attachments": {},
   "cell_type": "markdown",
   "metadata": {},
   "source": [
    "## Cosine Similarity\n",
    "\n",
    "Another way to look at the produced weights and which ones are similar"
   ]
  },
  {
   "attachments": {},
   "cell_type": "markdown",
   "metadata": {},
   "source": [
    "Calculating cosine similarity (using dim_0 to dim_99 cols) - for a first attempt, group it by author."
   ]
  },
  {
   "cell_type": "code",
   "execution_count": 26,
   "metadata": {},
   "outputs": [],
   "source": [
    "# idea use this to transpose and then see the dist from each book to this point?\n",
    "library_select_grouped = library_select.drop(columns=['id','title','authorcentury','proj_0','proj_1']).groupby('author').mean()"
   ]
  },
  {
   "cell_type": "code",
   "execution_count": 27,
   "metadata": {},
   "outputs": [],
   "source": [
    "dists = spatial.distance.pdist(library_select_grouped.values, metric = 'cosine')"
   ]
  },
  {
   "attachments": {},
   "cell_type": "markdown",
   "metadata": {},
   "source": [
    "note: to find out the dist between two authors, need to get the correct index for dist.\n",
    "\n",
    "for i < j < m (where m = num of authors):\n",
    "\n",
    "index = m * i + j - ((i + 2) * (i + 1)) // 2\n",
    "\n",
    "dists[index]"
   ]
  },
  {
   "cell_type": "code",
   "execution_count": 28,
   "metadata": {},
   "outputs": [
    {
     "data": {
      "image/png": "[encoded data removed]",
      "text/plain": [
       "<Figure size 1200x800 with 1 Axes>"
      ]
     },
     "metadata": {},
     "output_type": "display_data"
    }
   ],
   "source": [
    "mergings = linkage(dists, method='complete')\n",
    "\n",
    "plt.figure(figsize = (12,8))\n",
    "dendrogram(mergings,\n",
    "           labels = list(library_select_grouped.index),\n",
    "           leaf_rotation = 90,\n",
    "           leaf_font_size = 6);\n",
    "\n",
    "plt.tight_layout()"
   ]
  },
  {
   "cell_type": "code",
   "execution_count": null,
   "metadata": {},
   "outputs": [],
   "source": [
    "# before I realized to use this approach, I first concatenated all the texts in the pandas series which returns an extremely long string\n",
    "# I then turn that string into a pandas series (the predict requires an iterable object)\n",
    "# pipe_nn.predict(pd.Series(library_select.loc[library_select['author'] == 0]['book_content'].str.cat()))"
   ]
  },
  {
   "attachments": {},
   "cell_type": "markdown",
   "metadata": {},
   "source": [
    "## Introducing New Text\n",
    "\n",
    "This part will ideally be in an app where any text can be uploaded"
   ]
  },
  {
   "attachments": {},
   "cell_type": "markdown",
   "metadata": {},
   "source": [
    "Here I will test it with two books I've written."
   ]
  },
  {
   "cell_type": "code",
   "execution_count": 45,
   "metadata": {},
   "outputs": [],
   "source": [
    "newtext = pd.DataFrame()\n",
    "\n",
    "for book_num, book_name in enumerate(['Lambda', 'Deathway']):\n",
    "        filepath = f'../data/{book_name} by Tomo Umer.txt'\n",
    "\n",
    "        with open(filepath, encoding = 'utf-8') as fi:\n",
    "                book = fi.read()\n",
    "        \n",
    "        tmp_text = pd.DataFrame({'id': f'TU{str(book_num).zfill(3)}',\n",
    "                                 'title': [book_name],\n",
    "                                 'author': 'Umer, Tomo',\n",
    "                                 'authorcentury': 21,\n",
    "                                 'book_content': [book]})\n",
    "\n",
    "        newtext = pd.concat([newtext, tmp_text], ignore_index = True)"
   ]
  },
  {
   "cell_type": "code",
   "execution_count": 46,
   "metadata": {},
   "outputs": [
    {
     "data": {
      "text/html": [
       "<div>\n",
       "<style scoped>\n",
       "    .dataframe tbody tr th:only-of-type {\n",
       "        vertical-align: middle;\n",
       "    }\n",
       "\n",
       "    .dataframe tbody tr th {\n",
       "        vertical-align: top;\n",
       "    }\n",
       "\n",
       "    .dataframe thead th {\n",
       "        text-align: right;\n",
       "    }\n",
       "</style>\n",
       "<table border=\"1\" class=\"dataframe\">\n",
       "  <thead>\n",
       "    <tr style=\"text-align: right;\">\n",
       "      <th></th>\n",
       "      <th>id</th>\n",
       "      <th>author</th>\n",
       "      <th>authorcentury</th>\n",
       "      <th>title</th>\n",
       "      <th>book_content</th>\n",
       "    </tr>\n",
       "  </thead>\n",
       "  <tbody>\n",
       "    <tr>\n",
       "      <th>0</th>\n",
       "      <td>TU000</td>\n",
       "      <td>Umer, Tomo</td>\n",
       "      <td>21</td>\n",
       "      <td>Lambda</td>\n",
       "      <td>Lambda\\n\\n\\n\\n\\n\\n\\n\\n\\n\\n\\n\\n\\n\\n\\n\\n\\n\\n\\n\\n...</td>\n",
       "    </tr>\n",
       "    <tr>\n",
       "      <th>1</th>\n",
       "      <td>TU001</td>\n",
       "      <td>Umer, Tomo</td>\n",
       "      <td>21</td>\n",
       "      <td>Deathway</td>\n",
       "      <td>DeathwayIndex\\nIntroduction\\nMy second novel! ...</td>\n",
       "    </tr>\n",
       "  </tbody>\n",
       "</table>\n",
       "</div>"
      ],
      "text/plain": [
       "      id      author  authorcentury     title  \\\n",
       "0  TU000  Umer, Tomo             21    Lambda   \n",
       "1  TU001  Umer, Tomo             21  Deathway   \n",
       "\n",
       "                                        book_content  \n",
       "0  Lambda\\n\\n\\n\\n\\n\\n\\n\\n\\n\\n\\n\\n\\n\\n\\n\\n\\n\\n\\n\\n...  \n",
       "1  DeathwayIndex\\nIntroduction\\nMy second novel! ...  "
      ]
     },
     "execution_count": 46,
     "metadata": {},
     "output_type": "execute_result"
    }
   ],
   "source": [
    "newtext"
   ]
  },
  {
   "attachments": {},
   "cell_type": "markdown",
   "metadata": {},
   "source": [
    "As a reminder (to myself), in order to convert the new texts, we only need predict and transform methods"
   ]
  },
  {
   "cell_type": "code",
   "execution_count": 47,
   "metadata": {},
   "outputs": [],
   "source": [
    "# now using predict from the encoder to get the 100-dimensional projection of new text\n",
    "nn_represent_newtext = pipe_nn_encoder.predict(newtext['book_content'])\n",
    "\n",
    "# and its 2d representation using umap\n",
    "umap_projection_newtext = umap_mnist.transform(nn_represent_newtext)"
   ]
  },
  {
   "cell_type": "code",
   "execution_count": 49,
   "metadata": {},
   "outputs": [],
   "source": [
    "# and then just like with the authors, convert new texts into a dataframe\n",
    "# convert the 100 dimensional vector of neuron weights into dataframe\n",
    "newtxt_represent = pd.DataFrame(nn_represent_newtext, columns=[f'dim_{x}' for x in range(100)])\n",
    "\n",
    "# and also the 2d representation\n",
    "newtxt_proj = pd.DataFrame(umap_projection_newtext, columns=[f'proj_{x}' for x in range(2)])\n",
    "\n",
    "# concatenate together with some info from the original df. at this point, for this notebook won't be needing the book texts anymore\n",
    "# I'll create a new notebook for NN from a different package\n",
    "newtext = pd.concat([\n",
    "    newtext[['id','title','author','authorcentury']],\n",
    "    newtxt_proj.set_index(newtext.index),\n",
    "    newtxt_represent.set_index(newtext.index)],\n",
    "    axis=1)"
   ]
  },
  {
   "attachments": {},
   "cell_type": "markdown",
   "metadata": {},
   "source": [
    "Finally, simply add the new text to the library."
   ]
  },
  {
   "cell_type": "code",
   "execution_count": 52,
   "metadata": {},
   "outputs": [],
   "source": [
    "library_newtext = pd.concat([library_select, newtext])"
   ]
  },
  {
   "cell_type": "code",
   "execution_count": 57,
   "metadata": {},
   "outputs": [
    {
     "data": {
      "application/vnd.plotly.v1+json": {
       "config": {
        "plotlyServerURL": "https://plot.ly"
       },
       "data": [
        {
         "customdata": [
          [
           "Apocolocyntosis"
          ],
          [
           "L. Annaeus Seneca on Benefits"
          ],
          [
           "Two Tragedies of Seneca: Medea and The Daughters of Troy: Rendered into English Verse"
          ],
          [
           "Seneca's Morals of a Happy Life, Benefits, Anger and Clemency"
          ],
          [
           "The Tragedies of Seneca: Translated into English Verse, to Which Have Been Appended Comparative Analyses of the Corresponding Greek and Roman Plays, and a Mythological Index"
          ],
          [
           "Index of the Project Gutenberg Works of Lucius Annaeus Seneca"
          ],
          [
           "Minor Dialogues, Together With the Dialogue on Clemency"
          ]
         ],
         "hovertemplate": "author=Seneca, Lucius Annaeus<br>proj_0=%{x}<br>proj_1=%{y}<br>title=%{customdata[0]}<extra></extra>",
         "legendgroup": "Seneca, Lucius Annaeus",
         "marker": {
          "color": "#AA0DFE",
          "symbol": "circle"
         },
         "mode": "markers",
         "name": "Seneca, Lucius Annaeus",
         "orientation": "v",
         "showlegend": true,
         "type": "scatter",
         "x": [
          4.735946178436279,
          5.257321834564209,
          5.097034454345703,
          5.2220354080200195,
          5.173107147216797,
          4.803187370300293,
          5.380982398986816
         ],
         "xaxis": "x",
         "y": [
          7.398473262786865,
          5.8191046714782715,
          6.703240871429443,
          4.744247913360596,
          6.2133355140686035,
          7.504832744598389,
          4.422008037567139
         ],
         "yaxis": "y"
        },
        {
         "customdata": [
          [
           "La Fiammetta"
          ],
          [
           "The Decameron, Volume II"
          ],
          [
           "The Decameron of Giovanni Boccaccio"
          ],
          [
           "The Decameron, Volume I"
          ],
          [
           "The Decameron (Day 1 to Day 5): Containing an hundred pleasant Novels"
          ],
          [
           "The Decameron (Day 6 to Day 10): Containing an hundred pleasant Novels"
          ]
         ],
         "hovertemplate": "author=Boccaccio, Giovanni<br>proj_0=%{x}<br>proj_1=%{y}<br>title=%{customdata[0]}<extra></extra>",
         "legendgroup": "Boccaccio, Giovanni",
         "marker": {
          "color": "#3283FE",
          "symbol": "circle"
         },
         "mode": "markers",
         "name": "Boccaccio, Giovanni",
         "orientation": "v",
         "showlegend": true,
         "type": "scatter",
         "x": [
          2.139000654220581,
          2.9847564697265625,
          3.0435338020324707,
          3.0343313217163086,
          3.0322844982147217,
          2.935948133468628
         ],
         "xaxis": "x",
         "y": [
          4.807031631469727,
          5.347428321838379,
          5.1301116943359375,
          5.013955116271973,
          5.225045680999756,
          5.357232570648193
         ],
         "yaxis": "y"
        },
        {
         "customdata": [
          [
           "Divine Comedy, Longfellow's Translation, Hell"
          ],
          [
           "Divine Comedy, Longfellow's Translation, Purgatory"
          ],
          [
           "Divine Comedy, Longfellow's Translation, Paradise"
          ],
          [
           "Divine Comedy, Longfellow's Translation, Complete"
          ],
          [
           "Divine Comedy, Cary's Translation, Hell"
          ],
          [
           "Divine Comedy, Cary's Translation, Purgatory"
          ],
          [
           "Divine Comedy, Cary's Translation, Paradise"
          ],
          [
           "Divine Comedy, Cary's Translation, Complete"
          ],
          [
           "The Banquet (Il Convito)"
          ],
          [
           "The Divine Comedy, Volume 1, Hell"
          ],
          [
           "The Divine Comedy, Volume 2, Purgatory"
          ],
          [
           "The Divine Comedy, Volume 3, Paradise"
          ],
          [
           "The New Life (La Vita Nuova)"
          ],
          [
           "The Divine Comedy of Dante Alighieri: The Inferno"
          ],
          [
           "The Vision of Dante: A story for little children and a talk to their mothers: (Second Edition)"
          ],
          [
           "The vision of hell.: By Dante Alighieri.; Translated by Rev. Henry Francis Cary, M.A.; and illustrated with the seventy-five designs of Gustave Doré."
          ],
          [
           "The Divine Comedy by Dante, Illustrated, Purgatory, Complete"
          ],
          [
           "The Divine Comedy by Dante, Illustrated, Paradise, Complete"
          ],
          [
           "The divine comedy"
          ]
         ],
         "hovertemplate": "author=Dante Alighieri<br>proj_0=%{x}<br>proj_1=%{y}<br>title=%{customdata[0]}<extra></extra>",
         "legendgroup": "Dante Alighieri",
         "marker": {
          "color": "#85660D",
          "symbol": "circle"
         },
         "mode": "markers",
         "name": "Dante Alighieri",
         "orientation": "v",
         "showlegend": true,
         "type": "scatter",
         "x": [
          7.865645885467529,
          7.958503246307373,
          7.907661437988281,
          7.941707611083984,
          7.930628776550293,
          7.905681133270264,
          7.937646865844727,
          7.866631507873535,
          7.264420509338379,
          7.9046244621276855,
          7.423488140106201,
          7.505233287811279,
          7.196604251861572,
          7.946836471557617,
          4.817612648010254,
          7.857290744781494,
          7.884364604949951,
          7.903935432434082,
          7.907731533050537
         ],
         "xaxis": "x",
         "y": [
          7.701200008392334,
          7.625682830810547,
          7.6708502769470215,
          7.65850830078125,
          7.687586784362793,
          7.70088005065918,
          7.652190208435059,
          7.601456642150879,
          7.729020118713379,
          7.62666130065918,
          7.697334289550781,
          7.647370338439941,
          7.78157377243042,
          7.565019130706787,
          7.9193034172058105,
          7.699555397033691,
          7.668005466461182,
          7.651595592498779,
          7.652351379394531
         ],
         "yaxis": "y"
        },
        {
         "customdata": [
          [
           "Chinese Literature: Comprising the Analects of Confucius, the Sayings of Mencius, the Shi-King, the Travels of Fâ-Hien, and the Sorrows of Han"
          ],
          [
           "The Sayings of Confucius"
          ],
          [
           "The Analects of Confucius (from the Chinese Classics)"
          ],
          [
           "The Wisdom of Confucius: with Critical and Biographical Sketches"
          ],
          [
           "The Sayings of Confucius: A New Translation of the Greater Part of the Confucian Analects"
          ]
         ],
         "hovertemplate": "author=Confucius<br>proj_0=%{x}<br>proj_1=%{y}<br>title=%{customdata[0]}<extra></extra>",
         "legendgroup": "Confucius",
         "marker": {
          "color": "#782AB6",
          "symbol": "circle"
         },
         "mode": "markers",
         "name": "Confucius",
         "orientation": "v",
         "showlegend": true,
         "type": "scatter",
         "x": [
          11.588288307189941,
          4.626617908477783,
          4.586142063140869,
          11.506906509399414,
          5.000260353088379
         ],
         "xaxis": "x",
         "y": [
          7.0709075927734375,
          7.946710109710693,
          7.918423652648926,
          7.150444984436035,
          8.34337043762207
         ],
         "yaxis": "y"
        },
        {
         "customdata": [
          [
           "The Complete Works of William Shakespeare"
          ],
          [
           "Shakespeare's Sonnets"
          ],
          [
           "Venus and Adonis"
          ],
          [
           "King Richard III"
          ],
          [
           "The Sonnets"
          ],
          [
           "The Tragedy of Titus Andronicus"
          ],
          [
           "The Taming of the Shrew"
          ],
          [
           "King John"
          ],
          [
           "The Tragedy of Romeo and Juliet"
          ],
          [
           "The Merchant of Venice"
          ],
          [
           "The Tragedy of Julius Caesar"
          ],
          [
           "As You Like It"
          ],
          [
           "The Tragedy of King Lear"
          ],
          [
           "The Tragedy of Macbeth"
          ],
          [
           "King Richard III"
          ],
          [
           "The Rape of Lucrece"
          ],
          [
           "The Taming of the Shrew"
          ],
          [
           "Romeo and Juliet"
          ],
          [
           "A Midsummer Night's Dream"
          ],
          [
           "The Merchant of Venice"
          ],
          [
           "King Henry IV, the First Part"
          ],
          [
           "Much Ado about Nothing"
          ],
          [
           "The Life of King Henry V"
          ],
          [
           "Julius Caesar"
          ],
          [
           "As You Like It"
          ],
          [
           "Hamlet, Prince of Denmark"
          ],
          [
           "Twelfth Night; Or, What You Will"
          ],
          [
           "Troilus and Cressida"
          ],
          [
           "All's Well That Ends Well"
          ],
          [
           "Othello, the Moor of Venice"
          ],
          [
           "The Tragedy of King Lear"
          ],
          [
           "Macbeth"
          ],
          [
           "Antony and Cleopatra"
          ],
          [
           "The Tragedy of Coriolanus"
          ],
          [
           "The Winter's Tale"
          ],
          [
           "The Tempest"
          ],
          [
           "The Two Noble Kinsmen"
          ],
          [
           "Sir Thomas More"
          ],
          [
           "King Edward III"
          ],
          [
           "Romeo and Juliet"
          ],
          [
           "A Midsummer Night's Dream"
          ],
          [
           "King Henry IV, Part 1"
          ],
          [
           "Julius Caesar"
          ],
          [
           "Hamlet"
          ],
          [
           "King Lear"
          ],
          [
           "Macbeth"
          ],
          [
           "The Winter's Tale"
          ],
          [
           "A Midsummer Night's Dream"
          ],
          [
           "The Merchant of Venice"
          ],
          [
           "Twelfth Night"
          ],
          [
           "Richard II"
          ],
          [
           "Henry IV, Part 1"
          ],
          [
           "Henry V"
          ],
          [
           "Romeo and Juliet"
          ],
          [
           "Julius Caesar"
          ],
          [
           "Macbeth"
          ],
          [
           "Hamlet"
          ],
          [
           "Othello"
          ],
          [
           "Shakespeare's First Folio"
          ],
          [
           "The Tempest: The Works of William Shakespeare [Cambridge Edition] [9 vols.]"
          ],
          [
           "Two Gentlemen of Verona: The Works of William Shakespeare [Cambridge Edition] [9 vols.]"
          ],
          [
           "The Merry Wives of Windsor: The Works of William Shakespeare [Cambridge Edition] [9 vols.]"
          ],
          [
           "Measure for Measure: The Works of William Shakespeare [Cambridge Edition] [9 vols.]"
          ],
          [
           "The Comedy of Errors: The Works of William Shakespeare [Cambridge Edition] [9 vols.]"
          ],
          [
           "Hamlet, Prince of Denmark"
          ],
          [
           "The New Hudson Shakespeare: Julius Cæsar"
          ],
          [
           "The Works of William Shakespeare [Cambridge Edition] [Vol. 2 of 9]"
          ],
          [
           "The Works of William Shakespeare [Cambridge Edition] [Vol. 7 of 9]"
          ],
          [
           "Shakespeare's Tragedy of Romeo and Juliet"
          ],
          [
           "Flowers from Shakespeare's Garden: A Posy from the Plays"
          ]
         ],
         "hovertemplate": "author=Shakespeare, William<br>proj_0=%{x}<br>proj_1=%{y}<br>title=%{customdata[0]}<extra></extra>",
         "legendgroup": "Shakespeare, William",
         "marker": {
          "color": "#565656",
          "symbol": "circle"
         },
         "mode": "markers",
         "name": "Shakespeare, William",
         "orientation": "v",
         "showlegend": true,
         "type": "scatter",
         "x": [
          -3.910946846008301,
          -3.841219902038574,
          -5.038135528564453,
          -4.295622825622559,
          -3.920731544494629,
          -5.115651607513428,
          -3.9423258304595947,
          -4.77838659286499,
          -4.4188055992126465,
          -4.009311199188232,
          -4.080766677856445,
          -4.6208600997924805,
          -3.7855985164642334,
          -3.9245200157165527,
          -4.393875598907471,
          -3.676501989364624,
          -3.9423105716705322,
          -4.590268611907959,
          -4.926884651184082,
          -3.9095940589904785,
          -4.620969295501709,
          -4.096126079559326,
          -5.2929277420043945,
          -4.30696964263916,
          -4.729300498962402,
          -4.202281475067139,
          -4.188419342041016,
          -4.910017013549805,
          -5.286148548126221,
          -5.099733829498291,
          -3.743844509124756,
          -3.9910733699798584,
          -5.061005592346191,
          -5.077279567718506,
          -3.8346471786499023,
          -4.764956951141357,
          -5.260190963745117,
          -5.111472129821777,
          -4.772487163543701,
          -4.32974100112915,
          -4.8206963539123535,
          -4.545619487762451,
          -4.110131740570068,
          -4.255486011505127,
          -3.7600882053375244,
          -3.952195405960083,
          -3.88090181350708,
          -4.2086873054504395,
          -4.107478618621826,
          -4.112264633178711,
          -4.084202289581299,
          -4.07973575592041,
          -4.069608688354492,
          -4.023022651672363,
          -4.200112342834473,
          -4.167176246643066,
          -4.031424522399902,
          -4.065406799316406,
          -3.994783401489258,
          -5.032564640045166,
          -4.888406753540039,
          -5.178220272064209,
          -5.2136616706848145,
          -5.068575382232666,
          -4.9517011642456055,
          -4.796799182891846,
          -4.175819396972656,
          -4.901993751525879,
          -4.473028182983398,
          4.89389181137085
         ],
         "xaxis": "x",
         "y": [
          -1.7810230255126953,
          -0.8783419132232666,
          -0.6969490051269531,
          -0.6780400276184082,
          -0.861699640750885,
          -0.6116882562637329,
          -0.9855021238327026,
          -0.8825219869613647,
          -0.8241609334945679,
          -0.8887119889259338,
          -0.7750661373138428,
          -0.7755119204521179,
          -1.1517285108566284,
          -0.9114055037498474,
          -0.6685888767242432,
          -1.1038188934326172,
          -0.9306725859642029,
          -0.6447725892066956,
          -0.7089337110519409,
          -0.9539601802825928,
          -0.9846726655960083,
          -0.7395633459091187,
          -0.38561734557151794,
          -0.6771224737167358,
          -0.7836740612983704,
          -1.1446082592010498,
          -0.6561455726623535,
          -0.7863094210624695,
          -0.370659738779068,
          -0.6210194826126099,
          -1.102142333984375,
          -0.8443738222122192,
          -0.6979268193244934,
          -0.5779052972793579,
          -1.0341718196868896,
          -0.5444753766059875,
          -0.36601391434669495,
          -0.4464440941810608,
          -0.5403642654418945,
          -0.954906165599823,
          -0.7397687435150146,
          -0.9058607220649719,
          -0.7638295292854309,
          -1.2719364166259766,
          -1.1546133756637573,
          -0.8949633240699768,
          -1.0516551733016968,
          -1.8835493326187134,
          -1.6238948106765747,
          -1.9937535524368286,
          -1.9713902473449707,
          -1.9704619646072388,
          -1.975107192993164,
          -1.9899173974990845,
          -1.9451100826263428,
          -1.9151862859725952,
          -1.9231152534484863,
          -1.9600069522857666,
          -1.8764541149139404,
          -0.5146461725234985,
          -0.49657124280929565,
          -0.4758630394935608,
          -0.40759795904159546,
          -0.585811197757721,
          -0.6750361919403076,
          -0.6698346734046936,
          -1.6347155570983887,
          -0.8052607178688049,
          -0.8238211274147034,
          7.7248759269714355
         ],
         "yaxis": "y"
        },
        {
         "customdata": [
          [
           "Bleak House"
          ],
          [
           "Three Ghost Stories"
          ],
          [
           "The Seven Poor Travellers"
          ],
          [
           "The Holly-Tree"
          ],
          [
           "Great Expectations"
          ],
          [
           "The Perils of Certain English Prisoners"
          ],
          [
           "A Message from the Sea"
          ],
          [
           "Somebody's Luggage"
          ],
          [
           "Doctor Marigold"
          ],
          [
           "Mrs. Lirriper's Lodgings"
          ],
          [
           "The Wreck of the Golden Mary"
          ],
          [
           "Some Christmas Stories"
          ],
          [
           "The Loving Ballad of Lord Bateman"
          ],
          [
           "A Christmas Carol"
          ],
          [
           "The Cricket on the Hearth"
          ],
          [
           "The Magic Fishbone: A Holiday Romance from the Pen of Miss Alice Rainbird, Aged 7"
          ],
          [
           "A Christmas Carol"
          ],
          [
           "The Letters of Charles Dickens. Vol. 1, 1833-1856"
          ],
          [
           "The Letters of Charles Dickens. Vol. 2, 1857-1870"
          ],
          [
           "The Letters of Charles Dickens. Vol. 3, 1836-1870"
          ],
          [
           "Bardell v. Pickwick"
          ],
          [
           "Mugby Junction"
          ],
          [
           "Tales from Dickens"
          ],
          [
           "A Christmas Carol: The original manuscript"
          ],
          [
           "Dickens' Stories About Children Every Child Can Read"
          ],
          [
           "The Poems and Verses of Charles Dickens"
          ],
          [
           "Charles Dickens' Children Stories"
          ],
          [
           "The Cricket on the Hearth: A Fairy Tale of Home"
          ],
          [
           "The Battle of Life: A Love Story"
          ],
          [
           "A Child's Dream of a Star"
          ],
          [
           "The Personal History of David Copperfield"
          ],
          [
           "Scenes and Characters from the Works of Charles Dickens: Being Eight Hundred and Sixty-six Pictures Printed from the Original Wood Blocks"
          ],
          [
           "Oliver Twist; or, The Parish Boy's Progress. Illustrated"
          ],
          [
           "Oliver Twist, Vol. 1 (of 3)"
          ],
          [
           "Oliver Twist, Vol. 2 (of 3)"
          ],
          [
           "The Posthumous Papers of the Pickwick Club, v. 1 (of 2)"
          ],
          [
           "The Posthumous Papers of the Pickwick Club, v. 2 (of 2)"
          ],
          [
           "The Mystery of Edwin Drood"
          ],
          [
           "The Pickwick Papers"
          ],
          [
           "Index of the Project Gutenberg Works of Charles Dickens"
          ],
          [
           "Master Humphrey's Clock"
          ],
          [
           "The Haunted Man and the Ghost's Bargain"
          ],
          [
           "Pictures from Italy"
          ],
          [
           "The Chimes: A Goblin Story of Some Bells That Rang an Old Year out and a New Year In"
          ],
          [
           "American Notes"
          ],
          [
           "The Battle of Life"
          ],
          [
           "The Cricket on the Hearth: A Fairy Tale of Home"
          ],
          [
           "A Child's History of England"
          ],
          [
           "The Old Curiosity Shop"
          ],
          [
           "Oliver Twist"
          ],
          [
           "David Copperfield"
          ],
          [
           "Hard Times"
          ],
          [
           "Hunted Down: The Detective Stories of Charles Dickens"
          ],
          [
           "Holiday Romance"
          ],
          [
           "George Silverman's Explanation"
          ],
          [
           "Dombey and Son"
          ],
          [
           "Speeches: Literary and Social"
          ],
          [
           "Reprinted Pieces"
          ],
          [
           "Sketches by Boz, Illustrative of Every-Day Life and Every-Day People"
          ],
          [
           "Our Mutual Friend"
          ],
          [
           "Mudfog and Other Sketches"
          ],
          [
           "The Uncommercial Traveller"
          ],
          [
           "Sketches of Young Couples"
          ],
          [
           "Barnaby Rudge: A Tale of the Riots of 'Eighty"
          ],
          [
           "Sunday Under Three Heads"
          ],
          [
           "To Be Read at Dusk"
          ],
          [
           "The Lamplighter"
          ],
          [
           "Little Dorrit"
          ],
          [
           "Nicholas Nickleby"
          ],
          [
           "Martin Chuzzlewit"
          ]
         ],
         "hovertemplate": "author=Dickens, Charles<br>proj_0=%{x}<br>proj_1=%{y}<br>title=%{customdata[0]}<extra></extra>",
         "legendgroup": "Dickens, Charles",
         "marker": {
          "color": "#1C8356",
          "symbol": "circle"
         },
         "mode": "markers",
         "name": "Dickens, Charles",
         "orientation": "v",
         "showlegend": true,
         "type": "scatter",
         "x": [
          5.561427593231201,
          5.729276657104492,
          5.778811931610107,
          5.65346097946167,
          5.524344444274902,
          5.636966705322266,
          5.619538307189941,
          5.812450885772705,
          5.806177139282227,
          5.752957344055176,
          5.681803226470947,
          5.605262756347656,
          5.316377639770508,
          5.993795394897461,
          5.846592426300049,
          5.402976989746094,
          6.000882625579834,
          5.653045654296875,
          5.629602432250977,
          5.824758052825928,
          5.754129886627197,
          5.496594429016113,
          5.480967044830322,
          5.972206115722656,
          5.9593095779418945,
          5.522467613220215,
          5.532469272613525,
          5.87305212020874,
          5.901827812194824,
          4.856006622314453,
          6.04272985458374,
          5.628627777099609,
          6.137537956237793,
          6.041451454162598,
          5.923034191131592,
          6.119511127471924,
          6.0382280349731445,
          5.509398937225342,
          6.128385543823242,
          5.666095733642578,
          5.5464653968811035,
          5.713417053222656,
          5.722480297088623,
          5.520248889923096,
          5.855090141296387,
          5.877523422241211,
          5.8832173347473145,
          5.745274066925049,
          5.874141216278076,
          6.031714916229248,
          6.0187883377075195,
          5.692655086517334,
          5.775050640106201,
          5.714399337768555,
          5.789073467254639,
          5.571226119995117,
          5.716733932495117,
          5.777204513549805,
          5.904970645904541,
          5.592885971069336,
          5.826216220855713,
          5.861001491546631,
          5.8185811042785645,
          5.714419841766357,
          5.712491035461426,
          5.546773910522461,
          5.459003925323486,
          5.650264739990234,
          5.748910427093506,
          5.717391490936279
         ],
         "xaxis": "x",
         "y": [
          4.092268466949463,
          5.062730312347412,
          5.958929538726807,
          5.7911224365234375,
          4.143999099731445,
          5.5955491065979,
          5.977372646331787,
          5.618467330932617,
          5.940722942352295,
          5.941615581512451,
          5.828333377838135,
          5.239264011383057,
          7.058506011962891,
          5.298764228820801,
          4.575489521026611,
          6.825659275054932,
          5.294369220733643,
          3.980989933013916,
          4.000643730163574,
          4.946038246154785,
          5.59813117980957,
          4.121846675872803,
          4.143694877624512,
          5.325948238372803,
          4.051055908203125,
          5.742786884307861,
          5.0163702964782715,
          4.600417613983154,
          5.108829975128174,
          7.5621232986450195,
          4.019924163818359,
          5.761970520019531,
          4.335235118865967,
          4.396889686584473,
          4.258391857147217,
          4.3171586990356445,
          4.228274822235107,
          4.619564056396484,
          4.263943195343018,
          5.828912734985352,
          4.027794361114502,
          5.580256462097168,
          3.9042611122131348,
          5.208776473999023,
          3.899444103240967,
          5.134430885314941,
          4.5900726318359375,
          4.723560333251953,
          4.127487659454346,
          4.277839660644531,
          3.9368627071380615,
          5.403652667999268,
          6.0266242027282715,
          5.860255241394043,
          5.943017482757568,
          4.306480407714844,
          3.967451810836792,
          3.921051502227783,
          4.040072441101074,
          4.241858959197998,
          4.795593738555908,
          3.89670467376709,
          5.008633613586426,
          4.032927513122559,
          5.866744041442871,
          6.53548002243042,
          6.6412529945373535,
          4.11056661605835,
          4.0636210441589355,
          4.079775333404541
         ],
         "yaxis": "y"
        },
        {
         "customdata": [
          [
           "The Tragedy of Pudd'nhead Wilson"
          ],
          [
           "Extract from Captain Stormfield's Visit to Heaven"
          ],
          [
           "A Horse's Tale"
          ],
          [
           "A Tramp Abroad"
          ],
          [
           "The Man That Corrupted Hadleyburg"
          ],
          [
           "The $30,000 Bequest, and Other Stories"
          ],
          [
           "The Prince and the Pauper"
          ],
          [
           "Extracts from Adam's Diary, translated from the original ms."
          ],
          [
           "Editorial Wild Oats"
          ],
          [
           "Chapters from My Autobiography"
          ],
          [
           "Is Shakespeare Dead?: From My Autobiography"
          ],
          [
           "Life on the Mississippi"
          ],
          [
           "On the Decay of the Art of Lying"
          ],
          [
           "Personal Recollections of Joan of Arc — Volume 1"
          ],
          [
           "Personal Recollections of Joan of Arc — Volume 2"
          ],
          [
           "The Works of Mark Twain: An Index of all Project Gutenberg Editions"
          ],
          [
           "Following the Equator: A Journey Around the World"
          ],
          [
           "In Defence of Harriet Shelley"
          ],
          [
           "Fenimore Cooper's Literary Offences"
          ],
          [
           "Essays on Paul Bourget"
          ],
          [
           "A Dog's Tale"
          ],
          [
           "Mark Twain's Burlesque Autobiography"
          ],
          [
           "The Innocents Abroad"
          ],
          [
           "Roughing It"
          ],
          [
           "The Gilded Age: A Tale of Today"
          ],
          [
           "The American Claimant"
          ],
          [
           "A Double Barrelled Detective Story"
          ],
          [
           "The Stolen White Elephant"
          ],
          [
           "Some Rambling Notes of an Idle Excursion"
          ],
          [
           "The Facts Concerning the Recent Carnival of Crime in Connecticut"
          ],
          [
           "Alonzo Fitz, and Other Stories"
          ],
          [
           "Those Extraordinary Twins"
          ],
          [
           "The Mysterious Stranger, and Other Stories"
          ],
          [
           "Christian Science"
          ],
          [
           "Mark Twain's Speeches"
          ],
          [
           "Sketches New and Old"
          ],
          [
           "1601: Conversation as it was by the Social Fireside in the Time of the Tudors"
          ],
          [
           "The Curious Republic of Gondour, and Other Whimsical Sketches"
          ],
          [
           "Mark Twain's Letters — Volume 1 (1853-1866)"
          ],
          [
           "Mark Twain's Letters — Volume 2 (1867-1875)"
          ],
          [
           "Mark Twain's Letters — Volume 3 (1876-1885)"
          ],
          [
           "Mark Twain's Letters — Volume 4 (1886-1900)"
          ],
          [
           "Mark Twain's Letters — Volume 5 (1901-1906)"
          ],
          [
           "Mark Twain's Letters — Complete (1853-1910)"
          ],
          [
           "The Entire Project Gutenberg Works of Mark Twain"
          ],
          [
           "The Adventures of Huckleberry Finn (Tom Sawyer's Comrade)"
          ],
          [
           "How to Tell a Story, and Other Essays"
          ],
          [
           "The Man That Corrupted Hadleyburg, and Other Stories"
          ],
          [
           "The Treaty With China, its Provisions Explained: New York Tribune, Tuesday, August 28, 1868"
          ],
          [
           "The Mysterious Stranger: A Romance"
          ],
          [
           "The Innocents Abroad — Volume 01"
          ],
          [
           "The Innocents Abroad — Volume 05"
          ],
          [
           "A Tramp Abroad — Volume 07"
          ],
          [
           "Following the Equator: A Journey Around the World. Part 3"
          ],
          [
           "Sketches New and Old, Part 1."
          ],
          [
           "Merry Tales"
          ],
          [
           "Moments with Mark Twain"
          ],
          [
           "The £1,000,000 bank-note, and other new stories"
          ],
          [
           "To the Person Sitting in Darkness"
          ],
          [
           "King Leopold's Soliloquy: A Defense of His Congo Rule"
          ],
          [
           "Europe and elsewhere"
          ],
          [
           "Adventures of Huckleberry Finn, Chapters 01 to 05"
          ],
          [
           "Adventures of Huckleberry Finn, Chapters 06 to 10"
          ],
          [
           "Adventures of Huckleberry Finn, Chapters 11 to 15"
          ],
          [
           "Adventures of Huckleberry Finn, Chapters 16 to 20"
          ],
          [
           "Adventures of Huckleberry Finn, Chapters 26 to 30"
          ],
          [
           "The Adventures of Tom Sawyer, Part 1."
          ],
          [
           "The Adventures of Tom Sawyer, Part 2."
          ],
          [
           "A Connecticut Yankee in King Arthur's Court, Part 1."
          ],
          [
           "Eve's Diary, Complete"
          ]
         ],
         "hovertemplate": "author=Twain, Mark<br>proj_0=%{x}<br>proj_1=%{y}<br>title=%{customdata[0]}<extra></extra>",
         "legendgroup": "Twain, Mark",
         "marker": {
          "color": "#16FF32",
          "symbol": "circle"
         },
         "mode": "markers",
         "name": "Twain, Mark",
         "orientation": "v",
         "showlegend": true,
         "type": "scatter",
         "x": [
          1.1518045663833618,
          1.7592366933822632,
          0.9828452467918396,
          -0.3046009838581085,
          1.9023256301879883,
          0.12732544541358948,
          -0.2352229207754135,
          2.362697124481201,
          1.7825742959976196,
          0.06023404002189636,
          0.6390517950057983,
          -0.4166755676269531,
          2.6458537578582764,
          1.2081680297851562,
          0.2439935803413391,
          4.858325958251953,
          -0.37981903553009033,
          1.254043698310852,
          2.0689949989318848,
          1.7338883876800537,
          2.1744954586029053,
          2.2652416229248047,
          -0.39692336320877075,
          0.9359866380691528,
          -0.3355942666530609,
          -0.18536892533302307,
          1.0118290185928345,
          2.048856258392334,
          1.4188300371170044,
          2.1161131858825684,
          0.9224520325660706,
          1.3842965364456177,
          0.22860850393772125,
          0.30197006464004517,
          0.8724287152290344,
          0.9385157227516174,
          1.1752734184265137,
          1.2855030298233032,
          0.6711717247962952,
          0.0792890191078186,
          0.2640397548675537,
          -0.205101877450943,
          0.4276319444179535,
          -0.04469935968518257,
          -0.3983837366104126,
          1.202139973640442,
          2.1195905208587646,
          0.31657543778419495,
          2.179788589477539,
          0.3261468708515167,
          0.40656498074531555,
          0.5261034369468689,
          0.3360482454299927,
          0.3140484690666199,
          1.2570232152938843,
          0.8720670342445374,
          -0.20115084946155548,
          1.0929707288742065,
          2.197237491607666,
          2.1372873783111572,
          0.14678306877613068,
          1.6574068069458008,
          1.7045129537582397,
          1.5629558563232422,
          1.1614514589309692,
          1.5209087133407593,
          2.0366499423980713,
          1.3079525232315063,
          1.101288914680481,
          2.2288575172424316
         ],
         "xaxis": "x",
         "y": [
          8.657901763916016,
          8.485919952392578,
          8.680468559265137,
          8.546599388122559,
          8.454571723937988,
          8.604743957519531,
          8.571772575378418,
          8.235382080078125,
          8.546465873718262,
          8.652473449707031,
          8.462870597839355,
          8.458182334899902,
          8.176960945129395,
          8.750341415405273,
          8.553184509277344,
          7.628991603851318,
          8.47927474975586,
          8.5580472946167,
          8.380248069763184,
          8.464945793151855,
          8.326848983764648,
          8.325145721435547,
          8.473416328430176,
          8.459415435791016,
          8.51716423034668,
          8.583032608032227,
          8.643438339233398,
          8.364155769348145,
          8.529797554016113,
          8.320985794067383,
          8.651433944702148,
          8.648106575012207,
          8.715170860290527,
          8.521203994750977,
          8.426685333251953,
          8.480149269104004,
          8.717391014099121,
          8.56993293762207,
          8.74178409576416,
          8.698074340820312,
          8.572047233581543,
          8.582385063171387,
          8.580439567565918,
          8.626379013061523,
          8.513224601745605,
          8.623930931091309,
          8.34622573852539,
          8.650707244873047,
          8.381229400634766,
          8.798933982849121,
          8.734750747680664,
          8.737265586853027,
          8.685685157775879,
          8.773941993713379,
          8.67596435546875,
          8.800511360168457,
          8.559276580810547,
          8.423166275024414,
          8.375787734985352,
          8.368215560913086,
          8.622627258300781,
          8.530080795288086,
          8.506020545959473,
          8.650357246398926,
          8.703863143920898,
          8.547110557556152,
          8.454538345336914,
          8.671131134033203,
          8.530430793762207,
          8.313759803771973
         ],
         "yaxis": "y"
        },
        {
         "customdata": [
          [
           "The Green Flag, and Other Stories of War and Sport"
          ],
          [
           "Uncle Bernac: A Memory of the Empire"
          ],
          [
           "The Return of Sherlock Holmes"
          ],
          [
           "The Exploits of Brigadier Gerard"
          ],
          [
           "The Refugees: A Tale of Two Continents"
          ],
          [
           "The Great Shadow and Other Napoleonic Tales"
          ],
          [
           "The Poison Belt"
          ],
          [
           "The Firm of Girdlestone"
          ],
          [
           "The Lost World"
          ],
          [
           "The New Revelation"
          ],
          [
           "The Adventures of Gerard"
          ],
          [
           "The Adventures of Sherlock Holmes"
          ],
          [
           "The Sign of the Four"
          ],
          [
           "A Desert Drama: Being The Tragedy Of The \"Korosko\""
          ],
          [
           "The Return of Sherlock Holmes"
          ],
          [
           "Danger! and Other Stories"
          ],
          [
           "The Adventure of Wisteria Lodge"
          ],
          [
           "The Adventure of the Cardboard Box"
          ],
          [
           "The Adventure of the Red Circle"
          ],
          [
           "The Adventure of the Bruce-Partington Plans"
          ],
          [
           "The Adventure of the Dying Detective"
          ],
          [
           "The Disappearance of Lady Frances Carfax"
          ],
          [
           "The Adventure of the Devil's Foot"
          ],
          [
           "His Last Bow: An Epilogue of Sherlock Holmes"
          ],
          [
           "A Study in Scarlet"
          ],
          [
           "The War in South Africa, Its Cause and Conduct"
          ],
          [
           "The Last of the Legions and Other Tales of Long Ago"
          ],
          [
           "Sir Nigel"
          ],
          [
           "The Hound of the Baskervilles"
          ],
          [
           "The Stark Munro Letters: Being series of twelve letters written by J. Stark Munro, M.B., to his friend and former fellow-student, Herbert Swanborough, of Lowell, Massachusetts, during the years 1881-1884"
          ],
          [
           "The Captain of the Polestar, and Other Tales"
          ],
          [
           "The Great Boer War"
          ],
          [
           "The Hound of the Baskervilles"
          ],
          [
           "The Great Keinplatz Experiment and Other Tales of Twilight and the Unseen"
          ],
          [
           "The Valley of Fear"
          ],
          [
           "The Dealings of Captain Sharkey, and Other Tales of Pirates"
          ],
          [
           "The Man from Archangel, and Other Tales of Adventure"
          ],
          [
           "The Parasite: A Story"
          ],
          [
           "Beyond the City"
          ],
          [
           "The Crime of the Congo"
          ],
          [
           "The Valley of Fear"
          ],
          [
           "The Croxley Master: A Great Tale Of The Prize Ring"
          ],
          [
           "The Wanderings of a Spiritualist"
          ],
          [
           "The German War"
          ],
          [
           "Round the Red Lamp: Being Facts and Fancies of Medical Life"
          ],
          [
           "The Vital Message"
          ],
          [
           "The Coming of the Fairies"
          ],
          [
           "Adventures of Sherlock Holmes: Illustrated"
          ],
          [
           "Rodney Stone"
          ],
          [
           "A Duet, with an Occasional Chorus"
          ],
          [
           "Through the Magic Door"
          ],
          [
           "Tales of Terror and Mystery"
          ],
          [
           "Round the Fire Stories"
          ],
          [
           "Index of the Project Gutenberg Works of Arthur Conan Doyle"
          ],
          [
           "The Case for Spirit Photography: With corroborative evidence by experienced researchers and photographers"
          ],
          [
           "The British Campaign in France and Flanders, 1914"
          ],
          [
           "The British Campaign in France and Flanders, 1916"
          ],
          [
           "The British Campaign in France and Flanders, 1917"
          ],
          [
           "Memories and Adventures"
          ],
          [
           "The Curse of Eve"
          ],
          [
           "The land of mist"
          ],
          [
           "My friend the murderer, and other mysteries and adventures"
          ],
          [
           "The case-book of Sherlock Holmes"
          ],
          [
           "The case of Oscar Slater"
          ],
          [
           "The Mystery of Cloomber"
          ],
          [
           "The Memoirs of Sherlock Holmes"
          ],
          [
           "The Doings of Raffles Haw"
          ],
          [
           "The Last Galley; Impressions and Tales"
          ],
          [
           "The White Company"
          ],
          [
           "Micah Clarke: His Statement as made to his three grandchildren Joseph, Gervas and Reuben During the Hard Winter of 1734"
          ]
         ],
         "hovertemplate": "author=Doyle, Arthur Conan<br>proj_0=%{x}<br>proj_1=%{y}<br>title=%{customdata[0]}<extra></extra>",
         "legendgroup": "Doyle, Arthur Conan",
         "marker": {
          "color": "#F7E1A0",
          "symbol": "circle"
         },
         "mode": "markers",
         "name": "Doyle, Arthur Conan",
         "orientation": "v",
         "showlegend": true,
         "type": "scatter",
         "x": [
          5.110084533691406,
          5.592678546905518,
          5.176033973693848,
          4.795353412628174,
          5.196652889251709,
          4.790925979614258,
          5.631907939910889,
          5.429431438446045,
          4.931117057800293,
          5.57655143737793,
          4.810011863708496,
          5.516113758087158,
          5.378327369689941,
          5.503771781921387,
          5.175914287567139,
          4.864455699920654,
          5.523582935333252,
          5.484577178955078,
          5.520672798156738,
          5.488641738891602,
          5.580613136291504,
          5.6270623207092285,
          5.51984167098999,
          5.26411247253418,
          5.39478063583374,
          5.051032066345215,
          5.516024589538574,
          4.880620002746582,
          4.981978893280029,
          5.545636177062988,
          5.042807102203369,
          5.147509574890137,
          4.931515693664551,
          5.0821452140808105,
          5.077503204345703,
          5.045437335968018,
          5.162155628204346,
          5.544361114501953,
          5.067261695861816,
          5.446568489074707,
          5.133019924163818,
          5.282065391540527,
          5.4434733390808105,
          5.478900909423828,
          4.792785167694092,
          5.008260250091553,
          5.117099761962891,
          5.504179000854492,
          5.463053226470947,
          5.343803405761719,
          4.837026119232178,
          5.411093235015869,
          5.316336154937744,
          5.6322550773620605,
          5.577355861663818,
          4.701835632324219,
          4.672299385070801,
          4.704018592834473,
          4.815873622894287,
          5.559755802154541,
          5.284201622009277,
          5.14109468460083,
          4.925099849700928,
          5.697608947753906,
          5.010348796844482,
          5.094611167907715,
          5.243468284606934,
          5.588929176330566,
          5.415883541107178,
          4.974201679229736
         ],
         "xaxis": "x",
         "y": [
          14.201105117797852,
          13.830406188964844,
          14.001103401184082,
          13.603957176208496,
          13.330768585205078,
          13.564181327819824,
          13.235553741455078,
          14.34125804901123,
          13.762524604797363,
          13.2543363571167,
          13.6251220703125,
          14.321742057800293,
          14.170787811279297,
          13.607479095458984,
          14.02013874053955,
          13.70720100402832,
          13.0347318649292,
          13.013280868530273,
          12.904075622558594,
          12.947480201721191,
          12.862080574035645,
          12.881437301635742,
          12.91714096069336,
          13.428478240966797,
          13.957107543945312,
          13.416827201843262,
          13.83962345123291,
          13.434417724609375,
          13.865594863891602,
          13.728964805603027,
          14.03079605102539,
          13.5305757522583,
          13.806197166442871,
          13.898955345153809,
          13.710904121398926,
          14.155030250549316,
          13.795038223266602,
          12.947385787963867,
          13.49450397491455,
          13.176319122314453,
          13.801338195800781,
          13.68115520477295,
          14.206993103027344,
          13.464409828186035,
          13.747570991516113,
          13.32615852355957,
          13.289982795715332,
          14.332869529724121,
          14.25355339050293,
          14.204845428466797,
          13.663872718811035,
          14.094294548034668,
          14.263969421386719,
          12.776124000549316,
          13.063309669494629,
          13.572293281555176,
          13.608089447021484,
          13.658509254455566,
          13.7774658203125,
          12.76133918762207,
          14.14034652709961,
          14.019216537475586,
          13.544665336608887,
          12.829601287841797,
          13.57598876953125,
          13.928498268127441,
          13.446678161621094,
          13.888427734375,
          14.148290634155273,
          14.103083610534668
         ],
         "yaxis": "y"
        },
        {
         "customdata": [
          [
           "Persuasion"
          ],
          [
           "Love and Freindship [sic]"
          ],
          [
           "Northanger Abbey"
          ],
          [
           "Pride and Prejudice"
          ],
          [
           "Mansfield Park"
          ],
          [
           "Emma"
          ],
          [
           "Sense and Sensibility"
          ],
          [
           "Sense and Sensibility"
          ],
          [
           "The Complete Project Gutenberg Works of Jane Austen: A Linked Index of all PG Editions of Jane Austen"
          ],
          [
           "Pride and Prejudice, a play founded on Jane Austen's novel"
          ],
          [
           "The Letters of Jane Austen: Selected from the compilation of her great nephew, Edward, Lord Bradbourne"
          ],
          [
           "Pride and Prejudice"
          ],
          [
           "The Watsons: By Jane Austen, Concluded by L. Oulton"
          ],
          [
           "Lady Susan"
          ]
         ],
         "hovertemplate": "author=Austen, Jane<br>proj_0=%{x}<br>proj_1=%{y}<br>title=%{customdata[0]}<extra></extra>",
         "legendgroup": "Austen, Jane",
         "marker": {
          "color": "#E2E2E2",
          "symbol": "circle"
         },
         "mode": "markers",
         "name": "Austen, Jane",
         "orientation": "v",
         "showlegend": true,
         "type": "scatter",
         "x": [
          6.364521026611328,
          6.400402069091797,
          6.277629375457764,
          6.504275798797607,
          6.448013782501221,
          6.309393882751465,
          6.495027542114258,
          6.4139580726623535,
          4.7923431396484375,
          6.016565799713135,
          6.486973285675049,
          6.528295040130615,
          6.315608978271484,
          6.213159084320068
         ],
         "xaxis": "x",
         "y": [
          6.08474588394165,
          6.078956604003906,
          6.206540107727051,
          5.91458797454834,
          6.0431342124938965,
          6.173948764801025,
          5.9480485916137695,
          6.013975143432617,
          7.598001003265381,
          6.9673919677734375,
          5.980426788330078,
          5.901810169219971,
          6.220487117767334,
          6.2859907150268555
         ],
         "yaxis": "y"
        },
        {
         "customdata": [
          [
           "Discourses on the First Decade of Titus Livius"
          ],
          [
           "The Prince"
          ],
          [
           "Machiavelli, Volume I"
          ],
          [
           "History of Florence and of the Affairs of Italy: From the Earliest Times to the Death of Lorenzo the Magnificent"
          ],
          [
           "The Prince"
          ]
         ],
         "hovertemplate": "author=Machiavelli, Niccolò<br>proj_0=%{x}<br>proj_1=%{y}<br>title=%{customdata[0]}<extra></extra>",
         "legendgroup": "Machiavelli, Niccolò",
         "marker": {
          "color": "#1CBE4F",
          "symbol": "circle"
         },
         "mode": "markers",
         "name": "Machiavelli, Niccolò",
         "orientation": "v",
         "showlegend": true,
         "type": "scatter",
         "x": [
          5.8816304206848145,
          5.6349358558654785,
          5.347379207611084,
          5.888543605804443,
          5.534304141998291
         ],
         "xaxis": "x",
         "y": [
          10.809798240661621,
          10.134563446044922,
          9.869366645812988,
          10.749845504760742,
          10.399589538574219
         ],
         "yaxis": "y"
        },
        {
         "customdata": [
          [
           "The Orations of Marcus Tullius Cicero, Volume 4"
          ],
          [
           "Cato Maior de Senectute with Introduction and Notes"
          ],
          [
           "Academica"
          ],
          [
           "Cicero's Tusculan Disputations: Also, Treatises On The Nature Of The Gods, And On The Commonwealth"
          ],
          [
           "The Letters of Cicero, Volume 1: The Whole Extant Correspodence in Chronological Order"
          ],
          [
           "Treatises on Friendship and Old Age"
          ],
          [
           "Letters of Marcus Tullius Cicero"
          ],
          [
           "The Academic Questions, Treatise De Finibus, and Tusculan Disputations, of M.T. Cicero, With a Sketch of the Greek Philosophers Mentioned by Cicero"
          ],
          [
           "Speeches against Catilina"
          ],
          [
           "De Officiis"
          ],
          [
           "Cicero: Letters to Atticus, Vol. 2 of 3"
          ],
          [
           "Cicero: Letters to Atticus, Vol. 3 of 3"
          ],
          [
           "The republic of Cicero: Translated from the Latin; and Accompanied With a Critical and Historical Introduction."
          ],
          [
           "Cicero: Letters to Atticus, Vol. 1 of 3"
          ]
         ],
         "hovertemplate": "author=Cicero, Marcus Tullius<br>proj_0=%{x}<br>proj_1=%{y}<br>title=%{customdata[0]}<extra></extra>",
         "legendgroup": "Cicero, Marcus Tullius",
         "marker": {
          "color": "#C4451C",
          "symbol": "circle"
         },
         "mode": "markers",
         "name": "Cicero, Marcus Tullius",
         "orientation": "v",
         "showlegend": true,
         "type": "scatter",
         "x": [
          3.570897340774536,
          3.523529291152954,
          3.520955801010132,
          3.4533867835998535,
          3.53688645362854,
          3.4157142639160156,
          3.653208017349243,
          3.517430305480957,
          3.5578911304473877,
          3.472832679748535,
          3.4897725582122803,
          3.4994139671325684,
          2.967111349105835,
          3.461580276489258
         ],
         "xaxis": "x",
         "y": [
          10.357085227966309,
          10.694221496582031,
          10.74130630493164,
          10.552679061889648,
          10.400190353393555,
          10.064705848693848,
          10.27160930633545,
          10.492715835571289,
          10.776638984680176,
          10.800970077514648,
          10.744440078735352,
          10.758506774902344,
          4.452538967132568,
          10.709319114685059
         ],
         "yaxis": "y"
        },
        {
         "customdata": [
          [
           "The Life and Adventures of Robinson Crusoe of York, Mariner, Volume 1: With an Account of His Travels Round Three Parts of the Globe,; Written By Himself, in Two Volumes"
          ],
          [
           "From London to Land's End: and Two Letters from the \"Journey through England by a Gentleman\""
          ],
          [
           "The Life and Most Surprising Adventures of Robinson Crusoe, of York, Mariner (1801)"
          ],
          [
           "Memoirs of a Cavalier: A Military Journal of the Wars in Germany, and the Wars in England.; From the Year 1632 to the Year 1648."
          ],
          [
           "The Life and Adventures of Robinson Crusoe (1808)"
          ],
          [
           "The History of the Remarkable Life of John Sheppard: Containing a Particular Account of His Many Robberies and Escapes"
          ],
          [
           "A Vindication of the Press"
          ],
          [
           "Military Memoirs of Capt. George Carleton"
          ],
          [
           "Memoirs of Major Alexander Ramkins (1718)"
          ],
          [
           "The Complete English Tradesman (1839 ed.)"
          ],
          [
           "History of the Plague in London"
          ],
          [
           "Dickory Cronke: The Dumb Philosopher, or, Great Britain's Wonder"
          ],
          [
           "Everybody's Business Is Nobody's Business: Or, Private Abuses, Public Grievances; Exemplified in the Pride, Insolence, and Exorbitant Wages of Our Women, Servants, Footmen, &c."
          ],
          [
           "Atalantis Major"
          ],
          [
           "The True-Born Englishman: A Satire"
          ],
          [
           "The Fortunate Mistress (Parts 1 and 2): or a History of the Life of Mademoiselle de Beleau Known by the Name of the Lady Roxana"
          ],
          [
           "The History of the Devil, As Well Ancient as Modern: In Two Parts"
          ],
          [
           "An Appeal to Honour and Justice, Though It Be of His Worst Enemies.: Being A True Account of His Conduct in Public Affairs."
          ],
          [
           "An Humble Proposal to the People of England, for the Increase of their Trade, and Encouragement of Their Manufactures: Whether the Present Uncertainty of Affairs Issues in Peace or War"
          ],
          [
           "Second Thoughts are Best: Or a Further Improvement of a Late Scheme to Prevent Street Robberies"
          ],
          [
           "Augusta Triumphans: Or, the Way to Make London the Most Flourishing City in the Universe"
          ],
          [
           "A New Voyage Round the World by a Course Never Sailed Before"
          ],
          [
           "A True Relation of the Apparition of one Mrs. Veal: The Next Day after Her Death, to one Mrs. Bargrave, at Canterbury, the 8th of September, 1705; which Apparition Recommends the Perusal of Drelincourt's Book of Consolations against the Fears of Death"
          ],
          [
           "Reasons Against the Succession of the House of Hanover: With an Enquiry How Far the Abdication of King James, Supposing It to Be Legal, Ought to Affect the Person of the Pretender"
          ],
          [
           "A Seasonable Warning and Caution against the Insinuations of Papists and Jacobites in favour of the Pretender: Being a Letter from an Englishman at the Court of Hanover"
          ],
          [
           "An Answer to a Question that Nobody thinks of, viz., But what if the Queen should Die?"
          ],
          [
           "The Lay-Man's Sermon upon the Late Storm: Held forth at an Honest Coffee-House-Conventicle"
          ],
          [
           "And What if the Pretender should Come?: Or Some Considerations of the Advantages and Real Consequences of the Pretender's Possessing the Crown of Great Britain"
          ],
          [
           "The Fortunes and Misfortunes of the Famous Moll Flanders"
          ],
          [
           "A Short Narrative of the Life and Actions of His Grace John, D. of Marlborogh"
          ],
          [
           "A Journal of the Plague Year: Being Observations or Memorials of the Most Remarkable Occurrences, as Well Public as Private, Which Happened in London During the Last Great Visitation in 1665. Written by a Citizen Who Continued All the While in London"
          ],
          [
           "The King of Pirates: Being an Account of the Famous Enterprises of Captain Avery, the Mock King of Madagascar"
          ],
          [
           "A General History of the Pyrates:: from their first rise and settlement in the island of Providence, to the present time"
          ],
          [
           "An Essay Upon Projects"
          ],
          [
           "The Storm. An Essay."
          ],
          [
           "The Storm: or, a Collection of the most Remarkable Casualties and Disasters which Happen'd in the Late Dreadful Tempest, both by Sea and Land"
          ],
          [
           "The Life and Adventures of Robinson Crusoe"
          ],
          [
           "The History and Remarkable Life of the Truly Honourable Colonel Jacque, Commonly Called Colonel Jack"
          ],
          [
           "The Friendly Daemon, or the Generous Apparition: Being a True Narrative of a Miraculous Cure, Newly Perform'd Upon That Famous Deaf and Dumb Gentleman, Dr. Duncan Campbel, by a Familiar Spirit That Appear'd to Him in a White Surplice, Like a Cathedral Singing Boy"
          ],
          [
           "The Further Adventures of Robinson Crusoe"
          ],
          [
           "The History of the Pyrates. Vol. II.: Containing the lives of Captain Misson, Captain Bowen, Captain Kidd, Captain Tew, Captain Halsey, Captain White, Captain Condent, Captain Bellamy, Captain Fly, Captain Howard, Captain Lewis, Captain Cornelius, Captain Williams, Captain Burgess, Captain North, and their several crews"
          ],
          [
           "The Life, Adventures & Piracies of the Famous Captain Singleton"
          ],
          [
           "Robinson Crusoe, Told to the Children by John Lang"
          ],
          [
           "The Consolidator; or, Memoirs of Sundry Transactions from the World in the Moon"
          ],
          [
           "Tour through the Eastern Counties of England, 1722"
          ]
         ],
         "hovertemplate": "author=Defoe, Daniel<br>proj_0=%{x}<br>proj_1=%{y}<br>title=%{customdata[0]}<extra></extra>",
         "legendgroup": "Defoe, Daniel",
         "marker": {
          "color": "#DEA0FD",
          "symbol": "circle"
         },
         "mode": "markers",
         "name": "Defoe, Daniel",
         "orientation": "v",
         "showlegend": true,
         "type": "scatter",
         "x": [
          6.4222283363342285,
          6.381735801696777,
          6.452980995178223,
          6.188514232635498,
          6.4743852615356445,
          5.608124256134033,
          5.5278520584106445,
          6.337820529937744,
          5.768469333648682,
          6.434003829956055,
          6.532150745391846,
          5.495837211608887,
          5.51859712600708,
          5.577180862426758,
          5.647369384765625,
          6.376067161560059,
          5.804249286651611,
          5.683631420135498,
          5.587491989135742,
          5.4319233894348145,
          5.711658477783203,
          6.5522780418396,
          4.986003875732422,
          5.4392547607421875,
          5.402395725250244,
          5.4633636474609375,
          5.53250789642334,
          5.577681541442871,
          6.567237377166748,
          5.513487339019775,
          6.485554218292236,
          5.99288272857666,
          6.352121829986572,
          6.402060508728027,
          4.895082950592041,
          6.435434341430664,
          6.46066951751709,
          6.557415008544922,
          5.526493549346924,
          6.500087738037109,
          6.387767314910889,
          6.4790263175964355,
          5.337371826171875,
          6.404378414154053,
          6.315648078918457
         ],
         "xaxis": "x",
         "y": [
          11.200573921203613,
          10.762492179870605,
          11.16796875,
          10.66878890991211,
          11.275749206542969,
          9.332155227661133,
          9.448705673217773,
          10.760232925415039,
          9.784342765808105,
          10.83206844329834,
          11.095447540283203,
          9.685741424560547,
          9.396113395690918,
          9.563188552856445,
          9.740050315856934,
          10.773736000061035,
          9.639580726623535,
          9.53144645690918,
          9.42477035522461,
          9.271921157836914,
          9.37231159210205,
          11.036892890930176,
          7.986284255981445,
          9.302447319030762,
          9.318750381469727,
          9.529772758483887,
          9.292518615722656,
          9.432367324829102,
          11.077386856079102,
          9.668375015258789,
          11.061993598937988,
          10.14025592803955,
          10.711910247802734,
          10.812911033630371,
          8.059260368347168,
          10.729543685913086,
          11.24401569366455,
          11.136116981506348,
          9.309781074523926,
          11.210942268371582,
          10.681885719299316,
          10.942039489746094,
          9.66147232055664,
          10.834887504577637,
          10.55008602142334
         ],
         "yaxis": "y"
        },
        {
         "customdata": [
          [
           "The Count of Monte Cristo, Illustrated"
          ],
          [
           "The Three Musketeers"
          ],
          [
           "Ten Years Later"
          ],
          [
           "Twenty Years After"
          ],
          [
           "The Son of Clemenceau, A Novel of Modern Love and Life"
          ],
          [
           "The Forty-Five Guardsmen"
          ],
          [
           "Camille (La Dame aux Camilias)"
          ],
          [
           "The Vicomte de Bragelonne; Or, Ten Years Later: Being the completion of \"The Three Musketeers\" and \"Twenty Years After\""
          ],
          [
           "The Queen's Necklace"
          ],
          [
           "The Vicomte De Bragelonne"
          ],
          [
           "Ten Years Later"
          ],
          [
           "Louise de la Valliere"
          ],
          [
           "The Regent's Daughter"
          ],
          [
           "The Conspirators: The Chevalier d'Harmental"
          ],
          [
           "The Borgias: Celebrated Crimes"
          ],
          [
           "Cenci: Celebrated Crimes"
          ],
          [
           "Massacres of the South (1551-1815): Celebrated Crimes"
          ],
          [
           "Mary Stuart: Celebrated Crimes"
          ],
          [
           "Karl Ludwig Sand: Celebrated Crimes"
          ],
          [
           "Urbain Grandier: Celebrated Crimes"
          ],
          [
           "Nisida: Celebrated Crimes"
          ],
          [
           "Derues: Celebrated Crimes"
          ],
          [
           "La Constantin: Celebrated Crimes"
          ],
          [
           "Joan of Naples: Celebrated Crimes"
          ],
          [
           "Man in the Iron Mask (an Essay)"
          ],
          [
           "Martin Guerre: Celebrated Crimes"
          ],
          [
           "Ali Pacha: Celebrated Crimes"
          ],
          [
           "The Countess of Saint Geran: Celebrated Crimes"
          ],
          [
           "Murat: Celebrated Crimes"
          ],
          [
           "Marquise Brinvillier: Celebrated Crimes"
          ],
          [
           "Vaninka: Celebrated Crimes"
          ],
          [
           "Marquise De Ganges: Celebrated Crimes"
          ],
          [
           "The Man in the Iron Mask"
          ],
          [
           "Celebrated Crimes (Complete)"
          ],
          [
           "Marguerite de Valois"
          ],
          [
           "The Prussian Terror"
          ],
          [
           "Widger's Quotations from the Project Gutenberg Editions of Dumas' Celebrated Crimes"
          ],
          [
           "The Princess of Bagdad: A Play In Three Acts"
          ],
          [
           "Captain Paul"
          ],
          [
           "The Sicilian Bandit: From the Volume \"Captain Paul\""
          ],
          [
           "The Corsican Brothers"
          ],
          [
           "The Hero of the People: A Historical Romance of Love, Liberty and Loyalty"
          ],
          [
           "The Mesmerist's Victim"
          ],
          [
           "The Countess of Charny; or, The Execution of King Louis XVI"
          ],
          [
           "The Royal Life Guard; or, the flight of the royal family.: A historical romance of the suppression of the French monarchy"
          ],
          [
           "Taking the Bastile; Or, Pitou the Peasant: A Historical Story of the Great French Revolution"
          ],
          [
           "Balsamo, the Magician; or, The Memoirs of a Physician"
          ],
          [
           "My Memoirs, Vol. I, 1802 to 1821"
          ],
          [
           "The Last Vendée; or, the She-Wolves of Machecoul"
          ],
          [
           "My Memoirs, Vol. II, 1822 to 1825"
          ],
          [
           "My Memoirs, Vol. III, 1826 to 1830"
          ],
          [
           "My Memoirs, Vol. IV, 1830 to 1831"
          ],
          [
           "My Memoirs, Vol. V, 1831 to 1832"
          ],
          [
           "The Wolf-Leader"
          ],
          [
           "My Memoirs, Vol. VI, 1832 to 1833"
          ],
          [
           "The War of Women, Volume 1"
          ],
          [
           "The War of Women, Volume 2"
          ],
          [
           "Index of the Project Gutenberg Works of Alexandre Dumas, [père]"
          ],
          [
           "The Whites and the Blues"
          ],
          [
           "Ascanio"
          ],
          [
           "The Companions of Jehu"
          ],
          [
           "Chicot the Jester"
          ],
          [
           "The Black Tulip"
          ]
         ],
         "hovertemplate": "author=Dumas, Alexandre<br>proj_0=%{x}<br>proj_1=%{y}<br>title=%{customdata[0]}<extra></extra>",
         "legendgroup": "Dumas, Alexandre",
         "marker": {
          "color": "#FE00FA",
          "symbol": "circle"
         },
         "mode": "markers",
         "name": "Dumas, Alexandre",
         "orientation": "v",
         "showlegend": true,
         "type": "scatter",
         "x": [
          12.190224647521973,
          11.986870765686035,
          12.655179977416992,
          11.903855323791504,
          12.187663078308105,
          12.144403457641602,
          11.645402908325195,
          12.677342414855957,
          11.93282413482666,
          12.654563903808594,
          12.579998016357422,
          12.593810081481934,
          11.535935401916504,
          11.66119384765625,
          12.450751304626465,
          11.548974990844727,
          12.454285621643066,
          12.460945129394531,
          11.736627578735352,
          11.841864585876465,
          11.613893508911133,
          12.08115005493164,
          11.695255279541016,
          11.530585289001465,
          11.562621116638184,
          11.344718933105469,
          12.345669746398926,
          11.588082313537598,
          11.620417594909668,
          11.465171813964844,
          11.580438613891602,
          11.621466636657715,
          12.680910110473633,
          12.517887115478516,
          11.878890037536621,
          11.589821815490723,
          4.518673419952393,
          11.21841049194336,
          11.662761688232422,
          11.375636100769043,
          11.519454956054688,
          12.39016342163086,
          12.123115539550781,
          12.308051109313965,
          11.973640441894531,
          11.923567771911621,
          12.239638328552246,
          12.49431324005127,
          11.710684776306152,
          12.447347640991211,
          12.512384414672852,
          12.23906421661377,
          12.507133483886719,
          11.636419296264648,
          12.404633522033691,
          11.76209545135498,
          11.701254844665527,
          11.95224380493164,
          12.159870147705078,
          11.758209228515625,
          11.755141258239746,
          11.899673461914062,
          11.324479103088379
         ],
         "xaxis": "x",
         "y": [
          7.429798603057861,
          7.4875712394714355,
          7.786503791809082,
          7.1272711753845215,
          7.2318878173828125,
          7.579967975616455,
          6.8263630867004395,
          7.640635967254639,
          7.0112128257751465,
          7.7324748039245605,
          7.554047584533691,
          7.568885803222656,
          7.647261619567871,
          7.009714126586914,
          8.031930923461914,
          7.505108833312988,
          8.085453987121582,
          7.975717067718506,
          6.795594692230225,
          6.9902729988098145,
          7.032454490661621,
          7.706867218017578,
          7.570638179779053,
          7.5166096687316895,
          6.920144557952881,
          7.422750949859619,
          7.975803375244141,
          6.959802627563477,
          7.389309883117676,
          7.5090861320495605,
          6.998944282531738,
          7.443927764892578,
          7.683652400970459,
          8.1069974899292,
          7.3920416831970215,
          7.605205059051514,
          7.826731204986572,
          6.972366809844971,
          7.587083339691162,
          6.946718215942383,
          7.587894439697266,
          7.90132474899292,
          7.013987064361572,
          7.851850509643555,
          7.414209842681885,
          7.514137268066406,
          7.40091609954834,
          8.078423500061035,
          6.840045928955078,
          7.972362995147705,
          8.045888900756836,
          7.934547424316406,
          7.963036060333252,
          7.347210884094238,
          7.980006217956543,
          6.888868808746338,
          7.428045749664307,
          7.806610107421875,
          7.35454797744751,
          6.891733169555664,
          7.139688968658447,
          7.466096878051758,
          7.364992141723633
         ],
         "yaxis": "y"
        },
        {
         "customdata": [
          [
           "Apology, Crito, and Phaedo of Socrates"
          ],
          [
           "The Republic"
          ],
          [
           "The Republic"
          ],
          [
           "Critias"
          ],
          [
           "Timaeus"
          ],
          [
           "Lysis"
          ],
          [
           "Charmides"
          ],
          [
           "Laches"
          ],
          [
           "Protagoras"
          ],
          [
           "Euthydemus"
          ],
          [
           "Symposium"
          ],
          [
           "Cratylus"
          ],
          [
           "Ion"
          ],
          [
           "Phaedrus"
          ],
          [
           "Euthyphro"
          ],
          [
           "Meno"
          ],
          [
           "Apology"
          ],
          [
           "Crito"
          ],
          [
           "Phaedo"
          ],
          [
           "Gorgias"
          ],
          [
           "Lesser Hippias"
          ],
          [
           "Alcibiades I"
          ],
          [
           "Alcibiades II"
          ],
          [
           "Eryxias"
          ],
          [
           "Menexenus"
          ],
          [
           "Parmenides"
          ],
          [
           "Theaetetus"
          ],
          [
           "Sophist"
          ],
          [
           "Statesman"
          ],
          [
           "Philebus"
          ],
          [
           "Laws"
          ],
          [
           "The Project Gutenberg Works of Plato: An Index"
          ],
          [
           "The Republic of Plato"
          ]
         ],
         "hovertemplate": "author=Plato<br>proj_0=%{x}<br>proj_1=%{y}<br>title=%{customdata[0]}<extra></extra>",
         "legendgroup": "Plato",
         "marker": {
          "color": "#325A9B",
          "symbol": "circle"
         },
         "mode": "markers",
         "name": "Plato",
         "orientation": "v",
         "showlegend": true,
         "type": "scatter",
         "x": [
          2.898155450820923,
          3.5424740314483643,
          3.4879465103149414,
          2.2825708389282227,
          2.9461865425109863,
          2.3948895931243896,
          2.534409284591675,
          2.190767765045166,
          2.8669021129608154,
          2.3352420330047607,
          2.970254421234131,
          2.7434842586517334,
          2.1398277282714844,
          2.991703748703003,
          2.168452501296997,
          2.278336763381958,
          2.5390827655792236,
          2.1964635848999023,
          2.8982269763946533,
          2.8825972080230713,
          2.2058372497558594,
          2.1353678703308105,
          2.1736371517181396,
          2.167499303817749,
          2.6153361797332764,
          2.6888363361358643,
          2.9295003414154053,
          2.723759889602661,
          2.724371910095215,
          2.8241021633148193,
          2.979649305343628,
          4.8039679527282715,
          3.446068525314331
         ],
         "xaxis": "x",
         "y": [
          5.049136161804199,
          4.8848795890808105,
          4.864293575286865,
          4.749486446380615,
          4.63546085357666,
          5.005476951599121,
          4.796226501464844,
          4.718837261199951,
          4.764113426208496,
          4.802958965301514,
          4.887576103210449,
          4.609878063201904,
          4.843204975128174,
          4.913957595825195,
          4.817316055297852,
          4.789002895355225,
          4.993365287780762,
          4.8650712966918945,
          4.597907066345215,
          4.832482814788818,
          4.8138508796691895,
          4.87679386138916,
          4.8932952880859375,
          4.854427814483643,
          4.791316032409668,
          4.5927300453186035,
          4.877148628234863,
          4.681474685668945,
          4.688163757324219,
          4.660517692565918,
          5.028939247131348,
          7.577375411987305,
          4.889358997344971
         ],
         "yaxis": "y"
        },
        {
         "customdata": [
          [
           "London to Ladysmith via Pretoria"
          ],
          [
           "Liberalism and the Social Problem"
          ],
          [
           "The Works of Winston Churchill: A Linked Index of the Project Gutenberg Editions"
          ],
          [
           "The Dwelling Place of Light — Volume 1"
          ],
          [
           "The Dwelling Place of Light — Volume 2"
          ],
          [
           "The Dwelling Place of Light — Volume 3"
          ],
          [
           "The Dwelling Place of Light — Complete"
          ],
          [
           "Mr. Crewe's Career — Volume 1"
          ],
          [
           "Mr. Crewe's Career — Volume 2"
          ],
          [
           "Mr. Crewe's Career — Volume 3"
          ],
          [
           "Mr. Crewe's Career — Complete"
          ],
          [
           "A Far Country — Volume 1"
          ],
          [
           "A Far Country — Volume 2"
          ],
          [
           "A Far Country — Volume 3"
          ],
          [
           "A Far Country — Complete"
          ],
          [
           "Coniston — Volume 01"
          ],
          [
           "Coniston — Volume 02"
          ],
          [
           "Coniston — Volume 03"
          ],
          [
           "Coniston — Volume 04"
          ],
          [
           "Coniston — Complete"
          ],
          [
           "The Crossing"
          ],
          [
           "Ian Hamilton's March"
          ],
          [
           "Lord Randolph Churchill"
          ],
          [
           "My African Journey"
          ],
          [
           "The River War: An Account of the Reconquest of the Sudan"
          ],
          [
           "Savrola: A Tale of the Revolution in Laurania"
          ],
          [
           "The Inside of the Cup — Volume 01"
          ],
          [
           "The Inside of the Cup — Volume 02"
          ],
          [
           "The Inside of the Cup — Volume 03"
          ],
          [
           "The Inside of the Cup — Volume 04"
          ],
          [
           "The Inside of the Cup — Volume 05"
          ],
          [
           "The Inside of the Cup — Volume 06"
          ],
          [
           "The Inside of the Cup — Volume 07"
          ],
          [
           "The Inside of the Cup — Volume 08"
          ],
          [
           "The Inside of the Cup — Complete"
          ],
          [
           "Richard Carvel — Volume 01"
          ],
          [
           "Richard Carvel — Volume 02"
          ],
          [
           "Richard Carvel — Volume 03"
          ],
          [
           "Richard Carvel — Volume 04"
          ],
          [
           "Richard Carvel — Volume 05"
          ],
          [
           "Richard Carvel — Volume 06"
          ],
          [
           "Richard Carvel — Volume 07"
          ],
          [
           "Richard Carvel — Volume 08"
          ],
          [
           "Richard Carvel — Complete"
          ],
          [
           "A Modern Chronicle — Volume 01"
          ],
          [
           "A Modern Chronicle — Volume 02"
          ],
          [
           "A Modern Chronicle — Volume 03"
          ],
          [
           "A Modern Chronicle — Volume 05"
          ],
          [
           "A Modern Chronicle — Volume 06"
          ],
          [
           "A Modern Chronicle — Complete"
          ],
          [
           "The Celebrity, Volume 01"
          ],
          [
           "The Celebrity, Volume 03"
          ],
          [
           "The Celebrity, Volume 04"
          ],
          [
           "The Celebrity, Complete"
          ],
          [
           "The Crisis — Volume 01"
          ],
          [
           "The Crisis — Volume 02"
          ],
          [
           "The Crisis — Volume 03"
          ],
          [
           "The Crisis — Volume 04"
          ],
          [
           "The Crisis — Volume 05"
          ],
          [
           "The Crisis — Volume 06"
          ],
          [
           "The Crisis — Volume 07"
          ],
          [
           "The Crisis — Volume 08"
          ],
          [
           "The Crisis — Complete"
          ],
          [
           "Dr. Jonathan"
          ],
          [
           "A Traveller in War-Time"
          ],
          [
           "An essay on the American contribution and the democratic idea"
          ],
          [
           "Project Gutenberg Complete Works of Winston Churchill"
          ],
          [
           "Index of the Project Gutenberg Works of Sir Winston Spencer Churchill"
          ],
          [
           "The World Crisis, Volume 1 (of 6)"
          ],
          [
           "Mr. Keegan's Elopement"
          ]
         ],
         "hovertemplate": "author=Churchill, Winston<br>proj_0=%{x}<br>proj_1=%{y}<br>title=%{customdata[0]}<extra></extra>",
         "legendgroup": "Churchill, Winston",
         "marker": {
          "color": "#FEAF16",
          "symbol": "circle"
         },
         "mode": "markers",
         "name": "Churchill, Winston",
         "orientation": "v",
         "showlegend": true,
         "type": "scatter",
         "x": [
          15.319380760192871,
          15.191350936889648,
          4.865017414093018,
          15.725034713745117,
          15.794587135314941,
          15.842135429382324,
          15.780403137207031,
          15.39660930633545,
          15.483833312988281,
          15.469505310058594,
          15.477853775024414,
          15.729747772216797,
          15.913313865661621,
          15.883439064025879,
          15.908439636230469,
          16.314300537109375,
          16.33818817138672,
          16.360286712646484,
          16.306167602539062,
          16.30551528930664,
          15.928849220275879,
          15.847002029418945,
          15.407361030578613,
          15.38822078704834,
          15.593337059020996,
          15.258697509765625,
          16.08053207397461,
          16.02184295654297,
          16.038986206054688,
          15.92736530303955,
          15.971729278564453,
          15.956433296203613,
          15.997950553894043,
          16.040781021118164,
          16.06001091003418,
          15.374500274658203,
          15.329380989074707,
          15.158019065856934,
          15.290146827697754,
          15.334471702575684,
          15.32964038848877,
          15.392220497131348,
          15.304830551147461,
          15.351487159729004,
          15.688653945922852,
          15.691071510314941,
          15.497599601745605,
          15.776131629943848,
          15.594422340393066,
          15.742610931396484,
          15.33570671081543,
          15.288430213928223,
          15.31302547454834,
          15.407708168029785,
          15.466900825500488,
          15.66163158416748,
          15.700489044189453,
          15.683146476745605,
          15.460466384887695,
          15.581836700439453,
          15.502097129821777,
          15.224140167236328,
          15.600394248962402,
          15.71330738067627,
          15.467374801635742,
          15.235404968261719,
          15.89074420928955,
          15.28453254699707,
          15.730424880981445,
          5.230743408203125
         ],
         "xaxis": "x",
         "y": [
          1.6149667501449585,
          2.240762948989868,
          7.6490702629089355,
          2.7068045139312744,
          2.687253475189209,
          1.8014206886291504,
          2.628704786300659,
          2.72104549407959,
          2.7371697425842285,
          2.7031521797180176,
          2.7241246700286865,
          2.626683235168457,
          2.5346362590789795,
          2.8065361976623535,
          2.7850711345672607,
          1.5207716226577759,
          1.521116852760315,
          1.5450172424316406,
          1.4672436714172363,
          1.4944430589675903,
          2.857557535171509,
          1.5245378017425537,
          2.2825846672058105,
          2.36871337890625,
          2.004554510116577,
          2.216449022293091,
          1.3139104843139648,
          1.3722041845321655,
          1.3453935384750366,
          1.4640893936157227,
          1.4180415868759155,
          1.4652098417282104,
          1.3768136501312256,
          1.4811750650405884,
          1.313157320022583,
          1.5140643119812012,
          1.6677782535552979,
          1.7939553260803223,
          1.5964642763137817,
          1.6092252731323242,
          1.604811191558838,
          1.7001901865005493,
          1.6057100296020508,
          1.559422254562378,
          1.7898335456848145,
          1.7647156715393066,
          1.8952773809432983,
          1.9383056163787842,
          1.837711215019226,
          1.9899837970733643,
          2.2217142581939697,
          2.2511494159698486,
          2.2775800228118896,
          2.392648458480835,
          2.081815004348755,
          2.0752692222595215,
          2.3562252521514893,
          2.442164421081543,
          2.382606029510498,
          2.410928249359131,
          1.908565878868103,
          2.151404619216919,
          2.446232318878174,
          1.670040488243103,
          2.4640631675720215,
          2.2411468029022217,
          2.805086135864258,
          2.2737395763397217,
          1.8156304359436035,
          7.252452850341797
         ],
         "yaxis": "y"
        },
        {
         "customdata": [
          [
           "Thoughts of Marcus Aurelius Antoninus"
          ],
          [
           "Meditations"
          ],
          [
           "The Meditations of the Emperor Marcus Aurelius Antoninus: A new rendering based on the Foulis translation of 1742"
          ],
          [
           "Index of the Project Gutenberg Works of Marcus Aurelius Antoninus"
          ],
          [
           "Thoughts of Marcus Aurelius"
          ]
         ],
         "hovertemplate": "author=Marcus Aurelius, Emperor of Rome<br>proj_0=%{x}<br>proj_1=%{y}<br>title=%{customdata[0]}<extra></extra>",
         "legendgroup": "Marcus Aurelius, Emperor of Rome",
         "marker": {
          "color": "#F8A19F",
          "symbol": "circle"
         },
         "mode": "markers",
         "name": "Marcus Aurelius, Emperor of Rome",
         "orientation": "v",
         "showlegend": true,
         "type": "scatter",
         "x": [
          2.556323766708374,
          2.619046926498413,
          2.6668639183044434,
          2.3433985710144043,
          2.5411133766174316
         ],
         "xaxis": "x",
         "y": [
          5.938809871673584,
          5.542520999908447,
          5.6055006980896,
          5.172138214111328,
          5.954607009887695
         ],
         "yaxis": "y"
        },
        {
         "customdata": [
          [
           "The Iliad of Homer: Translated into English Blank Verse by William Cowper"
          ],
          [
           "The Odyssey: Rendered into English prose for the use of those who cannot read the original"
          ],
          [
           "The Odyssey of Homer"
          ],
          [
           "The Iliad"
          ],
          [
           "The Iliad"
          ],
          [
           "The Odyssey of Homer"
          ],
          [
           "Odysseus, the Hero of Ithaca: Adapted from the Third Book of the Primary Schools of Athens, Greece"
          ],
          [
           "The Iliad"
          ],
          [
           "The Odyssey"
          ],
          [
           "The Adventures of Ulysses the Wanderer"
          ],
          [
           "The Odysseys of Homer, together with the shorter poems"
          ],
          [
           "The Iliads of Homer: Translated according to the Greek"
          ],
          [
           "The Iliad"
          ],
          [
           "The Iliad"
          ]
         ],
         "hovertemplate": "author=Homer<br>proj_0=%{x}<br>proj_1=%{y}<br>title=%{customdata[0]}<extra></extra>",
         "legendgroup": "Homer",
         "marker": {
          "color": "#90AD1C",
          "symbol": "circle"
         },
         "mode": "markers",
         "name": "Homer",
         "orientation": "v",
         "showlegend": true,
         "type": "scatter",
         "x": [
          2.251338005065918,
          2.3819708824157715,
          2.1629228591918945,
          2.2213122844696045,
          2.127577781677246,
          2.2621729373931885,
          2.3465487957000732,
          2.1700334548950195,
          2.2436039447784424,
          2.5549745559692383,
          2.203280210494995,
          2.2855353355407715,
          2.227994441986084,
          2.1604621410369873
         ],
         "xaxis": "x",
         "y": [
          6.655287265777588,
          6.462893962860107,
          6.552026271820068,
          6.6112518310546875,
          6.5539021492004395,
          6.611586570739746,
          7.964384078979492,
          6.583191394805908,
          6.615689754486084,
          7.837444305419922,
          6.687860012054443,
          6.701305389404297,
          6.666172981262207,
          6.6224470138549805
         ],
         "yaxis": "y"
        },
        {
         "customdata": [
          [
           "The Declaration of Independence of The United States of America"
          ],
          [
           "Memoir, Correspondence, and Miscellanies, From the Papers of Thomas Jefferson, Volume 1"
          ],
          [
           "Memoir, Correspondence, and Miscellanies, From the Papers of Thomas Jefferson, Volume 2"
          ],
          [
           "Memoir, Correspondence, and Miscellanies, From the Papers of Thomas Jefferson, Volume 3"
          ],
          [
           "Memoir, Correspondence, and Miscellanies, From the Papers of Thomas Jefferson, Volume 4"
          ],
          [
           "The Declaration of Independence of the United States of America"
          ],
          [
           "The Writings of Thomas Jefferson: Library Edition - Vol. 6 (of 20)"
          ],
          [
           "The Memoirs, Correspondence, and Miscellanies, From the Papers of Thomas Jefferson: A Linked Index to the Project Gutenberg Editions"
          ],
          [
           "United States Declaration of Independence"
          ],
          [
           "The Writings of Thomas Jefferson, Vol. 1 (of 9): Being His Autobiography, Correspondence, Reports, Messages, Addresses, and Other Writings, Official and Private"
          ],
          [
           "The Writings of Thomas Jefferson, Vol. 2 (of 9): Being His Autobiography, Correspondence, Reports, Messages, Addresses, and Other Writings, Official and Private"
          ],
          [
           "State of the Union Addresses"
          ],
          [
           "The Writings of Thomas Jefferson, Vol. 3 (of 9): Being His Autobiography, Correspondence, Reports, Messages, Addresses, and Other Writings, Official and Private"
          ],
          [
           "The Writings of Thomas Jefferson, Vol. 4 (of 9): Being His Autobiography, Correspondence, Reports, Messages, Addresses, and Other Writings, Official and Private"
          ],
          [
           "The Writings of Thomas Jefferson, Vol. 5 (of 9): Being His Autobiography, Correspondence, Reports, Messages, Addresses, and Other Writings, Official and Private"
          ],
          [
           "The Writings of Thomas Jefferson, Vol. 6 (of 9): Being His Autobiography, Correspondence, Reports, Messages, Addresses, and Other Writings, Official and Private"
          ],
          [
           "The Writings of Thomas Jefferson, Vol. 7 (of 9): Being His Autobiography, Correspondence, Reports, Messages, Addresses, and Other Writings, Official and Private"
          ],
          [
           "The Writings of Thomas Jefferson, Vol. 8 (of 9): Being His Autobiography, Correspondence, Reports, Messages, Addresses, and Other Writings, Official and Private"
          ],
          [
           "The Writings of Thomas Jefferson, Vol. 9 (of 9): Being His Autobiography, Correspondence, Reports, Messages, Addresses, and Other Writings, Official and Private"
          ]
         ],
         "hovertemplate": "author=Jefferson, Thomas<br>proj_0=%{x}<br>proj_1=%{y}<br>title=%{customdata[0]}<extra></extra>",
         "legendgroup": "Jefferson, Thomas",
         "marker": {
          "color": "#F6222E",
          "symbol": "circle"
         },
         "mode": "markers",
         "name": "Jefferson, Thomas",
         "orientation": "v",
         "showlegend": true,
         "type": "scatter",
         "x": [
          4.911465644836426,
          0.010264021344482899,
          -0.046604666858911514,
          0.03938066586852074,
          -0.0075253951363265514,
          4.851424217224121,
          0.004005633760243654,
          4.8148040771484375,
          4.808269500732422,
          0.002766707679256797,
          0.043534062802791595,
          4.7572550773620605,
          -0.04133075848221779,
          0.0061986432410776615,
          0.12644284963607788,
          -0.013825436122715473,
          -0.076021708548069,
          -0.05186069756746292,
          -0.018718866631388664
         ],
         "xaxis": "x",
         "y": [
          7.732388496398926,
          10.631673812866211,
          10.686272621154785,
          10.571675300598145,
          10.601547241210938,
          8.703200340270996,
          10.662846565246582,
          8.317939758300781,
          7.864533424377441,
          10.610419273376465,
          10.641152381896973,
          8.656631469726562,
          10.6585693359375,
          10.627352714538574,
          10.411954879760742,
          10.550711631774902,
          10.57291030883789,
          10.569168090820312,
          10.657490730285645
         ],
         "yaxis": "y"
        },
        {
         "customdata": [
          [
           "Crome Yellow"
          ],
          [
           "The Defeat of Youth, and Other Poems"
          ],
          [
           "Mortal Coils"
          ],
          [
           "The Burning Wheel"
          ],
          [
           "Leda"
          ],
          [
           "Limbo"
          ],
          [
           "Index of the Project Gutenberg Works of Aldous Huxley"
          ],
          [
           "Antic Hay"
          ],
          [
           "On the Margin: Notes and Essays"
          ],
          [
           "Jonah: Christmas 1917"
          ],
          [
           "Little Mexican & Other Stories"
          ],
          [
           "Selected Poems"
          ]
         ],
         "hovertemplate": "author=Huxley, Aldous<br>proj_0=%{x}<br>proj_1=%{y}<br>title=%{customdata[0]}<extra></extra>",
         "legendgroup": "Huxley, Aldous",
         "marker": {
          "color": "#1CFFCE",
          "symbol": "circle"
         },
         "mode": "markers",
         "name": "Huxley, Aldous",
         "orientation": "v",
         "showlegend": true,
         "type": "scatter",
         "x": [
          6.256569862365723,
          6.15601110458374,
          6.220210075378418,
          5.253421306610107,
          6.187387466430664,
          6.1765923500061035,
          4.894407749176025,
          6.319166660308838,
          6.217949390411377,
          5.059741020202637,
          6.252237796783447,
          6.147670745849609
         ],
         "xaxis": "x",
         "y": [
          8.1449556350708,
          8.006345748901367,
          8.105009078979492,
          7.630367755889893,
          8.1033296585083,
          8.17723560333252,
          7.596276760101318,
          8.237135887145996,
          8.160175323486328,
          7.5635247230529785,
          8.191177368164062,
          8.0150728225708
         ],
         "yaxis": "y"
        },
        {
         "customdata": [
          [
           "Tartuffe; Or, The Hypocrite"
          ],
          [
           "Amphitryon"
          ],
          [
           "The Flying Doctor: (Le Médecin Volant)"
          ],
          [
           "The Jealousy of le Barbouillé: (La Jalousie du Barbouillé)"
          ],
          [
           "Tartuffe; Or, The Hypocrite"
          ],
          [
           "The Middle-Class Gentleman"
          ],
          [
           "The Pretentious Young Ladies"
          ],
          [
           "The Blunderer"
          ],
          [
           "The Love-Tiff"
          ],
          [
           "The Bores: A Comedy in Three Acts"
          ],
          [
           "Sganarelle, or, the Self-Deceived Husband"
          ],
          [
           "Don Garcia of Navarre; Or, the Jealous Prince. A Heroic Comedy in Five Acts."
          ],
          [
           "The School for Husbands"
          ],
          [
           "The Miser"
          ],
          [
           "Monsieur De Pourceaugnac"
          ],
          [
           "The Magnificent Lovers (Les Amants magnifiques)"
          ],
          [
           "The Shopkeeper Turned Gentleman"
          ],
          [
           "The Imaginary Invalid"
          ]
         ],
         "hovertemplate": "author=Molière<br>proj_0=%{x}<br>proj_1=%{y}<br>title=%{customdata[0]}<extra></extra>",
         "legendgroup": "Molière",
         "marker": {
          "color": "#2ED9FF",
          "symbol": "circle"
         },
         "mode": "markers",
         "name": "Molière",
         "orientation": "v",
         "showlegend": true,
         "type": "scatter",
         "x": [
          5.99390172958374,
          6.2131266593933105,
          5.407517910003662,
          5.761857509613037,
          6.002532958984375,
          5.896193981170654,
          6.139583110809326,
          6.07107400894165,
          6.15718412399292,
          6.111910820007324,
          6.132985591888428,
          6.098258018493652,
          6.045294284820557,
          5.9590935707092285,
          5.929654121398926,
          6.06151819229126,
          6.186723709106445,
          5.621016502380371
         ],
         "xaxis": "x",
         "y": [
          7.5687737464904785,
          7.619199275970459,
          7.618302822113037,
          7.6804633140563965,
          7.499921798706055,
          7.653377056121826,
          7.762398719787598,
          7.675635814666748,
          7.7154974937438965,
          7.68949556350708,
          7.6890668869018555,
          7.598937511444092,
          7.703866958618164,
          7.499356269836426,
          7.582468509674072,
          7.690896987915039,
          7.595316410064697,
          7.650644302368164
         ],
         "yaxis": "y"
        },
        {
         "customdata": [
          [
           "Beyond Lies the Wub"
          ],
          [
           "Beyond the Door"
          ],
          [
           "The Crystal Crypt"
          ],
          [
           "The Defenders"
          ],
          [
           "The Gun"
          ],
          [
           "The Skull"
          ],
          [
           "The Eyes Have It"
          ],
          [
           "Second Variety"
          ],
          [
           "The Variable Man"
          ],
          [
           "Mr. Spaceship"
          ],
          [
           "Piper in the Woods"
          ],
          [
           "Tony and the Beetles"
          ],
          [
           "The Hanging Stranger"
          ],
          [
           "Prize ship"
          ]
         ],
         "hovertemplate": "author=Dick, Philip K.<br>proj_0=%{x}<br>proj_1=%{y}<br>title=%{customdata[0]}<extra></extra>",
         "legendgroup": "Dick, Philip K.",
         "marker": {
          "color": "#B10DA1",
          "symbol": "circle"
         },
         "mode": "markers",
         "name": "Dick, Philip K.",
         "orientation": "v",
         "showlegend": true,
         "type": "scatter",
         "x": [
          4.099811553955078,
          4.246952056884766,
          4.075704574584961,
          4.015921115875244,
          4.115015983581543,
          4.1550164222717285,
          4.356114864349365,
          4.088094711303711,
          4.030684471130371,
          4.048436164855957,
          3.930551290512085,
          4.109027862548828,
          4.003579616546631,
          4.215865135192871
         ],
         "xaxis": "x",
         "y": [
          7.638964653015137,
          7.635687351226807,
          7.68699312210083,
          7.6248064041137695,
          7.6076250076293945,
          7.656215667724609,
          7.668398380279541,
          7.68449592590332,
          7.638205528259277,
          7.665743350982666,
          7.762042045593262,
          7.739508152008057,
          7.600635528564453,
          7.713422775268555
         ],
         "yaxis": "y"
        },
        {
         "customdata": [
          [
           "Writings in the United Amateur, 1915-1922"
          ],
          [
           "The Shunned House"
          ],
          [
           "The Dunwich Horror"
          ],
          [
           "The colour out of space"
          ],
          [
           "The call of Cthulhu"
          ],
          [
           "He"
          ],
          [
           "The festival"
          ],
          [
           "The lurking fear"
          ]
         ],
         "hovertemplate": "author=Lovecraft, H. P. (Howard Phillips)<br>proj_0=%{x}<br>proj_1=%{y}<br>title=%{customdata[0]}<extra></extra>",
         "legendgroup": "Lovecraft, H. P. (Howard Phillips)",
         "marker": {
          "color": "#C075A6",
          "symbol": "circle"
         },
         "mode": "markers",
         "name": "Lovecraft, H. P. (Howard Phillips)",
         "orientation": "v",
         "showlegend": true,
         "type": "scatter",
         "x": [
          5.536262035369873,
          5.293724060058594,
          5.3207316398620605,
          5.267486095428467,
          5.301770210266113,
          5.256714344024658,
          5.261905193328857,
          5.283139705657959
         ],
         "xaxis": "x",
         "y": [
          9.025040626525879,
          8.758042335510254,
          8.777057647705078,
          8.706772804260254,
          8.737018585205078,
          8.469236373901367,
          8.375035285949707,
          8.696781158447266
         ],
         "yaxis": "y"
        },
        {
         "customdata": [
          [
           "Lambda"
          ],
          [
           "Deathway"
          ]
         ],
         "hovertemplate": "author=Umer, Tomo<br>proj_0=%{x}<br>proj_1=%{y}<br>title=%{customdata[0]}<extra></extra>",
         "legendgroup": "Umer, Tomo",
         "marker": {
          "color": "#FC1CBF",
          "symbol": "circle"
         },
         "mode": "markers",
         "name": "Umer, Tomo",
         "orientation": "v",
         "showlegend": true,
         "type": "scatter",
         "x": [
          10.922585487365723,
          5.572101593017578
         ],
         "xaxis": "x",
         "y": [
          6.760577201843262,
          6.686334609985352
         ],
         "yaxis": "y"
        }
       ],
       "layout": {
        "height": 800,
        "legend": {
         "title": {
          "text": "author"
         },
         "tracegroupgap": 0
        },
        "margin": {
         "t": 60
        },
        "template": {
         "data": {
          "bar": [
           {
            "error_x": {
             "color": "#2a3f5f"
            },
            "error_y": {
             "color": "#2a3f5f"
            },
            "marker": {
             "line": {
              "color": "#E5ECF6",
              "width": 0.5
             },
             "pattern": {
              "fillmode": "overlay",
              "size": 10,
              "solidity": 0.2
             }
            },
            "type": "bar"
           }
          ],
          "barpolar": [
           {
            "marker": {
             "line": {
              "color": "#E5ECF6",
              "width": 0.5
             },
             "pattern": {
              "fillmode": "overlay",
              "size": 10,
              "solidity": 0.2
             }
            },
            "type": "barpolar"
           }
          ],
          "carpet": [
           {
            "aaxis": {
             "endlinecolor": "#2a3f5f",
             "gridcolor": "white",
             "linecolor": "white",
             "minorgridcolor": "white",
             "startlinecolor": "#2a3f5f"
            },
            "baxis": {
             "endlinecolor": "#2a3f5f",
             "gridcolor": "white",
             "linecolor": "white",
             "minorgridcolor": "white",
             "startlinecolor": "#2a3f5f"
            },
            "type": "carpet"
           }
          ],
          "choropleth": [
           {
            "colorbar": {
             "outlinewidth": 0,
             "ticks": ""
            },
            "type": "choropleth"
           }
          ],
          "contour": [
           {
            "colorbar": {
             "outlinewidth": 0,
             "ticks": ""
            },
            "colorscale": [
             [
              0,
              "#0d0887"
             ],
             [
              0.1111111111111111,
              "#46039f"
             ],
             [
              0.2222222222222222,
              "#7201a8"
             ],
             [
              0.3333333333333333,
              "#9c179e"
             ],
             [
              0.4444444444444444,
              "#bd3786"
             ],
             [
              0.5555555555555556,
              "#d8576b"
             ],
             [
              0.6666666666666666,
              "#ed7953"
             ],
             [
              0.7777777777777778,
              "#fb9f3a"
             ],
             [
              0.8888888888888888,
              "#fdca26"
             ],
             [
              1,
              "#f0f921"
             ]
            ],
            "type": "contour"
           }
          ],
          "contourcarpet": [
           {
            "colorbar": {
             "outlinewidth": 0,
             "ticks": ""
            },
            "type": "contourcarpet"
           }
          ],
          "heatmap": [
           {
            "colorbar": {
             "outlinewidth": 0,
             "ticks": ""
            },
            "colorscale": [
             [
              0,
              "#0d0887"
             ],
             [
              0.1111111111111111,
              "#46039f"
             ],
             [
              0.2222222222222222,
              "#7201a8"
             ],
             [
              0.3333333333333333,
              "#9c179e"
             ],
             [
              0.4444444444444444,
              "#bd3786"
             ],
             [
              0.5555555555555556,
              "#d8576b"
             ],
             [
              0.6666666666666666,
              "#ed7953"
             ],
             [
              0.7777777777777778,
              "#fb9f3a"
             ],
             [
              0.8888888888888888,
              "#fdca26"
             ],
             [
              1,
              "#f0f921"
             ]
            ],
            "type": "heatmap"
           }
          ],
          "heatmapgl": [
           {
            "colorbar": {
             "outlinewidth": 0,
             "ticks": ""
            },
            "colorscale": [
             [
              0,
              "#0d0887"
             ],
             [
              0.1111111111111111,
              "#46039f"
             ],
             [
              0.2222222222222222,
              "#7201a8"
             ],
             [
              0.3333333333333333,
              "#9c179e"
             ],
             [
              0.4444444444444444,
              "#bd3786"
             ],
             [
              0.5555555555555556,
              "#d8576b"
             ],
             [
              0.6666666666666666,
              "#ed7953"
             ],
             [
              0.7777777777777778,
              "#fb9f3a"
             ],
             [
              0.8888888888888888,
              "#fdca26"
             ],
             [
              1,
              "#f0f921"
             ]
            ],
            "type": "heatmapgl"
           }
          ],
          "histogram": [
           {
            "marker": {
             "pattern": {
              "fillmode": "overlay",
              "size": 10,
              "solidity": 0.2
             }
            },
            "type": "histogram"
           }
          ],
          "histogram2d": [
           {
            "colorbar": {
             "outlinewidth": 0,
             "ticks": ""
            },
            "colorscale": [
             [
              0,
              "#0d0887"
             ],
             [
              0.1111111111111111,
              "#46039f"
             ],
             [
              0.2222222222222222,
              "#7201a8"
             ],
             [
              0.3333333333333333,
              "#9c179e"
             ],
             [
              0.4444444444444444,
              "#bd3786"
             ],
             [
              0.5555555555555556,
              "#d8576b"
             ],
             [
              0.6666666666666666,
              "#ed7953"
             ],
             [
              0.7777777777777778,
              "#fb9f3a"
             ],
             [
              0.8888888888888888,
              "#fdca26"
             ],
             [
              1,
              "#f0f921"
             ]
            ],
            "type": "histogram2d"
           }
          ],
          "histogram2dcontour": [
           {
            "colorbar": {
             "outlinewidth": 0,
             "ticks": ""
            },
            "colorscale": [
             [
              0,
              "#0d0887"
             ],
             [
              0.1111111111111111,
              "#46039f"
             ],
             [
              0.2222222222222222,
              "#7201a8"
             ],
             [
              0.3333333333333333,
              "#9c179e"
             ],
             [
              0.4444444444444444,
              "#bd3786"
             ],
             [
              0.5555555555555556,
              "#d8576b"
             ],
             [
              0.6666666666666666,
              "#ed7953"
             ],
             [
              0.7777777777777778,
              "#fb9f3a"
             ],
             [
              0.8888888888888888,
              "#fdca26"
             ],
             [
              1,
              "#f0f921"
             ]
            ],
            "type": "histogram2dcontour"
           }
          ],
          "mesh3d": [
           {
            "colorbar": {
             "outlinewidth": 0,
             "ticks": ""
            },
            "type": "mesh3d"
           }
          ],
          "parcoords": [
           {
            "line": {
             "colorbar": {
              "outlinewidth": 0,
              "ticks": ""
             }
            },
            "type": "parcoords"
           }
          ],
          "pie": [
           {
            "automargin": true,
            "type": "pie"
           }
          ],
          "scatter": [
           {
            "fillpattern": {
             "fillmode": "overlay",
             "size": 10,
             "solidity": 0.2
            },
            "type": "scatter"
           }
          ],
          "scatter3d": [
           {
            "line": {
             "colorbar": {
              "outlinewidth": 0,
              "ticks": ""
             }
            },
            "marker": {
             "colorbar": {
              "outlinewidth": 0,
              "ticks": ""
             }
            },
            "type": "scatter3d"
           }
          ],
          "scattercarpet": [
           {
            "marker": {
             "colorbar": {
              "outlinewidth": 0,
              "ticks": ""
             }
            },
            "type": "scattercarpet"
           }
          ],
          "scattergeo": [
           {
            "marker": {
             "colorbar": {
              "outlinewidth": 0,
              "ticks": ""
             }
            },
            "type": "scattergeo"
           }
          ],
          "scattergl": [
           {
            "marker": {
             "colorbar": {
              "outlinewidth": 0,
              "ticks": ""
             }
            },
            "type": "scattergl"
           }
          ],
          "scattermapbox": [
           {
            "marker": {
             "colorbar": {
              "outlinewidth": 0,
              "ticks": ""
             }
            },
            "type": "scattermapbox"
           }
          ],
          "scatterpolar": [
           {
            "marker": {
             "colorbar": {
              "outlinewidth": 0,
              "ticks": ""
             }
            },
            "type": "scatterpolar"
           }
          ],
          "scatterpolargl": [
           {
            "marker": {
             "colorbar": {
              "outlinewidth": 0,
              "ticks": ""
             }
            },
            "type": "scatterpolargl"
           }
          ],
          "scatterternary": [
           {
            "marker": {
             "colorbar": {
              "outlinewidth": 0,
              "ticks": ""
             }
            },
            "type": "scatterternary"
           }
          ],
          "surface": [
           {
            "colorbar": {
             "outlinewidth": 0,
             "ticks": ""
            },
            "colorscale": [
             [
              0,
              "#0d0887"
             ],
             [
              0.1111111111111111,
              "#46039f"
             ],
             [
              0.2222222222222222,
              "#7201a8"
             ],
             [
              0.3333333333333333,
              "#9c179e"
             ],
             [
              0.4444444444444444,
              "#bd3786"
             ],
             [
              0.5555555555555556,
              "#d8576b"
             ],
             [
              0.6666666666666666,
              "#ed7953"
             ],
             [
              0.7777777777777778,
              "#fb9f3a"
             ],
             [
              0.8888888888888888,
              "#fdca26"
             ],
             [
              1,
              "#f0f921"
             ]
            ],
            "type": "surface"
           }
          ],
          "table": [
           {
            "cells": {
             "fill": {
              "color": "#EBF0F8"
             },
             "line": {
              "color": "white"
             }
            },
            "header": {
             "fill": {
              "color": "#C8D4E3"
             },
             "line": {
              "color": "white"
             }
            },
            "type": "table"
           }
          ]
         },
         "layout": {
          "annotationdefaults": {
           "arrowcolor": "#2a3f5f",
           "arrowhead": 0,
           "arrowwidth": 1
          },
          "autotypenumbers": "strict",
          "coloraxis": {
           "colorbar": {
            "outlinewidth": 0,
            "ticks": ""
           }
          },
          "colorscale": {
           "diverging": [
            [
             0,
             "#8e0152"
            ],
            [
             0.1,
             "#c51b7d"
            ],
            [
             0.2,
             "#de77ae"
            ],
            [
             0.3,
             "#f1b6da"
            ],
            [
             0.4,
             "#fde0ef"
            ],
            [
             0.5,
             "#f7f7f7"
            ],
            [
             0.6,
             "#e6f5d0"
            ],
            [
             0.7,
             "#b8e186"
            ],
            [
             0.8,
             "#7fbc41"
            ],
            [
             0.9,
             "#4d9221"
            ],
            [
             1,
             "#276419"
            ]
           ],
           "sequential": [
            [
             0,
             "#0d0887"
            ],
            [
             0.1111111111111111,
             "#46039f"
            ],
            [
             0.2222222222222222,
             "#7201a8"
            ],
            [
             0.3333333333333333,
             "#9c179e"
            ],
            [
             0.4444444444444444,
             "#bd3786"
            ],
            [
             0.5555555555555556,
             "#d8576b"
            ],
            [
             0.6666666666666666,
             "#ed7953"
            ],
            [
             0.7777777777777778,
             "#fb9f3a"
            ],
            [
             0.8888888888888888,
             "#fdca26"
            ],
            [
             1,
             "#f0f921"
            ]
           ],
           "sequentialminus": [
            [
             0,
             "#0d0887"
            ],
            [
             0.1111111111111111,
             "#46039f"
            ],
            [
             0.2222222222222222,
             "#7201a8"
            ],
            [
             0.3333333333333333,
             "#9c179e"
            ],
            [
             0.4444444444444444,
             "#bd3786"
            ],
            [
             0.5555555555555556,
             "#d8576b"
            ],
            [
             0.6666666666666666,
             "#ed7953"
            ],
            [
             0.7777777777777778,
             "#fb9f3a"
            ],
            [
             0.8888888888888888,
             "#fdca26"
            ],
            [
             1,
             "#f0f921"
            ]
           ]
          },
          "colorway": [
           "#636efa",
           "#EF553B",
           "#00cc96",
           "#ab63fa",
           "#FFA15A",
           "#19d3f3",
           "#FF6692",
           "#B6E880",
           "#FF97FF",
           "#FECB52"
          ],
          "font": {
           "color": "#2a3f5f"
          },
          "geo": {
           "bgcolor": "white",
           "lakecolor": "white",
           "landcolor": "#E5ECF6",
           "showlakes": true,
           "showland": true,
           "subunitcolor": "white"
          },
          "hoverlabel": {
           "align": "left"
          },
          "hovermode": "closest",
          "mapbox": {
           "style": "light"
          },
          "paper_bgcolor": "white",
          "plot_bgcolor": "#E5ECF6",
          "polar": {
           "angularaxis": {
            "gridcolor": "white",
            "linecolor": "white",
            "ticks": ""
           },
           "bgcolor": "#E5ECF6",
           "radialaxis": {
            "gridcolor": "white",
            "linecolor": "white",
            "ticks": ""
           }
          },
          "scene": {
           "xaxis": {
            "backgroundcolor": "#E5ECF6",
            "gridcolor": "white",
            "gridwidth": 2,
            "linecolor": "white",
            "showbackground": true,
            "ticks": "",
            "zerolinecolor": "white"
           },
           "yaxis": {
            "backgroundcolor": "#E5ECF6",
            "gridcolor": "white",
            "gridwidth": 2,
            "linecolor": "white",
            "showbackground": true,
            "ticks": "",
            "zerolinecolor": "white"
           },
           "zaxis": {
            "backgroundcolor": "#E5ECF6",
            "gridcolor": "white",
            "gridwidth": 2,
            "linecolor": "white",
            "showbackground": true,
            "ticks": "",
            "zerolinecolor": "white"
           }
          },
          "shapedefaults": {
           "line": {
            "color": "#2a3f5f"
           }
          },
          "ternary": {
           "aaxis": {
            "gridcolor": "white",
            "linecolor": "white",
            "ticks": ""
           },
           "baxis": {
            "gridcolor": "white",
            "linecolor": "white",
            "ticks": ""
           },
           "bgcolor": "#E5ECF6",
           "caxis": {
            "gridcolor": "white",
            "linecolor": "white",
            "ticks": ""
           }
          },
          "title": {
           "x": 0.05
          },
          "xaxis": {
           "automargin": true,
           "gridcolor": "white",
           "linecolor": "white",
           "ticks": "",
           "title": {
            "standoff": 15
           },
           "zerolinecolor": "white",
           "zerolinewidth": 2
          },
          "yaxis": {
           "automargin": true,
           "gridcolor": "white",
           "linecolor": "white",
           "ticks": "",
           "title": {
            "standoff": 15
           },
           "zerolinecolor": "white",
           "zerolinewidth": 2
          }
         }
        },
        "width": 1200,
        "xaxis": {
         "anchor": "y",
         "domain": [
          0,
          1
         ],
         "title": {
          "text": "proj_0"
         }
        },
        "yaxis": {
         "anchor": "x",
         "domain": [
          0,
          1
         ],
         "title": {
          "text": "proj_1"
         }
        }
       }
      }
     },
     "metadata": {},
     "output_type": "display_data"
    }
   ],
   "source": [
    "fig = px.scatter(data_frame = library_newtext,\n",
    "                 x='proj_0',\n",
    "                 y='proj_1',\n",
    "                 width=1200,\n",
    "                 height=800,\n",
    "                 color= 'author',\n",
    "                 color_discrete_sequence=px.colors.qualitative.Alphabet, #Dark24\n",
    "                 hover_data= ['title']\n",
    "                 )\n",
    "\n",
    "fig.show()"
   ]
  },
  {
   "cell_type": "code",
   "execution_count": 67,
   "metadata": {},
   "outputs": [
    {
     "data": {
      "application/vnd.plotly.v1+json": {
       "config": {
        "plotlyServerURL": "https://plot.ly"
       },
       "data": [
        {
         "customdata": [
          [
           "Apocolocyntosis"
          ],
          [
           "L. Annaeus Seneca on Benefits"
          ],
          [
           "Two Tragedies of Seneca: Medea and The Daughters of Troy: Rendered into English Verse"
          ],
          [
           "Seneca's Morals of a Happy Life, Benefits, Anger and Clemency"
          ],
          [
           "The Tragedies of Seneca: Translated into English Verse, to Which Have Been Appended Comparative Analyses of the Corresponding Greek and Roman Plays, and a Mythological Index"
          ],
          [
           "Index of the Project Gutenberg Works of Lucius Annaeus Seneca"
          ],
          [
           "Minor Dialogues, Together With the Dialogue on Clemency"
          ]
         ],
         "hovertemplate": "color=1.0<br>proj_0=%{x}<br>proj_1=%{y}<br>title=%{customdata[0]}<extra></extra>",
         "legendgroup": "1.0",
         "marker": {
          "color": "#AA0DFE",
          "symbol": "circle"
         },
         "mode": "markers",
         "name": "1.0",
         "orientation": "v",
         "showlegend": true,
         "type": "scatter",
         "x": [
          4.735946178436279,
          5.257321834564209,
          5.097034454345703,
          5.2220354080200195,
          5.173107147216797,
          4.803187370300293,
          5.380982398986816
         ],
         "xaxis": "x",
         "y": [
          7.398473262786865,
          5.8191046714782715,
          6.703240871429443,
          4.744247913360596,
          6.2133355140686035,
          7.504832744598389,
          4.422008037567139
         ],
         "yaxis": "y"
        },
        {
         "customdata": [
          [
           "La Fiammetta"
          ],
          [
           "The Decameron, Volume II"
          ],
          [
           "The Decameron of Giovanni Boccaccio"
          ],
          [
           "The Decameron, Volume I"
          ],
          [
           "The Decameron (Day 1 to Day 5): Containing an hundred pleasant Novels"
          ],
          [
           "The Decameron (Day 6 to Day 10): Containing an hundred pleasant Novels"
          ]
         ],
         "hovertemplate": "color=14.0<br>proj_0=%{x}<br>proj_1=%{y}<br>title=%{customdata[0]}<extra></extra>",
         "legendgroup": "14.0",
         "marker": {
          "color": "#3283FE",
          "symbol": "circle"
         },
         "mode": "markers",
         "name": "14.0",
         "orientation": "v",
         "showlegend": true,
         "type": "scatter",
         "x": [
          2.139000654220581,
          2.9847564697265625,
          3.0435338020324707,
          3.0343313217163086,
          3.0322844982147217,
          2.935948133468628
         ],
         "xaxis": "x",
         "y": [
          4.807031631469727,
          5.347428321838379,
          5.1301116943359375,
          5.013955116271973,
          5.225045680999756,
          5.357232570648193
         ],
         "yaxis": "y"
        },
        {
         "customdata": [
          [
           "Divine Comedy, Longfellow's Translation, Hell"
          ],
          [
           "Divine Comedy, Longfellow's Translation, Purgatory"
          ],
          [
           "Divine Comedy, Longfellow's Translation, Paradise"
          ],
          [
           "Divine Comedy, Longfellow's Translation, Complete"
          ],
          [
           "Divine Comedy, Cary's Translation, Hell"
          ],
          [
           "Divine Comedy, Cary's Translation, Purgatory"
          ],
          [
           "Divine Comedy, Cary's Translation, Paradise"
          ],
          [
           "Divine Comedy, Cary's Translation, Complete"
          ],
          [
           "The Banquet (Il Convito)"
          ],
          [
           "The Divine Comedy, Volume 1, Hell"
          ],
          [
           "The Divine Comedy, Volume 2, Purgatory"
          ],
          [
           "The Divine Comedy, Volume 3, Paradise"
          ],
          [
           "The New Life (La Vita Nuova)"
          ],
          [
           "The Divine Comedy of Dante Alighieri: The Inferno"
          ],
          [
           "The Vision of Dante: A story for little children and a talk to their mothers: (Second Edition)"
          ],
          [
           "The vision of hell.: By Dante Alighieri.; Translated by Rev. Henry Francis Cary, M.A.; and illustrated with the seventy-five designs of Gustave Doré."
          ],
          [
           "The Divine Comedy by Dante, Illustrated, Purgatory, Complete"
          ],
          [
           "The Divine Comedy by Dante, Illustrated, Paradise, Complete"
          ],
          [
           "The divine comedy"
          ]
         ],
         "hovertemplate": "color=13.0<br>proj_0=%{x}<br>proj_1=%{y}<br>title=%{customdata[0]}<extra></extra>",
         "legendgroup": "13.0",
         "marker": {
          "color": "#85660D",
          "symbol": "circle"
         },
         "mode": "markers",
         "name": "13.0",
         "orientation": "v",
         "showlegend": true,
         "type": "scatter",
         "x": [
          7.865645885467529,
          7.958503246307373,
          7.907661437988281,
          7.941707611083984,
          7.930628776550293,
          7.905681133270264,
          7.937646865844727,
          7.866631507873535,
          7.264420509338379,
          7.9046244621276855,
          7.423488140106201,
          7.505233287811279,
          7.196604251861572,
          7.946836471557617,
          4.817612648010254,
          7.857290744781494,
          7.884364604949951,
          7.903935432434082,
          7.907731533050537
         ],
         "xaxis": "x",
         "y": [
          7.701200008392334,
          7.625682830810547,
          7.6708502769470215,
          7.65850830078125,
          7.687586784362793,
          7.70088005065918,
          7.652190208435059,
          7.601456642150879,
          7.729020118713379,
          7.62666130065918,
          7.697334289550781,
          7.647370338439941,
          7.78157377243042,
          7.565019130706787,
          7.9193034172058105,
          7.699555397033691,
          7.668005466461182,
          7.651595592498779,
          7.652351379394531
         ],
         "yaxis": "y"
        },
        {
         "customdata": [
          [
           "Chinese Literature: Comprising the Analects of Confucius, the Sayings of Mencius, the Shi-King, the Travels of Fâ-Hien, and the Sorrows of Han"
          ],
          [
           "The Sayings of Confucius"
          ],
          [
           "The Analects of Confucius (from the Chinese Classics)"
          ],
          [
           "The Wisdom of Confucius: with Critical and Biographical Sketches"
          ],
          [
           "The Sayings of Confucius: A New Translation of the Greater Part of the Confucian Analects"
          ]
         ],
         "hovertemplate": "color=-6.0<br>proj_0=%{x}<br>proj_1=%{y}<br>title=%{customdata[0]}<extra></extra>",
         "legendgroup": "-6.0",
         "marker": {
          "color": "#782AB6",
          "symbol": "circle"
         },
         "mode": "markers",
         "name": "-6.0",
         "orientation": "v",
         "showlegend": true,
         "type": "scatter",
         "x": [
          11.588288307189941,
          4.626617908477783,
          4.586142063140869,
          11.506906509399414,
          5.000260353088379
         ],
         "xaxis": "x",
         "y": [
          7.0709075927734375,
          7.946710109710693,
          7.918423652648926,
          7.150444984436035,
          8.34337043762207
         ],
         "yaxis": "y"
        },
        {
         "customdata": [
          [
           "The Complete Works of William Shakespeare"
          ],
          [
           "Shakespeare's Sonnets"
          ],
          [
           "Venus and Adonis"
          ],
          [
           "King Richard III"
          ],
          [
           "The Sonnets"
          ],
          [
           "The Tragedy of Titus Andronicus"
          ],
          [
           "The Taming of the Shrew"
          ],
          [
           "King John"
          ],
          [
           "The Tragedy of Romeo and Juliet"
          ],
          [
           "The Merchant of Venice"
          ],
          [
           "The Tragedy of Julius Caesar"
          ],
          [
           "As You Like It"
          ],
          [
           "The Tragedy of King Lear"
          ],
          [
           "The Tragedy of Macbeth"
          ],
          [
           "King Richard III"
          ],
          [
           "The Rape of Lucrece"
          ],
          [
           "The Taming of the Shrew"
          ],
          [
           "Romeo and Juliet"
          ],
          [
           "A Midsummer Night's Dream"
          ],
          [
           "The Merchant of Venice"
          ],
          [
           "King Henry IV, the First Part"
          ],
          [
           "Much Ado about Nothing"
          ],
          [
           "The Life of King Henry V"
          ],
          [
           "Julius Caesar"
          ],
          [
           "As You Like It"
          ],
          [
           "Hamlet, Prince of Denmark"
          ],
          [
           "Twelfth Night; Or, What You Will"
          ],
          [
           "Troilus and Cressida"
          ],
          [
           "All's Well That Ends Well"
          ],
          [
           "Othello, the Moor of Venice"
          ],
          [
           "The Tragedy of King Lear"
          ],
          [
           "Macbeth"
          ],
          [
           "Antony and Cleopatra"
          ],
          [
           "The Tragedy of Coriolanus"
          ],
          [
           "The Winter's Tale"
          ],
          [
           "The Tempest"
          ],
          [
           "The Two Noble Kinsmen"
          ],
          [
           "Sir Thomas More"
          ],
          [
           "King Edward III"
          ],
          [
           "Romeo and Juliet"
          ],
          [
           "A Midsummer Night's Dream"
          ],
          [
           "King Henry IV, Part 1"
          ],
          [
           "Julius Caesar"
          ],
          [
           "Hamlet"
          ],
          [
           "King Lear"
          ],
          [
           "Macbeth"
          ],
          [
           "The Winter's Tale"
          ],
          [
           "A Midsummer Night's Dream"
          ],
          [
           "The Merchant of Venice"
          ],
          [
           "Twelfth Night"
          ],
          [
           "Richard II"
          ],
          [
           "Henry IV, Part 1"
          ],
          [
           "Henry V"
          ],
          [
           "Romeo and Juliet"
          ],
          [
           "Julius Caesar"
          ],
          [
           "Macbeth"
          ],
          [
           "Hamlet"
          ],
          [
           "Othello"
          ],
          [
           "Shakespeare's First Folio"
          ],
          [
           "The Tempest: The Works of William Shakespeare [Cambridge Edition] [9 vols.]"
          ],
          [
           "Two Gentlemen of Verona: The Works of William Shakespeare [Cambridge Edition] [9 vols.]"
          ],
          [
           "The Merry Wives of Windsor: The Works of William Shakespeare [Cambridge Edition] [9 vols.]"
          ],
          [
           "Measure for Measure: The Works of William Shakespeare [Cambridge Edition] [9 vols.]"
          ],
          [
           "The Comedy of Errors: The Works of William Shakespeare [Cambridge Edition] [9 vols.]"
          ],
          [
           "Hamlet, Prince of Denmark"
          ],
          [
           "The New Hudson Shakespeare: Julius Cæsar"
          ],
          [
           "The Works of William Shakespeare [Cambridge Edition] [Vol. 2 of 9]"
          ],
          [
           "The Works of William Shakespeare [Cambridge Edition] [Vol. 7 of 9]"
          ],
          [
           "Shakespeare's Tragedy of Romeo and Juliet"
          ],
          [
           "Flowers from Shakespeare's Garden: A Posy from the Plays"
          ]
         ],
         "hovertemplate": "color=16.0<br>proj_0=%{x}<br>proj_1=%{y}<br>title=%{customdata[0]}<extra></extra>",
         "legendgroup": "16.0",
         "marker": {
          "color": "#565656",
          "symbol": "circle"
         },
         "mode": "markers",
         "name": "16.0",
         "orientation": "v",
         "showlegend": true,
         "type": "scatter",
         "x": [
          -3.910946846008301,
          -3.841219902038574,
          -5.038135528564453,
          -4.295622825622559,
          -3.920731544494629,
          -5.115651607513428,
          -3.9423258304595947,
          -4.77838659286499,
          -4.4188055992126465,
          -4.009311199188232,
          -4.080766677856445,
          -4.6208600997924805,
          -3.7855985164642334,
          -3.9245200157165527,
          -4.393875598907471,
          -3.676501989364624,
          -3.9423105716705322,
          -4.590268611907959,
          -4.926884651184082,
          -3.9095940589904785,
          -4.620969295501709,
          -4.096126079559326,
          -5.2929277420043945,
          -4.30696964263916,
          -4.729300498962402,
          -4.202281475067139,
          -4.188419342041016,
          -4.910017013549805,
          -5.286148548126221,
          -5.099733829498291,
          -3.743844509124756,
          -3.9910733699798584,
          -5.061005592346191,
          -5.077279567718506,
          -3.8346471786499023,
          -4.764956951141357,
          -5.260190963745117,
          -5.111472129821777,
          -4.772487163543701,
          -4.32974100112915,
          -4.8206963539123535,
          -4.545619487762451,
          -4.110131740570068,
          -4.255486011505127,
          -3.7600882053375244,
          -3.952195405960083,
          -3.88090181350708,
          -4.2086873054504395,
          -4.107478618621826,
          -4.112264633178711,
          -4.084202289581299,
          -4.07973575592041,
          -4.069608688354492,
          -4.023022651672363,
          -4.200112342834473,
          -4.167176246643066,
          -4.031424522399902,
          -4.065406799316406,
          -3.994783401489258,
          -5.032564640045166,
          -4.888406753540039,
          -5.178220272064209,
          -5.2136616706848145,
          -5.068575382232666,
          -4.9517011642456055,
          -4.796799182891846,
          -4.175819396972656,
          -4.901993751525879,
          -4.473028182983398,
          4.89389181137085
         ],
         "xaxis": "x",
         "y": [
          -1.7810230255126953,
          -0.8783419132232666,
          -0.6969490051269531,
          -0.6780400276184082,
          -0.861699640750885,
          -0.6116882562637329,
          -0.9855021238327026,
          -0.8825219869613647,
          -0.8241609334945679,
          -0.8887119889259338,
          -0.7750661373138428,
          -0.7755119204521179,
          -1.1517285108566284,
          -0.9114055037498474,
          -0.6685888767242432,
          -1.1038188934326172,
          -0.9306725859642029,
          -0.6447725892066956,
          -0.7089337110519409,
          -0.9539601802825928,
          -0.9846726655960083,
          -0.7395633459091187,
          -0.38561734557151794,
          -0.6771224737167358,
          -0.7836740612983704,
          -1.1446082592010498,
          -0.6561455726623535,
          -0.7863094210624695,
          -0.370659738779068,
          -0.6210194826126099,
          -1.102142333984375,
          -0.8443738222122192,
          -0.6979268193244934,
          -0.5779052972793579,
          -1.0341718196868896,
          -0.5444753766059875,
          -0.36601391434669495,
          -0.4464440941810608,
          -0.5403642654418945,
          -0.954906165599823,
          -0.7397687435150146,
          -0.9058607220649719,
          -0.7638295292854309,
          -1.2719364166259766,
          -1.1546133756637573,
          -0.8949633240699768,
          -1.0516551733016968,
          -1.8835493326187134,
          -1.6238948106765747,
          -1.9937535524368286,
          -1.9713902473449707,
          -1.9704619646072388,
          -1.975107192993164,
          -1.9899173974990845,
          -1.9451100826263428,
          -1.9151862859725952,
          -1.9231152534484863,
          -1.9600069522857666,
          -1.8764541149139404,
          -0.5146461725234985,
          -0.49657124280929565,
          -0.4758630394935608,
          -0.40759795904159546,
          -0.585811197757721,
          -0.6750361919403076,
          -0.6698346734046936,
          -1.6347155570983887,
          -0.8052607178688049,
          -0.8238211274147034,
          7.7248759269714355
         ],
         "yaxis": "y"
        },
        {
         "customdata": [
          [
           "Bleak House"
          ],
          [
           "The Tragedy of Pudd'nhead Wilson"
          ],
          [
           "The Green Flag, and Other Stories of War and Sport"
          ],
          [
           "Extract from Captain Stormfield's Visit to Heaven"
          ],
          [
           "Uncle Bernac: A Memory of the Empire"
          ],
          [
           "A Horse's Tale"
          ],
          [
           "The Return of Sherlock Holmes"
          ],
          [
           "The Exploits of Brigadier Gerard"
          ],
          [
           "The Refugees: A Tale of Two Continents"
          ],
          [
           "The Great Shadow and Other Napoleonic Tales"
          ],
          [
           "The Count of Monte Cristo, Illustrated"
          ],
          [
           "A Tramp Abroad"
          ],
          [
           "The Man That Corrupted Hadleyburg"
          ],
          [
           "The Three Musketeers"
          ],
          [
           "Ten Years Later"
          ],
          [
           "Twenty Years After"
          ],
          [
           "The Poison Belt"
          ],
          [
           "Three Ghost Stories"
          ],
          [
           "The Firm of Girdlestone"
          ],
          [
           "The Son of Clemenceau, A Novel of Modern Love and Life"
          ],
          [
           "The Forty-Five Guardsmen"
          ],
          [
           "The Seven Poor Travellers"
          ],
          [
           "The Holly-Tree"
          ],
          [
           "The Lost World"
          ],
          [
           "Great Expectations"
          ],
          [
           "The Perils of Certain English Prisoners"
          ],
          [
           "A Message from the Sea"
          ],
          [
           "Somebody's Luggage"
          ],
          [
           "Doctor Marigold"
          ],
          [
           "Mrs. Lirriper's Lodgings"
          ],
          [
           "The $30,000 Bequest, and Other Stories"
          ],
          [
           "The Wreck of the Golden Mary"
          ],
          [
           "Some Christmas Stories"
          ],
          [
           "The Loving Ballad of Lord Bateman"
          ],
          [
           "Camille (La Dame aux Camilias)"
          ],
          [
           "The New Revelation"
          ],
          [
           "The Adventures of Gerard"
          ],
          [
           "The Adventures of Sherlock Holmes"
          ],
          [
           "The Prince and the Pauper"
          ],
          [
           "Extracts from Adam's Diary, translated from the original ms."
          ],
          [
           "The Vicomte de Bragelonne; Or, Ten Years Later: Being the completion of \"The Three Musketeers\" and \"Twenty Years After\""
          ],
          [
           "A Christmas Carol"
          ],
          [
           "Editorial Wild Oats"
          ],
          [
           "Chapters from My Autobiography"
          ],
          [
           "The Queen's Necklace"
          ],
          [
           "The Cricket on the Hearth"
          ],
          [
           "The Sign of the Four"
          ],
          [
           "A Desert Drama: Being The Tragedy Of The \"Korosko\""
          ],
          [
           "The Return of Sherlock Holmes"
          ],
          [
           "Danger! and Other Stories"
          ],
          [
           "The Magic Fishbone: A Holiday Romance from the Pen of Miss Alice Rainbird, Aged 7"
          ],
          [
           "The Adventure of Wisteria Lodge"
          ],
          [
           "The Adventure of the Cardboard Box"
          ],
          [
           "The Adventure of the Red Circle"
          ],
          [
           "The Adventure of the Bruce-Partington Plans"
          ],
          [
           "The Adventure of the Dying Detective"
          ],
          [
           "The Disappearance of Lady Frances Carfax"
          ],
          [
           "The Adventure of the Devil's Foot"
          ],
          [
           "His Last Bow: An Epilogue of Sherlock Holmes"
          ],
          [
           "A Christmas Carol"
          ],
          [
           "Is Shakespeare Dead?: From My Autobiography"
          ],
          [
           "A Study in Scarlet"
          ],
          [
           "Life on the Mississippi"
          ],
          [
           "The War in South Africa, Its Cause and Conduct"
          ],
          [
           "On the Decay of the Art of Lying"
          ],
          [
           "The Letters of Charles Dickens. Vol. 1, 1833-1856"
          ],
          [
           "The Letters of Charles Dickens. Vol. 2, 1857-1870"
          ],
          [
           "The Letters of Charles Dickens. Vol. 3, 1836-1870"
          ],
          [
           "Bardell v. Pickwick"
          ],
          [
           "The Vicomte De Bragelonne"
          ],
          [
           "The Last of the Legions and Other Tales of Long Ago"
          ],
          [
           "Ten Years Later"
          ],
          [
           "Louise de la Valliere"
          ],
          [
           "The Regent's Daughter"
          ],
          [
           "The Conspirators: The Chevalier d'Harmental"
          ],
          [
           "The Borgias: Celebrated Crimes"
          ],
          [
           "Cenci: Celebrated Crimes"
          ],
          [
           "Massacres of the South (1551-1815): Celebrated Crimes"
          ],
          [
           "Mary Stuart: Celebrated Crimes"
          ],
          [
           "Karl Ludwig Sand: Celebrated Crimes"
          ],
          [
           "Urbain Grandier: Celebrated Crimes"
          ],
          [
           "Nisida: Celebrated Crimes"
          ],
          [
           "Derues: Celebrated Crimes"
          ],
          [
           "La Constantin: Celebrated Crimes"
          ],
          [
           "Joan of Naples: Celebrated Crimes"
          ],
          [
           "Man in the Iron Mask (an Essay)"
          ],
          [
           "Martin Guerre: Celebrated Crimes"
          ],
          [
           "Ali Pacha: Celebrated Crimes"
          ],
          [
           "The Countess of Saint Geran: Celebrated Crimes"
          ],
          [
           "Murat: Celebrated Crimes"
          ],
          [
           "Marquise Brinvillier: Celebrated Crimes"
          ],
          [
           "Vaninka: Celebrated Crimes"
          ],
          [
           "Marquise De Ganges: Celebrated Crimes"
          ],
          [
           "The Man in the Iron Mask"
          ],
          [
           "Celebrated Crimes (Complete)"
          ],
          [
           "Mugby Junction"
          ],
          [
           "Sir Nigel"
          ],
          [
           "The Hound of the Baskervilles"
          ],
          [
           "Personal Recollections of Joan of Arc — Volume 1"
          ],
          [
           "Personal Recollections of Joan of Arc — Volume 2"
          ],
          [
           "The Works of Mark Twain: An Index of all Project Gutenberg Editions"
          ],
          [
           "Following the Equator: A Journey Around the World"
          ],
          [
           "The Stark Munro Letters: Being series of twelve letters written by J. Stark Munro, M.B., to his friend and former fellow-student, Herbert Swanborough, of Lowell, Massachusetts, during the years 1881-1884"
          ],
          [
           "The Captain of the Polestar, and Other Tales"
          ],
          [
           "Tales from Dickens"
          ],
          [
           "A Christmas Carol: The original manuscript"
          ],
          [
           "The Great Boer War"
          ],
          [
           "The Hound of the Baskervilles"
          ],
          [
           "In Defence of Harriet Shelley"
          ],
          [
           "Fenimore Cooper's Literary Offences"
          ],
          [
           "Essays on Paul Bourget"
          ],
          [
           "A Dog's Tale"
          ],
          [
           "Mark Twain's Burlesque Autobiography"
          ],
          [
           "The Innocents Abroad"
          ],
          [
           "Roughing It"
          ],
          [
           "The Gilded Age: A Tale of Today"
          ],
          [
           "The American Claimant"
          ],
          [
           "A Double Barrelled Detective Story"
          ],
          [
           "The Stolen White Elephant"
          ],
          [
           "Some Rambling Notes of an Idle Excursion"
          ],
          [
           "The Facts Concerning the Recent Carnival of Crime in Connecticut"
          ],
          [
           "Alonzo Fitz, and Other Stories"
          ],
          [
           "Those Extraordinary Twins"
          ],
          [
           "The Mysterious Stranger, and Other Stories"
          ],
          [
           "Christian Science"
          ],
          [
           "Mark Twain's Speeches"
          ],
          [
           "Sketches New and Old"
          ],
          [
           "1601: Conversation as it was by the Social Fireside in the Time of the Tudors"
          ],
          [
           "The Curious Republic of Gondour, and Other Whimsical Sketches"
          ],
          [
           "Mark Twain's Letters — Volume 1 (1853-1866)"
          ],
          [
           "Mark Twain's Letters — Volume 2 (1867-1875)"
          ],
          [
           "Mark Twain's Letters — Volume 3 (1876-1885)"
          ],
          [
           "Mark Twain's Letters — Volume 4 (1886-1900)"
          ],
          [
           "Mark Twain's Letters — Volume 5 (1901-1906)"
          ],
          [
           "Mark Twain's Letters — Complete (1853-1910)"
          ],
          [
           "The Entire Project Gutenberg Works of Mark Twain"
          ],
          [
           "Dickens' Stories About Children Every Child Can Read"
          ],
          [
           "The Adventures of Huckleberry Finn (Tom Sawyer's Comrade)"
          ],
          [
           "How to Tell a Story, and Other Essays"
          ],
          [
           "The Man That Corrupted Hadleyburg, and Other Stories"
          ],
          [
           "The Great Keinplatz Experiment and Other Tales of Twilight and the Unseen"
          ],
          [
           "The Valley of Fear"
          ],
          [
           "The Treaty With China, its Provisions Explained: New York Tribune, Tuesday, August 28, 1868"
          ],
          [
           "Marguerite de Valois"
          ],
          [
           "The Dealings of Captain Sharkey, and Other Tales of Pirates"
          ],
          [
           "The Man from Archangel, and Other Tales of Adventure"
          ],
          [
           "The Poems and Verses of Charles Dickens"
          ],
          [
           "The Parasite: A Story"
          ],
          [
           "Beyond the City"
          ],
          [
           "The Prussian Terror"
          ],
          [
           "Widger's Quotations from the Project Gutenberg Editions of Dumas' Celebrated Crimes"
          ],
          [
           "Charles Dickens' Children Stories"
          ],
          [
           "The Princess of Bagdad: A Play In Three Acts"
          ],
          [
           "The Cricket on the Hearth: A Fairy Tale of Home"
          ],
          [
           "The Crime of the Congo"
          ],
          [
           "The Valley of Fear"
          ],
          [
           "The Croxley Master: A Great Tale Of The Prize Ring"
          ],
          [
           "The Wanderings of a Spiritualist"
          ],
          [
           "The Battle of Life: A Love Story"
          ],
          [
           "Captain Paul"
          ],
          [
           "The Sicilian Bandit: From the Volume \"Captain Paul\""
          ],
          [
           "The Corsican Brothers"
          ],
          [
           "The German War"
          ],
          [
           "A Child's Dream of a Star"
          ],
          [
           "Round the Red Lamp: Being Facts and Fancies of Medical Life"
          ],
          [
           "The Hero of the People: A Historical Romance of Love, Liberty and Loyalty"
          ],
          [
           "The Mesmerist's Victim"
          ],
          [
           "The Countess of Charny; or, The Execution of King Louis XVI"
          ],
          [
           "The Personal History of David Copperfield"
          ],
          [
           "Scenes and Characters from the Works of Charles Dickens: Being Eight Hundred and Sixty-six Pictures Printed from the Original Wood Blocks"
          ],
          [
           "The Royal Life Guard; or, the flight of the royal family.: A historical romance of the suppression of the French monarchy"
          ],
          [
           "The Vital Message"
          ],
          [
           "Taking the Bastile; Or, Pitou the Peasant: A Historical Story of the Great French Revolution"
          ],
          [
           "Balsamo, the Magician; or, The Memoirs of a Physician"
          ],
          [
           "Oliver Twist; or, The Parish Boy's Progress. Illustrated"
          ],
          [
           "The Coming of the Fairies"
          ],
          [
           "Oliver Twist, Vol. 1 (of 3)"
          ],
          [
           "Oliver Twist, Vol. 2 (of 3)"
          ],
          [
           "The Posthumous Papers of the Pickwick Club, v. 1 (of 2)"
          ],
          [
           "The Posthumous Papers of the Pickwick Club, v. 2 (of 2)"
          ],
          [
           "Adventures of Sherlock Holmes: Illustrated"
          ],
          [
           "My Memoirs, Vol. I, 1802 to 1821"
          ],
          [
           "The Last Vendée; or, the She-Wolves of Machecoul"
          ],
          [
           "The Mysterious Stranger: A Romance"
          ],
          [
           "My Memoirs, Vol. II, 1822 to 1825"
          ],
          [
           "My Memoirs, Vol. III, 1826 to 1830"
          ],
          [
           "My Memoirs, Vol. IV, 1830 to 1831"
          ],
          [
           "My Memoirs, Vol. V, 1831 to 1832"
          ],
          [
           "The Wolf-Leader"
          ],
          [
           "My Memoirs, Vol. VI, 1832 to 1833"
          ],
          [
           "Rodney Stone"
          ],
          [
           "A Duet, with an Occasional Chorus"
          ],
          [
           "The War of Women, Volume 1"
          ],
          [
           "The War of Women, Volume 2"
          ],
          [
           "Through the Magic Door"
          ],
          [
           "Tales of Terror and Mystery"
          ],
          [
           "Round the Fire Stories"
          ],
          [
           "The Mystery of Edwin Drood"
          ],
          [
           "The Innocents Abroad — Volume 01"
          ],
          [
           "The Innocents Abroad — Volume 05"
          ],
          [
           "A Tramp Abroad — Volume 07"
          ],
          [
           "Index of the Project Gutenberg Works of Alexandre Dumas, [père]"
          ],
          [
           "The Pickwick Papers"
          ],
          [
           "Following the Equator: A Journey Around the World. Part 3"
          ],
          [
           "Index of the Project Gutenberg Works of Charles Dickens"
          ],
          [
           "Sketches New and Old, Part 1."
          ],
          [
           "Index of the Project Gutenberg Works of Arthur Conan Doyle"
          ],
          [
           "Master Humphrey's Clock"
          ],
          [
           "The Case for Spirit Photography: With corroborative evidence by experienced researchers and photographers"
          ],
          [
           "The Whites and the Blues"
          ],
          [
           "Merry Tales"
          ],
          [
           "Moments with Mark Twain"
          ],
          [
           "The £1,000,000 bank-note, and other new stories"
          ],
          [
           "To the Person Sitting in Darkness"
          ],
          [
           "King Leopold's Soliloquy: A Defense of His Congo Rule"
          ],
          [
           "The Haunted Man and the Ghost's Bargain"
          ],
          [
           "The British Campaign in France and Flanders, 1914"
          ],
          [
           "The British Campaign in France and Flanders, 1916"
          ],
          [
           "The British Campaign in France and Flanders, 1917"
          ],
          [
           "Pictures from Italy"
          ],
          [
           "The Chimes: A Goblin Story of Some Bells That Rang an Old Year out and a New Year In"
          ],
          [
           "Ascanio"
          ],
          [
           "Memories and Adventures"
          ],
          [
           "The Curse of Eve"
          ],
          [
           "American Notes"
          ],
          [
           "The Battle of Life"
          ],
          [
           "The Cricket on the Hearth: A Fairy Tale of Home"
          ],
          [
           "Europe and elsewhere"
          ],
          [
           "The land of mist"
          ],
          [
           "My friend the murderer, and other mysteries and adventures"
          ],
          [
           "The case-book of Sherlock Holmes"
          ],
          [
           "The case of Oscar Slater"
          ],
          [
           "A Child's History of England"
          ],
          [
           "The Old Curiosity Shop"
          ],
          [
           "The Companions of Jehu"
          ],
          [
           "Adventures of Huckleberry Finn, Chapters 01 to 05"
          ],
          [
           "Adventures of Huckleberry Finn, Chapters 06 to 10"
          ],
          [
           "Adventures of Huckleberry Finn, Chapters 11 to 15"
          ],
          [
           "Adventures of Huckleberry Finn, Chapters 16 to 20"
          ],
          [
           "Adventures of Huckleberry Finn, Chapters 26 to 30"
          ],
          [
           "The Adventures of Tom Sawyer, Part 1."
          ],
          [
           "The Adventures of Tom Sawyer, Part 2."
          ],
          [
           "A Connecticut Yankee in King Arthur's Court, Part 1."
          ],
          [
           "Oliver Twist"
          ],
          [
           "Chicot the Jester"
          ],
          [
           "David Copperfield"
          ],
          [
           "Hard Times"
          ],
          [
           "The Mystery of Cloomber"
          ],
          [
           "Hunted Down: The Detective Stories of Charles Dickens"
          ],
          [
           "Holiday Romance"
          ],
          [
           "George Silverman's Explanation"
          ],
          [
           "Dombey and Son"
          ],
          [
           "Speeches: Literary and Social"
          ],
          [
           "The Memoirs of Sherlock Holmes"
          ],
          [
           "The Doings of Raffles Haw"
          ],
          [
           "Eve's Diary, Complete"
          ],
          [
           "The Last Galley; Impressions and Tales"
          ],
          [
           "Reprinted Pieces"
          ],
          [
           "Sketches by Boz, Illustrative of Every-Day Life and Every-Day People"
          ],
          [
           "Our Mutual Friend"
          ],
          [
           "The White Company"
          ],
          [
           "Mudfog and Other Sketches"
          ],
          [
           "The Uncommercial Traveller"
          ],
          [
           "Sketches of Young Couples"
          ],
          [
           "Barnaby Rudge: A Tale of the Riots of 'Eighty"
          ],
          [
           "Sunday Under Three Heads"
          ],
          [
           "To Be Read at Dusk"
          ],
          [
           "The Lamplighter"
          ],
          [
           "Micah Clarke: His Statement as made to his three grandchildren Joseph, Gervas and Reuben During the Hard Winter of 1734"
          ],
          [
           "Little Dorrit"
          ],
          [
           "The Black Tulip"
          ],
          [
           "Nicholas Nickleby"
          ],
          [
           "Martin Chuzzlewit"
          ]
         ],
         "hovertemplate": "color=19.0<br>proj_0=%{x}<br>proj_1=%{y}<br>title=%{customdata[0]}<extra></extra>",
         "legendgroup": "19.0",
         "marker": {
          "color": "#1C8356",
          "symbol": "circle"
         },
         "mode": "markers",
         "name": "19.0",
         "orientation": "v",
         "showlegend": true,
         "type": "scatter",
         "x": [
          5.561427593231201,
          1.1518045663833618,
          5.110084533691406,
          1.7592366933822632,
          5.592678546905518,
          0.9828452467918396,
          5.176033973693848,
          4.795353412628174,
          5.196652889251709,
          4.790925979614258,
          12.190224647521973,
          -0.3046009838581085,
          1.9023256301879883,
          11.986870765686035,
          12.655179977416992,
          11.903855323791504,
          5.631907939910889,
          5.729276657104492,
          5.429431438446045,
          12.187663078308105,
          12.144403457641602,
          5.778811931610107,
          5.65346097946167,
          4.931117057800293,
          5.524344444274902,
          5.636966705322266,
          5.619538307189941,
          5.812450885772705,
          5.806177139282227,
          5.752957344055176,
          0.12732544541358948,
          5.681803226470947,
          5.605262756347656,
          5.316377639770508,
          11.645402908325195,
          5.57655143737793,
          4.810011863708496,
          5.516113758087158,
          -0.2352229207754135,
          2.362697124481201,
          12.677342414855957,
          5.993795394897461,
          1.7825742959976196,
          0.06023404002189636,
          11.93282413482666,
          5.846592426300049,
          5.378327369689941,
          5.503771781921387,
          5.175914287567139,
          4.864455699920654,
          5.402976989746094,
          5.523582935333252,
          5.484577178955078,
          5.520672798156738,
          5.488641738891602,
          5.580613136291504,
          5.6270623207092285,
          5.51984167098999,
          5.26411247253418,
          6.000882625579834,
          0.6390517950057983,
          5.39478063583374,
          -0.4166755676269531,
          5.051032066345215,
          2.6458537578582764,
          5.653045654296875,
          5.629602432250977,
          5.824758052825928,
          5.754129886627197,
          12.654563903808594,
          5.516024589538574,
          12.579998016357422,
          12.593810081481934,
          11.535935401916504,
          11.66119384765625,
          12.450751304626465,
          11.548974990844727,
          12.454285621643066,
          12.460945129394531,
          11.736627578735352,
          11.841864585876465,
          11.613893508911133,
          12.08115005493164,
          11.695255279541016,
          11.530585289001465,
          11.562621116638184,
          11.344718933105469,
          12.345669746398926,
          11.588082313537598,
          11.620417594909668,
          11.465171813964844,
          11.580438613891602,
          11.621466636657715,
          12.680910110473633,
          12.517887115478516,
          5.496594429016113,
          4.880620002746582,
          4.981978893280029,
          1.2081680297851562,
          0.2439935803413391,
          4.858325958251953,
          -0.37981903553009033,
          5.545636177062988,
          5.042807102203369,
          5.480967044830322,
          5.972206115722656,
          5.147509574890137,
          4.931515693664551,
          1.254043698310852,
          2.0689949989318848,
          1.7338883876800537,
          2.1744954586029053,
          2.2652416229248047,
          -0.39692336320877075,
          0.9359866380691528,
          -0.3355942666530609,
          -0.18536892533302307,
          1.0118290185928345,
          2.048856258392334,
          1.4188300371170044,
          2.1161131858825684,
          0.9224520325660706,
          1.3842965364456177,
          0.22860850393772125,
          0.30197006464004517,
          0.8724287152290344,
          0.9385157227516174,
          1.1752734184265137,
          1.2855030298233032,
          0.6711717247962952,
          0.0792890191078186,
          0.2640397548675537,
          -0.205101877450943,
          0.4276319444179535,
          -0.04469935968518257,
          -0.3983837366104126,
          5.9593095779418945,
          1.202139973640442,
          2.1195905208587646,
          0.31657543778419495,
          5.0821452140808105,
          5.077503204345703,
          2.179788589477539,
          11.878890037536621,
          5.045437335968018,
          5.162155628204346,
          5.522467613220215,
          5.544361114501953,
          5.067261695861816,
          11.589821815490723,
          4.518673419952393,
          5.532469272613525,
          11.21841049194336,
          5.87305212020874,
          5.446568489074707,
          5.133019924163818,
          5.282065391540527,
          5.4434733390808105,
          5.901827812194824,
          11.662761688232422,
          11.375636100769043,
          11.519454956054688,
          5.478900909423828,
          4.856006622314453,
          4.792785167694092,
          12.39016342163086,
          12.123115539550781,
          12.308051109313965,
          6.04272985458374,
          5.628627777099609,
          11.973640441894531,
          5.008260250091553,
          11.923567771911621,
          12.239638328552246,
          6.137537956237793,
          5.117099761962891,
          6.041451454162598,
          5.923034191131592,
          6.119511127471924,
          6.0382280349731445,
          5.504179000854492,
          12.49431324005127,
          11.710684776306152,
          0.3261468708515167,
          12.447347640991211,
          12.512384414672852,
          12.23906421661377,
          12.507133483886719,
          11.636419296264648,
          12.404633522033691,
          5.463053226470947,
          5.343803405761719,
          11.76209545135498,
          11.701254844665527,
          4.837026119232178,
          5.411093235015869,
          5.316336154937744,
          5.509398937225342,
          0.40656498074531555,
          0.5261034369468689,
          0.3360482454299927,
          11.95224380493164,
          6.128385543823242,
          0.3140484690666199,
          5.666095733642578,
          1.2570232152938843,
          5.6322550773620605,
          5.5464653968811035,
          5.577355861663818,
          12.159870147705078,
          0.8720670342445374,
          -0.20115084946155548,
          1.0929707288742065,
          2.197237491607666,
          2.1372873783111572,
          5.713417053222656,
          4.701835632324219,
          4.672299385070801,
          4.704018592834473,
          5.722480297088623,
          5.520248889923096,
          11.758209228515625,
          4.815873622894287,
          5.559755802154541,
          5.855090141296387,
          5.877523422241211,
          5.8832173347473145,
          0.14678306877613068,
          5.284201622009277,
          5.14109468460083,
          4.925099849700928,
          5.697608947753906,
          5.745274066925049,
          5.874141216278076,
          11.755141258239746,
          1.6574068069458008,
          1.7045129537582397,
          1.5629558563232422,
          1.1614514589309692,
          1.5209087133407593,
          2.0366499423980713,
          1.3079525232315063,
          1.101288914680481,
          6.031714916229248,
          11.899673461914062,
          6.0187883377075195,
          5.692655086517334,
          5.010348796844482,
          5.775050640106201,
          5.714399337768555,
          5.789073467254639,
          5.571226119995117,
          5.716733932495117,
          5.094611167907715,
          5.243468284606934,
          2.2288575172424316,
          5.588929176330566,
          5.777204513549805,
          5.904970645904541,
          5.592885971069336,
          5.415883541107178,
          5.826216220855713,
          5.861001491546631,
          5.8185811042785645,
          5.714419841766357,
          5.712491035461426,
          5.546773910522461,
          5.459003925323486,
          4.974201679229736,
          5.650264739990234,
          11.324479103088379,
          5.748910427093506,
          5.717391490936279
         ],
         "xaxis": "x",
         "y": [
          4.092268466949463,
          8.657901763916016,
          14.201105117797852,
          8.485919952392578,
          13.830406188964844,
          8.680468559265137,
          14.001103401184082,
          13.603957176208496,
          13.330768585205078,
          13.564181327819824,
          7.429798603057861,
          8.546599388122559,
          8.454571723937988,
          7.4875712394714355,
          7.786503791809082,
          7.1272711753845215,
          13.235553741455078,
          5.062730312347412,
          14.34125804901123,
          7.2318878173828125,
          7.579967975616455,
          5.958929538726807,
          5.7911224365234375,
          13.762524604797363,
          4.143999099731445,
          5.5955491065979,
          5.977372646331787,
          5.618467330932617,
          5.940722942352295,
          5.941615581512451,
          8.604743957519531,
          5.828333377838135,
          5.239264011383057,
          7.058506011962891,
          6.8263630867004395,
          13.2543363571167,
          13.6251220703125,
          14.321742057800293,
          8.571772575378418,
          8.235382080078125,
          7.640635967254639,
          5.298764228820801,
          8.546465873718262,
          8.652473449707031,
          7.0112128257751465,
          4.575489521026611,
          14.170787811279297,
          13.607479095458984,
          14.02013874053955,
          13.70720100402832,
          6.825659275054932,
          13.0347318649292,
          13.013280868530273,
          12.904075622558594,
          12.947480201721191,
          12.862080574035645,
          12.881437301635742,
          12.91714096069336,
          13.428478240966797,
          5.294369220733643,
          8.462870597839355,
          13.957107543945312,
          8.458182334899902,
          13.416827201843262,
          8.176960945129395,
          3.980989933013916,
          4.000643730163574,
          4.946038246154785,
          5.59813117980957,
          7.7324748039245605,
          13.83962345123291,
          7.554047584533691,
          7.568885803222656,
          7.647261619567871,
          7.009714126586914,
          8.031930923461914,
          7.505108833312988,
          8.085453987121582,
          7.975717067718506,
          6.795594692230225,
          6.9902729988098145,
          7.032454490661621,
          7.706867218017578,
          7.570638179779053,
          7.5166096687316895,
          6.920144557952881,
          7.422750949859619,
          7.975803375244141,
          6.959802627563477,
          7.389309883117676,
          7.5090861320495605,
          6.998944282531738,
          7.443927764892578,
          7.683652400970459,
          8.1069974899292,
          4.121846675872803,
          13.434417724609375,
          13.865594863891602,
          8.750341415405273,
          8.553184509277344,
          7.628991603851318,
          8.47927474975586,
          13.728964805603027,
          14.03079605102539,
          4.143694877624512,
          5.325948238372803,
          13.5305757522583,
          13.806197166442871,
          8.5580472946167,
          8.380248069763184,
          8.464945793151855,
          8.326848983764648,
          8.325145721435547,
          8.473416328430176,
          8.459415435791016,
          8.51716423034668,
          8.583032608032227,
          8.643438339233398,
          8.364155769348145,
          8.529797554016113,
          8.320985794067383,
          8.651433944702148,
          8.648106575012207,
          8.715170860290527,
          8.521203994750977,
          8.426685333251953,
          8.480149269104004,
          8.717391014099121,
          8.56993293762207,
          8.74178409576416,
          8.698074340820312,
          8.572047233581543,
          8.582385063171387,
          8.580439567565918,
          8.626379013061523,
          8.513224601745605,
          4.051055908203125,
          8.623930931091309,
          8.34622573852539,
          8.650707244873047,
          13.898955345153809,
          13.710904121398926,
          8.381229400634766,
          7.3920416831970215,
          14.155030250549316,
          13.795038223266602,
          5.742786884307861,
          12.947385787963867,
          13.49450397491455,
          7.605205059051514,
          7.826731204986572,
          5.0163702964782715,
          6.972366809844971,
          4.600417613983154,
          13.176319122314453,
          13.801338195800781,
          13.68115520477295,
          14.206993103027344,
          5.108829975128174,
          7.587083339691162,
          6.946718215942383,
          7.587894439697266,
          13.464409828186035,
          7.5621232986450195,
          13.747570991516113,
          7.90132474899292,
          7.013987064361572,
          7.851850509643555,
          4.019924163818359,
          5.761970520019531,
          7.414209842681885,
          13.32615852355957,
          7.514137268066406,
          7.40091609954834,
          4.335235118865967,
          13.289982795715332,
          4.396889686584473,
          4.258391857147217,
          4.3171586990356445,
          4.228274822235107,
          14.332869529724121,
          8.078423500061035,
          6.840045928955078,
          8.798933982849121,
          7.972362995147705,
          8.045888900756836,
          7.934547424316406,
          7.963036060333252,
          7.347210884094238,
          7.980006217956543,
          14.25355339050293,
          14.204845428466797,
          6.888868808746338,
          7.428045749664307,
          13.663872718811035,
          14.094294548034668,
          14.263969421386719,
          4.619564056396484,
          8.734750747680664,
          8.737265586853027,
          8.685685157775879,
          7.806610107421875,
          4.263943195343018,
          8.773941993713379,
          5.828912734985352,
          8.67596435546875,
          12.776124000549316,
          4.027794361114502,
          13.063309669494629,
          7.35454797744751,
          8.800511360168457,
          8.559276580810547,
          8.423166275024414,
          8.375787734985352,
          8.368215560913086,
          5.580256462097168,
          13.572293281555176,
          13.608089447021484,
          13.658509254455566,
          3.9042611122131348,
          5.208776473999023,
          6.891733169555664,
          13.7774658203125,
          12.76133918762207,
          3.899444103240967,
          5.134430885314941,
          4.5900726318359375,
          8.622627258300781,
          14.14034652709961,
          14.019216537475586,
          13.544665336608887,
          12.829601287841797,
          4.723560333251953,
          4.127487659454346,
          7.139688968658447,
          8.530080795288086,
          8.506020545959473,
          8.650357246398926,
          8.703863143920898,
          8.547110557556152,
          8.454538345336914,
          8.671131134033203,
          8.530430793762207,
          4.277839660644531,
          7.466096878051758,
          3.9368627071380615,
          5.403652667999268,
          13.57598876953125,
          6.0266242027282715,
          5.860255241394043,
          5.943017482757568,
          4.306480407714844,
          3.967451810836792,
          13.928498268127441,
          13.446678161621094,
          8.313759803771973,
          13.888427734375,
          3.921051502227783,
          4.040072441101074,
          4.241858959197998,
          14.148290634155273,
          4.795593738555908,
          3.89670467376709,
          5.008633613586426,
          4.032927513122559,
          5.866744041442871,
          6.53548002243042,
          6.6412529945373535,
          14.103083610534668,
          4.11056661605835,
          7.364992141723633,
          4.0636210441589355,
          4.079775333404541
         ],
         "yaxis": "y"
        },
        {
         "customdata": [
          [
           "Persuasion"
          ],
          [
           "The Life and Adventures of Robinson Crusoe of York, Mariner, Volume 1: With an Account of His Travels Round Three Parts of the Globe,; Written By Himself, in Two Volumes"
          ],
          [
           "From London to Land's End: and Two Letters from the \"Journey through England by a Gentleman\""
          ],
          [
           "The Life and Most Surprising Adventures of Robinson Crusoe, of York, Mariner (1801)"
          ],
          [
           "Love and Freindship [sic]"
          ],
          [
           "Northanger Abbey"
          ],
          [
           "Memoirs of a Cavalier: A Military Journal of the Wars in Germany, and the Wars in England.; From the Year 1632 to the Year 1648."
          ],
          [
           "The Life and Adventures of Robinson Crusoe (1808)"
          ],
          [
           "Pride and Prejudice"
          ],
          [
           "The History of the Remarkable Life of John Sheppard: Containing a Particular Account of His Many Robberies and Escapes"
          ],
          [
           "A Vindication of the Press"
          ],
          [
           "Mansfield Park"
          ],
          [
           "Military Memoirs of Capt. George Carleton"
          ],
          [
           "Memoirs of Major Alexander Ramkins (1718)"
          ],
          [
           "The Complete English Tradesman (1839 ed.)"
          ],
          [
           "Emma"
          ],
          [
           "Sense and Sensibility"
          ],
          [
           "The Declaration of Independence of The United States of America"
          ],
          [
           "Memoir, Correspondence, and Miscellanies, From the Papers of Thomas Jefferson, Volume 1"
          ],
          [
           "Memoir, Correspondence, and Miscellanies, From the Papers of Thomas Jefferson, Volume 2"
          ],
          [
           "Memoir, Correspondence, and Miscellanies, From the Papers of Thomas Jefferson, Volume 3"
          ],
          [
           "Memoir, Correspondence, and Miscellanies, From the Papers of Thomas Jefferson, Volume 4"
          ],
          [
           "History of the Plague in London"
          ],
          [
           "The Declaration of Independence of the United States of America"
          ],
          [
           "Dickory Cronke: The Dumb Philosopher, or, Great Britain's Wonder"
          ],
          [
           "Everybody's Business Is Nobody's Business: Or, Private Abuses, Public Grievances; Exemplified in the Pride, Insolence, and Exorbitant Wages of Our Women, Servants, Footmen, &c."
          ],
          [
           "The Writings of Thomas Jefferson: Library Edition - Vol. 6 (of 20)"
          ],
          [
           "Sense and Sensibility"
          ],
          [
           "Atalantis Major"
          ],
          [
           "The Memoirs, Correspondence, and Miscellanies, From the Papers of Thomas Jefferson: A Linked Index to the Project Gutenberg Editions"
          ],
          [
           "United States Declaration of Independence"
          ],
          [
           "The True-Born Englishman: A Satire"
          ],
          [
           "The Fortunate Mistress (Parts 1 and 2): or a History of the Life of Mademoiselle de Beleau Known by the Name of the Lady Roxana"
          ],
          [
           "The History of the Devil, As Well Ancient as Modern: In Two Parts"
          ],
          [
           "The Complete Project Gutenberg Works of Jane Austen: A Linked Index of all PG Editions of Jane Austen"
          ],
          [
           "An Appeal to Honour and Justice, Though It Be of His Worst Enemies.: Being A True Account of His Conduct in Public Affairs."
          ],
          [
           "An Humble Proposal to the People of England, for the Increase of their Trade, and Encouragement of Their Manufactures: Whether the Present Uncertainty of Affairs Issues in Peace or War"
          ],
          [
           "Second Thoughts are Best: Or a Further Improvement of a Late Scheme to Prevent Street Robberies"
          ],
          [
           "Augusta Triumphans: Or, the Way to Make London the Most Flourishing City in the Universe"
          ],
          [
           "A New Voyage Round the World by a Course Never Sailed Before"
          ],
          [
           "A True Relation of the Apparition of one Mrs. Veal: The Next Day after Her Death, to one Mrs. Bargrave, at Canterbury, the 8th of September, 1705; which Apparition Recommends the Perusal of Drelincourt's Book of Consolations against the Fears of Death"
          ],
          [
           "Reasons Against the Succession of the House of Hanover: With an Enquiry How Far the Abdication of King James, Supposing It to Be Legal, Ought to Affect the Person of the Pretender"
          ],
          [
           "A Seasonable Warning and Caution against the Insinuations of Papists and Jacobites in favour of the Pretender: Being a Letter from an Englishman at the Court of Hanover"
          ],
          [
           "An Answer to a Question that Nobody thinks of, viz., But what if the Queen should Die?"
          ],
          [
           "The Lay-Man's Sermon upon the Late Storm: Held forth at an Honest Coffee-House-Conventicle"
          ],
          [
           "And What if the Pretender should Come?: Or Some Considerations of the Advantages and Real Consequences of the Pretender's Possessing the Crown of Great Britain"
          ],
          [
           "The Fortunes and Misfortunes of the Famous Moll Flanders"
          ],
          [
           "Pride and Prejudice, a play founded on Jane Austen's novel"
          ],
          [
           "A Short Narrative of the Life and Actions of His Grace John, D. of Marlborogh"
          ],
          [
           "A Journal of the Plague Year: Being Observations or Memorials of the Most Remarkable Occurrences, as Well Public as Private, Which Happened in London During the Last Great Visitation in 1665. Written by a Citizen Who Continued All the While in London"
          ],
          [
           "The King of Pirates: Being an Account of the Famous Enterprises of Captain Avery, the Mock King of Madagascar"
          ],
          [
           "A General History of the Pyrates:: from their first rise and settlement in the island of Providence, to the present time"
          ],
          [
           "An Essay Upon Projects"
          ],
          [
           "The Storm. An Essay."
          ],
          [
           "The Letters of Jane Austen: Selected from the compilation of her great nephew, Edward, Lord Bradbourne"
          ],
          [
           "The Storm: or, a Collection of the most Remarkable Casualties and Disasters which Happen'd in the Late Dreadful Tempest, both by Sea and Land"
          ],
          [
           "Pride and Prejudice"
          ],
          [
           "The Writings of Thomas Jefferson, Vol. 1 (of 9): Being His Autobiography, Correspondence, Reports, Messages, Addresses, and Other Writings, Official and Private"
          ],
          [
           "The Writings of Thomas Jefferson, Vol. 2 (of 9): Being His Autobiography, Correspondence, Reports, Messages, Addresses, and Other Writings, Official and Private"
          ],
          [
           "State of the Union Addresses"
          ],
          [
           "The Life and Adventures of Robinson Crusoe"
          ],
          [
           "The History and Remarkable Life of the Truly Honourable Colonel Jacque, Commonly Called Colonel Jack"
          ],
          [
           "The Writings of Thomas Jefferson, Vol. 3 (of 9): Being His Autobiography, Correspondence, Reports, Messages, Addresses, and Other Writings, Official and Private"
          ],
          [
           "The Writings of Thomas Jefferson, Vol. 4 (of 9): Being His Autobiography, Correspondence, Reports, Messages, Addresses, and Other Writings, Official and Private"
          ],
          [
           "The Writings of Thomas Jefferson, Vol. 5 (of 9): Being His Autobiography, Correspondence, Reports, Messages, Addresses, and Other Writings, Official and Private"
          ],
          [
           "The Friendly Daemon, or the Generous Apparition: Being a True Narrative of a Miraculous Cure, Newly Perform'd Upon That Famous Deaf and Dumb Gentleman, Dr. Duncan Campbel, by a Familiar Spirit That Appear'd to Him in a White Surplice, Like a Cathedral Singing Boy"
          ],
          [
           "The Writings of Thomas Jefferson, Vol. 6 (of 9): Being His Autobiography, Correspondence, Reports, Messages, Addresses, and Other Writings, Official and Private"
          ],
          [
           "The Writings of Thomas Jefferson, Vol. 7 (of 9): Being His Autobiography, Correspondence, Reports, Messages, Addresses, and Other Writings, Official and Private"
          ],
          [
           "The Further Adventures of Robinson Crusoe"
          ],
          [
           "The Writings of Thomas Jefferson, Vol. 8 (of 9): Being His Autobiography, Correspondence, Reports, Messages, Addresses, and Other Writings, Official and Private"
          ],
          [
           "The Writings of Thomas Jefferson, Vol. 9 (of 9): Being His Autobiography, Correspondence, Reports, Messages, Addresses, and Other Writings, Official and Private"
          ],
          [
           "The History of the Pyrates. Vol. II.: Containing the lives of Captain Misson, Captain Bowen, Captain Kidd, Captain Tew, Captain Halsey, Captain White, Captain Condent, Captain Bellamy, Captain Fly, Captain Howard, Captain Lewis, Captain Cornelius, Captain Williams, Captain Burgess, Captain North, and their several crews"
          ],
          [
           "The Watsons: By Jane Austen, Concluded by L. Oulton"
          ],
          [
           "The Life, Adventures & Piracies of the Famous Captain Singleton"
          ],
          [
           "Robinson Crusoe, Told to the Children by John Lang"
          ],
          [
           "The Consolidator; or, Memoirs of Sundry Transactions from the World in the Moon"
          ],
          [
           "Lady Susan"
          ],
          [
           "Tour through the Eastern Counties of England, 1722"
          ]
         ],
         "hovertemplate": "color=18.0<br>proj_0=%{x}<br>proj_1=%{y}<br>title=%{customdata[0]}<extra></extra>",
         "legendgroup": "18.0",
         "marker": {
          "color": "#16FF32",
          "symbol": "circle"
         },
         "mode": "markers",
         "name": "18.0",
         "orientation": "v",
         "showlegend": true,
         "type": "scatter",
         "x": [
          6.364521026611328,
          6.4222283363342285,
          6.381735801696777,
          6.452980995178223,
          6.400402069091797,
          6.277629375457764,
          6.188514232635498,
          6.4743852615356445,
          6.504275798797607,
          5.608124256134033,
          5.5278520584106445,
          6.448013782501221,
          6.337820529937744,
          5.768469333648682,
          6.434003829956055,
          6.309393882751465,
          6.495027542114258,
          4.911465644836426,
          0.010264021344482899,
          -0.046604666858911514,
          0.03938066586852074,
          -0.0075253951363265514,
          6.532150745391846,
          4.851424217224121,
          5.495837211608887,
          5.51859712600708,
          0.004005633760243654,
          6.4139580726623535,
          5.577180862426758,
          4.8148040771484375,
          4.808269500732422,
          5.647369384765625,
          6.376067161560059,
          5.804249286651611,
          4.7923431396484375,
          5.683631420135498,
          5.587491989135742,
          5.4319233894348145,
          5.711658477783203,
          6.5522780418396,
          4.986003875732422,
          5.4392547607421875,
          5.402395725250244,
          5.4633636474609375,
          5.53250789642334,
          5.577681541442871,
          6.567237377166748,
          6.016565799713135,
          5.513487339019775,
          6.485554218292236,
          5.99288272857666,
          6.352121829986572,
          6.402060508728027,
          4.895082950592041,
          6.486973285675049,
          6.435434341430664,
          6.528295040130615,
          0.002766707679256797,
          0.043534062802791595,
          4.7572550773620605,
          6.46066951751709,
          6.557415008544922,
          -0.04133075848221779,
          0.0061986432410776615,
          0.12644284963607788,
          5.526493549346924,
          -0.013825436122715473,
          -0.076021708548069,
          6.500087738037109,
          -0.05186069756746292,
          -0.018718866631388664,
          6.387767314910889,
          6.315608978271484,
          6.4790263175964355,
          5.337371826171875,
          6.404378414154053,
          6.213159084320068,
          6.315648078918457
         ],
         "xaxis": "x",
         "y": [
          6.08474588394165,
          11.200573921203613,
          10.762492179870605,
          11.16796875,
          6.078956604003906,
          6.206540107727051,
          10.66878890991211,
          11.275749206542969,
          5.91458797454834,
          9.332155227661133,
          9.448705673217773,
          6.0431342124938965,
          10.760232925415039,
          9.784342765808105,
          10.83206844329834,
          6.173948764801025,
          5.9480485916137695,
          7.732388496398926,
          10.631673812866211,
          10.686272621154785,
          10.571675300598145,
          10.601547241210938,
          11.095447540283203,
          8.703200340270996,
          9.685741424560547,
          9.396113395690918,
          10.662846565246582,
          6.013975143432617,
          9.563188552856445,
          8.317939758300781,
          7.864533424377441,
          9.740050315856934,
          10.773736000061035,
          9.639580726623535,
          7.598001003265381,
          9.53144645690918,
          9.42477035522461,
          9.271921157836914,
          9.37231159210205,
          11.036892890930176,
          7.986284255981445,
          9.302447319030762,
          9.318750381469727,
          9.529772758483887,
          9.292518615722656,
          9.432367324829102,
          11.077386856079102,
          6.9673919677734375,
          9.668375015258789,
          11.061993598937988,
          10.14025592803955,
          10.711910247802734,
          10.812911033630371,
          8.059260368347168,
          5.980426788330078,
          10.729543685913086,
          5.901810169219971,
          10.610419273376465,
          10.641152381896973,
          8.656631469726562,
          11.24401569366455,
          11.136116981506348,
          10.6585693359375,
          10.627352714538574,
          10.411954879760742,
          9.309781074523926,
          10.550711631774902,
          10.57291030883789,
          11.210942268371582,
          10.569168090820312,
          10.657490730285645,
          10.681885719299316,
          6.220487117767334,
          10.942039489746094,
          9.66147232055664,
          10.834887504577637,
          6.2859907150268555,
          10.55008602142334
         ],
         "yaxis": "y"
        },
        {
         "customdata": [
          [
           "Discourses on the First Decade of Titus Livius"
          ],
          [
           "The Prince"
          ],
          [
           "Machiavelli, Volume I"
          ],
          [
           "History of Florence and of the Affairs of Italy: From the Earliest Times to the Death of Lorenzo the Magnificent"
          ],
          [
           "The Prince"
          ]
         ],
         "hovertemplate": "color=15.0<br>proj_0=%{x}<br>proj_1=%{y}<br>title=%{customdata[0]}<extra></extra>",
         "legendgroup": "15.0",
         "marker": {
          "color": "#F7E1A0",
          "symbol": "circle"
         },
         "mode": "markers",
         "name": "15.0",
         "orientation": "v",
         "showlegend": true,
         "type": "scatter",
         "x": [
          5.8816304206848145,
          5.6349358558654785,
          5.347379207611084,
          5.888543605804443,
          5.534304141998291
         ],
         "xaxis": "x",
         "y": [
          10.809798240661621,
          10.134563446044922,
          9.869366645812988,
          10.749845504760742,
          10.399589538574219
         ],
         "yaxis": "y"
        },
        {
         "customdata": [
          [
           "The Orations of Marcus Tullius Cicero, Volume 4"
          ],
          [
           "Cato Maior de Senectute with Introduction and Notes"
          ],
          [
           "Academica"
          ],
          [
           "Cicero's Tusculan Disputations: Also, Treatises On The Nature Of The Gods, And On The Commonwealth"
          ],
          [
           "The Letters of Cicero, Volume 1: The Whole Extant Correspodence in Chronological Order"
          ],
          [
           "Treatises on Friendship and Old Age"
          ],
          [
           "Letters of Marcus Tullius Cicero"
          ],
          [
           "The Academic Questions, Treatise De Finibus, and Tusculan Disputations, of M.T. Cicero, With a Sketch of the Greek Philosophers Mentioned by Cicero"
          ],
          [
           "Speeches against Catilina"
          ],
          [
           "De Officiis"
          ],
          [
           "Cicero: Letters to Atticus, Vol. 2 of 3"
          ],
          [
           "Cicero: Letters to Atticus, Vol. 3 of 3"
          ],
          [
           "The republic of Cicero: Translated from the Latin; and Accompanied With a Critical and Historical Introduction."
          ],
          [
           "Cicero: Letters to Atticus, Vol. 1 of 3"
          ]
         ],
         "hovertemplate": "color=-1.0<br>proj_0=%{x}<br>proj_1=%{y}<br>title=%{customdata[0]}<extra></extra>",
         "legendgroup": "-1.0",
         "marker": {
          "color": "#E2E2E2",
          "symbol": "circle"
         },
         "mode": "markers",
         "name": "-1.0",
         "orientation": "v",
         "showlegend": true,
         "type": "scatter",
         "x": [
          3.570897340774536,
          3.523529291152954,
          3.520955801010132,
          3.4533867835998535,
          3.53688645362854,
          3.4157142639160156,
          3.653208017349243,
          3.517430305480957,
          3.5578911304473877,
          3.472832679748535,
          3.4897725582122803,
          3.4994139671325684,
          2.967111349105835,
          3.461580276489258
         ],
         "xaxis": "x",
         "y": [
          10.357085227966309,
          10.694221496582031,
          10.74130630493164,
          10.552679061889648,
          10.400190353393555,
          10.064705848693848,
          10.27160930633545,
          10.492715835571289,
          10.776638984680176,
          10.800970077514648,
          10.744440078735352,
          10.758506774902344,
          4.452538967132568,
          10.709319114685059
         ],
         "yaxis": "y"
        },
        {
         "customdata": [
          [
           "Apology, Crito, and Phaedo of Socrates"
          ],
          [
           "The Republic"
          ],
          [
           "The Republic"
          ],
          [
           "Critias"
          ],
          [
           "Timaeus"
          ],
          [
           "Lysis"
          ],
          [
           "Charmides"
          ],
          [
           "Laches"
          ],
          [
           "Protagoras"
          ],
          [
           "Euthydemus"
          ],
          [
           "Symposium"
          ],
          [
           "Cratylus"
          ],
          [
           "Ion"
          ],
          [
           "Phaedrus"
          ],
          [
           "Euthyphro"
          ],
          [
           "Meno"
          ],
          [
           "Apology"
          ],
          [
           "Crito"
          ],
          [
           "Phaedo"
          ],
          [
           "Gorgias"
          ],
          [
           "Lesser Hippias"
          ],
          [
           "Alcibiades I"
          ],
          [
           "Alcibiades II"
          ],
          [
           "Eryxias"
          ],
          [
           "Menexenus"
          ],
          [
           "Parmenides"
          ],
          [
           "Theaetetus"
          ],
          [
           "Sophist"
          ],
          [
           "Statesman"
          ],
          [
           "Philebus"
          ],
          [
           "Laws"
          ],
          [
           "The Project Gutenberg Works of Plato: An Index"
          ],
          [
           "The Republic of Plato"
          ]
         ],
         "hovertemplate": "color=-4.0<br>proj_0=%{x}<br>proj_1=%{y}<br>title=%{customdata[0]}<extra></extra>",
         "legendgroup": "-4.0",
         "marker": {
          "color": "#1CBE4F",
          "symbol": "circle"
         },
         "mode": "markers",
         "name": "-4.0",
         "orientation": "v",
         "showlegend": true,
         "type": "scatter",
         "x": [
          2.898155450820923,
          3.5424740314483643,
          3.4879465103149414,
          2.2825708389282227,
          2.9461865425109863,
          2.3948895931243896,
          2.534409284591675,
          2.190767765045166,
          2.8669021129608154,
          2.3352420330047607,
          2.970254421234131,
          2.7434842586517334,
          2.1398277282714844,
          2.991703748703003,
          2.168452501296997,
          2.278336763381958,
          2.5390827655792236,
          2.1964635848999023,
          2.8982269763946533,
          2.8825972080230713,
          2.2058372497558594,
          2.1353678703308105,
          2.1736371517181396,
          2.167499303817749,
          2.6153361797332764,
          2.6888363361358643,
          2.9295003414154053,
          2.723759889602661,
          2.724371910095215,
          2.8241021633148193,
          2.979649305343628,
          4.8039679527282715,
          3.446068525314331
         ],
         "xaxis": "x",
         "y": [
          5.049136161804199,
          4.8848795890808105,
          4.864293575286865,
          4.749486446380615,
          4.63546085357666,
          5.005476951599121,
          4.796226501464844,
          4.718837261199951,
          4.764113426208496,
          4.802958965301514,
          4.887576103210449,
          4.609878063201904,
          4.843204975128174,
          4.913957595825195,
          4.817316055297852,
          4.789002895355225,
          4.993365287780762,
          4.8650712966918945,
          4.597907066345215,
          4.832482814788818,
          4.8138508796691895,
          4.87679386138916,
          4.8932952880859375,
          4.854427814483643,
          4.791316032409668,
          4.5927300453186035,
          4.877148628234863,
          4.681474685668945,
          4.688163757324219,
          4.660517692565918,
          5.028939247131348,
          7.577375411987305,
          4.889358997344971
         ],
         "yaxis": "y"
        },
        {
         "customdata": [
          [
           "London to Ladysmith via Pretoria"
          ],
          [
           "Liberalism and the Social Problem"
          ],
          [
           "Crome Yellow"
          ],
          [
           "The Defeat of Youth, and Other Poems"
          ],
          [
           "Beyond Lies the Wub"
          ],
          [
           "Beyond the Door"
          ],
          [
           "The Crystal Crypt"
          ],
          [
           "The Defenders"
          ],
          [
           "The Works of Winston Churchill: A Linked Index of the Project Gutenberg Editions"
          ],
          [
           "The Gun"
          ],
          [
           "The Skull"
          ],
          [
           "Writings in the United Amateur, 1915-1922"
          ],
          [
           "The Shunned House"
          ],
          [
           "The Eyes Have It"
          ],
          [
           "Second Variety"
          ],
          [
           "The Variable Man"
          ],
          [
           "Mr. Spaceship"
          ],
          [
           "Piper in the Woods"
          ],
          [
           "The Dwelling Place of Light — Volume 1"
          ],
          [
           "The Dwelling Place of Light — Volume 2"
          ],
          [
           "The Dwelling Place of Light — Volume 3"
          ],
          [
           "The Dwelling Place of Light — Complete"
          ],
          [
           "Mr. Crewe's Career — Volume 1"
          ],
          [
           "Mr. Crewe's Career — Volume 2"
          ],
          [
           "Mr. Crewe's Career — Volume 3"
          ],
          [
           "Mr. Crewe's Career — Complete"
          ],
          [
           "A Far Country — Volume 1"
          ],
          [
           "A Far Country — Volume 2"
          ],
          [
           "A Far Country — Volume 3"
          ],
          [
           "A Far Country — Complete"
          ],
          [
           "Coniston — Volume 01"
          ],
          [
           "Coniston — Volume 02"
          ],
          [
           "Coniston — Volume 03"
          ],
          [
           "Coniston — Volume 04"
          ],
          [
           "Coniston — Complete"
          ],
          [
           "The Crossing"
          ],
          [
           "Mortal Coils"
          ],
          [
           "Tony and the Beetles"
          ],
          [
           "Ian Hamilton's March"
          ],
          [
           "The Hanging Stranger"
          ],
          [
           "Lord Randolph Churchill"
          ],
          [
           "My African Journey"
          ],
          [
           "The Burning Wheel"
          ],
          [
           "The River War: An Account of the Reconquest of the Sudan"
          ],
          [
           "Leda"
          ],
          [
           "The Dunwich Horror"
          ],
          [
           "Savrola: A Tale of the Revolution in Laurania"
          ],
          [
           "The Inside of the Cup — Volume 01"
          ],
          [
           "The Inside of the Cup — Volume 02"
          ],
          [
           "The Inside of the Cup — Volume 03"
          ],
          [
           "The Inside of the Cup — Volume 04"
          ],
          [
           "The Inside of the Cup — Volume 05"
          ],
          [
           "The Inside of the Cup — Volume 06"
          ],
          [
           "The Inside of the Cup — Volume 07"
          ],
          [
           "The Inside of the Cup — Volume 08"
          ],
          [
           "The Inside of the Cup — Complete"
          ],
          [
           "Richard Carvel — Volume 01"
          ],
          [
           "Richard Carvel — Volume 02"
          ],
          [
           "Richard Carvel — Volume 03"
          ],
          [
           "Richard Carvel — Volume 04"
          ],
          [
           "Richard Carvel — Volume 05"
          ],
          [
           "Richard Carvel — Volume 06"
          ],
          [
           "Richard Carvel — Volume 07"
          ],
          [
           "Richard Carvel — Volume 08"
          ],
          [
           "Richard Carvel — Complete"
          ],
          [
           "A Modern Chronicle — Volume 01"
          ],
          [
           "A Modern Chronicle — Volume 02"
          ],
          [
           "A Modern Chronicle — Volume 03"
          ],
          [
           "A Modern Chronicle — Volume 05"
          ],
          [
           "A Modern Chronicle — Volume 06"
          ],
          [
           "A Modern Chronicle — Complete"
          ],
          [
           "The Celebrity, Volume 01"
          ],
          [
           "The Celebrity, Volume 03"
          ],
          [
           "The Celebrity, Volume 04"
          ],
          [
           "The Celebrity, Complete"
          ],
          [
           "The Crisis — Volume 01"
          ],
          [
           "The Crisis — Volume 02"
          ],
          [
           "The Crisis — Volume 03"
          ],
          [
           "The Crisis — Volume 04"
          ],
          [
           "The Crisis — Volume 05"
          ],
          [
           "The Crisis — Volume 06"
          ],
          [
           "The Crisis — Volume 07"
          ],
          [
           "The Crisis — Volume 08"
          ],
          [
           "The Crisis — Complete"
          ],
          [
           "Dr. Jonathan"
          ],
          [
           "A Traveller in War-Time"
          ],
          [
           "An essay on the American contribution and the democratic idea"
          ],
          [
           "Project Gutenberg Complete Works of Winston Churchill"
          ],
          [
           "Limbo"
          ],
          [
           "Index of the Project Gutenberg Works of Sir Winston Spencer Churchill"
          ],
          [
           "Index of the Project Gutenberg Works of Aldous Huxley"
          ],
          [
           "The World Crisis, Volume 1 (of 6)"
          ],
          [
           "Antic Hay"
          ],
          [
           "On the Margin: Notes and Essays"
          ],
          [
           "Jonah: Christmas 1917"
          ],
          [
           "Little Mexican & Other Stories"
          ],
          [
           "Selected Poems"
          ],
          [
           "Mr. Keegan's Elopement"
          ],
          [
           "The colour out of space"
          ],
          [
           "The call of Cthulhu"
          ],
          [
           "He"
          ],
          [
           "The festival"
          ],
          [
           "Prize ship"
          ],
          [
           "The lurking fear"
          ]
         ],
         "hovertemplate": "color=20.0<br>proj_0=%{x}<br>proj_1=%{y}<br>title=%{customdata[0]}<extra></extra>",
         "legendgroup": "20.0",
         "marker": {
          "color": "#C4451C",
          "symbol": "circle"
         },
         "mode": "markers",
         "name": "20.0",
         "orientation": "v",
         "showlegend": true,
         "type": "scatter",
         "x": [
          15.319380760192871,
          15.191350936889648,
          6.256569862365723,
          6.15601110458374,
          4.099811553955078,
          4.246952056884766,
          4.075704574584961,
          4.015921115875244,
          4.865017414093018,
          4.115015983581543,
          4.1550164222717285,
          5.536262035369873,
          5.293724060058594,
          4.356114864349365,
          4.088094711303711,
          4.030684471130371,
          4.048436164855957,
          3.930551290512085,
          15.725034713745117,
          15.794587135314941,
          15.842135429382324,
          15.780403137207031,
          15.39660930633545,
          15.483833312988281,
          15.469505310058594,
          15.477853775024414,
          15.729747772216797,
          15.913313865661621,
          15.883439064025879,
          15.908439636230469,
          16.314300537109375,
          16.33818817138672,
          16.360286712646484,
          16.306167602539062,
          16.30551528930664,
          15.928849220275879,
          6.220210075378418,
          4.109027862548828,
          15.847002029418945,
          4.003579616546631,
          15.407361030578613,
          15.38822078704834,
          5.253421306610107,
          15.593337059020996,
          6.187387466430664,
          5.3207316398620605,
          15.258697509765625,
          16.08053207397461,
          16.02184295654297,
          16.038986206054688,
          15.92736530303955,
          15.971729278564453,
          15.956433296203613,
          15.997950553894043,
          16.040781021118164,
          16.06001091003418,
          15.374500274658203,
          15.329380989074707,
          15.158019065856934,
          15.290146827697754,
          15.334471702575684,
          15.32964038848877,
          15.392220497131348,
          15.304830551147461,
          15.351487159729004,
          15.688653945922852,
          15.691071510314941,
          15.497599601745605,
          15.776131629943848,
          15.594422340393066,
          15.742610931396484,
          15.33570671081543,
          15.288430213928223,
          15.31302547454834,
          15.407708168029785,
          15.466900825500488,
          15.66163158416748,
          15.700489044189453,
          15.683146476745605,
          15.460466384887695,
          15.581836700439453,
          15.502097129821777,
          15.224140167236328,
          15.600394248962402,
          15.71330738067627,
          15.467374801635742,
          15.235404968261719,
          15.89074420928955,
          6.1765923500061035,
          15.28453254699707,
          4.894407749176025,
          15.730424880981445,
          6.319166660308838,
          6.217949390411377,
          5.059741020202637,
          6.252237796783447,
          6.147670745849609,
          5.230743408203125,
          5.267486095428467,
          5.301770210266113,
          5.256714344024658,
          5.261905193328857,
          4.215865135192871,
          5.283139705657959
         ],
         "xaxis": "x",
         "y": [
          1.6149667501449585,
          2.240762948989868,
          8.1449556350708,
          8.006345748901367,
          7.638964653015137,
          7.635687351226807,
          7.68699312210083,
          7.6248064041137695,
          7.6490702629089355,
          7.6076250076293945,
          7.656215667724609,
          9.025040626525879,
          8.758042335510254,
          7.668398380279541,
          7.68449592590332,
          7.638205528259277,
          7.665743350982666,
          7.762042045593262,
          2.7068045139312744,
          2.687253475189209,
          1.8014206886291504,
          2.628704786300659,
          2.72104549407959,
          2.7371697425842285,
          2.7031521797180176,
          2.7241246700286865,
          2.626683235168457,
          2.5346362590789795,
          2.8065361976623535,
          2.7850711345672607,
          1.5207716226577759,
          1.521116852760315,
          1.5450172424316406,
          1.4672436714172363,
          1.4944430589675903,
          2.857557535171509,
          8.105009078979492,
          7.739508152008057,
          1.5245378017425537,
          7.600635528564453,
          2.2825846672058105,
          2.36871337890625,
          7.630367755889893,
          2.004554510116577,
          8.1033296585083,
          8.777057647705078,
          2.216449022293091,
          1.3139104843139648,
          1.3722041845321655,
          1.3453935384750366,
          1.4640893936157227,
          1.4180415868759155,
          1.4652098417282104,
          1.3768136501312256,
          1.4811750650405884,
          1.313157320022583,
          1.5140643119812012,
          1.6677782535552979,
          1.7939553260803223,
          1.5964642763137817,
          1.6092252731323242,
          1.604811191558838,
          1.7001901865005493,
          1.6057100296020508,
          1.559422254562378,
          1.7898335456848145,
          1.7647156715393066,
          1.8952773809432983,
          1.9383056163787842,
          1.837711215019226,
          1.9899837970733643,
          2.2217142581939697,
          2.2511494159698486,
          2.2775800228118896,
          2.392648458480835,
          2.081815004348755,
          2.0752692222595215,
          2.3562252521514893,
          2.442164421081543,
          2.382606029510498,
          2.410928249359131,
          1.908565878868103,
          2.151404619216919,
          2.446232318878174,
          1.670040488243103,
          2.4640631675720215,
          2.2411468029022217,
          2.805086135864258,
          8.17723560333252,
          2.2737395763397217,
          7.596276760101318,
          1.8156304359436035,
          8.237135887145996,
          8.160175323486328,
          7.5635247230529785,
          8.191177368164062,
          8.0150728225708,
          7.252452850341797,
          8.706772804260254,
          8.737018585205078,
          8.469236373901367,
          8.375035285949707,
          7.713422775268555,
          8.696781158447266
         ],
         "yaxis": "y"
        },
        {
         "customdata": [
          [
           "Thoughts of Marcus Aurelius Antoninus"
          ],
          [
           "Meditations"
          ],
          [
           "The Meditations of the Emperor Marcus Aurelius Antoninus: A new rendering based on the Foulis translation of 1742"
          ],
          [
           "Index of the Project Gutenberg Works of Marcus Aurelius Antoninus"
          ],
          [
           "Thoughts of Marcus Aurelius"
          ]
         ],
         "hovertemplate": "color=2.0<br>proj_0=%{x}<br>proj_1=%{y}<br>title=%{customdata[0]}<extra></extra>",
         "legendgroup": "2.0",
         "marker": {
          "color": "#DEA0FD",
          "symbol": "circle"
         },
         "mode": "markers",
         "name": "2.0",
         "orientation": "v",
         "showlegend": true,
         "type": "scatter",
         "x": [
          2.556323766708374,
          2.619046926498413,
          2.6668639183044434,
          2.3433985710144043,
          2.5411133766174316
         ],
         "xaxis": "x",
         "y": [
          5.938809871673584,
          5.542520999908447,
          5.6055006980896,
          5.172138214111328,
          5.954607009887695
         ],
         "yaxis": "y"
        },
        {
         "customdata": [
          [
           "The Iliad of Homer: Translated into English Blank Verse by William Cowper"
          ],
          [
           "The Odyssey: Rendered into English prose for the use of those who cannot read the original"
          ],
          [
           "The Odyssey of Homer"
          ],
          [
           "The Iliad"
          ],
          [
           "The Iliad"
          ],
          [
           "The Odyssey of Homer"
          ],
          [
           "Odysseus, the Hero of Ithaca: Adapted from the Third Book of the Primary Schools of Athens, Greece"
          ],
          [
           "The Iliad"
          ],
          [
           "The Odyssey"
          ],
          [
           "The Adventures of Ulysses the Wanderer"
          ],
          [
           "The Odysseys of Homer, together with the shorter poems"
          ],
          [
           "The Iliads of Homer: Translated according to the Greek"
          ],
          [
           "The Iliad"
          ],
          [
           "The Iliad"
          ]
         ],
         "hovertemplate": "color=-7.0<br>proj_0=%{x}<br>proj_1=%{y}<br>title=%{customdata[0]}<extra></extra>",
         "legendgroup": "-7.0",
         "marker": {
          "color": "#FE00FA",
          "symbol": "circle"
         },
         "mode": "markers",
         "name": "-7.0",
         "orientation": "v",
         "showlegend": true,
         "type": "scatter",
         "x": [
          2.251338005065918,
          2.3819708824157715,
          2.1629228591918945,
          2.2213122844696045,
          2.127577781677246,
          2.2621729373931885,
          2.3465487957000732,
          2.1700334548950195,
          2.2436039447784424,
          2.5549745559692383,
          2.203280210494995,
          2.2855353355407715,
          2.227994441986084,
          2.1604621410369873
         ],
         "xaxis": "x",
         "y": [
          6.655287265777588,
          6.462893962860107,
          6.552026271820068,
          6.6112518310546875,
          6.5539021492004395,
          6.611586570739746,
          7.964384078979492,
          6.583191394805908,
          6.615689754486084,
          7.837444305419922,
          6.687860012054443,
          6.701305389404297,
          6.666172981262207,
          6.6224470138549805
         ],
         "yaxis": "y"
        },
        {
         "customdata": [
          [
           "Tartuffe; Or, The Hypocrite"
          ],
          [
           "Amphitryon"
          ],
          [
           "The Flying Doctor: (Le Médecin Volant)"
          ],
          [
           "The Jealousy of le Barbouillé: (La Jalousie du Barbouillé)"
          ],
          [
           "Tartuffe; Or, The Hypocrite"
          ],
          [
           "The Middle-Class Gentleman"
          ],
          [
           "The Pretentious Young Ladies"
          ],
          [
           "The Blunderer"
          ],
          [
           "The Love-Tiff"
          ],
          [
           "The Bores: A Comedy in Three Acts"
          ],
          [
           "Sganarelle, or, the Self-Deceived Husband"
          ],
          [
           "Don Garcia of Navarre; Or, the Jealous Prince. A Heroic Comedy in Five Acts."
          ],
          [
           "The School for Husbands"
          ],
          [
           "The Miser"
          ],
          [
           "Monsieur De Pourceaugnac"
          ],
          [
           "The Magnificent Lovers (Les Amants magnifiques)"
          ],
          [
           "The Shopkeeper Turned Gentleman"
          ],
          [
           "The Imaginary Invalid"
          ]
         ],
         "hovertemplate": "color=17.0<br>proj_0=%{x}<br>proj_1=%{y}<br>title=%{customdata[0]}<extra></extra>",
         "legendgroup": "17.0",
         "marker": {
          "color": "#325A9B",
          "symbol": "circle"
         },
         "mode": "markers",
         "name": "17.0",
         "orientation": "v",
         "showlegend": true,
         "type": "scatter",
         "x": [
          5.99390172958374,
          6.2131266593933105,
          5.407517910003662,
          5.761857509613037,
          6.002532958984375,
          5.896193981170654,
          6.139583110809326,
          6.07107400894165,
          6.15718412399292,
          6.111910820007324,
          6.132985591888428,
          6.098258018493652,
          6.045294284820557,
          5.9590935707092285,
          5.929654121398926,
          6.06151819229126,
          6.186723709106445,
          5.621016502380371
         ],
         "xaxis": "x",
         "y": [
          7.5687737464904785,
          7.619199275970459,
          7.618302822113037,
          7.6804633140563965,
          7.499921798706055,
          7.653377056121826,
          7.762398719787598,
          7.675635814666748,
          7.7154974937438965,
          7.68949556350708,
          7.6890668869018555,
          7.598937511444092,
          7.703866958618164,
          7.499356269836426,
          7.582468509674072,
          7.690896987915039,
          7.595316410064697,
          7.650644302368164
         ],
         "yaxis": "y"
        },
        {
         "customdata": [
          [
           "Lambda"
          ],
          [
           "Deathway"
          ]
         ],
         "hovertemplate": "color=21.0<br>proj_0=%{x}<br>proj_1=%{y}<br>title=%{customdata[0]}<extra></extra>",
         "legendgroup": "21.0",
         "marker": {
          "color": "#FEAF16",
          "symbol": "circle"
         },
         "mode": "markers",
         "name": "21.0",
         "orientation": "v",
         "showlegend": true,
         "type": "scatter",
         "x": [
          10.922585487365723,
          5.572101593017578
         ],
         "xaxis": "x",
         "y": [
          6.760577201843262,
          6.686334609985352
         ],
         "yaxis": "y"
        }
       ],
       "layout": {
        "height": 800,
        "legend": {
         "title": {
          "text": "color"
         },
         "tracegroupgap": 0
        },
        "margin": {
         "t": 60
        },
        "template": {
         "data": {
          "bar": [
           {
            "error_x": {
             "color": "#2a3f5f"
            },
            "error_y": {
             "color": "#2a3f5f"
            },
            "marker": {
             "line": {
              "color": "#E5ECF6",
              "width": 0.5
             },
             "pattern": {
              "fillmode": "overlay",
              "size": 10,
              "solidity": 0.2
             }
            },
            "type": "bar"
           }
          ],
          "barpolar": [
           {
            "marker": {
             "line": {
              "color": "#E5ECF6",
              "width": 0.5
             },
             "pattern": {
              "fillmode": "overlay",
              "size": 10,
              "solidity": 0.2
             }
            },
            "type": "barpolar"
           }
          ],
          "carpet": [
           {
            "aaxis": {
             "endlinecolor": "#2a3f5f",
             "gridcolor": "white",
             "linecolor": "white",
             "minorgridcolor": "white",
             "startlinecolor": "#2a3f5f"
            },
            "baxis": {
             "endlinecolor": "#2a3f5f",
             "gridcolor": "white",
             "linecolor": "white",
             "minorgridcolor": "white",
             "startlinecolor": "#2a3f5f"
            },
            "type": "carpet"
           }
          ],
          "choropleth": [
           {
            "colorbar": {
             "outlinewidth": 0,
             "ticks": ""
            },
            "type": "choropleth"
           }
          ],
          "contour": [
           {
            "colorbar": {
             "outlinewidth": 0,
             "ticks": ""
            },
            "colorscale": [
             [
              0,
              "#0d0887"
             ],
             [
              0.1111111111111111,
              "#46039f"
             ],
             [
              0.2222222222222222,
              "#7201a8"
             ],
             [
              0.3333333333333333,
              "#9c179e"
             ],
             [
              0.4444444444444444,
              "#bd3786"
             ],
             [
              0.5555555555555556,
              "#d8576b"
             ],
             [
              0.6666666666666666,
              "#ed7953"
             ],
             [
              0.7777777777777778,
              "#fb9f3a"
             ],
             [
              0.8888888888888888,
              "#fdca26"
             ],
             [
              1,
              "#f0f921"
             ]
            ],
            "type": "contour"
           }
          ],
          "contourcarpet": [
           {
            "colorbar": {
             "outlinewidth": 0,
             "ticks": ""
            },
            "type": "contourcarpet"
           }
          ],
          "heatmap": [
           {
            "colorbar": {
             "outlinewidth": 0,
             "ticks": ""
            },
            "colorscale": [
             [
              0,
              "#0d0887"
             ],
             [
              0.1111111111111111,
              "#46039f"
             ],
             [
              0.2222222222222222,
              "#7201a8"
             ],
             [
              0.3333333333333333,
              "#9c179e"
             ],
             [
              0.4444444444444444,
              "#bd3786"
             ],
             [
              0.5555555555555556,
              "#d8576b"
             ],
             [
              0.6666666666666666,
              "#ed7953"
             ],
             [
              0.7777777777777778,
              "#fb9f3a"
             ],
             [
              0.8888888888888888,
              "#fdca26"
             ],
             [
              1,
              "#f0f921"
             ]
            ],
            "type": "heatmap"
           }
          ],
          "heatmapgl": [
           {
            "colorbar": {
             "outlinewidth": 0,
             "ticks": ""
            },
            "colorscale": [
             [
              0,
              "#0d0887"
             ],
             [
              0.1111111111111111,
              "#46039f"
             ],
             [
              0.2222222222222222,
              "#7201a8"
             ],
             [
              0.3333333333333333,
              "#9c179e"
             ],
             [
              0.4444444444444444,
              "#bd3786"
             ],
             [
              0.5555555555555556,
              "#d8576b"
             ],
             [
              0.6666666666666666,
              "#ed7953"
             ],
             [
              0.7777777777777778,
              "#fb9f3a"
             ],
             [
              0.8888888888888888,
              "#fdca26"
             ],
             [
              1,
              "#f0f921"
             ]
            ],
            "type": "heatmapgl"
           }
          ],
          "histogram": [
           {
            "marker": {
             "pattern": {
              "fillmode": "overlay",
              "size": 10,
              "solidity": 0.2
             }
            },
            "type": "histogram"
           }
          ],
          "histogram2d": [
           {
            "colorbar": {
             "outlinewidth": 0,
             "ticks": ""
            },
            "colorscale": [
             [
              0,
              "#0d0887"
             ],
             [
              0.1111111111111111,
              "#46039f"
             ],
             [
              0.2222222222222222,
              "#7201a8"
             ],
             [
              0.3333333333333333,
              "#9c179e"
             ],
             [
              0.4444444444444444,
              "#bd3786"
             ],
             [
              0.5555555555555556,
              "#d8576b"
             ],
             [
              0.6666666666666666,
              "#ed7953"
             ],
             [
              0.7777777777777778,
              "#fb9f3a"
             ],
             [
              0.8888888888888888,
              "#fdca26"
             ],
             [
              1,
              "#f0f921"
             ]
            ],
            "type": "histogram2d"
           }
          ],
          "histogram2dcontour": [
           {
            "colorbar": {
             "outlinewidth": 0,
             "ticks": ""
            },
            "colorscale": [
             [
              0,
              "#0d0887"
             ],
             [
              0.1111111111111111,
              "#46039f"
             ],
             [
              0.2222222222222222,
              "#7201a8"
             ],
             [
              0.3333333333333333,
              "#9c179e"
             ],
             [
              0.4444444444444444,
              "#bd3786"
             ],
             [
              0.5555555555555556,
              "#d8576b"
             ],
             [
              0.6666666666666666,
              "#ed7953"
             ],
             [
              0.7777777777777778,
              "#fb9f3a"
             ],
             [
              0.8888888888888888,
              "#fdca26"
             ],
             [
              1,
              "#f0f921"
             ]
            ],
            "type": "histogram2dcontour"
           }
          ],
          "mesh3d": [
           {
            "colorbar": {
             "outlinewidth": 0,
             "ticks": ""
            },
            "type": "mesh3d"
           }
          ],
          "parcoords": [
           {
            "line": {
             "colorbar": {
              "outlinewidth": 0,
              "ticks": ""
             }
            },
            "type": "parcoords"
           }
          ],
          "pie": [
           {
            "automargin": true,
            "type": "pie"
           }
          ],
          "scatter": [
           {
            "fillpattern": {
             "fillmode": "overlay",
             "size": 10,
             "solidity": 0.2
            },
            "type": "scatter"
           }
          ],
          "scatter3d": [
           {
            "line": {
             "colorbar": {
              "outlinewidth": 0,
              "ticks": ""
             }
            },
            "marker": {
             "colorbar": {
              "outlinewidth": 0,
              "ticks": ""
             }
            },
            "type": "scatter3d"
           }
          ],
          "scattercarpet": [
           {
            "marker": {
             "colorbar": {
              "outlinewidth": 0,
              "ticks": ""
             }
            },
            "type": "scattercarpet"
           }
          ],
          "scattergeo": [
           {
            "marker": {
             "colorbar": {
              "outlinewidth": 0,
              "ticks": ""
             }
            },
            "type": "scattergeo"
           }
          ],
          "scattergl": [
           {
            "marker": {
             "colorbar": {
              "outlinewidth": 0,
              "ticks": ""
             }
            },
            "type": "scattergl"
           }
          ],
          "scattermapbox": [
           {
            "marker": {
             "colorbar": {
              "outlinewidth": 0,
              "ticks": ""
             }
            },
            "type": "scattermapbox"
           }
          ],
          "scatterpolar": [
           {
            "marker": {
             "colorbar": {
              "outlinewidth": 0,
              "ticks": ""
             }
            },
            "type": "scatterpolar"
           }
          ],
          "scatterpolargl": [
           {
            "marker": {
             "colorbar": {
              "outlinewidth": 0,
              "ticks": ""
             }
            },
            "type": "scatterpolargl"
           }
          ],
          "scatterternary": [
           {
            "marker": {
             "colorbar": {
              "outlinewidth": 0,
              "ticks": ""
             }
            },
            "type": "scatterternary"
           }
          ],
          "surface": [
           {
            "colorbar": {
             "outlinewidth": 0,
             "ticks": ""
            },
            "colorscale": [
             [
              0,
              "#0d0887"
             ],
             [
              0.1111111111111111,
              "#46039f"
             ],
             [
              0.2222222222222222,
              "#7201a8"
             ],
             [
              0.3333333333333333,
              "#9c179e"
             ],
             [
              0.4444444444444444,
              "#bd3786"
             ],
             [
              0.5555555555555556,
              "#d8576b"
             ],
             [
              0.6666666666666666,
              "#ed7953"
             ],
             [
              0.7777777777777778,
              "#fb9f3a"
             ],
             [
              0.8888888888888888,
              "#fdca26"
             ],
             [
              1,
              "#f0f921"
             ]
            ],
            "type": "surface"
           }
          ],
          "table": [
           {
            "cells": {
             "fill": {
              "color": "#EBF0F8"
             },
             "line": {
              "color": "white"
             }
            },
            "header": {
             "fill": {
              "color": "#C8D4E3"
             },
             "line": {
              "color": "white"
             }
            },
            "type": "table"
           }
          ]
         },
         "layout": {
          "annotationdefaults": {
           "arrowcolor": "#2a3f5f",
           "arrowhead": 0,
           "arrowwidth": 1
          },
          "autotypenumbers": "strict",
          "coloraxis": {
           "colorbar": {
            "outlinewidth": 0,
            "ticks": ""
           }
          },
          "colorscale": {
           "diverging": [
            [
             0,
             "#8e0152"
            ],
            [
             0.1,
             "#c51b7d"
            ],
            [
             0.2,
             "#de77ae"
            ],
            [
             0.3,
             "#f1b6da"
            ],
            [
             0.4,
             "#fde0ef"
            ],
            [
             0.5,
             "#f7f7f7"
            ],
            [
             0.6,
             "#e6f5d0"
            ],
            [
             0.7,
             "#b8e186"
            ],
            [
             0.8,
             "#7fbc41"
            ],
            [
             0.9,
             "#4d9221"
            ],
            [
             1,
             "#276419"
            ]
           ],
           "sequential": [
            [
             0,
             "#0d0887"
            ],
            [
             0.1111111111111111,
             "#46039f"
            ],
            [
             0.2222222222222222,
             "#7201a8"
            ],
            [
             0.3333333333333333,
             "#9c179e"
            ],
            [
             0.4444444444444444,
             "#bd3786"
            ],
            [
             0.5555555555555556,
             "#d8576b"
            ],
            [
             0.6666666666666666,
             "#ed7953"
            ],
            [
             0.7777777777777778,
             "#fb9f3a"
            ],
            [
             0.8888888888888888,
             "#fdca26"
            ],
            [
             1,
             "#f0f921"
            ]
           ],
           "sequentialminus": [
            [
             0,
             "#0d0887"
            ],
            [
             0.1111111111111111,
             "#46039f"
            ],
            [
             0.2222222222222222,
             "#7201a8"
            ],
            [
             0.3333333333333333,
             "#9c179e"
            ],
            [
             0.4444444444444444,
             "#bd3786"
            ],
            [
             0.5555555555555556,
             "#d8576b"
            ],
            [
             0.6666666666666666,
             "#ed7953"
            ],
            [
             0.7777777777777778,
             "#fb9f3a"
            ],
            [
             0.8888888888888888,
             "#fdca26"
            ],
            [
             1,
             "#f0f921"
            ]
           ]
          },
          "colorway": [
           "#636efa",
           "#EF553B",
           "#00cc96",
           "#ab63fa",
           "#FFA15A",
           "#19d3f3",
           "#FF6692",
           "#B6E880",
           "#FF97FF",
           "#FECB52"
          ],
          "font": {
           "color": "#2a3f5f"
          },
          "geo": {
           "bgcolor": "white",
           "lakecolor": "white",
           "landcolor": "#E5ECF6",
           "showlakes": true,
           "showland": true,
           "subunitcolor": "white"
          },
          "hoverlabel": {
           "align": "left"
          },
          "hovermode": "closest",
          "mapbox": {
           "style": "light"
          },
          "paper_bgcolor": "white",
          "plot_bgcolor": "#E5ECF6",
          "polar": {
           "angularaxis": {
            "gridcolor": "white",
            "linecolor": "white",
            "ticks": ""
           },
           "bgcolor": "#E5ECF6",
           "radialaxis": {
            "gridcolor": "white",
            "linecolor": "white",
            "ticks": ""
           }
          },
          "scene": {
           "xaxis": {
            "backgroundcolor": "#E5ECF6",
            "gridcolor": "white",
            "gridwidth": 2,
            "linecolor": "white",
            "showbackground": true,
            "ticks": "",
            "zerolinecolor": "white"
           },
           "yaxis": {
            "backgroundcolor": "#E5ECF6",
            "gridcolor": "white",
            "gridwidth": 2,
            "linecolor": "white",
            "showbackground": true,
            "ticks": "",
            "zerolinecolor": "white"
           },
           "zaxis": {
            "backgroundcolor": "#E5ECF6",
            "gridcolor": "white",
            "gridwidth": 2,
            "linecolor": "white",
            "showbackground": true,
            "ticks": "",
            "zerolinecolor": "white"
           }
          },
          "shapedefaults": {
           "line": {
            "color": "#2a3f5f"
           }
          },
          "ternary": {
           "aaxis": {
            "gridcolor": "white",
            "linecolor": "white",
            "ticks": ""
           },
           "baxis": {
            "gridcolor": "white",
            "linecolor": "white",
            "ticks": ""
           },
           "bgcolor": "#E5ECF6",
           "caxis": {
            "gridcolor": "white",
            "linecolor": "white",
            "ticks": ""
           }
          },
          "title": {
           "x": 0.05
          },
          "xaxis": {
           "automargin": true,
           "gridcolor": "white",
           "linecolor": "white",
           "ticks": "",
           "title": {
            "standoff": 15
           },
           "zerolinecolor": "white",
           "zerolinewidth": 2
          },
          "yaxis": {
           "automargin": true,
           "gridcolor": "white",
           "linecolor": "white",
           "ticks": "",
           "title": {
            "standoff": 15
           },
           "zerolinecolor": "white",
           "zerolinewidth": 2
          }
         }
        },
        "width": 1200,
        "xaxis": {
         "anchor": "y",
         "domain": [
          0,
          1
         ],
         "title": {
          "text": "proj_0"
         }
        },
        "yaxis": {
         "anchor": "x",
         "domain": [
          0,
          1
         ],
         "title": {
          "text": "proj_1"
         }
        }
       }
      }
     },
     "metadata": {},
     "output_type": "display_data"
    }
   ],
   "source": [
    "fig = px.scatter(data_frame = library_newtext,\n",
    "                 x='proj_0',\n",
    "                 y='proj_1',\n",
    "                 width=1200,\n",
    "                 height=800,\n",
    "                 color= library_newtext['authorcentury'].astype('category'),\n",
    "                 color_discrete_sequence=px.colors.qualitative.Alphabet, #Dark24\n",
    "                 hover_data= ['title']\n",
    "                 )\n",
    "\n",
    "fig.show()"
   ]
  },
  {
   "cell_type": "code",
   "execution_count": null,
   "metadata": {},
   "outputs": [],
   "source": []
  }
 ],
 "metadata": {
  "kernelspec": {
   "display_name": "base",
   "language": "python",
   "name": "python3"
  },
  "language_info": {
   "codemirror_mode": {
    "name": "ipython",
    "version": 3
   },
   "file_extension": ".py",
   "mimetype": "text/x-python",
   "name": "python",
   "nbconvert_exporter": "python",
   "pygments_lexer": "ipython3",
   "version": "3.9.12"
  },
  "orig_nbformat": 4
 },
 "nbformat": 4,
 "nbformat_minor": 2
}
