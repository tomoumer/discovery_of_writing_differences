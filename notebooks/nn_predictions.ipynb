{
 "cells": [
  {
   "attachments": {},
   "cell_type": "markdown",
   "metadata": {},
   "source": [
    "# Discovery of Writing Differences - Neural Networks Representation\n",
    "\n",
    "Capstone project by Tomo Umer"
   ]
  },
  {
   "attachments": {},
   "cell_type": "markdown",
   "metadata": {},
   "source": [
    "<img src=\"https://tomoumerdotcom.files.wordpress.com/2022/04/cropped-pho_logo_notext.png\" style=\"width:400px;height:400px;\"/>"
   ]
  },
  {
   "attachments": {},
   "cell_type": "markdown",
   "metadata": {},
   "source": [
    "## Imports"
   ]
  },
  {
   "cell_type": "code",
   "execution_count": 1,
   "metadata": {},
   "outputs": [
    {
     "name": "stderr",
     "output_type": "stream",
     "text": [
      "/Users/tomoumer/opt/anaconda3/envs/huggingface_ds6/lib/python3.11/site-packages/umap/distances.py:1063: NumbaDeprecationWarning: \u001b[1mThe 'nopython' keyword argument was not supplied to the 'numba.jit' decorator. The implicit default value for this argument is currently False, but it will be changed to True in Numba 0.59.0. See https://numba.readthedocs.io/en/stable/reference/deprecation.html#deprecation-of-object-mode-fall-back-behaviour-when-using-jit for details.\u001b[0m\n",
      "  @numba.jit()\n",
      "/Users/tomoumer/opt/anaconda3/envs/huggingface_ds6/lib/python3.11/site-packages/umap/distances.py:1071: NumbaDeprecationWarning: \u001b[1mThe 'nopython' keyword argument was not supplied to the 'numba.jit' decorator. The implicit default value for this argument is currently False, but it will be changed to True in Numba 0.59.0. See https://numba.readthedocs.io/en/stable/reference/deprecation.html#deprecation-of-object-mode-fall-back-behaviour-when-using-jit for details.\u001b[0m\n",
      "  @numba.jit()\n",
      "/Users/tomoumer/opt/anaconda3/envs/huggingface_ds6/lib/python3.11/site-packages/umap/distances.py:1086: NumbaDeprecationWarning: \u001b[1mThe 'nopython' keyword argument was not supplied to the 'numba.jit' decorator. The implicit default value for this argument is currently False, but it will be changed to True in Numba 0.59.0. See https://numba.readthedocs.io/en/stable/reference/deprecation.html#deprecation-of-object-mode-fall-back-behaviour-when-using-jit for details.\u001b[0m\n",
      "  @numba.jit()\n",
      "/Users/tomoumer/opt/anaconda3/envs/huggingface_ds6/lib/python3.11/site-packages/umap/umap_.py:660: NumbaDeprecationWarning: \u001b[1mThe 'nopython' keyword argument was not supplied to the 'numba.jit' decorator. The implicit default value for this argument is currently False, but it will be changed to True in Numba 0.59.0. See https://numba.readthedocs.io/en/stable/reference/deprecation.html#deprecation-of-object-mode-fall-back-behaviour-when-using-jit for details.\u001b[0m\n",
      "  @numba.jit()\n"
     ]
    }
   ],
   "source": [
    "import pandas as pd\n",
    "import numpy as np\n",
    "import re\n",
    "import glob\n",
    "import plotly.express as px\n",
    "import pickle\n",
    "\n",
    "from sklearn.model_selection import train_test_split\n",
    "from sklearn.metrics import accuracy_score, confusion_matrix, classification_report\n",
    "from sklearn.feature_extraction.text import TfidfVectorizer\n",
    "from sklearn.linear_model import LogisticRegression\n",
    "from sklearn.pipeline import Pipeline\n",
    "\n",
    "import matplotlib.pyplot as plt\n",
    "import seaborn as sns\n",
    "from sklearn.neural_network import MLPClassifier, MLPRegressor\n",
    "from sklearn.preprocessing import MaxAbsScaler\n",
    "from copy import deepcopy\n",
    "\n",
    "import umap\n",
    "from scipy import spatial\n",
    "from scipy.cluster.hierarchy import linkage, dendrogram\n",
    "\n",
    "from joblib import dump, load"
   ]
  },
  {
   "attachments": {},
   "cell_type": "markdown",
   "metadata": {},
   "source": [
    "## Reading In the Library and Prep for NN\n",
    "\n",
    "In this part, reading the .pkl file. "
   ]
  },
  {
   "cell_type": "code",
   "execution_count": 2,
   "metadata": {},
   "outputs": [],
   "source": [
    "library_select = pd.read_pickle('../data/library_fixed_author_fifty.pkl')"
   ]
  },
  {
   "cell_type": "code",
   "execution_count": 3,
   "metadata": {},
   "outputs": [
    {
     "data": {
      "text/plain": [
       "(527, 14)"
      ]
     },
     "execution_count": 3,
     "metadata": {},
     "output_type": "execute_result"
    }
   ],
   "source": [
    "library_select.shape"
   ]
  },
  {
   "attachments": {},
   "cell_type": "markdown",
   "metadata": {},
   "source": [
    "just grab the select authors names since they're in the correct order (sorted it in data_exploration)"
   ]
  },
  {
   "cell_type": "code",
   "execution_count": 4,
   "metadata": {},
   "outputs": [],
   "source": [
    "select_authors = list(library_select['author'].unique())"
   ]
  },
  {
   "cell_type": "code",
   "execution_count": 32,
   "metadata": {},
   "outputs": [
    {
     "data": {
      "text/html": [
       "<div>\n",
       "<style scoped>\n",
       "    .dataframe tbody tr th:only-of-type {\n",
       "        vertical-align: middle;\n",
       "    }\n",
       "\n",
       "    .dataframe tbody tr th {\n",
       "        vertical-align: top;\n",
       "    }\n",
       "\n",
       "    .dataframe thead th {\n",
       "        text-align: right;\n",
       "    }\n",
       "</style>\n",
       "<table border=\"1\" class=\"dataframe\">\n",
       "  <thead>\n",
       "    <tr style=\"text-align: right;\">\n",
       "      <th></th>\n",
       "      <th>author</th>\n",
       "      <th>authorcentury</th>\n",
       "      <th>authorcentury_str</th>\n",
       "      <th>author_num</th>\n",
       "    </tr>\n",
       "  </thead>\n",
       "  <tbody>\n",
       "    <tr>\n",
       "      <th>56951</th>\n",
       "      <td>Homer</td>\n",
       "      <td>-7.0</td>\n",
       "      <td>7th century BCE</td>\n",
       "      <td>0</td>\n",
       "    </tr>\n",
       "    <tr>\n",
       "      <th>25850</th>\n",
       "      <td>Confucius</td>\n",
       "      <td>-6.0</td>\n",
       "      <td>6th century BCE</td>\n",
       "      <td>1</td>\n",
       "    </tr>\n",
       "    <tr>\n",
       "      <th>5523</th>\n",
       "      <td>Plato</td>\n",
       "      <td>-4.0</td>\n",
       "      <td>4th century BCE</td>\n",
       "      <td>2</td>\n",
       "    </tr>\n",
       "    <tr>\n",
       "      <th>5532</th>\n",
       "      <td>Cicero, Marcus Tullius</td>\n",
       "      <td>-1.0</td>\n",
       "      <td>1st century BCE</td>\n",
       "      <td>3</td>\n",
       "    </tr>\n",
       "    <tr>\n",
       "      <th>51139</th>\n",
       "      <td>Seneca, Lucius Annaeus</td>\n",
       "      <td>1.0</td>\n",
       "      <td>1st century CE</td>\n",
       "      <td>4</td>\n",
       "    </tr>\n",
       "    <tr>\n",
       "      <th>69143</th>\n",
       "      <td>Dante Alighieri</td>\n",
       "      <td>13.0</td>\n",
       "      <td>13th century CE</td>\n",
       "      <td>5</td>\n",
       "    </tr>\n",
       "    <tr>\n",
       "      <th>15183</th>\n",
       "      <td>Boccaccio, Giovanni</td>\n",
       "      <td>14.0</td>\n",
       "      <td>14th century CE</td>\n",
       "      <td>6</td>\n",
       "    </tr>\n",
       "    <tr>\n",
       "      <th>2582</th>\n",
       "      <td>Machiavelli, Niccolò</td>\n",
       "      <td>15.0</td>\n",
       "      <td>15th century CE</td>\n",
       "      <td>7</td>\n",
       "    </tr>\n",
       "    <tr>\n",
       "      <th>5702</th>\n",
       "      <td>Shakespeare, William</td>\n",
       "      <td>16.0</td>\n",
       "      <td>16th century CE</td>\n",
       "      <td>8</td>\n",
       "    </tr>\n",
       "    <tr>\n",
       "      <th>69442</th>\n",
       "      <td>Molière</td>\n",
       "      <td>17.0</td>\n",
       "      <td>17th century CE</td>\n",
       "      <td>9</td>\n",
       "    </tr>\n",
       "    <tr>\n",
       "      <th>3802</th>\n",
       "      <td>Austen, Jane</td>\n",
       "      <td>18.0</td>\n",
       "      <td>18th century CE</td>\n",
       "      <td>10</td>\n",
       "    </tr>\n",
       "    <tr>\n",
       "      <th>46834</th>\n",
       "      <td>Defoe, Daniel</td>\n",
       "      <td>18.0</td>\n",
       "      <td>18th century CE</td>\n",
       "      <td>11</td>\n",
       "    </tr>\n",
       "    <tr>\n",
       "      <th>11075</th>\n",
       "      <td>Jefferson, Thomas</td>\n",
       "      <td>18.0</td>\n",
       "      <td>18th century CE</td>\n",
       "      <td>12</td>\n",
       "    </tr>\n",
       "    <tr>\n",
       "      <th>4447</th>\n",
       "      <td>Dickens, Charles</td>\n",
       "      <td>19.0</td>\n",
       "      <td>19th century CE</td>\n",
       "      <td>13</td>\n",
       "    </tr>\n",
       "    <tr>\n",
       "      <th>7344</th>\n",
       "      <td>Doyle, Arthur Conan</td>\n",
       "      <td>19.0</td>\n",
       "      <td>19th century CE</td>\n",
       "      <td>14</td>\n",
       "    </tr>\n",
       "    <tr>\n",
       "      <th>2880</th>\n",
       "      <td>Dumas, Alexandre</td>\n",
       "      <td>19.0</td>\n",
       "      <td>19th century CE</td>\n",
       "      <td>15</td>\n",
       "    </tr>\n",
       "    <tr>\n",
       "      <th>9293</th>\n",
       "      <td>Twain, Mark</td>\n",
       "      <td>19.0</td>\n",
       "      <td>19th century CE</td>\n",
       "      <td>16</td>\n",
       "    </tr>\n",
       "    <tr>\n",
       "      <th>43766</th>\n",
       "      <td>Churchill, Winston</td>\n",
       "      <td>20.0</td>\n",
       "      <td>20th century CE</td>\n",
       "      <td>17</td>\n",
       "    </tr>\n",
       "    <tr>\n",
       "      <th>23857</th>\n",
       "      <td>Dick, Philip K.</td>\n",
       "      <td>20.0</td>\n",
       "      <td>20th century CE</td>\n",
       "      <td>18</td>\n",
       "    </tr>\n",
       "    <tr>\n",
       "      <th>11073</th>\n",
       "      <td>Huxley, Aldous</td>\n",
       "      <td>20.0</td>\n",
       "      <td>20th century CE</td>\n",
       "      <td>19</td>\n",
       "    </tr>\n",
       "    <tr>\n",
       "      <th>64695</th>\n",
       "      <td>Lovecraft, H. P. (Howard Phillips)</td>\n",
       "      <td>20.0</td>\n",
       "      <td>20th century CE</td>\n",
       "      <td>20</td>\n",
       "    </tr>\n",
       "  </tbody>\n",
       "</table>\n",
       "</div>"
      ],
      "text/plain": [
       "                                   author  authorcentury authorcentury_str  \\\n",
       "56951                               Homer           -7.0   7th century BCE   \n",
       "25850                           Confucius           -6.0   6th century BCE   \n",
       "5523                                Plato           -4.0   4th century BCE   \n",
       "5532               Cicero, Marcus Tullius           -1.0   1st century BCE   \n",
       "51139              Seneca, Lucius Annaeus            1.0    1st century CE   \n",
       "69143                     Dante Alighieri           13.0   13th century CE   \n",
       "15183                 Boccaccio, Giovanni           14.0   14th century CE   \n",
       "2582                 Machiavelli, Niccolò           15.0   15th century CE   \n",
       "5702                 Shakespeare, William           16.0   16th century CE   \n",
       "69442                             Molière           17.0   17th century CE   \n",
       "3802                         Austen, Jane           18.0   18th century CE   \n",
       "46834                       Defoe, Daniel           18.0   18th century CE   \n",
       "11075                   Jefferson, Thomas           18.0   18th century CE   \n",
       "4447                     Dickens, Charles           19.0   19th century CE   \n",
       "7344                  Doyle, Arthur Conan           19.0   19th century CE   \n",
       "2880                     Dumas, Alexandre           19.0   19th century CE   \n",
       "9293                          Twain, Mark           19.0   19th century CE   \n",
       "43766                  Churchill, Winston           20.0   20th century CE   \n",
       "23857                     Dick, Philip K.           20.0   20th century CE   \n",
       "11073                      Huxley, Aldous           20.0   20th century CE   \n",
       "64695  Lovecraft, H. P. (Howard Phillips)           20.0   20th century CE   \n",
       "\n",
       "       author_num  \n",
       "56951           0  \n",
       "25850           1  \n",
       "5523            2  \n",
       "5532            3  \n",
       "51139           4  \n",
       "69143           5  \n",
       "15183           6  \n",
       "2582            7  \n",
       "5702            8  \n",
       "69442           9  \n",
       "3802           10  \n",
       "46834          11  \n",
       "11075          12  \n",
       "4447           13  \n",
       "7344           14  \n",
       "2880           15  \n",
       "9293           16  \n",
       "43766          17  \n",
       "23857          18  \n",
       "11073          19  \n",
       "64695          20  "
      ]
     },
     "execution_count": 32,
     "metadata": {},
     "output_type": "execute_result"
    }
   ],
   "source": [
    "authors_df"
   ]
  },
  {
   "cell_type": "code",
   "execution_count": 37,
   "metadata": {},
   "outputs": [
    {
     "data": {
      "text/plain": [
       "'Dante Alighieri'"
      ]
     },
     "execution_count": 37,
     "metadata": {},
     "output_type": "execute_result"
    }
   ],
   "source": [
    "authors_df.loc[authors_df['author_num'] == 5, 'author'].iloc[0]"
   ]
  },
  {
   "attachments": {},
   "cell_type": "markdown",
   "metadata": {},
   "source": [
    "## Sklearn NN\n",
    "\n",
    "First round of neural network analysis, using sklearn."
   ]
  },
  {
   "cell_type": "code",
   "execution_count": 5,
   "metadata": {},
   "outputs": [],
   "source": [
    "X = library_select[['book_content']]\n",
    "y = library_select['author_num']\n",
    "\n",
    "X_train, X_test, y_train, y_test = train_test_split(X, y, test_size=0.2, random_state = 42, stratify = y)"
   ]
  },
  {
   "cell_type": "code",
   "execution_count": 6,
   "metadata": {},
   "outputs": [],
   "source": [
    "pipe_nn = Pipeline(\n",
    "    steps = [\n",
    "        ('vect', TfidfVectorizer(min_df=1, max_df=0.5, ngram_range=(1,1))),\n",
    "        ('scaler', MaxAbsScaler()),  #this is needed in order to make it converge in a reasonable time!\n",
    "        ('nn', MLPClassifier(verbose = True,\n",
    "                             hidden_layer_sizes = (100, 100),\n",
    "                             #activation = 'relu',\n",
    "                             #max_iter = 10000,\n",
    "                             #alpha=0.05\n",
    "                             ))\n",
    "    ]\n",
    ")"
   ]
  },
  {
   "cell_type": "code",
   "execution_count": 7,
   "metadata": {},
   "outputs": [
    {
     "name": "stdout",
     "output_type": "stream",
     "text": [
      "Iteration 1, loss = 2.70894711\n",
      "Iteration 2, loss = 1.03147766\n",
      "Iteration 3, loss = 0.30825719\n",
      "Iteration 4, loss = 0.12002107\n",
      "Iteration 5, loss = 0.05243777\n",
      "Iteration 6, loss = 0.02298339\n",
      "Iteration 7, loss = 0.00954551\n",
      "Iteration 8, loss = 0.00510859\n",
      "Iteration 9, loss = 0.00271510\n",
      "Iteration 10, loss = 0.00179337\n",
      "Iteration 11, loss = 0.00125984\n",
      "Iteration 12, loss = 0.00101091\n",
      "Iteration 13, loss = 0.00086809\n",
      "Iteration 14, loss = 0.00075284\n",
      "Iteration 15, loss = 0.00067808\n",
      "Iteration 16, loss = 0.00062919\n",
      "Iteration 17, loss = 0.00059884\n",
      "Iteration 18, loss = 0.00056994\n",
      "Iteration 19, loss = 0.00054969\n",
      "Iteration 20, loss = 0.00053279\n",
      "Iteration 21, loss = 0.00051899\n",
      "Iteration 22, loss = 0.00050779\n",
      "Iteration 23, loss = 0.00049909\n",
      "Iteration 24, loss = 0.00049017\n",
      "Iteration 25, loss = 0.00048273\n",
      "Training loss did not improve more than tol=0.000100 for 10 consecutive epochs. Stopping.\n",
      "accuracy score: 1.0 \n",
      "\n",
      "----- confusion matrix ------\n",
      "[[14  0  0  0  0  0  0  0  0  0  0  0  0  0  0  0  0  0  0  0  0]\n",
      " [ 0  5  0  0  0  0  0  0  0  0  0  0  0  0  0  0  0  0  0  0  0]\n",
      " [ 0  0 32  0  0  0  0  0  0  0  0  0  0  0  0  0  0  0  0  0  0]\n",
      " [ 0  0  0 14  0  0  0  0  0  0  0  0  0  0  0  0  0  0  0  0  0]\n",
      " [ 0  0  0  0  5  0  0  0  0  0  0  0  0  0  0  0  0  0  0  0  0]\n",
      " [ 0  0  0  0  0 19  0  0  0  0  0  0  0  0  0  0  0  0  0  0  0]\n",
      " [ 0  0  0  0  0  0  6  0  0  0  0  0  0  0  0  0  0  0  0  0  0]\n",
      " [ 0  0  0  0  0  0  0  5  0  0  0  0  0  0  0  0  0  0  0  0  0]\n",
      " [ 0  0  0  0  0  0  0  0 50  0  0  0  0  0  0  0  0  0  0  0  0]\n",
      " [ 0  0  0  0  0  0  0  0  0 18  0  0  0  0  0  0  0  0  0  0  0]\n",
      " [ 0  0  0  0  0  0  0  0  0  0 13  0  0  0  0  0  0  0  0  0  0]\n",
      " [ 0  0  0  0  0  0  0  0  0  0  0 45  0  0  0  0  0  0  0  0  0]\n",
      " [ 0  0  0  0  0  0  0  0  0  0  0  0 18  0  0  0  0  0  0  0  0]\n",
      " [ 0  0  0  0  0  0  0  0  0  0  0  0  0 50  0  0  0  0  0  0  0]\n",
      " [ 0  0  0  0  0  0  0  0  0  0  0  0  0  0 50  0  0  0  0  0  0]\n",
      " [ 0  0  0  0  0  0  0  0  0  0  0  0  0  0  0 50  0  0  0  0  0]\n",
      " [ 0  0  0  0  0  0  0  0  0  0  0  0  0  0  0  0 50  0  0  0  0]\n",
      " [ 0  0  0  0  0  0  0  0  0  0  0  0  0  0  0  0  0 50  0  0  0]\n",
      " [ 0  0  0  0  0  0  0  0  0  0  0  0  0  0  0  0  0  0 14  0  0]\n",
      " [ 0  0  0  0  0  0  0  0  0  0  0  0  0  0  0  0  0  0  0 11  0]\n",
      " [ 0  0  0  0  0  0  0  0  0  0  0  0  0  0  0  0  0  0  0  0  8]] \n",
      "\n",
      "-------- classification report ---------\n",
      "              precision    recall  f1-score   support\n",
      "\n",
      "           0       1.00      1.00      1.00        14\n",
      "           1       1.00      1.00      1.00         5\n",
      "           2       1.00      1.00      1.00        32\n",
      "           3       1.00      1.00      1.00        14\n",
      "           4       1.00      1.00      1.00         5\n",
      "           5       1.00      1.00      1.00        19\n",
      "           6       1.00      1.00      1.00         6\n",
      "           7       1.00      1.00      1.00         5\n",
      "           8       1.00      1.00      1.00        50\n",
      "           9       1.00      1.00      1.00        18\n",
      "          10       1.00      1.00      1.00        13\n",
      "          11       1.00      1.00      1.00        45\n",
      "          12       1.00      1.00      1.00        18\n",
      "          13       1.00      1.00      1.00        50\n",
      "          14       1.00      1.00      1.00        50\n",
      "          15       1.00      1.00      1.00        50\n",
      "          16       1.00      1.00      1.00        50\n",
      "          17       1.00      1.00      1.00        50\n",
      "          18       1.00      1.00      1.00        14\n",
      "          19       1.00      1.00      1.00        11\n",
      "          20       1.00      1.00      1.00         8\n",
      "\n",
      "    accuracy                           1.00       527\n",
      "   macro avg       1.00      1.00      1.00       527\n",
      "weighted avg       1.00      1.00      1.00       527\n",
      "\n"
     ]
    }
   ],
   "source": [
    "# pipe_nn.fit(X_train['book_content'], y_train)\n",
    "# y_pred = pipe_nn.predict(X_test['book_content'])\n",
    "\n",
    "# print('accuracy score:', accuracy_score(y_test, y_pred), '\\n')\n",
    "# print('----- confusion matrix ------')\n",
    "# print(confusion_matrix(y_test, y_pred), '\\n')\n",
    "# print('-------- classification report ---------')\n",
    "# print(classification_report(y_test, y_pred))\n",
    "\n",
    "# this below ran for almost 2 hours and didn't finish yet...\n",
    "pipe_nn.fit(X['book_content'], y)\n",
    "y_pred = pipe_nn.predict(X['book_content'])\n",
    "\n",
    "print('accuracy score:', accuracy_score(y, y_pred), '\\n')\n",
    "print('----- confusion matrix ------')\n",
    "print(confusion_matrix(y, y_pred), '\\n')\n",
    "print('-------- classification report ---------')\n",
    "print(classification_report(y, y_pred))"
   ]
  },
  {
   "cell_type": "code",
   "execution_count": 8,
   "metadata": {},
   "outputs": [
    {
     "data": {
      "application/vnd.plotly.v1+json": {
       "config": {
        "plotlyServerURL": "https://plot.ly"
       },
       "data": [
        {
         "coloraxis": "coloraxis",
         "hovertemplate": "Predicted Label: %{x}<br>True Label: %{y}<br>color: %{z}<extra></extra>",
         "name": "0",
         "texttemplate": "%{z}",
         "type": "heatmap",
         "x": [
          "Homer",
          "Confucius",
          "Plato",
          "Cicero, Marcus Tullius",
          "Seneca, Lucius Annaeus",
          "Dante Alighieri",
          "Boccaccio, Giovanni",
          "Machiavelli, Niccolò",
          "Shakespeare, William",
          "Molière",
          "Austen, Jane",
          "Defoe, Daniel",
          "Jefferson, Thomas",
          "Dickens, Charles",
          "Doyle, Arthur Conan",
          "Dumas, Alexandre",
          "Twain, Mark",
          "Churchill, Winston",
          "Dick, Philip K.",
          "Huxley, Aldous",
          "Lovecraft, H. P. (Howard Phillips)"
         ],
         "xaxis": "x",
         "y": [
          "Homer",
          "Confucius",
          "Plato",
          "Cicero, Marcus Tullius",
          "Seneca, Lucius Annaeus",
          "Dante Alighieri",
          "Boccaccio, Giovanni",
          "Machiavelli, Niccolò",
          "Shakespeare, William",
          "Molière",
          "Austen, Jane",
          "Defoe, Daniel",
          "Jefferson, Thomas",
          "Dickens, Charles",
          "Doyle, Arthur Conan",
          "Dumas, Alexandre",
          "Twain, Mark",
          "Churchill, Winston",
          "Dick, Philip K.",
          "Huxley, Aldous",
          "Lovecraft, H. P. (Howard Phillips)"
         ],
         "yaxis": "y",
         "z": [
          [
           14,
           0,
           0,
           0,
           0,
           0,
           0,
           0,
           0,
           0,
           0,
           0,
           0,
           0,
           0,
           0,
           0,
           0,
           0,
           0,
           0
          ],
          [
           0,
           5,
           0,
           0,
           0,
           0,
           0,
           0,
           0,
           0,
           0,
           0,
           0,
           0,
           0,
           0,
           0,
           0,
           0,
           0,
           0
          ],
          [
           0,
           0,
           32,
           0,
           0,
           0,
           0,
           0,
           0,
           0,
           0,
           0,
           0,
           0,
           0,
           0,
           0,
           0,
           0,
           0,
           0
          ],
          [
           0,
           0,
           0,
           14,
           0,
           0,
           0,
           0,
           0,
           0,
           0,
           0,
           0,
           0,
           0,
           0,
           0,
           0,
           0,
           0,
           0
          ],
          [
           0,
           0,
           0,
           0,
           5,
           0,
           0,
           0,
           0,
           0,
           0,
           0,
           0,
           0,
           0,
           0,
           0,
           0,
           0,
           0,
           0
          ],
          [
           0,
           0,
           0,
           0,
           0,
           19,
           0,
           0,
           0,
           0,
           0,
           0,
           0,
           0,
           0,
           0,
           0,
           0,
           0,
           0,
           0
          ],
          [
           0,
           0,
           0,
           0,
           0,
           0,
           6,
           0,
           0,
           0,
           0,
           0,
           0,
           0,
           0,
           0,
           0,
           0,
           0,
           0,
           0
          ],
          [
           0,
           0,
           0,
           0,
           0,
           0,
           0,
           5,
           0,
           0,
           0,
           0,
           0,
           0,
           0,
           0,
           0,
           0,
           0,
           0,
           0
          ],
          [
           0,
           0,
           0,
           0,
           0,
           0,
           0,
           0,
           50,
           0,
           0,
           0,
           0,
           0,
           0,
           0,
           0,
           0,
           0,
           0,
           0
          ],
          [
           0,
           0,
           0,
           0,
           0,
           0,
           0,
           0,
           0,
           18,
           0,
           0,
           0,
           0,
           0,
           0,
           0,
           0,
           0,
           0,
           0
          ],
          [
           0,
           0,
           0,
           0,
           0,
           0,
           0,
           0,
           0,
           0,
           13,
           0,
           0,
           0,
           0,
           0,
           0,
           0,
           0,
           0,
           0
          ],
          [
           0,
           0,
           0,
           0,
           0,
           0,
           0,
           0,
           0,
           0,
           0,
           45,
           0,
           0,
           0,
           0,
           0,
           0,
           0,
           0,
           0
          ],
          [
           0,
           0,
           0,
           0,
           0,
           0,
           0,
           0,
           0,
           0,
           0,
           0,
           18,
           0,
           0,
           0,
           0,
           0,
           0,
           0,
           0
          ],
          [
           0,
           0,
           0,
           0,
           0,
           0,
           0,
           0,
           0,
           0,
           0,
           0,
           0,
           50,
           0,
           0,
           0,
           0,
           0,
           0,
           0
          ],
          [
           0,
           0,
           0,
           0,
           0,
           0,
           0,
           0,
           0,
           0,
           0,
           0,
           0,
           0,
           50,
           0,
           0,
           0,
           0,
           0,
           0
          ],
          [
           0,
           0,
           0,
           0,
           0,
           0,
           0,
           0,
           0,
           0,
           0,
           0,
           0,
           0,
           0,
           50,
           0,
           0,
           0,
           0,
           0
          ],
          [
           0,
           0,
           0,
           0,
           0,
           0,
           0,
           0,
           0,
           0,
           0,
           0,
           0,
           0,
           0,
           0,
           50,
           0,
           0,
           0,
           0
          ],
          [
           0,
           0,
           0,
           0,
           0,
           0,
           0,
           0,
           0,
           0,
           0,
           0,
           0,
           0,
           0,
           0,
           0,
           50,
           0,
           0,
           0
          ],
          [
           0,
           0,
           0,
           0,
           0,
           0,
           0,
           0,
           0,
           0,
           0,
           0,
           0,
           0,
           0,
           0,
           0,
           0,
           14,
           0,
           0
          ],
          [
           0,
           0,
           0,
           0,
           0,
           0,
           0,
           0,
           0,
           0,
           0,
           0,
           0,
           0,
           0,
           0,
           0,
           0,
           0,
           11,
           0
          ],
          [
           0,
           0,
           0,
           0,
           0,
           0,
           0,
           0,
           0,
           0,
           0,
           0,
           0,
           0,
           0,
           0,
           0,
           0,
           0,
           0,
           8
          ]
         ]
        }
       ],
       "layout": {
        "coloraxis": {
         "colorscale": [
          [
           0,
           "rgb(209, 238, 234)"
          ],
          [
           0.16666666666666666,
           "rgb(168, 219, 217)"
          ],
          [
           0.3333333333333333,
           "rgb(133, 196, 201)"
          ],
          [
           0.5,
           "rgb(104, 171, 184)"
          ],
          [
           0.6666666666666666,
           "rgb(79, 144, 166)"
          ],
          [
           0.8333333333333334,
           "rgb(59, 115, 143)"
          ],
          [
           1,
           "rgb(42, 86, 116)"
          ]
         ],
         "showscale": false
        },
        "height": 800,
        "margin": {
         "t": 60
        },
        "template": {
         "data": {
          "bar": [
           {
            "error_x": {
             "color": "#2a3f5f"
            },
            "error_y": {
             "color": "#2a3f5f"
            },
            "marker": {
             "line": {
              "color": "#E5ECF6",
              "width": 0.5
             },
             "pattern": {
              "fillmode": "overlay",
              "size": 10,
              "solidity": 0.2
             }
            },
            "type": "bar"
           }
          ],
          "barpolar": [
           {
            "marker": {
             "line": {
              "color": "#E5ECF6",
              "width": 0.5
             },
             "pattern": {
              "fillmode": "overlay",
              "size": 10,
              "solidity": 0.2
             }
            },
            "type": "barpolar"
           }
          ],
          "carpet": [
           {
            "aaxis": {
             "endlinecolor": "#2a3f5f",
             "gridcolor": "white",
             "linecolor": "white",
             "minorgridcolor": "white",
             "startlinecolor": "#2a3f5f"
            },
            "baxis": {
             "endlinecolor": "#2a3f5f",
             "gridcolor": "white",
             "linecolor": "white",
             "minorgridcolor": "white",
             "startlinecolor": "#2a3f5f"
            },
            "type": "carpet"
           }
          ],
          "choropleth": [
           {
            "colorbar": {
             "outlinewidth": 0,
             "ticks": ""
            },
            "type": "choropleth"
           }
          ],
          "contour": [
           {
            "colorbar": {
             "outlinewidth": 0,
             "ticks": ""
            },
            "colorscale": [
             [
              0,
              "#0d0887"
             ],
             [
              0.1111111111111111,
              "#46039f"
             ],
             [
              0.2222222222222222,
              "#7201a8"
             ],
             [
              0.3333333333333333,
              "#9c179e"
             ],
             [
              0.4444444444444444,
              "#bd3786"
             ],
             [
              0.5555555555555556,
              "#d8576b"
             ],
             [
              0.6666666666666666,
              "#ed7953"
             ],
             [
              0.7777777777777778,
              "#fb9f3a"
             ],
             [
              0.8888888888888888,
              "#fdca26"
             ],
             [
              1,
              "#f0f921"
             ]
            ],
            "type": "contour"
           }
          ],
          "contourcarpet": [
           {
            "colorbar": {
             "outlinewidth": 0,
             "ticks": ""
            },
            "type": "contourcarpet"
           }
          ],
          "heatmap": [
           {
            "colorbar": {
             "outlinewidth": 0,
             "ticks": ""
            },
            "colorscale": [
             [
              0,
              "#0d0887"
             ],
             [
              0.1111111111111111,
              "#46039f"
             ],
             [
              0.2222222222222222,
              "#7201a8"
             ],
             [
              0.3333333333333333,
              "#9c179e"
             ],
             [
              0.4444444444444444,
              "#bd3786"
             ],
             [
              0.5555555555555556,
              "#d8576b"
             ],
             [
              0.6666666666666666,
              "#ed7953"
             ],
             [
              0.7777777777777778,
              "#fb9f3a"
             ],
             [
              0.8888888888888888,
              "#fdca26"
             ],
             [
              1,
              "#f0f921"
             ]
            ],
            "type": "heatmap"
           }
          ],
          "heatmapgl": [
           {
            "colorbar": {
             "outlinewidth": 0,
             "ticks": ""
            },
            "colorscale": [
             [
              0,
              "#0d0887"
             ],
             [
              0.1111111111111111,
              "#46039f"
             ],
             [
              0.2222222222222222,
              "#7201a8"
             ],
             [
              0.3333333333333333,
              "#9c179e"
             ],
             [
              0.4444444444444444,
              "#bd3786"
             ],
             [
              0.5555555555555556,
              "#d8576b"
             ],
             [
              0.6666666666666666,
              "#ed7953"
             ],
             [
              0.7777777777777778,
              "#fb9f3a"
             ],
             [
              0.8888888888888888,
              "#fdca26"
             ],
             [
              1,
              "#f0f921"
             ]
            ],
            "type": "heatmapgl"
           }
          ],
          "histogram": [
           {
            "marker": {
             "pattern": {
              "fillmode": "overlay",
              "size": 10,
              "solidity": 0.2
             }
            },
            "type": "histogram"
           }
          ],
          "histogram2d": [
           {
            "colorbar": {
             "outlinewidth": 0,
             "ticks": ""
            },
            "colorscale": [
             [
              0,
              "#0d0887"
             ],
             [
              0.1111111111111111,
              "#46039f"
             ],
             [
              0.2222222222222222,
              "#7201a8"
             ],
             [
              0.3333333333333333,
              "#9c179e"
             ],
             [
              0.4444444444444444,
              "#bd3786"
             ],
             [
              0.5555555555555556,
              "#d8576b"
             ],
             [
              0.6666666666666666,
              "#ed7953"
             ],
             [
              0.7777777777777778,
              "#fb9f3a"
             ],
             [
              0.8888888888888888,
              "#fdca26"
             ],
             [
              1,
              "#f0f921"
             ]
            ],
            "type": "histogram2d"
           }
          ],
          "histogram2dcontour": [
           {
            "colorbar": {
             "outlinewidth": 0,
             "ticks": ""
            },
            "colorscale": [
             [
              0,
              "#0d0887"
             ],
             [
              0.1111111111111111,
              "#46039f"
             ],
             [
              0.2222222222222222,
              "#7201a8"
             ],
             [
              0.3333333333333333,
              "#9c179e"
             ],
             [
              0.4444444444444444,
              "#bd3786"
             ],
             [
              0.5555555555555556,
              "#d8576b"
             ],
             [
              0.6666666666666666,
              "#ed7953"
             ],
             [
              0.7777777777777778,
              "#fb9f3a"
             ],
             [
              0.8888888888888888,
              "#fdca26"
             ],
             [
              1,
              "#f0f921"
             ]
            ],
            "type": "histogram2dcontour"
           }
          ],
          "mesh3d": [
           {
            "colorbar": {
             "outlinewidth": 0,
             "ticks": ""
            },
            "type": "mesh3d"
           }
          ],
          "parcoords": [
           {
            "line": {
             "colorbar": {
              "outlinewidth": 0,
              "ticks": ""
             }
            },
            "type": "parcoords"
           }
          ],
          "pie": [
           {
            "automargin": true,
            "type": "pie"
           }
          ],
          "scatter": [
           {
            "fillpattern": {
             "fillmode": "overlay",
             "size": 10,
             "solidity": 0.2
            },
            "type": "scatter"
           }
          ],
          "scatter3d": [
           {
            "line": {
             "colorbar": {
              "outlinewidth": 0,
              "ticks": ""
             }
            },
            "marker": {
             "colorbar": {
              "outlinewidth": 0,
              "ticks": ""
             }
            },
            "type": "scatter3d"
           }
          ],
          "scattercarpet": [
           {
            "marker": {
             "colorbar": {
              "outlinewidth": 0,
              "ticks": ""
             }
            },
            "type": "scattercarpet"
           }
          ],
          "scattergeo": [
           {
            "marker": {
             "colorbar": {
              "outlinewidth": 0,
              "ticks": ""
             }
            },
            "type": "scattergeo"
           }
          ],
          "scattergl": [
           {
            "marker": {
             "colorbar": {
              "outlinewidth": 0,
              "ticks": ""
             }
            },
            "type": "scattergl"
           }
          ],
          "scattermapbox": [
           {
            "marker": {
             "colorbar": {
              "outlinewidth": 0,
              "ticks": ""
             }
            },
            "type": "scattermapbox"
           }
          ],
          "scatterpolar": [
           {
            "marker": {
             "colorbar": {
              "outlinewidth": 0,
              "ticks": ""
             }
            },
            "type": "scatterpolar"
           }
          ],
          "scatterpolargl": [
           {
            "marker": {
             "colorbar": {
              "outlinewidth": 0,
              "ticks": ""
             }
            },
            "type": "scatterpolargl"
           }
          ],
          "scatterternary": [
           {
            "marker": {
             "colorbar": {
              "outlinewidth": 0,
              "ticks": ""
             }
            },
            "type": "scatterternary"
           }
          ],
          "surface": [
           {
            "colorbar": {
             "outlinewidth": 0,
             "ticks": ""
            },
            "colorscale": [
             [
              0,
              "#0d0887"
             ],
             [
              0.1111111111111111,
              "#46039f"
             ],
             [
              0.2222222222222222,
              "#7201a8"
             ],
             [
              0.3333333333333333,
              "#9c179e"
             ],
             [
              0.4444444444444444,
              "#bd3786"
             ],
             [
              0.5555555555555556,
              "#d8576b"
             ],
             [
              0.6666666666666666,
              "#ed7953"
             ],
             [
              0.7777777777777778,
              "#fb9f3a"
             ],
             [
              0.8888888888888888,
              "#fdca26"
             ],
             [
              1,
              "#f0f921"
             ]
            ],
            "type": "surface"
           }
          ],
          "table": [
           {
            "cells": {
             "fill": {
              "color": "#EBF0F8"
             },
             "line": {
              "color": "white"
             }
            },
            "header": {
             "fill": {
              "color": "#C8D4E3"
             },
             "line": {
              "color": "white"
             }
            },
            "type": "table"
           }
          ]
         },
         "layout": {
          "annotationdefaults": {
           "arrowcolor": "#2a3f5f",
           "arrowhead": 0,
           "arrowwidth": 1
          },
          "autotypenumbers": "strict",
          "coloraxis": {
           "colorbar": {
            "outlinewidth": 0,
            "ticks": ""
           }
          },
          "colorscale": {
           "diverging": [
            [
             0,
             "#8e0152"
            ],
            [
             0.1,
             "#c51b7d"
            ],
            [
             0.2,
             "#de77ae"
            ],
            [
             0.3,
             "#f1b6da"
            ],
            [
             0.4,
             "#fde0ef"
            ],
            [
             0.5,
             "#f7f7f7"
            ],
            [
             0.6,
             "#e6f5d0"
            ],
            [
             0.7,
             "#b8e186"
            ],
            [
             0.8,
             "#7fbc41"
            ],
            [
             0.9,
             "#4d9221"
            ],
            [
             1,
             "#276419"
            ]
           ],
           "sequential": [
            [
             0,
             "#0d0887"
            ],
            [
             0.1111111111111111,
             "#46039f"
            ],
            [
             0.2222222222222222,
             "#7201a8"
            ],
            [
             0.3333333333333333,
             "#9c179e"
            ],
            [
             0.4444444444444444,
             "#bd3786"
            ],
            [
             0.5555555555555556,
             "#d8576b"
            ],
            [
             0.6666666666666666,
             "#ed7953"
            ],
            [
             0.7777777777777778,
             "#fb9f3a"
            ],
            [
             0.8888888888888888,
             "#fdca26"
            ],
            [
             1,
             "#f0f921"
            ]
           ],
           "sequentialminus": [
            [
             0,
             "#0d0887"
            ],
            [
             0.1111111111111111,
             "#46039f"
            ],
            [
             0.2222222222222222,
             "#7201a8"
            ],
            [
             0.3333333333333333,
             "#9c179e"
            ],
            [
             0.4444444444444444,
             "#bd3786"
            ],
            [
             0.5555555555555556,
             "#d8576b"
            ],
            [
             0.6666666666666666,
             "#ed7953"
            ],
            [
             0.7777777777777778,
             "#fb9f3a"
            ],
            [
             0.8888888888888888,
             "#fdca26"
            ],
            [
             1,
             "#f0f921"
            ]
           ]
          },
          "colorway": [
           "#636efa",
           "#EF553B",
           "#00cc96",
           "#ab63fa",
           "#FFA15A",
           "#19d3f3",
           "#FF6692",
           "#B6E880",
           "#FF97FF",
           "#FECB52"
          ],
          "font": {
           "color": "#2a3f5f"
          },
          "geo": {
           "bgcolor": "white",
           "lakecolor": "white",
           "landcolor": "#E5ECF6",
           "showlakes": true,
           "showland": true,
           "subunitcolor": "white"
          },
          "hoverlabel": {
           "align": "left"
          },
          "hovermode": "closest",
          "mapbox": {
           "style": "light"
          },
          "paper_bgcolor": "white",
          "plot_bgcolor": "#E5ECF6",
          "polar": {
           "angularaxis": {
            "gridcolor": "white",
            "linecolor": "white",
            "ticks": ""
           },
           "bgcolor": "#E5ECF6",
           "radialaxis": {
            "gridcolor": "white",
            "linecolor": "white",
            "ticks": ""
           }
          },
          "scene": {
           "xaxis": {
            "backgroundcolor": "#E5ECF6",
            "gridcolor": "white",
            "gridwidth": 2,
            "linecolor": "white",
            "showbackground": true,
            "ticks": "",
            "zerolinecolor": "white"
           },
           "yaxis": {
            "backgroundcolor": "#E5ECF6",
            "gridcolor": "white",
            "gridwidth": 2,
            "linecolor": "white",
            "showbackground": true,
            "ticks": "",
            "zerolinecolor": "white"
           },
           "zaxis": {
            "backgroundcolor": "#E5ECF6",
            "gridcolor": "white",
            "gridwidth": 2,
            "linecolor": "white",
            "showbackground": true,
            "ticks": "",
            "zerolinecolor": "white"
           }
          },
          "shapedefaults": {
           "line": {
            "color": "#2a3f5f"
           }
          },
          "ternary": {
           "aaxis": {
            "gridcolor": "white",
            "linecolor": "white",
            "ticks": ""
           },
           "baxis": {
            "gridcolor": "white",
            "linecolor": "white",
            "ticks": ""
           },
           "bgcolor": "#E5ECF6",
           "caxis": {
            "gridcolor": "white",
            "linecolor": "white",
            "ticks": ""
           }
          },
          "title": {
           "x": 0.05
          },
          "xaxis": {
           "automargin": true,
           "gridcolor": "white",
           "linecolor": "white",
           "ticks": "",
           "title": {
            "standoff": 15
           },
           "zerolinecolor": "white",
           "zerolinewidth": 2
          },
          "yaxis": {
           "automargin": true,
           "gridcolor": "white",
           "linecolor": "white",
           "ticks": "",
           "title": {
            "standoff": 15
           },
           "zerolinecolor": "white",
           "zerolinewidth": 2
          }
         }
        },
        "width": 1000,
        "xaxis": {
         "anchor": "y",
         "constrain": "domain",
         "domain": [
          0,
          1
         ],
         "scaleanchor": "y",
         "title": {
          "text": "Predicted Label"
         }
        },
        "yaxis": {
         "anchor": "x",
         "autorange": "reversed",
         "constrain": "domain",
         "domain": [
          0,
          1
         ],
         "title": {
          "text": "True Label"
         }
        }
       }
      }
     },
     "metadata": {},
     "output_type": "display_data"
    }
   ],
   "source": [
    "#fig = px.imshow(confusion_matrix(y_test, pipe_nn.predict(X_test['book_content'])),\n",
    "fig = px.imshow(confusion_matrix(y, pipe_nn.predict(X['book_content'])),\n",
    "                width=1000,\n",
    "                height=800,\n",
    "                text_auto=True,\n",
    "                labels=dict(x='Predicted Label',\n",
    "                            y='True Label'),\n",
    "                            x=select_authors,\n",
    "                            y=select_authors,\n",
    "                            color_continuous_scale='Teal'\n",
    "                            )\n",
    "\n",
    "fig.update(layout_coloraxis_showscale=False)\n",
    "\n",
    "fig.show()"
   ]
  },
  {
   "cell_type": "code",
   "execution_count": 9,
   "metadata": {},
   "outputs": [],
   "source": [
    "#pipe_nn['vect'].vocabulary_['seneca']"
   ]
  },
  {
   "attachments": {},
   "cell_type": "markdown",
   "metadata": {},
   "source": [
    "## Encoding and lower-dimensional representation of the NN\n",
    "\n",
    "With a trained model, using embeddings to find similarities between books and authors."
   ]
  },
  {
   "cell_type": "code",
   "execution_count": 10,
   "metadata": {},
   "outputs": [],
   "source": [
    "# have to use the regressor because classifiers thinks we're expecting int results, even if we chop it off before final step!\n",
    "# :2 and layers = 3 if I use two hidden layers with nn; for one, reduce those by 1\n",
    "encoder = MLPRegressor()\n",
    "encoder.coefs_ = pipe_nn['nn'].coefs_[:2]\n",
    "encoder.intercepts_ = pipe_nn['nn'].intercepts_[:2]\n",
    "encoder.n_layers_ = 3\n",
    "encoder.out_activation_ = 'relu'"
   ]
  },
  {
   "cell_type": "code",
   "execution_count": 11,
   "metadata": {},
   "outputs": [],
   "source": [
    "# copy the pipeline\n",
    "pipe_nn_encoder = deepcopy(pipe_nn)\n",
    "\n",
    "# remove the classifier\n",
    "pipe_nn_encoder.steps.pop(2)\n",
    "\n",
    "# append the new encoder (essentially, it contains all layers minus the final one)\n",
    "pipe_nn_encoder.steps.append(['enc', encoder])"
   ]
  },
  {
   "cell_type": "code",
   "execution_count": 12,
   "metadata": {},
   "outputs": [],
   "source": [
    "# now using predict from the encoder to get the 100-dimensional projection of the top six authors\n",
    "nn_represent = pipe_nn_encoder.predict(library_select['book_content'])"
   ]
  },
  {
   "cell_type": "code",
   "execution_count": 13,
   "metadata": {},
   "outputs": [
    {
     "data": {
      "text/plain": [
       "['../models/pipe_nn_encoder_01.joblib']"
      ]
     },
     "execution_count": 13,
     "metadata": {},
     "output_type": "execute_result"
    }
   ],
   "source": [
    "# to save the encoder\n",
    "# had more models but removed after fixing index\n",
    "dump(pipe_nn_encoder, '../models/pipe_nn_encoder_01.joblib') # limited to 50 books"
   ]
  },
  {
   "attachments": {},
   "cell_type": "markdown",
   "metadata": {},
   "source": [
    "Finally, adding to that, the reduced 2D representation using UMAP."
   ]
  },
  {
   "cell_type": "code",
   "execution_count": 14,
   "metadata": {},
   "outputs": [],
   "source": [
    "umap_mnist = umap.UMAP(metric='euclidean', random_state=42) #metric = 'cosine'\n",
    "umap_mnist.fit(nn_represent)\n",
    "\n",
    "umap_projection = umap_mnist.transform(nn_represent)"
   ]
  },
  {
   "cell_type": "code",
   "execution_count": 15,
   "metadata": {},
   "outputs": [
    {
     "data": {
      "text/plain": [
       "['../models/umap_mnist_01.joblib']"
      ]
     },
     "execution_count": 15,
     "metadata": {},
     "output_type": "execute_result"
    }
   ],
   "source": [
    "# to save the umap representation\n",
    "# had more models but removed after removing index books\n",
    "dump(umap_mnist, '../models/umap_mnist_01.joblib')"
   ]
  },
  {
   "cell_type": "code",
   "execution_count": 18,
   "metadata": {},
   "outputs": [],
   "source": [
    "# convert the 100 dimensional vector of neuron weights into dataframe\n",
    "library_select_represent = pd.DataFrame(nn_represent, columns=[f'dim_{x}' for x in range(100)])\n",
    "\n",
    "# and also the 2d representation\n",
    "library_select_proj = pd.DataFrame(umap_projection, columns=[f'proj_{x}' for x in range(2)])\n",
    "\n",
    "# concatenate together with some info from the original df. at this point, for this notebook won't be needing the book texts anymore\n",
    "# I'll create a new notebook for NN from a different package\n",
    "library_select = pd.concat([\n",
    "    library_select[['id','title','author','authorcentury_str']],\n",
    "    library_select_proj.set_index(library_select.index),\n",
    "    library_select_represent.set_index(library_select.index)],\n",
    "    axis=1)"
   ]
  },
  {
   "cell_type": "code",
   "execution_count": 16,
   "metadata": {},
   "outputs": [
    {
     "data": {
      "image/png": "[encoded data removed]",
      "text/plain": [
       "<Figure size 1600x800 with 1 Axes>"
      ]
     },
     "metadata": {},
     "output_type": "display_data"
    }
   ],
   "source": [
    "# # old code:\n",
    "# sns.scatterplot(x=umap_projection[:,0], y=umap_projection[:,1], \n",
    "#                 hue = library_select.replace({'author': num_to_authors})['author'].astype('category'),\n",
    "#                alpha = 0.7);\n",
    "\n",
    "plt.figure(figsize = (16,8))\n",
    "sns.scatterplot(data=library_select, x='proj_0', y='proj_1', \n",
    "                hue = 'author',\n",
    "               alpha = 0.7);"
   ]
  },
  {
   "cell_type": "code",
   "execution_count": 17,
   "metadata": {},
   "outputs": [
    {
     "data": {
      "image/png": "[encoded data removed]",
      "text/plain": [
       "<Figure size 1600x800 with 1 Axes>"
      ]
     },
     "metadata": {},
     "output_type": "display_data"
    }
   ],
   "source": [
    "plt.figure(figsize = (16,8))\n",
    "sns.scatterplot(data=library_select, x='proj_0', y='proj_1', \n",
    "                hue = library_select['authorcentury_str'],\n",
    "               alpha = 0.7);"
   ]
  },
  {
   "cell_type": "code",
   "execution_count": 18,
   "metadata": {},
   "outputs": [],
   "source": [
    "# make a copy -- personal note: important to use copy!! otherwise, it's just a view of the original dataframe \n",
    "# and that gives warnings in the following two parts\n",
    "library_2d_dist = library_select[['author', 'proj_0', 'proj_1']].copy()\n",
    "\n",
    "# calculate the mean point for each author\n",
    "library_2d_dist[['proj_0_mean', 'proj_1_mean']] = library_2d_dist.groupby('author')[['proj_0', 'proj_1']].transform('mean')\n",
    "\n",
    "# get the distance between each point and the mean for that author\n",
    "library_2d_dist['dist_mean'] = np.sqrt((library_2d_dist['proj_0'] - library_2d_dist['proj_0_mean'])**2 + (library_2d_dist['proj_1'] - library_2d_dist['proj_1_mean'])**2)"
   ]
  },
  {
   "cell_type": "code",
   "execution_count": 19,
   "metadata": {},
   "outputs": [
    {
     "data": {
      "text/html": [
       "<div>\n",
       "<style scoped>\n",
       "    .dataframe tbody tr th:only-of-type {\n",
       "        vertical-align: middle;\n",
       "    }\n",
       "\n",
       "    .dataframe tbody tr th {\n",
       "        vertical-align: top;\n",
       "    }\n",
       "\n",
       "    .dataframe thead th {\n",
       "        text-align: right;\n",
       "    }\n",
       "</style>\n",
       "<table border=\"1\" class=\"dataframe\">\n",
       "  <thead>\n",
       "    <tr style=\"text-align: right;\">\n",
       "      <th></th>\n",
       "      <th>author</th>\n",
       "      <th>proj_0</th>\n",
       "      <th>proj_1</th>\n",
       "      <th>proj_0_mean</th>\n",
       "      <th>proj_1_mean</th>\n",
       "      <th>dist_mean</th>\n",
       "    </tr>\n",
       "  </thead>\n",
       "  <tbody>\n",
       "    <tr>\n",
       "      <th>56951</th>\n",
       "      <td>Homer</td>\n",
       "      <td>7.209781</td>\n",
       "      <td>5.136944</td>\n",
       "      <td>6.936187</td>\n",
       "      <td>5.295058</td>\n",
       "      <td>0.315997</td>\n",
       "    </tr>\n",
       "    <tr>\n",
       "      <th>8076</th>\n",
       "      <td>Homer</td>\n",
       "      <td>6.767606</td>\n",
       "      <td>5.392134</td>\n",
       "      <td>6.936187</td>\n",
       "      <td>5.295058</td>\n",
       "      <td>0.194533</td>\n",
       "    </tr>\n",
       "    <tr>\n",
       "      <th>13293</th>\n",
       "      <td>Homer</td>\n",
       "      <td>6.904710</td>\n",
       "      <td>5.326296</td>\n",
       "      <td>6.936187</td>\n",
       "      <td>5.295058</td>\n",
       "      <td>0.044346</td>\n",
       "    </tr>\n",
       "    <tr>\n",
       "      <th>23961</th>\n",
       "      <td>Homer</td>\n",
       "      <td>7.075434</td>\n",
       "      <td>5.252836</td>\n",
       "      <td>6.936187</td>\n",
       "      <td>5.295058</td>\n",
       "      <td>0.145508</td>\n",
       "    </tr>\n",
       "    <tr>\n",
       "      <th>7160</th>\n",
       "      <td>Homer</td>\n",
       "      <td>7.188759</td>\n",
       "      <td>5.158536</td>\n",
       "      <td>6.936187</td>\n",
       "      <td>5.295058</td>\n",
       "      <td>0.287108</td>\n",
       "    </tr>\n",
       "    <tr>\n",
       "      <th>...</th>\n",
       "      <td>...</td>\n",
       "      <td>...</td>\n",
       "      <td>...</td>\n",
       "      <td>...</td>\n",
       "      <td>...</td>\n",
       "      <td>...</td>\n",
       "    </tr>\n",
       "    <tr>\n",
       "      <th>64643</th>\n",
       "      <td>Lovecraft, H. P. (Howard Phillips)</td>\n",
       "      <td>5.903898</td>\n",
       "      <td>7.747753</td>\n",
       "      <td>5.935886</td>\n",
       "      <td>7.780312</td>\n",
       "      <td>0.045644</td>\n",
       "    </tr>\n",
       "    <tr>\n",
       "      <th>23804</th>\n",
       "      <td>Lovecraft, H. P. (Howard Phillips)</td>\n",
       "      <td>6.011392</td>\n",
       "      <td>7.856031</td>\n",
       "      <td>5.935886</td>\n",
       "      <td>7.780312</td>\n",
       "      <td>0.106932</td>\n",
       "    </tr>\n",
       "    <tr>\n",
       "      <th>22880</th>\n",
       "      <td>Lovecraft, H. P. (Howard Phillips)</td>\n",
       "      <td>5.957997</td>\n",
       "      <td>7.797246</td>\n",
       "      <td>5.935886</td>\n",
       "      <td>7.780312</td>\n",
       "      <td>0.027850</td>\n",
       "    </tr>\n",
       "    <tr>\n",
       "      <th>64994</th>\n",
       "      <td>Lovecraft, H. P. (Howard Phillips)</td>\n",
       "      <td>5.878820</td>\n",
       "      <td>7.721108</td>\n",
       "      <td>5.935886</td>\n",
       "      <td>7.780312</td>\n",
       "      <td>0.082229</td>\n",
       "    </tr>\n",
       "    <tr>\n",
       "      <th>64987</th>\n",
       "      <td>Lovecraft, H. P. (Howard Phillips)</td>\n",
       "      <td>5.885080</td>\n",
       "      <td>7.729752</td>\n",
       "      <td>5.935886</td>\n",
       "      <td>7.780312</td>\n",
       "      <td>0.071676</td>\n",
       "    </tr>\n",
       "  </tbody>\n",
       "</table>\n",
       "<p>527 rows × 6 columns</p>\n",
       "</div>"
      ],
      "text/plain": [
       "                                   author    proj_0    proj_1  proj_0_mean  \\\n",
       "56951                               Homer  7.209781  5.136944     6.936187   \n",
       "8076                                Homer  6.767606  5.392134     6.936187   \n",
       "13293                               Homer  6.904710  5.326296     6.936187   \n",
       "23961                               Homer  7.075434  5.252836     6.936187   \n",
       "7160                                Homer  7.188759  5.158536     6.936187   \n",
       "...                                   ...       ...       ...          ...   \n",
       "64643  Lovecraft, H. P. (Howard Phillips)  5.903898  7.747753     5.935886   \n",
       "23804  Lovecraft, H. P. (Howard Phillips)  6.011392  7.856031     5.935886   \n",
       "22880  Lovecraft, H. P. (Howard Phillips)  5.957997  7.797246     5.935886   \n",
       "64994  Lovecraft, H. P. (Howard Phillips)  5.878820  7.721108     5.935886   \n",
       "64987  Lovecraft, H. P. (Howard Phillips)  5.885080  7.729752     5.935886   \n",
       "\n",
       "       proj_1_mean  dist_mean  \n",
       "56951     5.295058   0.315997  \n",
       "8076      5.295058   0.194533  \n",
       "13293     5.295058   0.044346  \n",
       "23961     5.295058   0.145508  \n",
       "7160      5.295058   0.287108  \n",
       "...            ...        ...  \n",
       "64643     7.780312   0.045644  \n",
       "23804     7.780312   0.106932  \n",
       "22880     7.780312   0.027850  \n",
       "64994     7.780312   0.082229  \n",
       "64987     7.780312   0.071676  \n",
       "\n",
       "[527 rows x 6 columns]"
      ]
     },
     "execution_count": 19,
     "metadata": {},
     "output_type": "execute_result"
    }
   ],
   "source": [
    "library_2d_dist"
   ]
  },
  {
   "cell_type": "code",
   "execution_count": 20,
   "metadata": {},
   "outputs": [
    {
     "data": {
      "text/plain": [
       "count    527.000000\n",
       "mean       0.819817\n",
       "std        0.943572\n",
       "min        0.001586\n",
       "25%        0.262010\n",
       "50%        0.738453\n",
       "75%        1.173484\n",
       "max       12.528560\n",
       "Name: dist_mean, dtype: float64"
      ]
     },
     "execution_count": 20,
     "metadata": {},
     "output_type": "execute_result"
    }
   ],
   "source": [
    "library_2d_dist['dist_mean'].describe()"
   ]
  },
  {
   "cell_type": "code",
   "execution_count": 21,
   "metadata": {},
   "outputs": [],
   "source": [
    "dist2d_mean = library_2d_dist['dist_mean'].mean()"
   ]
  },
  {
   "cell_type": "code",
   "execution_count": 52,
   "metadata": {},
   "outputs": [],
   "source": [
    "library_select['dist2d_mean'] = dist2d_mean"
   ]
  },
  {
   "cell_type": "code",
   "execution_count": 54,
   "metadata": {},
   "outputs": [],
   "source": [
    "# saving for streamlit\n",
    "library_select.to_pickle('../data/library_distances2d.pkl')"
   ]
  },
  {
   "attachments": {},
   "cell_type": "markdown",
   "metadata": {},
   "source": [
    "## Similarity using spatial distance in 100 dimension\n",
    "\n",
    "Another way to look at the produced weights and which ones are similar"
   ]
  },
  {
   "attachments": {},
   "cell_type": "markdown",
   "metadata": {},
   "source": [
    "Calculating cosine similarity (using dim_0 to dim_99 cols) - for a first attempt, group it by author."
   ]
  },
  {
   "cell_type": "code",
   "execution_count": 16,
   "metadata": {},
   "outputs": [
    {
     "ename": "KeyError",
     "evalue": "\"['proj_0', 'proj_1'] not found in axis\"",
     "output_type": "error",
     "traceback": [
      "\u001b[0;31m---------------------------------------------------------------------------\u001b[0m",
      "\u001b[0;31mKeyError\u001b[0m                                  Traceback (most recent call last)",
      "Cell \u001b[0;32mIn[16], line 2\u001b[0m\n\u001b[1;32m      1\u001b[0m \u001b[39m# idea use this to transpose and then see the dist from each book to this point?\u001b[39;00m\n\u001b[0;32m----> 2\u001b[0m library_select_grouped \u001b[39m=\u001b[39m library_select\u001b[39m.\u001b[39;49mdrop(columns\u001b[39m=\u001b[39;49m[\u001b[39m'\u001b[39;49m\u001b[39mid\u001b[39;49m\u001b[39m'\u001b[39;49m,\u001b[39m'\u001b[39;49m\u001b[39mtitle\u001b[39;49m\u001b[39m'\u001b[39;49m,\u001b[39m'\u001b[39;49m\u001b[39mauthorcentury_str\u001b[39;49m\u001b[39m'\u001b[39;49m,\u001b[39m'\u001b[39;49m\u001b[39mproj_0\u001b[39;49m\u001b[39m'\u001b[39;49m,\u001b[39m'\u001b[39;49m\u001b[39mproj_1\u001b[39;49m\u001b[39m'\u001b[39;49m])\u001b[39m.\u001b[39mgroupby(\u001b[39m'\u001b[39m\u001b[39mauthor\u001b[39m\u001b[39m'\u001b[39m)\u001b[39m.\u001b[39mmean()\n",
      "File \u001b[0;32m~/opt/anaconda3/envs/huggingface_ds6/lib/python3.11/site-packages/pandas/core/frame.py:5258\u001b[0m, in \u001b[0;36mDataFrame.drop\u001b[0;34m(self, labels, axis, index, columns, level, inplace, errors)\u001b[0m\n\u001b[1;32m   5110\u001b[0m \u001b[39mdef\u001b[39;00m \u001b[39mdrop\u001b[39m(\n\u001b[1;32m   5111\u001b[0m     \u001b[39mself\u001b[39m,\n\u001b[1;32m   5112\u001b[0m     labels: IndexLabel \u001b[39m=\u001b[39m \u001b[39mNone\u001b[39;00m,\n\u001b[0;32m   (...)\u001b[0m\n\u001b[1;32m   5119\u001b[0m     errors: IgnoreRaise \u001b[39m=\u001b[39m \u001b[39m\"\u001b[39m\u001b[39mraise\u001b[39m\u001b[39m\"\u001b[39m,\n\u001b[1;32m   5120\u001b[0m ) \u001b[39m-\u001b[39m\u001b[39m>\u001b[39m DataFrame \u001b[39m|\u001b[39m \u001b[39mNone\u001b[39;00m:\n\u001b[1;32m   5121\u001b[0m \u001b[39m    \u001b[39m\u001b[39m\"\"\"\u001b[39;00m\n\u001b[1;32m   5122\u001b[0m \u001b[39m    Drop specified labels from rows or columns.\u001b[39;00m\n\u001b[1;32m   5123\u001b[0m \n\u001b[0;32m   (...)\u001b[0m\n\u001b[1;32m   5256\u001b[0m \u001b[39m            weight  1.0     0.8\u001b[39;00m\n\u001b[1;32m   5257\u001b[0m \u001b[39m    \"\"\"\u001b[39;00m\n\u001b[0;32m-> 5258\u001b[0m     \u001b[39mreturn\u001b[39;00m \u001b[39msuper\u001b[39;49m()\u001b[39m.\u001b[39;49mdrop(\n\u001b[1;32m   5259\u001b[0m         labels\u001b[39m=\u001b[39;49mlabels,\n\u001b[1;32m   5260\u001b[0m         axis\u001b[39m=\u001b[39;49maxis,\n\u001b[1;32m   5261\u001b[0m         index\u001b[39m=\u001b[39;49mindex,\n\u001b[1;32m   5262\u001b[0m         columns\u001b[39m=\u001b[39;49mcolumns,\n\u001b[1;32m   5263\u001b[0m         level\u001b[39m=\u001b[39;49mlevel,\n\u001b[1;32m   5264\u001b[0m         inplace\u001b[39m=\u001b[39;49minplace,\n\u001b[1;32m   5265\u001b[0m         errors\u001b[39m=\u001b[39;49merrors,\n\u001b[1;32m   5266\u001b[0m     )\n",
      "File \u001b[0;32m~/opt/anaconda3/envs/huggingface_ds6/lib/python3.11/site-packages/pandas/core/generic.py:4549\u001b[0m, in \u001b[0;36mNDFrame.drop\u001b[0;34m(self, labels, axis, index, columns, level, inplace, errors)\u001b[0m\n\u001b[1;32m   4547\u001b[0m \u001b[39mfor\u001b[39;00m axis, labels \u001b[39min\u001b[39;00m axes\u001b[39m.\u001b[39mitems():\n\u001b[1;32m   4548\u001b[0m     \u001b[39mif\u001b[39;00m labels \u001b[39mis\u001b[39;00m \u001b[39mnot\u001b[39;00m \u001b[39mNone\u001b[39;00m:\n\u001b[0;32m-> 4549\u001b[0m         obj \u001b[39m=\u001b[39m obj\u001b[39m.\u001b[39;49m_drop_axis(labels, axis, level\u001b[39m=\u001b[39;49mlevel, errors\u001b[39m=\u001b[39;49merrors)\n\u001b[1;32m   4551\u001b[0m \u001b[39mif\u001b[39;00m inplace:\n\u001b[1;32m   4552\u001b[0m     \u001b[39mself\u001b[39m\u001b[39m.\u001b[39m_update_inplace(obj)\n",
      "File \u001b[0;32m~/opt/anaconda3/envs/huggingface_ds6/lib/python3.11/site-packages/pandas/core/generic.py:4591\u001b[0m, in \u001b[0;36mNDFrame._drop_axis\u001b[0;34m(self, labels, axis, level, errors, only_slice)\u001b[0m\n\u001b[1;32m   4589\u001b[0m         new_axis \u001b[39m=\u001b[39m axis\u001b[39m.\u001b[39mdrop(labels, level\u001b[39m=\u001b[39mlevel, errors\u001b[39m=\u001b[39merrors)\n\u001b[1;32m   4590\u001b[0m     \u001b[39melse\u001b[39;00m:\n\u001b[0;32m-> 4591\u001b[0m         new_axis \u001b[39m=\u001b[39m axis\u001b[39m.\u001b[39;49mdrop(labels, errors\u001b[39m=\u001b[39;49merrors)\n\u001b[1;32m   4592\u001b[0m     indexer \u001b[39m=\u001b[39m axis\u001b[39m.\u001b[39mget_indexer(new_axis)\n\u001b[1;32m   4594\u001b[0m \u001b[39m# Case for non-unique axis\u001b[39;00m\n\u001b[1;32m   4595\u001b[0m \u001b[39melse\u001b[39;00m:\n",
      "File \u001b[0;32m~/opt/anaconda3/envs/huggingface_ds6/lib/python3.11/site-packages/pandas/core/indexes/base.py:6696\u001b[0m, in \u001b[0;36mIndex.drop\u001b[0;34m(self, labels, errors)\u001b[0m\n\u001b[1;32m   6694\u001b[0m \u001b[39mif\u001b[39;00m mask\u001b[39m.\u001b[39many():\n\u001b[1;32m   6695\u001b[0m     \u001b[39mif\u001b[39;00m errors \u001b[39m!=\u001b[39m \u001b[39m\"\u001b[39m\u001b[39mignore\u001b[39m\u001b[39m\"\u001b[39m:\n\u001b[0;32m-> 6696\u001b[0m         \u001b[39mraise\u001b[39;00m \u001b[39mKeyError\u001b[39;00m(\u001b[39mf\u001b[39m\u001b[39m\"\u001b[39m\u001b[39m{\u001b[39;00m\u001b[39mlist\u001b[39m(labels[mask])\u001b[39m}\u001b[39;00m\u001b[39m not found in axis\u001b[39m\u001b[39m\"\u001b[39m)\n\u001b[1;32m   6697\u001b[0m     indexer \u001b[39m=\u001b[39m indexer[\u001b[39m~\u001b[39mmask]\n\u001b[1;32m   6698\u001b[0m \u001b[39mreturn\u001b[39;00m \u001b[39mself\u001b[39m\u001b[39m.\u001b[39mdelete(indexer)\n",
      "\u001b[0;31mKeyError\u001b[0m: \"['proj_0', 'proj_1'] not found in axis\""
     ]
    }
   ],
   "source": [
    "# idea use this to transpose and then see the dist from each book to this point?\n",
    "library_select_grouped = library_select.drop(columns=['id','title','authorcentury_str','proj_0','proj_1']).groupby('author').mean()"
   ]
  },
  {
   "cell_type": "code",
   "execution_count": 25,
   "metadata": {},
   "outputs": [],
   "source": [
    "dists = spatial.distance.pdist(library_select_grouped.values, metric='euclidean') # metric='cosine'"
   ]
  },
  {
   "cell_type": "code",
   "execution_count": 26,
   "metadata": {},
   "outputs": [
    {
     "data": {
      "image/png": "[encoded data removed]",
      "text/plain": [
       "<Figure size 1200x800 with 1 Axes>"
      ]
     },
     "metadata": {},
     "output_type": "display_data"
    }
   ],
   "source": [
    "mergings = linkage(dists, method='complete')\n",
    "\n",
    "plt.figure(figsize = (12,8))\n",
    "dendrogram(mergings,\n",
    "           labels = list(library_select_grouped.index),\n",
    "           leaf_rotation = 90,\n",
    "           leaf_font_size = 6);\n",
    "\n",
    "plt.tight_layout()"
   ]
  },
  {
   "cell_type": "code",
   "execution_count": null,
   "metadata": {},
   "outputs": [],
   "source": [
    "# before I realized to use this approach, I first concatenated all the texts in the pandas series which returns an extremely long string\n",
    "# I then turn that string into a pandas series (the predict requires an iterable object)\n",
    "# pipe_nn.predict(pd.Series(library_select.loc[library_select['author'] == 0]['book_content'].str.cat()))"
   ]
  },
  {
   "attachments": {},
   "cell_type": "markdown",
   "metadata": {},
   "source": [
    "## Introducing New Text\n",
    "\n",
    "This part will ideally be in an app where any text can be uploaded"
   ]
  },
  {
   "attachments": {},
   "cell_type": "markdown",
   "metadata": {},
   "source": [
    "Here I will test it with two books I've written."
   ]
  },
  {
   "cell_type": "code",
   "execution_count": null,
   "metadata": {},
   "outputs": [],
   "source": [
    "# if the model was not run above, this is where we load the encoder and the umamp_mnist\n",
    "# pipe_nn_encoder = load('../models/pipe_nn_encoder_01.joblib') \n",
    "# umap_mnist = load('../models/umap_mnist_01.joblib')"
   ]
  },
  {
   "cell_type": "code",
   "execution_count": 31,
   "metadata": {},
   "outputs": [],
   "source": [
    "newtext = pd.DataFrame()\n",
    "\n",
    "for book_num, book_name in enumerate(['Lambda', 'Deathway']):\n",
    "        filepath = f'../data/{book_name} by Tomo Umer.txt'\n",
    "\n",
    "        with open(filepath, encoding = 'utf-8') as fi:\n",
    "                book = fi.read()\n",
    "        \n",
    "        tmp_text = pd.DataFrame({'id': f'TU{str(book_num).zfill(3)}',\n",
    "                                 'title': [book_name],\n",
    "                                 'author': 'Umer, Tomo',\n",
    "                                 'authorcentury_str': '21st century CE',\n",
    "                                 'book_content': [book]})\n",
    "\n",
    "        newtext = pd.concat([newtext, tmp_text], ignore_index = True)"
   ]
  },
  {
   "cell_type": "code",
   "execution_count": 32,
   "metadata": {},
   "outputs": [
    {
     "data": {
      "text/html": [
       "<div>\n",
       "<style scoped>\n",
       "    .dataframe tbody tr th:only-of-type {\n",
       "        vertical-align: middle;\n",
       "    }\n",
       "\n",
       "    .dataframe tbody tr th {\n",
       "        vertical-align: top;\n",
       "    }\n",
       "\n",
       "    .dataframe thead th {\n",
       "        text-align: right;\n",
       "    }\n",
       "</style>\n",
       "<table border=\"1\" class=\"dataframe\">\n",
       "  <thead>\n",
       "    <tr style=\"text-align: right;\">\n",
       "      <th></th>\n",
       "      <th>id</th>\n",
       "      <th>title</th>\n",
       "      <th>author</th>\n",
       "      <th>authorcentury_str</th>\n",
       "      <th>book_content</th>\n",
       "    </tr>\n",
       "  </thead>\n",
       "  <tbody>\n",
       "    <tr>\n",
       "      <th>0</th>\n",
       "      <td>TU000</td>\n",
       "      <td>Lambda</td>\n",
       "      <td>Umer, Tomo</td>\n",
       "      <td>21st century CE</td>\n",
       "      <td>Lambda\\n\\n\\n\\n\\n\\n\\n\\n\\n\\n\\n\\n\\n\\n\\n\\n\\n\\n\\n\\n...</td>\n",
       "    </tr>\n",
       "    <tr>\n",
       "      <th>1</th>\n",
       "      <td>TU001</td>\n",
       "      <td>Deathway</td>\n",
       "      <td>Umer, Tomo</td>\n",
       "      <td>21st century CE</td>\n",
       "      <td>DeathwayIndex\\nIntroduction\\nMy second novel! ...</td>\n",
       "    </tr>\n",
       "  </tbody>\n",
       "</table>\n",
       "</div>"
      ],
      "text/plain": [
       "      id     title      author authorcentury_str  \\\n",
       "0  TU000    Lambda  Umer, Tomo   21st century CE   \n",
       "1  TU001  Deathway  Umer, Tomo   21st century CE   \n",
       "\n",
       "                                        book_content  \n",
       "0  Lambda\\n\\n\\n\\n\\n\\n\\n\\n\\n\\n\\n\\n\\n\\n\\n\\n\\n\\n\\n\\n...  \n",
       "1  DeathwayIndex\\nIntroduction\\nMy second novel! ...  "
      ]
     },
     "execution_count": 32,
     "metadata": {},
     "output_type": "execute_result"
    }
   ],
   "source": [
    "newtext"
   ]
  },
  {
   "attachments": {},
   "cell_type": "markdown",
   "metadata": {},
   "source": [
    "As a reminder (to myself), in order to convert the new texts, we only need predict and transform methods"
   ]
  },
  {
   "cell_type": "code",
   "execution_count": 33,
   "metadata": {},
   "outputs": [],
   "source": [
    "# now using predict from the encoder to get the 100-dimensional projection of new text\n",
    "nn_represent_newtext = pipe_nn_encoder.predict(newtext['book_content'])\n",
    "\n",
    "# and its 2d representation using umap\n",
    "umap_projection_newtext = umap_mnist.transform(nn_represent_newtext)"
   ]
  },
  {
   "cell_type": "code",
   "execution_count": 34,
   "metadata": {},
   "outputs": [],
   "source": [
    "# and then just like with the authors, convert new texts into a dataframe\n",
    "# convert the 100 dimensional vector of neuron weights into dataframe\n",
    "newtxt_represent = pd.DataFrame(nn_represent_newtext, columns=[f'dim_{x}' for x in range(100)])\n",
    "\n",
    "# and also the 2d representation\n",
    "newtxt_proj = pd.DataFrame(umap_projection_newtext, columns=[f'proj_{x}' for x in range(2)])\n",
    "\n",
    "# concatenate together with some info from the original df. at this point, for this notebook won't be needing the book texts anymore\n",
    "# I'll create a new notebook for NN from a different package\n",
    "newtext = pd.concat([\n",
    "    newtext[['id','title','author','authorcentury_str']],\n",
    "    newtxt_proj.set_index(newtext.index),\n",
    "    newtxt_represent.set_index(newtext.index)],\n",
    "    axis=1)"
   ]
  },
  {
   "attachments": {},
   "cell_type": "markdown",
   "metadata": {},
   "source": [
    "Then, use the median 0.549409 (or possibly mean 0.721832) value to get a circle around the new texts - to visually represent similar books."
   ]
  },
  {
   "cell_type": "code",
   "execution_count": 35,
   "metadata": {},
   "outputs": [],
   "source": [
    "circle_edges = newtext[['proj_0', 'proj_1']].copy()"
   ]
  },
  {
   "cell_type": "code",
   "execution_count": 36,
   "metadata": {},
   "outputs": [],
   "source": [
    "circle_edges['x0'] = circle_edges['proj_0'] - dist2d_mean\n",
    "circle_edges['x1'] = circle_edges['proj_0'] + dist2d_mean\n",
    "circle_edges['y0'] = circle_edges['proj_1'] - dist2d_mean\n",
    "circle_edges['y1'] = circle_edges['proj_1'] + dist2d_mean"
   ]
  },
  {
   "cell_type": "code",
   "execution_count": 37,
   "metadata": {},
   "outputs": [
    {
     "data": {
      "text/html": [
       "<div>\n",
       "<style scoped>\n",
       "    .dataframe tbody tr th:only-of-type {\n",
       "        vertical-align: middle;\n",
       "    }\n",
       "\n",
       "    .dataframe tbody tr th {\n",
       "        vertical-align: top;\n",
       "    }\n",
       "\n",
       "    .dataframe thead th {\n",
       "        text-align: right;\n",
       "    }\n",
       "</style>\n",
       "<table border=\"1\" class=\"dataframe\">\n",
       "  <thead>\n",
       "    <tr style=\"text-align: right;\">\n",
       "      <th></th>\n",
       "      <th>proj_0</th>\n",
       "      <th>proj_1</th>\n",
       "      <th>x0</th>\n",
       "      <th>x1</th>\n",
       "      <th>y0</th>\n",
       "      <th>y1</th>\n",
       "    </tr>\n",
       "  </thead>\n",
       "  <tbody>\n",
       "    <tr>\n",
       "      <th>0</th>\n",
       "      <td>6.869560</td>\n",
       "      <td>4.503577</td>\n",
       "      <td>6.049742</td>\n",
       "      <td>7.689377</td>\n",
       "      <td>3.683759</td>\n",
       "      <td>5.323394</td>\n",
       "    </tr>\n",
       "    <tr>\n",
       "      <th>1</th>\n",
       "      <td>5.281713</td>\n",
       "      <td>7.188531</td>\n",
       "      <td>4.461895</td>\n",
       "      <td>6.101531</td>\n",
       "      <td>6.368713</td>\n",
       "      <td>8.008348</td>\n",
       "    </tr>\n",
       "  </tbody>\n",
       "</table>\n",
       "</div>"
      ],
      "text/plain": [
       "     proj_0    proj_1        x0        x1        y0        y1\n",
       "0  6.869560  4.503577  6.049742  7.689377  3.683759  5.323394\n",
       "1  5.281713  7.188531  4.461895  6.101531  6.368713  8.008348"
      ]
     },
     "execution_count": 37,
     "metadata": {},
     "output_type": "execute_result"
    }
   ],
   "source": [
    "circle_edges"
   ]
  },
  {
   "attachments": {},
   "cell_type": "markdown",
   "metadata": {},
   "source": [
    "Finally, simply add the new text to the library."
   ]
  },
  {
   "cell_type": "code",
   "execution_count": 38,
   "metadata": {},
   "outputs": [],
   "source": [
    "library_newtext = pd.concat([library_select, newtext])"
   ]
  },
  {
   "cell_type": "code",
   "execution_count": 39,
   "metadata": {},
   "outputs": [
    {
     "data": {
      "text/html": [
       "<div>\n",
       "<style scoped>\n",
       "    .dataframe tbody tr th:only-of-type {\n",
       "        vertical-align: middle;\n",
       "    }\n",
       "\n",
       "    .dataframe tbody tr th {\n",
       "        vertical-align: top;\n",
       "    }\n",
       "\n",
       "    .dataframe thead th {\n",
       "        text-align: right;\n",
       "    }\n",
       "</style>\n",
       "<table border=\"1\" class=\"dataframe\">\n",
       "  <thead>\n",
       "    <tr style=\"text-align: right;\">\n",
       "      <th></th>\n",
       "      <th>id</th>\n",
       "      <th>title</th>\n",
       "      <th>author</th>\n",
       "      <th>authorcentury_str</th>\n",
       "      <th>proj_0</th>\n",
       "      <th>proj_1</th>\n",
       "      <th>dim_0</th>\n",
       "      <th>dim_1</th>\n",
       "      <th>dim_2</th>\n",
       "      <th>dim_3</th>\n",
       "      <th>...</th>\n",
       "      <th>dim_90</th>\n",
       "      <th>dim_91</th>\n",
       "      <th>dim_92</th>\n",
       "      <th>dim_93</th>\n",
       "      <th>dim_94</th>\n",
       "      <th>dim_95</th>\n",
       "      <th>dim_96</th>\n",
       "      <th>dim_97</th>\n",
       "      <th>dim_98</th>\n",
       "      <th>dim_99</th>\n",
       "    </tr>\n",
       "  </thead>\n",
       "  <tbody>\n",
       "    <tr>\n",
       "      <th>56951</th>\n",
       "      <td>PG6130</td>\n",
       "      <td>The Iliad</td>\n",
       "      <td>Homer</td>\n",
       "      <td>7th century BCE</td>\n",
       "      <td>7.209781</td>\n",
       "      <td>5.136944</td>\n",
       "      <td>31.972428</td>\n",
       "      <td>5.825817</td>\n",
       "      <td>7.852293</td>\n",
       "      <td>1.029979</td>\n",
       "      <td>...</td>\n",
       "      <td>18.477751</td>\n",
       "      <td>32.159493</td>\n",
       "      <td>13.639279</td>\n",
       "      <td>0.0</td>\n",
       "      <td>0.0</td>\n",
       "      <td>16.124452</td>\n",
       "      <td>15.047077</td>\n",
       "      <td>0.00000</td>\n",
       "      <td>0.0</td>\n",
       "      <td>0.0</td>\n",
       "    </tr>\n",
       "    <tr>\n",
       "      <th>8076</th>\n",
       "      <td>PG1727</td>\n",
       "      <td>The Odyssey: Rendered into English prose for t...</td>\n",
       "      <td>Homer</td>\n",
       "      <td>7th century BCE</td>\n",
       "      <td>6.767606</td>\n",
       "      <td>5.392134</td>\n",
       "      <td>13.369946</td>\n",
       "      <td>1.337962</td>\n",
       "      <td>3.519954</td>\n",
       "      <td>0.172030</td>\n",
       "      <td>...</td>\n",
       "      <td>5.607742</td>\n",
       "      <td>11.612362</td>\n",
       "      <td>1.599361</td>\n",
       "      <td>0.0</td>\n",
       "      <td>0.0</td>\n",
       "      <td>7.323183</td>\n",
       "      <td>4.742896</td>\n",
       "      <td>0.36624</td>\n",
       "      <td>0.0</td>\n",
       "      <td>0.0</td>\n",
       "    </tr>\n",
       "    <tr>\n",
       "      <th>13293</th>\n",
       "      <td>PG2199</td>\n",
       "      <td>The Iliad</td>\n",
       "      <td>Homer</td>\n",
       "      <td>7th century BCE</td>\n",
       "      <td>6.904710</td>\n",
       "      <td>5.326296</td>\n",
       "      <td>15.358421</td>\n",
       "      <td>3.172665</td>\n",
       "      <td>4.607730</td>\n",
       "      <td>0.000000</td>\n",
       "      <td>...</td>\n",
       "      <td>9.925390</td>\n",
       "      <td>16.308395</td>\n",
       "      <td>5.032056</td>\n",
       "      <td>0.0</td>\n",
       "      <td>0.0</td>\n",
       "      <td>9.510005</td>\n",
       "      <td>6.671427</td>\n",
       "      <td>0.00000</td>\n",
       "      <td>0.0</td>\n",
       "      <td>0.0</td>\n",
       "    </tr>\n",
       "    <tr>\n",
       "      <th>23961</th>\n",
       "      <td>PG3160</td>\n",
       "      <td>The Odyssey</td>\n",
       "      <td>Homer</td>\n",
       "      <td>7th century BCE</td>\n",
       "      <td>7.075434</td>\n",
       "      <td>5.252836</td>\n",
       "      <td>21.878607</td>\n",
       "      <td>2.897674</td>\n",
       "      <td>5.948186</td>\n",
       "      <td>2.086448</td>\n",
       "      <td>...</td>\n",
       "      <td>13.263615</td>\n",
       "      <td>21.716379</td>\n",
       "      <td>9.042165</td>\n",
       "      <td>0.0</td>\n",
       "      <td>0.0</td>\n",
       "      <td>13.184772</td>\n",
       "      <td>6.047783</td>\n",
       "      <td>0.00000</td>\n",
       "      <td>0.0</td>\n",
       "      <td>0.0</td>\n",
       "    </tr>\n",
       "    <tr>\n",
       "      <th>7160</th>\n",
       "      <td>PG16452</td>\n",
       "      <td>The Iliad of Homer: Translated into English Bl...</td>\n",
       "      <td>Homer</td>\n",
       "      <td>7th century BCE</td>\n",
       "      <td>7.188759</td>\n",
       "      <td>5.158536</td>\n",
       "      <td>40.097839</td>\n",
       "      <td>0.000000</td>\n",
       "      <td>10.014814</td>\n",
       "      <td>0.000000</td>\n",
       "      <td>...</td>\n",
       "      <td>25.754889</td>\n",
       "      <td>45.880332</td>\n",
       "      <td>10.021244</td>\n",
       "      <td>0.0</td>\n",
       "      <td>0.0</td>\n",
       "      <td>23.948121</td>\n",
       "      <td>21.173872</td>\n",
       "      <td>0.00000</td>\n",
       "      <td>0.0</td>\n",
       "      <td>0.0</td>\n",
       "    </tr>\n",
       "  </tbody>\n",
       "</table>\n",
       "<p>5 rows × 106 columns</p>\n",
       "</div>"
      ],
      "text/plain": [
       "            id                                              title author  \\\n",
       "56951   PG6130                                          The Iliad  Homer   \n",
       "8076    PG1727  The Odyssey: Rendered into English prose for t...  Homer   \n",
       "13293   PG2199                                          The Iliad  Homer   \n",
       "23961   PG3160                                        The Odyssey  Homer   \n",
       "7160   PG16452  The Iliad of Homer: Translated into English Bl...  Homer   \n",
       "\n",
       "      authorcentury_str    proj_0    proj_1      dim_0     dim_1      dim_2  \\\n",
       "56951   7th century BCE  7.209781  5.136944  31.972428  5.825817   7.852293   \n",
       "8076    7th century BCE  6.767606  5.392134  13.369946  1.337962   3.519954   \n",
       "13293   7th century BCE  6.904710  5.326296  15.358421  3.172665   4.607730   \n",
       "23961   7th century BCE  7.075434  5.252836  21.878607  2.897674   5.948186   \n",
       "7160    7th century BCE  7.188759  5.158536  40.097839  0.000000  10.014814   \n",
       "\n",
       "          dim_3  ...     dim_90     dim_91     dim_92  dim_93  dim_94  \\\n",
       "56951  1.029979  ...  18.477751  32.159493  13.639279     0.0     0.0   \n",
       "8076   0.172030  ...   5.607742  11.612362   1.599361     0.0     0.0   \n",
       "13293  0.000000  ...   9.925390  16.308395   5.032056     0.0     0.0   \n",
       "23961  2.086448  ...  13.263615  21.716379   9.042165     0.0     0.0   \n",
       "7160   0.000000  ...  25.754889  45.880332  10.021244     0.0     0.0   \n",
       "\n",
       "          dim_95     dim_96   dim_97  dim_98  dim_99  \n",
       "56951  16.124452  15.047077  0.00000     0.0     0.0  \n",
       "8076    7.323183   4.742896  0.36624     0.0     0.0  \n",
       "13293   9.510005   6.671427  0.00000     0.0     0.0  \n",
       "23961  13.184772   6.047783  0.00000     0.0     0.0  \n",
       "7160   23.948121  21.173872  0.00000     0.0     0.0  \n",
       "\n",
       "[5 rows x 106 columns]"
      ]
     },
     "execution_count": 39,
     "metadata": {},
     "output_type": "execute_result"
    }
   ],
   "source": [
    "library_select.head()"
   ]
  },
  {
   "cell_type": "code",
   "execution_count": 40,
   "metadata": {},
   "outputs": [
    {
     "data": {
      "application/vnd.plotly.v1+json": {
       "config": {
        "plotlyServerURL": "https://plot.ly"
       },
       "data": [
        {
         "customdata": [
          [
           "The Iliad"
          ],
          [
           "The Odyssey: Rendered into English prose for the use of those who cannot read the original"
          ],
          [
           "The Iliad"
          ],
          [
           "The Odyssey"
          ],
          [
           "The Iliad of Homer: Translated into English Blank Verse by William Cowper"
          ],
          [
           "The Odyssey of Homer"
          ],
          [
           "The Iliads of Homer: Translated according to the Greek"
          ],
          [
           "The Iliad"
          ],
          [
           "The Iliad"
          ],
          [
           "The Odysseys of Homer, together with the shorter poems"
          ],
          [
           "The Iliad"
          ],
          [
           "The Odyssey of Homer"
          ],
          [
           "The Adventures of Ulysses the Wanderer"
          ],
          [
           "Odysseus, the Hero of Ithaca: Adapted from the Third Book of the Primary Schools of Athens, Greece"
          ]
         ],
         "hovertemplate": "author=Homer<br>proj_0=%{x}<br>proj_1=%{y}<br>title=%{customdata[0]}<extra></extra>",
         "legendgroup": "Homer",
         "marker": {
          "color": "#AA0DFE",
          "symbol": "circle"
         },
         "mode": "markers",
         "name": "Homer",
         "orientation": "v",
         "showlegend": true,
         "type": "scatter",
         "x": [
          7.209780693054199,
          6.767605781555176,
          6.904710292816162,
          7.075433731079102,
          7.188758850097656,
          6.699198246002197,
          7.192433834075928,
          7.152585506439209,
          6.935420513153076,
          7.113255023956299,
          6.961800575256348,
          7.040703296661377,
          6.495729923248291,
          6.369198322296143
         ],
         "xaxis": "x",
         "y": [
          5.136943817138672,
          5.392133712768555,
          5.326295852661133,
          5.252835750579834,
          5.158535957336426,
          5.334108829498291,
          5.1676106452941895,
          5.202223777770996,
          5.337206840515137,
          5.226925373077393,
          5.326249599456787,
          5.289443492889404,
          5.4602861404418945,
          5.520017147064209
         ],
         "yaxis": "y"
        },
        {
         "customdata": [
          [
           "The Analects of Confucius (from the Chinese Classics)"
          ],
          [
           "The Sayings of Confucius: A New Translation of the Greater Part of the Confucian Analects"
          ],
          [
           "The Sayings of Confucius"
          ],
          [
           "The Wisdom of Confucius: with Critical and Biographical Sketches"
          ],
          [
           "Chinese Literature: Comprising the Analects of Confucius, the Sayings of Mencius, the Shi-King, the Travels of Fâ-Hien, and the Sorrows of Han"
          ]
         ],
         "hovertemplate": "author=Confucius<br>proj_0=%{x}<br>proj_1=%{y}<br>title=%{customdata[0]}<extra></extra>",
         "legendgroup": "Confucius",
         "marker": {
          "color": "#3283FE",
          "symbol": "circle"
         },
         "mode": "markers",
         "name": "Confucius",
         "orientation": "v",
         "showlegend": true,
         "type": "scatter",
         "x": [
          4.930060386657715,
          5.034829616546631,
          4.875879764556885,
          4.992377758026123,
          4.9834885597229
         ],
         "xaxis": "x",
         "y": [
          5.883731842041016,
          5.928735256195068,
          5.83914852142334,
          5.992291450500488,
          6.044589996337891
         ],
         "yaxis": "y"
        },
        {
         "customdata": [
          [
           "The Republic"
          ],
          [
           "The Republic of Plato"
          ],
          [
           "Symposium"
          ],
          [
           "Ion"
          ],
          [
           "Apology"
          ],
          [
           "Euthyphro"
          ],
          [
           "Phaedo"
          ],
          [
           "Gorgias"
          ],
          [
           "Laws"
          ],
          [
           "Phaedrus"
          ],
          [
           "Theaetetus"
          ],
          [
           "Timaeus"
          ],
          [
           "Apology, Crito, and Phaedo of Socrates"
          ],
          [
           "Meno"
          ],
          [
           "Alcibiades I"
          ],
          [
           "Sophist"
          ],
          [
           "Crito"
          ],
          [
           "Parmenides"
          ],
          [
           "Statesman"
          ],
          [
           "Protagoras"
          ],
          [
           "The Republic"
          ],
          [
           "Cratylus"
          ],
          [
           "Philebus"
          ],
          [
           "Menexenus"
          ],
          [
           "Critias"
          ],
          [
           "Charmides"
          ],
          [
           "Lesser Hippias"
          ],
          [
           "Laches"
          ],
          [
           "Lysis"
          ],
          [
           "Euthydemus"
          ],
          [
           "Alcibiades II"
          ],
          [
           "Eryxias"
          ]
         ],
         "hovertemplate": "author=Plato<br>proj_0=%{x}<br>proj_1=%{y}<br>title=%{customdata[0]}<extra></extra>",
         "legendgroup": "Plato",
         "marker": {
          "color": "#85660D",
          "symbol": "circle"
         },
         "mode": "markers",
         "name": "Plato",
         "orientation": "v",
         "showlegend": true,
         "type": "scatter",
         "x": [
          4.077408790588379,
          4.121675968170166,
          4.214341640472412,
          4.6837592124938965,
          4.211149215698242,
          4.625369071960449,
          4.214045524597168,
          4.477940559387207,
          4.131462574005127,
          4.193587779998779,
          4.413538455963135,
          4.165534496307373,
          4.2845139503479,
          4.62324333190918,
          4.668756484985352,
          4.44479513168335,
          4.628781318664551,
          4.224057197570801,
          4.2890496253967285,
          4.266172885894775,
          4.182847023010254,
          4.1120147705078125,
          4.629018783569336,
          4.2096333503723145,
          4.226197719573975,
          4.14921236038208,
          4.641326427459717,
          4.646651744842529,
          4.4535813331604,
          4.439453601837158,
          4.6061506271362305,
          4.576227188110352
         ],
         "xaxis": "x",
         "y": [
          -0.6315970420837402,
          -0.5661220550537109,
          -0.34009090065956116,
          1.2615320682525635,
          -0.3398125469684601,
          1.2322773933410645,
          -0.3529950976371765,
          0.5922405123710632,
          -0.4681352376937866,
          -0.36138397455215454,
          0.36118027567863464,
          -0.5839078426361084,
          -0.12625591456890106,
          1.0868663787841797,
          1.2925091981887817,
          0.48989027738571167,
          1.081452488899231,
          -0.3426241874694824,
          -0.16752442717552185,
          -0.09770476818084717,
          -0.5249021649360657,
          -0.43308109045028687,
          1.1643940210342407,
          -0.2934337258338928,
          -0.26337993144989014,
          -0.3820444345474243,
          1.3308804035186768,
          1.2989836931228638,
          0.5139657258987427,
          0.4926453232765198,
          1.2514452934265137,
          1.110816240310669
         ],
         "yaxis": "y"
        },
        {
         "customdata": [
          [
           "Cicero's Tusculan Disputations: Also, Treatises On The Nature Of The Gods, And On The Commonwealth"
          ],
          [
           "De Officiis"
          ],
          [
           "The republic of Cicero: Translated from the Latin; and Accompanied With a Critical and Historical Introduction."
          ],
          [
           "The Letters of Cicero, Volume 1: The Whole Extant Correspodence in Chronological Order"
          ],
          [
           "Treatises on Friendship and Old Age"
          ],
          [
           "Cicero: Letters to Atticus, Vol. 1 of 3"
          ],
          [
           "The Academic Questions, Treatise De Finibus, and Tusculan Disputations, of M.T. Cicero, With a Sketch of the Greek Philosophers Mentioned by Cicero"
          ],
          [
           "Cicero: Letters to Atticus, Vol. 3 of 3"
          ],
          [
           "Academica"
          ],
          [
           "Speeches against Catilina"
          ],
          [
           "Cicero: Letters to Atticus, Vol. 2 of 3"
          ],
          [
           "Cato Maior de Senectute with Introduction and Notes"
          ],
          [
           "The Orations of Marcus Tullius Cicero, Volume 4"
          ],
          [
           "Letters of Marcus Tullius Cicero"
          ]
         ],
         "hovertemplate": "author=Cicero, Marcus Tullius<br>proj_0=%{x}<br>proj_1=%{y}<br>title=%{customdata[0]}<extra></extra>",
         "legendgroup": "Cicero, Marcus Tullius",
         "marker": {
          "color": "#782AB6",
          "symbol": "circle"
         },
         "mode": "markers",
         "name": "Cicero, Marcus Tullius",
         "orientation": "v",
         "showlegend": true,
         "type": "scatter",
         "x": [
          2.2995262145996094,
          1.7953230142593384,
          2.440185785293579,
          2.3404664993286133,
          2.421529769897461,
          1.801382303237915,
          2.330456256866455,
          1.8328741788864136,
          1.8326042890548706,
          1.868865966796875,
          1.7986845970153809,
          1.8519829511642456,
          2.347475290298462,
          2.354351758956909
         ],
         "xaxis": "x",
         "y": [
          7.346920490264893,
          7.552652835845947,
          7.254344463348389,
          7.337308406829834,
          7.238498210906982,
          7.528556823730469,
          7.362488269805908,
          7.4966230392456055,
          7.496825695037842,
          7.4637041091918945,
          7.548135280609131,
          7.481834888458252,
          7.324339389801025,
          7.318713188171387
         ],
         "yaxis": "y"
        },
        {
         "customdata": [
          [
           "Seneca's Morals of a Happy Life, Benefits, Anger and Clemency"
          ],
          [
           "L. Annaeus Seneca on Benefits"
          ],
          [
           "Apocolocyntosis"
          ],
          [
           "Two Tragedies of Seneca: Medea and The Daughters of Troy: Rendered into English Verse"
          ],
          [
           "Minor Dialogues, Together With the Dialogue on Clemency"
          ]
         ],
         "hovertemplate": "author=Seneca, Lucius Annaeus<br>proj_0=%{x}<br>proj_1=%{y}<br>title=%{customdata[0]}<extra></extra>",
         "legendgroup": "Seneca, Lucius Annaeus",
         "marker": {
          "color": "#565656",
          "symbol": "circle"
         },
         "mode": "markers",
         "name": "Seneca, Lucius Annaeus",
         "orientation": "v",
         "showlegend": true,
         "type": "scatter",
         "x": [
          2.924574613571167,
          4.631582736968994,
          4.764671325683594,
          4.959079265594482,
          2.9605891704559326
         ],
         "xaxis": "x",
         "y": [
          6.565438270568848,
          5.807152271270752,
          5.408664703369141,
          5.692938327789307,
          6.560794353485107
         ],
         "yaxis": "y"
        },
        {
         "customdata": [
          [
           "The divine comedy"
          ],
          [
           "Divine Comedy, Longfellow's Translation, Hell"
          ],
          [
           "The Divine Comedy of Dante Alighieri: The Inferno"
          ],
          [
           "Divine Comedy, Longfellow's Translation, Complete"
          ],
          [
           "The Divine Comedy by Dante, Illustrated, Purgatory, Complete"
          ],
          [
           "The New Life (La Vita Nuova)"
          ],
          [
           "The Divine Comedy by Dante, Illustrated, Paradise, Complete"
          ],
          [
           "The vision of hell.: By Dante Alighieri.; Translated by Rev. Henry Francis Cary, M.A.; and illustrated with the seventy-five designs of Gustave Doré."
          ],
          [
           "Divine Comedy, Cary's Translation, Complete"
          ],
          [
           "The Divine Comedy, Volume 1, Hell"
          ],
          [
           "Divine Comedy, Longfellow's Translation, Paradise"
          ],
          [
           "Divine Comedy, Longfellow's Translation, Purgatory"
          ],
          [
           "The Divine Comedy, Volume 3, Paradise"
          ],
          [
           "The Divine Comedy, Volume 2, Purgatory"
          ],
          [
           "The Banquet (Il Convito)"
          ],
          [
           "Divine Comedy, Cary's Translation, Purgatory"
          ],
          [
           "Divine Comedy, Cary's Translation, Paradise"
          ],
          [
           "Divine Comedy, Cary's Translation, Hell"
          ],
          [
           "The Vision of Dante: A story for little children and a talk to their mothers: (Second Edition)"
          ]
         ],
         "hovertemplate": "author=Dante Alighieri<br>proj_0=%{x}<br>proj_1=%{y}<br>title=%{customdata[0]}<extra></extra>",
         "legendgroup": "Dante Alighieri",
         "marker": {
          "color": "#1C8356",
          "symbol": "circle"
         },
         "mode": "markers",
         "name": "Dante Alighieri",
         "orientation": "v",
         "showlegend": true,
         "type": "scatter",
         "x": [
          0.762107253074646,
          1.1001484394073486,
          0.836874783039093,
          1.0183364152908325,
          0.795319139957428,
          5.613395690917969,
          0.857395350933075,
          0.7575074434280396,
          0.7762828469276428,
          0.9069890975952148,
          1.039037823677063,
          1.0161675214767456,
          0.9224091172218323,
          0.9838237762451172,
          1.0987814664840698,
          0.7173594832420349,
          0.8860918879508972,
          0.8514833450317383,
          4.758016586303711
         ],
         "xaxis": "x",
         "y": [
          -2.8999524116516113,
          -2.7943453788757324,
          -2.8925912380218506,
          -2.864922046661377,
          -2.9218623638153076,
          7.319478511810303,
          -2.8113820552825928,
          -2.8655693531036377,
          -2.9901156425476074,
          -2.8188905715942383,
          -2.845832109451294,
          -2.8508141040802,
          -2.9408514499664307,
          -2.888221025466919,
          -2.7893407344818115,
          -2.8132996559143066,
          -2.8606770038604736,
          -2.877164840698242,
          5.73193883895874
         ],
         "yaxis": "y"
        },
        {
         "customdata": [
          [
           "The Decameron of Giovanni Boccaccio"
          ],
          [
           "The Decameron, Volume I"
          ],
          [
           "The Decameron, Volume II"
          ],
          [
           "The Decameron (Day 1 to Day 5): Containing an hundred pleasant Novels"
          ],
          [
           "La Fiammetta"
          ],
          [
           "The Decameron (Day 6 to Day 10): Containing an hundred pleasant Novels"
          ]
         ],
         "hovertemplate": "author=Boccaccio, Giovanni<br>proj_0=%{x}<br>proj_1=%{y}<br>title=%{customdata[0]}<extra></extra>",
         "legendgroup": "Boccaccio, Giovanni",
         "marker": {
          "color": "#16FF32",
          "symbol": "circle"
         },
         "mode": "markers",
         "name": "Boccaccio, Giovanni",
         "orientation": "v",
         "showlegend": true,
         "type": "scatter",
         "x": [
          5.984416484832764,
          6.004526615142822,
          5.922703742980957,
          6.034595489501953,
          5.948849678039551,
          6.103069305419922
         ],
         "xaxis": "x",
         "y": [
          5.267350196838379,
          5.218592166900635,
          5.243636131286621,
          5.238554954528809,
          5.266951084136963,
          5.193519592285156
         ],
         "yaxis": "y"
        },
        {
         "customdata": [
          [
           "The Prince"
          ],
          [
           "History of Florence and of the Affairs of Italy: From the Earliest Times to the Death of Lorenzo the Magnificent"
          ],
          [
           "The Prince"
          ],
          [
           "Discourses on the First Decade of Titus Livius"
          ],
          [
           "Machiavelli, Volume I"
          ]
         ],
         "hovertemplate": "author=Machiavelli, Niccolò<br>proj_0=%{x}<br>proj_1=%{y}<br>title=%{customdata[0]}<extra></extra>",
         "legendgroup": "Machiavelli, Niccolò",
         "marker": {
          "color": "#F7E1A0",
          "symbol": "circle"
         },
         "mode": "markers",
         "name": "Machiavelli, Niccolò",
         "orientation": "v",
         "showlegend": true,
         "type": "scatter",
         "x": [
          4.643970489501953,
          4.492175102233887,
          4.632910251617432,
          4.428286075592041,
          2.6361169815063477
         ],
         "xaxis": "x",
         "y": [
          6.6244707107543945,
          6.529083728790283,
          6.550200939178467,
          6.520801544189453,
          6.507833003997803
         ],
         "yaxis": "y"
        },
        {
         "customdata": [
          [
           "Romeo and Juliet"
          ],
          [
           "The Complete Works of William Shakespeare"
          ],
          [
           "The Tempest: The Works of William Shakespeare [Cambridge Edition] [9 vols.]"
          ],
          [
           "Hamlet, Prince of Denmark"
          ],
          [
           "Hamlet, Prince of Denmark"
          ],
          [
           "Macbeth"
          ],
          [
           "The Tragedy of Romeo and Juliet"
          ],
          [
           "Othello, the Moor of Venice"
          ],
          [
           "A Midsummer Night's Dream"
          ],
          [
           "The Merchant of Venice"
          ],
          [
           "Shakespeare's Sonnets"
          ],
          [
           "Julius Caesar"
          ],
          [
           "Measure for Measure: The Works of William Shakespeare [Cambridge Edition] [9 vols.]"
          ],
          [
           "Much Ado about Nothing"
          ],
          [
           "The Comedy of Errors: The Works of William Shakespeare [Cambridge Edition] [9 vols.]"
          ],
          [
           "Twelfth Night; Or, What You Will"
          ],
          [
           "Macbeth"
          ],
          [
           "The Tragedy of King Lear"
          ],
          [
           "As You Like It"
          ],
          [
           "Hamlet"
          ],
          [
           "Romeo and Juliet"
          ],
          [
           "Hamlet"
          ],
          [
           "King Richard III"
          ],
          [
           "The Taming of the Shrew"
          ],
          [
           "The New Hudson Shakespeare: Julius Cæsar"
          ],
          [
           "Shakespeare's Tragedy of Romeo and Juliet"
          ],
          [
           "Othello"
          ],
          [
           "The Winter's Tale"
          ],
          [
           "Antony and Cleopatra"
          ],
          [
           "The Tragedy of Macbeth"
          ],
          [
           "The Taming of the Shrew"
          ],
          [
           "The Tempest"
          ],
          [
           "The Merry Wives of Windsor: The Works of William Shakespeare [Cambridge Edition] [9 vols.]"
          ],
          [
           "King Richard III"
          ],
          [
           "Venus and Adonis"
          ],
          [
           "The Merchant of Venice"
          ],
          [
           "All's Well That Ends Well"
          ],
          [
           "King Lear"
          ],
          [
           "Julius Caesar"
          ],
          [
           "King Henry IV, the First Part"
          ],
          [
           "Henry V"
          ],
          [
           "Two Gentlemen of Verona: The Works of William Shakespeare [Cambridge Edition] [9 vols.]"
          ],
          [
           "Shakespeare's First Folio"
          ],
          [
           "The Tragedy of Titus Andronicus"
          ],
          [
           "Sir Thomas More"
          ],
          [
           "The Life of King Henry V"
          ],
          [
           "As You Like It"
          ],
          [
           "A Midsummer Night's Dream"
          ],
          [
           "Flowers from Shakespeare's Garden: A Posy from the Plays"
          ],
          [
           "Twelfth Night"
          ]
         ],
         "hovertemplate": "author=Shakespeare, William<br>proj_0=%{x}<br>proj_1=%{y}<br>title=%{customdata[0]}<extra></extra>",
         "legendgroup": "Shakespeare, William",
         "marker": {
          "color": "#E2E2E2",
          "symbol": "circle"
         },
         "mode": "markers",
         "name": "Shakespeare, William",
         "orientation": "v",
         "showlegend": true,
         "type": "scatter",
         "x": [
          10.798482894897461,
          12.146943092346191,
          11.742676734924316,
          11.320574760437012,
          11.753405570983887,
          10.747222900390625,
          11.264542579650879,
          10.380685806274414,
          10.781485557556152,
          10.332887649536133,
          11.774100303649902,
          10.217452049255371,
          11.946167945861816,
          10.310812950134277,
          11.4945068359375,
          10.412077903747559,
          12.050670623779297,
          11.250283241271973,
          10.2820463180542,
          12.153772354125977,
          11.30605697631836,
          11.763213157653809,
          10.95004940032959,
          10.540115356445312,
          11.896639823913574,
          12.142115592956543,
          12.023900985717773,
          10.946861267089844,
          10.645844459533691,
          10.936371803283691,
          10.680335998535156,
          10.738980293273926,
          12.049396514892578,
          11.008163452148438,
          11.939519882202148,
          11.99293041229248,
          10.512667655944824,
          11.367829322814941,
          10.294702529907227,
          11.083297729492188,
          12.096278190612793,
          11.316617965698242,
          12.199779510498047,
          10.98428726196289,
          11.3883638381958,
          11.90032958984375,
          10.409546852111816,
          12.028474807739258,
          10.190582275390625,
          12.037923812866211
         ],
         "xaxis": "x",
         "y": [
          9.304988861083984,
          10.760554313659668,
          10.27143383026123,
          9.86638355255127,
          10.284178733825684,
          9.252767562866211,
          9.813187599182129,
          8.812837600708008,
          9.288895606994629,
          8.813116073608398,
          10.30276107788086,
          8.785822868347168,
          10.482532501220703,
          8.736865043640137,
          10.038045883178711,
          8.856706619262695,
          10.596490859985352,
          9.798748970031738,
          8.739012718200684,
          10.731864929199219,
          9.853618621826172,
          10.29316520690918,
          9.488724708557129,
          8.993155479431152,
          10.429207801818848,
          10.732998847961426,
          10.55788516998291,
          9.482575416564941,
          9.127991676330566,
          9.467391967773438,
          9.173319816589355,
          9.238424301147461,
          10.626254081726074,
          9.546663284301758,
          10.471549034118652,
          10.539251327514648,
          8.949124336242676,
          9.915665626525879,
          8.754541397094727,
          9.63023567199707,
          10.659767150878906,
          9.862526893615723,
          10.926356315612793,
          9.531641006469727,
          9.934189796447754,
          10.430429458618164,
          8.860511779785156,
          10.576398849487305,
          8.673432350158691,
          10.58523941040039
         ],
         "yaxis": "y"
        },
        {
         "customdata": [
          [
           "The Imaginary Invalid"
          ],
          [
           "The Middle-Class Gentleman"
          ],
          [
           "Tartuffe; Or, The Hypocrite"
          ],
          [
           "The Miser"
          ],
          [
           "Tartuffe; Or, The Hypocrite"
          ],
          [
           "The Flying Doctor: (Le Médecin Volant)"
          ],
          [
           "The Pretentious Young Ladies"
          ],
          [
           "Amphitryon"
          ],
          [
           "The School for Husbands"
          ],
          [
           "Sganarelle, or, the Self-Deceived Husband"
          ],
          [
           "The Blunderer"
          ],
          [
           "Monsieur De Pourceaugnac"
          ],
          [
           "The Love-Tiff"
          ],
          [
           "The Jealousy of le Barbouillé: (La Jalousie du Barbouillé)"
          ],
          [
           "The Magnificent Lovers (Les Amants magnifiques)"
          ],
          [
           "The Shopkeeper Turned Gentleman"
          ],
          [
           "The Bores: A Comedy in Three Acts"
          ],
          [
           "Don Garcia of Navarre; Or, the Jealous Prince. A Heroic Comedy in Five Acts."
          ]
         ],
         "hovertemplate": "author=Molière<br>proj_0=%{x}<br>proj_1=%{y}<br>title=%{customdata[0]}<extra></extra>",
         "legendgroup": "Molière",
         "marker": {
          "color": "#1CBE4F",
          "symbol": "circle"
         },
         "mode": "markers",
         "name": "Molière",
         "orientation": "v",
         "showlegend": true,
         "type": "scatter",
         "x": [
          5.279603958129883,
          4.685555458068848,
          4.824317932128906,
          4.743517875671387,
          4.658413410186768,
          4.699391841888428,
          5.297460079193115,
          4.688104152679443,
          5.020461559295654,
          5.221678256988525,
          5.14404821395874,
          5.27048397064209,
          5.142742156982422,
          4.7364726066589355,
          4.7878031730651855,
          5.175005912780762,
          5.321538925170898,
          5.043605327606201
         ],
         "xaxis": "x",
         "y": [
          5.214846611022949,
          5.376298904418945,
          5.348363876342773,
          5.34594202041626,
          5.448718547821045,
          5.409234046936035,
          5.185142517089844,
          5.420220375061035,
          5.354557991027832,
          5.2358527183532715,
          5.2470269203186035,
          5.238862037658691,
          5.2750749588012695,
          5.313629150390625,
          5.328408241271973,
          5.280592441558838,
          5.188068866729736,
          5.311107158660889
         ],
         "yaxis": "y"
        },
        {
         "customdata": [
          [
           "Pride and Prejudice"
          ],
          [
           "Emma"
          ],
          [
           "Sense and Sensibility"
          ],
          [
           "Persuasion"
          ],
          [
           "Northanger Abbey"
          ],
          [
           "Mansfield Park"
          ],
          [
           "Pride and Prejudice"
          ],
          [
           "Lady Susan"
          ],
          [
           "The Letters of Jane Austen: Selected from the compilation of her great nephew, Edward, Lord Bradbourne"
          ],
          [
           "Love and Freindship [sic]"
          ],
          [
           "Sense and Sensibility"
          ],
          [
           "Pride and Prejudice, a play founded on Jane Austen's novel"
          ],
          [
           "The Watsons: By Jane Austen, Concluded by L. Oulton"
          ]
         ],
         "hovertemplate": "author=Austen, Jane<br>proj_0=%{x}<br>proj_1=%{y}<br>title=%{customdata[0]}<extra></extra>",
         "legendgroup": "Austen, Jane",
         "marker": {
          "color": "#C4451C",
          "symbol": "circle"
         },
         "mode": "markers",
         "name": "Austen, Jane",
         "orientation": "v",
         "showlegend": true,
         "type": "scatter",
         "x": [
          -4.678122520446777,
          -4.714864730834961,
          -4.742786884307861,
          -4.795984745025635,
          -4.704973220825195,
          -4.692071914672852,
          -4.753847122192383,
          -4.7896342277526855,
          -4.887247562408447,
          -4.646512508392334,
          -4.739041328430176,
          -4.731384754180908,
          -4.755665302276611
         ],
         "xaxis": "x",
         "y": [
          -10.003886222839355,
          -10.0404052734375,
          -10.068284034729004,
          -10.121610641479492,
          -10.030689239501953,
          -10.017855644226074,
          -10.07922077178955,
          -10.114623069763184,
          -10.213235855102539,
          -9.972088813781738,
          -10.064669609069824,
          -10.0570707321167,
          -10.080674171447754
         ],
         "yaxis": "y"
        },
        {
         "customdata": [
          [
           "The Life and Adventures of Robinson Crusoe"
          ],
          [
           "A Journal of the Plague Year: Being Observations or Memorials of the Most Remarkable Occurrences, as Well Public as Private, Which Happened in London During the Last Great Visitation in 1665. Written by a Citizen Who Continued All the While in London"
          ],
          [
           "A General History of the Pyrates:: from their first rise and settlement in the island of Providence, to the present time"
          ],
          [
           "The Fortunes and Misfortunes of the Famous Moll Flanders"
          ],
          [
           "The Fortunate Mistress (Parts 1 and 2): or a History of the Life of Mademoiselle de Beleau Known by the Name of the Lady Roxana"
          ],
          [
           "The History of the Devil, As Well Ancient as Modern: In Two Parts"
          ],
          [
           "The Life and Adventures of Robinson Crusoe (1808)"
          ],
          [
           "An Essay Upon Projects"
          ],
          [
           "The Complete English Tradesman (1839 ed.)"
          ],
          [
           "The Life, Adventures & Piracies of the Famous Captain Singleton"
          ],
          [
           "The History of the Pyrates. Vol. II.: Containing the lives of Captain Misson, Captain Bowen, Captain Kidd, Captain Tew, Captain Halsey, Captain White, Captain Condent, Captain Bellamy, Captain Fly, Captain Howard, Captain Lewis, Captain Cornelius, Captain Williams, Captain Burgess, Captain North, and their several crews"
          ],
          [
           "The True-Born Englishman: A Satire"
          ],
          [
           "The Further Adventures of Robinson Crusoe"
          ],
          [
           "The Life and Most Surprising Adventures of Robinson Crusoe, of York, Mariner (1801)"
          ],
          [
           "History of the Plague in London"
          ],
          [
           "Everybody's Business Is Nobody's Business: Or, Private Abuses, Public Grievances; Exemplified in the Pride, Insolence, and Exorbitant Wages of Our Women, Servants, Footmen, &c."
          ],
          [
           "A True Relation of the Apparition of one Mrs. Veal: The Next Day after Her Death, to one Mrs. Bargrave, at Canterbury, the 8th of September, 1705; which Apparition Recommends the Perusal of Drelincourt's Book of Consolations against the Fears of Death"
          ],
          [
           "The King of Pirates: Being an Account of the Famous Enterprises of Captain Avery, the Mock King of Madagascar"
          ],
          [
           "Robinson Crusoe, Told to the Children by John Lang"
          ],
          [
           "Memoirs of a Cavalier: A Military Journal of the Wars in Germany, and the Wars in England.; From the Year 1632 to the Year 1648."
          ],
          [
           "The Consolidator; or, Memoirs of Sundry Transactions from the World in the Moon"
          ],
          [
           "The Storm: or, a Collection of the most Remarkable Casualties and Disasters which Happen'd in the Late Dreadful Tempest, both by Sea and Land"
          ],
          [
           "From London to Land's End: and Two Letters from the \"Journey through England by a Gentleman\""
          ],
          [
           "Tour through the Eastern Counties of England, 1722"
          ],
          [
           "The History of the Remarkable Life of John Sheppard: Containing a Particular Account of His Many Robberies and Escapes"
          ],
          [
           "Military Memoirs of Capt. George Carleton"
          ],
          [
           "The Life and Adventures of Robinson Crusoe of York, Mariner, Volume 1: With an Account of His Travels Round Three Parts of the Globe,; Written By Himself, in Two Volumes"
          ],
          [
           "Augusta Triumphans: Or, the Way to Make London the Most Flourishing City in the Universe"
          ],
          [
           "The History and Remarkable Life of the Truly Honourable Colonel Jacque, Commonly Called Colonel Jack"
          ],
          [
           "Atalantis Major"
          ],
          [
           "A New Voyage Round the World by a Course Never Sailed Before"
          ],
          [
           "An Answer to a Question that Nobody thinks of, viz., But what if the Queen should Die?"
          ],
          [
           "The Friendly Daemon, or the Generous Apparition: Being a True Narrative of a Miraculous Cure, Newly Perform'd Upon That Famous Deaf and Dumb Gentleman, Dr. Duncan Campbel, by a Familiar Spirit That Appear'd to Him in a White Surplice, Like a Cathedral Singing Boy"
          ],
          [
           "Dickory Cronke: The Dumb Philosopher, or, Great Britain's Wonder"
          ],
          [
           "An Appeal to Honour and Justice, Though It Be of His Worst Enemies.: Being A True Account of His Conduct in Public Affairs."
          ],
          [
           "An Humble Proposal to the People of England, for the Increase of their Trade, and Encouragement of Their Manufactures: Whether the Present Uncertainty of Affairs Issues in Peace or War"
          ],
          [
           "A Short Narrative of the Life and Actions of His Grace John, D. of Marlborogh"
          ],
          [
           "The Lay-Man's Sermon upon the Late Storm: Held forth at an Honest Coffee-House-Conventicle"
          ],
          [
           "A Vindication of the Press"
          ],
          [
           "Second Thoughts are Best: Or a Further Improvement of a Late Scheme to Prevent Street Robberies"
          ],
          [
           "A Seasonable Warning and Caution against the Insinuations of Papists and Jacobites in favour of the Pretender: Being a Letter from an Englishman at the Court of Hanover"
          ],
          [
           "And What if the Pretender should Come?: Or Some Considerations of the Advantages and Real Consequences of the Pretender's Possessing the Crown of Great Britain"
          ],
          [
           "Memoirs of Major Alexander Ramkins (1718)"
          ],
          [
           "Reasons Against the Succession of the House of Hanover: With an Enquiry How Far the Abdication of King James, Supposing It to Be Legal, Ought to Affect the Person of the Pretender"
          ],
          [
           "The Storm. An Essay."
          ]
         ],
         "hovertemplate": "author=Defoe, Daniel<br>proj_0=%{x}<br>proj_1=%{y}<br>title=%{customdata[0]}<extra></extra>",
         "legendgroup": "Defoe, Daniel",
         "marker": {
          "color": "#DEA0FD",
          "symbol": "circle"
         },
         "mode": "markers",
         "name": "Defoe, Daniel",
         "orientation": "v",
         "showlegend": true,
         "type": "scatter",
         "x": [
          2.999800443649292,
          3.154670000076294,
          3.033017873764038,
          3.0512170791625977,
          3.522806167602539,
          3.0873000621795654,
          3.0463733673095703,
          3.0232632160186768,
          3.276430368423462,
          3.062023162841797,
          3.0993540287017822,
          3.2642602920532227,
          3.0055365562438965,
          3.0272886753082275,
          3.1048619747161865,
          3.370762348175049,
          3.687237501144409,
          3.4016170501708984,
          3.6794440746307373,
          3.126354694366455,
          3.1801791191101074,
          3.1152987480163574,
          3.0472500324249268,
          3.082219362258911,
          3.3239803314208984,
          3.084315776824951,
          3.1001179218292236,
          3.2534966468811035,
          3.0881869792938232,
          3.3409130573272705,
          3.0164248943328857,
          3.5676093101501465,
          3.4644734859466553,
          3.472139835357666,
          3.4791817665100098,
          3.5225279331207275,
          3.1942672729492188,
          3.504011631011963,
          3.240138530731201,
          3.5755791664123535,
          3.5793137550354004,
          3.581331968307495,
          3.350611448287964,
          3.6012604236602783,
          3.53525447845459
         ],
         "xaxis": "x",
         "y": [
          14.121975898742676,
          13.568032264709473,
          14.14014720916748,
          14.035029411315918,
          12.22472858428955,
          13.996268272399902,
          14.099730491638184,
          14.09743595123291,
          13.094624519348145,
          13.87376594543457,
          14.085291862487793,
          13.084843635559082,
          13.786294937133789,
          14.157458305358887,
          13.861689567565918,
          12.665485382080078,
          11.895977020263672,
          12.720001220703125,
          12.014263153076172,
          13.638569831848145,
          13.401887893676758,
          14.15937328338623,
          13.767768859863281,
          13.804139137268066,
          12.992853164672852,
          14.090599060058594,
          14.167837142944336,
          13.1727876663208,
          14.083126068115234,
          12.858609199523926,
          13.776556015014648,
          12.167621612548828,
          12.57426929473877,
          12.581939697265625,
          12.545175552368164,
          12.277751922607422,
          13.317696571350098,
          12.414654731750488,
          13.077033042907715,
          12.301743507385254,
          12.146413803100586,
          12.146364212036133,
          12.886422157287598,
          12.10704517364502,
          12.180641174316406
         ],
         "yaxis": "y"
        },
        {
         "customdata": [
          [
           "The Declaration of Independence of the United States of America"
          ],
          [
           "Memoir, Correspondence, and Miscellanies, From the Papers of Thomas Jefferson, Volume 1"
          ],
          [
           "The Writings of Thomas Jefferson, Vol. 1 (of 9): Being His Autobiography, Correspondence, Reports, Messages, Addresses, and Other Writings, Official and Private"
          ],
          [
           "Memoir, Correspondence, and Miscellanies, From the Papers of Thomas Jefferson, Volume 2"
          ],
          [
           "The Declaration of Independence of The United States of America"
          ],
          [
           "United States Declaration of Independence"
          ],
          [
           "The Writings of Thomas Jefferson: Library Edition - Vol. 6 (of 20)"
          ],
          [
           "Memoir, Correspondence, and Miscellanies, From the Papers of Thomas Jefferson, Volume 3"
          ],
          [
           "The Writings of Thomas Jefferson, Vol. 7 (of 9): Being His Autobiography, Correspondence, Reports, Messages, Addresses, and Other Writings, Official and Private"
          ],
          [
           "The Writings of Thomas Jefferson, Vol. 8 (of 9): Being His Autobiography, Correspondence, Reports, Messages, Addresses, and Other Writings, Official and Private"
          ],
          [
           "Memoir, Correspondence, and Miscellanies, From the Papers of Thomas Jefferson, Volume 4"
          ],
          [
           "The Writings of Thomas Jefferson, Vol. 3 (of 9): Being His Autobiography, Correspondence, Reports, Messages, Addresses, and Other Writings, Official and Private"
          ],
          [
           "The Writings of Thomas Jefferson, Vol. 2 (of 9): Being His Autobiography, Correspondence, Reports, Messages, Addresses, and Other Writings, Official and Private"
          ],
          [
           "The Writings of Thomas Jefferson, Vol. 6 (of 9): Being His Autobiography, Correspondence, Reports, Messages, Addresses, and Other Writings, Official and Private"
          ],
          [
           "The Writings of Thomas Jefferson, Vol. 4 (of 9): Being His Autobiography, Correspondence, Reports, Messages, Addresses, and Other Writings, Official and Private"
          ],
          [
           "The Writings of Thomas Jefferson, Vol. 9 (of 9): Being His Autobiography, Correspondence, Reports, Messages, Addresses, and Other Writings, Official and Private"
          ],
          [
           "State of the Union Addresses"
          ],
          [
           "The Writings of Thomas Jefferson, Vol. 5 (of 9): Being His Autobiography, Correspondence, Reports, Messages, Addresses, and Other Writings, Official and Private"
          ]
         ],
         "hovertemplate": "author=Jefferson, Thomas<br>proj_0=%{x}<br>proj_1=%{y}<br>title=%{customdata[0]}<extra></extra>",
         "legendgroup": "Jefferson, Thomas",
         "marker": {
          "color": "#FE00FA",
          "symbol": "circle"
         },
         "mode": "markers",
         "name": "Jefferson, Thomas",
         "orientation": "v",
         "showlegend": true,
         "type": "scatter",
         "x": [
          10.693659782409668,
          9.939571380615234,
          9.852716445922852,
          9.901931762695312,
          10.060076713562012,
          4.567717552185059,
          10.389761924743652,
          10.005213737487793,
          9.880034446716309,
          9.940275192260742,
          9.923273086547852,
          9.902118682861328,
          10.082582473754883,
          9.855060577392578,
          9.987293243408203,
          9.9463529586792,
          10.666169166564941,
          10.054656982421875
         ],
         "xaxis": "x",
         "y": [
          17.46885871887207,
          17.42359733581543,
          17.380619049072266,
          17.39273452758789,
          8.652213096618652,
          4.851909637451172,
          17.47456932067871,
          17.466196060180664,
          17.460756301879883,
          17.47047996520996,
          17.425302505493164,
          17.39803123474121,
          17.516958236694336,
          17.37592124938965,
          17.467670440673828,
          17.41992950439453,
          17.48166275024414,
          17.456846237182617
         ],
         "yaxis": "y"
        },
        {
         "customdata": [
          [
           "Great Expectations"
          ],
          [
           "Oliver Twist"
          ],
          [
           "David Copperfield"
          ],
          [
           "Hard Times"
          ],
          [
           "Bleak House"
          ],
          [
           "The Pickwick Papers"
          ],
          [
           "Mugby Junction"
          ],
          [
           "A Christmas Carol"
          ],
          [
           "Our Mutual Friend"
          ],
          [
           "Little Dorrit"
          ],
          [
           "Dombey and Son"
          ],
          [
           "Nicholas Nickleby"
          ],
          [
           "A Christmas Carol"
          ],
          [
           "Three Ghost Stories"
          ],
          [
           "American Notes"
          ],
          [
           "The Old Curiosity Shop"
          ],
          [
           "The Mystery of Edwin Drood"
          ],
          [
           "Barnaby Rudge: A Tale of the Riots of 'Eighty"
          ],
          [
           "Martin Chuzzlewit"
          ],
          [
           "Sketches by Boz, Illustrative of Every-Day Life and Every-Day People"
          ],
          [
           "Oliver Twist; or, The Parish Boy's Progress. Illustrated"
          ],
          [
           "A Child's Dream of a Star"
          ],
          [
           "A Child's History of England"
          ],
          [
           "Hunted Down: The Detective Stories of Charles Dickens"
          ],
          [
           "The Uncommercial Traveller"
          ],
          [
           "Pictures from Italy"
          ],
          [
           "A Christmas Carol: The original manuscript"
          ],
          [
           "The Letters of Charles Dickens. Vol. 1, 1833-1856"
          ],
          [
           "Some Christmas Stories"
          ],
          [
           "To Be Read at Dusk"
          ],
          [
           "The Chimes: A Goblin Story of Some Bells That Rang an Old Year out and a New Year In"
          ],
          [
           "The Cricket on the Hearth: A Fairy Tale of Home"
          ],
          [
           "Oliver Twist, Vol. 1 (of 3)"
          ],
          [
           "Bardell v. Pickwick"
          ],
          [
           "Holiday Romance"
          ],
          [
           "Master Humphrey's Clock"
          ],
          [
           "Reprinted Pieces"
          ],
          [
           "The Magic Fishbone: A Holiday Romance from the Pen of Miss Alice Rainbird, Aged 7"
          ],
          [
           "The Haunted Man and the Ghost's Bargain"
          ],
          [
           "Doctor Marigold"
          ],
          [
           "The Wreck of the Golden Mary"
          ],
          [
           "The Letters of Charles Dickens. Vol. 2, 1857-1870"
          ],
          [
           "George Silverman's Explanation"
          ],
          [
           "Speeches: Literary and Social"
          ],
          [
           "The Perils of Certain English Prisoners"
          ],
          [
           "The Battle of Life: A Love Story"
          ],
          [
           "A Message from the Sea"
          ],
          [
           "The Battle of Life"
          ],
          [
           "The Personal History of David Copperfield"
          ],
          [
           "The Posthumous Papers of the Pickwick Club, v. 2 (of 2)"
          ]
         ],
         "hovertemplate": "author=Dickens, Charles<br>proj_0=%{x}<br>proj_1=%{y}<br>title=%{customdata[0]}<extra></extra>",
         "legendgroup": "Dickens, Charles",
         "marker": {
          "color": "#325A9B",
          "symbol": "circle"
         },
         "mode": "markers",
         "name": "Dickens, Charles",
         "orientation": "v",
         "showlegend": true,
         "type": "scatter",
         "x": [
          2.648685932159424,
          2.4536921977996826,
          2.5112171173095703,
          2.824148178100586,
          2.3645262718200684,
          2.5293781757354736,
          2.3752596378326416,
          5.398392200469971,
          2.5589418411254883,
          2.613642692565918,
          2.656146764755249,
          2.5430355072021484,
          5.5120320320129395,
          2.3534231185913086,
          1.7024214267730713,
          2.4254610538482666,
          2.6178674697875977,
          2.4076337814331055,
          2.343065023422241,
          1.7276242971420288,
          2.5330209732055664,
          5.358902454376221,
          2.3389668464660645,
          5.512197971343994,
          1.7319066524505615,
          1.7214388847351074,
          5.435777187347412,
          2.437598466873169,
          2.5562515258789062,
          5.487963676452637,
          5.223278045654297,
          5.170532703399658,
          4.936453819274902,
          5.043558120727539,
          5.218473434448242,
          2.3247082233428955,
          1.7482458353042603,
          5.518316268920898,
          5.2359795570373535,
          4.978368282318115,
          5.021770477294922,
          2.466125726699829,
          5.066871166229248,
          1.8154535293579102,
          5.415727615356445,
          5.18494176864624,
          5.277957439422607,
          5.176600456237793,
          2.469223976135254,
          2.456390857696533
         ],
         "xaxis": "x",
         "y": [
          5.694268703460693,
          5.810148239135742,
          5.801973819732666,
          5.714967250823975,
          6.2357378005981445,
          5.771684169769287,
          6.23539400100708,
          6.887892246246338,
          5.771489143371582,
          5.631751537322998,
          5.617978572845459,
          5.737945079803467,
          6.8700337409973145,
          6.382572650909424,
          6.952146530151367,
          5.92919921875,
          5.685568809509277,
          6.169816493988037,
          5.999478340148926,
          6.908181667327881,
          5.861230850219727,
          6.681260108947754,
          6.467682838439941,
          6.75643253326416,
          6.886609077453613,
          6.9121575355529785,
          6.950201988220215,
          6.459667205810547,
          5.831967830657959,
          6.7764363288879395,
          7.117882251739502,
          7.039711952209473,
          7.0542402267456055,
          6.993598937988281,
          7.073925018310547,
          6.330263137817383,
          6.866906642913818,
          6.732513427734375,
          7.127392292022705,
          6.808909893035889,
          6.777020454406738,
          6.289219856262207,
          6.8632612228393555,
          6.847232818603516,
          6.757894992828369,
          7.139666557312012,
          6.979790687561035,
          7.115085124969482,
          5.857545375823975,
          5.867407321929932
         ],
         "yaxis": "y"
        },
        {
         "customdata": [
          [
           "The Adventures of Sherlock Holmes"
          ],
          [
           "The Hound of the Baskervilles"
          ],
          [
           "A Study in Scarlet"
          ],
          [
           "The Sign of the Four"
          ],
          [
           "The Memoirs of Sherlock Holmes"
          ],
          [
           "The Return of Sherlock Holmes"
          ],
          [
           "Adventures of Sherlock Holmes: Illustrated"
          ],
          [
           "The Valley of Fear"
          ],
          [
           "The Lost World"
          ],
          [
           "The case-book of Sherlock Holmes"
          ],
          [
           "His Last Bow: An Epilogue of Sherlock Holmes"
          ],
          [
           "The Hound of the Baskervilles"
          ],
          [
           "Tales of Terror and Mystery"
          ],
          [
           "The Great Boer War"
          ],
          [
           "The White Company"
          ],
          [
           "The Return of Sherlock Holmes"
          ],
          [
           "The Poison Belt"
          ],
          [
           "The Adventure of the Dying Detective"
          ],
          [
           "Memories and Adventures"
          ],
          [
           "The Adventure of the Bruce-Partington Plans"
          ],
          [
           "Micah Clarke: His Statement as made to his three grandchildren Joseph, Gervas and Reuben During the Hard Winter of 1734"
          ],
          [
           "The Adventure of the Cardboard Box"
          ],
          [
           "The Parasite: A Story"
          ],
          [
           "The Captain of the Polestar, and Other Tales"
          ],
          [
           "The Great Keinplatz Experiment and Other Tales of Twilight and the Unseen"
          ],
          [
           "Sir Nigel"
          ],
          [
           "The Adventure of the Devil's Foot"
          ],
          [
           "The Crime of the Congo"
          ],
          [
           "Round the Red Lamp: Being Facts and Fancies of Medical Life"
          ],
          [
           "The land of mist"
          ],
          [
           "The Adventures of Gerard"
          ],
          [
           "My friend the murderer, and other mysteries and adventures"
          ],
          [
           "The Adventure of the Red Circle"
          ],
          [
           "The Mystery of Cloomber"
          ],
          [
           "The Wanderings of a Spiritualist"
          ],
          [
           "Round the Fire Stories"
          ],
          [
           "The Exploits of Brigadier Gerard"
          ],
          [
           "The Adventure of Wisteria Lodge"
          ],
          [
           "The Green Flag, and Other Stories of War and Sport"
          ],
          [
           "Rodney Stone"
          ],
          [
           "The case of Oscar Slater"
          ],
          [
           "The Disappearance of Lady Frances Carfax"
          ],
          [
           "The Coming of the Fairies"
          ],
          [
           "The Valley of Fear"
          ],
          [
           "The Refugees: A Tale of Two Continents"
          ],
          [
           "The Case for Spirit Photography: With corroborative evidence by experienced researchers and photographers"
          ],
          [
           "Danger! and Other Stories"
          ],
          [
           "The Firm of Girdlestone"
          ],
          [
           "The Vital Message"
          ],
          [
           "The Great Shadow and Other Napoleonic Tales"
          ]
         ],
         "hovertemplate": "author=Doyle, Arthur Conan<br>proj_0=%{x}<br>proj_1=%{y}<br>title=%{customdata[0]}<extra></extra>",
         "legendgroup": "Doyle, Arthur Conan",
         "marker": {
          "color": "#FEAF16",
          "symbol": "circle"
         },
         "mode": "markers",
         "name": "Doyle, Arthur Conan",
         "orientation": "v",
         "showlegend": true,
         "type": "scatter",
         "x": [
          19.652585983276367,
          20.151412963867188,
          19.800891876220703,
          19.90731430053711,
          19.809118270874023,
          20.046550750732422,
          19.76704216003418,
          20.207361221313477,
          19.610889434814453,
          20.04340362548828,
          20.103822708129883,
          20.17824935913086,
          19.414655685424805,
          19.69192886352539,
          19.63497543334961,
          20.03939437866211,
          20.148313522338867,
          20.434972763061523,
          19.33696937561035,
          20.39109230041504,
          19.373380661010742,
          20.436086654663086,
          20.183635711669922,
          19.383026123046875,
          19.396997451782227,
          19.854013442993164,
          20.38513946533203,
          19.950706481933594,
          19.404294967651367,
          19.981544494628906,
          19.773958206176758,
          19.448837280273438,
          20.490753173828125,
          19.730337142944336,
          19.421152114868164,
          19.392929077148438,
          19.6098690032959,
          20.389381408691406,
          19.397748947143555,
          19.561748504638672,
          20.433433532714844,
          20.441051483154297,
          19.986021041870117,
          20.174678802490234,
          19.654052734375,
          20.306556701660156,
          19.42818260192871,
          19.654064178466797,
          19.700294494628906,
          19.815351486206055
         ],
         "xaxis": "x",
         "y": [
          1.7641396522521973,
          0.46325910091400146,
          1.5646480321884155,
          1.1439476013183594,
          1.5414375066757202,
          0.6881542205810547,
          1.6847898960113525,
          0.36646535992622375,
          1.872880458831787,
          0.6857694983482361,
          0.5907566547393799,
          0.449238657951355,
          2.540334939956665,
          1.7917680740356445,
          1.8688286542892456,
          0.6667335629463196,
          0.5510138869285583,
          -0.234998881816864,
          2.616785764694214,
          -0.15582361817359924,
          2.6346065998077393,
          -0.2241075187921524,
          0.3047778904438019,
          2.5925631523132324,
          2.372004508972168,
          1.3278409242630005,
          -0.17822425067424774,
          1.0136003494262695,
          2.512955904006958,
          0.9715784192085266,
          1.5833683013916016,
          2.5306735038757324,
          -0.28204110264778137,
          1.5009524822235107,
          2.496321201324463,
          2.5783190727233887,
          1.9171520471572876,
          -0.13562963902950287,
          2.4007761478424072,
          1.9815154075622559,
          -0.23050451278686523,
          -0.21770590543746948,
          0.8576515316963196,
          0.35650402307510376,
          1.8126566410064697,
          -0.02337968349456787,
          2.3767545223236084,
          1.7907130718231201,
          1.767100214958191,
          1.502280831336975
         ],
         "yaxis": "y"
        },
        {
         "customdata": [
          [
           "Twenty Years After"
          ],
          [
           "The Count of Monte Cristo, Illustrated"
          ],
          [
           "The Three Musketeers"
          ],
          [
           "The Man in the Iron Mask"
          ],
          [
           "The Black Tulip"
          ],
          [
           "Celebrated Crimes (Complete)"
          ],
          [
           "Camille (La Dame aux Camilias)"
          ],
          [
           "The Vicomte De Bragelonne"
          ],
          [
           "Ten Years Later"
          ],
          [
           "Louise de la Valliere"
          ],
          [
           "Ten Years Later"
          ],
          [
           "My Memoirs, Vol. I, 1802 to 1821"
          ],
          [
           "The Conspirators: The Chevalier d'Harmental"
          ],
          [
           "The Borgias: Celebrated Crimes"
          ],
          [
           "Balsamo, the Magician; or, The Memoirs of a Physician"
          ],
          [
           "The Vicomte de Bragelonne; Or, Ten Years Later: Being the completion of \"The Three Musketeers\" and \"Twenty Years After\""
          ],
          [
           "Massacres of the South (1551-1815): Celebrated Crimes"
          ],
          [
           "Marguerite de Valois"
          ],
          [
           "Chicot the Jester"
          ],
          [
           "The Companions of Jehu"
          ],
          [
           "The Wolf-Leader"
          ],
          [
           "The Queen's Necklace"
          ],
          [
           "My Memoirs, Vol. V, 1831 to 1832"
          ],
          [
           "Urbain Grandier: Celebrated Crimes"
          ],
          [
           "The Corsican Brothers"
          ],
          [
           "The Forty-Five Guardsmen"
          ],
          [
           "Cenci: Celebrated Crimes"
          ],
          [
           "Mary Stuart: Celebrated Crimes"
          ],
          [
           "Ali Pacha: Celebrated Crimes"
          ],
          [
           "The Prussian Terror"
          ],
          [
           "Martin Guerre: Celebrated Crimes"
          ],
          [
           "Marquise Brinvillier: Celebrated Crimes"
          ],
          [
           "The Regent's Daughter"
          ],
          [
           "Joan of Naples: Celebrated Crimes"
          ],
          [
           "Marquise De Ganges: Celebrated Crimes"
          ],
          [
           "Ascanio"
          ],
          [
           "The Countess of Charny; or, The Execution of King Louis XVI"
          ],
          [
           "The Mesmerist's Victim"
          ],
          [
           "My Memoirs, Vol. III, 1826 to 1830"
          ],
          [
           "Man in the Iron Mask (an Essay)"
          ],
          [
           "The Whites and the Blues"
          ],
          [
           "My Memoirs, Vol. VI, 1832 to 1833"
          ],
          [
           "The Royal Life Guard; or, the flight of the royal family.: A historical romance of the suppression of the French monarchy"
          ],
          [
           "My Memoirs, Vol. II, 1822 to 1825"
          ],
          [
           "Murat: Celebrated Crimes"
          ],
          [
           "Taking the Bastile; Or, Pitou the Peasant: A Historical Story of the Great French Revolution"
          ],
          [
           "The Hero of the People: A Historical Romance of Love, Liberty and Loyalty"
          ],
          [
           "The War of Women, Volume 1"
          ],
          [
           "Derues: Celebrated Crimes"
          ],
          [
           "La Constantin: Celebrated Crimes"
          ]
         ],
         "hovertemplate": "author=Dumas, Alexandre<br>proj_0=%{x}<br>proj_1=%{y}<br>title=%{customdata[0]}<extra></extra>",
         "legendgroup": "Dumas, Alexandre",
         "marker": {
          "color": "#F8A19F",
          "symbol": "circle"
         },
         "mode": "markers",
         "name": "Dumas, Alexandre",
         "orientation": "v",
         "showlegend": true,
         "type": "scatter",
         "x": [
          12.593729972839355,
          11.42805290222168,
          12.420670509338379,
          12.32671070098877,
          13.356847763061523,
          11.168149948120117,
          13.317914009094238,
          12.112462043762207,
          12.429296493530273,
          12.36242961883545,
          12.024608612060547,
          11.17037296295166,
          12.790946960449219,
          11.486324310302734,
          11.475484848022461,
          12.259159088134766,
          11.546875,
          12.195805549621582,
          13.201055526733398,
          11.922273635864258,
          13.043588638305664,
          12.803213119506836,
          11.034735679626465,
          12.596634864807129,
          13.116937637329102,
          12.247645378112793,
          12.797950744628906,
          12.224471092224121,
          12.226366996765137,
          12.117022514343262,
          12.990684509277344,
          13.087137222290039,
          13.234590530395508,
          11.982001304626465,
          13.278010368347168,
          12.203775405883789,
          11.707183837890625,
          11.751193046569824,
          11.076187133789062,
          12.092741966247559,
          11.37428092956543,
          11.07823657989502,
          11.59625244140625,
          11.13110065460205,
          13.190099716186523,
          11.639449119567871,
          11.53351879119873,
          12.921990394592285,
          13.213183403015137,
          12.940184593200684
         ],
         "xaxis": "x",
         "y": [
          18.011377334594727,
          18.322193145751953,
          17.96983528137207,
          18.015430450439453,
          17.830873489379883,
          18.50756072998047,
          17.862546920776367,
          18.042402267456055,
          18.05088233947754,
          18.128543853759766,
          18.035398483276367,
          18.46683120727539,
          17.97350311279297,
          18.289745330810547,
          18.294708251953125,
          18.23637580871582,
          18.282743453979492,
          18.150562286376953,
          17.91731071472168,
          18.05661964416504,
          17.87871551513672,
          18.02860450744629,
          18.56075096130371,
          17.873825073242188,
          17.922157287597656,
          17.943300247192383,
          18.086233139038086,
          17.952470779418945,
          18.028818130493164,
          17.919034957885742,
          18.02837562561035,
          17.914073944091797,
          17.954055786132812,
          18.071203231811523,
          17.90364646911621,
          18.018051147460938,
          18.203901290893555,
          18.214435577392578,
          18.529212951660156,
          18.014690399169922,
          18.37154197692871,
          18.507770538330078,
          18.24172019958496,
          18.477794647216797,
          17.894502639770508,
          18.309728622436523,
          18.199630737304688,
          17.98708724975586,
          17.948028564453125,
          17.992839813232422
         ],
         "yaxis": "y"
        },
        {
         "customdata": [
          [
           "The Prince and the Pauper"
          ],
          [
           "The Innocents Abroad"
          ],
          [
           "Life on the Mississippi"
          ],
          [
           "The Mysterious Stranger, and Other Stories"
          ],
          [
           "The Tragedy of Pudd'nhead Wilson"
          ],
          [
           "Eve's Diary, Complete"
          ],
          [
           "Roughing It"
          ],
          [
           "The Gilded Age: A Tale of Today"
          ],
          [
           "Fenimore Cooper's Literary Offences"
          ],
          [
           "A Dog's Tale"
          ],
          [
           "How to Tell a Story, and Other Essays"
          ],
          [
           "Mark Twain's Speeches"
          ],
          [
           "Following the Equator: A Journey Around the World"
          ],
          [
           "A Tramp Abroad"
          ],
          [
           "Personal Recollections of Joan of Arc — Volume 1"
          ],
          [
           "Sketches New and Old"
          ],
          [
           "Adventures of Huckleberry Finn, Chapters 01 to 05"
          ],
          [
           "The $30,000 Bequest, and Other Stories"
          ],
          [
           "The £1,000,000 bank-note, and other new stories"
          ],
          [
           "The Man That Corrupted Hadleyburg"
          ],
          [
           "1601: Conversation as it was by the Social Fireside in the Time of the Tudors"
          ],
          [
           "Christian Science"
          ],
          [
           "Is Shakespeare Dead?: From My Autobiography"
          ],
          [
           "Mark Twain's Letters — Complete (1853-1910)"
          ],
          [
           "Extract from Captain Stormfield's Visit to Heaven"
          ],
          [
           "The Adventures of Tom Sawyer, Part 1."
          ],
          [
           "To the Person Sitting in Darkness"
          ],
          [
           "King Leopold's Soliloquy: A Defense of His Congo Rule"
          ],
          [
           "The Stolen White Elephant"
          ],
          [
           "The Man That Corrupted Hadleyburg, and Other Stories"
          ],
          [
           "Personal Recollections of Joan of Arc — Volume 2"
          ],
          [
           "Extracts from Adam's Diary, translated from the original ms."
          ],
          [
           "The Adventures of Huckleberry Finn (Tom Sawyer's Comrade)"
          ],
          [
           "Chapters from My Autobiography"
          ],
          [
           "Mark Twain's Letters — Volume 4 (1886-1900)"
          ],
          [
           "A Horse's Tale"
          ],
          [
           "On the Decay of the Art of Lying"
          ],
          [
           "Mark Twain's Letters — Volume 1 (1853-1866)"
          ],
          [
           "Europe and elsewhere"
          ],
          [
           "A Double Barrelled Detective Story"
          ],
          [
           "Mark Twain's Letters — Volume 2 (1867-1875)"
          ],
          [
           "In Defence of Harriet Shelley"
          ],
          [
           "The American Claimant"
          ],
          [
           "The Mysterious Stranger: A Romance"
          ],
          [
           "Those Extraordinary Twins"
          ],
          [
           "Merry Tales"
          ],
          [
           "Adventures of Huckleberry Finn, Chapters 11 to 15"
          ],
          [
           "The Adventures of Tom Sawyer, Part 2."
          ],
          [
           "The Facts Concerning the Recent Carnival of Crime in Connecticut"
          ],
          [
           "Following the Equator: A Journey Around the World. Part 3"
          ]
         ],
         "hovertemplate": "author=Twain, Mark<br>proj_0=%{x}<br>proj_1=%{y}<br>title=%{customdata[0]}<extra></extra>",
         "legendgroup": "Twain, Mark",
         "marker": {
          "color": "#90AD1C",
          "symbol": "circle"
         },
         "mode": "markers",
         "name": "Twain, Mark",
         "orientation": "v",
         "showlegend": true,
         "type": "scatter",
         "x": [
          11.498177528381348,
          12.138569831848145,
          12.10031795501709,
          10.927659034729004,
          11.047033309936523,
          10.193422317504883,
          11.931028366088867,
          11.43636703491211,
          9.901167869567871,
          9.937701225280762,
          10.290868759155273,
          11.831356048583984,
          12.142791748046875,
          12.098790168762207,
          10.87833309173584,
          12.105996131896973,
          9.969877243041992,
          11.768314361572266,
          11.367899894714355,
          10.700716972351074,
          10.991674423217773,
          11.405393600463867,
          11.492104530334473,
          11.531224250793457,
          10.742875099182129,
          10.308646202087402,
          10.10507583618164,
          10.926735877990723,
          9.977505683898926,
          11.921436309814453,
          10.883715629577637,
          9.926310539245605,
          11.491069793701172,
          11.80233383178711,
          11.472837448120117,
          10.850485801696777,
          9.84687614440918,
          11.180771827697754,
          12.126022338867188,
          10.981167793273926,
          11.069709777832031,
          9.92393684387207,
          11.45930004119873,
          10.699942588806152,
          10.3162260055542,
          11.472260475158691,
          9.980101585388184,
          10.33326244354248,
          10.815131187438965,
          11.541664123535156
         ],
         "xaxis": "x",
         "y": [
          1.8088798522949219,
          1.9707528352737427,
          1.9191430807113647,
          1.0389368534088135,
          1.1156973838806152,
          0.8276328444480896,
          1.9021731615066528,
          1.7607512474060059,
          0.7974395751953125,
          0.8160914778709412,
          0.8475698828697205,
          1.843837857246399,
          1.961790919303894,
          1.9403902292251587,
          0.9760422706604004,
          1.9556735754013062,
          0.7802155613899231,
          1.8632177114486694,
          1.6803808212280273,
          0.9279186725616455,
          1.0397796630859375,
          1.7570688724517822,
          1.8056755065917969,
          1.7620679140090942,
          0.9126862287521362,
          0.831667423248291,
          0.8009667992591858,
          1.0236042737960815,
          0.8283819556236267,
          1.8970545530319214,
          1.0032341480255127,
          0.8062325716018677,
          1.8076786994934082,
          1.8793822526931763,
          1.7965974807739258,
          0.9775101542472839,
          0.7601822018623352,
          1.3527708053588867,
          1.9624841213226318,
          1.0872666835784912,
          1.1640113592147827,
          0.8081535696983337,
          1.8218483924865723,
          0.9501141905784607,
          0.8620772361755371,
          1.7842665910720825,
          0.8191272616386414,
          0.8781294226646423,
          0.9436752796173096,
          1.8189234733581543
         ],
         "yaxis": "y"
        },
        {
         "customdata": [
          [
           "The River War: An Account of the Reconquest of the Sudan"
          ],
          [
           "The World Crisis, Volume 1 (of 6)"
          ],
          [
           "My African Journey"
          ],
          [
           "The Crossing"
          ],
          [
           "The Crisis — Complete"
          ],
          [
           "A Far Country — Complete"
          ],
          [
           "London to Ladysmith via Pretoria"
          ],
          [
           "Liberalism and the Social Problem"
          ],
          [
           "Coniston — Complete"
          ],
          [
           "Lord Randolph Churchill"
          ],
          [
           "Richard Carvel — Complete"
          ],
          [
           "Savrola: A Tale of the Revolution in Laurania"
          ],
          [
           "The Dwelling Place of Light — Complete"
          ],
          [
           "A Modern Chronicle — Complete"
          ],
          [
           "The Inside of the Cup — Complete"
          ],
          [
           "A Traveller in War-Time"
          ],
          [
           "The Celebrity, Complete"
          ],
          [
           "The Crisis — Volume 01"
          ],
          [
           "Mr. Crewe's Career — Complete"
          ],
          [
           "Ian Hamilton's March"
          ],
          [
           "An essay on the American contribution and the democratic idea"
          ],
          [
           "A Far Country — Volume 3"
          ],
          [
           "The Crisis — Volume 02"
          ],
          [
           "The Dwelling Place of Light — Volume 1"
          ],
          [
           "Coniston — Volume 03"
          ],
          [
           "The Crisis — Volume 04"
          ],
          [
           "Dr. Jonathan"
          ],
          [
           "Richard Carvel — Volume 02"
          ],
          [
           "The Crisis — Volume 03"
          ],
          [
           "Mr. Crewe's Career — Volume 1"
          ],
          [
           "The Crisis — Volume 05"
          ],
          [
           "The Crisis — Volume 06"
          ],
          [
           "Mr. Keegan's Elopement"
          ],
          [
           "The Inside of the Cup — Volume 02"
          ],
          [
           "The Inside of the Cup — Volume 07"
          ],
          [
           "The Crisis — Volume 08"
          ],
          [
           "Coniston — Volume 01"
          ],
          [
           "Coniston — Volume 02"
          ],
          [
           "The Celebrity, Volume 04"
          ],
          [
           "The Crisis — Volume 07"
          ],
          [
           "Mr. Crewe's Career — Volume 3"
          ],
          [
           "A Far Country — Volume 2"
          ],
          [
           "Coniston — Volume 04"
          ],
          [
           "The Inside of the Cup — Volume 04"
          ],
          [
           "The Celebrity, Volume 01"
          ],
          [
           "The Inside of the Cup — Volume 01"
          ],
          [
           "The Inside of the Cup — Volume 03"
          ],
          [
           "Richard Carvel — Volume 07"
          ],
          [
           "A Modern Chronicle — Volume 01"
          ],
          [
           "A Modern Chronicle — Volume 02"
          ]
         ],
         "hovertemplate": "author=Churchill, Winston<br>proj_0=%{x}<br>proj_1=%{y}<br>title=%{customdata[0]}<extra></extra>",
         "legendgroup": "Churchill, Winston",
         "marker": {
          "color": "#F6222E",
          "symbol": "circle"
         },
         "mode": "markers",
         "name": "Churchill, Winston",
         "orientation": "v",
         "showlegend": true,
         "type": "scatter",
         "x": [
          -5.688686847686768,
          -5.498630523681641,
          -5.376879692077637,
          -5.364198684692383,
          -6.3993988037109375,
          -5.384477138519287,
          -5.877572059631348,
          -5.426005840301514,
          -7.68604850769043,
          -5.423460483551025,
          -5.489930152893066,
          -6.576879024505615,
          -5.5899457931518555,
          -7.033615589141846,
          -6.270437717437744,
          -5.381633281707764,
          -7.296303749084473,
          -6.81220817565918,
          -6.583564281463623,
          -5.814388275146484,
          -5.896974563598633,
          -5.406783580780029,
          -6.952162742614746,
          -5.768410682678223,
          -7.926507949829102,
          -6.794650077819824,
          -8.050658226013184,
          -6.541475772857666,
          -6.826107501983643,
          -6.88676118850708,
          -6.6039018630981445,
          -6.36761999130249,
          -7.969485282897949,
          -6.453980922698975,
          -6.74461030960083,
          -6.67371129989624,
          -7.81134557723999,
          -7.817524433135986,
          -7.5027971267700195,
          -6.823726654052734,
          -7.317236423492432,
          -5.649313449859619,
          -7.684048652648926,
          -6.212331771850586,
          -7.662039756774902,
          -6.604343414306641,
          -6.529847145080566,
          -6.253915786743164,
          -7.893136501312256,
          -7.9456939697265625
         ],
         "xaxis": "x",
         "y": [
          5.882904052734375,
          5.815866947174072,
          5.983339309692383,
          5.992727279663086,
          5.5156474113464355,
          5.936498165130615,
          5.823986530303955,
          5.914327621459961,
          4.9565958976745605,
          5.916695594787598,
          5.953069686889648,
          5.456284999847412,
          5.906187534332275,
          5.230236530303955,
          5.618159770965576,
          5.923418998718262,
          5.134695053100586,
          5.287116527557373,
          5.4480671882629395,
          5.848974227905273,
          5.8223700523376465,
          5.926211833953857,
          5.2010111808776855,
          5.831757545471191,
          4.758449077606201,
          5.295551776885986,
          4.632309436798096,
          5.536330699920654,
          5.259852409362793,
          5.300141334533691,
          5.4038801193237305,
          5.558468818664551,
          4.714877128601074,
          5.4422807693481445,
          5.32954216003418,
          5.353677749633789,
          4.844779014587402,
          4.839646339416504,
          5.070322513580322,
          5.269111633300781,
          5.125280857086182,
          5.871960639953613,
          4.947556495666504,
          5.6626667976379395,
          4.964892387390137,
          5.388287544250488,
          5.423758029937744,
          5.6344428062438965,
          4.785091876983643,
          4.738495826721191
         ],
         "yaxis": "y"
        },
        {
         "customdata": [
          [
           "The Eyes Have It"
          ],
          [
           "Prize ship"
          ],
          [
           "Second Variety"
          ],
          [
           "The Hanging Stranger"
          ],
          [
           "Beyond Lies the Wub"
          ],
          [
           "The Defenders"
          ],
          [
           "The Variable Man"
          ],
          [
           "The Skull"
          ],
          [
           "Mr. Spaceship"
          ],
          [
           "Piper in the Woods"
          ],
          [
           "The Crystal Crypt"
          ],
          [
           "Beyond the Door"
          ],
          [
           "The Gun"
          ],
          [
           "Tony and the Beetles"
          ]
         ],
         "hovertemplate": "author=Dick, Philip K.<br>proj_0=%{x}<br>proj_1=%{y}<br>title=%{customdata[0]}<extra></extra>",
         "legendgroup": "Dick, Philip K.",
         "marker": {
          "color": "#1CFFCE",
          "symbol": "circle"
         },
         "mode": "markers",
         "name": "Dick, Philip K.",
         "orientation": "v",
         "showlegend": true,
         "type": "scatter",
         "x": [
          -9.312871932983398,
          -9.20321273803711,
          -9.296180725097656,
          -9.308032035827637,
          -9.160083770751953,
          -9.29167652130127,
          -9.234036445617676,
          -9.348430633544922,
          -9.241537094116211,
          -9.205207824707031,
          -9.375410079956055,
          -9.193978309631348,
          -9.340781211853027,
          -9.217300415039062
         ],
         "xaxis": "x",
         "y": [
          1.0777279138565063,
          1.1875029802322388,
          1.0945230722427368,
          1.0827815532684326,
          1.2328661680221558,
          1.0990490913391113,
          1.156868577003479,
          1.0422245264053345,
          1.1493219137191772,
          1.1857004165649414,
          1.0152344703674316,
          1.1970369815826416,
          1.049967646598816,
          1.1735038757324219
         ],
         "yaxis": "y"
        },
        {
         "customdata": [
          [
           "Crome Yellow"
          ],
          [
           "On the Margin: Notes and Essays"
          ],
          [
           "Mortal Coils"
          ],
          [
           "Limbo"
          ],
          [
           "Antic Hay"
          ],
          [
           "The Burning Wheel"
          ],
          [
           "Little Mexican & Other Stories"
          ],
          [
           "Leda"
          ],
          [
           "The Defeat of Youth, and Other Poems"
          ],
          [
           "Selected Poems"
          ],
          [
           "Jonah: Christmas 1917"
          ]
         ],
         "hovertemplate": "author=Huxley, Aldous<br>proj_0=%{x}<br>proj_1=%{y}<br>title=%{customdata[0]}<extra></extra>",
         "legendgroup": "Huxley, Aldous",
         "marker": {
          "color": "#2ED9FF",
          "symbol": "circle"
         },
         "mode": "markers",
         "name": "Huxley, Aldous",
         "orientation": "v",
         "showlegend": true,
         "type": "scatter",
         "x": [
          8.143044471740723,
          8.139901161193848,
          8.176898002624512,
          8.104131698608398,
          8.156042098999023,
          8.10684871673584,
          8.225447654724121,
          8.169988632202148,
          8.13632583618164,
          8.139006614685059,
          5.798105716705322
         ],
         "xaxis": "x",
         "y": [
          6.833620548248291,
          6.791728973388672,
          6.875775337219238,
          6.788650989532471,
          6.851493835449219,
          6.836134910583496,
          6.911129951477051,
          6.852690696716309,
          6.846916675567627,
          6.830513000488281,
          6.75634765625
         ],
         "yaxis": "y"
        },
        {
         "customdata": [
          [
           "The call of Cthulhu"
          ],
          [
           "The lurking fear"
          ],
          [
           "The Dunwich Horror"
          ],
          [
           "The colour out of space"
          ],
          [
           "The Shunned House"
          ],
          [
           "Writings in the United Amateur, 1915-1922"
          ],
          [
           "The festival"
          ],
          [
           "He"
          ]
         ],
         "hovertemplate": "author=Lovecraft, H. P. (Howard Phillips)<br>proj_0=%{x}<br>proj_1=%{y}<br>title=%{customdata[0]}<extra></extra>",
         "legendgroup": "Lovecraft, H. P. (Howard Phillips)",
         "marker": {
          "color": "#B10DA1",
          "symbol": "circle"
         },
         "mode": "markers",
         "name": "Lovecraft, H. P. (Howard Phillips)",
         "orientation": "v",
         "showlegend": true,
         "type": "scatter",
         "x": [
          6.007499694824219,
          5.906351566314697,
          5.936054229736328,
          5.903897762298584,
          6.011391639709473,
          5.957996845245361,
          5.878819942474365,
          5.885080337524414
         ],
         "xaxis": "x",
         "y": [
          7.855232238769531,
          7.753481388092041,
          7.781888484954834,
          7.747752666473389,
          7.8560309410095215,
          7.797245979309082,
          7.7211079597473145,
          7.729752063751221
         ],
         "yaxis": "y"
        },
        {
         "customdata": [
          [
           "Lambda"
          ],
          [
           "Deathway"
          ]
         ],
         "hovertemplate": "author=Umer, Tomo<br>proj_0=%{x}<br>proj_1=%{y}<br>title=%{customdata[0]}<extra></extra>",
         "legendgroup": "Umer, Tomo",
         "marker": {
          "color": "#C075A6",
          "symbol": "circle"
         },
         "mode": "markers",
         "name": "Umer, Tomo",
         "orientation": "v",
         "showlegend": true,
         "type": "scatter",
         "x": [
          6.8695597648620605,
          5.281713008880615
         ],
         "xaxis": "x",
         "y": [
          4.503576755523682,
          7.188530921936035
         ],
         "yaxis": "y"
        }
       ],
       "layout": {
        "height": 800,
        "legend": {
         "title": {
          "text": "author"
         },
         "tracegroupgap": 0
        },
        "margin": {
         "t": 60
        },
        "shapes": [
         {
          "line": {
           "color": "LightSeaGreen"
          },
          "type": "circle",
          "x0": 6.049742221832275,
          "x1": 7.689377307891846,
          "xref": "x",
          "y0": 3.6837592124938965,
          "y1": 5.323394298553467,
          "yref": "y"
         },
         {
          "line": {
           "color": "LightSeaGreen"
          },
          "type": "circle",
          "x0": 4.46189546585083,
          "x1": 6.1015305519104,
          "xref": "x",
          "y0": 6.36871337890625,
          "y1": 8.00834846496582,
          "yref": "y"
         }
        ],
        "template": {
         "data": {
          "bar": [
           {
            "error_x": {
             "color": "#2a3f5f"
            },
            "error_y": {
             "color": "#2a3f5f"
            },
            "marker": {
             "line": {
              "color": "#E5ECF6",
              "width": 0.5
             },
             "pattern": {
              "fillmode": "overlay",
              "size": 10,
              "solidity": 0.2
             }
            },
            "type": "bar"
           }
          ],
          "barpolar": [
           {
            "marker": {
             "line": {
              "color": "#E5ECF6",
              "width": 0.5
             },
             "pattern": {
              "fillmode": "overlay",
              "size": 10,
              "solidity": 0.2
             }
            },
            "type": "barpolar"
           }
          ],
          "carpet": [
           {
            "aaxis": {
             "endlinecolor": "#2a3f5f",
             "gridcolor": "white",
             "linecolor": "white",
             "minorgridcolor": "white",
             "startlinecolor": "#2a3f5f"
            },
            "baxis": {
             "endlinecolor": "#2a3f5f",
             "gridcolor": "white",
             "linecolor": "white",
             "minorgridcolor": "white",
             "startlinecolor": "#2a3f5f"
            },
            "type": "carpet"
           }
          ],
          "choropleth": [
           {
            "colorbar": {
             "outlinewidth": 0,
             "ticks": ""
            },
            "type": "choropleth"
           }
          ],
          "contour": [
           {
            "colorbar": {
             "outlinewidth": 0,
             "ticks": ""
            },
            "colorscale": [
             [
              0,
              "#0d0887"
             ],
             [
              0.1111111111111111,
              "#46039f"
             ],
             [
              0.2222222222222222,
              "#7201a8"
             ],
             [
              0.3333333333333333,
              "#9c179e"
             ],
             [
              0.4444444444444444,
              "#bd3786"
             ],
             [
              0.5555555555555556,
              "#d8576b"
             ],
             [
              0.6666666666666666,
              "#ed7953"
             ],
             [
              0.7777777777777778,
              "#fb9f3a"
             ],
             [
              0.8888888888888888,
              "#fdca26"
             ],
             [
              1,
              "#f0f921"
             ]
            ],
            "type": "contour"
           }
          ],
          "contourcarpet": [
           {
            "colorbar": {
             "outlinewidth": 0,
             "ticks": ""
            },
            "type": "contourcarpet"
           }
          ],
          "heatmap": [
           {
            "colorbar": {
             "outlinewidth": 0,
             "ticks": ""
            },
            "colorscale": [
             [
              0,
              "#0d0887"
             ],
             [
              0.1111111111111111,
              "#46039f"
             ],
             [
              0.2222222222222222,
              "#7201a8"
             ],
             [
              0.3333333333333333,
              "#9c179e"
             ],
             [
              0.4444444444444444,
              "#bd3786"
             ],
             [
              0.5555555555555556,
              "#d8576b"
             ],
             [
              0.6666666666666666,
              "#ed7953"
             ],
             [
              0.7777777777777778,
              "#fb9f3a"
             ],
             [
              0.8888888888888888,
              "#fdca26"
             ],
             [
              1,
              "#f0f921"
             ]
            ],
            "type": "heatmap"
           }
          ],
          "heatmapgl": [
           {
            "colorbar": {
             "outlinewidth": 0,
             "ticks": ""
            },
            "colorscale": [
             [
              0,
              "#0d0887"
             ],
             [
              0.1111111111111111,
              "#46039f"
             ],
             [
              0.2222222222222222,
              "#7201a8"
             ],
             [
              0.3333333333333333,
              "#9c179e"
             ],
             [
              0.4444444444444444,
              "#bd3786"
             ],
             [
              0.5555555555555556,
              "#d8576b"
             ],
             [
              0.6666666666666666,
              "#ed7953"
             ],
             [
              0.7777777777777778,
              "#fb9f3a"
             ],
             [
              0.8888888888888888,
              "#fdca26"
             ],
             [
              1,
              "#f0f921"
             ]
            ],
            "type": "heatmapgl"
           }
          ],
          "histogram": [
           {
            "marker": {
             "pattern": {
              "fillmode": "overlay",
              "size": 10,
              "solidity": 0.2
             }
            },
            "type": "histogram"
           }
          ],
          "histogram2d": [
           {
            "colorbar": {
             "outlinewidth": 0,
             "ticks": ""
            },
            "colorscale": [
             [
              0,
              "#0d0887"
             ],
             [
              0.1111111111111111,
              "#46039f"
             ],
             [
              0.2222222222222222,
              "#7201a8"
             ],
             [
              0.3333333333333333,
              "#9c179e"
             ],
             [
              0.4444444444444444,
              "#bd3786"
             ],
             [
              0.5555555555555556,
              "#d8576b"
             ],
             [
              0.6666666666666666,
              "#ed7953"
             ],
             [
              0.7777777777777778,
              "#fb9f3a"
             ],
             [
              0.8888888888888888,
              "#fdca26"
             ],
             [
              1,
              "#f0f921"
             ]
            ],
            "type": "histogram2d"
           }
          ],
          "histogram2dcontour": [
           {
            "colorbar": {
             "outlinewidth": 0,
             "ticks": ""
            },
            "colorscale": [
             [
              0,
              "#0d0887"
             ],
             [
              0.1111111111111111,
              "#46039f"
             ],
             [
              0.2222222222222222,
              "#7201a8"
             ],
             [
              0.3333333333333333,
              "#9c179e"
             ],
             [
              0.4444444444444444,
              "#bd3786"
             ],
             [
              0.5555555555555556,
              "#d8576b"
             ],
             [
              0.6666666666666666,
              "#ed7953"
             ],
             [
              0.7777777777777778,
              "#fb9f3a"
             ],
             [
              0.8888888888888888,
              "#fdca26"
             ],
             [
              1,
              "#f0f921"
             ]
            ],
            "type": "histogram2dcontour"
           }
          ],
          "mesh3d": [
           {
            "colorbar": {
             "outlinewidth": 0,
             "ticks": ""
            },
            "type": "mesh3d"
           }
          ],
          "parcoords": [
           {
            "line": {
             "colorbar": {
              "outlinewidth": 0,
              "ticks": ""
             }
            },
            "type": "parcoords"
           }
          ],
          "pie": [
           {
            "automargin": true,
            "type": "pie"
           }
          ],
          "scatter": [
           {
            "fillpattern": {
             "fillmode": "overlay",
             "size": 10,
             "solidity": 0.2
            },
            "type": "scatter"
           }
          ],
          "scatter3d": [
           {
            "line": {
             "colorbar": {
              "outlinewidth": 0,
              "ticks": ""
             }
            },
            "marker": {
             "colorbar": {
              "outlinewidth": 0,
              "ticks": ""
             }
            },
            "type": "scatter3d"
           }
          ],
          "scattercarpet": [
           {
            "marker": {
             "colorbar": {
              "outlinewidth": 0,
              "ticks": ""
             }
            },
            "type": "scattercarpet"
           }
          ],
          "scattergeo": [
           {
            "marker": {
             "colorbar": {
              "outlinewidth": 0,
              "ticks": ""
             }
            },
            "type": "scattergeo"
           }
          ],
          "scattergl": [
           {
            "marker": {
             "colorbar": {
              "outlinewidth": 0,
              "ticks": ""
             }
            },
            "type": "scattergl"
           }
          ],
          "scattermapbox": [
           {
            "marker": {
             "colorbar": {
              "outlinewidth": 0,
              "ticks": ""
             }
            },
            "type": "scattermapbox"
           }
          ],
          "scatterpolar": [
           {
            "marker": {
             "colorbar": {
              "outlinewidth": 0,
              "ticks": ""
             }
            },
            "type": "scatterpolar"
           }
          ],
          "scatterpolargl": [
           {
            "marker": {
             "colorbar": {
              "outlinewidth": 0,
              "ticks": ""
             }
            },
            "type": "scatterpolargl"
           }
          ],
          "scatterternary": [
           {
            "marker": {
             "colorbar": {
              "outlinewidth": 0,
              "ticks": ""
             }
            },
            "type": "scatterternary"
           }
          ],
          "surface": [
           {
            "colorbar": {
             "outlinewidth": 0,
             "ticks": ""
            },
            "colorscale": [
             [
              0,
              "#0d0887"
             ],
             [
              0.1111111111111111,
              "#46039f"
             ],
             [
              0.2222222222222222,
              "#7201a8"
             ],
             [
              0.3333333333333333,
              "#9c179e"
             ],
             [
              0.4444444444444444,
              "#bd3786"
             ],
             [
              0.5555555555555556,
              "#d8576b"
             ],
             [
              0.6666666666666666,
              "#ed7953"
             ],
             [
              0.7777777777777778,
              "#fb9f3a"
             ],
             [
              0.8888888888888888,
              "#fdca26"
             ],
             [
              1,
              "#f0f921"
             ]
            ],
            "type": "surface"
           }
          ],
          "table": [
           {
            "cells": {
             "fill": {
              "color": "#EBF0F8"
             },
             "line": {
              "color": "white"
             }
            },
            "header": {
             "fill": {
              "color": "#C8D4E3"
             },
             "line": {
              "color": "white"
             }
            },
            "type": "table"
           }
          ]
         },
         "layout": {
          "annotationdefaults": {
           "arrowcolor": "#2a3f5f",
           "arrowhead": 0,
           "arrowwidth": 1
          },
          "autotypenumbers": "strict",
          "coloraxis": {
           "colorbar": {
            "outlinewidth": 0,
            "ticks": ""
           }
          },
          "colorscale": {
           "diverging": [
            [
             0,
             "#8e0152"
            ],
            [
             0.1,
             "#c51b7d"
            ],
            [
             0.2,
             "#de77ae"
            ],
            [
             0.3,
             "#f1b6da"
            ],
            [
             0.4,
             "#fde0ef"
            ],
            [
             0.5,
             "#f7f7f7"
            ],
            [
             0.6,
             "#e6f5d0"
            ],
            [
             0.7,
             "#b8e186"
            ],
            [
             0.8,
             "#7fbc41"
            ],
            [
             0.9,
             "#4d9221"
            ],
            [
             1,
             "#276419"
            ]
           ],
           "sequential": [
            [
             0,
             "#0d0887"
            ],
            [
             0.1111111111111111,
             "#46039f"
            ],
            [
             0.2222222222222222,
             "#7201a8"
            ],
            [
             0.3333333333333333,
             "#9c179e"
            ],
            [
             0.4444444444444444,
             "#bd3786"
            ],
            [
             0.5555555555555556,
             "#d8576b"
            ],
            [
             0.6666666666666666,
             "#ed7953"
            ],
            [
             0.7777777777777778,
             "#fb9f3a"
            ],
            [
             0.8888888888888888,
             "#fdca26"
            ],
            [
             1,
             "#f0f921"
            ]
           ],
           "sequentialminus": [
            [
             0,
             "#0d0887"
            ],
            [
             0.1111111111111111,
             "#46039f"
            ],
            [
             0.2222222222222222,
             "#7201a8"
            ],
            [
             0.3333333333333333,
             "#9c179e"
            ],
            [
             0.4444444444444444,
             "#bd3786"
            ],
            [
             0.5555555555555556,
             "#d8576b"
            ],
            [
             0.6666666666666666,
             "#ed7953"
            ],
            [
             0.7777777777777778,
             "#fb9f3a"
            ],
            [
             0.8888888888888888,
             "#fdca26"
            ],
            [
             1,
             "#f0f921"
            ]
           ]
          },
          "colorway": [
           "#636efa",
           "#EF553B",
           "#00cc96",
           "#ab63fa",
           "#FFA15A",
           "#19d3f3",
           "#FF6692",
           "#B6E880",
           "#FF97FF",
           "#FECB52"
          ],
          "font": {
           "color": "#2a3f5f"
          },
          "geo": {
           "bgcolor": "white",
           "lakecolor": "white",
           "landcolor": "#E5ECF6",
           "showlakes": true,
           "showland": true,
           "subunitcolor": "white"
          },
          "hoverlabel": {
           "align": "left"
          },
          "hovermode": "closest",
          "mapbox": {
           "style": "light"
          },
          "paper_bgcolor": "white",
          "plot_bgcolor": "#E5ECF6",
          "polar": {
           "angularaxis": {
            "gridcolor": "white",
            "linecolor": "white",
            "ticks": ""
           },
           "bgcolor": "#E5ECF6",
           "radialaxis": {
            "gridcolor": "white",
            "linecolor": "white",
            "ticks": ""
           }
          },
          "scene": {
           "xaxis": {
            "backgroundcolor": "#E5ECF6",
            "gridcolor": "white",
            "gridwidth": 2,
            "linecolor": "white",
            "showbackground": true,
            "ticks": "",
            "zerolinecolor": "white"
           },
           "yaxis": {
            "backgroundcolor": "#E5ECF6",
            "gridcolor": "white",
            "gridwidth": 2,
            "linecolor": "white",
            "showbackground": true,
            "ticks": "",
            "zerolinecolor": "white"
           },
           "zaxis": {
            "backgroundcolor": "#E5ECF6",
            "gridcolor": "white",
            "gridwidth": 2,
            "linecolor": "white",
            "showbackground": true,
            "ticks": "",
            "zerolinecolor": "white"
           }
          },
          "shapedefaults": {
           "line": {
            "color": "#2a3f5f"
           }
          },
          "ternary": {
           "aaxis": {
            "gridcolor": "white",
            "linecolor": "white",
            "ticks": ""
           },
           "baxis": {
            "gridcolor": "white",
            "linecolor": "white",
            "ticks": ""
           },
           "bgcolor": "#E5ECF6",
           "caxis": {
            "gridcolor": "white",
            "linecolor": "white",
            "ticks": ""
           }
          },
          "title": {
           "x": 0.05
          },
          "xaxis": {
           "automargin": true,
           "gridcolor": "white",
           "linecolor": "white",
           "ticks": "",
           "title": {
            "standoff": 15
           },
           "zerolinecolor": "white",
           "zerolinewidth": 2
          },
          "yaxis": {
           "automargin": true,
           "gridcolor": "white",
           "linecolor": "white",
           "ticks": "",
           "title": {
            "standoff": 15
           },
           "zerolinecolor": "white",
           "zerolinewidth": 2
          }
         }
        },
        "width": 1200,
        "xaxis": {
         "anchor": "y",
         "domain": [
          0,
          1
         ],
         "title": {
          "text": "proj_0"
         }
        },
        "yaxis": {
         "anchor": "x",
         "domain": [
          0,
          1
         ],
         "title": {
          "text": "proj_1"
         }
        }
       }
      }
     },
     "metadata": {},
     "output_type": "display_data"
    }
   ],
   "source": [
    "fig = px.scatter(data_frame = library_newtext,\n",
    "                 x='proj_0',\n",
    "                 y='proj_1',\n",
    "                 width=1200,\n",
    "                 height=800,\n",
    "                 color= 'author',\n",
    "                 color_discrete_sequence=px.colors.qualitative.Alphabet, #Dark24\n",
    "                 hover_data= ['title']\n",
    "                 )\n",
    "\n",
    "for i in range(circle_edges.shape[0]):\n",
    "    fig.add_shape(type='circle',\n",
    "        xref='x', yref='y',\n",
    "        x0=circle_edges['x0'][i],\n",
    "        y0=circle_edges['y0'][i],\n",
    "        x1=circle_edges['x1'][i],\n",
    "        y1=circle_edges['y1'][i],\n",
    "        line_color='LightSeaGreen',\n",
    "    )\n",
    "\n",
    "\n",
    "fig.show()"
   ]
  },
  {
   "cell_type": "code",
   "execution_count": 42,
   "metadata": {},
   "outputs": [
    {
     "data": {
      "application/vnd.plotly.v1+json": {
       "config": {
        "plotlyServerURL": "https://plot.ly"
       },
       "data": [
        {
         "customdata": [
          [
           "The Iliad"
          ],
          [
           "The Odyssey: Rendered into English prose for the use of those who cannot read the original"
          ],
          [
           "The Iliad"
          ],
          [
           "The Odyssey"
          ],
          [
           "The Iliad of Homer: Translated into English Blank Verse by William Cowper"
          ],
          [
           "The Odyssey of Homer"
          ],
          [
           "The Iliads of Homer: Translated according to the Greek"
          ],
          [
           "The Iliad"
          ],
          [
           "The Iliad"
          ],
          [
           "The Odysseys of Homer, together with the shorter poems"
          ],
          [
           "The Iliad"
          ],
          [
           "The Odyssey of Homer"
          ],
          [
           "The Adventures of Ulysses the Wanderer"
          ],
          [
           "Odysseus, the Hero of Ithaca: Adapted from the Third Book of the Primary Schools of Athens, Greece"
          ]
         ],
         "hovertemplate": "authorcentury_str=7th century BCE<br>proj_0=%{x}<br>proj_1=%{y}<br>title=%{customdata[0]}<extra></extra>",
         "legendgroup": "7th century BCE",
         "marker": {
          "color": "#AA0DFE",
          "symbol": "circle"
         },
         "mode": "markers",
         "name": "7th century BCE",
         "orientation": "v",
         "showlegend": true,
         "type": "scatter",
         "x": [
          7.209780693054199,
          6.767605781555176,
          6.904710292816162,
          7.075433731079102,
          7.188758850097656,
          6.699198246002197,
          7.192433834075928,
          7.152585506439209,
          6.935420513153076,
          7.113255023956299,
          6.961800575256348,
          7.040703296661377,
          6.495729923248291,
          6.369198322296143
         ],
         "xaxis": "x",
         "y": [
          5.136943817138672,
          5.392133712768555,
          5.326295852661133,
          5.252835750579834,
          5.158535957336426,
          5.334108829498291,
          5.1676106452941895,
          5.202223777770996,
          5.337206840515137,
          5.226925373077393,
          5.326249599456787,
          5.289443492889404,
          5.4602861404418945,
          5.520017147064209
         ],
         "yaxis": "y"
        },
        {
         "customdata": [
          [
           "The Analects of Confucius (from the Chinese Classics)"
          ],
          [
           "The Sayings of Confucius: A New Translation of the Greater Part of the Confucian Analects"
          ],
          [
           "The Sayings of Confucius"
          ],
          [
           "The Wisdom of Confucius: with Critical and Biographical Sketches"
          ],
          [
           "Chinese Literature: Comprising the Analects of Confucius, the Sayings of Mencius, the Shi-King, the Travels of Fâ-Hien, and the Sorrows of Han"
          ]
         ],
         "hovertemplate": "authorcentury_str=6th century BCE<br>proj_0=%{x}<br>proj_1=%{y}<br>title=%{customdata[0]}<extra></extra>",
         "legendgroup": "6th century BCE",
         "marker": {
          "color": "#3283FE",
          "symbol": "circle"
         },
         "mode": "markers",
         "name": "6th century BCE",
         "orientation": "v",
         "showlegend": true,
         "type": "scatter",
         "x": [
          4.930060386657715,
          5.034829616546631,
          4.875879764556885,
          4.992377758026123,
          4.9834885597229
         ],
         "xaxis": "x",
         "y": [
          5.883731842041016,
          5.928735256195068,
          5.83914852142334,
          5.992291450500488,
          6.044589996337891
         ],
         "yaxis": "y"
        },
        {
         "customdata": [
          [
           "The Republic"
          ],
          [
           "The Republic of Plato"
          ],
          [
           "Symposium"
          ],
          [
           "Ion"
          ],
          [
           "Apology"
          ],
          [
           "Euthyphro"
          ],
          [
           "Phaedo"
          ],
          [
           "Gorgias"
          ],
          [
           "Laws"
          ],
          [
           "Phaedrus"
          ],
          [
           "Theaetetus"
          ],
          [
           "Timaeus"
          ],
          [
           "Apology, Crito, and Phaedo of Socrates"
          ],
          [
           "Meno"
          ],
          [
           "Alcibiades I"
          ],
          [
           "Sophist"
          ],
          [
           "Crito"
          ],
          [
           "Parmenides"
          ],
          [
           "Statesman"
          ],
          [
           "Protagoras"
          ],
          [
           "The Republic"
          ],
          [
           "Cratylus"
          ],
          [
           "Philebus"
          ],
          [
           "Menexenus"
          ],
          [
           "Critias"
          ],
          [
           "Charmides"
          ],
          [
           "Lesser Hippias"
          ],
          [
           "Laches"
          ],
          [
           "Lysis"
          ],
          [
           "Euthydemus"
          ],
          [
           "Alcibiades II"
          ],
          [
           "Eryxias"
          ]
         ],
         "hovertemplate": "authorcentury_str=4th century BCE<br>proj_0=%{x}<br>proj_1=%{y}<br>title=%{customdata[0]}<extra></extra>",
         "legendgroup": "4th century BCE",
         "marker": {
          "color": "#85660D",
          "symbol": "circle"
         },
         "mode": "markers",
         "name": "4th century BCE",
         "orientation": "v",
         "showlegend": true,
         "type": "scatter",
         "x": [
          4.077408790588379,
          4.121675968170166,
          4.214341640472412,
          4.6837592124938965,
          4.211149215698242,
          4.625369071960449,
          4.214045524597168,
          4.477940559387207,
          4.131462574005127,
          4.193587779998779,
          4.413538455963135,
          4.165534496307373,
          4.2845139503479,
          4.62324333190918,
          4.668756484985352,
          4.44479513168335,
          4.628781318664551,
          4.224057197570801,
          4.2890496253967285,
          4.266172885894775,
          4.182847023010254,
          4.1120147705078125,
          4.629018783569336,
          4.2096333503723145,
          4.226197719573975,
          4.14921236038208,
          4.641326427459717,
          4.646651744842529,
          4.4535813331604,
          4.439453601837158,
          4.6061506271362305,
          4.576227188110352
         ],
         "xaxis": "x",
         "y": [
          -0.6315970420837402,
          -0.5661220550537109,
          -0.34009090065956116,
          1.2615320682525635,
          -0.3398125469684601,
          1.2322773933410645,
          -0.3529950976371765,
          0.5922405123710632,
          -0.4681352376937866,
          -0.36138397455215454,
          0.36118027567863464,
          -0.5839078426361084,
          -0.12625591456890106,
          1.0868663787841797,
          1.2925091981887817,
          0.48989027738571167,
          1.081452488899231,
          -0.3426241874694824,
          -0.16752442717552185,
          -0.09770476818084717,
          -0.5249021649360657,
          -0.43308109045028687,
          1.1643940210342407,
          -0.2934337258338928,
          -0.26337993144989014,
          -0.3820444345474243,
          1.3308804035186768,
          1.2989836931228638,
          0.5139657258987427,
          0.4926453232765198,
          1.2514452934265137,
          1.110816240310669
         ],
         "yaxis": "y"
        },
        {
         "customdata": [
          [
           "Cicero's Tusculan Disputations: Also, Treatises On The Nature Of The Gods, And On The Commonwealth"
          ],
          [
           "De Officiis"
          ],
          [
           "The republic of Cicero: Translated from the Latin; and Accompanied With a Critical and Historical Introduction."
          ],
          [
           "The Letters of Cicero, Volume 1: The Whole Extant Correspodence in Chronological Order"
          ],
          [
           "Treatises on Friendship and Old Age"
          ],
          [
           "Cicero: Letters to Atticus, Vol. 1 of 3"
          ],
          [
           "The Academic Questions, Treatise De Finibus, and Tusculan Disputations, of M.T. Cicero, With a Sketch of the Greek Philosophers Mentioned by Cicero"
          ],
          [
           "Cicero: Letters to Atticus, Vol. 3 of 3"
          ],
          [
           "Academica"
          ],
          [
           "Speeches against Catilina"
          ],
          [
           "Cicero: Letters to Atticus, Vol. 2 of 3"
          ],
          [
           "Cato Maior de Senectute with Introduction and Notes"
          ],
          [
           "The Orations of Marcus Tullius Cicero, Volume 4"
          ],
          [
           "Letters of Marcus Tullius Cicero"
          ]
         ],
         "hovertemplate": "authorcentury_str=1st century BCE<br>proj_0=%{x}<br>proj_1=%{y}<br>title=%{customdata[0]}<extra></extra>",
         "legendgroup": "1st century BCE",
         "marker": {
          "color": "#782AB6",
          "symbol": "circle"
         },
         "mode": "markers",
         "name": "1st century BCE",
         "orientation": "v",
         "showlegend": true,
         "type": "scatter",
         "x": [
          2.2995262145996094,
          1.7953230142593384,
          2.440185785293579,
          2.3404664993286133,
          2.421529769897461,
          1.801382303237915,
          2.330456256866455,
          1.8328741788864136,
          1.8326042890548706,
          1.868865966796875,
          1.7986845970153809,
          1.8519829511642456,
          2.347475290298462,
          2.354351758956909
         ],
         "xaxis": "x",
         "y": [
          7.346920490264893,
          7.552652835845947,
          7.254344463348389,
          7.337308406829834,
          7.238498210906982,
          7.528556823730469,
          7.362488269805908,
          7.4966230392456055,
          7.496825695037842,
          7.4637041091918945,
          7.548135280609131,
          7.481834888458252,
          7.324339389801025,
          7.318713188171387
         ],
         "yaxis": "y"
        },
        {
         "customdata": [
          [
           "Seneca's Morals of a Happy Life, Benefits, Anger and Clemency"
          ],
          [
           "L. Annaeus Seneca on Benefits"
          ],
          [
           "Apocolocyntosis"
          ],
          [
           "Two Tragedies of Seneca: Medea and The Daughters of Troy: Rendered into English Verse"
          ],
          [
           "Minor Dialogues, Together With the Dialogue on Clemency"
          ]
         ],
         "hovertemplate": "authorcentury_str=1st century CE<br>proj_0=%{x}<br>proj_1=%{y}<br>title=%{customdata[0]}<extra></extra>",
         "legendgroup": "1st century CE",
         "marker": {
          "color": "#565656",
          "symbol": "circle"
         },
         "mode": "markers",
         "name": "1st century CE",
         "orientation": "v",
         "showlegend": true,
         "type": "scatter",
         "x": [
          2.924574613571167,
          4.631582736968994,
          4.764671325683594,
          4.959079265594482,
          2.9605891704559326
         ],
         "xaxis": "x",
         "y": [
          6.565438270568848,
          5.807152271270752,
          5.408664703369141,
          5.692938327789307,
          6.560794353485107
         ],
         "yaxis": "y"
        },
        {
         "customdata": [
          [
           "The divine comedy"
          ],
          [
           "Divine Comedy, Longfellow's Translation, Hell"
          ],
          [
           "The Divine Comedy of Dante Alighieri: The Inferno"
          ],
          [
           "Divine Comedy, Longfellow's Translation, Complete"
          ],
          [
           "The Divine Comedy by Dante, Illustrated, Purgatory, Complete"
          ],
          [
           "The New Life (La Vita Nuova)"
          ],
          [
           "The Divine Comedy by Dante, Illustrated, Paradise, Complete"
          ],
          [
           "The vision of hell.: By Dante Alighieri.; Translated by Rev. Henry Francis Cary, M.A.; and illustrated with the seventy-five designs of Gustave Doré."
          ],
          [
           "Divine Comedy, Cary's Translation, Complete"
          ],
          [
           "The Divine Comedy, Volume 1, Hell"
          ],
          [
           "Divine Comedy, Longfellow's Translation, Paradise"
          ],
          [
           "Divine Comedy, Longfellow's Translation, Purgatory"
          ],
          [
           "The Divine Comedy, Volume 3, Paradise"
          ],
          [
           "The Divine Comedy, Volume 2, Purgatory"
          ],
          [
           "The Banquet (Il Convito)"
          ],
          [
           "Divine Comedy, Cary's Translation, Purgatory"
          ],
          [
           "Divine Comedy, Cary's Translation, Paradise"
          ],
          [
           "Divine Comedy, Cary's Translation, Hell"
          ],
          [
           "The Vision of Dante: A story for little children and a talk to their mothers: (Second Edition)"
          ]
         ],
         "hovertemplate": "authorcentury_str=13th century CE<br>proj_0=%{x}<br>proj_1=%{y}<br>title=%{customdata[0]}<extra></extra>",
         "legendgroup": "13th century CE",
         "marker": {
          "color": "#1C8356",
          "symbol": "circle"
         },
         "mode": "markers",
         "name": "13th century CE",
         "orientation": "v",
         "showlegend": true,
         "type": "scatter",
         "x": [
          0.762107253074646,
          1.1001484394073486,
          0.836874783039093,
          1.0183364152908325,
          0.795319139957428,
          5.613395690917969,
          0.857395350933075,
          0.7575074434280396,
          0.7762828469276428,
          0.9069890975952148,
          1.039037823677063,
          1.0161675214767456,
          0.9224091172218323,
          0.9838237762451172,
          1.0987814664840698,
          0.7173594832420349,
          0.8860918879508972,
          0.8514833450317383,
          4.758016586303711
         ],
         "xaxis": "x",
         "y": [
          -2.8999524116516113,
          -2.7943453788757324,
          -2.8925912380218506,
          -2.864922046661377,
          -2.9218623638153076,
          7.319478511810303,
          -2.8113820552825928,
          -2.8655693531036377,
          -2.9901156425476074,
          -2.8188905715942383,
          -2.845832109451294,
          -2.8508141040802,
          -2.9408514499664307,
          -2.888221025466919,
          -2.7893407344818115,
          -2.8132996559143066,
          -2.8606770038604736,
          -2.877164840698242,
          5.73193883895874
         ],
         "yaxis": "y"
        },
        {
         "customdata": [
          [
           "The Decameron of Giovanni Boccaccio"
          ],
          [
           "The Decameron, Volume I"
          ],
          [
           "The Decameron, Volume II"
          ],
          [
           "The Decameron (Day 1 to Day 5): Containing an hundred pleasant Novels"
          ],
          [
           "La Fiammetta"
          ],
          [
           "The Decameron (Day 6 to Day 10): Containing an hundred pleasant Novels"
          ]
         ],
         "hovertemplate": "authorcentury_str=14th century CE<br>proj_0=%{x}<br>proj_1=%{y}<br>title=%{customdata[0]}<extra></extra>",
         "legendgroup": "14th century CE",
         "marker": {
          "color": "#16FF32",
          "symbol": "circle"
         },
         "mode": "markers",
         "name": "14th century CE",
         "orientation": "v",
         "showlegend": true,
         "type": "scatter",
         "x": [
          5.984416484832764,
          6.004526615142822,
          5.922703742980957,
          6.034595489501953,
          5.948849678039551,
          6.103069305419922
         ],
         "xaxis": "x",
         "y": [
          5.267350196838379,
          5.218592166900635,
          5.243636131286621,
          5.238554954528809,
          5.266951084136963,
          5.193519592285156
         ],
         "yaxis": "y"
        },
        {
         "customdata": [
          [
           "The Prince"
          ],
          [
           "History of Florence and of the Affairs of Italy: From the Earliest Times to the Death of Lorenzo the Magnificent"
          ],
          [
           "The Prince"
          ],
          [
           "Discourses on the First Decade of Titus Livius"
          ],
          [
           "Machiavelli, Volume I"
          ]
         ],
         "hovertemplate": "authorcentury_str=15th century CE<br>proj_0=%{x}<br>proj_1=%{y}<br>title=%{customdata[0]}<extra></extra>",
         "legendgroup": "15th century CE",
         "marker": {
          "color": "#F7E1A0",
          "symbol": "circle"
         },
         "mode": "markers",
         "name": "15th century CE",
         "orientation": "v",
         "showlegend": true,
         "type": "scatter",
         "x": [
          4.643970489501953,
          4.492175102233887,
          4.632910251617432,
          4.428286075592041,
          2.6361169815063477
         ],
         "xaxis": "x",
         "y": [
          6.6244707107543945,
          6.529083728790283,
          6.550200939178467,
          6.520801544189453,
          6.507833003997803
         ],
         "yaxis": "y"
        },
        {
         "customdata": [
          [
           "Romeo and Juliet"
          ],
          [
           "The Complete Works of William Shakespeare"
          ],
          [
           "The Tempest: The Works of William Shakespeare [Cambridge Edition] [9 vols.]"
          ],
          [
           "Hamlet, Prince of Denmark"
          ],
          [
           "Hamlet, Prince of Denmark"
          ],
          [
           "Macbeth"
          ],
          [
           "The Tragedy of Romeo and Juliet"
          ],
          [
           "Othello, the Moor of Venice"
          ],
          [
           "A Midsummer Night's Dream"
          ],
          [
           "The Merchant of Venice"
          ],
          [
           "Shakespeare's Sonnets"
          ],
          [
           "Julius Caesar"
          ],
          [
           "Measure for Measure: The Works of William Shakespeare [Cambridge Edition] [9 vols.]"
          ],
          [
           "Much Ado about Nothing"
          ],
          [
           "The Comedy of Errors: The Works of William Shakespeare [Cambridge Edition] [9 vols.]"
          ],
          [
           "Twelfth Night; Or, What You Will"
          ],
          [
           "Macbeth"
          ],
          [
           "The Tragedy of King Lear"
          ],
          [
           "As You Like It"
          ],
          [
           "Hamlet"
          ],
          [
           "Romeo and Juliet"
          ],
          [
           "Hamlet"
          ],
          [
           "King Richard III"
          ],
          [
           "The Taming of the Shrew"
          ],
          [
           "The New Hudson Shakespeare: Julius Cæsar"
          ],
          [
           "Shakespeare's Tragedy of Romeo and Juliet"
          ],
          [
           "Othello"
          ],
          [
           "The Winter's Tale"
          ],
          [
           "Antony and Cleopatra"
          ],
          [
           "The Tragedy of Macbeth"
          ],
          [
           "The Taming of the Shrew"
          ],
          [
           "The Tempest"
          ],
          [
           "The Merry Wives of Windsor: The Works of William Shakespeare [Cambridge Edition] [9 vols.]"
          ],
          [
           "King Richard III"
          ],
          [
           "Venus and Adonis"
          ],
          [
           "The Merchant of Venice"
          ],
          [
           "All's Well That Ends Well"
          ],
          [
           "King Lear"
          ],
          [
           "Julius Caesar"
          ],
          [
           "King Henry IV, the First Part"
          ],
          [
           "Henry V"
          ],
          [
           "Two Gentlemen of Verona: The Works of William Shakespeare [Cambridge Edition] [9 vols.]"
          ],
          [
           "Shakespeare's First Folio"
          ],
          [
           "The Tragedy of Titus Andronicus"
          ],
          [
           "Sir Thomas More"
          ],
          [
           "The Life of King Henry V"
          ],
          [
           "As You Like It"
          ],
          [
           "A Midsummer Night's Dream"
          ],
          [
           "Flowers from Shakespeare's Garden: A Posy from the Plays"
          ],
          [
           "Twelfth Night"
          ]
         ],
         "hovertemplate": "authorcentury_str=16th century CE<br>proj_0=%{x}<br>proj_1=%{y}<br>title=%{customdata[0]}<extra></extra>",
         "legendgroup": "16th century CE",
         "marker": {
          "color": "#E2E2E2",
          "symbol": "circle"
         },
         "mode": "markers",
         "name": "16th century CE",
         "orientation": "v",
         "showlegend": true,
         "type": "scatter",
         "x": [
          10.798482894897461,
          12.146943092346191,
          11.742676734924316,
          11.320574760437012,
          11.753405570983887,
          10.747222900390625,
          11.264542579650879,
          10.380685806274414,
          10.781485557556152,
          10.332887649536133,
          11.774100303649902,
          10.217452049255371,
          11.946167945861816,
          10.310812950134277,
          11.4945068359375,
          10.412077903747559,
          12.050670623779297,
          11.250283241271973,
          10.2820463180542,
          12.153772354125977,
          11.30605697631836,
          11.763213157653809,
          10.95004940032959,
          10.540115356445312,
          11.896639823913574,
          12.142115592956543,
          12.023900985717773,
          10.946861267089844,
          10.645844459533691,
          10.936371803283691,
          10.680335998535156,
          10.738980293273926,
          12.049396514892578,
          11.008163452148438,
          11.939519882202148,
          11.99293041229248,
          10.512667655944824,
          11.367829322814941,
          10.294702529907227,
          11.083297729492188,
          12.096278190612793,
          11.316617965698242,
          12.199779510498047,
          10.98428726196289,
          11.3883638381958,
          11.90032958984375,
          10.409546852111816,
          12.028474807739258,
          10.190582275390625,
          12.037923812866211
         ],
         "xaxis": "x",
         "y": [
          9.304988861083984,
          10.760554313659668,
          10.27143383026123,
          9.86638355255127,
          10.284178733825684,
          9.252767562866211,
          9.813187599182129,
          8.812837600708008,
          9.288895606994629,
          8.813116073608398,
          10.30276107788086,
          8.785822868347168,
          10.482532501220703,
          8.736865043640137,
          10.038045883178711,
          8.856706619262695,
          10.596490859985352,
          9.798748970031738,
          8.739012718200684,
          10.731864929199219,
          9.853618621826172,
          10.29316520690918,
          9.488724708557129,
          8.993155479431152,
          10.429207801818848,
          10.732998847961426,
          10.55788516998291,
          9.482575416564941,
          9.127991676330566,
          9.467391967773438,
          9.173319816589355,
          9.238424301147461,
          10.626254081726074,
          9.546663284301758,
          10.471549034118652,
          10.539251327514648,
          8.949124336242676,
          9.915665626525879,
          8.754541397094727,
          9.63023567199707,
          10.659767150878906,
          9.862526893615723,
          10.926356315612793,
          9.531641006469727,
          9.934189796447754,
          10.430429458618164,
          8.860511779785156,
          10.576398849487305,
          8.673432350158691,
          10.58523941040039
         ],
         "yaxis": "y"
        },
        {
         "customdata": [
          [
           "The Imaginary Invalid"
          ],
          [
           "The Middle-Class Gentleman"
          ],
          [
           "Tartuffe; Or, The Hypocrite"
          ],
          [
           "The Miser"
          ],
          [
           "Tartuffe; Or, The Hypocrite"
          ],
          [
           "The Flying Doctor: (Le Médecin Volant)"
          ],
          [
           "The Pretentious Young Ladies"
          ],
          [
           "Amphitryon"
          ],
          [
           "The School for Husbands"
          ],
          [
           "Sganarelle, or, the Self-Deceived Husband"
          ],
          [
           "The Blunderer"
          ],
          [
           "Monsieur De Pourceaugnac"
          ],
          [
           "The Love-Tiff"
          ],
          [
           "The Jealousy of le Barbouillé: (La Jalousie du Barbouillé)"
          ],
          [
           "The Magnificent Lovers (Les Amants magnifiques)"
          ],
          [
           "The Shopkeeper Turned Gentleman"
          ],
          [
           "The Bores: A Comedy in Three Acts"
          ],
          [
           "Don Garcia of Navarre; Or, the Jealous Prince. A Heroic Comedy in Five Acts."
          ]
         ],
         "hovertemplate": "authorcentury_str=17th century CE<br>proj_0=%{x}<br>proj_1=%{y}<br>title=%{customdata[0]}<extra></extra>",
         "legendgroup": "17th century CE",
         "marker": {
          "color": "#1CBE4F",
          "symbol": "circle"
         },
         "mode": "markers",
         "name": "17th century CE",
         "orientation": "v",
         "showlegend": true,
         "type": "scatter",
         "x": [
          5.279603958129883,
          4.685555458068848,
          4.824317932128906,
          4.743517875671387,
          4.658413410186768,
          4.699391841888428,
          5.297460079193115,
          4.688104152679443,
          5.020461559295654,
          5.221678256988525,
          5.14404821395874,
          5.27048397064209,
          5.142742156982422,
          4.7364726066589355,
          4.7878031730651855,
          5.175005912780762,
          5.321538925170898,
          5.043605327606201
         ],
         "xaxis": "x",
         "y": [
          5.214846611022949,
          5.376298904418945,
          5.348363876342773,
          5.34594202041626,
          5.448718547821045,
          5.409234046936035,
          5.185142517089844,
          5.420220375061035,
          5.354557991027832,
          5.2358527183532715,
          5.2470269203186035,
          5.238862037658691,
          5.2750749588012695,
          5.313629150390625,
          5.328408241271973,
          5.280592441558838,
          5.188068866729736,
          5.311107158660889
         ],
         "yaxis": "y"
        },
        {
         "customdata": [
          [
           "Pride and Prejudice"
          ],
          [
           "Emma"
          ],
          [
           "Sense and Sensibility"
          ],
          [
           "Persuasion"
          ],
          [
           "Northanger Abbey"
          ],
          [
           "Mansfield Park"
          ],
          [
           "Pride and Prejudice"
          ],
          [
           "Lady Susan"
          ],
          [
           "The Letters of Jane Austen: Selected from the compilation of her great nephew, Edward, Lord Bradbourne"
          ],
          [
           "Love and Freindship [sic]"
          ],
          [
           "Sense and Sensibility"
          ],
          [
           "Pride and Prejudice, a play founded on Jane Austen's novel"
          ],
          [
           "The Watsons: By Jane Austen, Concluded by L. Oulton"
          ],
          [
           "The Life and Adventures of Robinson Crusoe"
          ],
          [
           "A Journal of the Plague Year: Being Observations or Memorials of the Most Remarkable Occurrences, as Well Public as Private, Which Happened in London During the Last Great Visitation in 1665. Written by a Citizen Who Continued All the While in London"
          ],
          [
           "A General History of the Pyrates:: from their first rise and settlement in the island of Providence, to the present time"
          ],
          [
           "The Fortunes and Misfortunes of the Famous Moll Flanders"
          ],
          [
           "The Fortunate Mistress (Parts 1 and 2): or a History of the Life of Mademoiselle de Beleau Known by the Name of the Lady Roxana"
          ],
          [
           "The History of the Devil, As Well Ancient as Modern: In Two Parts"
          ],
          [
           "The Life and Adventures of Robinson Crusoe (1808)"
          ],
          [
           "An Essay Upon Projects"
          ],
          [
           "The Complete English Tradesman (1839 ed.)"
          ],
          [
           "The Life, Adventures & Piracies of the Famous Captain Singleton"
          ],
          [
           "The History of the Pyrates. Vol. II.: Containing the lives of Captain Misson, Captain Bowen, Captain Kidd, Captain Tew, Captain Halsey, Captain White, Captain Condent, Captain Bellamy, Captain Fly, Captain Howard, Captain Lewis, Captain Cornelius, Captain Williams, Captain Burgess, Captain North, and their several crews"
          ],
          [
           "The True-Born Englishman: A Satire"
          ],
          [
           "The Further Adventures of Robinson Crusoe"
          ],
          [
           "The Life and Most Surprising Adventures of Robinson Crusoe, of York, Mariner (1801)"
          ],
          [
           "History of the Plague in London"
          ],
          [
           "Everybody's Business Is Nobody's Business: Or, Private Abuses, Public Grievances; Exemplified in the Pride, Insolence, and Exorbitant Wages of Our Women, Servants, Footmen, &c."
          ],
          [
           "A True Relation of the Apparition of one Mrs. Veal: The Next Day after Her Death, to one Mrs. Bargrave, at Canterbury, the 8th of September, 1705; which Apparition Recommends the Perusal of Drelincourt's Book of Consolations against the Fears of Death"
          ],
          [
           "The King of Pirates: Being an Account of the Famous Enterprises of Captain Avery, the Mock King of Madagascar"
          ],
          [
           "Robinson Crusoe, Told to the Children by John Lang"
          ],
          [
           "Memoirs of a Cavalier: A Military Journal of the Wars in Germany, and the Wars in England.; From the Year 1632 to the Year 1648."
          ],
          [
           "The Consolidator; or, Memoirs of Sundry Transactions from the World in the Moon"
          ],
          [
           "The Storm: or, a Collection of the most Remarkable Casualties and Disasters which Happen'd in the Late Dreadful Tempest, both by Sea and Land"
          ],
          [
           "From London to Land's End: and Two Letters from the \"Journey through England by a Gentleman\""
          ],
          [
           "Tour through the Eastern Counties of England, 1722"
          ],
          [
           "The History of the Remarkable Life of John Sheppard: Containing a Particular Account of His Many Robberies and Escapes"
          ],
          [
           "Military Memoirs of Capt. George Carleton"
          ],
          [
           "The Life and Adventures of Robinson Crusoe of York, Mariner, Volume 1: With an Account of His Travels Round Three Parts of the Globe,; Written By Himself, in Two Volumes"
          ],
          [
           "Augusta Triumphans: Or, the Way to Make London the Most Flourishing City in the Universe"
          ],
          [
           "The History and Remarkable Life of the Truly Honourable Colonel Jacque, Commonly Called Colonel Jack"
          ],
          [
           "Atalantis Major"
          ],
          [
           "A New Voyage Round the World by a Course Never Sailed Before"
          ],
          [
           "An Answer to a Question that Nobody thinks of, viz., But what if the Queen should Die?"
          ],
          [
           "The Friendly Daemon, or the Generous Apparition: Being a True Narrative of a Miraculous Cure, Newly Perform'd Upon That Famous Deaf and Dumb Gentleman, Dr. Duncan Campbel, by a Familiar Spirit That Appear'd to Him in a White Surplice, Like a Cathedral Singing Boy"
          ],
          [
           "Dickory Cronke: The Dumb Philosopher, or, Great Britain's Wonder"
          ],
          [
           "An Appeal to Honour and Justice, Though It Be of His Worst Enemies.: Being A True Account of His Conduct in Public Affairs."
          ],
          [
           "An Humble Proposal to the People of England, for the Increase of their Trade, and Encouragement of Their Manufactures: Whether the Present Uncertainty of Affairs Issues in Peace or War"
          ],
          [
           "A Short Narrative of the Life and Actions of His Grace John, D. of Marlborogh"
          ],
          [
           "The Lay-Man's Sermon upon the Late Storm: Held forth at an Honest Coffee-House-Conventicle"
          ],
          [
           "A Vindication of the Press"
          ],
          [
           "Second Thoughts are Best: Or a Further Improvement of a Late Scheme to Prevent Street Robberies"
          ],
          [
           "A Seasonable Warning and Caution against the Insinuations of Papists and Jacobites in favour of the Pretender: Being a Letter from an Englishman at the Court of Hanover"
          ],
          [
           "And What if the Pretender should Come?: Or Some Considerations of the Advantages and Real Consequences of the Pretender's Possessing the Crown of Great Britain"
          ],
          [
           "Memoirs of Major Alexander Ramkins (1718)"
          ],
          [
           "Reasons Against the Succession of the House of Hanover: With an Enquiry How Far the Abdication of King James, Supposing It to Be Legal, Ought to Affect the Person of the Pretender"
          ],
          [
           "The Storm. An Essay."
          ],
          [
           "The Declaration of Independence of the United States of America"
          ],
          [
           "Memoir, Correspondence, and Miscellanies, From the Papers of Thomas Jefferson, Volume 1"
          ],
          [
           "The Writings of Thomas Jefferson, Vol. 1 (of 9): Being His Autobiography, Correspondence, Reports, Messages, Addresses, and Other Writings, Official and Private"
          ],
          [
           "Memoir, Correspondence, and Miscellanies, From the Papers of Thomas Jefferson, Volume 2"
          ],
          [
           "The Declaration of Independence of The United States of America"
          ],
          [
           "United States Declaration of Independence"
          ],
          [
           "The Writings of Thomas Jefferson: Library Edition - Vol. 6 (of 20)"
          ],
          [
           "Memoir, Correspondence, and Miscellanies, From the Papers of Thomas Jefferson, Volume 3"
          ],
          [
           "The Writings of Thomas Jefferson, Vol. 7 (of 9): Being His Autobiography, Correspondence, Reports, Messages, Addresses, and Other Writings, Official and Private"
          ],
          [
           "The Writings of Thomas Jefferson, Vol. 8 (of 9): Being His Autobiography, Correspondence, Reports, Messages, Addresses, and Other Writings, Official and Private"
          ],
          [
           "Memoir, Correspondence, and Miscellanies, From the Papers of Thomas Jefferson, Volume 4"
          ],
          [
           "The Writings of Thomas Jefferson, Vol. 3 (of 9): Being His Autobiography, Correspondence, Reports, Messages, Addresses, and Other Writings, Official and Private"
          ],
          [
           "The Writings of Thomas Jefferson, Vol. 2 (of 9): Being His Autobiography, Correspondence, Reports, Messages, Addresses, and Other Writings, Official and Private"
          ],
          [
           "The Writings of Thomas Jefferson, Vol. 6 (of 9): Being His Autobiography, Correspondence, Reports, Messages, Addresses, and Other Writings, Official and Private"
          ],
          [
           "The Writings of Thomas Jefferson, Vol. 4 (of 9): Being His Autobiography, Correspondence, Reports, Messages, Addresses, and Other Writings, Official and Private"
          ],
          [
           "The Writings of Thomas Jefferson, Vol. 9 (of 9): Being His Autobiography, Correspondence, Reports, Messages, Addresses, and Other Writings, Official and Private"
          ],
          [
           "State of the Union Addresses"
          ],
          [
           "The Writings of Thomas Jefferson, Vol. 5 (of 9): Being His Autobiography, Correspondence, Reports, Messages, Addresses, and Other Writings, Official and Private"
          ]
         ],
         "hovertemplate": "authorcentury_str=18th century CE<br>proj_0=%{x}<br>proj_1=%{y}<br>title=%{customdata[0]}<extra></extra>",
         "legendgroup": "18th century CE",
         "marker": {
          "color": "#C4451C",
          "symbol": "circle"
         },
         "mode": "markers",
         "name": "18th century CE",
         "orientation": "v",
         "showlegend": true,
         "type": "scatter",
         "x": [
          -4.678122520446777,
          -4.714864730834961,
          -4.742786884307861,
          -4.795984745025635,
          -4.704973220825195,
          -4.692071914672852,
          -4.753847122192383,
          -4.7896342277526855,
          -4.887247562408447,
          -4.646512508392334,
          -4.739041328430176,
          -4.731384754180908,
          -4.755665302276611,
          2.999800443649292,
          3.154670000076294,
          3.033017873764038,
          3.0512170791625977,
          3.522806167602539,
          3.0873000621795654,
          3.0463733673095703,
          3.0232632160186768,
          3.276430368423462,
          3.062023162841797,
          3.0993540287017822,
          3.2642602920532227,
          3.0055365562438965,
          3.0272886753082275,
          3.1048619747161865,
          3.370762348175049,
          3.687237501144409,
          3.4016170501708984,
          3.6794440746307373,
          3.126354694366455,
          3.1801791191101074,
          3.1152987480163574,
          3.0472500324249268,
          3.082219362258911,
          3.3239803314208984,
          3.084315776824951,
          3.1001179218292236,
          3.2534966468811035,
          3.0881869792938232,
          3.3409130573272705,
          3.0164248943328857,
          3.5676093101501465,
          3.4644734859466553,
          3.472139835357666,
          3.4791817665100098,
          3.5225279331207275,
          3.1942672729492188,
          3.504011631011963,
          3.240138530731201,
          3.5755791664123535,
          3.5793137550354004,
          3.581331968307495,
          3.350611448287964,
          3.6012604236602783,
          3.53525447845459,
          10.693659782409668,
          9.939571380615234,
          9.852716445922852,
          9.901931762695312,
          10.060076713562012,
          4.567717552185059,
          10.389761924743652,
          10.005213737487793,
          9.880034446716309,
          9.940275192260742,
          9.923273086547852,
          9.902118682861328,
          10.082582473754883,
          9.855060577392578,
          9.987293243408203,
          9.9463529586792,
          10.666169166564941,
          10.054656982421875
         ],
         "xaxis": "x",
         "y": [
          -10.003886222839355,
          -10.0404052734375,
          -10.068284034729004,
          -10.121610641479492,
          -10.030689239501953,
          -10.017855644226074,
          -10.07922077178955,
          -10.114623069763184,
          -10.213235855102539,
          -9.972088813781738,
          -10.064669609069824,
          -10.0570707321167,
          -10.080674171447754,
          14.121975898742676,
          13.568032264709473,
          14.14014720916748,
          14.035029411315918,
          12.22472858428955,
          13.996268272399902,
          14.099730491638184,
          14.09743595123291,
          13.094624519348145,
          13.87376594543457,
          14.085291862487793,
          13.084843635559082,
          13.786294937133789,
          14.157458305358887,
          13.861689567565918,
          12.665485382080078,
          11.895977020263672,
          12.720001220703125,
          12.014263153076172,
          13.638569831848145,
          13.401887893676758,
          14.15937328338623,
          13.767768859863281,
          13.804139137268066,
          12.992853164672852,
          14.090599060058594,
          14.167837142944336,
          13.1727876663208,
          14.083126068115234,
          12.858609199523926,
          13.776556015014648,
          12.167621612548828,
          12.57426929473877,
          12.581939697265625,
          12.545175552368164,
          12.277751922607422,
          13.317696571350098,
          12.414654731750488,
          13.077033042907715,
          12.301743507385254,
          12.146413803100586,
          12.146364212036133,
          12.886422157287598,
          12.10704517364502,
          12.180641174316406,
          17.46885871887207,
          17.42359733581543,
          17.380619049072266,
          17.39273452758789,
          8.652213096618652,
          4.851909637451172,
          17.47456932067871,
          17.466196060180664,
          17.460756301879883,
          17.47047996520996,
          17.425302505493164,
          17.39803123474121,
          17.516958236694336,
          17.37592124938965,
          17.467670440673828,
          17.41992950439453,
          17.48166275024414,
          17.456846237182617
         ],
         "yaxis": "y"
        },
        {
         "customdata": [
          [
           "Great Expectations"
          ],
          [
           "Oliver Twist"
          ],
          [
           "David Copperfield"
          ],
          [
           "Hard Times"
          ],
          [
           "Bleak House"
          ],
          [
           "The Pickwick Papers"
          ],
          [
           "Mugby Junction"
          ],
          [
           "A Christmas Carol"
          ],
          [
           "Our Mutual Friend"
          ],
          [
           "Little Dorrit"
          ],
          [
           "Dombey and Son"
          ],
          [
           "Nicholas Nickleby"
          ],
          [
           "A Christmas Carol"
          ],
          [
           "Three Ghost Stories"
          ],
          [
           "American Notes"
          ],
          [
           "The Old Curiosity Shop"
          ],
          [
           "The Mystery of Edwin Drood"
          ],
          [
           "Barnaby Rudge: A Tale of the Riots of 'Eighty"
          ],
          [
           "Martin Chuzzlewit"
          ],
          [
           "Sketches by Boz, Illustrative of Every-Day Life and Every-Day People"
          ],
          [
           "Oliver Twist; or, The Parish Boy's Progress. Illustrated"
          ],
          [
           "A Child's Dream of a Star"
          ],
          [
           "A Child's History of England"
          ],
          [
           "Hunted Down: The Detective Stories of Charles Dickens"
          ],
          [
           "The Uncommercial Traveller"
          ],
          [
           "Pictures from Italy"
          ],
          [
           "A Christmas Carol: The original manuscript"
          ],
          [
           "The Letters of Charles Dickens. Vol. 1, 1833-1856"
          ],
          [
           "Some Christmas Stories"
          ],
          [
           "To Be Read at Dusk"
          ],
          [
           "The Chimes: A Goblin Story of Some Bells That Rang an Old Year out and a New Year In"
          ],
          [
           "The Cricket on the Hearth: A Fairy Tale of Home"
          ],
          [
           "Oliver Twist, Vol. 1 (of 3)"
          ],
          [
           "Bardell v. Pickwick"
          ],
          [
           "Holiday Romance"
          ],
          [
           "Master Humphrey's Clock"
          ],
          [
           "Reprinted Pieces"
          ],
          [
           "The Magic Fishbone: A Holiday Romance from the Pen of Miss Alice Rainbird, Aged 7"
          ],
          [
           "The Haunted Man and the Ghost's Bargain"
          ],
          [
           "Doctor Marigold"
          ],
          [
           "The Wreck of the Golden Mary"
          ],
          [
           "The Letters of Charles Dickens. Vol. 2, 1857-1870"
          ],
          [
           "George Silverman's Explanation"
          ],
          [
           "Speeches: Literary and Social"
          ],
          [
           "The Perils of Certain English Prisoners"
          ],
          [
           "The Battle of Life: A Love Story"
          ],
          [
           "A Message from the Sea"
          ],
          [
           "The Battle of Life"
          ],
          [
           "The Personal History of David Copperfield"
          ],
          [
           "The Posthumous Papers of the Pickwick Club, v. 2 (of 2)"
          ],
          [
           "The Adventures of Sherlock Holmes"
          ],
          [
           "The Hound of the Baskervilles"
          ],
          [
           "A Study in Scarlet"
          ],
          [
           "The Sign of the Four"
          ],
          [
           "The Memoirs of Sherlock Holmes"
          ],
          [
           "The Return of Sherlock Holmes"
          ],
          [
           "Adventures of Sherlock Holmes: Illustrated"
          ],
          [
           "The Valley of Fear"
          ],
          [
           "The Lost World"
          ],
          [
           "The case-book of Sherlock Holmes"
          ],
          [
           "His Last Bow: An Epilogue of Sherlock Holmes"
          ],
          [
           "The Hound of the Baskervilles"
          ],
          [
           "Tales of Terror and Mystery"
          ],
          [
           "The Great Boer War"
          ],
          [
           "The White Company"
          ],
          [
           "The Return of Sherlock Holmes"
          ],
          [
           "The Poison Belt"
          ],
          [
           "The Adventure of the Dying Detective"
          ],
          [
           "Memories and Adventures"
          ],
          [
           "The Adventure of the Bruce-Partington Plans"
          ],
          [
           "Micah Clarke: His Statement as made to his three grandchildren Joseph, Gervas and Reuben During the Hard Winter of 1734"
          ],
          [
           "The Adventure of the Cardboard Box"
          ],
          [
           "The Parasite: A Story"
          ],
          [
           "The Captain of the Polestar, and Other Tales"
          ],
          [
           "The Great Keinplatz Experiment and Other Tales of Twilight and the Unseen"
          ],
          [
           "Sir Nigel"
          ],
          [
           "The Adventure of the Devil's Foot"
          ],
          [
           "The Crime of the Congo"
          ],
          [
           "Round the Red Lamp: Being Facts and Fancies of Medical Life"
          ],
          [
           "The land of mist"
          ],
          [
           "The Adventures of Gerard"
          ],
          [
           "My friend the murderer, and other mysteries and adventures"
          ],
          [
           "The Adventure of the Red Circle"
          ],
          [
           "The Mystery of Cloomber"
          ],
          [
           "The Wanderings of a Spiritualist"
          ],
          [
           "Round the Fire Stories"
          ],
          [
           "The Exploits of Brigadier Gerard"
          ],
          [
           "The Adventure of Wisteria Lodge"
          ],
          [
           "The Green Flag, and Other Stories of War and Sport"
          ],
          [
           "Rodney Stone"
          ],
          [
           "The case of Oscar Slater"
          ],
          [
           "The Disappearance of Lady Frances Carfax"
          ],
          [
           "The Coming of the Fairies"
          ],
          [
           "The Valley of Fear"
          ],
          [
           "The Refugees: A Tale of Two Continents"
          ],
          [
           "The Case for Spirit Photography: With corroborative evidence by experienced researchers and photographers"
          ],
          [
           "Danger! and Other Stories"
          ],
          [
           "The Firm of Girdlestone"
          ],
          [
           "The Vital Message"
          ],
          [
           "The Great Shadow and Other Napoleonic Tales"
          ],
          [
           "Twenty Years After"
          ],
          [
           "The Count of Monte Cristo, Illustrated"
          ],
          [
           "The Three Musketeers"
          ],
          [
           "The Man in the Iron Mask"
          ],
          [
           "The Black Tulip"
          ],
          [
           "Celebrated Crimes (Complete)"
          ],
          [
           "Camille (La Dame aux Camilias)"
          ],
          [
           "The Vicomte De Bragelonne"
          ],
          [
           "Ten Years Later"
          ],
          [
           "Louise de la Valliere"
          ],
          [
           "Ten Years Later"
          ],
          [
           "My Memoirs, Vol. I, 1802 to 1821"
          ],
          [
           "The Conspirators: The Chevalier d'Harmental"
          ],
          [
           "The Borgias: Celebrated Crimes"
          ],
          [
           "Balsamo, the Magician; or, The Memoirs of a Physician"
          ],
          [
           "The Vicomte de Bragelonne; Or, Ten Years Later: Being the completion of \"The Three Musketeers\" and \"Twenty Years After\""
          ],
          [
           "Massacres of the South (1551-1815): Celebrated Crimes"
          ],
          [
           "Marguerite de Valois"
          ],
          [
           "Chicot the Jester"
          ],
          [
           "The Companions of Jehu"
          ],
          [
           "The Wolf-Leader"
          ],
          [
           "The Queen's Necklace"
          ],
          [
           "My Memoirs, Vol. V, 1831 to 1832"
          ],
          [
           "Urbain Grandier: Celebrated Crimes"
          ],
          [
           "The Corsican Brothers"
          ],
          [
           "The Forty-Five Guardsmen"
          ],
          [
           "Cenci: Celebrated Crimes"
          ],
          [
           "Mary Stuart: Celebrated Crimes"
          ],
          [
           "Ali Pacha: Celebrated Crimes"
          ],
          [
           "The Prussian Terror"
          ],
          [
           "Martin Guerre: Celebrated Crimes"
          ],
          [
           "Marquise Brinvillier: Celebrated Crimes"
          ],
          [
           "The Regent's Daughter"
          ],
          [
           "Joan of Naples: Celebrated Crimes"
          ],
          [
           "Marquise De Ganges: Celebrated Crimes"
          ],
          [
           "Ascanio"
          ],
          [
           "The Countess of Charny; or, The Execution of King Louis XVI"
          ],
          [
           "The Mesmerist's Victim"
          ],
          [
           "My Memoirs, Vol. III, 1826 to 1830"
          ],
          [
           "Man in the Iron Mask (an Essay)"
          ],
          [
           "The Whites and the Blues"
          ],
          [
           "My Memoirs, Vol. VI, 1832 to 1833"
          ],
          [
           "The Royal Life Guard; or, the flight of the royal family.: A historical romance of the suppression of the French monarchy"
          ],
          [
           "My Memoirs, Vol. II, 1822 to 1825"
          ],
          [
           "Murat: Celebrated Crimes"
          ],
          [
           "Taking the Bastile; Or, Pitou the Peasant: A Historical Story of the Great French Revolution"
          ],
          [
           "The Hero of the People: A Historical Romance of Love, Liberty and Loyalty"
          ],
          [
           "The War of Women, Volume 1"
          ],
          [
           "Derues: Celebrated Crimes"
          ],
          [
           "La Constantin: Celebrated Crimes"
          ],
          [
           "The Prince and the Pauper"
          ],
          [
           "The Innocents Abroad"
          ],
          [
           "Life on the Mississippi"
          ],
          [
           "The Mysterious Stranger, and Other Stories"
          ],
          [
           "The Tragedy of Pudd'nhead Wilson"
          ],
          [
           "Eve's Diary, Complete"
          ],
          [
           "Roughing It"
          ],
          [
           "The Gilded Age: A Tale of Today"
          ],
          [
           "Fenimore Cooper's Literary Offences"
          ],
          [
           "A Dog's Tale"
          ],
          [
           "How to Tell a Story, and Other Essays"
          ],
          [
           "Mark Twain's Speeches"
          ],
          [
           "Following the Equator: A Journey Around the World"
          ],
          [
           "A Tramp Abroad"
          ],
          [
           "Personal Recollections of Joan of Arc — Volume 1"
          ],
          [
           "Sketches New and Old"
          ],
          [
           "Adventures of Huckleberry Finn, Chapters 01 to 05"
          ],
          [
           "The $30,000 Bequest, and Other Stories"
          ],
          [
           "The £1,000,000 bank-note, and other new stories"
          ],
          [
           "The Man That Corrupted Hadleyburg"
          ],
          [
           "1601: Conversation as it was by the Social Fireside in the Time of the Tudors"
          ],
          [
           "Christian Science"
          ],
          [
           "Is Shakespeare Dead?: From My Autobiography"
          ],
          [
           "Mark Twain's Letters — Complete (1853-1910)"
          ],
          [
           "Extract from Captain Stormfield's Visit to Heaven"
          ],
          [
           "The Adventures of Tom Sawyer, Part 1."
          ],
          [
           "To the Person Sitting in Darkness"
          ],
          [
           "King Leopold's Soliloquy: A Defense of His Congo Rule"
          ],
          [
           "The Stolen White Elephant"
          ],
          [
           "The Man That Corrupted Hadleyburg, and Other Stories"
          ],
          [
           "Personal Recollections of Joan of Arc — Volume 2"
          ],
          [
           "Extracts from Adam's Diary, translated from the original ms."
          ],
          [
           "The Adventures of Huckleberry Finn (Tom Sawyer's Comrade)"
          ],
          [
           "Chapters from My Autobiography"
          ],
          [
           "Mark Twain's Letters — Volume 4 (1886-1900)"
          ],
          [
           "A Horse's Tale"
          ],
          [
           "On the Decay of the Art of Lying"
          ],
          [
           "Mark Twain's Letters — Volume 1 (1853-1866)"
          ],
          [
           "Europe and elsewhere"
          ],
          [
           "A Double Barrelled Detective Story"
          ],
          [
           "Mark Twain's Letters — Volume 2 (1867-1875)"
          ],
          [
           "In Defence of Harriet Shelley"
          ],
          [
           "The American Claimant"
          ],
          [
           "The Mysterious Stranger: A Romance"
          ],
          [
           "Those Extraordinary Twins"
          ],
          [
           "Merry Tales"
          ],
          [
           "Adventures of Huckleberry Finn, Chapters 11 to 15"
          ],
          [
           "The Adventures of Tom Sawyer, Part 2."
          ],
          [
           "The Facts Concerning the Recent Carnival of Crime in Connecticut"
          ],
          [
           "Following the Equator: A Journey Around the World. Part 3"
          ]
         ],
         "hovertemplate": "authorcentury_str=19th century CE<br>proj_0=%{x}<br>proj_1=%{y}<br>title=%{customdata[0]}<extra></extra>",
         "legendgroup": "19th century CE",
         "marker": {
          "color": "#DEA0FD",
          "symbol": "circle"
         },
         "mode": "markers",
         "name": "19th century CE",
         "orientation": "v",
         "showlegend": true,
         "type": "scatter",
         "x": [
          2.648685932159424,
          2.4536921977996826,
          2.5112171173095703,
          2.824148178100586,
          2.3645262718200684,
          2.5293781757354736,
          2.3752596378326416,
          5.398392200469971,
          2.5589418411254883,
          2.613642692565918,
          2.656146764755249,
          2.5430355072021484,
          5.5120320320129395,
          2.3534231185913086,
          1.7024214267730713,
          2.4254610538482666,
          2.6178674697875977,
          2.4076337814331055,
          2.343065023422241,
          1.7276242971420288,
          2.5330209732055664,
          5.358902454376221,
          2.3389668464660645,
          5.512197971343994,
          1.7319066524505615,
          1.7214388847351074,
          5.435777187347412,
          2.437598466873169,
          2.5562515258789062,
          5.487963676452637,
          5.223278045654297,
          5.170532703399658,
          4.936453819274902,
          5.043558120727539,
          5.218473434448242,
          2.3247082233428955,
          1.7482458353042603,
          5.518316268920898,
          5.2359795570373535,
          4.978368282318115,
          5.021770477294922,
          2.466125726699829,
          5.066871166229248,
          1.8154535293579102,
          5.415727615356445,
          5.18494176864624,
          5.277957439422607,
          5.176600456237793,
          2.469223976135254,
          2.456390857696533,
          19.652585983276367,
          20.151412963867188,
          19.800891876220703,
          19.90731430053711,
          19.809118270874023,
          20.046550750732422,
          19.76704216003418,
          20.207361221313477,
          19.610889434814453,
          20.04340362548828,
          20.103822708129883,
          20.17824935913086,
          19.414655685424805,
          19.69192886352539,
          19.63497543334961,
          20.03939437866211,
          20.148313522338867,
          20.434972763061523,
          19.33696937561035,
          20.39109230041504,
          19.373380661010742,
          20.436086654663086,
          20.183635711669922,
          19.383026123046875,
          19.396997451782227,
          19.854013442993164,
          20.38513946533203,
          19.950706481933594,
          19.404294967651367,
          19.981544494628906,
          19.773958206176758,
          19.448837280273438,
          20.490753173828125,
          19.730337142944336,
          19.421152114868164,
          19.392929077148438,
          19.6098690032959,
          20.389381408691406,
          19.397748947143555,
          19.561748504638672,
          20.433433532714844,
          20.441051483154297,
          19.986021041870117,
          20.174678802490234,
          19.654052734375,
          20.306556701660156,
          19.42818260192871,
          19.654064178466797,
          19.700294494628906,
          19.815351486206055,
          12.593729972839355,
          11.42805290222168,
          12.420670509338379,
          12.32671070098877,
          13.356847763061523,
          11.168149948120117,
          13.317914009094238,
          12.112462043762207,
          12.429296493530273,
          12.36242961883545,
          12.024608612060547,
          11.17037296295166,
          12.790946960449219,
          11.486324310302734,
          11.475484848022461,
          12.259159088134766,
          11.546875,
          12.195805549621582,
          13.201055526733398,
          11.922273635864258,
          13.043588638305664,
          12.803213119506836,
          11.034735679626465,
          12.596634864807129,
          13.116937637329102,
          12.247645378112793,
          12.797950744628906,
          12.224471092224121,
          12.226366996765137,
          12.117022514343262,
          12.990684509277344,
          13.087137222290039,
          13.234590530395508,
          11.982001304626465,
          13.278010368347168,
          12.203775405883789,
          11.707183837890625,
          11.751193046569824,
          11.076187133789062,
          12.092741966247559,
          11.37428092956543,
          11.07823657989502,
          11.59625244140625,
          11.13110065460205,
          13.190099716186523,
          11.639449119567871,
          11.53351879119873,
          12.921990394592285,
          13.213183403015137,
          12.940184593200684,
          11.498177528381348,
          12.138569831848145,
          12.10031795501709,
          10.927659034729004,
          11.047033309936523,
          10.193422317504883,
          11.931028366088867,
          11.43636703491211,
          9.901167869567871,
          9.937701225280762,
          10.290868759155273,
          11.831356048583984,
          12.142791748046875,
          12.098790168762207,
          10.87833309173584,
          12.105996131896973,
          9.969877243041992,
          11.768314361572266,
          11.367899894714355,
          10.700716972351074,
          10.991674423217773,
          11.405393600463867,
          11.492104530334473,
          11.531224250793457,
          10.742875099182129,
          10.308646202087402,
          10.10507583618164,
          10.926735877990723,
          9.977505683898926,
          11.921436309814453,
          10.883715629577637,
          9.926310539245605,
          11.491069793701172,
          11.80233383178711,
          11.472837448120117,
          10.850485801696777,
          9.84687614440918,
          11.180771827697754,
          12.126022338867188,
          10.981167793273926,
          11.069709777832031,
          9.92393684387207,
          11.45930004119873,
          10.699942588806152,
          10.3162260055542,
          11.472260475158691,
          9.980101585388184,
          10.33326244354248,
          10.815131187438965,
          11.541664123535156
         ],
         "xaxis": "x",
         "y": [
          5.694268703460693,
          5.810148239135742,
          5.801973819732666,
          5.714967250823975,
          6.2357378005981445,
          5.771684169769287,
          6.23539400100708,
          6.887892246246338,
          5.771489143371582,
          5.631751537322998,
          5.617978572845459,
          5.737945079803467,
          6.8700337409973145,
          6.382572650909424,
          6.952146530151367,
          5.92919921875,
          5.685568809509277,
          6.169816493988037,
          5.999478340148926,
          6.908181667327881,
          5.861230850219727,
          6.681260108947754,
          6.467682838439941,
          6.75643253326416,
          6.886609077453613,
          6.9121575355529785,
          6.950201988220215,
          6.459667205810547,
          5.831967830657959,
          6.7764363288879395,
          7.117882251739502,
          7.039711952209473,
          7.0542402267456055,
          6.993598937988281,
          7.073925018310547,
          6.330263137817383,
          6.866906642913818,
          6.732513427734375,
          7.127392292022705,
          6.808909893035889,
          6.777020454406738,
          6.289219856262207,
          6.8632612228393555,
          6.847232818603516,
          6.757894992828369,
          7.139666557312012,
          6.979790687561035,
          7.115085124969482,
          5.857545375823975,
          5.867407321929932,
          1.7641396522521973,
          0.46325910091400146,
          1.5646480321884155,
          1.1439476013183594,
          1.5414375066757202,
          0.6881542205810547,
          1.6847898960113525,
          0.36646535992622375,
          1.872880458831787,
          0.6857694983482361,
          0.5907566547393799,
          0.449238657951355,
          2.540334939956665,
          1.7917680740356445,
          1.8688286542892456,
          0.6667335629463196,
          0.5510138869285583,
          -0.234998881816864,
          2.616785764694214,
          -0.15582361817359924,
          2.6346065998077393,
          -0.2241075187921524,
          0.3047778904438019,
          2.5925631523132324,
          2.372004508972168,
          1.3278409242630005,
          -0.17822425067424774,
          1.0136003494262695,
          2.512955904006958,
          0.9715784192085266,
          1.5833683013916016,
          2.5306735038757324,
          -0.28204110264778137,
          1.5009524822235107,
          2.496321201324463,
          2.5783190727233887,
          1.9171520471572876,
          -0.13562963902950287,
          2.4007761478424072,
          1.9815154075622559,
          -0.23050451278686523,
          -0.21770590543746948,
          0.8576515316963196,
          0.35650402307510376,
          1.8126566410064697,
          -0.02337968349456787,
          2.3767545223236084,
          1.7907130718231201,
          1.767100214958191,
          1.502280831336975,
          18.011377334594727,
          18.322193145751953,
          17.96983528137207,
          18.015430450439453,
          17.830873489379883,
          18.50756072998047,
          17.862546920776367,
          18.042402267456055,
          18.05088233947754,
          18.128543853759766,
          18.035398483276367,
          18.46683120727539,
          17.97350311279297,
          18.289745330810547,
          18.294708251953125,
          18.23637580871582,
          18.282743453979492,
          18.150562286376953,
          17.91731071472168,
          18.05661964416504,
          17.87871551513672,
          18.02860450744629,
          18.56075096130371,
          17.873825073242188,
          17.922157287597656,
          17.943300247192383,
          18.086233139038086,
          17.952470779418945,
          18.028818130493164,
          17.919034957885742,
          18.02837562561035,
          17.914073944091797,
          17.954055786132812,
          18.071203231811523,
          17.90364646911621,
          18.018051147460938,
          18.203901290893555,
          18.214435577392578,
          18.529212951660156,
          18.014690399169922,
          18.37154197692871,
          18.507770538330078,
          18.24172019958496,
          18.477794647216797,
          17.894502639770508,
          18.309728622436523,
          18.199630737304688,
          17.98708724975586,
          17.948028564453125,
          17.992839813232422,
          1.8088798522949219,
          1.9707528352737427,
          1.9191430807113647,
          1.0389368534088135,
          1.1156973838806152,
          0.8276328444480896,
          1.9021731615066528,
          1.7607512474060059,
          0.7974395751953125,
          0.8160914778709412,
          0.8475698828697205,
          1.843837857246399,
          1.961790919303894,
          1.9403902292251587,
          0.9760422706604004,
          1.9556735754013062,
          0.7802155613899231,
          1.8632177114486694,
          1.6803808212280273,
          0.9279186725616455,
          1.0397796630859375,
          1.7570688724517822,
          1.8056755065917969,
          1.7620679140090942,
          0.9126862287521362,
          0.831667423248291,
          0.8009667992591858,
          1.0236042737960815,
          0.8283819556236267,
          1.8970545530319214,
          1.0032341480255127,
          0.8062325716018677,
          1.8076786994934082,
          1.8793822526931763,
          1.7965974807739258,
          0.9775101542472839,
          0.7601822018623352,
          1.3527708053588867,
          1.9624841213226318,
          1.0872666835784912,
          1.1640113592147827,
          0.8081535696983337,
          1.8218483924865723,
          0.9501141905784607,
          0.8620772361755371,
          1.7842665910720825,
          0.8191272616386414,
          0.8781294226646423,
          0.9436752796173096,
          1.8189234733581543
         ],
         "yaxis": "y"
        },
        {
         "customdata": [
          [
           "The River War: An Account of the Reconquest of the Sudan"
          ],
          [
           "The World Crisis, Volume 1 (of 6)"
          ],
          [
           "My African Journey"
          ],
          [
           "The Crossing"
          ],
          [
           "The Crisis — Complete"
          ],
          [
           "A Far Country — Complete"
          ],
          [
           "London to Ladysmith via Pretoria"
          ],
          [
           "Liberalism and the Social Problem"
          ],
          [
           "Coniston — Complete"
          ],
          [
           "Lord Randolph Churchill"
          ],
          [
           "Richard Carvel — Complete"
          ],
          [
           "Savrola: A Tale of the Revolution in Laurania"
          ],
          [
           "The Dwelling Place of Light — Complete"
          ],
          [
           "A Modern Chronicle — Complete"
          ],
          [
           "The Inside of the Cup — Complete"
          ],
          [
           "A Traveller in War-Time"
          ],
          [
           "The Celebrity, Complete"
          ],
          [
           "The Crisis — Volume 01"
          ],
          [
           "Mr. Crewe's Career — Complete"
          ],
          [
           "Ian Hamilton's March"
          ],
          [
           "An essay on the American contribution and the democratic idea"
          ],
          [
           "A Far Country — Volume 3"
          ],
          [
           "The Crisis — Volume 02"
          ],
          [
           "The Dwelling Place of Light — Volume 1"
          ],
          [
           "Coniston — Volume 03"
          ],
          [
           "The Crisis — Volume 04"
          ],
          [
           "Dr. Jonathan"
          ],
          [
           "Richard Carvel — Volume 02"
          ],
          [
           "The Crisis — Volume 03"
          ],
          [
           "Mr. Crewe's Career — Volume 1"
          ],
          [
           "The Crisis — Volume 05"
          ],
          [
           "The Crisis — Volume 06"
          ],
          [
           "Mr. Keegan's Elopement"
          ],
          [
           "The Inside of the Cup — Volume 02"
          ],
          [
           "The Inside of the Cup — Volume 07"
          ],
          [
           "The Crisis — Volume 08"
          ],
          [
           "Coniston — Volume 01"
          ],
          [
           "Coniston — Volume 02"
          ],
          [
           "The Celebrity, Volume 04"
          ],
          [
           "The Crisis — Volume 07"
          ],
          [
           "Mr. Crewe's Career — Volume 3"
          ],
          [
           "A Far Country — Volume 2"
          ],
          [
           "Coniston — Volume 04"
          ],
          [
           "The Inside of the Cup — Volume 04"
          ],
          [
           "The Celebrity, Volume 01"
          ],
          [
           "The Inside of the Cup — Volume 01"
          ],
          [
           "The Inside of the Cup — Volume 03"
          ],
          [
           "Richard Carvel — Volume 07"
          ],
          [
           "A Modern Chronicle — Volume 01"
          ],
          [
           "A Modern Chronicle — Volume 02"
          ],
          [
           "The Eyes Have It"
          ],
          [
           "Prize ship"
          ],
          [
           "Second Variety"
          ],
          [
           "The Hanging Stranger"
          ],
          [
           "Beyond Lies the Wub"
          ],
          [
           "The Defenders"
          ],
          [
           "The Variable Man"
          ],
          [
           "The Skull"
          ],
          [
           "Mr. Spaceship"
          ],
          [
           "Piper in the Woods"
          ],
          [
           "The Crystal Crypt"
          ],
          [
           "Beyond the Door"
          ],
          [
           "The Gun"
          ],
          [
           "Tony and the Beetles"
          ],
          [
           "Crome Yellow"
          ],
          [
           "On the Margin: Notes and Essays"
          ],
          [
           "Mortal Coils"
          ],
          [
           "Limbo"
          ],
          [
           "Antic Hay"
          ],
          [
           "The Burning Wheel"
          ],
          [
           "Little Mexican & Other Stories"
          ],
          [
           "Leda"
          ],
          [
           "The Defeat of Youth, and Other Poems"
          ],
          [
           "Selected Poems"
          ],
          [
           "Jonah: Christmas 1917"
          ],
          [
           "The call of Cthulhu"
          ],
          [
           "The lurking fear"
          ],
          [
           "The Dunwich Horror"
          ],
          [
           "The colour out of space"
          ],
          [
           "The Shunned House"
          ],
          [
           "Writings in the United Amateur, 1915-1922"
          ],
          [
           "The festival"
          ],
          [
           "He"
          ]
         ],
         "hovertemplate": "authorcentury_str=20th century CE<br>proj_0=%{x}<br>proj_1=%{y}<br>title=%{customdata[0]}<extra></extra>",
         "legendgroup": "20th century CE",
         "marker": {
          "color": "#FE00FA",
          "symbol": "circle"
         },
         "mode": "markers",
         "name": "20th century CE",
         "orientation": "v",
         "showlegend": true,
         "type": "scatter",
         "x": [
          -5.688686847686768,
          -5.498630523681641,
          -5.376879692077637,
          -5.364198684692383,
          -6.3993988037109375,
          -5.384477138519287,
          -5.877572059631348,
          -5.426005840301514,
          -7.68604850769043,
          -5.423460483551025,
          -5.489930152893066,
          -6.576879024505615,
          -5.5899457931518555,
          -7.033615589141846,
          -6.270437717437744,
          -5.381633281707764,
          -7.296303749084473,
          -6.81220817565918,
          -6.583564281463623,
          -5.814388275146484,
          -5.896974563598633,
          -5.406783580780029,
          -6.952162742614746,
          -5.768410682678223,
          -7.926507949829102,
          -6.794650077819824,
          -8.050658226013184,
          -6.541475772857666,
          -6.826107501983643,
          -6.88676118850708,
          -6.6039018630981445,
          -6.36761999130249,
          -7.969485282897949,
          -6.453980922698975,
          -6.74461030960083,
          -6.67371129989624,
          -7.81134557723999,
          -7.817524433135986,
          -7.5027971267700195,
          -6.823726654052734,
          -7.317236423492432,
          -5.649313449859619,
          -7.684048652648926,
          -6.212331771850586,
          -7.662039756774902,
          -6.604343414306641,
          -6.529847145080566,
          -6.253915786743164,
          -7.893136501312256,
          -7.9456939697265625,
          -9.312871932983398,
          -9.20321273803711,
          -9.296180725097656,
          -9.308032035827637,
          -9.160083770751953,
          -9.29167652130127,
          -9.234036445617676,
          -9.348430633544922,
          -9.241537094116211,
          -9.205207824707031,
          -9.375410079956055,
          -9.193978309631348,
          -9.340781211853027,
          -9.217300415039062,
          8.143044471740723,
          8.139901161193848,
          8.176898002624512,
          8.104131698608398,
          8.156042098999023,
          8.10684871673584,
          8.225447654724121,
          8.169988632202148,
          8.13632583618164,
          8.139006614685059,
          5.798105716705322,
          6.007499694824219,
          5.906351566314697,
          5.936054229736328,
          5.903897762298584,
          6.011391639709473,
          5.957996845245361,
          5.878819942474365,
          5.885080337524414
         ],
         "xaxis": "x",
         "y": [
          5.882904052734375,
          5.815866947174072,
          5.983339309692383,
          5.992727279663086,
          5.5156474113464355,
          5.936498165130615,
          5.823986530303955,
          5.914327621459961,
          4.9565958976745605,
          5.916695594787598,
          5.953069686889648,
          5.456284999847412,
          5.906187534332275,
          5.230236530303955,
          5.618159770965576,
          5.923418998718262,
          5.134695053100586,
          5.287116527557373,
          5.4480671882629395,
          5.848974227905273,
          5.8223700523376465,
          5.926211833953857,
          5.2010111808776855,
          5.831757545471191,
          4.758449077606201,
          5.295551776885986,
          4.632309436798096,
          5.536330699920654,
          5.259852409362793,
          5.300141334533691,
          5.4038801193237305,
          5.558468818664551,
          4.714877128601074,
          5.4422807693481445,
          5.32954216003418,
          5.353677749633789,
          4.844779014587402,
          4.839646339416504,
          5.070322513580322,
          5.269111633300781,
          5.125280857086182,
          5.871960639953613,
          4.947556495666504,
          5.6626667976379395,
          4.964892387390137,
          5.388287544250488,
          5.423758029937744,
          5.6344428062438965,
          4.785091876983643,
          4.738495826721191,
          1.0777279138565063,
          1.1875029802322388,
          1.0945230722427368,
          1.0827815532684326,
          1.2328661680221558,
          1.0990490913391113,
          1.156868577003479,
          1.0422245264053345,
          1.1493219137191772,
          1.1857004165649414,
          1.0152344703674316,
          1.1970369815826416,
          1.049967646598816,
          1.1735038757324219,
          6.833620548248291,
          6.791728973388672,
          6.875775337219238,
          6.788650989532471,
          6.851493835449219,
          6.836134910583496,
          6.911129951477051,
          6.852690696716309,
          6.846916675567627,
          6.830513000488281,
          6.75634765625,
          7.855232238769531,
          7.753481388092041,
          7.781888484954834,
          7.747752666473389,
          7.8560309410095215,
          7.797245979309082,
          7.7211079597473145,
          7.729752063751221
         ],
         "yaxis": "y"
        },
        {
         "customdata": [
          [
           "Lambda"
          ],
          [
           "Deathway"
          ]
         ],
         "hovertemplate": "authorcentury_str=21st century CE<br>proj_0=%{x}<br>proj_1=%{y}<br>title=%{customdata[0]}<extra></extra>",
         "legendgroup": "21st century CE",
         "marker": {
          "color": "#325A9B",
          "symbol": "circle"
         },
         "mode": "markers",
         "name": "21st century CE",
         "orientation": "v",
         "showlegend": true,
         "type": "scatter",
         "x": [
          6.8695597648620605,
          5.281713008880615
         ],
         "xaxis": "x",
         "y": [
          4.503576755523682,
          7.188530921936035
         ],
         "yaxis": "y"
        }
       ],
       "layout": {
        "height": 800,
        "legend": {
         "title": {
          "text": "authorcentury_str"
         },
         "tracegroupgap": 0
        },
        "margin": {
         "t": 60
        },
        "template": {
         "data": {
          "bar": [
           {
            "error_x": {
             "color": "#2a3f5f"
            },
            "error_y": {
             "color": "#2a3f5f"
            },
            "marker": {
             "line": {
              "color": "#E5ECF6",
              "width": 0.5
             },
             "pattern": {
              "fillmode": "overlay",
              "size": 10,
              "solidity": 0.2
             }
            },
            "type": "bar"
           }
          ],
          "barpolar": [
           {
            "marker": {
             "line": {
              "color": "#E5ECF6",
              "width": 0.5
             },
             "pattern": {
              "fillmode": "overlay",
              "size": 10,
              "solidity": 0.2
             }
            },
            "type": "barpolar"
           }
          ],
          "carpet": [
           {
            "aaxis": {
             "endlinecolor": "#2a3f5f",
             "gridcolor": "white",
             "linecolor": "white",
             "minorgridcolor": "white",
             "startlinecolor": "#2a3f5f"
            },
            "baxis": {
             "endlinecolor": "#2a3f5f",
             "gridcolor": "white",
             "linecolor": "white",
             "minorgridcolor": "white",
             "startlinecolor": "#2a3f5f"
            },
            "type": "carpet"
           }
          ],
          "choropleth": [
           {
            "colorbar": {
             "outlinewidth": 0,
             "ticks": ""
            },
            "type": "choropleth"
           }
          ],
          "contour": [
           {
            "colorbar": {
             "outlinewidth": 0,
             "ticks": ""
            },
            "colorscale": [
             [
              0,
              "#0d0887"
             ],
             [
              0.1111111111111111,
              "#46039f"
             ],
             [
              0.2222222222222222,
              "#7201a8"
             ],
             [
              0.3333333333333333,
              "#9c179e"
             ],
             [
              0.4444444444444444,
              "#bd3786"
             ],
             [
              0.5555555555555556,
              "#d8576b"
             ],
             [
              0.6666666666666666,
              "#ed7953"
             ],
             [
              0.7777777777777778,
              "#fb9f3a"
             ],
             [
              0.8888888888888888,
              "#fdca26"
             ],
             [
              1,
              "#f0f921"
             ]
            ],
            "type": "contour"
           }
          ],
          "contourcarpet": [
           {
            "colorbar": {
             "outlinewidth": 0,
             "ticks": ""
            },
            "type": "contourcarpet"
           }
          ],
          "heatmap": [
           {
            "colorbar": {
             "outlinewidth": 0,
             "ticks": ""
            },
            "colorscale": [
             [
              0,
              "#0d0887"
             ],
             [
              0.1111111111111111,
              "#46039f"
             ],
             [
              0.2222222222222222,
              "#7201a8"
             ],
             [
              0.3333333333333333,
              "#9c179e"
             ],
             [
              0.4444444444444444,
              "#bd3786"
             ],
             [
              0.5555555555555556,
              "#d8576b"
             ],
             [
              0.6666666666666666,
              "#ed7953"
             ],
             [
              0.7777777777777778,
              "#fb9f3a"
             ],
             [
              0.8888888888888888,
              "#fdca26"
             ],
             [
              1,
              "#f0f921"
             ]
            ],
            "type": "heatmap"
           }
          ],
          "heatmapgl": [
           {
            "colorbar": {
             "outlinewidth": 0,
             "ticks": ""
            },
            "colorscale": [
             [
              0,
              "#0d0887"
             ],
             [
              0.1111111111111111,
              "#46039f"
             ],
             [
              0.2222222222222222,
              "#7201a8"
             ],
             [
              0.3333333333333333,
              "#9c179e"
             ],
             [
              0.4444444444444444,
              "#bd3786"
             ],
             [
              0.5555555555555556,
              "#d8576b"
             ],
             [
              0.6666666666666666,
              "#ed7953"
             ],
             [
              0.7777777777777778,
              "#fb9f3a"
             ],
             [
              0.8888888888888888,
              "#fdca26"
             ],
             [
              1,
              "#f0f921"
             ]
            ],
            "type": "heatmapgl"
           }
          ],
          "histogram": [
           {
            "marker": {
             "pattern": {
              "fillmode": "overlay",
              "size": 10,
              "solidity": 0.2
             }
            },
            "type": "histogram"
           }
          ],
          "histogram2d": [
           {
            "colorbar": {
             "outlinewidth": 0,
             "ticks": ""
            },
            "colorscale": [
             [
              0,
              "#0d0887"
             ],
             [
              0.1111111111111111,
              "#46039f"
             ],
             [
              0.2222222222222222,
              "#7201a8"
             ],
             [
              0.3333333333333333,
              "#9c179e"
             ],
             [
              0.4444444444444444,
              "#bd3786"
             ],
             [
              0.5555555555555556,
              "#d8576b"
             ],
             [
              0.6666666666666666,
              "#ed7953"
             ],
             [
              0.7777777777777778,
              "#fb9f3a"
             ],
             [
              0.8888888888888888,
              "#fdca26"
             ],
             [
              1,
              "#f0f921"
             ]
            ],
            "type": "histogram2d"
           }
          ],
          "histogram2dcontour": [
           {
            "colorbar": {
             "outlinewidth": 0,
             "ticks": ""
            },
            "colorscale": [
             [
              0,
              "#0d0887"
             ],
             [
              0.1111111111111111,
              "#46039f"
             ],
             [
              0.2222222222222222,
              "#7201a8"
             ],
             [
              0.3333333333333333,
              "#9c179e"
             ],
             [
              0.4444444444444444,
              "#bd3786"
             ],
             [
              0.5555555555555556,
              "#d8576b"
             ],
             [
              0.6666666666666666,
              "#ed7953"
             ],
             [
              0.7777777777777778,
              "#fb9f3a"
             ],
             [
              0.8888888888888888,
              "#fdca26"
             ],
             [
              1,
              "#f0f921"
             ]
            ],
            "type": "histogram2dcontour"
           }
          ],
          "mesh3d": [
           {
            "colorbar": {
             "outlinewidth": 0,
             "ticks": ""
            },
            "type": "mesh3d"
           }
          ],
          "parcoords": [
           {
            "line": {
             "colorbar": {
              "outlinewidth": 0,
              "ticks": ""
             }
            },
            "type": "parcoords"
           }
          ],
          "pie": [
           {
            "automargin": true,
            "type": "pie"
           }
          ],
          "scatter": [
           {
            "fillpattern": {
             "fillmode": "overlay",
             "size": 10,
             "solidity": 0.2
            },
            "type": "scatter"
           }
          ],
          "scatter3d": [
           {
            "line": {
             "colorbar": {
              "outlinewidth": 0,
              "ticks": ""
             }
            },
            "marker": {
             "colorbar": {
              "outlinewidth": 0,
              "ticks": ""
             }
            },
            "type": "scatter3d"
           }
          ],
          "scattercarpet": [
           {
            "marker": {
             "colorbar": {
              "outlinewidth": 0,
              "ticks": ""
             }
            },
            "type": "scattercarpet"
           }
          ],
          "scattergeo": [
           {
            "marker": {
             "colorbar": {
              "outlinewidth": 0,
              "ticks": ""
             }
            },
            "type": "scattergeo"
           }
          ],
          "scattergl": [
           {
            "marker": {
             "colorbar": {
              "outlinewidth": 0,
              "ticks": ""
             }
            },
            "type": "scattergl"
           }
          ],
          "scattermapbox": [
           {
            "marker": {
             "colorbar": {
              "outlinewidth": 0,
              "ticks": ""
             }
            },
            "type": "scattermapbox"
           }
          ],
          "scatterpolar": [
           {
            "marker": {
             "colorbar": {
              "outlinewidth": 0,
              "ticks": ""
             }
            },
            "type": "scatterpolar"
           }
          ],
          "scatterpolargl": [
           {
            "marker": {
             "colorbar": {
              "outlinewidth": 0,
              "ticks": ""
             }
            },
            "type": "scatterpolargl"
           }
          ],
          "scatterternary": [
           {
            "marker": {
             "colorbar": {
              "outlinewidth": 0,
              "ticks": ""
             }
            },
            "type": "scatterternary"
           }
          ],
          "surface": [
           {
            "colorbar": {
             "outlinewidth": 0,
             "ticks": ""
            },
            "colorscale": [
             [
              0,
              "#0d0887"
             ],
             [
              0.1111111111111111,
              "#46039f"
             ],
             [
              0.2222222222222222,
              "#7201a8"
             ],
             [
              0.3333333333333333,
              "#9c179e"
             ],
             [
              0.4444444444444444,
              "#bd3786"
             ],
             [
              0.5555555555555556,
              "#d8576b"
             ],
             [
              0.6666666666666666,
              "#ed7953"
             ],
             [
              0.7777777777777778,
              "#fb9f3a"
             ],
             [
              0.8888888888888888,
              "#fdca26"
             ],
             [
              1,
              "#f0f921"
             ]
            ],
            "type": "surface"
           }
          ],
          "table": [
           {
            "cells": {
             "fill": {
              "color": "#EBF0F8"
             },
             "line": {
              "color": "white"
             }
            },
            "header": {
             "fill": {
              "color": "#C8D4E3"
             },
             "line": {
              "color": "white"
             }
            },
            "type": "table"
           }
          ]
         },
         "layout": {
          "annotationdefaults": {
           "arrowcolor": "#2a3f5f",
           "arrowhead": 0,
           "arrowwidth": 1
          },
          "autotypenumbers": "strict",
          "coloraxis": {
           "colorbar": {
            "outlinewidth": 0,
            "ticks": ""
           }
          },
          "colorscale": {
           "diverging": [
            [
             0,
             "#8e0152"
            ],
            [
             0.1,
             "#c51b7d"
            ],
            [
             0.2,
             "#de77ae"
            ],
            [
             0.3,
             "#f1b6da"
            ],
            [
             0.4,
             "#fde0ef"
            ],
            [
             0.5,
             "#f7f7f7"
            ],
            [
             0.6,
             "#e6f5d0"
            ],
            [
             0.7,
             "#b8e186"
            ],
            [
             0.8,
             "#7fbc41"
            ],
            [
             0.9,
             "#4d9221"
            ],
            [
             1,
             "#276419"
            ]
           ],
           "sequential": [
            [
             0,
             "#0d0887"
            ],
            [
             0.1111111111111111,
             "#46039f"
            ],
            [
             0.2222222222222222,
             "#7201a8"
            ],
            [
             0.3333333333333333,
             "#9c179e"
            ],
            [
             0.4444444444444444,
             "#bd3786"
            ],
            [
             0.5555555555555556,
             "#d8576b"
            ],
            [
             0.6666666666666666,
             "#ed7953"
            ],
            [
             0.7777777777777778,
             "#fb9f3a"
            ],
            [
             0.8888888888888888,
             "#fdca26"
            ],
            [
             1,
             "#f0f921"
            ]
           ],
           "sequentialminus": [
            [
             0,
             "#0d0887"
            ],
            [
             0.1111111111111111,
             "#46039f"
            ],
            [
             0.2222222222222222,
             "#7201a8"
            ],
            [
             0.3333333333333333,
             "#9c179e"
            ],
            [
             0.4444444444444444,
             "#bd3786"
            ],
            [
             0.5555555555555556,
             "#d8576b"
            ],
            [
             0.6666666666666666,
             "#ed7953"
            ],
            [
             0.7777777777777778,
             "#fb9f3a"
            ],
            [
             0.8888888888888888,
             "#fdca26"
            ],
            [
             1,
             "#f0f921"
            ]
           ]
          },
          "colorway": [
           "#636efa",
           "#EF553B",
           "#00cc96",
           "#ab63fa",
           "#FFA15A",
           "#19d3f3",
           "#FF6692",
           "#B6E880",
           "#FF97FF",
           "#FECB52"
          ],
          "font": {
           "color": "#2a3f5f"
          },
          "geo": {
           "bgcolor": "white",
           "lakecolor": "white",
           "landcolor": "#E5ECF6",
           "showlakes": true,
           "showland": true,
           "subunitcolor": "white"
          },
          "hoverlabel": {
           "align": "left"
          },
          "hovermode": "closest",
          "mapbox": {
           "style": "light"
          },
          "paper_bgcolor": "white",
          "plot_bgcolor": "#E5ECF6",
          "polar": {
           "angularaxis": {
            "gridcolor": "white",
            "linecolor": "white",
            "ticks": ""
           },
           "bgcolor": "#E5ECF6",
           "radialaxis": {
            "gridcolor": "white",
            "linecolor": "white",
            "ticks": ""
           }
          },
          "scene": {
           "xaxis": {
            "backgroundcolor": "#E5ECF6",
            "gridcolor": "white",
            "gridwidth": 2,
            "linecolor": "white",
            "showbackground": true,
            "ticks": "",
            "zerolinecolor": "white"
           },
           "yaxis": {
            "backgroundcolor": "#E5ECF6",
            "gridcolor": "white",
            "gridwidth": 2,
            "linecolor": "white",
            "showbackground": true,
            "ticks": "",
            "zerolinecolor": "white"
           },
           "zaxis": {
            "backgroundcolor": "#E5ECF6",
            "gridcolor": "white",
            "gridwidth": 2,
            "linecolor": "white",
            "showbackground": true,
            "ticks": "",
            "zerolinecolor": "white"
           }
          },
          "shapedefaults": {
           "line": {
            "color": "#2a3f5f"
           }
          },
          "ternary": {
           "aaxis": {
            "gridcolor": "white",
            "linecolor": "white",
            "ticks": ""
           },
           "baxis": {
            "gridcolor": "white",
            "linecolor": "white",
            "ticks": ""
           },
           "bgcolor": "#E5ECF6",
           "caxis": {
            "gridcolor": "white",
            "linecolor": "white",
            "ticks": ""
           }
          },
          "title": {
           "x": 0.05
          },
          "xaxis": {
           "automargin": true,
           "gridcolor": "white",
           "linecolor": "white",
           "ticks": "",
           "title": {
            "standoff": 15
           },
           "zerolinecolor": "white",
           "zerolinewidth": 2
          },
          "yaxis": {
           "automargin": true,
           "gridcolor": "white",
           "linecolor": "white",
           "ticks": "",
           "title": {
            "standoff": 15
           },
           "zerolinecolor": "white",
           "zerolinewidth": 2
          }
         }
        },
        "width": 1200,
        "xaxis": {
         "anchor": "y",
         "domain": [
          0,
          1
         ],
         "title": {
          "text": "proj_0"
         }
        },
        "yaxis": {
         "anchor": "x",
         "domain": [
          0,
          1
         ],
         "title": {
          "text": "proj_1"
         }
        }
       }
      }
     },
     "metadata": {},
     "output_type": "display_data"
    }
   ],
   "source": [
    "fig = px.scatter(data_frame = library_newtext,\n",
    "                 x='proj_0',\n",
    "                 y='proj_1',\n",
    "                 width=1200,\n",
    "                 height=800,\n",
    "                 color= 'authorcentury_str', #library_newtext['authorcentury'].astype('category'),\n",
    "                 color_discrete_sequence=px.colors.qualitative.Alphabet, #Dark24\n",
    "                 hover_data= ['title']\n",
    "                 )\n",
    "\n",
    "fig.show()"
   ]
  },
  {
   "cell_type": "code",
   "execution_count": 44,
   "metadata": {},
   "outputs": [],
   "source": [
    "dists = spatial.distance.pdist(library_newtext.drop(columns=['id', 'title', 'author', 'authorcentury_str', 'proj_0', 'proj_1']).values,  metric='euclidean') #metric = 'cosine'"
   ]
  },
  {
   "cell_type": "code",
   "execution_count": 45,
   "metadata": {},
   "outputs": [
    {
     "data": {
      "text/plain": [
       "61.401320729984675"
      ]
     },
     "execution_count": 45,
     "metadata": {},
     "output_type": "execute_result"
    }
   ],
   "source": [
    "np.mean(dists)"
   ]
  },
  {
   "attachments": {},
   "cell_type": "markdown",
   "metadata": {},
   "source": [
    "note: to find out the dist between two authors, need to get the correct index for dist.\n",
    "\n",
    "for i < j < m (where m = num of authors):\n",
    "\n",
    "index = m * i + j - ((i + 2) * (i + 1)) // 2\n",
    "\n",
    "dists[index]"
   ]
  },
  {
   "attachments": {},
   "cell_type": "markdown",
   "metadata": {},
   "source": [
    "For Lambda, cosine distance:"
   ]
  },
  {
   "cell_type": "code",
   "execution_count": 46,
   "metadata": {},
   "outputs": [],
   "source": [
    "m = library_newtext.shape[0]\n",
    "j = m-2\n",
    "\n",
    "cos_dist = []\n",
    "titles = []\n",
    "authors = []\n",
    "\n",
    "for i in range(j):\n",
    "    titles.append(library_newtext['title'].iloc[i])\n",
    "    authors.append(library_newtext['author'].iloc[i])\n",
    "    cos_dist.append(dists[m * i + j - ((i + 2) * (i + 1)) // 2])"
   ]
  },
  {
   "cell_type": "code",
   "execution_count": 47,
   "metadata": {},
   "outputs": [
    {
     "data": {
      "text/html": [
       "<div>\n",
       "<style scoped>\n",
       "    .dataframe tbody tr th:only-of-type {\n",
       "        vertical-align: middle;\n",
       "    }\n",
       "\n",
       "    .dataframe tbody tr th {\n",
       "        vertical-align: top;\n",
       "    }\n",
       "\n",
       "    .dataframe thead th {\n",
       "        text-align: right;\n",
       "    }\n",
       "</style>\n",
       "<table border=\"1\" class=\"dataframe\">\n",
       "  <thead>\n",
       "    <tr style=\"text-align: right;\">\n",
       "      <th></th>\n",
       "      <th>title</th>\n",
       "      <th>author</th>\n",
       "      <th>Lambda</th>\n",
       "    </tr>\n",
       "  </thead>\n",
       "  <tbody>\n",
       "    <tr>\n",
       "      <th>464</th>\n",
       "      <td>An essay on the American contribution and the ...</td>\n",
       "      <td>Churchill, Winston</td>\n",
       "      <td>31.093656</td>\n",
       "    </tr>\n",
       "    <tr>\n",
       "      <th>431</th>\n",
       "      <td>Mark Twain's Letters — Volume 1 (1853-1866)</td>\n",
       "      <td>Twain, Mark</td>\n",
       "      <td>31.470893</td>\n",
       "    </tr>\n",
       "    <tr>\n",
       "      <th>508</th>\n",
       "      <td>Crome Yellow</td>\n",
       "      <td>Huxley, Aldous</td>\n",
       "      <td>31.694713</td>\n",
       "    </tr>\n",
       "    <tr>\n",
       "      <th>12</th>\n",
       "      <td>The Adventures of Ulysses the Wanderer</td>\n",
       "      <td>Homer</td>\n",
       "      <td>32.494590</td>\n",
       "    </tr>\n",
       "    <tr>\n",
       "      <th>1</th>\n",
       "      <td>The Odyssey: Rendered into English prose for t...</td>\n",
       "      <td>Homer</td>\n",
       "      <td>32.933620</td>\n",
       "    </tr>\n",
       "    <tr>\n",
       "      <th>446</th>\n",
       "      <td>My African Journey</td>\n",
       "      <td>Churchill, Winston</td>\n",
       "      <td>33.109292</td>\n",
       "    </tr>\n",
       "    <tr>\n",
       "      <th>451</th>\n",
       "      <td>Liberalism and the Social Problem</td>\n",
       "      <td>Churchill, Winston</td>\n",
       "      <td>33.110366</td>\n",
       "    </tr>\n",
       "    <tr>\n",
       "      <th>2</th>\n",
       "      <td>The Iliad</td>\n",
       "      <td>Homer</td>\n",
       "      <td>33.311928</td>\n",
       "    </tr>\n",
       "    <tr>\n",
       "      <th>450</th>\n",
       "      <td>London to Ladysmith via Pretoria</td>\n",
       "      <td>Churchill, Winston</td>\n",
       "      <td>33.934482</td>\n",
       "    </tr>\n",
       "    <tr>\n",
       "      <th>272</th>\n",
       "      <td>Some Christmas Stories</td>\n",
       "      <td>Dickens, Charles</td>\n",
       "      <td>34.068379</td>\n",
       "    </tr>\n",
       "  </tbody>\n",
       "</table>\n",
       "</div>"
      ],
      "text/plain": [
       "                                                 title              author  \\\n",
       "464  An essay on the American contribution and the ...  Churchill, Winston   \n",
       "431        Mark Twain's Letters — Volume 1 (1853-1866)         Twain, Mark   \n",
       "508                                       Crome Yellow      Huxley, Aldous   \n",
       "12              The Adventures of Ulysses the Wanderer               Homer   \n",
       "1    The Odyssey: Rendered into English prose for t...               Homer   \n",
       "446                                 My African Journey  Churchill, Winston   \n",
       "451                  Liberalism and the Social Problem  Churchill, Winston   \n",
       "2                                            The Iliad               Homer   \n",
       "450                   London to Ladysmith via Pretoria  Churchill, Winston   \n",
       "272                             Some Christmas Stories    Dickens, Charles   \n",
       "\n",
       "        Lambda  \n",
       "464  31.093656  \n",
       "431  31.470893  \n",
       "508  31.694713  \n",
       "12   32.494590  \n",
       "1    32.933620  \n",
       "446  33.109292  \n",
       "451  33.110366  \n",
       "2    33.311928  \n",
       "450  33.934482  \n",
       "272  34.068379  "
      ]
     },
     "execution_count": 47,
     "metadata": {},
     "output_type": "execute_result"
    }
   ],
   "source": [
    "pd.concat([pd.DataFrame({'title':titles}),\n",
    "           pd.DataFrame({'author':authors}),\n",
    "           pd.DataFrame({'Lambda':cos_dist})],\n",
    "           axis=1).sort_values(by='Lambda', ascending=True).head(10)"
   ]
  },
  {
   "attachments": {},
   "cell_type": "markdown",
   "metadata": {},
   "source": [
    "For Deathway, cosine distance:"
   ]
  },
  {
   "cell_type": "code",
   "execution_count": 48,
   "metadata": {},
   "outputs": [],
   "source": [
    "m = library_newtext.shape[0]\n",
    "j = m-1\n",
    "\n",
    "cos_dist = []\n",
    "titles = []\n",
    "authors = []\n",
    "\n",
    "for i in range(j):\n",
    "    titles.append(library_newtext['title'].iloc[i])\n",
    "    authors.append(library_newtext['author'].iloc[i])\n",
    "    cos_dist.append(dists[m * i + j - ((i + 2) * (i + 1)) // 2])"
   ]
  },
  {
   "cell_type": "code",
   "execution_count": 49,
   "metadata": {},
   "outputs": [
    {
     "data": {
      "text/html": [
       "<div>\n",
       "<style scoped>\n",
       "    .dataframe tbody tr th:only-of-type {\n",
       "        vertical-align: middle;\n",
       "    }\n",
       "\n",
       "    .dataframe tbody tr th {\n",
       "        vertical-align: top;\n",
       "    }\n",
       "\n",
       "    .dataframe thead th {\n",
       "        text-align: right;\n",
       "    }\n",
       "</style>\n",
       "<table border=\"1\" class=\"dataframe\">\n",
       "  <thead>\n",
       "    <tr style=\"text-align: right;\">\n",
       "      <th></th>\n",
       "      <th>title</th>\n",
       "      <th>author</th>\n",
       "      <th>Deathway</th>\n",
       "    </tr>\n",
       "  </thead>\n",
       "  <tbody>\n",
       "    <tr>\n",
       "      <th>282</th>\n",
       "      <td>The Haunted Man and the Ghost's Bargain</td>\n",
       "      <td>Dickens, Charles</td>\n",
       "      <td>15.289262</td>\n",
       "    </tr>\n",
       "    <tr>\n",
       "      <th>274</th>\n",
       "      <td>The Chimes: A Goblin Story of Some Bells That ...</td>\n",
       "      <td>Dickens, Charles</td>\n",
       "      <td>15.455539</td>\n",
       "    </tr>\n",
       "    <tr>\n",
       "      <th>267</th>\n",
       "      <td>Hunted Down: The Detective Stories of Charles ...</td>\n",
       "      <td>Dickens, Charles</td>\n",
       "      <td>15.468699</td>\n",
       "    </tr>\n",
       "    <tr>\n",
       "      <th>288</th>\n",
       "      <td>The Perils of Certain English Prisoners</td>\n",
       "      <td>Dickens, Charles</td>\n",
       "      <td>15.512753</td>\n",
       "    </tr>\n",
       "    <tr>\n",
       "      <th>275</th>\n",
       "      <td>The Cricket on the Hearth: A Fairy Tale of Home</td>\n",
       "      <td>Dickens, Charles</td>\n",
       "      <td>15.658214</td>\n",
       "    </tr>\n",
       "    <tr>\n",
       "      <th>291</th>\n",
       "      <td>The Battle of Life</td>\n",
       "      <td>Dickens, Charles</td>\n",
       "      <td>15.736545</td>\n",
       "    </tr>\n",
       "    <tr>\n",
       "      <th>290</th>\n",
       "      <td>A Message from the Sea</td>\n",
       "      <td>Dickens, Charles</td>\n",
       "      <td>15.996803</td>\n",
       "    </tr>\n",
       "    <tr>\n",
       "      <th>368</th>\n",
       "      <td>The Corsican Brothers</td>\n",
       "      <td>Dumas, Alexandre</td>\n",
       "      <td>16.154628</td>\n",
       "    </tr>\n",
       "    <tr>\n",
       "      <th>273</th>\n",
       "      <td>To Be Read at Dusk</td>\n",
       "      <td>Dickens, Charles</td>\n",
       "      <td>16.298370</td>\n",
       "    </tr>\n",
       "    <tr>\n",
       "      <th>278</th>\n",
       "      <td>Holiday Romance</td>\n",
       "      <td>Dickens, Charles</td>\n",
       "      <td>16.376004</td>\n",
       "    </tr>\n",
       "    <tr>\n",
       "      <th>286</th>\n",
       "      <td>George Silverman's Explanation</td>\n",
       "      <td>Dickens, Charles</td>\n",
       "      <td>16.611974</td>\n",
       "    </tr>\n",
       "    <tr>\n",
       "      <th>374</th>\n",
       "      <td>Martin Guerre: Celebrated Crimes</td>\n",
       "      <td>Dumas, Alexandre</td>\n",
       "      <td>16.662185</td>\n",
       "    </tr>\n",
       "    <tr>\n",
       "      <th>289</th>\n",
       "      <td>The Battle of Life: A Love Story</td>\n",
       "      <td>Dickens, Charles</td>\n",
       "      <td>16.672322</td>\n",
       "    </tr>\n",
       "    <tr>\n",
       "      <th>167</th>\n",
       "      <td>Don Garcia of Navarre; Or, the Jealous Prince....</td>\n",
       "      <td>Molière</td>\n",
       "      <td>16.776107</td>\n",
       "    </tr>\n",
       "    <tr>\n",
       "      <th>160</th>\n",
       "      <td>The Blunderer</td>\n",
       "      <td>Molière</td>\n",
       "      <td>16.789852</td>\n",
       "    </tr>\n",
       "    <tr>\n",
       "      <th>393</th>\n",
       "      <td>La Constantin: Celebrated Crimes</td>\n",
       "      <td>Dumas, Alexandre</td>\n",
       "      <td>16.828682</td>\n",
       "    </tr>\n",
       "    <tr>\n",
       "      <th>158</th>\n",
       "      <td>The School for Husbands</td>\n",
       "      <td>Molière</td>\n",
       "      <td>16.950831</td>\n",
       "    </tr>\n",
       "    <tr>\n",
       "      <th>403</th>\n",
       "      <td>A Dog's Tale</td>\n",
       "      <td>Twain, Mark</td>\n",
       "      <td>17.039897</td>\n",
       "    </tr>\n",
       "    <tr>\n",
       "      <th>152</th>\n",
       "      <td>Tartuffe; Or, The Hypocrite</td>\n",
       "      <td>Molière</td>\n",
       "      <td>17.066549</td>\n",
       "    </tr>\n",
       "    <tr>\n",
       "      <th>378</th>\n",
       "      <td>Marquise De Ganges: Celebrated Crimes</td>\n",
       "      <td>Dumas, Alexandre</td>\n",
       "      <td>17.144271</td>\n",
       "    </tr>\n",
       "  </tbody>\n",
       "</table>\n",
       "</div>"
      ],
      "text/plain": [
       "                                                 title            author  \\\n",
       "282            The Haunted Man and the Ghost's Bargain  Dickens, Charles   \n",
       "274  The Chimes: A Goblin Story of Some Bells That ...  Dickens, Charles   \n",
       "267  Hunted Down: The Detective Stories of Charles ...  Dickens, Charles   \n",
       "288            The Perils of Certain English Prisoners  Dickens, Charles   \n",
       "275    The Cricket on the Hearth: A Fairy Tale of Home  Dickens, Charles   \n",
       "291                                 The Battle of Life  Dickens, Charles   \n",
       "290                             A Message from the Sea  Dickens, Charles   \n",
       "368                              The Corsican Brothers  Dumas, Alexandre   \n",
       "273                                 To Be Read at Dusk  Dickens, Charles   \n",
       "278                                    Holiday Romance  Dickens, Charles   \n",
       "286                     George Silverman's Explanation  Dickens, Charles   \n",
       "374                   Martin Guerre: Celebrated Crimes  Dumas, Alexandre   \n",
       "289                   The Battle of Life: A Love Story  Dickens, Charles   \n",
       "167  Don Garcia of Navarre; Or, the Jealous Prince....           Molière   \n",
       "160                                      The Blunderer           Molière   \n",
       "393                   La Constantin: Celebrated Crimes  Dumas, Alexandre   \n",
       "158                            The School for Husbands           Molière   \n",
       "403                                       A Dog's Tale       Twain, Mark   \n",
       "152                        Tartuffe; Or, The Hypocrite           Molière   \n",
       "378              Marquise De Ganges: Celebrated Crimes  Dumas, Alexandre   \n",
       "\n",
       "      Deathway  \n",
       "282  15.289262  \n",
       "274  15.455539  \n",
       "267  15.468699  \n",
       "288  15.512753  \n",
       "275  15.658214  \n",
       "291  15.736545  \n",
       "290  15.996803  \n",
       "368  16.154628  \n",
       "273  16.298370  \n",
       "278  16.376004  \n",
       "286  16.611974  \n",
       "374  16.662185  \n",
       "289  16.672322  \n",
       "167  16.776107  \n",
       "160  16.789852  \n",
       "393  16.828682  \n",
       "158  16.950831  \n",
       "403  17.039897  \n",
       "152  17.066549  \n",
       "378  17.144271  "
      ]
     },
     "execution_count": 49,
     "metadata": {},
     "output_type": "execute_result"
    }
   ],
   "source": [
    "# Lambda is of course the most similar ... if wanted, simply do a .drop(538) on all 3 dataframes\n",
    "pd.concat([pd.DataFrame({'title':titles}),\n",
    "           pd.DataFrame({'author':authors}),\n",
    "           pd.DataFrame({'Deathway':cos_dist})],\n",
    "           axis=1).sort_values(by='Deathway', ascending=True).head(20)"
   ]
  },
  {
   "cell_type": "code",
   "execution_count": null,
   "metadata": {},
   "outputs": [],
   "source": []
  },
  {
   "cell_type": "code",
   "execution_count": null,
   "metadata": {},
   "outputs": [],
   "source": []
  }
 ],
 "metadata": {
  "kernelspec": {
   "display_name": "base",
   "language": "python",
   "name": "python3"
  },
  "language_info": {
   "codemirror_mode": {
    "name": "ipython",
    "version": 3
   },
   "file_extension": ".py",
   "mimetype": "text/x-python",
   "name": "python",
   "nbconvert_exporter": "python",
   "pygments_lexer": "ipython3",
   "version": "3.11.4"
  },
  "orig_nbformat": 4
 },
 "nbformat": 4,
 "nbformat_minor": 2
}
