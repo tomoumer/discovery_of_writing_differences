{
 "cells": [
  {
   "attachments": {},
   "cell_type": "markdown",
   "metadata": {},
   "source": [
    "# Discovery of Writing Differences - Neural Networks Representation\n",
    "\n",
    "Capstone project by Tomo Umer"
   ]
  },
  {
   "attachments": {},
   "cell_type": "markdown",
   "metadata": {},
   "source": [
    "<img src=\"https://tomoumerdotcom.files.wordpress.com/2022/04/cropped-pho_logo_notext.png\" alt=\"PRAISE DOG\" style=\"width:400px;height:400px;\"/>"
   ]
  },
  {
   "attachments": {},
   "cell_type": "markdown",
   "metadata": {},
   "source": [
    "## Imports"
   ]
  },
  {
   "cell_type": "code",
   "execution_count": 1,
   "metadata": {},
   "outputs": [
    {
     "name": "stderr",
     "output_type": "stream",
     "text": [
      "/Users/tomoumer/opt/anaconda3/lib/python3.9/site-packages/umap/distances.py:1063: NumbaDeprecationWarning: \u001b[1mThe 'nopython' keyword argument was not supplied to the 'numba.jit' decorator. The implicit default value for this argument is currently False, but it will be changed to True in Numba 0.59.0. See https://numba.readthedocs.io/en/stable/reference/deprecation.html#deprecation-of-object-mode-fall-back-behaviour-when-using-jit for details.\u001b[0m\n",
      "  @numba.jit()\n",
      "/Users/tomoumer/opt/anaconda3/lib/python3.9/site-packages/umap/distances.py:1071: NumbaDeprecationWarning: \u001b[1mThe 'nopython' keyword argument was not supplied to the 'numba.jit' decorator. The implicit default value for this argument is currently False, but it will be changed to True in Numba 0.59.0. See https://numba.readthedocs.io/en/stable/reference/deprecation.html#deprecation-of-object-mode-fall-back-behaviour-when-using-jit for details.\u001b[0m\n",
      "  @numba.jit()\n",
      "/Users/tomoumer/opt/anaconda3/lib/python3.9/site-packages/umap/distances.py:1086: NumbaDeprecationWarning: \u001b[1mThe 'nopython' keyword argument was not supplied to the 'numba.jit' decorator. The implicit default value for this argument is currently False, but it will be changed to True in Numba 0.59.0. See https://numba.readthedocs.io/en/stable/reference/deprecation.html#deprecation-of-object-mode-fall-back-behaviour-when-using-jit for details.\u001b[0m\n",
      "  @numba.jit()\n",
      "/Users/tomoumer/opt/anaconda3/lib/python3.9/site-packages/umap/umap_.py:660: NumbaDeprecationWarning: \u001b[1mThe 'nopython' keyword argument was not supplied to the 'numba.jit' decorator. The implicit default value for this argument is currently False, but it will be changed to True in Numba 0.59.0. See https://numba.readthedocs.io/en/stable/reference/deprecation.html#deprecation-of-object-mode-fall-back-behaviour-when-using-jit for details.\u001b[0m\n",
      "  @numba.jit()\n"
     ]
    }
   ],
   "source": [
    "import pandas as pd\n",
    "import numpy as np\n",
    "import re\n",
    "import glob\n",
    "import plotly.express as px\n",
    "import pickle\n",
    "\n",
    "from sklearn.model_selection import train_test_split\n",
    "from sklearn.metrics import accuracy_score, confusion_matrix, classification_report\n",
    "from sklearn.feature_extraction.text import TfidfVectorizer\n",
    "from sklearn.linear_model import LogisticRegression\n",
    "from sklearn.pipeline import Pipeline\n",
    "\n",
    "import matplotlib.pyplot as plt\n",
    "import seaborn as sns\n",
    "from sklearn.neural_network import MLPClassifier, MLPRegressor\n",
    "from sklearn.preprocessing import MaxAbsScaler\n",
    "from copy import deepcopy\n",
    "\n",
    "import umap\n",
    "from scipy import spatial\n",
    "from scipy.cluster.hierarchy import linkage, dendrogram\n",
    "\n",
    "from joblib import dump, load"
   ]
  },
  {
   "attachments": {},
   "cell_type": "markdown",
   "metadata": {},
   "source": [
    "## Reading In the Library and Prep for NN\n",
    "\n",
    "In this part, reading the .pkl file. "
   ]
  },
  {
   "cell_type": "code",
   "execution_count": 2,
   "metadata": {},
   "outputs": [],
   "source": [
    "library_select = pd.read_pickle('../data/library_select03.pkl')"
   ]
  },
  {
   "cell_type": "code",
   "execution_count": 3,
   "metadata": {},
   "outputs": [
    {
     "data": {
      "text/plain": [
       "(527, 12)"
      ]
     },
     "execution_count": 3,
     "metadata": {},
     "output_type": "execute_result"
    }
   ],
   "source": [
    "library_select.shape"
   ]
  },
  {
   "attachments": {},
   "cell_type": "markdown",
   "metadata": {},
   "source": [
    "Next, extract authors, create dictionary to convert authors name to numeric values (for predictions) and add a column with that."
   ]
  },
  {
   "cell_type": "code",
   "execution_count": 4,
   "metadata": {},
   "outputs": [],
   "source": [
    "select_authors = list(library_select.sort_values(by='authorcentury')['author'].unique())\n",
    "\n",
    "authors_to_num = {select_authors[i]: i for i in range(len(select_authors))}\n",
    "#num_to_authors = {v: k for k, v in authors_to_num.items()}\n",
    "\n",
    "library_select['author_num'] = library_select['author'].map(authors_to_num)"
   ]
  },
  {
   "attachments": {},
   "cell_type": "markdown",
   "metadata": {},
   "source": [
    "## Sklearn NN\n",
    "\n",
    "First round of neural network analysis, using sklearn."
   ]
  },
  {
   "cell_type": "code",
   "execution_count": 5,
   "metadata": {},
   "outputs": [],
   "source": [
    "X = library_select[['book_content']]\n",
    "y = library_select['author_num']\n",
    "\n",
    "X_train, X_test, y_train, y_test = train_test_split(X, y, random_state = 42, stratify = y)"
   ]
  },
  {
   "cell_type": "code",
   "execution_count": 6,
   "metadata": {},
   "outputs": [
    {
     "data": {
      "text/plain": [
       "(527, 13)"
      ]
     },
     "execution_count": 6,
     "metadata": {},
     "output_type": "execute_result"
    }
   ],
   "source": [
    "library_select.shape"
   ]
  },
  {
   "cell_type": "code",
   "execution_count": 7,
   "metadata": {},
   "outputs": [],
   "source": [
    "pipe_nn = Pipeline(\n",
    "    steps = [\n",
    "        ('vect', TfidfVectorizer(min_df=2, max_df=0.8, ngram_range=(1,2))),\n",
    "        ('scaler', MaxAbsScaler()),  #this is needed in order to make it converge in a reasonable time!\n",
    "        ('nn', MLPClassifier(verbose = True,\n",
    "                             hidden_layer_sizes = (100, 100),\n",
    "                             #activation = 'relu',\n",
    "                             #max_iter = 10000,\n",
    "                             #alpha=0.05\n",
    "                             ))\n",
    "    ]\n",
    ")"
   ]
  },
  {
   "cell_type": "code",
   "execution_count": 8,
   "metadata": {},
   "outputs": [
    {
     "name": "stdout",
     "output_type": "stream",
     "text": [
      "Iteration 1, loss = 2.06927224\n",
      "Iteration 2, loss = 0.16706139\n",
      "Iteration 3, loss = 0.00762261\n",
      "Iteration 4, loss = 0.00182533\n",
      "Iteration 5, loss = 0.00135078\n",
      "Iteration 6, loss = 0.00134235\n",
      "Iteration 7, loss = 0.00139738\n",
      "Iteration 8, loss = 0.00147424\n",
      "Iteration 9, loss = 0.00153918\n",
      "Iteration 10, loss = 0.00159662\n",
      "Iteration 11, loss = 0.00164121\n",
      "Iteration 12, loss = 0.00167442\n",
      "Iteration 13, loss = 0.00169942\n",
      "Iteration 14, loss = 0.00171861\n",
      "Iteration 15, loss = 0.00173276\n",
      "Iteration 16, loss = 0.00174297\n",
      "Training loss did not improve more than tol=0.000100 for 10 consecutive epochs. Stopping.\n",
      "accuracy score: 1.0 \n",
      "\n",
      "----- confusion matrix ------\n",
      "[[14  0  0  0  0  0  0  0  0  0  0  0  0  0  0  0  0  0  0  0  0]\n",
      " [ 0  5  0  0  0  0  0  0  0  0  0  0  0  0  0  0  0  0  0  0  0]\n",
      " [ 0  0 32  0  0  0  0  0  0  0  0  0  0  0  0  0  0  0  0  0  0]\n",
      " [ 0  0  0 14  0  0  0  0  0  0  0  0  0  0  0  0  0  0  0  0  0]\n",
      " [ 0  0  0  0  5  0  0  0  0  0  0  0  0  0  0  0  0  0  0  0  0]\n",
      " [ 0  0  0  0  0 19  0  0  0  0  0  0  0  0  0  0  0  0  0  0  0]\n",
      " [ 0  0  0  0  0  0  6  0  0  0  0  0  0  0  0  0  0  0  0  0  0]\n",
      " [ 0  0  0  0  0  0  0  5  0  0  0  0  0  0  0  0  0  0  0  0  0]\n",
      " [ 0  0  0  0  0  0  0  0 50  0  0  0  0  0  0  0  0  0  0  0  0]\n",
      " [ 0  0  0  0  0  0  0  0  0 18  0  0  0  0  0  0  0  0  0  0  0]\n",
      " [ 0  0  0  0  0  0  0  0  0  0 45  0  0  0  0  0  0  0  0  0  0]\n",
      " [ 0  0  0  0  0  0  0  0  0  0  0 18  0  0  0  0  0  0  0  0  0]\n",
      " [ 0  0  0  0  0  0  0  0  0  0  0  0 13  0  0  0  0  0  0  0  0]\n",
      " [ 0  0  0  0  0  0  0  0  0  0  0  0  0 50  0  0  0  0  0  0  0]\n",
      " [ 0  0  0  0  0  0  0  0  0  0  0  0  0  0 50  0  0  0  0  0  0]\n",
      " [ 0  0  0  0  0  0  0  0  0  0  0  0  0  0  0 50  0  0  0  0  0]\n",
      " [ 0  0  0  0  0  0  0  0  0  0  0  0  0  0  0  0 50  0  0  0  0]\n",
      " [ 0  0  0  0  0  0  0  0  0  0  0  0  0  0  0  0  0 14  0  0  0]\n",
      " [ 0  0  0  0  0  0  0  0  0  0  0  0  0  0  0  0  0  0 11  0  0]\n",
      " [ 0  0  0  0  0  0  0  0  0  0  0  0  0  0  0  0  0  0  0  8  0]\n",
      " [ 0  0  0  0  0  0  0  0  0  0  0  0  0  0  0  0  0  0  0  0 50]] \n",
      "\n",
      "-------- classification report ---------\n",
      "              precision    recall  f1-score   support\n",
      "\n",
      "           0       1.00      1.00      1.00        14\n",
      "           1       1.00      1.00      1.00         5\n",
      "           2       1.00      1.00      1.00        32\n",
      "           3       1.00      1.00      1.00        14\n",
      "           4       1.00      1.00      1.00         5\n",
      "           5       1.00      1.00      1.00        19\n",
      "           6       1.00      1.00      1.00         6\n",
      "           7       1.00      1.00      1.00         5\n",
      "           8       1.00      1.00      1.00        50\n",
      "           9       1.00      1.00      1.00        18\n",
      "          10       1.00      1.00      1.00        45\n",
      "          11       1.00      1.00      1.00        18\n",
      "          12       1.00      1.00      1.00        13\n",
      "          13       1.00      1.00      1.00        50\n",
      "          14       1.00      1.00      1.00        50\n",
      "          15       1.00      1.00      1.00        50\n",
      "          16       1.00      1.00      1.00        50\n",
      "          17       1.00      1.00      1.00        14\n",
      "          18       1.00      1.00      1.00        11\n",
      "          19       1.00      1.00      1.00         8\n",
      "          20       1.00      1.00      1.00        50\n",
      "\n",
      "    accuracy                           1.00       527\n",
      "   macro avg       1.00      1.00      1.00       527\n",
      "weighted avg       1.00      1.00      1.00       527\n",
      "\n"
     ]
    }
   ],
   "source": [
    "# pipe_nn.fit(X_train['book_content'], y_train)\n",
    "# y_pred = pipe_nn.predict(X_test['book_content'])\n",
    "\n",
    "# print('accuracy score:', accuracy_score(y_test, y_pred), '\\n')\n",
    "# print('----- confusion matrix ------')\n",
    "# print(confusion_matrix(y_test, y_pred), '\\n')\n",
    "# print('-------- classification report ---------')\n",
    "# print(classification_report(y_test, y_pred))\n",
    "\n",
    "# this below ran for almost 2 hours and didn't finish yet...\n",
    "pipe_nn.fit(X['book_content'], y)\n",
    "y_pred = pipe_nn.predict(X['book_content'])\n",
    "\n",
    "print('accuracy score:', accuracy_score(y, y_pred), '\\n')\n",
    "print('----- confusion matrix ------')\n",
    "print(confusion_matrix(y, y_pred), '\\n')\n",
    "print('-------- classification report ---------')\n",
    "print(classification_report(y, y_pred))"
   ]
  },
  {
   "cell_type": "code",
   "execution_count": 9,
   "metadata": {},
   "outputs": [
    {
     "data": {
      "application/vnd.plotly.v1+json": {
       "config": {
        "plotlyServerURL": "https://plot.ly"
       },
       "data": [
        {
         "coloraxis": "coloraxis",
         "hovertemplate": "Predicted Label: %{x}<br>True Label: %{y}<br>color: %{z}<extra></extra>",
         "name": "0",
         "texttemplate": "%{z}",
         "type": "heatmap",
         "x": [
          "Homer",
          "Confucius",
          "Plato",
          "Cicero, Marcus Tullius",
          "Seneca, Lucius Annaeus",
          "Dante Alighieri",
          "Boccaccio, Giovanni",
          "Machiavelli, Niccolò",
          "Shakespeare, William",
          "Molière",
          "Defoe, Daniel",
          "Jefferson, Thomas",
          "Austen, Jane",
          "Twain, Mark",
          "Dickens, Charles",
          "Dumas, Alexandre",
          "Doyle, Arthur Conan",
          "Dick, Philip K.",
          "Huxley, Aldous",
          "Lovecraft, H. P. (Howard Phillips)",
          "Churchill, Winston"
         ],
         "xaxis": "x",
         "y": [
          "Homer",
          "Confucius",
          "Plato",
          "Cicero, Marcus Tullius",
          "Seneca, Lucius Annaeus",
          "Dante Alighieri",
          "Boccaccio, Giovanni",
          "Machiavelli, Niccolò",
          "Shakespeare, William",
          "Molière",
          "Defoe, Daniel",
          "Jefferson, Thomas",
          "Austen, Jane",
          "Twain, Mark",
          "Dickens, Charles",
          "Dumas, Alexandre",
          "Doyle, Arthur Conan",
          "Dick, Philip K.",
          "Huxley, Aldous",
          "Lovecraft, H. P. (Howard Phillips)",
          "Churchill, Winston"
         ],
         "yaxis": "y",
         "z": [
          [
           14,
           0,
           0,
           0,
           0,
           0,
           0,
           0,
           0,
           0,
           0,
           0,
           0,
           0,
           0,
           0,
           0,
           0,
           0,
           0,
           0
          ],
          [
           0,
           5,
           0,
           0,
           0,
           0,
           0,
           0,
           0,
           0,
           0,
           0,
           0,
           0,
           0,
           0,
           0,
           0,
           0,
           0,
           0
          ],
          [
           0,
           0,
           32,
           0,
           0,
           0,
           0,
           0,
           0,
           0,
           0,
           0,
           0,
           0,
           0,
           0,
           0,
           0,
           0,
           0,
           0
          ],
          [
           0,
           0,
           0,
           14,
           0,
           0,
           0,
           0,
           0,
           0,
           0,
           0,
           0,
           0,
           0,
           0,
           0,
           0,
           0,
           0,
           0
          ],
          [
           0,
           0,
           0,
           0,
           5,
           0,
           0,
           0,
           0,
           0,
           0,
           0,
           0,
           0,
           0,
           0,
           0,
           0,
           0,
           0,
           0
          ],
          [
           0,
           0,
           0,
           0,
           0,
           19,
           0,
           0,
           0,
           0,
           0,
           0,
           0,
           0,
           0,
           0,
           0,
           0,
           0,
           0,
           0
          ],
          [
           0,
           0,
           0,
           0,
           0,
           0,
           6,
           0,
           0,
           0,
           0,
           0,
           0,
           0,
           0,
           0,
           0,
           0,
           0,
           0,
           0
          ],
          [
           0,
           0,
           0,
           0,
           0,
           0,
           0,
           5,
           0,
           0,
           0,
           0,
           0,
           0,
           0,
           0,
           0,
           0,
           0,
           0,
           0
          ],
          [
           0,
           0,
           0,
           0,
           0,
           0,
           0,
           0,
           50,
           0,
           0,
           0,
           0,
           0,
           0,
           0,
           0,
           0,
           0,
           0,
           0
          ],
          [
           0,
           0,
           0,
           0,
           0,
           0,
           0,
           0,
           0,
           18,
           0,
           0,
           0,
           0,
           0,
           0,
           0,
           0,
           0,
           0,
           0
          ],
          [
           0,
           0,
           0,
           0,
           0,
           0,
           0,
           0,
           0,
           0,
           45,
           0,
           0,
           0,
           0,
           0,
           0,
           0,
           0,
           0,
           0
          ],
          [
           0,
           0,
           0,
           0,
           0,
           0,
           0,
           0,
           0,
           0,
           0,
           18,
           0,
           0,
           0,
           0,
           0,
           0,
           0,
           0,
           0
          ],
          [
           0,
           0,
           0,
           0,
           0,
           0,
           0,
           0,
           0,
           0,
           0,
           0,
           13,
           0,
           0,
           0,
           0,
           0,
           0,
           0,
           0
          ],
          [
           0,
           0,
           0,
           0,
           0,
           0,
           0,
           0,
           0,
           0,
           0,
           0,
           0,
           50,
           0,
           0,
           0,
           0,
           0,
           0,
           0
          ],
          [
           0,
           0,
           0,
           0,
           0,
           0,
           0,
           0,
           0,
           0,
           0,
           0,
           0,
           0,
           50,
           0,
           0,
           0,
           0,
           0,
           0
          ],
          [
           0,
           0,
           0,
           0,
           0,
           0,
           0,
           0,
           0,
           0,
           0,
           0,
           0,
           0,
           0,
           50,
           0,
           0,
           0,
           0,
           0
          ],
          [
           0,
           0,
           0,
           0,
           0,
           0,
           0,
           0,
           0,
           0,
           0,
           0,
           0,
           0,
           0,
           0,
           50,
           0,
           0,
           0,
           0
          ],
          [
           0,
           0,
           0,
           0,
           0,
           0,
           0,
           0,
           0,
           0,
           0,
           0,
           0,
           0,
           0,
           0,
           0,
           14,
           0,
           0,
           0
          ],
          [
           0,
           0,
           0,
           0,
           0,
           0,
           0,
           0,
           0,
           0,
           0,
           0,
           0,
           0,
           0,
           0,
           0,
           0,
           11,
           0,
           0
          ],
          [
           0,
           0,
           0,
           0,
           0,
           0,
           0,
           0,
           0,
           0,
           0,
           0,
           0,
           0,
           0,
           0,
           0,
           0,
           0,
           8,
           0
          ],
          [
           0,
           0,
           0,
           0,
           0,
           0,
           0,
           0,
           0,
           0,
           0,
           0,
           0,
           0,
           0,
           0,
           0,
           0,
           0,
           0,
           50
          ]
         ]
        }
       ],
       "layout": {
        "coloraxis": {
         "colorscale": [
          [
           0,
           "rgb(209, 238, 234)"
          ],
          [
           0.16666666666666666,
           "rgb(168, 219, 217)"
          ],
          [
           0.3333333333333333,
           "rgb(133, 196, 201)"
          ],
          [
           0.5,
           "rgb(104, 171, 184)"
          ],
          [
           0.6666666666666666,
           "rgb(79, 144, 166)"
          ],
          [
           0.8333333333333334,
           "rgb(59, 115, 143)"
          ],
          [
           1,
           "rgb(42, 86, 116)"
          ]
         ],
         "showscale": false
        },
        "height": 800,
        "margin": {
         "t": 60
        },
        "template": {
         "data": {
          "bar": [
           {
            "error_x": {
             "color": "#2a3f5f"
            },
            "error_y": {
             "color": "#2a3f5f"
            },
            "marker": {
             "line": {
              "color": "#E5ECF6",
              "width": 0.5
             },
             "pattern": {
              "fillmode": "overlay",
              "size": 10,
              "solidity": 0.2
             }
            },
            "type": "bar"
           }
          ],
          "barpolar": [
           {
            "marker": {
             "line": {
              "color": "#E5ECF6",
              "width": 0.5
             },
             "pattern": {
              "fillmode": "overlay",
              "size": 10,
              "solidity": 0.2
             }
            },
            "type": "barpolar"
           }
          ],
          "carpet": [
           {
            "aaxis": {
             "endlinecolor": "#2a3f5f",
             "gridcolor": "white",
             "linecolor": "white",
             "minorgridcolor": "white",
             "startlinecolor": "#2a3f5f"
            },
            "baxis": {
             "endlinecolor": "#2a3f5f",
             "gridcolor": "white",
             "linecolor": "white",
             "minorgridcolor": "white",
             "startlinecolor": "#2a3f5f"
            },
            "type": "carpet"
           }
          ],
          "choropleth": [
           {
            "colorbar": {
             "outlinewidth": 0,
             "ticks": ""
            },
            "type": "choropleth"
           }
          ],
          "contour": [
           {
            "colorbar": {
             "outlinewidth": 0,
             "ticks": ""
            },
            "colorscale": [
             [
              0,
              "#0d0887"
             ],
             [
              0.1111111111111111,
              "#46039f"
             ],
             [
              0.2222222222222222,
              "#7201a8"
             ],
             [
              0.3333333333333333,
              "#9c179e"
             ],
             [
              0.4444444444444444,
              "#bd3786"
             ],
             [
              0.5555555555555556,
              "#d8576b"
             ],
             [
              0.6666666666666666,
              "#ed7953"
             ],
             [
              0.7777777777777778,
              "#fb9f3a"
             ],
             [
              0.8888888888888888,
              "#fdca26"
             ],
             [
              1,
              "#f0f921"
             ]
            ],
            "type": "contour"
           }
          ],
          "contourcarpet": [
           {
            "colorbar": {
             "outlinewidth": 0,
             "ticks": ""
            },
            "type": "contourcarpet"
           }
          ],
          "heatmap": [
           {
            "colorbar": {
             "outlinewidth": 0,
             "ticks": ""
            },
            "colorscale": [
             [
              0,
              "#0d0887"
             ],
             [
              0.1111111111111111,
              "#46039f"
             ],
             [
              0.2222222222222222,
              "#7201a8"
             ],
             [
              0.3333333333333333,
              "#9c179e"
             ],
             [
              0.4444444444444444,
              "#bd3786"
             ],
             [
              0.5555555555555556,
              "#d8576b"
             ],
             [
              0.6666666666666666,
              "#ed7953"
             ],
             [
              0.7777777777777778,
              "#fb9f3a"
             ],
             [
              0.8888888888888888,
              "#fdca26"
             ],
             [
              1,
              "#f0f921"
             ]
            ],
            "type": "heatmap"
           }
          ],
          "heatmapgl": [
           {
            "colorbar": {
             "outlinewidth": 0,
             "ticks": ""
            },
            "colorscale": [
             [
              0,
              "#0d0887"
             ],
             [
              0.1111111111111111,
              "#46039f"
             ],
             [
              0.2222222222222222,
              "#7201a8"
             ],
             [
              0.3333333333333333,
              "#9c179e"
             ],
             [
              0.4444444444444444,
              "#bd3786"
             ],
             [
              0.5555555555555556,
              "#d8576b"
             ],
             [
              0.6666666666666666,
              "#ed7953"
             ],
             [
              0.7777777777777778,
              "#fb9f3a"
             ],
             [
              0.8888888888888888,
              "#fdca26"
             ],
             [
              1,
              "#f0f921"
             ]
            ],
            "type": "heatmapgl"
           }
          ],
          "histogram": [
           {
            "marker": {
             "pattern": {
              "fillmode": "overlay",
              "size": 10,
              "solidity": 0.2
             }
            },
            "type": "histogram"
           }
          ],
          "histogram2d": [
           {
            "colorbar": {
             "outlinewidth": 0,
             "ticks": ""
            },
            "colorscale": [
             [
              0,
              "#0d0887"
             ],
             [
              0.1111111111111111,
              "#46039f"
             ],
             [
              0.2222222222222222,
              "#7201a8"
             ],
             [
              0.3333333333333333,
              "#9c179e"
             ],
             [
              0.4444444444444444,
              "#bd3786"
             ],
             [
              0.5555555555555556,
              "#d8576b"
             ],
             [
              0.6666666666666666,
              "#ed7953"
             ],
             [
              0.7777777777777778,
              "#fb9f3a"
             ],
             [
              0.8888888888888888,
              "#fdca26"
             ],
             [
              1,
              "#f0f921"
             ]
            ],
            "type": "histogram2d"
           }
          ],
          "histogram2dcontour": [
           {
            "colorbar": {
             "outlinewidth": 0,
             "ticks": ""
            },
            "colorscale": [
             [
              0,
              "#0d0887"
             ],
             [
              0.1111111111111111,
              "#46039f"
             ],
             [
              0.2222222222222222,
              "#7201a8"
             ],
             [
              0.3333333333333333,
              "#9c179e"
             ],
             [
              0.4444444444444444,
              "#bd3786"
             ],
             [
              0.5555555555555556,
              "#d8576b"
             ],
             [
              0.6666666666666666,
              "#ed7953"
             ],
             [
              0.7777777777777778,
              "#fb9f3a"
             ],
             [
              0.8888888888888888,
              "#fdca26"
             ],
             [
              1,
              "#f0f921"
             ]
            ],
            "type": "histogram2dcontour"
           }
          ],
          "mesh3d": [
           {
            "colorbar": {
             "outlinewidth": 0,
             "ticks": ""
            },
            "type": "mesh3d"
           }
          ],
          "parcoords": [
           {
            "line": {
             "colorbar": {
              "outlinewidth": 0,
              "ticks": ""
             }
            },
            "type": "parcoords"
           }
          ],
          "pie": [
           {
            "automargin": true,
            "type": "pie"
           }
          ],
          "scatter": [
           {
            "fillpattern": {
             "fillmode": "overlay",
             "size": 10,
             "solidity": 0.2
            },
            "type": "scatter"
           }
          ],
          "scatter3d": [
           {
            "line": {
             "colorbar": {
              "outlinewidth": 0,
              "ticks": ""
             }
            },
            "marker": {
             "colorbar": {
              "outlinewidth": 0,
              "ticks": ""
             }
            },
            "type": "scatter3d"
           }
          ],
          "scattercarpet": [
           {
            "marker": {
             "colorbar": {
              "outlinewidth": 0,
              "ticks": ""
             }
            },
            "type": "scattercarpet"
           }
          ],
          "scattergeo": [
           {
            "marker": {
             "colorbar": {
              "outlinewidth": 0,
              "ticks": ""
             }
            },
            "type": "scattergeo"
           }
          ],
          "scattergl": [
           {
            "marker": {
             "colorbar": {
              "outlinewidth": 0,
              "ticks": ""
             }
            },
            "type": "scattergl"
           }
          ],
          "scattermapbox": [
           {
            "marker": {
             "colorbar": {
              "outlinewidth": 0,
              "ticks": ""
             }
            },
            "type": "scattermapbox"
           }
          ],
          "scatterpolar": [
           {
            "marker": {
             "colorbar": {
              "outlinewidth": 0,
              "ticks": ""
             }
            },
            "type": "scatterpolar"
           }
          ],
          "scatterpolargl": [
           {
            "marker": {
             "colorbar": {
              "outlinewidth": 0,
              "ticks": ""
             }
            },
            "type": "scatterpolargl"
           }
          ],
          "scatterternary": [
           {
            "marker": {
             "colorbar": {
              "outlinewidth": 0,
              "ticks": ""
             }
            },
            "type": "scatterternary"
           }
          ],
          "surface": [
           {
            "colorbar": {
             "outlinewidth": 0,
             "ticks": ""
            },
            "colorscale": [
             [
              0,
              "#0d0887"
             ],
             [
              0.1111111111111111,
              "#46039f"
             ],
             [
              0.2222222222222222,
              "#7201a8"
             ],
             [
              0.3333333333333333,
              "#9c179e"
             ],
             [
              0.4444444444444444,
              "#bd3786"
             ],
             [
              0.5555555555555556,
              "#d8576b"
             ],
             [
              0.6666666666666666,
              "#ed7953"
             ],
             [
              0.7777777777777778,
              "#fb9f3a"
             ],
             [
              0.8888888888888888,
              "#fdca26"
             ],
             [
              1,
              "#f0f921"
             ]
            ],
            "type": "surface"
           }
          ],
          "table": [
           {
            "cells": {
             "fill": {
              "color": "#EBF0F8"
             },
             "line": {
              "color": "white"
             }
            },
            "header": {
             "fill": {
              "color": "#C8D4E3"
             },
             "line": {
              "color": "white"
             }
            },
            "type": "table"
           }
          ]
         },
         "layout": {
          "annotationdefaults": {
           "arrowcolor": "#2a3f5f",
           "arrowhead": 0,
           "arrowwidth": 1
          },
          "autotypenumbers": "strict",
          "coloraxis": {
           "colorbar": {
            "outlinewidth": 0,
            "ticks": ""
           }
          },
          "colorscale": {
           "diverging": [
            [
             0,
             "#8e0152"
            ],
            [
             0.1,
             "#c51b7d"
            ],
            [
             0.2,
             "#de77ae"
            ],
            [
             0.3,
             "#f1b6da"
            ],
            [
             0.4,
             "#fde0ef"
            ],
            [
             0.5,
             "#f7f7f7"
            ],
            [
             0.6,
             "#e6f5d0"
            ],
            [
             0.7,
             "#b8e186"
            ],
            [
             0.8,
             "#7fbc41"
            ],
            [
             0.9,
             "#4d9221"
            ],
            [
             1,
             "#276419"
            ]
           ],
           "sequential": [
            [
             0,
             "#0d0887"
            ],
            [
             0.1111111111111111,
             "#46039f"
            ],
            [
             0.2222222222222222,
             "#7201a8"
            ],
            [
             0.3333333333333333,
             "#9c179e"
            ],
            [
             0.4444444444444444,
             "#bd3786"
            ],
            [
             0.5555555555555556,
             "#d8576b"
            ],
            [
             0.6666666666666666,
             "#ed7953"
            ],
            [
             0.7777777777777778,
             "#fb9f3a"
            ],
            [
             0.8888888888888888,
             "#fdca26"
            ],
            [
             1,
             "#f0f921"
            ]
           ],
           "sequentialminus": [
            [
             0,
             "#0d0887"
            ],
            [
             0.1111111111111111,
             "#46039f"
            ],
            [
             0.2222222222222222,
             "#7201a8"
            ],
            [
             0.3333333333333333,
             "#9c179e"
            ],
            [
             0.4444444444444444,
             "#bd3786"
            ],
            [
             0.5555555555555556,
             "#d8576b"
            ],
            [
             0.6666666666666666,
             "#ed7953"
            ],
            [
             0.7777777777777778,
             "#fb9f3a"
            ],
            [
             0.8888888888888888,
             "#fdca26"
            ],
            [
             1,
             "#f0f921"
            ]
           ]
          },
          "colorway": [
           "#636efa",
           "#EF553B",
           "#00cc96",
           "#ab63fa",
           "#FFA15A",
           "#19d3f3",
           "#FF6692",
           "#B6E880",
           "#FF97FF",
           "#FECB52"
          ],
          "font": {
           "color": "#2a3f5f"
          },
          "geo": {
           "bgcolor": "white",
           "lakecolor": "white",
           "landcolor": "#E5ECF6",
           "showlakes": true,
           "showland": true,
           "subunitcolor": "white"
          },
          "hoverlabel": {
           "align": "left"
          },
          "hovermode": "closest",
          "mapbox": {
           "style": "light"
          },
          "paper_bgcolor": "white",
          "plot_bgcolor": "#E5ECF6",
          "polar": {
           "angularaxis": {
            "gridcolor": "white",
            "linecolor": "white",
            "ticks": ""
           },
           "bgcolor": "#E5ECF6",
           "radialaxis": {
            "gridcolor": "white",
            "linecolor": "white",
            "ticks": ""
           }
          },
          "scene": {
           "xaxis": {
            "backgroundcolor": "#E5ECF6",
            "gridcolor": "white",
            "gridwidth": 2,
            "linecolor": "white",
            "showbackground": true,
            "ticks": "",
            "zerolinecolor": "white"
           },
           "yaxis": {
            "backgroundcolor": "#E5ECF6",
            "gridcolor": "white",
            "gridwidth": 2,
            "linecolor": "white",
            "showbackground": true,
            "ticks": "",
            "zerolinecolor": "white"
           },
           "zaxis": {
            "backgroundcolor": "#E5ECF6",
            "gridcolor": "white",
            "gridwidth": 2,
            "linecolor": "white",
            "showbackground": true,
            "ticks": "",
            "zerolinecolor": "white"
           }
          },
          "shapedefaults": {
           "line": {
            "color": "#2a3f5f"
           }
          },
          "ternary": {
           "aaxis": {
            "gridcolor": "white",
            "linecolor": "white",
            "ticks": ""
           },
           "baxis": {
            "gridcolor": "white",
            "linecolor": "white",
            "ticks": ""
           },
           "bgcolor": "#E5ECF6",
           "caxis": {
            "gridcolor": "white",
            "linecolor": "white",
            "ticks": ""
           }
          },
          "title": {
           "x": 0.05
          },
          "xaxis": {
           "automargin": true,
           "gridcolor": "white",
           "linecolor": "white",
           "ticks": "",
           "title": {
            "standoff": 15
           },
           "zerolinecolor": "white",
           "zerolinewidth": 2
          },
          "yaxis": {
           "automargin": true,
           "gridcolor": "white",
           "linecolor": "white",
           "ticks": "",
           "title": {
            "standoff": 15
           },
           "zerolinecolor": "white",
           "zerolinewidth": 2
          }
         }
        },
        "width": 1000,
        "xaxis": {
         "anchor": "y",
         "constrain": "domain",
         "domain": [
          0,
          1
         ],
         "scaleanchor": "y",
         "title": {
          "text": "Predicted Label"
         }
        },
        "yaxis": {
         "anchor": "x",
         "autorange": "reversed",
         "constrain": "domain",
         "domain": [
          0,
          1
         ],
         "title": {
          "text": "True Label"
         }
        }
       }
      }
     },
     "metadata": {},
     "output_type": "display_data"
    }
   ],
   "source": [
    "fig = px.imshow(confusion_matrix(y, pipe_nn.predict(X['book_content'])),\n",
    "                width=1000,\n",
    "                height=800,\n",
    "                text_auto=True,\n",
    "                labels=dict(x='Predicted Label',\n",
    "                            y='True Label'),\n",
    "                            x=select_authors,\n",
    "                            y=select_authors,\n",
    "                            color_continuous_scale='Teal'\n",
    "                            )\n",
    "\n",
    "fig.update(layout_coloraxis_showscale=False)\n",
    "\n",
    "fig.show()"
   ]
  },
  {
   "attachments": {},
   "cell_type": "markdown",
   "metadata": {},
   "source": [
    "## Encoding and lower-dimensional representation of the NN\n",
    "\n",
    "With a trained model, using embeddings to find similarities between books and authors."
   ]
  },
  {
   "cell_type": "code",
   "execution_count": 10,
   "metadata": {},
   "outputs": [],
   "source": [
    "# have to use the regressor because classifiers thinks we're expecting int results, even if we chop it off before final step!\n",
    "# :2 and layers = 3 if I use two hidden layers with nn; for one, reduce those by 1\n",
    "encoder = MLPRegressor()\n",
    "encoder.coefs_ = pipe_nn['nn'].coefs_[:2]\n",
    "encoder.intercepts_ = pipe_nn['nn'].intercepts_[:2]\n",
    "encoder.n_layers_ = 3\n",
    "encoder.out_activation_ = 'relu'"
   ]
  },
  {
   "cell_type": "code",
   "execution_count": 11,
   "metadata": {},
   "outputs": [],
   "source": [
    "# copy the pipeline\n",
    "pipe_nn_encoder = deepcopy(pipe_nn)\n",
    "\n",
    "# remove the classifier\n",
    "pipe_nn_encoder.steps.pop(2)\n",
    "\n",
    "# append the new encoder (essentially, it contains all layers minus the final one)\n",
    "pipe_nn_encoder.steps.append(['enc', encoder])"
   ]
  },
  {
   "cell_type": "code",
   "execution_count": 12,
   "metadata": {},
   "outputs": [],
   "source": [
    "# now using predict from the encoder to get the 100-dimensional projection of the top six authors\n",
    "nn_represent = pipe_nn_encoder.predict(library_select['book_content'])"
   ]
  },
  {
   "cell_type": "code",
   "execution_count": 13,
   "metadata": {},
   "outputs": [
    {
     "data": {
      "text/plain": [
       "['../models/pipe_nn_encoder_01.joblib']"
      ]
     },
     "execution_count": 13,
     "metadata": {},
     "output_type": "execute_result"
    }
   ],
   "source": [
    "# to save the encoder\n",
    "# had more models but removed after fixing index\n",
    "# dump(pipe_nn_encoder, '../models/pipe_nn_encoder_01.joblib') # limited to 50 books"
   ]
  },
  {
   "attachments": {},
   "cell_type": "markdown",
   "metadata": {},
   "source": [
    "Finally, adding to that, the reduced 2D representation using UMAP."
   ]
  },
  {
   "cell_type": "code",
   "execution_count": 14,
   "metadata": {},
   "outputs": [],
   "source": [
    "umap_mnist = umap.UMAP(metric='euclidean', random_state=42) #metric = 'cosine'\n",
    "umap_mnist.fit(nn_represent)\n",
    "\n",
    "umap_projection = umap_mnist.transform(nn_represent)"
   ]
  },
  {
   "cell_type": "code",
   "execution_count": 15,
   "metadata": {},
   "outputs": [
    {
     "data": {
      "text/plain": [
       "['../models/umap_mnist_01.joblib']"
      ]
     },
     "execution_count": 15,
     "metadata": {},
     "output_type": "execute_result"
    }
   ],
   "source": [
    "# to save the umap representation\n",
    "# had more models but removed after removing index books\n",
    "# dump(umap_mnist, '../models/umap_mnist_01.joblib')"
   ]
  },
  {
   "cell_type": "code",
   "execution_count": 16,
   "metadata": {},
   "outputs": [],
   "source": [
    "# convert the 100 dimensional vector of neuron weights into dataframe\n",
    "library_select_represent = pd.DataFrame(nn_represent, columns=[f'dim_{x}' for x in range(100)])\n",
    "\n",
    "# and also the 2d representation\n",
    "library_select_proj = pd.DataFrame(umap_projection, columns=[f'proj_{x}' for x in range(2)])\n",
    "\n",
    "# concatenate together with some info from the original df. at this point, for this notebook won't be needing the book texts anymore\n",
    "# I'll create a new notebook for NN from a different package\n",
    "library_select = pd.concat([\n",
    "    library_select[['id','title','author','authorcentury']],\n",
    "    library_select_proj.set_index(library_select.index),\n",
    "    library_select_represent.set_index(library_select.index)],\n",
    "    axis=1)"
   ]
  },
  {
   "cell_type": "code",
   "execution_count": 17,
   "metadata": {},
   "outputs": [
    {
     "data": {
      "image/png": "[encoded data removed]",
      "text/plain": [
       "<Figure size 1600x800 with 1 Axes>"
      ]
     },
     "metadata": {},
     "output_type": "display_data"
    }
   ],
   "source": [
    "# # old code:\n",
    "# sns.scatterplot(x=umap_projection[:,0], y=umap_projection[:,1], \n",
    "#                 hue = library_select.replace({'author': num_to_authors})['author'].astype('category'),\n",
    "#                alpha = 0.7);\n",
    "\n",
    "plt.figure(figsize = (16,8))\n",
    "sns.scatterplot(data=library_select, x='proj_0', y='proj_1', \n",
    "                hue = 'author',\n",
    "               alpha = 0.7);"
   ]
  },
  {
   "cell_type": "code",
   "execution_count": 18,
   "metadata": {},
   "outputs": [
    {
     "data": {
      "text/plain": [
       "array([ 1., 14., 13., -6., 16., 19., 18., 15., -1., -4., 20., -7., 17.])"
      ]
     },
     "execution_count": 18,
     "metadata": {},
     "output_type": "execute_result"
    }
   ],
   "source": [
    "library_select['authorcentury'].unique()"
   ]
  },
  {
   "cell_type": "code",
   "execution_count": 19,
   "metadata": {},
   "outputs": [],
   "source": [
    "def annotate_century(num_century):\n",
    "\n",
    "    if np.isnan(num_century):\n",
    "        return 'unknown'\n",
    "    elif int(num_century) < 0 :\n",
    "        ctry = ' century BCE'\n",
    "        num_century = abs(int(num_century))\n",
    "    else:\n",
    "        num_century = int(num_century)\n",
    "        ctry = ' century CE'\n",
    "\n",
    "\n",
    "    # determine ordinal numbering\n",
    "    if (num_century % 10 == 1) and (num_century % 100 != 11):\n",
    "        ordinal_century = str(num_century) + 'st'\n",
    "\n",
    "    elif (num_century % 10 == 2) and (num_century % 100 != 12):\n",
    "        ordinal_century = str(num_century) + 'nd'\n",
    "\n",
    "    elif (num_century % 10 == 3) and (num_century % 100 != 13):\n",
    "        ordinal_century = str(num_century) + 'rd'\n",
    "        \n",
    "    else:\n",
    "        ordinal_century = str(num_century) + 'th'\n",
    "\n",
    "    return ordinal_century + ctry"
   ]
  },
  {
   "cell_type": "code",
   "execution_count": 20,
   "metadata": {},
   "outputs": [],
   "source": [
    "library_select['authorcentury'] = library_select['authorcentury'].apply(annotate_century)"
   ]
  },
  {
   "cell_type": "code",
   "execution_count": 21,
   "metadata": {},
   "outputs": [
    {
     "data": {
      "image/png": "[encoded data removed]",
      "text/plain": [
       "<Figure size 1600x800 with 1 Axes>"
      ]
     },
     "metadata": {},
     "output_type": "display_data"
    }
   ],
   "source": [
    "plt.figure(figsize = (16,8))\n",
    "sns.scatterplot(data=library_select, x='proj_0', y='proj_1', \n",
    "                hue = library_select['authorcentury'].astype('category'),\n",
    "               alpha = 0.7);"
   ]
  },
  {
   "cell_type": "code",
   "execution_count": 22,
   "metadata": {},
   "outputs": [],
   "source": [
    "# make a copy -- personal note: important to use copy!! otherwise, it's just a view of the original dataframe \n",
    "# and that gives warnings in the following two parts\n",
    "library_2d_dist = library_select[['author', 'proj_0', 'proj_1']].copy()\n",
    "\n",
    "# calculate the mean point for each author\n",
    "library_2d_dist[['proj_0_mean', 'proj_1_mean']] = library_2d_dist.groupby('author')[['proj_0', 'proj_1']].transform('mean')\n",
    "\n",
    "# get the distance between each point and the mean for that author\n",
    "library_2d_dist['dist_mean'] = np.sqrt((library_2d_dist['proj_0'] - library_2d_dist['proj_0_mean'])**2 + (library_2d_dist['proj_1'] - library_2d_dist['proj_1_mean'])**2)\n",
    "\n"
   ]
  },
  {
   "cell_type": "code",
   "execution_count": 23,
   "metadata": {},
   "outputs": [
    {
     "data": {
      "text/html": [
       "<div>\n",
       "<style scoped>\n",
       "    .dataframe tbody tr th:only-of-type {\n",
       "        vertical-align: middle;\n",
       "    }\n",
       "\n",
       "    .dataframe tbody tr th {\n",
       "        vertical-align: top;\n",
       "    }\n",
       "\n",
       "    .dataframe thead th {\n",
       "        text-align: right;\n",
       "    }\n",
       "</style>\n",
       "<table border=\"1\" class=\"dataframe\">\n",
       "  <thead>\n",
       "    <tr style=\"text-align: right;\">\n",
       "      <th></th>\n",
       "      <th>author</th>\n",
       "      <th>proj_0</th>\n",
       "      <th>proj_1</th>\n",
       "      <th>proj_0_mean</th>\n",
       "      <th>proj_1_mean</th>\n",
       "      <th>dist_mean</th>\n",
       "    </tr>\n",
       "  </thead>\n",
       "  <tbody>\n",
       "    <tr>\n",
       "      <th>1</th>\n",
       "      <td>Seneca, Lucius Annaeus</td>\n",
       "      <td>3.676631</td>\n",
       "      <td>1.491181</td>\n",
       "      <td>2.939734</td>\n",
       "      <td>0.067758</td>\n",
       "      <td>1.602856</td>\n",
       "    </tr>\n",
       "    <tr>\n",
       "      <th>6</th>\n",
       "      <td>Boccaccio, Giovanni</td>\n",
       "      <td>9.173790</td>\n",
       "      <td>7.391255</td>\n",
       "      <td>4.541420</td>\n",
       "      <td>4.358118</td>\n",
       "      <td>5.537037</td>\n",
       "    </tr>\n",
       "    <tr>\n",
       "      <th>21</th>\n",
       "      <td>Dante Alighieri</td>\n",
       "      <td>8.543545</td>\n",
       "      <td>2.443485</td>\n",
       "      <td>8.510495</td>\n",
       "      <td>2.583077</td>\n",
       "      <td>0.143452</td>\n",
       "    </tr>\n",
       "    <tr>\n",
       "      <th>32</th>\n",
       "      <td>Dante Alighieri</td>\n",
       "      <td>8.689370</td>\n",
       "      <td>2.642284</td>\n",
       "      <td>8.510495</td>\n",
       "      <td>2.583077</td>\n",
       "      <td>0.188419</td>\n",
       "    </tr>\n",
       "    <tr>\n",
       "      <th>43</th>\n",
       "      <td>Dante Alighieri</td>\n",
       "      <td>8.653491</td>\n",
       "      <td>2.545713</td>\n",
       "      <td>8.510495</td>\n",
       "      <td>2.583077</td>\n",
       "      <td>0.147797</td>\n",
       "    </tr>\n",
       "    <tr>\n",
       "      <th>...</th>\n",
       "      <td>...</td>\n",
       "      <td>...</td>\n",
       "      <td>...</td>\n",
       "      <td>...</td>\n",
       "      <td>...</td>\n",
       "      <td>...</td>\n",
       "    </tr>\n",
       "    <tr>\n",
       "      <th>70047</th>\n",
       "      <td>Dickens, Charles</td>\n",
       "      <td>3.278823</td>\n",
       "      <td>-1.428116</td>\n",
       "      <td>3.415447</td>\n",
       "      <td>-1.120742</td>\n",
       "      <td>0.336370</td>\n",
       "    </tr>\n",
       "    <tr>\n",
       "      <th>70069</th>\n",
       "      <td>Dumas, Alexandre</td>\n",
       "      <td>10.074840</td>\n",
       "      <td>7.703770</td>\n",
       "      <td>10.076620</td>\n",
       "      <td>8.260368</td>\n",
       "      <td>0.556601</td>\n",
       "    </tr>\n",
       "    <tr>\n",
       "      <th>70091</th>\n",
       "      <td>Dickens, Charles</td>\n",
       "      <td>3.355045</td>\n",
       "      <td>-1.501331</td>\n",
       "      <td>3.415447</td>\n",
       "      <td>-1.120742</td>\n",
       "      <td>0.385352</td>\n",
       "    </tr>\n",
       "    <tr>\n",
       "      <th>70102</th>\n",
       "      <td>Dickens, Charles</td>\n",
       "      <td>3.442787</td>\n",
       "      <td>-1.490528</td>\n",
       "      <td>3.415447</td>\n",
       "      <td>-1.120742</td>\n",
       "      <td>0.370795</td>\n",
       "    </tr>\n",
       "    <tr>\n",
       "      <th>70269</th>\n",
       "      <td>Defoe, Daniel</td>\n",
       "      <td>2.016981</td>\n",
       "      <td>0.177533</td>\n",
       "      <td>2.329158</td>\n",
       "      <td>0.354047</td>\n",
       "      <td>0.358625</td>\n",
       "    </tr>\n",
       "  </tbody>\n",
       "</table>\n",
       "<p>527 rows × 6 columns</p>\n",
       "</div>"
      ],
      "text/plain": [
       "                       author     proj_0    proj_1  proj_0_mean  proj_1_mean  \\\n",
       "1      Seneca, Lucius Annaeus   3.676631  1.491181     2.939734     0.067758   \n",
       "6         Boccaccio, Giovanni   9.173790  7.391255     4.541420     4.358118   \n",
       "21            Dante Alighieri   8.543545  2.443485     8.510495     2.583077   \n",
       "32            Dante Alighieri   8.689370  2.642284     8.510495     2.583077   \n",
       "43            Dante Alighieri   8.653491  2.545713     8.510495     2.583077   \n",
       "...                       ...        ...       ...          ...          ...   \n",
       "70047        Dickens, Charles   3.278823 -1.428116     3.415447    -1.120742   \n",
       "70069        Dumas, Alexandre  10.074840  7.703770    10.076620     8.260368   \n",
       "70091        Dickens, Charles   3.355045 -1.501331     3.415447    -1.120742   \n",
       "70102        Dickens, Charles   3.442787 -1.490528     3.415447    -1.120742   \n",
       "70269           Defoe, Daniel   2.016981  0.177533     2.329158     0.354047   \n",
       "\n",
       "       dist_mean  \n",
       "1       1.602856  \n",
       "6       5.537037  \n",
       "21      0.143452  \n",
       "32      0.188419  \n",
       "43      0.147797  \n",
       "...          ...  \n",
       "70047   0.336370  \n",
       "70069   0.556601  \n",
       "70091   0.385352  \n",
       "70102   0.370795  \n",
       "70269   0.358625  \n",
       "\n",
       "[527 rows x 6 columns]"
      ]
     },
     "execution_count": 23,
     "metadata": {},
     "output_type": "execute_result"
    }
   ],
   "source": [
    "library_2d_dist"
   ]
  },
  {
   "cell_type": "code",
   "execution_count": 24,
   "metadata": {},
   "outputs": [
    {
     "data": {
      "text/plain": [
       "count    527.000000\n",
       "mean       0.620542\n",
       "std        0.747931\n",
       "min        0.007125\n",
       "25%        0.239258\n",
       "50%        0.457589\n",
       "75%        0.733673\n",
       "max        6.111665\n",
       "Name: dist_mean, dtype: float64"
      ]
     },
     "execution_count": 24,
     "metadata": {},
     "output_type": "execute_result"
    }
   ],
   "source": [
    "library_2d_dist['dist_mean'].describe()"
   ]
  },
  {
   "cell_type": "code",
   "execution_count": 25,
   "metadata": {},
   "outputs": [],
   "source": [
    "dist2d_mean = library_2d_dist['dist_mean'].mean()"
   ]
  },
  {
   "attachments": {},
   "cell_type": "markdown",
   "metadata": {},
   "source": [
    "## Similarity using spatial distance in 100 dimension\n",
    "\n",
    "Another way to look at the produced weights and which ones are similar"
   ]
  },
  {
   "attachments": {},
   "cell_type": "markdown",
   "metadata": {},
   "source": [
    "Calculating cosine similarity (using dim_0 to dim_99 cols) - for a first attempt, group it by author."
   ]
  },
  {
   "cell_type": "code",
   "execution_count": 26,
   "metadata": {},
   "outputs": [],
   "source": [
    "# idea use this to transpose and then see the dist from each book to this point?\n",
    "library_select_grouped = library_select.drop(columns=['id','title','authorcentury','proj_0','proj_1']).groupby('author').mean()"
   ]
  },
  {
   "cell_type": "code",
   "execution_count": 27,
   "metadata": {},
   "outputs": [],
   "source": [
    "dists = spatial.distance.pdist(library_select_grouped.values, metric='euclidean') # metric='cosine'"
   ]
  },
  {
   "cell_type": "code",
   "execution_count": 28,
   "metadata": {},
   "outputs": [
    {
     "data": {
      "image/png": "[encoded data removed]",
      "text/plain": [
       "<Figure size 1200x800 with 1 Axes>"
      ]
     },
     "metadata": {},
     "output_type": "display_data"
    }
   ],
   "source": [
    "mergings = linkage(dists, method='complete')\n",
    "\n",
    "plt.figure(figsize = (12,8))\n",
    "dendrogram(mergings,\n",
    "           labels = list(library_select_grouped.index),\n",
    "           leaf_rotation = 90,\n",
    "           leaf_font_size = 6);\n",
    "\n",
    "plt.tight_layout()"
   ]
  },
  {
   "cell_type": "code",
   "execution_count": 29,
   "metadata": {},
   "outputs": [],
   "source": [
    "# before I realized to use this approach, I first concatenated all the texts in the pandas series which returns an extremely long string\n",
    "# I then turn that string into a pandas series (the predict requires an iterable object)\n",
    "# pipe_nn.predict(pd.Series(library_select.loc[library_select['author'] == 0]['book_content'].str.cat()))"
   ]
  },
  {
   "attachments": {},
   "cell_type": "markdown",
   "metadata": {},
   "source": [
    "## Introducing New Text\n",
    "\n",
    "This part will ideally be in an app where any text can be uploaded"
   ]
  },
  {
   "attachments": {},
   "cell_type": "markdown",
   "metadata": {},
   "source": [
    "Here I will test it with two books I've written."
   ]
  },
  {
   "cell_type": "code",
   "execution_count": 30,
   "metadata": {},
   "outputs": [],
   "source": [
    "# if the model was not run above, this is where we load the encoder and the umamp_mnist\n",
    "# pipe_nn_encoder = load('../models/pipe_nn_encoder_02.joblib') \n",
    "# umap_mnist = load('../models/umap_mnist_02.joblib')"
   ]
  },
  {
   "cell_type": "code",
   "execution_count": 31,
   "metadata": {},
   "outputs": [],
   "source": [
    "newtext = pd.DataFrame()\n",
    "\n",
    "for book_num, book_name in enumerate(['Lambda', 'Deathway']):\n",
    "        filepath = f'../data/{book_name} by Tomo Umer.txt'\n",
    "\n",
    "        with open(filepath, encoding = 'utf-8') as fi:\n",
    "                book = fi.read()\n",
    "        \n",
    "        tmp_text = pd.DataFrame({'id': f'TU{str(book_num).zfill(3)}',\n",
    "                                 'title': [book_name],\n",
    "                                 'author': 'Umer, Tomo',\n",
    "                                 'authorcentury': 21,\n",
    "                                 'book_content': [book]})\n",
    "\n",
    "        newtext = pd.concat([newtext, tmp_text], ignore_index = True)"
   ]
  },
  {
   "cell_type": "code",
   "execution_count": 32,
   "metadata": {},
   "outputs": [
    {
     "data": {
      "text/html": [
       "<div>\n",
       "<style scoped>\n",
       "    .dataframe tbody tr th:only-of-type {\n",
       "        vertical-align: middle;\n",
       "    }\n",
       "\n",
       "    .dataframe tbody tr th {\n",
       "        vertical-align: top;\n",
       "    }\n",
       "\n",
       "    .dataframe thead th {\n",
       "        text-align: right;\n",
       "    }\n",
       "</style>\n",
       "<table border=\"1\" class=\"dataframe\">\n",
       "  <thead>\n",
       "    <tr style=\"text-align: right;\">\n",
       "      <th></th>\n",
       "      <th>id</th>\n",
       "      <th>title</th>\n",
       "      <th>author</th>\n",
       "      <th>authorcentury</th>\n",
       "      <th>book_content</th>\n",
       "    </tr>\n",
       "  </thead>\n",
       "  <tbody>\n",
       "    <tr>\n",
       "      <th>0</th>\n",
       "      <td>TU000</td>\n",
       "      <td>Lambda</td>\n",
       "      <td>Umer, Tomo</td>\n",
       "      <td>21</td>\n",
       "      <td>Lambda\\n\\n\\n\\n\\n\\n\\n\\n\\n\\n\\n\\n\\n\\n\\n\\n\\n\\n\\n\\n...</td>\n",
       "    </tr>\n",
       "    <tr>\n",
       "      <th>1</th>\n",
       "      <td>TU001</td>\n",
       "      <td>Deathway</td>\n",
       "      <td>Umer, Tomo</td>\n",
       "      <td>21</td>\n",
       "      <td>DeathwayIndex\\nIntroduction\\nMy second novel! ...</td>\n",
       "    </tr>\n",
       "  </tbody>\n",
       "</table>\n",
       "</div>"
      ],
      "text/plain": [
       "      id     title      author  authorcentury  \\\n",
       "0  TU000    Lambda  Umer, Tomo             21   \n",
       "1  TU001  Deathway  Umer, Tomo             21   \n",
       "\n",
       "                                        book_content  \n",
       "0  Lambda\\n\\n\\n\\n\\n\\n\\n\\n\\n\\n\\n\\n\\n\\n\\n\\n\\n\\n\\n\\n...  \n",
       "1  DeathwayIndex\\nIntroduction\\nMy second novel! ...  "
      ]
     },
     "execution_count": 32,
     "metadata": {},
     "output_type": "execute_result"
    }
   ],
   "source": [
    "newtext"
   ]
  },
  {
   "cell_type": "code",
   "execution_count": 33,
   "metadata": {},
   "outputs": [],
   "source": [
    "newtext['authorcentury'] = newtext['authorcentury'].apply(annotate_century)"
   ]
  },
  {
   "attachments": {},
   "cell_type": "markdown",
   "metadata": {},
   "source": [
    "As a reminder (to myself), in order to convert the new texts, we only need predict and transform methods"
   ]
  },
  {
   "cell_type": "code",
   "execution_count": 34,
   "metadata": {},
   "outputs": [],
   "source": [
    "# now using predict from the encoder to get the 100-dimensional projection of new text\n",
    "nn_represent_newtext = pipe_nn_encoder.predict(newtext['book_content'])\n",
    "\n",
    "# and its 2d representation using umap\n",
    "umap_projection_newtext = umap_mnist.transform(nn_represent_newtext)"
   ]
  },
  {
   "cell_type": "code",
   "execution_count": 35,
   "metadata": {},
   "outputs": [],
   "source": [
    "# and then just like with the authors, convert new texts into a dataframe\n",
    "# convert the 100 dimensional vector of neuron weights into dataframe\n",
    "newtxt_represent = pd.DataFrame(nn_represent_newtext, columns=[f'dim_{x}' for x in range(100)])\n",
    "\n",
    "# and also the 2d representation\n",
    "newtxt_proj = pd.DataFrame(umap_projection_newtext, columns=[f'proj_{x}' for x in range(2)])\n",
    "\n",
    "# concatenate together with some info from the original df. at this point, for this notebook won't be needing the book texts anymore\n",
    "# I'll create a new notebook for NN from a different package\n",
    "newtext = pd.concat([\n",
    "    newtext[['id','title','author','authorcentury']],\n",
    "    newtxt_proj.set_index(newtext.index),\n",
    "    newtxt_represent.set_index(newtext.index)],\n",
    "    axis=1)"
   ]
  },
  {
   "attachments": {},
   "cell_type": "markdown",
   "metadata": {},
   "source": [
    "Then, use the median 0.549409 (or possibly mean 0.721832) value to get a circle around the new texts - to visually represent similar books."
   ]
  },
  {
   "cell_type": "code",
   "execution_count": 36,
   "metadata": {},
   "outputs": [],
   "source": [
    "circle_edges = newtext[['proj_0', 'proj_1']].copy()"
   ]
  },
  {
   "cell_type": "code",
   "execution_count": 37,
   "metadata": {},
   "outputs": [],
   "source": [
    "circle_edges['x0'] = circle_edges['proj_0'] - dist2d_mean\n",
    "circle_edges['x1'] = circle_edges['proj_0'] + dist2d_mean\n",
    "circle_edges['y0'] = circle_edges['proj_1'] - dist2d_mean\n",
    "circle_edges['y1'] = circle_edges['proj_1'] + dist2d_mean"
   ]
  },
  {
   "cell_type": "code",
   "execution_count": 38,
   "metadata": {},
   "outputs": [
    {
     "data": {
      "text/html": [
       "<div>\n",
       "<style scoped>\n",
       "    .dataframe tbody tr th:only-of-type {\n",
       "        vertical-align: middle;\n",
       "    }\n",
       "\n",
       "    .dataframe tbody tr th {\n",
       "        vertical-align: top;\n",
       "    }\n",
       "\n",
       "    .dataframe thead th {\n",
       "        text-align: right;\n",
       "    }\n",
       "</style>\n",
       "<table border=\"1\" class=\"dataframe\">\n",
       "  <thead>\n",
       "    <tr style=\"text-align: right;\">\n",
       "      <th></th>\n",
       "      <th>proj_0</th>\n",
       "      <th>proj_1</th>\n",
       "      <th>x0</th>\n",
       "      <th>x1</th>\n",
       "      <th>y0</th>\n",
       "      <th>y1</th>\n",
       "    </tr>\n",
       "  </thead>\n",
       "  <tbody>\n",
       "    <tr>\n",
       "      <th>0</th>\n",
       "      <td>1.842684</td>\n",
       "      <td>3.280559</td>\n",
       "      <td>1.222142</td>\n",
       "      <td>2.463225</td>\n",
       "      <td>2.660017</td>\n",
       "      <td>3.901101</td>\n",
       "    </tr>\n",
       "    <tr>\n",
       "      <th>1</th>\n",
       "      <td>2.394795</td>\n",
       "      <td>2.954535</td>\n",
       "      <td>1.774253</td>\n",
       "      <td>3.015337</td>\n",
       "      <td>2.333994</td>\n",
       "      <td>3.575077</td>\n",
       "    </tr>\n",
       "  </tbody>\n",
       "</table>\n",
       "</div>"
      ],
      "text/plain": [
       "     proj_0    proj_1        x0        x1        y0        y1\n",
       "0  1.842684  3.280559  1.222142  2.463225  2.660017  3.901101\n",
       "1  2.394795  2.954535  1.774253  3.015337  2.333994  3.575077"
      ]
     },
     "execution_count": 38,
     "metadata": {},
     "output_type": "execute_result"
    }
   ],
   "source": [
    "circle_edges"
   ]
  },
  {
   "attachments": {},
   "cell_type": "markdown",
   "metadata": {},
   "source": [
    "Finally, simply add the new text to the library."
   ]
  },
  {
   "cell_type": "code",
   "execution_count": 39,
   "metadata": {},
   "outputs": [],
   "source": [
    "library_newtext = pd.concat([library_select, newtext])"
   ]
  },
  {
   "cell_type": "code",
   "execution_count": 40,
   "metadata": {},
   "outputs": [
    {
     "data": {
      "application/vnd.plotly.v1+json": {
       "config": {
        "plotlyServerURL": "https://plot.ly"
       },
       "data": [
        {
         "customdata": [
          [
           "Apocolocyntosis"
          ],
          [
           "L. Annaeus Seneca on Benefits"
          ],
          [
           "Two Tragedies of Seneca: Medea and The Daughters of Troy: Rendered into English Verse"
          ],
          [
           "Seneca's Morals of a Happy Life, Benefits, Anger and Clemency"
          ],
          [
           "Minor Dialogues, Together With the Dialogue on Clemency"
          ]
         ],
         "hovertemplate": "author=Seneca, Lucius Annaeus<br>proj_0=%{x}<br>proj_1=%{y}<br>title=%{customdata[0]}<extra></extra>",
         "legendgroup": "Seneca, Lucius Annaeus",
         "marker": {
          "color": "#AA0DFE",
          "symbol": "circle"
         },
         "mode": "markers",
         "name": "Seneca, Lucius Annaeus",
         "orientation": "v",
         "showlegend": true,
         "type": "scatter",
         "x": [
          3.676630973815918,
          2.906684160232544,
          3.260664463043213,
          2.4110631942749023,
          2.443626642227173
         ],
         "xaxis": "x",
         "y": [
          1.4911808967590332,
          -0.580120861530304,
          0.4644099473953247,
          -0.49351704120635986,
          -0.5431605577468872
         ],
         "yaxis": "y"
        },
        {
         "customdata": [
          [
           "La Fiammetta"
          ],
          [
           "The Decameron, Volume II"
          ],
          [
           "The Decameron of Giovanni Boccaccio"
          ],
          [
           "The Decameron, Volume I"
          ],
          [
           "The Decameron (Day 1 to Day 5): Containing an hundred pleasant Novels"
          ],
          [
           "The Decameron (Day 6 to Day 10): Containing an hundred pleasant Novels"
          ]
         ],
         "hovertemplate": "author=Boccaccio, Giovanni<br>proj_0=%{x}<br>proj_1=%{y}<br>title=%{customdata[0]}<extra></extra>",
         "legendgroup": "Boccaccio, Giovanni",
         "marker": {
          "color": "#3283FE",
          "symbol": "circle"
         },
         "mode": "markers",
         "name": "Boccaccio, Giovanni",
         "orientation": "v",
         "showlegend": true,
         "type": "scatter",
         "x": [
          9.173789978027344,
          3.6175777912139893,
          3.6289288997650146,
          9.120636940002441,
          0.8418911695480347,
          0.8656931519508362
         ],
         "xaxis": "x",
         "y": [
          7.3912553787231445,
          -0.7949209213256836,
          -1.0756967067718506,
          7.366382122039795,
          6.661745548248291,
          6.5999436378479
         ],
         "yaxis": "y"
        },
        {
         "customdata": [
          [
           "Divine Comedy, Longfellow's Translation, Hell"
          ],
          [
           "Divine Comedy, Longfellow's Translation, Purgatory"
          ],
          [
           "Divine Comedy, Longfellow's Translation, Paradise"
          ],
          [
           "Divine Comedy, Longfellow's Translation, Complete"
          ],
          [
           "Divine Comedy, Cary's Translation, Hell"
          ],
          [
           "Divine Comedy, Cary's Translation, Purgatory"
          ],
          [
           "Divine Comedy, Cary's Translation, Paradise"
          ],
          [
           "Divine Comedy, Cary's Translation, Complete"
          ],
          [
           "The Banquet (Il Convito)"
          ],
          [
           "The Divine Comedy, Volume 1, Hell"
          ],
          [
           "The Divine Comedy, Volume 2, Purgatory"
          ],
          [
           "The Divine Comedy, Volume 3, Paradise"
          ],
          [
           "The New Life (La Vita Nuova)"
          ],
          [
           "The Divine Comedy of Dante Alighieri: The Inferno"
          ],
          [
           "The Vision of Dante: A story for little children and a talk to their mothers: (Second Edition)"
          ],
          [
           "The vision of hell.: By Dante Alighieri.; Translated by Rev. Henry Francis Cary, M.A.; and illustrated with the seventy-five designs of Gustave Doré."
          ],
          [
           "The Divine Comedy by Dante, Illustrated, Purgatory, Complete"
          ],
          [
           "The Divine Comedy by Dante, Illustrated, Paradise, Complete"
          ],
          [
           "The divine comedy"
          ]
         ],
         "hovertemplate": "author=Dante Alighieri<br>proj_0=%{x}<br>proj_1=%{y}<br>title=%{customdata[0]}<extra></extra>",
         "legendgroup": "Dante Alighieri",
         "marker": {
          "color": "#85660D",
          "symbol": "circle"
         },
         "mode": "markers",
         "name": "Dante Alighieri",
         "orientation": "v",
         "showlegend": true,
         "type": "scatter",
         "x": [
          8.54354476928711,
          8.689370155334473,
          8.653491020202637,
          8.65323543548584,
          8.68692684173584,
          8.703018188476562,
          8.658782958984375,
          8.649853706359863,
          8.588227272033691,
          8.676803588867188,
          8.667377471923828,
          8.720046043395996,
          8.702884674072266,
          8.710552215576172,
          5.5970869064331055,
          8.701254844665527,
          8.732254981994629,
          8.686973571777344,
          8.67773151397705
         ],
         "xaxis": "x",
         "y": [
          2.4434847831726074,
          2.642284393310547,
          2.545713424682617,
          2.580435037612915,
          2.88657808303833,
          2.926037311553955,
          2.955479860305786,
          2.888315200805664,
          2.0177392959594727,
          2.411816120147705,
          2.3731725215911865,
          2.356485605239868,
          1.8728464841842651,
          2.2983791828155518,
          2.1985599994659424,
          2.8941147327423096,
          2.951533794403076,
          2.9076473712921143,
          2.927849054336548
         ],
         "yaxis": "y"
        },
        {
         "customdata": [
          [
           "Chinese Literature: Comprising the Analects of Confucius, the Sayings of Mencius, the Shi-King, the Travels of Fâ-Hien, and the Sorrows of Han"
          ],
          [
           "The Sayings of Confucius"
          ],
          [
           "The Analects of Confucius (from the Chinese Classics)"
          ],
          [
           "The Wisdom of Confucius: with Critical and Biographical Sketches"
          ],
          [
           "The Sayings of Confucius: A New Translation of the Greater Part of the Confucian Analects"
          ]
         ],
         "hovertemplate": "author=Confucius<br>proj_0=%{x}<br>proj_1=%{y}<br>title=%{customdata[0]}<extra></extra>",
         "legendgroup": "Confucius",
         "marker": {
          "color": "#782AB6",
          "symbol": "circle"
         },
         "mode": "markers",
         "name": "Confucius",
         "orientation": "v",
         "showlegend": true,
         "type": "scatter",
         "x": [
          9.863030433654785,
          4.99346923828125,
          5.149028778076172,
          9.812933921813965,
          4.813504219055176
         ],
         "xaxis": "x",
         "y": [
          8.033077239990234,
          1.9891308546066284,
          2.0717051029205322,
          8.064922332763672,
          1.8641248941421509
         ],
         "yaxis": "y"
        },
        {
         "customdata": [
          [
           "The Complete Works of William Shakespeare"
          ],
          [
           "Shakespeare's Sonnets"
          ],
          [
           "Venus and Adonis"
          ],
          [
           "King Richard III"
          ],
          [
           "The Tragedy of Titus Andronicus"
          ],
          [
           "The Taming of the Shrew"
          ],
          [
           "The Tragedy of Romeo and Juliet"
          ],
          [
           "As You Like It"
          ],
          [
           "The Tragedy of Macbeth"
          ],
          [
           "King Richard III"
          ],
          [
           "The Taming of the Shrew"
          ],
          [
           "Romeo and Juliet"
          ],
          [
           "A Midsummer Night's Dream"
          ],
          [
           "The Merchant of Venice"
          ],
          [
           "King Henry IV, the First Part"
          ],
          [
           "Much Ado about Nothing"
          ],
          [
           "The Life of King Henry V"
          ],
          [
           "Julius Caesar"
          ],
          [
           "As You Like It"
          ],
          [
           "Hamlet, Prince of Denmark"
          ],
          [
           "Twelfth Night; Or, What You Will"
          ],
          [
           "All's Well That Ends Well"
          ],
          [
           "Othello, the Moor of Venice"
          ],
          [
           "The Tragedy of King Lear"
          ],
          [
           "Macbeth"
          ],
          [
           "Antony and Cleopatra"
          ],
          [
           "The Winter's Tale"
          ],
          [
           "The Tempest"
          ],
          [
           "Sir Thomas More"
          ],
          [
           "Romeo and Juliet"
          ],
          [
           "Julius Caesar"
          ],
          [
           "Hamlet"
          ],
          [
           "King Lear"
          ],
          [
           "A Midsummer Night's Dream"
          ],
          [
           "The Merchant of Venice"
          ],
          [
           "Twelfth Night"
          ],
          [
           "Henry V"
          ],
          [
           "Macbeth"
          ],
          [
           "Hamlet"
          ],
          [
           "Othello"
          ],
          [
           "Shakespeare's First Folio"
          ],
          [
           "The Tempest: The Works of William Shakespeare [Cambridge Edition] [9 vols.]"
          ],
          [
           "Two Gentlemen of Verona: The Works of William Shakespeare [Cambridge Edition] [9 vols.]"
          ],
          [
           "The Merry Wives of Windsor: The Works of William Shakespeare [Cambridge Edition] [9 vols.]"
          ],
          [
           "Measure for Measure: The Works of William Shakespeare [Cambridge Edition] [9 vols.]"
          ],
          [
           "The Comedy of Errors: The Works of William Shakespeare [Cambridge Edition] [9 vols.]"
          ],
          [
           "Hamlet, Prince of Denmark"
          ],
          [
           "The New Hudson Shakespeare: Julius Cæsar"
          ],
          [
           "Shakespeare's Tragedy of Romeo and Juliet"
          ],
          [
           "Flowers from Shakespeare's Garden: A Posy from the Plays"
          ]
         ],
         "hovertemplate": "author=Shakespeare, William<br>proj_0=%{x}<br>proj_1=%{y}<br>title=%{customdata[0]}<extra></extra>",
         "legendgroup": "Shakespeare, William",
         "marker": {
          "color": "#565656",
          "symbol": "circle"
         },
         "mode": "markers",
         "name": "Shakespeare, William",
         "orientation": "v",
         "showlegend": true,
         "type": "scatter",
         "x": [
          10.93438720703125,
          9.882323265075684,
          9.624251365661621,
          10.35956859588623,
          9.72214412689209,
          10.135209083557129,
          10.501472473144531,
          9.903036117553711,
          10.096253395080566,
          10.381470680236816,
          10.188776016235352,
          10.424639701843262,
          9.526636123657227,
          10.24602222442627,
          10.20142936706543,
          9.9903564453125,
          10.11949634552002,
          9.509209632873535,
          9.934831619262695,
          9.949471473693848,
          10.059652328491211,
          9.991020202636719,
          10.240845680236816,
          10.770614624023438,
          9.985676765441895,
          9.709065437316895,
          10.263232231140137,
          9.579747200012207,
          9.40285873413086,
          10.571372032165527,
          9.483230590820312,
          9.997284889221191,
          10.816503524780273,
          10.717676162719727,
          10.837376594543457,
          10.92480182647705,
          11.008217811584473,
          10.304557800292969,
          10.901134490966797,
          10.870759010314941,
          10.952287673950195,
          9.540733337402344,
          9.879514694213867,
          10.499865531921387,
          10.157075881958008,
          9.598333358764648,
          9.648982048034668,
          9.25348949432373,
          10.456165313720703,
          3.9340224266052246
         ],
         "xaxis": "x",
         "y": [
          1.0205827951431274,
          1.352292537689209,
          1.4180914163589478,
          1.4570225477218628,
          1.3942434787750244,
          1.0559223890304565,
          1.012450933456421,
          1.2866185903549194,
          1.1024889945983887,
          1.3817180395126343,
          1.0258575677871704,
          1.059398889541626,
          1.3665416240692139,
          1.3526910543441772,
          1.4833261966705322,
          1.362391471862793,
          1.0562646389007568,
          1.3825562000274658,
          1.3694437742233276,
          1.0992687940597534,
          1.4578620195388794,
          1.3423997163772583,
          1.4376344680786133,
          1.2056002616882324,
          1.196484923362732,
          1.2207916975021362,
          1.4115045070648193,
          1.353822946548462,
          1.5396181344985962,
          0.9966849684715271,
          1.4339197874069214,
          1.1566991806030273,
          1.1216017007827759,
          1.1739951372146606,
          1.1262547969818115,
          1.1221415996551514,
          1.0206037759780884,
          1.0607542991638184,
          1.1018515825271606,
          1.0959908962249756,
          1.0542235374450684,
          1.4092696905136108,
          1.4216129779815674,
          1.253755807876587,
          1.3103512525558472,
          1.5405044555664062,
          1.5092719793319702,
          1.6581931114196777,
          1.0080785751342773,
          0.9858023524284363
         ],
         "yaxis": "y"
        },
        {
         "customdata": [
          [
           "Bleak House"
          ],
          [
           "Three Ghost Stories"
          ],
          [
           "Great Expectations"
          ],
          [
           "The Perils of Certain English Prisoners"
          ],
          [
           "A Message from the Sea"
          ],
          [
           "Doctor Marigold"
          ],
          [
           "The Wreck of the Golden Mary"
          ],
          [
           "Some Christmas Stories"
          ],
          [
           "A Christmas Carol"
          ],
          [
           "The Magic Fishbone: A Holiday Romance from the Pen of Miss Alice Rainbird, Aged 7"
          ],
          [
           "A Christmas Carol"
          ],
          [
           "The Letters of Charles Dickens. Vol. 1, 1833-1856"
          ],
          [
           "The Letters of Charles Dickens. Vol. 2, 1857-1870"
          ],
          [
           "Bardell v. Pickwick"
          ],
          [
           "Mugby Junction"
          ],
          [
           "A Christmas Carol: The original manuscript"
          ],
          [
           "The Battle of Life: A Love Story"
          ],
          [
           "A Child's Dream of a Star"
          ],
          [
           "The Personal History of David Copperfield"
          ],
          [
           "Oliver Twist; or, The Parish Boy's Progress. Illustrated"
          ],
          [
           "Oliver Twist, Vol. 1 (of 3)"
          ],
          [
           "The Posthumous Papers of the Pickwick Club, v. 2 (of 2)"
          ],
          [
           "The Mystery of Edwin Drood"
          ],
          [
           "The Pickwick Papers"
          ],
          [
           "Master Humphrey's Clock"
          ],
          [
           "The Haunted Man and the Ghost's Bargain"
          ],
          [
           "Pictures from Italy"
          ],
          [
           "The Chimes: A Goblin Story of Some Bells That Rang an Old Year out and a New Year In"
          ],
          [
           "American Notes"
          ],
          [
           "The Battle of Life"
          ],
          [
           "The Cricket on the Hearth: A Fairy Tale of Home"
          ],
          [
           "A Child's History of England"
          ],
          [
           "The Old Curiosity Shop"
          ],
          [
           "Oliver Twist"
          ],
          [
           "David Copperfield"
          ],
          [
           "Hard Times"
          ],
          [
           "Hunted Down: The Detective Stories of Charles Dickens"
          ],
          [
           "Holiday Romance"
          ],
          [
           "George Silverman's Explanation"
          ],
          [
           "Dombey and Son"
          ],
          [
           "Speeches: Literary and Social"
          ],
          [
           "Reprinted Pieces"
          ],
          [
           "Sketches by Boz, Illustrative of Every-Day Life and Every-Day People"
          ],
          [
           "Our Mutual Friend"
          ],
          [
           "The Uncommercial Traveller"
          ],
          [
           "Barnaby Rudge: A Tale of the Riots of 'Eighty"
          ],
          [
           "To Be Read at Dusk"
          ],
          [
           "Little Dorrit"
          ],
          [
           "Nicholas Nickleby"
          ],
          [
           "Martin Chuzzlewit"
          ]
         ],
         "hovertemplate": "author=Dickens, Charles<br>proj_0=%{x}<br>proj_1=%{y}<br>title=%{customdata[0]}<extra></extra>",
         "legendgroup": "Dickens, Charles",
         "marker": {
          "color": "#1C8356",
          "symbol": "circle"
         },
         "mode": "markers",
         "name": "Dickens, Charles",
         "orientation": "v",
         "showlegend": true,
         "type": "scatter",
         "x": [
          3.1510188579559326,
          3.2899293899536133,
          3.3149805068969727,
          3.7032625675201416,
          3.7849981784820557,
          3.7611746788024902,
          3.78889799118042,
          3.387769937515259,
          3.6104273796081543,
          3.876183271408081,
          3.697911500930786,
          3.1228127479553223,
          3.1211228370666504,
          3.6933646202087402,
          3.233660936355591,
          3.651566505432129,
          3.6442487239837646,
          3.611689567565918,
          3.1382431983947754,
          3.2705836296081543,
          3.184436082839966,
          3.2193636894226074,
          3.454131841659546,
          3.216869354248047,
          3.3781630992889404,
          3.6218321323394775,
          3.071331262588501,
          3.705399751663208,
          3.0844314098358154,
          3.642885446548462,
          3.4768002033233643,
          3.3370018005371094,
          3.106496572494507,
          3.211803436279297,
          3.0319128036499023,
          3.4407899379730225,
          3.756638288497925,
          3.8208131790161133,
          3.8362252712249756,
          3.505239248275757,
          3.0983920097351074,
          3.079108953475952,
          3.0660223960876465,
          3.3387300968170166,
          3.0539443492889404,
          3.1587584018707275,
          3.9443371295928955,
          3.278822898864746,
          3.3550450801849365,
          3.4427871704101562
         ],
         "xaxis": "x",
         "y": [
          -1.7401484251022339,
          -1.0164666175842285,
          -1.7516621351242065,
          -0.21562352776527405,
          -0.09111934155225754,
          -0.08858929574489594,
          0.05822715535759926,
          -0.8388366103172302,
          -0.8461822271347046,
          0.6331218481063843,
          -0.8668661713600159,
          -1.620699167251587,
          -1.8298356533050537,
          -0.23562969267368317,
          -1.4316562414169312,
          -0.8399157524108887,
          -1.0836538076400757,
          1.7981494665145874,
          -2.1288349628448486,
          -1.9081230163574219,
          -1.3957165479660034,
          -1.9235734939575195,
          -1.5460470914840698,
          -1.7564724683761597,
          -1.4401379823684692,
          -0.5635607242584229,
          -1.950954794883728,
          -0.5199213027954102,
          -1.7857844829559326,
          -1.1079158782958984,
          -1.0291706323623657,
          -1.3438045978546143,
          -2.0276708602905273,
          -1.9385122060775757,
          -2.1596839427948,
          -1.2602795362472534,
          0.12169716507196426,
          0.026834188029170036,
          0.014156168326735497,
          -1.323272705078125,
          -1.6602178812026978,
          -2.1015121936798096,
          -2.1534483432769775,
          -1.3531136512756348,
          -2.141932964324951,
          -1.9991878271102905,
          0.7464197278022766,
          -1.4281163215637207,
          -1.501331090927124,
          -1.4905282258987427
         ],
         "yaxis": "y"
        },
        {
         "customdata": [
          [
           "The Tragedy of Pudd'nhead Wilson"
          ],
          [
           "Extract from Captain Stormfield's Visit to Heaven"
          ],
          [
           "A Horse's Tale"
          ],
          [
           "A Tramp Abroad"
          ],
          [
           "The Man That Corrupted Hadleyburg"
          ],
          [
           "The $30,000 Bequest, and Other Stories"
          ],
          [
           "The Prince and the Pauper"
          ],
          [
           "Extracts from Adam's Diary, translated from the original ms."
          ],
          [
           "Chapters from My Autobiography"
          ],
          [
           "Is Shakespeare Dead?: From My Autobiography"
          ],
          [
           "Life on the Mississippi"
          ],
          [
           "On the Decay of the Art of Lying"
          ],
          [
           "Personal Recollections of Joan of Arc — Volume 1"
          ],
          [
           "Personal Recollections of Joan of Arc — Volume 2"
          ],
          [
           "Following the Equator: A Journey Around the World"
          ],
          [
           "In Defence of Harriet Shelley"
          ],
          [
           "Fenimore Cooper's Literary Offences"
          ],
          [
           "A Dog's Tale"
          ],
          [
           "The Innocents Abroad"
          ],
          [
           "Roughing It"
          ],
          [
           "The Gilded Age: A Tale of Today"
          ],
          [
           "The American Claimant"
          ],
          [
           "A Double Barrelled Detective Story"
          ],
          [
           "The Stolen White Elephant"
          ],
          [
           "The Facts Concerning the Recent Carnival of Crime in Connecticut"
          ],
          [
           "Those Extraordinary Twins"
          ],
          [
           "The Mysterious Stranger, and Other Stories"
          ],
          [
           "Christian Science"
          ],
          [
           "Mark Twain's Speeches"
          ],
          [
           "Sketches New and Old"
          ],
          [
           "1601: Conversation as it was by the Social Fireside in the Time of the Tudors"
          ],
          [
           "Mark Twain's Letters — Volume 1 (1853-1866)"
          ],
          [
           "Mark Twain's Letters — Volume 2 (1867-1875)"
          ],
          [
           "Mark Twain's Letters — Volume 4 (1886-1900)"
          ],
          [
           "Mark Twain's Letters — Complete (1853-1910)"
          ],
          [
           "The Adventures of Huckleberry Finn (Tom Sawyer's Comrade)"
          ],
          [
           "How to Tell a Story, and Other Essays"
          ],
          [
           "The Man That Corrupted Hadleyburg, and Other Stories"
          ],
          [
           "The Mysterious Stranger: A Romance"
          ],
          [
           "Following the Equator: A Journey Around the World. Part 3"
          ],
          [
           "Merry Tales"
          ],
          [
           "The £1,000,000 bank-note, and other new stories"
          ],
          [
           "To the Person Sitting in Darkness"
          ],
          [
           "King Leopold's Soliloquy: A Defense of His Congo Rule"
          ],
          [
           "Europe and elsewhere"
          ],
          [
           "Adventures of Huckleberry Finn, Chapters 01 to 05"
          ],
          [
           "Adventures of Huckleberry Finn, Chapters 11 to 15"
          ],
          [
           "The Adventures of Tom Sawyer, Part 1."
          ],
          [
           "The Adventures of Tom Sawyer, Part 2."
          ],
          [
           "Eve's Diary, Complete"
          ]
         ],
         "hovertemplate": "author=Twain, Mark<br>proj_0=%{x}<br>proj_1=%{y}<br>title=%{customdata[0]}<extra></extra>",
         "legendgroup": "Twain, Mark",
         "marker": {
          "color": "#16FF32",
          "symbol": "circle"
         },
         "mode": "markers",
         "name": "Twain, Mark",
         "orientation": "v",
         "showlegend": true,
         "type": "scatter",
         "x": [
          1.4273855686187744,
          1.735670804977417,
          1.6145317554473877,
          0.536523699760437,
          1.5359411239624023,
          0.33959946036338806,
          0.6266332268714905,
          2.3377833366394043,
          0.23411858081817627,
          1.7145874500274658,
          0.038752481341362,
          3.343306303024292,
          0.8304063677787781,
          1.6086894273757935,
          0.09376925230026245,
          2.0366480350494385,
          2.574781656265259,
          2.316070556640625,
          0.07865376770496368,
          0.5829546451568604,
          0.44357821345329285,
          0.9795337915420532,
          1.4286261796951294,
          2.0996079444885254,
          2.386235237121582,
          1.4923893213272095,
          0.8293108344078064,
          1.0142247676849365,
          0.22663749754428864,
          0.7804854512214661,
          2.1642208099365234,
          0.2696884870529175,
          0.1617455631494522,
          0.022558096796274185,
          0.06659168750047684,
          0.7196179032325745,
          1.7696806192398071,
          0.22710803151130676,
          0.8146434426307678,
          0.978409469127655,
          0.7244345545768738,
          0.7927767634391785,
          2.191957473754883,
          1.7070988416671753,
          0.105042465031147,
          1.8323971033096313,
          1.9159560203552246,
          1.8847206830978394,
          1.712332844734192,
          1.9685800075531006
         ],
         "xaxis": "x",
         "y": [
          2.9660403728485107,
          2.989515781402588,
          3.0129265785217285,
          3.006694793701172,
          2.900745391845703,
          2.873223304748535,
          2.8443498611450195,
          2.836669683456421,
          2.7647440433502197,
          2.9557621479034424,
          2.7643184661865234,
          2.4030470848083496,
          2.9049603939056396,
          2.9705238342285156,
          2.785064697265625,
          2.8563778400421143,
          2.9532511234283447,
          2.8454976081848145,
          2.832777976989746,
          2.9337968826293945,
          2.913607120513916,
          2.892000675201416,
          2.899977922439575,
          2.8555867671966553,
          2.9905221462249756,
          3.091209888458252,
          2.9966039657592773,
          2.9207687377929688,
          2.8074958324432373,
          2.9284329414367676,
          2.8269307613372803,
          2.9503931999206543,
          2.9038355350494385,
          2.897458791732788,
          2.88181209564209,
          2.998750686645508,
          2.9469478130340576,
          2.7952017784118652,
          3.0811092853546143,
          2.8921573162078857,
          2.8609113693237305,
          2.9503252506256104,
          2.831862449645996,
          2.9531610012054443,
          2.8428525924682617,
          2.868011713027954,
          2.8091421127319336,
          2.9501571655273438,
          2.9111404418945312,
          2.8619186878204346
         ],
         "yaxis": "y"
        },
        {
         "customdata": [
          [
           "The Green Flag, and Other Stories of War and Sport"
          ],
          [
           "The Return of Sherlock Holmes"
          ],
          [
           "The Exploits of Brigadier Gerard"
          ],
          [
           "The Refugees: A Tale of Two Continents"
          ],
          [
           "The Great Shadow and Other Napoleonic Tales"
          ],
          [
           "The Poison Belt"
          ],
          [
           "The Firm of Girdlestone"
          ],
          [
           "The Lost World"
          ],
          [
           "The Adventures of Gerard"
          ],
          [
           "The Adventures of Sherlock Holmes"
          ],
          [
           "The Sign of the Four"
          ],
          [
           "The Return of Sherlock Holmes"
          ],
          [
           "Danger! and Other Stories"
          ],
          [
           "The Adventure of Wisteria Lodge"
          ],
          [
           "The Adventure of the Cardboard Box"
          ],
          [
           "The Adventure of the Red Circle"
          ],
          [
           "The Adventure of the Bruce-Partington Plans"
          ],
          [
           "The Adventure of the Dying Detective"
          ],
          [
           "The Disappearance of Lady Frances Carfax"
          ],
          [
           "The Adventure of the Devil's Foot"
          ],
          [
           "His Last Bow: An Epilogue of Sherlock Holmes"
          ],
          [
           "A Study in Scarlet"
          ],
          [
           "Sir Nigel"
          ],
          [
           "The Hound of the Baskervilles"
          ],
          [
           "The Captain of the Polestar, and Other Tales"
          ],
          [
           "The Great Boer War"
          ],
          [
           "The Hound of the Baskervilles"
          ],
          [
           "The Great Keinplatz Experiment and Other Tales of Twilight and the Unseen"
          ],
          [
           "The Valley of Fear"
          ],
          [
           "The Parasite: A Story"
          ],
          [
           "The Crime of the Congo"
          ],
          [
           "The Valley of Fear"
          ],
          [
           "The Wanderings of a Spiritualist"
          ],
          [
           "Round the Red Lamp: Being Facts and Fancies of Medical Life"
          ],
          [
           "The Vital Message"
          ],
          [
           "The Coming of the Fairies"
          ],
          [
           "Adventures of Sherlock Holmes: Illustrated"
          ],
          [
           "Rodney Stone"
          ],
          [
           "Tales of Terror and Mystery"
          ],
          [
           "Round the Fire Stories"
          ],
          [
           "The Case for Spirit Photography: With corroborative evidence by experienced researchers and photographers"
          ],
          [
           "Memories and Adventures"
          ],
          [
           "The land of mist"
          ],
          [
           "My friend the murderer, and other mysteries and adventures"
          ],
          [
           "The case-book of Sherlock Holmes"
          ],
          [
           "The case of Oscar Slater"
          ],
          [
           "The Mystery of Cloomber"
          ],
          [
           "The Memoirs of Sherlock Holmes"
          ],
          [
           "The White Company"
          ],
          [
           "Micah Clarke: His Statement as made to his three grandchildren Joseph, Gervas and Reuben During the Hard Winter of 1734"
          ]
         ],
         "hovertemplate": "author=Doyle, Arthur Conan<br>proj_0=%{x}<br>proj_1=%{y}<br>title=%{customdata[0]}<extra></extra>",
         "legendgroup": "Doyle, Arthur Conan",
         "marker": {
          "color": "#F7E1A0",
          "symbol": "circle"
         },
         "mode": "markers",
         "name": "Doyle, Arthur Conan",
         "orientation": "v",
         "showlegend": true,
         "type": "scatter",
         "x": [
          4.287984848022461,
          3.9422554969787598,
          4.370824813842773,
          4.449306488037109,
          4.319141864776611,
          4.4732770919799805,
          4.1674604415893555,
          4.399871826171875,
          4.368904113769531,
          3.991852045059204,
          4.384413242340088,
          3.926926612854004,
          4.211427688598633,
          4.4591288566589355,
          4.62815523147583,
          4.587182998657227,
          4.583490371704102,
          4.685926914215088,
          4.578061580657959,
          4.497556686401367,
          4.449581146240234,
          4.497045516967773,
          4.44795560836792,
          4.221251487731934,
          4.178471565246582,
          4.287147045135498,
          4.172579765319824,
          4.070998191833496,
          4.413527488708496,
          4.446343898773193,
          4.377399921417236,
          4.421527862548828,
          4.221548080444336,
          4.092504978179932,
          4.732654571533203,
          4.615540981292725,
          3.9778268337249756,
          4.4457106590271,
          4.080714702606201,
          4.170788288116455,
          4.601365566253662,
          4.049576282501221,
          4.44879150390625,
          4.181224346160889,
          4.301901817321777,
          4.578527927398682,
          4.298236846923828,
          4.356226444244385,
          4.451353549957275,
          4.4048285484313965
         ],
         "xaxis": "x",
         "y": [
          8.814287185668945,
          9.3671236038208,
          8.112656593322754,
          8.648072242736816,
          8.545146942138672,
          7.550049781799316,
          8.9125337600708,
          8.661469459533691,
          8.15520191192627,
          9.314996719360352,
          8.628324508666992,
          9.3404541015625,
          9.029842376708984,
          7.356224060058594,
          7.066970348358154,
          7.246499061584473,
          7.130180358886719,
          7.153359413146973,
          7.093101501464844,
          7.2460103034973145,
          7.639390468597412,
          8.58388614654541,
          8.619165420532227,
          9.116487503051758,
          8.95099925994873,
          8.463521957397461,
          9.079984664916992,
          9.236525535583496,
          8.162875175476074,
          7.443633556365967,
          7.189807415008545,
          8.109545707702637,
          9.01276969909668,
          9.184724807739258,
          7.320133209228516,
          7.3487958908081055,
          9.32404899597168,
          7.8764777183532715,
          9.214173316955566,
          9.048877716064453,
          7.19169807434082,
          9.25693130493164,
          8.613349914550781,
          8.79076099395752,
          8.686578750610352,
          7.238537311553955,
          8.743326187133789,
          8.5618314743042,
          8.624932289123535,
          8.148703575134277
         ],
         "yaxis": "y"
        },
        {
         "customdata": [
          [
           "Persuasion"
          ],
          [
           "Love and Freindship [sic]"
          ],
          [
           "Northanger Abbey"
          ],
          [
           "Pride and Prejudice"
          ],
          [
           "Mansfield Park"
          ],
          [
           "Emma"
          ],
          [
           "Sense and Sensibility"
          ],
          [
           "Sense and Sensibility"
          ],
          [
           "Pride and Prejudice, a play founded on Jane Austen's novel"
          ],
          [
           "The Letters of Jane Austen: Selected from the compilation of her great nephew, Edward, Lord Bradbourne"
          ],
          [
           "Pride and Prejudice"
          ],
          [
           "The Watsons: By Jane Austen, Concluded by L. Oulton"
          ],
          [
           "Lady Susan"
          ]
         ],
         "hovertemplate": "author=Austen, Jane<br>proj_0=%{x}<br>proj_1=%{y}<br>title=%{customdata[0]}<extra></extra>",
         "legendgroup": "Austen, Jane",
         "marker": {
          "color": "#E2E2E2",
          "symbol": "circle"
         },
         "mode": "markers",
         "name": "Austen, Jane",
         "orientation": "v",
         "showlegend": true,
         "type": "scatter",
         "x": [
          2.755427837371826,
          2.774672031402588,
          2.8210628032684326,
          2.6168251037597656,
          2.775620460510254,
          2.755215644836426,
          2.6719043254852295,
          2.6268415451049805,
          2.846773862838745,
          2.7989003658294678,
          2.6919631958007812,
          2.8421294689178467,
          2.9064886569976807
         ],
         "xaxis": "x",
         "y": [
          4.150263786315918,
          4.180450439453125,
          4.219949245452881,
          4.3373613357543945,
          4.178155899047852,
          4.160524845123291,
          4.2968926429748535,
          4.33946418762207,
          3.5829243659973145,
          4.139546871185303,
          4.273943901062012,
          3.9908883571624756,
          3.887378692626953
         ],
         "yaxis": "y"
        },
        {
         "customdata": [
          [
           "Discourses on the First Decade of Titus Livius"
          ],
          [
           "The Prince"
          ],
          [
           "Machiavelli, Volume I"
          ],
          [
           "History of Florence and of the Affairs of Italy: From the Earliest Times to the Death of Lorenzo the Magnificent"
          ],
          [
           "The Prince"
          ]
         ],
         "hovertemplate": "author=Machiavelli, Niccolò<br>proj_0=%{x}<br>proj_1=%{y}<br>title=%{customdata[0]}<extra></extra>",
         "legendgroup": "Machiavelli, Niccolò",
         "marker": {
          "color": "#1CBE4F",
          "symbol": "circle"
         },
         "mode": "markers",
         "name": "Machiavelli, Niccolò",
         "orientation": "v",
         "showlegend": true,
         "type": "scatter",
         "x": [
          9.290446281433105,
          9.343283653259277,
          8.966104507446289,
          9.269185066223145,
          9.268218994140625
         ],
         "xaxis": "x",
         "y": [
          7.4995341300964355,
          7.5440144538879395,
          7.2099127769470215,
          7.523479461669922,
          7.49127197265625
         ],
         "yaxis": "y"
        },
        {
         "customdata": [
          [
           "The Orations of Marcus Tullius Cicero, Volume 4"
          ],
          [
           "Cato Maior de Senectute with Introduction and Notes"
          ],
          [
           "Academica"
          ],
          [
           "Cicero's Tusculan Disputations: Also, Treatises On The Nature Of The Gods, And On The Commonwealth"
          ],
          [
           "The Letters of Cicero, Volume 1: The Whole Extant Correspodence in Chronological Order"
          ],
          [
           "Treatises on Friendship and Old Age"
          ],
          [
           "Letters of Marcus Tullius Cicero"
          ],
          [
           "The Academic Questions, Treatise De Finibus, and Tusculan Disputations, of M.T. Cicero, With a Sketch of the Greek Philosophers Mentioned by Cicero"
          ],
          [
           "Speeches against Catilina"
          ],
          [
           "De Officiis"
          ],
          [
           "Cicero: Letters to Atticus, Vol. 2 of 3"
          ],
          [
           "Cicero: Letters to Atticus, Vol. 3 of 3"
          ],
          [
           "The republic of Cicero: Translated from the Latin; and Accompanied With a Critical and Historical Introduction."
          ],
          [
           "Cicero: Letters to Atticus, Vol. 1 of 3"
          ]
         ],
         "hovertemplate": "author=Cicero, Marcus Tullius<br>proj_0=%{x}<br>proj_1=%{y}<br>title=%{customdata[0]}<extra></extra>",
         "legendgroup": "Cicero, Marcus Tullius",
         "marker": {
          "color": "#C4451C",
          "symbol": "circle"
         },
         "mode": "markers",
         "name": "Cicero, Marcus Tullius",
         "orientation": "v",
         "showlegend": true,
         "type": "scatter",
         "x": [
          3.6749086380004883,
          3.8691658973693848,
          3.863489866256714,
          3.7152516841888428,
          3.7258336544036865,
          3.6724371910095215,
          3.63240647315979,
          3.7309019565582275,
          3.945657730102539,
          3.8135955333709717,
          3.7558131217956543,
          3.7399513721466064,
          3.806795835494995,
          3.7310280799865723
         ],
         "xaxis": "x",
         "y": [
          6.208514213562012,
          6.509975433349609,
          6.51246452331543,
          6.352972030639648,
          6.371268272399902,
          6.22655725479126,
          6.284346580505371,
          6.354115009307861,
          6.591444969177246,
          6.465846061706543,
          6.394313335418701,
          6.4118876457214355,
          6.423043251037598,
          6.386045932769775
         ],
         "yaxis": "y"
        },
        {
         "customdata": [
          [
           "The Life and Adventures of Robinson Crusoe of York, Mariner, Volume 1: With an Account of His Travels Round Three Parts of the Globe,; Written By Himself, in Two Volumes"
          ],
          [
           "From London to Land's End: and Two Letters from the \"Journey through England by a Gentleman\""
          ],
          [
           "The Life and Most Surprising Adventures of Robinson Crusoe, of York, Mariner (1801)"
          ],
          [
           "Memoirs of a Cavalier: A Military Journal of the Wars in Germany, and the Wars in England.; From the Year 1632 to the Year 1648."
          ],
          [
           "The Life and Adventures of Robinson Crusoe (1808)"
          ],
          [
           "The History of the Remarkable Life of John Sheppard: Containing a Particular Account of His Many Robberies and Escapes"
          ],
          [
           "A Vindication of the Press"
          ],
          [
           "Military Memoirs of Capt. George Carleton"
          ],
          [
           "Memoirs of Major Alexander Ramkins (1718)"
          ],
          [
           "The Complete English Tradesman (1839 ed.)"
          ],
          [
           "History of the Plague in London"
          ],
          [
           "Dickory Cronke: The Dumb Philosopher, or, Great Britain's Wonder"
          ],
          [
           "Everybody's Business Is Nobody's Business: Or, Private Abuses, Public Grievances; Exemplified in the Pride, Insolence, and Exorbitant Wages of Our Women, Servants, Footmen, &c."
          ],
          [
           "Atalantis Major"
          ],
          [
           "The True-Born Englishman: A Satire"
          ],
          [
           "The Fortunate Mistress (Parts 1 and 2): or a History of the Life of Mademoiselle de Beleau Known by the Name of the Lady Roxana"
          ],
          [
           "The History of the Devil, As Well Ancient as Modern: In Two Parts"
          ],
          [
           "An Appeal to Honour and Justice, Though It Be of His Worst Enemies.: Being A True Account of His Conduct in Public Affairs."
          ],
          [
           "An Humble Proposal to the People of England, for the Increase of their Trade, and Encouragement of Their Manufactures: Whether the Present Uncertainty of Affairs Issues in Peace or War"
          ],
          [
           "Second Thoughts are Best: Or a Further Improvement of a Late Scheme to Prevent Street Robberies"
          ],
          [
           "Augusta Triumphans: Or, the Way to Make London the Most Flourishing City in the Universe"
          ],
          [
           "A New Voyage Round the World by a Course Never Sailed Before"
          ],
          [
           "A True Relation of the Apparition of one Mrs. Veal: The Next Day after Her Death, to one Mrs. Bargrave, at Canterbury, the 8th of September, 1705; which Apparition Recommends the Perusal of Drelincourt's Book of Consolations against the Fears of Death"
          ],
          [
           "Reasons Against the Succession of the House of Hanover: With an Enquiry How Far the Abdication of King James, Supposing It to Be Legal, Ought to Affect the Person of the Pretender"
          ],
          [
           "A Seasonable Warning and Caution against the Insinuations of Papists and Jacobites in favour of the Pretender: Being a Letter from an Englishman at the Court of Hanover"
          ],
          [
           "An Answer to a Question that Nobody thinks of, viz., But what if the Queen should Die?"
          ],
          [
           "The Lay-Man's Sermon upon the Late Storm: Held forth at an Honest Coffee-House-Conventicle"
          ],
          [
           "And What if the Pretender should Come?: Or Some Considerations of the Advantages and Real Consequences of the Pretender's Possessing the Crown of Great Britain"
          ],
          [
           "The Fortunes and Misfortunes of the Famous Moll Flanders"
          ],
          [
           "A Short Narrative of the Life and Actions of His Grace John, D. of Marlborogh"
          ],
          [
           "A Journal of the Plague Year: Being Observations or Memorials of the Most Remarkable Occurrences, as Well Public as Private, Which Happened in London During the Last Great Visitation in 1665. Written by a Citizen Who Continued All the While in London"
          ],
          [
           "The King of Pirates: Being an Account of the Famous Enterprises of Captain Avery, the Mock King of Madagascar"
          ],
          [
           "A General History of the Pyrates:: from their first rise and settlement in the island of Providence, to the present time"
          ],
          [
           "An Essay Upon Projects"
          ],
          [
           "The Storm. An Essay."
          ],
          [
           "The Storm: or, a Collection of the most Remarkable Casualties and Disasters which Happen'd in the Late Dreadful Tempest, both by Sea and Land"
          ],
          [
           "The Life and Adventures of Robinson Crusoe"
          ],
          [
           "The History and Remarkable Life of the Truly Honourable Colonel Jacque, Commonly Called Colonel Jack"
          ],
          [
           "The Friendly Daemon, or the Generous Apparition: Being a True Narrative of a Miraculous Cure, Newly Perform'd Upon That Famous Deaf and Dumb Gentleman, Dr. Duncan Campbel, by a Familiar Spirit That Appear'd to Him in a White Surplice, Like a Cathedral Singing Boy"
          ],
          [
           "The Further Adventures of Robinson Crusoe"
          ],
          [
           "The History of the Pyrates. Vol. II.: Containing the lives of Captain Misson, Captain Bowen, Captain Kidd, Captain Tew, Captain Halsey, Captain White, Captain Condent, Captain Bellamy, Captain Fly, Captain Howard, Captain Lewis, Captain Cornelius, Captain Williams, Captain Burgess, Captain North, and their several crews"
          ],
          [
           "The Life, Adventures & Piracies of the Famous Captain Singleton"
          ],
          [
           "Robinson Crusoe, Told to the Children by John Lang"
          ],
          [
           "The Consolidator; or, Memoirs of Sundry Transactions from the World in the Moon"
          ],
          [
           "Tour through the Eastern Counties of England, 1722"
          ]
         ],
         "hovertemplate": "author=Defoe, Daniel<br>proj_0=%{x}<br>proj_1=%{y}<br>title=%{customdata[0]}<extra></extra>",
         "legendgroup": "Defoe, Daniel",
         "marker": {
          "color": "#DEA0FD",
          "symbol": "circle"
         },
         "mode": "markers",
         "name": "Defoe, Daniel",
         "orientation": "v",
         "showlegend": true,
         "type": "scatter",
         "x": [
          1.6735727787017822,
          2.366786003112793,
          1.8322381973266602,
          2.049455165863037,
          1.629456639289856,
          2.6216506958007812,
          2.4271738529205322,
          1.9594898223876953,
          2.1367571353912354,
          2.2082438468933105,
          1.7222658395767212,
          3.044342279434204,
          2.988298177719116,
          2.4642574787139893,
          2.7084367275238037,
          2.223458766937256,
          2.390418291091919,
          2.4151320457458496,
          2.4808788299560547,
          2.8394906520843506,
          2.7966256141662598,
          1.9530718326568604,
          3.1692347526550293,
          2.603253126144409,
          2.9755663871765137,
          2.5749151706695557,
          2.7359390258789062,
          2.73976731300354,
          1.9835455417633057,
          2.7824604511260986,
          1.762902855873108,
          2.167254686355591,
          2.006932020187378,
          2.108516216278076,
          3.3022916316986084,
          2.107208251953125,
          1.7673434019088745,
          2.0981175899505615,
          2.536623477935791,
          1.7545385360717773,
          2.02892804145813,
          2.118776559829712,
          2.6118993759155273,
          1.927588701248169,
          2.0169808864593506
         ],
         "xaxis": "x",
         "y": [
          -0.1390966773033142,
          -0.011419652961194515,
          -0.5065624713897705,
          -0.08617863059043884,
          -0.3484988510608673,
          0.8790194988250732,
          0.7838727831840515,
          -0.026913801208138466,
          0.3578531742095947,
          -0.3686958849430084,
          0.010670949704945087,
          0.5276731848716736,
          0.8212004899978638,
          0.8293821811676025,
          0.687612771987915,
          -0.16001296043395996,
          0.6875120997428894,
          0.6892353296279907,
          0.7976755499839783,
          0.9388254284858704,
          0.6927427053451538,
          -0.3282110095024109,
          1.3960639238357544,
          0.9483988881111145,
          1.2097641229629517,
          0.8858245611190796,
          0.9175125956535339,
          0.9487242698669434,
          -0.42649462819099426,
          0.8585289120674133,
          -0.014257636852562428,
          0.285087525844574,
          0.08069836348295212,
          -0.16718578338623047,
          1.6365042924880981,
          -0.21491236984729767,
          -0.0849471166729927,
          -0.2892065644264221,
          0.8659468293190002,
          -0.4669746160507202,
          -0.1469271183013916,
          -0.2077038586139679,
          0.9363968372344971,
          0.07607219368219376,
          0.17753323912620544
         ],
         "yaxis": "y"
        },
        {
         "customdata": [
          [
           "The Count of Monte Cristo, Illustrated"
          ],
          [
           "The Three Musketeers"
          ],
          [
           "Ten Years Later"
          ],
          [
           "Twenty Years After"
          ],
          [
           "The Forty-Five Guardsmen"
          ],
          [
           "Camille (La Dame aux Camilias)"
          ],
          [
           "The Vicomte de Bragelonne; Or, Ten Years Later: Being the completion of \"The Three Musketeers\" and \"Twenty Years After\""
          ],
          [
           "The Queen's Necklace"
          ],
          [
           "The Vicomte De Bragelonne"
          ],
          [
           "Ten Years Later"
          ],
          [
           "Louise de la Valliere"
          ],
          [
           "The Regent's Daughter"
          ],
          [
           "The Conspirators: The Chevalier d'Harmental"
          ],
          [
           "The Borgias: Celebrated Crimes"
          ],
          [
           "Cenci: Celebrated Crimes"
          ],
          [
           "Massacres of the South (1551-1815): Celebrated Crimes"
          ],
          [
           "Mary Stuart: Celebrated Crimes"
          ],
          [
           "Urbain Grandier: Celebrated Crimes"
          ],
          [
           "Derues: Celebrated Crimes"
          ],
          [
           "La Constantin: Celebrated Crimes"
          ],
          [
           "Joan of Naples: Celebrated Crimes"
          ],
          [
           "Man in the Iron Mask (an Essay)"
          ],
          [
           "Martin Guerre: Celebrated Crimes"
          ],
          [
           "Ali Pacha: Celebrated Crimes"
          ],
          [
           "Murat: Celebrated Crimes"
          ],
          [
           "Marquise Brinvillier: Celebrated Crimes"
          ],
          [
           "Marquise De Ganges: Celebrated Crimes"
          ],
          [
           "The Man in the Iron Mask"
          ],
          [
           "Celebrated Crimes (Complete)"
          ],
          [
           "Marguerite de Valois"
          ],
          [
           "The Prussian Terror"
          ],
          [
           "The Corsican Brothers"
          ],
          [
           "The Hero of the People: A Historical Romance of Love, Liberty and Loyalty"
          ],
          [
           "The Mesmerist's Victim"
          ],
          [
           "The Countess of Charny; or, The Execution of King Louis XVI"
          ],
          [
           "The Royal Life Guard; or, the flight of the royal family.: A historical romance of the suppression of the French monarchy"
          ],
          [
           "Taking the Bastile; Or, Pitou the Peasant: A Historical Story of the Great French Revolution"
          ],
          [
           "Balsamo, the Magician; or, The Memoirs of a Physician"
          ],
          [
           "My Memoirs, Vol. I, 1802 to 1821"
          ],
          [
           "My Memoirs, Vol. II, 1822 to 1825"
          ],
          [
           "My Memoirs, Vol. III, 1826 to 1830"
          ],
          [
           "My Memoirs, Vol. V, 1831 to 1832"
          ],
          [
           "The Wolf-Leader"
          ],
          [
           "My Memoirs, Vol. VI, 1832 to 1833"
          ],
          [
           "The War of Women, Volume 1"
          ],
          [
           "The Whites and the Blues"
          ],
          [
           "Ascanio"
          ],
          [
           "The Companions of Jehu"
          ],
          [
           "Chicot the Jester"
          ],
          [
           "The Black Tulip"
          ]
         ],
         "hovertemplate": "author=Dumas, Alexandre<br>proj_0=%{x}<br>proj_1=%{y}<br>title=%{customdata[0]}<extra></extra>",
         "legendgroup": "Dumas, Alexandre",
         "marker": {
          "color": "#FE00FA",
          "symbol": "circle"
         },
         "mode": "markers",
         "name": "Dumas, Alexandre",
         "orientation": "v",
         "showlegend": true,
         "type": "scatter",
         "x": [
          10.24852466583252,
          10.058691024780273,
          9.946269035339355,
          10.119839668273926,
          10.407761573791504,
          10.072955131530762,
          10.0263090133667,
          10.35076904296875,
          10.006379127502441,
          10.010666847229004,
          10.081029891967773,
          10.048730850219727,
          10.209585189819336,
          9.680522918701172,
          9.602583885192871,
          9.757588386535645,
          9.761595726013184,
          9.647066116333008,
          9.528365135192871,
          9.729720115661621,
          9.636872291564941,
          9.687714576721191,
          9.566614151000977,
          9.708205223083496,
          9.561861038208008,
          9.749510765075684,
          9.686694145202637,
          10.011507987976074,
          9.833904266357422,
          10.274191856384277,
          10.496739387512207,
          10.012619972229004,
          10.256027221679688,
          10.330845832824707,
          10.486647605895996,
          10.552558898925781,
          10.473588943481445,
          10.447551727294922,
          10.375229835510254,
          10.255782127380371,
          10.116312980651855,
          10.382964134216309,
          10.372614860534668,
          10.43533706665039,
          10.434165954589844,
          10.176497459411621,
          10.587743759155273,
          10.263362884521484,
          10.287568092346191,
          10.07483959197998
         ],
         "xaxis": "x",
         "y": [
          8.197310447692871,
          7.970517158508301,
          9.005232810974121,
          7.672823429107666,
          8.12606430053711,
          7.628722667694092,
          9.05295467376709,
          8.414796829223633,
          8.9752836227417,
          8.910635948181152,
          8.90805721282959,
          7.784924507141113,
          7.767313480377197,
          8.583585739135742,
          7.706336498260498,
          8.632099151611328,
          8.581618309020996,
          8.095744132995605,
          8.113731384277344,
          7.894261360168457,
          8.218292236328125,
          7.714458465576172,
          7.819679260253906,
          8.411235809326172,
          7.752202987670898,
          7.838881969451904,
          7.7484588623046875,
          8.98465347290039,
          8.847075462341309,
          7.841983795166016,
          8.12272834777832,
          7.710665702819824,
          8.628314971923828,
          8.31991195678711,
          8.221174240112305,
          8.250364303588867,
          8.177851676940918,
          8.324210166931152,
          8.37524127960205,
          8.457036018371582,
          8.956075668334961,
          8.555717468261719,
          8.014235496520996,
          8.557256698608398,
          8.09208869934082,
          8.66086196899414,
          8.30508804321289,
          8.410439491271973,
          7.976446151733398,
          7.703770160675049
         ],
         "yaxis": "y"
        },
        {
         "customdata": [
          [
           "Apology, Crito, and Phaedo of Socrates"
          ],
          [
           "The Republic"
          ],
          [
           "The Republic"
          ],
          [
           "Critias"
          ],
          [
           "Timaeus"
          ],
          [
           "Lysis"
          ],
          [
           "Charmides"
          ],
          [
           "Laches"
          ],
          [
           "Protagoras"
          ],
          [
           "Euthydemus"
          ],
          [
           "Symposium"
          ],
          [
           "Cratylus"
          ],
          [
           "Ion"
          ],
          [
           "Phaedrus"
          ],
          [
           "Euthyphro"
          ],
          [
           "Meno"
          ],
          [
           "Apology"
          ],
          [
           "Crito"
          ],
          [
           "Phaedo"
          ],
          [
           "Gorgias"
          ],
          [
           "Lesser Hippias"
          ],
          [
           "Alcibiades I"
          ],
          [
           "Alcibiades II"
          ],
          [
           "Eryxias"
          ],
          [
           "Menexenus"
          ],
          [
           "Parmenides"
          ],
          [
           "Theaetetus"
          ],
          [
           "Sophist"
          ],
          [
           "Statesman"
          ],
          [
           "Philebus"
          ],
          [
           "Laws"
          ],
          [
           "The Republic of Plato"
          ]
         ],
         "hovertemplate": "author=Plato<br>proj_0=%{x}<br>proj_1=%{y}<br>title=%{customdata[0]}<extra></extra>",
         "legendgroup": "Plato",
         "marker": {
          "color": "#325A9B",
          "symbol": "circle"
         },
         "mode": "markers",
         "name": "Plato",
         "orientation": "v",
         "showlegend": true,
         "type": "scatter",
         "x": [
          6.63523530960083,
          7.008002281188965,
          7.002382755279541,
          6.2331929206848145,
          6.801102638244629,
          6.201517105102539,
          6.656126499176025,
          5.784639358520508,
          6.482256889343262,
          6.215628147125244,
          6.396885871887207,
          6.310275554656982,
          5.695658206939697,
          6.644987106323242,
          5.613258361816406,
          6.0196709632873535,
          6.343131065368652,
          5.841579437255859,
          6.7037272453308105,
          6.318168640136719,
          5.720084190368652,
          5.699280261993408,
          5.849797248840332,
          5.822968482971191,
          6.310624599456787,
          6.693656921386719,
          6.502280235290527,
          6.269747734069824,
          6.288418292999268,
          6.549383640289307,
          7.324417591094971,
          6.919770240783691
         ],
         "xaxis": "x",
         "y": [
          2.0972607135772705,
          2.0356833934783936,
          2.100270986557007,
          2.012416124343872,
          2.0773112773895264,
          2.3410723209381104,
          2.224602460861206,
          2.1350648403167725,
          2.2476062774658203,
          2.315520763397217,
          2.322593927383423,
          2.2731611728668213,
          2.125673532485962,
          1.9368537664413452,
          2.0414514541625977,
          1.9428319931030273,
          1.9688432216644287,
          2.1653923988342285,
          2.189803123474121,
          1.90798020362854,
          2.1084580421447754,
          2.084667682647705,
          2.255093812942505,
          2.2454357147216797,
          2.168386220932007,
          2.211184024810791,
          1.915906310081482,
          2.080587863922119,
          1.9434906244277954,
          1.9938879013061523,
          2.1722617149353027,
          2.0822978019714355
         ],
         "yaxis": "y"
        },
        {
         "customdata": [
          [
           "London to Ladysmith via Pretoria"
          ],
          [
           "Liberalism and the Social Problem"
          ],
          [
           "The Dwelling Place of Light — Volume 1"
          ],
          [
           "The Dwelling Place of Light — Complete"
          ],
          [
           "Mr. Crewe's Career — Volume 1"
          ],
          [
           "Mr. Crewe's Career — Volume 3"
          ],
          [
           "Mr. Crewe's Career — Complete"
          ],
          [
           "A Far Country — Volume 2"
          ],
          [
           "A Far Country — Volume 3"
          ],
          [
           "A Far Country — Complete"
          ],
          [
           "Coniston — Volume 01"
          ],
          [
           "Coniston — Volume 02"
          ],
          [
           "Coniston — Volume 03"
          ],
          [
           "Coniston — Volume 04"
          ],
          [
           "Coniston — Complete"
          ],
          [
           "The Crossing"
          ],
          [
           "Ian Hamilton's March"
          ],
          [
           "Lord Randolph Churchill"
          ],
          [
           "My African Journey"
          ],
          [
           "The River War: An Account of the Reconquest of the Sudan"
          ],
          [
           "Savrola: A Tale of the Revolution in Laurania"
          ],
          [
           "The Inside of the Cup — Volume 01"
          ],
          [
           "The Inside of the Cup — Volume 02"
          ],
          [
           "The Inside of the Cup — Volume 03"
          ],
          [
           "The Inside of the Cup — Volume 04"
          ],
          [
           "The Inside of the Cup — Volume 07"
          ],
          [
           "The Inside of the Cup — Complete"
          ],
          [
           "Richard Carvel — Volume 02"
          ],
          [
           "Richard Carvel — Volume 07"
          ],
          [
           "Richard Carvel — Complete"
          ],
          [
           "A Modern Chronicle — Volume 01"
          ],
          [
           "A Modern Chronicle — Volume 02"
          ],
          [
           "A Modern Chronicle — Complete"
          ],
          [
           "The Celebrity, Volume 01"
          ],
          [
           "The Celebrity, Volume 04"
          ],
          [
           "The Celebrity, Complete"
          ],
          [
           "The Crisis — Volume 01"
          ],
          [
           "The Crisis — Volume 02"
          ],
          [
           "The Crisis — Volume 03"
          ],
          [
           "The Crisis — Volume 04"
          ],
          [
           "The Crisis — Volume 05"
          ],
          [
           "The Crisis — Volume 06"
          ],
          [
           "The Crisis — Volume 07"
          ],
          [
           "The Crisis — Volume 08"
          ],
          [
           "The Crisis — Complete"
          ],
          [
           "Dr. Jonathan"
          ],
          [
           "A Traveller in War-Time"
          ],
          [
           "An essay on the American contribution and the democratic idea"
          ],
          [
           "The World Crisis, Volume 1 (of 6)"
          ],
          [
           "Mr. Keegan's Elopement"
          ]
         ],
         "hovertemplate": "author=Churchill, Winston<br>proj_0=%{x}<br>proj_1=%{y}<br>title=%{customdata[0]}<extra></extra>",
         "legendgroup": "Churchill, Winston",
         "marker": {
          "color": "#FEAF16",
          "symbol": "circle"
         },
         "mode": "markers",
         "name": "Churchill, Winston",
         "orientation": "v",
         "showlegend": true,
         "type": "scatter",
         "x": [
          1.1084877252578735,
          1.2981144189834595,
          0.7576115131378174,
          0.8581477403640747,
          0.6894910335540771,
          0.7697768211364746,
          0.626735508441925,
          0.6335274577140808,
          0.5263622999191284,
          0.5612001419067383,
          0.7237375378608704,
          0.7670555710792542,
          0.6315922737121582,
          0.6710734963417053,
          0.6162611246109009,
          0.9701509475708008,
          1.40251886844635,
          1.3390722274780273,
          1.3161098957061768,
          1.295516014099121,
          1.136095643043518,
          1.1423898935317993,
          1.163408875465393,
          1.1356127262115479,
          1.2216453552246094,
          1.3075449466705322,
          1.1040562391281128,
          0.9781374931335449,
          1.0371962785720825,
          0.9773846864700317,
          1.2528456449508667,
          1.2687313556671143,
          1.1582852602005005,
          1.3885424137115479,
          1.3780734539031982,
          1.3899189233779907,
          1.202976107597351,
          1.2330421209335327,
          0.9187899231910706,
          0.9380989074707031,
          0.8839432597160339,
          0.9018115401268005,
          1.2080763578414917,
          1.1972947120666504,
          0.8673602938652039,
          1.7630800008773804,
          1.2314008474349976,
          1.5798362493515015,
          1.0647796392440796,
          1.6146697998046875
         ],
         "xaxis": "x",
         "y": [
          5.599142551422119,
          5.507430076599121,
          6.474615097045898,
          6.524392604827881,
          6.470549583435059,
          6.542784214019775,
          6.423480033874512,
          5.917192459106445,
          6.0591654777526855,
          6.089309215545654,
          6.300037860870361,
          6.302910804748535,
          6.258276462554932,
          6.2239179611206055,
          6.253872394561768,
          5.576919078826904,
          6.101297378540039,
          5.352977275848389,
          5.397533416748047,
          5.463405609130859,
          5.760284423828125,
          6.359738349914551,
          6.475930690765381,
          6.317582130432129,
          6.335338592529297,
          6.330953598022461,
          6.508708953857422,
          6.435420036315918,
          6.341678619384766,
          6.438673496246338,
          5.866060256958008,
          5.9694437980651855,
          5.941481590270996,
          5.958525657653809,
          6.0472259521484375,
          6.078252792358398,
          6.327121257781982,
          6.090206146240234,
          5.9244279861450195,
          5.910872936248779,
          6.215576171875,
          5.872801780700684,
          6.12900447845459,
          5.65364408493042,
          5.984205722808838,
          5.2215046882629395,
          5.5699968338012695,
          5.385936737060547,
          5.769351482391357,
          5.2873663902282715
         ],
         "yaxis": "y"
        },
        {
         "customdata": [
          [
           "The Iliad of Homer: Translated into English Blank Verse by William Cowper"
          ],
          [
           "The Odyssey: Rendered into English prose for the use of those who cannot read the original"
          ],
          [
           "The Odyssey of Homer"
          ],
          [
           "The Iliad"
          ],
          [
           "The Iliad"
          ],
          [
           "The Odyssey of Homer"
          ],
          [
           "Odysseus, the Hero of Ithaca: Adapted from the Third Book of the Primary Schools of Athens, Greece"
          ],
          [
           "The Iliad"
          ],
          [
           "The Odyssey"
          ],
          [
           "The Adventures of Ulysses the Wanderer"
          ],
          [
           "The Odysseys of Homer, together with the shorter poems"
          ],
          [
           "The Iliads of Homer: Translated according to the Greek"
          ],
          [
           "The Iliad"
          ],
          [
           "The Iliad"
          ]
         ],
         "hovertemplate": "author=Homer<br>proj_0=%{x}<br>proj_1=%{y}<br>title=%{customdata[0]}<extra></extra>",
         "legendgroup": "Homer",
         "marker": {
          "color": "#F8A19F",
          "symbol": "circle"
         },
         "mode": "markers",
         "name": "Homer",
         "orientation": "v",
         "showlegend": true,
         "type": "scatter",
         "x": [
          6.412468910217285,
          6.245299816131592,
          6.2731523513793945,
          6.413685321807861,
          6.399707794189453,
          6.32045841217041,
          5.754056930541992,
          6.386974811553955,
          6.3485918045043945,
          5.7912397384643555,
          6.309362888336182,
          6.323060512542725,
          6.414727687835693,
          6.329826831817627
         ],
         "xaxis": "x",
         "y": [
          4.155766010284424,
          3.986222267150879,
          3.9979379177093506,
          4.128627300262451,
          4.1385321617126465,
          4.0556416511535645,
          3.0105226039886475,
          4.121750831604004,
          4.0851335525512695,
          2.903409004211426,
          4.051686763763428,
          4.059506893157959,
          4.157585144042969,
          4.068284511566162
         ],
         "yaxis": "y"
        },
        {
         "customdata": [
          [
           "The Declaration of Independence of The United States of America"
          ],
          [
           "Memoir, Correspondence, and Miscellanies, From the Papers of Thomas Jefferson, Volume 1"
          ],
          [
           "Memoir, Correspondence, and Miscellanies, From the Papers of Thomas Jefferson, Volume 2"
          ],
          [
           "Memoir, Correspondence, and Miscellanies, From the Papers of Thomas Jefferson, Volume 3"
          ],
          [
           "Memoir, Correspondence, and Miscellanies, From the Papers of Thomas Jefferson, Volume 4"
          ],
          [
           "The Declaration of Independence of the United States of America"
          ],
          [
           "The Writings of Thomas Jefferson: Library Edition - Vol. 6 (of 20)"
          ],
          [
           "United States Declaration of Independence"
          ],
          [
           "The Writings of Thomas Jefferson, Vol. 1 (of 9): Being His Autobiography, Correspondence, Reports, Messages, Addresses, and Other Writings, Official and Private"
          ],
          [
           "The Writings of Thomas Jefferson, Vol. 2 (of 9): Being His Autobiography, Correspondence, Reports, Messages, Addresses, and Other Writings, Official and Private"
          ],
          [
           "State of the Union Addresses"
          ],
          [
           "The Writings of Thomas Jefferson, Vol. 3 (of 9): Being His Autobiography, Correspondence, Reports, Messages, Addresses, and Other Writings, Official and Private"
          ],
          [
           "The Writings of Thomas Jefferson, Vol. 4 (of 9): Being His Autobiography, Correspondence, Reports, Messages, Addresses, and Other Writings, Official and Private"
          ],
          [
           "The Writings of Thomas Jefferson, Vol. 5 (of 9): Being His Autobiography, Correspondence, Reports, Messages, Addresses, and Other Writings, Official and Private"
          ],
          [
           "The Writings of Thomas Jefferson, Vol. 6 (of 9): Being His Autobiography, Correspondence, Reports, Messages, Addresses, and Other Writings, Official and Private"
          ],
          [
           "The Writings of Thomas Jefferson, Vol. 7 (of 9): Being His Autobiography, Correspondence, Reports, Messages, Addresses, and Other Writings, Official and Private"
          ],
          [
           "The Writings of Thomas Jefferson, Vol. 8 (of 9): Being His Autobiography, Correspondence, Reports, Messages, Addresses, and Other Writings, Official and Private"
          ],
          [
           "The Writings of Thomas Jefferson, Vol. 9 (of 9): Being His Autobiography, Correspondence, Reports, Messages, Addresses, and Other Writings, Official and Private"
          ]
         ],
         "hovertemplate": "author=Jefferson, Thomas<br>proj_0=%{x}<br>proj_1=%{y}<br>title=%{customdata[0]}<extra></extra>",
         "legendgroup": "Jefferson, Thomas",
         "marker": {
          "color": "#90AD1C",
          "symbol": "circle"
         },
         "mode": "markers",
         "name": "Jefferson, Thomas",
         "orientation": "v",
         "showlegend": true,
         "type": "scatter",
         "x": [
          3.9285366535186768,
          6.917850017547607,
          6.855662822723389,
          6.791746616363525,
          6.869089603424072,
          3.9701039791107178,
          6.871636867523193,
          3.880586624145508,
          6.859467506408691,
          6.86453104019165,
          4.134829998016357,
          6.861384868621826,
          6.878477096557617,
          6.802127361297607,
          6.800240993499756,
          6.812731742858887,
          6.704713821411133,
          6.9124627113342285
         ],
         "xaxis": "x",
         "y": [
          0.8929802179336548,
          -0.9380372166633606,
          -0.9478264451026917,
          -0.8420690298080444,
          -0.9068037867546082,
          0.925288200378418,
          -0.8902990818023682,
          1.1750656366348267,
          -0.9082285165786743,
          -0.952927827835083,
          0.15382374823093414,
          -0.8271009922027588,
          -0.9273636937141418,
          -0.8871374130249023,
          -0.8220077753067017,
          -0.9495429992675781,
          -0.7627350687980652,
          -0.9553846716880798
         ],
         "yaxis": "y"
        },
        {
         "customdata": [
          [
           "Crome Yellow"
          ],
          [
           "The Defeat of Youth, and Other Poems"
          ],
          [
           "Mortal Coils"
          ],
          [
           "The Burning Wheel"
          ],
          [
           "Leda"
          ],
          [
           "Limbo"
          ],
          [
           "Antic Hay"
          ],
          [
           "On the Margin: Notes and Essays"
          ],
          [
           "Jonah: Christmas 1917"
          ],
          [
           "Little Mexican & Other Stories"
          ],
          [
           "Selected Poems"
          ]
         ],
         "hovertemplate": "author=Huxley, Aldous<br>proj_0=%{x}<br>proj_1=%{y}<br>title=%{customdata[0]}<extra></extra>",
         "legendgroup": "Huxley, Aldous",
         "marker": {
          "color": "#F6222E",
          "symbol": "circle"
         },
         "mode": "markers",
         "name": "Huxley, Aldous",
         "orientation": "v",
         "showlegend": true,
         "type": "scatter",
         "x": [
          4.419694423675537,
          4.498459815979004,
          4.4694013595581055,
          4.242853164672852,
          4.355700969696045,
          4.509259223937988,
          4.458430290222168,
          4.608128547668457,
          4.02924108505249,
          4.446644306182861,
          4.447845935821533
         ],
         "xaxis": "x",
         "y": [
          0.6209254860877991,
          0.36796101927757263,
          0.4921482801437378,
          0.7979442477226257,
          0.523667573928833,
          0.36767464876174927,
          0.3808644413948059,
          0.2721629738807678,
          0.8438708186149597,
          0.24014928936958313,
          0.4626051187515259
         ],
         "yaxis": "y"
        },
        {
         "customdata": [
          [
           "Tartuffe; Or, The Hypocrite"
          ],
          [
           "Amphitryon"
          ],
          [
           "The Flying Doctor: (Le Médecin Volant)"
          ],
          [
           "The Jealousy of le Barbouillé: (La Jalousie du Barbouillé)"
          ],
          [
           "Tartuffe; Or, The Hypocrite"
          ],
          [
           "The Middle-Class Gentleman"
          ],
          [
           "The Pretentious Young Ladies"
          ],
          [
           "The Blunderer"
          ],
          [
           "The Love-Tiff"
          ],
          [
           "The Bores: A Comedy in Three Acts"
          ],
          [
           "Sganarelle, or, the Self-Deceived Husband"
          ],
          [
           "Don Garcia of Navarre; Or, the Jealous Prince. A Heroic Comedy in Five Acts."
          ],
          [
           "The School for Husbands"
          ],
          [
           "The Miser"
          ],
          [
           "Monsieur De Pourceaugnac"
          ],
          [
           "The Magnificent Lovers (Les Amants magnifiques)"
          ],
          [
           "The Shopkeeper Turned Gentleman"
          ],
          [
           "The Imaginary Invalid"
          ]
         ],
         "hovertemplate": "author=Molière<br>proj_0=%{x}<br>proj_1=%{y}<br>title=%{customdata[0]}<extra></extra>",
         "legendgroup": "Molière",
         "marker": {
          "color": "#1CFFCE",
          "symbol": "circle"
         },
         "mode": "markers",
         "name": "Molière",
         "orientation": "v",
         "showlegend": true,
         "type": "scatter",
         "x": [
          4.547773361206055,
          4.372865200042725,
          4.156214714050293,
          4.329115867614746,
          4.4463605880737305,
          4.3401947021484375,
          4.380317687988281,
          4.554239273071289,
          4.596817970275879,
          4.561837196350098,
          4.491866588592529,
          4.588947296142578,
          4.395554065704346,
          4.395659446716309,
          4.311561584472656,
          4.346436500549316,
          4.452392578125,
          4.376506805419922
         ],
         "xaxis": "x",
         "y": [
          1.7673696279525757,
          1.532642126083374,
          1.600415587425232,
          1.5882432460784912,
          1.5618867874145508,
          1.6118131875991821,
          1.5536599159240723,
          1.8110274076461792,
          1.827697515487671,
          1.786694884300232,
          1.748368740081787,
          1.8373041152954102,
          1.6915192604064941,
          1.4882476329803467,
          1.4772158861160278,
          1.4835426807403564,
          1.6906321048736572,
          1.5671576261520386
         ],
         "yaxis": "y"
        },
        {
         "customdata": [
          [
           "Beyond Lies the Wub"
          ],
          [
           "Beyond the Door"
          ],
          [
           "The Crystal Crypt"
          ],
          [
           "The Defenders"
          ],
          [
           "The Gun"
          ],
          [
           "The Skull"
          ],
          [
           "The Eyes Have It"
          ],
          [
           "Second Variety"
          ],
          [
           "The Variable Man"
          ],
          [
           "Mr. Spaceship"
          ],
          [
           "Piper in the Woods"
          ],
          [
           "Tony and the Beetles"
          ],
          [
           "The Hanging Stranger"
          ],
          [
           "Prize ship"
          ]
         ],
         "hovertemplate": "author=Dick, Philip K.<br>proj_0=%{x}<br>proj_1=%{y}<br>title=%{customdata[0]}<extra></extra>",
         "legendgroup": "Dick, Philip K.",
         "marker": {
          "color": "#2ED9FF",
          "symbol": "circle"
         },
         "mode": "markers",
         "name": "Dick, Philip K.",
         "orientation": "v",
         "showlegend": true,
         "type": "scatter",
         "x": [
          3.51204514503479,
          3.4317851066589355,
          3.2037014961242676,
          3.3262336254119873,
          3.4706828594207764,
          3.2562246322631836,
          3.3915212154388428,
          3.12079119682312,
          3.231736183166504,
          3.376875638961792,
          3.276334047317505,
          3.491894245147705,
          3.466209650039673,
          3.1880431175231934
         ],
         "xaxis": "x",
         "y": [
          3.0057859420776367,
          2.8630800247192383,
          3.312014102935791,
          3.3797481060028076,
          3.13850474357605,
          3.3449714183807373,
          2.761605739593506,
          3.295297145843506,
          3.3768601417541504,
          3.2196691036224365,
          3.2979514598846436,
          3.065971612930298,
          3.168898105621338,
          3.3500444889068604
         ],
         "yaxis": "y"
        },
        {
         "customdata": [
          [
           "Writings in the United Amateur, 1915-1922"
          ],
          [
           "The Shunned House"
          ],
          [
           "The Dunwich Horror"
          ],
          [
           "The colour out of space"
          ],
          [
           "The call of Cthulhu"
          ],
          [
           "He"
          ],
          [
           "The festival"
          ],
          [
           "The lurking fear"
          ]
         ],
         "hovertemplate": "author=Lovecraft, H. P. (Howard Phillips)<br>proj_0=%{x}<br>proj_1=%{y}<br>title=%{customdata[0]}<extra></extra>",
         "legendgroup": "Lovecraft, H. P. (Howard Phillips)",
         "marker": {
          "color": "#B10DA1",
          "symbol": "circle"
         },
         "mode": "markers",
         "name": "Lovecraft, H. P. (Howard Phillips)",
         "orientation": "v",
         "showlegend": true,
         "type": "scatter",
         "x": [
          2.780900478363037,
          3.0437519550323486,
          3.114441394805908,
          3.181790590286255,
          3.0358824729919434,
          3.1713500022888184,
          3.2078192234039307,
          3.189748764038086
         ],
         "xaxis": "x",
         "y": [
          1.979383111000061,
          2.050098180770874,
          1.9603898525238037,
          1.9890673160552979,
          2.055781602859497,
          1.929911494255066,
          1.958914875984192,
          1.9588576555252075
         ],
         "yaxis": "y"
        },
        {
         "customdata": [
          [
           "Lambda"
          ],
          [
           "Deathway"
          ]
         ],
         "hovertemplate": "author=Umer, Tomo<br>proj_0=%{x}<br>proj_1=%{y}<br>title=%{customdata[0]}<extra></extra>",
         "legendgroup": "Umer, Tomo",
         "marker": {
          "color": "#C075A6",
          "symbol": "circle"
         },
         "mode": "markers",
         "name": "Umer, Tomo",
         "orientation": "v",
         "showlegend": true,
         "type": "scatter",
         "x": [
          1.8426836729049683,
          2.3947951793670654
         ],
         "xaxis": "x",
         "y": [
          3.2805588245391846,
          2.954535484313965
         ],
         "yaxis": "y"
        }
       ],
       "layout": {
        "height": 800,
        "legend": {
         "title": {
          "text": "author"
         },
         "tracegroupgap": 0
        },
        "margin": {
         "t": 60
        },
        "shapes": [
         {
          "line": {
           "color": "LightSeaGreen"
          },
          "type": "circle",
          "x0": 1.222141981124878,
          "x1": 2.4632253646850586,
          "xref": "x",
          "y0": 2.6600170135498047,
          "y1": 3.9011006355285645,
          "yref": "y"
         },
         {
          "line": {
           "color": "LightSeaGreen"
          },
          "type": "circle",
          "x0": 1.7742533683776855,
          "x1": 3.0153369903564453,
          "xref": "x",
          "y0": 2.333993673324585,
          "y1": 3.5750772953033447,
          "yref": "y"
         }
        ],
        "template": {
         "data": {
          "bar": [
           {
            "error_x": {
             "color": "#2a3f5f"
            },
            "error_y": {
             "color": "#2a3f5f"
            },
            "marker": {
             "line": {
              "color": "#E5ECF6",
              "width": 0.5
             },
             "pattern": {
              "fillmode": "overlay",
              "size": 10,
              "solidity": 0.2
             }
            },
            "type": "bar"
           }
          ],
          "barpolar": [
           {
            "marker": {
             "line": {
              "color": "#E5ECF6",
              "width": 0.5
             },
             "pattern": {
              "fillmode": "overlay",
              "size": 10,
              "solidity": 0.2
             }
            },
            "type": "barpolar"
           }
          ],
          "carpet": [
           {
            "aaxis": {
             "endlinecolor": "#2a3f5f",
             "gridcolor": "white",
             "linecolor": "white",
             "minorgridcolor": "white",
             "startlinecolor": "#2a3f5f"
            },
            "baxis": {
             "endlinecolor": "#2a3f5f",
             "gridcolor": "white",
             "linecolor": "white",
             "minorgridcolor": "white",
             "startlinecolor": "#2a3f5f"
            },
            "type": "carpet"
           }
          ],
          "choropleth": [
           {
            "colorbar": {
             "outlinewidth": 0,
             "ticks": ""
            },
            "type": "choropleth"
           }
          ],
          "contour": [
           {
            "colorbar": {
             "outlinewidth": 0,
             "ticks": ""
            },
            "colorscale": [
             [
              0,
              "#0d0887"
             ],
             [
              0.1111111111111111,
              "#46039f"
             ],
             [
              0.2222222222222222,
              "#7201a8"
             ],
             [
              0.3333333333333333,
              "#9c179e"
             ],
             [
              0.4444444444444444,
              "#bd3786"
             ],
             [
              0.5555555555555556,
              "#d8576b"
             ],
             [
              0.6666666666666666,
              "#ed7953"
             ],
             [
              0.7777777777777778,
              "#fb9f3a"
             ],
             [
              0.8888888888888888,
              "#fdca26"
             ],
             [
              1,
              "#f0f921"
             ]
            ],
            "type": "contour"
           }
          ],
          "contourcarpet": [
           {
            "colorbar": {
             "outlinewidth": 0,
             "ticks": ""
            },
            "type": "contourcarpet"
           }
          ],
          "heatmap": [
           {
            "colorbar": {
             "outlinewidth": 0,
             "ticks": ""
            },
            "colorscale": [
             [
              0,
              "#0d0887"
             ],
             [
              0.1111111111111111,
              "#46039f"
             ],
             [
              0.2222222222222222,
              "#7201a8"
             ],
             [
              0.3333333333333333,
              "#9c179e"
             ],
             [
              0.4444444444444444,
              "#bd3786"
             ],
             [
              0.5555555555555556,
              "#d8576b"
             ],
             [
              0.6666666666666666,
              "#ed7953"
             ],
             [
              0.7777777777777778,
              "#fb9f3a"
             ],
             [
              0.8888888888888888,
              "#fdca26"
             ],
             [
              1,
              "#f0f921"
             ]
            ],
            "type": "heatmap"
           }
          ],
          "heatmapgl": [
           {
            "colorbar": {
             "outlinewidth": 0,
             "ticks": ""
            },
            "colorscale": [
             [
              0,
              "#0d0887"
             ],
             [
              0.1111111111111111,
              "#46039f"
             ],
             [
              0.2222222222222222,
              "#7201a8"
             ],
             [
              0.3333333333333333,
              "#9c179e"
             ],
             [
              0.4444444444444444,
              "#bd3786"
             ],
             [
              0.5555555555555556,
              "#d8576b"
             ],
             [
              0.6666666666666666,
              "#ed7953"
             ],
             [
              0.7777777777777778,
              "#fb9f3a"
             ],
             [
              0.8888888888888888,
              "#fdca26"
             ],
             [
              1,
              "#f0f921"
             ]
            ],
            "type": "heatmapgl"
           }
          ],
          "histogram": [
           {
            "marker": {
             "pattern": {
              "fillmode": "overlay",
              "size": 10,
              "solidity": 0.2
             }
            },
            "type": "histogram"
           }
          ],
          "histogram2d": [
           {
            "colorbar": {
             "outlinewidth": 0,
             "ticks": ""
            },
            "colorscale": [
             [
              0,
              "#0d0887"
             ],
             [
              0.1111111111111111,
              "#46039f"
             ],
             [
              0.2222222222222222,
              "#7201a8"
             ],
             [
              0.3333333333333333,
              "#9c179e"
             ],
             [
              0.4444444444444444,
              "#bd3786"
             ],
             [
              0.5555555555555556,
              "#d8576b"
             ],
             [
              0.6666666666666666,
              "#ed7953"
             ],
             [
              0.7777777777777778,
              "#fb9f3a"
             ],
             [
              0.8888888888888888,
              "#fdca26"
             ],
             [
              1,
              "#f0f921"
             ]
            ],
            "type": "histogram2d"
           }
          ],
          "histogram2dcontour": [
           {
            "colorbar": {
             "outlinewidth": 0,
             "ticks": ""
            },
            "colorscale": [
             [
              0,
              "#0d0887"
             ],
             [
              0.1111111111111111,
              "#46039f"
             ],
             [
              0.2222222222222222,
              "#7201a8"
             ],
             [
              0.3333333333333333,
              "#9c179e"
             ],
             [
              0.4444444444444444,
              "#bd3786"
             ],
             [
              0.5555555555555556,
              "#d8576b"
             ],
             [
              0.6666666666666666,
              "#ed7953"
             ],
             [
              0.7777777777777778,
              "#fb9f3a"
             ],
             [
              0.8888888888888888,
              "#fdca26"
             ],
             [
              1,
              "#f0f921"
             ]
            ],
            "type": "histogram2dcontour"
           }
          ],
          "mesh3d": [
           {
            "colorbar": {
             "outlinewidth": 0,
             "ticks": ""
            },
            "type": "mesh3d"
           }
          ],
          "parcoords": [
           {
            "line": {
             "colorbar": {
              "outlinewidth": 0,
              "ticks": ""
             }
            },
            "type": "parcoords"
           }
          ],
          "pie": [
           {
            "automargin": true,
            "type": "pie"
           }
          ],
          "scatter": [
           {
            "fillpattern": {
             "fillmode": "overlay",
             "size": 10,
             "solidity": 0.2
            },
            "type": "scatter"
           }
          ],
          "scatter3d": [
           {
            "line": {
             "colorbar": {
              "outlinewidth": 0,
              "ticks": ""
             }
            },
            "marker": {
             "colorbar": {
              "outlinewidth": 0,
              "ticks": ""
             }
            },
            "type": "scatter3d"
           }
          ],
          "scattercarpet": [
           {
            "marker": {
             "colorbar": {
              "outlinewidth": 0,
              "ticks": ""
             }
            },
            "type": "scattercarpet"
           }
          ],
          "scattergeo": [
           {
            "marker": {
             "colorbar": {
              "outlinewidth": 0,
              "ticks": ""
             }
            },
            "type": "scattergeo"
           }
          ],
          "scattergl": [
           {
            "marker": {
             "colorbar": {
              "outlinewidth": 0,
              "ticks": ""
             }
            },
            "type": "scattergl"
           }
          ],
          "scattermapbox": [
           {
            "marker": {
             "colorbar": {
              "outlinewidth": 0,
              "ticks": ""
             }
            },
            "type": "scattermapbox"
           }
          ],
          "scatterpolar": [
           {
            "marker": {
             "colorbar": {
              "outlinewidth": 0,
              "ticks": ""
             }
            },
            "type": "scatterpolar"
           }
          ],
          "scatterpolargl": [
           {
            "marker": {
             "colorbar": {
              "outlinewidth": 0,
              "ticks": ""
             }
            },
            "type": "scatterpolargl"
           }
          ],
          "scatterternary": [
           {
            "marker": {
             "colorbar": {
              "outlinewidth": 0,
              "ticks": ""
             }
            },
            "type": "scatterternary"
           }
          ],
          "surface": [
           {
            "colorbar": {
             "outlinewidth": 0,
             "ticks": ""
            },
            "colorscale": [
             [
              0,
              "#0d0887"
             ],
             [
              0.1111111111111111,
              "#46039f"
             ],
             [
              0.2222222222222222,
              "#7201a8"
             ],
             [
              0.3333333333333333,
              "#9c179e"
             ],
             [
              0.4444444444444444,
              "#bd3786"
             ],
             [
              0.5555555555555556,
              "#d8576b"
             ],
             [
              0.6666666666666666,
              "#ed7953"
             ],
             [
              0.7777777777777778,
              "#fb9f3a"
             ],
             [
              0.8888888888888888,
              "#fdca26"
             ],
             [
              1,
              "#f0f921"
             ]
            ],
            "type": "surface"
           }
          ],
          "table": [
           {
            "cells": {
             "fill": {
              "color": "#EBF0F8"
             },
             "line": {
              "color": "white"
             }
            },
            "header": {
             "fill": {
              "color": "#C8D4E3"
             },
             "line": {
              "color": "white"
             }
            },
            "type": "table"
           }
          ]
         },
         "layout": {
          "annotationdefaults": {
           "arrowcolor": "#2a3f5f",
           "arrowhead": 0,
           "arrowwidth": 1
          },
          "autotypenumbers": "strict",
          "coloraxis": {
           "colorbar": {
            "outlinewidth": 0,
            "ticks": ""
           }
          },
          "colorscale": {
           "diverging": [
            [
             0,
             "#8e0152"
            ],
            [
             0.1,
             "#c51b7d"
            ],
            [
             0.2,
             "#de77ae"
            ],
            [
             0.3,
             "#f1b6da"
            ],
            [
             0.4,
             "#fde0ef"
            ],
            [
             0.5,
             "#f7f7f7"
            ],
            [
             0.6,
             "#e6f5d0"
            ],
            [
             0.7,
             "#b8e186"
            ],
            [
             0.8,
             "#7fbc41"
            ],
            [
             0.9,
             "#4d9221"
            ],
            [
             1,
             "#276419"
            ]
           ],
           "sequential": [
            [
             0,
             "#0d0887"
            ],
            [
             0.1111111111111111,
             "#46039f"
            ],
            [
             0.2222222222222222,
             "#7201a8"
            ],
            [
             0.3333333333333333,
             "#9c179e"
            ],
            [
             0.4444444444444444,
             "#bd3786"
            ],
            [
             0.5555555555555556,
             "#d8576b"
            ],
            [
             0.6666666666666666,
             "#ed7953"
            ],
            [
             0.7777777777777778,
             "#fb9f3a"
            ],
            [
             0.8888888888888888,
             "#fdca26"
            ],
            [
             1,
             "#f0f921"
            ]
           ],
           "sequentialminus": [
            [
             0,
             "#0d0887"
            ],
            [
             0.1111111111111111,
             "#46039f"
            ],
            [
             0.2222222222222222,
             "#7201a8"
            ],
            [
             0.3333333333333333,
             "#9c179e"
            ],
            [
             0.4444444444444444,
             "#bd3786"
            ],
            [
             0.5555555555555556,
             "#d8576b"
            ],
            [
             0.6666666666666666,
             "#ed7953"
            ],
            [
             0.7777777777777778,
             "#fb9f3a"
            ],
            [
             0.8888888888888888,
             "#fdca26"
            ],
            [
             1,
             "#f0f921"
            ]
           ]
          },
          "colorway": [
           "#636efa",
           "#EF553B",
           "#00cc96",
           "#ab63fa",
           "#FFA15A",
           "#19d3f3",
           "#FF6692",
           "#B6E880",
           "#FF97FF",
           "#FECB52"
          ],
          "font": {
           "color": "#2a3f5f"
          },
          "geo": {
           "bgcolor": "white",
           "lakecolor": "white",
           "landcolor": "#E5ECF6",
           "showlakes": true,
           "showland": true,
           "subunitcolor": "white"
          },
          "hoverlabel": {
           "align": "left"
          },
          "hovermode": "closest",
          "mapbox": {
           "style": "light"
          },
          "paper_bgcolor": "white",
          "plot_bgcolor": "#E5ECF6",
          "polar": {
           "angularaxis": {
            "gridcolor": "white",
            "linecolor": "white",
            "ticks": ""
           },
           "bgcolor": "#E5ECF6",
           "radialaxis": {
            "gridcolor": "white",
            "linecolor": "white",
            "ticks": ""
           }
          },
          "scene": {
           "xaxis": {
            "backgroundcolor": "#E5ECF6",
            "gridcolor": "white",
            "gridwidth": 2,
            "linecolor": "white",
            "showbackground": true,
            "ticks": "",
            "zerolinecolor": "white"
           },
           "yaxis": {
            "backgroundcolor": "#E5ECF6",
            "gridcolor": "white",
            "gridwidth": 2,
            "linecolor": "white",
            "showbackground": true,
            "ticks": "",
            "zerolinecolor": "white"
           },
           "zaxis": {
            "backgroundcolor": "#E5ECF6",
            "gridcolor": "white",
            "gridwidth": 2,
            "linecolor": "white",
            "showbackground": true,
            "ticks": "",
            "zerolinecolor": "white"
           }
          },
          "shapedefaults": {
           "line": {
            "color": "#2a3f5f"
           }
          },
          "ternary": {
           "aaxis": {
            "gridcolor": "white",
            "linecolor": "white",
            "ticks": ""
           },
           "baxis": {
            "gridcolor": "white",
            "linecolor": "white",
            "ticks": ""
           },
           "bgcolor": "#E5ECF6",
           "caxis": {
            "gridcolor": "white",
            "linecolor": "white",
            "ticks": ""
           }
          },
          "title": {
           "x": 0.05
          },
          "xaxis": {
           "automargin": true,
           "gridcolor": "white",
           "linecolor": "white",
           "ticks": "",
           "title": {
            "standoff": 15
           },
           "zerolinecolor": "white",
           "zerolinewidth": 2
          },
          "yaxis": {
           "automargin": true,
           "gridcolor": "white",
           "linecolor": "white",
           "ticks": "",
           "title": {
            "standoff": 15
           },
           "zerolinecolor": "white",
           "zerolinewidth": 2
          }
         }
        },
        "width": 1200,
        "xaxis": {
         "anchor": "y",
         "domain": [
          0,
          1
         ],
         "title": {
          "text": "proj_0"
         }
        },
        "yaxis": {
         "anchor": "x",
         "domain": [
          0,
          1
         ],
         "title": {
          "text": "proj_1"
         }
        }
       }
      }
     },
     "metadata": {},
     "output_type": "display_data"
    }
   ],
   "source": [
    "fig = px.scatter(data_frame = library_newtext,\n",
    "                 x='proj_0',\n",
    "                 y='proj_1',\n",
    "                 width=1200,\n",
    "                 height=800,\n",
    "                 color= 'author',\n",
    "                 color_discrete_sequence=px.colors.qualitative.Alphabet, #Dark24\n",
    "                 hover_data= ['title']\n",
    "                 )\n",
    "\n",
    "for i in range(circle_edges.shape[0]):\n",
    "    fig.add_shape(type='circle',\n",
    "        xref='x', yref='y',\n",
    "        x0=circle_edges['x0'][i],\n",
    "        y0=circle_edges['y0'][i],\n",
    "        x1=circle_edges['x1'][i],\n",
    "        y1=circle_edges['y1'][i],\n",
    "        line_color='LightSeaGreen',\n",
    "    )\n",
    "\n",
    "\n",
    "fig.show()"
   ]
  },
  {
   "cell_type": "code",
   "execution_count": 41,
   "metadata": {},
   "outputs": [
    {
     "data": {
      "application/vnd.plotly.v1+json": {
       "config": {
        "plotlyServerURL": "https://plot.ly"
       },
       "data": [
        {
         "customdata": [
          [
           "Apocolocyntosis"
          ],
          [
           "L. Annaeus Seneca on Benefits"
          ],
          [
           "Two Tragedies of Seneca: Medea and The Daughters of Troy: Rendered into English Verse"
          ],
          [
           "Seneca's Morals of a Happy Life, Benefits, Anger and Clemency"
          ],
          [
           "Minor Dialogues, Together With the Dialogue on Clemency"
          ]
         ],
         "hovertemplate": "color=1st century CE<br>proj_0=%{x}<br>proj_1=%{y}<br>title=%{customdata[0]}<extra></extra>",
         "legendgroup": "1st century CE",
         "marker": {
          "color": "#AA0DFE",
          "symbol": "circle"
         },
         "mode": "markers",
         "name": "1st century CE",
         "orientation": "v",
         "showlegend": true,
         "type": "scatter",
         "x": [
          3.676630973815918,
          2.906684160232544,
          3.260664463043213,
          2.4110631942749023,
          2.443626642227173
         ],
         "xaxis": "x",
         "y": [
          1.4911808967590332,
          -0.580120861530304,
          0.4644099473953247,
          -0.49351704120635986,
          -0.5431605577468872
         ],
         "yaxis": "y"
        },
        {
         "customdata": [
          [
           "La Fiammetta"
          ],
          [
           "The Decameron, Volume II"
          ],
          [
           "The Decameron of Giovanni Boccaccio"
          ],
          [
           "The Decameron, Volume I"
          ],
          [
           "The Decameron (Day 1 to Day 5): Containing an hundred pleasant Novels"
          ],
          [
           "The Decameron (Day 6 to Day 10): Containing an hundred pleasant Novels"
          ]
         ],
         "hovertemplate": "color=14th century CE<br>proj_0=%{x}<br>proj_1=%{y}<br>title=%{customdata[0]}<extra></extra>",
         "legendgroup": "14th century CE",
         "marker": {
          "color": "#3283FE",
          "symbol": "circle"
         },
         "mode": "markers",
         "name": "14th century CE",
         "orientation": "v",
         "showlegend": true,
         "type": "scatter",
         "x": [
          9.173789978027344,
          3.6175777912139893,
          3.6289288997650146,
          9.120636940002441,
          0.8418911695480347,
          0.8656931519508362
         ],
         "xaxis": "x",
         "y": [
          7.3912553787231445,
          -0.7949209213256836,
          -1.0756967067718506,
          7.366382122039795,
          6.661745548248291,
          6.5999436378479
         ],
         "yaxis": "y"
        },
        {
         "customdata": [
          [
           "Divine Comedy, Longfellow's Translation, Hell"
          ],
          [
           "Divine Comedy, Longfellow's Translation, Purgatory"
          ],
          [
           "Divine Comedy, Longfellow's Translation, Paradise"
          ],
          [
           "Divine Comedy, Longfellow's Translation, Complete"
          ],
          [
           "Divine Comedy, Cary's Translation, Hell"
          ],
          [
           "Divine Comedy, Cary's Translation, Purgatory"
          ],
          [
           "Divine Comedy, Cary's Translation, Paradise"
          ],
          [
           "Divine Comedy, Cary's Translation, Complete"
          ],
          [
           "The Banquet (Il Convito)"
          ],
          [
           "The Divine Comedy, Volume 1, Hell"
          ],
          [
           "The Divine Comedy, Volume 2, Purgatory"
          ],
          [
           "The Divine Comedy, Volume 3, Paradise"
          ],
          [
           "The New Life (La Vita Nuova)"
          ],
          [
           "The Divine Comedy of Dante Alighieri: The Inferno"
          ],
          [
           "The Vision of Dante: A story for little children and a talk to their mothers: (Second Edition)"
          ],
          [
           "The vision of hell.: By Dante Alighieri.; Translated by Rev. Henry Francis Cary, M.A.; and illustrated with the seventy-five designs of Gustave Doré."
          ],
          [
           "The Divine Comedy by Dante, Illustrated, Purgatory, Complete"
          ],
          [
           "The Divine Comedy by Dante, Illustrated, Paradise, Complete"
          ],
          [
           "The divine comedy"
          ]
         ],
         "hovertemplate": "color=13th century CE<br>proj_0=%{x}<br>proj_1=%{y}<br>title=%{customdata[0]}<extra></extra>",
         "legendgroup": "13th century CE",
         "marker": {
          "color": "#85660D",
          "symbol": "circle"
         },
         "mode": "markers",
         "name": "13th century CE",
         "orientation": "v",
         "showlegend": true,
         "type": "scatter",
         "x": [
          8.54354476928711,
          8.689370155334473,
          8.653491020202637,
          8.65323543548584,
          8.68692684173584,
          8.703018188476562,
          8.658782958984375,
          8.649853706359863,
          8.588227272033691,
          8.676803588867188,
          8.667377471923828,
          8.720046043395996,
          8.702884674072266,
          8.710552215576172,
          5.5970869064331055,
          8.701254844665527,
          8.732254981994629,
          8.686973571777344,
          8.67773151397705
         ],
         "xaxis": "x",
         "y": [
          2.4434847831726074,
          2.642284393310547,
          2.545713424682617,
          2.580435037612915,
          2.88657808303833,
          2.926037311553955,
          2.955479860305786,
          2.888315200805664,
          2.0177392959594727,
          2.411816120147705,
          2.3731725215911865,
          2.356485605239868,
          1.8728464841842651,
          2.2983791828155518,
          2.1985599994659424,
          2.8941147327423096,
          2.951533794403076,
          2.9076473712921143,
          2.927849054336548
         ],
         "yaxis": "y"
        },
        {
         "customdata": [
          [
           "Chinese Literature: Comprising the Analects of Confucius, the Sayings of Mencius, the Shi-King, the Travels of Fâ-Hien, and the Sorrows of Han"
          ],
          [
           "The Sayings of Confucius"
          ],
          [
           "The Analects of Confucius (from the Chinese Classics)"
          ],
          [
           "The Wisdom of Confucius: with Critical and Biographical Sketches"
          ],
          [
           "The Sayings of Confucius: A New Translation of the Greater Part of the Confucian Analects"
          ]
         ],
         "hovertemplate": "color=6th century BCE<br>proj_0=%{x}<br>proj_1=%{y}<br>title=%{customdata[0]}<extra></extra>",
         "legendgroup": "6th century BCE",
         "marker": {
          "color": "#782AB6",
          "symbol": "circle"
         },
         "mode": "markers",
         "name": "6th century BCE",
         "orientation": "v",
         "showlegend": true,
         "type": "scatter",
         "x": [
          9.863030433654785,
          4.99346923828125,
          5.149028778076172,
          9.812933921813965,
          4.813504219055176
         ],
         "xaxis": "x",
         "y": [
          8.033077239990234,
          1.9891308546066284,
          2.0717051029205322,
          8.064922332763672,
          1.8641248941421509
         ],
         "yaxis": "y"
        },
        {
         "customdata": [
          [
           "The Complete Works of William Shakespeare"
          ],
          [
           "Shakespeare's Sonnets"
          ],
          [
           "Venus and Adonis"
          ],
          [
           "King Richard III"
          ],
          [
           "The Tragedy of Titus Andronicus"
          ],
          [
           "The Taming of the Shrew"
          ],
          [
           "The Tragedy of Romeo and Juliet"
          ],
          [
           "As You Like It"
          ],
          [
           "The Tragedy of Macbeth"
          ],
          [
           "King Richard III"
          ],
          [
           "The Taming of the Shrew"
          ],
          [
           "Romeo and Juliet"
          ],
          [
           "A Midsummer Night's Dream"
          ],
          [
           "The Merchant of Venice"
          ],
          [
           "King Henry IV, the First Part"
          ],
          [
           "Much Ado about Nothing"
          ],
          [
           "The Life of King Henry V"
          ],
          [
           "Julius Caesar"
          ],
          [
           "As You Like It"
          ],
          [
           "Hamlet, Prince of Denmark"
          ],
          [
           "Twelfth Night; Or, What You Will"
          ],
          [
           "All's Well That Ends Well"
          ],
          [
           "Othello, the Moor of Venice"
          ],
          [
           "The Tragedy of King Lear"
          ],
          [
           "Macbeth"
          ],
          [
           "Antony and Cleopatra"
          ],
          [
           "The Winter's Tale"
          ],
          [
           "The Tempest"
          ],
          [
           "Sir Thomas More"
          ],
          [
           "Romeo and Juliet"
          ],
          [
           "Julius Caesar"
          ],
          [
           "Hamlet"
          ],
          [
           "King Lear"
          ],
          [
           "A Midsummer Night's Dream"
          ],
          [
           "The Merchant of Venice"
          ],
          [
           "Twelfth Night"
          ],
          [
           "Henry V"
          ],
          [
           "Macbeth"
          ],
          [
           "Hamlet"
          ],
          [
           "Othello"
          ],
          [
           "Shakespeare's First Folio"
          ],
          [
           "The Tempest: The Works of William Shakespeare [Cambridge Edition] [9 vols.]"
          ],
          [
           "Two Gentlemen of Verona: The Works of William Shakespeare [Cambridge Edition] [9 vols.]"
          ],
          [
           "The Merry Wives of Windsor: The Works of William Shakespeare [Cambridge Edition] [9 vols.]"
          ],
          [
           "Measure for Measure: The Works of William Shakespeare [Cambridge Edition] [9 vols.]"
          ],
          [
           "The Comedy of Errors: The Works of William Shakespeare [Cambridge Edition] [9 vols.]"
          ],
          [
           "Hamlet, Prince of Denmark"
          ],
          [
           "The New Hudson Shakespeare: Julius Cæsar"
          ],
          [
           "Shakespeare's Tragedy of Romeo and Juliet"
          ],
          [
           "Flowers from Shakespeare's Garden: A Posy from the Plays"
          ]
         ],
         "hovertemplate": "color=16th century CE<br>proj_0=%{x}<br>proj_1=%{y}<br>title=%{customdata[0]}<extra></extra>",
         "legendgroup": "16th century CE",
         "marker": {
          "color": "#565656",
          "symbol": "circle"
         },
         "mode": "markers",
         "name": "16th century CE",
         "orientation": "v",
         "showlegend": true,
         "type": "scatter",
         "x": [
          10.93438720703125,
          9.882323265075684,
          9.624251365661621,
          10.35956859588623,
          9.72214412689209,
          10.135209083557129,
          10.501472473144531,
          9.903036117553711,
          10.096253395080566,
          10.381470680236816,
          10.188776016235352,
          10.424639701843262,
          9.526636123657227,
          10.24602222442627,
          10.20142936706543,
          9.9903564453125,
          10.11949634552002,
          9.509209632873535,
          9.934831619262695,
          9.949471473693848,
          10.059652328491211,
          9.991020202636719,
          10.240845680236816,
          10.770614624023438,
          9.985676765441895,
          9.709065437316895,
          10.263232231140137,
          9.579747200012207,
          9.40285873413086,
          10.571372032165527,
          9.483230590820312,
          9.997284889221191,
          10.816503524780273,
          10.717676162719727,
          10.837376594543457,
          10.92480182647705,
          11.008217811584473,
          10.304557800292969,
          10.901134490966797,
          10.870759010314941,
          10.952287673950195,
          9.540733337402344,
          9.879514694213867,
          10.499865531921387,
          10.157075881958008,
          9.598333358764648,
          9.648982048034668,
          9.25348949432373,
          10.456165313720703,
          3.9340224266052246
         ],
         "xaxis": "x",
         "y": [
          1.0205827951431274,
          1.352292537689209,
          1.4180914163589478,
          1.4570225477218628,
          1.3942434787750244,
          1.0559223890304565,
          1.012450933456421,
          1.2866185903549194,
          1.1024889945983887,
          1.3817180395126343,
          1.0258575677871704,
          1.059398889541626,
          1.3665416240692139,
          1.3526910543441772,
          1.4833261966705322,
          1.362391471862793,
          1.0562646389007568,
          1.3825562000274658,
          1.3694437742233276,
          1.0992687940597534,
          1.4578620195388794,
          1.3423997163772583,
          1.4376344680786133,
          1.2056002616882324,
          1.196484923362732,
          1.2207916975021362,
          1.4115045070648193,
          1.353822946548462,
          1.5396181344985962,
          0.9966849684715271,
          1.4339197874069214,
          1.1566991806030273,
          1.1216017007827759,
          1.1739951372146606,
          1.1262547969818115,
          1.1221415996551514,
          1.0206037759780884,
          1.0607542991638184,
          1.1018515825271606,
          1.0959908962249756,
          1.0542235374450684,
          1.4092696905136108,
          1.4216129779815674,
          1.253755807876587,
          1.3103512525558472,
          1.5405044555664062,
          1.5092719793319702,
          1.6581931114196777,
          1.0080785751342773,
          0.9858023524284363
         ],
         "yaxis": "y"
        },
        {
         "customdata": [
          [
           "Bleak House"
          ],
          [
           "The Tragedy of Pudd'nhead Wilson"
          ],
          [
           "The Green Flag, and Other Stories of War and Sport"
          ],
          [
           "Extract from Captain Stormfield's Visit to Heaven"
          ],
          [
           "A Horse's Tale"
          ],
          [
           "The Return of Sherlock Holmes"
          ],
          [
           "The Exploits of Brigadier Gerard"
          ],
          [
           "The Refugees: A Tale of Two Continents"
          ],
          [
           "The Great Shadow and Other Napoleonic Tales"
          ],
          [
           "The Count of Monte Cristo, Illustrated"
          ],
          [
           "A Tramp Abroad"
          ],
          [
           "The Man That Corrupted Hadleyburg"
          ],
          [
           "The Three Musketeers"
          ],
          [
           "Ten Years Later"
          ],
          [
           "Twenty Years After"
          ],
          [
           "The Poison Belt"
          ],
          [
           "Three Ghost Stories"
          ],
          [
           "The Firm of Girdlestone"
          ],
          [
           "The Forty-Five Guardsmen"
          ],
          [
           "The Lost World"
          ],
          [
           "Great Expectations"
          ],
          [
           "The Perils of Certain English Prisoners"
          ],
          [
           "A Message from the Sea"
          ],
          [
           "Doctor Marigold"
          ],
          [
           "The $30,000 Bequest, and Other Stories"
          ],
          [
           "The Wreck of the Golden Mary"
          ],
          [
           "Some Christmas Stories"
          ],
          [
           "Camille (La Dame aux Camilias)"
          ],
          [
           "The Adventures of Gerard"
          ],
          [
           "The Adventures of Sherlock Holmes"
          ],
          [
           "The Prince and the Pauper"
          ],
          [
           "Extracts from Adam's Diary, translated from the original ms."
          ],
          [
           "The Vicomte de Bragelonne; Or, Ten Years Later: Being the completion of \"The Three Musketeers\" and \"Twenty Years After\""
          ],
          [
           "A Christmas Carol"
          ],
          [
           "Chapters from My Autobiography"
          ],
          [
           "The Queen's Necklace"
          ],
          [
           "The Sign of the Four"
          ],
          [
           "The Return of Sherlock Holmes"
          ],
          [
           "Danger! and Other Stories"
          ],
          [
           "The Magic Fishbone: A Holiday Romance from the Pen of Miss Alice Rainbird, Aged 7"
          ],
          [
           "The Adventure of Wisteria Lodge"
          ],
          [
           "The Adventure of the Cardboard Box"
          ],
          [
           "The Adventure of the Red Circle"
          ],
          [
           "The Adventure of the Bruce-Partington Plans"
          ],
          [
           "The Adventure of the Dying Detective"
          ],
          [
           "The Disappearance of Lady Frances Carfax"
          ],
          [
           "The Adventure of the Devil's Foot"
          ],
          [
           "His Last Bow: An Epilogue of Sherlock Holmes"
          ],
          [
           "A Christmas Carol"
          ],
          [
           "Is Shakespeare Dead?: From My Autobiography"
          ],
          [
           "A Study in Scarlet"
          ],
          [
           "Life on the Mississippi"
          ],
          [
           "On the Decay of the Art of Lying"
          ],
          [
           "The Letters of Charles Dickens. Vol. 1, 1833-1856"
          ],
          [
           "The Letters of Charles Dickens. Vol. 2, 1857-1870"
          ],
          [
           "Bardell v. Pickwick"
          ],
          [
           "The Vicomte De Bragelonne"
          ],
          [
           "Ten Years Later"
          ],
          [
           "Louise de la Valliere"
          ],
          [
           "The Regent's Daughter"
          ],
          [
           "The Conspirators: The Chevalier d'Harmental"
          ],
          [
           "The Borgias: Celebrated Crimes"
          ],
          [
           "Cenci: Celebrated Crimes"
          ],
          [
           "Massacres of the South (1551-1815): Celebrated Crimes"
          ],
          [
           "Mary Stuart: Celebrated Crimes"
          ],
          [
           "Urbain Grandier: Celebrated Crimes"
          ],
          [
           "Derues: Celebrated Crimes"
          ],
          [
           "La Constantin: Celebrated Crimes"
          ],
          [
           "Joan of Naples: Celebrated Crimes"
          ],
          [
           "Man in the Iron Mask (an Essay)"
          ],
          [
           "Martin Guerre: Celebrated Crimes"
          ],
          [
           "Ali Pacha: Celebrated Crimes"
          ],
          [
           "Murat: Celebrated Crimes"
          ],
          [
           "Marquise Brinvillier: Celebrated Crimes"
          ],
          [
           "Marquise De Ganges: Celebrated Crimes"
          ],
          [
           "The Man in the Iron Mask"
          ],
          [
           "Celebrated Crimes (Complete)"
          ],
          [
           "Mugby Junction"
          ],
          [
           "Sir Nigel"
          ],
          [
           "The Hound of the Baskervilles"
          ],
          [
           "Personal Recollections of Joan of Arc — Volume 1"
          ],
          [
           "Personal Recollections of Joan of Arc — Volume 2"
          ],
          [
           "Following the Equator: A Journey Around the World"
          ],
          [
           "The Captain of the Polestar, and Other Tales"
          ],
          [
           "A Christmas Carol: The original manuscript"
          ],
          [
           "The Great Boer War"
          ],
          [
           "The Hound of the Baskervilles"
          ],
          [
           "In Defence of Harriet Shelley"
          ],
          [
           "Fenimore Cooper's Literary Offences"
          ],
          [
           "A Dog's Tale"
          ],
          [
           "The Innocents Abroad"
          ],
          [
           "Roughing It"
          ],
          [
           "The Gilded Age: A Tale of Today"
          ],
          [
           "The American Claimant"
          ],
          [
           "A Double Barrelled Detective Story"
          ],
          [
           "The Stolen White Elephant"
          ],
          [
           "The Facts Concerning the Recent Carnival of Crime in Connecticut"
          ],
          [
           "Those Extraordinary Twins"
          ],
          [
           "The Mysterious Stranger, and Other Stories"
          ],
          [
           "Christian Science"
          ],
          [
           "Mark Twain's Speeches"
          ],
          [
           "Sketches New and Old"
          ],
          [
           "1601: Conversation as it was by the Social Fireside in the Time of the Tudors"
          ],
          [
           "Mark Twain's Letters — Volume 1 (1853-1866)"
          ],
          [
           "Mark Twain's Letters — Volume 2 (1867-1875)"
          ],
          [
           "Mark Twain's Letters — Volume 4 (1886-1900)"
          ],
          [
           "Mark Twain's Letters — Complete (1853-1910)"
          ],
          [
           "The Adventures of Huckleberry Finn (Tom Sawyer's Comrade)"
          ],
          [
           "How to Tell a Story, and Other Essays"
          ],
          [
           "The Man That Corrupted Hadleyburg, and Other Stories"
          ],
          [
           "The Great Keinplatz Experiment and Other Tales of Twilight and the Unseen"
          ],
          [
           "The Valley of Fear"
          ],
          [
           "Marguerite de Valois"
          ],
          [
           "The Parasite: A Story"
          ],
          [
           "The Prussian Terror"
          ],
          [
           "The Crime of the Congo"
          ],
          [
           "The Valley of Fear"
          ],
          [
           "The Wanderings of a Spiritualist"
          ],
          [
           "The Battle of Life: A Love Story"
          ],
          [
           "The Corsican Brothers"
          ],
          [
           "A Child's Dream of a Star"
          ],
          [
           "Round the Red Lamp: Being Facts and Fancies of Medical Life"
          ],
          [
           "The Hero of the People: A Historical Romance of Love, Liberty and Loyalty"
          ],
          [
           "The Mesmerist's Victim"
          ],
          [
           "The Countess of Charny; or, The Execution of King Louis XVI"
          ],
          [
           "The Personal History of David Copperfield"
          ],
          [
           "The Royal Life Guard; or, the flight of the royal family.: A historical romance of the suppression of the French monarchy"
          ],
          [
           "The Vital Message"
          ],
          [
           "Taking the Bastile; Or, Pitou the Peasant: A Historical Story of the Great French Revolution"
          ],
          [
           "Balsamo, the Magician; or, The Memoirs of a Physician"
          ],
          [
           "Oliver Twist; or, The Parish Boy's Progress. Illustrated"
          ],
          [
           "The Coming of the Fairies"
          ],
          [
           "Oliver Twist, Vol. 1 (of 3)"
          ],
          [
           "The Posthumous Papers of the Pickwick Club, v. 2 (of 2)"
          ],
          [
           "Adventures of Sherlock Holmes: Illustrated"
          ],
          [
           "My Memoirs, Vol. I, 1802 to 1821"
          ],
          [
           "The Mysterious Stranger: A Romance"
          ],
          [
           "My Memoirs, Vol. II, 1822 to 1825"
          ],
          [
           "My Memoirs, Vol. III, 1826 to 1830"
          ],
          [
           "My Memoirs, Vol. V, 1831 to 1832"
          ],
          [
           "The Wolf-Leader"
          ],
          [
           "My Memoirs, Vol. VI, 1832 to 1833"
          ],
          [
           "Rodney Stone"
          ],
          [
           "The War of Women, Volume 1"
          ],
          [
           "Tales of Terror and Mystery"
          ],
          [
           "Round the Fire Stories"
          ],
          [
           "The Mystery of Edwin Drood"
          ],
          [
           "The Pickwick Papers"
          ],
          [
           "Following the Equator: A Journey Around the World. Part 3"
          ],
          [
           "Master Humphrey's Clock"
          ],
          [
           "The Case for Spirit Photography: With corroborative evidence by experienced researchers and photographers"
          ],
          [
           "The Whites and the Blues"
          ],
          [
           "Merry Tales"
          ],
          [
           "The £1,000,000 bank-note, and other new stories"
          ],
          [
           "To the Person Sitting in Darkness"
          ],
          [
           "King Leopold's Soliloquy: A Defense of His Congo Rule"
          ],
          [
           "The Haunted Man and the Ghost's Bargain"
          ],
          [
           "Pictures from Italy"
          ],
          [
           "The Chimes: A Goblin Story of Some Bells That Rang an Old Year out and a New Year In"
          ],
          [
           "Ascanio"
          ],
          [
           "Memories and Adventures"
          ],
          [
           "American Notes"
          ],
          [
           "The Battle of Life"
          ],
          [
           "The Cricket on the Hearth: A Fairy Tale of Home"
          ],
          [
           "Europe and elsewhere"
          ],
          [
           "The land of mist"
          ],
          [
           "My friend the murderer, and other mysteries and adventures"
          ],
          [
           "The case-book of Sherlock Holmes"
          ],
          [
           "The case of Oscar Slater"
          ],
          [
           "A Child's History of England"
          ],
          [
           "The Old Curiosity Shop"
          ],
          [
           "The Companions of Jehu"
          ],
          [
           "Adventures of Huckleberry Finn, Chapters 01 to 05"
          ],
          [
           "Adventures of Huckleberry Finn, Chapters 11 to 15"
          ],
          [
           "The Adventures of Tom Sawyer, Part 1."
          ],
          [
           "The Adventures of Tom Sawyer, Part 2."
          ],
          [
           "Oliver Twist"
          ],
          [
           "Chicot the Jester"
          ],
          [
           "David Copperfield"
          ],
          [
           "Hard Times"
          ],
          [
           "The Mystery of Cloomber"
          ],
          [
           "Hunted Down: The Detective Stories of Charles Dickens"
          ],
          [
           "Holiday Romance"
          ],
          [
           "George Silverman's Explanation"
          ],
          [
           "Dombey and Son"
          ],
          [
           "Speeches: Literary and Social"
          ],
          [
           "The Memoirs of Sherlock Holmes"
          ],
          [
           "Eve's Diary, Complete"
          ],
          [
           "Reprinted Pieces"
          ],
          [
           "Sketches by Boz, Illustrative of Every-Day Life and Every-Day People"
          ],
          [
           "Our Mutual Friend"
          ],
          [
           "The White Company"
          ],
          [
           "The Uncommercial Traveller"
          ],
          [
           "Barnaby Rudge: A Tale of the Riots of 'Eighty"
          ],
          [
           "To Be Read at Dusk"
          ],
          [
           "Micah Clarke: His Statement as made to his three grandchildren Joseph, Gervas and Reuben During the Hard Winter of 1734"
          ],
          [
           "Little Dorrit"
          ],
          [
           "The Black Tulip"
          ],
          [
           "Nicholas Nickleby"
          ],
          [
           "Martin Chuzzlewit"
          ]
         ],
         "hovertemplate": "color=19th century CE<br>proj_0=%{x}<br>proj_1=%{y}<br>title=%{customdata[0]}<extra></extra>",
         "legendgroup": "19th century CE",
         "marker": {
          "color": "#1C8356",
          "symbol": "circle"
         },
         "mode": "markers",
         "name": "19th century CE",
         "orientation": "v",
         "showlegend": true,
         "type": "scatter",
         "x": [
          3.1510188579559326,
          1.4273855686187744,
          4.287984848022461,
          1.735670804977417,
          1.6145317554473877,
          3.9422554969787598,
          4.370824813842773,
          4.449306488037109,
          4.319141864776611,
          10.24852466583252,
          0.536523699760437,
          1.5359411239624023,
          10.058691024780273,
          9.946269035339355,
          10.119839668273926,
          4.4732770919799805,
          3.2899293899536133,
          4.1674604415893555,
          10.407761573791504,
          4.399871826171875,
          3.3149805068969727,
          3.7032625675201416,
          3.7849981784820557,
          3.7611746788024902,
          0.33959946036338806,
          3.78889799118042,
          3.387769937515259,
          10.072955131530762,
          4.368904113769531,
          3.991852045059204,
          0.6266332268714905,
          2.3377833366394043,
          10.0263090133667,
          3.6104273796081543,
          0.23411858081817627,
          10.35076904296875,
          4.384413242340088,
          3.926926612854004,
          4.211427688598633,
          3.876183271408081,
          4.4591288566589355,
          4.62815523147583,
          4.587182998657227,
          4.583490371704102,
          4.685926914215088,
          4.578061580657959,
          4.497556686401367,
          4.449581146240234,
          3.697911500930786,
          1.7145874500274658,
          4.497045516967773,
          0.038752481341362,
          3.343306303024292,
          3.1228127479553223,
          3.1211228370666504,
          3.6933646202087402,
          10.006379127502441,
          10.010666847229004,
          10.081029891967773,
          10.048730850219727,
          10.209585189819336,
          9.680522918701172,
          9.602583885192871,
          9.757588386535645,
          9.761595726013184,
          9.647066116333008,
          9.528365135192871,
          9.729720115661621,
          9.636872291564941,
          9.687714576721191,
          9.566614151000977,
          9.708205223083496,
          9.561861038208008,
          9.749510765075684,
          9.686694145202637,
          10.011507987976074,
          9.833904266357422,
          3.233660936355591,
          4.44795560836792,
          4.221251487731934,
          0.8304063677787781,
          1.6086894273757935,
          0.09376925230026245,
          4.178471565246582,
          3.651566505432129,
          4.287147045135498,
          4.172579765319824,
          2.0366480350494385,
          2.574781656265259,
          2.316070556640625,
          0.07865376770496368,
          0.5829546451568604,
          0.44357821345329285,
          0.9795337915420532,
          1.4286261796951294,
          2.0996079444885254,
          2.386235237121582,
          1.4923893213272095,
          0.8293108344078064,
          1.0142247676849365,
          0.22663749754428864,
          0.7804854512214661,
          2.1642208099365234,
          0.2696884870529175,
          0.1617455631494522,
          0.022558096796274185,
          0.06659168750047684,
          0.7196179032325745,
          1.7696806192398071,
          0.22710803151130676,
          4.070998191833496,
          4.413527488708496,
          10.274191856384277,
          4.446343898773193,
          10.496739387512207,
          4.377399921417236,
          4.421527862548828,
          4.221548080444336,
          3.6442487239837646,
          10.012619972229004,
          3.611689567565918,
          4.092504978179932,
          10.256027221679688,
          10.330845832824707,
          10.486647605895996,
          3.1382431983947754,
          10.552558898925781,
          4.732654571533203,
          10.473588943481445,
          10.447551727294922,
          3.2705836296081543,
          4.615540981292725,
          3.184436082839966,
          3.2193636894226074,
          3.9778268337249756,
          10.375229835510254,
          0.8146434426307678,
          10.255782127380371,
          10.116312980651855,
          10.382964134216309,
          10.372614860534668,
          10.43533706665039,
          4.4457106590271,
          10.434165954589844,
          4.080714702606201,
          4.170788288116455,
          3.454131841659546,
          3.216869354248047,
          0.978409469127655,
          3.3781630992889404,
          4.601365566253662,
          10.176497459411621,
          0.7244345545768738,
          0.7927767634391785,
          2.191957473754883,
          1.7070988416671753,
          3.6218321323394775,
          3.071331262588501,
          3.705399751663208,
          10.587743759155273,
          4.049576282501221,
          3.0844314098358154,
          3.642885446548462,
          3.4768002033233643,
          0.105042465031147,
          4.44879150390625,
          4.181224346160889,
          4.301901817321777,
          4.578527927398682,
          3.3370018005371094,
          3.106496572494507,
          10.263362884521484,
          1.8323971033096313,
          1.9159560203552246,
          1.8847206830978394,
          1.712332844734192,
          3.211803436279297,
          10.287568092346191,
          3.0319128036499023,
          3.4407899379730225,
          4.298236846923828,
          3.756638288497925,
          3.8208131790161133,
          3.8362252712249756,
          3.505239248275757,
          3.0983920097351074,
          4.356226444244385,
          1.9685800075531006,
          3.079108953475952,
          3.0660223960876465,
          3.3387300968170166,
          4.451353549957275,
          3.0539443492889404,
          3.1587584018707275,
          3.9443371295928955,
          4.4048285484313965,
          3.278822898864746,
          10.07483959197998,
          3.3550450801849365,
          3.4427871704101562
         ],
         "xaxis": "x",
         "y": [
          -1.7401484251022339,
          2.9660403728485107,
          8.814287185668945,
          2.989515781402588,
          3.0129265785217285,
          9.3671236038208,
          8.112656593322754,
          8.648072242736816,
          8.545146942138672,
          8.197310447692871,
          3.006694793701172,
          2.900745391845703,
          7.970517158508301,
          9.005232810974121,
          7.672823429107666,
          7.550049781799316,
          -1.0164666175842285,
          8.9125337600708,
          8.12606430053711,
          8.661469459533691,
          -1.7516621351242065,
          -0.21562352776527405,
          -0.09111934155225754,
          -0.08858929574489594,
          2.873223304748535,
          0.05822715535759926,
          -0.8388366103172302,
          7.628722667694092,
          8.15520191192627,
          9.314996719360352,
          2.8443498611450195,
          2.836669683456421,
          9.05295467376709,
          -0.8461822271347046,
          2.7647440433502197,
          8.414796829223633,
          8.628324508666992,
          9.3404541015625,
          9.029842376708984,
          0.6331218481063843,
          7.356224060058594,
          7.066970348358154,
          7.246499061584473,
          7.130180358886719,
          7.153359413146973,
          7.093101501464844,
          7.2460103034973145,
          7.639390468597412,
          -0.8668661713600159,
          2.9557621479034424,
          8.58388614654541,
          2.7643184661865234,
          2.4030470848083496,
          -1.620699167251587,
          -1.8298356533050537,
          -0.23562969267368317,
          8.9752836227417,
          8.910635948181152,
          8.90805721282959,
          7.784924507141113,
          7.767313480377197,
          8.583585739135742,
          7.706336498260498,
          8.632099151611328,
          8.581618309020996,
          8.095744132995605,
          8.113731384277344,
          7.894261360168457,
          8.218292236328125,
          7.714458465576172,
          7.819679260253906,
          8.411235809326172,
          7.752202987670898,
          7.838881969451904,
          7.7484588623046875,
          8.98465347290039,
          8.847075462341309,
          -1.4316562414169312,
          8.619165420532227,
          9.116487503051758,
          2.9049603939056396,
          2.9705238342285156,
          2.785064697265625,
          8.95099925994873,
          -0.8399157524108887,
          8.463521957397461,
          9.079984664916992,
          2.8563778400421143,
          2.9532511234283447,
          2.8454976081848145,
          2.832777976989746,
          2.9337968826293945,
          2.913607120513916,
          2.892000675201416,
          2.899977922439575,
          2.8555867671966553,
          2.9905221462249756,
          3.091209888458252,
          2.9966039657592773,
          2.9207687377929688,
          2.8074958324432373,
          2.9284329414367676,
          2.8269307613372803,
          2.9503931999206543,
          2.9038355350494385,
          2.897458791732788,
          2.88181209564209,
          2.998750686645508,
          2.9469478130340576,
          2.7952017784118652,
          9.236525535583496,
          8.162875175476074,
          7.841983795166016,
          7.443633556365967,
          8.12272834777832,
          7.189807415008545,
          8.109545707702637,
          9.01276969909668,
          -1.0836538076400757,
          7.710665702819824,
          1.7981494665145874,
          9.184724807739258,
          8.628314971923828,
          8.31991195678711,
          8.221174240112305,
          -2.1288349628448486,
          8.250364303588867,
          7.320133209228516,
          8.177851676940918,
          8.324210166931152,
          -1.9081230163574219,
          7.3487958908081055,
          -1.3957165479660034,
          -1.9235734939575195,
          9.32404899597168,
          8.37524127960205,
          3.0811092853546143,
          8.457036018371582,
          8.956075668334961,
          8.555717468261719,
          8.014235496520996,
          8.557256698608398,
          7.8764777183532715,
          8.09208869934082,
          9.214173316955566,
          9.048877716064453,
          -1.5460470914840698,
          -1.7564724683761597,
          2.8921573162078857,
          -1.4401379823684692,
          7.19169807434082,
          8.66086196899414,
          2.8609113693237305,
          2.9503252506256104,
          2.831862449645996,
          2.9531610012054443,
          -0.5635607242584229,
          -1.950954794883728,
          -0.5199213027954102,
          8.30508804321289,
          9.25693130493164,
          -1.7857844829559326,
          -1.1079158782958984,
          -1.0291706323623657,
          2.8428525924682617,
          8.613349914550781,
          8.79076099395752,
          8.686578750610352,
          7.238537311553955,
          -1.3438045978546143,
          -2.0276708602905273,
          8.410439491271973,
          2.868011713027954,
          2.8091421127319336,
          2.9501571655273438,
          2.9111404418945312,
          -1.9385122060775757,
          7.976446151733398,
          -2.1596839427948,
          -1.2602795362472534,
          8.743326187133789,
          0.12169716507196426,
          0.026834188029170036,
          0.014156168326735497,
          -1.323272705078125,
          -1.6602178812026978,
          8.5618314743042,
          2.8619186878204346,
          -2.1015121936798096,
          -2.1534483432769775,
          -1.3531136512756348,
          8.624932289123535,
          -2.141932964324951,
          -1.9991878271102905,
          0.7464197278022766,
          8.148703575134277,
          -1.4281163215637207,
          7.703770160675049,
          -1.501331090927124,
          -1.4905282258987427
         ],
         "yaxis": "y"
        },
        {
         "customdata": [
          [
           "Persuasion"
          ],
          [
           "The Life and Adventures of Robinson Crusoe of York, Mariner, Volume 1: With an Account of His Travels Round Three Parts of the Globe,; Written By Himself, in Two Volumes"
          ],
          [
           "From London to Land's End: and Two Letters from the \"Journey through England by a Gentleman\""
          ],
          [
           "The Life and Most Surprising Adventures of Robinson Crusoe, of York, Mariner (1801)"
          ],
          [
           "Love and Freindship [sic]"
          ],
          [
           "Northanger Abbey"
          ],
          [
           "Memoirs of a Cavalier: A Military Journal of the Wars in Germany, and the Wars in England.; From the Year 1632 to the Year 1648."
          ],
          [
           "The Life and Adventures of Robinson Crusoe (1808)"
          ],
          [
           "Pride and Prejudice"
          ],
          [
           "The History of the Remarkable Life of John Sheppard: Containing a Particular Account of His Many Robberies and Escapes"
          ],
          [
           "A Vindication of the Press"
          ],
          [
           "Mansfield Park"
          ],
          [
           "Military Memoirs of Capt. George Carleton"
          ],
          [
           "Memoirs of Major Alexander Ramkins (1718)"
          ],
          [
           "The Complete English Tradesman (1839 ed.)"
          ],
          [
           "Emma"
          ],
          [
           "Sense and Sensibility"
          ],
          [
           "The Declaration of Independence of The United States of America"
          ],
          [
           "Memoir, Correspondence, and Miscellanies, From the Papers of Thomas Jefferson, Volume 1"
          ],
          [
           "Memoir, Correspondence, and Miscellanies, From the Papers of Thomas Jefferson, Volume 2"
          ],
          [
           "Memoir, Correspondence, and Miscellanies, From the Papers of Thomas Jefferson, Volume 3"
          ],
          [
           "Memoir, Correspondence, and Miscellanies, From the Papers of Thomas Jefferson, Volume 4"
          ],
          [
           "History of the Plague in London"
          ],
          [
           "The Declaration of Independence of the United States of America"
          ],
          [
           "Dickory Cronke: The Dumb Philosopher, or, Great Britain's Wonder"
          ],
          [
           "Everybody's Business Is Nobody's Business: Or, Private Abuses, Public Grievances; Exemplified in the Pride, Insolence, and Exorbitant Wages of Our Women, Servants, Footmen, &c."
          ],
          [
           "The Writings of Thomas Jefferson: Library Edition - Vol. 6 (of 20)"
          ],
          [
           "Sense and Sensibility"
          ],
          [
           "Atalantis Major"
          ],
          [
           "United States Declaration of Independence"
          ],
          [
           "The True-Born Englishman: A Satire"
          ],
          [
           "The Fortunate Mistress (Parts 1 and 2): or a History of the Life of Mademoiselle de Beleau Known by the Name of the Lady Roxana"
          ],
          [
           "The History of the Devil, As Well Ancient as Modern: In Two Parts"
          ],
          [
           "An Appeal to Honour and Justice, Though It Be of His Worst Enemies.: Being A True Account of His Conduct in Public Affairs."
          ],
          [
           "An Humble Proposal to the People of England, for the Increase of their Trade, and Encouragement of Their Manufactures: Whether the Present Uncertainty of Affairs Issues in Peace or War"
          ],
          [
           "Second Thoughts are Best: Or a Further Improvement of a Late Scheme to Prevent Street Robberies"
          ],
          [
           "Augusta Triumphans: Or, the Way to Make London the Most Flourishing City in the Universe"
          ],
          [
           "A New Voyage Round the World by a Course Never Sailed Before"
          ],
          [
           "A True Relation of the Apparition of one Mrs. Veal: The Next Day after Her Death, to one Mrs. Bargrave, at Canterbury, the 8th of September, 1705; which Apparition Recommends the Perusal of Drelincourt's Book of Consolations against the Fears of Death"
          ],
          [
           "Reasons Against the Succession of the House of Hanover: With an Enquiry How Far the Abdication of King James, Supposing It to Be Legal, Ought to Affect the Person of the Pretender"
          ],
          [
           "A Seasonable Warning and Caution against the Insinuations of Papists and Jacobites in favour of the Pretender: Being a Letter from an Englishman at the Court of Hanover"
          ],
          [
           "An Answer to a Question that Nobody thinks of, viz., But what if the Queen should Die?"
          ],
          [
           "The Lay-Man's Sermon upon the Late Storm: Held forth at an Honest Coffee-House-Conventicle"
          ],
          [
           "And What if the Pretender should Come?: Or Some Considerations of the Advantages and Real Consequences of the Pretender's Possessing the Crown of Great Britain"
          ],
          [
           "The Fortunes and Misfortunes of the Famous Moll Flanders"
          ],
          [
           "Pride and Prejudice, a play founded on Jane Austen's novel"
          ],
          [
           "A Short Narrative of the Life and Actions of His Grace John, D. of Marlborogh"
          ],
          [
           "A Journal of the Plague Year: Being Observations or Memorials of the Most Remarkable Occurrences, as Well Public as Private, Which Happened in London During the Last Great Visitation in 1665. Written by a Citizen Who Continued All the While in London"
          ],
          [
           "The King of Pirates: Being an Account of the Famous Enterprises of Captain Avery, the Mock King of Madagascar"
          ],
          [
           "A General History of the Pyrates:: from their first rise and settlement in the island of Providence, to the present time"
          ],
          [
           "An Essay Upon Projects"
          ],
          [
           "The Storm. An Essay."
          ],
          [
           "The Letters of Jane Austen: Selected from the compilation of her great nephew, Edward, Lord Bradbourne"
          ],
          [
           "The Storm: or, a Collection of the most Remarkable Casualties and Disasters which Happen'd in the Late Dreadful Tempest, both by Sea and Land"
          ],
          [
           "Pride and Prejudice"
          ],
          [
           "The Writings of Thomas Jefferson, Vol. 1 (of 9): Being His Autobiography, Correspondence, Reports, Messages, Addresses, and Other Writings, Official and Private"
          ],
          [
           "The Writings of Thomas Jefferson, Vol. 2 (of 9): Being His Autobiography, Correspondence, Reports, Messages, Addresses, and Other Writings, Official and Private"
          ],
          [
           "State of the Union Addresses"
          ],
          [
           "The Life and Adventures of Robinson Crusoe"
          ],
          [
           "The History and Remarkable Life of the Truly Honourable Colonel Jacque, Commonly Called Colonel Jack"
          ],
          [
           "The Writings of Thomas Jefferson, Vol. 3 (of 9): Being His Autobiography, Correspondence, Reports, Messages, Addresses, and Other Writings, Official and Private"
          ],
          [
           "The Writings of Thomas Jefferson, Vol. 4 (of 9): Being His Autobiography, Correspondence, Reports, Messages, Addresses, and Other Writings, Official and Private"
          ],
          [
           "The Writings of Thomas Jefferson, Vol. 5 (of 9): Being His Autobiography, Correspondence, Reports, Messages, Addresses, and Other Writings, Official and Private"
          ],
          [
           "The Friendly Daemon, or the Generous Apparition: Being a True Narrative of a Miraculous Cure, Newly Perform'd Upon That Famous Deaf and Dumb Gentleman, Dr. Duncan Campbel, by a Familiar Spirit That Appear'd to Him in a White Surplice, Like a Cathedral Singing Boy"
          ],
          [
           "The Writings of Thomas Jefferson, Vol. 6 (of 9): Being His Autobiography, Correspondence, Reports, Messages, Addresses, and Other Writings, Official and Private"
          ],
          [
           "The Writings of Thomas Jefferson, Vol. 7 (of 9): Being His Autobiography, Correspondence, Reports, Messages, Addresses, and Other Writings, Official and Private"
          ],
          [
           "The Further Adventures of Robinson Crusoe"
          ],
          [
           "The Writings of Thomas Jefferson, Vol. 8 (of 9): Being His Autobiography, Correspondence, Reports, Messages, Addresses, and Other Writings, Official and Private"
          ],
          [
           "The Writings of Thomas Jefferson, Vol. 9 (of 9): Being His Autobiography, Correspondence, Reports, Messages, Addresses, and Other Writings, Official and Private"
          ],
          [
           "The History of the Pyrates. Vol. II.: Containing the lives of Captain Misson, Captain Bowen, Captain Kidd, Captain Tew, Captain Halsey, Captain White, Captain Condent, Captain Bellamy, Captain Fly, Captain Howard, Captain Lewis, Captain Cornelius, Captain Williams, Captain Burgess, Captain North, and their several crews"
          ],
          [
           "The Watsons: By Jane Austen, Concluded by L. Oulton"
          ],
          [
           "The Life, Adventures & Piracies of the Famous Captain Singleton"
          ],
          [
           "Robinson Crusoe, Told to the Children by John Lang"
          ],
          [
           "The Consolidator; or, Memoirs of Sundry Transactions from the World in the Moon"
          ],
          [
           "Lady Susan"
          ],
          [
           "Tour through the Eastern Counties of England, 1722"
          ]
         ],
         "hovertemplate": "color=18th century CE<br>proj_0=%{x}<br>proj_1=%{y}<br>title=%{customdata[0]}<extra></extra>",
         "legendgroup": "18th century CE",
         "marker": {
          "color": "#16FF32",
          "symbol": "circle"
         },
         "mode": "markers",
         "name": "18th century CE",
         "orientation": "v",
         "showlegend": true,
         "type": "scatter",
         "x": [
          2.755427837371826,
          1.6735727787017822,
          2.366786003112793,
          1.8322381973266602,
          2.774672031402588,
          2.8210628032684326,
          2.049455165863037,
          1.629456639289856,
          2.6168251037597656,
          2.6216506958007812,
          2.4271738529205322,
          2.775620460510254,
          1.9594898223876953,
          2.1367571353912354,
          2.2082438468933105,
          2.755215644836426,
          2.6719043254852295,
          3.9285366535186768,
          6.917850017547607,
          6.855662822723389,
          6.791746616363525,
          6.869089603424072,
          1.7222658395767212,
          3.9701039791107178,
          3.044342279434204,
          2.988298177719116,
          6.871636867523193,
          2.6268415451049805,
          2.4642574787139893,
          3.880586624145508,
          2.7084367275238037,
          2.223458766937256,
          2.390418291091919,
          2.4151320457458496,
          2.4808788299560547,
          2.8394906520843506,
          2.7966256141662598,
          1.9530718326568604,
          3.1692347526550293,
          2.603253126144409,
          2.9755663871765137,
          2.5749151706695557,
          2.7359390258789062,
          2.73976731300354,
          1.9835455417633057,
          2.846773862838745,
          2.7824604511260986,
          1.762902855873108,
          2.167254686355591,
          2.006932020187378,
          2.108516216278076,
          3.3022916316986084,
          2.7989003658294678,
          2.107208251953125,
          2.6919631958007812,
          6.859467506408691,
          6.86453104019165,
          4.134829998016357,
          1.7673434019088745,
          2.0981175899505615,
          6.861384868621826,
          6.878477096557617,
          6.802127361297607,
          2.536623477935791,
          6.800240993499756,
          6.812731742858887,
          1.7545385360717773,
          6.704713821411133,
          6.9124627113342285,
          2.02892804145813,
          2.8421294689178467,
          2.118776559829712,
          2.6118993759155273,
          1.927588701248169,
          2.9064886569976807,
          2.0169808864593506
         ],
         "xaxis": "x",
         "y": [
          4.150263786315918,
          -0.1390966773033142,
          -0.011419652961194515,
          -0.5065624713897705,
          4.180450439453125,
          4.219949245452881,
          -0.08617863059043884,
          -0.3484988510608673,
          4.3373613357543945,
          0.8790194988250732,
          0.7838727831840515,
          4.178155899047852,
          -0.026913801208138466,
          0.3578531742095947,
          -0.3686958849430084,
          4.160524845123291,
          4.2968926429748535,
          0.8929802179336548,
          -0.9380372166633606,
          -0.9478264451026917,
          -0.8420690298080444,
          -0.9068037867546082,
          0.010670949704945087,
          0.925288200378418,
          0.5276731848716736,
          0.8212004899978638,
          -0.8902990818023682,
          4.33946418762207,
          0.8293821811676025,
          1.1750656366348267,
          0.687612771987915,
          -0.16001296043395996,
          0.6875120997428894,
          0.6892353296279907,
          0.7976755499839783,
          0.9388254284858704,
          0.6927427053451538,
          -0.3282110095024109,
          1.3960639238357544,
          0.9483988881111145,
          1.2097641229629517,
          0.8858245611190796,
          0.9175125956535339,
          0.9487242698669434,
          -0.42649462819099426,
          3.5829243659973145,
          0.8585289120674133,
          -0.014257636852562428,
          0.285087525844574,
          0.08069836348295212,
          -0.16718578338623047,
          1.6365042924880981,
          4.139546871185303,
          -0.21491236984729767,
          4.273943901062012,
          -0.9082285165786743,
          -0.952927827835083,
          0.15382374823093414,
          -0.0849471166729927,
          -0.2892065644264221,
          -0.8271009922027588,
          -0.9273636937141418,
          -0.8871374130249023,
          0.8659468293190002,
          -0.8220077753067017,
          -0.9495429992675781,
          -0.4669746160507202,
          -0.7627350687980652,
          -0.9553846716880798,
          -0.1469271183013916,
          3.9908883571624756,
          -0.2077038586139679,
          0.9363968372344971,
          0.07607219368219376,
          3.887378692626953,
          0.17753323912620544
         ],
         "yaxis": "y"
        },
        {
         "customdata": [
          [
           "Discourses on the First Decade of Titus Livius"
          ],
          [
           "The Prince"
          ],
          [
           "Machiavelli, Volume I"
          ],
          [
           "History of Florence and of the Affairs of Italy: From the Earliest Times to the Death of Lorenzo the Magnificent"
          ],
          [
           "The Prince"
          ]
         ],
         "hovertemplate": "color=15th century CE<br>proj_0=%{x}<br>proj_1=%{y}<br>title=%{customdata[0]}<extra></extra>",
         "legendgroup": "15th century CE",
         "marker": {
          "color": "#F7E1A0",
          "symbol": "circle"
         },
         "mode": "markers",
         "name": "15th century CE",
         "orientation": "v",
         "showlegend": true,
         "type": "scatter",
         "x": [
          9.290446281433105,
          9.343283653259277,
          8.966104507446289,
          9.269185066223145,
          9.268218994140625
         ],
         "xaxis": "x",
         "y": [
          7.4995341300964355,
          7.5440144538879395,
          7.2099127769470215,
          7.523479461669922,
          7.49127197265625
         ],
         "yaxis": "y"
        },
        {
         "customdata": [
          [
           "The Orations of Marcus Tullius Cicero, Volume 4"
          ],
          [
           "Cato Maior de Senectute with Introduction and Notes"
          ],
          [
           "Academica"
          ],
          [
           "Cicero's Tusculan Disputations: Also, Treatises On The Nature Of The Gods, And On The Commonwealth"
          ],
          [
           "The Letters of Cicero, Volume 1: The Whole Extant Correspodence in Chronological Order"
          ],
          [
           "Treatises on Friendship and Old Age"
          ],
          [
           "Letters of Marcus Tullius Cicero"
          ],
          [
           "The Academic Questions, Treatise De Finibus, and Tusculan Disputations, of M.T. Cicero, With a Sketch of the Greek Philosophers Mentioned by Cicero"
          ],
          [
           "Speeches against Catilina"
          ],
          [
           "De Officiis"
          ],
          [
           "Cicero: Letters to Atticus, Vol. 2 of 3"
          ],
          [
           "Cicero: Letters to Atticus, Vol. 3 of 3"
          ],
          [
           "The republic of Cicero: Translated from the Latin; and Accompanied With a Critical and Historical Introduction."
          ],
          [
           "Cicero: Letters to Atticus, Vol. 1 of 3"
          ]
         ],
         "hovertemplate": "color=1st century BCE<br>proj_0=%{x}<br>proj_1=%{y}<br>title=%{customdata[0]}<extra></extra>",
         "legendgroup": "1st century BCE",
         "marker": {
          "color": "#E2E2E2",
          "symbol": "circle"
         },
         "mode": "markers",
         "name": "1st century BCE",
         "orientation": "v",
         "showlegend": true,
         "type": "scatter",
         "x": [
          3.6749086380004883,
          3.8691658973693848,
          3.863489866256714,
          3.7152516841888428,
          3.7258336544036865,
          3.6724371910095215,
          3.63240647315979,
          3.7309019565582275,
          3.945657730102539,
          3.8135955333709717,
          3.7558131217956543,
          3.7399513721466064,
          3.806795835494995,
          3.7310280799865723
         ],
         "xaxis": "x",
         "y": [
          6.208514213562012,
          6.509975433349609,
          6.51246452331543,
          6.352972030639648,
          6.371268272399902,
          6.22655725479126,
          6.284346580505371,
          6.354115009307861,
          6.591444969177246,
          6.465846061706543,
          6.394313335418701,
          6.4118876457214355,
          6.423043251037598,
          6.386045932769775
         ],
         "yaxis": "y"
        },
        {
         "customdata": [
          [
           "Apology, Crito, and Phaedo of Socrates"
          ],
          [
           "The Republic"
          ],
          [
           "The Republic"
          ],
          [
           "Critias"
          ],
          [
           "Timaeus"
          ],
          [
           "Lysis"
          ],
          [
           "Charmides"
          ],
          [
           "Laches"
          ],
          [
           "Protagoras"
          ],
          [
           "Euthydemus"
          ],
          [
           "Symposium"
          ],
          [
           "Cratylus"
          ],
          [
           "Ion"
          ],
          [
           "Phaedrus"
          ],
          [
           "Euthyphro"
          ],
          [
           "Meno"
          ],
          [
           "Apology"
          ],
          [
           "Crito"
          ],
          [
           "Phaedo"
          ],
          [
           "Gorgias"
          ],
          [
           "Lesser Hippias"
          ],
          [
           "Alcibiades I"
          ],
          [
           "Alcibiades II"
          ],
          [
           "Eryxias"
          ],
          [
           "Menexenus"
          ],
          [
           "Parmenides"
          ],
          [
           "Theaetetus"
          ],
          [
           "Sophist"
          ],
          [
           "Statesman"
          ],
          [
           "Philebus"
          ],
          [
           "Laws"
          ],
          [
           "The Republic of Plato"
          ]
         ],
         "hovertemplate": "color=4th century BCE<br>proj_0=%{x}<br>proj_1=%{y}<br>title=%{customdata[0]}<extra></extra>",
         "legendgroup": "4th century BCE",
         "marker": {
          "color": "#1CBE4F",
          "symbol": "circle"
         },
         "mode": "markers",
         "name": "4th century BCE",
         "orientation": "v",
         "showlegend": true,
         "type": "scatter",
         "x": [
          6.63523530960083,
          7.008002281188965,
          7.002382755279541,
          6.2331929206848145,
          6.801102638244629,
          6.201517105102539,
          6.656126499176025,
          5.784639358520508,
          6.482256889343262,
          6.215628147125244,
          6.396885871887207,
          6.310275554656982,
          5.695658206939697,
          6.644987106323242,
          5.613258361816406,
          6.0196709632873535,
          6.343131065368652,
          5.841579437255859,
          6.7037272453308105,
          6.318168640136719,
          5.720084190368652,
          5.699280261993408,
          5.849797248840332,
          5.822968482971191,
          6.310624599456787,
          6.693656921386719,
          6.502280235290527,
          6.269747734069824,
          6.288418292999268,
          6.549383640289307,
          7.324417591094971,
          6.919770240783691
         ],
         "xaxis": "x",
         "y": [
          2.0972607135772705,
          2.0356833934783936,
          2.100270986557007,
          2.012416124343872,
          2.0773112773895264,
          2.3410723209381104,
          2.224602460861206,
          2.1350648403167725,
          2.2476062774658203,
          2.315520763397217,
          2.322593927383423,
          2.2731611728668213,
          2.125673532485962,
          1.9368537664413452,
          2.0414514541625977,
          1.9428319931030273,
          1.9688432216644287,
          2.1653923988342285,
          2.189803123474121,
          1.90798020362854,
          2.1084580421447754,
          2.084667682647705,
          2.255093812942505,
          2.2454357147216797,
          2.168386220932007,
          2.211184024810791,
          1.915906310081482,
          2.080587863922119,
          1.9434906244277954,
          1.9938879013061523,
          2.1722617149353027,
          2.0822978019714355
         ],
         "yaxis": "y"
        },
        {
         "customdata": [
          [
           "London to Ladysmith via Pretoria"
          ],
          [
           "Liberalism and the Social Problem"
          ],
          [
           "Crome Yellow"
          ],
          [
           "The Defeat of Youth, and Other Poems"
          ],
          [
           "Beyond Lies the Wub"
          ],
          [
           "Beyond the Door"
          ],
          [
           "The Crystal Crypt"
          ],
          [
           "The Defenders"
          ],
          [
           "The Gun"
          ],
          [
           "The Skull"
          ],
          [
           "Writings in the United Amateur, 1915-1922"
          ],
          [
           "The Shunned House"
          ],
          [
           "The Eyes Have It"
          ],
          [
           "Second Variety"
          ],
          [
           "The Variable Man"
          ],
          [
           "Mr. Spaceship"
          ],
          [
           "Piper in the Woods"
          ],
          [
           "The Dwelling Place of Light — Volume 1"
          ],
          [
           "The Dwelling Place of Light — Complete"
          ],
          [
           "Mr. Crewe's Career — Volume 1"
          ],
          [
           "Mr. Crewe's Career — Volume 3"
          ],
          [
           "Mr. Crewe's Career — Complete"
          ],
          [
           "A Far Country — Volume 2"
          ],
          [
           "A Far Country — Volume 3"
          ],
          [
           "A Far Country — Complete"
          ],
          [
           "Coniston — Volume 01"
          ],
          [
           "Coniston — Volume 02"
          ],
          [
           "Coniston — Volume 03"
          ],
          [
           "Coniston — Volume 04"
          ],
          [
           "Coniston — Complete"
          ],
          [
           "The Crossing"
          ],
          [
           "Mortal Coils"
          ],
          [
           "Tony and the Beetles"
          ],
          [
           "Ian Hamilton's March"
          ],
          [
           "The Hanging Stranger"
          ],
          [
           "Lord Randolph Churchill"
          ],
          [
           "My African Journey"
          ],
          [
           "The Burning Wheel"
          ],
          [
           "The River War: An Account of the Reconquest of the Sudan"
          ],
          [
           "Leda"
          ],
          [
           "The Dunwich Horror"
          ],
          [
           "Savrola: A Tale of the Revolution in Laurania"
          ],
          [
           "The Inside of the Cup — Volume 01"
          ],
          [
           "The Inside of the Cup — Volume 02"
          ],
          [
           "The Inside of the Cup — Volume 03"
          ],
          [
           "The Inside of the Cup — Volume 04"
          ],
          [
           "The Inside of the Cup — Volume 07"
          ],
          [
           "The Inside of the Cup — Complete"
          ],
          [
           "Richard Carvel — Volume 02"
          ],
          [
           "Richard Carvel — Volume 07"
          ],
          [
           "Richard Carvel — Complete"
          ],
          [
           "A Modern Chronicle — Volume 01"
          ],
          [
           "A Modern Chronicle — Volume 02"
          ],
          [
           "A Modern Chronicle — Complete"
          ],
          [
           "The Celebrity, Volume 01"
          ],
          [
           "The Celebrity, Volume 04"
          ],
          [
           "The Celebrity, Complete"
          ],
          [
           "The Crisis — Volume 01"
          ],
          [
           "The Crisis — Volume 02"
          ],
          [
           "The Crisis — Volume 03"
          ],
          [
           "The Crisis — Volume 04"
          ],
          [
           "The Crisis — Volume 05"
          ],
          [
           "The Crisis — Volume 06"
          ],
          [
           "The Crisis — Volume 07"
          ],
          [
           "The Crisis — Volume 08"
          ],
          [
           "The Crisis — Complete"
          ],
          [
           "Dr. Jonathan"
          ],
          [
           "A Traveller in War-Time"
          ],
          [
           "An essay on the American contribution and the democratic idea"
          ],
          [
           "Limbo"
          ],
          [
           "The World Crisis, Volume 1 (of 6)"
          ],
          [
           "Antic Hay"
          ],
          [
           "On the Margin: Notes and Essays"
          ],
          [
           "Jonah: Christmas 1917"
          ],
          [
           "Little Mexican & Other Stories"
          ],
          [
           "Selected Poems"
          ],
          [
           "Mr. Keegan's Elopement"
          ],
          [
           "The colour out of space"
          ],
          [
           "The call of Cthulhu"
          ],
          [
           "He"
          ],
          [
           "The festival"
          ],
          [
           "Prize ship"
          ],
          [
           "The lurking fear"
          ]
         ],
         "hovertemplate": "color=20th century CE<br>proj_0=%{x}<br>proj_1=%{y}<br>title=%{customdata[0]}<extra></extra>",
         "legendgroup": "20th century CE",
         "marker": {
          "color": "#C4451C",
          "symbol": "circle"
         },
         "mode": "markers",
         "name": "20th century CE",
         "orientation": "v",
         "showlegend": true,
         "type": "scatter",
         "x": [
          1.1084877252578735,
          1.2981144189834595,
          4.419694423675537,
          4.498459815979004,
          3.51204514503479,
          3.4317851066589355,
          3.2037014961242676,
          3.3262336254119873,
          3.4706828594207764,
          3.2562246322631836,
          2.780900478363037,
          3.0437519550323486,
          3.3915212154388428,
          3.12079119682312,
          3.231736183166504,
          3.376875638961792,
          3.276334047317505,
          0.7576115131378174,
          0.8581477403640747,
          0.6894910335540771,
          0.7697768211364746,
          0.626735508441925,
          0.6335274577140808,
          0.5263622999191284,
          0.5612001419067383,
          0.7237375378608704,
          0.7670555710792542,
          0.6315922737121582,
          0.6710734963417053,
          0.6162611246109009,
          0.9701509475708008,
          4.4694013595581055,
          3.491894245147705,
          1.40251886844635,
          3.466209650039673,
          1.3390722274780273,
          1.3161098957061768,
          4.242853164672852,
          1.295516014099121,
          4.355700969696045,
          3.114441394805908,
          1.136095643043518,
          1.1423898935317993,
          1.163408875465393,
          1.1356127262115479,
          1.2216453552246094,
          1.3075449466705322,
          1.1040562391281128,
          0.9781374931335449,
          1.0371962785720825,
          0.9773846864700317,
          1.2528456449508667,
          1.2687313556671143,
          1.1582852602005005,
          1.3885424137115479,
          1.3780734539031982,
          1.3899189233779907,
          1.202976107597351,
          1.2330421209335327,
          0.9187899231910706,
          0.9380989074707031,
          0.8839432597160339,
          0.9018115401268005,
          1.2080763578414917,
          1.1972947120666504,
          0.8673602938652039,
          1.7630800008773804,
          1.2314008474349976,
          1.5798362493515015,
          4.509259223937988,
          1.0647796392440796,
          4.458430290222168,
          4.608128547668457,
          4.02924108505249,
          4.446644306182861,
          4.447845935821533,
          1.6146697998046875,
          3.181790590286255,
          3.0358824729919434,
          3.1713500022888184,
          3.2078192234039307,
          3.1880431175231934,
          3.189748764038086
         ],
         "xaxis": "x",
         "y": [
          5.599142551422119,
          5.507430076599121,
          0.6209254860877991,
          0.36796101927757263,
          3.0057859420776367,
          2.8630800247192383,
          3.312014102935791,
          3.3797481060028076,
          3.13850474357605,
          3.3449714183807373,
          1.979383111000061,
          2.050098180770874,
          2.761605739593506,
          3.295297145843506,
          3.3768601417541504,
          3.2196691036224365,
          3.2979514598846436,
          6.474615097045898,
          6.524392604827881,
          6.470549583435059,
          6.542784214019775,
          6.423480033874512,
          5.917192459106445,
          6.0591654777526855,
          6.089309215545654,
          6.300037860870361,
          6.302910804748535,
          6.258276462554932,
          6.2239179611206055,
          6.253872394561768,
          5.576919078826904,
          0.4921482801437378,
          3.065971612930298,
          6.101297378540039,
          3.168898105621338,
          5.352977275848389,
          5.397533416748047,
          0.7979442477226257,
          5.463405609130859,
          0.523667573928833,
          1.9603898525238037,
          5.760284423828125,
          6.359738349914551,
          6.475930690765381,
          6.317582130432129,
          6.335338592529297,
          6.330953598022461,
          6.508708953857422,
          6.435420036315918,
          6.341678619384766,
          6.438673496246338,
          5.866060256958008,
          5.9694437980651855,
          5.941481590270996,
          5.958525657653809,
          6.0472259521484375,
          6.078252792358398,
          6.327121257781982,
          6.090206146240234,
          5.9244279861450195,
          5.910872936248779,
          6.215576171875,
          5.872801780700684,
          6.12900447845459,
          5.65364408493042,
          5.984205722808838,
          5.2215046882629395,
          5.5699968338012695,
          5.385936737060547,
          0.36767464876174927,
          5.769351482391357,
          0.3808644413948059,
          0.2721629738807678,
          0.8438708186149597,
          0.24014928936958313,
          0.4626051187515259,
          5.2873663902282715,
          1.9890673160552979,
          2.055781602859497,
          1.929911494255066,
          1.958914875984192,
          3.3500444889068604,
          1.9588576555252075
         ],
         "yaxis": "y"
        },
        {
         "customdata": [
          [
           "The Iliad of Homer: Translated into English Blank Verse by William Cowper"
          ],
          [
           "The Odyssey: Rendered into English prose for the use of those who cannot read the original"
          ],
          [
           "The Odyssey of Homer"
          ],
          [
           "The Iliad"
          ],
          [
           "The Iliad"
          ],
          [
           "The Odyssey of Homer"
          ],
          [
           "Odysseus, the Hero of Ithaca: Adapted from the Third Book of the Primary Schools of Athens, Greece"
          ],
          [
           "The Iliad"
          ],
          [
           "The Odyssey"
          ],
          [
           "The Adventures of Ulysses the Wanderer"
          ],
          [
           "The Odysseys of Homer, together with the shorter poems"
          ],
          [
           "The Iliads of Homer: Translated according to the Greek"
          ],
          [
           "The Iliad"
          ],
          [
           "The Iliad"
          ]
         ],
         "hovertemplate": "color=7th century BCE<br>proj_0=%{x}<br>proj_1=%{y}<br>title=%{customdata[0]}<extra></extra>",
         "legendgroup": "7th century BCE",
         "marker": {
          "color": "#DEA0FD",
          "symbol": "circle"
         },
         "mode": "markers",
         "name": "7th century BCE",
         "orientation": "v",
         "showlegend": true,
         "type": "scatter",
         "x": [
          6.412468910217285,
          6.245299816131592,
          6.2731523513793945,
          6.413685321807861,
          6.399707794189453,
          6.32045841217041,
          5.754056930541992,
          6.386974811553955,
          6.3485918045043945,
          5.7912397384643555,
          6.309362888336182,
          6.323060512542725,
          6.414727687835693,
          6.329826831817627
         ],
         "xaxis": "x",
         "y": [
          4.155766010284424,
          3.986222267150879,
          3.9979379177093506,
          4.128627300262451,
          4.1385321617126465,
          4.0556416511535645,
          3.0105226039886475,
          4.121750831604004,
          4.0851335525512695,
          2.903409004211426,
          4.051686763763428,
          4.059506893157959,
          4.157585144042969,
          4.068284511566162
         ],
         "yaxis": "y"
        },
        {
         "customdata": [
          [
           "Tartuffe; Or, The Hypocrite"
          ],
          [
           "Amphitryon"
          ],
          [
           "The Flying Doctor: (Le Médecin Volant)"
          ],
          [
           "The Jealousy of le Barbouillé: (La Jalousie du Barbouillé)"
          ],
          [
           "Tartuffe; Or, The Hypocrite"
          ],
          [
           "The Middle-Class Gentleman"
          ],
          [
           "The Pretentious Young Ladies"
          ],
          [
           "The Blunderer"
          ],
          [
           "The Love-Tiff"
          ],
          [
           "The Bores: A Comedy in Three Acts"
          ],
          [
           "Sganarelle, or, the Self-Deceived Husband"
          ],
          [
           "Don Garcia of Navarre; Or, the Jealous Prince. A Heroic Comedy in Five Acts."
          ],
          [
           "The School for Husbands"
          ],
          [
           "The Miser"
          ],
          [
           "Monsieur De Pourceaugnac"
          ],
          [
           "The Magnificent Lovers (Les Amants magnifiques)"
          ],
          [
           "The Shopkeeper Turned Gentleman"
          ],
          [
           "The Imaginary Invalid"
          ]
         ],
         "hovertemplate": "color=17th century CE<br>proj_0=%{x}<br>proj_1=%{y}<br>title=%{customdata[0]}<extra></extra>",
         "legendgroup": "17th century CE",
         "marker": {
          "color": "#FE00FA",
          "symbol": "circle"
         },
         "mode": "markers",
         "name": "17th century CE",
         "orientation": "v",
         "showlegend": true,
         "type": "scatter",
         "x": [
          4.547773361206055,
          4.372865200042725,
          4.156214714050293,
          4.329115867614746,
          4.4463605880737305,
          4.3401947021484375,
          4.380317687988281,
          4.554239273071289,
          4.596817970275879,
          4.561837196350098,
          4.491866588592529,
          4.588947296142578,
          4.395554065704346,
          4.395659446716309,
          4.311561584472656,
          4.346436500549316,
          4.452392578125,
          4.376506805419922
         ],
         "xaxis": "x",
         "y": [
          1.7673696279525757,
          1.532642126083374,
          1.600415587425232,
          1.5882432460784912,
          1.5618867874145508,
          1.6118131875991821,
          1.5536599159240723,
          1.8110274076461792,
          1.827697515487671,
          1.786694884300232,
          1.748368740081787,
          1.8373041152954102,
          1.6915192604064941,
          1.4882476329803467,
          1.4772158861160278,
          1.4835426807403564,
          1.6906321048736572,
          1.5671576261520386
         ],
         "yaxis": "y"
        },
        {
         "customdata": [
          [
           "Lambda"
          ],
          [
           "Deathway"
          ]
         ],
         "hovertemplate": "color=21st century CE<br>proj_0=%{x}<br>proj_1=%{y}<br>title=%{customdata[0]}<extra></extra>",
         "legendgroup": "21st century CE",
         "marker": {
          "color": "#325A9B",
          "symbol": "circle"
         },
         "mode": "markers",
         "name": "21st century CE",
         "orientation": "v",
         "showlegend": true,
         "type": "scatter",
         "x": [
          1.8426836729049683,
          2.3947951793670654
         ],
         "xaxis": "x",
         "y": [
          3.2805588245391846,
          2.954535484313965
         ],
         "yaxis": "y"
        }
       ],
       "layout": {
        "height": 800,
        "legend": {
         "title": {
          "text": "color"
         },
         "tracegroupgap": 0
        },
        "margin": {
         "t": 60
        },
        "template": {
         "data": {
          "bar": [
           {
            "error_x": {
             "color": "#2a3f5f"
            },
            "error_y": {
             "color": "#2a3f5f"
            },
            "marker": {
             "line": {
              "color": "#E5ECF6",
              "width": 0.5
             },
             "pattern": {
              "fillmode": "overlay",
              "size": 10,
              "solidity": 0.2
             }
            },
            "type": "bar"
           }
          ],
          "barpolar": [
           {
            "marker": {
             "line": {
              "color": "#E5ECF6",
              "width": 0.5
             },
             "pattern": {
              "fillmode": "overlay",
              "size": 10,
              "solidity": 0.2
             }
            },
            "type": "barpolar"
           }
          ],
          "carpet": [
           {
            "aaxis": {
             "endlinecolor": "#2a3f5f",
             "gridcolor": "white",
             "linecolor": "white",
             "minorgridcolor": "white",
             "startlinecolor": "#2a3f5f"
            },
            "baxis": {
             "endlinecolor": "#2a3f5f",
             "gridcolor": "white",
             "linecolor": "white",
             "minorgridcolor": "white",
             "startlinecolor": "#2a3f5f"
            },
            "type": "carpet"
           }
          ],
          "choropleth": [
           {
            "colorbar": {
             "outlinewidth": 0,
             "ticks": ""
            },
            "type": "choropleth"
           }
          ],
          "contour": [
           {
            "colorbar": {
             "outlinewidth": 0,
             "ticks": ""
            },
            "colorscale": [
             [
              0,
              "#0d0887"
             ],
             [
              0.1111111111111111,
              "#46039f"
             ],
             [
              0.2222222222222222,
              "#7201a8"
             ],
             [
              0.3333333333333333,
              "#9c179e"
             ],
             [
              0.4444444444444444,
              "#bd3786"
             ],
             [
              0.5555555555555556,
              "#d8576b"
             ],
             [
              0.6666666666666666,
              "#ed7953"
             ],
             [
              0.7777777777777778,
              "#fb9f3a"
             ],
             [
              0.8888888888888888,
              "#fdca26"
             ],
             [
              1,
              "#f0f921"
             ]
            ],
            "type": "contour"
           }
          ],
          "contourcarpet": [
           {
            "colorbar": {
             "outlinewidth": 0,
             "ticks": ""
            },
            "type": "contourcarpet"
           }
          ],
          "heatmap": [
           {
            "colorbar": {
             "outlinewidth": 0,
             "ticks": ""
            },
            "colorscale": [
             [
              0,
              "#0d0887"
             ],
             [
              0.1111111111111111,
              "#46039f"
             ],
             [
              0.2222222222222222,
              "#7201a8"
             ],
             [
              0.3333333333333333,
              "#9c179e"
             ],
             [
              0.4444444444444444,
              "#bd3786"
             ],
             [
              0.5555555555555556,
              "#d8576b"
             ],
             [
              0.6666666666666666,
              "#ed7953"
             ],
             [
              0.7777777777777778,
              "#fb9f3a"
             ],
             [
              0.8888888888888888,
              "#fdca26"
             ],
             [
              1,
              "#f0f921"
             ]
            ],
            "type": "heatmap"
           }
          ],
          "heatmapgl": [
           {
            "colorbar": {
             "outlinewidth": 0,
             "ticks": ""
            },
            "colorscale": [
             [
              0,
              "#0d0887"
             ],
             [
              0.1111111111111111,
              "#46039f"
             ],
             [
              0.2222222222222222,
              "#7201a8"
             ],
             [
              0.3333333333333333,
              "#9c179e"
             ],
             [
              0.4444444444444444,
              "#bd3786"
             ],
             [
              0.5555555555555556,
              "#d8576b"
             ],
             [
              0.6666666666666666,
              "#ed7953"
             ],
             [
              0.7777777777777778,
              "#fb9f3a"
             ],
             [
              0.8888888888888888,
              "#fdca26"
             ],
             [
              1,
              "#f0f921"
             ]
            ],
            "type": "heatmapgl"
           }
          ],
          "histogram": [
           {
            "marker": {
             "pattern": {
              "fillmode": "overlay",
              "size": 10,
              "solidity": 0.2
             }
            },
            "type": "histogram"
           }
          ],
          "histogram2d": [
           {
            "colorbar": {
             "outlinewidth": 0,
             "ticks": ""
            },
            "colorscale": [
             [
              0,
              "#0d0887"
             ],
             [
              0.1111111111111111,
              "#46039f"
             ],
             [
              0.2222222222222222,
              "#7201a8"
             ],
             [
              0.3333333333333333,
              "#9c179e"
             ],
             [
              0.4444444444444444,
              "#bd3786"
             ],
             [
              0.5555555555555556,
              "#d8576b"
             ],
             [
              0.6666666666666666,
              "#ed7953"
             ],
             [
              0.7777777777777778,
              "#fb9f3a"
             ],
             [
              0.8888888888888888,
              "#fdca26"
             ],
             [
              1,
              "#f0f921"
             ]
            ],
            "type": "histogram2d"
           }
          ],
          "histogram2dcontour": [
           {
            "colorbar": {
             "outlinewidth": 0,
             "ticks": ""
            },
            "colorscale": [
             [
              0,
              "#0d0887"
             ],
             [
              0.1111111111111111,
              "#46039f"
             ],
             [
              0.2222222222222222,
              "#7201a8"
             ],
             [
              0.3333333333333333,
              "#9c179e"
             ],
             [
              0.4444444444444444,
              "#bd3786"
             ],
             [
              0.5555555555555556,
              "#d8576b"
             ],
             [
              0.6666666666666666,
              "#ed7953"
             ],
             [
              0.7777777777777778,
              "#fb9f3a"
             ],
             [
              0.8888888888888888,
              "#fdca26"
             ],
             [
              1,
              "#f0f921"
             ]
            ],
            "type": "histogram2dcontour"
           }
          ],
          "mesh3d": [
           {
            "colorbar": {
             "outlinewidth": 0,
             "ticks": ""
            },
            "type": "mesh3d"
           }
          ],
          "parcoords": [
           {
            "line": {
             "colorbar": {
              "outlinewidth": 0,
              "ticks": ""
             }
            },
            "type": "parcoords"
           }
          ],
          "pie": [
           {
            "automargin": true,
            "type": "pie"
           }
          ],
          "scatter": [
           {
            "fillpattern": {
             "fillmode": "overlay",
             "size": 10,
             "solidity": 0.2
            },
            "type": "scatter"
           }
          ],
          "scatter3d": [
           {
            "line": {
             "colorbar": {
              "outlinewidth": 0,
              "ticks": ""
             }
            },
            "marker": {
             "colorbar": {
              "outlinewidth": 0,
              "ticks": ""
             }
            },
            "type": "scatter3d"
           }
          ],
          "scattercarpet": [
           {
            "marker": {
             "colorbar": {
              "outlinewidth": 0,
              "ticks": ""
             }
            },
            "type": "scattercarpet"
           }
          ],
          "scattergeo": [
           {
            "marker": {
             "colorbar": {
              "outlinewidth": 0,
              "ticks": ""
             }
            },
            "type": "scattergeo"
           }
          ],
          "scattergl": [
           {
            "marker": {
             "colorbar": {
              "outlinewidth": 0,
              "ticks": ""
             }
            },
            "type": "scattergl"
           }
          ],
          "scattermapbox": [
           {
            "marker": {
             "colorbar": {
              "outlinewidth": 0,
              "ticks": ""
             }
            },
            "type": "scattermapbox"
           }
          ],
          "scatterpolar": [
           {
            "marker": {
             "colorbar": {
              "outlinewidth": 0,
              "ticks": ""
             }
            },
            "type": "scatterpolar"
           }
          ],
          "scatterpolargl": [
           {
            "marker": {
             "colorbar": {
              "outlinewidth": 0,
              "ticks": ""
             }
            },
            "type": "scatterpolargl"
           }
          ],
          "scatterternary": [
           {
            "marker": {
             "colorbar": {
              "outlinewidth": 0,
              "ticks": ""
             }
            },
            "type": "scatterternary"
           }
          ],
          "surface": [
           {
            "colorbar": {
             "outlinewidth": 0,
             "ticks": ""
            },
            "colorscale": [
             [
              0,
              "#0d0887"
             ],
             [
              0.1111111111111111,
              "#46039f"
             ],
             [
              0.2222222222222222,
              "#7201a8"
             ],
             [
              0.3333333333333333,
              "#9c179e"
             ],
             [
              0.4444444444444444,
              "#bd3786"
             ],
             [
              0.5555555555555556,
              "#d8576b"
             ],
             [
              0.6666666666666666,
              "#ed7953"
             ],
             [
              0.7777777777777778,
              "#fb9f3a"
             ],
             [
              0.8888888888888888,
              "#fdca26"
             ],
             [
              1,
              "#f0f921"
             ]
            ],
            "type": "surface"
           }
          ],
          "table": [
           {
            "cells": {
             "fill": {
              "color": "#EBF0F8"
             },
             "line": {
              "color": "white"
             }
            },
            "header": {
             "fill": {
              "color": "#C8D4E3"
             },
             "line": {
              "color": "white"
             }
            },
            "type": "table"
           }
          ]
         },
         "layout": {
          "annotationdefaults": {
           "arrowcolor": "#2a3f5f",
           "arrowhead": 0,
           "arrowwidth": 1
          },
          "autotypenumbers": "strict",
          "coloraxis": {
           "colorbar": {
            "outlinewidth": 0,
            "ticks": ""
           }
          },
          "colorscale": {
           "diverging": [
            [
             0,
             "#8e0152"
            ],
            [
             0.1,
             "#c51b7d"
            ],
            [
             0.2,
             "#de77ae"
            ],
            [
             0.3,
             "#f1b6da"
            ],
            [
             0.4,
             "#fde0ef"
            ],
            [
             0.5,
             "#f7f7f7"
            ],
            [
             0.6,
             "#e6f5d0"
            ],
            [
             0.7,
             "#b8e186"
            ],
            [
             0.8,
             "#7fbc41"
            ],
            [
             0.9,
             "#4d9221"
            ],
            [
             1,
             "#276419"
            ]
           ],
           "sequential": [
            [
             0,
             "#0d0887"
            ],
            [
             0.1111111111111111,
             "#46039f"
            ],
            [
             0.2222222222222222,
             "#7201a8"
            ],
            [
             0.3333333333333333,
             "#9c179e"
            ],
            [
             0.4444444444444444,
             "#bd3786"
            ],
            [
             0.5555555555555556,
             "#d8576b"
            ],
            [
             0.6666666666666666,
             "#ed7953"
            ],
            [
             0.7777777777777778,
             "#fb9f3a"
            ],
            [
             0.8888888888888888,
             "#fdca26"
            ],
            [
             1,
             "#f0f921"
            ]
           ],
           "sequentialminus": [
            [
             0,
             "#0d0887"
            ],
            [
             0.1111111111111111,
             "#46039f"
            ],
            [
             0.2222222222222222,
             "#7201a8"
            ],
            [
             0.3333333333333333,
             "#9c179e"
            ],
            [
             0.4444444444444444,
             "#bd3786"
            ],
            [
             0.5555555555555556,
             "#d8576b"
            ],
            [
             0.6666666666666666,
             "#ed7953"
            ],
            [
             0.7777777777777778,
             "#fb9f3a"
            ],
            [
             0.8888888888888888,
             "#fdca26"
            ],
            [
             1,
             "#f0f921"
            ]
           ]
          },
          "colorway": [
           "#636efa",
           "#EF553B",
           "#00cc96",
           "#ab63fa",
           "#FFA15A",
           "#19d3f3",
           "#FF6692",
           "#B6E880",
           "#FF97FF",
           "#FECB52"
          ],
          "font": {
           "color": "#2a3f5f"
          },
          "geo": {
           "bgcolor": "white",
           "lakecolor": "white",
           "landcolor": "#E5ECF6",
           "showlakes": true,
           "showland": true,
           "subunitcolor": "white"
          },
          "hoverlabel": {
           "align": "left"
          },
          "hovermode": "closest",
          "mapbox": {
           "style": "light"
          },
          "paper_bgcolor": "white",
          "plot_bgcolor": "#E5ECF6",
          "polar": {
           "angularaxis": {
            "gridcolor": "white",
            "linecolor": "white",
            "ticks": ""
           },
           "bgcolor": "#E5ECF6",
           "radialaxis": {
            "gridcolor": "white",
            "linecolor": "white",
            "ticks": ""
           }
          },
          "scene": {
           "xaxis": {
            "backgroundcolor": "#E5ECF6",
            "gridcolor": "white",
            "gridwidth": 2,
            "linecolor": "white",
            "showbackground": true,
            "ticks": "",
            "zerolinecolor": "white"
           },
           "yaxis": {
            "backgroundcolor": "#E5ECF6",
            "gridcolor": "white",
            "gridwidth": 2,
            "linecolor": "white",
            "showbackground": true,
            "ticks": "",
            "zerolinecolor": "white"
           },
           "zaxis": {
            "backgroundcolor": "#E5ECF6",
            "gridcolor": "white",
            "gridwidth": 2,
            "linecolor": "white",
            "showbackground": true,
            "ticks": "",
            "zerolinecolor": "white"
           }
          },
          "shapedefaults": {
           "line": {
            "color": "#2a3f5f"
           }
          },
          "ternary": {
           "aaxis": {
            "gridcolor": "white",
            "linecolor": "white",
            "ticks": ""
           },
           "baxis": {
            "gridcolor": "white",
            "linecolor": "white",
            "ticks": ""
           },
           "bgcolor": "#E5ECF6",
           "caxis": {
            "gridcolor": "white",
            "linecolor": "white",
            "ticks": ""
           }
          },
          "title": {
           "x": 0.05
          },
          "xaxis": {
           "automargin": true,
           "gridcolor": "white",
           "linecolor": "white",
           "ticks": "",
           "title": {
            "standoff": 15
           },
           "zerolinecolor": "white",
           "zerolinewidth": 2
          },
          "yaxis": {
           "automargin": true,
           "gridcolor": "white",
           "linecolor": "white",
           "ticks": "",
           "title": {
            "standoff": 15
           },
           "zerolinecolor": "white",
           "zerolinewidth": 2
          }
         }
        },
        "width": 1200,
        "xaxis": {
         "anchor": "y",
         "domain": [
          0,
          1
         ],
         "title": {
          "text": "proj_0"
         }
        },
        "yaxis": {
         "anchor": "x",
         "domain": [
          0,
          1
         ],
         "title": {
          "text": "proj_1"
         }
        }
       }
      }
     },
     "metadata": {},
     "output_type": "display_data"
    }
   ],
   "source": [
    "fig = px.scatter(data_frame = library_newtext,\n",
    "                 x='proj_0',\n",
    "                 y='proj_1',\n",
    "                 width=1200,\n",
    "                 height=800,\n",
    "                 color= library_newtext['authorcentury'].astype('category'),\n",
    "                 color_discrete_sequence=px.colors.qualitative.Alphabet, #Dark24\n",
    "                 hover_data= ['title']\n",
    "                 )\n",
    "\n",
    "fig.show()"
   ]
  },
  {
   "cell_type": "code",
   "execution_count": 42,
   "metadata": {},
   "outputs": [],
   "source": [
    "dists = spatial.distance.pdist(library_newtext.drop(columns=['id', 'title', 'author', 'authorcentury', 'proj_0', 'proj_1']).values,  metric='euclidean') #metric = 'cosine'"
   ]
  },
  {
   "cell_type": "code",
   "execution_count": 43,
   "metadata": {},
   "outputs": [
    {
     "data": {
      "text/plain": [
       "264.77692450088347"
      ]
     },
     "execution_count": 43,
     "metadata": {},
     "output_type": "execute_result"
    }
   ],
   "source": [
    "np.mean(dists)"
   ]
  },
  {
   "attachments": {},
   "cell_type": "markdown",
   "metadata": {},
   "source": [
    "note: to find out the dist between two authors, need to get the correct index for dist.\n",
    "\n",
    "for i < j < m (where m = num of authors):\n",
    "\n",
    "index = m * i + j - ((i + 2) * (i + 1)) // 2\n",
    "\n",
    "dists[index]"
   ]
  },
  {
   "attachments": {},
   "cell_type": "markdown",
   "metadata": {},
   "source": [
    "For Lambda, cosine distance:"
   ]
  },
  {
   "cell_type": "code",
   "execution_count": 44,
   "metadata": {},
   "outputs": [],
   "source": [
    "m = library_newtext.shape[0]\n",
    "j = m-2\n",
    "\n",
    "cos_dist = []\n",
    "titles = []\n",
    "authors = []\n",
    "\n",
    "for i in range(j):\n",
    "    titles.append(library_newtext['title'].iloc[i])\n",
    "    authors.append(library_newtext['author'].iloc[i])\n",
    "    cos_dist.append(dists[m * i + j - ((i + 2) * (i + 1)) // 2])"
   ]
  },
  {
   "cell_type": "code",
   "execution_count": 45,
   "metadata": {},
   "outputs": [
    {
     "data": {
      "text/html": [
       "<div>\n",
       "<style scoped>\n",
       "    .dataframe tbody tr th:only-of-type {\n",
       "        vertical-align: middle;\n",
       "    }\n",
       "\n",
       "    .dataframe tbody tr th {\n",
       "        vertical-align: top;\n",
       "    }\n",
       "\n",
       "    .dataframe thead th {\n",
       "        text-align: right;\n",
       "    }\n",
       "</style>\n",
       "<table border=\"1\" class=\"dataframe\">\n",
       "  <thead>\n",
       "    <tr style=\"text-align: right;\">\n",
       "      <th></th>\n",
       "      <th>title</th>\n",
       "      <th>author</th>\n",
       "      <th>Deathway</th>\n",
       "    </tr>\n",
       "  </thead>\n",
       "  <tbody>\n",
       "    <tr>\n",
       "      <th>264</th>\n",
       "      <td>A Double Barrelled Detective Story</td>\n",
       "      <td>Twain, Mark</td>\n",
       "      <td>71.874168</td>\n",
       "    </tr>\n",
       "    <tr>\n",
       "      <th>13</th>\n",
       "      <td>The Tragedy of Pudd'nhead Wilson</td>\n",
       "      <td>Twain, Mark</td>\n",
       "      <td>74.182642</td>\n",
       "    </tr>\n",
       "    <tr>\n",
       "      <th>507</th>\n",
       "      <td>Eve's Diary, Complete</td>\n",
       "      <td>Twain, Mark</td>\n",
       "      <td>78.975674</td>\n",
       "    </tr>\n",
       "    <tr>\n",
       "      <th>20</th>\n",
       "      <td>A Horse's Tale</td>\n",
       "      <td>Twain, Mark</td>\n",
       "      <td>79.331002</td>\n",
       "    </tr>\n",
       "    <tr>\n",
       "      <th>284</th>\n",
       "      <td>How to Tell a Story, and Other Essays</td>\n",
       "      <td>Twain, Mark</td>\n",
       "      <td>79.463037</td>\n",
       "    </tr>\n",
       "    <tr>\n",
       "      <th>16</th>\n",
       "      <td>Extract from Captain Stormfield's Visit to Heaven</td>\n",
       "      <td>Twain, Mark</td>\n",
       "      <td>80.268807</td>\n",
       "    </tr>\n",
       "    <tr>\n",
       "      <th>494</th>\n",
       "      <td>The Adventures of Tom Sawyer, Part 2.</td>\n",
       "      <td>Twain, Mark</td>\n",
       "      <td>80.477239</td>\n",
       "    </tr>\n",
       "    <tr>\n",
       "      <th>457</th>\n",
       "      <td>The Chimes: A Goblin Story of Some Bells That ...</td>\n",
       "      <td>Dickens, Charles</td>\n",
       "      <td>82.459264</td>\n",
       "    </tr>\n",
       "    <tr>\n",
       "      <th>263</th>\n",
       "      <td>The American Claimant</td>\n",
       "      <td>Twain, Mark</td>\n",
       "      <td>82.479927</td>\n",
       "    </tr>\n",
       "    <tr>\n",
       "      <th>272</th>\n",
       "      <td>1601: Conversation as it was by the Social Fir...</td>\n",
       "      <td>Twain, Mark</td>\n",
       "      <td>82.557726</td>\n",
       "    </tr>\n",
       "  </tbody>\n",
       "</table>\n",
       "</div>"
      ],
      "text/plain": [
       "                                                 title            author  \\\n",
       "264                 A Double Barrelled Detective Story       Twain, Mark   \n",
       "13                    The Tragedy of Pudd'nhead Wilson       Twain, Mark   \n",
       "507                              Eve's Diary, Complete       Twain, Mark   \n",
       "20                                      A Horse's Tale       Twain, Mark   \n",
       "284              How to Tell a Story, and Other Essays       Twain, Mark   \n",
       "16   Extract from Captain Stormfield's Visit to Heaven       Twain, Mark   \n",
       "494              The Adventures of Tom Sawyer, Part 2.       Twain, Mark   \n",
       "457  The Chimes: A Goblin Story of Some Bells That ...  Dickens, Charles   \n",
       "263                              The American Claimant       Twain, Mark   \n",
       "272  1601: Conversation as it was by the Social Fir...       Twain, Mark   \n",
       "\n",
       "      Deathway  \n",
       "264  71.874168  \n",
       "13   74.182642  \n",
       "507  78.975674  \n",
       "20   79.331002  \n",
       "284  79.463037  \n",
       "16   80.268807  \n",
       "494  80.477239  \n",
       "457  82.459264  \n",
       "263  82.479927  \n",
       "272  82.557726  "
      ]
     },
     "execution_count": 45,
     "metadata": {},
     "output_type": "execute_result"
    }
   ],
   "source": [
    "pd.concat([pd.DataFrame({'title':titles}),\n",
    "           pd.DataFrame({'author':authors}),\n",
    "           pd.DataFrame({'Deathway':cos_dist})],\n",
    "           axis=1).sort_values(by='Deathway', ascending=True).head(10)"
   ]
  },
  {
   "attachments": {},
   "cell_type": "markdown",
   "metadata": {},
   "source": [
    "For Deathway, cosine distance:"
   ]
  },
  {
   "cell_type": "code",
   "execution_count": 46,
   "metadata": {},
   "outputs": [],
   "source": [
    "m = library_newtext.shape[0]\n",
    "j = m-1\n",
    "\n",
    "cos_dist = []\n",
    "titles = []\n",
    "authors = []\n",
    "\n",
    "for i in range(j):\n",
    "    titles.append(library_newtext['title'].iloc[i])\n",
    "    authors.append(library_newtext['author'].iloc[i])\n",
    "    cos_dist.append(dists[m * i + j - ((i + 2) * (i + 1)) // 2])"
   ]
  },
  {
   "cell_type": "code",
   "execution_count": 47,
   "metadata": {},
   "outputs": [
    {
     "data": {
      "text/html": [
       "<div>\n",
       "<style scoped>\n",
       "    .dataframe tbody tr th:only-of-type {\n",
       "        vertical-align: middle;\n",
       "    }\n",
       "\n",
       "    .dataframe tbody tr th {\n",
       "        vertical-align: top;\n",
       "    }\n",
       "\n",
       "    .dataframe thead th {\n",
       "        text-align: right;\n",
       "    }\n",
       "</style>\n",
       "<table border=\"1\" class=\"dataframe\">\n",
       "  <thead>\n",
       "    <tr style=\"text-align: right;\">\n",
       "      <th></th>\n",
       "      <th>title</th>\n",
       "      <th>author</th>\n",
       "      <th>Deathway</th>\n",
       "    </tr>\n",
       "  </thead>\n",
       "  <tbody>\n",
       "    <tr>\n",
       "      <th>272</th>\n",
       "      <td>1601: Conversation as it was by the Social Fir...</td>\n",
       "      <td>Twain, Mark</td>\n",
       "      <td>48.649256</td>\n",
       "    </tr>\n",
       "    <tr>\n",
       "      <th>501</th>\n",
       "      <td>Hunted Down: The Detective Stories of Charles ...</td>\n",
       "      <td>Dickens, Charles</td>\n",
       "      <td>49.590488</td>\n",
       "    </tr>\n",
       "    <tr>\n",
       "      <th>472</th>\n",
       "      <td>Mr. Keegan's Elopement</td>\n",
       "      <td>Churchill, Winston</td>\n",
       "      <td>49.639188</td>\n",
       "    </tr>\n",
       "    <tr>\n",
       "      <th>507</th>\n",
       "      <td>Eve's Diary, Complete</td>\n",
       "      <td>Twain, Mark</td>\n",
       "      <td>50.991000</td>\n",
       "    </tr>\n",
       "    <tr>\n",
       "      <th>266</th>\n",
       "      <td>The Facts Concerning the Recent Carnival of Cr...</td>\n",
       "      <td>Twain, Mark</td>\n",
       "      <td>51.059313</td>\n",
       "    </tr>\n",
       "    <tr>\n",
       "      <th>519</th>\n",
       "      <td>To Be Read at Dusk</td>\n",
       "      <td>Dickens, Charles</td>\n",
       "      <td>52.085753</td>\n",
       "    </tr>\n",
       "    <tr>\n",
       "      <th>143</th>\n",
       "      <td>Extracts from Adam's Diary, translated from th...</td>\n",
       "      <td>Twain, Mark</td>\n",
       "      <td>52.533862</td>\n",
       "    </tr>\n",
       "    <tr>\n",
       "      <th>265</th>\n",
       "      <td>The Stolen White Elephant</td>\n",
       "      <td>Twain, Mark</td>\n",
       "      <td>53.062147</td>\n",
       "    </tr>\n",
       "    <tr>\n",
       "      <th>493</th>\n",
       "      <td>The Adventures of Tom Sawyer, Part 1.</td>\n",
       "      <td>Twain, Mark</td>\n",
       "      <td>53.341073</td>\n",
       "    </tr>\n",
       "    <tr>\n",
       "      <th>527</th>\n",
       "      <td>Lambda</td>\n",
       "      <td>Umer, Tomo</td>\n",
       "      <td>53.352001</td>\n",
       "    </tr>\n",
       "    <tr>\n",
       "      <th>417</th>\n",
       "      <td>Dr. Jonathan</td>\n",
       "      <td>Churchill, Winston</td>\n",
       "      <td>53.567500</td>\n",
       "    </tr>\n",
       "    <tr>\n",
       "      <th>235</th>\n",
       "      <td>The Crystal Crypt</td>\n",
       "      <td>Dick, Philip K.</td>\n",
       "      <td>54.664085</td>\n",
       "    </tr>\n",
       "    <tr>\n",
       "      <th>259</th>\n",
       "      <td>A Dog's Tale</td>\n",
       "      <td>Twain, Mark</td>\n",
       "      <td>54.828731</td>\n",
       "    </tr>\n",
       "    <tr>\n",
       "      <th>177</th>\n",
       "      <td>The Magic Fishbone: A Holiday Romance from the...</td>\n",
       "      <td>Dickens, Charles</td>\n",
       "      <td>55.160224</td>\n",
       "    </tr>\n",
       "    <tr>\n",
       "      <th>240</th>\n",
       "      <td>The Gun</td>\n",
       "      <td>Dick, Philip K.</td>\n",
       "      <td>55.318812</td>\n",
       "    </tr>\n",
       "    <tr>\n",
       "      <th>471</th>\n",
       "      <td>Robinson Crusoe, Told to the Children by John ...</td>\n",
       "      <td>Defoe, Daniel</td>\n",
       "      <td>55.955489</td>\n",
       "    </tr>\n",
       "    <tr>\n",
       "      <th>332</th>\n",
       "      <td>The Storm. An Essay.</td>\n",
       "      <td>Defoe, Daniel</td>\n",
       "      <td>56.241693</td>\n",
       "    </tr>\n",
       "    <tr>\n",
       "      <th>58</th>\n",
       "      <td>A Message from the Sea</td>\n",
       "      <td>Dickens, Charles</td>\n",
       "      <td>56.655390</td>\n",
       "    </tr>\n",
       "    <tr>\n",
       "      <th>336</th>\n",
       "      <td>The Hanging Stranger</td>\n",
       "      <td>Dick, Philip K.</td>\n",
       "      <td>56.678808</td>\n",
       "    </tr>\n",
       "    <tr>\n",
       "      <th>486</th>\n",
       "      <td>Prize ship</td>\n",
       "      <td>Dick, Philip K.</td>\n",
       "      <td>57.027794</td>\n",
       "    </tr>\n",
       "  </tbody>\n",
       "</table>\n",
       "</div>"
      ],
      "text/plain": [
       "                                                 title              author  \\\n",
       "272  1601: Conversation as it was by the Social Fir...         Twain, Mark   \n",
       "501  Hunted Down: The Detective Stories of Charles ...    Dickens, Charles   \n",
       "472                             Mr. Keegan's Elopement  Churchill, Winston   \n",
       "507                              Eve's Diary, Complete         Twain, Mark   \n",
       "266  The Facts Concerning the Recent Carnival of Cr...         Twain, Mark   \n",
       "519                                 To Be Read at Dusk    Dickens, Charles   \n",
       "143  Extracts from Adam's Diary, translated from th...         Twain, Mark   \n",
       "265                          The Stolen White Elephant         Twain, Mark   \n",
       "493              The Adventures of Tom Sawyer, Part 1.         Twain, Mark   \n",
       "527                                             Lambda          Umer, Tomo   \n",
       "417                                       Dr. Jonathan  Churchill, Winston   \n",
       "235                                  The Crystal Crypt     Dick, Philip K.   \n",
       "259                                       A Dog's Tale         Twain, Mark   \n",
       "177  The Magic Fishbone: A Holiday Romance from the...    Dickens, Charles   \n",
       "240                                            The Gun     Dick, Philip K.   \n",
       "471  Robinson Crusoe, Told to the Children by John ...       Defoe, Daniel   \n",
       "332                               The Storm. An Essay.       Defoe, Daniel   \n",
       "58                              A Message from the Sea    Dickens, Charles   \n",
       "336                               The Hanging Stranger     Dick, Philip K.   \n",
       "486                                         Prize ship     Dick, Philip K.   \n",
       "\n",
       "      Deathway  \n",
       "272  48.649256  \n",
       "501  49.590488  \n",
       "472  49.639188  \n",
       "507  50.991000  \n",
       "266  51.059313  \n",
       "519  52.085753  \n",
       "143  52.533862  \n",
       "265  53.062147  \n",
       "493  53.341073  \n",
       "527  53.352001  \n",
       "417  53.567500  \n",
       "235  54.664085  \n",
       "259  54.828731  \n",
       "177  55.160224  \n",
       "240  55.318812  \n",
       "471  55.955489  \n",
       "332  56.241693  \n",
       "58   56.655390  \n",
       "336  56.678808  \n",
       "486  57.027794  "
      ]
     },
     "execution_count": 47,
     "metadata": {},
     "output_type": "execute_result"
    }
   ],
   "source": [
    "# Lambda is of course the most similar ... if wanted, simply do a .drop(538) on all 3 dataframes\n",
    "pd.concat([pd.DataFrame({'title':titles}),\n",
    "           pd.DataFrame({'author':authors}),\n",
    "           pd.DataFrame({'Deathway':cos_dist})],\n",
    "           axis=1).sort_values(by='Deathway', ascending=True).head(20)"
   ]
  },
  {
   "cell_type": "code",
   "execution_count": null,
   "metadata": {},
   "outputs": [],
   "source": []
  },
  {
   "cell_type": "code",
   "execution_count": null,
   "metadata": {},
   "outputs": [],
   "source": []
  }
 ],
 "metadata": {
  "kernelspec": {
   "display_name": "base",
   "language": "python",
   "name": "python3"
  },
  "language_info": {
   "codemirror_mode": {
    "name": "ipython",
    "version": 3
   },
   "file_extension": ".py",
   "mimetype": "text/x-python",
   "name": "python",
   "nbconvert_exporter": "python",
   "pygments_lexer": "ipython3",
   "version": "3.9.12"
  },
  "orig_nbformat": 4
 },
 "nbformat": 4,
 "nbformat_minor": 2
}
