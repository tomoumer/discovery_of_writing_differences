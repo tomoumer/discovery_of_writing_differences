{
 "cells": [
  {
   "attachments": {},
   "cell_type": "markdown",
   "metadata": {},
   "source": [
    "# Discovery of Writing Differences - Neural Networks Representation\n",
    "\n",
    "Capstone project by Tomo Umer"
   ]
  },
  {
   "attachments": {},
   "cell_type": "markdown",
   "metadata": {},
   "source": [
    "<img src=\"https://tomoumerdotcom.files.wordpress.com/2022/04/cropped-pho_logo_notext.png\" alt=\"PRAISE DOG\" style=\"width:400px;height:400px;\"/>"
   ]
  },
  {
   "attachments": {},
   "cell_type": "markdown",
   "metadata": {},
   "source": [
    "## Imports"
   ]
  },
  {
   "cell_type": "code",
   "execution_count": 1,
   "metadata": {},
   "outputs": [],
   "source": [
    "import pandas as pd\n",
    "import numpy as np\n",
    "import re\n",
    "import glob\n",
    "import plotly.express as px\n",
    "import pickle\n",
    "\n",
    "from sklearn.model_selection import train_test_split\n",
    "from sklearn.metrics import accuracy_score, confusion_matrix, classification_report\n",
    "from sklearn.feature_extraction.text import TfidfVectorizer\n",
    "from sklearn.linear_model import LogisticRegression\n",
    "from sklearn.pipeline import Pipeline\n",
    "\n",
    "import matplotlib.pyplot as plt\n",
    "import seaborn as sns\n",
    "from sklearn.neural_network import MLPClassifier, MLPRegressor\n",
    "from sklearn.preprocessing import MaxAbsScaler\n",
    "from copy import deepcopy\n",
    "\n",
    "import umap\n",
    "from scipy import spatial\n",
    "from scipy.cluster.hierarchy import linkage, dendrogram\n",
    "\n",
    "from joblib import dump, load"
   ]
  },
  {
   "attachments": {},
   "cell_type": "markdown",
   "metadata": {},
   "source": [
    "## Reading In the Library and Prep for NN\n",
    "\n",
    "In this part, reading the .pkl file. "
   ]
  },
  {
   "cell_type": "code",
   "execution_count": 2,
   "metadata": {},
   "outputs": [],
   "source": [
    "library_select = pd.read_pickle('../data/library_select02.pkl')"
   ]
  },
  {
   "cell_type": "code",
   "execution_count": 3,
   "metadata": {},
   "outputs": [
    {
     "data": {
      "text/plain": [
       "(538, 12)"
      ]
     },
     "execution_count": 3,
     "metadata": {},
     "output_type": "execute_result"
    }
   ],
   "source": [
    "library_select.shape"
   ]
  },
  {
   "attachments": {},
   "cell_type": "markdown",
   "metadata": {},
   "source": [
    "Next, extract authors, create dictionary to convert authors name to numeric values (for predictions) and add a column with that."
   ]
  },
  {
   "cell_type": "code",
   "execution_count": 4,
   "metadata": {},
   "outputs": [],
   "source": [
    "select_authors = list(library_select.sort_values(by='authorcentury')['author'].unique())\n",
    "\n",
    "authors_to_num = {select_authors[i]: i for i in range(len(select_authors))}\n",
    "#num_to_authors = {v: k for k, v in authors_to_num.items()}\n",
    "\n",
    "library_select['author_num'] = library_select['author'].map(authors_to_num)"
   ]
  },
  {
   "attachments": {},
   "cell_type": "markdown",
   "metadata": {},
   "source": [
    "## Sklearn NN\n",
    "\n",
    "First round of neural network analysis, using sklearn."
   ]
  },
  {
   "cell_type": "code",
   "execution_count": 5,
   "metadata": {},
   "outputs": [],
   "source": [
    "X = library_select[['book_content']]\n",
    "y = library_select['author_num']\n",
    "\n",
    "X_train, X_test, y_train, y_test = train_test_split(X, y, random_state = 42, stratify = y)"
   ]
  },
  {
   "cell_type": "code",
   "execution_count": 6,
   "metadata": {},
   "outputs": [
    {
     "data": {
      "text/plain": [
       "(538, 13)"
      ]
     },
     "execution_count": 6,
     "metadata": {},
     "output_type": "execute_result"
    }
   ],
   "source": [
    "library_select.shape"
   ]
  },
  {
   "cell_type": "code",
   "execution_count": 7,
   "metadata": {},
   "outputs": [],
   "source": [
    "pipe_nn = Pipeline(\n",
    "    steps = [\n",
    "        ('vect', TfidfVectorizer(min_df=2, max_df=0.8, ngram_range=(1,2))),\n",
    "        ('scaler', MaxAbsScaler()),  #this is needed in order to make it converge in a reasonable time!\n",
    "        ('nn', MLPClassifier(verbose = True,\n",
    "                             hidden_layer_sizes = (100, 100),\n",
    "                             #activation = 'relu',\n",
    "                             #max_iter = 10000,\n",
    "                             #alpha=0.05\n",
    "                             ))\n",
    "    ]\n",
    ")"
   ]
  },
  {
   "cell_type": "code",
   "execution_count": null,
   "metadata": {},
   "outputs": [],
   "source": [
    "# pipe_nn.fit(X_train['book_content'], y_train)\n",
    "# y_pred = pipe_nn.predict(X_test['book_content'])\n",
    "\n",
    "# print('accuracy score:', accuracy_score(y_test, y_pred), '\\n')\n",
    "# print('----- confusion matrix ------')\n",
    "# print(confusion_matrix(y_test, y_pred), '\\n')\n",
    "# print('-------- classification report ---------')\n",
    "# print(classification_report(y_test, y_pred))\n",
    "\n",
    "# this below ran for almost 2 hours and didn't finish yet...\n",
    "pipe_nn.fit(X['book_content'], y)\n",
    "y_pred = pipe_nn.predict(X['book_content'])\n",
    "\n",
    "print('accuracy score:', accuracy_score(y, y_pred), '\\n')\n",
    "print('----- confusion matrix ------')\n",
    "print(confusion_matrix(y, y_pred), '\\n')\n",
    "print('-------- classification report ---------')\n",
    "print(classification_report(y, y_pred))"
   ]
  },
  {
   "cell_type": "code",
   "execution_count": null,
   "metadata": {},
   "outputs": [],
   "source": [
    "fig = px.imshow(confusion_matrix(y, pipe_nn.predict(X['book_content'])),\n",
    "                width=1000,\n",
    "                height=800,\n",
    "                text_auto=True,\n",
    "                labels=dict(x='Predicted Label',\n",
    "                            y='True Label'),\n",
    "                            x=select_authors,\n",
    "                            y=select_authors,\n",
    "                            color_continuous_scale='Teal'\n",
    "                            )\n",
    "\n",
    "fig.update(layout_coloraxis_showscale=False)\n",
    "\n",
    "fig.show()"
   ]
  },
  {
   "attachments": {},
   "cell_type": "markdown",
   "metadata": {},
   "source": [
    "## Encoding and lower-dimensional representation of the NN\n",
    "\n",
    "With a trained model, using embeddings to find similarities between books and authors."
   ]
  },
  {
   "cell_type": "code",
   "execution_count": null,
   "metadata": {},
   "outputs": [],
   "source": [
    "# have to use the regressor because classifiers thinks we're expecting int results, even if we chop it off before final step!\n",
    "# :2 and layers = 3 if I use two hidden layers with nn; for one, reduce those by 1\n",
    "encoder = MLPRegressor()\n",
    "encoder.coefs_ = pipe_nn['nn'].coefs_[:2]\n",
    "encoder.intercepts_ = pipe_nn['nn'].intercepts_[:2]\n",
    "encoder.n_layers_ = 3\n",
    "encoder.out_activation_ = 'relu'"
   ]
  },
  {
   "cell_type": "code",
   "execution_count": null,
   "metadata": {},
   "outputs": [],
   "source": [
    "# copy the pipeline\n",
    "pipe_nn_encoder = deepcopy(pipe_nn)\n",
    "\n",
    "# remove the classifier\n",
    "pipe_nn_encoder.steps.pop(2)\n",
    "\n",
    "# append the new encoder (essentially, it contains all layers minus the final one)\n",
    "pipe_nn_encoder.steps.append(['enc', encoder])"
   ]
  },
  {
   "cell_type": "code",
   "execution_count": 9,
   "metadata": {},
   "outputs": [],
   "source": [
    "# now using predict from the encoder to get the 100-dimensional projection of the top six authors\n",
    "nn_represent = pipe_nn_encoder.predict(library_select['book_content'])"
   ]
  },
  {
   "cell_type": "code",
   "execution_count": null,
   "metadata": {},
   "outputs": [],
   "source": [
    "# to save the encoder\n",
    "# dump(pipe_nn_encoder, '../models/pipe_nn_encoder_01.joblib')\n",
    "#dump(pipe_nn_encoder, '../models/pipe_nn_encoder_02.joblib')"
   ]
  },
  {
   "attachments": {},
   "cell_type": "markdown",
   "metadata": {},
   "source": [
    "Finally, adding to that, the reduced 2D representation using UMAP."
   ]
  },
  {
   "cell_type": "code",
   "execution_count": 39,
   "metadata": {},
   "outputs": [],
   "source": [
    "umap_mnist = umap.UMAP(metric='euclidean', random_state=42) #metric = 'cosine'\n",
    "umap_mnist.fit(nn_represent)\n",
    "\n",
    "umap_projection = umap_mnist.transform(nn_represent)"
   ]
  },
  {
   "cell_type": "code",
   "execution_count": null,
   "metadata": {},
   "outputs": [],
   "source": [
    "# to save the umap representation\n",
    "# dump(umap_mnist, '../models/umap_mnist_01.joblib')\n",
    "#dump(umap_mnist, '../models/umap_mnist_02.joblib')"
   ]
  },
  {
   "cell_type": "code",
   "execution_count": 40,
   "metadata": {},
   "outputs": [],
   "source": [
    "# convert the 100 dimensional vector of neuron weights into dataframe\n",
    "library_select_represent = pd.DataFrame(nn_represent, columns=[f'dim_{x}' for x in range(100)])\n",
    "\n",
    "# and also the 2d representation\n",
    "library_select_proj = pd.DataFrame(umap_projection, columns=[f'proj_{x}' for x in range(2)])\n",
    "\n",
    "# concatenate together with some info from the original df. at this point, for this notebook won't be needing the book texts anymore\n",
    "# I'll create a new notebook for NN from a different package\n",
    "library_select = pd.concat([\n",
    "    library_select[['id','title','author','authorcentury']],\n",
    "    library_select_proj.set_index(library_select.index),\n",
    "    library_select_represent.set_index(library_select.index)],\n",
    "    axis=1)"
   ]
  },
  {
   "cell_type": "code",
   "execution_count": 41,
   "metadata": {},
   "outputs": [
    {
     "data": {
      "image/png": "[encoded data removed]",
      "text/plain": [
       "<Figure size 1600x800 with 1 Axes>"
      ]
     },
     "metadata": {},
     "output_type": "display_data"
    }
   ],
   "source": [
    "# # old code:\n",
    "# sns.scatterplot(x=umap_projection[:,0], y=umap_projection[:,1], \n",
    "#                 hue = library_select.replace({'author': num_to_authors})['author'].astype('category'),\n",
    "#                alpha = 0.7);\n",
    "\n",
    "plt.figure(figsize = (16,8))\n",
    "sns.scatterplot(data=library_select, x='proj_0', y='proj_1', \n",
    "                hue = 'author',\n",
    "               alpha = 0.7);"
   ]
  },
  {
   "cell_type": "code",
   "execution_count": 42,
   "metadata": {},
   "outputs": [
    {
     "data": {
      "text/plain": [
       "array([ 1., 14., 13., -6., 16., 19., 18., 15., -1., -4., 20.,  2., -7.,\n",
       "       17.])"
      ]
     },
     "execution_count": 42,
     "metadata": {},
     "output_type": "execute_result"
    }
   ],
   "source": [
    "library_select['authorcentury'].unique()"
   ]
  },
  {
   "cell_type": "code",
   "execution_count": 78,
   "metadata": {},
   "outputs": [],
   "source": [
    "def annotate_century(num_century):\n",
    "\n",
    "    if np.isnan(num_century):\n",
    "        return 'unknown'\n",
    "    elif int(num_century) < 0 :\n",
    "        ctry = ' century BCE'\n",
    "        num_century = abs(int(num_century))\n",
    "    else:\n",
    "        num_century = int(num_century)\n",
    "        ctry = ' century CE'\n",
    "\n",
    "\n",
    "    # determine ordinal numbering\n",
    "    if (num_century % 10 == 1) and (num_century % 100 != 11):\n",
    "        ordinal_century = str(num_century) + 'st'\n",
    "\n",
    "    elif (num_century % 10 == 2) and (num_century % 100 != 12):\n",
    "        ordinal_century = str(num_century) + 'nd'\n",
    "\n",
    "    elif (num_century % 10 == 3) and (num_century % 100 != 13):\n",
    "        ordinal_century = str(num_century) + 'rd'\n",
    "        \n",
    "    else:\n",
    "        ordinal_century = str(num_century) + 'th'\n",
    "\n",
    "    return ordinal_century + ctry"
   ]
  },
  {
   "cell_type": "code",
   "execution_count": 80,
   "metadata": {},
   "outputs": [],
   "source": [
    "library_select['authorcentury'] = library_select['authorcentury'].apply(annotate_century)"
   ]
  },
  {
   "cell_type": "code",
   "execution_count": 81,
   "metadata": {},
   "outputs": [
    {
     "data": {
      "image/png": "[encoded data removed]",
      "text/plain": [
       "<Figure size 1600x800 with 1 Axes>"
      ]
     },
     "metadata": {},
     "output_type": "display_data"
    }
   ],
   "source": [
    "plt.figure(figsize = (16,8))\n",
    "sns.scatterplot(data=library_select, x='proj_0', y='proj_1', \n",
    "                hue = library_select['authorcentury'].astype('category'),\n",
    "               alpha = 0.7);"
   ]
  },
  {
   "cell_type": "code",
   "execution_count": 44,
   "metadata": {},
   "outputs": [],
   "source": [
    "# make a copy -- personal note: important to use copy!! otherwise, it's just a view of the original dataframe \n",
    "# and that gives warnings in the following two parts\n",
    "library_2d_dist = library_select[['author', 'proj_0', 'proj_1']].copy()\n",
    "\n",
    "# calculate the mean point for each author\n",
    "library_2d_dist[['proj_0_mean', 'proj_1_mean']] = library_2d_dist.groupby('author')[['proj_0', 'proj_1']].transform('mean')\n",
    "\n",
    "# get the distance between each point and the mean for that author\n",
    "library_2d_dist['dist_mean'] = np.sqrt((library_2d_dist['proj_0'] - library_2d_dist['proj_0_mean'])**2 + (library_2d_dist['proj_1'] - library_2d_dist['proj_1_mean'])**2)\n",
    "\n"
   ]
  },
  {
   "cell_type": "code",
   "execution_count": 45,
   "metadata": {},
   "outputs": [
    {
     "data": {
      "text/html": [
       "<div>\n",
       "<style scoped>\n",
       "    .dataframe tbody tr th:only-of-type {\n",
       "        vertical-align: middle;\n",
       "    }\n",
       "\n",
       "    .dataframe tbody tr th {\n",
       "        vertical-align: top;\n",
       "    }\n",
       "\n",
       "    .dataframe thead th {\n",
       "        text-align: right;\n",
       "    }\n",
       "</style>\n",
       "<table border=\"1\" class=\"dataframe\">\n",
       "  <thead>\n",
       "    <tr style=\"text-align: right;\">\n",
       "      <th></th>\n",
       "      <th>author</th>\n",
       "      <th>proj_0</th>\n",
       "      <th>proj_1</th>\n",
       "      <th>proj_0_mean</th>\n",
       "      <th>proj_1_mean</th>\n",
       "      <th>dist_mean</th>\n",
       "    </tr>\n",
       "  </thead>\n",
       "  <tbody>\n",
       "    <tr>\n",
       "      <th>1</th>\n",
       "      <td>Seneca, Lucius Annaeus</td>\n",
       "      <td>5.122746</td>\n",
       "      <td>3.262436</td>\n",
       "      <td>4.328088</td>\n",
       "      <td>3.749846</td>\n",
       "      <td>0.932228</td>\n",
       "    </tr>\n",
       "    <tr>\n",
       "      <th>6</th>\n",
       "      <td>Boccaccio, Giovanni</td>\n",
       "      <td>3.062505</td>\n",
       "      <td>6.319431</td>\n",
       "      <td>2.768120</td>\n",
       "      <td>6.688782</td>\n",
       "      <td>0.472316</td>\n",
       "    </tr>\n",
       "    <tr>\n",
       "      <th>21</th>\n",
       "      <td>Dante Alighieri</td>\n",
       "      <td>5.580406</td>\n",
       "      <td>7.071321</td>\n",
       "      <td>5.412542</td>\n",
       "      <td>6.792332</td>\n",
       "      <td>0.325597</td>\n",
       "    </tr>\n",
       "    <tr>\n",
       "      <th>32</th>\n",
       "      <td>Dante Alighieri</td>\n",
       "      <td>5.613077</td>\n",
       "      <td>7.145921</td>\n",
       "      <td>5.412542</td>\n",
       "      <td>6.792332</td>\n",
       "      <td>0.406496</td>\n",
       "    </tr>\n",
       "    <tr>\n",
       "      <th>43</th>\n",
       "      <td>Dante Alighieri</td>\n",
       "      <td>5.482569</td>\n",
       "      <td>7.240213</td>\n",
       "      <td>5.412542</td>\n",
       "      <td>6.792332</td>\n",
       "      <td>0.453323</td>\n",
       "    </tr>\n",
       "    <tr>\n",
       "      <th>...</th>\n",
       "      <td>...</td>\n",
       "      <td>...</td>\n",
       "      <td>...</td>\n",
       "      <td>...</td>\n",
       "      <td>...</td>\n",
       "      <td>...</td>\n",
       "    </tr>\n",
       "    <tr>\n",
       "      <th>70047</th>\n",
       "      <td>Dickens, Charles</td>\n",
       "      <td>2.185338</td>\n",
       "      <td>2.197886</td>\n",
       "      <td>2.425765</td>\n",
       "      <td>2.629600</td>\n",
       "      <td>0.494147</td>\n",
       "    </tr>\n",
       "    <tr>\n",
       "      <th>70069</th>\n",
       "      <td>Dumas, Alexandre</td>\n",
       "      <td>4.847382</td>\n",
       "      <td>9.721254</td>\n",
       "      <td>5.403183</td>\n",
       "      <td>10.451133</td>\n",
       "      <td>0.917408</td>\n",
       "    </tr>\n",
       "    <tr>\n",
       "      <th>70091</th>\n",
       "      <td>Dickens, Charles</td>\n",
       "      <td>2.009201</td>\n",
       "      <td>2.156166</td>\n",
       "      <td>2.425765</td>\n",
       "      <td>2.629600</td>\n",
       "      <td>0.630607</td>\n",
       "    </tr>\n",
       "    <tr>\n",
       "      <th>70102</th>\n",
       "      <td>Dickens, Charles</td>\n",
       "      <td>2.402548</td>\n",
       "      <td>2.265109</td>\n",
       "      <td>2.425765</td>\n",
       "      <td>2.629600</td>\n",
       "      <td>0.365229</td>\n",
       "    </tr>\n",
       "    <tr>\n",
       "      <th>70269</th>\n",
       "      <td>Defoe, Daniel</td>\n",
       "      <td>4.864221</td>\n",
       "      <td>1.222982</td>\n",
       "      <td>4.904476</td>\n",
       "      <td>1.648561</td>\n",
       "      <td>0.427479</td>\n",
       "    </tr>\n",
       "  </tbody>\n",
       "</table>\n",
       "<p>538 rows × 6 columns</p>\n",
       "</div>"
      ],
      "text/plain": [
       "                       author    proj_0    proj_1  proj_0_mean  proj_1_mean  \\\n",
       "1      Seneca, Lucius Annaeus  5.122746  3.262436     4.328088     3.749846   \n",
       "6         Boccaccio, Giovanni  3.062505  6.319431     2.768120     6.688782   \n",
       "21            Dante Alighieri  5.580406  7.071321     5.412542     6.792332   \n",
       "32            Dante Alighieri  5.613077  7.145921     5.412542     6.792332   \n",
       "43            Dante Alighieri  5.482569  7.240213     5.412542     6.792332   \n",
       "...                       ...       ...       ...          ...          ...   \n",
       "70047        Dickens, Charles  2.185338  2.197886     2.425765     2.629600   \n",
       "70069        Dumas, Alexandre  4.847382  9.721254     5.403183    10.451133   \n",
       "70091        Dickens, Charles  2.009201  2.156166     2.425765     2.629600   \n",
       "70102        Dickens, Charles  2.402548  2.265109     2.425765     2.629600   \n",
       "70269           Defoe, Daniel  4.864221  1.222982     4.904476     1.648561   \n",
       "\n",
       "       dist_mean  \n",
       "1       0.932228  \n",
       "6       0.472316  \n",
       "21      0.325597  \n",
       "32      0.406496  \n",
       "43      0.453323  \n",
       "...          ...  \n",
       "70047   0.494147  \n",
       "70069   0.917408  \n",
       "70091   0.630607  \n",
       "70102   0.365229  \n",
       "70269   0.427479  \n",
       "\n",
       "[538 rows x 6 columns]"
      ]
     },
     "execution_count": 45,
     "metadata": {},
     "output_type": "execute_result"
    }
   ],
   "source": [
    "library_2d_dist"
   ]
  },
  {
   "cell_type": "code",
   "execution_count": 46,
   "metadata": {},
   "outputs": [
    {
     "data": {
      "text/plain": [
       "count    538.000000\n",
       "mean       0.655187\n",
       "std        0.901212\n",
       "min        0.014475\n",
       "25%        0.299578\n",
       "50%        0.530392\n",
       "75%        0.740770\n",
       "max       10.117242\n",
       "Name: dist_mean, dtype: float64"
      ]
     },
     "execution_count": 46,
     "metadata": {},
     "output_type": "execute_result"
    }
   ],
   "source": [
    "library_2d_dist['dist_mean'].describe()"
   ]
  },
  {
   "cell_type": "code",
   "execution_count": 47,
   "metadata": {},
   "outputs": [],
   "source": [
    "dist2d_mean = library_2d_dist['dist_mean'].mean()"
   ]
  },
  {
   "attachments": {},
   "cell_type": "markdown",
   "metadata": {},
   "source": [
    "## Similarity using spatial distance in 100 dimension\n",
    "\n",
    "Another way to look at the produced weights and which ones are similar"
   ]
  },
  {
   "attachments": {},
   "cell_type": "markdown",
   "metadata": {},
   "source": [
    "Calculating cosine similarity (using dim_0 to dim_99 cols) - for a first attempt, group it by author."
   ]
  },
  {
   "cell_type": "code",
   "execution_count": 48,
   "metadata": {},
   "outputs": [],
   "source": [
    "# idea use this to transpose and then see the dist from each book to this point?\n",
    "library_select_grouped = library_select.drop(columns=['id','title','authorcentury','proj_0','proj_1']).groupby('author').mean()"
   ]
  },
  {
   "cell_type": "code",
   "execution_count": 49,
   "metadata": {},
   "outputs": [],
   "source": [
    "dists = spatial.distance.pdist(library_select_grouped.values, metric='euclidean') # metric='cosine'"
   ]
  },
  {
   "cell_type": "code",
   "execution_count": 50,
   "metadata": {},
   "outputs": [
    {
     "data": {
      "image/png": "[encoded data removed]",
      "text/plain": [
       "<Figure size 1200x800 with 1 Axes>"
      ]
     },
     "metadata": {},
     "output_type": "display_data"
    }
   ],
   "source": [
    "mergings = linkage(dists, method='complete')\n",
    "\n",
    "plt.figure(figsize = (12,8))\n",
    "dendrogram(mergings,\n",
    "           labels = list(library_select_grouped.index),\n",
    "           leaf_rotation = 90,\n",
    "           leaf_font_size = 6);\n",
    "\n",
    "plt.tight_layout()"
   ]
  },
  {
   "cell_type": "code",
   "execution_count": 22,
   "metadata": {},
   "outputs": [],
   "source": [
    "# before I realized to use this approach, I first concatenated all the texts in the pandas series which returns an extremely long string\n",
    "# I then turn that string into a pandas series (the predict requires an iterable object)\n",
    "# pipe_nn.predict(pd.Series(library_select.loc[library_select['author'] == 0]['book_content'].str.cat()))"
   ]
  },
  {
   "attachments": {},
   "cell_type": "markdown",
   "metadata": {},
   "source": [
    "## Introducing New Text\n",
    "\n",
    "This part will ideally be in an app where any text can be uploaded"
   ]
  },
  {
   "attachments": {},
   "cell_type": "markdown",
   "metadata": {},
   "source": [
    "Here I will test it with two books I've written."
   ]
  },
  {
   "cell_type": "code",
   "execution_count": 23,
   "metadata": {},
   "outputs": [],
   "source": [
    "# if the model was not run above, this is where we load the encoder and the umamp_mnist\n",
    "#pipe_nn_encoder = load('../models/pipe_nn_encoder_02.joblib') \n",
    "#umap_mnist = load('../models/umap_mnist_02.joblib')"
   ]
  },
  {
   "cell_type": "code",
   "execution_count": 51,
   "metadata": {},
   "outputs": [],
   "source": [
    "newtext = pd.DataFrame()\n",
    "\n",
    "for book_num, book_name in enumerate(['Lambda', 'Deathway']):\n",
    "        filepath = f'../data/{book_name} by Tomo Umer.txt'\n",
    "\n",
    "        with open(filepath, encoding = 'utf-8') as fi:\n",
    "                book = fi.read()\n",
    "        \n",
    "        tmp_text = pd.DataFrame({'id': f'TU{str(book_num).zfill(3)}',\n",
    "                                 'title': [book_name],\n",
    "                                 'author': 'Umer, Tomo',\n",
    "                                 'authorcentury': 21,\n",
    "                                 'book_content': [book]})\n",
    "\n",
    "        newtext = pd.concat([newtext, tmp_text], ignore_index = True)"
   ]
  },
  {
   "cell_type": "code",
   "execution_count": 52,
   "metadata": {},
   "outputs": [
    {
     "data": {
      "text/html": [
       "<div>\n",
       "<style scoped>\n",
       "    .dataframe tbody tr th:only-of-type {\n",
       "        vertical-align: middle;\n",
       "    }\n",
       "\n",
       "    .dataframe tbody tr th {\n",
       "        vertical-align: top;\n",
       "    }\n",
       "\n",
       "    .dataframe thead th {\n",
       "        text-align: right;\n",
       "    }\n",
       "</style>\n",
       "<table border=\"1\" class=\"dataframe\">\n",
       "  <thead>\n",
       "    <tr style=\"text-align: right;\">\n",
       "      <th></th>\n",
       "      <th>id</th>\n",
       "      <th>title</th>\n",
       "      <th>author</th>\n",
       "      <th>authorcentury</th>\n",
       "      <th>book_content</th>\n",
       "    </tr>\n",
       "  </thead>\n",
       "  <tbody>\n",
       "    <tr>\n",
       "      <th>0</th>\n",
       "      <td>TU000</td>\n",
       "      <td>Lambda</td>\n",
       "      <td>Umer, Tomo</td>\n",
       "      <td>21</td>\n",
       "      <td>Lambda\\n\\n\\n\\n\\n\\n\\n\\n\\n\\n\\n\\n\\n\\n\\n\\n\\n\\n\\n\\n...</td>\n",
       "    </tr>\n",
       "    <tr>\n",
       "      <th>1</th>\n",
       "      <td>TU001</td>\n",
       "      <td>Deathway</td>\n",
       "      <td>Umer, Tomo</td>\n",
       "      <td>21</td>\n",
       "      <td>DeathwayIndex\\nIntroduction\\nMy second novel! ...</td>\n",
       "    </tr>\n",
       "  </tbody>\n",
       "</table>\n",
       "</div>"
      ],
      "text/plain": [
       "      id     title      author  authorcentury  \\\n",
       "0  TU000    Lambda  Umer, Tomo             21   \n",
       "1  TU001  Deathway  Umer, Tomo             21   \n",
       "\n",
       "                                        book_content  \n",
       "0  Lambda\\n\\n\\n\\n\\n\\n\\n\\n\\n\\n\\n\\n\\n\\n\\n\\n\\n\\n\\n\\n...  \n",
       "1  DeathwayIndex\\nIntroduction\\nMy second novel! ...  "
      ]
     },
     "execution_count": 52,
     "metadata": {},
     "output_type": "execute_result"
    }
   ],
   "source": [
    "newtext"
   ]
  },
  {
   "cell_type": "code",
   "execution_count": 82,
   "metadata": {},
   "outputs": [],
   "source": [
    "newtext['authorcentury'] = newtext['authorcentury'].apply(annotate_century)"
   ]
  },
  {
   "attachments": {},
   "cell_type": "markdown",
   "metadata": {},
   "source": [
    "As a reminder (to myself), in order to convert the new texts, we only need predict and transform methods"
   ]
  },
  {
   "cell_type": "code",
   "execution_count": 83,
   "metadata": {},
   "outputs": [
    {
     "ename": "KeyError",
     "evalue": "'book_content'",
     "output_type": "error",
     "traceback": [
      "\u001b[0;31m---------------------------------------------------------------------------\u001b[0m",
      "\u001b[0;31mKeyError\u001b[0m                                  Traceback (most recent call last)",
      "File \u001b[0;32m~/opt/anaconda3/lib/python3.9/site-packages/pandas/core/indexes/base.py:3802\u001b[0m, in \u001b[0;36mIndex.get_loc\u001b[0;34m(self, key, method, tolerance)\u001b[0m\n\u001b[1;32m   3801\u001b[0m \u001b[39mtry\u001b[39;00m:\n\u001b[0;32m-> 3802\u001b[0m     \u001b[39mreturn\u001b[39;00m \u001b[39mself\u001b[39;49m\u001b[39m.\u001b[39;49m_engine\u001b[39m.\u001b[39;49mget_loc(casted_key)\n\u001b[1;32m   3803\u001b[0m \u001b[39mexcept\u001b[39;00m \u001b[39mKeyError\u001b[39;00m \u001b[39mas\u001b[39;00m err:\n",
      "File \u001b[0;32m~/opt/anaconda3/lib/python3.9/site-packages/pandas/_libs/index.pyx:138\u001b[0m, in \u001b[0;36mpandas._libs.index.IndexEngine.get_loc\u001b[0;34m()\u001b[0m\n",
      "File \u001b[0;32m~/opt/anaconda3/lib/python3.9/site-packages/pandas/_libs/index.pyx:165\u001b[0m, in \u001b[0;36mpandas._libs.index.IndexEngine.get_loc\u001b[0;34m()\u001b[0m\n",
      "File \u001b[0;32mpandas/_libs/hashtable_class_helper.pxi:5745\u001b[0m, in \u001b[0;36mpandas._libs.hashtable.PyObjectHashTable.get_item\u001b[0;34m()\u001b[0m\n",
      "File \u001b[0;32mpandas/_libs/hashtable_class_helper.pxi:5753\u001b[0m, in \u001b[0;36mpandas._libs.hashtable.PyObjectHashTable.get_item\u001b[0;34m()\u001b[0m\n",
      "\u001b[0;31mKeyError\u001b[0m: 'book_content'",
      "\nThe above exception was the direct cause of the following exception:\n",
      "\u001b[0;31mKeyError\u001b[0m                                  Traceback (most recent call last)",
      "Cell \u001b[0;32mIn[83], line 2\u001b[0m\n\u001b[1;32m      1\u001b[0m \u001b[39m# now using predict from the encoder to get the 100-dimensional projection of new text\u001b[39;00m\n\u001b[0;32m----> 2\u001b[0m nn_represent_newtext \u001b[39m=\u001b[39m pipe_nn_encoder\u001b[39m.\u001b[39mpredict(newtext[\u001b[39m'\u001b[39;49m\u001b[39mbook_content\u001b[39;49m\u001b[39m'\u001b[39;49m])\n\u001b[1;32m      4\u001b[0m \u001b[39m# and its 2d representation using umap\u001b[39;00m\n\u001b[1;32m      5\u001b[0m umap_projection_newtext \u001b[39m=\u001b[39m umap_mnist\u001b[39m.\u001b[39mtransform(nn_represent_newtext)\n",
      "File \u001b[0;32m~/opt/anaconda3/lib/python3.9/site-packages/pandas/core/frame.py:3807\u001b[0m, in \u001b[0;36mDataFrame.__getitem__\u001b[0;34m(self, key)\u001b[0m\n\u001b[1;32m   3805\u001b[0m \u001b[39mif\u001b[39;00m \u001b[39mself\u001b[39m\u001b[39m.\u001b[39mcolumns\u001b[39m.\u001b[39mnlevels \u001b[39m>\u001b[39m \u001b[39m1\u001b[39m:\n\u001b[1;32m   3806\u001b[0m     \u001b[39mreturn\u001b[39;00m \u001b[39mself\u001b[39m\u001b[39m.\u001b[39m_getitem_multilevel(key)\n\u001b[0;32m-> 3807\u001b[0m indexer \u001b[39m=\u001b[39m \u001b[39mself\u001b[39;49m\u001b[39m.\u001b[39;49mcolumns\u001b[39m.\u001b[39;49mget_loc(key)\n\u001b[1;32m   3808\u001b[0m \u001b[39mif\u001b[39;00m is_integer(indexer):\n\u001b[1;32m   3809\u001b[0m     indexer \u001b[39m=\u001b[39m [indexer]\n",
      "File \u001b[0;32m~/opt/anaconda3/lib/python3.9/site-packages/pandas/core/indexes/base.py:3804\u001b[0m, in \u001b[0;36mIndex.get_loc\u001b[0;34m(self, key, method, tolerance)\u001b[0m\n\u001b[1;32m   3802\u001b[0m     \u001b[39mreturn\u001b[39;00m \u001b[39mself\u001b[39m\u001b[39m.\u001b[39m_engine\u001b[39m.\u001b[39mget_loc(casted_key)\n\u001b[1;32m   3803\u001b[0m \u001b[39mexcept\u001b[39;00m \u001b[39mKeyError\u001b[39;00m \u001b[39mas\u001b[39;00m err:\n\u001b[0;32m-> 3804\u001b[0m     \u001b[39mraise\u001b[39;00m \u001b[39mKeyError\u001b[39;00m(key) \u001b[39mfrom\u001b[39;00m \u001b[39merr\u001b[39;00m\n\u001b[1;32m   3805\u001b[0m \u001b[39mexcept\u001b[39;00m \u001b[39mTypeError\u001b[39;00m:\n\u001b[1;32m   3806\u001b[0m     \u001b[39m# If we have a listlike key, _check_indexing_error will raise\u001b[39;00m\n\u001b[1;32m   3807\u001b[0m     \u001b[39m#  InvalidIndexError. Otherwise we fall through and re-raise\u001b[39;00m\n\u001b[1;32m   3808\u001b[0m     \u001b[39m#  the TypeError.\u001b[39;00m\n\u001b[1;32m   3809\u001b[0m     \u001b[39mself\u001b[39m\u001b[39m.\u001b[39m_check_indexing_error(key)\n",
      "\u001b[0;31mKeyError\u001b[0m: 'book_content'"
     ]
    }
   ],
   "source": [
    "# now using predict from the encoder to get the 100-dimensional projection of new text\n",
    "nn_represent_newtext = pipe_nn_encoder.predict(newtext['book_content'])\n",
    "\n",
    "# and its 2d representation using umap\n",
    "umap_projection_newtext = umap_mnist.transform(nn_represent_newtext)"
   ]
  },
  {
   "cell_type": "code",
   "execution_count": null,
   "metadata": {},
   "outputs": [],
   "source": [
    "# and then just like with the authors, convert new texts into a dataframe\n",
    "# convert the 100 dimensional vector of neuron weights into dataframe\n",
    "newtxt_represent = pd.DataFrame(nn_represent_newtext, columns=[f'dim_{x}' for x in range(100)])\n",
    "\n",
    "# and also the 2d representation\n",
    "newtxt_proj = pd.DataFrame(umap_projection_newtext, columns=[f'proj_{x}' for x in range(2)])\n",
    "\n",
    "# concatenate together with some info from the original df. at this point, for this notebook won't be needing the book texts anymore\n",
    "# I'll create a new notebook for NN from a different package\n",
    "newtext = pd.concat([\n",
    "    newtext[['id','title','author','authorcentury']],\n",
    "    newtxt_proj.set_index(newtext.index),\n",
    "    newtxt_represent.set_index(newtext.index)],\n",
    "    axis=1)"
   ]
  },
  {
   "attachments": {},
   "cell_type": "markdown",
   "metadata": {},
   "source": [
    "Then, use the median 0.549409 (or possibly mean 0.721832) value to get a circle around the new texts - to visually represent similar books."
   ]
  },
  {
   "cell_type": "code",
   "execution_count": 85,
   "metadata": {},
   "outputs": [],
   "source": [
    "circle_edges = newtext[['proj_0', 'proj_1']].copy()"
   ]
  },
  {
   "cell_type": "code",
   "execution_count": 86,
   "metadata": {},
   "outputs": [],
   "source": [
    "circle_edges['x0'] = circle_edges['proj_0'] - dist2d_mean\n",
    "circle_edges['x1'] = circle_edges['proj_0'] + dist2d_mean\n",
    "circle_edges['y0'] = circle_edges['proj_1'] - dist2d_mean\n",
    "circle_edges['y1'] = circle_edges['proj_1'] + dist2d_mean"
   ]
  },
  {
   "cell_type": "code",
   "execution_count": 87,
   "metadata": {},
   "outputs": [
    {
     "data": {
      "text/html": [
       "<div>\n",
       "<style scoped>\n",
       "    .dataframe tbody tr th:only-of-type {\n",
       "        vertical-align: middle;\n",
       "    }\n",
       "\n",
       "    .dataframe tbody tr th {\n",
       "        vertical-align: top;\n",
       "    }\n",
       "\n",
       "    .dataframe thead th {\n",
       "        text-align: right;\n",
       "    }\n",
       "</style>\n",
       "<table border=\"1\" class=\"dataframe\">\n",
       "  <thead>\n",
       "    <tr style=\"text-align: right;\">\n",
       "      <th></th>\n",
       "      <th>proj_0</th>\n",
       "      <th>proj_1</th>\n",
       "      <th>x0</th>\n",
       "      <th>x1</th>\n",
       "      <th>y0</th>\n",
       "      <th>y1</th>\n",
       "    </tr>\n",
       "  </thead>\n",
       "  <tbody>\n",
       "    <tr>\n",
       "      <th>0</th>\n",
       "      <td>4.88260</td>\n",
       "      <td>2.497329</td>\n",
       "      <td>4.227414</td>\n",
       "      <td>5.537787</td>\n",
       "      <td>1.842142</td>\n",
       "      <td>3.152516</td>\n",
       "    </tr>\n",
       "    <tr>\n",
       "      <th>1</th>\n",
       "      <td>3.73109</td>\n",
       "      <td>3.041981</td>\n",
       "      <td>3.075903</td>\n",
       "      <td>4.386276</td>\n",
       "      <td>2.386794</td>\n",
       "      <td>3.697167</td>\n",
       "    </tr>\n",
       "  </tbody>\n",
       "</table>\n",
       "</div>"
      ],
      "text/plain": [
       "    proj_0    proj_1        x0        x1        y0        y1\n",
       "0  4.88260  2.497329  4.227414  5.537787  1.842142  3.152516\n",
       "1  3.73109  3.041981  3.075903  4.386276  2.386794  3.697167"
      ]
     },
     "execution_count": 87,
     "metadata": {},
     "output_type": "execute_result"
    }
   ],
   "source": [
    "circle_edges"
   ]
  },
  {
   "attachments": {},
   "cell_type": "markdown",
   "metadata": {},
   "source": [
    "Finally, simply add the new text to the library."
   ]
  },
  {
   "cell_type": "code",
   "execution_count": 88,
   "metadata": {},
   "outputs": [],
   "source": [
    "library_newtext = pd.concat([library_select, newtext])"
   ]
  },
  {
   "cell_type": "code",
   "execution_count": 89,
   "metadata": {},
   "outputs": [
    {
     "data": {
      "application/vnd.plotly.v1+json": {
       "config": {
        "plotlyServerURL": "https://plot.ly"
       },
       "data": [
        {
         "customdata": [
          [
           "Apocolocyntosis"
          ],
          [
           "L. Annaeus Seneca on Benefits"
          ],
          [
           "Two Tragedies of Seneca: Medea and The Daughters of Troy: Rendered into English Verse"
          ],
          [
           "Seneca's Morals of a Happy Life, Benefits, Anger and Clemency"
          ],
          [
           "The Tragedies of Seneca: Translated into English Verse, to Which Have Been Appended Comparative Analyses of the Corresponding Greek and Roman Plays, and a Mythological Index"
          ],
          [
           "Index of the Project Gutenberg Works of Lucius Annaeus Seneca"
          ],
          [
           "Minor Dialogues, Together With the Dialogue on Clemency"
          ]
         ],
         "hovertemplate": "author=Seneca, Lucius Annaeus<br>proj_0=%{x}<br>proj_1=%{y}<br>title=%{customdata[0]}<extra></extra>",
         "legendgroup": "Seneca, Lucius Annaeus",
         "marker": {
          "color": "#AA0DFE",
          "symbol": "circle"
         },
         "mode": "markers",
         "name": "Seneca, Lucius Annaeus",
         "orientation": "v",
         "showlegend": true,
         "type": "scatter",
         "x": [
          5.122745990753174,
          3.827690601348877,
          4.559480667114258,
          3.8888869285583496,
          3.822796583175659,
          5.322546005249023,
          3.7524702548980713
         ],
         "xaxis": "x",
         "y": [
          3.2624361515045166,
          4.102427005767822,
          2.747194290161133,
          4.170809745788574,
          4.2305474281311035,
          3.563805341720581,
          4.1717047691345215
         ],
         "yaxis": "y"
        },
        {
         "customdata": [
          [
           "La Fiammetta"
          ],
          [
           "The Decameron, Volume II"
          ],
          [
           "The Decameron of Giovanni Boccaccio"
          ],
          [
           "The Decameron, Volume I"
          ],
          [
           "The Decameron (Day 1 to Day 5): Containing an hundred pleasant Novels"
          ],
          [
           "The Decameron (Day 6 to Day 10): Containing an hundred pleasant Novels"
          ]
         ],
         "hovertemplate": "author=Boccaccio, Giovanni<br>proj_0=%{x}<br>proj_1=%{y}<br>title=%{customdata[0]}<extra></extra>",
         "legendgroup": "Boccaccio, Giovanni",
         "marker": {
          "color": "#3283FE",
          "symbol": "circle"
         },
         "mode": "markers",
         "name": "Boccaccio, Giovanni",
         "orientation": "v",
         "showlegend": true,
         "type": "scatter",
         "x": [
          3.062504768371582,
          2.1817026138305664,
          2.171948194503784,
          5.3068366050720215,
          1.9165840148925781,
          1.969145655632019
         ],
         "xaxis": "x",
         "y": [
          6.319430828094482,
          5.746269702911377,
          5.7913498878479,
          10.21899700164795,
          6.03905725479126,
          6.017590045928955
         ],
         "yaxis": "y"
        },
        {
         "customdata": [
          [
           "Divine Comedy, Longfellow's Translation, Hell"
          ],
          [
           "Divine Comedy, Longfellow's Translation, Purgatory"
          ],
          [
           "Divine Comedy, Longfellow's Translation, Paradise"
          ],
          [
           "Divine Comedy, Longfellow's Translation, Complete"
          ],
          [
           "Divine Comedy, Cary's Translation, Hell"
          ],
          [
           "Divine Comedy, Cary's Translation, Purgatory"
          ],
          [
           "Divine Comedy, Cary's Translation, Paradise"
          ],
          [
           "Divine Comedy, Cary's Translation, Complete"
          ],
          [
           "The Banquet (Il Convito)"
          ],
          [
           "The Divine Comedy, Volume 1, Hell"
          ],
          [
           "The Divine Comedy, Volume 2, Purgatory"
          ],
          [
           "The Divine Comedy, Volume 3, Paradise"
          ],
          [
           "The New Life (La Vita Nuova)"
          ],
          [
           "The Divine Comedy of Dante Alighieri: The Inferno"
          ],
          [
           "The Vision of Dante: A story for little children and a talk to their mothers: (Second Edition)"
          ],
          [
           "The vision of hell.: By Dante Alighieri.; Translated by Rev. Henry Francis Cary, M.A.; and illustrated with the seventy-five designs of Gustave Doré."
          ],
          [
           "The Divine Comedy by Dante, Illustrated, Purgatory, Complete"
          ],
          [
           "The Divine Comedy by Dante, Illustrated, Paradise, Complete"
          ],
          [
           "The divine comedy"
          ]
         ],
         "hovertemplate": "author=Dante Alighieri<br>proj_0=%{x}<br>proj_1=%{y}<br>title=%{customdata[0]}<extra></extra>",
         "legendgroup": "Dante Alighieri",
         "marker": {
          "color": "#85660D",
          "symbol": "circle"
         },
         "mode": "markers",
         "name": "Dante Alighieri",
         "orientation": "v",
         "showlegend": true,
         "type": "scatter",
         "x": [
          5.5804057121276855,
          5.613076686859131,
          5.482569217681885,
          5.5264058113098145,
          5.3795881271362305,
          5.521193981170654,
          5.438664436340332,
          5.390087127685547,
          5.485036849975586,
          5.517715930938721,
          5.583676338195801,
          5.492496967315674,
          4.4930033683776855,
          5.514674186706543,
          5.1652750968933105,
          5.432076930999756,
          5.482977867126465,
          5.38691520690918,
          5.352466583251953
         ],
         "xaxis": "x",
         "y": [
          7.0713210105896,
          7.145920753479004,
          7.240212917327881,
          7.151474475860596,
          7.376584529876709,
          7.486905574798584,
          7.458669662475586,
          7.402670860290527,
          6.951871395111084,
          7.190520286560059,
          7.192533016204834,
          6.898308753967285,
          2.5229578018188477,
          7.033351898193359,
          3.338625431060791,
          7.384476661682129,
          7.403947830200195,
          7.378597736358643,
          7.425360202789307
         ],
         "yaxis": "y"
        },
        {
         "customdata": [
          [
           "Chinese Literature: Comprising the Analects of Confucius, the Sayings of Mencius, the Shi-King, the Travels of Fâ-Hien, and the Sorrows of Han"
          ],
          [
           "The Sayings of Confucius"
          ],
          [
           "The Analects of Confucius (from the Chinese Classics)"
          ],
          [
           "The Wisdom of Confucius: with Critical and Biographical Sketches"
          ],
          [
           "The Sayings of Confucius: A New Translation of the Greater Part of the Confucian Analects"
          ]
         ],
         "hovertemplate": "author=Confucius<br>proj_0=%{x}<br>proj_1=%{y}<br>title=%{customdata[0]}<extra></extra>",
         "legendgroup": "Confucius",
         "marker": {
          "color": "#782AB6",
          "symbol": "circle"
         },
         "mode": "markers",
         "name": "Confucius",
         "orientation": "v",
         "showlegend": true,
         "type": "scatter",
         "x": [
          7.332862854003906,
          4.710216999053955,
          4.92983865737915,
          7.340766429901123,
          4.478688716888428
         ],
         "xaxis": "x",
         "y": [
          2.340013265609741,
          3.8595213890075684,
          3.796567916870117,
          2.349055767059326,
          3.967028856277466
         ],
         "yaxis": "y"
        },
        {
         "customdata": [
          [
           "The Complete Works of William Shakespeare"
          ],
          [
           "Shakespeare's Sonnets"
          ],
          [
           "Venus and Adonis"
          ],
          [
           "King Richard III"
          ],
          [
           "The Tragedy of Titus Andronicus"
          ],
          [
           "The Taming of the Shrew"
          ],
          [
           "The Tragedy of Romeo and Juliet"
          ],
          [
           "As You Like It"
          ],
          [
           "The Tragedy of Macbeth"
          ],
          [
           "King Richard III"
          ],
          [
           "The Taming of the Shrew"
          ],
          [
           "Romeo and Juliet"
          ],
          [
           "A Midsummer Night's Dream"
          ],
          [
           "The Merchant of Venice"
          ],
          [
           "King Henry IV, the First Part"
          ],
          [
           "Much Ado about Nothing"
          ],
          [
           "The Life of King Henry V"
          ],
          [
           "Julius Caesar"
          ],
          [
           "As You Like It"
          ],
          [
           "Hamlet, Prince of Denmark"
          ],
          [
           "Twelfth Night; Or, What You Will"
          ],
          [
           "All's Well That Ends Well"
          ],
          [
           "Othello, the Moor of Venice"
          ],
          [
           "The Tragedy of King Lear"
          ],
          [
           "Macbeth"
          ],
          [
           "Antony and Cleopatra"
          ],
          [
           "The Winter's Tale"
          ],
          [
           "The Tempest"
          ],
          [
           "Sir Thomas More"
          ],
          [
           "Romeo and Juliet"
          ],
          [
           "Julius Caesar"
          ],
          [
           "Hamlet"
          ],
          [
           "King Lear"
          ],
          [
           "A Midsummer Night's Dream"
          ],
          [
           "The Merchant of Venice"
          ],
          [
           "Twelfth Night"
          ],
          [
           "Henry V"
          ],
          [
           "Macbeth"
          ],
          [
           "Hamlet"
          ],
          [
           "Othello"
          ],
          [
           "Shakespeare's First Folio"
          ],
          [
           "The Tempest: The Works of William Shakespeare [Cambridge Edition] [9 vols.]"
          ],
          [
           "Two Gentlemen of Verona: The Works of William Shakespeare [Cambridge Edition] [9 vols.]"
          ],
          [
           "The Merry Wives of Windsor: The Works of William Shakespeare [Cambridge Edition] [9 vols.]"
          ],
          [
           "Measure for Measure: The Works of William Shakespeare [Cambridge Edition] [9 vols.]"
          ],
          [
           "The Comedy of Errors: The Works of William Shakespeare [Cambridge Edition] [9 vols.]"
          ],
          [
           "Hamlet, Prince of Denmark"
          ],
          [
           "The New Hudson Shakespeare: Julius Cæsar"
          ],
          [
           "Shakespeare's Tragedy of Romeo and Juliet"
          ],
          [
           "Flowers from Shakespeare's Garden: A Posy from the Plays"
          ]
         ],
         "hovertemplate": "author=Shakespeare, William<br>proj_0=%{x}<br>proj_1=%{y}<br>title=%{customdata[0]}<extra></extra>",
         "legendgroup": "Shakespeare, William",
         "marker": {
          "color": "#565656",
          "symbol": "circle"
         },
         "mode": "markers",
         "name": "Shakespeare, William",
         "orientation": "v",
         "showlegend": true,
         "type": "scatter",
         "x": [
          -4.021359443664551,
          -3.9848828315734863,
          -3.4442803859710693,
          -3.6299936771392822,
          -3.92863130569458,
          -4.000110149383545,
          -4.172995090484619,
          -3.832101583480835,
          -3.9428820610046387,
          -3.6294171810150146,
          -3.9414632320404053,
          -4.1997222900390625,
          -3.844155788421631,
          -3.8625400066375732,
          -3.546340227127075,
          -3.668240785598755,
          -3.4745888710021973,
          -3.3724558353424072,
          -3.787364959716797,
          -3.677539110183716,
          -3.5662097930908203,
          -3.549098253250122,
          -4.013709545135498,
          -3.9225363731384277,
          -3.870093584060669,
          -4.027024269104004,
          -3.987520933151245,
          -4.010080814361572,
          -3.470064640045166,
          -4.131827354431152,
          -3.28001070022583,
          -3.722766399383545,
          -4.006382465362549,
          -3.888544797897339,
          -3.9897525310516357,
          -3.836397171020508,
          -3.9302220344543457,
          -3.996823310852051,
          -3.8444485664367676,
          -4.040331840515137,
          -3.942504405975342,
          -3.967061758041382,
          -3.4823968410491943,
          -3.614464044570923,
          -3.645792245864868,
          -3.3380515575408936,
          -3.499919891357422,
          -3.324479818344116,
          -4.14749813079834,
          5.096501350402832
         ],
         "xaxis": "x",
         "y": [
          -1.124436378479004,
          -0.1714879870414734,
          -0.4234618842601776,
          -0.6646742224693298,
          -0.2649049460887909,
          -0.09102872759103775,
          -0.8712884783744812,
          -0.3592519164085388,
          -0.6434043049812317,
          -0.6775073409080505,
          -0.11998408287763596,
          -0.7280222773551941,
          -0.8215233683586121,
          -0.37347105145454407,
          -0.5700122117996216,
          -0.6482620239257812,
          -0.4221251606941223,
          -0.2684750258922577,
          -0.3860686719417572,
          -0.9164202809333801,
          -0.5258334875106812,
          -0.6444275379180908,
          -0.17448651790618896,
          -0.9036365151405334,
          -0.6333470940589905,
          -0.053752731531858444,
          -0.10224678367376328,
          -0.08703272044658661,
          -0.5596836805343628,
          -0.7991831302642822,
          -0.33684030175209045,
          -1.1059519052505493,
          -0.8148054480552673,
          -0.9010094404220581,
          -1.145355463027954,
          -1.0494581460952759,
          -1.14589262008667,
          -1.0510809421539307,
          -1.136623501777649,
          -1.0993874073028564,
          -1.1501286029815674,
          -0.12532702088356018,
          -0.19611486792564392,
          -0.6144875288009644,
          -0.22496731579303741,
          -0.3204839825630188,
          -0.47949379682540894,
          -0.23929144442081451,
          -0.624114990234375,
          3.5253984928131104
         ],
         "yaxis": "y"
        },
        {
         "customdata": [
          [
           "Bleak House"
          ],
          [
           "Three Ghost Stories"
          ],
          [
           "Great Expectations"
          ],
          [
           "The Perils of Certain English Prisoners"
          ],
          [
           "A Message from the Sea"
          ],
          [
           "Doctor Marigold"
          ],
          [
           "The Wreck of the Golden Mary"
          ],
          [
           "Some Christmas Stories"
          ],
          [
           "A Christmas Carol"
          ],
          [
           "The Magic Fishbone: A Holiday Romance from the Pen of Miss Alice Rainbird, Aged 7"
          ],
          [
           "A Christmas Carol"
          ],
          [
           "The Letters of Charles Dickens. Vol. 1, 1833-1856"
          ],
          [
           "The Letters of Charles Dickens. Vol. 2, 1857-1870"
          ],
          [
           "Bardell v. Pickwick"
          ],
          [
           "Mugby Junction"
          ],
          [
           "A Christmas Carol: The original manuscript"
          ],
          [
           "The Battle of Life: A Love Story"
          ],
          [
           "A Child's Dream of a Star"
          ],
          [
           "The Personal History of David Copperfield"
          ],
          [
           "Oliver Twist; or, The Parish Boy's Progress. Illustrated"
          ],
          [
           "Oliver Twist, Vol. 1 (of 3)"
          ],
          [
           "The Mystery of Edwin Drood"
          ],
          [
           "The Pickwick Papers"
          ],
          [
           "Index of the Project Gutenberg Works of Charles Dickens"
          ],
          [
           "Master Humphrey's Clock"
          ],
          [
           "The Haunted Man and the Ghost's Bargain"
          ],
          [
           "Pictures from Italy"
          ],
          [
           "The Chimes: A Goblin Story of Some Bells That Rang an Old Year out and a New Year In"
          ],
          [
           "American Notes"
          ],
          [
           "The Battle of Life"
          ],
          [
           "The Cricket on the Hearth: A Fairy Tale of Home"
          ],
          [
           "A Child's History of England"
          ],
          [
           "The Old Curiosity Shop"
          ],
          [
           "Oliver Twist"
          ],
          [
           "David Copperfield"
          ],
          [
           "Hard Times"
          ],
          [
           "Hunted Down: The Detective Stories of Charles Dickens"
          ],
          [
           "Holiday Romance"
          ],
          [
           "George Silverman's Explanation"
          ],
          [
           "Dombey and Son"
          ],
          [
           "Speeches: Literary and Social"
          ],
          [
           "Reprinted Pieces"
          ],
          [
           "Sketches by Boz, Illustrative of Every-Day Life and Every-Day People"
          ],
          [
           "Our Mutual Friend"
          ],
          [
           "The Uncommercial Traveller"
          ],
          [
           "Barnaby Rudge: A Tale of the Riots of 'Eighty"
          ],
          [
           "To Be Read at Dusk"
          ],
          [
           "Little Dorrit"
          ],
          [
           "Nicholas Nickleby"
          ],
          [
           "Martin Chuzzlewit"
          ]
         ],
         "hovertemplate": "author=Dickens, Charles<br>proj_0=%{x}<br>proj_1=%{y}<br>title=%{customdata[0]}<extra></extra>",
         "legendgroup": "Dickens, Charles",
         "marker": {
          "color": "#1C8356",
          "symbol": "circle"
         },
         "mode": "markers",
         "name": "Dickens, Charles",
         "orientation": "v",
         "showlegend": true,
         "type": "scatter",
         "x": [
          2.3577966690063477,
          2.582514762878418,
          2.1900177001953125,
          2.701575517654419,
          3.1492667198181152,
          3.042562246322632,
          3.055649995803833,
          2.569286346435547,
          2.291057586669922,
          3.4048516750335693,
          2.3906197547912598,
          1.9801363945007324,
          2.090632438659668,
          2.7781012058258057,
          2.373218059539795,
          2.332587480545044,
          2.3786802291870117,
          5.197743892669678,
          1.6564383506774902,
          1.7402158975601196,
          1.9346177577972412,
          2.0163443088531494,
          2.554570198059082,
          3.0272328853607178,
          2.0595107078552246,
          2.67044734954834,
          1.921517252922058,
          2.5570766925811768,
          1.817602276802063,
          2.3515586853027344,
          2.870626211166382,
          2.032620429992676,
          2.1440322399139404,
          1.7801340818405151,
          1.714793086051941,
          2.54327392578125,
          3.249692440032959,
          2.9753875732421875,
          2.9796197414398193,
          2.2955715656280518,
          1.9132386445999146,
          1.8216196298599243,
          1.8748985528945923,
          2.0833027362823486,
          1.8889750242233276,
          1.9640767574310303,
          3.3858680725097656,
          2.185337781906128,
          2.0092008113861084,
          2.40254807472229
         ],
         "xaxis": "x",
         "y": [
          2.0932278633117676,
          3.099270820617676,
          2.857567548751831,
          3.073159694671631,
          2.9797780513763428,
          2.917490243911743,
          2.9036622047424316,
          3.0587308406829834,
          3.1677405834198,
          3.098834276199341,
          3.0720720291137695,
          2.209300994873047,
          2.3105251789093018,
          2.5710790157318115,
          2.163166046142578,
          3.1744093894958496,
          3.0415995121002197,
          3.723231554031372,
          2.24029541015625,
          2.2021920680999756,
          2.117863178253174,
          2.3366196155548096,
          2.4032883644104004,
          2.849010467529297,
          2.0188567638397217,
          2.9933700561523438,
          2.120307445526123,
          2.9044997692108154,
          2.502889633178711,
          3.017157793045044,
          2.6725707054138184,
          2.273580551147461,
          2.1116840839385986,
          2.243128776550293,
          2.2105891704559326,
          3.073333740234375,
          3.0497841835021973,
          3.0206189155578613,
          2.8982930183410645,
          2.1735501289367676,
          2.6660454273223877,
          2.6584320068359375,
          2.3148691654205322,
          2.3416378498077393,
          2.2116243839263916,
          2.623450994491577,
          3.096447706222534,
          2.1978864669799805,
          2.1561660766601562,
          2.265109062194824
         ],
         "yaxis": "y"
        },
        {
         "customdata": [
          [
           "The Tragedy of Pudd'nhead Wilson"
          ],
          [
           "Extract from Captain Stormfield's Visit to Heaven"
          ],
          [
           "A Horse's Tale"
          ],
          [
           "A Tramp Abroad"
          ],
          [
           "The Man That Corrupted Hadleyburg"
          ],
          [
           "The $30,000 Bequest, and Other Stories"
          ],
          [
           "The Prince and the Pauper"
          ],
          [
           "Extracts from Adam's Diary, translated from the original ms."
          ],
          [
           "Chapters from My Autobiography"
          ],
          [
           "Is Shakespeare Dead?: From My Autobiography"
          ],
          [
           "Life on the Mississippi"
          ],
          [
           "On the Decay of the Art of Lying"
          ],
          [
           "Personal Recollections of Joan of Arc — Volume 1"
          ],
          [
           "Personal Recollections of Joan of Arc — Volume 2"
          ],
          [
           "The Works of Mark Twain: An Index of all Project Gutenberg Editions"
          ],
          [
           "Following the Equator: A Journey Around the World"
          ],
          [
           "In Defence of Harriet Shelley"
          ],
          [
           "Fenimore Cooper's Literary Offences"
          ],
          [
           "A Dog's Tale"
          ],
          [
           "The Innocents Abroad"
          ],
          [
           "Roughing It"
          ],
          [
           "The Gilded Age: A Tale of Today"
          ],
          [
           "The American Claimant"
          ],
          [
           "A Double Barrelled Detective Story"
          ],
          [
           "The Stolen White Elephant"
          ],
          [
           "Those Extraordinary Twins"
          ],
          [
           "The Mysterious Stranger, and Other Stories"
          ],
          [
           "Christian Science"
          ],
          [
           "Mark Twain's Speeches"
          ],
          [
           "Sketches New and Old"
          ],
          [
           "1601: Conversation as it was by the Social Fireside in the Time of the Tudors"
          ],
          [
           "Mark Twain's Letters — Volume 1 (1853-1866)"
          ],
          [
           "Mark Twain's Letters — Volume 2 (1867-1875)"
          ],
          [
           "Mark Twain's Letters — Volume 4 (1886-1900)"
          ],
          [
           "Mark Twain's Letters — Complete (1853-1910)"
          ],
          [
           "The Entire Project Gutenberg Works of Mark Twain"
          ],
          [
           "The Adventures of Huckleberry Finn (Tom Sawyer's Comrade)"
          ],
          [
           "How to Tell a Story, and Other Essays"
          ],
          [
           "The Man That Corrupted Hadleyburg, and Other Stories"
          ],
          [
           "The Mysterious Stranger: A Romance"
          ],
          [
           "Merry Tales"
          ],
          [
           "The £1,000,000 bank-note, and other new stories"
          ],
          [
           "To the Person Sitting in Darkness"
          ],
          [
           "King Leopold's Soliloquy: A Defense of His Congo Rule"
          ],
          [
           "Europe and elsewhere"
          ],
          [
           "Adventures of Huckleberry Finn, Chapters 01 to 05"
          ],
          [
           "Adventures of Huckleberry Finn, Chapters 11 to 15"
          ],
          [
           "The Adventures of Tom Sawyer, Part 1."
          ],
          [
           "The Adventures of Tom Sawyer, Part 2."
          ],
          [
           "Eve's Diary, Complete"
          ]
         ],
         "hovertemplate": "author=Twain, Mark<br>proj_0=%{x}<br>proj_1=%{y}<br>title=%{customdata[0]}<extra></extra>",
         "legendgroup": "Twain, Mark",
         "marker": {
          "color": "#16FF32",
          "symbol": "circle"
         },
         "mode": "markers",
         "name": "Twain, Mark",
         "orientation": "v",
         "showlegend": true,
         "type": "scatter",
         "x": [
          1.6168657541275024,
          2.5580949783325195,
          2.6072895526885986,
          1.2532697916030884,
          2.1021180152893066,
          1.4597351551055908,
          1.6957855224609375,
          2.967466115951538,
          1.7019948959350586,
          1.8566573858261108,
          0.7939873933792114,
          3.046769142150879,
          1.2994639873504639,
          1.7860116958618164,
          5.345817565917969,
          0.7918359041213989,
          2.6333930492401123,
          2.922067165374756,
          3.0515496730804443,
          0.8956102728843689,
          0.8138967752456665,
          1.1362402439117432,
          1.2414814233779907,
          2.1083014011383057,
          2.950421094894409,
          2.6028215885162354,
          1.6022439002990723,
          1.484354019165039,
          1.106015920639038,
          0.9432821869850159,
          2.6688342094421387,
          1.4558395147323608,
          1.4422513246536255,
          1.2170225381851196,
          1.0708311796188354,
          0.7687792181968689,
          1.4420148134231567,
          2.834629774093628,
          0.9430990815162659,
          1.577239751815796,
          1.5642309188842773,
          1.6698925495147705,
          2.973957061767578,
          2.712056875228882,
          1.3845981359481812,
          2.708530902862549,
          2.5339407920837402,
          2.7975029945373535,
          2.5728447437286377,
          2.929931163787842
         ],
         "xaxis": "x",
         "y": [
          6.502882957458496,
          6.395266532897949,
          6.431395053863525,
          6.393220901489258,
          6.336253643035889,
          6.408194541931152,
          6.393925666809082,
          6.419681072235107,
          6.370205402374268,
          6.421750545501709,
          6.286505699157715,
          6.337312698364258,
          6.26792049407959,
          6.506571292877197,
          3.653658866882324,
          6.342913627624512,
          6.366116046905518,
          6.3775506019592285,
          6.426224708557129,
          6.396455764770508,
          6.314476013183594,
          6.216986179351807,
          6.205870151519775,
          6.494938850402832,
          6.4638495445251465,
          6.390935897827148,
          6.316214561462402,
          6.252988815307617,
          6.21778678894043,
          6.23180627822876,
          6.503129959106445,
          6.369805812835693,
          6.262688636779785,
          6.330615520477295,
          6.336490154266357,
          6.382974147796631,
          6.5345869064331055,
          6.482578754425049,
          6.244076251983643,
          6.275567054748535,
          6.316906452178955,
          6.438279151916504,
          6.341792583465576,
          6.469954013824463,
          6.356319427490234,
          6.472384929656982,
          6.471529483795166,
          6.5582194328308105,
          6.474274635314941,
          6.455613136291504
         ],
         "yaxis": "y"
        },
        {
         "customdata": [
          [
           "The Green Flag, and Other Stories of War and Sport"
          ],
          [
           "The Return of Sherlock Holmes"
          ],
          [
           "The Exploits of Brigadier Gerard"
          ],
          [
           "The Refugees: A Tale of Two Continents"
          ],
          [
           "The Great Shadow and Other Napoleonic Tales"
          ],
          [
           "The Poison Belt"
          ],
          [
           "The Firm of Girdlestone"
          ],
          [
           "The Lost World"
          ],
          [
           "The Adventures of Gerard"
          ],
          [
           "The Adventures of Sherlock Holmes"
          ],
          [
           "The Sign of the Four"
          ],
          [
           "The Return of Sherlock Holmes"
          ],
          [
           "Danger! and Other Stories"
          ],
          [
           "The Adventure of Wisteria Lodge"
          ],
          [
           "The Adventure of the Cardboard Box"
          ],
          [
           "The Adventure of the Red Circle"
          ],
          [
           "The Adventure of the Bruce-Partington Plans"
          ],
          [
           "The Adventure of the Dying Detective"
          ],
          [
           "The Disappearance of Lady Frances Carfax"
          ],
          [
           "The Adventure of the Devil's Foot"
          ],
          [
           "His Last Bow: An Epilogue of Sherlock Holmes"
          ],
          [
           "A Study in Scarlet"
          ],
          [
           "Sir Nigel"
          ],
          [
           "The Hound of the Baskervilles"
          ],
          [
           "The Captain of the Polestar, and Other Tales"
          ],
          [
           "The Great Boer War"
          ],
          [
           "The Hound of the Baskervilles"
          ],
          [
           "The Great Keinplatz Experiment and Other Tales of Twilight and the Unseen"
          ],
          [
           "The Valley of Fear"
          ],
          [
           "The Parasite: A Story"
          ],
          [
           "The Crime of the Congo"
          ],
          [
           "The Valley of Fear"
          ],
          [
           "The Wanderings of a Spiritualist"
          ],
          [
           "Round the Red Lamp: Being Facts and Fancies of Medical Life"
          ],
          [
           "The Vital Message"
          ],
          [
           "The Coming of the Fairies"
          ],
          [
           "Adventures of Sherlock Holmes: Illustrated"
          ],
          [
           "Rodney Stone"
          ],
          [
           "Tales of Terror and Mystery"
          ],
          [
           "Round the Fire Stories"
          ],
          [
           "The Case for Spirit Photography: With corroborative evidence by experienced researchers and photographers"
          ],
          [
           "Memories and Adventures"
          ],
          [
           "The land of mist"
          ],
          [
           "My friend the murderer, and other mysteries and adventures"
          ],
          [
           "The case-book of Sherlock Holmes"
          ],
          [
           "The case of Oscar Slater"
          ],
          [
           "The Mystery of Cloomber"
          ],
          [
           "The Memoirs of Sherlock Holmes"
          ],
          [
           "The White Company"
          ],
          [
           "Micah Clarke: His Statement as made to his three grandchildren Joseph, Gervas and Reuben During the Hard Winter of 1734"
          ]
         ],
         "hovertemplate": "author=Doyle, Arthur Conan<br>proj_0=%{x}<br>proj_1=%{y}<br>title=%{customdata[0]}<extra></extra>",
         "legendgroup": "Doyle, Arthur Conan",
         "marker": {
          "color": "#F7E1A0",
          "symbol": "circle"
         },
         "mode": "markers",
         "name": "Doyle, Arthur Conan",
         "orientation": "v",
         "showlegend": true,
         "type": "scatter",
         "x": [
          8.71333122253418,
          9.495463371276855,
          8.854829788208008,
          8.558171272277832,
          8.526968002319336,
          8.127958297729492,
          8.76585578918457,
          9.015613555908203,
          8.629966735839844,
          9.451009750366211,
          8.627372741699219,
          9.373881340026855,
          8.63690185546875,
          7.949077129364014,
          8.02885913848877,
          7.943157196044922,
          8.058512687683105,
          7.911572456359863,
          7.947072982788086,
          7.994573593139648,
          8.486844062805176,
          8.616984367370605,
          9.187124252319336,
          9.091656684875488,
          9.231080055236816,
          9.027498245239258,
          9.061394691467285,
          9.133081436157227,
          8.833196640014648,
          8.31656551361084,
          8.26601791381836,
          8.878273010253906,
          8.60998821258545,
          8.825586318969727,
          8.382680892944336,
          7.997974872589111,
          9.455629348754883,
          8.680988311767578,
          9.411466598510742,
          9.396749496459961,
          8.159212112426758,
          9.425761222839355,
          8.727947235107422,
          9.178420066833496,
          8.97791862487793,
          7.957106113433838,
          9.194165229797363,
          8.866372108459473,
          8.705175399780273,
          9.29480266571045
         ],
         "xaxis": "x",
         "y": [
          3.7064926624298096,
          3.5938189029693604,
          3.535248279571533,
          3.344959259033203,
          3.2600185871124268,
          3.863729476928711,
          3.574742317199707,
          3.687957286834717,
          3.2900924682617188,
          3.4952597618103027,
          3.598362922668457,
          3.5332767963409424,
          3.287719249725342,
          3.8943121433258057,
          3.724172353744507,
          3.835425853729248,
          3.7932958602905273,
          3.9405038356781006,
          3.8688366413116455,
          3.8205015659332275,
          3.706958532333374,
          3.6449527740478516,
          3.3833847045898438,
          3.346647024154663,
          3.5969882011413574,
          3.167447566986084,
          3.3957738876342773,
          3.613431453704834,
          3.2498252391815186,
          3.565213203430176,
          3.4505038261413574,
          3.3318371772766113,
          3.306264638900757,
          3.628035068511963,
          3.3669168949127197,
          3.8210325241088867,
          3.483973741531372,
          3.4037492275238037,
          3.582516670227051,
          3.5412278175354004,
          3.5739996433258057,
          3.5163733959198,
          3.5211896896362305,
          3.5414578914642334,
          3.6171207427978516,
          3.8520026206970215,
          3.469632863998413,
          3.5119035243988037,
          3.5138161182403564,
          3.45925235748291
         ],
         "yaxis": "y"
        },
        {
         "customdata": [
          [
           "Persuasion"
          ],
          [
           "Love and Freindship [sic]"
          ],
          [
           "Northanger Abbey"
          ],
          [
           "Pride and Prejudice"
          ],
          [
           "Mansfield Park"
          ],
          [
           "Emma"
          ],
          [
           "Sense and Sensibility"
          ],
          [
           "Sense and Sensibility"
          ],
          [
           "The Complete Project Gutenberg Works of Jane Austen: A Linked Index of all PG Editions of Jane Austen"
          ],
          [
           "Pride and Prejudice, a play founded on Jane Austen's novel"
          ],
          [
           "The Letters of Jane Austen: Selected from the compilation of her great nephew, Edward, Lord Bradbourne"
          ],
          [
           "Pride and Prejudice"
          ],
          [
           "The Watsons: By Jane Austen, Concluded by L. Oulton"
          ],
          [
           "Lady Susan"
          ]
         ],
         "hovertemplate": "author=Austen, Jane<br>proj_0=%{x}<br>proj_1=%{y}<br>title=%{customdata[0]}<extra></extra>",
         "legendgroup": "Austen, Jane",
         "marker": {
          "color": "#E2E2E2",
          "symbol": "circle"
         },
         "mode": "markers",
         "name": "Austen, Jane",
         "orientation": "v",
         "showlegend": true,
         "type": "scatter",
         "x": [
          3.708380937576294,
          3.5376815795898438,
          3.6541943550109863,
          3.682565212249756,
          3.658437490463257,
          3.662853479385376,
          3.515576124191284,
          3.4826605319976807,
          5.388915538787842,
          3.5225586891174316,
          3.7217464447021484,
          3.6927547454833984,
          3.5087568759918213,
          3.4994957447052
         ],
         "xaxis": "x",
         "y": [
          8.65652084350586,
          8.456295013427734,
          8.69520378112793,
          8.743069648742676,
          8.631237983703613,
          8.611268997192383,
          8.794208526611328,
          8.80516242980957,
          3.6306354999542236,
          8.391098976135254,
          8.751337051391602,
          8.76676082611084,
          8.450339317321777,
          8.357839584350586
         ],
         "yaxis": "y"
        },
        {
         "customdata": [
          [
           "Discourses on the First Decade of Titus Livius"
          ],
          [
           "The Prince"
          ],
          [
           "Machiavelli, Volume I"
          ],
          [
           "History of Florence and of the Affairs of Italy: From the Earliest Times to the Death of Lorenzo the Magnificent"
          ],
          [
           "The Prince"
          ]
         ],
         "hovertemplate": "author=Machiavelli, Niccolò<br>proj_0=%{x}<br>proj_1=%{y}<br>title=%{customdata[0]}<extra></extra>",
         "legendgroup": "Machiavelli, Niccolò",
         "marker": {
          "color": "#1CBE4F",
          "symbol": "circle"
         },
         "mode": "markers",
         "name": "Machiavelli, Niccolò",
         "orientation": "v",
         "showlegend": true,
         "type": "scatter",
         "x": [
          3.992283344268799,
          4.095269203186035,
          4.707353591918945,
          3.902637481689453,
          3.9400899410247803
         ],
         "xaxis": "x",
         "y": [
          4.490511417388916,
          4.438227653503418,
          2.5370051860809326,
          4.179340839385986,
          4.306942939758301
         ],
         "yaxis": "y"
        },
        {
         "customdata": [
          [
           "The Orations of Marcus Tullius Cicero, Volume 4"
          ],
          [
           "Cato Maior de Senectute with Introduction and Notes"
          ],
          [
           "Academica"
          ],
          [
           "Cicero's Tusculan Disputations: Also, Treatises On The Nature Of The Gods, And On The Commonwealth"
          ],
          [
           "The Letters of Cicero, Volume 1: The Whole Extant Correspodence in Chronological Order"
          ],
          [
           "Treatises on Friendship and Old Age"
          ],
          [
           "Letters of Marcus Tullius Cicero"
          ],
          [
           "The Academic Questions, Treatise De Finibus, and Tusculan Disputations, of M.T. Cicero, With a Sketch of the Greek Philosophers Mentioned by Cicero"
          ],
          [
           "Speeches against Catilina"
          ],
          [
           "De Officiis"
          ],
          [
           "Cicero: Letters to Atticus, Vol. 2 of 3"
          ],
          [
           "Cicero: Letters to Atticus, Vol. 3 of 3"
          ],
          [
           "The republic of Cicero: Translated from the Latin; and Accompanied With a Critical and Historical Introduction."
          ],
          [
           "Cicero: Letters to Atticus, Vol. 1 of 3"
          ]
         ],
         "hovertemplate": "author=Cicero, Marcus Tullius<br>proj_0=%{x}<br>proj_1=%{y}<br>title=%{customdata[0]}<extra></extra>",
         "legendgroup": "Cicero, Marcus Tullius",
         "marker": {
          "color": "#C4451C",
          "symbol": "circle"
         },
         "mode": "markers",
         "name": "Cicero, Marcus Tullius",
         "orientation": "v",
         "showlegend": true,
         "type": "scatter",
         "x": [
          4.642082214355469,
          4.378012657165527,
          4.291656017303467,
          4.6313581466674805,
          4.5887064933776855,
          3.061023235321045,
          -4.3000807762146,
          4.7097601890563965,
          4.329836368560791,
          4.334925174713135,
          4.379356861114502,
          4.318841457366943,
          4.688476085662842,
          4.378820419311523
         ],
         "xaxis": "x",
         "y": [
          6.382760047912598,
          6.1899824142456055,
          6.2333807945251465,
          6.473781585693359,
          6.342350006103516,
          3.0078608989715576,
          -0.5324277281761169,
          6.479040145874023,
          6.227080345153809,
          6.2803144454956055,
          6.293927192687988,
          6.351893901824951,
          6.358882904052734,
          6.340171813964844
         ],
         "yaxis": "y"
        },
        {
         "customdata": [
          [
           "The Life and Adventures of Robinson Crusoe of York, Mariner, Volume 1: With an Account of His Travels Round Three Parts of the Globe,; Written By Himself, in Two Volumes"
          ],
          [
           "From London to Land's End: and Two Letters from the \"Journey through England by a Gentleman\""
          ],
          [
           "The Life and Most Surprising Adventures of Robinson Crusoe, of York, Mariner (1801)"
          ],
          [
           "Memoirs of a Cavalier: A Military Journal of the Wars in Germany, and the Wars in England.; From the Year 1632 to the Year 1648."
          ],
          [
           "The Life and Adventures of Robinson Crusoe (1808)"
          ],
          [
           "The History of the Remarkable Life of John Sheppard: Containing a Particular Account of His Many Robberies and Escapes"
          ],
          [
           "A Vindication of the Press"
          ],
          [
           "Military Memoirs of Capt. George Carleton"
          ],
          [
           "Memoirs of Major Alexander Ramkins (1718)"
          ],
          [
           "The Complete English Tradesman (1839 ed.)"
          ],
          [
           "History of the Plague in London"
          ],
          [
           "Dickory Cronke: The Dumb Philosopher, or, Great Britain's Wonder"
          ],
          [
           "Everybody's Business Is Nobody's Business: Or, Private Abuses, Public Grievances; Exemplified in the Pride, Insolence, and Exorbitant Wages of Our Women, Servants, Footmen, &c."
          ],
          [
           "Atalantis Major"
          ],
          [
           "The True-Born Englishman: A Satire"
          ],
          [
           "The Fortunate Mistress (Parts 1 and 2): or a History of the Life of Mademoiselle de Beleau Known by the Name of the Lady Roxana"
          ],
          [
           "The History of the Devil, As Well Ancient as Modern: In Two Parts"
          ],
          [
           "An Appeal to Honour and Justice, Though It Be of His Worst Enemies.: Being A True Account of His Conduct in Public Affairs."
          ],
          [
           "An Humble Proposal to the People of England, for the Increase of their Trade, and Encouragement of Their Manufactures: Whether the Present Uncertainty of Affairs Issues in Peace or War"
          ],
          [
           "Second Thoughts are Best: Or a Further Improvement of a Late Scheme to Prevent Street Robberies"
          ],
          [
           "Augusta Triumphans: Or, the Way to Make London the Most Flourishing City in the Universe"
          ],
          [
           "A New Voyage Round the World by a Course Never Sailed Before"
          ],
          [
           "A True Relation of the Apparition of one Mrs. Veal: The Next Day after Her Death, to one Mrs. Bargrave, at Canterbury, the 8th of September, 1705; which Apparition Recommends the Perusal of Drelincourt's Book of Consolations against the Fears of Death"
          ],
          [
           "Reasons Against the Succession of the House of Hanover: With an Enquiry How Far the Abdication of King James, Supposing It to Be Legal, Ought to Affect the Person of the Pretender"
          ],
          [
           "A Seasonable Warning and Caution against the Insinuations of Papists and Jacobites in favour of the Pretender: Being a Letter from an Englishman at the Court of Hanover"
          ],
          [
           "An Answer to a Question that Nobody thinks of, viz., But what if the Queen should Die?"
          ],
          [
           "The Lay-Man's Sermon upon the Late Storm: Held forth at an Honest Coffee-House-Conventicle"
          ],
          [
           "And What if the Pretender should Come?: Or Some Considerations of the Advantages and Real Consequences of the Pretender's Possessing the Crown of Great Britain"
          ],
          [
           "The Fortunes and Misfortunes of the Famous Moll Flanders"
          ],
          [
           "A Short Narrative of the Life and Actions of His Grace John, D. of Marlborogh"
          ],
          [
           "A Journal of the Plague Year: Being Observations or Memorials of the Most Remarkable Occurrences, as Well Public as Private, Which Happened in London During the Last Great Visitation in 1665. Written by a Citizen Who Continued All the While in London"
          ],
          [
           "The King of Pirates: Being an Account of the Famous Enterprises of Captain Avery, the Mock King of Madagascar"
          ],
          [
           "A General History of the Pyrates:: from their first rise and settlement in the island of Providence, to the present time"
          ],
          [
           "An Essay Upon Projects"
          ],
          [
           "The Storm. An Essay."
          ],
          [
           "The Storm: or, a Collection of the most Remarkable Casualties and Disasters which Happen'd in the Late Dreadful Tempest, both by Sea and Land"
          ],
          [
           "The Life and Adventures of Robinson Crusoe"
          ],
          [
           "The History and Remarkable Life of the Truly Honourable Colonel Jacque, Commonly Called Colonel Jack"
          ],
          [
           "The Friendly Daemon, or the Generous Apparition: Being a True Narrative of a Miraculous Cure, Newly Perform'd Upon That Famous Deaf and Dumb Gentleman, Dr. Duncan Campbel, by a Familiar Spirit That Appear'd to Him in a White Surplice, Like a Cathedral Singing Boy"
          ],
          [
           "The Further Adventures of Robinson Crusoe"
          ],
          [
           "The History of the Pyrates. Vol. II.: Containing the lives of Captain Misson, Captain Bowen, Captain Kidd, Captain Tew, Captain Halsey, Captain White, Captain Condent, Captain Bellamy, Captain Fly, Captain Howard, Captain Lewis, Captain Cornelius, Captain Williams, Captain Burgess, Captain North, and their several crews"
          ],
          [
           "The Life, Adventures & Piracies of the Famous Captain Singleton"
          ],
          [
           "Robinson Crusoe, Told to the Children by John Lang"
          ],
          [
           "The Consolidator; or, Memoirs of Sundry Transactions from the World in the Moon"
          ],
          [
           "Tour through the Eastern Counties of England, 1722"
          ]
         ],
         "hovertemplate": "author=Defoe, Daniel<br>proj_0=%{x}<br>proj_1=%{y}<br>title=%{customdata[0]}<extra></extra>",
         "legendgroup": "Defoe, Daniel",
         "marker": {
          "color": "#DEA0FD",
          "symbol": "circle"
         },
         "mode": "markers",
         "name": "Defoe, Daniel",
         "orientation": "v",
         "showlegend": true,
         "type": "scatter",
         "x": [
          4.999748706817627,
          4.924242973327637,
          5.01643705368042,
          4.812664031982422,
          5.024530410766602,
          4.7546844482421875,
          4.842206001281738,
          4.761721611022949,
          4.784899711608887,
          4.876816749572754,
          4.91281270980835,
          4.76455020904541,
          4.712575912475586,
          4.850928783416748,
          4.828019618988037,
          4.7368011474609375,
          4.994514465332031,
          4.835565090179443,
          4.8993682861328125,
          5.017936706542969,
          4.764012813568115,
          4.9054083824157715,
          5.152937412261963,
          4.971406936645508,
          5.163418769836426,
          5.082067012786865,
          5.063326358795166,
          4.996339321136475,
          4.817015647888184,
          4.972720146179199,
          4.9565300941467285,
          4.78570556640625,
          4.823897361755371,
          4.895874500274658,
          5.117565155029297,
          4.822656631469727,
          4.971570014953613,
          5.002397537231445,
          4.962865829467773,
          4.9797468185424805,
          4.88255500793457,
          4.965201377868652,
          4.621083736419678,
          4.809875011444092,
          4.86422061920166
         ],
         "xaxis": "x",
         "y": [
          0.6915583610534668,
          1.2272799015045166,
          0.902361273765564,
          1.3266289234161377,
          0.6611072421073914,
          2.04125714302063,
          2.111208438873291,
          1.3246893882751465,
          1.692318081855774,
          1.6102546453475952,
          0.8059885501861572,
          2.1701693534851074,
          2.1799654960632324,
          2.243497610092163,
          1.759907603263855,
          1.326745629310608,
          2.2323968410491943,
          2.129038095474243,
          1.9994176626205444,
          2.256901979446411,
          1.9839353561401367,
          1.120934247970581,
          2.928532123565674,
          2.2725212574005127,
          2.5031044483184814,
          2.413032293319702,
          2.2777786254882812,
          2.259347915649414,
          0.8072971701622009,
          2.1362617015838623,
          0.7537789344787598,
          1.6439956426620483,
          1.1614248752593994,
          1.1882450580596924,
          2.930276870727539,
          1.2570432424545288,
          0.7484334707260132,
          0.8925444483757019,
          2.407623291015625,
          0.7804062366485596,
          1.1812177896499634,
          1.0662481784820557,
          2.0222842693328857,
          1.5332839488983154,
          1.222981572151184
         ],
         "yaxis": "y"
        },
        {
         "customdata": [
          [
           "The Count of Monte Cristo, Illustrated"
          ],
          [
           "The Three Musketeers"
          ],
          [
           "Ten Years Later"
          ],
          [
           "Twenty Years After"
          ],
          [
           "The Forty-Five Guardsmen"
          ],
          [
           "Camille (La Dame aux Camilias)"
          ],
          [
           "The Vicomte de Bragelonne; Or, Ten Years Later: Being the completion of \"The Three Musketeers\" and \"Twenty Years After\""
          ],
          [
           "The Queen's Necklace"
          ],
          [
           "The Vicomte De Bragelonne"
          ],
          [
           "Ten Years Later"
          ],
          [
           "Louise de la Valliere"
          ],
          [
           "The Regent's Daughter"
          ],
          [
           "The Conspirators: The Chevalier d'Harmental"
          ],
          [
           "The Borgias: Celebrated Crimes"
          ],
          [
           "Cenci: Celebrated Crimes"
          ],
          [
           "Massacres of the South (1551-1815): Celebrated Crimes"
          ],
          [
           "Mary Stuart: Celebrated Crimes"
          ],
          [
           "Urbain Grandier: Celebrated Crimes"
          ],
          [
           "Derues: Celebrated Crimes"
          ],
          [
           "Joan of Naples: Celebrated Crimes"
          ],
          [
           "Man in the Iron Mask (an Essay)"
          ],
          [
           "Martin Guerre: Celebrated Crimes"
          ],
          [
           "Ali Pacha: Celebrated Crimes"
          ],
          [
           "Murat: Celebrated Crimes"
          ],
          [
           "Marquise Brinvillier: Celebrated Crimes"
          ],
          [
           "Marquise De Ganges: Celebrated Crimes"
          ],
          [
           "The Man in the Iron Mask"
          ],
          [
           "Celebrated Crimes (Complete)"
          ],
          [
           "Marguerite de Valois"
          ],
          [
           "The Prussian Terror"
          ],
          [
           "The Corsican Brothers"
          ],
          [
           "The Hero of the People: A Historical Romance of Love, Liberty and Loyalty"
          ],
          [
           "The Mesmerist's Victim"
          ],
          [
           "The Countess of Charny; or, The Execution of King Louis XVI"
          ],
          [
           "The Royal Life Guard; or, the flight of the royal family.: A historical romance of the suppression of the French monarchy"
          ],
          [
           "Taking the Bastile; Or, Pitou the Peasant: A Historical Story of the Great French Revolution"
          ],
          [
           "Balsamo, the Magician; or, The Memoirs of a Physician"
          ],
          [
           "My Memoirs, Vol. I, 1802 to 1821"
          ],
          [
           "My Memoirs, Vol. II, 1822 to 1825"
          ],
          [
           "My Memoirs, Vol. III, 1826 to 1830"
          ],
          [
           "My Memoirs, Vol. V, 1831 to 1832"
          ],
          [
           "The Wolf-Leader"
          ],
          [
           "My Memoirs, Vol. VI, 1832 to 1833"
          ],
          [
           "The War of Women, Volume 1"
          ],
          [
           "Index of the Project Gutenberg Works of Alexandre Dumas, [père]"
          ],
          [
           "The Whites and the Blues"
          ],
          [
           "Ascanio"
          ],
          [
           "The Companions of Jehu"
          ],
          [
           "Chicot the Jester"
          ],
          [
           "The Black Tulip"
          ]
         ],
         "hovertemplate": "author=Dumas, Alexandre<br>proj_0=%{x}<br>proj_1=%{y}<br>title=%{customdata[0]}<extra></extra>",
         "legendgroup": "Dumas, Alexandre",
         "marker": {
          "color": "#FE00FA",
          "symbol": "circle"
         },
         "mode": "markers",
         "name": "Dumas, Alexandre",
         "orientation": "v",
         "showlegend": true,
         "type": "scatter",
         "x": [
          5.274247646331787,
          5.1693243980407715,
          5.923928260803223,
          5.186386585235596,
          5.54291296005249,
          5.023177146911621,
          5.82130241394043,
          5.2142839431762695,
          5.894940376281738,
          5.775325775146484,
          5.749088764190674,
          4.975172519683838,
          4.9864630699157715,
          5.788728713989258,
          5.044151782989502,
          5.844760417938232,
          5.427059650421143,
          5.391063690185547,
          4.931103706359863,
          5.633932113647461,
          4.8859782218933105,
          5.120787620544434,
          5.673776626586914,
          4.935999393463135,
          5.046294689178467,
          4.849486351013184,
          5.832981586456299,
          5.885313034057617,
          5.171440124511719,
          5.539893627166748,
          4.858785152435303,
          5.509859085083008,
          5.5975847244262695,
          5.642529487609863,
          5.419442176818848,
          5.423519134521484,
          5.569609642028809,
          5.854499340057373,
          5.861729145050049,
          5.808956146240234,
          5.686733245849609,
          4.868709087371826,
          5.738699436187744,
          5.427136421203613,
          5.001229763031006,
          5.891918182373047,
          5.267208576202393,
          5.332246780395508,
          5.012050151824951,
          4.847381591796875
         ],
         "xaxis": "x",
         "y": [
          9.97535514831543,
          9.851388931274414,
          11.421320915222168,
          9.881539344787598,
          10.626221656799316,
          9.663796424865723,
          11.285473823547363,
          10.220335960388184,
          11.370351791381836,
          11.07242202758789,
          11.221126556396484,
          9.683493614196777,
          9.806978225708008,
          11.134099006652832,
          9.710312843322754,
          11.249687194824219,
          10.517996788024902,
          10.362454414367676,
          9.644733428955078,
          10.693985939025879,
          9.68377685546875,
          9.830936431884766,
          10.907309532165527,
          9.77361011505127,
          10.055343627929688,
          9.657622337341309,
          11.29653263092041,
          11.357105255126953,
          9.968948364257812,
          10.377203941345215,
          9.83640193939209,
          10.550217628479004,
          10.660666465759277,
          10.793740272521973,
          10.472960472106934,
          10.471968650817871,
          10.611259460449219,
          11.211950302124023,
          11.178147315979004,
          11.168252944946289,
          10.984976768493652,
          9.741947174072266,
          11.054953575134277,
          10.469217300415039,
          9.750557899475098,
          11.182278633117676,
          10.263444900512695,
          10.14139461517334,
          9.989569664001465,
          9.721254348754883
         ],
         "yaxis": "y"
        },
        {
         "customdata": [
          [
           "Apology, Crito, and Phaedo of Socrates"
          ],
          [
           "The Republic"
          ],
          [
           "The Republic"
          ],
          [
           "Critias"
          ],
          [
           "Timaeus"
          ],
          [
           "Lysis"
          ],
          [
           "Charmides"
          ],
          [
           "Laches"
          ],
          [
           "Protagoras"
          ],
          [
           "Euthydemus"
          ],
          [
           "Symposium"
          ],
          [
           "Cratylus"
          ],
          [
           "Ion"
          ],
          [
           "Phaedrus"
          ],
          [
           "Euthyphro"
          ],
          [
           "Meno"
          ],
          [
           "Apology"
          ],
          [
           "Crito"
          ],
          [
           "Phaedo"
          ],
          [
           "Gorgias"
          ],
          [
           "Lesser Hippias"
          ],
          [
           "Alcibiades I"
          ],
          [
           "Alcibiades II"
          ],
          [
           "Eryxias"
          ],
          [
           "Menexenus"
          ],
          [
           "Parmenides"
          ],
          [
           "Theaetetus"
          ],
          [
           "Sophist"
          ],
          [
           "Statesman"
          ],
          [
           "Philebus"
          ],
          [
           "Laws"
          ],
          [
           "The Project Gutenberg Works of Plato: An Index"
          ],
          [
           "The Republic of Plato"
          ]
         ],
         "hovertemplate": "author=Plato<br>proj_0=%{x}<br>proj_1=%{y}<br>title=%{customdata[0]}<extra></extra>",
         "legendgroup": "Plato",
         "marker": {
          "color": "#325A9B",
          "symbol": "circle"
         },
         "mode": "markers",
         "name": "Plato",
         "orientation": "v",
         "showlegend": true,
         "type": "scatter",
         "x": [
          5.994589805603027,
          6.1555962562561035,
          6.298979759216309,
          5.666422367095947,
          6.145083427429199,
          5.764071464538574,
          5.932554244995117,
          5.6551194190979,
          5.822262763977051,
          5.856520652770996,
          6.110888481140137,
          5.943029403686523,
          5.580168724060059,
          5.975525379180908,
          5.635132312774658,
          5.759008884429932,
          5.8886590003967285,
          5.562838554382324,
          5.884878158569336,
          5.80003023147583,
          5.632592678070068,
          5.647207736968994,
          5.658801078796387,
          5.661739349365234,
          5.788390636444092,
          6.028122425079346,
          5.993993759155273,
          5.967669486999512,
          5.899430274963379,
          6.051267147064209,
          6.184732437133789,
          5.338490009307861,
          6.232029914855957
         ],
         "xaxis": "x",
         "y": [
          6.508809566497803,
          6.439945220947266,
          6.478726863861084,
          5.357052803039551,
          6.590040683746338,
          5.826905250549316,
          6.584172248840332,
          5.263708591461182,
          6.454251766204834,
          6.176619529724121,
          6.234299182891846,
          6.430332183837891,
          5.160559177398682,
          6.403099536895752,
          5.185297012329102,
          5.6005682945251465,
          6.111037731170654,
          5.126540660858154,
          6.652698516845703,
          6.218380451202393,
          5.268921852111816,
          5.272375583648682,
          5.24564790725708,
          5.265161514282227,
          6.126541614532471,
          6.298275947570801,
          6.265059947967529,
          6.352752685546875,
          6.205930709838867,
          6.323246955871582,
          6.50665283203125,
          3.654263734817505,
          6.452525615692139
         ],
         "yaxis": "y"
        },
        {
         "customdata": [
          [
           "London to Ladysmith via Pretoria"
          ],
          [
           "Liberalism and the Social Problem"
          ],
          [
           "The Works of Winston Churchill: A Linked Index of the Project Gutenberg Editions"
          ],
          [
           "The Dwelling Place of Light — Volume 1"
          ],
          [
           "The Dwelling Place of Light — Complete"
          ],
          [
           "Mr. Crewe's Career — Volume 1"
          ],
          [
           "Mr. Crewe's Career — Volume 3"
          ],
          [
           "Mr. Crewe's Career — Complete"
          ],
          [
           "A Far Country — Volume 2"
          ],
          [
           "A Far Country — Volume 3"
          ],
          [
           "A Far Country — Complete"
          ],
          [
           "Coniston — Volume 01"
          ],
          [
           "Coniston — Volume 02"
          ],
          [
           "Coniston — Volume 03"
          ],
          [
           "Coniston — Volume 04"
          ],
          [
           "Coniston — Complete"
          ],
          [
           "The Crossing"
          ],
          [
           "Ian Hamilton's March"
          ],
          [
           "Lord Randolph Churchill"
          ],
          [
           "My African Journey"
          ],
          [
           "The River War: An Account of the Reconquest of the Sudan"
          ],
          [
           "Savrola: A Tale of the Revolution in Laurania"
          ],
          [
           "The Inside of the Cup — Volume 02"
          ],
          [
           "The Inside of the Cup — Volume 03"
          ],
          [
           "The Inside of the Cup — Volume 04"
          ],
          [
           "The Inside of the Cup — Volume 07"
          ],
          [
           "The Inside of the Cup — Complete"
          ],
          [
           "Richard Carvel — Volume 02"
          ],
          [
           "Richard Carvel — Volume 07"
          ],
          [
           "Richard Carvel — Complete"
          ],
          [
           "A Modern Chronicle — Complete"
          ],
          [
           "The Celebrity, Volume 01"
          ],
          [
           "The Celebrity, Volume 04"
          ],
          [
           "The Celebrity, Complete"
          ],
          [
           "The Crisis — Volume 01"
          ],
          [
           "The Crisis — Volume 02"
          ],
          [
           "The Crisis — Volume 03"
          ],
          [
           "The Crisis — Volume 04"
          ],
          [
           "The Crisis — Volume 05"
          ],
          [
           "The Crisis — Volume 06"
          ],
          [
           "The Crisis — Volume 07"
          ],
          [
           "The Crisis — Volume 08"
          ],
          [
           "The Crisis — Complete"
          ],
          [
           "Dr. Jonathan"
          ],
          [
           "A Traveller in War-Time"
          ],
          [
           "An essay on the American contribution and the democratic idea"
          ],
          [
           "Project Gutenberg Complete Works of Winston Churchill"
          ],
          [
           "Index of the Project Gutenberg Works of Sir Winston Spencer Churchill"
          ],
          [
           "The World Crisis, Volume 1 (of 6)"
          ],
          [
           "Mr. Keegan's Elopement"
          ]
         ],
         "hovertemplate": "author=Churchill, Winston<br>proj_0=%{x}<br>proj_1=%{y}<br>title=%{customdata[0]}<extra></extra>",
         "legendgroup": "Churchill, Winston",
         "marker": {
          "color": "#FEAF16",
          "symbol": "circle"
         },
         "mode": "markers",
         "name": "Churchill, Winston",
         "orientation": "v",
         "showlegend": true,
         "type": "scatter",
         "x": [
          0.065553218126297,
          0.6608582139015198,
          5.489407062530518,
          0.4257899224758148,
          0.38176125288009644,
          0.6254392266273499,
          0.7143160104751587,
          0.6864886283874512,
          0.4906756281852722,
          0.4213021993637085,
          0.49937310814857483,
          0.5705826282501221,
          0.32042422890663147,
          0.15354502201080322,
          0.12481997162103653,
          0.24085886776447296,
          0.6567363142967224,
          0.056741517037153244,
          0.7427932024002075,
          0.17624609172344208,
          0.2262105941772461,
          0.8698920607566833,
          0.8941411375999451,
          0.05664029344916344,
          0.12571939826011658,
          0.7266746759414673,
          0.3154834806919098,
          0.0018378657987341285,
          0.04818791523575783,
          0.41158175468444824,
          0.4599364101886749,
          0.798570990562439,
          0.20640653371810913,
          0.07759618014097214,
          0.008327406831085682,
          0.9526336789131165,
          0.4821189343929291,
          -0.11602908372879028,
          -0.0426490493118763,
          -0.05190090835094452,
          0.8520901799201965,
          0.8357637524604797,
          0.08901038765907288,
          0.7175438404083252,
          0.05677058547735214,
          0.11711862683296204,
          0.4393540322780609,
          0.7628316879272461,
          0.5189841985702515,
          5.487111568450928
         ],
         "xaxis": "x",
         "y": [
          10.898616790771484,
          10.807815551757812,
          3.660632610321045,
          11.472357749938965,
          11.419171333312988,
          11.049642562866211,
          11.102522850036621,
          11.16491413116455,
          11.24671745300293,
          11.30228328704834,
          11.341958999633789,
          10.92492961883545,
          10.917387008666992,
          11.146782875061035,
          11.186250686645508,
          11.162144660949707,
          11.270874977111816,
          10.789463996887207,
          10.43855094909668,
          10.737751007080078,
          10.718368530273438,
          10.354933738708496,
          10.395915031433105,
          10.878567695617676,
          10.88472843170166,
          10.638811111450195,
          11.367181777954102,
          11.106910705566406,
          10.954564094543457,
          11.470191955566406,
          11.505232810974121,
          10.351649284362793,
          10.700441360473633,
          10.887210845947266,
          10.976777076721191,
          10.143446922302246,
          10.690312385559082,
          11.021708488464355,
          11.015295028686523,
          11.036948204040527,
          10.244799613952637,
          10.447928428649902,
          11.017005920410156,
          10.467015266418457,
          11.121265411376953,
          10.830610275268555,
          11.465950012207031,
          10.522228240966797,
          10.327140808105469,
          3.539639711380005
         ],
         "yaxis": "y"
        },
        {
         "customdata": [
          [
           "Thoughts of Marcus Aurelius Antoninus"
          ],
          [
           "Meditations"
          ],
          [
           "The Meditations of the Emperor Marcus Aurelius Antoninus: A new rendering based on the Foulis translation of 1742"
          ],
          [
           "Index of the Project Gutenberg Works of Marcus Aurelius Antoninus"
          ],
          [
           "Thoughts of Marcus Aurelius"
          ]
         ],
         "hovertemplate": "author=Marcus Aurelius, Emperor of Rome<br>proj_0=%{x}<br>proj_1=%{y}<br>title=%{customdata[0]}<extra></extra>",
         "legendgroup": "Marcus Aurelius, Emperor of Rome",
         "marker": {
          "color": "#F8A19F",
          "symbol": "circle"
         },
         "mode": "markers",
         "name": "Marcus Aurelius, Emperor of Rome",
         "orientation": "v",
         "showlegend": true,
         "type": "scatter",
         "x": [
          7.2934041023254395,
          4.793191909790039,
          7.764444351196289,
          5.656166076660156,
          7.2557806968688965
         ],
         "xaxis": "x",
         "y": [
          3.6494314670562744,
          3.3842215538024902,
          3.7969441413879395,
          3.688560724258423,
          3.6433310508728027
         ],
         "yaxis": "y"
        },
        {
         "customdata": [
          [
           "The Iliad of Homer: Translated into English Blank Verse by William Cowper"
          ],
          [
           "The Odyssey: Rendered into English prose for the use of those who cannot read the original"
          ],
          [
           "The Odyssey of Homer"
          ],
          [
           "The Iliad"
          ],
          [
           "The Iliad"
          ],
          [
           "The Odyssey of Homer"
          ],
          [
           "Odysseus, the Hero of Ithaca: Adapted from the Third Book of the Primary Schools of Athens, Greece"
          ],
          [
           "The Iliad"
          ],
          [
           "The Odyssey"
          ],
          [
           "The Adventures of Ulysses the Wanderer"
          ],
          [
           "The Odysseys of Homer, together with the shorter poems"
          ],
          [
           "The Iliads of Homer: Translated according to the Greek"
          ],
          [
           "The Iliad"
          ],
          [
           "The Iliad"
          ]
         ],
         "hovertemplate": "author=Homer<br>proj_0=%{x}<br>proj_1=%{y}<br>title=%{customdata[0]}<extra></extra>",
         "legendgroup": "Homer",
         "marker": {
          "color": "#90AD1C",
          "symbol": "circle"
         },
         "mode": "markers",
         "name": "Homer",
         "orientation": "v",
         "showlegend": true,
         "type": "scatter",
         "x": [
          4.190715789794922,
          4.215422630310059,
          4.352412223815918,
          4.199076175689697,
          4.202538967132568,
          4.167178153991699,
          4.709676742553711,
          4.283049583435059,
          4.139843940734863,
          4.271044731140137,
          4.041503429412842,
          4.140268325805664,
          4.158801078796387,
          4.060684680938721
         ],
         "xaxis": "x",
         "y": [
          5.005922317504883,
          4.8596649169921875,
          4.6939520835876465,
          4.884336471557617,
          4.984739780426025,
          5.007101058959961,
          4.982415199279785,
          4.920887470245361,
          5.059992790222168,
          4.034876346588135,
          5.112443447113037,
          5.03497838973999,
          5.036531448364258,
          5.119138717651367
         ],
         "yaxis": "y"
        },
        {
         "customdata": [
          [
           "The Declaration of Independence of The United States of America"
          ],
          [
           "Memoir, Correspondence, and Miscellanies, From the Papers of Thomas Jefferson, Volume 1"
          ],
          [
           "Memoir, Correspondence, and Miscellanies, From the Papers of Thomas Jefferson, Volume 2"
          ],
          [
           "Memoir, Correspondence, and Miscellanies, From the Papers of Thomas Jefferson, Volume 3"
          ],
          [
           "Memoir, Correspondence, and Miscellanies, From the Papers of Thomas Jefferson, Volume 4"
          ],
          [
           "The Declaration of Independence of the United States of America"
          ],
          [
           "The Writings of Thomas Jefferson: Library Edition - Vol. 6 (of 20)"
          ],
          [
           "The Memoirs, Correspondence, and Miscellanies, From the Papers of Thomas Jefferson: A Linked Index to the Project Gutenberg Editions"
          ],
          [
           "United States Declaration of Independence"
          ],
          [
           "The Writings of Thomas Jefferson, Vol. 1 (of 9): Being His Autobiography, Correspondence, Reports, Messages, Addresses, and Other Writings, Official and Private"
          ],
          [
           "The Writings of Thomas Jefferson, Vol. 2 (of 9): Being His Autobiography, Correspondence, Reports, Messages, Addresses, and Other Writings, Official and Private"
          ],
          [
           "State of the Union Addresses"
          ],
          [
           "The Writings of Thomas Jefferson, Vol. 3 (of 9): Being His Autobiography, Correspondence, Reports, Messages, Addresses, and Other Writings, Official and Private"
          ],
          [
           "The Writings of Thomas Jefferson, Vol. 4 (of 9): Being His Autobiography, Correspondence, Reports, Messages, Addresses, and Other Writings, Official and Private"
          ],
          [
           "The Writings of Thomas Jefferson, Vol. 5 (of 9): Being His Autobiography, Correspondence, Reports, Messages, Addresses, and Other Writings, Official and Private"
          ],
          [
           "The Writings of Thomas Jefferson, Vol. 6 (of 9): Being His Autobiography, Correspondence, Reports, Messages, Addresses, and Other Writings, Official and Private"
          ],
          [
           "The Writings of Thomas Jefferson, Vol. 7 (of 9): Being His Autobiography, Correspondence, Reports, Messages, Addresses, and Other Writings, Official and Private"
          ],
          [
           "The Writings of Thomas Jefferson, Vol. 8 (of 9): Being His Autobiography, Correspondence, Reports, Messages, Addresses, and Other Writings, Official and Private"
          ],
          [
           "The Writings of Thomas Jefferson, Vol. 9 (of 9): Being His Autobiography, Correspondence, Reports, Messages, Addresses, and Other Writings, Official and Private"
          ]
         ],
         "hovertemplate": "author=Jefferson, Thomas<br>proj_0=%{x}<br>proj_1=%{y}<br>title=%{customdata[0]}<extra></extra>",
         "legendgroup": "Jefferson, Thomas",
         "marker": {
          "color": "#F6222E",
          "symbol": "circle"
         },
         "mode": "markers",
         "name": "Jefferson, Thomas",
         "orientation": "v",
         "showlegend": true,
         "type": "scatter",
         "x": [
          5.281202793121338,
          7.611863613128662,
          7.359947681427002,
          7.622945785522461,
          7.647467136383057,
          5.738458633422852,
          7.253261566162109,
          5.884693622589111,
          5.4997782707214355,
          7.585997104644775,
          7.3310675621032715,
          7.214771747589111,
          7.535345077514648,
          7.606815338134766,
          7.46138334274292,
          7.484675407409668,
          7.562724590301514,
          7.396091461181641,
          7.488820552825928
         ],
         "xaxis": "x",
         "y": [
          3.3496735095977783,
          1.95452082157135,
          2.2588531970977783,
          1.9471557140350342,
          1.929060935974121,
          2.562495708465576,
          2.2270944118499756,
          3.098496913909912,
          3.277592182159424,
          1.9759682416915894,
          2.2065727710723877,
          2.332505702972412,
          2.042252540588379,
          1.9674419164657593,
          2.1370086669921875,
          2.074012041091919,
          2.0131454467773438,
          2.1789889335632324,
          2.130528688430786
         ],
         "yaxis": "y"
        },
        {
         "customdata": [
          [
           "Crome Yellow"
          ],
          [
           "The Defeat of Youth, and Other Poems"
          ],
          [
           "Mortal Coils"
          ],
          [
           "The Burning Wheel"
          ],
          [
           "Leda"
          ],
          [
           "Limbo"
          ],
          [
           "Index of the Project Gutenberg Works of Aldous Huxley"
          ],
          [
           "Antic Hay"
          ],
          [
           "On the Margin: Notes and Essays"
          ],
          [
           "Jonah: Christmas 1917"
          ],
          [
           "Little Mexican & Other Stories"
          ],
          [
           "Selected Poems"
          ]
         ],
         "hovertemplate": "author=Huxley, Aldous<br>proj_0=%{x}<br>proj_1=%{y}<br>title=%{customdata[0]}<extra></extra>",
         "legendgroup": "Huxley, Aldous",
         "marker": {
          "color": "#1CFFCE",
          "symbol": "circle"
         },
         "mode": "markers",
         "name": "Huxley, Aldous",
         "orientation": "v",
         "showlegend": true,
         "type": "scatter",
         "x": [
          4.195977687835693,
          4.07937479019165,
          3.9678401947021484,
          4.231805324554443,
          3.984250068664551,
          3.8061976432800293,
          5.259744167327881,
          3.910170793533325,
          4.109529495239258,
          4.962152004241943,
          4.301806926727295,
          4.162543773651123
         ],
         "xaxis": "x",
         "y": [
          3.96378493309021,
          3.538703680038452,
          3.595047950744629,
          3.5505032539367676,
          3.5964362621307373,
          3.5156285762786865,
          3.617039442062378,
          3.638185739517212,
          3.608567476272583,
          3.594953775405884,
          4.09028434753418,
          3.518587112426758
         ],
         "yaxis": "y"
        },
        {
         "customdata": [
          [
           "Tartuffe; Or, The Hypocrite"
          ],
          [
           "Amphitryon"
          ],
          [
           "The Flying Doctor: (Le Médecin Volant)"
          ],
          [
           "The Jealousy of le Barbouillé: (La Jalousie du Barbouillé)"
          ],
          [
           "Tartuffe; Or, The Hypocrite"
          ],
          [
           "The Middle-Class Gentleman"
          ],
          [
           "The Pretentious Young Ladies"
          ],
          [
           "The Blunderer"
          ],
          [
           "The Love-Tiff"
          ],
          [
           "The Bores: A Comedy in Three Acts"
          ],
          [
           "Sganarelle, or, the Self-Deceived Husband"
          ],
          [
           "Don Garcia of Navarre; Or, the Jealous Prince. A Heroic Comedy in Five Acts."
          ],
          [
           "The School for Husbands"
          ],
          [
           "The Miser"
          ],
          [
           "Monsieur De Pourceaugnac"
          ],
          [
           "The Magnificent Lovers (Les Amants magnifiques)"
          ],
          [
           "The Shopkeeper Turned Gentleman"
          ],
          [
           "The Imaginary Invalid"
          ]
         ],
         "hovertemplate": "author=Molière<br>proj_0=%{x}<br>proj_1=%{y}<br>title=%{customdata[0]}<extra></extra>",
         "legendgroup": "Molière",
         "marker": {
          "color": "#2ED9FF",
          "symbol": "circle"
         },
         "mode": "markers",
         "name": "Molière",
         "orientation": "v",
         "showlegend": true,
         "type": "scatter",
         "x": [
          6.838051795959473,
          7.0498127937316895,
          6.841763496398926,
          6.8951849937438965,
          6.916532516479492,
          6.95731258392334,
          6.834418296813965,
          7.028499603271484,
          6.939810752868652,
          6.897918701171875,
          6.911223888397217,
          6.950530052185059,
          6.979140281677246,
          6.93389892578125,
          6.897205352783203,
          6.994641304016113,
          7.021437168121338,
          7.003944396972656
         ],
         "xaxis": "x",
         "y": [
          -0.42523515224456787,
          -0.6638550162315369,
          -0.3866145610809326,
          -0.4891590476036072,
          -0.38546454906463623,
          -0.4903290271759033,
          -0.44872376322746277,
          -0.6588843464851379,
          -0.5767722725868225,
          -0.6242057681083679,
          -0.5735568404197693,
          -0.610768735408783,
          -0.6197967529296875,
          -0.497589111328125,
          -0.47462794184684753,
          -0.5880168080329895,
          -0.6218657493591309,
          -0.5804915428161621
         ],
         "yaxis": "y"
        },
        {
         "customdata": [
          [
           "Beyond Lies the Wub"
          ],
          [
           "Beyond the Door"
          ],
          [
           "The Crystal Crypt"
          ],
          [
           "The Defenders"
          ],
          [
           "The Gun"
          ],
          [
           "The Skull"
          ],
          [
           "The Eyes Have It"
          ],
          [
           "Second Variety"
          ],
          [
           "The Variable Man"
          ],
          [
           "Mr. Spaceship"
          ],
          [
           "Piper in the Woods"
          ],
          [
           "Tony and the Beetles"
          ],
          [
           "The Hanging Stranger"
          ],
          [
           "Prize ship"
          ]
         ],
         "hovertemplate": "author=Dick, Philip K.<br>proj_0=%{x}<br>proj_1=%{y}<br>title=%{customdata[0]}<extra></extra>",
         "legendgroup": "Dick, Philip K.",
         "marker": {
          "color": "#B10DA1",
          "symbol": "circle"
         },
         "mode": "markers",
         "name": "Dick, Philip K.",
         "orientation": "v",
         "showlegend": true,
         "type": "scatter",
         "x": [
          5.916529655456543,
          5.871623992919922,
          6.348304271697998,
          6.421615123748779,
          6.422971725463867,
          6.164513111114502,
          5.725499153137207,
          6.42405891418457,
          6.453765392303467,
          6.482959270477295,
          6.379631519317627,
          6.348674297332764,
          6.356441497802734,
          6.26561164855957
         ],
         "xaxis": "x",
         "y": [
          3.5023367404937744,
          3.4250125885009766,
          3.4893174171447754,
          3.4550559520721436,
          3.4333999156951904,
          3.3209612369537354,
          3.482689142227173,
          3.4007110595703125,
          3.3626797199249268,
          3.424861192703247,
          3.3532514572143555,
          3.4428606033325195,
          3.428147554397583,
          3.4362456798553467
         ],
         "yaxis": "y"
        },
        {
         "customdata": [
          [
           "Writings in the United Amateur, 1915-1922"
          ],
          [
           "The Shunned House"
          ],
          [
           "The Dunwich Horror"
          ],
          [
           "The colour out of space"
          ],
          [
           "The call of Cthulhu"
          ],
          [
           "He"
          ],
          [
           "The festival"
          ],
          [
           "The lurking fear"
          ]
         ],
         "hovertemplate": "author=Lovecraft, H. P. (Howard Phillips)<br>proj_0=%{x}<br>proj_1=%{y}<br>title=%{customdata[0]}<extra></extra>",
         "legendgroup": "Lovecraft, H. P. (Howard Phillips)",
         "marker": {
          "color": "#C075A6",
          "symbol": "circle"
         },
         "mode": "markers",
         "name": "Lovecraft, H. P. (Howard Phillips)",
         "orientation": "v",
         "showlegend": true,
         "type": "scatter",
         "x": [
          6.865796089172363,
          6.190572738647461,
          6.453118801116943,
          6.3029069900512695,
          6.413491249084473,
          6.042421340942383,
          5.967086315155029,
          6.23504638671875
         ],
         "xaxis": "x",
         "y": [
          3.8142595291137695,
          3.682058334350586,
          3.9165701866149902,
          3.761592388153076,
          3.912546396255493,
          3.7157912254333496,
          3.718379497528076,
          3.851260185241699
         ],
         "yaxis": "y"
        },
        {
         "customdata": [
          [
           "Lambda"
          ],
          [
           "Deathway"
          ]
         ],
         "hovertemplate": "author=Umer, Tomo<br>proj_0=%{x}<br>proj_1=%{y}<br>title=%{customdata[0]}<extra></extra>",
         "legendgroup": "Umer, Tomo",
         "marker": {
          "color": "#FC1CBF",
          "symbol": "circle"
         },
         "mode": "markers",
         "name": "Umer, Tomo",
         "orientation": "v",
         "showlegend": true,
         "type": "scatter",
         "x": [
          4.8826003074646,
          3.7310898303985596
         ],
         "xaxis": "x",
         "y": [
          2.497328996658325,
          3.041980743408203
         ],
         "yaxis": "y"
        }
       ],
       "layout": {
        "height": 800,
        "legend": {
         "title": {
          "text": "author"
         },
         "tracegroupgap": 0
        },
        "margin": {
         "t": 60
        },
        "shapes": [
         {
          "line": {
           "color": "LightSeaGreen"
          },
          "type": "circle",
          "x0": 4.227413654327393,
          "x1": 5.537786960601807,
          "xref": "x",
          "y0": 1.8421423435211182,
          "y1": 3.1525156497955322,
          "yref": "y"
         },
         {
          "line": {
           "color": "LightSeaGreen"
          },
          "type": "circle",
          "x0": 3.0759031772613525,
          "x1": 4.3862762451171875,
          "xref": "x",
          "y0": 2.386794090270996,
          "y1": 3.69716739654541,
          "yref": "y"
         }
        ],
        "template": {
         "data": {
          "bar": [
           {
            "error_x": {
             "color": "#2a3f5f"
            },
            "error_y": {
             "color": "#2a3f5f"
            },
            "marker": {
             "line": {
              "color": "#E5ECF6",
              "width": 0.5
             },
             "pattern": {
              "fillmode": "overlay",
              "size": 10,
              "solidity": 0.2
             }
            },
            "type": "bar"
           }
          ],
          "barpolar": [
           {
            "marker": {
             "line": {
              "color": "#E5ECF6",
              "width": 0.5
             },
             "pattern": {
              "fillmode": "overlay",
              "size": 10,
              "solidity": 0.2
             }
            },
            "type": "barpolar"
           }
          ],
          "carpet": [
           {
            "aaxis": {
             "endlinecolor": "#2a3f5f",
             "gridcolor": "white",
             "linecolor": "white",
             "minorgridcolor": "white",
             "startlinecolor": "#2a3f5f"
            },
            "baxis": {
             "endlinecolor": "#2a3f5f",
             "gridcolor": "white",
             "linecolor": "white",
             "minorgridcolor": "white",
             "startlinecolor": "#2a3f5f"
            },
            "type": "carpet"
           }
          ],
          "choropleth": [
           {
            "colorbar": {
             "outlinewidth": 0,
             "ticks": ""
            },
            "type": "choropleth"
           }
          ],
          "contour": [
           {
            "colorbar": {
             "outlinewidth": 0,
             "ticks": ""
            },
            "colorscale": [
             [
              0,
              "#0d0887"
             ],
             [
              0.1111111111111111,
              "#46039f"
             ],
             [
              0.2222222222222222,
              "#7201a8"
             ],
             [
              0.3333333333333333,
              "#9c179e"
             ],
             [
              0.4444444444444444,
              "#bd3786"
             ],
             [
              0.5555555555555556,
              "#d8576b"
             ],
             [
              0.6666666666666666,
              "#ed7953"
             ],
             [
              0.7777777777777778,
              "#fb9f3a"
             ],
             [
              0.8888888888888888,
              "#fdca26"
             ],
             [
              1,
              "#f0f921"
             ]
            ],
            "type": "contour"
           }
          ],
          "contourcarpet": [
           {
            "colorbar": {
             "outlinewidth": 0,
             "ticks": ""
            },
            "type": "contourcarpet"
           }
          ],
          "heatmap": [
           {
            "colorbar": {
             "outlinewidth": 0,
             "ticks": ""
            },
            "colorscale": [
             [
              0,
              "#0d0887"
             ],
             [
              0.1111111111111111,
              "#46039f"
             ],
             [
              0.2222222222222222,
              "#7201a8"
             ],
             [
              0.3333333333333333,
              "#9c179e"
             ],
             [
              0.4444444444444444,
              "#bd3786"
             ],
             [
              0.5555555555555556,
              "#d8576b"
             ],
             [
              0.6666666666666666,
              "#ed7953"
             ],
             [
              0.7777777777777778,
              "#fb9f3a"
             ],
             [
              0.8888888888888888,
              "#fdca26"
             ],
             [
              1,
              "#f0f921"
             ]
            ],
            "type": "heatmap"
           }
          ],
          "heatmapgl": [
           {
            "colorbar": {
             "outlinewidth": 0,
             "ticks": ""
            },
            "colorscale": [
             [
              0,
              "#0d0887"
             ],
             [
              0.1111111111111111,
              "#46039f"
             ],
             [
              0.2222222222222222,
              "#7201a8"
             ],
             [
              0.3333333333333333,
              "#9c179e"
             ],
             [
              0.4444444444444444,
              "#bd3786"
             ],
             [
              0.5555555555555556,
              "#d8576b"
             ],
             [
              0.6666666666666666,
              "#ed7953"
             ],
             [
              0.7777777777777778,
              "#fb9f3a"
             ],
             [
              0.8888888888888888,
              "#fdca26"
             ],
             [
              1,
              "#f0f921"
             ]
            ],
            "type": "heatmapgl"
           }
          ],
          "histogram": [
           {
            "marker": {
             "pattern": {
              "fillmode": "overlay",
              "size": 10,
              "solidity": 0.2
             }
            },
            "type": "histogram"
           }
          ],
          "histogram2d": [
           {
            "colorbar": {
             "outlinewidth": 0,
             "ticks": ""
            },
            "colorscale": [
             [
              0,
              "#0d0887"
             ],
             [
              0.1111111111111111,
              "#46039f"
             ],
             [
              0.2222222222222222,
              "#7201a8"
             ],
             [
              0.3333333333333333,
              "#9c179e"
             ],
             [
              0.4444444444444444,
              "#bd3786"
             ],
             [
              0.5555555555555556,
              "#d8576b"
             ],
             [
              0.6666666666666666,
              "#ed7953"
             ],
             [
              0.7777777777777778,
              "#fb9f3a"
             ],
             [
              0.8888888888888888,
              "#fdca26"
             ],
             [
              1,
              "#f0f921"
             ]
            ],
            "type": "histogram2d"
           }
          ],
          "histogram2dcontour": [
           {
            "colorbar": {
             "outlinewidth": 0,
             "ticks": ""
            },
            "colorscale": [
             [
              0,
              "#0d0887"
             ],
             [
              0.1111111111111111,
              "#46039f"
             ],
             [
              0.2222222222222222,
              "#7201a8"
             ],
             [
              0.3333333333333333,
              "#9c179e"
             ],
             [
              0.4444444444444444,
              "#bd3786"
             ],
             [
              0.5555555555555556,
              "#d8576b"
             ],
             [
              0.6666666666666666,
              "#ed7953"
             ],
             [
              0.7777777777777778,
              "#fb9f3a"
             ],
             [
              0.8888888888888888,
              "#fdca26"
             ],
             [
              1,
              "#f0f921"
             ]
            ],
            "type": "histogram2dcontour"
           }
          ],
          "mesh3d": [
           {
            "colorbar": {
             "outlinewidth": 0,
             "ticks": ""
            },
            "type": "mesh3d"
           }
          ],
          "parcoords": [
           {
            "line": {
             "colorbar": {
              "outlinewidth": 0,
              "ticks": ""
             }
            },
            "type": "parcoords"
           }
          ],
          "pie": [
           {
            "automargin": true,
            "type": "pie"
           }
          ],
          "scatter": [
           {
            "fillpattern": {
             "fillmode": "overlay",
             "size": 10,
             "solidity": 0.2
            },
            "type": "scatter"
           }
          ],
          "scatter3d": [
           {
            "line": {
             "colorbar": {
              "outlinewidth": 0,
              "ticks": ""
             }
            },
            "marker": {
             "colorbar": {
              "outlinewidth": 0,
              "ticks": ""
             }
            },
            "type": "scatter3d"
           }
          ],
          "scattercarpet": [
           {
            "marker": {
             "colorbar": {
              "outlinewidth": 0,
              "ticks": ""
             }
            },
            "type": "scattercarpet"
           }
          ],
          "scattergeo": [
           {
            "marker": {
             "colorbar": {
              "outlinewidth": 0,
              "ticks": ""
             }
            },
            "type": "scattergeo"
           }
          ],
          "scattergl": [
           {
            "marker": {
             "colorbar": {
              "outlinewidth": 0,
              "ticks": ""
             }
            },
            "type": "scattergl"
           }
          ],
          "scattermapbox": [
           {
            "marker": {
             "colorbar": {
              "outlinewidth": 0,
              "ticks": ""
             }
            },
            "type": "scattermapbox"
           }
          ],
          "scatterpolar": [
           {
            "marker": {
             "colorbar": {
              "outlinewidth": 0,
              "ticks": ""
             }
            },
            "type": "scatterpolar"
           }
          ],
          "scatterpolargl": [
           {
            "marker": {
             "colorbar": {
              "outlinewidth": 0,
              "ticks": ""
             }
            },
            "type": "scatterpolargl"
           }
          ],
          "scatterternary": [
           {
            "marker": {
             "colorbar": {
              "outlinewidth": 0,
              "ticks": ""
             }
            },
            "type": "scatterternary"
           }
          ],
          "surface": [
           {
            "colorbar": {
             "outlinewidth": 0,
             "ticks": ""
            },
            "colorscale": [
             [
              0,
              "#0d0887"
             ],
             [
              0.1111111111111111,
              "#46039f"
             ],
             [
              0.2222222222222222,
              "#7201a8"
             ],
             [
              0.3333333333333333,
              "#9c179e"
             ],
             [
              0.4444444444444444,
              "#bd3786"
             ],
             [
              0.5555555555555556,
              "#d8576b"
             ],
             [
              0.6666666666666666,
              "#ed7953"
             ],
             [
              0.7777777777777778,
              "#fb9f3a"
             ],
             [
              0.8888888888888888,
              "#fdca26"
             ],
             [
              1,
              "#f0f921"
             ]
            ],
            "type": "surface"
           }
          ],
          "table": [
           {
            "cells": {
             "fill": {
              "color": "#EBF0F8"
             },
             "line": {
              "color": "white"
             }
            },
            "header": {
             "fill": {
              "color": "#C8D4E3"
             },
             "line": {
              "color": "white"
             }
            },
            "type": "table"
           }
          ]
         },
         "layout": {
          "annotationdefaults": {
           "arrowcolor": "#2a3f5f",
           "arrowhead": 0,
           "arrowwidth": 1
          },
          "autotypenumbers": "strict",
          "coloraxis": {
           "colorbar": {
            "outlinewidth": 0,
            "ticks": ""
           }
          },
          "colorscale": {
           "diverging": [
            [
             0,
             "#8e0152"
            ],
            [
             0.1,
             "#c51b7d"
            ],
            [
             0.2,
             "#de77ae"
            ],
            [
             0.3,
             "#f1b6da"
            ],
            [
             0.4,
             "#fde0ef"
            ],
            [
             0.5,
             "#f7f7f7"
            ],
            [
             0.6,
             "#e6f5d0"
            ],
            [
             0.7,
             "#b8e186"
            ],
            [
             0.8,
             "#7fbc41"
            ],
            [
             0.9,
             "#4d9221"
            ],
            [
             1,
             "#276419"
            ]
           ],
           "sequential": [
            [
             0,
             "#0d0887"
            ],
            [
             0.1111111111111111,
             "#46039f"
            ],
            [
             0.2222222222222222,
             "#7201a8"
            ],
            [
             0.3333333333333333,
             "#9c179e"
            ],
            [
             0.4444444444444444,
             "#bd3786"
            ],
            [
             0.5555555555555556,
             "#d8576b"
            ],
            [
             0.6666666666666666,
             "#ed7953"
            ],
            [
             0.7777777777777778,
             "#fb9f3a"
            ],
            [
             0.8888888888888888,
             "#fdca26"
            ],
            [
             1,
             "#f0f921"
            ]
           ],
           "sequentialminus": [
            [
             0,
             "#0d0887"
            ],
            [
             0.1111111111111111,
             "#46039f"
            ],
            [
             0.2222222222222222,
             "#7201a8"
            ],
            [
             0.3333333333333333,
             "#9c179e"
            ],
            [
             0.4444444444444444,
             "#bd3786"
            ],
            [
             0.5555555555555556,
             "#d8576b"
            ],
            [
             0.6666666666666666,
             "#ed7953"
            ],
            [
             0.7777777777777778,
             "#fb9f3a"
            ],
            [
             0.8888888888888888,
             "#fdca26"
            ],
            [
             1,
             "#f0f921"
            ]
           ]
          },
          "colorway": [
           "#636efa",
           "#EF553B",
           "#00cc96",
           "#ab63fa",
           "#FFA15A",
           "#19d3f3",
           "#FF6692",
           "#B6E880",
           "#FF97FF",
           "#FECB52"
          ],
          "font": {
           "color": "#2a3f5f"
          },
          "geo": {
           "bgcolor": "white",
           "lakecolor": "white",
           "landcolor": "#E5ECF6",
           "showlakes": true,
           "showland": true,
           "subunitcolor": "white"
          },
          "hoverlabel": {
           "align": "left"
          },
          "hovermode": "closest",
          "mapbox": {
           "style": "light"
          },
          "paper_bgcolor": "white",
          "plot_bgcolor": "#E5ECF6",
          "polar": {
           "angularaxis": {
            "gridcolor": "white",
            "linecolor": "white",
            "ticks": ""
           },
           "bgcolor": "#E5ECF6",
           "radialaxis": {
            "gridcolor": "white",
            "linecolor": "white",
            "ticks": ""
           }
          },
          "scene": {
           "xaxis": {
            "backgroundcolor": "#E5ECF6",
            "gridcolor": "white",
            "gridwidth": 2,
            "linecolor": "white",
            "showbackground": true,
            "ticks": "",
            "zerolinecolor": "white"
           },
           "yaxis": {
            "backgroundcolor": "#E5ECF6",
            "gridcolor": "white",
            "gridwidth": 2,
            "linecolor": "white",
            "showbackground": true,
            "ticks": "",
            "zerolinecolor": "white"
           },
           "zaxis": {
            "backgroundcolor": "#E5ECF6",
            "gridcolor": "white",
            "gridwidth": 2,
            "linecolor": "white",
            "showbackground": true,
            "ticks": "",
            "zerolinecolor": "white"
           }
          },
          "shapedefaults": {
           "line": {
            "color": "#2a3f5f"
           }
          },
          "ternary": {
           "aaxis": {
            "gridcolor": "white",
            "linecolor": "white",
            "ticks": ""
           },
           "baxis": {
            "gridcolor": "white",
            "linecolor": "white",
            "ticks": ""
           },
           "bgcolor": "#E5ECF6",
           "caxis": {
            "gridcolor": "white",
            "linecolor": "white",
            "ticks": ""
           }
          },
          "title": {
           "x": 0.05
          },
          "xaxis": {
           "automargin": true,
           "gridcolor": "white",
           "linecolor": "white",
           "ticks": "",
           "title": {
            "standoff": 15
           },
           "zerolinecolor": "white",
           "zerolinewidth": 2
          },
          "yaxis": {
           "automargin": true,
           "gridcolor": "white",
           "linecolor": "white",
           "ticks": "",
           "title": {
            "standoff": 15
           },
           "zerolinecolor": "white",
           "zerolinewidth": 2
          }
         }
        },
        "width": 1200,
        "xaxis": {
         "anchor": "y",
         "domain": [
          0,
          1
         ],
         "title": {
          "text": "proj_0"
         }
        },
        "yaxis": {
         "anchor": "x",
         "domain": [
          0,
          1
         ],
         "title": {
          "text": "proj_1"
         }
        }
       }
      }
     },
     "metadata": {},
     "output_type": "display_data"
    }
   ],
   "source": [
    "fig = px.scatter(data_frame = library_newtext,\n",
    "                 x='proj_0',\n",
    "                 y='proj_1',\n",
    "                 width=1200,\n",
    "                 height=800,\n",
    "                 color= 'author',\n",
    "                 color_discrete_sequence=px.colors.qualitative.Alphabet, #Dark24\n",
    "                 hover_data= ['title']\n",
    "                 )\n",
    "\n",
    "for i in range(circle_edges.shape[0]):\n",
    "    fig.add_shape(type='circle',\n",
    "        xref='x', yref='y',\n",
    "        x0=circle_edges['x0'][i],\n",
    "        y0=circle_edges['y0'][i],\n",
    "        x1=circle_edges['x1'][i],\n",
    "        y1=circle_edges['y1'][i],\n",
    "        line_color='LightSeaGreen',\n",
    "    )\n",
    "\n",
    "\n",
    "fig.show()"
   ]
  },
  {
   "cell_type": "code",
   "execution_count": 90,
   "metadata": {},
   "outputs": [
    {
     "data": {
      "application/vnd.plotly.v1+json": {
       "config": {
        "plotlyServerURL": "https://plot.ly"
       },
       "data": [
        {
         "customdata": [
          [
           "Apocolocyntosis"
          ],
          [
           "L. Annaeus Seneca on Benefits"
          ],
          [
           "Two Tragedies of Seneca: Medea and The Daughters of Troy: Rendered into English Verse"
          ],
          [
           "Seneca's Morals of a Happy Life, Benefits, Anger and Clemency"
          ],
          [
           "The Tragedies of Seneca: Translated into English Verse, to Which Have Been Appended Comparative Analyses of the Corresponding Greek and Roman Plays, and a Mythological Index"
          ],
          [
           "Index of the Project Gutenberg Works of Lucius Annaeus Seneca"
          ],
          [
           "Minor Dialogues, Together With the Dialogue on Clemency"
          ]
         ],
         "hovertemplate": "color=1st century CE<br>proj_0=%{x}<br>proj_1=%{y}<br>title=%{customdata[0]}<extra></extra>",
         "legendgroup": "1st century CE",
         "marker": {
          "color": "#AA0DFE",
          "symbol": "circle"
         },
         "mode": "markers",
         "name": "1st century CE",
         "orientation": "v",
         "showlegend": true,
         "type": "scatter",
         "x": [
          5.122745990753174,
          3.827690601348877,
          4.559480667114258,
          3.8888869285583496,
          3.822796583175659,
          5.322546005249023,
          3.7524702548980713
         ],
         "xaxis": "x",
         "y": [
          3.2624361515045166,
          4.102427005767822,
          2.747194290161133,
          4.170809745788574,
          4.2305474281311035,
          3.563805341720581,
          4.1717047691345215
         ],
         "yaxis": "y"
        },
        {
         "customdata": [
          [
           "La Fiammetta"
          ],
          [
           "The Decameron, Volume II"
          ],
          [
           "The Decameron of Giovanni Boccaccio"
          ],
          [
           "The Decameron, Volume I"
          ],
          [
           "The Decameron (Day 1 to Day 5): Containing an hundred pleasant Novels"
          ],
          [
           "The Decameron (Day 6 to Day 10): Containing an hundred pleasant Novels"
          ]
         ],
         "hovertemplate": "color=14th century CE<br>proj_0=%{x}<br>proj_1=%{y}<br>title=%{customdata[0]}<extra></extra>",
         "legendgroup": "14th century CE",
         "marker": {
          "color": "#3283FE",
          "symbol": "circle"
         },
         "mode": "markers",
         "name": "14th century CE",
         "orientation": "v",
         "showlegend": true,
         "type": "scatter",
         "x": [
          3.062504768371582,
          2.1817026138305664,
          2.171948194503784,
          5.3068366050720215,
          1.9165840148925781,
          1.969145655632019
         ],
         "xaxis": "x",
         "y": [
          6.319430828094482,
          5.746269702911377,
          5.7913498878479,
          10.21899700164795,
          6.03905725479126,
          6.017590045928955
         ],
         "yaxis": "y"
        },
        {
         "customdata": [
          [
           "Divine Comedy, Longfellow's Translation, Hell"
          ],
          [
           "Divine Comedy, Longfellow's Translation, Purgatory"
          ],
          [
           "Divine Comedy, Longfellow's Translation, Paradise"
          ],
          [
           "Divine Comedy, Longfellow's Translation, Complete"
          ],
          [
           "Divine Comedy, Cary's Translation, Hell"
          ],
          [
           "Divine Comedy, Cary's Translation, Purgatory"
          ],
          [
           "Divine Comedy, Cary's Translation, Paradise"
          ],
          [
           "Divine Comedy, Cary's Translation, Complete"
          ],
          [
           "The Banquet (Il Convito)"
          ],
          [
           "The Divine Comedy, Volume 1, Hell"
          ],
          [
           "The Divine Comedy, Volume 2, Purgatory"
          ],
          [
           "The Divine Comedy, Volume 3, Paradise"
          ],
          [
           "The New Life (La Vita Nuova)"
          ],
          [
           "The Divine Comedy of Dante Alighieri: The Inferno"
          ],
          [
           "The Vision of Dante: A story for little children and a talk to their mothers: (Second Edition)"
          ],
          [
           "The vision of hell.: By Dante Alighieri.; Translated by Rev. Henry Francis Cary, M.A.; and illustrated with the seventy-five designs of Gustave Doré."
          ],
          [
           "The Divine Comedy by Dante, Illustrated, Purgatory, Complete"
          ],
          [
           "The Divine Comedy by Dante, Illustrated, Paradise, Complete"
          ],
          [
           "The divine comedy"
          ]
         ],
         "hovertemplate": "color=13th century CE<br>proj_0=%{x}<br>proj_1=%{y}<br>title=%{customdata[0]}<extra></extra>",
         "legendgroup": "13th century CE",
         "marker": {
          "color": "#85660D",
          "symbol": "circle"
         },
         "mode": "markers",
         "name": "13th century CE",
         "orientation": "v",
         "showlegend": true,
         "type": "scatter",
         "x": [
          5.5804057121276855,
          5.613076686859131,
          5.482569217681885,
          5.5264058113098145,
          5.3795881271362305,
          5.521193981170654,
          5.438664436340332,
          5.390087127685547,
          5.485036849975586,
          5.517715930938721,
          5.583676338195801,
          5.492496967315674,
          4.4930033683776855,
          5.514674186706543,
          5.1652750968933105,
          5.432076930999756,
          5.482977867126465,
          5.38691520690918,
          5.352466583251953
         ],
         "xaxis": "x",
         "y": [
          7.0713210105896,
          7.145920753479004,
          7.240212917327881,
          7.151474475860596,
          7.376584529876709,
          7.486905574798584,
          7.458669662475586,
          7.402670860290527,
          6.951871395111084,
          7.190520286560059,
          7.192533016204834,
          6.898308753967285,
          2.5229578018188477,
          7.033351898193359,
          3.338625431060791,
          7.384476661682129,
          7.403947830200195,
          7.378597736358643,
          7.425360202789307
         ],
         "yaxis": "y"
        },
        {
         "customdata": [
          [
           "Chinese Literature: Comprising the Analects of Confucius, the Sayings of Mencius, the Shi-King, the Travels of Fâ-Hien, and the Sorrows of Han"
          ],
          [
           "The Sayings of Confucius"
          ],
          [
           "The Analects of Confucius (from the Chinese Classics)"
          ],
          [
           "The Wisdom of Confucius: with Critical and Biographical Sketches"
          ],
          [
           "The Sayings of Confucius: A New Translation of the Greater Part of the Confucian Analects"
          ]
         ],
         "hovertemplate": "color=6th century BCE<br>proj_0=%{x}<br>proj_1=%{y}<br>title=%{customdata[0]}<extra></extra>",
         "legendgroup": "6th century BCE",
         "marker": {
          "color": "#782AB6",
          "symbol": "circle"
         },
         "mode": "markers",
         "name": "6th century BCE",
         "orientation": "v",
         "showlegend": true,
         "type": "scatter",
         "x": [
          7.332862854003906,
          4.710216999053955,
          4.92983865737915,
          7.340766429901123,
          4.478688716888428
         ],
         "xaxis": "x",
         "y": [
          2.340013265609741,
          3.8595213890075684,
          3.796567916870117,
          2.349055767059326,
          3.967028856277466
         ],
         "yaxis": "y"
        },
        {
         "customdata": [
          [
           "The Complete Works of William Shakespeare"
          ],
          [
           "Shakespeare's Sonnets"
          ],
          [
           "Venus and Adonis"
          ],
          [
           "King Richard III"
          ],
          [
           "The Tragedy of Titus Andronicus"
          ],
          [
           "The Taming of the Shrew"
          ],
          [
           "The Tragedy of Romeo and Juliet"
          ],
          [
           "As You Like It"
          ],
          [
           "The Tragedy of Macbeth"
          ],
          [
           "King Richard III"
          ],
          [
           "The Taming of the Shrew"
          ],
          [
           "Romeo and Juliet"
          ],
          [
           "A Midsummer Night's Dream"
          ],
          [
           "The Merchant of Venice"
          ],
          [
           "King Henry IV, the First Part"
          ],
          [
           "Much Ado about Nothing"
          ],
          [
           "The Life of King Henry V"
          ],
          [
           "Julius Caesar"
          ],
          [
           "As You Like It"
          ],
          [
           "Hamlet, Prince of Denmark"
          ],
          [
           "Twelfth Night; Or, What You Will"
          ],
          [
           "All's Well That Ends Well"
          ],
          [
           "Othello, the Moor of Venice"
          ],
          [
           "The Tragedy of King Lear"
          ],
          [
           "Macbeth"
          ],
          [
           "Antony and Cleopatra"
          ],
          [
           "The Winter's Tale"
          ],
          [
           "The Tempest"
          ],
          [
           "Sir Thomas More"
          ],
          [
           "Romeo and Juliet"
          ],
          [
           "Julius Caesar"
          ],
          [
           "Hamlet"
          ],
          [
           "King Lear"
          ],
          [
           "A Midsummer Night's Dream"
          ],
          [
           "The Merchant of Venice"
          ],
          [
           "Twelfth Night"
          ],
          [
           "Henry V"
          ],
          [
           "Macbeth"
          ],
          [
           "Hamlet"
          ],
          [
           "Othello"
          ],
          [
           "Shakespeare's First Folio"
          ],
          [
           "The Tempest: The Works of William Shakespeare [Cambridge Edition] [9 vols.]"
          ],
          [
           "Two Gentlemen of Verona: The Works of William Shakespeare [Cambridge Edition] [9 vols.]"
          ],
          [
           "The Merry Wives of Windsor: The Works of William Shakespeare [Cambridge Edition] [9 vols.]"
          ],
          [
           "Measure for Measure: The Works of William Shakespeare [Cambridge Edition] [9 vols.]"
          ],
          [
           "The Comedy of Errors: The Works of William Shakespeare [Cambridge Edition] [9 vols.]"
          ],
          [
           "Hamlet, Prince of Denmark"
          ],
          [
           "The New Hudson Shakespeare: Julius Cæsar"
          ],
          [
           "Shakespeare's Tragedy of Romeo and Juliet"
          ],
          [
           "Flowers from Shakespeare's Garden: A Posy from the Plays"
          ]
         ],
         "hovertemplate": "color=16th century CE<br>proj_0=%{x}<br>proj_1=%{y}<br>title=%{customdata[0]}<extra></extra>",
         "legendgroup": "16th century CE",
         "marker": {
          "color": "#565656",
          "symbol": "circle"
         },
         "mode": "markers",
         "name": "16th century CE",
         "orientation": "v",
         "showlegend": true,
         "type": "scatter",
         "x": [
          -4.021359443664551,
          -3.9848828315734863,
          -3.4442803859710693,
          -3.6299936771392822,
          -3.92863130569458,
          -4.000110149383545,
          -4.172995090484619,
          -3.832101583480835,
          -3.9428820610046387,
          -3.6294171810150146,
          -3.9414632320404053,
          -4.1997222900390625,
          -3.844155788421631,
          -3.8625400066375732,
          -3.546340227127075,
          -3.668240785598755,
          -3.4745888710021973,
          -3.3724558353424072,
          -3.787364959716797,
          -3.677539110183716,
          -3.5662097930908203,
          -3.549098253250122,
          -4.013709545135498,
          -3.9225363731384277,
          -3.870093584060669,
          -4.027024269104004,
          -3.987520933151245,
          -4.010080814361572,
          -3.470064640045166,
          -4.131827354431152,
          -3.28001070022583,
          -3.722766399383545,
          -4.006382465362549,
          -3.888544797897339,
          -3.9897525310516357,
          -3.836397171020508,
          -3.9302220344543457,
          -3.996823310852051,
          -3.8444485664367676,
          -4.040331840515137,
          -3.942504405975342,
          -3.967061758041382,
          -3.4823968410491943,
          -3.614464044570923,
          -3.645792245864868,
          -3.3380515575408936,
          -3.499919891357422,
          -3.324479818344116,
          -4.14749813079834,
          5.096501350402832
         ],
         "xaxis": "x",
         "y": [
          -1.124436378479004,
          -0.1714879870414734,
          -0.4234618842601776,
          -0.6646742224693298,
          -0.2649049460887909,
          -0.09102872759103775,
          -0.8712884783744812,
          -0.3592519164085388,
          -0.6434043049812317,
          -0.6775073409080505,
          -0.11998408287763596,
          -0.7280222773551941,
          -0.8215233683586121,
          -0.37347105145454407,
          -0.5700122117996216,
          -0.6482620239257812,
          -0.4221251606941223,
          -0.2684750258922577,
          -0.3860686719417572,
          -0.9164202809333801,
          -0.5258334875106812,
          -0.6444275379180908,
          -0.17448651790618896,
          -0.9036365151405334,
          -0.6333470940589905,
          -0.053752731531858444,
          -0.10224678367376328,
          -0.08703272044658661,
          -0.5596836805343628,
          -0.7991831302642822,
          -0.33684030175209045,
          -1.1059519052505493,
          -0.8148054480552673,
          -0.9010094404220581,
          -1.145355463027954,
          -1.0494581460952759,
          -1.14589262008667,
          -1.0510809421539307,
          -1.136623501777649,
          -1.0993874073028564,
          -1.1501286029815674,
          -0.12532702088356018,
          -0.19611486792564392,
          -0.6144875288009644,
          -0.22496731579303741,
          -0.3204839825630188,
          -0.47949379682540894,
          -0.23929144442081451,
          -0.624114990234375,
          3.5253984928131104
         ],
         "yaxis": "y"
        },
        {
         "customdata": [
          [
           "Bleak House"
          ],
          [
           "The Tragedy of Pudd'nhead Wilson"
          ],
          [
           "The Green Flag, and Other Stories of War and Sport"
          ],
          [
           "Extract from Captain Stormfield's Visit to Heaven"
          ],
          [
           "A Horse's Tale"
          ],
          [
           "The Return of Sherlock Holmes"
          ],
          [
           "The Exploits of Brigadier Gerard"
          ],
          [
           "The Refugees: A Tale of Two Continents"
          ],
          [
           "The Great Shadow and Other Napoleonic Tales"
          ],
          [
           "The Count of Monte Cristo, Illustrated"
          ],
          [
           "A Tramp Abroad"
          ],
          [
           "The Man That Corrupted Hadleyburg"
          ],
          [
           "The Three Musketeers"
          ],
          [
           "Ten Years Later"
          ],
          [
           "Twenty Years After"
          ],
          [
           "The Poison Belt"
          ],
          [
           "Three Ghost Stories"
          ],
          [
           "The Firm of Girdlestone"
          ],
          [
           "The Forty-Five Guardsmen"
          ],
          [
           "The Lost World"
          ],
          [
           "Great Expectations"
          ],
          [
           "The Perils of Certain English Prisoners"
          ],
          [
           "A Message from the Sea"
          ],
          [
           "Doctor Marigold"
          ],
          [
           "The $30,000 Bequest, and Other Stories"
          ],
          [
           "The Wreck of the Golden Mary"
          ],
          [
           "Some Christmas Stories"
          ],
          [
           "Camille (La Dame aux Camilias)"
          ],
          [
           "The Adventures of Gerard"
          ],
          [
           "The Adventures of Sherlock Holmes"
          ],
          [
           "The Prince and the Pauper"
          ],
          [
           "Extracts from Adam's Diary, translated from the original ms."
          ],
          [
           "The Vicomte de Bragelonne; Or, Ten Years Later: Being the completion of \"The Three Musketeers\" and \"Twenty Years After\""
          ],
          [
           "A Christmas Carol"
          ],
          [
           "Chapters from My Autobiography"
          ],
          [
           "The Queen's Necklace"
          ],
          [
           "The Sign of the Four"
          ],
          [
           "The Return of Sherlock Holmes"
          ],
          [
           "Danger! and Other Stories"
          ],
          [
           "The Magic Fishbone: A Holiday Romance from the Pen of Miss Alice Rainbird, Aged 7"
          ],
          [
           "The Adventure of Wisteria Lodge"
          ],
          [
           "The Adventure of the Cardboard Box"
          ],
          [
           "The Adventure of the Red Circle"
          ],
          [
           "The Adventure of the Bruce-Partington Plans"
          ],
          [
           "The Adventure of the Dying Detective"
          ],
          [
           "The Disappearance of Lady Frances Carfax"
          ],
          [
           "The Adventure of the Devil's Foot"
          ],
          [
           "His Last Bow: An Epilogue of Sherlock Holmes"
          ],
          [
           "A Christmas Carol"
          ],
          [
           "Is Shakespeare Dead?: From My Autobiography"
          ],
          [
           "A Study in Scarlet"
          ],
          [
           "Life on the Mississippi"
          ],
          [
           "On the Decay of the Art of Lying"
          ],
          [
           "The Letters of Charles Dickens. Vol. 1, 1833-1856"
          ],
          [
           "The Letters of Charles Dickens. Vol. 2, 1857-1870"
          ],
          [
           "Bardell v. Pickwick"
          ],
          [
           "The Vicomte De Bragelonne"
          ],
          [
           "Ten Years Later"
          ],
          [
           "Louise de la Valliere"
          ],
          [
           "The Regent's Daughter"
          ],
          [
           "The Conspirators: The Chevalier d'Harmental"
          ],
          [
           "The Borgias: Celebrated Crimes"
          ],
          [
           "Cenci: Celebrated Crimes"
          ],
          [
           "Massacres of the South (1551-1815): Celebrated Crimes"
          ],
          [
           "Mary Stuart: Celebrated Crimes"
          ],
          [
           "Urbain Grandier: Celebrated Crimes"
          ],
          [
           "Derues: Celebrated Crimes"
          ],
          [
           "Joan of Naples: Celebrated Crimes"
          ],
          [
           "Man in the Iron Mask (an Essay)"
          ],
          [
           "Martin Guerre: Celebrated Crimes"
          ],
          [
           "Ali Pacha: Celebrated Crimes"
          ],
          [
           "Murat: Celebrated Crimes"
          ],
          [
           "Marquise Brinvillier: Celebrated Crimes"
          ],
          [
           "Marquise De Ganges: Celebrated Crimes"
          ],
          [
           "The Man in the Iron Mask"
          ],
          [
           "Celebrated Crimes (Complete)"
          ],
          [
           "Mugby Junction"
          ],
          [
           "Sir Nigel"
          ],
          [
           "The Hound of the Baskervilles"
          ],
          [
           "Personal Recollections of Joan of Arc — Volume 1"
          ],
          [
           "Personal Recollections of Joan of Arc — Volume 2"
          ],
          [
           "The Works of Mark Twain: An Index of all Project Gutenberg Editions"
          ],
          [
           "Following the Equator: A Journey Around the World"
          ],
          [
           "The Captain of the Polestar, and Other Tales"
          ],
          [
           "A Christmas Carol: The original manuscript"
          ],
          [
           "The Great Boer War"
          ],
          [
           "The Hound of the Baskervilles"
          ],
          [
           "In Defence of Harriet Shelley"
          ],
          [
           "Fenimore Cooper's Literary Offences"
          ],
          [
           "A Dog's Tale"
          ],
          [
           "The Innocents Abroad"
          ],
          [
           "Roughing It"
          ],
          [
           "The Gilded Age: A Tale of Today"
          ],
          [
           "The American Claimant"
          ],
          [
           "A Double Barrelled Detective Story"
          ],
          [
           "The Stolen White Elephant"
          ],
          [
           "Those Extraordinary Twins"
          ],
          [
           "The Mysterious Stranger, and Other Stories"
          ],
          [
           "Christian Science"
          ],
          [
           "Mark Twain's Speeches"
          ],
          [
           "Sketches New and Old"
          ],
          [
           "1601: Conversation as it was by the Social Fireside in the Time of the Tudors"
          ],
          [
           "Mark Twain's Letters — Volume 1 (1853-1866)"
          ],
          [
           "Mark Twain's Letters — Volume 2 (1867-1875)"
          ],
          [
           "Mark Twain's Letters — Volume 4 (1886-1900)"
          ],
          [
           "Mark Twain's Letters — Complete (1853-1910)"
          ],
          [
           "The Entire Project Gutenberg Works of Mark Twain"
          ],
          [
           "The Adventures of Huckleberry Finn (Tom Sawyer's Comrade)"
          ],
          [
           "How to Tell a Story, and Other Essays"
          ],
          [
           "The Man That Corrupted Hadleyburg, and Other Stories"
          ],
          [
           "The Great Keinplatz Experiment and Other Tales of Twilight and the Unseen"
          ],
          [
           "The Valley of Fear"
          ],
          [
           "Marguerite de Valois"
          ],
          [
           "The Parasite: A Story"
          ],
          [
           "The Prussian Terror"
          ],
          [
           "The Crime of the Congo"
          ],
          [
           "The Valley of Fear"
          ],
          [
           "The Wanderings of a Spiritualist"
          ],
          [
           "The Battle of Life: A Love Story"
          ],
          [
           "The Corsican Brothers"
          ],
          [
           "A Child's Dream of a Star"
          ],
          [
           "Round the Red Lamp: Being Facts and Fancies of Medical Life"
          ],
          [
           "The Hero of the People: A Historical Romance of Love, Liberty and Loyalty"
          ],
          [
           "The Mesmerist's Victim"
          ],
          [
           "The Countess of Charny; or, The Execution of King Louis XVI"
          ],
          [
           "The Personal History of David Copperfield"
          ],
          [
           "The Royal Life Guard; or, the flight of the royal family.: A historical romance of the suppression of the French monarchy"
          ],
          [
           "The Vital Message"
          ],
          [
           "Taking the Bastile; Or, Pitou the Peasant: A Historical Story of the Great French Revolution"
          ],
          [
           "Balsamo, the Magician; or, The Memoirs of a Physician"
          ],
          [
           "Oliver Twist; or, The Parish Boy's Progress. Illustrated"
          ],
          [
           "The Coming of the Fairies"
          ],
          [
           "Oliver Twist, Vol. 1 (of 3)"
          ],
          [
           "Adventures of Sherlock Holmes: Illustrated"
          ],
          [
           "My Memoirs, Vol. I, 1802 to 1821"
          ],
          [
           "The Mysterious Stranger: A Romance"
          ],
          [
           "My Memoirs, Vol. II, 1822 to 1825"
          ],
          [
           "My Memoirs, Vol. III, 1826 to 1830"
          ],
          [
           "My Memoirs, Vol. V, 1831 to 1832"
          ],
          [
           "The Wolf-Leader"
          ],
          [
           "My Memoirs, Vol. VI, 1832 to 1833"
          ],
          [
           "Rodney Stone"
          ],
          [
           "The War of Women, Volume 1"
          ],
          [
           "Tales of Terror and Mystery"
          ],
          [
           "Round the Fire Stories"
          ],
          [
           "The Mystery of Edwin Drood"
          ],
          [
           "Index of the Project Gutenberg Works of Alexandre Dumas, [père]"
          ],
          [
           "The Pickwick Papers"
          ],
          [
           "Index of the Project Gutenberg Works of Charles Dickens"
          ],
          [
           "Master Humphrey's Clock"
          ],
          [
           "The Case for Spirit Photography: With corroborative evidence by experienced researchers and photographers"
          ],
          [
           "The Whites and the Blues"
          ],
          [
           "Merry Tales"
          ],
          [
           "The £1,000,000 bank-note, and other new stories"
          ],
          [
           "To the Person Sitting in Darkness"
          ],
          [
           "King Leopold's Soliloquy: A Defense of His Congo Rule"
          ],
          [
           "The Haunted Man and the Ghost's Bargain"
          ],
          [
           "Pictures from Italy"
          ],
          [
           "The Chimes: A Goblin Story of Some Bells That Rang an Old Year out and a New Year In"
          ],
          [
           "Ascanio"
          ],
          [
           "Memories and Adventures"
          ],
          [
           "American Notes"
          ],
          [
           "The Battle of Life"
          ],
          [
           "The Cricket on the Hearth: A Fairy Tale of Home"
          ],
          [
           "Europe and elsewhere"
          ],
          [
           "The land of mist"
          ],
          [
           "My friend the murderer, and other mysteries and adventures"
          ],
          [
           "The case-book of Sherlock Holmes"
          ],
          [
           "The case of Oscar Slater"
          ],
          [
           "A Child's History of England"
          ],
          [
           "The Old Curiosity Shop"
          ],
          [
           "The Companions of Jehu"
          ],
          [
           "Adventures of Huckleberry Finn, Chapters 01 to 05"
          ],
          [
           "Adventures of Huckleberry Finn, Chapters 11 to 15"
          ],
          [
           "The Adventures of Tom Sawyer, Part 1."
          ],
          [
           "The Adventures of Tom Sawyer, Part 2."
          ],
          [
           "Oliver Twist"
          ],
          [
           "Chicot the Jester"
          ],
          [
           "David Copperfield"
          ],
          [
           "Hard Times"
          ],
          [
           "The Mystery of Cloomber"
          ],
          [
           "Hunted Down: The Detective Stories of Charles Dickens"
          ],
          [
           "Holiday Romance"
          ],
          [
           "George Silverman's Explanation"
          ],
          [
           "Dombey and Son"
          ],
          [
           "Speeches: Literary and Social"
          ],
          [
           "The Memoirs of Sherlock Holmes"
          ],
          [
           "Eve's Diary, Complete"
          ],
          [
           "Reprinted Pieces"
          ],
          [
           "Sketches by Boz, Illustrative of Every-Day Life and Every-Day People"
          ],
          [
           "Our Mutual Friend"
          ],
          [
           "The White Company"
          ],
          [
           "The Uncommercial Traveller"
          ],
          [
           "Barnaby Rudge: A Tale of the Riots of 'Eighty"
          ],
          [
           "To Be Read at Dusk"
          ],
          [
           "Micah Clarke: His Statement as made to his three grandchildren Joseph, Gervas and Reuben During the Hard Winter of 1734"
          ],
          [
           "Little Dorrit"
          ],
          [
           "The Black Tulip"
          ],
          [
           "Nicholas Nickleby"
          ],
          [
           "Martin Chuzzlewit"
          ]
         ],
         "hovertemplate": "color=19th century CE<br>proj_0=%{x}<br>proj_1=%{y}<br>title=%{customdata[0]}<extra></extra>",
         "legendgroup": "19th century CE",
         "marker": {
          "color": "#1C8356",
          "symbol": "circle"
         },
         "mode": "markers",
         "name": "19th century CE",
         "orientation": "v",
         "showlegend": true,
         "type": "scatter",
         "x": [
          2.3577966690063477,
          1.6168657541275024,
          8.71333122253418,
          2.5580949783325195,
          2.6072895526885986,
          9.495463371276855,
          8.854829788208008,
          8.558171272277832,
          8.526968002319336,
          5.274247646331787,
          1.2532697916030884,
          2.1021180152893066,
          5.1693243980407715,
          5.923928260803223,
          5.186386585235596,
          8.127958297729492,
          2.582514762878418,
          8.76585578918457,
          5.54291296005249,
          9.015613555908203,
          2.1900177001953125,
          2.701575517654419,
          3.1492667198181152,
          3.042562246322632,
          1.4597351551055908,
          3.055649995803833,
          2.569286346435547,
          5.023177146911621,
          8.629966735839844,
          9.451009750366211,
          1.6957855224609375,
          2.967466115951538,
          5.82130241394043,
          2.291057586669922,
          1.7019948959350586,
          5.2142839431762695,
          8.627372741699219,
          9.373881340026855,
          8.63690185546875,
          3.4048516750335693,
          7.949077129364014,
          8.02885913848877,
          7.943157196044922,
          8.058512687683105,
          7.911572456359863,
          7.947072982788086,
          7.994573593139648,
          8.486844062805176,
          2.3906197547912598,
          1.8566573858261108,
          8.616984367370605,
          0.7939873933792114,
          3.046769142150879,
          1.9801363945007324,
          2.090632438659668,
          2.7781012058258057,
          5.894940376281738,
          5.775325775146484,
          5.749088764190674,
          4.975172519683838,
          4.9864630699157715,
          5.788728713989258,
          5.044151782989502,
          5.844760417938232,
          5.427059650421143,
          5.391063690185547,
          4.931103706359863,
          5.633932113647461,
          4.8859782218933105,
          5.120787620544434,
          5.673776626586914,
          4.935999393463135,
          5.046294689178467,
          4.849486351013184,
          5.832981586456299,
          5.885313034057617,
          2.373218059539795,
          9.187124252319336,
          9.091656684875488,
          1.2994639873504639,
          1.7860116958618164,
          5.345817565917969,
          0.7918359041213989,
          9.231080055236816,
          2.332587480545044,
          9.027498245239258,
          9.061394691467285,
          2.6333930492401123,
          2.922067165374756,
          3.0515496730804443,
          0.8956102728843689,
          0.8138967752456665,
          1.1362402439117432,
          1.2414814233779907,
          2.1083014011383057,
          2.950421094894409,
          2.6028215885162354,
          1.6022439002990723,
          1.484354019165039,
          1.106015920639038,
          0.9432821869850159,
          2.6688342094421387,
          1.4558395147323608,
          1.4422513246536255,
          1.2170225381851196,
          1.0708311796188354,
          0.7687792181968689,
          1.4420148134231567,
          2.834629774093628,
          0.9430990815162659,
          9.133081436157227,
          8.833196640014648,
          5.171440124511719,
          8.31656551361084,
          5.539893627166748,
          8.26601791381836,
          8.878273010253906,
          8.60998821258545,
          2.3786802291870117,
          4.858785152435303,
          5.197743892669678,
          8.825586318969727,
          5.509859085083008,
          5.5975847244262695,
          5.642529487609863,
          1.6564383506774902,
          5.419442176818848,
          8.382680892944336,
          5.423519134521484,
          5.569609642028809,
          1.7402158975601196,
          7.997974872589111,
          1.9346177577972412,
          9.455629348754883,
          5.854499340057373,
          1.577239751815796,
          5.861729145050049,
          5.808956146240234,
          5.686733245849609,
          4.868709087371826,
          5.738699436187744,
          8.680988311767578,
          5.427136421203613,
          9.411466598510742,
          9.396749496459961,
          2.0163443088531494,
          5.001229763031006,
          2.554570198059082,
          3.0272328853607178,
          2.0595107078552246,
          8.159212112426758,
          5.891918182373047,
          1.5642309188842773,
          1.6698925495147705,
          2.973957061767578,
          2.712056875228882,
          2.67044734954834,
          1.921517252922058,
          2.5570766925811768,
          5.267208576202393,
          9.425761222839355,
          1.817602276802063,
          2.3515586853027344,
          2.870626211166382,
          1.3845981359481812,
          8.727947235107422,
          9.178420066833496,
          8.97791862487793,
          7.957106113433838,
          2.032620429992676,
          2.1440322399139404,
          5.332246780395508,
          2.708530902862549,
          2.5339407920837402,
          2.7975029945373535,
          2.5728447437286377,
          1.7801340818405151,
          5.012050151824951,
          1.714793086051941,
          2.54327392578125,
          9.194165229797363,
          3.249692440032959,
          2.9753875732421875,
          2.9796197414398193,
          2.2955715656280518,
          1.9132386445999146,
          8.866372108459473,
          2.929931163787842,
          1.8216196298599243,
          1.8748985528945923,
          2.0833027362823486,
          8.705175399780273,
          1.8889750242233276,
          1.9640767574310303,
          3.3858680725097656,
          9.29480266571045,
          2.185337781906128,
          4.847381591796875,
          2.0092008113861084,
          2.40254807472229
         ],
         "xaxis": "x",
         "y": [
          2.0932278633117676,
          6.502882957458496,
          3.7064926624298096,
          6.395266532897949,
          6.431395053863525,
          3.5938189029693604,
          3.535248279571533,
          3.344959259033203,
          3.2600185871124268,
          9.97535514831543,
          6.393220901489258,
          6.336253643035889,
          9.851388931274414,
          11.421320915222168,
          9.881539344787598,
          3.863729476928711,
          3.099270820617676,
          3.574742317199707,
          10.626221656799316,
          3.687957286834717,
          2.857567548751831,
          3.073159694671631,
          2.9797780513763428,
          2.917490243911743,
          6.408194541931152,
          2.9036622047424316,
          3.0587308406829834,
          9.663796424865723,
          3.2900924682617188,
          3.4952597618103027,
          6.393925666809082,
          6.419681072235107,
          11.285473823547363,
          3.1677405834198,
          6.370205402374268,
          10.220335960388184,
          3.598362922668457,
          3.5332767963409424,
          3.287719249725342,
          3.098834276199341,
          3.8943121433258057,
          3.724172353744507,
          3.835425853729248,
          3.7932958602905273,
          3.9405038356781006,
          3.8688366413116455,
          3.8205015659332275,
          3.706958532333374,
          3.0720720291137695,
          6.421750545501709,
          3.6449527740478516,
          6.286505699157715,
          6.337312698364258,
          2.209300994873047,
          2.3105251789093018,
          2.5710790157318115,
          11.370351791381836,
          11.07242202758789,
          11.221126556396484,
          9.683493614196777,
          9.806978225708008,
          11.134099006652832,
          9.710312843322754,
          11.249687194824219,
          10.517996788024902,
          10.362454414367676,
          9.644733428955078,
          10.693985939025879,
          9.68377685546875,
          9.830936431884766,
          10.907309532165527,
          9.77361011505127,
          10.055343627929688,
          9.657622337341309,
          11.29653263092041,
          11.357105255126953,
          2.163166046142578,
          3.3833847045898438,
          3.346647024154663,
          6.26792049407959,
          6.506571292877197,
          3.653658866882324,
          6.342913627624512,
          3.5969882011413574,
          3.1744093894958496,
          3.167447566986084,
          3.3957738876342773,
          6.366116046905518,
          6.3775506019592285,
          6.426224708557129,
          6.396455764770508,
          6.314476013183594,
          6.216986179351807,
          6.205870151519775,
          6.494938850402832,
          6.4638495445251465,
          6.390935897827148,
          6.316214561462402,
          6.252988815307617,
          6.21778678894043,
          6.23180627822876,
          6.503129959106445,
          6.369805812835693,
          6.262688636779785,
          6.330615520477295,
          6.336490154266357,
          6.382974147796631,
          6.5345869064331055,
          6.482578754425049,
          6.244076251983643,
          3.613431453704834,
          3.2498252391815186,
          9.968948364257812,
          3.565213203430176,
          10.377203941345215,
          3.4505038261413574,
          3.3318371772766113,
          3.306264638900757,
          3.0415995121002197,
          9.83640193939209,
          3.723231554031372,
          3.628035068511963,
          10.550217628479004,
          10.660666465759277,
          10.793740272521973,
          2.24029541015625,
          10.472960472106934,
          3.3669168949127197,
          10.471968650817871,
          10.611259460449219,
          2.2021920680999756,
          3.8210325241088867,
          2.117863178253174,
          3.483973741531372,
          11.211950302124023,
          6.275567054748535,
          11.178147315979004,
          11.168252944946289,
          10.984976768493652,
          9.741947174072266,
          11.054953575134277,
          3.4037492275238037,
          10.469217300415039,
          3.582516670227051,
          3.5412278175354004,
          2.3366196155548096,
          9.750557899475098,
          2.4032883644104004,
          2.849010467529297,
          2.0188567638397217,
          3.5739996433258057,
          11.182278633117676,
          6.316906452178955,
          6.438279151916504,
          6.341792583465576,
          6.469954013824463,
          2.9933700561523438,
          2.120307445526123,
          2.9044997692108154,
          10.263444900512695,
          3.5163733959198,
          2.502889633178711,
          3.017157793045044,
          2.6725707054138184,
          6.356319427490234,
          3.5211896896362305,
          3.5414578914642334,
          3.6171207427978516,
          3.8520026206970215,
          2.273580551147461,
          2.1116840839385986,
          10.14139461517334,
          6.472384929656982,
          6.471529483795166,
          6.5582194328308105,
          6.474274635314941,
          2.243128776550293,
          9.989569664001465,
          2.2105891704559326,
          3.073333740234375,
          3.469632863998413,
          3.0497841835021973,
          3.0206189155578613,
          2.8982930183410645,
          2.1735501289367676,
          2.6660454273223877,
          3.5119035243988037,
          6.455613136291504,
          2.6584320068359375,
          2.3148691654205322,
          2.3416378498077393,
          3.5138161182403564,
          2.2116243839263916,
          2.623450994491577,
          3.096447706222534,
          3.45925235748291,
          2.1978864669799805,
          9.721254348754883,
          2.1561660766601562,
          2.265109062194824
         ],
         "yaxis": "y"
        },
        {
         "customdata": [
          [
           "Persuasion"
          ],
          [
           "The Life and Adventures of Robinson Crusoe of York, Mariner, Volume 1: With an Account of His Travels Round Three Parts of the Globe,; Written By Himself, in Two Volumes"
          ],
          [
           "From London to Land's End: and Two Letters from the \"Journey through England by a Gentleman\""
          ],
          [
           "The Life and Most Surprising Adventures of Robinson Crusoe, of York, Mariner (1801)"
          ],
          [
           "Love and Freindship [sic]"
          ],
          [
           "Northanger Abbey"
          ],
          [
           "Memoirs of a Cavalier: A Military Journal of the Wars in Germany, and the Wars in England.; From the Year 1632 to the Year 1648."
          ],
          [
           "The Life and Adventures of Robinson Crusoe (1808)"
          ],
          [
           "Pride and Prejudice"
          ],
          [
           "The History of the Remarkable Life of John Sheppard: Containing a Particular Account of His Many Robberies and Escapes"
          ],
          [
           "A Vindication of the Press"
          ],
          [
           "Mansfield Park"
          ],
          [
           "Military Memoirs of Capt. George Carleton"
          ],
          [
           "Memoirs of Major Alexander Ramkins (1718)"
          ],
          [
           "The Complete English Tradesman (1839 ed.)"
          ],
          [
           "Emma"
          ],
          [
           "Sense and Sensibility"
          ],
          [
           "The Declaration of Independence of The United States of America"
          ],
          [
           "Memoir, Correspondence, and Miscellanies, From the Papers of Thomas Jefferson, Volume 1"
          ],
          [
           "Memoir, Correspondence, and Miscellanies, From the Papers of Thomas Jefferson, Volume 2"
          ],
          [
           "Memoir, Correspondence, and Miscellanies, From the Papers of Thomas Jefferson, Volume 3"
          ],
          [
           "Memoir, Correspondence, and Miscellanies, From the Papers of Thomas Jefferson, Volume 4"
          ],
          [
           "History of the Plague in London"
          ],
          [
           "The Declaration of Independence of the United States of America"
          ],
          [
           "Dickory Cronke: The Dumb Philosopher, or, Great Britain's Wonder"
          ],
          [
           "Everybody's Business Is Nobody's Business: Or, Private Abuses, Public Grievances; Exemplified in the Pride, Insolence, and Exorbitant Wages of Our Women, Servants, Footmen, &c."
          ],
          [
           "The Writings of Thomas Jefferson: Library Edition - Vol. 6 (of 20)"
          ],
          [
           "Sense and Sensibility"
          ],
          [
           "Atalantis Major"
          ],
          [
           "The Memoirs, Correspondence, and Miscellanies, From the Papers of Thomas Jefferson: A Linked Index to the Project Gutenberg Editions"
          ],
          [
           "United States Declaration of Independence"
          ],
          [
           "The True-Born Englishman: A Satire"
          ],
          [
           "The Fortunate Mistress (Parts 1 and 2): or a History of the Life of Mademoiselle de Beleau Known by the Name of the Lady Roxana"
          ],
          [
           "The History of the Devil, As Well Ancient as Modern: In Two Parts"
          ],
          [
           "The Complete Project Gutenberg Works of Jane Austen: A Linked Index of all PG Editions of Jane Austen"
          ],
          [
           "An Appeal to Honour and Justice, Though It Be of His Worst Enemies.: Being A True Account of His Conduct in Public Affairs."
          ],
          [
           "An Humble Proposal to the People of England, for the Increase of their Trade, and Encouragement of Their Manufactures: Whether the Present Uncertainty of Affairs Issues in Peace or War"
          ],
          [
           "Second Thoughts are Best: Or a Further Improvement of a Late Scheme to Prevent Street Robberies"
          ],
          [
           "Augusta Triumphans: Or, the Way to Make London the Most Flourishing City in the Universe"
          ],
          [
           "A New Voyage Round the World by a Course Never Sailed Before"
          ],
          [
           "A True Relation of the Apparition of one Mrs. Veal: The Next Day after Her Death, to one Mrs. Bargrave, at Canterbury, the 8th of September, 1705; which Apparition Recommends the Perusal of Drelincourt's Book of Consolations against the Fears of Death"
          ],
          [
           "Reasons Against the Succession of the House of Hanover: With an Enquiry How Far the Abdication of King James, Supposing It to Be Legal, Ought to Affect the Person of the Pretender"
          ],
          [
           "A Seasonable Warning and Caution against the Insinuations of Papists and Jacobites in favour of the Pretender: Being a Letter from an Englishman at the Court of Hanover"
          ],
          [
           "An Answer to a Question that Nobody thinks of, viz., But what if the Queen should Die?"
          ],
          [
           "The Lay-Man's Sermon upon the Late Storm: Held forth at an Honest Coffee-House-Conventicle"
          ],
          [
           "And What if the Pretender should Come?: Or Some Considerations of the Advantages and Real Consequences of the Pretender's Possessing the Crown of Great Britain"
          ],
          [
           "The Fortunes and Misfortunes of the Famous Moll Flanders"
          ],
          [
           "Pride and Prejudice, a play founded on Jane Austen's novel"
          ],
          [
           "A Short Narrative of the Life and Actions of His Grace John, D. of Marlborogh"
          ],
          [
           "A Journal of the Plague Year: Being Observations or Memorials of the Most Remarkable Occurrences, as Well Public as Private, Which Happened in London During the Last Great Visitation in 1665. Written by a Citizen Who Continued All the While in London"
          ],
          [
           "The King of Pirates: Being an Account of the Famous Enterprises of Captain Avery, the Mock King of Madagascar"
          ],
          [
           "A General History of the Pyrates:: from their first rise and settlement in the island of Providence, to the present time"
          ],
          [
           "An Essay Upon Projects"
          ],
          [
           "The Storm. An Essay."
          ],
          [
           "The Letters of Jane Austen: Selected from the compilation of her great nephew, Edward, Lord Bradbourne"
          ],
          [
           "The Storm: or, a Collection of the most Remarkable Casualties and Disasters which Happen'd in the Late Dreadful Tempest, both by Sea and Land"
          ],
          [
           "Pride and Prejudice"
          ],
          [
           "The Writings of Thomas Jefferson, Vol. 1 (of 9): Being His Autobiography, Correspondence, Reports, Messages, Addresses, and Other Writings, Official and Private"
          ],
          [
           "The Writings of Thomas Jefferson, Vol. 2 (of 9): Being His Autobiography, Correspondence, Reports, Messages, Addresses, and Other Writings, Official and Private"
          ],
          [
           "State of the Union Addresses"
          ],
          [
           "The Life and Adventures of Robinson Crusoe"
          ],
          [
           "The History and Remarkable Life of the Truly Honourable Colonel Jacque, Commonly Called Colonel Jack"
          ],
          [
           "The Writings of Thomas Jefferson, Vol. 3 (of 9): Being His Autobiography, Correspondence, Reports, Messages, Addresses, and Other Writings, Official and Private"
          ],
          [
           "The Writings of Thomas Jefferson, Vol. 4 (of 9): Being His Autobiography, Correspondence, Reports, Messages, Addresses, and Other Writings, Official and Private"
          ],
          [
           "The Writings of Thomas Jefferson, Vol. 5 (of 9): Being His Autobiography, Correspondence, Reports, Messages, Addresses, and Other Writings, Official and Private"
          ],
          [
           "The Friendly Daemon, or the Generous Apparition: Being a True Narrative of a Miraculous Cure, Newly Perform'd Upon That Famous Deaf and Dumb Gentleman, Dr. Duncan Campbel, by a Familiar Spirit That Appear'd to Him in a White Surplice, Like a Cathedral Singing Boy"
          ],
          [
           "The Writings of Thomas Jefferson, Vol. 6 (of 9): Being His Autobiography, Correspondence, Reports, Messages, Addresses, and Other Writings, Official and Private"
          ],
          [
           "The Writings of Thomas Jefferson, Vol. 7 (of 9): Being His Autobiography, Correspondence, Reports, Messages, Addresses, and Other Writings, Official and Private"
          ],
          [
           "The Further Adventures of Robinson Crusoe"
          ],
          [
           "The Writings of Thomas Jefferson, Vol. 8 (of 9): Being His Autobiography, Correspondence, Reports, Messages, Addresses, and Other Writings, Official and Private"
          ],
          [
           "The Writings of Thomas Jefferson, Vol. 9 (of 9): Being His Autobiography, Correspondence, Reports, Messages, Addresses, and Other Writings, Official and Private"
          ],
          [
           "The History of the Pyrates. Vol. II.: Containing the lives of Captain Misson, Captain Bowen, Captain Kidd, Captain Tew, Captain Halsey, Captain White, Captain Condent, Captain Bellamy, Captain Fly, Captain Howard, Captain Lewis, Captain Cornelius, Captain Williams, Captain Burgess, Captain North, and their several crews"
          ],
          [
           "The Watsons: By Jane Austen, Concluded by L. Oulton"
          ],
          [
           "The Life, Adventures & Piracies of the Famous Captain Singleton"
          ],
          [
           "Robinson Crusoe, Told to the Children by John Lang"
          ],
          [
           "The Consolidator; or, Memoirs of Sundry Transactions from the World in the Moon"
          ],
          [
           "Lady Susan"
          ],
          [
           "Tour through the Eastern Counties of England, 1722"
          ]
         ],
         "hovertemplate": "color=18th century CE<br>proj_0=%{x}<br>proj_1=%{y}<br>title=%{customdata[0]}<extra></extra>",
         "legendgroup": "18th century CE",
         "marker": {
          "color": "#16FF32",
          "symbol": "circle"
         },
         "mode": "markers",
         "name": "18th century CE",
         "orientation": "v",
         "showlegend": true,
         "type": "scatter",
         "x": [
          3.708380937576294,
          4.999748706817627,
          4.924242973327637,
          5.01643705368042,
          3.5376815795898438,
          3.6541943550109863,
          4.812664031982422,
          5.024530410766602,
          3.682565212249756,
          4.7546844482421875,
          4.842206001281738,
          3.658437490463257,
          4.761721611022949,
          4.784899711608887,
          4.876816749572754,
          3.662853479385376,
          3.515576124191284,
          5.281202793121338,
          7.611863613128662,
          7.359947681427002,
          7.622945785522461,
          7.647467136383057,
          4.91281270980835,
          5.738458633422852,
          4.76455020904541,
          4.712575912475586,
          7.253261566162109,
          3.4826605319976807,
          4.850928783416748,
          5.884693622589111,
          5.4997782707214355,
          4.828019618988037,
          4.7368011474609375,
          4.994514465332031,
          5.388915538787842,
          4.835565090179443,
          4.8993682861328125,
          5.017936706542969,
          4.764012813568115,
          4.9054083824157715,
          5.152937412261963,
          4.971406936645508,
          5.163418769836426,
          5.082067012786865,
          5.063326358795166,
          4.996339321136475,
          4.817015647888184,
          3.5225586891174316,
          4.972720146179199,
          4.9565300941467285,
          4.78570556640625,
          4.823897361755371,
          4.895874500274658,
          5.117565155029297,
          3.7217464447021484,
          4.822656631469727,
          3.6927547454833984,
          7.585997104644775,
          7.3310675621032715,
          7.214771747589111,
          4.971570014953613,
          5.002397537231445,
          7.535345077514648,
          7.606815338134766,
          7.46138334274292,
          4.962865829467773,
          7.484675407409668,
          7.562724590301514,
          4.9797468185424805,
          7.396091461181641,
          7.488820552825928,
          4.88255500793457,
          3.5087568759918213,
          4.965201377868652,
          4.621083736419678,
          4.809875011444092,
          3.4994957447052,
          4.86422061920166
         ],
         "xaxis": "x",
         "y": [
          8.65652084350586,
          0.6915583610534668,
          1.2272799015045166,
          0.902361273765564,
          8.456295013427734,
          8.69520378112793,
          1.3266289234161377,
          0.6611072421073914,
          8.743069648742676,
          2.04125714302063,
          2.111208438873291,
          8.631237983703613,
          1.3246893882751465,
          1.692318081855774,
          1.6102546453475952,
          8.611268997192383,
          8.794208526611328,
          3.3496735095977783,
          1.95452082157135,
          2.2588531970977783,
          1.9471557140350342,
          1.929060935974121,
          0.8059885501861572,
          2.562495708465576,
          2.1701693534851074,
          2.1799654960632324,
          2.2270944118499756,
          8.80516242980957,
          2.243497610092163,
          3.098496913909912,
          3.277592182159424,
          1.759907603263855,
          1.326745629310608,
          2.2323968410491943,
          3.6306354999542236,
          2.129038095474243,
          1.9994176626205444,
          2.256901979446411,
          1.9839353561401367,
          1.120934247970581,
          2.928532123565674,
          2.2725212574005127,
          2.5031044483184814,
          2.413032293319702,
          2.2777786254882812,
          2.259347915649414,
          0.8072971701622009,
          8.391098976135254,
          2.1362617015838623,
          0.7537789344787598,
          1.6439956426620483,
          1.1614248752593994,
          1.1882450580596924,
          2.930276870727539,
          8.751337051391602,
          1.2570432424545288,
          8.76676082611084,
          1.9759682416915894,
          2.2065727710723877,
          2.332505702972412,
          0.7484334707260132,
          0.8925444483757019,
          2.042252540588379,
          1.9674419164657593,
          2.1370086669921875,
          2.407623291015625,
          2.074012041091919,
          2.0131454467773438,
          0.7804062366485596,
          2.1789889335632324,
          2.130528688430786,
          1.1812177896499634,
          8.450339317321777,
          1.0662481784820557,
          2.0222842693328857,
          1.5332839488983154,
          8.357839584350586,
          1.222981572151184
         ],
         "yaxis": "y"
        },
        {
         "customdata": [
          [
           "Discourses on the First Decade of Titus Livius"
          ],
          [
           "The Prince"
          ],
          [
           "Machiavelli, Volume I"
          ],
          [
           "History of Florence and of the Affairs of Italy: From the Earliest Times to the Death of Lorenzo the Magnificent"
          ],
          [
           "The Prince"
          ]
         ],
         "hovertemplate": "color=15th century CE<br>proj_0=%{x}<br>proj_1=%{y}<br>title=%{customdata[0]}<extra></extra>",
         "legendgroup": "15th century CE",
         "marker": {
          "color": "#F7E1A0",
          "symbol": "circle"
         },
         "mode": "markers",
         "name": "15th century CE",
         "orientation": "v",
         "showlegend": true,
         "type": "scatter",
         "x": [
          3.992283344268799,
          4.095269203186035,
          4.707353591918945,
          3.902637481689453,
          3.9400899410247803
         ],
         "xaxis": "x",
         "y": [
          4.490511417388916,
          4.438227653503418,
          2.5370051860809326,
          4.179340839385986,
          4.306942939758301
         ],
         "yaxis": "y"
        },
        {
         "customdata": [
          [
           "The Orations of Marcus Tullius Cicero, Volume 4"
          ],
          [
           "Cato Maior de Senectute with Introduction and Notes"
          ],
          [
           "Academica"
          ],
          [
           "Cicero's Tusculan Disputations: Also, Treatises On The Nature Of The Gods, And On The Commonwealth"
          ],
          [
           "The Letters of Cicero, Volume 1: The Whole Extant Correspodence in Chronological Order"
          ],
          [
           "Treatises on Friendship and Old Age"
          ],
          [
           "Letters of Marcus Tullius Cicero"
          ],
          [
           "The Academic Questions, Treatise De Finibus, and Tusculan Disputations, of M.T. Cicero, With a Sketch of the Greek Philosophers Mentioned by Cicero"
          ],
          [
           "Speeches against Catilina"
          ],
          [
           "De Officiis"
          ],
          [
           "Cicero: Letters to Atticus, Vol. 2 of 3"
          ],
          [
           "Cicero: Letters to Atticus, Vol. 3 of 3"
          ],
          [
           "The republic of Cicero: Translated from the Latin; and Accompanied With a Critical and Historical Introduction."
          ],
          [
           "Cicero: Letters to Atticus, Vol. 1 of 3"
          ]
         ],
         "hovertemplate": "color=1st century BCE<br>proj_0=%{x}<br>proj_1=%{y}<br>title=%{customdata[0]}<extra></extra>",
         "legendgroup": "1st century BCE",
         "marker": {
          "color": "#E2E2E2",
          "symbol": "circle"
         },
         "mode": "markers",
         "name": "1st century BCE",
         "orientation": "v",
         "showlegend": true,
         "type": "scatter",
         "x": [
          4.642082214355469,
          4.378012657165527,
          4.291656017303467,
          4.6313581466674805,
          4.5887064933776855,
          3.061023235321045,
          -4.3000807762146,
          4.7097601890563965,
          4.329836368560791,
          4.334925174713135,
          4.379356861114502,
          4.318841457366943,
          4.688476085662842,
          4.378820419311523
         ],
         "xaxis": "x",
         "y": [
          6.382760047912598,
          6.1899824142456055,
          6.2333807945251465,
          6.473781585693359,
          6.342350006103516,
          3.0078608989715576,
          -0.5324277281761169,
          6.479040145874023,
          6.227080345153809,
          6.2803144454956055,
          6.293927192687988,
          6.351893901824951,
          6.358882904052734,
          6.340171813964844
         ],
         "yaxis": "y"
        },
        {
         "customdata": [
          [
           "Apology, Crito, and Phaedo of Socrates"
          ],
          [
           "The Republic"
          ],
          [
           "The Republic"
          ],
          [
           "Critias"
          ],
          [
           "Timaeus"
          ],
          [
           "Lysis"
          ],
          [
           "Charmides"
          ],
          [
           "Laches"
          ],
          [
           "Protagoras"
          ],
          [
           "Euthydemus"
          ],
          [
           "Symposium"
          ],
          [
           "Cratylus"
          ],
          [
           "Ion"
          ],
          [
           "Phaedrus"
          ],
          [
           "Euthyphro"
          ],
          [
           "Meno"
          ],
          [
           "Apology"
          ],
          [
           "Crito"
          ],
          [
           "Phaedo"
          ],
          [
           "Gorgias"
          ],
          [
           "Lesser Hippias"
          ],
          [
           "Alcibiades I"
          ],
          [
           "Alcibiades II"
          ],
          [
           "Eryxias"
          ],
          [
           "Menexenus"
          ],
          [
           "Parmenides"
          ],
          [
           "Theaetetus"
          ],
          [
           "Sophist"
          ],
          [
           "Statesman"
          ],
          [
           "Philebus"
          ],
          [
           "Laws"
          ],
          [
           "The Project Gutenberg Works of Plato: An Index"
          ],
          [
           "The Republic of Plato"
          ]
         ],
         "hovertemplate": "color=4th century BCE<br>proj_0=%{x}<br>proj_1=%{y}<br>title=%{customdata[0]}<extra></extra>",
         "legendgroup": "4th century BCE",
         "marker": {
          "color": "#1CBE4F",
          "symbol": "circle"
         },
         "mode": "markers",
         "name": "4th century BCE",
         "orientation": "v",
         "showlegend": true,
         "type": "scatter",
         "x": [
          5.994589805603027,
          6.1555962562561035,
          6.298979759216309,
          5.666422367095947,
          6.145083427429199,
          5.764071464538574,
          5.932554244995117,
          5.6551194190979,
          5.822262763977051,
          5.856520652770996,
          6.110888481140137,
          5.943029403686523,
          5.580168724060059,
          5.975525379180908,
          5.635132312774658,
          5.759008884429932,
          5.8886590003967285,
          5.562838554382324,
          5.884878158569336,
          5.80003023147583,
          5.632592678070068,
          5.647207736968994,
          5.658801078796387,
          5.661739349365234,
          5.788390636444092,
          6.028122425079346,
          5.993993759155273,
          5.967669486999512,
          5.899430274963379,
          6.051267147064209,
          6.184732437133789,
          5.338490009307861,
          6.232029914855957
         ],
         "xaxis": "x",
         "y": [
          6.508809566497803,
          6.439945220947266,
          6.478726863861084,
          5.357052803039551,
          6.590040683746338,
          5.826905250549316,
          6.584172248840332,
          5.263708591461182,
          6.454251766204834,
          6.176619529724121,
          6.234299182891846,
          6.430332183837891,
          5.160559177398682,
          6.403099536895752,
          5.185297012329102,
          5.6005682945251465,
          6.111037731170654,
          5.126540660858154,
          6.652698516845703,
          6.218380451202393,
          5.268921852111816,
          5.272375583648682,
          5.24564790725708,
          5.265161514282227,
          6.126541614532471,
          6.298275947570801,
          6.265059947967529,
          6.352752685546875,
          6.205930709838867,
          6.323246955871582,
          6.50665283203125,
          3.654263734817505,
          6.452525615692139
         ],
         "yaxis": "y"
        },
        {
         "customdata": [
          [
           "London to Ladysmith via Pretoria"
          ],
          [
           "Liberalism and the Social Problem"
          ],
          [
           "Crome Yellow"
          ],
          [
           "The Defeat of Youth, and Other Poems"
          ],
          [
           "Beyond Lies the Wub"
          ],
          [
           "Beyond the Door"
          ],
          [
           "The Crystal Crypt"
          ],
          [
           "The Defenders"
          ],
          [
           "The Works of Winston Churchill: A Linked Index of the Project Gutenberg Editions"
          ],
          [
           "The Gun"
          ],
          [
           "The Skull"
          ],
          [
           "Writings in the United Amateur, 1915-1922"
          ],
          [
           "The Shunned House"
          ],
          [
           "The Eyes Have It"
          ],
          [
           "Second Variety"
          ],
          [
           "The Variable Man"
          ],
          [
           "Mr. Spaceship"
          ],
          [
           "Piper in the Woods"
          ],
          [
           "The Dwelling Place of Light — Volume 1"
          ],
          [
           "The Dwelling Place of Light — Complete"
          ],
          [
           "Mr. Crewe's Career — Volume 1"
          ],
          [
           "Mr. Crewe's Career — Volume 3"
          ],
          [
           "Mr. Crewe's Career — Complete"
          ],
          [
           "A Far Country — Volume 2"
          ],
          [
           "A Far Country — Volume 3"
          ],
          [
           "A Far Country — Complete"
          ],
          [
           "Coniston — Volume 01"
          ],
          [
           "Coniston — Volume 02"
          ],
          [
           "Coniston — Volume 03"
          ],
          [
           "Coniston — Volume 04"
          ],
          [
           "Coniston — Complete"
          ],
          [
           "The Crossing"
          ],
          [
           "Mortal Coils"
          ],
          [
           "Tony and the Beetles"
          ],
          [
           "Ian Hamilton's March"
          ],
          [
           "The Hanging Stranger"
          ],
          [
           "Lord Randolph Churchill"
          ],
          [
           "My African Journey"
          ],
          [
           "The Burning Wheel"
          ],
          [
           "The River War: An Account of the Reconquest of the Sudan"
          ],
          [
           "Leda"
          ],
          [
           "The Dunwich Horror"
          ],
          [
           "Savrola: A Tale of the Revolution in Laurania"
          ],
          [
           "The Inside of the Cup — Volume 02"
          ],
          [
           "The Inside of the Cup — Volume 03"
          ],
          [
           "The Inside of the Cup — Volume 04"
          ],
          [
           "The Inside of the Cup — Volume 07"
          ],
          [
           "The Inside of the Cup — Complete"
          ],
          [
           "Richard Carvel — Volume 02"
          ],
          [
           "Richard Carvel — Volume 07"
          ],
          [
           "Richard Carvel — Complete"
          ],
          [
           "A Modern Chronicle — Complete"
          ],
          [
           "The Celebrity, Volume 01"
          ],
          [
           "The Celebrity, Volume 04"
          ],
          [
           "The Celebrity, Complete"
          ],
          [
           "The Crisis — Volume 01"
          ],
          [
           "The Crisis — Volume 02"
          ],
          [
           "The Crisis — Volume 03"
          ],
          [
           "The Crisis — Volume 04"
          ],
          [
           "The Crisis — Volume 05"
          ],
          [
           "The Crisis — Volume 06"
          ],
          [
           "The Crisis — Volume 07"
          ],
          [
           "The Crisis — Volume 08"
          ],
          [
           "The Crisis — Complete"
          ],
          [
           "Dr. Jonathan"
          ],
          [
           "A Traveller in War-Time"
          ],
          [
           "An essay on the American contribution and the democratic idea"
          ],
          [
           "Project Gutenberg Complete Works of Winston Churchill"
          ],
          [
           "Limbo"
          ],
          [
           "Index of the Project Gutenberg Works of Sir Winston Spencer Churchill"
          ],
          [
           "Index of the Project Gutenberg Works of Aldous Huxley"
          ],
          [
           "The World Crisis, Volume 1 (of 6)"
          ],
          [
           "Antic Hay"
          ],
          [
           "On the Margin: Notes and Essays"
          ],
          [
           "Jonah: Christmas 1917"
          ],
          [
           "Little Mexican & Other Stories"
          ],
          [
           "Selected Poems"
          ],
          [
           "Mr. Keegan's Elopement"
          ],
          [
           "The colour out of space"
          ],
          [
           "The call of Cthulhu"
          ],
          [
           "He"
          ],
          [
           "The festival"
          ],
          [
           "Prize ship"
          ],
          [
           "The lurking fear"
          ]
         ],
         "hovertemplate": "color=20th century CE<br>proj_0=%{x}<br>proj_1=%{y}<br>title=%{customdata[0]}<extra></extra>",
         "legendgroup": "20th century CE",
         "marker": {
          "color": "#C4451C",
          "symbol": "circle"
         },
         "mode": "markers",
         "name": "20th century CE",
         "orientation": "v",
         "showlegend": true,
         "type": "scatter",
         "x": [
          0.065553218126297,
          0.6608582139015198,
          4.195977687835693,
          4.07937479019165,
          5.916529655456543,
          5.871623992919922,
          6.348304271697998,
          6.421615123748779,
          5.489407062530518,
          6.422971725463867,
          6.164513111114502,
          6.865796089172363,
          6.190572738647461,
          5.725499153137207,
          6.42405891418457,
          6.453765392303467,
          6.482959270477295,
          6.379631519317627,
          0.4257899224758148,
          0.38176125288009644,
          0.6254392266273499,
          0.7143160104751587,
          0.6864886283874512,
          0.4906756281852722,
          0.4213021993637085,
          0.49937310814857483,
          0.5705826282501221,
          0.32042422890663147,
          0.15354502201080322,
          0.12481997162103653,
          0.24085886776447296,
          0.6567363142967224,
          3.9678401947021484,
          6.348674297332764,
          0.056741517037153244,
          6.356441497802734,
          0.7427932024002075,
          0.17624609172344208,
          4.231805324554443,
          0.2262105941772461,
          3.984250068664551,
          6.453118801116943,
          0.8698920607566833,
          0.8941411375999451,
          0.05664029344916344,
          0.12571939826011658,
          0.7266746759414673,
          0.3154834806919098,
          0.0018378657987341285,
          0.04818791523575783,
          0.41158175468444824,
          0.4599364101886749,
          0.798570990562439,
          0.20640653371810913,
          0.07759618014097214,
          0.008327406831085682,
          0.9526336789131165,
          0.4821189343929291,
          -0.11602908372879028,
          -0.0426490493118763,
          -0.05190090835094452,
          0.8520901799201965,
          0.8357637524604797,
          0.08901038765907288,
          0.7175438404083252,
          0.05677058547735214,
          0.11711862683296204,
          0.4393540322780609,
          3.8061976432800293,
          0.7628316879272461,
          5.259744167327881,
          0.5189841985702515,
          3.910170793533325,
          4.109529495239258,
          4.962152004241943,
          4.301806926727295,
          4.162543773651123,
          5.487111568450928,
          6.3029069900512695,
          6.413491249084473,
          6.042421340942383,
          5.967086315155029,
          6.26561164855957,
          6.23504638671875
         ],
         "xaxis": "x",
         "y": [
          10.898616790771484,
          10.807815551757812,
          3.96378493309021,
          3.538703680038452,
          3.5023367404937744,
          3.4250125885009766,
          3.4893174171447754,
          3.4550559520721436,
          3.660632610321045,
          3.4333999156951904,
          3.3209612369537354,
          3.8142595291137695,
          3.682058334350586,
          3.482689142227173,
          3.4007110595703125,
          3.3626797199249268,
          3.424861192703247,
          3.3532514572143555,
          11.472357749938965,
          11.419171333312988,
          11.049642562866211,
          11.102522850036621,
          11.16491413116455,
          11.24671745300293,
          11.30228328704834,
          11.341958999633789,
          10.92492961883545,
          10.917387008666992,
          11.146782875061035,
          11.186250686645508,
          11.162144660949707,
          11.270874977111816,
          3.595047950744629,
          3.4428606033325195,
          10.789463996887207,
          3.428147554397583,
          10.43855094909668,
          10.737751007080078,
          3.5505032539367676,
          10.718368530273438,
          3.5964362621307373,
          3.9165701866149902,
          10.354933738708496,
          10.395915031433105,
          10.878567695617676,
          10.88472843170166,
          10.638811111450195,
          11.367181777954102,
          11.106910705566406,
          10.954564094543457,
          11.470191955566406,
          11.505232810974121,
          10.351649284362793,
          10.700441360473633,
          10.887210845947266,
          10.976777076721191,
          10.143446922302246,
          10.690312385559082,
          11.021708488464355,
          11.015295028686523,
          11.036948204040527,
          10.244799613952637,
          10.447928428649902,
          11.017005920410156,
          10.467015266418457,
          11.121265411376953,
          10.830610275268555,
          11.465950012207031,
          3.5156285762786865,
          10.522228240966797,
          3.617039442062378,
          10.327140808105469,
          3.638185739517212,
          3.608567476272583,
          3.594953775405884,
          4.09028434753418,
          3.518587112426758,
          3.539639711380005,
          3.761592388153076,
          3.912546396255493,
          3.7157912254333496,
          3.718379497528076,
          3.4362456798553467,
          3.851260185241699
         ],
         "yaxis": "y"
        },
        {
         "customdata": [
          [
           "Thoughts of Marcus Aurelius Antoninus"
          ],
          [
           "Meditations"
          ],
          [
           "The Meditations of the Emperor Marcus Aurelius Antoninus: A new rendering based on the Foulis translation of 1742"
          ],
          [
           "Index of the Project Gutenberg Works of Marcus Aurelius Antoninus"
          ],
          [
           "Thoughts of Marcus Aurelius"
          ]
         ],
         "hovertemplate": "color=2nd century CE<br>proj_0=%{x}<br>proj_1=%{y}<br>title=%{customdata[0]}<extra></extra>",
         "legendgroup": "2nd century CE",
         "marker": {
          "color": "#DEA0FD",
          "symbol": "circle"
         },
         "mode": "markers",
         "name": "2nd century CE",
         "orientation": "v",
         "showlegend": true,
         "type": "scatter",
         "x": [
          7.2934041023254395,
          4.793191909790039,
          7.764444351196289,
          5.656166076660156,
          7.2557806968688965
         ],
         "xaxis": "x",
         "y": [
          3.6494314670562744,
          3.3842215538024902,
          3.7969441413879395,
          3.688560724258423,
          3.6433310508728027
         ],
         "yaxis": "y"
        },
        {
         "customdata": [
          [
           "The Iliad of Homer: Translated into English Blank Verse by William Cowper"
          ],
          [
           "The Odyssey: Rendered into English prose for the use of those who cannot read the original"
          ],
          [
           "The Odyssey of Homer"
          ],
          [
           "The Iliad"
          ],
          [
           "The Iliad"
          ],
          [
           "The Odyssey of Homer"
          ],
          [
           "Odysseus, the Hero of Ithaca: Adapted from the Third Book of the Primary Schools of Athens, Greece"
          ],
          [
           "The Iliad"
          ],
          [
           "The Odyssey"
          ],
          [
           "The Adventures of Ulysses the Wanderer"
          ],
          [
           "The Odysseys of Homer, together with the shorter poems"
          ],
          [
           "The Iliads of Homer: Translated according to the Greek"
          ],
          [
           "The Iliad"
          ],
          [
           "The Iliad"
          ]
         ],
         "hovertemplate": "color=7th century BCE<br>proj_0=%{x}<br>proj_1=%{y}<br>title=%{customdata[0]}<extra></extra>",
         "legendgroup": "7th century BCE",
         "marker": {
          "color": "#FE00FA",
          "symbol": "circle"
         },
         "mode": "markers",
         "name": "7th century BCE",
         "orientation": "v",
         "showlegend": true,
         "type": "scatter",
         "x": [
          4.190715789794922,
          4.215422630310059,
          4.352412223815918,
          4.199076175689697,
          4.202538967132568,
          4.167178153991699,
          4.709676742553711,
          4.283049583435059,
          4.139843940734863,
          4.271044731140137,
          4.041503429412842,
          4.140268325805664,
          4.158801078796387,
          4.060684680938721
         ],
         "xaxis": "x",
         "y": [
          5.005922317504883,
          4.8596649169921875,
          4.6939520835876465,
          4.884336471557617,
          4.984739780426025,
          5.007101058959961,
          4.982415199279785,
          4.920887470245361,
          5.059992790222168,
          4.034876346588135,
          5.112443447113037,
          5.03497838973999,
          5.036531448364258,
          5.119138717651367
         ],
         "yaxis": "y"
        },
        {
         "customdata": [
          [
           "Tartuffe; Or, The Hypocrite"
          ],
          [
           "Amphitryon"
          ],
          [
           "The Flying Doctor: (Le Médecin Volant)"
          ],
          [
           "The Jealousy of le Barbouillé: (La Jalousie du Barbouillé)"
          ],
          [
           "Tartuffe; Or, The Hypocrite"
          ],
          [
           "The Middle-Class Gentleman"
          ],
          [
           "The Pretentious Young Ladies"
          ],
          [
           "The Blunderer"
          ],
          [
           "The Love-Tiff"
          ],
          [
           "The Bores: A Comedy in Three Acts"
          ],
          [
           "Sganarelle, or, the Self-Deceived Husband"
          ],
          [
           "Don Garcia of Navarre; Or, the Jealous Prince. A Heroic Comedy in Five Acts."
          ],
          [
           "The School for Husbands"
          ],
          [
           "The Miser"
          ],
          [
           "Monsieur De Pourceaugnac"
          ],
          [
           "The Magnificent Lovers (Les Amants magnifiques)"
          ],
          [
           "The Shopkeeper Turned Gentleman"
          ],
          [
           "The Imaginary Invalid"
          ]
         ],
         "hovertemplate": "color=17th century CE<br>proj_0=%{x}<br>proj_1=%{y}<br>title=%{customdata[0]}<extra></extra>",
         "legendgroup": "17th century CE",
         "marker": {
          "color": "#325A9B",
          "symbol": "circle"
         },
         "mode": "markers",
         "name": "17th century CE",
         "orientation": "v",
         "showlegend": true,
         "type": "scatter",
         "x": [
          6.838051795959473,
          7.0498127937316895,
          6.841763496398926,
          6.8951849937438965,
          6.916532516479492,
          6.95731258392334,
          6.834418296813965,
          7.028499603271484,
          6.939810752868652,
          6.897918701171875,
          6.911223888397217,
          6.950530052185059,
          6.979140281677246,
          6.93389892578125,
          6.897205352783203,
          6.994641304016113,
          7.021437168121338,
          7.003944396972656
         ],
         "xaxis": "x",
         "y": [
          -0.42523515224456787,
          -0.6638550162315369,
          -0.3866145610809326,
          -0.4891590476036072,
          -0.38546454906463623,
          -0.4903290271759033,
          -0.44872376322746277,
          -0.6588843464851379,
          -0.5767722725868225,
          -0.6242057681083679,
          -0.5735568404197693,
          -0.610768735408783,
          -0.6197967529296875,
          -0.497589111328125,
          -0.47462794184684753,
          -0.5880168080329895,
          -0.6218657493591309,
          -0.5804915428161621
         ],
         "yaxis": "y"
        },
        {
         "customdata": [
          [
           "Lambda"
          ],
          [
           "Deathway"
          ]
         ],
         "hovertemplate": "color=21st century CE<br>proj_0=%{x}<br>proj_1=%{y}<br>title=%{customdata[0]}<extra></extra>",
         "legendgroup": "21st century CE",
         "marker": {
          "color": "#FEAF16",
          "symbol": "circle"
         },
         "mode": "markers",
         "name": "21st century CE",
         "orientation": "v",
         "showlegend": true,
         "type": "scatter",
         "x": [
          4.8826003074646,
          3.7310898303985596
         ],
         "xaxis": "x",
         "y": [
          2.497328996658325,
          3.041980743408203
         ],
         "yaxis": "y"
        }
       ],
       "layout": {
        "height": 800,
        "legend": {
         "title": {
          "text": "color"
         },
         "tracegroupgap": 0
        },
        "margin": {
         "t": 60
        },
        "template": {
         "data": {
          "bar": [
           {
            "error_x": {
             "color": "#2a3f5f"
            },
            "error_y": {
             "color": "#2a3f5f"
            },
            "marker": {
             "line": {
              "color": "#E5ECF6",
              "width": 0.5
             },
             "pattern": {
              "fillmode": "overlay",
              "size": 10,
              "solidity": 0.2
             }
            },
            "type": "bar"
           }
          ],
          "barpolar": [
           {
            "marker": {
             "line": {
              "color": "#E5ECF6",
              "width": 0.5
             },
             "pattern": {
              "fillmode": "overlay",
              "size": 10,
              "solidity": 0.2
             }
            },
            "type": "barpolar"
           }
          ],
          "carpet": [
           {
            "aaxis": {
             "endlinecolor": "#2a3f5f",
             "gridcolor": "white",
             "linecolor": "white",
             "minorgridcolor": "white",
             "startlinecolor": "#2a3f5f"
            },
            "baxis": {
             "endlinecolor": "#2a3f5f",
             "gridcolor": "white",
             "linecolor": "white",
             "minorgridcolor": "white",
             "startlinecolor": "#2a3f5f"
            },
            "type": "carpet"
           }
          ],
          "choropleth": [
           {
            "colorbar": {
             "outlinewidth": 0,
             "ticks": ""
            },
            "type": "choropleth"
           }
          ],
          "contour": [
           {
            "colorbar": {
             "outlinewidth": 0,
             "ticks": ""
            },
            "colorscale": [
             [
              0,
              "#0d0887"
             ],
             [
              0.1111111111111111,
              "#46039f"
             ],
             [
              0.2222222222222222,
              "#7201a8"
             ],
             [
              0.3333333333333333,
              "#9c179e"
             ],
             [
              0.4444444444444444,
              "#bd3786"
             ],
             [
              0.5555555555555556,
              "#d8576b"
             ],
             [
              0.6666666666666666,
              "#ed7953"
             ],
             [
              0.7777777777777778,
              "#fb9f3a"
             ],
             [
              0.8888888888888888,
              "#fdca26"
             ],
             [
              1,
              "#f0f921"
             ]
            ],
            "type": "contour"
           }
          ],
          "contourcarpet": [
           {
            "colorbar": {
             "outlinewidth": 0,
             "ticks": ""
            },
            "type": "contourcarpet"
           }
          ],
          "heatmap": [
           {
            "colorbar": {
             "outlinewidth": 0,
             "ticks": ""
            },
            "colorscale": [
             [
              0,
              "#0d0887"
             ],
             [
              0.1111111111111111,
              "#46039f"
             ],
             [
              0.2222222222222222,
              "#7201a8"
             ],
             [
              0.3333333333333333,
              "#9c179e"
             ],
             [
              0.4444444444444444,
              "#bd3786"
             ],
             [
              0.5555555555555556,
              "#d8576b"
             ],
             [
              0.6666666666666666,
              "#ed7953"
             ],
             [
              0.7777777777777778,
              "#fb9f3a"
             ],
             [
              0.8888888888888888,
              "#fdca26"
             ],
             [
              1,
              "#f0f921"
             ]
            ],
            "type": "heatmap"
           }
          ],
          "heatmapgl": [
           {
            "colorbar": {
             "outlinewidth": 0,
             "ticks": ""
            },
            "colorscale": [
             [
              0,
              "#0d0887"
             ],
             [
              0.1111111111111111,
              "#46039f"
             ],
             [
              0.2222222222222222,
              "#7201a8"
             ],
             [
              0.3333333333333333,
              "#9c179e"
             ],
             [
              0.4444444444444444,
              "#bd3786"
             ],
             [
              0.5555555555555556,
              "#d8576b"
             ],
             [
              0.6666666666666666,
              "#ed7953"
             ],
             [
              0.7777777777777778,
              "#fb9f3a"
             ],
             [
              0.8888888888888888,
              "#fdca26"
             ],
             [
              1,
              "#f0f921"
             ]
            ],
            "type": "heatmapgl"
           }
          ],
          "histogram": [
           {
            "marker": {
             "pattern": {
              "fillmode": "overlay",
              "size": 10,
              "solidity": 0.2
             }
            },
            "type": "histogram"
           }
          ],
          "histogram2d": [
           {
            "colorbar": {
             "outlinewidth": 0,
             "ticks": ""
            },
            "colorscale": [
             [
              0,
              "#0d0887"
             ],
             [
              0.1111111111111111,
              "#46039f"
             ],
             [
              0.2222222222222222,
              "#7201a8"
             ],
             [
              0.3333333333333333,
              "#9c179e"
             ],
             [
              0.4444444444444444,
              "#bd3786"
             ],
             [
              0.5555555555555556,
              "#d8576b"
             ],
             [
              0.6666666666666666,
              "#ed7953"
             ],
             [
              0.7777777777777778,
              "#fb9f3a"
             ],
             [
              0.8888888888888888,
              "#fdca26"
             ],
             [
              1,
              "#f0f921"
             ]
            ],
            "type": "histogram2d"
           }
          ],
          "histogram2dcontour": [
           {
            "colorbar": {
             "outlinewidth": 0,
             "ticks": ""
            },
            "colorscale": [
             [
              0,
              "#0d0887"
             ],
             [
              0.1111111111111111,
              "#46039f"
             ],
             [
              0.2222222222222222,
              "#7201a8"
             ],
             [
              0.3333333333333333,
              "#9c179e"
             ],
             [
              0.4444444444444444,
              "#bd3786"
             ],
             [
              0.5555555555555556,
              "#d8576b"
             ],
             [
              0.6666666666666666,
              "#ed7953"
             ],
             [
              0.7777777777777778,
              "#fb9f3a"
             ],
             [
              0.8888888888888888,
              "#fdca26"
             ],
             [
              1,
              "#f0f921"
             ]
            ],
            "type": "histogram2dcontour"
           }
          ],
          "mesh3d": [
           {
            "colorbar": {
             "outlinewidth": 0,
             "ticks": ""
            },
            "type": "mesh3d"
           }
          ],
          "parcoords": [
           {
            "line": {
             "colorbar": {
              "outlinewidth": 0,
              "ticks": ""
             }
            },
            "type": "parcoords"
           }
          ],
          "pie": [
           {
            "automargin": true,
            "type": "pie"
           }
          ],
          "scatter": [
           {
            "fillpattern": {
             "fillmode": "overlay",
             "size": 10,
             "solidity": 0.2
            },
            "type": "scatter"
           }
          ],
          "scatter3d": [
           {
            "line": {
             "colorbar": {
              "outlinewidth": 0,
              "ticks": ""
             }
            },
            "marker": {
             "colorbar": {
              "outlinewidth": 0,
              "ticks": ""
             }
            },
            "type": "scatter3d"
           }
          ],
          "scattercarpet": [
           {
            "marker": {
             "colorbar": {
              "outlinewidth": 0,
              "ticks": ""
             }
            },
            "type": "scattercarpet"
           }
          ],
          "scattergeo": [
           {
            "marker": {
             "colorbar": {
              "outlinewidth": 0,
              "ticks": ""
             }
            },
            "type": "scattergeo"
           }
          ],
          "scattergl": [
           {
            "marker": {
             "colorbar": {
              "outlinewidth": 0,
              "ticks": ""
             }
            },
            "type": "scattergl"
           }
          ],
          "scattermapbox": [
           {
            "marker": {
             "colorbar": {
              "outlinewidth": 0,
              "ticks": ""
             }
            },
            "type": "scattermapbox"
           }
          ],
          "scatterpolar": [
           {
            "marker": {
             "colorbar": {
              "outlinewidth": 0,
              "ticks": ""
             }
            },
            "type": "scatterpolar"
           }
          ],
          "scatterpolargl": [
           {
            "marker": {
             "colorbar": {
              "outlinewidth": 0,
              "ticks": ""
             }
            },
            "type": "scatterpolargl"
           }
          ],
          "scatterternary": [
           {
            "marker": {
             "colorbar": {
              "outlinewidth": 0,
              "ticks": ""
             }
            },
            "type": "scatterternary"
           }
          ],
          "surface": [
           {
            "colorbar": {
             "outlinewidth": 0,
             "ticks": ""
            },
            "colorscale": [
             [
              0,
              "#0d0887"
             ],
             [
              0.1111111111111111,
              "#46039f"
             ],
             [
              0.2222222222222222,
              "#7201a8"
             ],
             [
              0.3333333333333333,
              "#9c179e"
             ],
             [
              0.4444444444444444,
              "#bd3786"
             ],
             [
              0.5555555555555556,
              "#d8576b"
             ],
             [
              0.6666666666666666,
              "#ed7953"
             ],
             [
              0.7777777777777778,
              "#fb9f3a"
             ],
             [
              0.8888888888888888,
              "#fdca26"
             ],
             [
              1,
              "#f0f921"
             ]
            ],
            "type": "surface"
           }
          ],
          "table": [
           {
            "cells": {
             "fill": {
              "color": "#EBF0F8"
             },
             "line": {
              "color": "white"
             }
            },
            "header": {
             "fill": {
              "color": "#C8D4E3"
             },
             "line": {
              "color": "white"
             }
            },
            "type": "table"
           }
          ]
         },
         "layout": {
          "annotationdefaults": {
           "arrowcolor": "#2a3f5f",
           "arrowhead": 0,
           "arrowwidth": 1
          },
          "autotypenumbers": "strict",
          "coloraxis": {
           "colorbar": {
            "outlinewidth": 0,
            "ticks": ""
           }
          },
          "colorscale": {
           "diverging": [
            [
             0,
             "#8e0152"
            ],
            [
             0.1,
             "#c51b7d"
            ],
            [
             0.2,
             "#de77ae"
            ],
            [
             0.3,
             "#f1b6da"
            ],
            [
             0.4,
             "#fde0ef"
            ],
            [
             0.5,
             "#f7f7f7"
            ],
            [
             0.6,
             "#e6f5d0"
            ],
            [
             0.7,
             "#b8e186"
            ],
            [
             0.8,
             "#7fbc41"
            ],
            [
             0.9,
             "#4d9221"
            ],
            [
             1,
             "#276419"
            ]
           ],
           "sequential": [
            [
             0,
             "#0d0887"
            ],
            [
             0.1111111111111111,
             "#46039f"
            ],
            [
             0.2222222222222222,
             "#7201a8"
            ],
            [
             0.3333333333333333,
             "#9c179e"
            ],
            [
             0.4444444444444444,
             "#bd3786"
            ],
            [
             0.5555555555555556,
             "#d8576b"
            ],
            [
             0.6666666666666666,
             "#ed7953"
            ],
            [
             0.7777777777777778,
             "#fb9f3a"
            ],
            [
             0.8888888888888888,
             "#fdca26"
            ],
            [
             1,
             "#f0f921"
            ]
           ],
           "sequentialminus": [
            [
             0,
             "#0d0887"
            ],
            [
             0.1111111111111111,
             "#46039f"
            ],
            [
             0.2222222222222222,
             "#7201a8"
            ],
            [
             0.3333333333333333,
             "#9c179e"
            ],
            [
             0.4444444444444444,
             "#bd3786"
            ],
            [
             0.5555555555555556,
             "#d8576b"
            ],
            [
             0.6666666666666666,
             "#ed7953"
            ],
            [
             0.7777777777777778,
             "#fb9f3a"
            ],
            [
             0.8888888888888888,
             "#fdca26"
            ],
            [
             1,
             "#f0f921"
            ]
           ]
          },
          "colorway": [
           "#636efa",
           "#EF553B",
           "#00cc96",
           "#ab63fa",
           "#FFA15A",
           "#19d3f3",
           "#FF6692",
           "#B6E880",
           "#FF97FF",
           "#FECB52"
          ],
          "font": {
           "color": "#2a3f5f"
          },
          "geo": {
           "bgcolor": "white",
           "lakecolor": "white",
           "landcolor": "#E5ECF6",
           "showlakes": true,
           "showland": true,
           "subunitcolor": "white"
          },
          "hoverlabel": {
           "align": "left"
          },
          "hovermode": "closest",
          "mapbox": {
           "style": "light"
          },
          "paper_bgcolor": "white",
          "plot_bgcolor": "#E5ECF6",
          "polar": {
           "angularaxis": {
            "gridcolor": "white",
            "linecolor": "white",
            "ticks": ""
           },
           "bgcolor": "#E5ECF6",
           "radialaxis": {
            "gridcolor": "white",
            "linecolor": "white",
            "ticks": ""
           }
          },
          "scene": {
           "xaxis": {
            "backgroundcolor": "#E5ECF6",
            "gridcolor": "white",
            "gridwidth": 2,
            "linecolor": "white",
            "showbackground": true,
            "ticks": "",
            "zerolinecolor": "white"
           },
           "yaxis": {
            "backgroundcolor": "#E5ECF6",
            "gridcolor": "white",
            "gridwidth": 2,
            "linecolor": "white",
            "showbackground": true,
            "ticks": "",
            "zerolinecolor": "white"
           },
           "zaxis": {
            "backgroundcolor": "#E5ECF6",
            "gridcolor": "white",
            "gridwidth": 2,
            "linecolor": "white",
            "showbackground": true,
            "ticks": "",
            "zerolinecolor": "white"
           }
          },
          "shapedefaults": {
           "line": {
            "color": "#2a3f5f"
           }
          },
          "ternary": {
           "aaxis": {
            "gridcolor": "white",
            "linecolor": "white",
            "ticks": ""
           },
           "baxis": {
            "gridcolor": "white",
            "linecolor": "white",
            "ticks": ""
           },
           "bgcolor": "#E5ECF6",
           "caxis": {
            "gridcolor": "white",
            "linecolor": "white",
            "ticks": ""
           }
          },
          "title": {
           "x": 0.05
          },
          "xaxis": {
           "automargin": true,
           "gridcolor": "white",
           "linecolor": "white",
           "ticks": "",
           "title": {
            "standoff": 15
           },
           "zerolinecolor": "white",
           "zerolinewidth": 2
          },
          "yaxis": {
           "automargin": true,
           "gridcolor": "white",
           "linecolor": "white",
           "ticks": "",
           "title": {
            "standoff": 15
           },
           "zerolinecolor": "white",
           "zerolinewidth": 2
          }
         }
        },
        "width": 1200,
        "xaxis": {
         "anchor": "y",
         "domain": [
          0,
          1
         ],
         "title": {
          "text": "proj_0"
         }
        },
        "yaxis": {
         "anchor": "x",
         "domain": [
          0,
          1
         ],
         "title": {
          "text": "proj_1"
         }
        }
       }
      }
     },
     "metadata": {},
     "output_type": "display_data"
    }
   ],
   "source": [
    "fig = px.scatter(data_frame = library_newtext,\n",
    "                 x='proj_0',\n",
    "                 y='proj_1',\n",
    "                 width=1200,\n",
    "                 height=800,\n",
    "                 color= library_newtext['authorcentury'].astype('category'),\n",
    "                 color_discrete_sequence=px.colors.qualitative.Alphabet, #Dark24\n",
    "                 hover_data= ['title']\n",
    "                 )\n",
    "\n",
    "fig.show()"
   ]
  },
  {
   "cell_type": "code",
   "execution_count": 66,
   "metadata": {},
   "outputs": [],
   "source": [
    "dists = spatial.distance.pdist(library_newtext.drop(columns=['id', 'title', 'author', 'authorcentury', 'proj_0', 'proj_1']).values,  metric='euclidean') #metric = 'cosine'"
   ]
  },
  {
   "cell_type": "code",
   "execution_count": 77,
   "metadata": {},
   "outputs": [
    {
     "data": {
      "text/plain": [
       "259.65915894234223"
      ]
     },
     "execution_count": 77,
     "metadata": {},
     "output_type": "execute_result"
    }
   ],
   "source": [
    "np.mean(dists)"
   ]
  },
  {
   "attachments": {},
   "cell_type": "markdown",
   "metadata": {},
   "source": [
    "note: to find out the dist between two authors, need to get the correct index for dist.\n",
    "\n",
    "for i < j < m (where m = num of authors):\n",
    "\n",
    "index = m * i + j - ((i + 2) * (i + 1)) // 2\n",
    "\n",
    "dists[index]"
   ]
  },
  {
   "attachments": {},
   "cell_type": "markdown",
   "metadata": {},
   "source": [
    "For Lambda, cosine distance:"
   ]
  },
  {
   "cell_type": "code",
   "execution_count": 67,
   "metadata": {},
   "outputs": [],
   "source": [
    "m = library_newtext.shape[0]\n",
    "j = m-2\n",
    "\n",
    "cos_dist = []\n",
    "titles = []\n",
    "authors = []\n",
    "\n",
    "for i in range(j):\n",
    "    titles.append(library_newtext['title'].iloc[i])\n",
    "    authors.append(library_newtext['author'].iloc[i])\n",
    "    cos_dist.append(dists[m * i + j - ((i + 2) * (i + 1)) // 2])"
   ]
  },
  {
   "cell_type": "code",
   "execution_count": 68,
   "metadata": {},
   "outputs": [
    {
     "data": {
      "text/html": [
       "<div>\n",
       "<style scoped>\n",
       "    .dataframe tbody tr th:only-of-type {\n",
       "        vertical-align: middle;\n",
       "    }\n",
       "\n",
       "    .dataframe tbody tr th {\n",
       "        vertical-align: top;\n",
       "    }\n",
       "\n",
       "    .dataframe thead th {\n",
       "        text-align: right;\n",
       "    }\n",
       "</style>\n",
       "<table border=\"1\" class=\"dataframe\">\n",
       "  <thead>\n",
       "    <tr style=\"text-align: right;\">\n",
       "      <th></th>\n",
       "      <th>title</th>\n",
       "      <th>author</th>\n",
       "      <th>Deathway</th>\n",
       "    </tr>\n",
       "  </thead>\n",
       "  <tbody>\n",
       "    <tr>\n",
       "      <th>155</th>\n",
       "      <td>Dickory Cronke: The Dumb Philosopher, or, Grea...</td>\n",
       "      <td>Defoe, Daniel</td>\n",
       "      <td>64.580838</td>\n",
       "    </tr>\n",
       "    <tr>\n",
       "      <th>426</th>\n",
       "      <td>The Friendly Daemon, or the Generous Apparitio...</td>\n",
       "      <td>Defoe, Daniel</td>\n",
       "      <td>67.806888</td>\n",
       "    </tr>\n",
       "    <tr>\n",
       "      <th>289</th>\n",
       "      <td>Augusta Triumphans: Or, the Way to Make London...</td>\n",
       "      <td>Defoe, Daniel</td>\n",
       "      <td>68.956168</td>\n",
       "    </tr>\n",
       "    <tr>\n",
       "      <th>534</th>\n",
       "      <td>The Black Tulip</td>\n",
       "      <td>Dumas, Alexandre</td>\n",
       "      <td>70.562467</td>\n",
       "    </tr>\n",
       "    <tr>\n",
       "      <th>56</th>\n",
       "      <td>The History of the Remarkable Life of John She...</td>\n",
       "      <td>Defoe, Daniel</td>\n",
       "      <td>70.836092</td>\n",
       "    </tr>\n",
       "    <tr>\n",
       "      <th>459</th>\n",
       "      <td>King Leopold's Soliloquy: A Defense of His Con...</td>\n",
       "      <td>Twain, Mark</td>\n",
       "      <td>71.016953</td>\n",
       "    </tr>\n",
       "    <tr>\n",
       "      <th>288</th>\n",
       "      <td>Second Thoughts are Best: Or a Further Improve...</td>\n",
       "      <td>Defoe, Daniel</td>\n",
       "      <td>71.269292</td>\n",
       "    </tr>\n",
       "    <tr>\n",
       "      <th>309</th>\n",
       "      <td>And What if the Pretender should Come?: Or Som...</td>\n",
       "      <td>Defoe, Daniel</td>\n",
       "      <td>72.189738</td>\n",
       "    </tr>\n",
       "    <tr>\n",
       "      <th>156</th>\n",
       "      <td>Everybody's Business Is Nobody's Business: Or,...</td>\n",
       "      <td>Defoe, Daniel</td>\n",
       "      <td>72.516219</td>\n",
       "    </tr>\n",
       "    <tr>\n",
       "      <th>305</th>\n",
       "      <td>Reasons Against the Succession of the House of...</td>\n",
       "      <td>Defoe, Daniel</td>\n",
       "      <td>72.768133</td>\n",
       "    </tr>\n",
       "  </tbody>\n",
       "</table>\n",
       "</div>"
      ],
      "text/plain": [
       "                                                 title            author  \\\n",
       "155  Dickory Cronke: The Dumb Philosopher, or, Grea...     Defoe, Daniel   \n",
       "426  The Friendly Daemon, or the Generous Apparitio...     Defoe, Daniel   \n",
       "289  Augusta Triumphans: Or, the Way to Make London...     Defoe, Daniel   \n",
       "534                                    The Black Tulip  Dumas, Alexandre   \n",
       "56   The History of the Remarkable Life of John She...     Defoe, Daniel   \n",
       "459  King Leopold's Soliloquy: A Defense of His Con...       Twain, Mark   \n",
       "288  Second Thoughts are Best: Or a Further Improve...     Defoe, Daniel   \n",
       "309  And What if the Pretender should Come?: Or Som...     Defoe, Daniel   \n",
       "156  Everybody's Business Is Nobody's Business: Or,...     Defoe, Daniel   \n",
       "305  Reasons Against the Succession of the House of...     Defoe, Daniel   \n",
       "\n",
       "      Deathway  \n",
       "155  64.580838  \n",
       "426  67.806888  \n",
       "289  68.956168  \n",
       "534  70.562467  \n",
       "56   70.836092  \n",
       "459  71.016953  \n",
       "288  71.269292  \n",
       "309  72.189738  \n",
       "156  72.516219  \n",
       "305  72.768133  "
      ]
     },
     "execution_count": 68,
     "metadata": {},
     "output_type": "execute_result"
    }
   ],
   "source": [
    "pd.concat([pd.DataFrame({'title':titles}),\n",
    "           pd.DataFrame({'author':authors}),\n",
    "           pd.DataFrame({'Deathway':cos_dist})],\n",
    "           axis=1).sort_values(by='Deathway', ascending=True).head(10)"
   ]
  },
  {
   "attachments": {},
   "cell_type": "markdown",
   "metadata": {},
   "source": [
    "For Deathway, cosine distance:"
   ]
  },
  {
   "cell_type": "code",
   "execution_count": 69,
   "metadata": {},
   "outputs": [],
   "source": [
    "m = library_newtext.shape[0]\n",
    "j = m-1\n",
    "\n",
    "cos_dist = []\n",
    "titles = []\n",
    "authors = []\n",
    "\n",
    "for i in range(j):\n",
    "    titles.append(library_newtext['title'].iloc[i])\n",
    "    authors.append(library_newtext['author'].iloc[i])\n",
    "    cos_dist.append(dists[m * i + j - ((i + 2) * (i + 1)) // 2])"
   ]
  },
  {
   "cell_type": "code",
   "execution_count": 76,
   "metadata": {},
   "outputs": [
    {
     "data": {
      "text/html": [
       "<div>\n",
       "<style scoped>\n",
       "    .dataframe tbody tr th:only-of-type {\n",
       "        vertical-align: middle;\n",
       "    }\n",
       "\n",
       "    .dataframe tbody tr th {\n",
       "        vertical-align: top;\n",
       "    }\n",
       "\n",
       "    .dataframe thead th {\n",
       "        text-align: right;\n",
       "    }\n",
       "</style>\n",
       "<table border=\"1\" class=\"dataframe\">\n",
       "  <thead>\n",
       "    <tr style=\"text-align: right;\">\n",
       "      <th></th>\n",
       "      <th>title</th>\n",
       "      <th>author</th>\n",
       "      <th>Deathway</th>\n",
       "    </tr>\n",
       "  </thead>\n",
       "  <tbody>\n",
       "    <tr>\n",
       "      <th>338</th>\n",
       "      <td>The Storm. An Essay.</td>\n",
       "      <td>Defoe, Daniel</td>\n",
       "      <td>41.200271</td>\n",
       "    </tr>\n",
       "    <tr>\n",
       "      <th>426</th>\n",
       "      <td>The Friendly Daemon, or the Generous Apparitio...</td>\n",
       "      <td>Defoe, Daniel</td>\n",
       "      <td>41.695747</td>\n",
       "    </tr>\n",
       "    <tr>\n",
       "      <th>530</th>\n",
       "      <td>To Be Read at Dusk</td>\n",
       "      <td>Dickens, Charles</td>\n",
       "      <td>42.434961</td>\n",
       "    </tr>\n",
       "    <tr>\n",
       "      <th>482</th>\n",
       "      <td>Mr. Keegan's Elopement</td>\n",
       "      <td>Churchill, Winston</td>\n",
       "      <td>44.208322</td>\n",
       "    </tr>\n",
       "    <tr>\n",
       "      <th>304</th>\n",
       "      <td>A True Relation of the Apparition of one Mrs. ...</td>\n",
       "      <td>Defoe, Daniel</td>\n",
       "      <td>44.237304</td>\n",
       "    </tr>\n",
       "    <tr>\n",
       "      <th>265</th>\n",
       "      <td>A Dog's Tale</td>\n",
       "      <td>Twain, Mark</td>\n",
       "      <td>46.339217</td>\n",
       "    </tr>\n",
       "    <tr>\n",
       "      <th>58</th>\n",
       "      <td>A Message from the Sea</td>\n",
       "      <td>Dickens, Charles</td>\n",
       "      <td>46.601563</td>\n",
       "    </tr>\n",
       "    <tr>\n",
       "      <th>144</th>\n",
       "      <td>Extracts from Adam's Diary, translated from th...</td>\n",
       "      <td>Twain, Mark</td>\n",
       "      <td>46.861355</td>\n",
       "    </tr>\n",
       "    <tr>\n",
       "      <th>198</th>\n",
       "      <td>On the Decay of the Art of Lying</td>\n",
       "      <td>Twain, Mark</td>\n",
       "      <td>47.461231</td>\n",
       "    </tr>\n",
       "    <tr>\n",
       "      <th>178</th>\n",
       "      <td>The Magic Fishbone: A Holiday Romance from the...</td>\n",
       "      <td>Dickens, Charles</td>\n",
       "      <td>47.957887</td>\n",
       "    </tr>\n",
       "    <tr>\n",
       "      <th>512</th>\n",
       "      <td>Hunted Down: The Detective Stories of Charles ...</td>\n",
       "      <td>Dickens, Charles</td>\n",
       "      <td>48.502679</td>\n",
       "    </tr>\n",
       "    <tr>\n",
       "      <th>346</th>\n",
       "      <td>A Child's Dream of a Star</td>\n",
       "      <td>Dickens, Charles</td>\n",
       "      <td>48.508010</td>\n",
       "    </tr>\n",
       "    <tr>\n",
       "      <th>67</th>\n",
       "      <td>The Wreck of the Golden Mary</td>\n",
       "      <td>Dickens, Charles</td>\n",
       "      <td>49.215924</td>\n",
       "    </tr>\n",
       "    <tr>\n",
       "      <th>309</th>\n",
       "      <td>And What if the Pretender should Come?: Or Som...</td>\n",
       "      <td>Defoe, Daniel</td>\n",
       "      <td>49.223831</td>\n",
       "    </tr>\n",
       "    <tr>\n",
       "      <th>485</th>\n",
       "      <td>He</td>\n",
       "      <td>Lovecraft, H. P. (Howard Phillips)</td>\n",
       "      <td>49.282085</td>\n",
       "    </tr>\n",
       "    <tr>\n",
       "      <th>388</th>\n",
       "      <td>The Vision of Dante: A story for little childr...</td>\n",
       "      <td>Dante Alighieri</td>\n",
       "      <td>49.283617</td>\n",
       "    </tr>\n",
       "    <tr>\n",
       "      <th>538</th>\n",
       "      <td>Lambda</td>\n",
       "      <td>Umer, Tomo</td>\n",
       "      <td>49.703797</td>\n",
       "    </tr>\n",
       "    <tr>\n",
       "      <th>305</th>\n",
       "      <td>Reasons Against the Succession of the House of...</td>\n",
       "      <td>Defoe, Daniel</td>\n",
       "      <td>50.239640</td>\n",
       "    </tr>\n",
       "    <tr>\n",
       "      <th>110</th>\n",
       "      <td>Euthyphro</td>\n",
       "      <td>Plato</td>\n",
       "      <td>50.292472</td>\n",
       "    </tr>\n",
       "    <tr>\n",
       "      <th>206</th>\n",
       "      <td>The Flying Doctor: (Le Médecin Volant)</td>\n",
       "      <td>Molière</td>\n",
       "      <td>50.458664</td>\n",
       "    </tr>\n",
       "  </tbody>\n",
       "</table>\n",
       "</div>"
      ],
      "text/plain": [
       "                                                 title  \\\n",
       "338                               The Storm. An Essay.   \n",
       "426  The Friendly Daemon, or the Generous Apparitio...   \n",
       "530                                 To Be Read at Dusk   \n",
       "482                             Mr. Keegan's Elopement   \n",
       "304  A True Relation of the Apparition of one Mrs. ...   \n",
       "265                                       A Dog's Tale   \n",
       "58                              A Message from the Sea   \n",
       "144  Extracts from Adam's Diary, translated from th...   \n",
       "198                   On the Decay of the Art of Lying   \n",
       "178  The Magic Fishbone: A Holiday Romance from the...   \n",
       "512  Hunted Down: The Detective Stories of Charles ...   \n",
       "346                          A Child's Dream of a Star   \n",
       "67                        The Wreck of the Golden Mary   \n",
       "309  And What if the Pretender should Come?: Or Som...   \n",
       "485                                                 He   \n",
       "388  The Vision of Dante: A story for little childr...   \n",
       "538                                             Lambda   \n",
       "305  Reasons Against the Succession of the House of...   \n",
       "110                                          Euthyphro   \n",
       "206             The Flying Doctor: (Le Médecin Volant)   \n",
       "\n",
       "                                 author   Deathway  \n",
       "338                       Defoe, Daniel  41.200271  \n",
       "426                       Defoe, Daniel  41.695747  \n",
       "530                    Dickens, Charles  42.434961  \n",
       "482                  Churchill, Winston  44.208322  \n",
       "304                       Defoe, Daniel  44.237304  \n",
       "265                         Twain, Mark  46.339217  \n",
       "58                     Dickens, Charles  46.601563  \n",
       "144                         Twain, Mark  46.861355  \n",
       "198                         Twain, Mark  47.461231  \n",
       "178                    Dickens, Charles  47.957887  \n",
       "512                    Dickens, Charles  48.502679  \n",
       "346                    Dickens, Charles  48.508010  \n",
       "67                     Dickens, Charles  49.215924  \n",
       "309                       Defoe, Daniel  49.223831  \n",
       "485  Lovecraft, H. P. (Howard Phillips)  49.282085  \n",
       "388                     Dante Alighieri  49.283617  \n",
       "538                          Umer, Tomo  49.703797  \n",
       "305                       Defoe, Daniel  50.239640  \n",
       "110                               Plato  50.292472  \n",
       "206                             Molière  50.458664  "
      ]
     },
     "execution_count": 76,
     "metadata": {},
     "output_type": "execute_result"
    }
   ],
   "source": [
    "# Lambda is of course the most similar ... if wanted, simply do a .drop(538) on all 3 dataframes\n",
    "pd.concat([pd.DataFrame({'title':titles}),\n",
    "           pd.DataFrame({'author':authors}),\n",
    "           pd.DataFrame({'Deathway':cos_dist})],\n",
    "           axis=1).sort_values(by='Deathway', ascending=True).head(20)"
   ]
  },
  {
   "cell_type": "code",
   "execution_count": null,
   "metadata": {},
   "outputs": [],
   "source": []
  }
 ],
 "metadata": {
  "kernelspec": {
   "display_name": "base",
   "language": "python",
   "name": "python3"
  },
  "language_info": {
   "codemirror_mode": {
    "name": "ipython",
    "version": 3
   },
   "file_extension": ".py",
   "mimetype": "text/x-python",
   "name": "python",
   "nbconvert_exporter": "python",
   "pygments_lexer": "ipython3",
   "version": "3.9.12"
  },
  "orig_nbformat": 4
 },
 "nbformat": 4,
 "nbformat_minor": 2
}
