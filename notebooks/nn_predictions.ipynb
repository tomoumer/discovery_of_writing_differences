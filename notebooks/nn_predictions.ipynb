{
 "cells": [
  {
   "attachments": {},
   "cell_type": "markdown",
   "metadata": {},
   "source": [
    "# Discovery of Writing Differences - Neural Networks Representation\n",
    "\n",
    "Capstone project by Tomo Umer"
   ]
  },
  {
   "attachments": {},
   "cell_type": "markdown",
   "metadata": {},
   "source": [
    "<img src=\"https://tomoumerdotcom.files.wordpress.com/2022/04/cropped-pho_logo_notext.png\" alt=\"PRAISE DOG\" style=\"width:400px;height:400px;\"/>"
   ]
  },
  {
   "attachments": {},
   "cell_type": "markdown",
   "metadata": {},
   "source": [
    "## Imports"
   ]
  },
  {
   "cell_type": "code",
   "execution_count": 1,
   "metadata": {},
   "outputs": [],
   "source": [
    "import pandas as pd\n",
    "import numpy as np\n",
    "import re\n",
    "import glob\n",
    "import plotly.express as px\n",
    "import pickle\n",
    "\n",
    "from sklearn.model_selection import train_test_split\n",
    "from sklearn.metrics import accuracy_score, confusion_matrix, classification_report\n",
    "from sklearn.feature_extraction.text import TfidfVectorizer\n",
    "from sklearn.linear_model import LogisticRegression\n",
    "from sklearn.pipeline import Pipeline\n",
    "\n",
    "\n",
    "import matplotlib.pyplot as plt\n",
    "import seaborn as sns\n",
    "from sklearn.neural_network import MLPClassifier, MLPRegressor\n",
    "from sklearn.preprocessing import MaxAbsScaler\n",
    "from copy import deepcopy\n",
    "\n",
    "import umap\n",
    "from scipy import spatial\n",
    "from scipy.cluster.hierarchy import linkage, dendrogram"
   ]
  },
  {
   "attachments": {},
   "cell_type": "markdown",
   "metadata": {},
   "source": [
    "## Reading In the Library and Prep for NN\n",
    "\n",
    "In this part, reading the .pkl file. "
   ]
  },
  {
   "cell_type": "code",
   "execution_count": 2,
   "metadata": {},
   "outputs": [],
   "source": [
    "library_select = pd.read_pickle('../data/library_select01.pkl')"
   ]
  },
  {
   "cell_type": "code",
   "execution_count": 3,
   "metadata": {},
   "outputs": [
    {
     "data": {
      "text/plain": [
       "(651, 12)"
      ]
     },
     "execution_count": 3,
     "metadata": {},
     "output_type": "execute_result"
    }
   ],
   "source": [
    "library_select.shape"
   ]
  },
  {
   "attachments": {},
   "cell_type": "markdown",
   "metadata": {},
   "source": [
    "Next, extract authors, create dictionary to convert authors name to numeric values (for predictions) and add a column with that."
   ]
  },
  {
   "cell_type": "code",
   "execution_count": 4,
   "metadata": {},
   "outputs": [],
   "source": [
    "select_authors = list(library_select.sort_values(by='authorcentury')['author'].unique())\n",
    "\n",
    "authors_to_num = {select_authors[i]: i for i in range(len(select_authors))}\n",
    "#num_to_authors = {v: k for k, v in authors_to_num.items()}\n",
    "\n",
    "library_select['author_num'] = library_select['author'].map(authors_to_num)"
   ]
  },
  {
   "attachments": {},
   "cell_type": "markdown",
   "metadata": {},
   "source": [
    "## Sklearn NN\n",
    "\n",
    "First round of neural network analysis, using sklearn."
   ]
  },
  {
   "cell_type": "code",
   "execution_count": 5,
   "metadata": {},
   "outputs": [],
   "source": [
    "X = library_select[['book_content']]\n",
    "y = library_select['author_num']\n",
    "\n",
    "X_train, X_test, y_train, y_test = train_test_split(X, y, random_state = 42, stratify = y)"
   ]
  },
  {
   "cell_type": "code",
   "execution_count": 6,
   "metadata": {},
   "outputs": [],
   "source": [
    "pipe_nn = Pipeline(\n",
    "    steps = [\n",
    "        ('vect', TfidfVectorizer(min_df=2, max_df=0.8, ngram_range=(1,2))),\n",
    "        ('scaler', MaxAbsScaler()),  #this is needed in order to make it converge in a reasonable time!\n",
    "        ('nn', MLPClassifier(verbose = True,\n",
    "                             hidden_layer_sizes = (100, 100),\n",
    "                             #activation = 'relu',\n",
    "                             #max_iter = 10000,\n",
    "                             #alpha=0.05\n",
    "                             ))\n",
    "    ]\n",
    ")"
   ]
  },
  {
   "cell_type": "code",
   "execution_count": 8,
   "metadata": {},
   "outputs": [
    {
     "name": "stdout",
     "output_type": "stream",
     "text": [
      "Iteration 1, loss = 2.05760069\n",
      "Iteration 2, loss = 0.21752568\n",
      "Iteration 3, loss = 0.04001671\n",
      "Iteration 4, loss = 0.01544992\n",
      "Iteration 5, loss = 0.01075980\n",
      "Iteration 6, loss = 0.00938157\n",
      "Iteration 7, loss = 0.00869037\n",
      "Iteration 8, loss = 0.00810409\n",
      "Iteration 9, loss = 0.00770447\n",
      "Iteration 10, loss = 0.00711750\n",
      "Iteration 11, loss = 0.00670056\n",
      "Iteration 12, loss = 0.00627428\n",
      "Iteration 13, loss = 0.00583835\n",
      "Iteration 14, loss = 0.00546611\n",
      "Iteration 15, loss = 0.00517065\n",
      "Iteration 16, loss = 0.00482834\n",
      "Iteration 17, loss = 0.00443677\n",
      "Iteration 18, loss = 0.00418134\n",
      "Iteration 19, loss = 0.00397561\n",
      "Iteration 20, loss = 0.00369328\n",
      "Iteration 21, loss = 0.00362501\n",
      "Iteration 22, loss = 0.00345571\n",
      "Iteration 23, loss = 0.00344258\n",
      "Iteration 24, loss = 0.00349978\n",
      "Iteration 25, loss = 0.00337683\n",
      "Iteration 26, loss = 0.00316837\n",
      "Iteration 27, loss = 0.00306236\n",
      "Iteration 28, loss = 0.00296979\n",
      "Iteration 29, loss = 0.00283702\n",
      "Iteration 30, loss = 0.00278364\n"
     ]
    },
    {
     "name": "stderr",
     "output_type": "stream",
     "text": [
      "/Users/tomoumer/opt/anaconda3/lib/python3.9/site-packages/sklearn/neural_network/_multilayer_perceptron.py:691: UserWarning: Training interrupted by user.\n",
      "  warnings.warn(\"Training interrupted by user.\")\n"
     ]
    },
    {
     "ename": "KeyboardInterrupt",
     "evalue": "",
     "output_type": "error",
     "traceback": [
      "\u001b[0;31m---------------------------------------------------------------------------\u001b[0m",
      "\u001b[0;31mKeyError\u001b[0m                                  Traceback (most recent call last)",
      "File \u001b[0;32m~/opt/anaconda3/lib/python3.9/site-packages/sklearn/feature_extraction/text.py:1276\u001b[0m, in \u001b[0;36mCountVectorizer._count_vocab\u001b[0;34m(self, raw_documents, fixed_vocab)\u001b[0m\n\u001b[1;32m   1275\u001b[0m \u001b[39mtry\u001b[39;00m:\n\u001b[0;32m-> 1276\u001b[0m     feature_idx \u001b[39m=\u001b[39m vocabulary[feature]\n\u001b[1;32m   1277\u001b[0m     \u001b[39mif\u001b[39;00m feature_idx \u001b[39mnot\u001b[39;00m \u001b[39min\u001b[39;00m feature_counter:\n",
      "\u001b[0;31mKeyError\u001b[0m: 'give'",
      "\nDuring handling of the above exception, another exception occurred:\n",
      "\u001b[0;31mKeyboardInterrupt\u001b[0m                         Traceback (most recent call last)",
      "Cell \u001b[0;32mIn[8], line 11\u001b[0m\n\u001b[1;32m      1\u001b[0m \u001b[39m# pipe_nn.fit(X_train['book_content'], y_train)\u001b[39;00m\n\u001b[1;32m      2\u001b[0m \u001b[39m# y_pred = pipe_nn.predict(X_test['book_content'])\u001b[39;00m\n\u001b[1;32m      3\u001b[0m \n\u001b[0;32m   (...)\u001b[0m\n\u001b[1;32m      7\u001b[0m \u001b[39m# print('-------- classification report ---------')\u001b[39;00m\n\u001b[1;32m      8\u001b[0m \u001b[39m# print(classification_report(y_test, y_pred))\u001b[39;00m\n\u001b[1;32m     10\u001b[0m pipe_nn\u001b[39m.\u001b[39mfit(X[\u001b[39m'\u001b[39m\u001b[39mbook_content\u001b[39m\u001b[39m'\u001b[39m], y)\n\u001b[0;32m---> 11\u001b[0m y_pred \u001b[39m=\u001b[39m pipe_nn\u001b[39m.\u001b[39;49mpredict(X[\u001b[39m'\u001b[39;49m\u001b[39mbook_content\u001b[39;49m\u001b[39m'\u001b[39;49m])\n\u001b[1;32m     13\u001b[0m \u001b[39mprint\u001b[39m(\u001b[39m'\u001b[39m\u001b[39maccuracy score:\u001b[39m\u001b[39m'\u001b[39m, accuracy_score(y, y_pred), \u001b[39m'\u001b[39m\u001b[39m\\n\u001b[39;00m\u001b[39m'\u001b[39m)\n\u001b[1;32m     14\u001b[0m \u001b[39mprint\u001b[39m(\u001b[39m'\u001b[39m\u001b[39m----- confusion matrix ------\u001b[39m\u001b[39m'\u001b[39m)\n",
      "File \u001b[0;32m~/opt/anaconda3/lib/python3.9/site-packages/sklearn/pipeline.py:480\u001b[0m, in \u001b[0;36mPipeline.predict\u001b[0;34m(self, X, **predict_params)\u001b[0m\n\u001b[1;32m    478\u001b[0m Xt \u001b[39m=\u001b[39m X\n\u001b[1;32m    479\u001b[0m \u001b[39mfor\u001b[39;00m _, name, transform \u001b[39min\u001b[39;00m \u001b[39mself\u001b[39m\u001b[39m.\u001b[39m_iter(with_final\u001b[39m=\u001b[39m\u001b[39mFalse\u001b[39;00m):\n\u001b[0;32m--> 480\u001b[0m     Xt \u001b[39m=\u001b[39m transform\u001b[39m.\u001b[39;49mtransform(Xt)\n\u001b[1;32m    481\u001b[0m \u001b[39mreturn\u001b[39;00m \u001b[39mself\u001b[39m\u001b[39m.\u001b[39msteps[\u001b[39m-\u001b[39m\u001b[39m1\u001b[39m][\u001b[39m1\u001b[39m]\u001b[39m.\u001b[39mpredict(Xt, \u001b[39m*\u001b[39m\u001b[39m*\u001b[39mpredict_params)\n",
      "File \u001b[0;32m~/opt/anaconda3/lib/python3.9/site-packages/sklearn/feature_extraction/text.py:2155\u001b[0m, in \u001b[0;36mTfidfVectorizer.transform\u001b[0;34m(self, raw_documents)\u001b[0m\n\u001b[1;32m   2138\u001b[0m \u001b[39m\"\"\"Transform documents to document-term matrix.\u001b[39;00m\n\u001b[1;32m   2139\u001b[0m \n\u001b[1;32m   2140\u001b[0m \u001b[39mUses the vocabulary and document frequencies (df) learned by fit (or\u001b[39;00m\n\u001b[0;32m   (...)\u001b[0m\n\u001b[1;32m   2151\u001b[0m \u001b[39m    Tf-idf-weighted document-term matrix.\u001b[39;00m\n\u001b[1;32m   2152\u001b[0m \u001b[39m\"\"\"\u001b[39;00m\n\u001b[1;32m   2153\u001b[0m check_is_fitted(\u001b[39mself\u001b[39m, msg\u001b[39m=\u001b[39m\u001b[39m\"\u001b[39m\u001b[39mThe TF-IDF vectorizer is not fitted\u001b[39m\u001b[39m\"\u001b[39m)\n\u001b[0;32m-> 2155\u001b[0m X \u001b[39m=\u001b[39m \u001b[39msuper\u001b[39;49m()\u001b[39m.\u001b[39;49mtransform(raw_documents)\n\u001b[1;32m   2156\u001b[0m \u001b[39mreturn\u001b[39;00m \u001b[39mself\u001b[39m\u001b[39m.\u001b[39m_tfidf\u001b[39m.\u001b[39mtransform(X, copy\u001b[39m=\u001b[39m\u001b[39mFalse\u001b[39;00m)\n",
      "File \u001b[0;32m~/opt/anaconda3/lib/python3.9/site-packages/sklearn/feature_extraction/text.py:1432\u001b[0m, in \u001b[0;36mCountVectorizer.transform\u001b[0;34m(self, raw_documents)\u001b[0m\n\u001b[1;32m   1429\u001b[0m \u001b[39mself\u001b[39m\u001b[39m.\u001b[39m_check_vocabulary()\n\u001b[1;32m   1431\u001b[0m \u001b[39m# use the same matrix-building strategy as fit_transform\u001b[39;00m\n\u001b[0;32m-> 1432\u001b[0m _, X \u001b[39m=\u001b[39m \u001b[39mself\u001b[39;49m\u001b[39m.\u001b[39;49m_count_vocab(raw_documents, fixed_vocab\u001b[39m=\u001b[39;49m\u001b[39mTrue\u001b[39;49;00m)\n\u001b[1;32m   1433\u001b[0m \u001b[39mif\u001b[39;00m \u001b[39mself\u001b[39m\u001b[39m.\u001b[39mbinary:\n\u001b[1;32m   1434\u001b[0m     X\u001b[39m.\u001b[39mdata\u001b[39m.\u001b[39mfill(\u001b[39m1\u001b[39m)\n",
      "File \u001b[0;32m~/opt/anaconda3/lib/python3.9/site-packages/sklearn/feature_extraction/text.py:1276\u001b[0m, in \u001b[0;36mCountVectorizer._count_vocab\u001b[0;34m(self, raw_documents, fixed_vocab)\u001b[0m\n\u001b[1;32m   1274\u001b[0m \u001b[39mfor\u001b[39;00m feature \u001b[39min\u001b[39;00m analyze(doc):\n\u001b[1;32m   1275\u001b[0m     \u001b[39mtry\u001b[39;00m:\n\u001b[0;32m-> 1276\u001b[0m         feature_idx \u001b[39m=\u001b[39m vocabulary[feature]\n\u001b[1;32m   1277\u001b[0m         \u001b[39mif\u001b[39;00m feature_idx \u001b[39mnot\u001b[39;00m \u001b[39min\u001b[39;00m feature_counter:\n\u001b[1;32m   1278\u001b[0m             feature_counter[feature_idx] \u001b[39m=\u001b[39m \u001b[39m1\u001b[39m\n",
      "\u001b[0;31mKeyboardInterrupt\u001b[0m: "
     ]
    }
   ],
   "source": [
    "# pipe_nn.fit(X_train['book_content'], y_train)\n",
    "y_pred = pipe_nn.predict(X_test['book_content'])\n",
    "\n",
    "print('accuracy score:', accuracy_score(y_test, y_pred), '\\n')\n",
    "print('----- confusion matrix ------')\n",
    "print(confusion_matrix(y_test, y_pred), '\\n')\n",
    "print('-------- classification report ---------')\n",
    "print(classification_report(y_test, y_pred))\n",
    "\n",
    "# this below ran for almost 2 hours and didn't finish yet...\n",
    "# pipe_nn.fit(X['book_content'], y)\n",
    "# y_pred = pipe_nn.predict(X['book_content'])\n",
    "\n",
    "# print('accuracy score:', accuracy_score(y, y_pred), '\\n')\n",
    "# print('----- confusion matrix ------')\n",
    "# print(confusion_matrix(y, y_pred), '\\n')\n",
    "# print('-------- classification report ---------')\n",
    "# print(classification_report(y, y_pred))"
   ]
  },
  {
   "cell_type": "code",
   "execution_count": 10,
   "metadata": {},
   "outputs": [
    {
     "data": {
      "application/vnd.plotly.v1+json": {
       "config": {
        "plotlyServerURL": "https://plot.ly"
       },
       "data": [
        {
         "coloraxis": "coloraxis",
         "hovertemplate": "Predicted Label: %{x}<br>True Label: %{y}<br>color: %{z}<extra></extra>",
         "name": "0",
         "texttemplate": "%{z}",
         "type": "heatmap",
         "x": [
          "Homer",
          "Confucius",
          "Plato",
          "Cicero, Marcus Tullius",
          "Seneca, Lucius Annaeus",
          "Marcus Aurelius, Emperor of Rome",
          "Dante Alighieri",
          "Boccaccio, Giovanni",
          "Machiavelli, Niccolò",
          "Shakespeare, William",
          "Molière",
          "Defoe, Daniel",
          "Jefferson, Thomas",
          "Austen, Jane",
          "Dickens, Charles",
          "Dumas, Alexandre",
          "Doyle, Arthur Conan",
          "Twain, Mark",
          "Lovecraft, H. P. (Howard Phillips)",
          "Churchill, Winston",
          "Dick, Philip K.",
          "Huxley, Aldous"
         ],
         "xaxis": "x",
         "y": [
          "Homer",
          "Confucius",
          "Plato",
          "Cicero, Marcus Tullius",
          "Seneca, Lucius Annaeus",
          "Marcus Aurelius, Emperor of Rome",
          "Dante Alighieri",
          "Boccaccio, Giovanni",
          "Machiavelli, Niccolò",
          "Shakespeare, William",
          "Molière",
          "Defoe, Daniel",
          "Jefferson, Thomas",
          "Austen, Jane",
          "Dickens, Charles",
          "Dumas, Alexandre",
          "Doyle, Arthur Conan",
          "Twain, Mark",
          "Lovecraft, H. P. (Howard Phillips)",
          "Churchill, Winston",
          "Dick, Philip K.",
          "Huxley, Aldous"
         ],
         "yaxis": "y",
         "z": [
          [
           14,
           0,
           0,
           0,
           0,
           0,
           0,
           0,
           0,
           0,
           0,
           0,
           0,
           0,
           0,
           0,
           0,
           0,
           0,
           0,
           0,
           0
          ],
          [
           0,
           5,
           0,
           0,
           0,
           0,
           0,
           0,
           0,
           0,
           0,
           0,
           0,
           0,
           0,
           0,
           0,
           0,
           0,
           0,
           0,
           0
          ],
          [
           0,
           0,
           33,
           0,
           0,
           0,
           0,
           0,
           0,
           0,
           0,
           0,
           0,
           0,
           0,
           0,
           0,
           0,
           0,
           0,
           0,
           0
          ],
          [
           0,
           0,
           0,
           14,
           0,
           0,
           0,
           0,
           0,
           0,
           0,
           0,
           0,
           0,
           0,
           0,
           0,
           0,
           0,
           0,
           0,
           0
          ],
          [
           0,
           0,
           0,
           0,
           7,
           0,
           0,
           0,
           0,
           0,
           0,
           0,
           0,
           0,
           0,
           0,
           0,
           0,
           0,
           0,
           0,
           0
          ],
          [
           0,
           0,
           0,
           0,
           0,
           5,
           0,
           0,
           0,
           0,
           0,
           0,
           0,
           0,
           0,
           0,
           0,
           0,
           0,
           0,
           0,
           0
          ],
          [
           0,
           0,
           0,
           0,
           0,
           0,
           19,
           0,
           0,
           0,
           0,
           0,
           0,
           0,
           0,
           0,
           0,
           0,
           0,
           0,
           0,
           0
          ],
          [
           0,
           0,
           0,
           0,
           0,
           0,
           0,
           6,
           0,
           0,
           0,
           0,
           0,
           0,
           0,
           0,
           0,
           0,
           0,
           0,
           0,
           0
          ],
          [
           0,
           0,
           0,
           0,
           0,
           0,
           0,
           0,
           5,
           0,
           0,
           0,
           0,
           0,
           0,
           0,
           0,
           0,
           0,
           0,
           0,
           0
          ],
          [
           0,
           0,
           0,
           0,
           0,
           0,
           0,
           0,
           0,
           70,
           0,
           0,
           0,
           0,
           0,
           0,
           0,
           0,
           0,
           0,
           0,
           0
          ],
          [
           0,
           0,
           0,
           0,
           0,
           0,
           0,
           0,
           0,
           0,
           18,
           0,
           0,
           0,
           0,
           0,
           0,
           0,
           0,
           0,
           0,
           0
          ],
          [
           0,
           0,
           0,
           0,
           0,
           0,
           0,
           0,
           0,
           0,
           0,
           45,
           0,
           0,
           0,
           0,
           0,
           0,
           0,
           0,
           0,
           0
          ],
          [
           0,
           0,
           0,
           0,
           0,
           0,
           0,
           0,
           0,
           0,
           0,
           0,
           19,
           0,
           0,
           0,
           0,
           0,
           0,
           0,
           0,
           0
          ],
          [
           0,
           0,
           0,
           0,
           0,
           0,
           0,
           0,
           0,
           0,
           0,
           0,
           0,
           14,
           0,
           0,
           0,
           0,
           0,
           0,
           0,
           0
          ],
          [
           0,
           0,
           0,
           0,
           0,
           0,
           0,
           0,
           0,
           0,
           0,
           0,
           0,
           0,
           70,
           0,
           0,
           0,
           0,
           0,
           0,
           0
          ],
          [
           0,
           0,
           0,
           0,
           0,
           0,
           0,
           0,
           0,
           0,
           0,
           0,
           0,
           0,
           0,
           63,
           0,
           0,
           0,
           0,
           0,
           0
          ],
          [
           0,
           0,
           0,
           0,
           0,
           0,
           0,
           0,
           0,
           0,
           0,
           0,
           0,
           0,
           0,
           0,
           70,
           0,
           0,
           0,
           0,
           0
          ],
          [
           0,
           0,
           0,
           0,
           0,
           0,
           0,
           0,
           0,
           0,
           0,
           0,
           0,
           0,
           0,
           0,
           0,
           70,
           0,
           0,
           0,
           0
          ],
          [
           0,
           0,
           0,
           0,
           0,
           0,
           0,
           0,
           0,
           0,
           0,
           0,
           0,
           0,
           0,
           0,
           0,
           0,
           8,
           0,
           0,
           0
          ],
          [
           0,
           0,
           0,
           0,
           0,
           0,
           0,
           0,
           0,
           0,
           0,
           0,
           0,
           0,
           0,
           0,
           0,
           0,
           0,
           70,
           0,
           0
          ],
          [
           0,
           0,
           0,
           0,
           0,
           0,
           0,
           0,
           0,
           0,
           0,
           0,
           0,
           0,
           0,
           0,
           0,
           0,
           0,
           0,
           14,
           0
          ],
          [
           0,
           0,
           0,
           0,
           0,
           0,
           0,
           0,
           0,
           0,
           0,
           0,
           0,
           0,
           0,
           0,
           0,
           0,
           0,
           0,
           0,
           12
          ]
         ]
        }
       ],
       "layout": {
        "coloraxis": {
         "colorscale": [
          [
           0,
           "rgb(209, 238, 234)"
          ],
          [
           0.16666666666666666,
           "rgb(168, 219, 217)"
          ],
          [
           0.3333333333333333,
           "rgb(133, 196, 201)"
          ],
          [
           0.5,
           "rgb(104, 171, 184)"
          ],
          [
           0.6666666666666666,
           "rgb(79, 144, 166)"
          ],
          [
           0.8333333333333334,
           "rgb(59, 115, 143)"
          ],
          [
           1,
           "rgb(42, 86, 116)"
          ]
         ],
         "showscale": false
        },
        "height": 800,
        "margin": {
         "t": 60
        },
        "template": {
         "data": {
          "bar": [
           {
            "error_x": {
             "color": "#2a3f5f"
            },
            "error_y": {
             "color": "#2a3f5f"
            },
            "marker": {
             "line": {
              "color": "#E5ECF6",
              "width": 0.5
             },
             "pattern": {
              "fillmode": "overlay",
              "size": 10,
              "solidity": 0.2
             }
            },
            "type": "bar"
           }
          ],
          "barpolar": [
           {
            "marker": {
             "line": {
              "color": "#E5ECF6",
              "width": 0.5
             },
             "pattern": {
              "fillmode": "overlay",
              "size": 10,
              "solidity": 0.2
             }
            },
            "type": "barpolar"
           }
          ],
          "carpet": [
           {
            "aaxis": {
             "endlinecolor": "#2a3f5f",
             "gridcolor": "white",
             "linecolor": "white",
             "minorgridcolor": "white",
             "startlinecolor": "#2a3f5f"
            },
            "baxis": {
             "endlinecolor": "#2a3f5f",
             "gridcolor": "white",
             "linecolor": "white",
             "minorgridcolor": "white",
             "startlinecolor": "#2a3f5f"
            },
            "type": "carpet"
           }
          ],
          "choropleth": [
           {
            "colorbar": {
             "outlinewidth": 0,
             "ticks": ""
            },
            "type": "choropleth"
           }
          ],
          "contour": [
           {
            "colorbar": {
             "outlinewidth": 0,
             "ticks": ""
            },
            "colorscale": [
             [
              0,
              "#0d0887"
             ],
             [
              0.1111111111111111,
              "#46039f"
             ],
             [
              0.2222222222222222,
              "#7201a8"
             ],
             [
              0.3333333333333333,
              "#9c179e"
             ],
             [
              0.4444444444444444,
              "#bd3786"
             ],
             [
              0.5555555555555556,
              "#d8576b"
             ],
             [
              0.6666666666666666,
              "#ed7953"
             ],
             [
              0.7777777777777778,
              "#fb9f3a"
             ],
             [
              0.8888888888888888,
              "#fdca26"
             ],
             [
              1,
              "#f0f921"
             ]
            ],
            "type": "contour"
           }
          ],
          "contourcarpet": [
           {
            "colorbar": {
             "outlinewidth": 0,
             "ticks": ""
            },
            "type": "contourcarpet"
           }
          ],
          "heatmap": [
           {
            "colorbar": {
             "outlinewidth": 0,
             "ticks": ""
            },
            "colorscale": [
             [
              0,
              "#0d0887"
             ],
             [
              0.1111111111111111,
              "#46039f"
             ],
             [
              0.2222222222222222,
              "#7201a8"
             ],
             [
              0.3333333333333333,
              "#9c179e"
             ],
             [
              0.4444444444444444,
              "#bd3786"
             ],
             [
              0.5555555555555556,
              "#d8576b"
             ],
             [
              0.6666666666666666,
              "#ed7953"
             ],
             [
              0.7777777777777778,
              "#fb9f3a"
             ],
             [
              0.8888888888888888,
              "#fdca26"
             ],
             [
              1,
              "#f0f921"
             ]
            ],
            "type": "heatmap"
           }
          ],
          "heatmapgl": [
           {
            "colorbar": {
             "outlinewidth": 0,
             "ticks": ""
            },
            "colorscale": [
             [
              0,
              "#0d0887"
             ],
             [
              0.1111111111111111,
              "#46039f"
             ],
             [
              0.2222222222222222,
              "#7201a8"
             ],
             [
              0.3333333333333333,
              "#9c179e"
             ],
             [
              0.4444444444444444,
              "#bd3786"
             ],
             [
              0.5555555555555556,
              "#d8576b"
             ],
             [
              0.6666666666666666,
              "#ed7953"
             ],
             [
              0.7777777777777778,
              "#fb9f3a"
             ],
             [
              0.8888888888888888,
              "#fdca26"
             ],
             [
              1,
              "#f0f921"
             ]
            ],
            "type": "heatmapgl"
           }
          ],
          "histogram": [
           {
            "marker": {
             "pattern": {
              "fillmode": "overlay",
              "size": 10,
              "solidity": 0.2
             }
            },
            "type": "histogram"
           }
          ],
          "histogram2d": [
           {
            "colorbar": {
             "outlinewidth": 0,
             "ticks": ""
            },
            "colorscale": [
             [
              0,
              "#0d0887"
             ],
             [
              0.1111111111111111,
              "#46039f"
             ],
             [
              0.2222222222222222,
              "#7201a8"
             ],
             [
              0.3333333333333333,
              "#9c179e"
             ],
             [
              0.4444444444444444,
              "#bd3786"
             ],
             [
              0.5555555555555556,
              "#d8576b"
             ],
             [
              0.6666666666666666,
              "#ed7953"
             ],
             [
              0.7777777777777778,
              "#fb9f3a"
             ],
             [
              0.8888888888888888,
              "#fdca26"
             ],
             [
              1,
              "#f0f921"
             ]
            ],
            "type": "histogram2d"
           }
          ],
          "histogram2dcontour": [
           {
            "colorbar": {
             "outlinewidth": 0,
             "ticks": ""
            },
            "colorscale": [
             [
              0,
              "#0d0887"
             ],
             [
              0.1111111111111111,
              "#46039f"
             ],
             [
              0.2222222222222222,
              "#7201a8"
             ],
             [
              0.3333333333333333,
              "#9c179e"
             ],
             [
              0.4444444444444444,
              "#bd3786"
             ],
             [
              0.5555555555555556,
              "#d8576b"
             ],
             [
              0.6666666666666666,
              "#ed7953"
             ],
             [
              0.7777777777777778,
              "#fb9f3a"
             ],
             [
              0.8888888888888888,
              "#fdca26"
             ],
             [
              1,
              "#f0f921"
             ]
            ],
            "type": "histogram2dcontour"
           }
          ],
          "mesh3d": [
           {
            "colorbar": {
             "outlinewidth": 0,
             "ticks": ""
            },
            "type": "mesh3d"
           }
          ],
          "parcoords": [
           {
            "line": {
             "colorbar": {
              "outlinewidth": 0,
              "ticks": ""
             }
            },
            "type": "parcoords"
           }
          ],
          "pie": [
           {
            "automargin": true,
            "type": "pie"
           }
          ],
          "scatter": [
           {
            "fillpattern": {
             "fillmode": "overlay",
             "size": 10,
             "solidity": 0.2
            },
            "type": "scatter"
           }
          ],
          "scatter3d": [
           {
            "line": {
             "colorbar": {
              "outlinewidth": 0,
              "ticks": ""
             }
            },
            "marker": {
             "colorbar": {
              "outlinewidth": 0,
              "ticks": ""
             }
            },
            "type": "scatter3d"
           }
          ],
          "scattercarpet": [
           {
            "marker": {
             "colorbar": {
              "outlinewidth": 0,
              "ticks": ""
             }
            },
            "type": "scattercarpet"
           }
          ],
          "scattergeo": [
           {
            "marker": {
             "colorbar": {
              "outlinewidth": 0,
              "ticks": ""
             }
            },
            "type": "scattergeo"
           }
          ],
          "scattergl": [
           {
            "marker": {
             "colorbar": {
              "outlinewidth": 0,
              "ticks": ""
             }
            },
            "type": "scattergl"
           }
          ],
          "scattermapbox": [
           {
            "marker": {
             "colorbar": {
              "outlinewidth": 0,
              "ticks": ""
             }
            },
            "type": "scattermapbox"
           }
          ],
          "scatterpolar": [
           {
            "marker": {
             "colorbar": {
              "outlinewidth": 0,
              "ticks": ""
             }
            },
            "type": "scatterpolar"
           }
          ],
          "scatterpolargl": [
           {
            "marker": {
             "colorbar": {
              "outlinewidth": 0,
              "ticks": ""
             }
            },
            "type": "scatterpolargl"
           }
          ],
          "scatterternary": [
           {
            "marker": {
             "colorbar": {
              "outlinewidth": 0,
              "ticks": ""
             }
            },
            "type": "scatterternary"
           }
          ],
          "surface": [
           {
            "colorbar": {
             "outlinewidth": 0,
             "ticks": ""
            },
            "colorscale": [
             [
              0,
              "#0d0887"
             ],
             [
              0.1111111111111111,
              "#46039f"
             ],
             [
              0.2222222222222222,
              "#7201a8"
             ],
             [
              0.3333333333333333,
              "#9c179e"
             ],
             [
              0.4444444444444444,
              "#bd3786"
             ],
             [
              0.5555555555555556,
              "#d8576b"
             ],
             [
              0.6666666666666666,
              "#ed7953"
             ],
             [
              0.7777777777777778,
              "#fb9f3a"
             ],
             [
              0.8888888888888888,
              "#fdca26"
             ],
             [
              1,
              "#f0f921"
             ]
            ],
            "type": "surface"
           }
          ],
          "table": [
           {
            "cells": {
             "fill": {
              "color": "#EBF0F8"
             },
             "line": {
              "color": "white"
             }
            },
            "header": {
             "fill": {
              "color": "#C8D4E3"
             },
             "line": {
              "color": "white"
             }
            },
            "type": "table"
           }
          ]
         },
         "layout": {
          "annotationdefaults": {
           "arrowcolor": "#2a3f5f",
           "arrowhead": 0,
           "arrowwidth": 1
          },
          "autotypenumbers": "strict",
          "coloraxis": {
           "colorbar": {
            "outlinewidth": 0,
            "ticks": ""
           }
          },
          "colorscale": {
           "diverging": [
            [
             0,
             "#8e0152"
            ],
            [
             0.1,
             "#c51b7d"
            ],
            [
             0.2,
             "#de77ae"
            ],
            [
             0.3,
             "#f1b6da"
            ],
            [
             0.4,
             "#fde0ef"
            ],
            [
             0.5,
             "#f7f7f7"
            ],
            [
             0.6,
             "#e6f5d0"
            ],
            [
             0.7,
             "#b8e186"
            ],
            [
             0.8,
             "#7fbc41"
            ],
            [
             0.9,
             "#4d9221"
            ],
            [
             1,
             "#276419"
            ]
           ],
           "sequential": [
            [
             0,
             "#0d0887"
            ],
            [
             0.1111111111111111,
             "#46039f"
            ],
            [
             0.2222222222222222,
             "#7201a8"
            ],
            [
             0.3333333333333333,
             "#9c179e"
            ],
            [
             0.4444444444444444,
             "#bd3786"
            ],
            [
             0.5555555555555556,
             "#d8576b"
            ],
            [
             0.6666666666666666,
             "#ed7953"
            ],
            [
             0.7777777777777778,
             "#fb9f3a"
            ],
            [
             0.8888888888888888,
             "#fdca26"
            ],
            [
             1,
             "#f0f921"
            ]
           ],
           "sequentialminus": [
            [
             0,
             "#0d0887"
            ],
            [
             0.1111111111111111,
             "#46039f"
            ],
            [
             0.2222222222222222,
             "#7201a8"
            ],
            [
             0.3333333333333333,
             "#9c179e"
            ],
            [
             0.4444444444444444,
             "#bd3786"
            ],
            [
             0.5555555555555556,
             "#d8576b"
            ],
            [
             0.6666666666666666,
             "#ed7953"
            ],
            [
             0.7777777777777778,
             "#fb9f3a"
            ],
            [
             0.8888888888888888,
             "#fdca26"
            ],
            [
             1,
             "#f0f921"
            ]
           ]
          },
          "colorway": [
           "#636efa",
           "#EF553B",
           "#00cc96",
           "#ab63fa",
           "#FFA15A",
           "#19d3f3",
           "#FF6692",
           "#B6E880",
           "#FF97FF",
           "#FECB52"
          ],
          "font": {
           "color": "#2a3f5f"
          },
          "geo": {
           "bgcolor": "white",
           "lakecolor": "white",
           "landcolor": "#E5ECF6",
           "showlakes": true,
           "showland": true,
           "subunitcolor": "white"
          },
          "hoverlabel": {
           "align": "left"
          },
          "hovermode": "closest",
          "mapbox": {
           "style": "light"
          },
          "paper_bgcolor": "white",
          "plot_bgcolor": "#E5ECF6",
          "polar": {
           "angularaxis": {
            "gridcolor": "white",
            "linecolor": "white",
            "ticks": ""
           },
           "bgcolor": "#E5ECF6",
           "radialaxis": {
            "gridcolor": "white",
            "linecolor": "white",
            "ticks": ""
           }
          },
          "scene": {
           "xaxis": {
            "backgroundcolor": "#E5ECF6",
            "gridcolor": "white",
            "gridwidth": 2,
            "linecolor": "white",
            "showbackground": true,
            "ticks": "",
            "zerolinecolor": "white"
           },
           "yaxis": {
            "backgroundcolor": "#E5ECF6",
            "gridcolor": "white",
            "gridwidth": 2,
            "linecolor": "white",
            "showbackground": true,
            "ticks": "",
            "zerolinecolor": "white"
           },
           "zaxis": {
            "backgroundcolor": "#E5ECF6",
            "gridcolor": "white",
            "gridwidth": 2,
            "linecolor": "white",
            "showbackground": true,
            "ticks": "",
            "zerolinecolor": "white"
           }
          },
          "shapedefaults": {
           "line": {
            "color": "#2a3f5f"
           }
          },
          "ternary": {
           "aaxis": {
            "gridcolor": "white",
            "linecolor": "white",
            "ticks": ""
           },
           "baxis": {
            "gridcolor": "white",
            "linecolor": "white",
            "ticks": ""
           },
           "bgcolor": "#E5ECF6",
           "caxis": {
            "gridcolor": "white",
            "linecolor": "white",
            "ticks": ""
           }
          },
          "title": {
           "x": 0.05
          },
          "xaxis": {
           "automargin": true,
           "gridcolor": "white",
           "linecolor": "white",
           "ticks": "",
           "title": {
            "standoff": 15
           },
           "zerolinecolor": "white",
           "zerolinewidth": 2
          },
          "yaxis": {
           "automargin": true,
           "gridcolor": "white",
           "linecolor": "white",
           "ticks": "",
           "title": {
            "standoff": 15
           },
           "zerolinecolor": "white",
           "zerolinewidth": 2
          }
         }
        },
        "width": 1000,
        "xaxis": {
         "anchor": "y",
         "constrain": "domain",
         "domain": [
          0,
          1
         ],
         "scaleanchor": "y",
         "title": {
          "text": "Predicted Label"
         }
        },
        "yaxis": {
         "anchor": "x",
         "autorange": "reversed",
         "constrain": "domain",
         "domain": [
          0,
          1
         ],
         "title": {
          "text": "True Label"
         }
        }
       }
      }
     },
     "metadata": {},
     "output_type": "display_data"
    }
   ],
   "source": [
    "fig = px.imshow(confusion_matrix(y, pipe_nn.predict(X['book_content'])),\n",
    "                width=1000,\n",
    "                height=800,\n",
    "                text_auto=True,\n",
    "                labels=dict(x='Predicted Label',\n",
    "                            y='True Label'),\n",
    "                            x=select_authors,\n",
    "                            y=select_authors,\n",
    "                            color_continuous_scale='Teal'\n",
    "                            )\n",
    "\n",
    "fig.update(layout_coloraxis_showscale=False)\n",
    "\n",
    "fig.show()"
   ]
  },
  {
   "attachments": {},
   "cell_type": "markdown",
   "metadata": {},
   "source": [
    "## Encoding and lower-dimensional representation of the NN\n",
    "\n",
    "With a trained model, using embeddings to find similarities between books and authors."
   ]
  },
  {
   "cell_type": "code",
   "execution_count": 11,
   "metadata": {},
   "outputs": [],
   "source": [
    "# have to use the regressor because classifiers thinks we're expecting int results, even if we chop it off before final step!\n",
    "# :2 and layers = 3 if I use two hidden layers with nn; for one, reduce those by 1\n",
    "encoder = MLPRegressor()\n",
    "encoder.coefs_ = pipe_nn['nn'].coefs_[:2]\n",
    "encoder.intercepts_ = pipe_nn['nn'].intercepts_[:2]\n",
    "encoder.n_layers_ = 3\n",
    "encoder.out_activation_ = 'relu'"
   ]
  },
  {
   "cell_type": "code",
   "execution_count": 12,
   "metadata": {},
   "outputs": [],
   "source": [
    "# copy the pipeline\n",
    "pipe_nn_encoder = deepcopy(pipe_nn)\n",
    "\n",
    "# remove the classifier\n",
    "pipe_nn_encoder.steps.pop(2)\n",
    "\n",
    "# append the new encoder (essentially, it contains all layers minus the final one)\n",
    "pipe_nn_encoder.steps.append(['enc', encoder])"
   ]
  },
  {
   "cell_type": "code",
   "execution_count": 13,
   "metadata": {},
   "outputs": [],
   "source": [
    "# now using predict from the encoder to get the 100-dimensional projection of the top six authors\n",
    "nn_represent = pipe_nn_encoder.predict(library_select['book_content'])"
   ]
  },
  {
   "attachments": {},
   "cell_type": "markdown",
   "metadata": {},
   "source": [
    "Finally, adding to that, the reduced 2D representation using UMAP."
   ]
  },
  {
   "cell_type": "code",
   "execution_count": 14,
   "metadata": {},
   "outputs": [],
   "source": [
    "umap_mnist = umap.UMAP()\n",
    "umap_mnist.fit(nn_represent)\n",
    "\n",
    "umap_projection = umap_mnist.transform(nn_represent)"
   ]
  },
  {
   "cell_type": "code",
   "execution_count": 15,
   "metadata": {},
   "outputs": [],
   "source": [
    "# convert the 100 dimensional vector of neuron weights into dataframe\n",
    "library_select_represent = pd.DataFrame(nn_represent, columns=[f'dim_{x}' for x in range(100)])\n",
    "\n",
    "# and also the 2d representation\n",
    "library_select_proj = pd.DataFrame(umap_projection, columns=[f'proj_{x}' for x in range(2)])\n",
    "\n",
    "# concatenate together with some info from the original df. at this point, for this notebook won't be needing the book texts anymore\n",
    "# I'll create a new notebook for NN from a different package\n",
    "library_select = pd.concat([\n",
    "    library_select[['id','title','author','authorcentury']],\n",
    "    library_select_proj.set_index(library_select.index),\n",
    "    library_select_represent.set_index(library_select.index)],\n",
    "    axis=1)"
   ]
  },
  {
   "cell_type": "code",
   "execution_count": 16,
   "metadata": {},
   "outputs": [
    {
     "data": {
      "image/png": "[encoded data removed]",
      "text/plain": [
       "<Figure size 1600x800 with 1 Axes>"
      ]
     },
     "metadata": {},
     "output_type": "display_data"
    }
   ],
   "source": [
    "# # old code:\n",
    "# sns.scatterplot(x=umap_projection[:,0], y=umap_projection[:,1], \n",
    "#                 hue = library_select.replace({'author': num_to_authors})['author'].astype('category'),\n",
    "#                alpha = 0.7);\n",
    "\n",
    "plt.figure(figsize = (16,8))\n",
    "sns.scatterplot(data=library_select, x='proj_0', y='proj_1', \n",
    "                hue = 'author',\n",
    "               alpha = 0.7);"
   ]
  },
  {
   "cell_type": "code",
   "execution_count": 19,
   "metadata": {},
   "outputs": [
    {
     "data": {
      "text/plain": [
       "array([ 1., 14., 13., -6., 16., 19., 18., 15., -1., -4., 20.,  2., -7.,\n",
       "       17.])"
      ]
     },
     "execution_count": 19,
     "metadata": {},
     "output_type": "execute_result"
    }
   ],
   "source": [
    "library_select['authorcentury'].unique()"
   ]
  },
  {
   "cell_type": "code",
   "execution_count": 24,
   "metadata": {},
   "outputs": [
    {
     "data": {
      "image/png": "[encoded data removed]",
      "text/plain": [
       "<Figure size 1600x800 with 1 Axes>"
      ]
     },
     "metadata": {},
     "output_type": "display_data"
    }
   ],
   "source": [
    "plt.figure(figsize = (16,8))\n",
    "sns.scatterplot(data=library_select, x='proj_0', y='proj_1', \n",
    "                hue = library_select['authorcentury'].astype('category'),\n",
    "               alpha = 0.7);"
   ]
  },
  {
   "attachments": {},
   "cell_type": "markdown",
   "metadata": {},
   "source": [
    "## Cosine Similarity\n",
    "\n",
    "Another way to look at the produced weights and which ones are similar"
   ]
  },
  {
   "attachments": {},
   "cell_type": "markdown",
   "metadata": {},
   "source": [
    "Calculating cosine similarity - for a first attempt, group it by author."
   ]
  },
  {
   "cell_type": "code",
   "execution_count": 25,
   "metadata": {},
   "outputs": [
    {
     "data": {
      "text/html": [
       "<div>\n",
       "<style scoped>\n",
       "    .dataframe tbody tr th:only-of-type {\n",
       "        vertical-align: middle;\n",
       "    }\n",
       "\n",
       "    .dataframe tbody tr th {\n",
       "        vertical-align: top;\n",
       "    }\n",
       "\n",
       "    .dataframe thead th {\n",
       "        text-align: right;\n",
       "    }\n",
       "</style>\n",
       "<table border=\"1\" class=\"dataframe\">\n",
       "  <thead>\n",
       "    <tr style=\"text-align: right;\">\n",
       "      <th></th>\n",
       "      <th>id</th>\n",
       "      <th>title</th>\n",
       "      <th>author</th>\n",
       "      <th>authorcentury</th>\n",
       "      <th>proj_0</th>\n",
       "      <th>proj_1</th>\n",
       "      <th>dim_0</th>\n",
       "      <th>dim_1</th>\n",
       "      <th>dim_2</th>\n",
       "      <th>dim_3</th>\n",
       "      <th>...</th>\n",
       "      <th>dim_90</th>\n",
       "      <th>dim_91</th>\n",
       "      <th>dim_92</th>\n",
       "      <th>dim_93</th>\n",
       "      <th>dim_94</th>\n",
       "      <th>dim_95</th>\n",
       "      <th>dim_96</th>\n",
       "      <th>dim_97</th>\n",
       "      <th>dim_98</th>\n",
       "      <th>dim_99</th>\n",
       "    </tr>\n",
       "  </thead>\n",
       "  <tbody>\n",
       "    <tr>\n",
       "      <th>1</th>\n",
       "      <td>PG10001</td>\n",
       "      <td>Apocolocyntosis</td>\n",
       "      <td>Seneca, Lucius Annaeus</td>\n",
       "      <td>1.0</td>\n",
       "      <td>4.735946</td>\n",
       "      <td>7.398473</td>\n",
       "      <td>0.000000</td>\n",
       "      <td>0.000000</td>\n",
       "      <td>0.000000</td>\n",
       "      <td>1.174371</td>\n",
       "      <td>...</td>\n",
       "      <td>0.0</td>\n",
       "      <td>0.000000</td>\n",
       "      <td>0.000000</td>\n",
       "      <td>1.236353</td>\n",
       "      <td>8.067404</td>\n",
       "      <td>0.000000</td>\n",
       "      <td>0.000000</td>\n",
       "      <td>0.000000</td>\n",
       "      <td>3.114843</td>\n",
       "      <td>0.000000</td>\n",
       "    </tr>\n",
       "    <tr>\n",
       "      <th>6</th>\n",
       "      <td>PG10006</td>\n",
       "      <td>La Fiammetta</td>\n",
       "      <td>Boccaccio, Giovanni</td>\n",
       "      <td>14.0</td>\n",
       "      <td>2.139001</td>\n",
       "      <td>4.807032</td>\n",
       "      <td>4.650827</td>\n",
       "      <td>7.380943</td>\n",
       "      <td>0.000000</td>\n",
       "      <td>10.704428</td>\n",
       "      <td>...</td>\n",
       "      <td>0.0</td>\n",
       "      <td>9.150836</td>\n",
       "      <td>1.573807</td>\n",
       "      <td>0.000000</td>\n",
       "      <td>0.000000</td>\n",
       "      <td>8.732283</td>\n",
       "      <td>18.844457</td>\n",
       "      <td>0.000000</td>\n",
       "      <td>0.000000</td>\n",
       "      <td>0.000000</td>\n",
       "    </tr>\n",
       "    <tr>\n",
       "      <th>21</th>\n",
       "      <td>PG1001</td>\n",
       "      <td>Divine Comedy, Longfellow's Translation, Hell</td>\n",
       "      <td>Dante Alighieri</td>\n",
       "      <td>13.0</td>\n",
       "      <td>7.865646</td>\n",
       "      <td>7.701200</td>\n",
       "      <td>0.000000</td>\n",
       "      <td>0.000000</td>\n",
       "      <td>0.000000</td>\n",
       "      <td>7.317742</td>\n",
       "      <td>...</td>\n",
       "      <td>0.0</td>\n",
       "      <td>0.000000</td>\n",
       "      <td>0.000000</td>\n",
       "      <td>0.000000</td>\n",
       "      <td>134.471496</td>\n",
       "      <td>43.788971</td>\n",
       "      <td>0.000000</td>\n",
       "      <td>12.391698</td>\n",
       "      <td>28.683251</td>\n",
       "      <td>0.000000</td>\n",
       "    </tr>\n",
       "    <tr>\n",
       "      <th>32</th>\n",
       "      <td>PG1002</td>\n",
       "      <td>Divine Comedy, Longfellow's Translation, Purga...</td>\n",
       "      <td>Dante Alighieri</td>\n",
       "      <td>13.0</td>\n",
       "      <td>7.958503</td>\n",
       "      <td>7.625683</td>\n",
       "      <td>0.000000</td>\n",
       "      <td>0.000000</td>\n",
       "      <td>27.816074</td>\n",
       "      <td>43.165057</td>\n",
       "      <td>...</td>\n",
       "      <td>0.0</td>\n",
       "      <td>0.000000</td>\n",
       "      <td>0.000000</td>\n",
       "      <td>0.000000</td>\n",
       "      <td>145.247566</td>\n",
       "      <td>13.187849</td>\n",
       "      <td>5.656618</td>\n",
       "      <td>0.000000</td>\n",
       "      <td>17.481764</td>\n",
       "      <td>0.000000</td>\n",
       "    </tr>\n",
       "    <tr>\n",
       "      <th>43</th>\n",
       "      <td>PG1003</td>\n",
       "      <td>Divine Comedy, Longfellow's Translation, Paradise</td>\n",
       "      <td>Dante Alighieri</td>\n",
       "      <td>13.0</td>\n",
       "      <td>7.907661</td>\n",
       "      <td>7.670850</td>\n",
       "      <td>0.000000</td>\n",
       "      <td>0.000000</td>\n",
       "      <td>0.000000</td>\n",
       "      <td>14.967075</td>\n",
       "      <td>...</td>\n",
       "      <td>0.0</td>\n",
       "      <td>0.000000</td>\n",
       "      <td>0.000000</td>\n",
       "      <td>0.000000</td>\n",
       "      <td>128.594934</td>\n",
       "      <td>46.555670</td>\n",
       "      <td>0.000000</td>\n",
       "      <td>13.077090</td>\n",
       "      <td>28.679628</td>\n",
       "      <td>0.000000</td>\n",
       "    </tr>\n",
       "    <tr>\n",
       "      <th>...</th>\n",
       "      <td>...</td>\n",
       "      <td>...</td>\n",
       "      <td>...</td>\n",
       "      <td>...</td>\n",
       "      <td>...</td>\n",
       "      <td>...</td>\n",
       "      <td>...</td>\n",
       "      <td>...</td>\n",
       "      <td>...</td>\n",
       "      <td>...</td>\n",
       "      <td>...</td>\n",
       "      <td>...</td>\n",
       "      <td>...</td>\n",
       "      <td>...</td>\n",
       "      <td>...</td>\n",
       "      <td>...</td>\n",
       "      <td>...</td>\n",
       "      <td>...</td>\n",
       "      <td>...</td>\n",
       "      <td>...</td>\n",
       "      <td>...</td>\n",
       "    </tr>\n",
       "    <tr>\n",
       "      <th>70047</th>\n",
       "      <td>PG963</td>\n",
       "      <td>Little Dorrit</td>\n",
       "      <td>Dickens, Charles</td>\n",
       "      <td>19.0</td>\n",
       "      <td>5.650265</td>\n",
       "      <td>4.110567</td>\n",
       "      <td>0.000000</td>\n",
       "      <td>0.000000</td>\n",
       "      <td>5.020278</td>\n",
       "      <td>0.000000</td>\n",
       "      <td>...</td>\n",
       "      <td>0.0</td>\n",
       "      <td>0.000000</td>\n",
       "      <td>0.000000</td>\n",
       "      <td>35.410135</td>\n",
       "      <td>38.928287</td>\n",
       "      <td>54.980755</td>\n",
       "      <td>0.000000</td>\n",
       "      <td>0.000000</td>\n",
       "      <td>0.954131</td>\n",
       "      <td>0.285833</td>\n",
       "    </tr>\n",
       "    <tr>\n",
       "      <th>70069</th>\n",
       "      <td>PG965</td>\n",
       "      <td>The Black Tulip</td>\n",
       "      <td>Dumas, Alexandre</td>\n",
       "      <td>19.0</td>\n",
       "      <td>11.324479</td>\n",
       "      <td>7.364992</td>\n",
       "      <td>0.000000</td>\n",
       "      <td>0.000000</td>\n",
       "      <td>0.000000</td>\n",
       "      <td>21.171795</td>\n",
       "      <td>...</td>\n",
       "      <td>0.0</td>\n",
       "      <td>0.000000</td>\n",
       "      <td>0.000000</td>\n",
       "      <td>4.321702</td>\n",
       "      <td>0.000000</td>\n",
       "      <td>22.024373</td>\n",
       "      <td>17.566489</td>\n",
       "      <td>0.000000</td>\n",
       "      <td>2.263924</td>\n",
       "      <td>0.000000</td>\n",
       "    </tr>\n",
       "    <tr>\n",
       "      <th>70091</th>\n",
       "      <td>PG967</td>\n",
       "      <td>Nicholas Nickleby</td>\n",
       "      <td>Dickens, Charles</td>\n",
       "      <td>19.0</td>\n",
       "      <td>5.748910</td>\n",
       "      <td>4.063621</td>\n",
       "      <td>0.000000</td>\n",
       "      <td>0.000000</td>\n",
       "      <td>0.000000</td>\n",
       "      <td>18.503945</td>\n",
       "      <td>...</td>\n",
       "      <td>0.0</td>\n",
       "      <td>0.000000</td>\n",
       "      <td>0.000000</td>\n",
       "      <td>31.045263</td>\n",
       "      <td>39.880480</td>\n",
       "      <td>53.147345</td>\n",
       "      <td>0.000000</td>\n",
       "      <td>0.000000</td>\n",
       "      <td>0.000000</td>\n",
       "      <td>0.000000</td>\n",
       "    </tr>\n",
       "    <tr>\n",
       "      <th>70102</th>\n",
       "      <td>PG968</td>\n",
       "      <td>Martin Chuzzlewit</td>\n",
       "      <td>Dickens, Charles</td>\n",
       "      <td>19.0</td>\n",
       "      <td>5.717391</td>\n",
       "      <td>4.079775</td>\n",
       "      <td>0.000000</td>\n",
       "      <td>0.000000</td>\n",
       "      <td>0.000000</td>\n",
       "      <td>14.396346</td>\n",
       "      <td>...</td>\n",
       "      <td>0.0</td>\n",
       "      <td>0.636795</td>\n",
       "      <td>0.000000</td>\n",
       "      <td>30.339221</td>\n",
       "      <td>35.075907</td>\n",
       "      <td>53.656886</td>\n",
       "      <td>0.000000</td>\n",
       "      <td>0.000000</td>\n",
       "      <td>1.176565</td>\n",
       "      <td>0.000000</td>\n",
       "    </tr>\n",
       "    <tr>\n",
       "      <th>70269</th>\n",
       "      <td>PG983</td>\n",
       "      <td>Tour through the Eastern Counties of England, ...</td>\n",
       "      <td>Defoe, Daniel</td>\n",
       "      <td>18.0</td>\n",
       "      <td>6.315648</td>\n",
       "      <td>10.550086</td>\n",
       "      <td>0.000000</td>\n",
       "      <td>0.000000</td>\n",
       "      <td>12.168920</td>\n",
       "      <td>0.000000</td>\n",
       "      <td>...</td>\n",
       "      <td>0.0</td>\n",
       "      <td>8.344865</td>\n",
       "      <td>0.000000</td>\n",
       "      <td>0.000000</td>\n",
       "      <td>11.039676</td>\n",
       "      <td>52.548060</td>\n",
       "      <td>6.791397</td>\n",
       "      <td>12.409052</td>\n",
       "      <td>0.000000</td>\n",
       "      <td>0.000000</td>\n",
       "    </tr>\n",
       "  </tbody>\n",
       "</table>\n",
       "<p>651 rows × 106 columns</p>\n",
       "</div>"
      ],
      "text/plain": [
       "            id                                              title  \\\n",
       "1      PG10001                                    Apocolocyntosis   \n",
       "6      PG10006                                       La Fiammetta   \n",
       "21      PG1001      Divine Comedy, Longfellow's Translation, Hell   \n",
       "32      PG1002  Divine Comedy, Longfellow's Translation, Purga...   \n",
       "43      PG1003  Divine Comedy, Longfellow's Translation, Paradise   \n",
       "...        ...                                                ...   \n",
       "70047    PG963                                      Little Dorrit   \n",
       "70069    PG965                                    The Black Tulip   \n",
       "70091    PG967                                  Nicholas Nickleby   \n",
       "70102    PG968                                  Martin Chuzzlewit   \n",
       "70269    PG983  Tour through the Eastern Counties of England, ...   \n",
       "\n",
       "                       author  authorcentury     proj_0     proj_1     dim_0  \\\n",
       "1      Seneca, Lucius Annaeus            1.0   4.735946   7.398473  0.000000   \n",
       "6         Boccaccio, Giovanni           14.0   2.139001   4.807032  4.650827   \n",
       "21            Dante Alighieri           13.0   7.865646   7.701200  0.000000   \n",
       "32            Dante Alighieri           13.0   7.958503   7.625683  0.000000   \n",
       "43            Dante Alighieri           13.0   7.907661   7.670850  0.000000   \n",
       "...                       ...            ...        ...        ...       ...   \n",
       "70047        Dickens, Charles           19.0   5.650265   4.110567  0.000000   \n",
       "70069        Dumas, Alexandre           19.0  11.324479   7.364992  0.000000   \n",
       "70091        Dickens, Charles           19.0   5.748910   4.063621  0.000000   \n",
       "70102        Dickens, Charles           19.0   5.717391   4.079775  0.000000   \n",
       "70269           Defoe, Daniel           18.0   6.315648  10.550086  0.000000   \n",
       "\n",
       "          dim_1      dim_2      dim_3  ...  dim_90    dim_91    dim_92  \\\n",
       "1      0.000000   0.000000   1.174371  ...     0.0  0.000000  0.000000   \n",
       "6      7.380943   0.000000  10.704428  ...     0.0  9.150836  1.573807   \n",
       "21     0.000000   0.000000   7.317742  ...     0.0  0.000000  0.000000   \n",
       "32     0.000000  27.816074  43.165057  ...     0.0  0.000000  0.000000   \n",
       "43     0.000000   0.000000  14.967075  ...     0.0  0.000000  0.000000   \n",
       "...         ...        ...        ...  ...     ...       ...       ...   \n",
       "70047  0.000000   5.020278   0.000000  ...     0.0  0.000000  0.000000   \n",
       "70069  0.000000   0.000000  21.171795  ...     0.0  0.000000  0.000000   \n",
       "70091  0.000000   0.000000  18.503945  ...     0.0  0.000000  0.000000   \n",
       "70102  0.000000   0.000000  14.396346  ...     0.0  0.636795  0.000000   \n",
       "70269  0.000000  12.168920   0.000000  ...     0.0  8.344865  0.000000   \n",
       "\n",
       "          dim_93      dim_94     dim_95     dim_96     dim_97     dim_98  \\\n",
       "1       1.236353    8.067404   0.000000   0.000000   0.000000   3.114843   \n",
       "6       0.000000    0.000000   8.732283  18.844457   0.000000   0.000000   \n",
       "21      0.000000  134.471496  43.788971   0.000000  12.391698  28.683251   \n",
       "32      0.000000  145.247566  13.187849   5.656618   0.000000  17.481764   \n",
       "43      0.000000  128.594934  46.555670   0.000000  13.077090  28.679628   \n",
       "...          ...         ...        ...        ...        ...        ...   \n",
       "70047  35.410135   38.928287  54.980755   0.000000   0.000000   0.954131   \n",
       "70069   4.321702    0.000000  22.024373  17.566489   0.000000   2.263924   \n",
       "70091  31.045263   39.880480  53.147345   0.000000   0.000000   0.000000   \n",
       "70102  30.339221   35.075907  53.656886   0.000000   0.000000   1.176565   \n",
       "70269   0.000000   11.039676  52.548060   6.791397  12.409052   0.000000   \n",
       "\n",
       "         dim_99  \n",
       "1      0.000000  \n",
       "6      0.000000  \n",
       "21     0.000000  \n",
       "32     0.000000  \n",
       "43     0.000000  \n",
       "...         ...  \n",
       "70047  0.285833  \n",
       "70069  0.000000  \n",
       "70091  0.000000  \n",
       "70102  0.000000  \n",
       "70269  0.000000  \n",
       "\n",
       "[651 rows x 106 columns]"
      ]
     },
     "execution_count": 25,
     "metadata": {},
     "output_type": "execute_result"
    }
   ],
   "source": [
    "library_select"
   ]
  },
  {
   "cell_type": "code",
   "execution_count": 26,
   "metadata": {},
   "outputs": [],
   "source": [
    "# idea use this to transpose and then see the dist from each book to this point?\n",
    "library_select_grouped = library_select.drop(columns=['id','title','authorcentury','proj_0','proj_1']).groupby('author').mean()"
   ]
  },
  {
   "cell_type": "code",
   "execution_count": null,
   "metadata": {},
   "outputs": [],
   "source": [
    "dists = spatial.distance.pdist(library_select_grouped.values, metric = 'cosine')"
   ]
  }
 ],
 "metadata": {
  "kernelspec": {
   "display_name": "base",
   "language": "python",
   "name": "python3"
  },
  "language_info": {
   "codemirror_mode": {
    "name": "ipython",
    "version": 3
   },
   "file_extension": ".py",
   "mimetype": "text/x-python",
   "name": "python",
   "nbconvert_exporter": "python",
   "pygments_lexer": "ipython3",
   "version": "3.9.12"
  },
  "orig_nbformat": 4
 },
 "nbformat": 4,
 "nbformat_minor": 2
}
