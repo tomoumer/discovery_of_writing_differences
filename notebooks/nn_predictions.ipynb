{
 "cells": [
  {
   "attachments": {},
   "cell_type": "markdown",
   "metadata": {},
   "source": [
    "# Discovery of Writing Differences - Neural Networks Representation\n",
    "\n",
    "Capstone project by Tomo Umer"
   ]
  },
  {
   "attachments": {},
   "cell_type": "markdown",
   "metadata": {},
   "source": [
    "<img src=\"https://tomoumerdotcom.files.wordpress.com/2022/04/cropped-pho_logo_notext.png\" alt=\"PRAISE DOG\" style=\"width:400px;height:400px;\"/>"
   ]
  },
  {
   "attachments": {},
   "cell_type": "markdown",
   "metadata": {},
   "source": [
    "## Imports"
   ]
  },
  {
   "cell_type": "code",
   "execution_count": 1,
   "metadata": {},
   "outputs": [],
   "source": [
    "import pandas as pd\n",
    "import numpy as np\n",
    "import re\n",
    "import glob\n",
    "import plotly.express as px\n",
    "import pickle\n",
    "\n",
    "from sklearn.model_selection import train_test_split\n",
    "from sklearn.metrics import accuracy_score, confusion_matrix, classification_report\n",
    "from sklearn.feature_extraction.text import TfidfVectorizer\n",
    "from sklearn.linear_model import LogisticRegression\n",
    "from sklearn.pipeline import Pipeline\n",
    "\n",
    "import matplotlib.pyplot as plt\n",
    "import seaborn as sns\n",
    "from sklearn.neural_network import MLPClassifier, MLPRegressor\n",
    "from sklearn.preprocessing import MaxAbsScaler\n",
    "from copy import deepcopy\n",
    "\n",
    "import umap\n",
    "from scipy import spatial\n",
    "from scipy.cluster.hierarchy import linkage, dendrogram\n",
    "\n",
    "from joblib import dump, load"
   ]
  },
  {
   "attachments": {},
   "cell_type": "markdown",
   "metadata": {},
   "source": [
    "## Reading In the Library and Prep for NN\n",
    "\n",
    "In this part, reading the .pkl file. "
   ]
  },
  {
   "cell_type": "code",
   "execution_count": 2,
   "metadata": {},
   "outputs": [],
   "source": [
    "library_select = pd.read_pickle('../data/library_select02.pkl')"
   ]
  },
  {
   "cell_type": "code",
   "execution_count": 3,
   "metadata": {},
   "outputs": [
    {
     "data": {
      "text/plain": [
       "(538, 12)"
      ]
     },
     "execution_count": 3,
     "metadata": {},
     "output_type": "execute_result"
    }
   ],
   "source": [
    "library_select.shape"
   ]
  },
  {
   "attachments": {},
   "cell_type": "markdown",
   "metadata": {},
   "source": [
    "Next, extract authors, create dictionary to convert authors name to numeric values (for predictions) and add a column with that."
   ]
  },
  {
   "cell_type": "code",
   "execution_count": 4,
   "metadata": {},
   "outputs": [],
   "source": [
    "select_authors = list(library_select.sort_values(by='authorcentury')['author'].unique())\n",
    "\n",
    "authors_to_num = {select_authors[i]: i for i in range(len(select_authors))}\n",
    "#num_to_authors = {v: k for k, v in authors_to_num.items()}\n",
    "\n",
    "library_select['author_num'] = library_select['author'].map(authors_to_num)"
   ]
  },
  {
   "attachments": {},
   "cell_type": "markdown",
   "metadata": {},
   "source": [
    "## Sklearn NN\n",
    "\n",
    "First round of neural network analysis, using sklearn."
   ]
  },
  {
   "cell_type": "code",
   "execution_count": 5,
   "metadata": {},
   "outputs": [],
   "source": [
    "X = library_select[['book_content']]\n",
    "y = library_select['author_num']\n",
    "\n",
    "X_train, X_test, y_train, y_test = train_test_split(X, y, random_state = 42, stratify = y)"
   ]
  },
  {
   "cell_type": "code",
   "execution_count": 6,
   "metadata": {},
   "outputs": [],
   "source": [
    "pipe_nn = Pipeline(\n",
    "    steps = [\n",
    "        ('vect', TfidfVectorizer(min_df=2, max_df=0.8, ngram_range=(1,2))),\n",
    "        ('scaler', MaxAbsScaler()),  #this is needed in order to make it converge in a reasonable time!\n",
    "        ('nn', MLPClassifier(verbose = True,\n",
    "                             hidden_layer_sizes = (100, 100),\n",
    "                             #activation = 'relu',\n",
    "                             #max_iter = 10000,\n",
    "                             #alpha=0.05\n",
    "                             ))\n",
    "    ]\n",
    ")"
   ]
  },
  {
   "cell_type": "code",
   "execution_count": 7,
   "metadata": {},
   "outputs": [
    {
     "name": "stdout",
     "output_type": "stream",
     "text": [
      "Iteration 1, loss = 2.26871212\n",
      "Iteration 2, loss = 0.20831794\n",
      "Iteration 3, loss = 0.03829800\n",
      "Iteration 4, loss = 0.01698789\n",
      "Iteration 5, loss = 0.01135154\n",
      "Iteration 6, loss = 0.00823633\n",
      "Iteration 7, loss = 0.00724374\n",
      "Iteration 8, loss = 0.00663261\n",
      "Iteration 9, loss = 0.00568978\n",
      "Iteration 10, loss = 0.00515580\n",
      "Iteration 11, loss = 0.00460699\n",
      "Iteration 12, loss = 0.00442422\n",
      "Iteration 13, loss = 0.00406795\n",
      "Iteration 14, loss = 0.00392614\n",
      "Iteration 15, loss = 0.00353138\n",
      "Iteration 16, loss = 0.00352007\n",
      "Iteration 17, loss = 0.00330387\n",
      "Iteration 18, loss = 0.00318178\n",
      "Iteration 19, loss = 0.00299044\n",
      "Iteration 20, loss = 0.00294201\n",
      "Iteration 21, loss = 0.00291081\n",
      "Iteration 22, loss = 0.00280704\n",
      "Iteration 23, loss = 0.00272513\n",
      "Iteration 24, loss = 0.00265151\n",
      "Iteration 25, loss = 0.00261037\n",
      "Iteration 26, loss = 0.00255899\n",
      "Iteration 27, loss = 0.00254938\n",
      "Iteration 28, loss = 0.00247662\n",
      "Iteration 29, loss = 0.00242152\n",
      "Iteration 30, loss = 0.00241817\n",
      "Iteration 31, loss = 0.00236151\n",
      "Iteration 32, loss = 0.00235496\n",
      "Iteration 33, loss = 0.00227662\n",
      "Training loss did not improve more than tol=0.000100 for 10 consecutive epochs. Stopping.\n",
      "accuracy score: 1.0 \n",
      "\n",
      "----- confusion matrix ------\n",
      "[[14  0  0  0  0  0  0  0  0  0  0  0  0  0  0  0  0  0  0  0  0  0]\n",
      " [ 0  5  0  0  0  0  0  0  0  0  0  0  0  0  0  0  0  0  0  0  0  0]\n",
      " [ 0  0 33  0  0  0  0  0  0  0  0  0  0  0  0  0  0  0  0  0  0  0]\n",
      " [ 0  0  0 14  0  0  0  0  0  0  0  0  0  0  0  0  0  0  0  0  0  0]\n",
      " [ 0  0  0  0  7  0  0  0  0  0  0  0  0  0  0  0  0  0  0  0  0  0]\n",
      " [ 0  0  0  0  0  5  0  0  0  0  0  0  0  0  0  0  0  0  0  0  0  0]\n",
      " [ 0  0  0  0  0  0 19  0  0  0  0  0  0  0  0  0  0  0  0  0  0  0]\n",
      " [ 0  0  0  0  0  0  0  6  0  0  0  0  0  0  0  0  0  0  0  0  0  0]\n",
      " [ 0  0  0  0  0  0  0  0  5  0  0  0  0  0  0  0  0  0  0  0  0  0]\n",
      " [ 0  0  0  0  0  0  0  0  0 50  0  0  0  0  0  0  0  0  0  0  0  0]\n",
      " [ 0  0  0  0  0  0  0  0  0  0 18  0  0  0  0  0  0  0  0  0  0  0]\n",
      " [ 0  0  0  0  0  0  0  0  0  0  0 45  0  0  0  0  0  0  0  0  0  0]\n",
      " [ 0  0  0  0  0  0  0  0  0  0  0  0 14  0  0  0  0  0  0  0  0  0]\n",
      " [ 0  0  0  0  0  0  0  0  0  0  0  0  0 19  0  0  0  0  0  0  0  0]\n",
      " [ 0  0  0  0  0  0  0  0  0  0  0  0  0  0 50  0  0  0  0  0  0  0]\n",
      " [ 0  0  0  0  0  0  0  0  0  0  0  0  0  0  0 50  0  0  0  0  0  0]\n",
      " [ 0  0  0  0  0  0  0  0  0  0  0  0  0  0  0  0 50  0  0  0  0  0]\n",
      " [ 0  0  0  0  0  0  0  0  0  0  0  0  0  0  0  0  0 50  0  0  0  0]\n",
      " [ 0  0  0  0  0  0  0  0  0  0  0  0  0  0  0  0  0  0 14  0  0  0]\n",
      " [ 0  0  0  0  0  0  0  0  0  0  0  0  0  0  0  0  0  0  0  8  0  0]\n",
      " [ 0  0  0  0  0  0  0  0  0  0  0  0  0  0  0  0  0  0  0  0 50  0]\n",
      " [ 0  0  0  0  0  0  0  0  0  0  0  0  0  0  0  0  0  0  0  0  0 12]] \n",
      "\n",
      "-------- classification report ---------\n",
      "              precision    recall  f1-score   support\n",
      "\n",
      "           0       1.00      1.00      1.00        14\n",
      "           1       1.00      1.00      1.00         5\n",
      "           2       1.00      1.00      1.00        33\n",
      "           3       1.00      1.00      1.00        14\n",
      "           4       1.00      1.00      1.00         7\n",
      "           5       1.00      1.00      1.00         5\n",
      "           6       1.00      1.00      1.00        19\n",
      "           7       1.00      1.00      1.00         6\n",
      "           8       1.00      1.00      1.00         5\n",
      "           9       1.00      1.00      1.00        50\n",
      "          10       1.00      1.00      1.00        18\n",
      "          11       1.00      1.00      1.00        45\n",
      "          12       1.00      1.00      1.00        14\n",
      "          13       1.00      1.00      1.00        19\n",
      "          14       1.00      1.00      1.00        50\n",
      "          15       1.00      1.00      1.00        50\n",
      "          16       1.00      1.00      1.00        50\n",
      "          17       1.00      1.00      1.00        50\n",
      "          18       1.00      1.00      1.00        14\n",
      "          19       1.00      1.00      1.00         8\n",
      "          20       1.00      1.00      1.00        50\n",
      "          21       1.00      1.00      1.00        12\n",
      "\n",
      "    accuracy                           1.00       538\n",
      "   macro avg       1.00      1.00      1.00       538\n",
      "weighted avg       1.00      1.00      1.00       538\n",
      "\n"
     ]
    }
   ],
   "source": [
    "# pipe_nn.fit(X_train['book_content'], y_train)\n",
    "# y_pred = pipe_nn.predict(X_test['book_content'])\n",
    "\n",
    "# print('accuracy score:', accuracy_score(y_test, y_pred), '\\n')\n",
    "# print('----- confusion matrix ------')\n",
    "# print(confusion_matrix(y_test, y_pred), '\\n')\n",
    "# print('-------- classification report ---------')\n",
    "# print(classification_report(y_test, y_pred))\n",
    "\n",
    "# this below ran for almost 2 hours and didn't finish yet...\n",
    "pipe_nn.fit(X['book_content'], y)\n",
    "y_pred = pipe_nn.predict(X['book_content'])\n",
    "\n",
    "print('accuracy score:', accuracy_score(y, y_pred), '\\n')\n",
    "print('----- confusion matrix ------')\n",
    "print(confusion_matrix(y, y_pred), '\\n')\n",
    "print('-------- classification report ---------')\n",
    "print(classification_report(y, y_pred))"
   ]
  },
  {
   "cell_type": "code",
   "execution_count": 8,
   "metadata": {},
   "outputs": [
    {
     "data": {
      "application/vnd.plotly.v1+json": {
       "config": {
        "plotlyServerURL": "https://plot.ly"
       },
       "data": [
        {
         "coloraxis": "coloraxis",
         "hovertemplate": "Predicted Label: %{x}<br>True Label: %{y}<br>color: %{z}<extra></extra>",
         "name": "0",
         "texttemplate": "%{z}",
         "type": "heatmap",
         "x": [
          "Homer",
          "Confucius",
          "Plato",
          "Cicero, Marcus Tullius",
          "Seneca, Lucius Annaeus",
          "Marcus Aurelius, Emperor of Rome",
          "Dante Alighieri",
          "Boccaccio, Giovanni",
          "Machiavelli, Niccolò",
          "Shakespeare, William",
          "Molière",
          "Defoe, Daniel",
          "Austen, Jane",
          "Jefferson, Thomas",
          "Dickens, Charles",
          "Doyle, Arthur Conan",
          "Dumas, Alexandre",
          "Twain, Mark",
          "Dick, Philip K.",
          "Lovecraft, H. P. (Howard Phillips)",
          "Churchill, Winston",
          "Huxley, Aldous"
         ],
         "xaxis": "x",
         "y": [
          "Homer",
          "Confucius",
          "Plato",
          "Cicero, Marcus Tullius",
          "Seneca, Lucius Annaeus",
          "Marcus Aurelius, Emperor of Rome",
          "Dante Alighieri",
          "Boccaccio, Giovanni",
          "Machiavelli, Niccolò",
          "Shakespeare, William",
          "Molière",
          "Defoe, Daniel",
          "Austen, Jane",
          "Jefferson, Thomas",
          "Dickens, Charles",
          "Doyle, Arthur Conan",
          "Dumas, Alexandre",
          "Twain, Mark",
          "Dick, Philip K.",
          "Lovecraft, H. P. (Howard Phillips)",
          "Churchill, Winston",
          "Huxley, Aldous"
         ],
         "yaxis": "y",
         "z": [
          [
           14,
           0,
           0,
           0,
           0,
           0,
           0,
           0,
           0,
           0,
           0,
           0,
           0,
           0,
           0,
           0,
           0,
           0,
           0,
           0,
           0,
           0
          ],
          [
           0,
           5,
           0,
           0,
           0,
           0,
           0,
           0,
           0,
           0,
           0,
           0,
           0,
           0,
           0,
           0,
           0,
           0,
           0,
           0,
           0,
           0
          ],
          [
           0,
           0,
           33,
           0,
           0,
           0,
           0,
           0,
           0,
           0,
           0,
           0,
           0,
           0,
           0,
           0,
           0,
           0,
           0,
           0,
           0,
           0
          ],
          [
           0,
           0,
           0,
           14,
           0,
           0,
           0,
           0,
           0,
           0,
           0,
           0,
           0,
           0,
           0,
           0,
           0,
           0,
           0,
           0,
           0,
           0
          ],
          [
           0,
           0,
           0,
           0,
           7,
           0,
           0,
           0,
           0,
           0,
           0,
           0,
           0,
           0,
           0,
           0,
           0,
           0,
           0,
           0,
           0,
           0
          ],
          [
           0,
           0,
           0,
           0,
           0,
           5,
           0,
           0,
           0,
           0,
           0,
           0,
           0,
           0,
           0,
           0,
           0,
           0,
           0,
           0,
           0,
           0
          ],
          [
           0,
           0,
           0,
           0,
           0,
           0,
           19,
           0,
           0,
           0,
           0,
           0,
           0,
           0,
           0,
           0,
           0,
           0,
           0,
           0,
           0,
           0
          ],
          [
           0,
           0,
           0,
           0,
           0,
           0,
           0,
           6,
           0,
           0,
           0,
           0,
           0,
           0,
           0,
           0,
           0,
           0,
           0,
           0,
           0,
           0
          ],
          [
           0,
           0,
           0,
           0,
           0,
           0,
           0,
           0,
           5,
           0,
           0,
           0,
           0,
           0,
           0,
           0,
           0,
           0,
           0,
           0,
           0,
           0
          ],
          [
           0,
           0,
           0,
           0,
           0,
           0,
           0,
           0,
           0,
           50,
           0,
           0,
           0,
           0,
           0,
           0,
           0,
           0,
           0,
           0,
           0,
           0
          ],
          [
           0,
           0,
           0,
           0,
           0,
           0,
           0,
           0,
           0,
           0,
           18,
           0,
           0,
           0,
           0,
           0,
           0,
           0,
           0,
           0,
           0,
           0
          ],
          [
           0,
           0,
           0,
           0,
           0,
           0,
           0,
           0,
           0,
           0,
           0,
           45,
           0,
           0,
           0,
           0,
           0,
           0,
           0,
           0,
           0,
           0
          ],
          [
           0,
           0,
           0,
           0,
           0,
           0,
           0,
           0,
           0,
           0,
           0,
           0,
           14,
           0,
           0,
           0,
           0,
           0,
           0,
           0,
           0,
           0
          ],
          [
           0,
           0,
           0,
           0,
           0,
           0,
           0,
           0,
           0,
           0,
           0,
           0,
           0,
           19,
           0,
           0,
           0,
           0,
           0,
           0,
           0,
           0
          ],
          [
           0,
           0,
           0,
           0,
           0,
           0,
           0,
           0,
           0,
           0,
           0,
           0,
           0,
           0,
           50,
           0,
           0,
           0,
           0,
           0,
           0,
           0
          ],
          [
           0,
           0,
           0,
           0,
           0,
           0,
           0,
           0,
           0,
           0,
           0,
           0,
           0,
           0,
           0,
           50,
           0,
           0,
           0,
           0,
           0,
           0
          ],
          [
           0,
           0,
           0,
           0,
           0,
           0,
           0,
           0,
           0,
           0,
           0,
           0,
           0,
           0,
           0,
           0,
           50,
           0,
           0,
           0,
           0,
           0
          ],
          [
           0,
           0,
           0,
           0,
           0,
           0,
           0,
           0,
           0,
           0,
           0,
           0,
           0,
           0,
           0,
           0,
           0,
           50,
           0,
           0,
           0,
           0
          ],
          [
           0,
           0,
           0,
           0,
           0,
           0,
           0,
           0,
           0,
           0,
           0,
           0,
           0,
           0,
           0,
           0,
           0,
           0,
           14,
           0,
           0,
           0
          ],
          [
           0,
           0,
           0,
           0,
           0,
           0,
           0,
           0,
           0,
           0,
           0,
           0,
           0,
           0,
           0,
           0,
           0,
           0,
           0,
           8,
           0,
           0
          ],
          [
           0,
           0,
           0,
           0,
           0,
           0,
           0,
           0,
           0,
           0,
           0,
           0,
           0,
           0,
           0,
           0,
           0,
           0,
           0,
           0,
           50,
           0
          ],
          [
           0,
           0,
           0,
           0,
           0,
           0,
           0,
           0,
           0,
           0,
           0,
           0,
           0,
           0,
           0,
           0,
           0,
           0,
           0,
           0,
           0,
           12
          ]
         ]
        }
       ],
       "layout": {
        "coloraxis": {
         "colorscale": [
          [
           0,
           "rgb(209, 238, 234)"
          ],
          [
           0.16666666666666666,
           "rgb(168, 219, 217)"
          ],
          [
           0.3333333333333333,
           "rgb(133, 196, 201)"
          ],
          [
           0.5,
           "rgb(104, 171, 184)"
          ],
          [
           0.6666666666666666,
           "rgb(79, 144, 166)"
          ],
          [
           0.8333333333333334,
           "rgb(59, 115, 143)"
          ],
          [
           1,
           "rgb(42, 86, 116)"
          ]
         ],
         "showscale": false
        },
        "height": 800,
        "margin": {
         "t": 60
        },
        "template": {
         "data": {
          "bar": [
           {
            "error_x": {
             "color": "#2a3f5f"
            },
            "error_y": {
             "color": "#2a3f5f"
            },
            "marker": {
             "line": {
              "color": "#E5ECF6",
              "width": 0.5
             },
             "pattern": {
              "fillmode": "overlay",
              "size": 10,
              "solidity": 0.2
             }
            },
            "type": "bar"
           }
          ],
          "barpolar": [
           {
            "marker": {
             "line": {
              "color": "#E5ECF6",
              "width": 0.5
             },
             "pattern": {
              "fillmode": "overlay",
              "size": 10,
              "solidity": 0.2
             }
            },
            "type": "barpolar"
           }
          ],
          "carpet": [
           {
            "aaxis": {
             "endlinecolor": "#2a3f5f",
             "gridcolor": "white",
             "linecolor": "white",
             "minorgridcolor": "white",
             "startlinecolor": "#2a3f5f"
            },
            "baxis": {
             "endlinecolor": "#2a3f5f",
             "gridcolor": "white",
             "linecolor": "white",
             "minorgridcolor": "white",
             "startlinecolor": "#2a3f5f"
            },
            "type": "carpet"
           }
          ],
          "choropleth": [
           {
            "colorbar": {
             "outlinewidth": 0,
             "ticks": ""
            },
            "type": "choropleth"
           }
          ],
          "contour": [
           {
            "colorbar": {
             "outlinewidth": 0,
             "ticks": ""
            },
            "colorscale": [
             [
              0,
              "#0d0887"
             ],
             [
              0.1111111111111111,
              "#46039f"
             ],
             [
              0.2222222222222222,
              "#7201a8"
             ],
             [
              0.3333333333333333,
              "#9c179e"
             ],
             [
              0.4444444444444444,
              "#bd3786"
             ],
             [
              0.5555555555555556,
              "#d8576b"
             ],
             [
              0.6666666666666666,
              "#ed7953"
             ],
             [
              0.7777777777777778,
              "#fb9f3a"
             ],
             [
              0.8888888888888888,
              "#fdca26"
             ],
             [
              1,
              "#f0f921"
             ]
            ],
            "type": "contour"
           }
          ],
          "contourcarpet": [
           {
            "colorbar": {
             "outlinewidth": 0,
             "ticks": ""
            },
            "type": "contourcarpet"
           }
          ],
          "heatmap": [
           {
            "colorbar": {
             "outlinewidth": 0,
             "ticks": ""
            },
            "colorscale": [
             [
              0,
              "#0d0887"
             ],
             [
              0.1111111111111111,
              "#46039f"
             ],
             [
              0.2222222222222222,
              "#7201a8"
             ],
             [
              0.3333333333333333,
              "#9c179e"
             ],
             [
              0.4444444444444444,
              "#bd3786"
             ],
             [
              0.5555555555555556,
              "#d8576b"
             ],
             [
              0.6666666666666666,
              "#ed7953"
             ],
             [
              0.7777777777777778,
              "#fb9f3a"
             ],
             [
              0.8888888888888888,
              "#fdca26"
             ],
             [
              1,
              "#f0f921"
             ]
            ],
            "type": "heatmap"
           }
          ],
          "heatmapgl": [
           {
            "colorbar": {
             "outlinewidth": 0,
             "ticks": ""
            },
            "colorscale": [
             [
              0,
              "#0d0887"
             ],
             [
              0.1111111111111111,
              "#46039f"
             ],
             [
              0.2222222222222222,
              "#7201a8"
             ],
             [
              0.3333333333333333,
              "#9c179e"
             ],
             [
              0.4444444444444444,
              "#bd3786"
             ],
             [
              0.5555555555555556,
              "#d8576b"
             ],
             [
              0.6666666666666666,
              "#ed7953"
             ],
             [
              0.7777777777777778,
              "#fb9f3a"
             ],
             [
              0.8888888888888888,
              "#fdca26"
             ],
             [
              1,
              "#f0f921"
             ]
            ],
            "type": "heatmapgl"
           }
          ],
          "histogram": [
           {
            "marker": {
             "pattern": {
              "fillmode": "overlay",
              "size": 10,
              "solidity": 0.2
             }
            },
            "type": "histogram"
           }
          ],
          "histogram2d": [
           {
            "colorbar": {
             "outlinewidth": 0,
             "ticks": ""
            },
            "colorscale": [
             [
              0,
              "#0d0887"
             ],
             [
              0.1111111111111111,
              "#46039f"
             ],
             [
              0.2222222222222222,
              "#7201a8"
             ],
             [
              0.3333333333333333,
              "#9c179e"
             ],
             [
              0.4444444444444444,
              "#bd3786"
             ],
             [
              0.5555555555555556,
              "#d8576b"
             ],
             [
              0.6666666666666666,
              "#ed7953"
             ],
             [
              0.7777777777777778,
              "#fb9f3a"
             ],
             [
              0.8888888888888888,
              "#fdca26"
             ],
             [
              1,
              "#f0f921"
             ]
            ],
            "type": "histogram2d"
           }
          ],
          "histogram2dcontour": [
           {
            "colorbar": {
             "outlinewidth": 0,
             "ticks": ""
            },
            "colorscale": [
             [
              0,
              "#0d0887"
             ],
             [
              0.1111111111111111,
              "#46039f"
             ],
             [
              0.2222222222222222,
              "#7201a8"
             ],
             [
              0.3333333333333333,
              "#9c179e"
             ],
             [
              0.4444444444444444,
              "#bd3786"
             ],
             [
              0.5555555555555556,
              "#d8576b"
             ],
             [
              0.6666666666666666,
              "#ed7953"
             ],
             [
              0.7777777777777778,
              "#fb9f3a"
             ],
             [
              0.8888888888888888,
              "#fdca26"
             ],
             [
              1,
              "#f0f921"
             ]
            ],
            "type": "histogram2dcontour"
           }
          ],
          "mesh3d": [
           {
            "colorbar": {
             "outlinewidth": 0,
             "ticks": ""
            },
            "type": "mesh3d"
           }
          ],
          "parcoords": [
           {
            "line": {
             "colorbar": {
              "outlinewidth": 0,
              "ticks": ""
             }
            },
            "type": "parcoords"
           }
          ],
          "pie": [
           {
            "automargin": true,
            "type": "pie"
           }
          ],
          "scatter": [
           {
            "fillpattern": {
             "fillmode": "overlay",
             "size": 10,
             "solidity": 0.2
            },
            "type": "scatter"
           }
          ],
          "scatter3d": [
           {
            "line": {
             "colorbar": {
              "outlinewidth": 0,
              "ticks": ""
             }
            },
            "marker": {
             "colorbar": {
              "outlinewidth": 0,
              "ticks": ""
             }
            },
            "type": "scatter3d"
           }
          ],
          "scattercarpet": [
           {
            "marker": {
             "colorbar": {
              "outlinewidth": 0,
              "ticks": ""
             }
            },
            "type": "scattercarpet"
           }
          ],
          "scattergeo": [
           {
            "marker": {
             "colorbar": {
              "outlinewidth": 0,
              "ticks": ""
             }
            },
            "type": "scattergeo"
           }
          ],
          "scattergl": [
           {
            "marker": {
             "colorbar": {
              "outlinewidth": 0,
              "ticks": ""
             }
            },
            "type": "scattergl"
           }
          ],
          "scattermapbox": [
           {
            "marker": {
             "colorbar": {
              "outlinewidth": 0,
              "ticks": ""
             }
            },
            "type": "scattermapbox"
           }
          ],
          "scatterpolar": [
           {
            "marker": {
             "colorbar": {
              "outlinewidth": 0,
              "ticks": ""
             }
            },
            "type": "scatterpolar"
           }
          ],
          "scatterpolargl": [
           {
            "marker": {
             "colorbar": {
              "outlinewidth": 0,
              "ticks": ""
             }
            },
            "type": "scatterpolargl"
           }
          ],
          "scatterternary": [
           {
            "marker": {
             "colorbar": {
              "outlinewidth": 0,
              "ticks": ""
             }
            },
            "type": "scatterternary"
           }
          ],
          "surface": [
           {
            "colorbar": {
             "outlinewidth": 0,
             "ticks": ""
            },
            "colorscale": [
             [
              0,
              "#0d0887"
             ],
             [
              0.1111111111111111,
              "#46039f"
             ],
             [
              0.2222222222222222,
              "#7201a8"
             ],
             [
              0.3333333333333333,
              "#9c179e"
             ],
             [
              0.4444444444444444,
              "#bd3786"
             ],
             [
              0.5555555555555556,
              "#d8576b"
             ],
             [
              0.6666666666666666,
              "#ed7953"
             ],
             [
              0.7777777777777778,
              "#fb9f3a"
             ],
             [
              0.8888888888888888,
              "#fdca26"
             ],
             [
              1,
              "#f0f921"
             ]
            ],
            "type": "surface"
           }
          ],
          "table": [
           {
            "cells": {
             "fill": {
              "color": "#EBF0F8"
             },
             "line": {
              "color": "white"
             }
            },
            "header": {
             "fill": {
              "color": "#C8D4E3"
             },
             "line": {
              "color": "white"
             }
            },
            "type": "table"
           }
          ]
         },
         "layout": {
          "annotationdefaults": {
           "arrowcolor": "#2a3f5f",
           "arrowhead": 0,
           "arrowwidth": 1
          },
          "autotypenumbers": "strict",
          "coloraxis": {
           "colorbar": {
            "outlinewidth": 0,
            "ticks": ""
           }
          },
          "colorscale": {
           "diverging": [
            [
             0,
             "#8e0152"
            ],
            [
             0.1,
             "#c51b7d"
            ],
            [
             0.2,
             "#de77ae"
            ],
            [
             0.3,
             "#f1b6da"
            ],
            [
             0.4,
             "#fde0ef"
            ],
            [
             0.5,
             "#f7f7f7"
            ],
            [
             0.6,
             "#e6f5d0"
            ],
            [
             0.7,
             "#b8e186"
            ],
            [
             0.8,
             "#7fbc41"
            ],
            [
             0.9,
             "#4d9221"
            ],
            [
             1,
             "#276419"
            ]
           ],
           "sequential": [
            [
             0,
             "#0d0887"
            ],
            [
             0.1111111111111111,
             "#46039f"
            ],
            [
             0.2222222222222222,
             "#7201a8"
            ],
            [
             0.3333333333333333,
             "#9c179e"
            ],
            [
             0.4444444444444444,
             "#bd3786"
            ],
            [
             0.5555555555555556,
             "#d8576b"
            ],
            [
             0.6666666666666666,
             "#ed7953"
            ],
            [
             0.7777777777777778,
             "#fb9f3a"
            ],
            [
             0.8888888888888888,
             "#fdca26"
            ],
            [
             1,
             "#f0f921"
            ]
           ],
           "sequentialminus": [
            [
             0,
             "#0d0887"
            ],
            [
             0.1111111111111111,
             "#46039f"
            ],
            [
             0.2222222222222222,
             "#7201a8"
            ],
            [
             0.3333333333333333,
             "#9c179e"
            ],
            [
             0.4444444444444444,
             "#bd3786"
            ],
            [
             0.5555555555555556,
             "#d8576b"
            ],
            [
             0.6666666666666666,
             "#ed7953"
            ],
            [
             0.7777777777777778,
             "#fb9f3a"
            ],
            [
             0.8888888888888888,
             "#fdca26"
            ],
            [
             1,
             "#f0f921"
            ]
           ]
          },
          "colorway": [
           "#636efa",
           "#EF553B",
           "#00cc96",
           "#ab63fa",
           "#FFA15A",
           "#19d3f3",
           "#FF6692",
           "#B6E880",
           "#FF97FF",
           "#FECB52"
          ],
          "font": {
           "color": "#2a3f5f"
          },
          "geo": {
           "bgcolor": "white",
           "lakecolor": "white",
           "landcolor": "#E5ECF6",
           "showlakes": true,
           "showland": true,
           "subunitcolor": "white"
          },
          "hoverlabel": {
           "align": "left"
          },
          "hovermode": "closest",
          "mapbox": {
           "style": "light"
          },
          "paper_bgcolor": "white",
          "plot_bgcolor": "#E5ECF6",
          "polar": {
           "angularaxis": {
            "gridcolor": "white",
            "linecolor": "white",
            "ticks": ""
           },
           "bgcolor": "#E5ECF6",
           "radialaxis": {
            "gridcolor": "white",
            "linecolor": "white",
            "ticks": ""
           }
          },
          "scene": {
           "xaxis": {
            "backgroundcolor": "#E5ECF6",
            "gridcolor": "white",
            "gridwidth": 2,
            "linecolor": "white",
            "showbackground": true,
            "ticks": "",
            "zerolinecolor": "white"
           },
           "yaxis": {
            "backgroundcolor": "#E5ECF6",
            "gridcolor": "white",
            "gridwidth": 2,
            "linecolor": "white",
            "showbackground": true,
            "ticks": "",
            "zerolinecolor": "white"
           },
           "zaxis": {
            "backgroundcolor": "#E5ECF6",
            "gridcolor": "white",
            "gridwidth": 2,
            "linecolor": "white",
            "showbackground": true,
            "ticks": "",
            "zerolinecolor": "white"
           }
          },
          "shapedefaults": {
           "line": {
            "color": "#2a3f5f"
           }
          },
          "ternary": {
           "aaxis": {
            "gridcolor": "white",
            "linecolor": "white",
            "ticks": ""
           },
           "baxis": {
            "gridcolor": "white",
            "linecolor": "white",
            "ticks": ""
           },
           "bgcolor": "#E5ECF6",
           "caxis": {
            "gridcolor": "white",
            "linecolor": "white",
            "ticks": ""
           }
          },
          "title": {
           "x": 0.05
          },
          "xaxis": {
           "automargin": true,
           "gridcolor": "white",
           "linecolor": "white",
           "ticks": "",
           "title": {
            "standoff": 15
           },
           "zerolinecolor": "white",
           "zerolinewidth": 2
          },
          "yaxis": {
           "automargin": true,
           "gridcolor": "white",
           "linecolor": "white",
           "ticks": "",
           "title": {
            "standoff": 15
           },
           "zerolinecolor": "white",
           "zerolinewidth": 2
          }
         }
        },
        "width": 1000,
        "xaxis": {
         "anchor": "y",
         "constrain": "domain",
         "domain": [
          0,
          1
         ],
         "scaleanchor": "y",
         "title": {
          "text": "Predicted Label"
         }
        },
        "yaxis": {
         "anchor": "x",
         "autorange": "reversed",
         "constrain": "domain",
         "domain": [
          0,
          1
         ],
         "title": {
          "text": "True Label"
         }
        }
       }
      }
     },
     "metadata": {},
     "output_type": "display_data"
    }
   ],
   "source": [
    "fig = px.imshow(confusion_matrix(y, pipe_nn.predict(X['book_content'])),\n",
    "                width=1000,\n",
    "                height=800,\n",
    "                text_auto=True,\n",
    "                labels=dict(x='Predicted Label',\n",
    "                            y='True Label'),\n",
    "                            x=select_authors,\n",
    "                            y=select_authors,\n",
    "                            color_continuous_scale='Teal'\n",
    "                            )\n",
    "\n",
    "fig.update(layout_coloraxis_showscale=False)\n",
    "\n",
    "fig.show()"
   ]
  },
  {
   "attachments": {},
   "cell_type": "markdown",
   "metadata": {},
   "source": [
    "## Encoding and lower-dimensional representation of the NN\n",
    "\n",
    "With a trained model, using embeddings to find similarities between books and authors."
   ]
  },
  {
   "cell_type": "code",
   "execution_count": 9,
   "metadata": {},
   "outputs": [],
   "source": [
    "# have to use the regressor because classifiers thinks we're expecting int results, even if we chop it off before final step!\n",
    "# :2 and layers = 3 if I use two hidden layers with nn; for one, reduce those by 1\n",
    "encoder = MLPRegressor()\n",
    "encoder.coefs_ = pipe_nn['nn'].coefs_[:2]\n",
    "encoder.intercepts_ = pipe_nn['nn'].intercepts_[:2]\n",
    "encoder.n_layers_ = 3\n",
    "encoder.out_activation_ = 'relu'"
   ]
  },
  {
   "cell_type": "code",
   "execution_count": 10,
   "metadata": {},
   "outputs": [],
   "source": [
    "# copy the pipeline\n",
    "pipe_nn_encoder = deepcopy(pipe_nn)\n",
    "\n",
    "# remove the classifier\n",
    "pipe_nn_encoder.steps.pop(2)\n",
    "\n",
    "# append the new encoder (essentially, it contains all layers minus the final one)\n",
    "pipe_nn_encoder.steps.append(['enc', encoder])"
   ]
  },
  {
   "cell_type": "code",
   "execution_count": 11,
   "metadata": {},
   "outputs": [],
   "source": [
    "# now using predict from the encoder to get the 100-dimensional projection of the top six authors\n",
    "nn_represent = pipe_nn_encoder.predict(library_select['book_content'])"
   ]
  },
  {
   "cell_type": "code",
   "execution_count": 12,
   "metadata": {},
   "outputs": [
    {
     "data": {
      "text/plain": [
       "['../models/pipe_nn_encoder_02.joblib']"
      ]
     },
     "execution_count": 12,
     "metadata": {},
     "output_type": "execute_result"
    }
   ],
   "source": [
    "# to save the encoder\n",
    "# dump(pipe_nn_encoder, '../models/pipe_nn_encoder_01.joblib')\n",
    "#dump(pipe_nn_encoder, '../models/pipe_nn_encoder_02.joblib')"
   ]
  },
  {
   "attachments": {},
   "cell_type": "markdown",
   "metadata": {},
   "source": [
    "Finally, adding to that, the reduced 2D representation using UMAP."
   ]
  },
  {
   "cell_type": "code",
   "execution_count": 13,
   "metadata": {},
   "outputs": [],
   "source": [
    "umap_mnist = umap.UMAP()\n",
    "umap_mnist.fit(nn_represent)\n",
    "\n",
    "umap_projection = umap_mnist.transform(nn_represent)"
   ]
  },
  {
   "cell_type": "code",
   "execution_count": 14,
   "metadata": {},
   "outputs": [
    {
     "data": {
      "text/plain": [
       "['../models/umap_mnist_02.joblib']"
      ]
     },
     "execution_count": 14,
     "metadata": {},
     "output_type": "execute_result"
    }
   ],
   "source": [
    "# to save the umap representation\n",
    "# dump(umap_mnist, '../models/umap_mnist_01.joblib')\n",
    "#dump(umap_mnist, '../models/umap_mnist_02.joblib')"
   ]
  },
  {
   "cell_type": "code",
   "execution_count": 15,
   "metadata": {},
   "outputs": [],
   "source": [
    "# convert the 100 dimensional vector of neuron weights into dataframe\n",
    "library_select_represent = pd.DataFrame(nn_represent, columns=[f'dim_{x}' for x in range(100)])\n",
    "\n",
    "# and also the 2d representation\n",
    "library_select_proj = pd.DataFrame(umap_projection, columns=[f'proj_{x}' for x in range(2)])\n",
    "\n",
    "# concatenate together with some info from the original df. at this point, for this notebook won't be needing the book texts anymore\n",
    "# I'll create a new notebook for NN from a different package\n",
    "library_select = pd.concat([\n",
    "    library_select[['id','title','author','authorcentury']],\n",
    "    library_select_proj.set_index(library_select.index),\n",
    "    library_select_represent.set_index(library_select.index)],\n",
    "    axis=1)"
   ]
  },
  {
   "cell_type": "code",
   "execution_count": 16,
   "metadata": {},
   "outputs": [
    {
     "data": {
      "image/png": "[encoded data removed]",
      "text/plain": [
       "<Figure size 1600x800 with 1 Axes>"
      ]
     },
     "metadata": {},
     "output_type": "display_data"
    }
   ],
   "source": [
    "# # old code:\n",
    "# sns.scatterplot(x=umap_projection[:,0], y=umap_projection[:,1], \n",
    "#                 hue = library_select.replace({'author': num_to_authors})['author'].astype('category'),\n",
    "#                alpha = 0.7);\n",
    "\n",
    "plt.figure(figsize = (16,8))\n",
    "sns.scatterplot(data=library_select, x='proj_0', y='proj_1', \n",
    "                hue = 'author',\n",
    "               alpha = 0.7);"
   ]
  },
  {
   "cell_type": "code",
   "execution_count": 17,
   "metadata": {},
   "outputs": [
    {
     "data": {
      "text/plain": [
       "array([ 1., 14., 13., -6., 16., 19., 18., 15., -1., -4., 20.,  2., -7.,\n",
       "       17.])"
      ]
     },
     "execution_count": 17,
     "metadata": {},
     "output_type": "execute_result"
    }
   ],
   "source": [
    "library_select['authorcentury'].unique()"
   ]
  },
  {
   "cell_type": "code",
   "execution_count": 18,
   "metadata": {},
   "outputs": [
    {
     "data": {
      "image/png": "[encoded data removed]",
      "text/plain": [
       "<Figure size 1600x800 with 1 Axes>"
      ]
     },
     "metadata": {},
     "output_type": "display_data"
    }
   ],
   "source": [
    "plt.figure(figsize = (16,8))\n",
    "sns.scatterplot(data=library_select, x='proj_0', y='proj_1', \n",
    "                hue = library_select['authorcentury'].astype('category'),\n",
    "               alpha = 0.7);"
   ]
  },
  {
   "cell_type": "code",
   "execution_count": 19,
   "metadata": {},
   "outputs": [],
   "source": [
    "# make a copy -- personal note: important to use copy!! otherwise, it's just a view of the original dataframe \n",
    "# and that gives warnings in the following two parts\n",
    "library_2d_dist = library_select[['author', 'proj_0', 'proj_1']].copy()\n",
    "\n",
    "# calculate the mean point for each author\n",
    "library_2d_dist[['proj_0_mean', 'proj_1_mean']] = library_2d_dist.groupby('author')[['proj_0', 'proj_1']].transform('mean')\n",
    "\n",
    "# get the distance between each point and the mean for that author\n",
    "library_2d_dist['dist_mean'] = np.sqrt((library_2d_dist['proj_0'] - library_2d_dist['proj_0_mean'])**2 + (library_2d_dist['proj_1'] - library_2d_dist['proj_1_mean'])**2)\n",
    "\n"
   ]
  },
  {
   "cell_type": "code",
   "execution_count": 20,
   "metadata": {},
   "outputs": [
    {
     "data": {
      "text/html": [
       "<div>\n",
       "<style scoped>\n",
       "    .dataframe tbody tr th:only-of-type {\n",
       "        vertical-align: middle;\n",
       "    }\n",
       "\n",
       "    .dataframe tbody tr th {\n",
       "        vertical-align: top;\n",
       "    }\n",
       "\n",
       "    .dataframe thead th {\n",
       "        text-align: right;\n",
       "    }\n",
       "</style>\n",
       "<table border=\"1\" class=\"dataframe\">\n",
       "  <thead>\n",
       "    <tr style=\"text-align: right;\">\n",
       "      <th></th>\n",
       "      <th>author</th>\n",
       "      <th>proj_0</th>\n",
       "      <th>proj_1</th>\n",
       "      <th>proj_0_mean</th>\n",
       "      <th>proj_1_mean</th>\n",
       "      <th>dist_mean</th>\n",
       "    </tr>\n",
       "  </thead>\n",
       "  <tbody>\n",
       "    <tr>\n",
       "      <th>1</th>\n",
       "      <td>Seneca, Lucius Annaeus</td>\n",
       "      <td>6.359278</td>\n",
       "      <td>2.353458</td>\n",
       "      <td>5.539499</td>\n",
       "      <td>2.862678</td>\n",
       "      <td>0.965061</td>\n",
       "    </tr>\n",
       "    <tr>\n",
       "      <th>6</th>\n",
       "      <td>Boccaccio, Giovanni</td>\n",
       "      <td>3.008320</td>\n",
       "      <td>2.769008</td>\n",
       "      <td>2.582992</td>\n",
       "      <td>4.200845</td>\n",
       "      <td>1.493674</td>\n",
       "    </tr>\n",
       "    <tr>\n",
       "      <th>21</th>\n",
       "      <td>Dante Alighieri</td>\n",
       "      <td>2.691168</td>\n",
       "      <td>5.552940</td>\n",
       "      <td>2.907257</td>\n",
       "      <td>5.351478</td>\n",
       "      <td>0.295435</td>\n",
       "    </tr>\n",
       "    <tr>\n",
       "      <th>32</th>\n",
       "      <td>Dante Alighieri</td>\n",
       "      <td>2.554750</td>\n",
       "      <td>5.607345</td>\n",
       "      <td>2.907257</td>\n",
       "      <td>5.351478</td>\n",
       "      <td>0.435579</td>\n",
       "    </tr>\n",
       "    <tr>\n",
       "      <th>43</th>\n",
       "      <td>Dante Alighieri</td>\n",
       "      <td>2.722931</td>\n",
       "      <td>5.535054</td>\n",
       "      <td>2.907257</td>\n",
       "      <td>5.351478</td>\n",
       "      <td>0.260147</td>\n",
       "    </tr>\n",
       "    <tr>\n",
       "      <th>...</th>\n",
       "      <td>...</td>\n",
       "      <td>...</td>\n",
       "      <td>...</td>\n",
       "      <td>...</td>\n",
       "      <td>...</td>\n",
       "      <td>...</td>\n",
       "    </tr>\n",
       "    <tr>\n",
       "      <th>70047</th>\n",
       "      <td>Dickens, Charles</td>\n",
       "      <td>4.886846</td>\n",
       "      <td>-0.058703</td>\n",
       "      <td>4.889219</td>\n",
       "      <td>0.472903</td>\n",
       "      <td>0.531611</td>\n",
       "    </tr>\n",
       "    <tr>\n",
       "      <th>70069</th>\n",
       "      <td>Dumas, Alexandre</td>\n",
       "      <td>3.153095</td>\n",
       "      <td>8.731728</td>\n",
       "      <td>3.479299</td>\n",
       "      <td>9.457211</td>\n",
       "      <td>0.795446</td>\n",
       "    </tr>\n",
       "    <tr>\n",
       "      <th>70091</th>\n",
       "      <td>Dickens, Charles</td>\n",
       "      <td>4.770545</td>\n",
       "      <td>-0.078079</td>\n",
       "      <td>4.889219</td>\n",
       "      <td>0.472903</td>\n",
       "      <td>0.563617</td>\n",
       "    </tr>\n",
       "    <tr>\n",
       "      <th>70102</th>\n",
       "      <td>Dickens, Charles</td>\n",
       "      <td>5.017384</td>\n",
       "      <td>0.210327</td>\n",
       "      <td>4.889219</td>\n",
       "      <td>0.472903</td>\n",
       "      <td>0.292186</td>\n",
       "    </tr>\n",
       "    <tr>\n",
       "      <th>70269</th>\n",
       "      <td>Defoe, Daniel</td>\n",
       "      <td>6.160488</td>\n",
       "      <td>4.885225</td>\n",
       "      <td>6.260802</td>\n",
       "      <td>4.412104</td>\n",
       "      <td>0.483638</td>\n",
       "    </tr>\n",
       "  </tbody>\n",
       "</table>\n",
       "<p>538 rows × 6 columns</p>\n",
       "</div>"
      ],
      "text/plain": [
       "                       author    proj_0    proj_1  proj_0_mean  proj_1_mean  \\\n",
       "1      Seneca, Lucius Annaeus  6.359278  2.353458     5.539499     2.862678   \n",
       "6         Boccaccio, Giovanni  3.008320  2.769008     2.582992     4.200845   \n",
       "21            Dante Alighieri  2.691168  5.552940     2.907257     5.351478   \n",
       "32            Dante Alighieri  2.554750  5.607345     2.907257     5.351478   \n",
       "43            Dante Alighieri  2.722931  5.535054     2.907257     5.351478   \n",
       "...                       ...       ...       ...          ...          ...   \n",
       "70047        Dickens, Charles  4.886846 -0.058703     4.889219     0.472903   \n",
       "70069        Dumas, Alexandre  3.153095  8.731728     3.479299     9.457211   \n",
       "70091        Dickens, Charles  4.770545 -0.078079     4.889219     0.472903   \n",
       "70102        Dickens, Charles  5.017384  0.210327     4.889219     0.472903   \n",
       "70269           Defoe, Daniel  6.160488  4.885225     6.260802     4.412104   \n",
       "\n",
       "       dist_mean  \n",
       "1       0.965061  \n",
       "6       1.493674  \n",
       "21      0.295435  \n",
       "32      0.435579  \n",
       "43      0.260147  \n",
       "...          ...  \n",
       "70047   0.531611  \n",
       "70069   0.795446  \n",
       "70091   0.563617  \n",
       "70102   0.292186  \n",
       "70269   0.483638  \n",
       "\n",
       "[538 rows x 6 columns]"
      ]
     },
     "execution_count": 20,
     "metadata": {},
     "output_type": "execute_result"
    }
   ],
   "source": [
    "library_2d_dist"
   ]
  },
  {
   "cell_type": "code",
   "execution_count": 21,
   "metadata": {},
   "outputs": [
    {
     "data": {
      "text/plain": [
       "count    538.000000\n",
       "mean       0.630981\n",
       "std        0.835103\n",
       "min        0.007788\n",
       "25%        0.295813\n",
       "50%        0.495159\n",
       "75%        0.711659\n",
       "max        9.610259\n",
       "Name: dist_mean, dtype: float64"
      ]
     },
     "execution_count": 21,
     "metadata": {},
     "output_type": "execute_result"
    }
   ],
   "source": [
    "library_2d_dist['dist_mean'].describe()"
   ]
  },
  {
   "cell_type": "code",
   "execution_count": 22,
   "metadata": {},
   "outputs": [],
   "source": [
    "dist2d_mean = library_2d_dist['dist_mean'].mean()"
   ]
  },
  {
   "attachments": {},
   "cell_type": "markdown",
   "metadata": {},
   "source": [
    "## Cosine Similarity\n",
    "\n",
    "Another way to look at the produced weights and which ones are similar"
   ]
  },
  {
   "attachments": {},
   "cell_type": "markdown",
   "metadata": {},
   "source": [
    "Calculating cosine similarity (using dim_0 to dim_99 cols) - for a first attempt, group it by author."
   ]
  },
  {
   "cell_type": "code",
   "execution_count": 23,
   "metadata": {},
   "outputs": [],
   "source": [
    "# idea use this to transpose and then see the dist from each book to this point?\n",
    "library_select_grouped = library_select.drop(columns=['id','title','authorcentury','proj_0','proj_1']).groupby('author').mean()"
   ]
  },
  {
   "cell_type": "code",
   "execution_count": 24,
   "metadata": {},
   "outputs": [],
   "source": [
    "dists = spatial.distance.pdist(library_select_grouped.values, metric = 'cosine')"
   ]
  },
  {
   "cell_type": "code",
   "execution_count": 25,
   "metadata": {},
   "outputs": [
    {
     "data": {
      "image/png": "[encoded data removed]",
      "text/plain": [
       "<Figure size 1200x800 with 1 Axes>"
      ]
     },
     "metadata": {},
     "output_type": "display_data"
    }
   ],
   "source": [
    "mergings = linkage(dists, method='complete')\n",
    "\n",
    "plt.figure(figsize = (12,8))\n",
    "dendrogram(mergings,\n",
    "           labels = list(library_select_grouped.index),\n",
    "           leaf_rotation = 90,\n",
    "           leaf_font_size = 6);\n",
    "\n",
    "plt.tight_layout()"
   ]
  },
  {
   "cell_type": "code",
   "execution_count": null,
   "metadata": {},
   "outputs": [],
   "source": [
    "# before I realized to use this approach, I first concatenated all the texts in the pandas series which returns an extremely long string\n",
    "# I then turn that string into a pandas series (the predict requires an iterable object)\n",
    "# pipe_nn.predict(pd.Series(library_select.loc[library_select['author'] == 0]['book_content'].str.cat()))"
   ]
  },
  {
   "attachments": {},
   "cell_type": "markdown",
   "metadata": {},
   "source": [
    "## Introducing New Text\n",
    "\n",
    "This part will ideally be in an app where any text can be uploaded"
   ]
  },
  {
   "attachments": {},
   "cell_type": "markdown",
   "metadata": {},
   "source": [
    "Here I will test it with two books I've written."
   ]
  },
  {
   "cell_type": "code",
   "execution_count": null,
   "metadata": {},
   "outputs": [],
   "source": [
    "# if the model was not run above, this is where we load the encoder and the umamp_mnist\n",
    "#pipe_nn_encoder = load('../models/pipe_nn_encoder_01.joblib') \n",
    "#umap_mnist = load('../models/umap_mnist_01.joblib')"
   ]
  },
  {
   "cell_type": "code",
   "execution_count": 26,
   "metadata": {},
   "outputs": [],
   "source": [
    "newtext = pd.DataFrame()\n",
    "\n",
    "for book_num, book_name in enumerate(['Lambda', 'Deathway']):\n",
    "        filepath = f'../data/{book_name} by Tomo Umer.txt'\n",
    "\n",
    "        with open(filepath, encoding = 'utf-8') as fi:\n",
    "                book = fi.read()\n",
    "        \n",
    "        tmp_text = pd.DataFrame({'id': f'TU{str(book_num).zfill(3)}',\n",
    "                                 'title': [book_name],\n",
    "                                 'author': 'Umer, Tomo',\n",
    "                                 'authorcentury': 21,\n",
    "                                 'book_content': [book]})\n",
    "\n",
    "        newtext = pd.concat([newtext, tmp_text], ignore_index = True)"
   ]
  },
  {
   "cell_type": "code",
   "execution_count": 27,
   "metadata": {},
   "outputs": [
    {
     "data": {
      "text/html": [
       "<div>\n",
       "<style scoped>\n",
       "    .dataframe tbody tr th:only-of-type {\n",
       "        vertical-align: middle;\n",
       "    }\n",
       "\n",
       "    .dataframe tbody tr th {\n",
       "        vertical-align: top;\n",
       "    }\n",
       "\n",
       "    .dataframe thead th {\n",
       "        text-align: right;\n",
       "    }\n",
       "</style>\n",
       "<table border=\"1\" class=\"dataframe\">\n",
       "  <thead>\n",
       "    <tr style=\"text-align: right;\">\n",
       "      <th></th>\n",
       "      <th>id</th>\n",
       "      <th>title</th>\n",
       "      <th>author</th>\n",
       "      <th>authorcentury</th>\n",
       "      <th>book_content</th>\n",
       "    </tr>\n",
       "  </thead>\n",
       "  <tbody>\n",
       "    <tr>\n",
       "      <th>0</th>\n",
       "      <td>TU000</td>\n",
       "      <td>Lambda</td>\n",
       "      <td>Umer, Tomo</td>\n",
       "      <td>21</td>\n",
       "      <td>Lambda\\n\\n\\n\\n\\n\\n\\n\\n\\n\\n\\n\\n\\n\\n\\n\\n\\n\\n\\n\\n...</td>\n",
       "    </tr>\n",
       "    <tr>\n",
       "      <th>1</th>\n",
       "      <td>TU001</td>\n",
       "      <td>Deathway</td>\n",
       "      <td>Umer, Tomo</td>\n",
       "      <td>21</td>\n",
       "      <td>DeathwayIndex\\nIntroduction\\nMy second novel! ...</td>\n",
       "    </tr>\n",
       "  </tbody>\n",
       "</table>\n",
       "</div>"
      ],
      "text/plain": [
       "      id     title      author  authorcentury  \\\n",
       "0  TU000    Lambda  Umer, Tomo             21   \n",
       "1  TU001  Deathway  Umer, Tomo             21   \n",
       "\n",
       "                                        book_content  \n",
       "0  Lambda\\n\\n\\n\\n\\n\\n\\n\\n\\n\\n\\n\\n\\n\\n\\n\\n\\n\\n\\n\\n...  \n",
       "1  DeathwayIndex\\nIntroduction\\nMy second novel! ...  "
      ]
     },
     "execution_count": 27,
     "metadata": {},
     "output_type": "execute_result"
    }
   ],
   "source": [
    "newtext"
   ]
  },
  {
   "attachments": {},
   "cell_type": "markdown",
   "metadata": {},
   "source": [
    "As a reminder (to myself), in order to convert the new texts, we only need predict and transform methods"
   ]
  },
  {
   "cell_type": "code",
   "execution_count": 28,
   "metadata": {},
   "outputs": [],
   "source": [
    "# now using predict from the encoder to get the 100-dimensional projection of new text\n",
    "nn_represent_newtext = pipe_nn_encoder.predict(newtext['book_content'])\n",
    "\n",
    "# and its 2d representation using umap\n",
    "umap_projection_newtext = umap_mnist.transform(nn_represent_newtext)"
   ]
  },
  {
   "cell_type": "code",
   "execution_count": 29,
   "metadata": {},
   "outputs": [],
   "source": [
    "# and then just like with the authors, convert new texts into a dataframe\n",
    "# convert the 100 dimensional vector of neuron weights into dataframe\n",
    "newtxt_represent = pd.DataFrame(nn_represent_newtext, columns=[f'dim_{x}' for x in range(100)])\n",
    "\n",
    "# and also the 2d representation\n",
    "newtxt_proj = pd.DataFrame(umap_projection_newtext, columns=[f'proj_{x}' for x in range(2)])\n",
    "\n",
    "# concatenate together with some info from the original df. at this point, for this notebook won't be needing the book texts anymore\n",
    "# I'll create a new notebook for NN from a different package\n",
    "newtext = pd.concat([\n",
    "    newtext[['id','title','author','authorcentury']],\n",
    "    newtxt_proj.set_index(newtext.index),\n",
    "    newtxt_represent.set_index(newtext.index)],\n",
    "    axis=1)"
   ]
  },
  {
   "attachments": {},
   "cell_type": "markdown",
   "metadata": {},
   "source": [
    "Then, use the median 0.549409 (or possibly mean 0.721832) value to get a circle around the new texts - to visually represent similar books."
   ]
  },
  {
   "cell_type": "code",
   "execution_count": 30,
   "metadata": {},
   "outputs": [],
   "source": [
    "circle_edges = newtext[['proj_0', 'proj_1']].copy()"
   ]
  },
  {
   "cell_type": "code",
   "execution_count": 31,
   "metadata": {},
   "outputs": [],
   "source": [
    "circle_edges['x0'] = circle_edges['proj_0'] - dist2d_mean\n",
    "circle_edges['x1'] = circle_edges['proj_0'] + dist2d_mean\n",
    "circle_edges['y0'] = circle_edges['proj_1'] - dist2d_mean\n",
    "circle_edges['y1'] = circle_edges['proj_1'] + dist2d_mean"
   ]
  },
  {
   "cell_type": "code",
   "execution_count": 32,
   "metadata": {},
   "outputs": [
    {
     "data": {
      "text/html": [
       "<div>\n",
       "<style scoped>\n",
       "    .dataframe tbody tr th:only-of-type {\n",
       "        vertical-align: middle;\n",
       "    }\n",
       "\n",
       "    .dataframe tbody tr th {\n",
       "        vertical-align: top;\n",
       "    }\n",
       "\n",
       "    .dataframe thead th {\n",
       "        text-align: right;\n",
       "    }\n",
       "</style>\n",
       "<table border=\"1\" class=\"dataframe\">\n",
       "  <thead>\n",
       "    <tr style=\"text-align: right;\">\n",
       "      <th></th>\n",
       "      <th>proj_0</th>\n",
       "      <th>proj_1</th>\n",
       "      <th>x0</th>\n",
       "      <th>x1</th>\n",
       "      <th>y0</th>\n",
       "      <th>y1</th>\n",
       "    </tr>\n",
       "  </thead>\n",
       "  <tbody>\n",
       "    <tr>\n",
       "      <th>0</th>\n",
       "      <td>5.905713</td>\n",
       "      <td>3.898127</td>\n",
       "      <td>5.274732</td>\n",
       "      <td>6.536694</td>\n",
       "      <td>3.267146</td>\n",
       "      <td>4.529108</td>\n",
       "    </tr>\n",
       "    <tr>\n",
       "      <th>1</th>\n",
       "      <td>5.724050</td>\n",
       "      <td>1.660762</td>\n",
       "      <td>5.093069</td>\n",
       "      <td>6.355031</td>\n",
       "      <td>1.029781</td>\n",
       "      <td>2.291743</td>\n",
       "    </tr>\n",
       "  </tbody>\n",
       "</table>\n",
       "</div>"
      ],
      "text/plain": [
       "     proj_0    proj_1        x0        x1        y0        y1\n",
       "0  5.905713  3.898127  5.274732  6.536694  3.267146  4.529108\n",
       "1  5.724050  1.660762  5.093069  6.355031  1.029781  2.291743"
      ]
     },
     "execution_count": 32,
     "metadata": {},
     "output_type": "execute_result"
    }
   ],
   "source": [
    "circle_edges"
   ]
  },
  {
   "attachments": {},
   "cell_type": "markdown",
   "metadata": {},
   "source": [
    "Finally, simply add the new text to the library."
   ]
  },
  {
   "cell_type": "code",
   "execution_count": 33,
   "metadata": {},
   "outputs": [],
   "source": [
    "library_newtext = pd.concat([library_select, newtext])"
   ]
  },
  {
   "cell_type": "code",
   "execution_count": 34,
   "metadata": {},
   "outputs": [
    {
     "data": {
      "application/vnd.plotly.v1+json": {
       "config": {
        "plotlyServerURL": "https://plot.ly"
       },
       "data": [
        {
         "customdata": [
          [
           "Apocolocyntosis"
          ],
          [
           "L. Annaeus Seneca on Benefits"
          ],
          [
           "Two Tragedies of Seneca: Medea and The Daughters of Troy: Rendered into English Verse"
          ],
          [
           "Seneca's Morals of a Happy Life, Benefits, Anger and Clemency"
          ],
          [
           "The Tragedies of Seneca: Translated into English Verse, to Which Have Been Appended Comparative Analyses of the Corresponding Greek and Roman Plays, and a Mythological Index"
          ],
          [
           "Index of the Project Gutenberg Works of Lucius Annaeus Seneca"
          ],
          [
           "Minor Dialogues, Together With the Dialogue on Clemency"
          ]
         ],
         "hovertemplate": "author=Seneca, Lucius Annaeus<br>proj_0=%{x}<br>proj_1=%{y}<br>title=%{customdata[0]}<extra></extra>",
         "legendgroup": "Seneca, Lucius Annaeus",
         "marker": {
          "color": "#AA0DFE",
          "symbol": "circle"
         },
         "mode": "markers",
         "name": "Seneca, Lucius Annaeus",
         "orientation": "v",
         "showlegend": true,
         "type": "scatter",
         "x": [
          6.359277725219727,
          5.17404317855835,
          5.516793251037598,
          5.203135013580322,
          5.098394393920898,
          6.352631568908691,
          5.072218418121338
         ],
         "xaxis": "x",
         "y": [
          2.3534581661224365,
          2.9909584522247314,
          3.31630802154541,
          3.1619439125061035,
          3.1210176944732666,
          2.01009464263916,
          3.0849645137786865
         ],
         "yaxis": "y"
        },
        {
         "customdata": [
          [
           "La Fiammetta"
          ],
          [
           "The Decameron, Volume II"
          ],
          [
           "The Decameron of Giovanni Boccaccio"
          ],
          [
           "The Decameron, Volume I"
          ],
          [
           "The Decameron (Day 1 to Day 5): Containing an hundred pleasant Novels"
          ],
          [
           "The Decameron (Day 6 to Day 10): Containing an hundred pleasant Novels"
          ]
         ],
         "hovertemplate": "author=Boccaccio, Giovanni<br>proj_0=%{x}<br>proj_1=%{y}<br>title=%{customdata[0]}<extra></extra>",
         "legendgroup": "Boccaccio, Giovanni",
         "marker": {
          "color": "#3283FE",
          "symbol": "circle"
         },
         "mode": "markers",
         "name": "Boccaccio, Giovanni",
         "orientation": "v",
         "showlegend": true,
         "type": "scatter",
         "x": [
          3.0083203315734863,
          2.3099992275238037,
          2.3724710941314697,
          3.6100189685821533,
          2.091010332107544,
          2.1061325073242188
         ],
         "xaxis": "x",
         "y": [
          2.769007921218872,
          3.30532169342041,
          3.4334113597869873,
          9.403288841247559,
          3.144892454147339,
          3.1491479873657227
         ],
         "yaxis": "y"
        },
        {
         "customdata": [
          [
           "Divine Comedy, Longfellow's Translation, Hell"
          ],
          [
           "Divine Comedy, Longfellow's Translation, Purgatory"
          ],
          [
           "Divine Comedy, Longfellow's Translation, Paradise"
          ],
          [
           "Divine Comedy, Longfellow's Translation, Complete"
          ],
          [
           "Divine Comedy, Cary's Translation, Hell"
          ],
          [
           "Divine Comedy, Cary's Translation, Purgatory"
          ],
          [
           "Divine Comedy, Cary's Translation, Paradise"
          ],
          [
           "Divine Comedy, Cary's Translation, Complete"
          ],
          [
           "The Banquet (Il Convito)"
          ],
          [
           "The Divine Comedy, Volume 1, Hell"
          ],
          [
           "The Divine Comedy, Volume 2, Purgatory"
          ],
          [
           "The Divine Comedy, Volume 3, Paradise"
          ],
          [
           "The New Life (La Vita Nuova)"
          ],
          [
           "The Divine Comedy of Dante Alighieri: The Inferno"
          ],
          [
           "The Vision of Dante: A story for little children and a talk to their mothers: (Second Edition)"
          ],
          [
           "The vision of hell.: By Dante Alighieri.; Translated by Rev. Henry Francis Cary, M.A.; and illustrated with the seventy-five designs of Gustave Doré."
          ],
          [
           "The Divine Comedy by Dante, Illustrated, Purgatory, Complete"
          ],
          [
           "The Divine Comedy by Dante, Illustrated, Paradise, Complete"
          ],
          [
           "The divine comedy"
          ]
         ],
         "hovertemplate": "author=Dante Alighieri<br>proj_0=%{x}<br>proj_1=%{y}<br>title=%{customdata[0]}<extra></extra>",
         "legendgroup": "Dante Alighieri",
         "marker": {
          "color": "#85660D",
          "symbol": "circle"
         },
         "mode": "markers",
         "name": "Dante Alighieri",
         "orientation": "v",
         "showlegend": true,
         "type": "scatter",
         "x": [
          2.6911675930023193,
          2.554750442504883,
          2.722930669784546,
          2.669989585876465,
          2.38631010055542,
          2.3719496726989746,
          2.3286755084991455,
          2.3978054523468018,
          2.7722344398498535,
          2.714792490005493,
          2.5994205474853516,
          2.9201180934906006,
          5.700784206390381,
          2.6670913696289062,
          6.085504531860352,
          2.4541287422180176,
          2.3915908336639404,
          2.4255337715148926,
          2.3831026554107666
         ],
         "xaxis": "x",
         "y": [
          5.552940368652344,
          5.607345104217529,
          5.535053730010986,
          5.49647855758667,
          5.726893901824951,
          5.761354446411133,
          5.790169715881348,
          5.732306003570557,
          5.461521148681641,
          5.481104850769043,
          5.499387741088867,
          5.328676700592041,
          3.861572027206421,
          5.556490898132324,
          2.417642593383789,
          5.662633419036865,
          5.768980503082275,
          5.6909260749816895,
          5.746600151062012
         ],
         "yaxis": "y"
        },
        {
         "customdata": [
          [
           "Chinese Literature: Comprising the Analects of Confucius, the Sayings of Mencius, the Shi-King, the Travels of Fâ-Hien, and the Sorrows of Han"
          ],
          [
           "The Sayings of Confucius"
          ],
          [
           "The Analects of Confucius (from the Chinese Classics)"
          ],
          [
           "The Wisdom of Confucius: with Critical and Biographical Sketches"
          ],
          [
           "The Sayings of Confucius: A New Translation of the Greater Part of the Confucian Analects"
          ]
         ],
         "hovertemplate": "author=Confucius<br>proj_0=%{x}<br>proj_1=%{y}<br>title=%{customdata[0]}<extra></extra>",
         "legendgroup": "Confucius",
         "marker": {
          "color": "#782AB6",
          "symbol": "circle"
         },
         "mode": "markers",
         "name": "Confucius",
         "orientation": "v",
         "showlegend": true,
         "type": "scatter",
         "x": [
          8.531414985656738,
          5.766191482543945,
          5.880093574523926,
          8.560209274291992,
          5.575015068054199
         ],
         "xaxis": "x",
         "y": [
          4.022940635681152,
          2.4896883964538574,
          2.484250068664551,
          3.9979193210601807,
          2.4668827056884766
         ],
         "yaxis": "y"
        },
        {
         "customdata": [
          [
           "The Complete Works of William Shakespeare"
          ],
          [
           "Shakespeare's Sonnets"
          ],
          [
           "Venus and Adonis"
          ],
          [
           "King Richard III"
          ],
          [
           "The Tragedy of Titus Andronicus"
          ],
          [
           "The Taming of the Shrew"
          ],
          [
           "The Tragedy of Romeo and Juliet"
          ],
          [
           "As You Like It"
          ],
          [
           "The Tragedy of Macbeth"
          ],
          [
           "King Richard III"
          ],
          [
           "The Taming of the Shrew"
          ],
          [
           "Romeo and Juliet"
          ],
          [
           "A Midsummer Night's Dream"
          ],
          [
           "The Merchant of Venice"
          ],
          [
           "King Henry IV, the First Part"
          ],
          [
           "Much Ado about Nothing"
          ],
          [
           "The Life of King Henry V"
          ],
          [
           "Julius Caesar"
          ],
          [
           "As You Like It"
          ],
          [
           "Hamlet, Prince of Denmark"
          ],
          [
           "Twelfth Night; Or, What You Will"
          ],
          [
           "All's Well That Ends Well"
          ],
          [
           "Othello, the Moor of Venice"
          ],
          [
           "The Tragedy of King Lear"
          ],
          [
           "Macbeth"
          ],
          [
           "Antony and Cleopatra"
          ],
          [
           "The Winter's Tale"
          ],
          [
           "The Tempest"
          ],
          [
           "Sir Thomas More"
          ],
          [
           "Romeo and Juliet"
          ],
          [
           "Julius Caesar"
          ],
          [
           "Hamlet"
          ],
          [
           "King Lear"
          ],
          [
           "A Midsummer Night's Dream"
          ],
          [
           "The Merchant of Venice"
          ],
          [
           "Twelfth Night"
          ],
          [
           "Henry V"
          ],
          [
           "Macbeth"
          ],
          [
           "Hamlet"
          ],
          [
           "Othello"
          ],
          [
           "Shakespeare's First Folio"
          ],
          [
           "The Tempest: The Works of William Shakespeare [Cambridge Edition] [9 vols.]"
          ],
          [
           "Two Gentlemen of Verona: The Works of William Shakespeare [Cambridge Edition] [9 vols.]"
          ],
          [
           "The Merry Wives of Windsor: The Works of William Shakespeare [Cambridge Edition] [9 vols.]"
          ],
          [
           "Measure for Measure: The Works of William Shakespeare [Cambridge Edition] [9 vols.]"
          ],
          [
           "The Comedy of Errors: The Works of William Shakespeare [Cambridge Edition] [9 vols.]"
          ],
          [
           "Hamlet, Prince of Denmark"
          ],
          [
           "The New Hudson Shakespeare: Julius Cæsar"
          ],
          [
           "Shakespeare's Tragedy of Romeo and Juliet"
          ],
          [
           "Flowers from Shakespeare's Garden: A Posy from the Plays"
          ]
         ],
         "hovertemplate": "author=Shakespeare, William<br>proj_0=%{x}<br>proj_1=%{y}<br>title=%{customdata[0]}<extra></extra>",
         "legendgroup": "Shakespeare, William",
         "marker": {
          "color": "#565656",
          "symbol": "circle"
         },
         "mode": "markers",
         "name": "Shakespeare, William",
         "orientation": "v",
         "showlegend": true,
         "type": "scatter",
         "x": [
          1.6525554656982422,
          2.294671058654785,
          1.7020232677459717,
          1.584118366241455,
          2.173147201538086,
          2.2423975467681885,
          1.9626476764678955,
          2.04902720451355,
          1.6251981258392334,
          1.504236102104187,
          2.275712490081787,
          1.9091720581054688,
          1.8693140745162964,
          1.7288700342178345,
          1.9315211772918701,
          1.8489797115325928,
          1.7128527164459229,
          1.7637274265289307,
          2.0205159187316895,
          1.7895108461380005,
          1.8334888219833374,
          1.7866827249526978,
          2.2636935710906982,
          1.9177864789962769,
          1.716555118560791,
          2.2817554473876953,
          2.292245388031006,
          2.290072441101074,
          1.8923619985580444,
          1.9663292169570923,
          1.7847206592559814,
          1.77421236038208,
          1.875536561012268,
          1.855541706085205,
          1.7325775623321533,
          1.7224332094192505,
          1.6702107191085815,
          1.564767599105835,
          1.6733949184417725,
          1.630342721939087,
          1.6751389503479004,
          2.229306697845459,
          2.1082208156585693,
          1.8759626150131226,
          2.0818593502044678,
          1.8620505332946777,
          1.9215489625930786,
          1.8063299655914307,
          1.9992417097091675,
          6.196230888366699
         ],
         "xaxis": "x",
         "y": [
          -2.7176923751831055,
          -1.5688050985336304,
          -1.7982237339019775,
          -1.9368221759796143,
          -1.7593070268630981,
          -1.5654157400131226,
          -2.543409824371338,
          -2.000960111618042,
          -2.141195774078369,
          -1.9920763969421387,
          -1.51195228099823,
          -2.4200241565704346,
          -2.165867567062378,
          -2.0483205318450928,
          -1.977242112159729,
          -2.1392228603363037,
          -1.7744306325912476,
          -1.5136868953704834,
          -1.9110101461410522,
          -2.228684186935425,
          -1.8643757104873657,
          -1.99703848361969,
          -1.5223668813705444,
          -2.4183292388916016,
          -2.1550989151000977,
          -1.4665632247924805,
          -1.483201503753662,
          -1.5495628118515015,
          -1.8490618467330933,
          -2.520376205444336,
          -1.526780605316162,
          -2.3221662044525146,
          -2.472332715988159,
          -2.2998135089874268,
          -2.5293638706207275,
          -2.292900323867798,
          -2.5300614833831787,
          -2.4313805103302,
          -2.557467460632324,
          -2.5287294387817383,
          -2.6117100715637207,
          -1.6573522090911865,
          -1.6902282238006592,
          -1.9336131811141968,
          -1.7348138093948364,
          -1.7039777040481567,
          -1.8855527639389038,
          -1.5316143035888672,
          -2.3286662101745605,
          1.890160322189331
         ],
         "yaxis": "y"
        },
        {
         "customdata": [
          [
           "Bleak House"
          ],
          [
           "Three Ghost Stories"
          ],
          [
           "Great Expectations"
          ],
          [
           "The Perils of Certain English Prisoners"
          ],
          [
           "A Message from the Sea"
          ],
          [
           "Doctor Marigold"
          ],
          [
           "The Wreck of the Golden Mary"
          ],
          [
           "Some Christmas Stories"
          ],
          [
           "A Christmas Carol"
          ],
          [
           "The Magic Fishbone: A Holiday Romance from the Pen of Miss Alice Rainbird, Aged 7"
          ],
          [
           "A Christmas Carol"
          ],
          [
           "The Letters of Charles Dickens. Vol. 1, 1833-1856"
          ],
          [
           "The Letters of Charles Dickens. Vol. 2, 1857-1870"
          ],
          [
           "Bardell v. Pickwick"
          ],
          [
           "Mugby Junction"
          ],
          [
           "A Christmas Carol: The original manuscript"
          ],
          [
           "The Battle of Life: A Love Story"
          ],
          [
           "A Child's Dream of a Star"
          ],
          [
           "The Personal History of David Copperfield"
          ],
          [
           "Oliver Twist; or, The Parish Boy's Progress. Illustrated"
          ],
          [
           "Oliver Twist, Vol. 1 (of 3)"
          ],
          [
           "The Mystery of Edwin Drood"
          ],
          [
           "The Pickwick Papers"
          ],
          [
           "Index of the Project Gutenberg Works of Charles Dickens"
          ],
          [
           "Master Humphrey's Clock"
          ],
          [
           "The Haunted Man and the Ghost's Bargain"
          ],
          [
           "Pictures from Italy"
          ],
          [
           "The Chimes: A Goblin Story of Some Bells That Rang an Old Year out and a New Year In"
          ],
          [
           "American Notes"
          ],
          [
           "The Battle of Life"
          ],
          [
           "The Cricket on the Hearth: A Fairy Tale of Home"
          ],
          [
           "A Child's History of England"
          ],
          [
           "The Old Curiosity Shop"
          ],
          [
           "Oliver Twist"
          ],
          [
           "David Copperfield"
          ],
          [
           "Hard Times"
          ],
          [
           "Hunted Down: The Detective Stories of Charles Dickens"
          ],
          [
           "Holiday Romance"
          ],
          [
           "George Silverman's Explanation"
          ],
          [
           "Dombey and Son"
          ],
          [
           "Speeches: Literary and Social"
          ],
          [
           "Reprinted Pieces"
          ],
          [
           "Sketches by Boz, Illustrative of Every-Day Life and Every-Day People"
          ],
          [
           "Our Mutual Friend"
          ],
          [
           "The Uncommercial Traveller"
          ],
          [
           "Barnaby Rudge: A Tale of the Riots of 'Eighty"
          ],
          [
           "To Be Read at Dusk"
          ],
          [
           "Little Dorrit"
          ],
          [
           "Nicholas Nickleby"
          ],
          [
           "Martin Chuzzlewit"
          ]
         ],
         "hovertemplate": "author=Dickens, Charles<br>proj_0=%{x}<br>proj_1=%{y}<br>title=%{customdata[0]}<extra></extra>",
         "legendgroup": "Dickens, Charles",
         "marker": {
          "color": "#1C8356",
          "symbol": "circle"
         },
         "mode": "markers",
         "name": "Dickens, Charles",
         "orientation": "v",
         "showlegend": true,
         "type": "scatter",
         "x": [
          4.961558818817139,
          4.766644477844238,
          4.586661338806152,
          4.828502178192139,
          5.3565568923950195,
          5.312000751495361,
          5.324211597442627,
          4.857219219207764,
          4.617129802703857,
          5.579540252685547,
          4.680712699890137,
          4.669488430023193,
          4.643794059753418,
          5.314547538757324,
          5.016694068908691,
          4.713506698608398,
          4.680093288421631,
          6.200669765472412,
          4.479006767272949,
          4.517106533050537,
          4.767775535583496,
          4.643375396728516,
          5.187777996063232,
          5.317437648773193,
          4.812005043029785,
          4.890281677246094,
          4.832627773284912,
          4.918770790100098,
          4.382440567016602,
          4.624870300292969,
          5.20326566696167,
          4.730001926422119,
          4.8525285720825195,
          4.475295066833496,
          4.459806442260742,
          4.891726493835449,
          5.464180946350098,
          5.151569843292236,
          5.2458415031433105,
          4.918866157531738,
          4.485439300537109,
          4.455661296844482,
          4.566988945007324,
          4.7904462814331055,
          4.533233165740967,
          4.514039516448975,
          5.564270496368408,
          4.88684606552124,
          4.77054500579834,
          5.017384052276611
         ],
         "xaxis": "x",
         "y": [
          0.07491680234670639,
          0.8672955632209778,
          0.5316023230552673,
          0.9165279865264893,
          1.0899972915649414,
          1.117611289024353,
          1.025904893875122,
          0.8645851612091064,
          0.7559453845024109,
          1.397432804107666,
          0.8736869692802429,
          -0.026028966531157494,
          0.03935562074184418,
          0.6697744131088257,
          0.10500317066907883,
          0.8928696513175964,
          0.7584711909294128,
          1.7863043546676636,
          -0.23921465873718262,
          -0.24308308959007263,
          -0.23044109344482422,
          0.03394504263997078,
          0.5589724779129028,
          1.0144309997558594,
          -0.1416904479265213,
          0.9644454717636108,
          -0.17731262743473053,
          0.821885347366333,
          0.10178238153457642,
          0.7394960522651672,
          0.7445344924926758,
          0.14267270267009735,
          -0.16769085824489594,
          -0.2399565875530243,
          -0.19794954359531403,
          1.0081828832626343,
          1.2913144826889038,
          1.1339715719223022,
          0.9635168313980103,
          0.01355688739567995,
          0.2271588146686554,
          0.2390553057193756,
          -0.07952713966369629,
          0.05848178640007973,
          -0.13885438442230225,
          0.2601012587547302,
          1.3685665130615234,
          -0.05870288610458374,
          -0.07807880640029907,
          0.21032677590847015
         ],
         "yaxis": "y"
        },
        {
         "customdata": [
          [
           "The Tragedy of Pudd'nhead Wilson"
          ],
          [
           "Extract from Captain Stormfield's Visit to Heaven"
          ],
          [
           "A Horse's Tale"
          ],
          [
           "A Tramp Abroad"
          ],
          [
           "The Man That Corrupted Hadleyburg"
          ],
          [
           "The $30,000 Bequest, and Other Stories"
          ],
          [
           "The Prince and the Pauper"
          ],
          [
           "Extracts from Adam's Diary, translated from the original ms."
          ],
          [
           "Chapters from My Autobiography"
          ],
          [
           "Is Shakespeare Dead?: From My Autobiography"
          ],
          [
           "Life on the Mississippi"
          ],
          [
           "On the Decay of the Art of Lying"
          ],
          [
           "Personal Recollections of Joan of Arc — Volume 1"
          ],
          [
           "Personal Recollections of Joan of Arc — Volume 2"
          ],
          [
           "The Works of Mark Twain: An Index of all Project Gutenberg Editions"
          ],
          [
           "Following the Equator: A Journey Around the World"
          ],
          [
           "In Defence of Harriet Shelley"
          ],
          [
           "Fenimore Cooper's Literary Offences"
          ],
          [
           "A Dog's Tale"
          ],
          [
           "The Innocents Abroad"
          ],
          [
           "Roughing It"
          ],
          [
           "The Gilded Age: A Tale of Today"
          ],
          [
           "The American Claimant"
          ],
          [
           "A Double Barrelled Detective Story"
          ],
          [
           "The Stolen White Elephant"
          ],
          [
           "Those Extraordinary Twins"
          ],
          [
           "The Mysterious Stranger, and Other Stories"
          ],
          [
           "Christian Science"
          ],
          [
           "Mark Twain's Speeches"
          ],
          [
           "Sketches New and Old"
          ],
          [
           "1601: Conversation as it was by the Social Fireside in the Time of the Tudors"
          ],
          [
           "Mark Twain's Letters — Volume 1 (1853-1866)"
          ],
          [
           "Mark Twain's Letters — Volume 2 (1867-1875)"
          ],
          [
           "Mark Twain's Letters — Volume 4 (1886-1900)"
          ],
          [
           "Mark Twain's Letters — Complete (1853-1910)"
          ],
          [
           "The Entire Project Gutenberg Works of Mark Twain"
          ],
          [
           "The Adventures of Huckleberry Finn (Tom Sawyer's Comrade)"
          ],
          [
           "How to Tell a Story, and Other Essays"
          ],
          [
           "The Man That Corrupted Hadleyburg, and Other Stories"
          ],
          [
           "The Mysterious Stranger: A Romance"
          ],
          [
           "Merry Tales"
          ],
          [
           "The £1,000,000 bank-note, and other new stories"
          ],
          [
           "To the Person Sitting in Darkness"
          ],
          [
           "King Leopold's Soliloquy: A Defense of His Congo Rule"
          ],
          [
           "Europe and elsewhere"
          ],
          [
           "Adventures of Huckleberry Finn, Chapters 01 to 05"
          ],
          [
           "Adventures of Huckleberry Finn, Chapters 11 to 15"
          ],
          [
           "The Adventures of Tom Sawyer, Part 1."
          ],
          [
           "The Adventures of Tom Sawyer, Part 2."
          ],
          [
           "Eve's Diary, Complete"
          ]
         ],
         "hovertemplate": "author=Twain, Mark<br>proj_0=%{x}<br>proj_1=%{y}<br>title=%{customdata[0]}<extra></extra>",
         "legendgroup": "Twain, Mark",
         "marker": {
          "color": "#16FF32",
          "symbol": "circle"
         },
         "mode": "markers",
         "name": "Twain, Mark",
         "orientation": "v",
         "showlegend": true,
         "type": "scatter",
         "x": [
          1.86778724193573,
          2.640780210494995,
          2.607494592666626,
          1.4315305948257446,
          2.245346784591675,
          1.6651495695114136,
          1.8353009223937988,
          2.9742093086242676,
          1.877377986907959,
          2.0548222064971924,
          1.0026227235794067,
          3.027100086212158,
          1.4759799242019653,
          1.8915108442306519,
          6.40273904800415,
          0.9481040835380554,
          2.739346504211426,
          2.9277143478393555,
          2.977461338043213,
          1.1115599870681763,
          0.9904646277427673,
          1.2142114639282227,
          1.404679536819458,
          2.168941020965576,
          2.9097695350646973,
          2.6981959342956543,
          1.74434494972229,
          1.600167989730835,
          1.2706304788589478,
          1.0456280708312988,
          2.749199390411377,
          1.5847008228302002,
          1.610629916191101,
          1.44684898853302,
          1.181559681892395,
          1.0078015327453613,
          1.5995749235153198,
          2.794921875,
          1.0741918087005615,
          1.720834493637085,
          1.7806260585784912,
          1.8491475582122803,
          2.9882848262786865,
          2.7603471279144287,
          1.445454716682434,
          2.672654628753662,
          2.5595877170562744,
          2.6931650638580322,
          2.6057534217834473,
          2.889826536178589
         ],
         "xaxis": "x",
         "y": [
          2.710618734359741,
          2.629629611968994,
          2.494065046310425,
          2.7544825077056885,
          2.7972748279571533,
          2.743312358856201,
          2.6546788215637207,
          2.600341796875,
          2.7490031719207764,
          2.685015916824341,
          2.8798582553863525,
          2.4953808784484863,
          2.9257187843322754,
          2.6795854568481445,
          1.830332636833191,
          2.8498659133911133,
          2.5638036727905273,
          2.4802520275115967,
          2.4605889320373535,
          2.76059627532959,
          2.814852476119995,
          2.9819209575653076,
          2.8767404556274414,
          2.6482346057891846,
          2.593235492706299,
          2.609556198120117,
          2.8608312606811523,
          2.862203598022461,
          3.001382827758789,
          2.887460470199585,
          2.5023512840270996,
          2.8836069107055664,
          2.781869411468506,
          2.7688493728637695,
          2.81349778175354,
          2.8224971294403076,
          2.585380792617798,
          2.546182870864868,
          2.8397834300994873,
          2.962369918823242,
          2.901305913925171,
          2.682509660720825,
          2.5148417949676514,
          2.734647035598755,
          2.647686004638672,
          2.4560892581939697,
          2.5438828468322754,
          2.486128568649292,
          2.6289122104644775,
          2.5362632274627686
         ],
         "yaxis": "y"
        },
        {
         "customdata": [
          [
           "The Green Flag, and Other Stories of War and Sport"
          ],
          [
           "The Return of Sherlock Holmes"
          ],
          [
           "The Exploits of Brigadier Gerard"
          ],
          [
           "The Refugees: A Tale of Two Continents"
          ],
          [
           "The Great Shadow and Other Napoleonic Tales"
          ],
          [
           "The Poison Belt"
          ],
          [
           "The Firm of Girdlestone"
          ],
          [
           "The Lost World"
          ],
          [
           "The Adventures of Gerard"
          ],
          [
           "The Adventures of Sherlock Holmes"
          ],
          [
           "The Sign of the Four"
          ],
          [
           "The Return of Sherlock Holmes"
          ],
          [
           "Danger! and Other Stories"
          ],
          [
           "The Adventure of Wisteria Lodge"
          ],
          [
           "The Adventure of the Cardboard Box"
          ],
          [
           "The Adventure of the Red Circle"
          ],
          [
           "The Adventure of the Bruce-Partington Plans"
          ],
          [
           "The Adventure of the Dying Detective"
          ],
          [
           "The Disappearance of Lady Frances Carfax"
          ],
          [
           "The Adventure of the Devil's Foot"
          ],
          [
           "His Last Bow: An Epilogue of Sherlock Holmes"
          ],
          [
           "A Study in Scarlet"
          ],
          [
           "Sir Nigel"
          ],
          [
           "The Hound of the Baskervilles"
          ],
          [
           "The Captain of the Polestar, and Other Tales"
          ],
          [
           "The Great Boer War"
          ],
          [
           "The Hound of the Baskervilles"
          ],
          [
           "The Great Keinplatz Experiment and Other Tales of Twilight and the Unseen"
          ],
          [
           "The Valley of Fear"
          ],
          [
           "The Parasite: A Story"
          ],
          [
           "The Crime of the Congo"
          ],
          [
           "The Valley of Fear"
          ],
          [
           "The Wanderings of a Spiritualist"
          ],
          [
           "Round the Red Lamp: Being Facts and Fancies of Medical Life"
          ],
          [
           "The Vital Message"
          ],
          [
           "The Coming of the Fairies"
          ],
          [
           "Adventures of Sherlock Holmes: Illustrated"
          ],
          [
           "Rodney Stone"
          ],
          [
           "Tales of Terror and Mystery"
          ],
          [
           "Round the Fire Stories"
          ],
          [
           "The Case for Spirit Photography: With corroborative evidence by experienced researchers and photographers"
          ],
          [
           "Memories and Adventures"
          ],
          [
           "The land of mist"
          ],
          [
           "My friend the murderer, and other mysteries and adventures"
          ],
          [
           "The case-book of Sherlock Holmes"
          ],
          [
           "The case of Oscar Slater"
          ],
          [
           "The Mystery of Cloomber"
          ],
          [
           "The Memoirs of Sherlock Holmes"
          ],
          [
           "The White Company"
          ],
          [
           "Micah Clarke: His Statement as made to his three grandchildren Joseph, Gervas and Reuben During the Hard Winter of 1734"
          ]
         ],
         "hovertemplate": "author=Doyle, Arthur Conan<br>proj_0=%{x}<br>proj_1=%{y}<br>title=%{customdata[0]}<extra></extra>",
         "legendgroup": "Doyle, Arthur Conan",
         "marker": {
          "color": "#F7E1A0",
          "symbol": "circle"
         },
         "mode": "markers",
         "name": "Doyle, Arthur Conan",
         "orientation": "v",
         "showlegend": true,
         "type": "scatter",
         "x": [
          10.364418029785156,
          10.802118301391602,
          10.35198974609375,
          10.118064880371094,
          10.210770606994629,
          9.63687801361084,
          10.308334350585938,
          10.356886863708496,
          10.14900016784668,
          10.831182479858398,
          10.323484420776367,
          10.928218841552734,
          10.244824409484863,
          9.454792022705078,
          9.56889820098877,
          9.496341705322266,
          9.666031837463379,
          9.480351448059082,
          9.537056922912598,
          9.614282608032227,
          10.17244815826416,
          10.036649703979492,
          10.581073760986328,
          10.706212997436523,
          10.601146697998047,
          10.665950775146484,
          10.625198364257812,
          10.558167457580566,
          10.228799819946289,
          9.854758262634277,
          9.847688674926758,
          10.300241470336914,
          10.203107833862305,
          10.358328819274902,
          10.002172470092773,
          9.522075653076172,
          10.90953540802002,
          10.291521072387695,
          10.779829978942871,
          10.913066864013672,
          9.654495239257812,
          10.843378067016602,
          10.327677726745605,
          10.699508666992188,
          10.330016136169434,
          9.472926139831543,
          10.670540809631348,
          10.35946273803711,
          10.297309875488281,
          10.639466285705566
         ],
         "xaxis": "x",
         "y": [
          2.9508612155914307,
          2.4412918090820312,
          2.8876490592956543,
          2.8186256885528564,
          2.9446096420288086,
          2.5227982997894287,
          2.860140085220337,
          2.3787782192230225,
          2.849794387817383,
          2.611337184906006,
          2.8790862560272217,
          2.5045297145843506,
          2.8184196949005127,
          2.4242124557495117,
          2.522834539413452,
          2.4235501289367676,
          2.3688998222351074,
          2.479356050491333,
          2.471451997756958,
          2.456183910369873,
          2.4014339447021484,
          2.837615966796875,
          2.6248655319213867,
          2.618680953979492,
          2.653709650039673,
          2.573521375656128,
          2.7723116874694824,
          2.547065258026123,
          2.7488341331481934,
          2.7483227252960205,
          2.774338960647583,
          2.707003593444824,
          2.7876040935516357,
          2.8961968421936035,
          2.783529281616211,
          2.5507352352142334,
          2.5128567218780518,
          2.8524506092071533,
          2.616151809692383,
          2.5129072666168213,
          2.6623120307922363,
          2.540142059326172,
          2.8915905952453613,
          2.6626007556915283,
          2.4542839527130127,
          2.577073812484741,
          2.5339887142181396,
          2.693228006362915,
          2.47212553024292,
          2.480778694152832
         ],
         "yaxis": "y"
        },
        {
         "customdata": [
          [
           "Persuasion"
          ],
          [
           "Love and Freindship [sic]"
          ],
          [
           "Northanger Abbey"
          ],
          [
           "Pride and Prejudice"
          ],
          [
           "Mansfield Park"
          ],
          [
           "Emma"
          ],
          [
           "Sense and Sensibility"
          ],
          [
           "Sense and Sensibility"
          ],
          [
           "The Complete Project Gutenberg Works of Jane Austen: A Linked Index of all PG Editions of Jane Austen"
          ],
          [
           "Pride and Prejudice, a play founded on Jane Austen's novel"
          ],
          [
           "The Letters of Jane Austen: Selected from the compilation of her great nephew, Edward, Lord Bradbourne"
          ],
          [
           "Pride and Prejudice"
          ],
          [
           "The Watsons: By Jane Austen, Concluded by L. Oulton"
          ],
          [
           "Lady Susan"
          ]
         ],
         "hovertemplate": "author=Austen, Jane<br>proj_0=%{x}<br>proj_1=%{y}<br>title=%{customdata[0]}<extra></extra>",
         "legendgroup": "Austen, Jane",
         "marker": {
          "color": "#E2E2E2",
          "symbol": "circle"
         },
         "mode": "markers",
         "name": "Austen, Jane",
         "orientation": "v",
         "showlegend": true,
         "type": "scatter",
         "x": [
          2.795625925064087,
          2.833322048187256,
          2.755974054336548,
          2.6117441654205322,
          2.8172593116760254,
          2.7756783962249756,
          2.648543357849121,
          2.634122371673584,
          6.399709701538086,
          2.9039740562438965,
          2.712939739227295,
          2.642590045928955,
          2.8173866271972656,
          2.891730546951294
         ],
         "xaxis": "x",
         "y": [
          7.218066215515137,
          7.125243186950684,
          7.2373576164245605,
          7.414338111877441,
          7.164426803588867,
          7.176966190338135,
          7.256765365600586,
          7.2219061851501465,
          1.8741891384124756,
          7.050136566162109,
          7.307368278503418,
          7.372241497039795,
          7.135857582092285,
          7.0551958084106445
         ],
         "yaxis": "y"
        },
        {
         "customdata": [
          [
           "Discourses on the First Decade of Titus Livius"
          ],
          [
           "The Prince"
          ],
          [
           "Machiavelli, Volume I"
          ],
          [
           "History of Florence and of the Affairs of Italy: From the Earliest Times to the Death of Lorenzo the Magnificent"
          ],
          [
           "The Prince"
          ]
         ],
         "hovertemplate": "author=Machiavelli, Niccolò<br>proj_0=%{x}<br>proj_1=%{y}<br>title=%{customdata[0]}<extra></extra>",
         "legendgroup": "Machiavelli, Niccolò",
         "marker": {
          "color": "#1CBE4F",
          "symbol": "circle"
         },
         "mode": "markers",
         "name": "Machiavelli, Niccolò",
         "orientation": "v",
         "showlegend": true,
         "type": "scatter",
         "x": [
          4.832813262939453,
          4.7666473388671875,
          6.194097518920898,
          4.9201860427856445,
          4.909663200378418
         ],
         "xaxis": "x",
         "y": [
          3.0409655570983887,
          2.9429056644439697,
          3.228611469268799,
          2.7116408348083496,
          2.996413230895996
         ],
         "yaxis": "y"
        },
        {
         "customdata": [
          [
           "The Orations of Marcus Tullius Cicero, Volume 4"
          ],
          [
           "Cato Maior de Senectute with Introduction and Notes"
          ],
          [
           "Academica"
          ],
          [
           "Cicero's Tusculan Disputations: Also, Treatises On The Nature Of The Gods, And On The Commonwealth"
          ],
          [
           "The Letters of Cicero, Volume 1: The Whole Extant Correspodence in Chronological Order"
          ],
          [
           "Treatises on Friendship and Old Age"
          ],
          [
           "Letters of Marcus Tullius Cicero"
          ],
          [
           "The Academic Questions, Treatise De Finibus, and Tusculan Disputations, of M.T. Cicero, With a Sketch of the Greek Philosophers Mentioned by Cicero"
          ],
          [
           "Speeches against Catilina"
          ],
          [
           "De Officiis"
          ],
          [
           "Cicero: Letters to Atticus, Vol. 2 of 3"
          ],
          [
           "Cicero: Letters to Atticus, Vol. 3 of 3"
          ],
          [
           "The republic of Cicero: Translated from the Latin; and Accompanied With a Critical and Historical Introduction."
          ],
          [
           "Cicero: Letters to Atticus, Vol. 1 of 3"
          ]
         ],
         "hovertemplate": "author=Cicero, Marcus Tullius<br>proj_0=%{x}<br>proj_1=%{y}<br>title=%{customdata[0]}<extra></extra>",
         "legendgroup": "Cicero, Marcus Tullius",
         "marker": {
          "color": "#C4451C",
          "symbol": "circle"
         },
         "mode": "markers",
         "name": "Cicero, Marcus Tullius",
         "orientation": "v",
         "showlegend": true,
         "type": "scatter",
         "x": [
          3.149824380874634,
          3.21879243850708,
          3.044520616531372,
          3.0354416370391846,
          3.1809616088867188,
          5.1012797355651855,
          1.6162352561950684,
          3.050523042678833,
          3.223308563232422,
          3.07133412361145,
          3.0509135723114014,
          3.0659849643707275,
          3.2162840366363525,
          3.136586904525757
         ],
         "xaxis": "x",
         "y": [
          4.148687839508057,
          3.891458511352539,
          3.865328311920166,
          4.280818939208984,
          4.087613105773926,
          0.9087340831756592,
          -1.6315829753875732,
          4.277412414550781,
          3.823377847671509,
          3.9084677696228027,
          4.00330114364624,
          3.9739530086517334,
          4.260458469390869,
          4.146451950073242
         ],
         "yaxis": "y"
        },
        {
         "customdata": [
          [
           "The Life and Adventures of Robinson Crusoe of York, Mariner, Volume 1: With an Account of His Travels Round Three Parts of the Globe,; Written By Himself, in Two Volumes"
          ],
          [
           "From London to Land's End: and Two Letters from the \"Journey through England by a Gentleman\""
          ],
          [
           "The Life and Most Surprising Adventures of Robinson Crusoe, of York, Mariner (1801)"
          ],
          [
           "Memoirs of a Cavalier: A Military Journal of the Wars in Germany, and the Wars in England.; From the Year 1632 to the Year 1648."
          ],
          [
           "The Life and Adventures of Robinson Crusoe (1808)"
          ],
          [
           "The History of the Remarkable Life of John Sheppard: Containing a Particular Account of His Many Robberies and Escapes"
          ],
          [
           "A Vindication of the Press"
          ],
          [
           "Military Memoirs of Capt. George Carleton"
          ],
          [
           "Memoirs of Major Alexander Ramkins (1718)"
          ],
          [
           "The Complete English Tradesman (1839 ed.)"
          ],
          [
           "History of the Plague in London"
          ],
          [
           "Dickory Cronke: The Dumb Philosopher, or, Great Britain's Wonder"
          ],
          [
           "Everybody's Business Is Nobody's Business: Or, Private Abuses, Public Grievances; Exemplified in the Pride, Insolence, and Exorbitant Wages of Our Women, Servants, Footmen, &c."
          ],
          [
           "Atalantis Major"
          ],
          [
           "The True-Born Englishman: A Satire"
          ],
          [
           "The Fortunate Mistress (Parts 1 and 2): or a History of the Life of Mademoiselle de Beleau Known by the Name of the Lady Roxana"
          ],
          [
           "The History of the Devil, As Well Ancient as Modern: In Two Parts"
          ],
          [
           "An Appeal to Honour and Justice, Though It Be of His Worst Enemies.: Being A True Account of His Conduct in Public Affairs."
          ],
          [
           "An Humble Proposal to the People of England, for the Increase of their Trade, and Encouragement of Their Manufactures: Whether the Present Uncertainty of Affairs Issues in Peace or War"
          ],
          [
           "Second Thoughts are Best: Or a Further Improvement of a Late Scheme to Prevent Street Robberies"
          ],
          [
           "Augusta Triumphans: Or, the Way to Make London the Most Flourishing City in the Universe"
          ],
          [
           "A New Voyage Round the World by a Course Never Sailed Before"
          ],
          [
           "A True Relation of the Apparition of one Mrs. Veal: The Next Day after Her Death, to one Mrs. Bargrave, at Canterbury, the 8th of September, 1705; which Apparition Recommends the Perusal of Drelincourt's Book of Consolations against the Fears of Death"
          ],
          [
           "Reasons Against the Succession of the House of Hanover: With an Enquiry How Far the Abdication of King James, Supposing It to Be Legal, Ought to Affect the Person of the Pretender"
          ],
          [
           "A Seasonable Warning and Caution against the Insinuations of Papists and Jacobites in favour of the Pretender: Being a Letter from an Englishman at the Court of Hanover"
          ],
          [
           "An Answer to a Question that Nobody thinks of, viz., But what if the Queen should Die?"
          ],
          [
           "The Lay-Man's Sermon upon the Late Storm: Held forth at an Honest Coffee-House-Conventicle"
          ],
          [
           "And What if the Pretender should Come?: Or Some Considerations of the Advantages and Real Consequences of the Pretender's Possessing the Crown of Great Britain"
          ],
          [
           "The Fortunes and Misfortunes of the Famous Moll Flanders"
          ],
          [
           "A Short Narrative of the Life and Actions of His Grace John, D. of Marlborogh"
          ],
          [
           "A Journal of the Plague Year: Being Observations or Memorials of the Most Remarkable Occurrences, as Well Public as Private, Which Happened in London During the Last Great Visitation in 1665. Written by a Citizen Who Continued All the While in London"
          ],
          [
           "The King of Pirates: Being an Account of the Famous Enterprises of Captain Avery, the Mock King of Madagascar"
          ],
          [
           "A General History of the Pyrates:: from their first rise and settlement in the island of Providence, to the present time"
          ],
          [
           "An Essay Upon Projects"
          ],
          [
           "The Storm. An Essay."
          ],
          [
           "The Storm: or, a Collection of the most Remarkable Casualties and Disasters which Happen'd in the Late Dreadful Tempest, both by Sea and Land"
          ],
          [
           "The Life and Adventures of Robinson Crusoe"
          ],
          [
           "The History and Remarkable Life of the Truly Honourable Colonel Jacque, Commonly Called Colonel Jack"
          ],
          [
           "The Friendly Daemon, or the Generous Apparition: Being a True Narrative of a Miraculous Cure, Newly Perform'd Upon That Famous Deaf and Dumb Gentleman, Dr. Duncan Campbel, by a Familiar Spirit That Appear'd to Him in a White Surplice, Like a Cathedral Singing Boy"
          ],
          [
           "The Further Adventures of Robinson Crusoe"
          ],
          [
           "The History of the Pyrates. Vol. II.: Containing the lives of Captain Misson, Captain Bowen, Captain Kidd, Captain Tew, Captain Halsey, Captain White, Captain Condent, Captain Bellamy, Captain Fly, Captain Howard, Captain Lewis, Captain Cornelius, Captain Williams, Captain Burgess, Captain North, and their several crews"
          ],
          [
           "The Life, Adventures & Piracies of the Famous Captain Singleton"
          ],
          [
           "Robinson Crusoe, Told to the Children by John Lang"
          ],
          [
           "The Consolidator; or, Memoirs of Sundry Transactions from the World in the Moon"
          ],
          [
           "Tour through the Eastern Counties of England, 1722"
          ]
         ],
         "hovertemplate": "author=Defoe, Daniel<br>proj_0=%{x}<br>proj_1=%{y}<br>title=%{customdata[0]}<extra></extra>",
         "legendgroup": "Defoe, Daniel",
         "marker": {
          "color": "#DEA0FD",
          "symbol": "circle"
         },
         "mode": "markers",
         "name": "Defoe, Daniel",
         "orientation": "v",
         "showlegend": true,
         "type": "scatter",
         "x": [
          6.4066996574401855,
          6.154423236846924,
          6.349372386932373,
          6.192529201507568,
          6.460272312164307,
          6.124375820159912,
          6.239636421203613,
          6.291070938110352,
          6.181590557098389,
          6.299502849578857,
          6.420093059539795,
          6.148940086364746,
          6.047596454620361,
          6.290494441986084,
          6.245635032653809,
          6.23388147354126,
          6.273438453674316,
          6.290287017822266,
          6.285847187042236,
          6.300803184509277,
          6.16182804107666,
          6.2428975105285645,
          6.203095436096191,
          6.209662437438965,
          6.31983757019043,
          6.264551162719727,
          6.236508846282959,
          6.228313446044922,
          6.2753214836120605,
          6.284489631652832,
          6.464316368103027,
          6.218400478363037,
          6.3050007820129395,
          6.350629806518555,
          6.210130214691162,
          6.200089931488037,
          6.4527907371521,
          6.306274890899658,
          6.0762619972229,
          6.432894706726074,
          6.308960914611816,
          6.250510215759277,
          5.971287250518799,
          6.365051746368408,
          6.160487651824951
         ],
         "xaxis": "x",
         "y": [
          5.284356594085693,
          4.815886497497559,
          5.219520092010498,
          4.7938232421875,
          5.312074184417725,
          4.031900405883789,
          3.97952938079834,
          4.824554920196533,
          4.445091247558594,
          4.462880611419678,
          5.283308506011963,
          3.9131252765655518,
          3.8540027141571045,
          3.8430697917938232,
          4.411068439483643,
          4.783221244812012,
          3.959338665008545,
          3.7765820026397705,
          3.9482650756835938,
          3.7145888805389404,
          4.227263450622559,
          5.024451732635498,
          3.1295244693756104,
          3.662123680114746,
          3.4927258491516113,
          3.5815868377685547,
          3.662254571914673,
          3.64406156539917,
          5.188386917114258,
          3.881939649581909,
          5.3291707038879395,
          4.464402675628662,
          4.933076858520508,
          5.012914180755615,
          3.0523200035095215,
          4.789982795715332,
          5.348930835723877,
          5.147913455963135,
          3.51757550239563,
          5.328027248382568,
          4.855419158935547,
          5.061496257781982,
          4.087520599365234,
          4.580206871032715,
          4.88522481918335
         ],
         "yaxis": "y"
        },
        {
         "customdata": [
          [
           "The Count of Monte Cristo, Illustrated"
          ],
          [
           "The Three Musketeers"
          ],
          [
           "Ten Years Later"
          ],
          [
           "Twenty Years After"
          ],
          [
           "The Forty-Five Guardsmen"
          ],
          [
           "Camille (La Dame aux Camilias)"
          ],
          [
           "The Vicomte de Bragelonne; Or, Ten Years Later: Being the completion of \"The Three Musketeers\" and \"Twenty Years After\""
          ],
          [
           "The Queen's Necklace"
          ],
          [
           "The Vicomte De Bragelonne"
          ],
          [
           "Ten Years Later"
          ],
          [
           "Louise de la Valliere"
          ],
          [
           "The Regent's Daughter"
          ],
          [
           "The Conspirators: The Chevalier d'Harmental"
          ],
          [
           "The Borgias: Celebrated Crimes"
          ],
          [
           "Cenci: Celebrated Crimes"
          ],
          [
           "Massacres of the South (1551-1815): Celebrated Crimes"
          ],
          [
           "Mary Stuart: Celebrated Crimes"
          ],
          [
           "Urbain Grandier: Celebrated Crimes"
          ],
          [
           "Derues: Celebrated Crimes"
          ],
          [
           "Joan of Naples: Celebrated Crimes"
          ],
          [
           "Man in the Iron Mask (an Essay)"
          ],
          [
           "Martin Guerre: Celebrated Crimes"
          ],
          [
           "Ali Pacha: Celebrated Crimes"
          ],
          [
           "Murat: Celebrated Crimes"
          ],
          [
           "Marquise Brinvillier: Celebrated Crimes"
          ],
          [
           "Marquise De Ganges: Celebrated Crimes"
          ],
          [
           "The Man in the Iron Mask"
          ],
          [
           "Celebrated Crimes (Complete)"
          ],
          [
           "Marguerite de Valois"
          ],
          [
           "The Prussian Terror"
          ],
          [
           "The Corsican Brothers"
          ],
          [
           "The Hero of the People: A Historical Romance of Love, Liberty and Loyalty"
          ],
          [
           "The Mesmerist's Victim"
          ],
          [
           "The Countess of Charny; or, The Execution of King Louis XVI"
          ],
          [
           "The Royal Life Guard; or, the flight of the royal family.: A historical romance of the suppression of the French monarchy"
          ],
          [
           "Taking the Bastile; Or, Pitou the Peasant: A Historical Story of the Great French Revolution"
          ],
          [
           "Balsamo, the Magician; or, The Memoirs of a Physician"
          ],
          [
           "My Memoirs, Vol. I, 1802 to 1821"
          ],
          [
           "My Memoirs, Vol. II, 1822 to 1825"
          ],
          [
           "My Memoirs, Vol. III, 1826 to 1830"
          ],
          [
           "My Memoirs, Vol. V, 1831 to 1832"
          ],
          [
           "The Wolf-Leader"
          ],
          [
           "My Memoirs, Vol. VI, 1832 to 1833"
          ],
          [
           "The War of Women, Volume 1"
          ],
          [
           "Index of the Project Gutenberg Works of Alexandre Dumas, [père]"
          ],
          [
           "The Whites and the Blues"
          ],
          [
           "Ascanio"
          ],
          [
           "The Companions of Jehu"
          ],
          [
           "Chicot the Jester"
          ],
          [
           "The Black Tulip"
          ]
         ],
         "hovertemplate": "author=Dumas, Alexandre<br>proj_0=%{x}<br>proj_1=%{y}<br>title=%{customdata[0]}<extra></extra>",
         "legendgroup": "Dumas, Alexandre",
         "marker": {
          "color": "#FE00FA",
          "symbol": "circle"
         },
         "mode": "markers",
         "name": "Dumas, Alexandre",
         "orientation": "v",
         "showlegend": true,
         "type": "scatter",
         "x": [
          3.4386768341064453,
          3.4305942058563232,
          3.903712272644043,
          3.3881328105926514,
          3.556239128112793,
          3.2698867321014404,
          3.900240421295166,
          3.2028067111968994,
          3.8919668197631836,
          3.6984925270080566,
          3.8356542587280273,
          3.3543589115142822,
          3.290865659713745,
          3.855123519897461,
          3.2479352951049805,
          3.8886852264404297,
          3.4408817291259766,
          3.2442078590393066,
          3.132389545440674,
          3.5847558975219727,
          3.323960781097412,
          3.288325309753418,
          3.629594087600708,
          3.0798351764678955,
          3.237215280532837,
          3.1141419410705566,
          3.869767189025879,
          3.9466476440429688,
          3.264913320541382,
          3.37699031829834,
          3.0778050422668457,
          3.4467780590057373,
          3.553175687789917,
          3.666076421737671,
          3.329493522644043,
          3.3150906562805176,
          3.4732563495635986,
          3.7359366416931152,
          3.8202497959136963,
          3.7838611602783203,
          3.7884840965270996,
          3.147111177444458,
          3.7535033226013184,
          3.439871311187744,
          3.205073595046997,
          3.7335355281829834,
          3.3022232055664062,
          3.3728342056274414,
          3.1805121898651123,
          3.153094530105591
         ],
         "xaxis": "x",
         "y": [
          9.090977668762207,
          8.96911907196045,
          10.369218826293945,
          8.992449760437012,
          9.720202445983887,
          8.624541282653809,
          10.410378456115723,
          9.271956443786621,
          10.357409477233887,
          9.959005355834961,
          10.23717975616455,
          8.770442962646484,
          8.750749588012695,
          10.082218170166016,
          8.703081130981445,
          10.273224830627441,
          9.553217887878418,
          9.44940185546875,
          8.65340805053711,
          9.734800338745117,
          8.876832962036133,
          8.833499908447266,
          9.856328964233398,
          8.65360164642334,
          8.958169937133789,
          8.67721939086914,
          10.358709335327148,
          10.311951637268066,
          8.982778549194336,
          9.502884864807129,
          8.74023151397705,
          9.579240798950195,
          9.725683212280273,
          9.849984169006348,
          9.543914794921875,
          9.466474533081055,
          9.620809555053711,
          10.052325248718262,
          10.134797096252441,
          10.142584800720215,
          10.047500610351562,
          8.736913681030273,
          9.949759483337402,
          9.507529258728027,
          8.664036750793457,
          9.998401641845703,
          9.386787414550781,
          9.070828437805176,
          8.926016807556152,
          8.731727600097656
         ],
         "yaxis": "y"
        },
        {
         "customdata": [
          [
           "Apology, Crito, and Phaedo of Socrates"
          ],
          [
           "The Republic"
          ],
          [
           "The Republic"
          ],
          [
           "Critias"
          ],
          [
           "Timaeus"
          ],
          [
           "Lysis"
          ],
          [
           "Charmides"
          ],
          [
           "Laches"
          ],
          [
           "Protagoras"
          ],
          [
           "Euthydemus"
          ],
          [
           "Symposium"
          ],
          [
           "Cratylus"
          ],
          [
           "Ion"
          ],
          [
           "Phaedrus"
          ],
          [
           "Euthyphro"
          ],
          [
           "Meno"
          ],
          [
           "Apology"
          ],
          [
           "Crito"
          ],
          [
           "Phaedo"
          ],
          [
           "Gorgias"
          ],
          [
           "Lesser Hippias"
          ],
          [
           "Alcibiades I"
          ],
          [
           "Alcibiades II"
          ],
          [
           "Eryxias"
          ],
          [
           "Menexenus"
          ],
          [
           "Parmenides"
          ],
          [
           "Theaetetus"
          ],
          [
           "Sophist"
          ],
          [
           "Statesman"
          ],
          [
           "Philebus"
          ],
          [
           "Laws"
          ],
          [
           "The Project Gutenberg Works of Plato: An Index"
          ],
          [
           "The Republic of Plato"
          ]
         ],
         "hovertemplate": "author=Plato<br>proj_0=%{x}<br>proj_1=%{y}<br>title=%{customdata[0]}<extra></extra>",
         "legendgroup": "Plato",
         "marker": {
          "color": "#325A9B",
          "symbol": "circle"
         },
         "mode": "markers",
         "name": "Plato",
         "orientation": "v",
         "showlegend": true,
         "type": "scatter",
         "x": [
          3.441322088241577,
          3.3625741004943848,
          3.3786633014678955,
          4.2337141036987305,
          3.3543951511383057,
          4.012006759643555,
          3.4205472469329834,
          4.298056125640869,
          3.359469175338745,
          3.7249650955200195,
          3.5278563499450684,
          3.535975933074951,
          4.382693290710449,
          3.5424389839172363,
          4.300446033477783,
          4.109609127044678,
          3.790940284729004,
          4.360585689544678,
          3.3070127964019775,
          3.477989673614502,
          4.221360683441162,
          4.321132659912109,
          4.316978931427002,
          4.306509971618652,
          3.6764895915985107,
          3.583354949951172,
          3.6111605167388916,
          3.5760302543640137,
          3.6642258167266846,
          3.5564305782318115,
          3.3239009380340576,
          6.356176853179932,
          3.3750956058502197
         ],
         "xaxis": "x",
         "y": [
          5.683414936065674,
          5.853201866149902,
          5.828801155090332,
          4.918948173522949,
          5.658469200134277,
          5.127434730529785,
          5.563426971435547,
          4.865351676940918,
          5.4625444412231445,
          5.341670036315918,
          5.444633960723877,
          5.582699775695801,
          4.741325378417969,
          5.591855525970459,
          4.828804016113281,
          5.052235126495361,
          5.269720554351807,
          4.786533832550049,
          5.528604507446289,
          5.406439781188965,
          4.935489654541016,
          4.839819431304932,
          4.8415446281433105,
          4.844196796417236,
          5.339521884918213,
          5.550172328948975,
          5.539414882659912,
          5.598320484161377,
          5.389183044433594,
          5.60213041305542,
          5.749744415283203,
          1.9037142992019653,
          5.757892608642578
         ],
         "yaxis": "y"
        },
        {
         "customdata": [
          [
           "London to Ladysmith via Pretoria"
          ],
          [
           "Liberalism and the Social Problem"
          ],
          [
           "The Works of Winston Churchill: A Linked Index of the Project Gutenberg Editions"
          ],
          [
           "The Dwelling Place of Light — Volume 1"
          ],
          [
           "The Dwelling Place of Light — Complete"
          ],
          [
           "Mr. Crewe's Career — Volume 1"
          ],
          [
           "Mr. Crewe's Career — Volume 3"
          ],
          [
           "Mr. Crewe's Career — Complete"
          ],
          [
           "A Far Country — Volume 2"
          ],
          [
           "A Far Country — Volume 3"
          ],
          [
           "A Far Country — Complete"
          ],
          [
           "Coniston — Volume 01"
          ],
          [
           "Coniston — Volume 02"
          ],
          [
           "Coniston — Volume 03"
          ],
          [
           "Coniston — Volume 04"
          ],
          [
           "Coniston — Complete"
          ],
          [
           "The Crossing"
          ],
          [
           "Ian Hamilton's March"
          ],
          [
           "Lord Randolph Churchill"
          ],
          [
           "My African Journey"
          ],
          [
           "The River War: An Account of the Reconquest of the Sudan"
          ],
          [
           "Savrola: A Tale of the Revolution in Laurania"
          ],
          [
           "The Inside of the Cup — Volume 02"
          ],
          [
           "The Inside of the Cup — Volume 03"
          ],
          [
           "The Inside of the Cup — Volume 04"
          ],
          [
           "The Inside of the Cup — Volume 07"
          ],
          [
           "The Inside of the Cup — Complete"
          ],
          [
           "Richard Carvel — Volume 02"
          ],
          [
           "Richard Carvel — Volume 07"
          ],
          [
           "Richard Carvel — Complete"
          ],
          [
           "A Modern Chronicle — Complete"
          ],
          [
           "The Celebrity, Volume 01"
          ],
          [
           "The Celebrity, Volume 04"
          ],
          [
           "The Celebrity, Complete"
          ],
          [
           "The Crisis — Volume 01"
          ],
          [
           "The Crisis — Volume 02"
          ],
          [
           "The Crisis — Volume 03"
          ],
          [
           "The Crisis — Volume 04"
          ],
          [
           "The Crisis — Volume 05"
          ],
          [
           "The Crisis — Volume 06"
          ],
          [
           "The Crisis — Volume 07"
          ],
          [
           "The Crisis — Volume 08"
          ],
          [
           "The Crisis — Complete"
          ],
          [
           "Dr. Jonathan"
          ],
          [
           "A Traveller in War-Time"
          ],
          [
           "An essay on the American contribution and the democratic idea"
          ],
          [
           "Project Gutenberg Complete Works of Winston Churchill"
          ],
          [
           "Index of the Project Gutenberg Works of Sir Winston Spencer Churchill"
          ],
          [
           "The World Crisis, Volume 1 (of 6)"
          ],
          [
           "Mr. Keegan's Elopement"
          ]
         ],
         "hovertemplate": "author=Churchill, Winston<br>proj_0=%{x}<br>proj_1=%{y}<br>title=%{customdata[0]}<extra></extra>",
         "legendgroup": "Churchill, Winston",
         "marker": {
          "color": "#FEAF16",
          "symbol": "circle"
         },
         "mode": "markers",
         "name": "Churchill, Winston",
         "orientation": "v",
         "showlegend": true,
         "type": "scatter",
         "x": [
          -2.6130807399749756,
          -2.1931145191192627,
          6.520679950714111,
          -2.890735626220703,
          -2.823239326477051,
          -2.413625478744507,
          -2.3289358615875244,
          -2.5261378288269043,
          -2.5447535514831543,
          -2.5191586017608643,
          -2.6367671489715576,
          -2.325394868850708,
          -2.8829519748687744,
          -2.879528522491455,
          -2.8222014904022217,
          -2.8017280101776123,
          -2.5244431495666504,
          -2.549809455871582,
          -1.9782323837280273,
          -2.574288845062256,
          -2.4025652408599854,
          -1.840195655822754,
          -1.8643890619277954,
          -2.6563100814819336,
          -2.6537063121795654,
          -2.0735507011413574,
          -2.799870252609253,
          -2.803337335586548,
          -2.6080214977264404,
          -2.9329373836517334,
          -2.9210944175720215,
          -1.781325101852417,
          -2.616288661956787,
          -2.7285969257354736,
          -2.667854070663452,
          -1.7338484525680542,
          -2.4423739910125732,
          -2.798011064529419,
          -2.743299722671509,
          -2.8168833255767822,
          -1.9260523319244385,
          -1.8782521486282349,
          -2.725654363632202,
          -2.1304781436920166,
          -2.7792234420776367,
          -2.674501419067383,
          -2.916515827178955,
          -2.0647149085998535,
          -2.094715118408203,
          6.536956787109375
         ],
         "xaxis": "x",
         "y": [
          6.189878463745117,
          6.3440141677856445,
          1.8875880241394043,
          6.676308631896973,
          6.631705284118652,
          6.625869274139404,
          6.598387241363525,
          6.7940545082092285,
          6.660250186920166,
          6.704353332519531,
          6.684598922729492,
          6.449923515319824,
          6.184264183044434,
          6.348546504974365,
          6.2481608390808105,
          6.290515899658203,
          6.742855548858643,
          5.996691703796387,
          6.015635967254639,
          6.092034816741943,
          6.212611198425293,
          6.044820308685303,
          5.98636531829834,
          6.03870964050293,
          6.078067779541016,
          6.108832359313965,
          6.519547462463379,
          6.196341514587402,
          5.886753082275391,
          6.652192115783691,
          6.5629730224609375,
          5.833601951599121,
          5.890927314758301,
          5.974198341369629,
          5.993079662322998,
          5.839609622955322,
          5.998348236083984,
          6.079627990722656,
          6.079272747039795,
          6.114321708679199,
          5.993677139282227,
          5.940845489501953,
          6.246398448944092,
          5.769466400146484,
          6.151167392730713,
          6.02895975112915,
          6.745635032653809,
          5.829270362854004,
          6.0128631591796875,
          1.9920392036437988
         ],
         "yaxis": "y"
        },
        {
         "customdata": [
          [
           "Thoughts of Marcus Aurelius Antoninus"
          ],
          [
           "Meditations"
          ],
          [
           "The Meditations of the Emperor Marcus Aurelius Antoninus: A new rendering based on the Foulis translation of 1742"
          ],
          [
           "Index of the Project Gutenberg Works of Marcus Aurelius Antoninus"
          ],
          [
           "Thoughts of Marcus Aurelius"
          ]
         ],
         "hovertemplate": "author=Marcus Aurelius, Emperor of Rome<br>proj_0=%{x}<br>proj_1=%{y}<br>title=%{customdata[0]}<extra></extra>",
         "legendgroup": "Marcus Aurelius, Emperor of Rome",
         "marker": {
          "color": "#F8A19F",
          "symbol": "circle"
         },
         "mode": "markers",
         "name": "Marcus Aurelius, Emperor of Rome",
         "orientation": "v",
         "showlegend": true,
         "type": "scatter",
         "x": [
          8.276243209838867,
          6.5563788414001465,
          9.251575469970703,
          6.892354965209961,
          8.278153419494629
         ],
         "xaxis": "x",
         "y": [
          2.7579236030578613,
          2.5899083614349365,
          2.554182291030884,
          2.3117151260375977,
          2.752788543701172
         ],
         "yaxis": "y"
        },
        {
         "customdata": [
          [
           "The Iliad of Homer: Translated into English Blank Verse by William Cowper"
          ],
          [
           "The Odyssey: Rendered into English prose for the use of those who cannot read the original"
          ],
          [
           "The Odyssey of Homer"
          ],
          [
           "The Iliad"
          ],
          [
           "The Iliad"
          ],
          [
           "The Odyssey of Homer"
          ],
          [
           "Odysseus, the Hero of Ithaca: Adapted from the Third Book of the Primary Schools of Athens, Greece"
          ],
          [
           "The Iliad"
          ],
          [
           "The Odyssey"
          ],
          [
           "The Adventures of Ulysses the Wanderer"
          ],
          [
           "The Odysseys of Homer, together with the shorter poems"
          ],
          [
           "The Iliads of Homer: Translated according to the Greek"
          ],
          [
           "The Iliad"
          ],
          [
           "The Iliad"
          ]
         ],
         "hovertemplate": "author=Homer<br>proj_0=%{x}<br>proj_1=%{y}<br>title=%{customdata[0]}<extra></extra>",
         "legendgroup": "Homer",
         "marker": {
          "color": "#90AD1C",
          "symbol": "circle"
         },
         "mode": "markers",
         "name": "Homer",
         "orientation": "v",
         "showlegend": true,
         "type": "scatter",
         "x": [
          4.3243727684021,
          4.405704498291016,
          4.47806978225708,
          4.37120246887207,
          4.259849548339844,
          4.256223678588867,
          4.448618412017822,
          4.394900798797607,
          4.287447452545166,
          5.35684061050415,
          4.30983304977417,
          4.315782070159912,
          4.272582530975342,
          4.292954444885254
         ],
         "xaxis": "x",
         "y": [
          3.436631202697754,
          3.3720905780792236,
          3.4478466510772705,
          3.364532232284546,
          3.3477938175201416,
          3.3480305671691895,
          3.9458067417144775,
          3.496354579925537,
          3.4308881759643555,
          2.459895610809326,
          3.385094404220581,
          3.3954217433929443,
          3.44063138961792,
          3.3925881385803223
         ],
         "yaxis": "y"
        },
        {
         "customdata": [
          [
           "The Declaration of Independence of The United States of America"
          ],
          [
           "Memoir, Correspondence, and Miscellanies, From the Papers of Thomas Jefferson, Volume 1"
          ],
          [
           "Memoir, Correspondence, and Miscellanies, From the Papers of Thomas Jefferson, Volume 2"
          ],
          [
           "Memoir, Correspondence, and Miscellanies, From the Papers of Thomas Jefferson, Volume 3"
          ],
          [
           "Memoir, Correspondence, and Miscellanies, From the Papers of Thomas Jefferson, Volume 4"
          ],
          [
           "The Declaration of Independence of the United States of America"
          ],
          [
           "The Writings of Thomas Jefferson: Library Edition - Vol. 6 (of 20)"
          ],
          [
           "The Memoirs, Correspondence, and Miscellanies, From the Papers of Thomas Jefferson: A Linked Index to the Project Gutenberg Editions"
          ],
          [
           "United States Declaration of Independence"
          ],
          [
           "The Writings of Thomas Jefferson, Vol. 1 (of 9): Being His Autobiography, Correspondence, Reports, Messages, Addresses, and Other Writings, Official and Private"
          ],
          [
           "The Writings of Thomas Jefferson, Vol. 2 (of 9): Being His Autobiography, Correspondence, Reports, Messages, Addresses, and Other Writings, Official and Private"
          ],
          [
           "State of the Union Addresses"
          ],
          [
           "The Writings of Thomas Jefferson, Vol. 3 (of 9): Being His Autobiography, Correspondence, Reports, Messages, Addresses, and Other Writings, Official and Private"
          ],
          [
           "The Writings of Thomas Jefferson, Vol. 4 (of 9): Being His Autobiography, Correspondence, Reports, Messages, Addresses, and Other Writings, Official and Private"
          ],
          [
           "The Writings of Thomas Jefferson, Vol. 5 (of 9): Being His Autobiography, Correspondence, Reports, Messages, Addresses, and Other Writings, Official and Private"
          ],
          [
           "The Writings of Thomas Jefferson, Vol. 6 (of 9): Being His Autobiography, Correspondence, Reports, Messages, Addresses, and Other Writings, Official and Private"
          ],
          [
           "The Writings of Thomas Jefferson, Vol. 7 (of 9): Being His Autobiography, Correspondence, Reports, Messages, Addresses, and Other Writings, Official and Private"
          ],
          [
           "The Writings of Thomas Jefferson, Vol. 8 (of 9): Being His Autobiography, Correspondence, Reports, Messages, Addresses, and Other Writings, Official and Private"
          ],
          [
           "The Writings of Thomas Jefferson, Vol. 9 (of 9): Being His Autobiography, Correspondence, Reports, Messages, Addresses, and Other Writings, Official and Private"
          ]
         ],
         "hovertemplate": "author=Jefferson, Thomas<br>proj_0=%{x}<br>proj_1=%{y}<br>title=%{customdata[0]}<extra></extra>",
         "legendgroup": "Jefferson, Thomas",
         "marker": {
          "color": "#F6222E",
          "symbol": "circle"
         },
         "mode": "markers",
         "name": "Jefferson, Thomas",
         "orientation": "v",
         "showlegend": true,
         "type": "scatter",
         "x": [
          6.291630268096924,
          8.753732681274414,
          8.376370429992676,
          8.692672729492188,
          8.785726547241211,
          6.999269962310791,
          8.383096694946289,
          7.020942687988281,
          6.644473075866699,
          8.684070587158203,
          8.313446044921875,
          8.185062408447266,
          8.6072416305542,
          8.742206573486328,
          8.559000968933105,
          8.631567001342773,
          8.71322250366211,
          8.421915054321289,
          8.584331512451172
         ],
         "xaxis": "x",
         "y": [
          2.0750794410705566,
          4.373685836791992,
          3.999255657196045,
          4.329732418060303,
          4.419651031494141,
          3.4726831912994385,
          4.132169723510742,
          2.5364952087402344,
          2.364628314971924,
          4.304246425628662,
          4.056875705718994,
          4.025248050689697,
          4.252769947052002,
          4.374361991882324,
          4.197445869445801,
          4.2711992263793945,
          4.349138259887695,
          4.125504493713379,
          4.201189041137695
         ],
         "yaxis": "y"
        },
        {
         "customdata": [
          [
           "Crome Yellow"
          ],
          [
           "The Defeat of Youth, and Other Poems"
          ],
          [
           "Mortal Coils"
          ],
          [
           "The Burning Wheel"
          ],
          [
           "Leda"
          ],
          [
           "Limbo"
          ],
          [
           "Index of the Project Gutenberg Works of Aldous Huxley"
          ],
          [
           "Antic Hay"
          ],
          [
           "On the Margin: Notes and Essays"
          ],
          [
           "Jonah: Christmas 1917"
          ],
          [
           "Little Mexican & Other Stories"
          ],
          [
           "Selected Poems"
          ]
         ],
         "hovertemplate": "author=Huxley, Aldous<br>proj_0=%{x}<br>proj_1=%{y}<br>title=%{customdata[0]}<extra></extra>",
         "legendgroup": "Huxley, Aldous",
         "marker": {
          "color": "#1CFFCE",
          "symbol": "circle"
         },
         "mode": "markers",
         "name": "Huxley, Aldous",
         "orientation": "v",
         "showlegend": true,
         "type": "scatter",
         "x": [
          5.014689922332764,
          5.230823993682861,
          4.960864543914795,
          5.381783485412598,
          4.976130962371826,
          4.98464822769165,
          6.410463333129883,
          4.974709510803223,
          5.145434856414795,
          6.143662452697754,
          4.9220051765441895,
          5.3026556968688965
         ],
         "xaxis": "x",
         "y": [
          2.458355188369751,
          1.9880762100219727,
          2.0172030925750732,
          1.9905833005905151,
          2.09446382522583,
          1.9850153923034668,
          1.8056902885437012,
          2.059169292449951,
          2.087188482284546,
          1.9174933433532715,
          2.667254686355591,
          1.9303122758865356
         ],
         "yaxis": "y"
        },
        {
         "customdata": [
          [
           "Tartuffe; Or, The Hypocrite"
          ],
          [
           "Amphitryon"
          ],
          [
           "The Flying Doctor: (Le Médecin Volant)"
          ],
          [
           "The Jealousy of le Barbouillé: (La Jalousie du Barbouillé)"
          ],
          [
           "Tartuffe; Or, The Hypocrite"
          ],
          [
           "The Middle-Class Gentleman"
          ],
          [
           "The Pretentious Young Ladies"
          ],
          [
           "The Blunderer"
          ],
          [
           "The Love-Tiff"
          ],
          [
           "The Bores: A Comedy in Three Acts"
          ],
          [
           "Sganarelle, or, the Self-Deceived Husband"
          ],
          [
           "Don Garcia of Navarre; Or, the Jealous Prince. A Heroic Comedy in Five Acts."
          ],
          [
           "The School for Husbands"
          ],
          [
           "The Miser"
          ],
          [
           "Monsieur De Pourceaugnac"
          ],
          [
           "The Magnificent Lovers (Les Amants magnifiques)"
          ],
          [
           "The Shopkeeper Turned Gentleman"
          ],
          [
           "The Imaginary Invalid"
          ]
         ],
         "hovertemplate": "author=Molière<br>proj_0=%{x}<br>proj_1=%{y}<br>title=%{customdata[0]}<extra></extra>",
         "legendgroup": "Molière",
         "marker": {
          "color": "#2ED9FF",
          "symbol": "circle"
         },
         "mode": "markers",
         "name": "Molière",
         "orientation": "v",
         "showlegend": true,
         "type": "scatter",
         "x": [
          7.017058372497559,
          7.319333076477051,
          6.871756553649902,
          7.103487491607666,
          7.022961139678955,
          7.029046535491943,
          7.061437129974365,
          7.250672340393066,
          7.201433181762695,
          7.271252632141113,
          7.331604957580566,
          7.301146507263184,
          7.159297943115234,
          7.0199198722839355,
          6.919221878051758,
          7.067178726196289,
          7.194395542144775,
          7.225094318389893
         ],
         "xaxis": "x",
         "y": [
          0.37882083654403687,
          0.481736958026886,
          0.8572105765342712,
          0.5119383931159973,
          0.45924559235572815,
          0.6861311793327332,
          0.4724707007408142,
          0.5409269332885742,
          0.5891743898391724,
          0.44500088691711426,
          0.4123360812664032,
          0.4794656038284302,
          0.6207210421562195,
          0.636473536491394,
          0.6080945134162903,
          0.5963756442070007,
          0.593971848487854,
          0.5952014923095703
         ],
         "yaxis": "y"
        },
        {
         "customdata": [
          [
           "Beyond Lies the Wub"
          ],
          [
           "Beyond the Door"
          ],
          [
           "The Crystal Crypt"
          ],
          [
           "The Defenders"
          ],
          [
           "The Gun"
          ],
          [
           "The Skull"
          ],
          [
           "The Eyes Have It"
          ],
          [
           "Second Variety"
          ],
          [
           "The Variable Man"
          ],
          [
           "Mr. Spaceship"
          ],
          [
           "Piper in the Woods"
          ],
          [
           "Tony and the Beetles"
          ],
          [
           "The Hanging Stranger"
          ],
          [
           "Prize ship"
          ]
         ],
         "hovertemplate": "author=Dick, Philip K.<br>proj_0=%{x}<br>proj_1=%{y}<br>title=%{customdata[0]}<extra></extra>",
         "legendgroup": "Dick, Philip K.",
         "marker": {
          "color": "#B10DA1",
          "symbol": "circle"
         },
         "mode": "markers",
         "name": "Dick, Philip K.",
         "orientation": "v",
         "showlegend": true,
         "type": "scatter",
         "x": [
          6.894612789154053,
          6.9431915283203125,
          7.501010417938232,
          7.588385105133057,
          7.512449264526367,
          7.331122398376465,
          6.746367931365967,
          7.5677571296691895,
          7.567110538482666,
          7.522047996520996,
          7.580291271209717,
          7.487003803253174,
          7.586980819702148,
          7.486042499542236
         ],
         "xaxis": "x",
         "y": [
          2.054553985595703,
          1.9992845058441162,
          2.0307693481445312,
          1.9996974468231201,
          2.014417886734009,
          2.0245614051818848,
          2.0182478427886963,
          1.965368628501892,
          1.9636746644973755,
          1.9234758615493774,
          2.0159785747528076,
          2.042593002319336,
          2.0081021785736084,
          2.0805492401123047
         ],
         "yaxis": "y"
        },
        {
         "customdata": [
          [
           "Writings in the United Amateur, 1915-1922"
          ],
          [
           "The Shunned House"
          ],
          [
           "The Dunwich Horror"
          ],
          [
           "The colour out of space"
          ],
          [
           "The call of Cthulhu"
          ],
          [
           "He"
          ],
          [
           "The festival"
          ],
          [
           "The lurking fear"
          ]
         ],
         "hovertemplate": "author=Lovecraft, H. P. (Howard Phillips)<br>proj_0=%{x}<br>proj_1=%{y}<br>title=%{customdata[0]}<extra></extra>",
         "legendgroup": "Lovecraft, H. P. (Howard Phillips)",
         "marker": {
          "color": "#C075A6",
          "symbol": "circle"
         },
         "mode": "markers",
         "name": "Lovecraft, H. P. (Howard Phillips)",
         "orientation": "v",
         "showlegend": true,
         "type": "scatter",
         "x": [
          7.8735151290893555,
          7.329491138458252,
          7.59783935546875,
          7.4656243324279785,
          7.5623955726623535,
          7.150603294372559,
          7.12373161315918,
          7.477390289306641
         ],
         "xaxis": "x",
         "y": [
          2.6494579315185547,
          2.3294785022735596,
          2.567138671875,
          2.4817278385162354,
          2.4523823261260986,
          2.3372485637664795,
          2.267937660217285,
          2.5398995876312256
         ],
         "yaxis": "y"
        },
        {
         "customdata": [
          [
           "Lambda"
          ],
          [
           "Deathway"
          ]
         ],
         "hovertemplate": "author=Umer, Tomo<br>proj_0=%{x}<br>proj_1=%{y}<br>title=%{customdata[0]}<extra></extra>",
         "legendgroup": "Umer, Tomo",
         "marker": {
          "color": "#FC1CBF",
          "symbol": "circle"
         },
         "mode": "markers",
         "name": "Umer, Tomo",
         "orientation": "v",
         "showlegend": true,
         "type": "scatter",
         "x": [
          5.905713081359863,
          5.7240495681762695
         ],
         "xaxis": "x",
         "y": [
          3.8981268405914307,
          1.660761833190918
         ],
         "yaxis": "y"
        }
       ],
       "layout": {
        "height": 800,
        "legend": {
         "title": {
          "text": "author"
         },
         "tracegroupgap": 0
        },
        "margin": {
         "t": 60
        },
        "shapes": [
         {
          "line": {
           "color": "LightSeaGreen"
          },
          "type": "circle",
          "x0": 5.2747321128845215,
          "x1": 6.536694049835205,
          "xref": "x",
          "y0": 3.267146110534668,
          "y1": 4.529107570648193,
          "yref": "y"
         },
         {
          "line": {
           "color": "LightSeaGreen"
          },
          "type": "circle",
          "x0": 5.093068599700928,
          "x1": 6.355030536651611,
          "xref": "x",
          "y0": 1.0297809839248657,
          "y1": 2.2917428016662598,
          "yref": "y"
         }
        ],
        "template": {
         "data": {
          "bar": [
           {
            "error_x": {
             "color": "#2a3f5f"
            },
            "error_y": {
             "color": "#2a3f5f"
            },
            "marker": {
             "line": {
              "color": "#E5ECF6",
              "width": 0.5
             },
             "pattern": {
              "fillmode": "overlay",
              "size": 10,
              "solidity": 0.2
             }
            },
            "type": "bar"
           }
          ],
          "barpolar": [
           {
            "marker": {
             "line": {
              "color": "#E5ECF6",
              "width": 0.5
             },
             "pattern": {
              "fillmode": "overlay",
              "size": 10,
              "solidity": 0.2
             }
            },
            "type": "barpolar"
           }
          ],
          "carpet": [
           {
            "aaxis": {
             "endlinecolor": "#2a3f5f",
             "gridcolor": "white",
             "linecolor": "white",
             "minorgridcolor": "white",
             "startlinecolor": "#2a3f5f"
            },
            "baxis": {
             "endlinecolor": "#2a3f5f",
             "gridcolor": "white",
             "linecolor": "white",
             "minorgridcolor": "white",
             "startlinecolor": "#2a3f5f"
            },
            "type": "carpet"
           }
          ],
          "choropleth": [
           {
            "colorbar": {
             "outlinewidth": 0,
             "ticks": ""
            },
            "type": "choropleth"
           }
          ],
          "contour": [
           {
            "colorbar": {
             "outlinewidth": 0,
             "ticks": ""
            },
            "colorscale": [
             [
              0,
              "#0d0887"
             ],
             [
              0.1111111111111111,
              "#46039f"
             ],
             [
              0.2222222222222222,
              "#7201a8"
             ],
             [
              0.3333333333333333,
              "#9c179e"
             ],
             [
              0.4444444444444444,
              "#bd3786"
             ],
             [
              0.5555555555555556,
              "#d8576b"
             ],
             [
              0.6666666666666666,
              "#ed7953"
             ],
             [
              0.7777777777777778,
              "#fb9f3a"
             ],
             [
              0.8888888888888888,
              "#fdca26"
             ],
             [
              1,
              "#f0f921"
             ]
            ],
            "type": "contour"
           }
          ],
          "contourcarpet": [
           {
            "colorbar": {
             "outlinewidth": 0,
             "ticks": ""
            },
            "type": "contourcarpet"
           }
          ],
          "heatmap": [
           {
            "colorbar": {
             "outlinewidth": 0,
             "ticks": ""
            },
            "colorscale": [
             [
              0,
              "#0d0887"
             ],
             [
              0.1111111111111111,
              "#46039f"
             ],
             [
              0.2222222222222222,
              "#7201a8"
             ],
             [
              0.3333333333333333,
              "#9c179e"
             ],
             [
              0.4444444444444444,
              "#bd3786"
             ],
             [
              0.5555555555555556,
              "#d8576b"
             ],
             [
              0.6666666666666666,
              "#ed7953"
             ],
             [
              0.7777777777777778,
              "#fb9f3a"
             ],
             [
              0.8888888888888888,
              "#fdca26"
             ],
             [
              1,
              "#f0f921"
             ]
            ],
            "type": "heatmap"
           }
          ],
          "heatmapgl": [
           {
            "colorbar": {
             "outlinewidth": 0,
             "ticks": ""
            },
            "colorscale": [
             [
              0,
              "#0d0887"
             ],
             [
              0.1111111111111111,
              "#46039f"
             ],
             [
              0.2222222222222222,
              "#7201a8"
             ],
             [
              0.3333333333333333,
              "#9c179e"
             ],
             [
              0.4444444444444444,
              "#bd3786"
             ],
             [
              0.5555555555555556,
              "#d8576b"
             ],
             [
              0.6666666666666666,
              "#ed7953"
             ],
             [
              0.7777777777777778,
              "#fb9f3a"
             ],
             [
              0.8888888888888888,
              "#fdca26"
             ],
             [
              1,
              "#f0f921"
             ]
            ],
            "type": "heatmapgl"
           }
          ],
          "histogram": [
           {
            "marker": {
             "pattern": {
              "fillmode": "overlay",
              "size": 10,
              "solidity": 0.2
             }
            },
            "type": "histogram"
           }
          ],
          "histogram2d": [
           {
            "colorbar": {
             "outlinewidth": 0,
             "ticks": ""
            },
            "colorscale": [
             [
              0,
              "#0d0887"
             ],
             [
              0.1111111111111111,
              "#46039f"
             ],
             [
              0.2222222222222222,
              "#7201a8"
             ],
             [
              0.3333333333333333,
              "#9c179e"
             ],
             [
              0.4444444444444444,
              "#bd3786"
             ],
             [
              0.5555555555555556,
              "#d8576b"
             ],
             [
              0.6666666666666666,
              "#ed7953"
             ],
             [
              0.7777777777777778,
              "#fb9f3a"
             ],
             [
              0.8888888888888888,
              "#fdca26"
             ],
             [
              1,
              "#f0f921"
             ]
            ],
            "type": "histogram2d"
           }
          ],
          "histogram2dcontour": [
           {
            "colorbar": {
             "outlinewidth": 0,
             "ticks": ""
            },
            "colorscale": [
             [
              0,
              "#0d0887"
             ],
             [
              0.1111111111111111,
              "#46039f"
             ],
             [
              0.2222222222222222,
              "#7201a8"
             ],
             [
              0.3333333333333333,
              "#9c179e"
             ],
             [
              0.4444444444444444,
              "#bd3786"
             ],
             [
              0.5555555555555556,
              "#d8576b"
             ],
             [
              0.6666666666666666,
              "#ed7953"
             ],
             [
              0.7777777777777778,
              "#fb9f3a"
             ],
             [
              0.8888888888888888,
              "#fdca26"
             ],
             [
              1,
              "#f0f921"
             ]
            ],
            "type": "histogram2dcontour"
           }
          ],
          "mesh3d": [
           {
            "colorbar": {
             "outlinewidth": 0,
             "ticks": ""
            },
            "type": "mesh3d"
           }
          ],
          "parcoords": [
           {
            "line": {
             "colorbar": {
              "outlinewidth": 0,
              "ticks": ""
             }
            },
            "type": "parcoords"
           }
          ],
          "pie": [
           {
            "automargin": true,
            "type": "pie"
           }
          ],
          "scatter": [
           {
            "fillpattern": {
             "fillmode": "overlay",
             "size": 10,
             "solidity": 0.2
            },
            "type": "scatter"
           }
          ],
          "scatter3d": [
           {
            "line": {
             "colorbar": {
              "outlinewidth": 0,
              "ticks": ""
             }
            },
            "marker": {
             "colorbar": {
              "outlinewidth": 0,
              "ticks": ""
             }
            },
            "type": "scatter3d"
           }
          ],
          "scattercarpet": [
           {
            "marker": {
             "colorbar": {
              "outlinewidth": 0,
              "ticks": ""
             }
            },
            "type": "scattercarpet"
           }
          ],
          "scattergeo": [
           {
            "marker": {
             "colorbar": {
              "outlinewidth": 0,
              "ticks": ""
             }
            },
            "type": "scattergeo"
           }
          ],
          "scattergl": [
           {
            "marker": {
             "colorbar": {
              "outlinewidth": 0,
              "ticks": ""
             }
            },
            "type": "scattergl"
           }
          ],
          "scattermapbox": [
           {
            "marker": {
             "colorbar": {
              "outlinewidth": 0,
              "ticks": ""
             }
            },
            "type": "scattermapbox"
           }
          ],
          "scatterpolar": [
           {
            "marker": {
             "colorbar": {
              "outlinewidth": 0,
              "ticks": ""
             }
            },
            "type": "scatterpolar"
           }
          ],
          "scatterpolargl": [
           {
            "marker": {
             "colorbar": {
              "outlinewidth": 0,
              "ticks": ""
             }
            },
            "type": "scatterpolargl"
           }
          ],
          "scatterternary": [
           {
            "marker": {
             "colorbar": {
              "outlinewidth": 0,
              "ticks": ""
             }
            },
            "type": "scatterternary"
           }
          ],
          "surface": [
           {
            "colorbar": {
             "outlinewidth": 0,
             "ticks": ""
            },
            "colorscale": [
             [
              0,
              "#0d0887"
             ],
             [
              0.1111111111111111,
              "#46039f"
             ],
             [
              0.2222222222222222,
              "#7201a8"
             ],
             [
              0.3333333333333333,
              "#9c179e"
             ],
             [
              0.4444444444444444,
              "#bd3786"
             ],
             [
              0.5555555555555556,
              "#d8576b"
             ],
             [
              0.6666666666666666,
              "#ed7953"
             ],
             [
              0.7777777777777778,
              "#fb9f3a"
             ],
             [
              0.8888888888888888,
              "#fdca26"
             ],
             [
              1,
              "#f0f921"
             ]
            ],
            "type": "surface"
           }
          ],
          "table": [
           {
            "cells": {
             "fill": {
              "color": "#EBF0F8"
             },
             "line": {
              "color": "white"
             }
            },
            "header": {
             "fill": {
              "color": "#C8D4E3"
             },
             "line": {
              "color": "white"
             }
            },
            "type": "table"
           }
          ]
         },
         "layout": {
          "annotationdefaults": {
           "arrowcolor": "#2a3f5f",
           "arrowhead": 0,
           "arrowwidth": 1
          },
          "autotypenumbers": "strict",
          "coloraxis": {
           "colorbar": {
            "outlinewidth": 0,
            "ticks": ""
           }
          },
          "colorscale": {
           "diverging": [
            [
             0,
             "#8e0152"
            ],
            [
             0.1,
             "#c51b7d"
            ],
            [
             0.2,
             "#de77ae"
            ],
            [
             0.3,
             "#f1b6da"
            ],
            [
             0.4,
             "#fde0ef"
            ],
            [
             0.5,
             "#f7f7f7"
            ],
            [
             0.6,
             "#e6f5d0"
            ],
            [
             0.7,
             "#b8e186"
            ],
            [
             0.8,
             "#7fbc41"
            ],
            [
             0.9,
             "#4d9221"
            ],
            [
             1,
             "#276419"
            ]
           ],
           "sequential": [
            [
             0,
             "#0d0887"
            ],
            [
             0.1111111111111111,
             "#46039f"
            ],
            [
             0.2222222222222222,
             "#7201a8"
            ],
            [
             0.3333333333333333,
             "#9c179e"
            ],
            [
             0.4444444444444444,
             "#bd3786"
            ],
            [
             0.5555555555555556,
             "#d8576b"
            ],
            [
             0.6666666666666666,
             "#ed7953"
            ],
            [
             0.7777777777777778,
             "#fb9f3a"
            ],
            [
             0.8888888888888888,
             "#fdca26"
            ],
            [
             1,
             "#f0f921"
            ]
           ],
           "sequentialminus": [
            [
             0,
             "#0d0887"
            ],
            [
             0.1111111111111111,
             "#46039f"
            ],
            [
             0.2222222222222222,
             "#7201a8"
            ],
            [
             0.3333333333333333,
             "#9c179e"
            ],
            [
             0.4444444444444444,
             "#bd3786"
            ],
            [
             0.5555555555555556,
             "#d8576b"
            ],
            [
             0.6666666666666666,
             "#ed7953"
            ],
            [
             0.7777777777777778,
             "#fb9f3a"
            ],
            [
             0.8888888888888888,
             "#fdca26"
            ],
            [
             1,
             "#f0f921"
            ]
           ]
          },
          "colorway": [
           "#636efa",
           "#EF553B",
           "#00cc96",
           "#ab63fa",
           "#FFA15A",
           "#19d3f3",
           "#FF6692",
           "#B6E880",
           "#FF97FF",
           "#FECB52"
          ],
          "font": {
           "color": "#2a3f5f"
          },
          "geo": {
           "bgcolor": "white",
           "lakecolor": "white",
           "landcolor": "#E5ECF6",
           "showlakes": true,
           "showland": true,
           "subunitcolor": "white"
          },
          "hoverlabel": {
           "align": "left"
          },
          "hovermode": "closest",
          "mapbox": {
           "style": "light"
          },
          "paper_bgcolor": "white",
          "plot_bgcolor": "#E5ECF6",
          "polar": {
           "angularaxis": {
            "gridcolor": "white",
            "linecolor": "white",
            "ticks": ""
           },
           "bgcolor": "#E5ECF6",
           "radialaxis": {
            "gridcolor": "white",
            "linecolor": "white",
            "ticks": ""
           }
          },
          "scene": {
           "xaxis": {
            "backgroundcolor": "#E5ECF6",
            "gridcolor": "white",
            "gridwidth": 2,
            "linecolor": "white",
            "showbackground": true,
            "ticks": "",
            "zerolinecolor": "white"
           },
           "yaxis": {
            "backgroundcolor": "#E5ECF6",
            "gridcolor": "white",
            "gridwidth": 2,
            "linecolor": "white",
            "showbackground": true,
            "ticks": "",
            "zerolinecolor": "white"
           },
           "zaxis": {
            "backgroundcolor": "#E5ECF6",
            "gridcolor": "white",
            "gridwidth": 2,
            "linecolor": "white",
            "showbackground": true,
            "ticks": "",
            "zerolinecolor": "white"
           }
          },
          "shapedefaults": {
           "line": {
            "color": "#2a3f5f"
           }
          },
          "ternary": {
           "aaxis": {
            "gridcolor": "white",
            "linecolor": "white",
            "ticks": ""
           },
           "baxis": {
            "gridcolor": "white",
            "linecolor": "white",
            "ticks": ""
           },
           "bgcolor": "#E5ECF6",
           "caxis": {
            "gridcolor": "white",
            "linecolor": "white",
            "ticks": ""
           }
          },
          "title": {
           "x": 0.05
          },
          "xaxis": {
           "automargin": true,
           "gridcolor": "white",
           "linecolor": "white",
           "ticks": "",
           "title": {
            "standoff": 15
           },
           "zerolinecolor": "white",
           "zerolinewidth": 2
          },
          "yaxis": {
           "automargin": true,
           "gridcolor": "white",
           "linecolor": "white",
           "ticks": "",
           "title": {
            "standoff": 15
           },
           "zerolinecolor": "white",
           "zerolinewidth": 2
          }
         }
        },
        "width": 1200,
        "xaxis": {
         "anchor": "y",
         "domain": [
          0,
          1
         ],
         "title": {
          "text": "proj_0"
         }
        },
        "yaxis": {
         "anchor": "x",
         "domain": [
          0,
          1
         ],
         "title": {
          "text": "proj_1"
         }
        }
       }
      }
     },
     "metadata": {},
     "output_type": "display_data"
    }
   ],
   "source": [
    "fig = px.scatter(data_frame = library_newtext,\n",
    "                 x='proj_0',\n",
    "                 y='proj_1',\n",
    "                 width=1200,\n",
    "                 height=800,\n",
    "                 color= 'author',\n",
    "                 color_discrete_sequence=px.colors.qualitative.Alphabet, #Dark24\n",
    "                 hover_data= ['title']\n",
    "                 )\n",
    "\n",
    "for i in range(circle_edges.shape[0]):\n",
    "    fig.add_shape(type='circle',\n",
    "        xref='x', yref='y',\n",
    "        x0=circle_edges['x0'][i],\n",
    "        y0=circle_edges['y0'][i],\n",
    "        x1=circle_edges['x1'][i],\n",
    "        y1=circle_edges['y1'][i],\n",
    "        line_color='LightSeaGreen',\n",
    "    )\n",
    "\n",
    "\n",
    "fig.show()"
   ]
  },
  {
   "cell_type": "code",
   "execution_count": 35,
   "metadata": {},
   "outputs": [
    {
     "data": {
      "application/vnd.plotly.v1+json": {
       "config": {
        "plotlyServerURL": "https://plot.ly"
       },
       "data": [
        {
         "customdata": [
          [
           "Apocolocyntosis"
          ],
          [
           "L. Annaeus Seneca on Benefits"
          ],
          [
           "Two Tragedies of Seneca: Medea and The Daughters of Troy: Rendered into English Verse"
          ],
          [
           "Seneca's Morals of a Happy Life, Benefits, Anger and Clemency"
          ],
          [
           "The Tragedies of Seneca: Translated into English Verse, to Which Have Been Appended Comparative Analyses of the Corresponding Greek and Roman Plays, and a Mythological Index"
          ],
          [
           "Index of the Project Gutenberg Works of Lucius Annaeus Seneca"
          ],
          [
           "Minor Dialogues, Together With the Dialogue on Clemency"
          ]
         ],
         "hovertemplate": "color=1.0<br>proj_0=%{x}<br>proj_1=%{y}<br>title=%{customdata[0]}<extra></extra>",
         "legendgroup": "1.0",
         "marker": {
          "color": "#AA0DFE",
          "symbol": "circle"
         },
         "mode": "markers",
         "name": "1.0",
         "orientation": "v",
         "showlegend": true,
         "type": "scatter",
         "x": [
          6.359277725219727,
          5.17404317855835,
          5.516793251037598,
          5.203135013580322,
          5.098394393920898,
          6.352631568908691,
          5.072218418121338
         ],
         "xaxis": "x",
         "y": [
          2.3534581661224365,
          2.9909584522247314,
          3.31630802154541,
          3.1619439125061035,
          3.1210176944732666,
          2.01009464263916,
          3.0849645137786865
         ],
         "yaxis": "y"
        },
        {
         "customdata": [
          [
           "La Fiammetta"
          ],
          [
           "The Decameron, Volume II"
          ],
          [
           "The Decameron of Giovanni Boccaccio"
          ],
          [
           "The Decameron, Volume I"
          ],
          [
           "The Decameron (Day 1 to Day 5): Containing an hundred pleasant Novels"
          ],
          [
           "The Decameron (Day 6 to Day 10): Containing an hundred pleasant Novels"
          ]
         ],
         "hovertemplate": "color=14.0<br>proj_0=%{x}<br>proj_1=%{y}<br>title=%{customdata[0]}<extra></extra>",
         "legendgroup": "14.0",
         "marker": {
          "color": "#3283FE",
          "symbol": "circle"
         },
         "mode": "markers",
         "name": "14.0",
         "orientation": "v",
         "showlegend": true,
         "type": "scatter",
         "x": [
          3.0083203315734863,
          2.3099992275238037,
          2.3724710941314697,
          3.6100189685821533,
          2.091010332107544,
          2.1061325073242188
         ],
         "xaxis": "x",
         "y": [
          2.769007921218872,
          3.30532169342041,
          3.4334113597869873,
          9.403288841247559,
          3.144892454147339,
          3.1491479873657227
         ],
         "yaxis": "y"
        },
        {
         "customdata": [
          [
           "Divine Comedy, Longfellow's Translation, Hell"
          ],
          [
           "Divine Comedy, Longfellow's Translation, Purgatory"
          ],
          [
           "Divine Comedy, Longfellow's Translation, Paradise"
          ],
          [
           "Divine Comedy, Longfellow's Translation, Complete"
          ],
          [
           "Divine Comedy, Cary's Translation, Hell"
          ],
          [
           "Divine Comedy, Cary's Translation, Purgatory"
          ],
          [
           "Divine Comedy, Cary's Translation, Paradise"
          ],
          [
           "Divine Comedy, Cary's Translation, Complete"
          ],
          [
           "The Banquet (Il Convito)"
          ],
          [
           "The Divine Comedy, Volume 1, Hell"
          ],
          [
           "The Divine Comedy, Volume 2, Purgatory"
          ],
          [
           "The Divine Comedy, Volume 3, Paradise"
          ],
          [
           "The New Life (La Vita Nuova)"
          ],
          [
           "The Divine Comedy of Dante Alighieri: The Inferno"
          ],
          [
           "The Vision of Dante: A story for little children and a talk to their mothers: (Second Edition)"
          ],
          [
           "The vision of hell.: By Dante Alighieri.; Translated by Rev. Henry Francis Cary, M.A.; and illustrated with the seventy-five designs of Gustave Doré."
          ],
          [
           "The Divine Comedy by Dante, Illustrated, Purgatory, Complete"
          ],
          [
           "The Divine Comedy by Dante, Illustrated, Paradise, Complete"
          ],
          [
           "The divine comedy"
          ]
         ],
         "hovertemplate": "color=13.0<br>proj_0=%{x}<br>proj_1=%{y}<br>title=%{customdata[0]}<extra></extra>",
         "legendgroup": "13.0",
         "marker": {
          "color": "#85660D",
          "symbol": "circle"
         },
         "mode": "markers",
         "name": "13.0",
         "orientation": "v",
         "showlegend": true,
         "type": "scatter",
         "x": [
          2.6911675930023193,
          2.554750442504883,
          2.722930669784546,
          2.669989585876465,
          2.38631010055542,
          2.3719496726989746,
          2.3286755084991455,
          2.3978054523468018,
          2.7722344398498535,
          2.714792490005493,
          2.5994205474853516,
          2.9201180934906006,
          5.700784206390381,
          2.6670913696289062,
          6.085504531860352,
          2.4541287422180176,
          2.3915908336639404,
          2.4255337715148926,
          2.3831026554107666
         ],
         "xaxis": "x",
         "y": [
          5.552940368652344,
          5.607345104217529,
          5.535053730010986,
          5.49647855758667,
          5.726893901824951,
          5.761354446411133,
          5.790169715881348,
          5.732306003570557,
          5.461521148681641,
          5.481104850769043,
          5.499387741088867,
          5.328676700592041,
          3.861572027206421,
          5.556490898132324,
          2.417642593383789,
          5.662633419036865,
          5.768980503082275,
          5.6909260749816895,
          5.746600151062012
         ],
         "yaxis": "y"
        },
        {
         "customdata": [
          [
           "Chinese Literature: Comprising the Analects of Confucius, the Sayings of Mencius, the Shi-King, the Travels of Fâ-Hien, and the Sorrows of Han"
          ],
          [
           "The Sayings of Confucius"
          ],
          [
           "The Analects of Confucius (from the Chinese Classics)"
          ],
          [
           "The Wisdom of Confucius: with Critical and Biographical Sketches"
          ],
          [
           "The Sayings of Confucius: A New Translation of the Greater Part of the Confucian Analects"
          ]
         ],
         "hovertemplate": "color=-6.0<br>proj_0=%{x}<br>proj_1=%{y}<br>title=%{customdata[0]}<extra></extra>",
         "legendgroup": "-6.0",
         "marker": {
          "color": "#782AB6",
          "symbol": "circle"
         },
         "mode": "markers",
         "name": "-6.0",
         "orientation": "v",
         "showlegend": true,
         "type": "scatter",
         "x": [
          8.531414985656738,
          5.766191482543945,
          5.880093574523926,
          8.560209274291992,
          5.575015068054199
         ],
         "xaxis": "x",
         "y": [
          4.022940635681152,
          2.4896883964538574,
          2.484250068664551,
          3.9979193210601807,
          2.4668827056884766
         ],
         "yaxis": "y"
        },
        {
         "customdata": [
          [
           "The Complete Works of William Shakespeare"
          ],
          [
           "Shakespeare's Sonnets"
          ],
          [
           "Venus and Adonis"
          ],
          [
           "King Richard III"
          ],
          [
           "The Tragedy of Titus Andronicus"
          ],
          [
           "The Taming of the Shrew"
          ],
          [
           "The Tragedy of Romeo and Juliet"
          ],
          [
           "As You Like It"
          ],
          [
           "The Tragedy of Macbeth"
          ],
          [
           "King Richard III"
          ],
          [
           "The Taming of the Shrew"
          ],
          [
           "Romeo and Juliet"
          ],
          [
           "A Midsummer Night's Dream"
          ],
          [
           "The Merchant of Venice"
          ],
          [
           "King Henry IV, the First Part"
          ],
          [
           "Much Ado about Nothing"
          ],
          [
           "The Life of King Henry V"
          ],
          [
           "Julius Caesar"
          ],
          [
           "As You Like It"
          ],
          [
           "Hamlet, Prince of Denmark"
          ],
          [
           "Twelfth Night; Or, What You Will"
          ],
          [
           "All's Well That Ends Well"
          ],
          [
           "Othello, the Moor of Venice"
          ],
          [
           "The Tragedy of King Lear"
          ],
          [
           "Macbeth"
          ],
          [
           "Antony and Cleopatra"
          ],
          [
           "The Winter's Tale"
          ],
          [
           "The Tempest"
          ],
          [
           "Sir Thomas More"
          ],
          [
           "Romeo and Juliet"
          ],
          [
           "Julius Caesar"
          ],
          [
           "Hamlet"
          ],
          [
           "King Lear"
          ],
          [
           "A Midsummer Night's Dream"
          ],
          [
           "The Merchant of Venice"
          ],
          [
           "Twelfth Night"
          ],
          [
           "Henry V"
          ],
          [
           "Macbeth"
          ],
          [
           "Hamlet"
          ],
          [
           "Othello"
          ],
          [
           "Shakespeare's First Folio"
          ],
          [
           "The Tempest: The Works of William Shakespeare [Cambridge Edition] [9 vols.]"
          ],
          [
           "Two Gentlemen of Verona: The Works of William Shakespeare [Cambridge Edition] [9 vols.]"
          ],
          [
           "The Merry Wives of Windsor: The Works of William Shakespeare [Cambridge Edition] [9 vols.]"
          ],
          [
           "Measure for Measure: The Works of William Shakespeare [Cambridge Edition] [9 vols.]"
          ],
          [
           "The Comedy of Errors: The Works of William Shakespeare [Cambridge Edition] [9 vols.]"
          ],
          [
           "Hamlet, Prince of Denmark"
          ],
          [
           "The New Hudson Shakespeare: Julius Cæsar"
          ],
          [
           "Shakespeare's Tragedy of Romeo and Juliet"
          ],
          [
           "Flowers from Shakespeare's Garden: A Posy from the Plays"
          ]
         ],
         "hovertemplate": "color=16.0<br>proj_0=%{x}<br>proj_1=%{y}<br>title=%{customdata[0]}<extra></extra>",
         "legendgroup": "16.0",
         "marker": {
          "color": "#565656",
          "symbol": "circle"
         },
         "mode": "markers",
         "name": "16.0",
         "orientation": "v",
         "showlegend": true,
         "type": "scatter",
         "x": [
          1.6525554656982422,
          2.294671058654785,
          1.7020232677459717,
          1.584118366241455,
          2.173147201538086,
          2.2423975467681885,
          1.9626476764678955,
          2.04902720451355,
          1.6251981258392334,
          1.504236102104187,
          2.275712490081787,
          1.9091720581054688,
          1.8693140745162964,
          1.7288700342178345,
          1.9315211772918701,
          1.8489797115325928,
          1.7128527164459229,
          1.7637274265289307,
          2.0205159187316895,
          1.7895108461380005,
          1.8334888219833374,
          1.7866827249526978,
          2.2636935710906982,
          1.9177864789962769,
          1.716555118560791,
          2.2817554473876953,
          2.292245388031006,
          2.290072441101074,
          1.8923619985580444,
          1.9663292169570923,
          1.7847206592559814,
          1.77421236038208,
          1.875536561012268,
          1.855541706085205,
          1.7325775623321533,
          1.7224332094192505,
          1.6702107191085815,
          1.564767599105835,
          1.6733949184417725,
          1.630342721939087,
          1.6751389503479004,
          2.229306697845459,
          2.1082208156585693,
          1.8759626150131226,
          2.0818593502044678,
          1.8620505332946777,
          1.9215489625930786,
          1.8063299655914307,
          1.9992417097091675,
          6.196230888366699
         ],
         "xaxis": "x",
         "y": [
          -2.7176923751831055,
          -1.5688050985336304,
          -1.7982237339019775,
          -1.9368221759796143,
          -1.7593070268630981,
          -1.5654157400131226,
          -2.543409824371338,
          -2.000960111618042,
          -2.141195774078369,
          -1.9920763969421387,
          -1.51195228099823,
          -2.4200241565704346,
          -2.165867567062378,
          -2.0483205318450928,
          -1.977242112159729,
          -2.1392228603363037,
          -1.7744306325912476,
          -1.5136868953704834,
          -1.9110101461410522,
          -2.228684186935425,
          -1.8643757104873657,
          -1.99703848361969,
          -1.5223668813705444,
          -2.4183292388916016,
          -2.1550989151000977,
          -1.4665632247924805,
          -1.483201503753662,
          -1.5495628118515015,
          -1.8490618467330933,
          -2.520376205444336,
          -1.526780605316162,
          -2.3221662044525146,
          -2.472332715988159,
          -2.2998135089874268,
          -2.5293638706207275,
          -2.292900323867798,
          -2.5300614833831787,
          -2.4313805103302,
          -2.557467460632324,
          -2.5287294387817383,
          -2.6117100715637207,
          -1.6573522090911865,
          -1.6902282238006592,
          -1.9336131811141968,
          -1.7348138093948364,
          -1.7039777040481567,
          -1.8855527639389038,
          -1.5316143035888672,
          -2.3286662101745605,
          1.890160322189331
         ],
         "yaxis": "y"
        },
        {
         "customdata": [
          [
           "Bleak House"
          ],
          [
           "The Tragedy of Pudd'nhead Wilson"
          ],
          [
           "The Green Flag, and Other Stories of War and Sport"
          ],
          [
           "Extract from Captain Stormfield's Visit to Heaven"
          ],
          [
           "A Horse's Tale"
          ],
          [
           "The Return of Sherlock Holmes"
          ],
          [
           "The Exploits of Brigadier Gerard"
          ],
          [
           "The Refugees: A Tale of Two Continents"
          ],
          [
           "The Great Shadow and Other Napoleonic Tales"
          ],
          [
           "The Count of Monte Cristo, Illustrated"
          ],
          [
           "A Tramp Abroad"
          ],
          [
           "The Man That Corrupted Hadleyburg"
          ],
          [
           "The Three Musketeers"
          ],
          [
           "Ten Years Later"
          ],
          [
           "Twenty Years After"
          ],
          [
           "The Poison Belt"
          ],
          [
           "Three Ghost Stories"
          ],
          [
           "The Firm of Girdlestone"
          ],
          [
           "The Forty-Five Guardsmen"
          ],
          [
           "The Lost World"
          ],
          [
           "Great Expectations"
          ],
          [
           "The Perils of Certain English Prisoners"
          ],
          [
           "A Message from the Sea"
          ],
          [
           "Doctor Marigold"
          ],
          [
           "The $30,000 Bequest, and Other Stories"
          ],
          [
           "The Wreck of the Golden Mary"
          ],
          [
           "Some Christmas Stories"
          ],
          [
           "Camille (La Dame aux Camilias)"
          ],
          [
           "The Adventures of Gerard"
          ],
          [
           "The Adventures of Sherlock Holmes"
          ],
          [
           "The Prince and the Pauper"
          ],
          [
           "Extracts from Adam's Diary, translated from the original ms."
          ],
          [
           "The Vicomte de Bragelonne; Or, Ten Years Later: Being the completion of \"The Three Musketeers\" and \"Twenty Years After\""
          ],
          [
           "A Christmas Carol"
          ],
          [
           "Chapters from My Autobiography"
          ],
          [
           "The Queen's Necklace"
          ],
          [
           "The Sign of the Four"
          ],
          [
           "The Return of Sherlock Holmes"
          ],
          [
           "Danger! and Other Stories"
          ],
          [
           "The Magic Fishbone: A Holiday Romance from the Pen of Miss Alice Rainbird, Aged 7"
          ],
          [
           "The Adventure of Wisteria Lodge"
          ],
          [
           "The Adventure of the Cardboard Box"
          ],
          [
           "The Adventure of the Red Circle"
          ],
          [
           "The Adventure of the Bruce-Partington Plans"
          ],
          [
           "The Adventure of the Dying Detective"
          ],
          [
           "The Disappearance of Lady Frances Carfax"
          ],
          [
           "The Adventure of the Devil's Foot"
          ],
          [
           "His Last Bow: An Epilogue of Sherlock Holmes"
          ],
          [
           "A Christmas Carol"
          ],
          [
           "Is Shakespeare Dead?: From My Autobiography"
          ],
          [
           "A Study in Scarlet"
          ],
          [
           "Life on the Mississippi"
          ],
          [
           "On the Decay of the Art of Lying"
          ],
          [
           "The Letters of Charles Dickens. Vol. 1, 1833-1856"
          ],
          [
           "The Letters of Charles Dickens. Vol. 2, 1857-1870"
          ],
          [
           "Bardell v. Pickwick"
          ],
          [
           "The Vicomte De Bragelonne"
          ],
          [
           "Ten Years Later"
          ],
          [
           "Louise de la Valliere"
          ],
          [
           "The Regent's Daughter"
          ],
          [
           "The Conspirators: The Chevalier d'Harmental"
          ],
          [
           "The Borgias: Celebrated Crimes"
          ],
          [
           "Cenci: Celebrated Crimes"
          ],
          [
           "Massacres of the South (1551-1815): Celebrated Crimes"
          ],
          [
           "Mary Stuart: Celebrated Crimes"
          ],
          [
           "Urbain Grandier: Celebrated Crimes"
          ],
          [
           "Derues: Celebrated Crimes"
          ],
          [
           "Joan of Naples: Celebrated Crimes"
          ],
          [
           "Man in the Iron Mask (an Essay)"
          ],
          [
           "Martin Guerre: Celebrated Crimes"
          ],
          [
           "Ali Pacha: Celebrated Crimes"
          ],
          [
           "Murat: Celebrated Crimes"
          ],
          [
           "Marquise Brinvillier: Celebrated Crimes"
          ],
          [
           "Marquise De Ganges: Celebrated Crimes"
          ],
          [
           "The Man in the Iron Mask"
          ],
          [
           "Celebrated Crimes (Complete)"
          ],
          [
           "Mugby Junction"
          ],
          [
           "Sir Nigel"
          ],
          [
           "The Hound of the Baskervilles"
          ],
          [
           "Personal Recollections of Joan of Arc — Volume 1"
          ],
          [
           "Personal Recollections of Joan of Arc — Volume 2"
          ],
          [
           "The Works of Mark Twain: An Index of all Project Gutenberg Editions"
          ],
          [
           "Following the Equator: A Journey Around the World"
          ],
          [
           "The Captain of the Polestar, and Other Tales"
          ],
          [
           "A Christmas Carol: The original manuscript"
          ],
          [
           "The Great Boer War"
          ],
          [
           "The Hound of the Baskervilles"
          ],
          [
           "In Defence of Harriet Shelley"
          ],
          [
           "Fenimore Cooper's Literary Offences"
          ],
          [
           "A Dog's Tale"
          ],
          [
           "The Innocents Abroad"
          ],
          [
           "Roughing It"
          ],
          [
           "The Gilded Age: A Tale of Today"
          ],
          [
           "The American Claimant"
          ],
          [
           "A Double Barrelled Detective Story"
          ],
          [
           "The Stolen White Elephant"
          ],
          [
           "Those Extraordinary Twins"
          ],
          [
           "The Mysterious Stranger, and Other Stories"
          ],
          [
           "Christian Science"
          ],
          [
           "Mark Twain's Speeches"
          ],
          [
           "Sketches New and Old"
          ],
          [
           "1601: Conversation as it was by the Social Fireside in the Time of the Tudors"
          ],
          [
           "Mark Twain's Letters — Volume 1 (1853-1866)"
          ],
          [
           "Mark Twain's Letters — Volume 2 (1867-1875)"
          ],
          [
           "Mark Twain's Letters — Volume 4 (1886-1900)"
          ],
          [
           "Mark Twain's Letters — Complete (1853-1910)"
          ],
          [
           "The Entire Project Gutenberg Works of Mark Twain"
          ],
          [
           "The Adventures of Huckleberry Finn (Tom Sawyer's Comrade)"
          ],
          [
           "How to Tell a Story, and Other Essays"
          ],
          [
           "The Man That Corrupted Hadleyburg, and Other Stories"
          ],
          [
           "The Great Keinplatz Experiment and Other Tales of Twilight and the Unseen"
          ],
          [
           "The Valley of Fear"
          ],
          [
           "Marguerite de Valois"
          ],
          [
           "The Parasite: A Story"
          ],
          [
           "The Prussian Terror"
          ],
          [
           "The Crime of the Congo"
          ],
          [
           "The Valley of Fear"
          ],
          [
           "The Wanderings of a Spiritualist"
          ],
          [
           "The Battle of Life: A Love Story"
          ],
          [
           "The Corsican Brothers"
          ],
          [
           "A Child's Dream of a Star"
          ],
          [
           "Round the Red Lamp: Being Facts and Fancies of Medical Life"
          ],
          [
           "The Hero of the People: A Historical Romance of Love, Liberty and Loyalty"
          ],
          [
           "The Mesmerist's Victim"
          ],
          [
           "The Countess of Charny; or, The Execution of King Louis XVI"
          ],
          [
           "The Personal History of David Copperfield"
          ],
          [
           "The Royal Life Guard; or, the flight of the royal family.: A historical romance of the suppression of the French monarchy"
          ],
          [
           "The Vital Message"
          ],
          [
           "Taking the Bastile; Or, Pitou the Peasant: A Historical Story of the Great French Revolution"
          ],
          [
           "Balsamo, the Magician; or, The Memoirs of a Physician"
          ],
          [
           "Oliver Twist; or, The Parish Boy's Progress. Illustrated"
          ],
          [
           "The Coming of the Fairies"
          ],
          [
           "Oliver Twist, Vol. 1 (of 3)"
          ],
          [
           "Adventures of Sherlock Holmes: Illustrated"
          ],
          [
           "My Memoirs, Vol. I, 1802 to 1821"
          ],
          [
           "The Mysterious Stranger: A Romance"
          ],
          [
           "My Memoirs, Vol. II, 1822 to 1825"
          ],
          [
           "My Memoirs, Vol. III, 1826 to 1830"
          ],
          [
           "My Memoirs, Vol. V, 1831 to 1832"
          ],
          [
           "The Wolf-Leader"
          ],
          [
           "My Memoirs, Vol. VI, 1832 to 1833"
          ],
          [
           "Rodney Stone"
          ],
          [
           "The War of Women, Volume 1"
          ],
          [
           "Tales of Terror and Mystery"
          ],
          [
           "Round the Fire Stories"
          ],
          [
           "The Mystery of Edwin Drood"
          ],
          [
           "Index of the Project Gutenberg Works of Alexandre Dumas, [père]"
          ],
          [
           "The Pickwick Papers"
          ],
          [
           "Index of the Project Gutenberg Works of Charles Dickens"
          ],
          [
           "Master Humphrey's Clock"
          ],
          [
           "The Case for Spirit Photography: With corroborative evidence by experienced researchers and photographers"
          ],
          [
           "The Whites and the Blues"
          ],
          [
           "Merry Tales"
          ],
          [
           "The £1,000,000 bank-note, and other new stories"
          ],
          [
           "To the Person Sitting in Darkness"
          ],
          [
           "King Leopold's Soliloquy: A Defense of His Congo Rule"
          ],
          [
           "The Haunted Man and the Ghost's Bargain"
          ],
          [
           "Pictures from Italy"
          ],
          [
           "The Chimes: A Goblin Story of Some Bells That Rang an Old Year out and a New Year In"
          ],
          [
           "Ascanio"
          ],
          [
           "Memories and Adventures"
          ],
          [
           "American Notes"
          ],
          [
           "The Battle of Life"
          ],
          [
           "The Cricket on the Hearth: A Fairy Tale of Home"
          ],
          [
           "Europe and elsewhere"
          ],
          [
           "The land of mist"
          ],
          [
           "My friend the murderer, and other mysteries and adventures"
          ],
          [
           "The case-book of Sherlock Holmes"
          ],
          [
           "The case of Oscar Slater"
          ],
          [
           "A Child's History of England"
          ],
          [
           "The Old Curiosity Shop"
          ],
          [
           "The Companions of Jehu"
          ],
          [
           "Adventures of Huckleberry Finn, Chapters 01 to 05"
          ],
          [
           "Adventures of Huckleberry Finn, Chapters 11 to 15"
          ],
          [
           "The Adventures of Tom Sawyer, Part 1."
          ],
          [
           "The Adventures of Tom Sawyer, Part 2."
          ],
          [
           "Oliver Twist"
          ],
          [
           "Chicot the Jester"
          ],
          [
           "David Copperfield"
          ],
          [
           "Hard Times"
          ],
          [
           "The Mystery of Cloomber"
          ],
          [
           "Hunted Down: The Detective Stories of Charles Dickens"
          ],
          [
           "Holiday Romance"
          ],
          [
           "George Silverman's Explanation"
          ],
          [
           "Dombey and Son"
          ],
          [
           "Speeches: Literary and Social"
          ],
          [
           "The Memoirs of Sherlock Holmes"
          ],
          [
           "Eve's Diary, Complete"
          ],
          [
           "Reprinted Pieces"
          ],
          [
           "Sketches by Boz, Illustrative of Every-Day Life and Every-Day People"
          ],
          [
           "Our Mutual Friend"
          ],
          [
           "The White Company"
          ],
          [
           "The Uncommercial Traveller"
          ],
          [
           "Barnaby Rudge: A Tale of the Riots of 'Eighty"
          ],
          [
           "To Be Read at Dusk"
          ],
          [
           "Micah Clarke: His Statement as made to his three grandchildren Joseph, Gervas and Reuben During the Hard Winter of 1734"
          ],
          [
           "Little Dorrit"
          ],
          [
           "The Black Tulip"
          ],
          [
           "Nicholas Nickleby"
          ],
          [
           "Martin Chuzzlewit"
          ]
         ],
         "hovertemplate": "color=19.0<br>proj_0=%{x}<br>proj_1=%{y}<br>title=%{customdata[0]}<extra></extra>",
         "legendgroup": "19.0",
         "marker": {
          "color": "#1C8356",
          "symbol": "circle"
         },
         "mode": "markers",
         "name": "19.0",
         "orientation": "v",
         "showlegend": true,
         "type": "scatter",
         "x": [
          4.961558818817139,
          1.86778724193573,
          10.364418029785156,
          2.640780210494995,
          2.607494592666626,
          10.802118301391602,
          10.35198974609375,
          10.118064880371094,
          10.210770606994629,
          3.4386768341064453,
          1.4315305948257446,
          2.245346784591675,
          3.4305942058563232,
          3.903712272644043,
          3.3881328105926514,
          9.63687801361084,
          4.766644477844238,
          10.308334350585938,
          3.556239128112793,
          10.356886863708496,
          4.586661338806152,
          4.828502178192139,
          5.3565568923950195,
          5.312000751495361,
          1.6651495695114136,
          5.324211597442627,
          4.857219219207764,
          3.2698867321014404,
          10.14900016784668,
          10.831182479858398,
          1.8353009223937988,
          2.9742093086242676,
          3.900240421295166,
          4.617129802703857,
          1.877377986907959,
          3.2028067111968994,
          10.323484420776367,
          10.928218841552734,
          10.244824409484863,
          5.579540252685547,
          9.454792022705078,
          9.56889820098877,
          9.496341705322266,
          9.666031837463379,
          9.480351448059082,
          9.537056922912598,
          9.614282608032227,
          10.17244815826416,
          4.680712699890137,
          2.0548222064971924,
          10.036649703979492,
          1.0026227235794067,
          3.027100086212158,
          4.669488430023193,
          4.643794059753418,
          5.314547538757324,
          3.8919668197631836,
          3.6984925270080566,
          3.8356542587280273,
          3.3543589115142822,
          3.290865659713745,
          3.855123519897461,
          3.2479352951049805,
          3.8886852264404297,
          3.4408817291259766,
          3.2442078590393066,
          3.132389545440674,
          3.5847558975219727,
          3.323960781097412,
          3.288325309753418,
          3.629594087600708,
          3.0798351764678955,
          3.237215280532837,
          3.1141419410705566,
          3.869767189025879,
          3.9466476440429688,
          5.016694068908691,
          10.581073760986328,
          10.706212997436523,
          1.4759799242019653,
          1.8915108442306519,
          6.40273904800415,
          0.9481040835380554,
          10.601146697998047,
          4.713506698608398,
          10.665950775146484,
          10.625198364257812,
          2.739346504211426,
          2.9277143478393555,
          2.977461338043213,
          1.1115599870681763,
          0.9904646277427673,
          1.2142114639282227,
          1.404679536819458,
          2.168941020965576,
          2.9097695350646973,
          2.6981959342956543,
          1.74434494972229,
          1.600167989730835,
          1.2706304788589478,
          1.0456280708312988,
          2.749199390411377,
          1.5847008228302002,
          1.610629916191101,
          1.44684898853302,
          1.181559681892395,
          1.0078015327453613,
          1.5995749235153198,
          2.794921875,
          1.0741918087005615,
          10.558167457580566,
          10.228799819946289,
          3.264913320541382,
          9.854758262634277,
          3.37699031829834,
          9.847688674926758,
          10.300241470336914,
          10.203107833862305,
          4.680093288421631,
          3.0778050422668457,
          6.200669765472412,
          10.358328819274902,
          3.4467780590057373,
          3.553175687789917,
          3.666076421737671,
          4.479006767272949,
          3.329493522644043,
          10.002172470092773,
          3.3150906562805176,
          3.4732563495635986,
          4.517106533050537,
          9.522075653076172,
          4.767775535583496,
          10.90953540802002,
          3.7359366416931152,
          1.720834493637085,
          3.8202497959136963,
          3.7838611602783203,
          3.7884840965270996,
          3.147111177444458,
          3.7535033226013184,
          10.291521072387695,
          3.439871311187744,
          10.779829978942871,
          10.913066864013672,
          4.643375396728516,
          3.205073595046997,
          5.187777996063232,
          5.317437648773193,
          4.812005043029785,
          9.654495239257812,
          3.7335355281829834,
          1.7806260585784912,
          1.8491475582122803,
          2.9882848262786865,
          2.7603471279144287,
          4.890281677246094,
          4.832627773284912,
          4.918770790100098,
          3.3022232055664062,
          10.843378067016602,
          4.382440567016602,
          4.624870300292969,
          5.20326566696167,
          1.445454716682434,
          10.327677726745605,
          10.699508666992188,
          10.330016136169434,
          9.472926139831543,
          4.730001926422119,
          4.8525285720825195,
          3.3728342056274414,
          2.672654628753662,
          2.5595877170562744,
          2.6931650638580322,
          2.6057534217834473,
          4.475295066833496,
          3.1805121898651123,
          4.459806442260742,
          4.891726493835449,
          10.670540809631348,
          5.464180946350098,
          5.151569843292236,
          5.2458415031433105,
          4.918866157531738,
          4.485439300537109,
          10.35946273803711,
          2.889826536178589,
          4.455661296844482,
          4.566988945007324,
          4.7904462814331055,
          10.297309875488281,
          4.533233165740967,
          4.514039516448975,
          5.564270496368408,
          10.639466285705566,
          4.88684606552124,
          3.153094530105591,
          4.77054500579834,
          5.017384052276611
         ],
         "xaxis": "x",
         "y": [
          0.07491680234670639,
          2.710618734359741,
          2.9508612155914307,
          2.629629611968994,
          2.494065046310425,
          2.4412918090820312,
          2.8876490592956543,
          2.8186256885528564,
          2.9446096420288086,
          9.090977668762207,
          2.7544825077056885,
          2.7972748279571533,
          8.96911907196045,
          10.369218826293945,
          8.992449760437012,
          2.5227982997894287,
          0.8672955632209778,
          2.860140085220337,
          9.720202445983887,
          2.3787782192230225,
          0.5316023230552673,
          0.9165279865264893,
          1.0899972915649414,
          1.117611289024353,
          2.743312358856201,
          1.025904893875122,
          0.8645851612091064,
          8.624541282653809,
          2.849794387817383,
          2.611337184906006,
          2.6546788215637207,
          2.600341796875,
          10.410378456115723,
          0.7559453845024109,
          2.7490031719207764,
          9.271956443786621,
          2.8790862560272217,
          2.5045297145843506,
          2.8184196949005127,
          1.397432804107666,
          2.4242124557495117,
          2.522834539413452,
          2.4235501289367676,
          2.3688998222351074,
          2.479356050491333,
          2.471451997756958,
          2.456183910369873,
          2.4014339447021484,
          0.8736869692802429,
          2.685015916824341,
          2.837615966796875,
          2.8798582553863525,
          2.4953808784484863,
          -0.026028966531157494,
          0.03935562074184418,
          0.6697744131088257,
          10.357409477233887,
          9.959005355834961,
          10.23717975616455,
          8.770442962646484,
          8.750749588012695,
          10.082218170166016,
          8.703081130981445,
          10.273224830627441,
          9.553217887878418,
          9.44940185546875,
          8.65340805053711,
          9.734800338745117,
          8.876832962036133,
          8.833499908447266,
          9.856328964233398,
          8.65360164642334,
          8.958169937133789,
          8.67721939086914,
          10.358709335327148,
          10.311951637268066,
          0.10500317066907883,
          2.6248655319213867,
          2.618680953979492,
          2.9257187843322754,
          2.6795854568481445,
          1.830332636833191,
          2.8498659133911133,
          2.653709650039673,
          0.8928696513175964,
          2.573521375656128,
          2.7723116874694824,
          2.5638036727905273,
          2.4802520275115967,
          2.4605889320373535,
          2.76059627532959,
          2.814852476119995,
          2.9819209575653076,
          2.8767404556274414,
          2.6482346057891846,
          2.593235492706299,
          2.609556198120117,
          2.8608312606811523,
          2.862203598022461,
          3.001382827758789,
          2.887460470199585,
          2.5023512840270996,
          2.8836069107055664,
          2.781869411468506,
          2.7688493728637695,
          2.81349778175354,
          2.8224971294403076,
          2.585380792617798,
          2.546182870864868,
          2.8397834300994873,
          2.547065258026123,
          2.7488341331481934,
          8.982778549194336,
          2.7483227252960205,
          9.502884864807129,
          2.774338960647583,
          2.707003593444824,
          2.7876040935516357,
          0.7584711909294128,
          8.74023151397705,
          1.7863043546676636,
          2.8961968421936035,
          9.579240798950195,
          9.725683212280273,
          9.849984169006348,
          -0.23921465873718262,
          9.543914794921875,
          2.783529281616211,
          9.466474533081055,
          9.620809555053711,
          -0.24308308959007263,
          2.5507352352142334,
          -0.23044109344482422,
          2.5128567218780518,
          10.052325248718262,
          2.962369918823242,
          10.134797096252441,
          10.142584800720215,
          10.047500610351562,
          8.736913681030273,
          9.949759483337402,
          2.8524506092071533,
          9.507529258728027,
          2.616151809692383,
          2.5129072666168213,
          0.03394504263997078,
          8.664036750793457,
          0.5589724779129028,
          1.0144309997558594,
          -0.1416904479265213,
          2.6623120307922363,
          9.998401641845703,
          2.901305913925171,
          2.682509660720825,
          2.5148417949676514,
          2.734647035598755,
          0.9644454717636108,
          -0.17731262743473053,
          0.821885347366333,
          9.386787414550781,
          2.540142059326172,
          0.10178238153457642,
          0.7394960522651672,
          0.7445344924926758,
          2.647686004638672,
          2.8915905952453613,
          2.6626007556915283,
          2.4542839527130127,
          2.577073812484741,
          0.14267270267009735,
          -0.16769085824489594,
          9.070828437805176,
          2.4560892581939697,
          2.5438828468322754,
          2.486128568649292,
          2.6289122104644775,
          -0.2399565875530243,
          8.926016807556152,
          -0.19794954359531403,
          1.0081828832626343,
          2.5339887142181396,
          1.2913144826889038,
          1.1339715719223022,
          0.9635168313980103,
          0.01355688739567995,
          0.2271588146686554,
          2.693228006362915,
          2.5362632274627686,
          0.2390553057193756,
          -0.07952713966369629,
          0.05848178640007973,
          2.47212553024292,
          -0.13885438442230225,
          0.2601012587547302,
          1.3685665130615234,
          2.480778694152832,
          -0.05870288610458374,
          8.731727600097656,
          -0.07807880640029907,
          0.21032677590847015
         ],
         "yaxis": "y"
        },
        {
         "customdata": [
          [
           "Persuasion"
          ],
          [
           "The Life and Adventures of Robinson Crusoe of York, Mariner, Volume 1: With an Account of His Travels Round Three Parts of the Globe,; Written By Himself, in Two Volumes"
          ],
          [
           "From London to Land's End: and Two Letters from the \"Journey through England by a Gentleman\""
          ],
          [
           "The Life and Most Surprising Adventures of Robinson Crusoe, of York, Mariner (1801)"
          ],
          [
           "Love and Freindship [sic]"
          ],
          [
           "Northanger Abbey"
          ],
          [
           "Memoirs of a Cavalier: A Military Journal of the Wars in Germany, and the Wars in England.; From the Year 1632 to the Year 1648."
          ],
          [
           "The Life and Adventures of Robinson Crusoe (1808)"
          ],
          [
           "Pride and Prejudice"
          ],
          [
           "The History of the Remarkable Life of John Sheppard: Containing a Particular Account of His Many Robberies and Escapes"
          ],
          [
           "A Vindication of the Press"
          ],
          [
           "Mansfield Park"
          ],
          [
           "Military Memoirs of Capt. George Carleton"
          ],
          [
           "Memoirs of Major Alexander Ramkins (1718)"
          ],
          [
           "The Complete English Tradesman (1839 ed.)"
          ],
          [
           "Emma"
          ],
          [
           "Sense and Sensibility"
          ],
          [
           "The Declaration of Independence of The United States of America"
          ],
          [
           "Memoir, Correspondence, and Miscellanies, From the Papers of Thomas Jefferson, Volume 1"
          ],
          [
           "Memoir, Correspondence, and Miscellanies, From the Papers of Thomas Jefferson, Volume 2"
          ],
          [
           "Memoir, Correspondence, and Miscellanies, From the Papers of Thomas Jefferson, Volume 3"
          ],
          [
           "Memoir, Correspondence, and Miscellanies, From the Papers of Thomas Jefferson, Volume 4"
          ],
          [
           "History of the Plague in London"
          ],
          [
           "The Declaration of Independence of the United States of America"
          ],
          [
           "Dickory Cronke: The Dumb Philosopher, or, Great Britain's Wonder"
          ],
          [
           "Everybody's Business Is Nobody's Business: Or, Private Abuses, Public Grievances; Exemplified in the Pride, Insolence, and Exorbitant Wages of Our Women, Servants, Footmen, &c."
          ],
          [
           "The Writings of Thomas Jefferson: Library Edition - Vol. 6 (of 20)"
          ],
          [
           "Sense and Sensibility"
          ],
          [
           "Atalantis Major"
          ],
          [
           "The Memoirs, Correspondence, and Miscellanies, From the Papers of Thomas Jefferson: A Linked Index to the Project Gutenberg Editions"
          ],
          [
           "United States Declaration of Independence"
          ],
          [
           "The True-Born Englishman: A Satire"
          ],
          [
           "The Fortunate Mistress (Parts 1 and 2): or a History of the Life of Mademoiselle de Beleau Known by the Name of the Lady Roxana"
          ],
          [
           "The History of the Devil, As Well Ancient as Modern: In Two Parts"
          ],
          [
           "The Complete Project Gutenberg Works of Jane Austen: A Linked Index of all PG Editions of Jane Austen"
          ],
          [
           "An Appeal to Honour and Justice, Though It Be of His Worst Enemies.: Being A True Account of His Conduct in Public Affairs."
          ],
          [
           "An Humble Proposal to the People of England, for the Increase of their Trade, and Encouragement of Their Manufactures: Whether the Present Uncertainty of Affairs Issues in Peace or War"
          ],
          [
           "Second Thoughts are Best: Or a Further Improvement of a Late Scheme to Prevent Street Robberies"
          ],
          [
           "Augusta Triumphans: Or, the Way to Make London the Most Flourishing City in the Universe"
          ],
          [
           "A New Voyage Round the World by a Course Never Sailed Before"
          ],
          [
           "A True Relation of the Apparition of one Mrs. Veal: The Next Day after Her Death, to one Mrs. Bargrave, at Canterbury, the 8th of September, 1705; which Apparition Recommends the Perusal of Drelincourt's Book of Consolations against the Fears of Death"
          ],
          [
           "Reasons Against the Succession of the House of Hanover: With an Enquiry How Far the Abdication of King James, Supposing It to Be Legal, Ought to Affect the Person of the Pretender"
          ],
          [
           "A Seasonable Warning and Caution against the Insinuations of Papists and Jacobites in favour of the Pretender: Being a Letter from an Englishman at the Court of Hanover"
          ],
          [
           "An Answer to a Question that Nobody thinks of, viz., But what if the Queen should Die?"
          ],
          [
           "The Lay-Man's Sermon upon the Late Storm: Held forth at an Honest Coffee-House-Conventicle"
          ],
          [
           "And What if the Pretender should Come?: Or Some Considerations of the Advantages and Real Consequences of the Pretender's Possessing the Crown of Great Britain"
          ],
          [
           "The Fortunes and Misfortunes of the Famous Moll Flanders"
          ],
          [
           "Pride and Prejudice, a play founded on Jane Austen's novel"
          ],
          [
           "A Short Narrative of the Life and Actions of His Grace John, D. of Marlborogh"
          ],
          [
           "A Journal of the Plague Year: Being Observations or Memorials of the Most Remarkable Occurrences, as Well Public as Private, Which Happened in London During the Last Great Visitation in 1665. Written by a Citizen Who Continued All the While in London"
          ],
          [
           "The King of Pirates: Being an Account of the Famous Enterprises of Captain Avery, the Mock King of Madagascar"
          ],
          [
           "A General History of the Pyrates:: from their first rise and settlement in the island of Providence, to the present time"
          ],
          [
           "An Essay Upon Projects"
          ],
          [
           "The Storm. An Essay."
          ],
          [
           "The Letters of Jane Austen: Selected from the compilation of her great nephew, Edward, Lord Bradbourne"
          ],
          [
           "The Storm: or, a Collection of the most Remarkable Casualties and Disasters which Happen'd in the Late Dreadful Tempest, both by Sea and Land"
          ],
          [
           "Pride and Prejudice"
          ],
          [
           "The Writings of Thomas Jefferson, Vol. 1 (of 9): Being His Autobiography, Correspondence, Reports, Messages, Addresses, and Other Writings, Official and Private"
          ],
          [
           "The Writings of Thomas Jefferson, Vol. 2 (of 9): Being His Autobiography, Correspondence, Reports, Messages, Addresses, and Other Writings, Official and Private"
          ],
          [
           "State of the Union Addresses"
          ],
          [
           "The Life and Adventures of Robinson Crusoe"
          ],
          [
           "The History and Remarkable Life of the Truly Honourable Colonel Jacque, Commonly Called Colonel Jack"
          ],
          [
           "The Writings of Thomas Jefferson, Vol. 3 (of 9): Being His Autobiography, Correspondence, Reports, Messages, Addresses, and Other Writings, Official and Private"
          ],
          [
           "The Writings of Thomas Jefferson, Vol. 4 (of 9): Being His Autobiography, Correspondence, Reports, Messages, Addresses, and Other Writings, Official and Private"
          ],
          [
           "The Writings of Thomas Jefferson, Vol. 5 (of 9): Being His Autobiography, Correspondence, Reports, Messages, Addresses, and Other Writings, Official and Private"
          ],
          [
           "The Friendly Daemon, or the Generous Apparition: Being a True Narrative of a Miraculous Cure, Newly Perform'd Upon That Famous Deaf and Dumb Gentleman, Dr. Duncan Campbel, by a Familiar Spirit That Appear'd to Him in a White Surplice, Like a Cathedral Singing Boy"
          ],
          [
           "The Writings of Thomas Jefferson, Vol. 6 (of 9): Being His Autobiography, Correspondence, Reports, Messages, Addresses, and Other Writings, Official and Private"
          ],
          [
           "The Writings of Thomas Jefferson, Vol. 7 (of 9): Being His Autobiography, Correspondence, Reports, Messages, Addresses, and Other Writings, Official and Private"
          ],
          [
           "The Further Adventures of Robinson Crusoe"
          ],
          [
           "The Writings of Thomas Jefferson, Vol. 8 (of 9): Being His Autobiography, Correspondence, Reports, Messages, Addresses, and Other Writings, Official and Private"
          ],
          [
           "The Writings of Thomas Jefferson, Vol. 9 (of 9): Being His Autobiography, Correspondence, Reports, Messages, Addresses, and Other Writings, Official and Private"
          ],
          [
           "The History of the Pyrates. Vol. II.: Containing the lives of Captain Misson, Captain Bowen, Captain Kidd, Captain Tew, Captain Halsey, Captain White, Captain Condent, Captain Bellamy, Captain Fly, Captain Howard, Captain Lewis, Captain Cornelius, Captain Williams, Captain Burgess, Captain North, and their several crews"
          ],
          [
           "The Watsons: By Jane Austen, Concluded by L. Oulton"
          ],
          [
           "The Life, Adventures & Piracies of the Famous Captain Singleton"
          ],
          [
           "Robinson Crusoe, Told to the Children by John Lang"
          ],
          [
           "The Consolidator; or, Memoirs of Sundry Transactions from the World in the Moon"
          ],
          [
           "Lady Susan"
          ],
          [
           "Tour through the Eastern Counties of England, 1722"
          ]
         ],
         "hovertemplate": "color=18.0<br>proj_0=%{x}<br>proj_1=%{y}<br>title=%{customdata[0]}<extra></extra>",
         "legendgroup": "18.0",
         "marker": {
          "color": "#16FF32",
          "symbol": "circle"
         },
         "mode": "markers",
         "name": "18.0",
         "orientation": "v",
         "showlegend": true,
         "type": "scatter",
         "x": [
          2.795625925064087,
          6.4066996574401855,
          6.154423236846924,
          6.349372386932373,
          2.833322048187256,
          2.755974054336548,
          6.192529201507568,
          6.460272312164307,
          2.6117441654205322,
          6.124375820159912,
          6.239636421203613,
          2.8172593116760254,
          6.291070938110352,
          6.181590557098389,
          6.299502849578857,
          2.7756783962249756,
          2.648543357849121,
          6.291630268096924,
          8.753732681274414,
          8.376370429992676,
          8.692672729492188,
          8.785726547241211,
          6.420093059539795,
          6.999269962310791,
          6.148940086364746,
          6.047596454620361,
          8.383096694946289,
          2.634122371673584,
          6.290494441986084,
          7.020942687988281,
          6.644473075866699,
          6.245635032653809,
          6.23388147354126,
          6.273438453674316,
          6.399709701538086,
          6.290287017822266,
          6.285847187042236,
          6.300803184509277,
          6.16182804107666,
          6.2428975105285645,
          6.203095436096191,
          6.209662437438965,
          6.31983757019043,
          6.264551162719727,
          6.236508846282959,
          6.228313446044922,
          6.2753214836120605,
          2.9039740562438965,
          6.284489631652832,
          6.464316368103027,
          6.218400478363037,
          6.3050007820129395,
          6.350629806518555,
          6.210130214691162,
          2.712939739227295,
          6.200089931488037,
          2.642590045928955,
          8.684070587158203,
          8.313446044921875,
          8.185062408447266,
          6.4527907371521,
          6.306274890899658,
          8.6072416305542,
          8.742206573486328,
          8.559000968933105,
          6.0762619972229,
          8.631567001342773,
          8.71322250366211,
          6.432894706726074,
          8.421915054321289,
          8.584331512451172,
          6.308960914611816,
          2.8173866271972656,
          6.250510215759277,
          5.971287250518799,
          6.365051746368408,
          2.891730546951294,
          6.160487651824951
         ],
         "xaxis": "x",
         "y": [
          7.218066215515137,
          5.284356594085693,
          4.815886497497559,
          5.219520092010498,
          7.125243186950684,
          7.2373576164245605,
          4.7938232421875,
          5.312074184417725,
          7.414338111877441,
          4.031900405883789,
          3.97952938079834,
          7.164426803588867,
          4.824554920196533,
          4.445091247558594,
          4.462880611419678,
          7.176966190338135,
          7.256765365600586,
          2.0750794410705566,
          4.373685836791992,
          3.999255657196045,
          4.329732418060303,
          4.419651031494141,
          5.283308506011963,
          3.4726831912994385,
          3.9131252765655518,
          3.8540027141571045,
          4.132169723510742,
          7.2219061851501465,
          3.8430697917938232,
          2.5364952087402344,
          2.364628314971924,
          4.411068439483643,
          4.783221244812012,
          3.959338665008545,
          1.8741891384124756,
          3.7765820026397705,
          3.9482650756835938,
          3.7145888805389404,
          4.227263450622559,
          5.024451732635498,
          3.1295244693756104,
          3.662123680114746,
          3.4927258491516113,
          3.5815868377685547,
          3.662254571914673,
          3.64406156539917,
          5.188386917114258,
          7.050136566162109,
          3.881939649581909,
          5.3291707038879395,
          4.464402675628662,
          4.933076858520508,
          5.012914180755615,
          3.0523200035095215,
          7.307368278503418,
          4.789982795715332,
          7.372241497039795,
          4.304246425628662,
          4.056875705718994,
          4.025248050689697,
          5.348930835723877,
          5.147913455963135,
          4.252769947052002,
          4.374361991882324,
          4.197445869445801,
          3.51757550239563,
          4.2711992263793945,
          4.349138259887695,
          5.328027248382568,
          4.125504493713379,
          4.201189041137695,
          4.855419158935547,
          7.135857582092285,
          5.061496257781982,
          4.087520599365234,
          4.580206871032715,
          7.0551958084106445,
          4.88522481918335
         ],
         "yaxis": "y"
        },
        {
         "customdata": [
          [
           "Discourses on the First Decade of Titus Livius"
          ],
          [
           "The Prince"
          ],
          [
           "Machiavelli, Volume I"
          ],
          [
           "History of Florence and of the Affairs of Italy: From the Earliest Times to the Death of Lorenzo the Magnificent"
          ],
          [
           "The Prince"
          ]
         ],
         "hovertemplate": "color=15.0<br>proj_0=%{x}<br>proj_1=%{y}<br>title=%{customdata[0]}<extra></extra>",
         "legendgroup": "15.0",
         "marker": {
          "color": "#F7E1A0",
          "symbol": "circle"
         },
         "mode": "markers",
         "name": "15.0",
         "orientation": "v",
         "showlegend": true,
         "type": "scatter",
         "x": [
          4.832813262939453,
          4.7666473388671875,
          6.194097518920898,
          4.9201860427856445,
          4.909663200378418
         ],
         "xaxis": "x",
         "y": [
          3.0409655570983887,
          2.9429056644439697,
          3.228611469268799,
          2.7116408348083496,
          2.996413230895996
         ],
         "yaxis": "y"
        },
        {
         "customdata": [
          [
           "The Orations of Marcus Tullius Cicero, Volume 4"
          ],
          [
           "Cato Maior de Senectute with Introduction and Notes"
          ],
          [
           "Academica"
          ],
          [
           "Cicero's Tusculan Disputations: Also, Treatises On The Nature Of The Gods, And On The Commonwealth"
          ],
          [
           "The Letters of Cicero, Volume 1: The Whole Extant Correspodence in Chronological Order"
          ],
          [
           "Treatises on Friendship and Old Age"
          ],
          [
           "Letters of Marcus Tullius Cicero"
          ],
          [
           "The Academic Questions, Treatise De Finibus, and Tusculan Disputations, of M.T. Cicero, With a Sketch of the Greek Philosophers Mentioned by Cicero"
          ],
          [
           "Speeches against Catilina"
          ],
          [
           "De Officiis"
          ],
          [
           "Cicero: Letters to Atticus, Vol. 2 of 3"
          ],
          [
           "Cicero: Letters to Atticus, Vol. 3 of 3"
          ],
          [
           "The republic of Cicero: Translated from the Latin; and Accompanied With a Critical and Historical Introduction."
          ],
          [
           "Cicero: Letters to Atticus, Vol. 1 of 3"
          ]
         ],
         "hovertemplate": "color=-1.0<br>proj_0=%{x}<br>proj_1=%{y}<br>title=%{customdata[0]}<extra></extra>",
         "legendgroup": "-1.0",
         "marker": {
          "color": "#E2E2E2",
          "symbol": "circle"
         },
         "mode": "markers",
         "name": "-1.0",
         "orientation": "v",
         "showlegend": true,
         "type": "scatter",
         "x": [
          3.149824380874634,
          3.21879243850708,
          3.044520616531372,
          3.0354416370391846,
          3.1809616088867188,
          5.1012797355651855,
          1.6162352561950684,
          3.050523042678833,
          3.223308563232422,
          3.07133412361145,
          3.0509135723114014,
          3.0659849643707275,
          3.2162840366363525,
          3.136586904525757
         ],
         "xaxis": "x",
         "y": [
          4.148687839508057,
          3.891458511352539,
          3.865328311920166,
          4.280818939208984,
          4.087613105773926,
          0.9087340831756592,
          -1.6315829753875732,
          4.277412414550781,
          3.823377847671509,
          3.9084677696228027,
          4.00330114364624,
          3.9739530086517334,
          4.260458469390869,
          4.146451950073242
         ],
         "yaxis": "y"
        },
        {
         "customdata": [
          [
           "Apology, Crito, and Phaedo of Socrates"
          ],
          [
           "The Republic"
          ],
          [
           "The Republic"
          ],
          [
           "Critias"
          ],
          [
           "Timaeus"
          ],
          [
           "Lysis"
          ],
          [
           "Charmides"
          ],
          [
           "Laches"
          ],
          [
           "Protagoras"
          ],
          [
           "Euthydemus"
          ],
          [
           "Symposium"
          ],
          [
           "Cratylus"
          ],
          [
           "Ion"
          ],
          [
           "Phaedrus"
          ],
          [
           "Euthyphro"
          ],
          [
           "Meno"
          ],
          [
           "Apology"
          ],
          [
           "Crito"
          ],
          [
           "Phaedo"
          ],
          [
           "Gorgias"
          ],
          [
           "Lesser Hippias"
          ],
          [
           "Alcibiades I"
          ],
          [
           "Alcibiades II"
          ],
          [
           "Eryxias"
          ],
          [
           "Menexenus"
          ],
          [
           "Parmenides"
          ],
          [
           "Theaetetus"
          ],
          [
           "Sophist"
          ],
          [
           "Statesman"
          ],
          [
           "Philebus"
          ],
          [
           "Laws"
          ],
          [
           "The Project Gutenberg Works of Plato: An Index"
          ],
          [
           "The Republic of Plato"
          ]
         ],
         "hovertemplate": "color=-4.0<br>proj_0=%{x}<br>proj_1=%{y}<br>title=%{customdata[0]}<extra></extra>",
         "legendgroup": "-4.0",
         "marker": {
          "color": "#1CBE4F",
          "symbol": "circle"
         },
         "mode": "markers",
         "name": "-4.0",
         "orientation": "v",
         "showlegend": true,
         "type": "scatter",
         "x": [
          3.441322088241577,
          3.3625741004943848,
          3.3786633014678955,
          4.2337141036987305,
          3.3543951511383057,
          4.012006759643555,
          3.4205472469329834,
          4.298056125640869,
          3.359469175338745,
          3.7249650955200195,
          3.5278563499450684,
          3.535975933074951,
          4.382693290710449,
          3.5424389839172363,
          4.300446033477783,
          4.109609127044678,
          3.790940284729004,
          4.360585689544678,
          3.3070127964019775,
          3.477989673614502,
          4.221360683441162,
          4.321132659912109,
          4.316978931427002,
          4.306509971618652,
          3.6764895915985107,
          3.583354949951172,
          3.6111605167388916,
          3.5760302543640137,
          3.6642258167266846,
          3.5564305782318115,
          3.3239009380340576,
          6.356176853179932,
          3.3750956058502197
         ],
         "xaxis": "x",
         "y": [
          5.683414936065674,
          5.853201866149902,
          5.828801155090332,
          4.918948173522949,
          5.658469200134277,
          5.127434730529785,
          5.563426971435547,
          4.865351676940918,
          5.4625444412231445,
          5.341670036315918,
          5.444633960723877,
          5.582699775695801,
          4.741325378417969,
          5.591855525970459,
          4.828804016113281,
          5.052235126495361,
          5.269720554351807,
          4.786533832550049,
          5.528604507446289,
          5.406439781188965,
          4.935489654541016,
          4.839819431304932,
          4.8415446281433105,
          4.844196796417236,
          5.339521884918213,
          5.550172328948975,
          5.539414882659912,
          5.598320484161377,
          5.389183044433594,
          5.60213041305542,
          5.749744415283203,
          1.9037142992019653,
          5.757892608642578
         ],
         "yaxis": "y"
        },
        {
         "customdata": [
          [
           "London to Ladysmith via Pretoria"
          ],
          [
           "Liberalism and the Social Problem"
          ],
          [
           "Crome Yellow"
          ],
          [
           "The Defeat of Youth, and Other Poems"
          ],
          [
           "Beyond Lies the Wub"
          ],
          [
           "Beyond the Door"
          ],
          [
           "The Crystal Crypt"
          ],
          [
           "The Defenders"
          ],
          [
           "The Works of Winston Churchill: A Linked Index of the Project Gutenberg Editions"
          ],
          [
           "The Gun"
          ],
          [
           "The Skull"
          ],
          [
           "Writings in the United Amateur, 1915-1922"
          ],
          [
           "The Shunned House"
          ],
          [
           "The Eyes Have It"
          ],
          [
           "Second Variety"
          ],
          [
           "The Variable Man"
          ],
          [
           "Mr. Spaceship"
          ],
          [
           "Piper in the Woods"
          ],
          [
           "The Dwelling Place of Light — Volume 1"
          ],
          [
           "The Dwelling Place of Light — Complete"
          ],
          [
           "Mr. Crewe's Career — Volume 1"
          ],
          [
           "Mr. Crewe's Career — Volume 3"
          ],
          [
           "Mr. Crewe's Career — Complete"
          ],
          [
           "A Far Country — Volume 2"
          ],
          [
           "A Far Country — Volume 3"
          ],
          [
           "A Far Country — Complete"
          ],
          [
           "Coniston — Volume 01"
          ],
          [
           "Coniston — Volume 02"
          ],
          [
           "Coniston — Volume 03"
          ],
          [
           "Coniston — Volume 04"
          ],
          [
           "Coniston — Complete"
          ],
          [
           "The Crossing"
          ],
          [
           "Mortal Coils"
          ],
          [
           "Tony and the Beetles"
          ],
          [
           "Ian Hamilton's March"
          ],
          [
           "The Hanging Stranger"
          ],
          [
           "Lord Randolph Churchill"
          ],
          [
           "My African Journey"
          ],
          [
           "The Burning Wheel"
          ],
          [
           "The River War: An Account of the Reconquest of the Sudan"
          ],
          [
           "Leda"
          ],
          [
           "The Dunwich Horror"
          ],
          [
           "Savrola: A Tale of the Revolution in Laurania"
          ],
          [
           "The Inside of the Cup — Volume 02"
          ],
          [
           "The Inside of the Cup — Volume 03"
          ],
          [
           "The Inside of the Cup — Volume 04"
          ],
          [
           "The Inside of the Cup — Volume 07"
          ],
          [
           "The Inside of the Cup — Complete"
          ],
          [
           "Richard Carvel — Volume 02"
          ],
          [
           "Richard Carvel — Volume 07"
          ],
          [
           "Richard Carvel — Complete"
          ],
          [
           "A Modern Chronicle — Complete"
          ],
          [
           "The Celebrity, Volume 01"
          ],
          [
           "The Celebrity, Volume 04"
          ],
          [
           "The Celebrity, Complete"
          ],
          [
           "The Crisis — Volume 01"
          ],
          [
           "The Crisis — Volume 02"
          ],
          [
           "The Crisis — Volume 03"
          ],
          [
           "The Crisis — Volume 04"
          ],
          [
           "The Crisis — Volume 05"
          ],
          [
           "The Crisis — Volume 06"
          ],
          [
           "The Crisis — Volume 07"
          ],
          [
           "The Crisis — Volume 08"
          ],
          [
           "The Crisis — Complete"
          ],
          [
           "Dr. Jonathan"
          ],
          [
           "A Traveller in War-Time"
          ],
          [
           "An essay on the American contribution and the democratic idea"
          ],
          [
           "Project Gutenberg Complete Works of Winston Churchill"
          ],
          [
           "Limbo"
          ],
          [
           "Index of the Project Gutenberg Works of Sir Winston Spencer Churchill"
          ],
          [
           "Index of the Project Gutenberg Works of Aldous Huxley"
          ],
          [
           "The World Crisis, Volume 1 (of 6)"
          ],
          [
           "Antic Hay"
          ],
          [
           "On the Margin: Notes and Essays"
          ],
          [
           "Jonah: Christmas 1917"
          ],
          [
           "Little Mexican & Other Stories"
          ],
          [
           "Selected Poems"
          ],
          [
           "Mr. Keegan's Elopement"
          ],
          [
           "The colour out of space"
          ],
          [
           "The call of Cthulhu"
          ],
          [
           "He"
          ],
          [
           "The festival"
          ],
          [
           "Prize ship"
          ],
          [
           "The lurking fear"
          ]
         ],
         "hovertemplate": "color=20.0<br>proj_0=%{x}<br>proj_1=%{y}<br>title=%{customdata[0]}<extra></extra>",
         "legendgroup": "20.0",
         "marker": {
          "color": "#C4451C",
          "symbol": "circle"
         },
         "mode": "markers",
         "name": "20.0",
         "orientation": "v",
         "showlegend": true,
         "type": "scatter",
         "x": [
          -2.6130807399749756,
          -2.1931145191192627,
          5.014689922332764,
          5.230823993682861,
          6.894612789154053,
          6.9431915283203125,
          7.501010417938232,
          7.588385105133057,
          6.520679950714111,
          7.512449264526367,
          7.331122398376465,
          7.8735151290893555,
          7.329491138458252,
          6.746367931365967,
          7.5677571296691895,
          7.567110538482666,
          7.522047996520996,
          7.580291271209717,
          -2.890735626220703,
          -2.823239326477051,
          -2.413625478744507,
          -2.3289358615875244,
          -2.5261378288269043,
          -2.5447535514831543,
          -2.5191586017608643,
          -2.6367671489715576,
          -2.325394868850708,
          -2.8829519748687744,
          -2.879528522491455,
          -2.8222014904022217,
          -2.8017280101776123,
          -2.5244431495666504,
          4.960864543914795,
          7.487003803253174,
          -2.549809455871582,
          7.586980819702148,
          -1.9782323837280273,
          -2.574288845062256,
          5.381783485412598,
          -2.4025652408599854,
          4.976130962371826,
          7.59783935546875,
          -1.840195655822754,
          -1.8643890619277954,
          -2.6563100814819336,
          -2.6537063121795654,
          -2.0735507011413574,
          -2.799870252609253,
          -2.803337335586548,
          -2.6080214977264404,
          -2.9329373836517334,
          -2.9210944175720215,
          -1.781325101852417,
          -2.616288661956787,
          -2.7285969257354736,
          -2.667854070663452,
          -1.7338484525680542,
          -2.4423739910125732,
          -2.798011064529419,
          -2.743299722671509,
          -2.8168833255767822,
          -1.9260523319244385,
          -1.8782521486282349,
          -2.725654363632202,
          -2.1304781436920166,
          -2.7792234420776367,
          -2.674501419067383,
          -2.916515827178955,
          4.98464822769165,
          -2.0647149085998535,
          6.410463333129883,
          -2.094715118408203,
          4.974709510803223,
          5.145434856414795,
          6.143662452697754,
          4.9220051765441895,
          5.3026556968688965,
          6.536956787109375,
          7.4656243324279785,
          7.5623955726623535,
          7.150603294372559,
          7.12373161315918,
          7.486042499542236,
          7.477390289306641
         ],
         "xaxis": "x",
         "y": [
          6.189878463745117,
          6.3440141677856445,
          2.458355188369751,
          1.9880762100219727,
          2.054553985595703,
          1.9992845058441162,
          2.0307693481445312,
          1.9996974468231201,
          1.8875880241394043,
          2.014417886734009,
          2.0245614051818848,
          2.6494579315185547,
          2.3294785022735596,
          2.0182478427886963,
          1.965368628501892,
          1.9636746644973755,
          1.9234758615493774,
          2.0159785747528076,
          6.676308631896973,
          6.631705284118652,
          6.625869274139404,
          6.598387241363525,
          6.7940545082092285,
          6.660250186920166,
          6.704353332519531,
          6.684598922729492,
          6.449923515319824,
          6.184264183044434,
          6.348546504974365,
          6.2481608390808105,
          6.290515899658203,
          6.742855548858643,
          2.0172030925750732,
          2.042593002319336,
          5.996691703796387,
          2.0081021785736084,
          6.015635967254639,
          6.092034816741943,
          1.9905833005905151,
          6.212611198425293,
          2.09446382522583,
          2.567138671875,
          6.044820308685303,
          5.98636531829834,
          6.03870964050293,
          6.078067779541016,
          6.108832359313965,
          6.519547462463379,
          6.196341514587402,
          5.886753082275391,
          6.652192115783691,
          6.5629730224609375,
          5.833601951599121,
          5.890927314758301,
          5.974198341369629,
          5.993079662322998,
          5.839609622955322,
          5.998348236083984,
          6.079627990722656,
          6.079272747039795,
          6.114321708679199,
          5.993677139282227,
          5.940845489501953,
          6.246398448944092,
          5.769466400146484,
          6.151167392730713,
          6.02895975112915,
          6.745635032653809,
          1.9850153923034668,
          5.829270362854004,
          1.8056902885437012,
          6.0128631591796875,
          2.059169292449951,
          2.087188482284546,
          1.9174933433532715,
          2.667254686355591,
          1.9303122758865356,
          1.9920392036437988,
          2.4817278385162354,
          2.4523823261260986,
          2.3372485637664795,
          2.267937660217285,
          2.0805492401123047,
          2.5398995876312256
         ],
         "yaxis": "y"
        },
        {
         "customdata": [
          [
           "Thoughts of Marcus Aurelius Antoninus"
          ],
          [
           "Meditations"
          ],
          [
           "The Meditations of the Emperor Marcus Aurelius Antoninus: A new rendering based on the Foulis translation of 1742"
          ],
          [
           "Index of the Project Gutenberg Works of Marcus Aurelius Antoninus"
          ],
          [
           "Thoughts of Marcus Aurelius"
          ]
         ],
         "hovertemplate": "color=2.0<br>proj_0=%{x}<br>proj_1=%{y}<br>title=%{customdata[0]}<extra></extra>",
         "legendgroup": "2.0",
         "marker": {
          "color": "#DEA0FD",
          "symbol": "circle"
         },
         "mode": "markers",
         "name": "2.0",
         "orientation": "v",
         "showlegend": true,
         "type": "scatter",
         "x": [
          8.276243209838867,
          6.5563788414001465,
          9.251575469970703,
          6.892354965209961,
          8.278153419494629
         ],
         "xaxis": "x",
         "y": [
          2.7579236030578613,
          2.5899083614349365,
          2.554182291030884,
          2.3117151260375977,
          2.752788543701172
         ],
         "yaxis": "y"
        },
        {
         "customdata": [
          [
           "The Iliad of Homer: Translated into English Blank Verse by William Cowper"
          ],
          [
           "The Odyssey: Rendered into English prose for the use of those who cannot read the original"
          ],
          [
           "The Odyssey of Homer"
          ],
          [
           "The Iliad"
          ],
          [
           "The Iliad"
          ],
          [
           "The Odyssey of Homer"
          ],
          [
           "Odysseus, the Hero of Ithaca: Adapted from the Third Book of the Primary Schools of Athens, Greece"
          ],
          [
           "The Iliad"
          ],
          [
           "The Odyssey"
          ],
          [
           "The Adventures of Ulysses the Wanderer"
          ],
          [
           "The Odysseys of Homer, together with the shorter poems"
          ],
          [
           "The Iliads of Homer: Translated according to the Greek"
          ],
          [
           "The Iliad"
          ],
          [
           "The Iliad"
          ]
         ],
         "hovertemplate": "color=-7.0<br>proj_0=%{x}<br>proj_1=%{y}<br>title=%{customdata[0]}<extra></extra>",
         "legendgroup": "-7.0",
         "marker": {
          "color": "#FE00FA",
          "symbol": "circle"
         },
         "mode": "markers",
         "name": "-7.0",
         "orientation": "v",
         "showlegend": true,
         "type": "scatter",
         "x": [
          4.3243727684021,
          4.405704498291016,
          4.47806978225708,
          4.37120246887207,
          4.259849548339844,
          4.256223678588867,
          4.448618412017822,
          4.394900798797607,
          4.287447452545166,
          5.35684061050415,
          4.30983304977417,
          4.315782070159912,
          4.272582530975342,
          4.292954444885254
         ],
         "xaxis": "x",
         "y": [
          3.436631202697754,
          3.3720905780792236,
          3.4478466510772705,
          3.364532232284546,
          3.3477938175201416,
          3.3480305671691895,
          3.9458067417144775,
          3.496354579925537,
          3.4308881759643555,
          2.459895610809326,
          3.385094404220581,
          3.3954217433929443,
          3.44063138961792,
          3.3925881385803223
         ],
         "yaxis": "y"
        },
        {
         "customdata": [
          [
           "Tartuffe; Or, The Hypocrite"
          ],
          [
           "Amphitryon"
          ],
          [
           "The Flying Doctor: (Le Médecin Volant)"
          ],
          [
           "The Jealousy of le Barbouillé: (La Jalousie du Barbouillé)"
          ],
          [
           "Tartuffe; Or, The Hypocrite"
          ],
          [
           "The Middle-Class Gentleman"
          ],
          [
           "The Pretentious Young Ladies"
          ],
          [
           "The Blunderer"
          ],
          [
           "The Love-Tiff"
          ],
          [
           "The Bores: A Comedy in Three Acts"
          ],
          [
           "Sganarelle, or, the Self-Deceived Husband"
          ],
          [
           "Don Garcia of Navarre; Or, the Jealous Prince. A Heroic Comedy in Five Acts."
          ],
          [
           "The School for Husbands"
          ],
          [
           "The Miser"
          ],
          [
           "Monsieur De Pourceaugnac"
          ],
          [
           "The Magnificent Lovers (Les Amants magnifiques)"
          ],
          [
           "The Shopkeeper Turned Gentleman"
          ],
          [
           "The Imaginary Invalid"
          ]
         ],
         "hovertemplate": "color=17.0<br>proj_0=%{x}<br>proj_1=%{y}<br>title=%{customdata[0]}<extra></extra>",
         "legendgroup": "17.0",
         "marker": {
          "color": "#325A9B",
          "symbol": "circle"
         },
         "mode": "markers",
         "name": "17.0",
         "orientation": "v",
         "showlegend": true,
         "type": "scatter",
         "x": [
          7.017058372497559,
          7.319333076477051,
          6.871756553649902,
          7.103487491607666,
          7.022961139678955,
          7.029046535491943,
          7.061437129974365,
          7.250672340393066,
          7.201433181762695,
          7.271252632141113,
          7.331604957580566,
          7.301146507263184,
          7.159297943115234,
          7.0199198722839355,
          6.919221878051758,
          7.067178726196289,
          7.194395542144775,
          7.225094318389893
         ],
         "xaxis": "x",
         "y": [
          0.37882083654403687,
          0.481736958026886,
          0.8572105765342712,
          0.5119383931159973,
          0.45924559235572815,
          0.6861311793327332,
          0.4724707007408142,
          0.5409269332885742,
          0.5891743898391724,
          0.44500088691711426,
          0.4123360812664032,
          0.4794656038284302,
          0.6207210421562195,
          0.636473536491394,
          0.6080945134162903,
          0.5963756442070007,
          0.593971848487854,
          0.5952014923095703
         ],
         "yaxis": "y"
        },
        {
         "customdata": [
          [
           "Lambda"
          ],
          [
           "Deathway"
          ]
         ],
         "hovertemplate": "color=21.0<br>proj_0=%{x}<br>proj_1=%{y}<br>title=%{customdata[0]}<extra></extra>",
         "legendgroup": "21.0",
         "marker": {
          "color": "#FEAF16",
          "symbol": "circle"
         },
         "mode": "markers",
         "name": "21.0",
         "orientation": "v",
         "showlegend": true,
         "type": "scatter",
         "x": [
          5.905713081359863,
          5.7240495681762695
         ],
         "xaxis": "x",
         "y": [
          3.8981268405914307,
          1.660761833190918
         ],
         "yaxis": "y"
        }
       ],
       "layout": {
        "height": 800,
        "legend": {
         "title": {
          "text": "color"
         },
         "tracegroupgap": 0
        },
        "margin": {
         "t": 60
        },
        "template": {
         "data": {
          "bar": [
           {
            "error_x": {
             "color": "#2a3f5f"
            },
            "error_y": {
             "color": "#2a3f5f"
            },
            "marker": {
             "line": {
              "color": "#E5ECF6",
              "width": 0.5
             },
             "pattern": {
              "fillmode": "overlay",
              "size": 10,
              "solidity": 0.2
             }
            },
            "type": "bar"
           }
          ],
          "barpolar": [
           {
            "marker": {
             "line": {
              "color": "#E5ECF6",
              "width": 0.5
             },
             "pattern": {
              "fillmode": "overlay",
              "size": 10,
              "solidity": 0.2
             }
            },
            "type": "barpolar"
           }
          ],
          "carpet": [
           {
            "aaxis": {
             "endlinecolor": "#2a3f5f",
             "gridcolor": "white",
             "linecolor": "white",
             "minorgridcolor": "white",
             "startlinecolor": "#2a3f5f"
            },
            "baxis": {
             "endlinecolor": "#2a3f5f",
             "gridcolor": "white",
             "linecolor": "white",
             "minorgridcolor": "white",
             "startlinecolor": "#2a3f5f"
            },
            "type": "carpet"
           }
          ],
          "choropleth": [
           {
            "colorbar": {
             "outlinewidth": 0,
             "ticks": ""
            },
            "type": "choropleth"
           }
          ],
          "contour": [
           {
            "colorbar": {
             "outlinewidth": 0,
             "ticks": ""
            },
            "colorscale": [
             [
              0,
              "#0d0887"
             ],
             [
              0.1111111111111111,
              "#46039f"
             ],
             [
              0.2222222222222222,
              "#7201a8"
             ],
             [
              0.3333333333333333,
              "#9c179e"
             ],
             [
              0.4444444444444444,
              "#bd3786"
             ],
             [
              0.5555555555555556,
              "#d8576b"
             ],
             [
              0.6666666666666666,
              "#ed7953"
             ],
             [
              0.7777777777777778,
              "#fb9f3a"
             ],
             [
              0.8888888888888888,
              "#fdca26"
             ],
             [
              1,
              "#f0f921"
             ]
            ],
            "type": "contour"
           }
          ],
          "contourcarpet": [
           {
            "colorbar": {
             "outlinewidth": 0,
             "ticks": ""
            },
            "type": "contourcarpet"
           }
          ],
          "heatmap": [
           {
            "colorbar": {
             "outlinewidth": 0,
             "ticks": ""
            },
            "colorscale": [
             [
              0,
              "#0d0887"
             ],
             [
              0.1111111111111111,
              "#46039f"
             ],
             [
              0.2222222222222222,
              "#7201a8"
             ],
             [
              0.3333333333333333,
              "#9c179e"
             ],
             [
              0.4444444444444444,
              "#bd3786"
             ],
             [
              0.5555555555555556,
              "#d8576b"
             ],
             [
              0.6666666666666666,
              "#ed7953"
             ],
             [
              0.7777777777777778,
              "#fb9f3a"
             ],
             [
              0.8888888888888888,
              "#fdca26"
             ],
             [
              1,
              "#f0f921"
             ]
            ],
            "type": "heatmap"
           }
          ],
          "heatmapgl": [
           {
            "colorbar": {
             "outlinewidth": 0,
             "ticks": ""
            },
            "colorscale": [
             [
              0,
              "#0d0887"
             ],
             [
              0.1111111111111111,
              "#46039f"
             ],
             [
              0.2222222222222222,
              "#7201a8"
             ],
             [
              0.3333333333333333,
              "#9c179e"
             ],
             [
              0.4444444444444444,
              "#bd3786"
             ],
             [
              0.5555555555555556,
              "#d8576b"
             ],
             [
              0.6666666666666666,
              "#ed7953"
             ],
             [
              0.7777777777777778,
              "#fb9f3a"
             ],
             [
              0.8888888888888888,
              "#fdca26"
             ],
             [
              1,
              "#f0f921"
             ]
            ],
            "type": "heatmapgl"
           }
          ],
          "histogram": [
           {
            "marker": {
             "pattern": {
              "fillmode": "overlay",
              "size": 10,
              "solidity": 0.2
             }
            },
            "type": "histogram"
           }
          ],
          "histogram2d": [
           {
            "colorbar": {
             "outlinewidth": 0,
             "ticks": ""
            },
            "colorscale": [
             [
              0,
              "#0d0887"
             ],
             [
              0.1111111111111111,
              "#46039f"
             ],
             [
              0.2222222222222222,
              "#7201a8"
             ],
             [
              0.3333333333333333,
              "#9c179e"
             ],
             [
              0.4444444444444444,
              "#bd3786"
             ],
             [
              0.5555555555555556,
              "#d8576b"
             ],
             [
              0.6666666666666666,
              "#ed7953"
             ],
             [
              0.7777777777777778,
              "#fb9f3a"
             ],
             [
              0.8888888888888888,
              "#fdca26"
             ],
             [
              1,
              "#f0f921"
             ]
            ],
            "type": "histogram2d"
           }
          ],
          "histogram2dcontour": [
           {
            "colorbar": {
             "outlinewidth": 0,
             "ticks": ""
            },
            "colorscale": [
             [
              0,
              "#0d0887"
             ],
             [
              0.1111111111111111,
              "#46039f"
             ],
             [
              0.2222222222222222,
              "#7201a8"
             ],
             [
              0.3333333333333333,
              "#9c179e"
             ],
             [
              0.4444444444444444,
              "#bd3786"
             ],
             [
              0.5555555555555556,
              "#d8576b"
             ],
             [
              0.6666666666666666,
              "#ed7953"
             ],
             [
              0.7777777777777778,
              "#fb9f3a"
             ],
             [
              0.8888888888888888,
              "#fdca26"
             ],
             [
              1,
              "#f0f921"
             ]
            ],
            "type": "histogram2dcontour"
           }
          ],
          "mesh3d": [
           {
            "colorbar": {
             "outlinewidth": 0,
             "ticks": ""
            },
            "type": "mesh3d"
           }
          ],
          "parcoords": [
           {
            "line": {
             "colorbar": {
              "outlinewidth": 0,
              "ticks": ""
             }
            },
            "type": "parcoords"
           }
          ],
          "pie": [
           {
            "automargin": true,
            "type": "pie"
           }
          ],
          "scatter": [
           {
            "fillpattern": {
             "fillmode": "overlay",
             "size": 10,
             "solidity": 0.2
            },
            "type": "scatter"
           }
          ],
          "scatter3d": [
           {
            "line": {
             "colorbar": {
              "outlinewidth": 0,
              "ticks": ""
             }
            },
            "marker": {
             "colorbar": {
              "outlinewidth": 0,
              "ticks": ""
             }
            },
            "type": "scatter3d"
           }
          ],
          "scattercarpet": [
           {
            "marker": {
             "colorbar": {
              "outlinewidth": 0,
              "ticks": ""
             }
            },
            "type": "scattercarpet"
           }
          ],
          "scattergeo": [
           {
            "marker": {
             "colorbar": {
              "outlinewidth": 0,
              "ticks": ""
             }
            },
            "type": "scattergeo"
           }
          ],
          "scattergl": [
           {
            "marker": {
             "colorbar": {
              "outlinewidth": 0,
              "ticks": ""
             }
            },
            "type": "scattergl"
           }
          ],
          "scattermapbox": [
           {
            "marker": {
             "colorbar": {
              "outlinewidth": 0,
              "ticks": ""
             }
            },
            "type": "scattermapbox"
           }
          ],
          "scatterpolar": [
           {
            "marker": {
             "colorbar": {
              "outlinewidth": 0,
              "ticks": ""
             }
            },
            "type": "scatterpolar"
           }
          ],
          "scatterpolargl": [
           {
            "marker": {
             "colorbar": {
              "outlinewidth": 0,
              "ticks": ""
             }
            },
            "type": "scatterpolargl"
           }
          ],
          "scatterternary": [
           {
            "marker": {
             "colorbar": {
              "outlinewidth": 0,
              "ticks": ""
             }
            },
            "type": "scatterternary"
           }
          ],
          "surface": [
           {
            "colorbar": {
             "outlinewidth": 0,
             "ticks": ""
            },
            "colorscale": [
             [
              0,
              "#0d0887"
             ],
             [
              0.1111111111111111,
              "#46039f"
             ],
             [
              0.2222222222222222,
              "#7201a8"
             ],
             [
              0.3333333333333333,
              "#9c179e"
             ],
             [
              0.4444444444444444,
              "#bd3786"
             ],
             [
              0.5555555555555556,
              "#d8576b"
             ],
             [
              0.6666666666666666,
              "#ed7953"
             ],
             [
              0.7777777777777778,
              "#fb9f3a"
             ],
             [
              0.8888888888888888,
              "#fdca26"
             ],
             [
              1,
              "#f0f921"
             ]
            ],
            "type": "surface"
           }
          ],
          "table": [
           {
            "cells": {
             "fill": {
              "color": "#EBF0F8"
             },
             "line": {
              "color": "white"
             }
            },
            "header": {
             "fill": {
              "color": "#C8D4E3"
             },
             "line": {
              "color": "white"
             }
            },
            "type": "table"
           }
          ]
         },
         "layout": {
          "annotationdefaults": {
           "arrowcolor": "#2a3f5f",
           "arrowhead": 0,
           "arrowwidth": 1
          },
          "autotypenumbers": "strict",
          "coloraxis": {
           "colorbar": {
            "outlinewidth": 0,
            "ticks": ""
           }
          },
          "colorscale": {
           "diverging": [
            [
             0,
             "#8e0152"
            ],
            [
             0.1,
             "#c51b7d"
            ],
            [
             0.2,
             "#de77ae"
            ],
            [
             0.3,
             "#f1b6da"
            ],
            [
             0.4,
             "#fde0ef"
            ],
            [
             0.5,
             "#f7f7f7"
            ],
            [
             0.6,
             "#e6f5d0"
            ],
            [
             0.7,
             "#b8e186"
            ],
            [
             0.8,
             "#7fbc41"
            ],
            [
             0.9,
             "#4d9221"
            ],
            [
             1,
             "#276419"
            ]
           ],
           "sequential": [
            [
             0,
             "#0d0887"
            ],
            [
             0.1111111111111111,
             "#46039f"
            ],
            [
             0.2222222222222222,
             "#7201a8"
            ],
            [
             0.3333333333333333,
             "#9c179e"
            ],
            [
             0.4444444444444444,
             "#bd3786"
            ],
            [
             0.5555555555555556,
             "#d8576b"
            ],
            [
             0.6666666666666666,
             "#ed7953"
            ],
            [
             0.7777777777777778,
             "#fb9f3a"
            ],
            [
             0.8888888888888888,
             "#fdca26"
            ],
            [
             1,
             "#f0f921"
            ]
           ],
           "sequentialminus": [
            [
             0,
             "#0d0887"
            ],
            [
             0.1111111111111111,
             "#46039f"
            ],
            [
             0.2222222222222222,
             "#7201a8"
            ],
            [
             0.3333333333333333,
             "#9c179e"
            ],
            [
             0.4444444444444444,
             "#bd3786"
            ],
            [
             0.5555555555555556,
             "#d8576b"
            ],
            [
             0.6666666666666666,
             "#ed7953"
            ],
            [
             0.7777777777777778,
             "#fb9f3a"
            ],
            [
             0.8888888888888888,
             "#fdca26"
            ],
            [
             1,
             "#f0f921"
            ]
           ]
          },
          "colorway": [
           "#636efa",
           "#EF553B",
           "#00cc96",
           "#ab63fa",
           "#FFA15A",
           "#19d3f3",
           "#FF6692",
           "#B6E880",
           "#FF97FF",
           "#FECB52"
          ],
          "font": {
           "color": "#2a3f5f"
          },
          "geo": {
           "bgcolor": "white",
           "lakecolor": "white",
           "landcolor": "#E5ECF6",
           "showlakes": true,
           "showland": true,
           "subunitcolor": "white"
          },
          "hoverlabel": {
           "align": "left"
          },
          "hovermode": "closest",
          "mapbox": {
           "style": "light"
          },
          "paper_bgcolor": "white",
          "plot_bgcolor": "#E5ECF6",
          "polar": {
           "angularaxis": {
            "gridcolor": "white",
            "linecolor": "white",
            "ticks": ""
           },
           "bgcolor": "#E5ECF6",
           "radialaxis": {
            "gridcolor": "white",
            "linecolor": "white",
            "ticks": ""
           }
          },
          "scene": {
           "xaxis": {
            "backgroundcolor": "#E5ECF6",
            "gridcolor": "white",
            "gridwidth": 2,
            "linecolor": "white",
            "showbackground": true,
            "ticks": "",
            "zerolinecolor": "white"
           },
           "yaxis": {
            "backgroundcolor": "#E5ECF6",
            "gridcolor": "white",
            "gridwidth": 2,
            "linecolor": "white",
            "showbackground": true,
            "ticks": "",
            "zerolinecolor": "white"
           },
           "zaxis": {
            "backgroundcolor": "#E5ECF6",
            "gridcolor": "white",
            "gridwidth": 2,
            "linecolor": "white",
            "showbackground": true,
            "ticks": "",
            "zerolinecolor": "white"
           }
          },
          "shapedefaults": {
           "line": {
            "color": "#2a3f5f"
           }
          },
          "ternary": {
           "aaxis": {
            "gridcolor": "white",
            "linecolor": "white",
            "ticks": ""
           },
           "baxis": {
            "gridcolor": "white",
            "linecolor": "white",
            "ticks": ""
           },
           "bgcolor": "#E5ECF6",
           "caxis": {
            "gridcolor": "white",
            "linecolor": "white",
            "ticks": ""
           }
          },
          "title": {
           "x": 0.05
          },
          "xaxis": {
           "automargin": true,
           "gridcolor": "white",
           "linecolor": "white",
           "ticks": "",
           "title": {
            "standoff": 15
           },
           "zerolinecolor": "white",
           "zerolinewidth": 2
          },
          "yaxis": {
           "automargin": true,
           "gridcolor": "white",
           "linecolor": "white",
           "ticks": "",
           "title": {
            "standoff": 15
           },
           "zerolinecolor": "white",
           "zerolinewidth": 2
          }
         }
        },
        "width": 1200,
        "xaxis": {
         "anchor": "y",
         "domain": [
          0,
          1
         ],
         "title": {
          "text": "proj_0"
         }
        },
        "yaxis": {
         "anchor": "x",
         "domain": [
          0,
          1
         ],
         "title": {
          "text": "proj_1"
         }
        }
       }
      }
     },
     "metadata": {},
     "output_type": "display_data"
    }
   ],
   "source": [
    "fig = px.scatter(data_frame = library_newtext,\n",
    "                 x='proj_0',\n",
    "                 y='proj_1',\n",
    "                 width=1200,\n",
    "                 height=800,\n",
    "                 color= library_newtext['authorcentury'].astype('category'),\n",
    "                 color_discrete_sequence=px.colors.qualitative.Alphabet, #Dark24\n",
    "                 hover_data= ['title']\n",
    "                 )\n",
    "\n",
    "fig.show()"
   ]
  },
  {
   "cell_type": "code",
   "execution_count": 38,
   "metadata": {},
   "outputs": [
    {
     "data": {
      "text/html": [
       "<div>\n",
       "<style scoped>\n",
       "    .dataframe tbody tr th:only-of-type {\n",
       "        vertical-align: middle;\n",
       "    }\n",
       "\n",
       "    .dataframe tbody tr th {\n",
       "        vertical-align: top;\n",
       "    }\n",
       "\n",
       "    .dataframe thead th {\n",
       "        text-align: right;\n",
       "    }\n",
       "</style>\n",
       "<table border=\"1\" class=\"dataframe\">\n",
       "  <thead>\n",
       "    <tr style=\"text-align: right;\">\n",
       "      <th></th>\n",
       "      <th>dim_0</th>\n",
       "      <th>dim_1</th>\n",
       "      <th>dim_2</th>\n",
       "      <th>dim_3</th>\n",
       "      <th>dim_4</th>\n",
       "      <th>dim_5</th>\n",
       "      <th>dim_6</th>\n",
       "      <th>dim_7</th>\n",
       "      <th>dim_8</th>\n",
       "      <th>dim_9</th>\n",
       "      <th>...</th>\n",
       "      <th>dim_90</th>\n",
       "      <th>dim_91</th>\n",
       "      <th>dim_92</th>\n",
       "      <th>dim_93</th>\n",
       "      <th>dim_94</th>\n",
       "      <th>dim_95</th>\n",
       "      <th>dim_96</th>\n",
       "      <th>dim_97</th>\n",
       "      <th>dim_98</th>\n",
       "      <th>dim_99</th>\n",
       "    </tr>\n",
       "  </thead>\n",
       "  <tbody>\n",
       "    <tr>\n",
       "      <th>1</th>\n",
       "      <td>18.811609</td>\n",
       "      <td>0.000000</td>\n",
       "      <td>4.912124</td>\n",
       "      <td>0.000000</td>\n",
       "      <td>7.514290</td>\n",
       "      <td>3.731085</td>\n",
       "      <td>0.0</td>\n",
       "      <td>0.000000</td>\n",
       "      <td>9.269971</td>\n",
       "      <td>0.0</td>\n",
       "      <td>...</td>\n",
       "      <td>0.0</td>\n",
       "      <td>7.834490</td>\n",
       "      <td>2.857789</td>\n",
       "      <td>13.530958</td>\n",
       "      <td>10.146735</td>\n",
       "      <td>4.404608</td>\n",
       "      <td>0.000000</td>\n",
       "      <td>0.000000</td>\n",
       "      <td>0.000000</td>\n",
       "      <td>0.000000</td>\n",
       "    </tr>\n",
       "    <tr>\n",
       "      <th>6</th>\n",
       "      <td>18.051684</td>\n",
       "      <td>10.087243</td>\n",
       "      <td>0.000000</td>\n",
       "      <td>0.000000</td>\n",
       "      <td>8.727279</td>\n",
       "      <td>0.000000</td>\n",
       "      <td>0.0</td>\n",
       "      <td>28.128934</td>\n",
       "      <td>0.000000</td>\n",
       "      <td>0.0</td>\n",
       "      <td>...</td>\n",
       "      <td>0.0</td>\n",
       "      <td>0.000000</td>\n",
       "      <td>8.613489</td>\n",
       "      <td>0.000000</td>\n",
       "      <td>0.000000</td>\n",
       "      <td>0.000000</td>\n",
       "      <td>0.000000</td>\n",
       "      <td>9.179510</td>\n",
       "      <td>22.832225</td>\n",
       "      <td>11.508276</td>\n",
       "    </tr>\n",
       "    <tr>\n",
       "      <th>21</th>\n",
       "      <td>30.685600</td>\n",
       "      <td>0.000000</td>\n",
       "      <td>0.000000</td>\n",
       "      <td>0.000000</td>\n",
       "      <td>12.095856</td>\n",
       "      <td>0.000000</td>\n",
       "      <td>0.0</td>\n",
       "      <td>65.835461</td>\n",
       "      <td>0.000000</td>\n",
       "      <td>0.0</td>\n",
       "      <td>...</td>\n",
       "      <td>0.0</td>\n",
       "      <td>2.997994</td>\n",
       "      <td>38.108469</td>\n",
       "      <td>0.000000</td>\n",
       "      <td>54.260673</td>\n",
       "      <td>0.000000</td>\n",
       "      <td>20.431938</td>\n",
       "      <td>0.000000</td>\n",
       "      <td>0.000000</td>\n",
       "      <td>19.708005</td>\n",
       "    </tr>\n",
       "    <tr>\n",
       "      <th>32</th>\n",
       "      <td>8.855649</td>\n",
       "      <td>0.000000</td>\n",
       "      <td>18.472201</td>\n",
       "      <td>0.000000</td>\n",
       "      <td>32.096455</td>\n",
       "      <td>0.000000</td>\n",
       "      <td>0.0</td>\n",
       "      <td>38.778183</td>\n",
       "      <td>0.000000</td>\n",
       "      <td>0.0</td>\n",
       "      <td>...</td>\n",
       "      <td>0.0</td>\n",
       "      <td>0.000000</td>\n",
       "      <td>31.984045</td>\n",
       "      <td>8.717551</td>\n",
       "      <td>58.465491</td>\n",
       "      <td>8.572374</td>\n",
       "      <td>0.000000</td>\n",
       "      <td>0.000000</td>\n",
       "      <td>0.000000</td>\n",
       "      <td>15.633381</td>\n",
       "    </tr>\n",
       "    <tr>\n",
       "      <th>43</th>\n",
       "      <td>0.000000</td>\n",
       "      <td>2.088360</td>\n",
       "      <td>14.590633</td>\n",
       "      <td>0.000000</td>\n",
       "      <td>32.616219</td>\n",
       "      <td>3.827799</td>\n",
       "      <td>0.0</td>\n",
       "      <td>0.000000</td>\n",
       "      <td>16.459972</td>\n",
       "      <td>0.0</td>\n",
       "      <td>...</td>\n",
       "      <td>0.0</td>\n",
       "      <td>0.000000</td>\n",
       "      <td>14.856931</td>\n",
       "      <td>9.230936</td>\n",
       "      <td>31.181067</td>\n",
       "      <td>0.000000</td>\n",
       "      <td>0.000000</td>\n",
       "      <td>0.000000</td>\n",
       "      <td>35.627109</td>\n",
       "      <td>0.000000</td>\n",
       "    </tr>\n",
       "    <tr>\n",
       "      <th>...</th>\n",
       "      <td>...</td>\n",
       "      <td>...</td>\n",
       "      <td>...</td>\n",
       "      <td>...</td>\n",
       "      <td>...</td>\n",
       "      <td>...</td>\n",
       "      <td>...</td>\n",
       "      <td>...</td>\n",
       "      <td>...</td>\n",
       "      <td>...</td>\n",
       "      <td>...</td>\n",
       "      <td>...</td>\n",
       "      <td>...</td>\n",
       "      <td>...</td>\n",
       "      <td>...</td>\n",
       "      <td>...</td>\n",
       "      <td>...</td>\n",
       "      <td>...</td>\n",
       "      <td>...</td>\n",
       "      <td>...</td>\n",
       "      <td>...</td>\n",
       "    </tr>\n",
       "    <tr>\n",
       "      <th>70091</th>\n",
       "      <td>59.052362</td>\n",
       "      <td>52.698776</td>\n",
       "      <td>0.000000</td>\n",
       "      <td>15.442651</td>\n",
       "      <td>0.000000</td>\n",
       "      <td>0.000000</td>\n",
       "      <td>0.0</td>\n",
       "      <td>41.234787</td>\n",
       "      <td>6.399877</td>\n",
       "      <td>0.0</td>\n",
       "      <td>...</td>\n",
       "      <td>0.0</td>\n",
       "      <td>0.000000</td>\n",
       "      <td>0.000000</td>\n",
       "      <td>0.000000</td>\n",
       "      <td>19.812291</td>\n",
       "      <td>0.000000</td>\n",
       "      <td>43.821223</td>\n",
       "      <td>0.000000</td>\n",
       "      <td>10.748083</td>\n",
       "      <td>0.000000</td>\n",
       "    </tr>\n",
       "    <tr>\n",
       "      <th>70102</th>\n",
       "      <td>34.507914</td>\n",
       "      <td>29.968383</td>\n",
       "      <td>5.114239</td>\n",
       "      <td>9.825061</td>\n",
       "      <td>0.000000</td>\n",
       "      <td>0.000000</td>\n",
       "      <td>0.0</td>\n",
       "      <td>27.905857</td>\n",
       "      <td>8.312298</td>\n",
       "      <td>0.0</td>\n",
       "      <td>...</td>\n",
       "      <td>0.0</td>\n",
       "      <td>0.000000</td>\n",
       "      <td>0.000000</td>\n",
       "      <td>0.000000</td>\n",
       "      <td>10.071068</td>\n",
       "      <td>0.000000</td>\n",
       "      <td>22.913231</td>\n",
       "      <td>0.000000</td>\n",
       "      <td>6.218778</td>\n",
       "      <td>0.000000</td>\n",
       "    </tr>\n",
       "    <tr>\n",
       "      <th>70269</th>\n",
       "      <td>39.696628</td>\n",
       "      <td>0.000000</td>\n",
       "      <td>0.000000</td>\n",
       "      <td>4.921284</td>\n",
       "      <td>16.365037</td>\n",
       "      <td>0.000000</td>\n",
       "      <td>0.0</td>\n",
       "      <td>28.855773</td>\n",
       "      <td>21.444675</td>\n",
       "      <td>0.0</td>\n",
       "      <td>...</td>\n",
       "      <td>0.0</td>\n",
       "      <td>0.000000</td>\n",
       "      <td>6.607247</td>\n",
       "      <td>13.843594</td>\n",
       "      <td>28.952792</td>\n",
       "      <td>7.951942</td>\n",
       "      <td>0.000000</td>\n",
       "      <td>9.885558</td>\n",
       "      <td>0.000000</td>\n",
       "      <td>0.000000</td>\n",
       "    </tr>\n",
       "    <tr>\n",
       "      <th>0</th>\n",
       "      <td>30.582816</td>\n",
       "      <td>5.559749</td>\n",
       "      <td>0.000000</td>\n",
       "      <td>0.642692</td>\n",
       "      <td>8.568038</td>\n",
       "      <td>0.000000</td>\n",
       "      <td>0.0</td>\n",
       "      <td>20.898959</td>\n",
       "      <td>10.966830</td>\n",
       "      <td>0.0</td>\n",
       "      <td>...</td>\n",
       "      <td>0.0</td>\n",
       "      <td>3.685163</td>\n",
       "      <td>0.000000</td>\n",
       "      <td>7.214759</td>\n",
       "      <td>14.892375</td>\n",
       "      <td>0.998020</td>\n",
       "      <td>0.000000</td>\n",
       "      <td>0.000000</td>\n",
       "      <td>6.239103</td>\n",
       "      <td>4.422324</td>\n",
       "    </tr>\n",
       "    <tr>\n",
       "      <th>1</th>\n",
       "      <td>18.219237</td>\n",
       "      <td>6.165833</td>\n",
       "      <td>0.000000</td>\n",
       "      <td>0.999628</td>\n",
       "      <td>3.104395</td>\n",
       "      <td>0.000000</td>\n",
       "      <td>0.0</td>\n",
       "      <td>12.658810</td>\n",
       "      <td>4.624994</td>\n",
       "      <td>0.0</td>\n",
       "      <td>...</td>\n",
       "      <td>0.0</td>\n",
       "      <td>0.000000</td>\n",
       "      <td>0.000000</td>\n",
       "      <td>1.718769</td>\n",
       "      <td>5.409915</td>\n",
       "      <td>0.000000</td>\n",
       "      <td>2.742406</td>\n",
       "      <td>0.000000</td>\n",
       "      <td>3.410000</td>\n",
       "      <td>0.000000</td>\n",
       "    </tr>\n",
       "  </tbody>\n",
       "</table>\n",
       "<p>540 rows × 100 columns</p>\n",
       "</div>"
      ],
      "text/plain": [
       "           dim_0      dim_1      dim_2      dim_3      dim_4     dim_5  dim_6  \\\n",
       "1      18.811609   0.000000   4.912124   0.000000   7.514290  3.731085    0.0   \n",
       "6      18.051684  10.087243   0.000000   0.000000   8.727279  0.000000    0.0   \n",
       "21     30.685600   0.000000   0.000000   0.000000  12.095856  0.000000    0.0   \n",
       "32      8.855649   0.000000  18.472201   0.000000  32.096455  0.000000    0.0   \n",
       "43      0.000000   2.088360  14.590633   0.000000  32.616219  3.827799    0.0   \n",
       "...          ...        ...        ...        ...        ...       ...    ...   \n",
       "70091  59.052362  52.698776   0.000000  15.442651   0.000000  0.000000    0.0   \n",
       "70102  34.507914  29.968383   5.114239   9.825061   0.000000  0.000000    0.0   \n",
       "70269  39.696628   0.000000   0.000000   4.921284  16.365037  0.000000    0.0   \n",
       "0      30.582816   5.559749   0.000000   0.642692   8.568038  0.000000    0.0   \n",
       "1      18.219237   6.165833   0.000000   0.999628   3.104395  0.000000    0.0   \n",
       "\n",
       "           dim_7      dim_8  dim_9  ...  dim_90    dim_91     dim_92  \\\n",
       "1       0.000000   9.269971    0.0  ...     0.0  7.834490   2.857789   \n",
       "6      28.128934   0.000000    0.0  ...     0.0  0.000000   8.613489   \n",
       "21     65.835461   0.000000    0.0  ...     0.0  2.997994  38.108469   \n",
       "32     38.778183   0.000000    0.0  ...     0.0  0.000000  31.984045   \n",
       "43      0.000000  16.459972    0.0  ...     0.0  0.000000  14.856931   \n",
       "...          ...        ...    ...  ...     ...       ...        ...   \n",
       "70091  41.234787   6.399877    0.0  ...     0.0  0.000000   0.000000   \n",
       "70102  27.905857   8.312298    0.0  ...     0.0  0.000000   0.000000   \n",
       "70269  28.855773  21.444675    0.0  ...     0.0  0.000000   6.607247   \n",
       "0      20.898959  10.966830    0.0  ...     0.0  3.685163   0.000000   \n",
       "1      12.658810   4.624994    0.0  ...     0.0  0.000000   0.000000   \n",
       "\n",
       "          dim_93     dim_94    dim_95     dim_96    dim_97     dim_98  \\\n",
       "1      13.530958  10.146735  4.404608   0.000000  0.000000   0.000000   \n",
       "6       0.000000   0.000000  0.000000   0.000000  9.179510  22.832225   \n",
       "21      0.000000  54.260673  0.000000  20.431938  0.000000   0.000000   \n",
       "32      8.717551  58.465491  8.572374   0.000000  0.000000   0.000000   \n",
       "43      9.230936  31.181067  0.000000   0.000000  0.000000  35.627109   \n",
       "...          ...        ...       ...        ...       ...        ...   \n",
       "70091   0.000000  19.812291  0.000000  43.821223  0.000000  10.748083   \n",
       "70102   0.000000  10.071068  0.000000  22.913231  0.000000   6.218778   \n",
       "70269  13.843594  28.952792  7.951942   0.000000  9.885558   0.000000   \n",
       "0       7.214759  14.892375  0.998020   0.000000  0.000000   6.239103   \n",
       "1       1.718769   5.409915  0.000000   2.742406  0.000000   3.410000   \n",
       "\n",
       "          dim_99  \n",
       "1       0.000000  \n",
       "6      11.508276  \n",
       "21     19.708005  \n",
       "32     15.633381  \n",
       "43      0.000000  \n",
       "...          ...  \n",
       "70091   0.000000  \n",
       "70102   0.000000  \n",
       "70269   0.000000  \n",
       "0       4.422324  \n",
       "1       0.000000  \n",
       "\n",
       "[540 rows x 100 columns]"
      ]
     },
     "execution_count": 38,
     "metadata": {},
     "output_type": "execute_result"
    }
   ],
   "source": []
  },
  {
   "cell_type": "code",
   "execution_count": 39,
   "metadata": {},
   "outputs": [],
   "source": [
    "dists = spatial.distance.pdist(library_newtext.drop(columns=['id', 'title', 'author', 'authorcentury', 'proj_0', 'proj_1']).values, metric = 'cosine')"
   ]
  },
  {
   "attachments": {},
   "cell_type": "markdown",
   "metadata": {},
   "source": [
    "note: to find out the dist between two authors, need to get the correct index for dist.\n",
    "\n",
    "for i < j < m (where m = num of authors):\n",
    "\n",
    "index = m * i + j - ((i + 2) * (i + 1)) // 2\n",
    "\n",
    "dists[index]"
   ]
  },
  {
   "attachments": {},
   "cell_type": "markdown",
   "metadata": {},
   "source": [
    "For Lambda, cosine distance:"
   ]
  },
  {
   "cell_type": "code",
   "execution_count": 82,
   "metadata": {},
   "outputs": [],
   "source": [
    "m = library_newtext.shape[0]\n",
    "j = m-2\n",
    "\n",
    "cos_dist = []\n",
    "titles = []\n",
    "authors = []\n",
    "\n",
    "for i in range(j):\n",
    "    titles.append(library_newtext['title'].iloc[i])\n",
    "    authors.append(library_newtext['author'].iloc[i])\n",
    "    cos_dist.append(dists[m * i + j - ((i + 2) * (i + 1)) // 2])"
   ]
  },
  {
   "cell_type": "code",
   "execution_count": 83,
   "metadata": {},
   "outputs": [
    {
     "data": {
      "text/html": [
       "<div>\n",
       "<style scoped>\n",
       "    .dataframe tbody tr th:only-of-type {\n",
       "        vertical-align: middle;\n",
       "    }\n",
       "\n",
       "    .dataframe tbody tr th {\n",
       "        vertical-align: top;\n",
       "    }\n",
       "\n",
       "    .dataframe thead th {\n",
       "        text-align: right;\n",
       "    }\n",
       "</style>\n",
       "<table border=\"1\" class=\"dataframe\">\n",
       "  <thead>\n",
       "    <tr style=\"text-align: right;\">\n",
       "      <th></th>\n",
       "      <th>title</th>\n",
       "      <th>author</th>\n",
       "      <th>Deathway</th>\n",
       "    </tr>\n",
       "  </thead>\n",
       "  <tbody>\n",
       "    <tr>\n",
       "      <th>382</th>\n",
       "      <td>Savrola: A Tale of the Revolution in Laurania</td>\n",
       "      <td>Churchill, Winston</td>\n",
       "      <td>0.183769</td>\n",
       "    </tr>\n",
       "    <tr>\n",
       "      <th>150</th>\n",
       "      <td>Chapters from My Autobiography</td>\n",
       "      <td>Twain, Mark</td>\n",
       "      <td>0.183832</td>\n",
       "    </tr>\n",
       "    <tr>\n",
       "      <th>537</th>\n",
       "      <td>Tour through the Eastern Counties of England, ...</td>\n",
       "      <td>Defoe, Daniel</td>\n",
       "      <td>0.191852</td>\n",
       "    </tr>\n",
       "    <tr>\n",
       "      <th>31</th>\n",
       "      <td>The Refugees: A Tale of Two Continents</td>\n",
       "      <td>Doyle, Arthur Conan</td>\n",
       "      <td>0.203798</td>\n",
       "    </tr>\n",
       "    <tr>\n",
       "      <th>155</th>\n",
       "      <td>Dickory Cronke: The Dumb Philosopher, or, Grea...</td>\n",
       "      <td>Defoe, Daniel</td>\n",
       "      <td>0.216073</td>\n",
       "    </tr>\n",
       "    <tr>\n",
       "      <th>105</th>\n",
       "      <td>Camille (La Dame aux Camilias)</td>\n",
       "      <td>Dumas, Alexandre</td>\n",
       "      <td>0.218140</td>\n",
       "    </tr>\n",
       "    <tr>\n",
       "      <th>300</th>\n",
       "      <td>A New Voyage Round the World by a Course Never...</td>\n",
       "      <td>Defoe, Daniel</td>\n",
       "      <td>0.221305</td>\n",
       "    </tr>\n",
       "    <tr>\n",
       "      <th>289</th>\n",
       "      <td>Augusta Triumphans: Or, the Way to Make London...</td>\n",
       "      <td>Defoe, Daniel</td>\n",
       "      <td>0.222826</td>\n",
       "    </tr>\n",
       "    <tr>\n",
       "      <th>394</th>\n",
       "      <td>The War of Women, Volume 1</td>\n",
       "      <td>Dumas, Alexandre</td>\n",
       "      <td>0.224304</td>\n",
       "    </tr>\n",
       "    <tr>\n",
       "      <th>353</th>\n",
       "      <td>Lord Randolph Churchill</td>\n",
       "      <td>Churchill, Winston</td>\n",
       "      <td>0.228235</td>\n",
       "    </tr>\n",
       "  </tbody>\n",
       "</table>\n",
       "</div>"
      ],
      "text/plain": [
       "                                                 title               author  \\\n",
       "382      Savrola: A Tale of the Revolution in Laurania   Churchill, Winston   \n",
       "150                     Chapters from My Autobiography          Twain, Mark   \n",
       "537  Tour through the Eastern Counties of England, ...        Defoe, Daniel   \n",
       "31              The Refugees: A Tale of Two Continents  Doyle, Arthur Conan   \n",
       "155  Dickory Cronke: The Dumb Philosopher, or, Grea...        Defoe, Daniel   \n",
       "105                     Camille (La Dame aux Camilias)     Dumas, Alexandre   \n",
       "300  A New Voyage Round the World by a Course Never...        Defoe, Daniel   \n",
       "289  Augusta Triumphans: Or, the Way to Make London...        Defoe, Daniel   \n",
       "394                         The War of Women, Volume 1     Dumas, Alexandre   \n",
       "353                            Lord Randolph Churchill   Churchill, Winston   \n",
       "\n",
       "     Deathway  \n",
       "382  0.183769  \n",
       "150  0.183832  \n",
       "537  0.191852  \n",
       "31   0.203798  \n",
       "155  0.216073  \n",
       "105  0.218140  \n",
       "300  0.221305  \n",
       "289  0.222826  \n",
       "394  0.224304  \n",
       "353  0.228235  "
      ]
     },
     "execution_count": 83,
     "metadata": {},
     "output_type": "execute_result"
    }
   ],
   "source": [
    "pd.concat([pd.DataFrame({'title':titles}),\n",
    "           pd.DataFrame({'author':authors}),\n",
    "           pd.DataFrame({'Deathway':cos_dist})],\n",
    "           axis=1).sort_values(by='Deathway', ascending=True).head(10)"
   ]
  },
  {
   "attachments": {},
   "cell_type": "markdown",
   "metadata": {},
   "source": [
    "For Deathway, cosine distance:"
   ]
  },
  {
   "cell_type": "code",
   "execution_count": 84,
   "metadata": {},
   "outputs": [],
   "source": [
    "m = library_newtext.shape[0]\n",
    "j = m-1\n",
    "\n",
    "cos_dist = []\n",
    "titles = []\n",
    "authors = []\n",
    "\n",
    "for i in range(j):\n",
    "    titles.append(library_newtext['title'].iloc[i])\n",
    "    authors.append(library_newtext['author'].iloc[i])\n",
    "    cos_dist.append(dists[m * i + j - ((i + 2) * (i + 1)) // 2])"
   ]
  },
  {
   "cell_type": "code",
   "execution_count": 85,
   "metadata": {},
   "outputs": [
    {
     "data": {
      "text/html": [
       "<div>\n",
       "<style scoped>\n",
       "    .dataframe tbody tr th:only-of-type {\n",
       "        vertical-align: middle;\n",
       "    }\n",
       "\n",
       "    .dataframe tbody tr th {\n",
       "        vertical-align: top;\n",
       "    }\n",
       "\n",
       "    .dataframe thead th {\n",
       "        text-align: right;\n",
       "    }\n",
       "</style>\n",
       "<table border=\"1\" class=\"dataframe\">\n",
       "  <thead>\n",
       "    <tr style=\"text-align: right;\">\n",
       "      <th></th>\n",
       "      <th>title</th>\n",
       "      <th>author</th>\n",
       "      <th>Deathway</th>\n",
       "    </tr>\n",
       "  </thead>\n",
       "  <tbody>\n",
       "    <tr>\n",
       "      <th>538</th>\n",
       "      <td>Lambda</td>\n",
       "      <td>Umer, Tomo</td>\n",
       "      <td>0.039126</td>\n",
       "    </tr>\n",
       "    <tr>\n",
       "      <th>434</th>\n",
       "      <td>The Mystery of Edwin Drood</td>\n",
       "      <td>Dickens, Charles</td>\n",
       "      <td>0.147057</td>\n",
       "    </tr>\n",
       "    <tr>\n",
       "      <th>524</th>\n",
       "      <td>Sketches by Boz, Illustrative of Every-Day Lif...</td>\n",
       "      <td>Dickens, Charles</td>\n",
       "      <td>0.147214</td>\n",
       "    </tr>\n",
       "    <tr>\n",
       "      <th>150</th>\n",
       "      <td>Chapters from My Autobiography</td>\n",
       "      <td>Twain, Mark</td>\n",
       "      <td>0.150826</td>\n",
       "    </tr>\n",
       "    <tr>\n",
       "      <th>528</th>\n",
       "      <td>The Uncommercial Traveller</td>\n",
       "      <td>Dickens, Charles</td>\n",
       "      <td>0.152925</td>\n",
       "    </tr>\n",
       "    <tr>\n",
       "      <th>200</th>\n",
       "      <td>The Letters of Charles Dickens. Vol. 2, 1857-1870</td>\n",
       "      <td>Dickens, Charles</td>\n",
       "      <td>0.176101</td>\n",
       "    </tr>\n",
       "    <tr>\n",
       "      <th>382</th>\n",
       "      <td>Savrola: A Tale of the Revolution in Laurania</td>\n",
       "      <td>Churchill, Winston</td>\n",
       "      <td>0.180540</td>\n",
       "    </tr>\n",
       "    <tr>\n",
       "      <th>199</th>\n",
       "      <td>The Letters of Charles Dickens. Vol. 1, 1833-1856</td>\n",
       "      <td>Dickens, Charles</td>\n",
       "      <td>0.185521</td>\n",
       "    </tr>\n",
       "    <tr>\n",
       "      <th>535</th>\n",
       "      <td>Nicholas Nickleby</td>\n",
       "      <td>Dickens, Charles</td>\n",
       "      <td>0.201778</td>\n",
       "    </tr>\n",
       "    <tr>\n",
       "      <th>514</th>\n",
       "      <td>George Silverman's Explanation</td>\n",
       "      <td>Dickens, Charles</td>\n",
       "      <td>0.204754</td>\n",
       "    </tr>\n",
       "  </tbody>\n",
       "</table>\n",
       "</div>"
      ],
      "text/plain": [
       "                                                 title              author  \\\n",
       "538                                             Lambda          Umer, Tomo   \n",
       "434                         The Mystery of Edwin Drood    Dickens, Charles   \n",
       "524  Sketches by Boz, Illustrative of Every-Day Lif...    Dickens, Charles   \n",
       "150                     Chapters from My Autobiography         Twain, Mark   \n",
       "528                         The Uncommercial Traveller    Dickens, Charles   \n",
       "200  The Letters of Charles Dickens. Vol. 2, 1857-1870    Dickens, Charles   \n",
       "382      Savrola: A Tale of the Revolution in Laurania  Churchill, Winston   \n",
       "199  The Letters of Charles Dickens. Vol. 1, 1833-1856    Dickens, Charles   \n",
       "535                                  Nicholas Nickleby    Dickens, Charles   \n",
       "514                     George Silverman's Explanation    Dickens, Charles   \n",
       "\n",
       "     Deathway  \n",
       "538  0.039126  \n",
       "434  0.147057  \n",
       "524  0.147214  \n",
       "150  0.150826  \n",
       "528  0.152925  \n",
       "200  0.176101  \n",
       "382  0.180540  \n",
       "199  0.185521  \n",
       "535  0.201778  \n",
       "514  0.204754  "
      ]
     },
     "execution_count": 85,
     "metadata": {},
     "output_type": "execute_result"
    }
   ],
   "source": [
    "# Lambda is of course the most similar ... if wanted, simply do a .drop(538) on all 3 dataframes\n",
    "pd.concat([pd.DataFrame({'title':titles}),\n",
    "           pd.DataFrame({'author':authors}),\n",
    "           pd.DataFrame({'Deathway':cos_dist})],\n",
    "           axis=1).sort_values(by='Deathway', ascending=True).head(10)"
   ]
  },
  {
   "cell_type": "code",
   "execution_count": null,
   "metadata": {},
   "outputs": [],
   "source": []
  }
 ],
 "metadata": {
  "kernelspec": {
   "display_name": "base",
   "language": "python",
   "name": "python3"
  },
  "language_info": {
   "codemirror_mode": {
    "name": "ipython",
    "version": 3
   },
   "file_extension": ".py",
   "mimetype": "text/x-python",
   "name": "python",
   "nbconvert_exporter": "python",
   "pygments_lexer": "ipython3",
   "version": "3.9.12"
  },
  "orig_nbformat": 4
 },
 "nbformat": 4,
 "nbformat_minor": 2
}
