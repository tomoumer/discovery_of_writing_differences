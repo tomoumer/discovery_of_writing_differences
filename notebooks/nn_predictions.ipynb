{
 "cells": [
  {
   "attachments": {},
   "cell_type": "markdown",
   "metadata": {},
   "source": [
    "# Discovery of Writing Differences - Neural Networks Representation\n",
    "\n",
    "Capstone project by Tomo Umer"
   ]
  },
  {
   "attachments": {},
   "cell_type": "markdown",
   "metadata": {},
   "source": [
    "<img src=\"https://tomoumerdotcom.files.wordpress.com/2022/04/cropped-pho_logo_notext.png\" style=\"width:400px;height:400px;\"/>"
   ]
  },
  {
   "attachments": {},
   "cell_type": "markdown",
   "metadata": {},
   "source": [
    "## Imports"
   ]
  },
  {
   "cell_type": "code",
   "execution_count": 110,
   "metadata": {},
   "outputs": [],
   "source": [
    "import pandas as pd\n",
    "import numpy as np\n",
    "import re\n",
    "import glob\n",
    "import plotly.express as px\n",
    "import pickle\n",
    "\n",
    "from sklearn.model_selection import train_test_split\n",
    "from sklearn.metrics import accuracy_score, confusion_matrix, classification_report\n",
    "from sklearn.feature_extraction.text import TfidfVectorizer\n",
    "from sklearn.linear_model import LogisticRegression\n",
    "from sklearn.pipeline import Pipeline\n",
    "\n",
    "import matplotlib.pyplot as plt\n",
    "import seaborn as sns\n",
    "from sklearn.neural_network import MLPClassifier, MLPRegressor\n",
    "from sklearn.preprocessing import MaxAbsScaler\n",
    "from copy import deepcopy\n",
    "\n",
    "import umap\n",
    "from scipy import spatial\n",
    "from scipy.cluster.hierarchy import linkage, dendrogram\n",
    "\n",
    "from joblib import dump, load"
   ]
  },
  {
   "attachments": {},
   "cell_type": "markdown",
   "metadata": {},
   "source": [
    "## Reading In the Library and Prep for NN\n",
    "\n",
    "In this part, reading the .pkl file. "
   ]
  },
  {
   "cell_type": "code",
   "execution_count": 111,
   "metadata": {},
   "outputs": [],
   "source": [
    "library_select = pd.read_pickle('../data/library_fixed_author_fifty.pkl')"
   ]
  },
  {
   "cell_type": "code",
   "execution_count": 112,
   "metadata": {},
   "outputs": [
    {
     "data": {
      "text/plain": [
       "(527, 12)"
      ]
     },
     "execution_count": 112,
     "metadata": {},
     "output_type": "execute_result"
    }
   ],
   "source": [
    "library_select.shape"
   ]
  },
  {
   "attachments": {},
   "cell_type": "markdown",
   "metadata": {},
   "source": [
    "Next, extract authors, create dictionary to convert authors name to numeric values (for predictions) and add a column with that."
   ]
  },
  {
   "cell_type": "code",
   "execution_count": 113,
   "metadata": {},
   "outputs": [],
   "source": [
    "select_authors = list(library_select.sort_values(by='authorcentury')['author'].unique())\n",
    "\n",
    "authors_to_num = {select_authors[i]: i for i in range(len(select_authors))}\n",
    "#num_to_authors = {v: k for k, v in authors_to_num.items()}\n",
    "\n",
    "library_select['author_num'] = library_select['author'].map(authors_to_num)"
   ]
  },
  {
   "attachments": {},
   "cell_type": "markdown",
   "metadata": {},
   "source": [
    "## Sklearn NN\n",
    "\n",
    "First round of neural network analysis, using sklearn."
   ]
  },
  {
   "cell_type": "code",
   "execution_count": 114,
   "metadata": {},
   "outputs": [],
   "source": [
    "X = library_select[['book_content']]\n",
    "y = library_select['author_num']\n",
    "\n",
    "X_train, X_test, y_train, y_test = train_test_split(X, y, test_size=0.2, random_state = 42, stratify = y)"
   ]
  },
  {
   "cell_type": "code",
   "execution_count": 115,
   "metadata": {},
   "outputs": [],
   "source": [
    "pipe_nn = Pipeline(\n",
    "    steps = [\n",
    "        ('vect', TfidfVectorizer(min_df=2, max_df=0.5, ngram_range=(1,2))),\n",
    "        ('scaler', MaxAbsScaler()),  #this is needed in order to make it converge in a reasonable time!\n",
    "        ('nn', MLPClassifier(verbose = True,\n",
    "                             hidden_layer_sizes = (100, 100),\n",
    "                             #activation = 'relu',\n",
    "                             #max_iter = 10000,\n",
    "                             #alpha=0.05\n",
    "                             ))\n",
    "    ]\n",
    ")"
   ]
  },
  {
   "cell_type": "code",
   "execution_count": 116,
   "metadata": {},
   "outputs": [
    {
     "name": "stdout",
     "output_type": "stream",
     "text": [
      "Iteration 1, loss = 2.67495700\n",
      "Iteration 2, loss = 0.29886296\n",
      "Iteration 3, loss = 0.02132899\n",
      "Iteration 4, loss = 0.00480482\n",
      "Iteration 5, loss = 0.00233101\n",
      "Iteration 6, loss = 0.00140505\n",
      "Iteration 7, loss = 0.00137118\n",
      "Iteration 8, loss = 0.00143194\n",
      "Iteration 9, loss = 0.00150213\n",
      "Iteration 10, loss = 0.00155968\n",
      "Iteration 11, loss = 0.00160303\n",
      "Iteration 12, loss = 0.00163719\n",
      "Iteration 13, loss = 0.00166292\n",
      "Iteration 14, loss = 0.00168195\n",
      "Iteration 15, loss = 0.00169646\n",
      "Iteration 16, loss = 0.00170680\n",
      "Iteration 17, loss = 0.00171434\n",
      "Training loss did not improve more than tol=0.000100 for 10 consecutive epochs. Stopping.\n",
      "accuracy score: 1.0 \n",
      "\n",
      "----- confusion matrix ------\n",
      "[[14  0  0  0  0  0  0  0  0  0  0  0  0  0  0  0  0  0  0  0  0]\n",
      " [ 0  5  0  0  0  0  0  0  0  0  0  0  0  0  0  0  0  0  0  0  0]\n",
      " [ 0  0 32  0  0  0  0  0  0  0  0  0  0  0  0  0  0  0  0  0  0]\n",
      " [ 0  0  0 14  0  0  0  0  0  0  0  0  0  0  0  0  0  0  0  0  0]\n",
      " [ 0  0  0  0  5  0  0  0  0  0  0  0  0  0  0  0  0  0  0  0  0]\n",
      " [ 0  0  0  0  0 19  0  0  0  0  0  0  0  0  0  0  0  0  0  0  0]\n",
      " [ 0  0  0  0  0  0  6  0  0  0  0  0  0  0  0  0  0  0  0  0  0]\n",
      " [ 0  0  0  0  0  0  0  5  0  0  0  0  0  0  0  0  0  0  0  0  0]\n",
      " [ 0  0  0  0  0  0  0  0 50  0  0  0  0  0  0  0  0  0  0  0  0]\n",
      " [ 0  0  0  0  0  0  0  0  0 18  0  0  0  0  0  0  0  0  0  0  0]\n",
      " [ 0  0  0  0  0  0  0  0  0  0 45  0  0  0  0  0  0  0  0  0  0]\n",
      " [ 0  0  0  0  0  0  0  0  0  0  0 18  0  0  0  0  0  0  0  0  0]\n",
      " [ 0  0  0  0  0  0  0  0  0  0  0  0 13  0  0  0  0  0  0  0  0]\n",
      " [ 0  0  0  0  0  0  0  0  0  0  0  0  0 50  0  0  0  0  0  0  0]\n",
      " [ 0  0  0  0  0  0  0  0  0  0  0  0  0  0 50  0  0  0  0  0  0]\n",
      " [ 0  0  0  0  0  0  0  0  0  0  0  0  0  0  0 50  0  0  0  0  0]\n",
      " [ 0  0  0  0  0  0  0  0  0  0  0  0  0  0  0  0 50  0  0  0  0]\n",
      " [ 0  0  0  0  0  0  0  0  0  0  0  0  0  0  0  0  0 14  0  0  0]\n",
      " [ 0  0  0  0  0  0  0  0  0  0  0  0  0  0  0  0  0  0 11  0  0]\n",
      " [ 0  0  0  0  0  0  0  0  0  0  0  0  0  0  0  0  0  0  0  8  0]\n",
      " [ 0  0  0  0  0  0  0  0  0  0  0  0  0  0  0  0  0  0  0  0 50]] \n",
      "\n",
      "-------- classification report ---------\n",
      "              precision    recall  f1-score   support\n",
      "\n",
      "           0       1.00      1.00      1.00        14\n",
      "           1       1.00      1.00      1.00         5\n",
      "           2       1.00      1.00      1.00        32\n",
      "           3       1.00      1.00      1.00        14\n",
      "           4       1.00      1.00      1.00         5\n",
      "           5       1.00      1.00      1.00        19\n",
      "           6       1.00      1.00      1.00         6\n",
      "           7       1.00      1.00      1.00         5\n",
      "           8       1.00      1.00      1.00        50\n",
      "           9       1.00      1.00      1.00        18\n",
      "          10       1.00      1.00      1.00        45\n",
      "          11       1.00      1.00      1.00        18\n",
      "          12       1.00      1.00      1.00        13\n",
      "          13       1.00      1.00      1.00        50\n",
      "          14       1.00      1.00      1.00        50\n",
      "          15       1.00      1.00      1.00        50\n",
      "          16       1.00      1.00      1.00        50\n",
      "          17       1.00      1.00      1.00        14\n",
      "          18       1.00      1.00      1.00        11\n",
      "          19       1.00      1.00      1.00         8\n",
      "          20       1.00      1.00      1.00        50\n",
      "\n",
      "    accuracy                           1.00       527\n",
      "   macro avg       1.00      1.00      1.00       527\n",
      "weighted avg       1.00      1.00      1.00       527\n",
      "\n"
     ]
    }
   ],
   "source": [
    "# pipe_nn.fit(X_train['book_content'], y_train)\n",
    "# y_pred = pipe_nn.predict(X_test['book_content'])\n",
    "\n",
    "# print('accuracy score:', accuracy_score(y_test, y_pred), '\\n')\n",
    "# print('----- confusion matrix ------')\n",
    "# print(confusion_matrix(y_test, y_pred), '\\n')\n",
    "# print('-------- classification report ---------')\n",
    "# print(classification_report(y_test, y_pred))\n",
    "\n",
    "# this below ran for almost 2 hours and didn't finish yet...\n",
    "pipe_nn.fit(X['book_content'], y)\n",
    "y_pred = pipe_nn.predict(X['book_content'])\n",
    "\n",
    "print('accuracy score:', accuracy_score(y, y_pred), '\\n')\n",
    "print('----- confusion matrix ------')\n",
    "print(confusion_matrix(y, y_pred), '\\n')\n",
    "print('-------- classification report ---------')\n",
    "print(classification_report(y, y_pred))"
   ]
  },
  {
   "cell_type": "code",
   "execution_count": 117,
   "metadata": {},
   "outputs": [
    {
     "data": {
      "application/vnd.plotly.v1+json": {
       "config": {
        "plotlyServerURL": "https://plot.ly"
       },
       "data": [
        {
         "coloraxis": "coloraxis",
         "hovertemplate": "Predicted Label: %{x}<br>True Label: %{y}<br>color: %{z}<extra></extra>",
         "name": "0",
         "texttemplate": "%{z}",
         "type": "heatmap",
         "x": [
          "Homer",
          "Confucius",
          "Plato",
          "Cicero, Marcus Tullius",
          "Seneca, Lucius Annaeus",
          "Dante Alighieri",
          "Boccaccio, Giovanni",
          "Machiavelli, Niccolò",
          "Shakespeare, William",
          "Molière",
          "Defoe, Daniel",
          "Jefferson, Thomas",
          "Austen, Jane",
          "Twain, Mark",
          "Dickens, Charles",
          "Dumas, Alexandre",
          "Doyle, Arthur Conan",
          "Dick, Philip K.",
          "Huxley, Aldous",
          "Lovecraft, H. P. (Howard Phillips)",
          "Churchill, Winston"
         ],
         "xaxis": "x",
         "y": [
          "Homer",
          "Confucius",
          "Plato",
          "Cicero, Marcus Tullius",
          "Seneca, Lucius Annaeus",
          "Dante Alighieri",
          "Boccaccio, Giovanni",
          "Machiavelli, Niccolò",
          "Shakespeare, William",
          "Molière",
          "Defoe, Daniel",
          "Jefferson, Thomas",
          "Austen, Jane",
          "Twain, Mark",
          "Dickens, Charles",
          "Dumas, Alexandre",
          "Doyle, Arthur Conan",
          "Dick, Philip K.",
          "Huxley, Aldous",
          "Lovecraft, H. P. (Howard Phillips)",
          "Churchill, Winston"
         ],
         "yaxis": "y",
         "z": [
          [
           14,
           0,
           0,
           0,
           0,
           0,
           0,
           0,
           0,
           0,
           0,
           0,
           0,
           0,
           0,
           0,
           0,
           0,
           0,
           0,
           0
          ],
          [
           0,
           5,
           0,
           0,
           0,
           0,
           0,
           0,
           0,
           0,
           0,
           0,
           0,
           0,
           0,
           0,
           0,
           0,
           0,
           0,
           0
          ],
          [
           0,
           0,
           32,
           0,
           0,
           0,
           0,
           0,
           0,
           0,
           0,
           0,
           0,
           0,
           0,
           0,
           0,
           0,
           0,
           0,
           0
          ],
          [
           0,
           0,
           0,
           14,
           0,
           0,
           0,
           0,
           0,
           0,
           0,
           0,
           0,
           0,
           0,
           0,
           0,
           0,
           0,
           0,
           0
          ],
          [
           0,
           0,
           0,
           0,
           5,
           0,
           0,
           0,
           0,
           0,
           0,
           0,
           0,
           0,
           0,
           0,
           0,
           0,
           0,
           0,
           0
          ],
          [
           0,
           0,
           0,
           0,
           0,
           19,
           0,
           0,
           0,
           0,
           0,
           0,
           0,
           0,
           0,
           0,
           0,
           0,
           0,
           0,
           0
          ],
          [
           0,
           0,
           0,
           0,
           0,
           0,
           6,
           0,
           0,
           0,
           0,
           0,
           0,
           0,
           0,
           0,
           0,
           0,
           0,
           0,
           0
          ],
          [
           0,
           0,
           0,
           0,
           0,
           0,
           0,
           5,
           0,
           0,
           0,
           0,
           0,
           0,
           0,
           0,
           0,
           0,
           0,
           0,
           0
          ],
          [
           0,
           0,
           0,
           0,
           0,
           0,
           0,
           0,
           50,
           0,
           0,
           0,
           0,
           0,
           0,
           0,
           0,
           0,
           0,
           0,
           0
          ],
          [
           0,
           0,
           0,
           0,
           0,
           0,
           0,
           0,
           0,
           18,
           0,
           0,
           0,
           0,
           0,
           0,
           0,
           0,
           0,
           0,
           0
          ],
          [
           0,
           0,
           0,
           0,
           0,
           0,
           0,
           0,
           0,
           0,
           45,
           0,
           0,
           0,
           0,
           0,
           0,
           0,
           0,
           0,
           0
          ],
          [
           0,
           0,
           0,
           0,
           0,
           0,
           0,
           0,
           0,
           0,
           0,
           18,
           0,
           0,
           0,
           0,
           0,
           0,
           0,
           0,
           0
          ],
          [
           0,
           0,
           0,
           0,
           0,
           0,
           0,
           0,
           0,
           0,
           0,
           0,
           13,
           0,
           0,
           0,
           0,
           0,
           0,
           0,
           0
          ],
          [
           0,
           0,
           0,
           0,
           0,
           0,
           0,
           0,
           0,
           0,
           0,
           0,
           0,
           50,
           0,
           0,
           0,
           0,
           0,
           0,
           0
          ],
          [
           0,
           0,
           0,
           0,
           0,
           0,
           0,
           0,
           0,
           0,
           0,
           0,
           0,
           0,
           50,
           0,
           0,
           0,
           0,
           0,
           0
          ],
          [
           0,
           0,
           0,
           0,
           0,
           0,
           0,
           0,
           0,
           0,
           0,
           0,
           0,
           0,
           0,
           50,
           0,
           0,
           0,
           0,
           0
          ],
          [
           0,
           0,
           0,
           0,
           0,
           0,
           0,
           0,
           0,
           0,
           0,
           0,
           0,
           0,
           0,
           0,
           50,
           0,
           0,
           0,
           0
          ],
          [
           0,
           0,
           0,
           0,
           0,
           0,
           0,
           0,
           0,
           0,
           0,
           0,
           0,
           0,
           0,
           0,
           0,
           14,
           0,
           0,
           0
          ],
          [
           0,
           0,
           0,
           0,
           0,
           0,
           0,
           0,
           0,
           0,
           0,
           0,
           0,
           0,
           0,
           0,
           0,
           0,
           11,
           0,
           0
          ],
          [
           0,
           0,
           0,
           0,
           0,
           0,
           0,
           0,
           0,
           0,
           0,
           0,
           0,
           0,
           0,
           0,
           0,
           0,
           0,
           8,
           0
          ],
          [
           0,
           0,
           0,
           0,
           0,
           0,
           0,
           0,
           0,
           0,
           0,
           0,
           0,
           0,
           0,
           0,
           0,
           0,
           0,
           0,
           50
          ]
         ]
        }
       ],
       "layout": {
        "coloraxis": {
         "colorscale": [
          [
           0,
           "rgb(209, 238, 234)"
          ],
          [
           0.16666666666666666,
           "rgb(168, 219, 217)"
          ],
          [
           0.3333333333333333,
           "rgb(133, 196, 201)"
          ],
          [
           0.5,
           "rgb(104, 171, 184)"
          ],
          [
           0.6666666666666666,
           "rgb(79, 144, 166)"
          ],
          [
           0.8333333333333334,
           "rgb(59, 115, 143)"
          ],
          [
           1,
           "rgb(42, 86, 116)"
          ]
         ],
         "showscale": false
        },
        "height": 800,
        "margin": {
         "t": 60
        },
        "template": {
         "data": {
          "bar": [
           {
            "error_x": {
             "color": "#2a3f5f"
            },
            "error_y": {
             "color": "#2a3f5f"
            },
            "marker": {
             "line": {
              "color": "#E5ECF6",
              "width": 0.5
             },
             "pattern": {
              "fillmode": "overlay",
              "size": 10,
              "solidity": 0.2
             }
            },
            "type": "bar"
           }
          ],
          "barpolar": [
           {
            "marker": {
             "line": {
              "color": "#E5ECF6",
              "width": 0.5
             },
             "pattern": {
              "fillmode": "overlay",
              "size": 10,
              "solidity": 0.2
             }
            },
            "type": "barpolar"
           }
          ],
          "carpet": [
           {
            "aaxis": {
             "endlinecolor": "#2a3f5f",
             "gridcolor": "white",
             "linecolor": "white",
             "minorgridcolor": "white",
             "startlinecolor": "#2a3f5f"
            },
            "baxis": {
             "endlinecolor": "#2a3f5f",
             "gridcolor": "white",
             "linecolor": "white",
             "minorgridcolor": "white",
             "startlinecolor": "#2a3f5f"
            },
            "type": "carpet"
           }
          ],
          "choropleth": [
           {
            "colorbar": {
             "outlinewidth": 0,
             "ticks": ""
            },
            "type": "choropleth"
           }
          ],
          "contour": [
           {
            "colorbar": {
             "outlinewidth": 0,
             "ticks": ""
            },
            "colorscale": [
             [
              0,
              "#0d0887"
             ],
             [
              0.1111111111111111,
              "#46039f"
             ],
             [
              0.2222222222222222,
              "#7201a8"
             ],
             [
              0.3333333333333333,
              "#9c179e"
             ],
             [
              0.4444444444444444,
              "#bd3786"
             ],
             [
              0.5555555555555556,
              "#d8576b"
             ],
             [
              0.6666666666666666,
              "#ed7953"
             ],
             [
              0.7777777777777778,
              "#fb9f3a"
             ],
             [
              0.8888888888888888,
              "#fdca26"
             ],
             [
              1,
              "#f0f921"
             ]
            ],
            "type": "contour"
           }
          ],
          "contourcarpet": [
           {
            "colorbar": {
             "outlinewidth": 0,
             "ticks": ""
            },
            "type": "contourcarpet"
           }
          ],
          "heatmap": [
           {
            "colorbar": {
             "outlinewidth": 0,
             "ticks": ""
            },
            "colorscale": [
             [
              0,
              "#0d0887"
             ],
             [
              0.1111111111111111,
              "#46039f"
             ],
             [
              0.2222222222222222,
              "#7201a8"
             ],
             [
              0.3333333333333333,
              "#9c179e"
             ],
             [
              0.4444444444444444,
              "#bd3786"
             ],
             [
              0.5555555555555556,
              "#d8576b"
             ],
             [
              0.6666666666666666,
              "#ed7953"
             ],
             [
              0.7777777777777778,
              "#fb9f3a"
             ],
             [
              0.8888888888888888,
              "#fdca26"
             ],
             [
              1,
              "#f0f921"
             ]
            ],
            "type": "heatmap"
           }
          ],
          "heatmapgl": [
           {
            "colorbar": {
             "outlinewidth": 0,
             "ticks": ""
            },
            "colorscale": [
             [
              0,
              "#0d0887"
             ],
             [
              0.1111111111111111,
              "#46039f"
             ],
             [
              0.2222222222222222,
              "#7201a8"
             ],
             [
              0.3333333333333333,
              "#9c179e"
             ],
             [
              0.4444444444444444,
              "#bd3786"
             ],
             [
              0.5555555555555556,
              "#d8576b"
             ],
             [
              0.6666666666666666,
              "#ed7953"
             ],
             [
              0.7777777777777778,
              "#fb9f3a"
             ],
             [
              0.8888888888888888,
              "#fdca26"
             ],
             [
              1,
              "#f0f921"
             ]
            ],
            "type": "heatmapgl"
           }
          ],
          "histogram": [
           {
            "marker": {
             "pattern": {
              "fillmode": "overlay",
              "size": 10,
              "solidity": 0.2
             }
            },
            "type": "histogram"
           }
          ],
          "histogram2d": [
           {
            "colorbar": {
             "outlinewidth": 0,
             "ticks": ""
            },
            "colorscale": [
             [
              0,
              "#0d0887"
             ],
             [
              0.1111111111111111,
              "#46039f"
             ],
             [
              0.2222222222222222,
              "#7201a8"
             ],
             [
              0.3333333333333333,
              "#9c179e"
             ],
             [
              0.4444444444444444,
              "#bd3786"
             ],
             [
              0.5555555555555556,
              "#d8576b"
             ],
             [
              0.6666666666666666,
              "#ed7953"
             ],
             [
              0.7777777777777778,
              "#fb9f3a"
             ],
             [
              0.8888888888888888,
              "#fdca26"
             ],
             [
              1,
              "#f0f921"
             ]
            ],
            "type": "histogram2d"
           }
          ],
          "histogram2dcontour": [
           {
            "colorbar": {
             "outlinewidth": 0,
             "ticks": ""
            },
            "colorscale": [
             [
              0,
              "#0d0887"
             ],
             [
              0.1111111111111111,
              "#46039f"
             ],
             [
              0.2222222222222222,
              "#7201a8"
             ],
             [
              0.3333333333333333,
              "#9c179e"
             ],
             [
              0.4444444444444444,
              "#bd3786"
             ],
             [
              0.5555555555555556,
              "#d8576b"
             ],
             [
              0.6666666666666666,
              "#ed7953"
             ],
             [
              0.7777777777777778,
              "#fb9f3a"
             ],
             [
              0.8888888888888888,
              "#fdca26"
             ],
             [
              1,
              "#f0f921"
             ]
            ],
            "type": "histogram2dcontour"
           }
          ],
          "mesh3d": [
           {
            "colorbar": {
             "outlinewidth": 0,
             "ticks": ""
            },
            "type": "mesh3d"
           }
          ],
          "parcoords": [
           {
            "line": {
             "colorbar": {
              "outlinewidth": 0,
              "ticks": ""
             }
            },
            "type": "parcoords"
           }
          ],
          "pie": [
           {
            "automargin": true,
            "type": "pie"
           }
          ],
          "scatter": [
           {
            "fillpattern": {
             "fillmode": "overlay",
             "size": 10,
             "solidity": 0.2
            },
            "type": "scatter"
           }
          ],
          "scatter3d": [
           {
            "line": {
             "colorbar": {
              "outlinewidth": 0,
              "ticks": ""
             }
            },
            "marker": {
             "colorbar": {
              "outlinewidth": 0,
              "ticks": ""
             }
            },
            "type": "scatter3d"
           }
          ],
          "scattercarpet": [
           {
            "marker": {
             "colorbar": {
              "outlinewidth": 0,
              "ticks": ""
             }
            },
            "type": "scattercarpet"
           }
          ],
          "scattergeo": [
           {
            "marker": {
             "colorbar": {
              "outlinewidth": 0,
              "ticks": ""
             }
            },
            "type": "scattergeo"
           }
          ],
          "scattergl": [
           {
            "marker": {
             "colorbar": {
              "outlinewidth": 0,
              "ticks": ""
             }
            },
            "type": "scattergl"
           }
          ],
          "scattermapbox": [
           {
            "marker": {
             "colorbar": {
              "outlinewidth": 0,
              "ticks": ""
             }
            },
            "type": "scattermapbox"
           }
          ],
          "scatterpolar": [
           {
            "marker": {
             "colorbar": {
              "outlinewidth": 0,
              "ticks": ""
             }
            },
            "type": "scatterpolar"
           }
          ],
          "scatterpolargl": [
           {
            "marker": {
             "colorbar": {
              "outlinewidth": 0,
              "ticks": ""
             }
            },
            "type": "scatterpolargl"
           }
          ],
          "scatterternary": [
           {
            "marker": {
             "colorbar": {
              "outlinewidth": 0,
              "ticks": ""
             }
            },
            "type": "scatterternary"
           }
          ],
          "surface": [
           {
            "colorbar": {
             "outlinewidth": 0,
             "ticks": ""
            },
            "colorscale": [
             [
              0,
              "#0d0887"
             ],
             [
              0.1111111111111111,
              "#46039f"
             ],
             [
              0.2222222222222222,
              "#7201a8"
             ],
             [
              0.3333333333333333,
              "#9c179e"
             ],
             [
              0.4444444444444444,
              "#bd3786"
             ],
             [
              0.5555555555555556,
              "#d8576b"
             ],
             [
              0.6666666666666666,
              "#ed7953"
             ],
             [
              0.7777777777777778,
              "#fb9f3a"
             ],
             [
              0.8888888888888888,
              "#fdca26"
             ],
             [
              1,
              "#f0f921"
             ]
            ],
            "type": "surface"
           }
          ],
          "table": [
           {
            "cells": {
             "fill": {
              "color": "#EBF0F8"
             },
             "line": {
              "color": "white"
             }
            },
            "header": {
             "fill": {
              "color": "#C8D4E3"
             },
             "line": {
              "color": "white"
             }
            },
            "type": "table"
           }
          ]
         },
         "layout": {
          "annotationdefaults": {
           "arrowcolor": "#2a3f5f",
           "arrowhead": 0,
           "arrowwidth": 1
          },
          "autotypenumbers": "strict",
          "coloraxis": {
           "colorbar": {
            "outlinewidth": 0,
            "ticks": ""
           }
          },
          "colorscale": {
           "diverging": [
            [
             0,
             "#8e0152"
            ],
            [
             0.1,
             "#c51b7d"
            ],
            [
             0.2,
             "#de77ae"
            ],
            [
             0.3,
             "#f1b6da"
            ],
            [
             0.4,
             "#fde0ef"
            ],
            [
             0.5,
             "#f7f7f7"
            ],
            [
             0.6,
             "#e6f5d0"
            ],
            [
             0.7,
             "#b8e186"
            ],
            [
             0.8,
             "#7fbc41"
            ],
            [
             0.9,
             "#4d9221"
            ],
            [
             1,
             "#276419"
            ]
           ],
           "sequential": [
            [
             0,
             "#0d0887"
            ],
            [
             0.1111111111111111,
             "#46039f"
            ],
            [
             0.2222222222222222,
             "#7201a8"
            ],
            [
             0.3333333333333333,
             "#9c179e"
            ],
            [
             0.4444444444444444,
             "#bd3786"
            ],
            [
             0.5555555555555556,
             "#d8576b"
            ],
            [
             0.6666666666666666,
             "#ed7953"
            ],
            [
             0.7777777777777778,
             "#fb9f3a"
            ],
            [
             0.8888888888888888,
             "#fdca26"
            ],
            [
             1,
             "#f0f921"
            ]
           ],
           "sequentialminus": [
            [
             0,
             "#0d0887"
            ],
            [
             0.1111111111111111,
             "#46039f"
            ],
            [
             0.2222222222222222,
             "#7201a8"
            ],
            [
             0.3333333333333333,
             "#9c179e"
            ],
            [
             0.4444444444444444,
             "#bd3786"
            ],
            [
             0.5555555555555556,
             "#d8576b"
            ],
            [
             0.6666666666666666,
             "#ed7953"
            ],
            [
             0.7777777777777778,
             "#fb9f3a"
            ],
            [
             0.8888888888888888,
             "#fdca26"
            ],
            [
             1,
             "#f0f921"
            ]
           ]
          },
          "colorway": [
           "#636efa",
           "#EF553B",
           "#00cc96",
           "#ab63fa",
           "#FFA15A",
           "#19d3f3",
           "#FF6692",
           "#B6E880",
           "#FF97FF",
           "#FECB52"
          ],
          "font": {
           "color": "#2a3f5f"
          },
          "geo": {
           "bgcolor": "white",
           "lakecolor": "white",
           "landcolor": "#E5ECF6",
           "showlakes": true,
           "showland": true,
           "subunitcolor": "white"
          },
          "hoverlabel": {
           "align": "left"
          },
          "hovermode": "closest",
          "mapbox": {
           "style": "light"
          },
          "paper_bgcolor": "white",
          "plot_bgcolor": "#E5ECF6",
          "polar": {
           "angularaxis": {
            "gridcolor": "white",
            "linecolor": "white",
            "ticks": ""
           },
           "bgcolor": "#E5ECF6",
           "radialaxis": {
            "gridcolor": "white",
            "linecolor": "white",
            "ticks": ""
           }
          },
          "scene": {
           "xaxis": {
            "backgroundcolor": "#E5ECF6",
            "gridcolor": "white",
            "gridwidth": 2,
            "linecolor": "white",
            "showbackground": true,
            "ticks": "",
            "zerolinecolor": "white"
           },
           "yaxis": {
            "backgroundcolor": "#E5ECF6",
            "gridcolor": "white",
            "gridwidth": 2,
            "linecolor": "white",
            "showbackground": true,
            "ticks": "",
            "zerolinecolor": "white"
           },
           "zaxis": {
            "backgroundcolor": "#E5ECF6",
            "gridcolor": "white",
            "gridwidth": 2,
            "linecolor": "white",
            "showbackground": true,
            "ticks": "",
            "zerolinecolor": "white"
           }
          },
          "shapedefaults": {
           "line": {
            "color": "#2a3f5f"
           }
          },
          "ternary": {
           "aaxis": {
            "gridcolor": "white",
            "linecolor": "white",
            "ticks": ""
           },
           "baxis": {
            "gridcolor": "white",
            "linecolor": "white",
            "ticks": ""
           },
           "bgcolor": "#E5ECF6",
           "caxis": {
            "gridcolor": "white",
            "linecolor": "white",
            "ticks": ""
           }
          },
          "title": {
           "x": 0.05
          },
          "xaxis": {
           "automargin": true,
           "gridcolor": "white",
           "linecolor": "white",
           "ticks": "",
           "title": {
            "standoff": 15
           },
           "zerolinecolor": "white",
           "zerolinewidth": 2
          },
          "yaxis": {
           "automargin": true,
           "gridcolor": "white",
           "linecolor": "white",
           "ticks": "",
           "title": {
            "standoff": 15
           },
           "zerolinecolor": "white",
           "zerolinewidth": 2
          }
         }
        },
        "width": 1000,
        "xaxis": {
         "anchor": "y",
         "constrain": "domain",
         "domain": [
          0,
          1
         ],
         "scaleanchor": "y",
         "title": {
          "text": "Predicted Label"
         }
        },
        "yaxis": {
         "anchor": "x",
         "autorange": "reversed",
         "constrain": "domain",
         "domain": [
          0,
          1
         ],
         "title": {
          "text": "True Label"
         }
        }
       }
      }
     },
     "metadata": {},
     "output_type": "display_data"
    }
   ],
   "source": [
    "# fig = px.imshow(confusion_matrix(y_test, pipe_nn.predict(X_test['book_content'])),\n",
    "fig = px.imshow(confusion_matrix(y, pipe_nn.predict(X['book_content'])),\n",
    "                width=1000,\n",
    "                height=800,\n",
    "                text_auto=True,\n",
    "                labels=dict(x='Predicted Label',\n",
    "                            y='True Label'),\n",
    "                            x=select_authors,\n",
    "                            y=select_authors,\n",
    "                            color_continuous_scale='Teal'\n",
    "                            )\n",
    "\n",
    "fig.update(layout_coloraxis_showscale=False)\n",
    "\n",
    "fig.show()"
   ]
  },
  {
   "cell_type": "code",
   "execution_count": 61,
   "metadata": {},
   "outputs": [],
   "source": [
    "#pipe_nn['vect'].vocabulary_['seneca']"
   ]
  },
  {
   "attachments": {},
   "cell_type": "markdown",
   "metadata": {},
   "source": [
    "## Encoding and lower-dimensional representation of the NN\n",
    "\n",
    "With a trained model, using embeddings to find similarities between books and authors."
   ]
  },
  {
   "cell_type": "code",
   "execution_count": 118,
   "metadata": {},
   "outputs": [],
   "source": [
    "# have to use the regressor because classifiers thinks we're expecting int results, even if we chop it off before final step!\n",
    "# :2 and layers = 3 if I use two hidden layers with nn; for one, reduce those by 1\n",
    "encoder = MLPRegressor()\n",
    "encoder.coefs_ = pipe_nn['nn'].coefs_[:2]\n",
    "encoder.intercepts_ = pipe_nn['nn'].intercepts_[:2]\n",
    "encoder.n_layers_ = 3\n",
    "encoder.out_activation_ = 'relu'"
   ]
  },
  {
   "cell_type": "code",
   "execution_count": 119,
   "metadata": {},
   "outputs": [],
   "source": [
    "# copy the pipeline\n",
    "pipe_nn_encoder = deepcopy(pipe_nn)\n",
    "\n",
    "# remove the classifier\n",
    "pipe_nn_encoder.steps.pop(2)\n",
    "\n",
    "# append the new encoder (essentially, it contains all layers minus the final one)\n",
    "pipe_nn_encoder.steps.append(['enc', encoder])"
   ]
  },
  {
   "cell_type": "code",
   "execution_count": 120,
   "metadata": {},
   "outputs": [],
   "source": [
    "# now using predict from the encoder to get the 100-dimensional projection of the top six authors\n",
    "nn_represent = pipe_nn_encoder.predict(library_select['book_content'])"
   ]
  },
  {
   "cell_type": "code",
   "execution_count": 156,
   "metadata": {},
   "outputs": [
    {
     "data": {
      "text/plain": [
       "['../models/pipe_nn_encoder_03.joblib']"
      ]
     },
     "execution_count": 156,
     "metadata": {},
     "output_type": "execute_result"
    }
   ],
   "source": [
    "# to save the encoder\n",
    "# had more models but removed after fixing index\n",
    "# dump(pipe_nn_encoder, '../models/pipe_nn_encoder_03.joblib') # limited to 50 books"
   ]
  },
  {
   "attachments": {},
   "cell_type": "markdown",
   "metadata": {},
   "source": [
    "Finally, adding to that, the reduced 2D representation using UMAP."
   ]
  },
  {
   "cell_type": "code",
   "execution_count": 122,
   "metadata": {},
   "outputs": [],
   "source": [
    "umap_mnist = umap.UMAP(metric='euclidean', random_state=42) #metric = 'cosine'\n",
    "umap_mnist.fit(nn_represent)\n",
    "\n",
    "umap_projection = umap_mnist.transform(nn_represent)"
   ]
  },
  {
   "cell_type": "code",
   "execution_count": 155,
   "metadata": {},
   "outputs": [
    {
     "data": {
      "text/plain": [
       "['../models/umap_mnist_03.joblib']"
      ]
     },
     "execution_count": 155,
     "metadata": {},
     "output_type": "execute_result"
    }
   ],
   "source": [
    "# to save the umap representation\n",
    "# had more models but removed after removing index books\n",
    "# dump(umap_mnist, '../models/umap_mnist_03.joblib')"
   ]
  },
  {
   "cell_type": "code",
   "execution_count": 123,
   "metadata": {},
   "outputs": [],
   "source": [
    "# convert the 100 dimensional vector of neuron weights into dataframe\n",
    "library_select_represent = pd.DataFrame(nn_represent, columns=[f'dim_{x}' for x in range(100)])\n",
    "\n",
    "# and also the 2d representation\n",
    "library_select_proj = pd.DataFrame(umap_projection, columns=[f'proj_{x}' for x in range(2)])\n",
    "\n",
    "# concatenate together with some info from the original df. at this point, for this notebook won't be needing the book texts anymore\n",
    "# I'll create a new notebook for NN from a different package\n",
    "library_select = pd.concat([\n",
    "    library_select[['id','title','author','authorcentury']],\n",
    "    library_select_proj.set_index(library_select.index),\n",
    "    library_select_represent.set_index(library_select.index)],\n",
    "    axis=1)"
   ]
  },
  {
   "cell_type": "code",
   "execution_count": 124,
   "metadata": {},
   "outputs": [
    {
     "data": {
      "image/png": "[encoded data removed]",
      "text/plain": [
       "<Figure size 1600x800 with 1 Axes>"
      ]
     },
     "metadata": {},
     "output_type": "display_data"
    }
   ],
   "source": [
    "# # old code:\n",
    "# sns.scatterplot(x=umap_projection[:,0], y=umap_projection[:,1], \n",
    "#                 hue = library_select.replace({'author': num_to_authors})['author'].astype('category'),\n",
    "#                alpha = 0.7);\n",
    "\n",
    "plt.figure(figsize = (16,8))\n",
    "sns.scatterplot(data=library_select, x='proj_0', y='proj_1', \n",
    "                hue = 'author',\n",
    "               alpha = 0.7);"
   ]
  },
  {
   "cell_type": "code",
   "execution_count": 125,
   "metadata": {},
   "outputs": [
    {
     "data": {
      "text/plain": [
       "array([ 1., 14., 13., -6., 16., 19., 18., 15., -1., -4., 20., -7., 17.])"
      ]
     },
     "execution_count": 125,
     "metadata": {},
     "output_type": "execute_result"
    }
   ],
   "source": [
    "library_select['authorcentury'].unique()"
   ]
  },
  {
   "cell_type": "code",
   "execution_count": 126,
   "metadata": {},
   "outputs": [],
   "source": [
    "def annotate_century(num_century):\n",
    "\n",
    "    if np.isnan(num_century):\n",
    "        return 'unknown'\n",
    "    elif int(num_century) < 0 :\n",
    "        ctry = ' century BCE'\n",
    "        num_century = abs(int(num_century))\n",
    "    else:\n",
    "        num_century = int(num_century)\n",
    "        ctry = ' century CE'\n",
    "\n",
    "\n",
    "    # determine ordinal numbering\n",
    "    if (num_century % 10 == 1) and (num_century % 100 != 11):\n",
    "        ordinal_century = str(num_century) + 'st'\n",
    "\n",
    "    elif (num_century % 10 == 2) and (num_century % 100 != 12):\n",
    "        ordinal_century = str(num_century) + 'nd'\n",
    "\n",
    "    elif (num_century % 10 == 3) and (num_century % 100 != 13):\n",
    "        ordinal_century = str(num_century) + 'rd'\n",
    "        \n",
    "    else:\n",
    "        ordinal_century = str(num_century) + 'th'\n",
    "\n",
    "    return ordinal_century + ctry"
   ]
  },
  {
   "cell_type": "code",
   "execution_count": 127,
   "metadata": {},
   "outputs": [],
   "source": [
    "library_select['authorcentury'] = library_select['authorcentury'].apply(annotate_century)"
   ]
  },
  {
   "cell_type": "code",
   "execution_count": 128,
   "metadata": {},
   "outputs": [
    {
     "data": {
      "image/png": "[encoded data removed]",
      "text/plain": [
       "<Figure size 1600x800 with 1 Axes>"
      ]
     },
     "metadata": {},
     "output_type": "display_data"
    }
   ],
   "source": [
    "plt.figure(figsize = (16,8))\n",
    "sns.scatterplot(data=library_select, x='proj_0', y='proj_1', \n",
    "                hue = library_select['authorcentury'].astype('category'),\n",
    "               alpha = 0.7);"
   ]
  },
  {
   "cell_type": "code",
   "execution_count": 129,
   "metadata": {},
   "outputs": [],
   "source": [
    "# make a copy -- personal note: important to use copy!! otherwise, it's just a view of the original dataframe \n",
    "# and that gives warnings in the following two parts\n",
    "library_2d_dist = library_select[['author', 'proj_0', 'proj_1']].copy()\n",
    "\n",
    "# calculate the mean point for each author\n",
    "library_2d_dist[['proj_0_mean', 'proj_1_mean']] = library_2d_dist.groupby('author')[['proj_0', 'proj_1']].transform('mean')\n",
    "\n",
    "# get the distance between each point and the mean for that author\n",
    "library_2d_dist['dist_mean'] = np.sqrt((library_2d_dist['proj_0'] - library_2d_dist['proj_0_mean'])**2 + (library_2d_dist['proj_1'] - library_2d_dist['proj_1_mean'])**2)\n",
    "\n"
   ]
  },
  {
   "cell_type": "code",
   "execution_count": 130,
   "metadata": {},
   "outputs": [
    {
     "data": {
      "text/html": [
       "<div>\n",
       "<style scoped>\n",
       "    .dataframe tbody tr th:only-of-type {\n",
       "        vertical-align: middle;\n",
       "    }\n",
       "\n",
       "    .dataframe tbody tr th {\n",
       "        vertical-align: top;\n",
       "    }\n",
       "\n",
       "    .dataframe thead th {\n",
       "        text-align: right;\n",
       "    }\n",
       "</style>\n",
       "<table border=\"1\" class=\"dataframe\">\n",
       "  <thead>\n",
       "    <tr style=\"text-align: right;\">\n",
       "      <th></th>\n",
       "      <th>author</th>\n",
       "      <th>proj_0</th>\n",
       "      <th>proj_1</th>\n",
       "      <th>proj_0_mean</th>\n",
       "      <th>proj_1_mean</th>\n",
       "      <th>dist_mean</th>\n",
       "    </tr>\n",
       "  </thead>\n",
       "  <tbody>\n",
       "    <tr>\n",
       "      <th>1</th>\n",
       "      <td>Seneca, Lucius Annaeus</td>\n",
       "      <td>0.341087</td>\n",
       "      <td>7.504612</td>\n",
       "      <td>4.054029</td>\n",
       "      <td>6.590795</td>\n",
       "      <td>3.823741</td>\n",
       "    </tr>\n",
       "    <tr>\n",
       "      <th>6</th>\n",
       "      <td>Boccaccio, Giovanni</td>\n",
       "      <td>0.731385</td>\n",
       "      <td>6.641508</td>\n",
       "      <td>6.350420</td>\n",
       "      <td>5.916668</td>\n",
       "      <td>5.665594</td>\n",
       "    </tr>\n",
       "    <tr>\n",
       "      <th>21</th>\n",
       "      <td>Dante Alighieri</td>\n",
       "      <td>-2.117224</td>\n",
       "      <td>8.069773</td>\n",
       "      <td>-1.407823</td>\n",
       "      <td>8.055952</td>\n",
       "      <td>0.709536</td>\n",
       "    </tr>\n",
       "    <tr>\n",
       "      <th>32</th>\n",
       "      <td>Dante Alighieri</td>\n",
       "      <td>-2.025381</td>\n",
       "      <td>8.063017</td>\n",
       "      <td>-1.407823</td>\n",
       "      <td>8.055952</td>\n",
       "      <td>0.617599</td>\n",
       "    </tr>\n",
       "    <tr>\n",
       "      <th>43</th>\n",
       "      <td>Dante Alighieri</td>\n",
       "      <td>-2.038937</td>\n",
       "      <td>8.118197</td>\n",
       "      <td>-1.407823</td>\n",
       "      <td>8.055952</td>\n",
       "      <td>0.634176</td>\n",
       "    </tr>\n",
       "    <tr>\n",
       "      <th>...</th>\n",
       "      <td>...</td>\n",
       "      <td>...</td>\n",
       "      <td>...</td>\n",
       "      <td>...</td>\n",
       "      <td>...</td>\n",
       "      <td>...</td>\n",
       "    </tr>\n",
       "    <tr>\n",
       "      <th>70047</th>\n",
       "      <td>Dickens, Charles</td>\n",
       "      <td>-1.623928</td>\n",
       "      <td>4.650191</td>\n",
       "      <td>-1.079027</td>\n",
       "      <td>4.983766</td>\n",
       "      <td>0.638897</td>\n",
       "    </tr>\n",
       "    <tr>\n",
       "      <th>70069</th>\n",
       "      <td>Dumas, Alexandre</td>\n",
       "      <td>3.711233</td>\n",
       "      <td>0.078129</td>\n",
       "      <td>3.791519</td>\n",
       "      <td>-0.393924</td>\n",
       "      <td>0.478832</td>\n",
       "    </tr>\n",
       "    <tr>\n",
       "      <th>70091</th>\n",
       "      <td>Dickens, Charles</td>\n",
       "      <td>-1.135691</td>\n",
       "      <td>4.917113</td>\n",
       "      <td>-1.079027</td>\n",
       "      <td>4.983766</td>\n",
       "      <td>0.087484</td>\n",
       "    </tr>\n",
       "    <tr>\n",
       "      <th>70102</th>\n",
       "      <td>Dickens, Charles</td>\n",
       "      <td>-1.162004</td>\n",
       "      <td>4.905641</td>\n",
       "      <td>-1.079027</td>\n",
       "      <td>4.983766</td>\n",
       "      <td>0.113968</td>\n",
       "    </tr>\n",
       "    <tr>\n",
       "      <th>70269</th>\n",
       "      <td>Defoe, Daniel</td>\n",
       "      <td>2.255973</td>\n",
       "      <td>8.974564</td>\n",
       "      <td>2.039897</td>\n",
       "      <td>8.698028</td>\n",
       "      <td>0.350943</td>\n",
       "    </tr>\n",
       "  </tbody>\n",
       "</table>\n",
       "<p>527 rows × 6 columns</p>\n",
       "</div>"
      ],
      "text/plain": [
       "                       author    proj_0    proj_1  proj_0_mean  proj_1_mean  \\\n",
       "1      Seneca, Lucius Annaeus  0.341087  7.504612     4.054029     6.590795   \n",
       "6         Boccaccio, Giovanni  0.731385  6.641508     6.350420     5.916668   \n",
       "21            Dante Alighieri -2.117224  8.069773    -1.407823     8.055952   \n",
       "32            Dante Alighieri -2.025381  8.063017    -1.407823     8.055952   \n",
       "43            Dante Alighieri -2.038937  8.118197    -1.407823     8.055952   \n",
       "...                       ...       ...       ...          ...          ...   \n",
       "70047        Dickens, Charles -1.623928  4.650191    -1.079027     4.983766   \n",
       "70069        Dumas, Alexandre  3.711233  0.078129     3.791519    -0.393924   \n",
       "70091        Dickens, Charles -1.135691  4.917113    -1.079027     4.983766   \n",
       "70102        Dickens, Charles -1.162004  4.905641    -1.079027     4.983766   \n",
       "70269           Defoe, Daniel  2.255973  8.974564     2.039897     8.698028   \n",
       "\n",
       "       dist_mean  \n",
       "1       3.823741  \n",
       "6       5.665594  \n",
       "21      0.709536  \n",
       "32      0.617599  \n",
       "43      0.634176  \n",
       "...          ...  \n",
       "70047   0.638897  \n",
       "70069   0.478832  \n",
       "70091   0.087484  \n",
       "70102   0.113968  \n",
       "70269   0.350943  \n",
       "\n",
       "[527 rows x 6 columns]"
      ]
     },
     "execution_count": 130,
     "metadata": {},
     "output_type": "execute_result"
    }
   ],
   "source": [
    "library_2d_dist"
   ]
  },
  {
   "cell_type": "code",
   "execution_count": 131,
   "metadata": {},
   "outputs": [
    {
     "data": {
      "text/plain": [
       "count    527.000000\n",
       "mean       0.632822\n",
       "std        0.796844\n",
       "min        0.009917\n",
       "25%        0.258387\n",
       "50%        0.472956\n",
       "75%        0.709838\n",
       "max        7.896203\n",
       "Name: dist_mean, dtype: float64"
      ]
     },
     "execution_count": 131,
     "metadata": {},
     "output_type": "execute_result"
    }
   ],
   "source": [
    "library_2d_dist['dist_mean'].describe()"
   ]
  },
  {
   "cell_type": "code",
   "execution_count": 132,
   "metadata": {},
   "outputs": [],
   "source": [
    "dist2d_mean = library_2d_dist['dist_mean'].mean()"
   ]
  },
  {
   "cell_type": "code",
   "execution_count": 160,
   "metadata": {},
   "outputs": [],
   "source": [
    "# saving for streamlit\n",
    "# library_select.to_pickle('../data/library_distances03.pkl')"
   ]
  },
  {
   "attachments": {},
   "cell_type": "markdown",
   "metadata": {},
   "source": [
    "## Similarity using spatial distance in 100 dimension\n",
    "\n",
    "Another way to look at the produced weights and which ones are similar"
   ]
  },
  {
   "attachments": {},
   "cell_type": "markdown",
   "metadata": {},
   "source": [
    "Calculating cosine similarity (using dim_0 to dim_99 cols) - for a first attempt, group it by author."
   ]
  },
  {
   "cell_type": "code",
   "execution_count": 133,
   "metadata": {},
   "outputs": [],
   "source": [
    "# idea use this to transpose and then see the dist from each book to this point?\n",
    "library_select_grouped = library_select.drop(columns=['id','title','authorcentury','proj_0','proj_1']).groupby('author').mean()"
   ]
  },
  {
   "cell_type": "code",
   "execution_count": 134,
   "metadata": {},
   "outputs": [],
   "source": [
    "dists = spatial.distance.pdist(library_select_grouped.values, metric='euclidean') # metric='cosine'"
   ]
  },
  {
   "cell_type": "code",
   "execution_count": 135,
   "metadata": {},
   "outputs": [
    {
     "data": {
      "image/png": "[encoded data removed]",
      "text/plain": [
       "<Figure size 1200x800 with 1 Axes>"
      ]
     },
     "metadata": {},
     "output_type": "display_data"
    }
   ],
   "source": [
    "mergings = linkage(dists, method='complete')\n",
    "\n",
    "plt.figure(figsize = (12,8))\n",
    "dendrogram(mergings,\n",
    "           labels = list(library_select_grouped.index),\n",
    "           leaf_rotation = 90,\n",
    "           leaf_font_size = 6);\n",
    "\n",
    "plt.tight_layout()"
   ]
  },
  {
   "cell_type": "code",
   "execution_count": 136,
   "metadata": {},
   "outputs": [],
   "source": [
    "# before I realized to use this approach, I first concatenated all the texts in the pandas series which returns an extremely long string\n",
    "# I then turn that string into a pandas series (the predict requires an iterable object)\n",
    "# pipe_nn.predict(pd.Series(library_select.loc[library_select['author'] == 0]['book_content'].str.cat()))"
   ]
  },
  {
   "attachments": {},
   "cell_type": "markdown",
   "metadata": {},
   "source": [
    "## Introducing New Text\n",
    "\n",
    "This part will ideally be in an app where any text can be uploaded"
   ]
  },
  {
   "attachments": {},
   "cell_type": "markdown",
   "metadata": {},
   "source": [
    "Here I will test it with two books I've written."
   ]
  },
  {
   "cell_type": "code",
   "execution_count": 137,
   "metadata": {},
   "outputs": [],
   "source": [
    "# if the model was not run above, this is where we load the encoder and the umamp_mnist\n",
    "# pipe_nn_encoder = load('../models/pipe_nn_encoder_02.joblib') \n",
    "# umap_mnist = load('../models/umap_mnist_02.joblib')"
   ]
  },
  {
   "cell_type": "code",
   "execution_count": 138,
   "metadata": {},
   "outputs": [],
   "source": [
    "newtext = pd.DataFrame()\n",
    "\n",
    "for book_num, book_name in enumerate(['Lambda', 'Deathway']):\n",
    "        filepath = f'../data/{book_name} by Tomo Umer.txt'\n",
    "\n",
    "        with open(filepath, encoding = 'utf-8') as fi:\n",
    "                book = fi.read()\n",
    "        \n",
    "        tmp_text = pd.DataFrame({'id': f'TU{str(book_num).zfill(3)}',\n",
    "                                 'title': [book_name],\n",
    "                                 'author': 'Umer, Tomo',\n",
    "                                 'authorcentury': 21,\n",
    "                                 'book_content': [book]})\n",
    "\n",
    "        newtext = pd.concat([newtext, tmp_text], ignore_index = True)"
   ]
  },
  {
   "cell_type": "code",
   "execution_count": 139,
   "metadata": {},
   "outputs": [
    {
     "data": {
      "text/html": [
       "<div>\n",
       "<style scoped>\n",
       "    .dataframe tbody tr th:only-of-type {\n",
       "        vertical-align: middle;\n",
       "    }\n",
       "\n",
       "    .dataframe tbody tr th {\n",
       "        vertical-align: top;\n",
       "    }\n",
       "\n",
       "    .dataframe thead th {\n",
       "        text-align: right;\n",
       "    }\n",
       "</style>\n",
       "<table border=\"1\" class=\"dataframe\">\n",
       "  <thead>\n",
       "    <tr style=\"text-align: right;\">\n",
       "      <th></th>\n",
       "      <th>id</th>\n",
       "      <th>title</th>\n",
       "      <th>author</th>\n",
       "      <th>authorcentury</th>\n",
       "      <th>book_content</th>\n",
       "    </tr>\n",
       "  </thead>\n",
       "  <tbody>\n",
       "    <tr>\n",
       "      <th>0</th>\n",
       "      <td>TU000</td>\n",
       "      <td>Lambda</td>\n",
       "      <td>Umer, Tomo</td>\n",
       "      <td>21</td>\n",
       "      <td>Lambda\\n\\n\\n\\n\\n\\n\\n\\n\\n\\n\\n\\n\\n\\n\\n\\n\\n\\n\\n\\n...</td>\n",
       "    </tr>\n",
       "    <tr>\n",
       "      <th>1</th>\n",
       "      <td>TU001</td>\n",
       "      <td>Deathway</td>\n",
       "      <td>Umer, Tomo</td>\n",
       "      <td>21</td>\n",
       "      <td>DeathwayIndex\\nIntroduction\\nMy second novel! ...</td>\n",
       "    </tr>\n",
       "  </tbody>\n",
       "</table>\n",
       "</div>"
      ],
      "text/plain": [
       "      id     title      author  authorcentury  \\\n",
       "0  TU000    Lambda  Umer, Tomo             21   \n",
       "1  TU001  Deathway  Umer, Tomo             21   \n",
       "\n",
       "                                        book_content  \n",
       "0  Lambda\\n\\n\\n\\n\\n\\n\\n\\n\\n\\n\\n\\n\\n\\n\\n\\n\\n\\n\\n\\n...  \n",
       "1  DeathwayIndex\\nIntroduction\\nMy second novel! ...  "
      ]
     },
     "execution_count": 139,
     "metadata": {},
     "output_type": "execute_result"
    }
   ],
   "source": [
    "newtext"
   ]
  },
  {
   "cell_type": "code",
   "execution_count": 140,
   "metadata": {},
   "outputs": [],
   "source": [
    "newtext['authorcentury'] = newtext['authorcentury'].apply(annotate_century)"
   ]
  },
  {
   "attachments": {},
   "cell_type": "markdown",
   "metadata": {},
   "source": [
    "As a reminder (to myself), in order to convert the new texts, we only need predict and transform methods"
   ]
  },
  {
   "cell_type": "code",
   "execution_count": 141,
   "metadata": {},
   "outputs": [],
   "source": [
    "# now using predict from the encoder to get the 100-dimensional projection of new text\n",
    "nn_represent_newtext = pipe_nn_encoder.predict(newtext['book_content'])\n",
    "\n",
    "# and its 2d representation using umap\n",
    "umap_projection_newtext = umap_mnist.transform(nn_represent_newtext)"
   ]
  },
  {
   "cell_type": "code",
   "execution_count": 142,
   "metadata": {},
   "outputs": [],
   "source": [
    "# and then just like with the authors, convert new texts into a dataframe\n",
    "# convert the 100 dimensional vector of neuron weights into dataframe\n",
    "newtxt_represent = pd.DataFrame(nn_represent_newtext, columns=[f'dim_{x}' for x in range(100)])\n",
    "\n",
    "# and also the 2d representation\n",
    "newtxt_proj = pd.DataFrame(umap_projection_newtext, columns=[f'proj_{x}' for x in range(2)])\n",
    "\n",
    "# concatenate together with some info from the original df. at this point, for this notebook won't be needing the book texts anymore\n",
    "# I'll create a new notebook for NN from a different package\n",
    "newtext = pd.concat([\n",
    "    newtext[['id','title','author','authorcentury']],\n",
    "    newtxt_proj.set_index(newtext.index),\n",
    "    newtxt_represent.set_index(newtext.index)],\n",
    "    axis=1)"
   ]
  },
  {
   "attachments": {},
   "cell_type": "markdown",
   "metadata": {},
   "source": [
    "Then, use the median 0.549409 (or possibly mean 0.721832) value to get a circle around the new texts - to visually represent similar books."
   ]
  },
  {
   "cell_type": "code",
   "execution_count": 143,
   "metadata": {},
   "outputs": [],
   "source": [
    "circle_edges = newtext[['proj_0', 'proj_1']].copy()"
   ]
  },
  {
   "cell_type": "code",
   "execution_count": 144,
   "metadata": {},
   "outputs": [],
   "source": [
    "circle_edges['x0'] = circle_edges['proj_0'] - dist2d_mean\n",
    "circle_edges['x1'] = circle_edges['proj_0'] + dist2d_mean\n",
    "circle_edges['y0'] = circle_edges['proj_1'] - dist2d_mean\n",
    "circle_edges['y1'] = circle_edges['proj_1'] + dist2d_mean"
   ]
  },
  {
   "cell_type": "code",
   "execution_count": 145,
   "metadata": {},
   "outputs": [
    {
     "data": {
      "text/html": [
       "<div>\n",
       "<style scoped>\n",
       "    .dataframe tbody tr th:only-of-type {\n",
       "        vertical-align: middle;\n",
       "    }\n",
       "\n",
       "    .dataframe tbody tr th {\n",
       "        vertical-align: top;\n",
       "    }\n",
       "\n",
       "    .dataframe thead th {\n",
       "        text-align: right;\n",
       "    }\n",
       "</style>\n",
       "<table border=\"1\" class=\"dataframe\">\n",
       "  <thead>\n",
       "    <tr style=\"text-align: right;\">\n",
       "      <th></th>\n",
       "      <th>proj_0</th>\n",
       "      <th>proj_1</th>\n",
       "      <th>x0</th>\n",
       "      <th>x1</th>\n",
       "      <th>y0</th>\n",
       "      <th>y1</th>\n",
       "    </tr>\n",
       "  </thead>\n",
       "  <tbody>\n",
       "    <tr>\n",
       "      <th>0</th>\n",
       "      <td>-0.400603</td>\n",
       "      <td>6.448742</td>\n",
       "      <td>-1.033425</td>\n",
       "      <td>0.232219</td>\n",
       "      <td>5.81592</td>\n",
       "      <td>7.081564</td>\n",
       "    </tr>\n",
       "    <tr>\n",
       "      <th>1</th>\n",
       "      <td>-0.040725</td>\n",
       "      <td>7.594652</td>\n",
       "      <td>-0.673546</td>\n",
       "      <td>0.592097</td>\n",
       "      <td>6.96183</td>\n",
       "      <td>8.227474</td>\n",
       "    </tr>\n",
       "  </tbody>\n",
       "</table>\n",
       "</div>"
      ],
      "text/plain": [
       "     proj_0    proj_1        x0        x1       y0        y1\n",
       "0 -0.400603  6.448742 -1.033425  0.232219  5.81592  7.081564\n",
       "1 -0.040725  7.594652 -0.673546  0.592097  6.96183  8.227474"
      ]
     },
     "execution_count": 145,
     "metadata": {},
     "output_type": "execute_result"
    }
   ],
   "source": [
    "circle_edges"
   ]
  },
  {
   "attachments": {},
   "cell_type": "markdown",
   "metadata": {},
   "source": [
    "Finally, simply add the new text to the library."
   ]
  },
  {
   "cell_type": "code",
   "execution_count": 146,
   "metadata": {},
   "outputs": [],
   "source": [
    "library_newtext = pd.concat([library_select, newtext])"
   ]
  },
  {
   "cell_type": "code",
   "execution_count": 159,
   "metadata": {},
   "outputs": [
    {
     "data": {
      "text/html": [
       "<div>\n",
       "<style scoped>\n",
       "    .dataframe tbody tr th:only-of-type {\n",
       "        vertical-align: middle;\n",
       "    }\n",
       "\n",
       "    .dataframe tbody tr th {\n",
       "        vertical-align: top;\n",
       "    }\n",
       "\n",
       "    .dataframe thead th {\n",
       "        text-align: right;\n",
       "    }\n",
       "</style>\n",
       "<table border=\"1\" class=\"dataframe\">\n",
       "  <thead>\n",
       "    <tr style=\"text-align: right;\">\n",
       "      <th></th>\n",
       "      <th>id</th>\n",
       "      <th>title</th>\n",
       "      <th>author</th>\n",
       "      <th>authorcentury</th>\n",
       "      <th>proj_0</th>\n",
       "      <th>proj_1</th>\n",
       "      <th>dim_0</th>\n",
       "      <th>dim_1</th>\n",
       "      <th>dim_2</th>\n",
       "      <th>dim_3</th>\n",
       "      <th>...</th>\n",
       "      <th>dim_90</th>\n",
       "      <th>dim_91</th>\n",
       "      <th>dim_92</th>\n",
       "      <th>dim_93</th>\n",
       "      <th>dim_94</th>\n",
       "      <th>dim_95</th>\n",
       "      <th>dim_96</th>\n",
       "      <th>dim_97</th>\n",
       "      <th>dim_98</th>\n",
       "      <th>dim_99</th>\n",
       "    </tr>\n",
       "  </thead>\n",
       "  <tbody>\n",
       "    <tr>\n",
       "      <th>1</th>\n",
       "      <td>PG10001</td>\n",
       "      <td>Apocolocyntosis</td>\n",
       "      <td>Seneca, Lucius Annaeus</td>\n",
       "      <td>1st century CE</td>\n",
       "      <td>0.341087</td>\n",
       "      <td>7.504612</td>\n",
       "      <td>0.000000</td>\n",
       "      <td>0.172768</td>\n",
       "      <td>0.000000</td>\n",
       "      <td>0.000000</td>\n",
       "      <td>...</td>\n",
       "      <td>0.000000</td>\n",
       "      <td>0.0</td>\n",
       "      <td>0.0</td>\n",
       "      <td>0.000000</td>\n",
       "      <td>0.000000</td>\n",
       "      <td>0.000000</td>\n",
       "      <td>0.0</td>\n",
       "      <td>0.000000</td>\n",
       "      <td>2.015828</td>\n",
       "      <td>0.0</td>\n",
       "    </tr>\n",
       "    <tr>\n",
       "      <th>6</th>\n",
       "      <td>PG10006</td>\n",
       "      <td>La Fiammetta</td>\n",
       "      <td>Boccaccio, Giovanni</td>\n",
       "      <td>14th century CE</td>\n",
       "      <td>0.731385</td>\n",
       "      <td>6.641508</td>\n",
       "      <td>0.000000</td>\n",
       "      <td>26.675292</td>\n",
       "      <td>0.000000</td>\n",
       "      <td>0.000000</td>\n",
       "      <td>...</td>\n",
       "      <td>0.000000</td>\n",
       "      <td>0.0</td>\n",
       "      <td>0.0</td>\n",
       "      <td>0.000000</td>\n",
       "      <td>0.000000</td>\n",
       "      <td>5.266607</td>\n",
       "      <td>0.0</td>\n",
       "      <td>0.000000</td>\n",
       "      <td>30.830320</td>\n",
       "      <td>0.0</td>\n",
       "    </tr>\n",
       "    <tr>\n",
       "      <th>21</th>\n",
       "      <td>PG1001</td>\n",
       "      <td>Divine Comedy, Longfellow's Translation, Hell</td>\n",
       "      <td>Dante Alighieri</td>\n",
       "      <td>13th century CE</td>\n",
       "      <td>-2.117224</td>\n",
       "      <td>8.069773</td>\n",
       "      <td>5.695845</td>\n",
       "      <td>67.413897</td>\n",
       "      <td>27.010003</td>\n",
       "      <td>4.257423</td>\n",
       "      <td>...</td>\n",
       "      <td>0.000000</td>\n",
       "      <td>0.0</td>\n",
       "      <td>0.0</td>\n",
       "      <td>73.257184</td>\n",
       "      <td>6.990658</td>\n",
       "      <td>0.000000</td>\n",
       "      <td>0.0</td>\n",
       "      <td>29.184648</td>\n",
       "      <td>0.000000</td>\n",
       "      <td>0.0</td>\n",
       "    </tr>\n",
       "    <tr>\n",
       "      <th>32</th>\n",
       "      <td>PG1002</td>\n",
       "      <td>Divine Comedy, Longfellow's Translation, Purga...</td>\n",
       "      <td>Dante Alighieri</td>\n",
       "      <td>13th century CE</td>\n",
       "      <td>-2.025381</td>\n",
       "      <td>8.063017</td>\n",
       "      <td>0.000000</td>\n",
       "      <td>44.180203</td>\n",
       "      <td>13.047978</td>\n",
       "      <td>4.547096</td>\n",
       "      <td>...</td>\n",
       "      <td>0.090745</td>\n",
       "      <td>0.0</td>\n",
       "      <td>0.0</td>\n",
       "      <td>60.451609</td>\n",
       "      <td>3.570173</td>\n",
       "      <td>0.000000</td>\n",
       "      <td>0.0</td>\n",
       "      <td>4.251407</td>\n",
       "      <td>0.000000</td>\n",
       "      <td>0.0</td>\n",
       "    </tr>\n",
       "    <tr>\n",
       "      <th>43</th>\n",
       "      <td>PG1003</td>\n",
       "      <td>Divine Comedy, Longfellow's Translation, Paradise</td>\n",
       "      <td>Dante Alighieri</td>\n",
       "      <td>13th century CE</td>\n",
       "      <td>-2.038937</td>\n",
       "      <td>8.118197</td>\n",
       "      <td>0.000000</td>\n",
       "      <td>46.604582</td>\n",
       "      <td>10.856912</td>\n",
       "      <td>9.804582</td>\n",
       "      <td>...</td>\n",
       "      <td>9.397581</td>\n",
       "      <td>0.0</td>\n",
       "      <td>0.0</td>\n",
       "      <td>54.962311</td>\n",
       "      <td>13.968932</td>\n",
       "      <td>0.000000</td>\n",
       "      <td>0.0</td>\n",
       "      <td>19.654189</td>\n",
       "      <td>0.000000</td>\n",
       "      <td>0.0</td>\n",
       "    </tr>\n",
       "  </tbody>\n",
       "</table>\n",
       "<p>5 rows × 106 columns</p>\n",
       "</div>"
      ],
      "text/plain": [
       "         id                                              title  \\\n",
       "1   PG10001                                    Apocolocyntosis   \n",
       "6   PG10006                                       La Fiammetta   \n",
       "21   PG1001      Divine Comedy, Longfellow's Translation, Hell   \n",
       "32   PG1002  Divine Comedy, Longfellow's Translation, Purga...   \n",
       "43   PG1003  Divine Comedy, Longfellow's Translation, Paradise   \n",
       "\n",
       "                    author    authorcentury    proj_0    proj_1     dim_0  \\\n",
       "1   Seneca, Lucius Annaeus   1st century CE  0.341087  7.504612  0.000000   \n",
       "6      Boccaccio, Giovanni  14th century CE  0.731385  6.641508  0.000000   \n",
       "21         Dante Alighieri  13th century CE -2.117224  8.069773  5.695845   \n",
       "32         Dante Alighieri  13th century CE -2.025381  8.063017  0.000000   \n",
       "43         Dante Alighieri  13th century CE -2.038937  8.118197  0.000000   \n",
       "\n",
       "        dim_1      dim_2     dim_3  ...    dim_90  dim_91  dim_92     dim_93  \\\n",
       "1    0.172768   0.000000  0.000000  ...  0.000000     0.0     0.0   0.000000   \n",
       "6   26.675292   0.000000  0.000000  ...  0.000000     0.0     0.0   0.000000   \n",
       "21  67.413897  27.010003  4.257423  ...  0.000000     0.0     0.0  73.257184   \n",
       "32  44.180203  13.047978  4.547096  ...  0.090745     0.0     0.0  60.451609   \n",
       "43  46.604582  10.856912  9.804582  ...  9.397581     0.0     0.0  54.962311   \n",
       "\n",
       "       dim_94    dim_95  dim_96     dim_97     dim_98  dim_99  \n",
       "1    0.000000  0.000000     0.0   0.000000   2.015828     0.0  \n",
       "6    0.000000  5.266607     0.0   0.000000  30.830320     0.0  \n",
       "21   6.990658  0.000000     0.0  29.184648   0.000000     0.0  \n",
       "32   3.570173  0.000000     0.0   4.251407   0.000000     0.0  \n",
       "43  13.968932  0.000000     0.0  19.654189   0.000000     0.0  \n",
       "\n",
       "[5 rows x 106 columns]"
      ]
     },
     "execution_count": 159,
     "metadata": {},
     "output_type": "execute_result"
    }
   ],
   "source": [
    "library_select.head()"
   ]
  },
  {
   "cell_type": "code",
   "execution_count": 147,
   "metadata": {},
   "outputs": [
    {
     "data": {
      "application/vnd.plotly.v1+json": {
       "config": {
        "plotlyServerURL": "https://plot.ly"
       },
       "data": [
        {
         "customdata": [
          [
           "Apocolocyntosis"
          ],
          [
           "L. Annaeus Seneca on Benefits"
          ],
          [
           "Two Tragedies of Seneca: Medea and The Daughters of Troy: Rendered into English Verse"
          ],
          [
           "Seneca's Morals of a Happy Life, Benefits, Anger and Clemency"
          ],
          [
           "Minor Dialogues, Together With the Dialogue on Clemency"
          ]
         ],
         "hovertemplate": "author=Seneca, Lucius Annaeus<br>proj_0=%{x}<br>proj_1=%{y}<br>title=%{customdata[0]}<extra></extra>",
         "legendgroup": "Seneca, Lucius Annaeus",
         "marker": {
          "color": "#AA0DFE",
          "symbol": "circle"
         },
         "mode": "markers",
         "name": "Seneca, Lucius Annaeus",
         "orientation": "v",
         "showlegend": true,
         "type": "scatter",
         "x": [
          0.3410874307155609,
          6.865371227264404,
          -0.2436162829399109,
          6.944971084594727,
          6.3623270988464355
         ],
         "xaxis": "x",
         "y": [
          7.504611968994141,
          6.059599876403809,
          7.084189414978027,
          6.147729873657227,
          6.157841205596924
         ],
         "yaxis": "y"
        },
        {
         "customdata": [
          [
           "La Fiammetta"
          ],
          [
           "The Decameron, Volume II"
          ],
          [
           "The Decameron of Giovanni Boccaccio"
          ],
          [
           "The Decameron, Volume I"
          ],
          [
           "The Decameron (Day 1 to Day 5): Containing an hundred pleasant Novels"
          ],
          [
           "The Decameron (Day 6 to Day 10): Containing an hundred pleasant Novels"
          ]
         ],
         "hovertemplate": "author=Boccaccio, Giovanni<br>proj_0=%{x}<br>proj_1=%{y}<br>title=%{customdata[0]}<extra></extra>",
         "legendgroup": "Boccaccio, Giovanni",
         "marker": {
          "color": "#3283FE",
          "symbol": "circle"
         },
         "mode": "markers",
         "name": "Boccaccio, Giovanni",
         "orientation": "v",
         "showlegend": true,
         "type": "scatter",
         "x": [
          0.7313846945762634,
          7.240727424621582,
          7.180868625640869,
          7.504474639892578,
          7.674289226531982,
          7.770773887634277
         ],
         "xaxis": "x",
         "y": [
          6.641507625579834,
          5.480984210968018,
          5.618524551391602,
          5.819564342498779,
          5.943502426147461,
          5.995924472808838
         ],
         "yaxis": "y"
        },
        {
         "customdata": [
          [
           "Divine Comedy, Longfellow's Translation, Hell"
          ],
          [
           "Divine Comedy, Longfellow's Translation, Purgatory"
          ],
          [
           "Divine Comedy, Longfellow's Translation, Paradise"
          ],
          [
           "Divine Comedy, Longfellow's Translation, Complete"
          ],
          [
           "Divine Comedy, Cary's Translation, Hell"
          ],
          [
           "Divine Comedy, Cary's Translation, Purgatory"
          ],
          [
           "Divine Comedy, Cary's Translation, Paradise"
          ],
          [
           "Divine Comedy, Cary's Translation, Complete"
          ],
          [
           "The Banquet (Il Convito)"
          ],
          [
           "The Divine Comedy, Volume 1, Hell"
          ],
          [
           "The Divine Comedy, Volume 2, Purgatory"
          ],
          [
           "The Divine Comedy, Volume 3, Paradise"
          ],
          [
           "The New Life (La Vita Nuova)"
          ],
          [
           "The Divine Comedy of Dante Alighieri: The Inferno"
          ],
          [
           "The Vision of Dante: A story for little children and a talk to their mothers: (Second Edition)"
          ],
          [
           "The vision of hell.: By Dante Alighieri.; Translated by Rev. Henry Francis Cary, M.A.; and illustrated with the seventy-five designs of Gustave Doré."
          ],
          [
           "The Divine Comedy by Dante, Illustrated, Purgatory, Complete"
          ],
          [
           "The Divine Comedy by Dante, Illustrated, Paradise, Complete"
          ],
          [
           "The divine comedy"
          ]
         ],
         "hovertemplate": "author=Dante Alighieri<br>proj_0=%{x}<br>proj_1=%{y}<br>title=%{customdata[0]}<extra></extra>",
         "legendgroup": "Dante Alighieri",
         "marker": {
          "color": "#85660D",
          "symbol": "circle"
         },
         "mode": "markers",
         "name": "Dante Alighieri",
         "orientation": "v",
         "showlegend": true,
         "type": "scatter",
         "x": [
          -2.1172244548797607,
          -2.025381326675415,
          -2.0389368534088135,
          -2.108295202255249,
          -2.3489770889282227,
          -2.2623071670532227,
          -2.2228033542633057,
          -2.3665237426757812,
          2.0795536041259766,
          -1.9158483743667603,
          -1.7822809219360352,
          -1.7875525951385498,
          1.0781277418136597,
          1.9006468057632446,
          0.3910719156265259,
          -2.361133098602295,
          -2.2290499210357666,
          -2.27555251121521,
          -2.3561737537384033
         ],
         "xaxis": "x",
         "y": [
          8.069772720336914,
          8.063016891479492,
          8.118197441101074,
          8.097694396972656,
          8.2225341796875,
          8.169395446777344,
          8.152497291564941,
          8.238932609558105,
          7.497037410736084,
          8.105751991271973,
          8.1848783493042,
          8.111491203308105,
          7.870769500732422,
          7.5212812423706055,
          7.867961406707764,
          8.240324974060059,
          8.139364242553711,
          8.187317848205566,
          8.20486831665039
         ],
         "yaxis": "y"
        },
        {
         "customdata": [
          [
           "Chinese Literature: Comprising the Analects of Confucius, the Sayings of Mencius, the Shi-King, the Travels of Fâ-Hien, and the Sorrows of Han"
          ],
          [
           "The Sayings of Confucius"
          ],
          [
           "The Analects of Confucius (from the Chinese Classics)"
          ],
          [
           "The Wisdom of Confucius: with Critical and Biographical Sketches"
          ],
          [
           "The Sayings of Confucius: A New Translation of the Greater Part of the Confucian Analects"
          ]
         ],
         "hovertemplate": "author=Confucius<br>proj_0=%{x}<br>proj_1=%{y}<br>title=%{customdata[0]}<extra></extra>",
         "legendgroup": "Confucius",
         "marker": {
          "color": "#782AB6",
          "symbol": "circle"
         },
         "mode": "markers",
         "name": "Confucius",
         "orientation": "v",
         "showlegend": true,
         "type": "scatter",
         "x": [
          2.6803314685821533,
          1.047937035560608,
          0.9620057940483093,
          2.716693878173828,
          1.095624327659607
         ],
         "xaxis": "x",
         "y": [
          2.578909397125244,
          6.871931076049805,
          6.838514804840088,
          2.4996554851531982,
          6.729891300201416
         ],
         "yaxis": "y"
        },
        {
         "customdata": [
          [
           "The Complete Works of William Shakespeare"
          ],
          [
           "Shakespeare's Sonnets"
          ],
          [
           "Venus and Adonis"
          ],
          [
           "King Richard III"
          ],
          [
           "The Tragedy of Titus Andronicus"
          ],
          [
           "The Taming of the Shrew"
          ],
          [
           "The Tragedy of Romeo and Juliet"
          ],
          [
           "As You Like It"
          ],
          [
           "The Tragedy of Macbeth"
          ],
          [
           "King Richard III"
          ],
          [
           "The Taming of the Shrew"
          ],
          [
           "Romeo and Juliet"
          ],
          [
           "A Midsummer Night's Dream"
          ],
          [
           "The Merchant of Venice"
          ],
          [
           "King Henry IV, the First Part"
          ],
          [
           "Much Ado about Nothing"
          ],
          [
           "The Life of King Henry V"
          ],
          [
           "Julius Caesar"
          ],
          [
           "As You Like It"
          ],
          [
           "Hamlet, Prince of Denmark"
          ],
          [
           "Twelfth Night; Or, What You Will"
          ],
          [
           "All's Well That Ends Well"
          ],
          [
           "Othello, the Moor of Venice"
          ],
          [
           "The Tragedy of King Lear"
          ],
          [
           "Macbeth"
          ],
          [
           "Antony and Cleopatra"
          ],
          [
           "The Winter's Tale"
          ],
          [
           "The Tempest"
          ],
          [
           "Sir Thomas More"
          ],
          [
           "Romeo and Juliet"
          ],
          [
           "Julius Caesar"
          ],
          [
           "Hamlet"
          ],
          [
           "King Lear"
          ],
          [
           "A Midsummer Night's Dream"
          ],
          [
           "The Merchant of Venice"
          ],
          [
           "Twelfth Night"
          ],
          [
           "Henry V"
          ],
          [
           "Macbeth"
          ],
          [
           "Hamlet"
          ],
          [
           "Othello"
          ],
          [
           "Shakespeare's First Folio"
          ],
          [
           "The Tempest: The Works of William Shakespeare [Cambridge Edition] [9 vols.]"
          ],
          [
           "Two Gentlemen of Verona: The Works of William Shakespeare [Cambridge Edition] [9 vols.]"
          ],
          [
           "The Merry Wives of Windsor: The Works of William Shakespeare [Cambridge Edition] [9 vols.]"
          ],
          [
           "Measure for Measure: The Works of William Shakespeare [Cambridge Edition] [9 vols.]"
          ],
          [
           "The Comedy of Errors: The Works of William Shakespeare [Cambridge Edition] [9 vols.]"
          ],
          [
           "Hamlet, Prince of Denmark"
          ],
          [
           "The New Hudson Shakespeare: Julius Cæsar"
          ],
          [
           "Shakespeare's Tragedy of Romeo and Juliet"
          ],
          [
           "Flowers from Shakespeare's Garden: A Posy from the Plays"
          ]
         ],
         "hovertemplate": "author=Shakespeare, William<br>proj_0=%{x}<br>proj_1=%{y}<br>title=%{customdata[0]}<extra></extra>",
         "legendgroup": "Shakespeare, William",
         "marker": {
          "color": "#565656",
          "symbol": "circle"
         },
         "mode": "markers",
         "name": "Shakespeare, William",
         "orientation": "v",
         "showlegend": true,
         "type": "scatter",
         "x": [
          9.361841201782227,
          7.955824851989746,
          8.180631637573242,
          9.108331680297852,
          9.000748634338379,
          8.969480514526367,
          8.969456672668457,
          8.337749481201172,
          8.228226661682129,
          9.162930488586426,
          9.009458541870117,
          8.797094345092773,
          8.074034690856934,
          8.318501472473145,
          8.358877182006836,
          8.34381103515625,
          9.332298278808594,
          8.649529457092285,
          8.245410919189453,
          8.951434135437012,
          7.979482650756836,
          8.661185264587402,
          8.994213104248047,
          8.9373779296875,
          8.225770950317383,
          8.525607109069824,
          8.43584156036377,
          8.275236129760742,
          7.936735153198242,
          8.920562744140625,
          8.553258895874023,
          9.148815155029297,
          8.86690616607666,
          9.062602996826172,
          9.32329273223877,
          9.054594993591309,
          9.387277603149414,
          9.29346752166748,
          9.26223373413086,
          9.368626594543457,
          9.332332611083984,
          8.203198432922363,
          8.0990571975708,
          8.663575172424316,
          8.172333717346191,
          7.935189723968506,
          7.903755187988281,
          7.897022247314453,
          8.665881156921387,
          0.6128960847854614
         ],
         "xaxis": "x",
         "y": [
          6.546234130859375,
          6.374109745025635,
          6.30764627456665,
          6.613758087158203,
          6.2130656242370605,
          6.395538330078125,
          6.045239448547363,
          6.212676048278809,
          6.475090503692627,
          6.51886510848999,
          6.396197319030762,
          5.952826976776123,
          6.374469757080078,
          6.480040073394775,
          6.240095138549805,
          6.526011943817139,
          6.3866705894470215,
          6.178151607513428,
          6.2360758781433105,
          6.145662784576416,
          6.277054786682129,
          6.555960178375244,
          6.6524271965026855,
          6.6310625076293945,
          6.4580302238464355,
          6.247525691986084,
          6.301324367523193,
          6.601903438568115,
          6.392373085021973,
          6.0224151611328125,
          6.1717209815979,
          6.241543769836426,
          6.532633304595947,
          6.368077278137207,
          6.359748363494873,
          6.64447546005249,
          6.451161861419678,
          6.505243301391602,
          6.520305156707764,
          6.477075099945068,
          6.467663764953613,
          6.455075740814209,
          6.319295406341553,
          6.292104244232178,
          6.4327616691589355,
          6.524234771728516,
          6.304933547973633,
          6.282925605773926,
          6.091087818145752,
          6.734448432922363
         ],
         "yaxis": "y"
        },
        {
         "customdata": [
          [
           "Bleak House"
          ],
          [
           "Three Ghost Stories"
          ],
          [
           "Great Expectations"
          ],
          [
           "The Perils of Certain English Prisoners"
          ],
          [
           "A Message from the Sea"
          ],
          [
           "Doctor Marigold"
          ],
          [
           "The Wreck of the Golden Mary"
          ],
          [
           "Some Christmas Stories"
          ],
          [
           "A Christmas Carol"
          ],
          [
           "The Magic Fishbone: A Holiday Romance from the Pen of Miss Alice Rainbird, Aged 7"
          ],
          [
           "A Christmas Carol"
          ],
          [
           "The Letters of Charles Dickens. Vol. 1, 1833-1856"
          ],
          [
           "The Letters of Charles Dickens. Vol. 2, 1857-1870"
          ],
          [
           "Bardell v. Pickwick"
          ],
          [
           "Mugby Junction"
          ],
          [
           "A Christmas Carol: The original manuscript"
          ],
          [
           "The Battle of Life: A Love Story"
          ],
          [
           "A Child's Dream of a Star"
          ],
          [
           "The Personal History of David Copperfield"
          ],
          [
           "Oliver Twist; or, The Parish Boy's Progress. Illustrated"
          ],
          [
           "Oliver Twist, Vol. 1 (of 3)"
          ],
          [
           "The Posthumous Papers of the Pickwick Club, v. 2 (of 2)"
          ],
          [
           "The Mystery of Edwin Drood"
          ],
          [
           "The Pickwick Papers"
          ],
          [
           "Master Humphrey's Clock"
          ],
          [
           "The Haunted Man and the Ghost's Bargain"
          ],
          [
           "Pictures from Italy"
          ],
          [
           "The Chimes: A Goblin Story of Some Bells That Rang an Old Year out and a New Year In"
          ],
          [
           "American Notes"
          ],
          [
           "The Battle of Life"
          ],
          [
           "The Cricket on the Hearth: A Fairy Tale of Home"
          ],
          [
           "A Child's History of England"
          ],
          [
           "The Old Curiosity Shop"
          ],
          [
           "Oliver Twist"
          ],
          [
           "David Copperfield"
          ],
          [
           "Hard Times"
          ],
          [
           "Hunted Down: The Detective Stories of Charles Dickens"
          ],
          [
           "Holiday Romance"
          ],
          [
           "George Silverman's Explanation"
          ],
          [
           "Dombey and Son"
          ],
          [
           "Speeches: Literary and Social"
          ],
          [
           "Reprinted Pieces"
          ],
          [
           "Sketches by Boz, Illustrative of Every-Day Life and Every-Day People"
          ],
          [
           "Our Mutual Friend"
          ],
          [
           "The Uncommercial Traveller"
          ],
          [
           "Barnaby Rudge: A Tale of the Riots of 'Eighty"
          ],
          [
           "To Be Read at Dusk"
          ],
          [
           "Little Dorrit"
          ],
          [
           "Nicholas Nickleby"
          ],
          [
           "Martin Chuzzlewit"
          ]
         ],
         "hovertemplate": "author=Dickens, Charles<br>proj_0=%{x}<br>proj_1=%{y}<br>title=%{customdata[0]}<extra></extra>",
         "legendgroup": "Dickens, Charles",
         "marker": {
          "color": "#1C8356",
          "symbol": "circle"
         },
         "mode": "markers",
         "name": "Dickens, Charles",
         "orientation": "v",
         "showlegend": true,
         "type": "scatter",
         "x": [
          -1.5482416152954102,
          -1.071848750114441,
          -1.677506446838379,
          -0.7306573390960693,
          -0.5248371362686157,
          -0.5378789305686951,
          -0.2936144173145294,
          -0.9023860096931458,
          -0.9449154734611511,
          -0.19186879694461823,
          -0.9022831320762634,
          -1.166351318359375,
          -1.1423113346099854,
          -0.6327309608459473,
          -0.8808557391166687,
          -1.0214943885803223,
          -1.070986032485962,
          0.47491374611854553,
          -1.5724769830703735,
          -1.5351969003677368,
          -1.5299842357635498,
          -1.2887476682662964,
          -1.168202519416809,
          -1.079785943031311,
          -1.0403980016708374,
          -0.67869633436203,
          -1.890230655670166,
          -0.839214563369751,
          -1.5812947750091553,
          -1.03158700466156,
          -0.652388334274292,
          -1.4908374547958374,
          -1.7233470678329468,
          -1.6854194402694702,
          -1.5171828269958496,
          -0.6292445063591003,
          -0.47915294766426086,
          -0.4437616169452667,
          -0.5157940983772278,
          -1.1431676149368286,
          -1.6431117057800293,
          -1.8240368366241455,
          -1.7215075492858887,
          -1.1316007375717163,
          -1.8135640621185303,
          -1.4545878171920776,
          -0.15933221578598022,
          -1.6239277124404907,
          -1.1356910467147827,
          -1.162003755569458
         ],
         "xaxis": "x",
         "y": [
          4.753504276275635,
          5.090991973876953,
          4.5873703956604,
          5.386518478393555,
          5.592095375061035,
          5.544485569000244,
          5.6597089767456055,
          5.3011956214904785,
          4.656216144561768,
          5.837368488311768,
          4.664261341094971,
          4.636236190795898,
          4.889664649963379,
          5.405668258666992,
          4.877651691436768,
          4.727209568023682,
          4.846207141876221,
          7.2124152183532715,
          4.166492462158203,
          4.439516544342041,
          4.638750076293945,
          4.443399429321289,
          4.958741188049316,
          4.493899345397949,
          5.123971462249756,
          5.285688400268555,
          4.651678085327148,
          5.339913368225098,
          4.776559829711914,
          4.866074562072754,
          5.21236515045166,
          4.709377765655518,
          4.502776622772217,
          4.419309139251709,
          4.246509075164795,
          5.273462772369385,
          5.578249931335449,
          5.610428810119629,
          5.537227630615234,
          4.962287425994873,
          4.545907974243164,
          4.62173318862915,
          4.462375640869141,
          5.042140007019043,
          4.544776439666748,
          4.772428512573242,
          5.820533275604248,
          4.650190830230713,
          4.917112827301025,
          4.905641078948975
         ],
         "yaxis": "y"
        },
        {
         "customdata": [
          [
           "The Tragedy of Pudd'nhead Wilson"
          ],
          [
           "Extract from Captain Stormfield's Visit to Heaven"
          ],
          [
           "A Horse's Tale"
          ],
          [
           "A Tramp Abroad"
          ],
          [
           "The Man That Corrupted Hadleyburg"
          ],
          [
           "The $30,000 Bequest, and Other Stories"
          ],
          [
           "The Prince and the Pauper"
          ],
          [
           "Extracts from Adam's Diary, translated from the original ms."
          ],
          [
           "Chapters from My Autobiography"
          ],
          [
           "Is Shakespeare Dead?: From My Autobiography"
          ],
          [
           "Life on the Mississippi"
          ],
          [
           "On the Decay of the Art of Lying"
          ],
          [
           "Personal Recollections of Joan of Arc — Volume 1"
          ],
          [
           "Personal Recollections of Joan of Arc — Volume 2"
          ],
          [
           "Following the Equator: A Journey Around the World"
          ],
          [
           "In Defence of Harriet Shelley"
          ],
          [
           "Fenimore Cooper's Literary Offences"
          ],
          [
           "A Dog's Tale"
          ],
          [
           "The Innocents Abroad"
          ],
          [
           "Roughing It"
          ],
          [
           "The Gilded Age: A Tale of Today"
          ],
          [
           "The American Claimant"
          ],
          [
           "A Double Barrelled Detective Story"
          ],
          [
           "The Stolen White Elephant"
          ],
          [
           "The Facts Concerning the Recent Carnival of Crime in Connecticut"
          ],
          [
           "Those Extraordinary Twins"
          ],
          [
           "The Mysterious Stranger, and Other Stories"
          ],
          [
           "Christian Science"
          ],
          [
           "Mark Twain's Speeches"
          ],
          [
           "Sketches New and Old"
          ],
          [
           "1601: Conversation as it was by the Social Fireside in the Time of the Tudors"
          ],
          [
           "Mark Twain's Letters — Volume 1 (1853-1866)"
          ],
          [
           "Mark Twain's Letters — Volume 2 (1867-1875)"
          ],
          [
           "Mark Twain's Letters — Volume 4 (1886-1900)"
          ],
          [
           "Mark Twain's Letters — Complete (1853-1910)"
          ],
          [
           "The Adventures of Huckleberry Finn (Tom Sawyer's Comrade)"
          ],
          [
           "How to Tell a Story, and Other Essays"
          ],
          [
           "The Man That Corrupted Hadleyburg, and Other Stories"
          ],
          [
           "The Mysterious Stranger: A Romance"
          ],
          [
           "Following the Equator: A Journey Around the World. Part 3"
          ],
          [
           "Merry Tales"
          ],
          [
           "The £1,000,000 bank-note, and other new stories"
          ],
          [
           "To the Person Sitting in Darkness"
          ],
          [
           "King Leopold's Soliloquy: A Defense of His Congo Rule"
          ],
          [
           "Europe and elsewhere"
          ],
          [
           "Adventures of Huckleberry Finn, Chapters 01 to 05"
          ],
          [
           "Adventures of Huckleberry Finn, Chapters 11 to 15"
          ],
          [
           "The Adventures of Tom Sawyer, Part 1."
          ],
          [
           "The Adventures of Tom Sawyer, Part 2."
          ],
          [
           "Eve's Diary, Complete"
          ]
         ],
         "hovertemplate": "author=Twain, Mark<br>proj_0=%{x}<br>proj_1=%{y}<br>title=%{customdata[0]}<extra></extra>",
         "legendgroup": "Twain, Mark",
         "marker": {
          "color": "#16FF32",
          "symbol": "circle"
         },
         "mode": "markers",
         "name": "Twain, Mark",
         "orientation": "v",
         "showlegend": true,
         "type": "scatter",
         "x": [
          -1.4259791374206543,
          -1.1948652267456055,
          -1.3020780086517334,
          -1.2935329675674438,
          -1.4527417421340942,
          -1.3557157516479492,
          -1.3384963274002075,
          -1.0274099111557007,
          -1.4804424047470093,
          -1.3168288469314575,
          -1.3801028728485107,
          0.21327267587184906,
          -1.415438175201416,
          -1.355397343635559,
          -1.3129642009735107,
          -1.2631279230117798,
          -0.9575130939483643,
          -0.9407311677932739,
          -1.199750542640686,
          -1.196408987045288,
          -1.356627345085144,
          -1.4866348505020142,
          -1.4153434038162231,
          -1.071786880493164,
          -1.0088918209075928,
          -1.3054605722427368,
          -1.233264684677124,
          -1.444413185119629,
          -1.1932487487792969,
          -1.137123703956604,
          -1.1765424013137817,
          -1.4641727209091187,
          -1.4698619842529297,
          -1.5048792362213135,
          -1.4568164348602295,
          -1.5541423559188843,
          -1.1956866979599,
          -1.394278883934021,
          -1.321472406387329,
          -1.3782274723052979,
          -1.402761697769165,
          -1.3787497282028198,
          -1.0832387208938599,
          -1.2408641576766968,
          -1.348021388053894,
          -1.2018496990203857,
          -1.3940672874450684,
          -1.0245461463928223,
          -1.206701636314392,
          -1.158865213394165
         ],
         "xaxis": "x",
         "y": [
          10.770073890686035,
          10.211515426635742,
          10.29694938659668,
          11.446105003356934,
          10.709405899047852,
          11.172910690307617,
          10.506717681884766,
          9.726970672607422,
          11.33712100982666,
          10.335735321044922,
          11.524101257324219,
          7.808505058288574,
          10.849644660949707,
          10.69575023651123,
          11.56261157989502,
          10.235124588012695,
          9.64696216583252,
          9.614130973815918,
          11.343777656555176,
          11.521064758300781,
          11.384729385375977,
          11.235313415527344,
          10.550128936767578,
          9.8795747756958,
          9.709280967712402,
          10.330157279968262,
          10.993246078491211,
          10.950960159301758,
          11.230127334594727,
          11.270584106445312,
          10.095296859741211,
          11.216769218444824,
          11.325085639953613,
          11.420470237731934,
          11.419795989990234,
          11.022360801696777,
          10.024601936340332,
          11.462263107299805,
          10.941243171691895,
          10.902440071105957,
          11.01812744140625,
          11.099424362182617,
          9.652228355407715,
          10.132513046264648,
          11.579345703125,
          10.138166427612305,
          10.516738891601562,
          9.739287376403809,
          10.120229721069336,
          9.988143920898438
         ],
         "yaxis": "y"
        },
        {
         "customdata": [
          [
           "The Green Flag, and Other Stories of War and Sport"
          ],
          [
           "The Return of Sherlock Holmes"
          ],
          [
           "The Exploits of Brigadier Gerard"
          ],
          [
           "The Refugees: A Tale of Two Continents"
          ],
          [
           "The Great Shadow and Other Napoleonic Tales"
          ],
          [
           "The Poison Belt"
          ],
          [
           "The Firm of Girdlestone"
          ],
          [
           "The Lost World"
          ],
          [
           "The Adventures of Gerard"
          ],
          [
           "The Adventures of Sherlock Holmes"
          ],
          [
           "The Sign of the Four"
          ],
          [
           "The Return of Sherlock Holmes"
          ],
          [
           "Danger! and Other Stories"
          ],
          [
           "The Adventure of Wisteria Lodge"
          ],
          [
           "The Adventure of the Cardboard Box"
          ],
          [
           "The Adventure of the Red Circle"
          ],
          [
           "The Adventure of the Bruce-Partington Plans"
          ],
          [
           "The Adventure of the Dying Detective"
          ],
          [
           "The Disappearance of Lady Frances Carfax"
          ],
          [
           "The Adventure of the Devil's Foot"
          ],
          [
           "His Last Bow: An Epilogue of Sherlock Holmes"
          ],
          [
           "A Study in Scarlet"
          ],
          [
           "Sir Nigel"
          ],
          [
           "The Hound of the Baskervilles"
          ],
          [
           "The Captain of the Polestar, and Other Tales"
          ],
          [
           "The Great Boer War"
          ],
          [
           "The Hound of the Baskervilles"
          ],
          [
           "The Great Keinplatz Experiment and Other Tales of Twilight and the Unseen"
          ],
          [
           "The Valley of Fear"
          ],
          [
           "The Parasite: A Story"
          ],
          [
           "The Crime of the Congo"
          ],
          [
           "The Valley of Fear"
          ],
          [
           "The Wanderings of a Spiritualist"
          ],
          [
           "Round the Red Lamp: Being Facts and Fancies of Medical Life"
          ],
          [
           "The Vital Message"
          ],
          [
           "The Coming of the Fairies"
          ],
          [
           "Adventures of Sherlock Holmes: Illustrated"
          ],
          [
           "Rodney Stone"
          ],
          [
           "Tales of Terror and Mystery"
          ],
          [
           "Round the Fire Stories"
          ],
          [
           "The Case for Spirit Photography: With corroborative evidence by experienced researchers and photographers"
          ],
          [
           "Memories and Adventures"
          ],
          [
           "The land of mist"
          ],
          [
           "My friend the murderer, and other mysteries and adventures"
          ],
          [
           "The case-book of Sherlock Holmes"
          ],
          [
           "The case of Oscar Slater"
          ],
          [
           "The Mystery of Cloomber"
          ],
          [
           "The Memoirs of Sherlock Holmes"
          ],
          [
           "The White Company"
          ],
          [
           "Micah Clarke: His Statement as made to his three grandchildren Joseph, Gervas and Reuben During the Hard Winter of 1734"
          ]
         ],
         "hovertemplate": "author=Doyle, Arthur Conan<br>proj_0=%{x}<br>proj_1=%{y}<br>title=%{customdata[0]}<extra></extra>",
         "legendgroup": "Doyle, Arthur Conan",
         "marker": {
          "color": "#F7E1A0",
          "symbol": "circle"
         },
         "mode": "markers",
         "name": "Doyle, Arthur Conan",
         "orientation": "v",
         "showlegend": true,
         "type": "scatter",
         "x": [
          5.6098480224609375,
          5.627164363861084,
          6.2625274658203125,
          5.777871131896973,
          6.08674955368042,
          5.947298049926758,
          6.043784141540527,
          5.8786396980285645,
          5.898695945739746,
          5.9192376136779785,
          5.922855854034424,
          5.650500297546387,
          5.6797590255737305,
          5.803099632263184,
          5.810716152191162,
          5.720208168029785,
          5.714773178100586,
          5.716155052185059,
          5.7086944580078125,
          5.7509260177612305,
          5.881477355957031,
          5.7703938484191895,
          5.890293598175049,
          5.943329811096191,
          5.678704738616943,
          6.1020379066467285,
          5.868197441101074,
          5.663271903991699,
          5.895081043243408,
          5.7507758140563965,
          5.945611000061035,
          5.884026050567627,
          5.668984889984131,
          5.853490352630615,
          5.770105361938477,
          5.817607879638672,
          5.894333362579346,
          5.998739242553711,
          5.752171993255615,
          5.717653751373291,
          5.800297260284424,
          5.931699275970459,
          6.03482723236084,
          5.71839714050293,
          6.050724983215332,
          5.7412943840026855,
          5.978454113006592,
          5.617247104644775,
          5.817462921142578,
          6.015653610229492
         ],
         "xaxis": "x",
         "y": [
          3.4713661670684814,
          3.1421797275543213,
          3.668149948120117,
          3.7268455028533936,
          3.66137957572937,
          4.255848407745361,
          3.650775671005249,
          4.055530071258545,
          3.7433111667633057,
          3.395781993865967,
          3.7508561611175537,
          3.164914608001709,
          3.4801719188690186,
          4.428429126739502,
          4.660248756408691,
          4.799605369567871,
          4.518509864807129,
          4.761534690856934,
          4.5838751792907715,
          4.402069568634033,
          4.006961345672607,
          3.9073996543884277,
          3.6518056392669678,
          3.4073917865753174,
          3.1819539070129395,
          3.6982593536376953,
          3.3780527114868164,
          3.167100429534912,
          3.658637762069702,
          4.547717094421387,
          4.273008823394775,
          3.5411288738250732,
          3.689012289047241,
          3.5307559967041016,
          4.072571277618408,
          4.478905200958252,
          3.3497653007507324,
          3.5681796073913574,
          3.2707204818725586,
          3.1901133060455322,
          4.677399635314941,
          3.3769400119781494,
          3.965555429458618,
          3.2517898082733154,
          4.010858058929443,
          4.491079807281494,
          3.86767578125,
          3.3406565189361572,
          3.8911936283111572,
          3.750117301940918
         ],
         "yaxis": "y"
        },
        {
         "customdata": [
          [
           "Persuasion"
          ],
          [
           "Love and Freindship [sic]"
          ],
          [
           "Northanger Abbey"
          ],
          [
           "Pride and Prejudice"
          ],
          [
           "Mansfield Park"
          ],
          [
           "Emma"
          ],
          [
           "Sense and Sensibility"
          ],
          [
           "Sense and Sensibility"
          ],
          [
           "Pride and Prejudice, a play founded on Jane Austen's novel"
          ],
          [
           "The Letters of Jane Austen: Selected from the compilation of her great nephew, Edward, Lord Bradbourne"
          ],
          [
           "Pride and Prejudice"
          ],
          [
           "The Watsons: By Jane Austen, Concluded by L. Oulton"
          ],
          [
           "Lady Susan"
          ]
         ],
         "hovertemplate": "author=Austen, Jane<br>proj_0=%{x}<br>proj_1=%{y}<br>title=%{customdata[0]}<extra></extra>",
         "legendgroup": "Austen, Jane",
         "marker": {
          "color": "#E2E2E2",
          "symbol": "circle"
         },
         "mode": "markers",
         "name": "Austen, Jane",
         "orientation": "v",
         "showlegend": true,
         "type": "scatter",
         "x": [
          0.9281829595565796,
          0.9474343061447144,
          1.0305622816085815,
          0.9681866765022278,
          0.975325345993042,
          0.9834260940551758,
          1.1790963411331177,
          1.1773388385772705,
          0.7369126677513123,
          1.0107611417770386,
          1.0507820844650269,
          0.8682703375816345,
          0.7582921981811523
         ],
         "xaxis": "x",
         "y": [
          8.956254005432129,
          8.977142333984375,
          9.091926574707031,
          9.399458885192871,
          9.077193260192871,
          9.019789695739746,
          9.253032684326172,
          9.27127456665039,
          8.757680892944336,
          9.0802001953125,
          9.31699275970459,
          8.885112762451172,
          8.719819068908691
         ],
         "yaxis": "y"
        },
        {
         "customdata": [
          [
           "Discourses on the First Decade of Titus Livius"
          ],
          [
           "The Prince"
          ],
          [
           "Machiavelli, Volume I"
          ],
          [
           "History of Florence and of the Affairs of Italy: From the Earliest Times to the Death of Lorenzo the Magnificent"
          ],
          [
           "The Prince"
          ]
         ],
         "hovertemplate": "author=Machiavelli, Niccolò<br>proj_0=%{x}<br>proj_1=%{y}<br>title=%{customdata[0]}<extra></extra>",
         "legendgroup": "Machiavelli, Niccolò",
         "marker": {
          "color": "#1CBE4F",
          "symbol": "circle"
         },
         "mode": "markers",
         "name": "Machiavelli, Niccolò",
         "orientation": "v",
         "showlegend": true,
         "type": "scatter",
         "x": [
          6.190698146820068,
          6.134531021118164,
          5.972593307495117,
          6.185306549072266,
          6.111262321472168
         ],
         "xaxis": "x",
         "y": [
          4.972140312194824,
          4.9400105476379395,
          5.084804534912109,
          4.967940330505371,
          4.930300712585449
         ],
         "yaxis": "y"
        },
        {
         "customdata": [
          [
           "The Orations of Marcus Tullius Cicero, Volume 4"
          ],
          [
           "Cato Maior de Senectute with Introduction and Notes"
          ],
          [
           "Academica"
          ],
          [
           "Cicero's Tusculan Disputations: Also, Treatises On The Nature Of The Gods, And On The Commonwealth"
          ],
          [
           "The Letters of Cicero, Volume 1: The Whole Extant Correspodence in Chronological Order"
          ],
          [
           "Treatises on Friendship and Old Age"
          ],
          [
           "Letters of Marcus Tullius Cicero"
          ],
          [
           "The Academic Questions, Treatise De Finibus, and Tusculan Disputations, of M.T. Cicero, With a Sketch of the Greek Philosophers Mentioned by Cicero"
          ],
          [
           "Speeches against Catilina"
          ],
          [
           "De Officiis"
          ],
          [
           "Cicero: Letters to Atticus, Vol. 2 of 3"
          ],
          [
           "Cicero: Letters to Atticus, Vol. 3 of 3"
          ],
          [
           "The republic of Cicero: Translated from the Latin; and Accompanied With a Critical and Historical Introduction."
          ],
          [
           "Cicero: Letters to Atticus, Vol. 1 of 3"
          ]
         ],
         "hovertemplate": "author=Cicero, Marcus Tullius<br>proj_0=%{x}<br>proj_1=%{y}<br>title=%{customdata[0]}<extra></extra>",
         "legendgroup": "Cicero, Marcus Tullius",
         "marker": {
          "color": "#C4451C",
          "symbol": "circle"
         },
         "mode": "markers",
         "name": "Cicero, Marcus Tullius",
         "orientation": "v",
         "showlegend": true,
         "type": "scatter",
         "x": [
          3.342024087905884,
          3.5000510215759277,
          3.762385845184326,
          3.905174493789673,
          3.7977449893951416,
          3.30220627784729,
          3.8830816745758057,
          3.7098708152770996,
          3.7828152179718018,
          3.7570180892944336,
          3.7748053073883057,
          3.787015199661255,
          3.3337361812591553,
          3.7909626960754395
         ],
         "xaxis": "x",
         "y": [
          6.340869903564453,
          6.61212682723999,
          6.563981056213379,
          6.5190324783325195,
          6.612844467163086,
          6.611364364624023,
          6.652923583984375,
          6.490750789642334,
          6.550375461578369,
          6.486964702606201,
          6.524014472961426,
          6.556469917297363,
          6.534091472625732,
          6.5223212242126465
         ],
         "yaxis": "y"
        },
        {
         "customdata": [
          [
           "The Life and Adventures of Robinson Crusoe of York, Mariner, Volume 1: With an Account of His Travels Round Three Parts of the Globe,; Written By Himself, in Two Volumes"
          ],
          [
           "From London to Land's End: and Two Letters from the \"Journey through England by a Gentleman\""
          ],
          [
           "The Life and Most Surprising Adventures of Robinson Crusoe, of York, Mariner (1801)"
          ],
          [
           "Memoirs of a Cavalier: A Military Journal of the Wars in Germany, and the Wars in England.; From the Year 1632 to the Year 1648."
          ],
          [
           "The Life and Adventures of Robinson Crusoe (1808)"
          ],
          [
           "The History of the Remarkable Life of John Sheppard: Containing a Particular Account of His Many Robberies and Escapes"
          ],
          [
           "A Vindication of the Press"
          ],
          [
           "Military Memoirs of Capt. George Carleton"
          ],
          [
           "Memoirs of Major Alexander Ramkins (1718)"
          ],
          [
           "The Complete English Tradesman (1839 ed.)"
          ],
          [
           "History of the Plague in London"
          ],
          [
           "Dickory Cronke: The Dumb Philosopher, or, Great Britain's Wonder"
          ],
          [
           "Everybody's Business Is Nobody's Business: Or, Private Abuses, Public Grievances; Exemplified in the Pride, Insolence, and Exorbitant Wages of Our Women, Servants, Footmen, &c."
          ],
          [
           "Atalantis Major"
          ],
          [
           "The True-Born Englishman: A Satire"
          ],
          [
           "The Fortunate Mistress (Parts 1 and 2): or a History of the Life of Mademoiselle de Beleau Known by the Name of the Lady Roxana"
          ],
          [
           "The History of the Devil, As Well Ancient as Modern: In Two Parts"
          ],
          [
           "An Appeal to Honour and Justice, Though It Be of His Worst Enemies.: Being A True Account of His Conduct in Public Affairs."
          ],
          [
           "An Humble Proposal to the People of England, for the Increase of their Trade, and Encouragement of Their Manufactures: Whether the Present Uncertainty of Affairs Issues in Peace or War"
          ],
          [
           "Second Thoughts are Best: Or a Further Improvement of a Late Scheme to Prevent Street Robberies"
          ],
          [
           "Augusta Triumphans: Or, the Way to Make London the Most Flourishing City in the Universe"
          ],
          [
           "A New Voyage Round the World by a Course Never Sailed Before"
          ],
          [
           "A True Relation of the Apparition of one Mrs. Veal: The Next Day after Her Death, to one Mrs. Bargrave, at Canterbury, the 8th of September, 1705; which Apparition Recommends the Perusal of Drelincourt's Book of Consolations against the Fears of Death"
          ],
          [
           "Reasons Against the Succession of the House of Hanover: With an Enquiry How Far the Abdication of King James, Supposing It to Be Legal, Ought to Affect the Person of the Pretender"
          ],
          [
           "A Seasonable Warning and Caution against the Insinuations of Papists and Jacobites in favour of the Pretender: Being a Letter from an Englishman at the Court of Hanover"
          ],
          [
           "An Answer to a Question that Nobody thinks of, viz., But what if the Queen should Die?"
          ],
          [
           "The Lay-Man's Sermon upon the Late Storm: Held forth at an Honest Coffee-House-Conventicle"
          ],
          [
           "And What if the Pretender should Come?: Or Some Considerations of the Advantages and Real Consequences of the Pretender's Possessing the Crown of Great Britain"
          ],
          [
           "The Fortunes and Misfortunes of the Famous Moll Flanders"
          ],
          [
           "A Short Narrative of the Life and Actions of His Grace John, D. of Marlborogh"
          ],
          [
           "A Journal of the Plague Year: Being Observations or Memorials of the Most Remarkable Occurrences, as Well Public as Private, Which Happened in London During the Last Great Visitation in 1665. Written by a Citizen Who Continued All the While in London"
          ],
          [
           "The King of Pirates: Being an Account of the Famous Enterprises of Captain Avery, the Mock King of Madagascar"
          ],
          [
           "A General History of the Pyrates:: from their first rise and settlement in the island of Providence, to the present time"
          ],
          [
           "An Essay Upon Projects"
          ],
          [
           "The Storm. An Essay."
          ],
          [
           "The Storm: or, a Collection of the most Remarkable Casualties and Disasters which Happen'd in the Late Dreadful Tempest, both by Sea and Land"
          ],
          [
           "The Life and Adventures of Robinson Crusoe"
          ],
          [
           "The History and Remarkable Life of the Truly Honourable Colonel Jacque, Commonly Called Colonel Jack"
          ],
          [
           "The Friendly Daemon, or the Generous Apparition: Being a True Narrative of a Miraculous Cure, Newly Perform'd Upon That Famous Deaf and Dumb Gentleman, Dr. Duncan Campbel, by a Familiar Spirit That Appear'd to Him in a White Surplice, Like a Cathedral Singing Boy"
          ],
          [
           "The Further Adventures of Robinson Crusoe"
          ],
          [
           "The History of the Pyrates. Vol. II.: Containing the lives of Captain Misson, Captain Bowen, Captain Kidd, Captain Tew, Captain Halsey, Captain White, Captain Condent, Captain Bellamy, Captain Fly, Captain Howard, Captain Lewis, Captain Cornelius, Captain Williams, Captain Burgess, Captain North, and their several crews"
          ],
          [
           "The Life, Adventures & Piracies of the Famous Captain Singleton"
          ],
          [
           "Robinson Crusoe, Told to the Children by John Lang"
          ],
          [
           "The Consolidator; or, Memoirs of Sundry Transactions from the World in the Moon"
          ],
          [
           "Tour through the Eastern Counties of England, 1722"
          ]
         ],
         "hovertemplate": "author=Defoe, Daniel<br>proj_0=%{x}<br>proj_1=%{y}<br>title=%{customdata[0]}<extra></extra>",
         "legendgroup": "Defoe, Daniel",
         "marker": {
          "color": "#DEA0FD",
          "symbol": "circle"
         },
         "mode": "markers",
         "name": "Defoe, Daniel",
         "orientation": "v",
         "showlegend": true,
         "type": "scatter",
         "x": [
          2.4589898586273193,
          2.3456220626831055,
          2.3778042793273926,
          2.3978629112243652,
          2.4367401599884033,
          2.0010178089141846,
          1.666237711906433,
          2.3759355545043945,
          2.1341769695281982,
          2.3746345043182373,
          2.3161542415618896,
          1.8377715349197388,
          1.791074514389038,
          1.9519959688186646,
          2.0292446613311768,
          2.3875198364257812,
          2.0704221725463867,
          1.8907791376113892,
          1.8558437824249268,
          1.4785664081573486,
          1.6095823049545288,
          2.20516037940979,
          0.9749371409416199,
          1.7307286262512207,
          1.3953877687454224,
          1.8137942552566528,
          1.6155095100402832,
          1.7400211095809937,
          2.201634168624878,
          1.823533058166504,
          2.30487322807312,
          2.4163408279418945,
          2.2297444343566895,
          2.289315700531006,
          0.9016842842102051,
          2.4944076538085938,
          2.406102418899536,
          2.253396987915039,
          1.7124066352844238,
          2.4563496112823486,
          2.2511916160583496,
          2.310349702835083,
          1.8435593843460083,
          2.3809902667999268,
          2.2559728622436523
         ],
         "xaxis": "x",
         "y": [
          9.662954330444336,
          8.914690017700195,
          9.593927383422852,
          9.346738815307617,
          9.683381080627441,
          7.985937118530273,
          8.049735069274902,
          8.864167213439941,
          8.643272399902344,
          8.982189178466797,
          9.154930114746094,
          7.962350368499756,
          8.021074295043945,
          8.381948471069336,
          8.462474822998047,
          8.849916458129883,
          8.537627220153809,
          8.392353057861328,
          8.162657737731934,
          7.922834873199463,
          8.051651000976562,
          9.431342124938965,
          7.594874858856201,
          8.18618106842041,
          7.949312210083008,
          8.092923164367676,
          8.190049171447754,
          8.141705513000488,
          9.387276649475098,
          8.263842582702637,
          9.111001014709473,
          9.103535652160645,
          9.078865051269531,
          9.229016304016113,
          7.607504844665527,
          9.056583404541016,
          9.627113342285156,
          9.354289054870605,
          8.051487922668457,
          9.676324844360352,
          9.039910316467285,
          9.32492733001709,
          8.114237785339355,
          9.197587966918945,
          8.974563598632812
         ],
         "yaxis": "y"
        },
        {
         "customdata": [
          [
           "The Count of Monte Cristo, Illustrated"
          ],
          [
           "The Three Musketeers"
          ],
          [
           "Ten Years Later"
          ],
          [
           "Twenty Years After"
          ],
          [
           "The Forty-Five Guardsmen"
          ],
          [
           "Camille (La Dame aux Camilias)"
          ],
          [
           "The Vicomte de Bragelonne; Or, Ten Years Later: Being the completion of \"The Three Musketeers\" and \"Twenty Years After\""
          ],
          [
           "The Queen's Necklace"
          ],
          [
           "The Vicomte De Bragelonne"
          ],
          [
           "Ten Years Later"
          ],
          [
           "Louise de la Valliere"
          ],
          [
           "The Regent's Daughter"
          ],
          [
           "The Conspirators: The Chevalier d'Harmental"
          ],
          [
           "The Borgias: Celebrated Crimes"
          ],
          [
           "Cenci: Celebrated Crimes"
          ],
          [
           "Massacres of the South (1551-1815): Celebrated Crimes"
          ],
          [
           "Mary Stuart: Celebrated Crimes"
          ],
          [
           "Urbain Grandier: Celebrated Crimes"
          ],
          [
           "Derues: Celebrated Crimes"
          ],
          [
           "La Constantin: Celebrated Crimes"
          ],
          [
           "Joan of Naples: Celebrated Crimes"
          ],
          [
           "Man in the Iron Mask (an Essay)"
          ],
          [
           "Martin Guerre: Celebrated Crimes"
          ],
          [
           "Ali Pacha: Celebrated Crimes"
          ],
          [
           "Murat: Celebrated Crimes"
          ],
          [
           "Marquise Brinvillier: Celebrated Crimes"
          ],
          [
           "Marquise De Ganges: Celebrated Crimes"
          ],
          [
           "The Man in the Iron Mask"
          ],
          [
           "Celebrated Crimes (Complete)"
          ],
          [
           "Marguerite de Valois"
          ],
          [
           "The Prussian Terror"
          ],
          [
           "The Corsican Brothers"
          ],
          [
           "The Hero of the People: A Historical Romance of Love, Liberty and Loyalty"
          ],
          [
           "The Mesmerist's Victim"
          ],
          [
           "The Countess of Charny; or, The Execution of King Louis XVI"
          ],
          [
           "The Royal Life Guard; or, the flight of the royal family.: A historical romance of the suppression of the French monarchy"
          ],
          [
           "Taking the Bastile; Or, Pitou the Peasant: A Historical Story of the Great French Revolution"
          ],
          [
           "Balsamo, the Magician; or, The Memoirs of a Physician"
          ],
          [
           "My Memoirs, Vol. I, 1802 to 1821"
          ],
          [
           "My Memoirs, Vol. II, 1822 to 1825"
          ],
          [
           "My Memoirs, Vol. III, 1826 to 1830"
          ],
          [
           "My Memoirs, Vol. V, 1831 to 1832"
          ],
          [
           "The Wolf-Leader"
          ],
          [
           "My Memoirs, Vol. VI, 1832 to 1833"
          ],
          [
           "The War of Women, Volume 1"
          ],
          [
           "The Whites and the Blues"
          ],
          [
           "Ascanio"
          ],
          [
           "The Companions of Jehu"
          ],
          [
           "Chicot the Jester"
          ],
          [
           "The Black Tulip"
          ]
         ],
         "hovertemplate": "author=Dumas, Alexandre<br>proj_0=%{x}<br>proj_1=%{y}<br>title=%{customdata[0]}<extra></extra>",
         "legendgroup": "Dumas, Alexandre",
         "marker": {
          "color": "#FE00FA",
          "symbol": "circle"
         },
         "mode": "markers",
         "name": "Dumas, Alexandre",
         "orientation": "v",
         "showlegend": true,
         "type": "scatter",
         "x": [
          3.2928097248077393,
          3.376469373703003,
          4.337898254394531,
          3.4810192584991455,
          4.01146125793457,
          3.6343812942504883,
          4.305398464202881,
          3.997464179992676,
          4.340704917907715,
          4.316239356994629,
          4.356921195983887,
          3.517671823501587,
          3.675429582595825,
          3.7230398654937744,
          3.671520709991455,
          4.324667930603027,
          3.9969916343688965,
          3.5033674240112305,
          3.873162269592285,
          3.6829466819763184,
          3.924527168273926,
          3.3371169567108154,
          3.3880670070648193,
          3.9804704189300537,
          3.6582438945770264,
          3.6534078121185303,
          3.585872173309326,
          4.355008125305176,
          4.278848648071289,
          3.3946549892425537,
          3.972254991531372,
          3.7541003227233887,
          3.3345510959625244,
          3.245558023452759,
          3.461562156677246,
          3.27909779548645,
          3.2436535358428955,
          3.2982308864593506,
          4.136187553405762,
          4.1167402267456055,
          4.041207790374756,
          4.1793928146362305,
          3.649202823638916,
          4.069028854370117,
          3.780097723007202,
          4.188907146453857,
          3.3639907836914062,
          4.037398815155029,
          3.737771987915039,
          3.711233139038086
         ],
         "xaxis": "x",
         "y": [
          -0.5318464636802673,
          -0.2617343068122864,
          -1.0039973258972168,
          -0.24111688137054443,
          -0.18034979701042175,
          0.14152473211288452,
          -0.9697083234786987,
          -0.11767381429672241,
          -1.0008659362792969,
          -0.9723882675170898,
          -1.0171129703521729,
          -0.08416572213172913,
          -0.33181947469711304,
          -0.6123337149620056,
          0.06696420907974243,
          -0.8553377389907837,
          -0.6976524591445923,
          -0.22295500338077545,
          -0.32293617725372314,
          0.13879984617233276,
          -0.06684479117393494,
          -0.02332822047173977,
          -0.011353995651006699,
          -0.43773353099823,
          0.14635445177555084,
          0.0917702317237854,
          0.05529017373919487,
          -1.0174107551574707,
          -0.8742614388465881,
          -0.16378681361675262,
          -0.1770864725112915,
          0.20755663514137268,
          -0.7216609120368958,
          -0.668750524520874,
          -0.5959250926971436,
          -0.6595792770385742,
          -0.6464264988899231,
          -0.6645336747169495,
          -0.6159699559211731,
          -0.600350558757782,
          -0.6855402588844299,
          -0.7143208384513855,
          0.1444174200296402,
          -0.5301305651664734,
          -0.22734326124191284,
          -0.6086621284484863,
          -0.1916697472333908,
          -0.45702093839645386,
          0.01668100245296955,
          0.07812941819429398
         ],
         "yaxis": "y"
        },
        {
         "customdata": [
          [
           "Apology, Crito, and Phaedo of Socrates"
          ],
          [
           "The Republic"
          ],
          [
           "The Republic"
          ],
          [
           "Critias"
          ],
          [
           "Timaeus"
          ],
          [
           "Lysis"
          ],
          [
           "Charmides"
          ],
          [
           "Laches"
          ],
          [
           "Protagoras"
          ],
          [
           "Euthydemus"
          ],
          [
           "Symposium"
          ],
          [
           "Cratylus"
          ],
          [
           "Ion"
          ],
          [
           "Phaedrus"
          ],
          [
           "Euthyphro"
          ],
          [
           "Meno"
          ],
          [
           "Apology"
          ],
          [
           "Crito"
          ],
          [
           "Phaedo"
          ],
          [
           "Gorgias"
          ],
          [
           "Lesser Hippias"
          ],
          [
           "Alcibiades I"
          ],
          [
           "Alcibiades II"
          ],
          [
           "Eryxias"
          ],
          [
           "Menexenus"
          ],
          [
           "Parmenides"
          ],
          [
           "Theaetetus"
          ],
          [
           "Sophist"
          ],
          [
           "Statesman"
          ],
          [
           "Philebus"
          ],
          [
           "Laws"
          ],
          [
           "The Republic of Plato"
          ]
         ],
         "hovertemplate": "author=Plato<br>proj_0=%{x}<br>proj_1=%{y}<br>title=%{customdata[0]}<extra></extra>",
         "legendgroup": "Plato",
         "marker": {
          "color": "#325A9B",
          "symbol": "circle"
         },
         "mode": "markers",
         "name": "Plato",
         "orientation": "v",
         "showlegend": true,
         "type": "scatter",
         "x": [
          2.7320408821105957,
          2.972175121307373,
          2.9347426891326904,
          2.1593017578125,
          2.8920743465423584,
          2.3382723331451416,
          2.830540895462036,
          1.7278822660446167,
          2.7135608196258545,
          2.509840965270996,
          2.7766106128692627,
          2.7401247024536133,
          1.711320400238037,
          2.7945778369903564,
          1.6238811016082764,
          2.1071572303771973,
          2.5670247077941895,
          1.7529577016830444,
          2.6870083808898926,
          2.395092010498047,
          1.7084112167358398,
          1.6249562501907349,
          1.7217907905578613,
          1.832802653312683,
          2.4931728839874268,
          2.826530694961548,
          2.559948682785034,
          2.5732576847076416,
          2.4324264526367188,
          2.5422651767730713,
          2.8954763412475586,
          2.852766990661621
         ],
         "xaxis": "x",
         "y": [
          5.815784454345703,
          5.416141510009766,
          5.4507832527160645,
          5.717526435852051,
          5.710353851318359,
          5.746626853942871,
          5.768949508666992,
          5.593802452087402,
          5.748906135559082,
          5.773937225341797,
          5.6956095695495605,
          5.79785680770874,
          5.582348346710205,
          5.756486415863037,
          5.575301170349121,
          5.6606059074401855,
          5.810579299926758,
          5.605661392211914,
          5.778011798858643,
          5.645362377166748,
          5.584005355834961,
          5.597248077392578,
          5.595808029174805,
          5.618077278137207,
          5.686467170715332,
          5.691890716552734,
          5.629339218139648,
          5.735204219818115,
          5.717632293701172,
          5.8125996589660645,
          5.660121917724609,
          5.678777694702148
         ],
         "yaxis": "y"
        },
        {
         "customdata": [
          [
           "London to Ladysmith via Pretoria"
          ],
          [
           "Liberalism and the Social Problem"
          ],
          [
           "The Dwelling Place of Light — Volume 1"
          ],
          [
           "The Dwelling Place of Light — Complete"
          ],
          [
           "Mr. Crewe's Career — Volume 1"
          ],
          [
           "Mr. Crewe's Career — Volume 3"
          ],
          [
           "Mr. Crewe's Career — Complete"
          ],
          [
           "A Far Country — Volume 2"
          ],
          [
           "A Far Country — Volume 3"
          ],
          [
           "A Far Country — Complete"
          ],
          [
           "Coniston — Volume 01"
          ],
          [
           "Coniston — Volume 02"
          ],
          [
           "Coniston — Volume 03"
          ],
          [
           "Coniston — Volume 04"
          ],
          [
           "Coniston — Complete"
          ],
          [
           "The Crossing"
          ],
          [
           "Ian Hamilton's March"
          ],
          [
           "Lord Randolph Churchill"
          ],
          [
           "My African Journey"
          ],
          [
           "The River War: An Account of the Reconquest of the Sudan"
          ],
          [
           "Savrola: A Tale of the Revolution in Laurania"
          ],
          [
           "The Inside of the Cup — Volume 01"
          ],
          [
           "The Inside of the Cup — Volume 02"
          ],
          [
           "The Inside of the Cup — Volume 03"
          ],
          [
           "The Inside of the Cup — Volume 04"
          ],
          [
           "The Inside of the Cup — Volume 07"
          ],
          [
           "The Inside of the Cup — Complete"
          ],
          [
           "Richard Carvel — Volume 02"
          ],
          [
           "Richard Carvel — Volume 07"
          ],
          [
           "Richard Carvel — Complete"
          ],
          [
           "A Modern Chronicle — Volume 01"
          ],
          [
           "A Modern Chronicle — Volume 02"
          ],
          [
           "A Modern Chronicle — Complete"
          ],
          [
           "The Celebrity, Volume 01"
          ],
          [
           "The Celebrity, Volume 04"
          ],
          [
           "The Celebrity, Complete"
          ],
          [
           "The Crisis — Volume 01"
          ],
          [
           "The Crisis — Volume 02"
          ],
          [
           "The Crisis — Volume 03"
          ],
          [
           "The Crisis — Volume 04"
          ],
          [
           "The Crisis — Volume 05"
          ],
          [
           "The Crisis — Volume 06"
          ],
          [
           "The Crisis — Volume 07"
          ],
          [
           "The Crisis — Volume 08"
          ],
          [
           "The Crisis — Complete"
          ],
          [
           "Dr. Jonathan"
          ],
          [
           "A Traveller in War-Time"
          ],
          [
           "An essay on the American contribution and the democratic idea"
          ],
          [
           "The World Crisis, Volume 1 (of 6)"
          ],
          [
           "Mr. Keegan's Elopement"
          ]
         ],
         "hovertemplate": "author=Churchill, Winston<br>proj_0=%{x}<br>proj_1=%{y}<br>title=%{customdata[0]}<extra></extra>",
         "legendgroup": "Churchill, Winston",
         "marker": {
          "color": "#FEAF16",
          "symbol": "circle"
         },
         "mode": "markers",
         "name": "Churchill, Winston",
         "orientation": "v",
         "showlegend": true,
         "type": "scatter",
         "x": [
          2.1263363361358643,
          1.9715592861175537,
          1.5179927349090576,
          1.5703192949295044,
          1.3823554515838623,
          1.2149776220321655,
          1.267539143562317,
          1.986701488494873,
          1.8023874759674072,
          1.8773161172866821,
          1.228649616241455,
          1.132080078125,
          1.1608723402023315,
          1.18825101852417,
          1.162406086921692,
          2.1255111694335938,
          1.7968424558639526,
          2.1030421257019043,
          2.1092772483825684,
          2.068920850753784,
          1.9387990236282349,
          1.1668747663497925,
          1.0504430532455444,
          1.1010491847991943,
          1.1099789142608643,
          1.0266414880752563,
          1.087023377418518,
          1.781835913658142,
          1.73875093460083,
          1.9743475914001465,
          1.5119515657424927,
          1.7564042806625366,
          1.6815992593765259,
          1.7169114351272583,
          1.7995654344558716,
          1.7428326606750488,
          1.9502508640289307,
          1.9145370721817017,
          1.8311227560043335,
          1.9943641424179077,
          1.9487553834915161,
          1.8697001934051514,
          1.9073559045791626,
          1.886365532875061,
          2.074424982070923,
          1.237810492515564,
          1.6754202842712402,
          1.5188947916030884,
          2.1465957164764404,
          0.9211355447769165
         ],
         "xaxis": "x",
         "y": [
          1.6647284030914307,
          2.2351582050323486,
          2.040499210357666,
          2.0210676193237305,
          1.861384391784668,
          2.036918878555298,
          1.9890639781951904,
          2.2519350051879883,
          2.265637159347534,
          2.217740774154663,
          1.928809404373169,
          1.809286117553711,
          1.8592720031738281,
          1.8893157243728638,
          1.9296845197677612,
          1.9486823081970215,
          1.7195531129837036,
          1.955273151397705,
          2.0116937160491943,
          1.805471420288086,
          1.7718991041183472,
          1.6780991554260254,
          1.6871533393859863,
          1.7307775020599365,
          1.7441200017929077,
          1.7308770418167114,
          1.8003201484680176,
          1.6531133651733398,
          1.6324349641799927,
          1.9311100244522095,
          1.7551532983779907,
          1.5481854677200317,
          1.7744364738464355,
          1.4785735607147217,
          1.6271827220916748,
          1.596496820449829,
          1.4166191816329956,
          1.39584219455719,
          1.519782304763794,
          1.3223203420639038,
          1.377502679824829,
          1.4071681499481201,
          1.3859002590179443,
          1.56808602809906,
          1.2518287897109985,
          5.699290752410889,
          1.63493812084198,
          5.358376502990723,
          2.099912643432617,
          5.929652214050293
         ],
         "yaxis": "y"
        },
        {
         "customdata": [
          [
           "The Iliad of Homer: Translated into English Blank Verse by William Cowper"
          ],
          [
           "The Odyssey: Rendered into English prose for the use of those who cannot read the original"
          ],
          [
           "The Odyssey of Homer"
          ],
          [
           "The Iliad"
          ],
          [
           "The Iliad"
          ],
          [
           "The Odyssey of Homer"
          ],
          [
           "Odysseus, the Hero of Ithaca: Adapted from the Third Book of the Primary Schools of Athens, Greece"
          ],
          [
           "The Iliad"
          ],
          [
           "The Odyssey"
          ],
          [
           "The Adventures of Ulysses the Wanderer"
          ],
          [
           "The Odysseys of Homer, together with the shorter poems"
          ],
          [
           "The Iliads of Homer: Translated according to the Greek"
          ],
          [
           "The Iliad"
          ],
          [
           "The Iliad"
          ]
         ],
         "hovertemplate": "author=Homer<br>proj_0=%{x}<br>proj_1=%{y}<br>title=%{customdata[0]}<extra></extra>",
         "legendgroup": "Homer",
         "marker": {
          "color": "#F8A19F",
          "symbol": "circle"
         },
         "mode": "markers",
         "name": "Homer",
         "orientation": "v",
         "showlegend": true,
         "type": "scatter",
         "x": [
          6.043744087219238,
          6.018871307373047,
          5.956282615661621,
          6.1184916496276855,
          6.082718849182129,
          5.928218364715576,
          5.636462688446045,
          5.933098316192627,
          5.945028305053711,
          5.696458339691162,
          5.945252895355225,
          6.1076765060424805,
          5.948030948638916,
          6.0812153816223145
         ],
         "xaxis": "x",
         "y": [
          6.360414505004883,
          6.356308937072754,
          6.376865386962891,
          6.3991780281066895,
          6.477928638458252,
          6.4044623374938965,
          6.107304573059082,
          6.335613250732422,
          6.401951789855957,
          6.005218505859375,
          6.370179653167725,
          6.482062339782715,
          6.449938774108887,
          6.465489864349365
         ],
         "yaxis": "y"
        },
        {
         "customdata": [
          [
           "The Declaration of Independence of The United States of America"
          ],
          [
           "Memoir, Correspondence, and Miscellanies, From the Papers of Thomas Jefferson, Volume 1"
          ],
          [
           "Memoir, Correspondence, and Miscellanies, From the Papers of Thomas Jefferson, Volume 2"
          ],
          [
           "Memoir, Correspondence, and Miscellanies, From the Papers of Thomas Jefferson, Volume 3"
          ],
          [
           "Memoir, Correspondence, and Miscellanies, From the Papers of Thomas Jefferson, Volume 4"
          ],
          [
           "The Declaration of Independence of the United States of America"
          ],
          [
           "The Writings of Thomas Jefferson: Library Edition - Vol. 6 (of 20)"
          ],
          [
           "United States Declaration of Independence"
          ],
          [
           "The Writings of Thomas Jefferson, Vol. 1 (of 9): Being His Autobiography, Correspondence, Reports, Messages, Addresses, and Other Writings, Official and Private"
          ],
          [
           "The Writings of Thomas Jefferson, Vol. 2 (of 9): Being His Autobiography, Correspondence, Reports, Messages, Addresses, and Other Writings, Official and Private"
          ],
          [
           "State of the Union Addresses"
          ],
          [
           "The Writings of Thomas Jefferson, Vol. 3 (of 9): Being His Autobiography, Correspondence, Reports, Messages, Addresses, and Other Writings, Official and Private"
          ],
          [
           "The Writings of Thomas Jefferson, Vol. 4 (of 9): Being His Autobiography, Correspondence, Reports, Messages, Addresses, and Other Writings, Official and Private"
          ],
          [
           "The Writings of Thomas Jefferson, Vol. 5 (of 9): Being His Autobiography, Correspondence, Reports, Messages, Addresses, and Other Writings, Official and Private"
          ],
          [
           "The Writings of Thomas Jefferson, Vol. 6 (of 9): Being His Autobiography, Correspondence, Reports, Messages, Addresses, and Other Writings, Official and Private"
          ],
          [
           "The Writings of Thomas Jefferson, Vol. 7 (of 9): Being His Autobiography, Correspondence, Reports, Messages, Addresses, and Other Writings, Official and Private"
          ],
          [
           "The Writings of Thomas Jefferson, Vol. 8 (of 9): Being His Autobiography, Correspondence, Reports, Messages, Addresses, and Other Writings, Official and Private"
          ],
          [
           "The Writings of Thomas Jefferson, Vol. 9 (of 9): Being His Autobiography, Correspondence, Reports, Messages, Addresses, and Other Writings, Official and Private"
          ]
         ],
         "hovertemplate": "author=Jefferson, Thomas<br>proj_0=%{x}<br>proj_1=%{y}<br>title=%{customdata[0]}<extra></extra>",
         "legendgroup": "Jefferson, Thomas",
         "marker": {
          "color": "#90AD1C",
          "symbol": "circle"
         },
         "mode": "markers",
         "name": "Jefferson, Thomas",
         "orientation": "v",
         "showlegend": true,
         "type": "scatter",
         "x": [
          0.6316778063774109,
          4.27163553237915,
          4.189324378967285,
          4.169053077697754,
          4.100934028625488,
          0.901868999004364,
          4.240786552429199,
          0.678440511226654,
          4.241146087646484,
          4.168203830718994,
          2.8477089405059814,
          4.139321327209473,
          4.161619663238525,
          4.033330917358398,
          4.043447017669678,
          3.958552360534668,
          3.9647490978240967,
          4.147336483001709
         ],
         "xaxis": "x",
         "y": [
          6.651472091674805,
          1.6815733909606934,
          1.5088151693344116,
          1.5171265602111816,
          1.4081124067306519,
          6.609490871429443,
          1.6020210981369019,
          6.7621917724609375,
          1.6688637733459473,
          1.4708954095840454,
          2.1567935943603516,
          1.4639616012573242,
          1.4833155870437622,
          1.2949457168579102,
          1.4059592485427856,
          1.3330395221710205,
          1.4522863626480103,
          1.4703377485275269
         ],
         "yaxis": "y"
        },
        {
         "customdata": [
          [
           "Crome Yellow"
          ],
          [
           "The Defeat of Youth, and Other Poems"
          ],
          [
           "Mortal Coils"
          ],
          [
           "The Burning Wheel"
          ],
          [
           "Leda"
          ],
          [
           "Limbo"
          ],
          [
           "Antic Hay"
          ],
          [
           "On the Margin: Notes and Essays"
          ],
          [
           "Jonah: Christmas 1917"
          ],
          [
           "Little Mexican & Other Stories"
          ],
          [
           "Selected Poems"
          ]
         ],
         "hovertemplate": "author=Huxley, Aldous<br>proj_0=%{x}<br>proj_1=%{y}<br>title=%{customdata[0]}<extra></extra>",
         "legendgroup": "Huxley, Aldous",
         "marker": {
          "color": "#F6222E",
          "symbol": "circle"
         },
         "mode": "markers",
         "name": "Huxley, Aldous",
         "orientation": "v",
         "showlegend": true,
         "type": "scatter",
         "x": [
          0.21613501012325287,
          0.5152092576026917,
          0.2231025993824005,
          0.658821165561676,
          0.38198238611221313,
          0.1635861098766327,
          0.29478493332862854,
          0.2472381889820099,
          0.5475082993507385,
          0.22588329017162323,
          0.5760235786437988
         ],
         "xaxis": "x",
         "y": [
          5.306089401245117,
          5.787217140197754,
          5.361542224884033,
          5.986840724945068,
          5.692049503326416,
          5.272264003753662,
          5.267474174499512,
          5.316795825958252,
          6.459036827087402,
          5.272351264953613,
          5.8024821281433105
         ],
         "yaxis": "y"
        },
        {
         "customdata": [
          [
           "Tartuffe; Or, The Hypocrite"
          ],
          [
           "Amphitryon"
          ],
          [
           "The Flying Doctor: (Le Médecin Volant)"
          ],
          [
           "The Jealousy of le Barbouillé: (La Jalousie du Barbouillé)"
          ],
          [
           "Tartuffe; Or, The Hypocrite"
          ],
          [
           "The Middle-Class Gentleman"
          ],
          [
           "The Pretentious Young Ladies"
          ],
          [
           "The Blunderer"
          ],
          [
           "The Love-Tiff"
          ],
          [
           "The Bores: A Comedy in Three Acts"
          ],
          [
           "Sganarelle, or, the Self-Deceived Husband"
          ],
          [
           "Don Garcia of Navarre; Or, the Jealous Prince. A Heroic Comedy in Five Acts."
          ],
          [
           "The School for Husbands"
          ],
          [
           "The Miser"
          ],
          [
           "Monsieur De Pourceaugnac"
          ],
          [
           "The Magnificent Lovers (Les Amants magnifiques)"
          ],
          [
           "The Shopkeeper Turned Gentleman"
          ],
          [
           "The Imaginary Invalid"
          ]
         ],
         "hovertemplate": "author=Molière<br>proj_0=%{x}<br>proj_1=%{y}<br>title=%{customdata[0]}<extra></extra>",
         "legendgroup": "Molière",
         "marker": {
          "color": "#1CFFCE",
          "symbol": "circle"
         },
         "mode": "markers",
         "name": "Molière",
         "orientation": "v",
         "showlegend": true,
         "type": "scatter",
         "x": [
          -0.33384352922439575,
          -0.3511250615119934,
          -0.08905517309904099,
          -0.15755107998847961,
          -0.133736252784729,
          -0.20632287859916687,
          -0.21712473034858704,
          -0.23719239234924316,
          -0.31405889987945557,
          -0.24474622309207916,
          -0.21310900151729584,
          -0.2663126289844513,
          -0.2572113573551178,
          -0.15867099165916443,
          -0.24504657089710236,
          -0.18218453228473663,
          -0.21009360253810883,
          -0.21514466404914856
         ],
         "xaxis": "x",
         "y": [
          8.407337188720703,
          8.462108612060547,
          8.15473747253418,
          8.221084594726562,
          8.278044700622559,
          8.309979438781738,
          8.352360725402832,
          8.38044261932373,
          8.399298667907715,
          8.378607749938965,
          8.326905250549316,
          8.414774894714355,
          8.26720905303955,
          8.279603004455566,
          8.363905906677246,
          8.30014419555664,
          8.333187103271484,
          8.33582592010498
         ],
         "yaxis": "y"
        },
        {
         "customdata": [
          [
           "Beyond Lies the Wub"
          ],
          [
           "Beyond the Door"
          ],
          [
           "The Crystal Crypt"
          ],
          [
           "The Defenders"
          ],
          [
           "The Gun"
          ],
          [
           "The Skull"
          ],
          [
           "The Eyes Have It"
          ],
          [
           "Second Variety"
          ],
          [
           "The Variable Man"
          ],
          [
           "Mr. Spaceship"
          ],
          [
           "Piper in the Woods"
          ],
          [
           "Tony and the Beetles"
          ],
          [
           "The Hanging Stranger"
          ],
          [
           "Prize ship"
          ]
         ],
         "hovertemplate": "author=Dick, Philip K.<br>proj_0=%{x}<br>proj_1=%{y}<br>title=%{customdata[0]}<extra></extra>",
         "legendgroup": "Dick, Philip K.",
         "marker": {
          "color": "#2ED9FF",
          "symbol": "circle"
         },
         "mode": "markers",
         "name": "Dick, Philip K.",
         "orientation": "v",
         "showlegend": true,
         "type": "scatter",
         "x": [
          0.1855269968509674,
          0.08922317624092102,
          -0.1326906830072403,
          -0.18474549055099487,
          -0.2247302234172821,
          -0.11515035480260849,
          0.253160685300827,
          -0.15948398411273956,
          -0.26519283652305603,
          -0.260760635137558,
          -0.26553797721862793,
          -0.11453138291835785,
          -0.2444242388010025,
          -0.2009514570236206
         ],
         "xaxis": "x",
         "y": [
          7.039283275604248,
          7.1984477043151855,
          7.089322090148926,
          7.204084396362305,
          7.197259426116943,
          7.0919060707092285,
          7.240684509277344,
          7.117325782775879,
          7.04952335357666,
          7.061302185058594,
          7.099583625793457,
          7.069573402404785,
          7.087730884552002,
          7.051512718200684
         ],
         "yaxis": "y"
        },
        {
         "customdata": [
          [
           "Writings in the United Amateur, 1915-1922"
          ],
          [
           "The Shunned House"
          ],
          [
           "The Dunwich Horror"
          ],
          [
           "The colour out of space"
          ],
          [
           "The call of Cthulhu"
          ],
          [
           "He"
          ],
          [
           "The festival"
          ],
          [
           "The lurking fear"
          ]
         ],
         "hovertemplate": "author=Lovecraft, H. P. (Howard Phillips)<br>proj_0=%{x}<br>proj_1=%{y}<br>title=%{customdata[0]}<extra></extra>",
         "legendgroup": "Lovecraft, H. P. (Howard Phillips)",
         "marker": {
          "color": "#B10DA1",
          "symbol": "circle"
         },
         "mode": "markers",
         "name": "Lovecraft, H. P. (Howard Phillips)",
         "orientation": "v",
         "showlegend": true,
         "type": "scatter",
         "x": [
          2.6529433727264404,
          0.3204408288002014,
          -0.9905855059623718,
          0.3069627583026886,
          0.34143105149269104,
          0.5417240858078003,
          0.5228894352912903,
          0.28190305829048157
         ],
         "xaxis": "x",
         "y": [
          1.939563512802124,
          6.953290939331055,
          9.824930191040039,
          7.008677005767822,
          7.00398588180542,
          6.811573028564453,
          7.1455302238464355,
          6.909774303436279
         ],
         "yaxis": "y"
        },
        {
         "customdata": [
          [
           "Lambda"
          ],
          [
           "Deathway"
          ]
         ],
         "hovertemplate": "author=Umer, Tomo<br>proj_0=%{x}<br>proj_1=%{y}<br>title=%{customdata[0]}<extra></extra>",
         "legendgroup": "Umer, Tomo",
         "marker": {
          "color": "#C075A6",
          "symbol": "circle"
         },
         "mode": "markers",
         "name": "Umer, Tomo",
         "orientation": "v",
         "showlegend": true,
         "type": "scatter",
         "x": [
          -0.4006028473377228,
          -0.040724512189626694
         ],
         "xaxis": "x",
         "y": [
          6.448741912841797,
          7.59465217590332
         ],
         "yaxis": "y"
        }
       ],
       "layout": {
        "height": 800,
        "legend": {
         "title": {
          "text": "author"
         },
         "tracegroupgap": 0
        },
        "margin": {
         "t": 60
        },
        "shapes": [
         {
          "line": {
           "color": "LightSeaGreen"
          },
          "type": "circle",
          "x0": -1.033424735069275,
          "x1": 0.23221901059150696,
          "xref": "x",
          "y0": 5.815919876098633,
          "y1": 7.081563949584961,
          "yref": "y"
         },
         {
          "line": {
           "color": "LightSeaGreen"
          },
          "type": "circle",
          "x0": -0.6735463738441467,
          "x1": 0.5920973420143127,
          "xref": "x",
          "y0": 6.961830139160156,
          "y1": 8.227474212646484,
          "yref": "y"
         }
        ],
        "template": {
         "data": {
          "bar": [
           {
            "error_x": {
             "color": "#2a3f5f"
            },
            "error_y": {
             "color": "#2a3f5f"
            },
            "marker": {
             "line": {
              "color": "#E5ECF6",
              "width": 0.5
             },
             "pattern": {
              "fillmode": "overlay",
              "size": 10,
              "solidity": 0.2
             }
            },
            "type": "bar"
           }
          ],
          "barpolar": [
           {
            "marker": {
             "line": {
              "color": "#E5ECF6",
              "width": 0.5
             },
             "pattern": {
              "fillmode": "overlay",
              "size": 10,
              "solidity": 0.2
             }
            },
            "type": "barpolar"
           }
          ],
          "carpet": [
           {
            "aaxis": {
             "endlinecolor": "#2a3f5f",
             "gridcolor": "white",
             "linecolor": "white",
             "minorgridcolor": "white",
             "startlinecolor": "#2a3f5f"
            },
            "baxis": {
             "endlinecolor": "#2a3f5f",
             "gridcolor": "white",
             "linecolor": "white",
             "minorgridcolor": "white",
             "startlinecolor": "#2a3f5f"
            },
            "type": "carpet"
           }
          ],
          "choropleth": [
           {
            "colorbar": {
             "outlinewidth": 0,
             "ticks": ""
            },
            "type": "choropleth"
           }
          ],
          "contour": [
           {
            "colorbar": {
             "outlinewidth": 0,
             "ticks": ""
            },
            "colorscale": [
             [
              0,
              "#0d0887"
             ],
             [
              0.1111111111111111,
              "#46039f"
             ],
             [
              0.2222222222222222,
              "#7201a8"
             ],
             [
              0.3333333333333333,
              "#9c179e"
             ],
             [
              0.4444444444444444,
              "#bd3786"
             ],
             [
              0.5555555555555556,
              "#d8576b"
             ],
             [
              0.6666666666666666,
              "#ed7953"
             ],
             [
              0.7777777777777778,
              "#fb9f3a"
             ],
             [
              0.8888888888888888,
              "#fdca26"
             ],
             [
              1,
              "#f0f921"
             ]
            ],
            "type": "contour"
           }
          ],
          "contourcarpet": [
           {
            "colorbar": {
             "outlinewidth": 0,
             "ticks": ""
            },
            "type": "contourcarpet"
           }
          ],
          "heatmap": [
           {
            "colorbar": {
             "outlinewidth": 0,
             "ticks": ""
            },
            "colorscale": [
             [
              0,
              "#0d0887"
             ],
             [
              0.1111111111111111,
              "#46039f"
             ],
             [
              0.2222222222222222,
              "#7201a8"
             ],
             [
              0.3333333333333333,
              "#9c179e"
             ],
             [
              0.4444444444444444,
              "#bd3786"
             ],
             [
              0.5555555555555556,
              "#d8576b"
             ],
             [
              0.6666666666666666,
              "#ed7953"
             ],
             [
              0.7777777777777778,
              "#fb9f3a"
             ],
             [
              0.8888888888888888,
              "#fdca26"
             ],
             [
              1,
              "#f0f921"
             ]
            ],
            "type": "heatmap"
           }
          ],
          "heatmapgl": [
           {
            "colorbar": {
             "outlinewidth": 0,
             "ticks": ""
            },
            "colorscale": [
             [
              0,
              "#0d0887"
             ],
             [
              0.1111111111111111,
              "#46039f"
             ],
             [
              0.2222222222222222,
              "#7201a8"
             ],
             [
              0.3333333333333333,
              "#9c179e"
             ],
             [
              0.4444444444444444,
              "#bd3786"
             ],
             [
              0.5555555555555556,
              "#d8576b"
             ],
             [
              0.6666666666666666,
              "#ed7953"
             ],
             [
              0.7777777777777778,
              "#fb9f3a"
             ],
             [
              0.8888888888888888,
              "#fdca26"
             ],
             [
              1,
              "#f0f921"
             ]
            ],
            "type": "heatmapgl"
           }
          ],
          "histogram": [
           {
            "marker": {
             "pattern": {
              "fillmode": "overlay",
              "size": 10,
              "solidity": 0.2
             }
            },
            "type": "histogram"
           }
          ],
          "histogram2d": [
           {
            "colorbar": {
             "outlinewidth": 0,
             "ticks": ""
            },
            "colorscale": [
             [
              0,
              "#0d0887"
             ],
             [
              0.1111111111111111,
              "#46039f"
             ],
             [
              0.2222222222222222,
              "#7201a8"
             ],
             [
              0.3333333333333333,
              "#9c179e"
             ],
             [
              0.4444444444444444,
              "#bd3786"
             ],
             [
              0.5555555555555556,
              "#d8576b"
             ],
             [
              0.6666666666666666,
              "#ed7953"
             ],
             [
              0.7777777777777778,
              "#fb9f3a"
             ],
             [
              0.8888888888888888,
              "#fdca26"
             ],
             [
              1,
              "#f0f921"
             ]
            ],
            "type": "histogram2d"
           }
          ],
          "histogram2dcontour": [
           {
            "colorbar": {
             "outlinewidth": 0,
             "ticks": ""
            },
            "colorscale": [
             [
              0,
              "#0d0887"
             ],
             [
              0.1111111111111111,
              "#46039f"
             ],
             [
              0.2222222222222222,
              "#7201a8"
             ],
             [
              0.3333333333333333,
              "#9c179e"
             ],
             [
              0.4444444444444444,
              "#bd3786"
             ],
             [
              0.5555555555555556,
              "#d8576b"
             ],
             [
              0.6666666666666666,
              "#ed7953"
             ],
             [
              0.7777777777777778,
              "#fb9f3a"
             ],
             [
              0.8888888888888888,
              "#fdca26"
             ],
             [
              1,
              "#f0f921"
             ]
            ],
            "type": "histogram2dcontour"
           }
          ],
          "mesh3d": [
           {
            "colorbar": {
             "outlinewidth": 0,
             "ticks": ""
            },
            "type": "mesh3d"
           }
          ],
          "parcoords": [
           {
            "line": {
             "colorbar": {
              "outlinewidth": 0,
              "ticks": ""
             }
            },
            "type": "parcoords"
           }
          ],
          "pie": [
           {
            "automargin": true,
            "type": "pie"
           }
          ],
          "scatter": [
           {
            "fillpattern": {
             "fillmode": "overlay",
             "size": 10,
             "solidity": 0.2
            },
            "type": "scatter"
           }
          ],
          "scatter3d": [
           {
            "line": {
             "colorbar": {
              "outlinewidth": 0,
              "ticks": ""
             }
            },
            "marker": {
             "colorbar": {
              "outlinewidth": 0,
              "ticks": ""
             }
            },
            "type": "scatter3d"
           }
          ],
          "scattercarpet": [
           {
            "marker": {
             "colorbar": {
              "outlinewidth": 0,
              "ticks": ""
             }
            },
            "type": "scattercarpet"
           }
          ],
          "scattergeo": [
           {
            "marker": {
             "colorbar": {
              "outlinewidth": 0,
              "ticks": ""
             }
            },
            "type": "scattergeo"
           }
          ],
          "scattergl": [
           {
            "marker": {
             "colorbar": {
              "outlinewidth": 0,
              "ticks": ""
             }
            },
            "type": "scattergl"
           }
          ],
          "scattermapbox": [
           {
            "marker": {
             "colorbar": {
              "outlinewidth": 0,
              "ticks": ""
             }
            },
            "type": "scattermapbox"
           }
          ],
          "scatterpolar": [
           {
            "marker": {
             "colorbar": {
              "outlinewidth": 0,
              "ticks": ""
             }
            },
            "type": "scatterpolar"
           }
          ],
          "scatterpolargl": [
           {
            "marker": {
             "colorbar": {
              "outlinewidth": 0,
              "ticks": ""
             }
            },
            "type": "scatterpolargl"
           }
          ],
          "scatterternary": [
           {
            "marker": {
             "colorbar": {
              "outlinewidth": 0,
              "ticks": ""
             }
            },
            "type": "scatterternary"
           }
          ],
          "surface": [
           {
            "colorbar": {
             "outlinewidth": 0,
             "ticks": ""
            },
            "colorscale": [
             [
              0,
              "#0d0887"
             ],
             [
              0.1111111111111111,
              "#46039f"
             ],
             [
              0.2222222222222222,
              "#7201a8"
             ],
             [
              0.3333333333333333,
              "#9c179e"
             ],
             [
              0.4444444444444444,
              "#bd3786"
             ],
             [
              0.5555555555555556,
              "#d8576b"
             ],
             [
              0.6666666666666666,
              "#ed7953"
             ],
             [
              0.7777777777777778,
              "#fb9f3a"
             ],
             [
              0.8888888888888888,
              "#fdca26"
             ],
             [
              1,
              "#f0f921"
             ]
            ],
            "type": "surface"
           }
          ],
          "table": [
           {
            "cells": {
             "fill": {
              "color": "#EBF0F8"
             },
             "line": {
              "color": "white"
             }
            },
            "header": {
             "fill": {
              "color": "#C8D4E3"
             },
             "line": {
              "color": "white"
             }
            },
            "type": "table"
           }
          ]
         },
         "layout": {
          "annotationdefaults": {
           "arrowcolor": "#2a3f5f",
           "arrowhead": 0,
           "arrowwidth": 1
          },
          "autotypenumbers": "strict",
          "coloraxis": {
           "colorbar": {
            "outlinewidth": 0,
            "ticks": ""
           }
          },
          "colorscale": {
           "diverging": [
            [
             0,
             "#8e0152"
            ],
            [
             0.1,
             "#c51b7d"
            ],
            [
             0.2,
             "#de77ae"
            ],
            [
             0.3,
             "#f1b6da"
            ],
            [
             0.4,
             "#fde0ef"
            ],
            [
             0.5,
             "#f7f7f7"
            ],
            [
             0.6,
             "#e6f5d0"
            ],
            [
             0.7,
             "#b8e186"
            ],
            [
             0.8,
             "#7fbc41"
            ],
            [
             0.9,
             "#4d9221"
            ],
            [
             1,
             "#276419"
            ]
           ],
           "sequential": [
            [
             0,
             "#0d0887"
            ],
            [
             0.1111111111111111,
             "#46039f"
            ],
            [
             0.2222222222222222,
             "#7201a8"
            ],
            [
             0.3333333333333333,
             "#9c179e"
            ],
            [
             0.4444444444444444,
             "#bd3786"
            ],
            [
             0.5555555555555556,
             "#d8576b"
            ],
            [
             0.6666666666666666,
             "#ed7953"
            ],
            [
             0.7777777777777778,
             "#fb9f3a"
            ],
            [
             0.8888888888888888,
             "#fdca26"
            ],
            [
             1,
             "#f0f921"
            ]
           ],
           "sequentialminus": [
            [
             0,
             "#0d0887"
            ],
            [
             0.1111111111111111,
             "#46039f"
            ],
            [
             0.2222222222222222,
             "#7201a8"
            ],
            [
             0.3333333333333333,
             "#9c179e"
            ],
            [
             0.4444444444444444,
             "#bd3786"
            ],
            [
             0.5555555555555556,
             "#d8576b"
            ],
            [
             0.6666666666666666,
             "#ed7953"
            ],
            [
             0.7777777777777778,
             "#fb9f3a"
            ],
            [
             0.8888888888888888,
             "#fdca26"
            ],
            [
             1,
             "#f0f921"
            ]
           ]
          },
          "colorway": [
           "#636efa",
           "#EF553B",
           "#00cc96",
           "#ab63fa",
           "#FFA15A",
           "#19d3f3",
           "#FF6692",
           "#B6E880",
           "#FF97FF",
           "#FECB52"
          ],
          "font": {
           "color": "#2a3f5f"
          },
          "geo": {
           "bgcolor": "white",
           "lakecolor": "white",
           "landcolor": "#E5ECF6",
           "showlakes": true,
           "showland": true,
           "subunitcolor": "white"
          },
          "hoverlabel": {
           "align": "left"
          },
          "hovermode": "closest",
          "mapbox": {
           "style": "light"
          },
          "paper_bgcolor": "white",
          "plot_bgcolor": "#E5ECF6",
          "polar": {
           "angularaxis": {
            "gridcolor": "white",
            "linecolor": "white",
            "ticks": ""
           },
           "bgcolor": "#E5ECF6",
           "radialaxis": {
            "gridcolor": "white",
            "linecolor": "white",
            "ticks": ""
           }
          },
          "scene": {
           "xaxis": {
            "backgroundcolor": "#E5ECF6",
            "gridcolor": "white",
            "gridwidth": 2,
            "linecolor": "white",
            "showbackground": true,
            "ticks": "",
            "zerolinecolor": "white"
           },
           "yaxis": {
            "backgroundcolor": "#E5ECF6",
            "gridcolor": "white",
            "gridwidth": 2,
            "linecolor": "white",
            "showbackground": true,
            "ticks": "",
            "zerolinecolor": "white"
           },
           "zaxis": {
            "backgroundcolor": "#E5ECF6",
            "gridcolor": "white",
            "gridwidth": 2,
            "linecolor": "white",
            "showbackground": true,
            "ticks": "",
            "zerolinecolor": "white"
           }
          },
          "shapedefaults": {
           "line": {
            "color": "#2a3f5f"
           }
          },
          "ternary": {
           "aaxis": {
            "gridcolor": "white",
            "linecolor": "white",
            "ticks": ""
           },
           "baxis": {
            "gridcolor": "white",
            "linecolor": "white",
            "ticks": ""
           },
           "bgcolor": "#E5ECF6",
           "caxis": {
            "gridcolor": "white",
            "linecolor": "white",
            "ticks": ""
           }
          },
          "title": {
           "x": 0.05
          },
          "xaxis": {
           "automargin": true,
           "gridcolor": "white",
           "linecolor": "white",
           "ticks": "",
           "title": {
            "standoff": 15
           },
           "zerolinecolor": "white",
           "zerolinewidth": 2
          },
          "yaxis": {
           "automargin": true,
           "gridcolor": "white",
           "linecolor": "white",
           "ticks": "",
           "title": {
            "standoff": 15
           },
           "zerolinecolor": "white",
           "zerolinewidth": 2
          }
         }
        },
        "width": 1200,
        "xaxis": {
         "anchor": "y",
         "domain": [
          0,
          1
         ],
         "title": {
          "text": "proj_0"
         }
        },
        "yaxis": {
         "anchor": "x",
         "domain": [
          0,
          1
         ],
         "title": {
          "text": "proj_1"
         }
        }
       }
      }
     },
     "metadata": {},
     "output_type": "display_data"
    }
   ],
   "source": [
    "fig = px.scatter(data_frame = library_newtext,\n",
    "                 x='proj_0',\n",
    "                 y='proj_1',\n",
    "                 width=1200,\n",
    "                 height=800,\n",
    "                 color= 'author',\n",
    "                 color_discrete_sequence=px.colors.qualitative.Alphabet, #Dark24\n",
    "                 hover_data= ['title']\n",
    "                 )\n",
    "\n",
    "for i in range(circle_edges.shape[0]):\n",
    "    fig.add_shape(type='circle',\n",
    "        xref='x', yref='y',\n",
    "        x0=circle_edges['x0'][i],\n",
    "        y0=circle_edges['y0'][i],\n",
    "        x1=circle_edges['x1'][i],\n",
    "        y1=circle_edges['y1'][i],\n",
    "        line_color='LightSeaGreen',\n",
    "    )\n",
    "\n",
    "\n",
    "fig.show()"
   ]
  },
  {
   "cell_type": "code",
   "execution_count": 162,
   "metadata": {},
   "outputs": [
    {
     "data": {
      "application/vnd.plotly.v1+json": {
       "config": {
        "plotlyServerURL": "https://plot.ly"
       },
       "data": [
        {
         "customdata": [
          [
           "Apocolocyntosis"
          ],
          [
           "L. Annaeus Seneca on Benefits"
          ],
          [
           "Two Tragedies of Seneca: Medea and The Daughters of Troy: Rendered into English Verse"
          ],
          [
           "Seneca's Morals of a Happy Life, Benefits, Anger and Clemency"
          ],
          [
           "Minor Dialogues, Together With the Dialogue on Clemency"
          ]
         ],
         "hovertemplate": "authorcentury=1st century CE<br>proj_0=%{x}<br>proj_1=%{y}<br>title=%{customdata[0]}<extra></extra>",
         "legendgroup": "1st century CE",
         "marker": {
          "color": "#AA0DFE",
          "symbol": "circle"
         },
         "mode": "markers",
         "name": "1st century CE",
         "orientation": "v",
         "showlegend": true,
         "type": "scatter",
         "x": [
          0.3410874307155609,
          6.865371227264404,
          -0.2436162829399109,
          6.944971084594727,
          6.3623270988464355
         ],
         "xaxis": "x",
         "y": [
          7.504611968994141,
          6.059599876403809,
          7.084189414978027,
          6.147729873657227,
          6.157841205596924
         ],
         "yaxis": "y"
        },
        {
         "customdata": [
          [
           "La Fiammetta"
          ],
          [
           "The Decameron, Volume II"
          ],
          [
           "The Decameron of Giovanni Boccaccio"
          ],
          [
           "The Decameron, Volume I"
          ],
          [
           "The Decameron (Day 1 to Day 5): Containing an hundred pleasant Novels"
          ],
          [
           "The Decameron (Day 6 to Day 10): Containing an hundred pleasant Novels"
          ]
         ],
         "hovertemplate": "authorcentury=14th century CE<br>proj_0=%{x}<br>proj_1=%{y}<br>title=%{customdata[0]}<extra></extra>",
         "legendgroup": "14th century CE",
         "marker": {
          "color": "#3283FE",
          "symbol": "circle"
         },
         "mode": "markers",
         "name": "14th century CE",
         "orientation": "v",
         "showlegend": true,
         "type": "scatter",
         "x": [
          0.7313846945762634,
          7.240727424621582,
          7.180868625640869,
          7.504474639892578,
          7.674289226531982,
          7.770773887634277
         ],
         "xaxis": "x",
         "y": [
          6.641507625579834,
          5.480984210968018,
          5.618524551391602,
          5.819564342498779,
          5.943502426147461,
          5.995924472808838
         ],
         "yaxis": "y"
        },
        {
         "customdata": [
          [
           "Divine Comedy, Longfellow's Translation, Hell"
          ],
          [
           "Divine Comedy, Longfellow's Translation, Purgatory"
          ],
          [
           "Divine Comedy, Longfellow's Translation, Paradise"
          ],
          [
           "Divine Comedy, Longfellow's Translation, Complete"
          ],
          [
           "Divine Comedy, Cary's Translation, Hell"
          ],
          [
           "Divine Comedy, Cary's Translation, Purgatory"
          ],
          [
           "Divine Comedy, Cary's Translation, Paradise"
          ],
          [
           "Divine Comedy, Cary's Translation, Complete"
          ],
          [
           "The Banquet (Il Convito)"
          ],
          [
           "The Divine Comedy, Volume 1, Hell"
          ],
          [
           "The Divine Comedy, Volume 2, Purgatory"
          ],
          [
           "The Divine Comedy, Volume 3, Paradise"
          ],
          [
           "The New Life (La Vita Nuova)"
          ],
          [
           "The Divine Comedy of Dante Alighieri: The Inferno"
          ],
          [
           "The Vision of Dante: A story for little children and a talk to their mothers: (Second Edition)"
          ],
          [
           "The vision of hell.: By Dante Alighieri.; Translated by Rev. Henry Francis Cary, M.A.; and illustrated with the seventy-five designs of Gustave Doré."
          ],
          [
           "The Divine Comedy by Dante, Illustrated, Purgatory, Complete"
          ],
          [
           "The Divine Comedy by Dante, Illustrated, Paradise, Complete"
          ],
          [
           "The divine comedy"
          ]
         ],
         "hovertemplate": "authorcentury=13th century CE<br>proj_0=%{x}<br>proj_1=%{y}<br>title=%{customdata[0]}<extra></extra>",
         "legendgroup": "13th century CE",
         "marker": {
          "color": "#85660D",
          "symbol": "circle"
         },
         "mode": "markers",
         "name": "13th century CE",
         "orientation": "v",
         "showlegend": true,
         "type": "scatter",
         "x": [
          -2.1172244548797607,
          -2.025381326675415,
          -2.0389368534088135,
          -2.108295202255249,
          -2.3489770889282227,
          -2.2623071670532227,
          -2.2228033542633057,
          -2.3665237426757812,
          2.0795536041259766,
          -1.9158483743667603,
          -1.7822809219360352,
          -1.7875525951385498,
          1.0781277418136597,
          1.9006468057632446,
          0.3910719156265259,
          -2.361133098602295,
          -2.2290499210357666,
          -2.27555251121521,
          -2.3561737537384033
         ],
         "xaxis": "x",
         "y": [
          8.069772720336914,
          8.063016891479492,
          8.118197441101074,
          8.097694396972656,
          8.2225341796875,
          8.169395446777344,
          8.152497291564941,
          8.238932609558105,
          7.497037410736084,
          8.105751991271973,
          8.1848783493042,
          8.111491203308105,
          7.870769500732422,
          7.5212812423706055,
          7.867961406707764,
          8.240324974060059,
          8.139364242553711,
          8.187317848205566,
          8.20486831665039
         ],
         "yaxis": "y"
        },
        {
         "customdata": [
          [
           "Chinese Literature: Comprising the Analects of Confucius, the Sayings of Mencius, the Shi-King, the Travels of Fâ-Hien, and the Sorrows of Han"
          ],
          [
           "The Sayings of Confucius"
          ],
          [
           "The Analects of Confucius (from the Chinese Classics)"
          ],
          [
           "The Wisdom of Confucius: with Critical and Biographical Sketches"
          ],
          [
           "The Sayings of Confucius: A New Translation of the Greater Part of the Confucian Analects"
          ]
         ],
         "hovertemplate": "authorcentury=6th century BCE<br>proj_0=%{x}<br>proj_1=%{y}<br>title=%{customdata[0]}<extra></extra>",
         "legendgroup": "6th century BCE",
         "marker": {
          "color": "#782AB6",
          "symbol": "circle"
         },
         "mode": "markers",
         "name": "6th century BCE",
         "orientation": "v",
         "showlegend": true,
         "type": "scatter",
         "x": [
          2.6803314685821533,
          1.047937035560608,
          0.9620057940483093,
          2.716693878173828,
          1.095624327659607
         ],
         "xaxis": "x",
         "y": [
          2.578909397125244,
          6.871931076049805,
          6.838514804840088,
          2.4996554851531982,
          6.729891300201416
         ],
         "yaxis": "y"
        },
        {
         "customdata": [
          [
           "The Complete Works of William Shakespeare"
          ],
          [
           "Shakespeare's Sonnets"
          ],
          [
           "Venus and Adonis"
          ],
          [
           "King Richard III"
          ],
          [
           "The Tragedy of Titus Andronicus"
          ],
          [
           "The Taming of the Shrew"
          ],
          [
           "The Tragedy of Romeo and Juliet"
          ],
          [
           "As You Like It"
          ],
          [
           "The Tragedy of Macbeth"
          ],
          [
           "King Richard III"
          ],
          [
           "The Taming of the Shrew"
          ],
          [
           "Romeo and Juliet"
          ],
          [
           "A Midsummer Night's Dream"
          ],
          [
           "The Merchant of Venice"
          ],
          [
           "King Henry IV, the First Part"
          ],
          [
           "Much Ado about Nothing"
          ],
          [
           "The Life of King Henry V"
          ],
          [
           "Julius Caesar"
          ],
          [
           "As You Like It"
          ],
          [
           "Hamlet, Prince of Denmark"
          ],
          [
           "Twelfth Night; Or, What You Will"
          ],
          [
           "All's Well That Ends Well"
          ],
          [
           "Othello, the Moor of Venice"
          ],
          [
           "The Tragedy of King Lear"
          ],
          [
           "Macbeth"
          ],
          [
           "Antony and Cleopatra"
          ],
          [
           "The Winter's Tale"
          ],
          [
           "The Tempest"
          ],
          [
           "Sir Thomas More"
          ],
          [
           "Romeo and Juliet"
          ],
          [
           "Julius Caesar"
          ],
          [
           "Hamlet"
          ],
          [
           "King Lear"
          ],
          [
           "A Midsummer Night's Dream"
          ],
          [
           "The Merchant of Venice"
          ],
          [
           "Twelfth Night"
          ],
          [
           "Henry V"
          ],
          [
           "Macbeth"
          ],
          [
           "Hamlet"
          ],
          [
           "Othello"
          ],
          [
           "Shakespeare's First Folio"
          ],
          [
           "The Tempest: The Works of William Shakespeare [Cambridge Edition] [9 vols.]"
          ],
          [
           "Two Gentlemen of Verona: The Works of William Shakespeare [Cambridge Edition] [9 vols.]"
          ],
          [
           "The Merry Wives of Windsor: The Works of William Shakespeare [Cambridge Edition] [9 vols.]"
          ],
          [
           "Measure for Measure: The Works of William Shakespeare [Cambridge Edition] [9 vols.]"
          ],
          [
           "The Comedy of Errors: The Works of William Shakespeare [Cambridge Edition] [9 vols.]"
          ],
          [
           "Hamlet, Prince of Denmark"
          ],
          [
           "The New Hudson Shakespeare: Julius Cæsar"
          ],
          [
           "Shakespeare's Tragedy of Romeo and Juliet"
          ],
          [
           "Flowers from Shakespeare's Garden: A Posy from the Plays"
          ]
         ],
         "hovertemplate": "authorcentury=16th century CE<br>proj_0=%{x}<br>proj_1=%{y}<br>title=%{customdata[0]}<extra></extra>",
         "legendgroup": "16th century CE",
         "marker": {
          "color": "#565656",
          "symbol": "circle"
         },
         "mode": "markers",
         "name": "16th century CE",
         "orientation": "v",
         "showlegend": true,
         "type": "scatter",
         "x": [
          9.361841201782227,
          7.955824851989746,
          8.180631637573242,
          9.108331680297852,
          9.000748634338379,
          8.969480514526367,
          8.969456672668457,
          8.337749481201172,
          8.228226661682129,
          9.162930488586426,
          9.009458541870117,
          8.797094345092773,
          8.074034690856934,
          8.318501472473145,
          8.358877182006836,
          8.34381103515625,
          9.332298278808594,
          8.649529457092285,
          8.245410919189453,
          8.951434135437012,
          7.979482650756836,
          8.661185264587402,
          8.994213104248047,
          8.9373779296875,
          8.225770950317383,
          8.525607109069824,
          8.43584156036377,
          8.275236129760742,
          7.936735153198242,
          8.920562744140625,
          8.553258895874023,
          9.148815155029297,
          8.86690616607666,
          9.062602996826172,
          9.32329273223877,
          9.054594993591309,
          9.387277603149414,
          9.29346752166748,
          9.26223373413086,
          9.368626594543457,
          9.332332611083984,
          8.203198432922363,
          8.0990571975708,
          8.663575172424316,
          8.172333717346191,
          7.935189723968506,
          7.903755187988281,
          7.897022247314453,
          8.665881156921387,
          0.6128960847854614
         ],
         "xaxis": "x",
         "y": [
          6.546234130859375,
          6.374109745025635,
          6.30764627456665,
          6.613758087158203,
          6.2130656242370605,
          6.395538330078125,
          6.045239448547363,
          6.212676048278809,
          6.475090503692627,
          6.51886510848999,
          6.396197319030762,
          5.952826976776123,
          6.374469757080078,
          6.480040073394775,
          6.240095138549805,
          6.526011943817139,
          6.3866705894470215,
          6.178151607513428,
          6.2360758781433105,
          6.145662784576416,
          6.277054786682129,
          6.555960178375244,
          6.6524271965026855,
          6.6310625076293945,
          6.4580302238464355,
          6.247525691986084,
          6.301324367523193,
          6.601903438568115,
          6.392373085021973,
          6.0224151611328125,
          6.1717209815979,
          6.241543769836426,
          6.532633304595947,
          6.368077278137207,
          6.359748363494873,
          6.64447546005249,
          6.451161861419678,
          6.505243301391602,
          6.520305156707764,
          6.477075099945068,
          6.467663764953613,
          6.455075740814209,
          6.319295406341553,
          6.292104244232178,
          6.4327616691589355,
          6.524234771728516,
          6.304933547973633,
          6.282925605773926,
          6.091087818145752,
          6.734448432922363
         ],
         "yaxis": "y"
        },
        {
         "customdata": [
          [
           "Bleak House"
          ],
          [
           "The Tragedy of Pudd'nhead Wilson"
          ],
          [
           "The Green Flag, and Other Stories of War and Sport"
          ],
          [
           "Extract from Captain Stormfield's Visit to Heaven"
          ],
          [
           "A Horse's Tale"
          ],
          [
           "The Return of Sherlock Holmes"
          ],
          [
           "The Exploits of Brigadier Gerard"
          ],
          [
           "The Refugees: A Tale of Two Continents"
          ],
          [
           "The Great Shadow and Other Napoleonic Tales"
          ],
          [
           "The Count of Monte Cristo, Illustrated"
          ],
          [
           "A Tramp Abroad"
          ],
          [
           "The Man That Corrupted Hadleyburg"
          ],
          [
           "The Three Musketeers"
          ],
          [
           "Ten Years Later"
          ],
          [
           "Twenty Years After"
          ],
          [
           "The Poison Belt"
          ],
          [
           "Three Ghost Stories"
          ],
          [
           "The Firm of Girdlestone"
          ],
          [
           "The Forty-Five Guardsmen"
          ],
          [
           "The Lost World"
          ],
          [
           "Great Expectations"
          ],
          [
           "The Perils of Certain English Prisoners"
          ],
          [
           "A Message from the Sea"
          ],
          [
           "Doctor Marigold"
          ],
          [
           "The $30,000 Bequest, and Other Stories"
          ],
          [
           "The Wreck of the Golden Mary"
          ],
          [
           "Some Christmas Stories"
          ],
          [
           "Camille (La Dame aux Camilias)"
          ],
          [
           "The Adventures of Gerard"
          ],
          [
           "The Adventures of Sherlock Holmes"
          ],
          [
           "The Prince and the Pauper"
          ],
          [
           "Extracts from Adam's Diary, translated from the original ms."
          ],
          [
           "The Vicomte de Bragelonne; Or, Ten Years Later: Being the completion of \"The Three Musketeers\" and \"Twenty Years After\""
          ],
          [
           "A Christmas Carol"
          ],
          [
           "Chapters from My Autobiography"
          ],
          [
           "The Queen's Necklace"
          ],
          [
           "The Sign of the Four"
          ],
          [
           "The Return of Sherlock Holmes"
          ],
          [
           "Danger! and Other Stories"
          ],
          [
           "The Magic Fishbone: A Holiday Romance from the Pen of Miss Alice Rainbird, Aged 7"
          ],
          [
           "The Adventure of Wisteria Lodge"
          ],
          [
           "The Adventure of the Cardboard Box"
          ],
          [
           "The Adventure of the Red Circle"
          ],
          [
           "The Adventure of the Bruce-Partington Plans"
          ],
          [
           "The Adventure of the Dying Detective"
          ],
          [
           "The Disappearance of Lady Frances Carfax"
          ],
          [
           "The Adventure of the Devil's Foot"
          ],
          [
           "His Last Bow: An Epilogue of Sherlock Holmes"
          ],
          [
           "A Christmas Carol"
          ],
          [
           "Is Shakespeare Dead?: From My Autobiography"
          ],
          [
           "A Study in Scarlet"
          ],
          [
           "Life on the Mississippi"
          ],
          [
           "On the Decay of the Art of Lying"
          ],
          [
           "The Letters of Charles Dickens. Vol. 1, 1833-1856"
          ],
          [
           "The Letters of Charles Dickens. Vol. 2, 1857-1870"
          ],
          [
           "Bardell v. Pickwick"
          ],
          [
           "The Vicomte De Bragelonne"
          ],
          [
           "Ten Years Later"
          ],
          [
           "Louise de la Valliere"
          ],
          [
           "The Regent's Daughter"
          ],
          [
           "The Conspirators: The Chevalier d'Harmental"
          ],
          [
           "The Borgias: Celebrated Crimes"
          ],
          [
           "Cenci: Celebrated Crimes"
          ],
          [
           "Massacres of the South (1551-1815): Celebrated Crimes"
          ],
          [
           "Mary Stuart: Celebrated Crimes"
          ],
          [
           "Urbain Grandier: Celebrated Crimes"
          ],
          [
           "Derues: Celebrated Crimes"
          ],
          [
           "La Constantin: Celebrated Crimes"
          ],
          [
           "Joan of Naples: Celebrated Crimes"
          ],
          [
           "Man in the Iron Mask (an Essay)"
          ],
          [
           "Martin Guerre: Celebrated Crimes"
          ],
          [
           "Ali Pacha: Celebrated Crimes"
          ],
          [
           "Murat: Celebrated Crimes"
          ],
          [
           "Marquise Brinvillier: Celebrated Crimes"
          ],
          [
           "Marquise De Ganges: Celebrated Crimes"
          ],
          [
           "The Man in the Iron Mask"
          ],
          [
           "Celebrated Crimes (Complete)"
          ],
          [
           "Mugby Junction"
          ],
          [
           "Sir Nigel"
          ],
          [
           "The Hound of the Baskervilles"
          ],
          [
           "Personal Recollections of Joan of Arc — Volume 1"
          ],
          [
           "Personal Recollections of Joan of Arc — Volume 2"
          ],
          [
           "Following the Equator: A Journey Around the World"
          ],
          [
           "The Captain of the Polestar, and Other Tales"
          ],
          [
           "A Christmas Carol: The original manuscript"
          ],
          [
           "The Great Boer War"
          ],
          [
           "The Hound of the Baskervilles"
          ],
          [
           "In Defence of Harriet Shelley"
          ],
          [
           "Fenimore Cooper's Literary Offences"
          ],
          [
           "A Dog's Tale"
          ],
          [
           "The Innocents Abroad"
          ],
          [
           "Roughing It"
          ],
          [
           "The Gilded Age: A Tale of Today"
          ],
          [
           "The American Claimant"
          ],
          [
           "A Double Barrelled Detective Story"
          ],
          [
           "The Stolen White Elephant"
          ],
          [
           "The Facts Concerning the Recent Carnival of Crime in Connecticut"
          ],
          [
           "Those Extraordinary Twins"
          ],
          [
           "The Mysterious Stranger, and Other Stories"
          ],
          [
           "Christian Science"
          ],
          [
           "Mark Twain's Speeches"
          ],
          [
           "Sketches New and Old"
          ],
          [
           "1601: Conversation as it was by the Social Fireside in the Time of the Tudors"
          ],
          [
           "Mark Twain's Letters — Volume 1 (1853-1866)"
          ],
          [
           "Mark Twain's Letters — Volume 2 (1867-1875)"
          ],
          [
           "Mark Twain's Letters — Volume 4 (1886-1900)"
          ],
          [
           "Mark Twain's Letters — Complete (1853-1910)"
          ],
          [
           "The Adventures of Huckleberry Finn (Tom Sawyer's Comrade)"
          ],
          [
           "How to Tell a Story, and Other Essays"
          ],
          [
           "The Man That Corrupted Hadleyburg, and Other Stories"
          ],
          [
           "The Great Keinplatz Experiment and Other Tales of Twilight and the Unseen"
          ],
          [
           "The Valley of Fear"
          ],
          [
           "Marguerite de Valois"
          ],
          [
           "The Parasite: A Story"
          ],
          [
           "The Prussian Terror"
          ],
          [
           "The Crime of the Congo"
          ],
          [
           "The Valley of Fear"
          ],
          [
           "The Wanderings of a Spiritualist"
          ],
          [
           "The Battle of Life: A Love Story"
          ],
          [
           "The Corsican Brothers"
          ],
          [
           "A Child's Dream of a Star"
          ],
          [
           "Round the Red Lamp: Being Facts and Fancies of Medical Life"
          ],
          [
           "The Hero of the People: A Historical Romance of Love, Liberty and Loyalty"
          ],
          [
           "The Mesmerist's Victim"
          ],
          [
           "The Countess of Charny; or, The Execution of King Louis XVI"
          ],
          [
           "The Personal History of David Copperfield"
          ],
          [
           "The Royal Life Guard; or, the flight of the royal family.: A historical romance of the suppression of the French monarchy"
          ],
          [
           "The Vital Message"
          ],
          [
           "Taking the Bastile; Or, Pitou the Peasant: A Historical Story of the Great French Revolution"
          ],
          [
           "Balsamo, the Magician; or, The Memoirs of a Physician"
          ],
          [
           "Oliver Twist; or, The Parish Boy's Progress. Illustrated"
          ],
          [
           "The Coming of the Fairies"
          ],
          [
           "Oliver Twist, Vol. 1 (of 3)"
          ],
          [
           "The Posthumous Papers of the Pickwick Club, v. 2 (of 2)"
          ],
          [
           "Adventures of Sherlock Holmes: Illustrated"
          ],
          [
           "My Memoirs, Vol. I, 1802 to 1821"
          ],
          [
           "The Mysterious Stranger: A Romance"
          ],
          [
           "My Memoirs, Vol. II, 1822 to 1825"
          ],
          [
           "My Memoirs, Vol. III, 1826 to 1830"
          ],
          [
           "My Memoirs, Vol. V, 1831 to 1832"
          ],
          [
           "The Wolf-Leader"
          ],
          [
           "My Memoirs, Vol. VI, 1832 to 1833"
          ],
          [
           "Rodney Stone"
          ],
          [
           "The War of Women, Volume 1"
          ],
          [
           "Tales of Terror and Mystery"
          ],
          [
           "Round the Fire Stories"
          ],
          [
           "The Mystery of Edwin Drood"
          ],
          [
           "The Pickwick Papers"
          ],
          [
           "Following the Equator: A Journey Around the World. Part 3"
          ],
          [
           "Master Humphrey's Clock"
          ],
          [
           "The Case for Spirit Photography: With corroborative evidence by experienced researchers and photographers"
          ],
          [
           "The Whites and the Blues"
          ],
          [
           "Merry Tales"
          ],
          [
           "The £1,000,000 bank-note, and other new stories"
          ],
          [
           "To the Person Sitting in Darkness"
          ],
          [
           "King Leopold's Soliloquy: A Defense of His Congo Rule"
          ],
          [
           "The Haunted Man and the Ghost's Bargain"
          ],
          [
           "Pictures from Italy"
          ],
          [
           "The Chimes: A Goblin Story of Some Bells That Rang an Old Year out and a New Year In"
          ],
          [
           "Ascanio"
          ],
          [
           "Memories and Adventures"
          ],
          [
           "American Notes"
          ],
          [
           "The Battle of Life"
          ],
          [
           "The Cricket on the Hearth: A Fairy Tale of Home"
          ],
          [
           "Europe and elsewhere"
          ],
          [
           "The land of mist"
          ],
          [
           "My friend the murderer, and other mysteries and adventures"
          ],
          [
           "The case-book of Sherlock Holmes"
          ],
          [
           "The case of Oscar Slater"
          ],
          [
           "A Child's History of England"
          ],
          [
           "The Old Curiosity Shop"
          ],
          [
           "The Companions of Jehu"
          ],
          [
           "Adventures of Huckleberry Finn, Chapters 01 to 05"
          ],
          [
           "Adventures of Huckleberry Finn, Chapters 11 to 15"
          ],
          [
           "The Adventures of Tom Sawyer, Part 1."
          ],
          [
           "The Adventures of Tom Sawyer, Part 2."
          ],
          [
           "Oliver Twist"
          ],
          [
           "Chicot the Jester"
          ],
          [
           "David Copperfield"
          ],
          [
           "Hard Times"
          ],
          [
           "The Mystery of Cloomber"
          ],
          [
           "Hunted Down: The Detective Stories of Charles Dickens"
          ],
          [
           "Holiday Romance"
          ],
          [
           "George Silverman's Explanation"
          ],
          [
           "Dombey and Son"
          ],
          [
           "Speeches: Literary and Social"
          ],
          [
           "The Memoirs of Sherlock Holmes"
          ],
          [
           "Eve's Diary, Complete"
          ],
          [
           "Reprinted Pieces"
          ],
          [
           "Sketches by Boz, Illustrative of Every-Day Life and Every-Day People"
          ],
          [
           "Our Mutual Friend"
          ],
          [
           "The White Company"
          ],
          [
           "The Uncommercial Traveller"
          ],
          [
           "Barnaby Rudge: A Tale of the Riots of 'Eighty"
          ],
          [
           "To Be Read at Dusk"
          ],
          [
           "Micah Clarke: His Statement as made to his three grandchildren Joseph, Gervas and Reuben During the Hard Winter of 1734"
          ],
          [
           "Little Dorrit"
          ],
          [
           "The Black Tulip"
          ],
          [
           "Nicholas Nickleby"
          ],
          [
           "Martin Chuzzlewit"
          ]
         ],
         "hovertemplate": "authorcentury=19th century CE<br>proj_0=%{x}<br>proj_1=%{y}<br>title=%{customdata[0]}<extra></extra>",
         "legendgroup": "19th century CE",
         "marker": {
          "color": "#1C8356",
          "symbol": "circle"
         },
         "mode": "markers",
         "name": "19th century CE",
         "orientation": "v",
         "showlegend": true,
         "type": "scatter",
         "x": [
          -1.5482416152954102,
          -1.4259791374206543,
          5.6098480224609375,
          -1.1948652267456055,
          -1.3020780086517334,
          5.627164363861084,
          6.2625274658203125,
          5.777871131896973,
          6.08674955368042,
          3.2928097248077393,
          -1.2935329675674438,
          -1.4527417421340942,
          3.376469373703003,
          4.337898254394531,
          3.4810192584991455,
          5.947298049926758,
          -1.071848750114441,
          6.043784141540527,
          4.01146125793457,
          5.8786396980285645,
          -1.677506446838379,
          -0.7306573390960693,
          -0.5248371362686157,
          -0.5378789305686951,
          -1.3557157516479492,
          -0.2936144173145294,
          -0.9023860096931458,
          3.6343812942504883,
          5.898695945739746,
          5.9192376136779785,
          -1.3384963274002075,
          -1.0274099111557007,
          4.305398464202881,
          -0.9449154734611511,
          -1.4804424047470093,
          3.997464179992676,
          5.922855854034424,
          5.650500297546387,
          5.6797590255737305,
          -0.19186879694461823,
          5.803099632263184,
          5.810716152191162,
          5.720208168029785,
          5.714773178100586,
          5.716155052185059,
          5.7086944580078125,
          5.7509260177612305,
          5.881477355957031,
          -0.9022831320762634,
          -1.3168288469314575,
          5.7703938484191895,
          -1.3801028728485107,
          0.21327267587184906,
          -1.166351318359375,
          -1.1423113346099854,
          -0.6327309608459473,
          4.340704917907715,
          4.316239356994629,
          4.356921195983887,
          3.517671823501587,
          3.675429582595825,
          3.7230398654937744,
          3.671520709991455,
          4.324667930603027,
          3.9969916343688965,
          3.5033674240112305,
          3.873162269592285,
          3.6829466819763184,
          3.924527168273926,
          3.3371169567108154,
          3.3880670070648193,
          3.9804704189300537,
          3.6582438945770264,
          3.6534078121185303,
          3.585872173309326,
          4.355008125305176,
          4.278848648071289,
          -0.8808557391166687,
          5.890293598175049,
          5.943329811096191,
          -1.415438175201416,
          -1.355397343635559,
          -1.3129642009735107,
          5.678704738616943,
          -1.0214943885803223,
          6.1020379066467285,
          5.868197441101074,
          -1.2631279230117798,
          -0.9575130939483643,
          -0.9407311677932739,
          -1.199750542640686,
          -1.196408987045288,
          -1.356627345085144,
          -1.4866348505020142,
          -1.4153434038162231,
          -1.071786880493164,
          -1.0088918209075928,
          -1.3054605722427368,
          -1.233264684677124,
          -1.444413185119629,
          -1.1932487487792969,
          -1.137123703956604,
          -1.1765424013137817,
          -1.4641727209091187,
          -1.4698619842529297,
          -1.5048792362213135,
          -1.4568164348602295,
          -1.5541423559188843,
          -1.1956866979599,
          -1.394278883934021,
          5.663271903991699,
          5.895081043243408,
          3.3946549892425537,
          5.7507758140563965,
          3.972254991531372,
          5.945611000061035,
          5.884026050567627,
          5.668984889984131,
          -1.070986032485962,
          3.7541003227233887,
          0.47491374611854553,
          5.853490352630615,
          3.3345510959625244,
          3.245558023452759,
          3.461562156677246,
          -1.5724769830703735,
          3.27909779548645,
          5.770105361938477,
          3.2436535358428955,
          3.2982308864593506,
          -1.5351969003677368,
          5.817607879638672,
          -1.5299842357635498,
          -1.2887476682662964,
          5.894333362579346,
          4.136187553405762,
          -1.321472406387329,
          4.1167402267456055,
          4.041207790374756,
          4.1793928146362305,
          3.649202823638916,
          4.069028854370117,
          5.998739242553711,
          3.780097723007202,
          5.752171993255615,
          5.717653751373291,
          -1.168202519416809,
          -1.079785943031311,
          -1.3782274723052979,
          -1.0403980016708374,
          5.800297260284424,
          4.188907146453857,
          -1.402761697769165,
          -1.3787497282028198,
          -1.0832387208938599,
          -1.2408641576766968,
          -0.67869633436203,
          -1.890230655670166,
          -0.839214563369751,
          3.3639907836914062,
          5.931699275970459,
          -1.5812947750091553,
          -1.03158700466156,
          -0.652388334274292,
          -1.348021388053894,
          6.03482723236084,
          5.71839714050293,
          6.050724983215332,
          5.7412943840026855,
          -1.4908374547958374,
          -1.7233470678329468,
          4.037398815155029,
          -1.2018496990203857,
          -1.3940672874450684,
          -1.0245461463928223,
          -1.206701636314392,
          -1.6854194402694702,
          3.737771987915039,
          -1.5171828269958496,
          -0.6292445063591003,
          5.978454113006592,
          -0.47915294766426086,
          -0.4437616169452667,
          -0.5157940983772278,
          -1.1431676149368286,
          -1.6431117057800293,
          5.617247104644775,
          -1.158865213394165,
          -1.8240368366241455,
          -1.7215075492858887,
          -1.1316007375717163,
          5.817462921142578,
          -1.8135640621185303,
          -1.4545878171920776,
          -0.15933221578598022,
          6.015653610229492,
          -1.6239277124404907,
          3.711233139038086,
          -1.1356910467147827,
          -1.162003755569458
         ],
         "xaxis": "x",
         "y": [
          4.753504276275635,
          10.770073890686035,
          3.4713661670684814,
          10.211515426635742,
          10.29694938659668,
          3.1421797275543213,
          3.668149948120117,
          3.7268455028533936,
          3.66137957572937,
          -0.5318464636802673,
          11.446105003356934,
          10.709405899047852,
          -0.2617343068122864,
          -1.0039973258972168,
          -0.24111688137054443,
          4.255848407745361,
          5.090991973876953,
          3.650775671005249,
          -0.18034979701042175,
          4.055530071258545,
          4.5873703956604,
          5.386518478393555,
          5.592095375061035,
          5.544485569000244,
          11.172910690307617,
          5.6597089767456055,
          5.3011956214904785,
          0.14152473211288452,
          3.7433111667633057,
          3.395781993865967,
          10.506717681884766,
          9.726970672607422,
          -0.9697083234786987,
          4.656216144561768,
          11.33712100982666,
          -0.11767381429672241,
          3.7508561611175537,
          3.164914608001709,
          3.4801719188690186,
          5.837368488311768,
          4.428429126739502,
          4.660248756408691,
          4.799605369567871,
          4.518509864807129,
          4.761534690856934,
          4.5838751792907715,
          4.402069568634033,
          4.006961345672607,
          4.664261341094971,
          10.335735321044922,
          3.9073996543884277,
          11.524101257324219,
          7.808505058288574,
          4.636236190795898,
          4.889664649963379,
          5.405668258666992,
          -1.0008659362792969,
          -0.9723882675170898,
          -1.0171129703521729,
          -0.08416572213172913,
          -0.33181947469711304,
          -0.6123337149620056,
          0.06696420907974243,
          -0.8553377389907837,
          -0.6976524591445923,
          -0.22295500338077545,
          -0.32293617725372314,
          0.13879984617233276,
          -0.06684479117393494,
          -0.02332822047173977,
          -0.011353995651006699,
          -0.43773353099823,
          0.14635445177555084,
          0.0917702317237854,
          0.05529017373919487,
          -1.0174107551574707,
          -0.8742614388465881,
          4.877651691436768,
          3.6518056392669678,
          3.4073917865753174,
          10.849644660949707,
          10.69575023651123,
          11.56261157989502,
          3.1819539070129395,
          4.727209568023682,
          3.6982593536376953,
          3.3780527114868164,
          10.235124588012695,
          9.64696216583252,
          9.614130973815918,
          11.343777656555176,
          11.521064758300781,
          11.384729385375977,
          11.235313415527344,
          10.550128936767578,
          9.8795747756958,
          9.709280967712402,
          10.330157279968262,
          10.993246078491211,
          10.950960159301758,
          11.230127334594727,
          11.270584106445312,
          10.095296859741211,
          11.216769218444824,
          11.325085639953613,
          11.420470237731934,
          11.419795989990234,
          11.022360801696777,
          10.024601936340332,
          11.462263107299805,
          3.167100429534912,
          3.658637762069702,
          -0.16378681361675262,
          4.547717094421387,
          -0.1770864725112915,
          4.273008823394775,
          3.5411288738250732,
          3.689012289047241,
          4.846207141876221,
          0.20755663514137268,
          7.2124152183532715,
          3.5307559967041016,
          -0.7216609120368958,
          -0.668750524520874,
          -0.5959250926971436,
          4.166492462158203,
          -0.6595792770385742,
          4.072571277618408,
          -0.6464264988899231,
          -0.6645336747169495,
          4.439516544342041,
          4.478905200958252,
          4.638750076293945,
          4.443399429321289,
          3.3497653007507324,
          -0.6159699559211731,
          10.941243171691895,
          -0.600350558757782,
          -0.6855402588844299,
          -0.7143208384513855,
          0.1444174200296402,
          -0.5301305651664734,
          3.5681796073913574,
          -0.22734326124191284,
          3.2707204818725586,
          3.1901133060455322,
          4.958741188049316,
          4.493899345397949,
          10.902440071105957,
          5.123971462249756,
          4.677399635314941,
          -0.6086621284484863,
          11.01812744140625,
          11.099424362182617,
          9.652228355407715,
          10.132513046264648,
          5.285688400268555,
          4.651678085327148,
          5.339913368225098,
          -0.1916697472333908,
          3.3769400119781494,
          4.776559829711914,
          4.866074562072754,
          5.21236515045166,
          11.579345703125,
          3.965555429458618,
          3.2517898082733154,
          4.010858058929443,
          4.491079807281494,
          4.709377765655518,
          4.502776622772217,
          -0.45702093839645386,
          10.138166427612305,
          10.516738891601562,
          9.739287376403809,
          10.120229721069336,
          4.419309139251709,
          0.01668100245296955,
          4.246509075164795,
          5.273462772369385,
          3.86767578125,
          5.578249931335449,
          5.610428810119629,
          5.537227630615234,
          4.962287425994873,
          4.545907974243164,
          3.3406565189361572,
          9.988143920898438,
          4.62173318862915,
          4.462375640869141,
          5.042140007019043,
          3.8911936283111572,
          4.544776439666748,
          4.772428512573242,
          5.820533275604248,
          3.750117301940918,
          4.650190830230713,
          0.07812941819429398,
          4.917112827301025,
          4.905641078948975
         ],
         "yaxis": "y"
        },
        {
         "customdata": [
          [
           "Persuasion"
          ],
          [
           "The Life and Adventures of Robinson Crusoe of York, Mariner, Volume 1: With an Account of His Travels Round Three Parts of the Globe,; Written By Himself, in Two Volumes"
          ],
          [
           "From London to Land's End: and Two Letters from the \"Journey through England by a Gentleman\""
          ],
          [
           "The Life and Most Surprising Adventures of Robinson Crusoe, of York, Mariner (1801)"
          ],
          [
           "Love and Freindship [sic]"
          ],
          [
           "Northanger Abbey"
          ],
          [
           "Memoirs of a Cavalier: A Military Journal of the Wars in Germany, and the Wars in England.; From the Year 1632 to the Year 1648."
          ],
          [
           "The Life and Adventures of Robinson Crusoe (1808)"
          ],
          [
           "Pride and Prejudice"
          ],
          [
           "The History of the Remarkable Life of John Sheppard: Containing a Particular Account of His Many Robberies and Escapes"
          ],
          [
           "A Vindication of the Press"
          ],
          [
           "Mansfield Park"
          ],
          [
           "Military Memoirs of Capt. George Carleton"
          ],
          [
           "Memoirs of Major Alexander Ramkins (1718)"
          ],
          [
           "The Complete English Tradesman (1839 ed.)"
          ],
          [
           "Emma"
          ],
          [
           "Sense and Sensibility"
          ],
          [
           "The Declaration of Independence of The United States of America"
          ],
          [
           "Memoir, Correspondence, and Miscellanies, From the Papers of Thomas Jefferson, Volume 1"
          ],
          [
           "Memoir, Correspondence, and Miscellanies, From the Papers of Thomas Jefferson, Volume 2"
          ],
          [
           "Memoir, Correspondence, and Miscellanies, From the Papers of Thomas Jefferson, Volume 3"
          ],
          [
           "Memoir, Correspondence, and Miscellanies, From the Papers of Thomas Jefferson, Volume 4"
          ],
          [
           "History of the Plague in London"
          ],
          [
           "The Declaration of Independence of the United States of America"
          ],
          [
           "Dickory Cronke: The Dumb Philosopher, or, Great Britain's Wonder"
          ],
          [
           "Everybody's Business Is Nobody's Business: Or, Private Abuses, Public Grievances; Exemplified in the Pride, Insolence, and Exorbitant Wages of Our Women, Servants, Footmen, &c."
          ],
          [
           "The Writings of Thomas Jefferson: Library Edition - Vol. 6 (of 20)"
          ],
          [
           "Sense and Sensibility"
          ],
          [
           "Atalantis Major"
          ],
          [
           "United States Declaration of Independence"
          ],
          [
           "The True-Born Englishman: A Satire"
          ],
          [
           "The Fortunate Mistress (Parts 1 and 2): or a History of the Life of Mademoiselle de Beleau Known by the Name of the Lady Roxana"
          ],
          [
           "The History of the Devil, As Well Ancient as Modern: In Two Parts"
          ],
          [
           "An Appeal to Honour and Justice, Though It Be of His Worst Enemies.: Being A True Account of His Conduct in Public Affairs."
          ],
          [
           "An Humble Proposal to the People of England, for the Increase of their Trade, and Encouragement of Their Manufactures: Whether the Present Uncertainty of Affairs Issues in Peace or War"
          ],
          [
           "Second Thoughts are Best: Or a Further Improvement of a Late Scheme to Prevent Street Robberies"
          ],
          [
           "Augusta Triumphans: Or, the Way to Make London the Most Flourishing City in the Universe"
          ],
          [
           "A New Voyage Round the World by a Course Never Sailed Before"
          ],
          [
           "A True Relation of the Apparition of one Mrs. Veal: The Next Day after Her Death, to one Mrs. Bargrave, at Canterbury, the 8th of September, 1705; which Apparition Recommends the Perusal of Drelincourt's Book of Consolations against the Fears of Death"
          ],
          [
           "Reasons Against the Succession of the House of Hanover: With an Enquiry How Far the Abdication of King James, Supposing It to Be Legal, Ought to Affect the Person of the Pretender"
          ],
          [
           "A Seasonable Warning and Caution against the Insinuations of Papists and Jacobites in favour of the Pretender: Being a Letter from an Englishman at the Court of Hanover"
          ],
          [
           "An Answer to a Question that Nobody thinks of, viz., But what if the Queen should Die?"
          ],
          [
           "The Lay-Man's Sermon upon the Late Storm: Held forth at an Honest Coffee-House-Conventicle"
          ],
          [
           "And What if the Pretender should Come?: Or Some Considerations of the Advantages and Real Consequences of the Pretender's Possessing the Crown of Great Britain"
          ],
          [
           "The Fortunes and Misfortunes of the Famous Moll Flanders"
          ],
          [
           "Pride and Prejudice, a play founded on Jane Austen's novel"
          ],
          [
           "A Short Narrative of the Life and Actions of His Grace John, D. of Marlborogh"
          ],
          [
           "A Journal of the Plague Year: Being Observations or Memorials of the Most Remarkable Occurrences, as Well Public as Private, Which Happened in London During the Last Great Visitation in 1665. Written by a Citizen Who Continued All the While in London"
          ],
          [
           "The King of Pirates: Being an Account of the Famous Enterprises of Captain Avery, the Mock King of Madagascar"
          ],
          [
           "A General History of the Pyrates:: from their first rise and settlement in the island of Providence, to the present time"
          ],
          [
           "An Essay Upon Projects"
          ],
          [
           "The Storm. An Essay."
          ],
          [
           "The Letters of Jane Austen: Selected from the compilation of her great nephew, Edward, Lord Bradbourne"
          ],
          [
           "The Storm: or, a Collection of the most Remarkable Casualties and Disasters which Happen'd in the Late Dreadful Tempest, both by Sea and Land"
          ],
          [
           "Pride and Prejudice"
          ],
          [
           "The Writings of Thomas Jefferson, Vol. 1 (of 9): Being His Autobiography, Correspondence, Reports, Messages, Addresses, and Other Writings, Official and Private"
          ],
          [
           "The Writings of Thomas Jefferson, Vol. 2 (of 9): Being His Autobiography, Correspondence, Reports, Messages, Addresses, and Other Writings, Official and Private"
          ],
          [
           "State of the Union Addresses"
          ],
          [
           "The Life and Adventures of Robinson Crusoe"
          ],
          [
           "The History and Remarkable Life of the Truly Honourable Colonel Jacque, Commonly Called Colonel Jack"
          ],
          [
           "The Writings of Thomas Jefferson, Vol. 3 (of 9): Being His Autobiography, Correspondence, Reports, Messages, Addresses, and Other Writings, Official and Private"
          ],
          [
           "The Writings of Thomas Jefferson, Vol. 4 (of 9): Being His Autobiography, Correspondence, Reports, Messages, Addresses, and Other Writings, Official and Private"
          ],
          [
           "The Writings of Thomas Jefferson, Vol. 5 (of 9): Being His Autobiography, Correspondence, Reports, Messages, Addresses, and Other Writings, Official and Private"
          ],
          [
           "The Friendly Daemon, or the Generous Apparition: Being a True Narrative of a Miraculous Cure, Newly Perform'd Upon That Famous Deaf and Dumb Gentleman, Dr. Duncan Campbel, by a Familiar Spirit That Appear'd to Him in a White Surplice, Like a Cathedral Singing Boy"
          ],
          [
           "The Writings of Thomas Jefferson, Vol. 6 (of 9): Being His Autobiography, Correspondence, Reports, Messages, Addresses, and Other Writings, Official and Private"
          ],
          [
           "The Writings of Thomas Jefferson, Vol. 7 (of 9): Being His Autobiography, Correspondence, Reports, Messages, Addresses, and Other Writings, Official and Private"
          ],
          [
           "The Further Adventures of Robinson Crusoe"
          ],
          [
           "The Writings of Thomas Jefferson, Vol. 8 (of 9): Being His Autobiography, Correspondence, Reports, Messages, Addresses, and Other Writings, Official and Private"
          ],
          [
           "The Writings of Thomas Jefferson, Vol. 9 (of 9): Being His Autobiography, Correspondence, Reports, Messages, Addresses, and Other Writings, Official and Private"
          ],
          [
           "The History of the Pyrates. Vol. II.: Containing the lives of Captain Misson, Captain Bowen, Captain Kidd, Captain Tew, Captain Halsey, Captain White, Captain Condent, Captain Bellamy, Captain Fly, Captain Howard, Captain Lewis, Captain Cornelius, Captain Williams, Captain Burgess, Captain North, and their several crews"
          ],
          [
           "The Watsons: By Jane Austen, Concluded by L. Oulton"
          ],
          [
           "The Life, Adventures & Piracies of the Famous Captain Singleton"
          ],
          [
           "Robinson Crusoe, Told to the Children by John Lang"
          ],
          [
           "The Consolidator; or, Memoirs of Sundry Transactions from the World in the Moon"
          ],
          [
           "Lady Susan"
          ],
          [
           "Tour through the Eastern Counties of England, 1722"
          ]
         ],
         "hovertemplate": "authorcentury=18th century CE<br>proj_0=%{x}<br>proj_1=%{y}<br>title=%{customdata[0]}<extra></extra>",
         "legendgroup": "18th century CE",
         "marker": {
          "color": "#16FF32",
          "symbol": "circle"
         },
         "mode": "markers",
         "name": "18th century CE",
         "orientation": "v",
         "showlegend": true,
         "type": "scatter",
         "x": [
          0.9281829595565796,
          2.4589898586273193,
          2.3456220626831055,
          2.3778042793273926,
          0.9474343061447144,
          1.0305622816085815,
          2.3978629112243652,
          2.4367401599884033,
          0.9681866765022278,
          2.0010178089141846,
          1.666237711906433,
          0.975325345993042,
          2.3759355545043945,
          2.1341769695281982,
          2.3746345043182373,
          0.9834260940551758,
          1.1790963411331177,
          0.6316778063774109,
          4.27163553237915,
          4.189324378967285,
          4.169053077697754,
          4.100934028625488,
          2.3161542415618896,
          0.901868999004364,
          1.8377715349197388,
          1.791074514389038,
          4.240786552429199,
          1.1773388385772705,
          1.9519959688186646,
          0.678440511226654,
          2.0292446613311768,
          2.3875198364257812,
          2.0704221725463867,
          1.8907791376113892,
          1.8558437824249268,
          1.4785664081573486,
          1.6095823049545288,
          2.20516037940979,
          0.9749371409416199,
          1.7307286262512207,
          1.3953877687454224,
          1.8137942552566528,
          1.6155095100402832,
          1.7400211095809937,
          2.201634168624878,
          0.7369126677513123,
          1.823533058166504,
          2.30487322807312,
          2.4163408279418945,
          2.2297444343566895,
          2.289315700531006,
          0.9016842842102051,
          1.0107611417770386,
          2.4944076538085938,
          1.0507820844650269,
          4.241146087646484,
          4.168203830718994,
          2.8477089405059814,
          2.406102418899536,
          2.253396987915039,
          4.139321327209473,
          4.161619663238525,
          4.033330917358398,
          1.7124066352844238,
          4.043447017669678,
          3.958552360534668,
          2.4563496112823486,
          3.9647490978240967,
          4.147336483001709,
          2.2511916160583496,
          0.8682703375816345,
          2.310349702835083,
          1.8435593843460083,
          2.3809902667999268,
          0.7582921981811523,
          2.2559728622436523
         ],
         "xaxis": "x",
         "y": [
          8.956254005432129,
          9.662954330444336,
          8.914690017700195,
          9.593927383422852,
          8.977142333984375,
          9.091926574707031,
          9.346738815307617,
          9.683381080627441,
          9.399458885192871,
          7.985937118530273,
          8.049735069274902,
          9.077193260192871,
          8.864167213439941,
          8.643272399902344,
          8.982189178466797,
          9.019789695739746,
          9.253032684326172,
          6.651472091674805,
          1.6815733909606934,
          1.5088151693344116,
          1.5171265602111816,
          1.4081124067306519,
          9.154930114746094,
          6.609490871429443,
          7.962350368499756,
          8.021074295043945,
          1.6020210981369019,
          9.27127456665039,
          8.381948471069336,
          6.7621917724609375,
          8.462474822998047,
          8.849916458129883,
          8.537627220153809,
          8.392353057861328,
          8.162657737731934,
          7.922834873199463,
          8.051651000976562,
          9.431342124938965,
          7.594874858856201,
          8.18618106842041,
          7.949312210083008,
          8.092923164367676,
          8.190049171447754,
          8.141705513000488,
          9.387276649475098,
          8.757680892944336,
          8.263842582702637,
          9.111001014709473,
          9.103535652160645,
          9.078865051269531,
          9.229016304016113,
          7.607504844665527,
          9.0802001953125,
          9.056583404541016,
          9.31699275970459,
          1.6688637733459473,
          1.4708954095840454,
          2.1567935943603516,
          9.627113342285156,
          9.354289054870605,
          1.4639616012573242,
          1.4833155870437622,
          1.2949457168579102,
          8.051487922668457,
          1.4059592485427856,
          1.3330395221710205,
          9.676324844360352,
          1.4522863626480103,
          1.4703377485275269,
          9.039910316467285,
          8.885112762451172,
          9.32492733001709,
          8.114237785339355,
          9.197587966918945,
          8.719819068908691,
          8.974563598632812
         ],
         "yaxis": "y"
        },
        {
         "customdata": [
          [
           "Discourses on the First Decade of Titus Livius"
          ],
          [
           "The Prince"
          ],
          [
           "Machiavelli, Volume I"
          ],
          [
           "History of Florence and of the Affairs of Italy: From the Earliest Times to the Death of Lorenzo the Magnificent"
          ],
          [
           "The Prince"
          ]
         ],
         "hovertemplate": "authorcentury=15th century CE<br>proj_0=%{x}<br>proj_1=%{y}<br>title=%{customdata[0]}<extra></extra>",
         "legendgroup": "15th century CE",
         "marker": {
          "color": "#F7E1A0",
          "symbol": "circle"
         },
         "mode": "markers",
         "name": "15th century CE",
         "orientation": "v",
         "showlegend": true,
         "type": "scatter",
         "x": [
          6.190698146820068,
          6.134531021118164,
          5.972593307495117,
          6.185306549072266,
          6.111262321472168
         ],
         "xaxis": "x",
         "y": [
          4.972140312194824,
          4.9400105476379395,
          5.084804534912109,
          4.967940330505371,
          4.930300712585449
         ],
         "yaxis": "y"
        },
        {
         "customdata": [
          [
           "The Orations of Marcus Tullius Cicero, Volume 4"
          ],
          [
           "Cato Maior de Senectute with Introduction and Notes"
          ],
          [
           "Academica"
          ],
          [
           "Cicero's Tusculan Disputations: Also, Treatises On The Nature Of The Gods, And On The Commonwealth"
          ],
          [
           "The Letters of Cicero, Volume 1: The Whole Extant Correspodence in Chronological Order"
          ],
          [
           "Treatises on Friendship and Old Age"
          ],
          [
           "Letters of Marcus Tullius Cicero"
          ],
          [
           "The Academic Questions, Treatise De Finibus, and Tusculan Disputations, of M.T. Cicero, With a Sketch of the Greek Philosophers Mentioned by Cicero"
          ],
          [
           "Speeches against Catilina"
          ],
          [
           "De Officiis"
          ],
          [
           "Cicero: Letters to Atticus, Vol. 2 of 3"
          ],
          [
           "Cicero: Letters to Atticus, Vol. 3 of 3"
          ],
          [
           "The republic of Cicero: Translated from the Latin; and Accompanied With a Critical and Historical Introduction."
          ],
          [
           "Cicero: Letters to Atticus, Vol. 1 of 3"
          ]
         ],
         "hovertemplate": "authorcentury=1st century BCE<br>proj_0=%{x}<br>proj_1=%{y}<br>title=%{customdata[0]}<extra></extra>",
         "legendgroup": "1st century BCE",
         "marker": {
          "color": "#E2E2E2",
          "symbol": "circle"
         },
         "mode": "markers",
         "name": "1st century BCE",
         "orientation": "v",
         "showlegend": true,
         "type": "scatter",
         "x": [
          3.342024087905884,
          3.5000510215759277,
          3.762385845184326,
          3.905174493789673,
          3.7977449893951416,
          3.30220627784729,
          3.8830816745758057,
          3.7098708152770996,
          3.7828152179718018,
          3.7570180892944336,
          3.7748053073883057,
          3.787015199661255,
          3.3337361812591553,
          3.7909626960754395
         ],
         "xaxis": "x",
         "y": [
          6.340869903564453,
          6.61212682723999,
          6.563981056213379,
          6.5190324783325195,
          6.612844467163086,
          6.611364364624023,
          6.652923583984375,
          6.490750789642334,
          6.550375461578369,
          6.486964702606201,
          6.524014472961426,
          6.556469917297363,
          6.534091472625732,
          6.5223212242126465
         ],
         "yaxis": "y"
        },
        {
         "customdata": [
          [
           "Apology, Crito, and Phaedo of Socrates"
          ],
          [
           "The Republic"
          ],
          [
           "The Republic"
          ],
          [
           "Critias"
          ],
          [
           "Timaeus"
          ],
          [
           "Lysis"
          ],
          [
           "Charmides"
          ],
          [
           "Laches"
          ],
          [
           "Protagoras"
          ],
          [
           "Euthydemus"
          ],
          [
           "Symposium"
          ],
          [
           "Cratylus"
          ],
          [
           "Ion"
          ],
          [
           "Phaedrus"
          ],
          [
           "Euthyphro"
          ],
          [
           "Meno"
          ],
          [
           "Apology"
          ],
          [
           "Crito"
          ],
          [
           "Phaedo"
          ],
          [
           "Gorgias"
          ],
          [
           "Lesser Hippias"
          ],
          [
           "Alcibiades I"
          ],
          [
           "Alcibiades II"
          ],
          [
           "Eryxias"
          ],
          [
           "Menexenus"
          ],
          [
           "Parmenides"
          ],
          [
           "Theaetetus"
          ],
          [
           "Sophist"
          ],
          [
           "Statesman"
          ],
          [
           "Philebus"
          ],
          [
           "Laws"
          ],
          [
           "The Republic of Plato"
          ]
         ],
         "hovertemplate": "authorcentury=4th century BCE<br>proj_0=%{x}<br>proj_1=%{y}<br>title=%{customdata[0]}<extra></extra>",
         "legendgroup": "4th century BCE",
         "marker": {
          "color": "#1CBE4F",
          "symbol": "circle"
         },
         "mode": "markers",
         "name": "4th century BCE",
         "orientation": "v",
         "showlegend": true,
         "type": "scatter",
         "x": [
          2.7320408821105957,
          2.972175121307373,
          2.9347426891326904,
          2.1593017578125,
          2.8920743465423584,
          2.3382723331451416,
          2.830540895462036,
          1.7278822660446167,
          2.7135608196258545,
          2.509840965270996,
          2.7766106128692627,
          2.7401247024536133,
          1.711320400238037,
          2.7945778369903564,
          1.6238811016082764,
          2.1071572303771973,
          2.5670247077941895,
          1.7529577016830444,
          2.6870083808898926,
          2.395092010498047,
          1.7084112167358398,
          1.6249562501907349,
          1.7217907905578613,
          1.832802653312683,
          2.4931728839874268,
          2.826530694961548,
          2.559948682785034,
          2.5732576847076416,
          2.4324264526367188,
          2.5422651767730713,
          2.8954763412475586,
          2.852766990661621
         ],
         "xaxis": "x",
         "y": [
          5.815784454345703,
          5.416141510009766,
          5.4507832527160645,
          5.717526435852051,
          5.710353851318359,
          5.746626853942871,
          5.768949508666992,
          5.593802452087402,
          5.748906135559082,
          5.773937225341797,
          5.6956095695495605,
          5.79785680770874,
          5.582348346710205,
          5.756486415863037,
          5.575301170349121,
          5.6606059074401855,
          5.810579299926758,
          5.605661392211914,
          5.778011798858643,
          5.645362377166748,
          5.584005355834961,
          5.597248077392578,
          5.595808029174805,
          5.618077278137207,
          5.686467170715332,
          5.691890716552734,
          5.629339218139648,
          5.735204219818115,
          5.717632293701172,
          5.8125996589660645,
          5.660121917724609,
          5.678777694702148
         ],
         "yaxis": "y"
        },
        {
         "customdata": [
          [
           "London to Ladysmith via Pretoria"
          ],
          [
           "Liberalism and the Social Problem"
          ],
          [
           "Crome Yellow"
          ],
          [
           "The Defeat of Youth, and Other Poems"
          ],
          [
           "Beyond Lies the Wub"
          ],
          [
           "Beyond the Door"
          ],
          [
           "The Crystal Crypt"
          ],
          [
           "The Defenders"
          ],
          [
           "The Gun"
          ],
          [
           "The Skull"
          ],
          [
           "Writings in the United Amateur, 1915-1922"
          ],
          [
           "The Shunned House"
          ],
          [
           "The Eyes Have It"
          ],
          [
           "Second Variety"
          ],
          [
           "The Variable Man"
          ],
          [
           "Mr. Spaceship"
          ],
          [
           "Piper in the Woods"
          ],
          [
           "The Dwelling Place of Light — Volume 1"
          ],
          [
           "The Dwelling Place of Light — Complete"
          ],
          [
           "Mr. Crewe's Career — Volume 1"
          ],
          [
           "Mr. Crewe's Career — Volume 3"
          ],
          [
           "Mr. Crewe's Career — Complete"
          ],
          [
           "A Far Country — Volume 2"
          ],
          [
           "A Far Country — Volume 3"
          ],
          [
           "A Far Country — Complete"
          ],
          [
           "Coniston — Volume 01"
          ],
          [
           "Coniston — Volume 02"
          ],
          [
           "Coniston — Volume 03"
          ],
          [
           "Coniston — Volume 04"
          ],
          [
           "Coniston — Complete"
          ],
          [
           "The Crossing"
          ],
          [
           "Mortal Coils"
          ],
          [
           "Tony and the Beetles"
          ],
          [
           "Ian Hamilton's March"
          ],
          [
           "The Hanging Stranger"
          ],
          [
           "Lord Randolph Churchill"
          ],
          [
           "My African Journey"
          ],
          [
           "The Burning Wheel"
          ],
          [
           "The River War: An Account of the Reconquest of the Sudan"
          ],
          [
           "Leda"
          ],
          [
           "The Dunwich Horror"
          ],
          [
           "Savrola: A Tale of the Revolution in Laurania"
          ],
          [
           "The Inside of the Cup — Volume 01"
          ],
          [
           "The Inside of the Cup — Volume 02"
          ],
          [
           "The Inside of the Cup — Volume 03"
          ],
          [
           "The Inside of the Cup — Volume 04"
          ],
          [
           "The Inside of the Cup — Volume 07"
          ],
          [
           "The Inside of the Cup — Complete"
          ],
          [
           "Richard Carvel — Volume 02"
          ],
          [
           "Richard Carvel — Volume 07"
          ],
          [
           "Richard Carvel — Complete"
          ],
          [
           "A Modern Chronicle — Volume 01"
          ],
          [
           "A Modern Chronicle — Volume 02"
          ],
          [
           "A Modern Chronicle — Complete"
          ],
          [
           "The Celebrity, Volume 01"
          ],
          [
           "The Celebrity, Volume 04"
          ],
          [
           "The Celebrity, Complete"
          ],
          [
           "The Crisis — Volume 01"
          ],
          [
           "The Crisis — Volume 02"
          ],
          [
           "The Crisis — Volume 03"
          ],
          [
           "The Crisis — Volume 04"
          ],
          [
           "The Crisis — Volume 05"
          ],
          [
           "The Crisis — Volume 06"
          ],
          [
           "The Crisis — Volume 07"
          ],
          [
           "The Crisis — Volume 08"
          ],
          [
           "The Crisis — Complete"
          ],
          [
           "Dr. Jonathan"
          ],
          [
           "A Traveller in War-Time"
          ],
          [
           "An essay on the American contribution and the democratic idea"
          ],
          [
           "Limbo"
          ],
          [
           "The World Crisis, Volume 1 (of 6)"
          ],
          [
           "Antic Hay"
          ],
          [
           "On the Margin: Notes and Essays"
          ],
          [
           "Jonah: Christmas 1917"
          ],
          [
           "Little Mexican & Other Stories"
          ],
          [
           "Selected Poems"
          ],
          [
           "Mr. Keegan's Elopement"
          ],
          [
           "The colour out of space"
          ],
          [
           "The call of Cthulhu"
          ],
          [
           "He"
          ],
          [
           "The festival"
          ],
          [
           "Prize ship"
          ],
          [
           "The lurking fear"
          ]
         ],
         "hovertemplate": "authorcentury=20th century CE<br>proj_0=%{x}<br>proj_1=%{y}<br>title=%{customdata[0]}<extra></extra>",
         "legendgroup": "20th century CE",
         "marker": {
          "color": "#C4451C",
          "symbol": "circle"
         },
         "mode": "markers",
         "name": "20th century CE",
         "orientation": "v",
         "showlegend": true,
         "type": "scatter",
         "x": [
          2.1263363361358643,
          1.9715592861175537,
          0.21613501012325287,
          0.5152092576026917,
          0.1855269968509674,
          0.08922317624092102,
          -0.1326906830072403,
          -0.18474549055099487,
          -0.2247302234172821,
          -0.11515035480260849,
          2.6529433727264404,
          0.3204408288002014,
          0.253160685300827,
          -0.15948398411273956,
          -0.26519283652305603,
          -0.260760635137558,
          -0.26553797721862793,
          1.5179927349090576,
          1.5703192949295044,
          1.3823554515838623,
          1.2149776220321655,
          1.267539143562317,
          1.986701488494873,
          1.8023874759674072,
          1.8773161172866821,
          1.228649616241455,
          1.132080078125,
          1.1608723402023315,
          1.18825101852417,
          1.162406086921692,
          2.1255111694335938,
          0.2231025993824005,
          -0.11453138291835785,
          1.7968424558639526,
          -0.2444242388010025,
          2.1030421257019043,
          2.1092772483825684,
          0.658821165561676,
          2.068920850753784,
          0.38198238611221313,
          -0.9905855059623718,
          1.9387990236282349,
          1.1668747663497925,
          1.0504430532455444,
          1.1010491847991943,
          1.1099789142608643,
          1.0266414880752563,
          1.087023377418518,
          1.781835913658142,
          1.73875093460083,
          1.9743475914001465,
          1.5119515657424927,
          1.7564042806625366,
          1.6815992593765259,
          1.7169114351272583,
          1.7995654344558716,
          1.7428326606750488,
          1.9502508640289307,
          1.9145370721817017,
          1.8311227560043335,
          1.9943641424179077,
          1.9487553834915161,
          1.8697001934051514,
          1.9073559045791626,
          1.886365532875061,
          2.074424982070923,
          1.237810492515564,
          1.6754202842712402,
          1.5188947916030884,
          0.1635861098766327,
          2.1465957164764404,
          0.29478493332862854,
          0.2472381889820099,
          0.5475082993507385,
          0.22588329017162323,
          0.5760235786437988,
          0.9211355447769165,
          0.3069627583026886,
          0.34143105149269104,
          0.5417240858078003,
          0.5228894352912903,
          -0.2009514570236206,
          0.28190305829048157
         ],
         "xaxis": "x",
         "y": [
          1.6647284030914307,
          2.2351582050323486,
          5.306089401245117,
          5.787217140197754,
          7.039283275604248,
          7.1984477043151855,
          7.089322090148926,
          7.204084396362305,
          7.197259426116943,
          7.0919060707092285,
          1.939563512802124,
          6.953290939331055,
          7.240684509277344,
          7.117325782775879,
          7.04952335357666,
          7.061302185058594,
          7.099583625793457,
          2.040499210357666,
          2.0210676193237305,
          1.861384391784668,
          2.036918878555298,
          1.9890639781951904,
          2.2519350051879883,
          2.265637159347534,
          2.217740774154663,
          1.928809404373169,
          1.809286117553711,
          1.8592720031738281,
          1.8893157243728638,
          1.9296845197677612,
          1.9486823081970215,
          5.361542224884033,
          7.069573402404785,
          1.7195531129837036,
          7.087730884552002,
          1.955273151397705,
          2.0116937160491943,
          5.986840724945068,
          1.805471420288086,
          5.692049503326416,
          9.824930191040039,
          1.7718991041183472,
          1.6780991554260254,
          1.6871533393859863,
          1.7307775020599365,
          1.7441200017929077,
          1.7308770418167114,
          1.8003201484680176,
          1.6531133651733398,
          1.6324349641799927,
          1.9311100244522095,
          1.7551532983779907,
          1.5481854677200317,
          1.7744364738464355,
          1.4785735607147217,
          1.6271827220916748,
          1.596496820449829,
          1.4166191816329956,
          1.39584219455719,
          1.519782304763794,
          1.3223203420639038,
          1.377502679824829,
          1.4071681499481201,
          1.3859002590179443,
          1.56808602809906,
          1.2518287897109985,
          5.699290752410889,
          1.63493812084198,
          5.358376502990723,
          5.272264003753662,
          2.099912643432617,
          5.267474174499512,
          5.316795825958252,
          6.459036827087402,
          5.272351264953613,
          5.8024821281433105,
          5.929652214050293,
          7.008677005767822,
          7.00398588180542,
          6.811573028564453,
          7.1455302238464355,
          7.051512718200684,
          6.909774303436279
         ],
         "yaxis": "y"
        },
        {
         "customdata": [
          [
           "The Iliad of Homer: Translated into English Blank Verse by William Cowper"
          ],
          [
           "The Odyssey: Rendered into English prose for the use of those who cannot read the original"
          ],
          [
           "The Odyssey of Homer"
          ],
          [
           "The Iliad"
          ],
          [
           "The Iliad"
          ],
          [
           "The Odyssey of Homer"
          ],
          [
           "Odysseus, the Hero of Ithaca: Adapted from the Third Book of the Primary Schools of Athens, Greece"
          ],
          [
           "The Iliad"
          ],
          [
           "The Odyssey"
          ],
          [
           "The Adventures of Ulysses the Wanderer"
          ],
          [
           "The Odysseys of Homer, together with the shorter poems"
          ],
          [
           "The Iliads of Homer: Translated according to the Greek"
          ],
          [
           "The Iliad"
          ],
          [
           "The Iliad"
          ]
         ],
         "hovertemplate": "authorcentury=7th century BCE<br>proj_0=%{x}<br>proj_1=%{y}<br>title=%{customdata[0]}<extra></extra>",
         "legendgroup": "7th century BCE",
         "marker": {
          "color": "#DEA0FD",
          "symbol": "circle"
         },
         "mode": "markers",
         "name": "7th century BCE",
         "orientation": "v",
         "showlegend": true,
         "type": "scatter",
         "x": [
          6.043744087219238,
          6.018871307373047,
          5.956282615661621,
          6.1184916496276855,
          6.082718849182129,
          5.928218364715576,
          5.636462688446045,
          5.933098316192627,
          5.945028305053711,
          5.696458339691162,
          5.945252895355225,
          6.1076765060424805,
          5.948030948638916,
          6.0812153816223145
         ],
         "xaxis": "x",
         "y": [
          6.360414505004883,
          6.356308937072754,
          6.376865386962891,
          6.3991780281066895,
          6.477928638458252,
          6.4044623374938965,
          6.107304573059082,
          6.335613250732422,
          6.401951789855957,
          6.005218505859375,
          6.370179653167725,
          6.482062339782715,
          6.449938774108887,
          6.465489864349365
         ],
         "yaxis": "y"
        },
        {
         "customdata": [
          [
           "Tartuffe; Or, The Hypocrite"
          ],
          [
           "Amphitryon"
          ],
          [
           "The Flying Doctor: (Le Médecin Volant)"
          ],
          [
           "The Jealousy of le Barbouillé: (La Jalousie du Barbouillé)"
          ],
          [
           "Tartuffe; Or, The Hypocrite"
          ],
          [
           "The Middle-Class Gentleman"
          ],
          [
           "The Pretentious Young Ladies"
          ],
          [
           "The Blunderer"
          ],
          [
           "The Love-Tiff"
          ],
          [
           "The Bores: A Comedy in Three Acts"
          ],
          [
           "Sganarelle, or, the Self-Deceived Husband"
          ],
          [
           "Don Garcia of Navarre; Or, the Jealous Prince. A Heroic Comedy in Five Acts."
          ],
          [
           "The School for Husbands"
          ],
          [
           "The Miser"
          ],
          [
           "Monsieur De Pourceaugnac"
          ],
          [
           "The Magnificent Lovers (Les Amants magnifiques)"
          ],
          [
           "The Shopkeeper Turned Gentleman"
          ],
          [
           "The Imaginary Invalid"
          ]
         ],
         "hovertemplate": "authorcentury=17th century CE<br>proj_0=%{x}<br>proj_1=%{y}<br>title=%{customdata[0]}<extra></extra>",
         "legendgroup": "17th century CE",
         "marker": {
          "color": "#FE00FA",
          "symbol": "circle"
         },
         "mode": "markers",
         "name": "17th century CE",
         "orientation": "v",
         "showlegend": true,
         "type": "scatter",
         "x": [
          -0.33384352922439575,
          -0.3511250615119934,
          -0.08905517309904099,
          -0.15755107998847961,
          -0.133736252784729,
          -0.20632287859916687,
          -0.21712473034858704,
          -0.23719239234924316,
          -0.31405889987945557,
          -0.24474622309207916,
          -0.21310900151729584,
          -0.2663126289844513,
          -0.2572113573551178,
          -0.15867099165916443,
          -0.24504657089710236,
          -0.18218453228473663,
          -0.21009360253810883,
          -0.21514466404914856
         ],
         "xaxis": "x",
         "y": [
          8.407337188720703,
          8.462108612060547,
          8.15473747253418,
          8.221084594726562,
          8.278044700622559,
          8.309979438781738,
          8.352360725402832,
          8.38044261932373,
          8.399298667907715,
          8.378607749938965,
          8.326905250549316,
          8.414774894714355,
          8.26720905303955,
          8.279603004455566,
          8.363905906677246,
          8.30014419555664,
          8.333187103271484,
          8.33582592010498
         ],
         "yaxis": "y"
        },
        {
         "customdata": [
          [
           "Lambda"
          ],
          [
           "Deathway"
          ]
         ],
         "hovertemplate": "authorcentury=21st century CE<br>proj_0=%{x}<br>proj_1=%{y}<br>title=%{customdata[0]}<extra></extra>",
         "legendgroup": "21st century CE",
         "marker": {
          "color": "#325A9B",
          "symbol": "circle"
         },
         "mode": "markers",
         "name": "21st century CE",
         "orientation": "v",
         "showlegend": true,
         "type": "scatter",
         "x": [
          -0.4006028473377228,
          -0.040724512189626694
         ],
         "xaxis": "x",
         "y": [
          6.448741912841797,
          7.59465217590332
         ],
         "yaxis": "y"
        }
       ],
       "layout": {
        "height": 800,
        "legend": {
         "title": {
          "text": "authorcentury"
         },
         "tracegroupgap": 0
        },
        "margin": {
         "t": 60
        },
        "template": {
         "data": {
          "bar": [
           {
            "error_x": {
             "color": "#2a3f5f"
            },
            "error_y": {
             "color": "#2a3f5f"
            },
            "marker": {
             "line": {
              "color": "#E5ECF6",
              "width": 0.5
             },
             "pattern": {
              "fillmode": "overlay",
              "size": 10,
              "solidity": 0.2
             }
            },
            "type": "bar"
           }
          ],
          "barpolar": [
           {
            "marker": {
             "line": {
              "color": "#E5ECF6",
              "width": 0.5
             },
             "pattern": {
              "fillmode": "overlay",
              "size": 10,
              "solidity": 0.2
             }
            },
            "type": "barpolar"
           }
          ],
          "carpet": [
           {
            "aaxis": {
             "endlinecolor": "#2a3f5f",
             "gridcolor": "white",
             "linecolor": "white",
             "minorgridcolor": "white",
             "startlinecolor": "#2a3f5f"
            },
            "baxis": {
             "endlinecolor": "#2a3f5f",
             "gridcolor": "white",
             "linecolor": "white",
             "minorgridcolor": "white",
             "startlinecolor": "#2a3f5f"
            },
            "type": "carpet"
           }
          ],
          "choropleth": [
           {
            "colorbar": {
             "outlinewidth": 0,
             "ticks": ""
            },
            "type": "choropleth"
           }
          ],
          "contour": [
           {
            "colorbar": {
             "outlinewidth": 0,
             "ticks": ""
            },
            "colorscale": [
             [
              0,
              "#0d0887"
             ],
             [
              0.1111111111111111,
              "#46039f"
             ],
             [
              0.2222222222222222,
              "#7201a8"
             ],
             [
              0.3333333333333333,
              "#9c179e"
             ],
             [
              0.4444444444444444,
              "#bd3786"
             ],
             [
              0.5555555555555556,
              "#d8576b"
             ],
             [
              0.6666666666666666,
              "#ed7953"
             ],
             [
              0.7777777777777778,
              "#fb9f3a"
             ],
             [
              0.8888888888888888,
              "#fdca26"
             ],
             [
              1,
              "#f0f921"
             ]
            ],
            "type": "contour"
           }
          ],
          "contourcarpet": [
           {
            "colorbar": {
             "outlinewidth": 0,
             "ticks": ""
            },
            "type": "contourcarpet"
           }
          ],
          "heatmap": [
           {
            "colorbar": {
             "outlinewidth": 0,
             "ticks": ""
            },
            "colorscale": [
             [
              0,
              "#0d0887"
             ],
             [
              0.1111111111111111,
              "#46039f"
             ],
             [
              0.2222222222222222,
              "#7201a8"
             ],
             [
              0.3333333333333333,
              "#9c179e"
             ],
             [
              0.4444444444444444,
              "#bd3786"
             ],
             [
              0.5555555555555556,
              "#d8576b"
             ],
             [
              0.6666666666666666,
              "#ed7953"
             ],
             [
              0.7777777777777778,
              "#fb9f3a"
             ],
             [
              0.8888888888888888,
              "#fdca26"
             ],
             [
              1,
              "#f0f921"
             ]
            ],
            "type": "heatmap"
           }
          ],
          "heatmapgl": [
           {
            "colorbar": {
             "outlinewidth": 0,
             "ticks": ""
            },
            "colorscale": [
             [
              0,
              "#0d0887"
             ],
             [
              0.1111111111111111,
              "#46039f"
             ],
             [
              0.2222222222222222,
              "#7201a8"
             ],
             [
              0.3333333333333333,
              "#9c179e"
             ],
             [
              0.4444444444444444,
              "#bd3786"
             ],
             [
              0.5555555555555556,
              "#d8576b"
             ],
             [
              0.6666666666666666,
              "#ed7953"
             ],
             [
              0.7777777777777778,
              "#fb9f3a"
             ],
             [
              0.8888888888888888,
              "#fdca26"
             ],
             [
              1,
              "#f0f921"
             ]
            ],
            "type": "heatmapgl"
           }
          ],
          "histogram": [
           {
            "marker": {
             "pattern": {
              "fillmode": "overlay",
              "size": 10,
              "solidity": 0.2
             }
            },
            "type": "histogram"
           }
          ],
          "histogram2d": [
           {
            "colorbar": {
             "outlinewidth": 0,
             "ticks": ""
            },
            "colorscale": [
             [
              0,
              "#0d0887"
             ],
             [
              0.1111111111111111,
              "#46039f"
             ],
             [
              0.2222222222222222,
              "#7201a8"
             ],
             [
              0.3333333333333333,
              "#9c179e"
             ],
             [
              0.4444444444444444,
              "#bd3786"
             ],
             [
              0.5555555555555556,
              "#d8576b"
             ],
             [
              0.6666666666666666,
              "#ed7953"
             ],
             [
              0.7777777777777778,
              "#fb9f3a"
             ],
             [
              0.8888888888888888,
              "#fdca26"
             ],
             [
              1,
              "#f0f921"
             ]
            ],
            "type": "histogram2d"
           }
          ],
          "histogram2dcontour": [
           {
            "colorbar": {
             "outlinewidth": 0,
             "ticks": ""
            },
            "colorscale": [
             [
              0,
              "#0d0887"
             ],
             [
              0.1111111111111111,
              "#46039f"
             ],
             [
              0.2222222222222222,
              "#7201a8"
             ],
             [
              0.3333333333333333,
              "#9c179e"
             ],
             [
              0.4444444444444444,
              "#bd3786"
             ],
             [
              0.5555555555555556,
              "#d8576b"
             ],
             [
              0.6666666666666666,
              "#ed7953"
             ],
             [
              0.7777777777777778,
              "#fb9f3a"
             ],
             [
              0.8888888888888888,
              "#fdca26"
             ],
             [
              1,
              "#f0f921"
             ]
            ],
            "type": "histogram2dcontour"
           }
          ],
          "mesh3d": [
           {
            "colorbar": {
             "outlinewidth": 0,
             "ticks": ""
            },
            "type": "mesh3d"
           }
          ],
          "parcoords": [
           {
            "line": {
             "colorbar": {
              "outlinewidth": 0,
              "ticks": ""
             }
            },
            "type": "parcoords"
           }
          ],
          "pie": [
           {
            "automargin": true,
            "type": "pie"
           }
          ],
          "scatter": [
           {
            "fillpattern": {
             "fillmode": "overlay",
             "size": 10,
             "solidity": 0.2
            },
            "type": "scatter"
           }
          ],
          "scatter3d": [
           {
            "line": {
             "colorbar": {
              "outlinewidth": 0,
              "ticks": ""
             }
            },
            "marker": {
             "colorbar": {
              "outlinewidth": 0,
              "ticks": ""
             }
            },
            "type": "scatter3d"
           }
          ],
          "scattercarpet": [
           {
            "marker": {
             "colorbar": {
              "outlinewidth": 0,
              "ticks": ""
             }
            },
            "type": "scattercarpet"
           }
          ],
          "scattergeo": [
           {
            "marker": {
             "colorbar": {
              "outlinewidth": 0,
              "ticks": ""
             }
            },
            "type": "scattergeo"
           }
          ],
          "scattergl": [
           {
            "marker": {
             "colorbar": {
              "outlinewidth": 0,
              "ticks": ""
             }
            },
            "type": "scattergl"
           }
          ],
          "scattermapbox": [
           {
            "marker": {
             "colorbar": {
              "outlinewidth": 0,
              "ticks": ""
             }
            },
            "type": "scattermapbox"
           }
          ],
          "scatterpolar": [
           {
            "marker": {
             "colorbar": {
              "outlinewidth": 0,
              "ticks": ""
             }
            },
            "type": "scatterpolar"
           }
          ],
          "scatterpolargl": [
           {
            "marker": {
             "colorbar": {
              "outlinewidth": 0,
              "ticks": ""
             }
            },
            "type": "scatterpolargl"
           }
          ],
          "scatterternary": [
           {
            "marker": {
             "colorbar": {
              "outlinewidth": 0,
              "ticks": ""
             }
            },
            "type": "scatterternary"
           }
          ],
          "surface": [
           {
            "colorbar": {
             "outlinewidth": 0,
             "ticks": ""
            },
            "colorscale": [
             [
              0,
              "#0d0887"
             ],
             [
              0.1111111111111111,
              "#46039f"
             ],
             [
              0.2222222222222222,
              "#7201a8"
             ],
             [
              0.3333333333333333,
              "#9c179e"
             ],
             [
              0.4444444444444444,
              "#bd3786"
             ],
             [
              0.5555555555555556,
              "#d8576b"
             ],
             [
              0.6666666666666666,
              "#ed7953"
             ],
             [
              0.7777777777777778,
              "#fb9f3a"
             ],
             [
              0.8888888888888888,
              "#fdca26"
             ],
             [
              1,
              "#f0f921"
             ]
            ],
            "type": "surface"
           }
          ],
          "table": [
           {
            "cells": {
             "fill": {
              "color": "#EBF0F8"
             },
             "line": {
              "color": "white"
             }
            },
            "header": {
             "fill": {
              "color": "#C8D4E3"
             },
             "line": {
              "color": "white"
             }
            },
            "type": "table"
           }
          ]
         },
         "layout": {
          "annotationdefaults": {
           "arrowcolor": "#2a3f5f",
           "arrowhead": 0,
           "arrowwidth": 1
          },
          "autotypenumbers": "strict",
          "coloraxis": {
           "colorbar": {
            "outlinewidth": 0,
            "ticks": ""
           }
          },
          "colorscale": {
           "diverging": [
            [
             0,
             "#8e0152"
            ],
            [
             0.1,
             "#c51b7d"
            ],
            [
             0.2,
             "#de77ae"
            ],
            [
             0.3,
             "#f1b6da"
            ],
            [
             0.4,
             "#fde0ef"
            ],
            [
             0.5,
             "#f7f7f7"
            ],
            [
             0.6,
             "#e6f5d0"
            ],
            [
             0.7,
             "#b8e186"
            ],
            [
             0.8,
             "#7fbc41"
            ],
            [
             0.9,
             "#4d9221"
            ],
            [
             1,
             "#276419"
            ]
           ],
           "sequential": [
            [
             0,
             "#0d0887"
            ],
            [
             0.1111111111111111,
             "#46039f"
            ],
            [
             0.2222222222222222,
             "#7201a8"
            ],
            [
             0.3333333333333333,
             "#9c179e"
            ],
            [
             0.4444444444444444,
             "#bd3786"
            ],
            [
             0.5555555555555556,
             "#d8576b"
            ],
            [
             0.6666666666666666,
             "#ed7953"
            ],
            [
             0.7777777777777778,
             "#fb9f3a"
            ],
            [
             0.8888888888888888,
             "#fdca26"
            ],
            [
             1,
             "#f0f921"
            ]
           ],
           "sequentialminus": [
            [
             0,
             "#0d0887"
            ],
            [
             0.1111111111111111,
             "#46039f"
            ],
            [
             0.2222222222222222,
             "#7201a8"
            ],
            [
             0.3333333333333333,
             "#9c179e"
            ],
            [
             0.4444444444444444,
             "#bd3786"
            ],
            [
             0.5555555555555556,
             "#d8576b"
            ],
            [
             0.6666666666666666,
             "#ed7953"
            ],
            [
             0.7777777777777778,
             "#fb9f3a"
            ],
            [
             0.8888888888888888,
             "#fdca26"
            ],
            [
             1,
             "#f0f921"
            ]
           ]
          },
          "colorway": [
           "#636efa",
           "#EF553B",
           "#00cc96",
           "#ab63fa",
           "#FFA15A",
           "#19d3f3",
           "#FF6692",
           "#B6E880",
           "#FF97FF",
           "#FECB52"
          ],
          "font": {
           "color": "#2a3f5f"
          },
          "geo": {
           "bgcolor": "white",
           "lakecolor": "white",
           "landcolor": "#E5ECF6",
           "showlakes": true,
           "showland": true,
           "subunitcolor": "white"
          },
          "hoverlabel": {
           "align": "left"
          },
          "hovermode": "closest",
          "mapbox": {
           "style": "light"
          },
          "paper_bgcolor": "white",
          "plot_bgcolor": "#E5ECF6",
          "polar": {
           "angularaxis": {
            "gridcolor": "white",
            "linecolor": "white",
            "ticks": ""
           },
           "bgcolor": "#E5ECF6",
           "radialaxis": {
            "gridcolor": "white",
            "linecolor": "white",
            "ticks": ""
           }
          },
          "scene": {
           "xaxis": {
            "backgroundcolor": "#E5ECF6",
            "gridcolor": "white",
            "gridwidth": 2,
            "linecolor": "white",
            "showbackground": true,
            "ticks": "",
            "zerolinecolor": "white"
           },
           "yaxis": {
            "backgroundcolor": "#E5ECF6",
            "gridcolor": "white",
            "gridwidth": 2,
            "linecolor": "white",
            "showbackground": true,
            "ticks": "",
            "zerolinecolor": "white"
           },
           "zaxis": {
            "backgroundcolor": "#E5ECF6",
            "gridcolor": "white",
            "gridwidth": 2,
            "linecolor": "white",
            "showbackground": true,
            "ticks": "",
            "zerolinecolor": "white"
           }
          },
          "shapedefaults": {
           "line": {
            "color": "#2a3f5f"
           }
          },
          "ternary": {
           "aaxis": {
            "gridcolor": "white",
            "linecolor": "white",
            "ticks": ""
           },
           "baxis": {
            "gridcolor": "white",
            "linecolor": "white",
            "ticks": ""
           },
           "bgcolor": "#E5ECF6",
           "caxis": {
            "gridcolor": "white",
            "linecolor": "white",
            "ticks": ""
           }
          },
          "title": {
           "x": 0.05
          },
          "xaxis": {
           "automargin": true,
           "gridcolor": "white",
           "linecolor": "white",
           "ticks": "",
           "title": {
            "standoff": 15
           },
           "zerolinecolor": "white",
           "zerolinewidth": 2
          },
          "yaxis": {
           "automargin": true,
           "gridcolor": "white",
           "linecolor": "white",
           "ticks": "",
           "title": {
            "standoff": 15
           },
           "zerolinecolor": "white",
           "zerolinewidth": 2
          }
         }
        },
        "width": 1200,
        "xaxis": {
         "anchor": "y",
         "domain": [
          0,
          1
         ],
         "title": {
          "text": "proj_0"
         }
        },
        "yaxis": {
         "anchor": "x",
         "domain": [
          0,
          1
         ],
         "title": {
          "text": "proj_1"
         }
        }
       }
      }
     },
     "metadata": {},
     "output_type": "display_data"
    }
   ],
   "source": [
    "fig = px.scatter(data_frame = library_newtext,\n",
    "                 x='proj_0',\n",
    "                 y='proj_1',\n",
    "                 width=1200,\n",
    "                 height=800,\n",
    "                 color= 'authorcentury', #library_newtext['authorcentury'].astype('category'),\n",
    "                 color_discrete_sequence=px.colors.qualitative.Alphabet, #Dark24\n",
    "                 hover_data= ['title']\n",
    "                 )\n",
    "\n",
    "fig.show()"
   ]
  },
  {
   "cell_type": "code",
   "execution_count": 149,
   "metadata": {},
   "outputs": [],
   "source": [
    "dists = spatial.distance.pdist(library_newtext.drop(columns=['id', 'title', 'author', 'authorcentury', 'proj_0', 'proj_1']).values,  metric='euclidean') #metric = 'cosine'"
   ]
  },
  {
   "cell_type": "code",
   "execution_count": 150,
   "metadata": {},
   "outputs": [
    {
     "data": {
      "text/plain": [
       "238.95398428502685"
      ]
     },
     "execution_count": 150,
     "metadata": {},
     "output_type": "execute_result"
    }
   ],
   "source": [
    "np.mean(dists)"
   ]
  },
  {
   "attachments": {},
   "cell_type": "markdown",
   "metadata": {},
   "source": [
    "note: to find out the dist between two authors, need to get the correct index for dist.\n",
    "\n",
    "for i < j < m (where m = num of authors):\n",
    "\n",
    "index = m * i + j - ((i + 2) * (i + 1)) // 2\n",
    "\n",
    "dists[index]"
   ]
  },
  {
   "attachments": {},
   "cell_type": "markdown",
   "metadata": {},
   "source": [
    "For Lambda, cosine distance:"
   ]
  },
  {
   "cell_type": "code",
   "execution_count": 151,
   "metadata": {},
   "outputs": [],
   "source": [
    "m = library_newtext.shape[0]\n",
    "j = m-2\n",
    "\n",
    "cos_dist = []\n",
    "titles = []\n",
    "authors = []\n",
    "\n",
    "for i in range(j):\n",
    "    titles.append(library_newtext['title'].iloc[i])\n",
    "    authors.append(library_newtext['author'].iloc[i])\n",
    "    cos_dist.append(dists[m * i + j - ((i + 2) * (i + 1)) // 2])"
   ]
  },
  {
   "cell_type": "code",
   "execution_count": 152,
   "metadata": {},
   "outputs": [
    {
     "data": {
      "text/html": [
       "<div>\n",
       "<style scoped>\n",
       "    .dataframe tbody tr th:only-of-type {\n",
       "        vertical-align: middle;\n",
       "    }\n",
       "\n",
       "    .dataframe tbody tr th {\n",
       "        vertical-align: top;\n",
       "    }\n",
       "\n",
       "    .dataframe thead th {\n",
       "        text-align: right;\n",
       "    }\n",
       "</style>\n",
       "<table border=\"1\" class=\"dataframe\">\n",
       "  <thead>\n",
       "    <tr style=\"text-align: right;\">\n",
       "      <th></th>\n",
       "      <th>title</th>\n",
       "      <th>author</th>\n",
       "      <th>Lambda</th>\n",
       "    </tr>\n",
       "  </thead>\n",
       "  <tbody>\n",
       "    <tr>\n",
       "      <th>503</th>\n",
       "      <td>George Silverman's Explanation</td>\n",
       "      <td>Dickens, Charles</td>\n",
       "      <td>56.376422</td>\n",
       "    </tr>\n",
       "    <tr>\n",
       "      <th>58</th>\n",
       "      <td>A Message from the Sea</td>\n",
       "      <td>Dickens, Charles</td>\n",
       "      <td>56.404596</td>\n",
       "    </tr>\n",
       "    <tr>\n",
       "      <th>60</th>\n",
       "      <td>Doctor Marigold</td>\n",
       "      <td>Dickens, Charles</td>\n",
       "      <td>57.978209</td>\n",
       "    </tr>\n",
       "    <tr>\n",
       "      <th>472</th>\n",
       "      <td>Mr. Keegan's Elopement</td>\n",
       "      <td>Churchill, Winston</td>\n",
       "      <td>58.186818</td>\n",
       "    </tr>\n",
       "    <tr>\n",
       "      <th>494</th>\n",
       "      <td>The Adventures of Tom Sawyer, Part 2.</td>\n",
       "      <td>Twain, Mark</td>\n",
       "      <td>58.201313</td>\n",
       "    </tr>\n",
       "    <tr>\n",
       "      <th>265</th>\n",
       "      <td>The Stolen White Elephant</td>\n",
       "      <td>Twain, Mark</td>\n",
       "      <td>59.048434</td>\n",
       "    </tr>\n",
       "    <tr>\n",
       "      <th>417</th>\n",
       "      <td>Dr. Jonathan</td>\n",
       "      <td>Churchill, Winston</td>\n",
       "      <td>59.224884</td>\n",
       "    </tr>\n",
       "    <tr>\n",
       "      <th>502</th>\n",
       "      <td>Holiday Romance</td>\n",
       "      <td>Dickens, Charles</td>\n",
       "      <td>60.653059</td>\n",
       "    </tr>\n",
       "    <tr>\n",
       "      <th>279</th>\n",
       "      <td>The Variable Man</td>\n",
       "      <td>Dick, Philip K.</td>\n",
       "      <td>60.917145</td>\n",
       "    </tr>\n",
       "    <tr>\n",
       "      <th>286</th>\n",
       "      <td>Mr. Spaceship</td>\n",
       "      <td>Dick, Philip K.</td>\n",
       "      <td>61.334591</td>\n",
       "    </tr>\n",
       "  </tbody>\n",
       "</table>\n",
       "</div>"
      ],
      "text/plain": [
       "                                     title              author     Lambda\n",
       "503         George Silverman's Explanation    Dickens, Charles  56.376422\n",
       "58                  A Message from the Sea    Dickens, Charles  56.404596\n",
       "60                         Doctor Marigold    Dickens, Charles  57.978209\n",
       "472                 Mr. Keegan's Elopement  Churchill, Winston  58.186818\n",
       "494  The Adventures of Tom Sawyer, Part 2.         Twain, Mark  58.201313\n",
       "265              The Stolen White Elephant         Twain, Mark  59.048434\n",
       "417                           Dr. Jonathan  Churchill, Winston  59.224884\n",
       "502                        Holiday Romance    Dickens, Charles  60.653059\n",
       "279                       The Variable Man     Dick, Philip K.  60.917145\n",
       "286                          Mr. Spaceship     Dick, Philip K.  61.334591"
      ]
     },
     "execution_count": 152,
     "metadata": {},
     "output_type": "execute_result"
    }
   ],
   "source": [
    "pd.concat([pd.DataFrame({'title':titles}),\n",
    "           pd.DataFrame({'author':authors}),\n",
    "           pd.DataFrame({'Lambda':cos_dist})],\n",
    "           axis=1).sort_values(by='Lambda', ascending=True).head(10)"
   ]
  },
  {
   "attachments": {},
   "cell_type": "markdown",
   "metadata": {},
   "source": [
    "For Deathway, cosine distance:"
   ]
  },
  {
   "cell_type": "code",
   "execution_count": 153,
   "metadata": {},
   "outputs": [],
   "source": [
    "m = library_newtext.shape[0]\n",
    "j = m-1\n",
    "\n",
    "cos_dist = []\n",
    "titles = []\n",
    "authors = []\n",
    "\n",
    "for i in range(j):\n",
    "    titles.append(library_newtext['title'].iloc[i])\n",
    "    authors.append(library_newtext['author'].iloc[i])\n",
    "    cos_dist.append(dists[m * i + j - ((i + 2) * (i + 1)) // 2])"
   ]
  },
  {
   "cell_type": "code",
   "execution_count": 154,
   "metadata": {},
   "outputs": [
    {
     "data": {
      "text/html": [
       "<div>\n",
       "<style scoped>\n",
       "    .dataframe tbody tr th:only-of-type {\n",
       "        vertical-align: middle;\n",
       "    }\n",
       "\n",
       "    .dataframe tbody tr th {\n",
       "        vertical-align: top;\n",
       "    }\n",
       "\n",
       "    .dataframe thead th {\n",
       "        text-align: right;\n",
       "    }\n",
       "</style>\n",
       "<table border=\"1\" class=\"dataframe\">\n",
       "  <thead>\n",
       "    <tr style=\"text-align: right;\">\n",
       "      <th></th>\n",
       "      <th>title</th>\n",
       "      <th>author</th>\n",
       "      <th>Deathway</th>\n",
       "    </tr>\n",
       "  </thead>\n",
       "  <tbody>\n",
       "    <tr>\n",
       "      <th>234</th>\n",
       "      <td>Beyond the Door</td>\n",
       "      <td>Dick, Philip K.</td>\n",
       "      <td>35.105376</td>\n",
       "    </tr>\n",
       "    <tr>\n",
       "      <th>233</th>\n",
       "      <td>Beyond Lies the Wub</td>\n",
       "      <td>Dick, Philip K.</td>\n",
       "      <td>36.905551</td>\n",
       "    </tr>\n",
       "    <tr>\n",
       "      <th>340</th>\n",
       "      <td>A Child's Dream of a Star</td>\n",
       "      <td>Dickens, Charles</td>\n",
       "      <td>37.737240</td>\n",
       "    </tr>\n",
       "    <tr>\n",
       "      <th>527</th>\n",
       "      <td>Lambda</td>\n",
       "      <td>Umer, Tomo</td>\n",
       "      <td>38.168332</td>\n",
       "    </tr>\n",
       "    <tr>\n",
       "      <th>265</th>\n",
       "      <td>The Stolen White Elephant</td>\n",
       "      <td>Twain, Mark</td>\n",
       "      <td>38.239131</td>\n",
       "    </tr>\n",
       "    <tr>\n",
       "      <th>246</th>\n",
       "      <td>The Skull</td>\n",
       "      <td>Dick, Philip K.</td>\n",
       "      <td>38.293663</td>\n",
       "    </tr>\n",
       "    <tr>\n",
       "      <th>255</th>\n",
       "      <td>The Eyes Have It</td>\n",
       "      <td>Dick, Philip K.</td>\n",
       "      <td>38.714247</td>\n",
       "    </tr>\n",
       "    <tr>\n",
       "      <th>197</th>\n",
       "      <td>On the Decay of the Art of Lying</td>\n",
       "      <td>Twain, Mark</td>\n",
       "      <td>38.835271</td>\n",
       "    </tr>\n",
       "    <tr>\n",
       "      <th>235</th>\n",
       "      <td>The Crystal Crypt</td>\n",
       "      <td>Dick, Philip K.</td>\n",
       "      <td>39.060293</td>\n",
       "    </tr>\n",
       "    <tr>\n",
       "      <th>277</th>\n",
       "      <td>Second Variety</td>\n",
       "      <td>Dick, Philip K.</td>\n",
       "      <td>39.503774</td>\n",
       "    </tr>\n",
       "    <tr>\n",
       "      <th>259</th>\n",
       "      <td>A Dog's Tale</td>\n",
       "      <td>Twain, Mark</td>\n",
       "      <td>39.599753</td>\n",
       "    </tr>\n",
       "    <tr>\n",
       "      <th>243</th>\n",
       "      <td>The Middle-Class Gentleman</td>\n",
       "      <td>Molière</td>\n",
       "      <td>40.340385</td>\n",
       "    </tr>\n",
       "    <tr>\n",
       "      <th>204</th>\n",
       "      <td>The Flying Doctor: (Le Médecin Volant)</td>\n",
       "      <td>Molière</td>\n",
       "      <td>40.583319</td>\n",
       "    </tr>\n",
       "    <tr>\n",
       "      <th>298</th>\n",
       "      <td>A True Relation of the Apparition of one Mrs. ...</td>\n",
       "      <td>Defoe, Daniel</td>\n",
       "      <td>41.190359</td>\n",
       "    </tr>\n",
       "    <tr>\n",
       "      <th>417</th>\n",
       "      <td>Dr. Jonathan</td>\n",
       "      <td>Churchill, Winston</td>\n",
       "      <td>41.287386</td>\n",
       "    </tr>\n",
       "    <tr>\n",
       "      <th>258</th>\n",
       "      <td>Fenimore Cooper's Literary Offences</td>\n",
       "      <td>Twain, Mark</td>\n",
       "      <td>41.287923</td>\n",
       "    </tr>\n",
       "    <tr>\n",
       "      <th>331</th>\n",
       "      <td>Tony and the Beetles</td>\n",
       "      <td>Dick, Philip K.</td>\n",
       "      <td>41.412290</td>\n",
       "    </tr>\n",
       "    <tr>\n",
       "      <th>472</th>\n",
       "      <td>Mr. Keegan's Elopement</td>\n",
       "      <td>Churchill, Winston</td>\n",
       "      <td>42.447606</td>\n",
       "    </tr>\n",
       "    <tr>\n",
       "      <th>177</th>\n",
       "      <td>The Magic Fishbone: A Holiday Romance from the...</td>\n",
       "      <td>Dickens, Charles</td>\n",
       "      <td>42.689609</td>\n",
       "    </tr>\n",
       "    <tr>\n",
       "      <th>448</th>\n",
       "      <td>Jonah: Christmas 1917</td>\n",
       "      <td>Huxley, Aldous</td>\n",
       "      <td>42.988187</td>\n",
       "    </tr>\n",
       "  </tbody>\n",
       "</table>\n",
       "</div>"
      ],
      "text/plain": [
       "                                                 title              author  \\\n",
       "234                                    Beyond the Door     Dick, Philip K.   \n",
       "233                                Beyond Lies the Wub     Dick, Philip K.   \n",
       "340                          A Child's Dream of a Star    Dickens, Charles   \n",
       "527                                             Lambda          Umer, Tomo   \n",
       "265                          The Stolen White Elephant         Twain, Mark   \n",
       "246                                          The Skull     Dick, Philip K.   \n",
       "255                                   The Eyes Have It     Dick, Philip K.   \n",
       "197                   On the Decay of the Art of Lying         Twain, Mark   \n",
       "235                                  The Crystal Crypt     Dick, Philip K.   \n",
       "277                                     Second Variety     Dick, Philip K.   \n",
       "259                                       A Dog's Tale         Twain, Mark   \n",
       "243                         The Middle-Class Gentleman             Molière   \n",
       "204             The Flying Doctor: (Le Médecin Volant)             Molière   \n",
       "298  A True Relation of the Apparition of one Mrs. ...       Defoe, Daniel   \n",
       "417                                       Dr. Jonathan  Churchill, Winston   \n",
       "258                Fenimore Cooper's Literary Offences         Twain, Mark   \n",
       "331                               Tony and the Beetles     Dick, Philip K.   \n",
       "472                             Mr. Keegan's Elopement  Churchill, Winston   \n",
       "177  The Magic Fishbone: A Holiday Romance from the...    Dickens, Charles   \n",
       "448                              Jonah: Christmas 1917      Huxley, Aldous   \n",
       "\n",
       "      Deathway  \n",
       "234  35.105376  \n",
       "233  36.905551  \n",
       "340  37.737240  \n",
       "527  38.168332  \n",
       "265  38.239131  \n",
       "246  38.293663  \n",
       "255  38.714247  \n",
       "197  38.835271  \n",
       "235  39.060293  \n",
       "277  39.503774  \n",
       "259  39.599753  \n",
       "243  40.340385  \n",
       "204  40.583319  \n",
       "298  41.190359  \n",
       "417  41.287386  \n",
       "258  41.287923  \n",
       "331  41.412290  \n",
       "472  42.447606  \n",
       "177  42.689609  \n",
       "448  42.988187  "
      ]
     },
     "execution_count": 154,
     "metadata": {},
     "output_type": "execute_result"
    }
   ],
   "source": [
    "# Lambda is of course the most similar ... if wanted, simply do a .drop(538) on all 3 dataframes\n",
    "pd.concat([pd.DataFrame({'title':titles}),\n",
    "           pd.DataFrame({'author':authors}),\n",
    "           pd.DataFrame({'Deathway':cos_dist})],\n",
    "           axis=1).sort_values(by='Deathway', ascending=True).head(20)"
   ]
  },
  {
   "cell_type": "code",
   "execution_count": null,
   "metadata": {},
   "outputs": [],
   "source": []
  },
  {
   "cell_type": "code",
   "execution_count": null,
   "metadata": {},
   "outputs": [],
   "source": []
  }
 ],
 "metadata": {
  "kernelspec": {
   "display_name": "base",
   "language": "python",
   "name": "python3"
  },
  "language_info": {
   "codemirror_mode": {
    "name": "ipython",
    "version": 3
   },
   "file_extension": ".py",
   "mimetype": "text/x-python",
   "name": "python",
   "nbconvert_exporter": "python",
   "pygments_lexer": "ipython3",
   "version": "3.9.12"
  },
  "orig_nbformat": 4
 },
 "nbformat": 4,
 "nbformat_minor": 2
}
