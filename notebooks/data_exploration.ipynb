{
 "cells": [
  {
   "cell_type": "code",
   "execution_count": 52,
   "metadata": {},
   "outputs": [],
   "source": [
    "import pandas as pd\n",
    "import re\n",
    "import glob\n",
    "from sklearn.model_selection import train_test_split\n",
    "from sklearn.metrics import accuracy_score, confusion_matrix, classification_report, ConfusionMatrixDisplay\n",
    "from sklearn.feature_extraction.text import CountVectorizer, TfidfVectorizer\n",
    "from sklearn.linear_model import LogisticRegression\n",
    "from sklearn.pipeline import Pipeline\n",
    "\n",
    "import plotly.express as px"
   ]
  },
  {
   "attachments": {},
   "cell_type": "markdown",
   "metadata": {},
   "source": [
    "## Exploring Available Books"
   ]
  },
  {
   "attachments": {},
   "cell_type": "markdown",
   "metadata": {},
   "source": [
    "To start with, figure out which books were not downloaded, but are present in the metadata csv!\n",
    "\n",
    "I made a copy of the RAW texts just in case."
   ]
  },
  {
   "cell_type": "code",
   "execution_count": 2,
   "metadata": {},
   "outputs": [],
   "source": [
    "books_list = []\n",
    "\n",
    "for name in glob.glob('../data/raw/*'):\n",
    "    books_list.append(re.findall(r'PG\\d*', name)[0])"
   ]
  },
  {
   "cell_type": "code",
   "execution_count": 3,
   "metadata": {},
   "outputs": [],
   "source": [
    "library = pd.read_csv('../data/metadata.csv')"
   ]
  },
  {
   "cell_type": "code",
   "execution_count": 4,
   "metadata": {},
   "outputs": [
    {
     "data": {
      "text/plain": [
       "3435"
      ]
     },
     "execution_count": 4,
     "metadata": {},
     "output_type": "execute_result"
    }
   ],
   "source": [
    "len(library) - len(books_list)"
   ]
  },
  {
   "attachments": {},
   "cell_type": "markdown",
   "metadata": {},
   "source": [
    "There are 3435 \"books\" listed in the metadata that do not get downloaded. Next up, to explore why."
   ]
  },
  {
   "cell_type": "code",
   "execution_count": 5,
   "metadata": {},
   "outputs": [
    {
     "data": {
      "text/plain": [
       "NaN            2215\n",
       "Sound          1104\n",
       "Dataset          83\n",
       "Image            33\n",
       "MovingImage       7\n",
       "StillImage        3\n",
       "Collection        1\n",
       "Text              1\n",
       "Name: type, dtype: int64"
      ]
     },
     "execution_count": 5,
     "metadata": {},
     "output_type": "execute_result"
    }
   ],
   "source": [
    "library.loc[~library['id'].isin(books_list)]['type'].value_counts(dropna=False)"
   ]
  },
  {
   "attachments": {},
   "cell_type": "markdown",
   "metadata": {},
   "source": [
    "Starting with those that are marked as 'type' being NaN. It is possible either the flags are incorrect (I checked it with \"The King James Version of the Bible\"), or there is something else going on that is causing this issue. Might have to look into NaNs a little bit more."
   ]
  },
  {
   "cell_type": "code",
   "execution_count": 6,
   "metadata": {},
   "outputs": [
    {
     "data": {
      "text/html": [
       "<div>\n",
       "<style scoped>\n",
       "    .dataframe tbody tr th:only-of-type {\n",
       "        vertical-align: middle;\n",
       "    }\n",
       "\n",
       "    .dataframe tbody tr th {\n",
       "        vertical-align: top;\n",
       "    }\n",
       "\n",
       "    .dataframe thead th {\n",
       "        text-align: right;\n",
       "    }\n",
       "</style>\n",
       "<table border=\"1\" class=\"dataframe\">\n",
       "  <thead>\n",
       "    <tr style=\"text-align: right;\">\n",
       "      <th></th>\n",
       "      <th>id</th>\n",
       "      <th>title</th>\n",
       "      <th>author</th>\n",
       "      <th>authoryearofbirth</th>\n",
       "      <th>authoryearofdeath</th>\n",
       "      <th>language</th>\n",
       "      <th>downloads</th>\n",
       "      <th>subjects</th>\n",
       "      <th>type</th>\n",
       "    </tr>\n",
       "  </thead>\n",
       "  <tbody>\n",
       "    <tr>\n",
       "      <th>606</th>\n",
       "      <td>PG10547</td>\n",
       "      <td>Topsy-Turvy</td>\n",
       "      <td>Verne, Jules</td>\n",
       "      <td>1828.0</td>\n",
       "      <td>1905.0</td>\n",
       "      <td>['en']</td>\n",
       "      <td>126</td>\n",
       "      <td>{'Science fiction, French -- Translations into...</td>\n",
       "      <td>NaN</td>\n",
       "    </tr>\n",
       "    <tr>\n",
       "      <th>703</th>\n",
       "      <td>PG10634</td>\n",
       "      <td>The Queen of Hearts, and Sing a Song for Sixpence</td>\n",
       "      <td>Caldecott, Randolph</td>\n",
       "      <td>1846.0</td>\n",
       "      <td>1886.0</td>\n",
       "      <td>['en']</td>\n",
       "      <td>44</td>\n",
       "      <td>{'Picture books for children', 'Nursery rhymes...</td>\n",
       "      <td>NaN</td>\n",
       "    </tr>\n",
       "    <tr>\n",
       "      <th>841</th>\n",
       "      <td>PG10762</td>\n",
       "      <td>Impressions of Theophrastus Such</td>\n",
       "      <td>Eliot, George</td>\n",
       "      <td>1819.0</td>\n",
       "      <td>1880.0</td>\n",
       "      <td>['en']</td>\n",
       "      <td>110</td>\n",
       "      <td>{'Authors -- Fiction', 'England -- Fiction', '...</td>\n",
       "      <td>NaN</td>\n",
       "    </tr>\n",
       "    <tr>\n",
       "      <th>923</th>\n",
       "      <td>PG10836</td>\n",
       "      <td>The Algebra of Logic</td>\n",
       "      <td>Couturat, Louis</td>\n",
       "      <td>1868.0</td>\n",
       "      <td>1914.0</td>\n",
       "      <td>['en']</td>\n",
       "      <td>97</td>\n",
       "      <td>{'Logic, Symbolic and mathematical', 'Algebrai...</td>\n",
       "      <td>NaN</td>\n",
       "    </tr>\n",
       "    <tr>\n",
       "      <th>1106</th>\n",
       "      <td>PG10</td>\n",
       "      <td>The King James Version of the Bible</td>\n",
       "      <td>NaN</td>\n",
       "      <td>NaN</td>\n",
       "      <td>NaN</td>\n",
       "      <td>['en']</td>\n",
       "      <td>5831</td>\n",
       "      <td>{'Bible'}</td>\n",
       "      <td>NaN</td>\n",
       "    </tr>\n",
       "    <tr>\n",
       "      <th>...</th>\n",
       "      <td>...</td>\n",
       "      <td>...</td>\n",
       "      <td>...</td>\n",
       "      <td>...</td>\n",
       "      <td>...</td>\n",
       "      <td>...</td>\n",
       "      <td>...</td>\n",
       "      <td>...</td>\n",
       "      <td>...</td>\n",
       "    </tr>\n",
       "    <tr>\n",
       "      <th>70441</th>\n",
       "      <td>PG9995</td>\n",
       "      <td>Little Journey to Puerto Rico: For Intermediat...</td>\n",
       "      <td>George, Marian Minnie</td>\n",
       "      <td>1865.0</td>\n",
       "      <td>NaN</td>\n",
       "      <td>['en']</td>\n",
       "      <td>12</td>\n",
       "      <td>{'Puerto Rico -- Description and travel'}</td>\n",
       "      <td>NaN</td>\n",
       "    </tr>\n",
       "    <tr>\n",
       "      <th>70442</th>\n",
       "      <td>PG9996</td>\n",
       "      <td>\"'Tis Sixty Years Since\": Address of Charles F...</td>\n",
       "      <td>Adams, Charles Francis</td>\n",
       "      <td>1835.0</td>\n",
       "      <td>1915.0</td>\n",
       "      <td>['en']</td>\n",
       "      <td>12</td>\n",
       "      <td>{'Philosophy, Modern'}</td>\n",
       "      <td>NaN</td>\n",
       "    </tr>\n",
       "    <tr>\n",
       "      <th>70443</th>\n",
       "      <td>PG9997</td>\n",
       "      <td>France and England in North America, Part III:...</td>\n",
       "      <td>Parkman, Francis</td>\n",
       "      <td>1823.0</td>\n",
       "      <td>1893.0</td>\n",
       "      <td>['en']</td>\n",
       "      <td>34</td>\n",
       "      <td>{'Canada -- History -- To 1763 (New France)'}</td>\n",
       "      <td>NaN</td>\n",
       "    </tr>\n",
       "    <tr>\n",
       "      <th>70445</th>\n",
       "      <td>PG9999</td>\n",
       "      <td>Harriet, the Moses of Her People</td>\n",
       "      <td>Bradford, Sarah H. (Sarah Hopkins)</td>\n",
       "      <td>1818.0</td>\n",
       "      <td>1912.0</td>\n",
       "      <td>['en']</td>\n",
       "      <td>103</td>\n",
       "      <td>{'Slaves -- United States -- Biography', 'Afri...</td>\n",
       "      <td>NaN</td>\n",
       "    </tr>\n",
       "    <tr>\n",
       "      <th>70447</th>\n",
       "      <td>PG99</td>\n",
       "      <td>Collected Articles of Frederick Douglass</td>\n",
       "      <td>Douglass, Frederick</td>\n",
       "      <td>1818.0</td>\n",
       "      <td>1895.0</td>\n",
       "      <td>['en']</td>\n",
       "      <td>170</td>\n",
       "      <td>{'Reconstruction (U.S. history, 1865-1877)', '...</td>\n",
       "      <td>NaN</td>\n",
       "    </tr>\n",
       "  </tbody>\n",
       "</table>\n",
       "<p>2215 rows × 9 columns</p>\n",
       "</div>"
      ],
      "text/plain": [
       "            id                                              title  \\\n",
       "606    PG10547                                        Topsy-Turvy   \n",
       "703    PG10634  The Queen of Hearts, and Sing a Song for Sixpence   \n",
       "841    PG10762                   Impressions of Theophrastus Such   \n",
       "923    PG10836                               The Algebra of Logic   \n",
       "1106      PG10                The King James Version of the Bible   \n",
       "...        ...                                                ...   \n",
       "70441   PG9995  Little Journey to Puerto Rico: For Intermediat...   \n",
       "70442   PG9996  \"'Tis Sixty Years Since\": Address of Charles F...   \n",
       "70443   PG9997  France and England in North America, Part III:...   \n",
       "70445   PG9999                   Harriet, the Moses of Her People   \n",
       "70447     PG99           Collected Articles of Frederick Douglass   \n",
       "\n",
       "                                   author  authoryearofbirth  \\\n",
       "606                          Verne, Jules             1828.0   \n",
       "703                   Caldecott, Randolph             1846.0   \n",
       "841                         Eliot, George             1819.0   \n",
       "923                       Couturat, Louis             1868.0   \n",
       "1106                                  NaN                NaN   \n",
       "...                                   ...                ...   \n",
       "70441               George, Marian Minnie             1865.0   \n",
       "70442              Adams, Charles Francis             1835.0   \n",
       "70443                    Parkman, Francis             1823.0   \n",
       "70445  Bradford, Sarah H. (Sarah Hopkins)             1818.0   \n",
       "70447                 Douglass, Frederick             1818.0   \n",
       "\n",
       "       authoryearofdeath language  downloads  \\\n",
       "606               1905.0   ['en']        126   \n",
       "703               1886.0   ['en']         44   \n",
       "841               1880.0   ['en']        110   \n",
       "923               1914.0   ['en']         97   \n",
       "1106                 NaN   ['en']       5831   \n",
       "...                  ...      ...        ...   \n",
       "70441                NaN   ['en']         12   \n",
       "70442             1915.0   ['en']         12   \n",
       "70443             1893.0   ['en']         34   \n",
       "70445             1912.0   ['en']        103   \n",
       "70447             1895.0   ['en']        170   \n",
       "\n",
       "                                                subjects type  \n",
       "606    {'Science fiction, French -- Translations into...  NaN  \n",
       "703    {'Picture books for children', 'Nursery rhymes...  NaN  \n",
       "841    {'Authors -- Fiction', 'England -- Fiction', '...  NaN  \n",
       "923    {'Logic, Symbolic and mathematical', 'Algebrai...  NaN  \n",
       "1106                                           {'Bible'}  NaN  \n",
       "...                                                  ...  ...  \n",
       "70441          {'Puerto Rico -- Description and travel'}  NaN  \n",
       "70442                             {'Philosophy, Modern'}  NaN  \n",
       "70443      {'Canada -- History -- To 1763 (New France)'}  NaN  \n",
       "70445  {'Slaves -- United States -- Biography', 'Afri...  NaN  \n",
       "70447  {'Reconstruction (U.S. history, 1865-1877)', '...  NaN  \n",
       "\n",
       "[2215 rows x 9 columns]"
      ]
     },
     "execution_count": 6,
     "metadata": {},
     "output_type": "execute_result"
    }
   ],
   "source": [
    "library.loc[(~library['id'].isin(books_list)) & (library['type'].isna())]"
   ]
  },
  {
   "attachments": {},
   "cell_type": "markdown",
   "metadata": {},
   "source": [
    "For 'Sound' it is pretty straightforward. I'm only looking for boox and not for audio files."
   ]
  },
  {
   "cell_type": "code",
   "execution_count": 7,
   "metadata": {},
   "outputs": [
    {
     "data": {
      "text/html": [
       "<div>\n",
       "<style scoped>\n",
       "    .dataframe tbody tr th:only-of-type {\n",
       "        vertical-align: middle;\n",
       "    }\n",
       "\n",
       "    .dataframe tbody tr th {\n",
       "        vertical-align: top;\n",
       "    }\n",
       "\n",
       "    .dataframe thead th {\n",
       "        text-align: right;\n",
       "    }\n",
       "</style>\n",
       "<table border=\"1\" class=\"dataframe\">\n",
       "  <thead>\n",
       "    <tr style=\"text-align: right;\">\n",
       "      <th></th>\n",
       "      <th>id</th>\n",
       "      <th>title</th>\n",
       "      <th>author</th>\n",
       "      <th>authoryearofbirth</th>\n",
       "      <th>authoryearofdeath</th>\n",
       "      <th>language</th>\n",
       "      <th>downloads</th>\n",
       "      <th>subjects</th>\n",
       "      <th>type</th>\n",
       "    </tr>\n",
       "  </thead>\n",
       "  <tbody>\n",
       "    <tr>\n",
       "      <th>151</th>\n",
       "      <td>PG10137</td>\n",
       "      <td>Mary Had a Little Lamb: Recording taken from M...</td>\n",
       "      <td>Edison, Thomas A. (Thomas Alva)</td>\n",
       "      <td>1847.0</td>\n",
       "      <td>1931.0</td>\n",
       "      <td>['en']</td>\n",
       "      <td>21</td>\n",
       "      <td>{'Nursery rhymes, American'}</td>\n",
       "      <td>Sound</td>\n",
       "    </tr>\n",
       "    <tr>\n",
       "      <th>168</th>\n",
       "      <td>PG10152</td>\n",
       "      <td>Voice Trial - Kinetophone actor audition</td>\n",
       "      <td>Lett, Bob</td>\n",
       "      <td>NaN</td>\n",
       "      <td>NaN</td>\n",
       "      <td>['en']</td>\n",
       "      <td>4</td>\n",
       "      <td>{'Auditions'}</td>\n",
       "      <td>Sound</td>\n",
       "    </tr>\n",
       "    <tr>\n",
       "      <th>169</th>\n",
       "      <td>PG10153</td>\n",
       "      <td>Voice Trial - Kinetophone Actor Audition</td>\n",
       "      <td>Lenord, Frank</td>\n",
       "      <td>NaN</td>\n",
       "      <td>NaN</td>\n",
       "      <td>['en']</td>\n",
       "      <td>4</td>\n",
       "      <td>{'Auditions'}</td>\n",
       "      <td>Sound</td>\n",
       "    </tr>\n",
       "    <tr>\n",
       "      <th>170</th>\n",
       "      <td>PG10154</td>\n",
       "      <td>Voice Trial - Kinetophone Actor Audition</td>\n",
       "      <td>Schultz, Siegfried Von</td>\n",
       "      <td>NaN</td>\n",
       "      <td>NaN</td>\n",
       "      <td>['en']</td>\n",
       "      <td>0</td>\n",
       "      <td>{'Auditions'}</td>\n",
       "      <td>Sound</td>\n",
       "    </tr>\n",
       "    <tr>\n",
       "      <th>171</th>\n",
       "      <td>PG10155</td>\n",
       "      <td>The Right of the People to Rule</td>\n",
       "      <td>Roosevelt, Theodore</td>\n",
       "      <td>1858.0</td>\n",
       "      <td>1919.0</td>\n",
       "      <td>['en']</td>\n",
       "      <td>9</td>\n",
       "      <td>{'Progressivism (United States politics)', 'Po...</td>\n",
       "      <td>Sound</td>\n",
       "    </tr>\n",
       "    <tr>\n",
       "      <th>...</th>\n",
       "      <td>...</td>\n",
       "      <td>...</td>\n",
       "      <td>...</td>\n",
       "      <td>...</td>\n",
       "      <td>...</td>\n",
       "      <td>...</td>\n",
       "      <td>...</td>\n",
       "      <td>...</td>\n",
       "      <td>...</td>\n",
       "    </tr>\n",
       "    <tr>\n",
       "      <th>70159</th>\n",
       "      <td>PG9740</td>\n",
       "      <td>Tom Tiddler's Ground</td>\n",
       "      <td>Dickens, Charles</td>\n",
       "      <td>1812.0</td>\n",
       "      <td>1870.0</td>\n",
       "      <td>['en']</td>\n",
       "      <td>6</td>\n",
       "      <td>{'English fiction'}</td>\n",
       "      <td>Sound</td>\n",
       "    </tr>\n",
       "    <tr>\n",
       "      <th>70160</th>\n",
       "      <td>PG9741</td>\n",
       "      <td>The Uncommercial Traveller</td>\n",
       "      <td>Dickens, Charles</td>\n",
       "      <td>1812.0</td>\n",
       "      <td>1870.0</td>\n",
       "      <td>['en']</td>\n",
       "      <td>6</td>\n",
       "      <td>{'England -- Social life and customs -- 19th c...</td>\n",
       "      <td>Sound</td>\n",
       "    </tr>\n",
       "    <tr>\n",
       "      <th>70161</th>\n",
       "      <td>PG9742</td>\n",
       "      <td>The Wreck of the Golden Mary</td>\n",
       "      <td>Dickens, Charles</td>\n",
       "      <td>1812.0</td>\n",
       "      <td>1870.0</td>\n",
       "      <td>['en']</td>\n",
       "      <td>3</td>\n",
       "      <td>{'Sea stories', 'Shipwrecks -- Fiction', 'Gold...</td>\n",
       "      <td>Sound</td>\n",
       "    </tr>\n",
       "    <tr>\n",
       "      <th>70162</th>\n",
       "      <td>PG9743</td>\n",
       "      <td>Sketches of Young Couples</td>\n",
       "      <td>Dickens, Charles</td>\n",
       "      <td>1812.0</td>\n",
       "      <td>1870.0</td>\n",
       "      <td>['en']</td>\n",
       "      <td>3</td>\n",
       "      <td>{'Couples -- England', 'England -- Social life...</td>\n",
       "      <td>Sound</td>\n",
       "    </tr>\n",
       "    <tr>\n",
       "      <th>70163</th>\n",
       "      <td>PG9744</td>\n",
       "      <td>David Copperfield</td>\n",
       "      <td>Dickens, Charles</td>\n",
       "      <td>1812.0</td>\n",
       "      <td>1870.0</td>\n",
       "      <td>['en']</td>\n",
       "      <td>50</td>\n",
       "      <td>{'Bildungsromans', 'Boys -- Fiction', 'Young m...</td>\n",
       "      <td>Sound</td>\n",
       "    </tr>\n",
       "  </tbody>\n",
       "</table>\n",
       "<p>1104 rows × 9 columns</p>\n",
       "</div>"
      ],
      "text/plain": [
       "            id                                              title  \\\n",
       "151    PG10137  Mary Had a Little Lamb: Recording taken from M...   \n",
       "168    PG10152           Voice Trial - Kinetophone actor audition   \n",
       "169    PG10153           Voice Trial - Kinetophone Actor Audition   \n",
       "170    PG10154           Voice Trial - Kinetophone Actor Audition   \n",
       "171    PG10155                    The Right of the People to Rule   \n",
       "...        ...                                                ...   \n",
       "70159   PG9740                               Tom Tiddler's Ground   \n",
       "70160   PG9741                         The Uncommercial Traveller   \n",
       "70161   PG9742                       The Wreck of the Golden Mary   \n",
       "70162   PG9743                          Sketches of Young Couples   \n",
       "70163   PG9744                                  David Copperfield   \n",
       "\n",
       "                                author  authoryearofbirth  authoryearofdeath  \\\n",
       "151    Edison, Thomas A. (Thomas Alva)             1847.0             1931.0   \n",
       "168                          Lett, Bob                NaN                NaN   \n",
       "169                      Lenord, Frank                NaN                NaN   \n",
       "170             Schultz, Siegfried Von                NaN                NaN   \n",
       "171                Roosevelt, Theodore             1858.0             1919.0   \n",
       "...                                ...                ...                ...   \n",
       "70159                 Dickens, Charles             1812.0             1870.0   \n",
       "70160                 Dickens, Charles             1812.0             1870.0   \n",
       "70161                 Dickens, Charles             1812.0             1870.0   \n",
       "70162                 Dickens, Charles             1812.0             1870.0   \n",
       "70163                 Dickens, Charles             1812.0             1870.0   \n",
       "\n",
       "      language  downloads                                           subjects  \\\n",
       "151     ['en']         21                       {'Nursery rhymes, American'}   \n",
       "168     ['en']          4                                      {'Auditions'}   \n",
       "169     ['en']          4                                      {'Auditions'}   \n",
       "170     ['en']          0                                      {'Auditions'}   \n",
       "171     ['en']          9  {'Progressivism (United States politics)', 'Po...   \n",
       "...        ...        ...                                                ...   \n",
       "70159   ['en']          6                                {'English fiction'}   \n",
       "70160   ['en']          6  {'England -- Social life and customs -- 19th c...   \n",
       "70161   ['en']          3  {'Sea stories', 'Shipwrecks -- Fiction', 'Gold...   \n",
       "70162   ['en']          3  {'Couples -- England', 'England -- Social life...   \n",
       "70163   ['en']         50  {'Bildungsromans', 'Boys -- Fiction', 'Young m...   \n",
       "\n",
       "        type  \n",
       "151    Sound  \n",
       "168    Sound  \n",
       "169    Sound  \n",
       "170    Sound  \n",
       "171    Sound  \n",
       "...      ...  \n",
       "70159  Sound  \n",
       "70160  Sound  \n",
       "70161  Sound  \n",
       "70162  Sound  \n",
       "70163  Sound  \n",
       "\n",
       "[1104 rows x 9 columns]"
      ]
     },
     "execution_count": 7,
     "metadata": {},
     "output_type": "execute_result"
    }
   ],
   "source": [
    "library.loc[(~library['id'].isin(books_list)) & (library['type'] == 'Sound')]"
   ]
  },
  {
   "attachments": {},
   "cell_type": "markdown",
   "metadata": {},
   "source": [
    "Next up, looking into datasets. It appears the vast majority of them are genomes. There are 10 calculations of square roots and 1/pi to a million digits. And 'Moby Word Lists' is just info on gutenberg, disclaimers, etc..."
   ]
  },
  {
   "cell_type": "code",
   "execution_count": 8,
   "metadata": {},
   "outputs": [
    {
     "data": {
      "text/html": [
       "<div>\n",
       "<style scoped>\n",
       "    .dataframe tbody tr th:only-of-type {\n",
       "        vertical-align: middle;\n",
       "    }\n",
       "\n",
       "    .dataframe tbody tr th {\n",
       "        vertical-align: top;\n",
       "    }\n",
       "\n",
       "    .dataframe thead th {\n",
       "        text-align: right;\n",
       "    }\n",
       "</style>\n",
       "<table border=\"1\" class=\"dataframe\">\n",
       "  <thead>\n",
       "    <tr style=\"text-align: right;\">\n",
       "      <th></th>\n",
       "      <th>id</th>\n",
       "      <th>title</th>\n",
       "      <th>authoryearofbirth</th>\n",
       "      <th>authoryearofdeath</th>\n",
       "      <th>language</th>\n",
       "      <th>downloads</th>\n",
       "      <th>subjects</th>\n",
       "      <th>type</th>\n",
       "    </tr>\n",
       "    <tr>\n",
       "      <th>author</th>\n",
       "      <th></th>\n",
       "      <th></th>\n",
       "      <th></th>\n",
       "      <th></th>\n",
       "      <th></th>\n",
       "      <th></th>\n",
       "      <th></th>\n",
       "      <th></th>\n",
       "    </tr>\n",
       "  </thead>\n",
       "  <tbody>\n",
       "    <tr>\n",
       "      <th>Bonnell, Jerry T.</th>\n",
       "      <td>2</td>\n",
       "      <td>2</td>\n",
       "      <td>0</td>\n",
       "      <td>0</td>\n",
       "      <td>2</td>\n",
       "      <td>2</td>\n",
       "      <td>2</td>\n",
       "      <td>2</td>\n",
       "    </tr>\n",
       "    <tr>\n",
       "      <th>De Forest, Norman L.</th>\n",
       "      <td>1</td>\n",
       "      <td>1</td>\n",
       "      <td>0</td>\n",
       "      <td>0</td>\n",
       "      <td>1</td>\n",
       "      <td>1</td>\n",
       "      <td>1</td>\n",
       "      <td>1</td>\n",
       "    </tr>\n",
       "    <tr>\n",
       "      <th>Human Genome Project</th>\n",
       "      <td>72</td>\n",
       "      <td>72</td>\n",
       "      <td>0</td>\n",
       "      <td>0</td>\n",
       "      <td>72</td>\n",
       "      <td>72</td>\n",
       "      <td>72</td>\n",
       "      <td>72</td>\n",
       "    </tr>\n",
       "    <tr>\n",
       "      <th>Kanada, Yasumasa</th>\n",
       "      <td>1</td>\n",
       "      <td>1</td>\n",
       "      <td>1</td>\n",
       "      <td>1</td>\n",
       "      <td>1</td>\n",
       "      <td>1</td>\n",
       "      <td>1</td>\n",
       "      <td>1</td>\n",
       "    </tr>\n",
       "    <tr>\n",
       "      <th>Kerr, Stan</th>\n",
       "      <td>1</td>\n",
       "      <td>1</td>\n",
       "      <td>0</td>\n",
       "      <td>0</td>\n",
       "      <td>1</td>\n",
       "      <td>1</td>\n",
       "      <td>1</td>\n",
       "      <td>1</td>\n",
       "    </tr>\n",
       "    <tr>\n",
       "      <th>Nemiroff, Robert J.</th>\n",
       "      <td>5</td>\n",
       "      <td>5</td>\n",
       "      <td>0</td>\n",
       "      <td>0</td>\n",
       "      <td>5</td>\n",
       "      <td>5</td>\n",
       "      <td>5</td>\n",
       "      <td>5</td>\n",
       "    </tr>\n",
       "    <tr>\n",
       "      <th>Ward, Grady</th>\n",
       "      <td>1</td>\n",
       "      <td>1</td>\n",
       "      <td>1</td>\n",
       "      <td>0</td>\n",
       "      <td>1</td>\n",
       "      <td>1</td>\n",
       "      <td>1</td>\n",
       "      <td>1</td>\n",
       "    </tr>\n",
       "  </tbody>\n",
       "</table>\n",
       "</div>"
      ],
      "text/plain": [
       "                      id  title  authoryearofbirth  authoryearofdeath  \\\n",
       "author                                                                  \n",
       "Bonnell, Jerry T.      2      2                  0                  0   \n",
       "De Forest, Norman L.   1      1                  0                  0   \n",
       "Human Genome Project  72     72                  0                  0   \n",
       "Kanada, Yasumasa       1      1                  1                  1   \n",
       "Kerr, Stan             1      1                  0                  0   \n",
       "Nemiroff, Robert J.    5      5                  0                  0   \n",
       "Ward, Grady            1      1                  1                  0   \n",
       "\n",
       "                      language  downloads  subjects  type  \n",
       "author                                                     \n",
       "Bonnell, Jerry T.            2          2         2     2  \n",
       "De Forest, Norman L.         1          1         1     1  \n",
       "Human Genome Project        72         72        72    72  \n",
       "Kanada, Yasumasa             1          1         1     1  \n",
       "Kerr, Stan                   1          1         1     1  \n",
       "Nemiroff, Robert J.          5          5         5     5  \n",
       "Ward, Grady                  1          1         1     1  "
      ]
     },
     "execution_count": 8,
     "metadata": {},
     "output_type": "execute_result"
    }
   ],
   "source": [
    "library.loc[(~library['id'].isin(books_list)) & (library['type'] == 'Dataset')].groupby('author').count()"
   ]
  },
  {
   "attachments": {},
   "cell_type": "markdown",
   "metadata": {},
   "source": [
    "Onto checking out the images! the Image contains music sheets. MovingImage contains comets video, rotating earth and 5 nuclear test videos. StillImages contain a kids story illustrated and two maps/ map images."
   ]
  },
  {
   "cell_type": "code",
   "execution_count": 9,
   "metadata": {},
   "outputs": [
    {
     "data": {
      "text/html": [
       "<div>\n",
       "<style scoped>\n",
       "    .dataframe tbody tr th:only-of-type {\n",
       "        vertical-align: middle;\n",
       "    }\n",
       "\n",
       "    .dataframe tbody tr th {\n",
       "        vertical-align: top;\n",
       "    }\n",
       "\n",
       "    .dataframe thead th {\n",
       "        text-align: right;\n",
       "    }\n",
       "</style>\n",
       "<table border=\"1\" class=\"dataframe\">\n",
       "  <thead>\n",
       "    <tr style=\"text-align: right;\">\n",
       "      <th></th>\n",
       "      <th>id</th>\n",
       "      <th>title</th>\n",
       "      <th>author</th>\n",
       "      <th>authoryearofbirth</th>\n",
       "      <th>authoryearofdeath</th>\n",
       "      <th>language</th>\n",
       "      <th>downloads</th>\n",
       "      <th>subjects</th>\n",
       "      <th>type</th>\n",
       "    </tr>\n",
       "  </thead>\n",
       "  <tbody>\n",
       "    <tr>\n",
       "      <th>1108</th>\n",
       "      <td>PG11001</td>\n",
       "      <td>String Quartet No. 05 in A major Opus 18</td>\n",
       "      <td>Beethoven, Ludwig van</td>\n",
       "      <td>1770.0</td>\n",
       "      <td>1827.0</td>\n",
       "      <td>['en']</td>\n",
       "      <td>5</td>\n",
       "      <td>{'Music', 'String quartets -- Scores'}</td>\n",
       "      <td>Image</td>\n",
       "    </tr>\n",
       "    <tr>\n",
       "      <th>1109</th>\n",
       "      <td>PG11002</td>\n",
       "      <td>String Quartet No. 11 in F minor Opus 95 \"Seri...</td>\n",
       "      <td>Beethoven, Ludwig van</td>\n",
       "      <td>1770.0</td>\n",
       "      <td>1827.0</td>\n",
       "      <td>['en']</td>\n",
       "      <td>6</td>\n",
       "      <td>{'String quartets -- Scores', 'Music'}</td>\n",
       "      <td>Image</td>\n",
       "    </tr>\n",
       "    <tr>\n",
       "      <th>1944</th>\n",
       "      <td>PG11755</td>\n",
       "      <td>String Quartet No. 10 in E flat major Opus 74 ...</td>\n",
       "      <td>Beethoven, Ludwig van</td>\n",
       "      <td>1770.0</td>\n",
       "      <td>1827.0</td>\n",
       "      <td>['en']</td>\n",
       "      <td>15</td>\n",
       "      <td>{'Music', 'String quartets -- Scores'}</td>\n",
       "      <td>Image</td>\n",
       "    </tr>\n",
       "    <tr>\n",
       "      <th>2381</th>\n",
       "      <td>PG12149</td>\n",
       "      <td>String Quartet No. 03 in D major Opus 18</td>\n",
       "      <td>Beethoven, Ludwig van</td>\n",
       "      <td>1770.0</td>\n",
       "      <td>1827.0</td>\n",
       "      <td>['en']</td>\n",
       "      <td>15</td>\n",
       "      <td>{'String quartets -- Scores', 'Music'}</td>\n",
       "      <td>Image</td>\n",
       "    </tr>\n",
       "    <tr>\n",
       "      <th>2479</th>\n",
       "      <td>PG12237</td>\n",
       "      <td>String Quartet No. 16 in F major Opus 135</td>\n",
       "      <td>Beethoven, Ludwig van</td>\n",
       "      <td>1770.0</td>\n",
       "      <td>1827.0</td>\n",
       "      <td>['en']</td>\n",
       "      <td>21</td>\n",
       "      <td>{'Music', 'String quartets -- Scores'}</td>\n",
       "      <td>Image</td>\n",
       "    </tr>\n",
       "    <tr>\n",
       "      <th>2986</th>\n",
       "      <td>PG12695</td>\n",
       "      <td>String Quartet No. 04 in C minor Opus 18</td>\n",
       "      <td>Beethoven, Ludwig van</td>\n",
       "      <td>1770.0</td>\n",
       "      <td>1827.0</td>\n",
       "      <td>['en']</td>\n",
       "      <td>11</td>\n",
       "      <td>{'Music', 'String quartets -- Scores'}</td>\n",
       "      <td>Image</td>\n",
       "    </tr>\n",
       "    <tr>\n",
       "      <th>3412</th>\n",
       "      <td>PG13078</td>\n",
       "      <td>String Quartet No. 12 in E flat major Opus 127</td>\n",
       "      <td>Beethoven, Ludwig van</td>\n",
       "      <td>1770.0</td>\n",
       "      <td>1827.0</td>\n",
       "      <td>['en']</td>\n",
       "      <td>8</td>\n",
       "      <td>{'String quartets -- Scores', 'Music'}</td>\n",
       "      <td>Image</td>\n",
       "    </tr>\n",
       "    <tr>\n",
       "      <th>3413</th>\n",
       "      <td>PG13079</td>\n",
       "      <td>String Quartet No. 14 in C-sharp minor Opus 131</td>\n",
       "      <td>Beethoven, Ludwig van</td>\n",
       "      <td>1770.0</td>\n",
       "      <td>1827.0</td>\n",
       "      <td>['en']</td>\n",
       "      <td>14</td>\n",
       "      <td>{'String quartets -- Scores', 'Music'}</td>\n",
       "      <td>Image</td>\n",
       "    </tr>\n",
       "    <tr>\n",
       "      <th>3495</th>\n",
       "      <td>PG13153</td>\n",
       "      <td>String Quartet No. 15 in A minor Opus 132</td>\n",
       "      <td>Beethoven, Ludwig van</td>\n",
       "      <td>1770.0</td>\n",
       "      <td>1827.0</td>\n",
       "      <td>['en']</td>\n",
       "      <td>36</td>\n",
       "      <td>{'String quartets -- Scores', 'Music'}</td>\n",
       "      <td>Image</td>\n",
       "    </tr>\n",
       "    <tr>\n",
       "      <th>3850</th>\n",
       "      <td>PG13473</td>\n",
       "      <td>String Quartet No. 06 in B flat major Opus 18</td>\n",
       "      <td>Beethoven, Ludwig van</td>\n",
       "      <td>1770.0</td>\n",
       "      <td>1827.0</td>\n",
       "      <td>['en']</td>\n",
       "      <td>7</td>\n",
       "      <td>{'Music', 'String quartets -- Scores'}</td>\n",
       "      <td>Image</td>\n",
       "    </tr>\n",
       "    <tr>\n",
       "      <th>3980</th>\n",
       "      <td>PG13590</td>\n",
       "      <td>British Folk-Music Settings Nr. 4, \"Shepherd's...</td>\n",
       "      <td>NaN</td>\n",
       "      <td>NaN</td>\n",
       "      <td>NaN</td>\n",
       "      <td>['en']</td>\n",
       "      <td>30</td>\n",
       "      <td>{'Morris dances', 'Folk dance music -- England'}</td>\n",
       "      <td>Image</td>\n",
       "    </tr>\n",
       "    <tr>\n",
       "      <th>22348</th>\n",
       "      <td>PG30156</td>\n",
       "      <td>Second Overture In Solomon: Sinfonia, The Arri...</td>\n",
       "      <td>Handel, George Frideric</td>\n",
       "      <td>1685.0</td>\n",
       "      <td>1759.0</td>\n",
       "      <td>['en']</td>\n",
       "      <td>20</td>\n",
       "      <td>{'Oratorios -- Excerpts'}</td>\n",
       "      <td>Image</td>\n",
       "    </tr>\n",
       "    <tr>\n",
       "      <th>41610</th>\n",
       "      <td>PG4749</td>\n",
       "      <td>String Quartet No. 01 in F major Opus 18</td>\n",
       "      <td>Beethoven, Ludwig van</td>\n",
       "      <td>1770.0</td>\n",
       "      <td>1827.0</td>\n",
       "      <td>['en']</td>\n",
       "      <td>36</td>\n",
       "      <td>{'String quartets -- Scores', 'Music'}</td>\n",
       "      <td>Image</td>\n",
       "    </tr>\n",
       "    <tr>\n",
       "      <th>41622</th>\n",
       "      <td>PG4750</td>\n",
       "      <td>String Quartet No. 1 in G major, K. 80</td>\n",
       "      <td>Mozart, Wolfgang Amadeus</td>\n",
       "      <td>1756.0</td>\n",
       "      <td>1791.0</td>\n",
       "      <td>['en']</td>\n",
       "      <td>12</td>\n",
       "      <td>{'String quartets -- Scores'}</td>\n",
       "      <td>Image</td>\n",
       "    </tr>\n",
       "    <tr>\n",
       "      <th>41633</th>\n",
       "      <td>PG4751</td>\n",
       "      <td>String Quartet No. 2 in D major, K. 155</td>\n",
       "      <td>Mozart, Wolfgang Amadeus</td>\n",
       "      <td>1756.0</td>\n",
       "      <td>1791.0</td>\n",
       "      <td>['en']</td>\n",
       "      <td>7</td>\n",
       "      <td>{'String quartets -- Scores'}</td>\n",
       "      <td>Image</td>\n",
       "    </tr>\n",
       "    <tr>\n",
       "      <th>43832</th>\n",
       "      <td>PG4949</td>\n",
       "      <td>Brandenburg Concerto No. 2 in F Major, BWV 1047</td>\n",
       "      <td>Bach, Johann Sebastian</td>\n",
       "      <td>1685.0</td>\n",
       "      <td>1750.0</td>\n",
       "      <td>['en']</td>\n",
       "      <td>71</td>\n",
       "      <td>{'Concerti grossi'}</td>\n",
       "      <td>Image</td>\n",
       "    </tr>\n",
       "    <tr>\n",
       "      <th>43844</th>\n",
       "      <td>PG4950</td>\n",
       "      <td>String Quartet No. 02 in G major Opus 18</td>\n",
       "      <td>Beethoven, Ludwig van</td>\n",
       "      <td>1770.0</td>\n",
       "      <td>1827.0</td>\n",
       "      <td>['en']</td>\n",
       "      <td>18</td>\n",
       "      <td>{'String quartets -- Scores', 'Music'}</td>\n",
       "      <td>Image</td>\n",
       "    </tr>\n",
       "    <tr>\n",
       "      <th>43855</th>\n",
       "      <td>PG4951</td>\n",
       "      <td>String Quartet No. 17 in B flat major, \"Hunt\",...</td>\n",
       "      <td>Mozart, Wolfgang Amadeus</td>\n",
       "      <td>1756.0</td>\n",
       "      <td>1791.0</td>\n",
       "      <td>['en']</td>\n",
       "      <td>20</td>\n",
       "      <td>{'String quartets -- Scores'}</td>\n",
       "      <td>Image</td>\n",
       "    </tr>\n",
       "    <tr>\n",
       "      <th>46488</th>\n",
       "      <td>PG5188</td>\n",
       "      <td>String Quartet No. 57 in C Major, Op. 74, No. ...</td>\n",
       "      <td>Haydn, Joseph</td>\n",
       "      <td>1732.0</td>\n",
       "      <td>1809.0</td>\n",
       "      <td>['en']</td>\n",
       "      <td>9</td>\n",
       "      <td>{'String quartets -- Scores'}</td>\n",
       "      <td>Image</td>\n",
       "    </tr>\n",
       "    <tr>\n",
       "      <th>46499</th>\n",
       "      <td>PG5189</td>\n",
       "      <td>String Quartet in C minor, Op. 51 no. 1</td>\n",
       "      <td>Brahms, Johannes</td>\n",
       "      <td>1833.0</td>\n",
       "      <td>1897.0</td>\n",
       "      <td>['en']</td>\n",
       "      <td>18</td>\n",
       "      <td>{'String quartets -- Scores'}</td>\n",
       "      <td>Image</td>\n",
       "    </tr>\n",
       "    <tr>\n",
       "      <th>46511</th>\n",
       "      <td>PG5190</td>\n",
       "      <td>Brandenburg Concerto No. 5 in D Major, BWV 1050</td>\n",
       "      <td>Bach, Johann Sebastian</td>\n",
       "      <td>1685.0</td>\n",
       "      <td>1750.0</td>\n",
       "      <td>['en']</td>\n",
       "      <td>26</td>\n",
       "      <td>{'Concerti grossi'}</td>\n",
       "      <td>Image</td>\n",
       "    </tr>\n",
       "    <tr>\n",
       "      <th>51365</th>\n",
       "      <td>PG5627</td>\n",
       "      <td>String Quartet No. 10 in E-flat Major, Opus 12...</td>\n",
       "      <td>Schubert, Franz</td>\n",
       "      <td>1797.0</td>\n",
       "      <td>1828.0</td>\n",
       "      <td>['en']</td>\n",
       "      <td>15</td>\n",
       "      <td>{'String quartets -- Scores'}</td>\n",
       "      <td>Image</td>\n",
       "    </tr>\n",
       "    <tr>\n",
       "      <th>51443</th>\n",
       "      <td>PG5634</td>\n",
       "      <td>Große Fuge in B flat major Opus 133</td>\n",
       "      <td>Beethoven, Ludwig van</td>\n",
       "      <td>1770.0</td>\n",
       "      <td>1827.0</td>\n",
       "      <td>['en']</td>\n",
       "      <td>38</td>\n",
       "      <td>{'Canons, fugues, etc.', 'String quartets -- S...</td>\n",
       "      <td>Image</td>\n",
       "    </tr>\n",
       "    <tr>\n",
       "      <th>51454</th>\n",
       "      <td>PG5635</td>\n",
       "      <td>String Quartet No. 3 in G Major, K. 156</td>\n",
       "      <td>Mozart, Wolfgang Amadeus</td>\n",
       "      <td>1756.0</td>\n",
       "      <td>1791.0</td>\n",
       "      <td>['en']</td>\n",
       "      <td>12</td>\n",
       "      <td>{'String quartets -- Scores'}</td>\n",
       "      <td>Image</td>\n",
       "    </tr>\n",
       "    <tr>\n",
       "      <th>52332</th>\n",
       "      <td>PG5714</td>\n",
       "      <td>String Quartet No. 58 in F Major, Op. 74, No. ...</td>\n",
       "      <td>Haydn, Joseph</td>\n",
       "      <td>1732.0</td>\n",
       "      <td>1809.0</td>\n",
       "      <td>['en']</td>\n",
       "      <td>11</td>\n",
       "      <td>{'String quartets -- Scores'}</td>\n",
       "      <td>Image</td>\n",
       "    </tr>\n",
       "    <tr>\n",
       "      <th>54228</th>\n",
       "      <td>PG5885</td>\n",
       "      <td>Prelude and Fugue in E-Flat Major, Op. 99 no.3</td>\n",
       "      <td>Saint-Saëns, Camille</td>\n",
       "      <td>1835.0</td>\n",
       "      <td>1921.0</td>\n",
       "      <td>['en']</td>\n",
       "      <td>25</td>\n",
       "      <td>{'Organ music'}</td>\n",
       "      <td>Image</td>\n",
       "    </tr>\n",
       "    <tr>\n",
       "      <th>54239</th>\n",
       "      <td>PG5886</td>\n",
       "      <td>String Quartet in F Major, Op. 74 no. 2</td>\n",
       "      <td>Haydn, Joseph</td>\n",
       "      <td>1732.0</td>\n",
       "      <td>1809.0</td>\n",
       "      <td>['en']</td>\n",
       "      <td>55</td>\n",
       "      <td>{'String quartets -- Scores'}</td>\n",
       "      <td>Image</td>\n",
       "    </tr>\n",
       "    <tr>\n",
       "      <th>56439</th>\n",
       "      <td>PG6084</td>\n",
       "      <td>Quartet in a minor, op. 41, no. 1</td>\n",
       "      <td>Schumann, Robert</td>\n",
       "      <td>1810.0</td>\n",
       "      <td>1856.0</td>\n",
       "      <td>['en']</td>\n",
       "      <td>15</td>\n",
       "      <td>{'String quartets -- Scores'}</td>\n",
       "      <td>Image</td>\n",
       "    </tr>\n",
       "    <tr>\n",
       "      <th>65179</th>\n",
       "      <td>PG6871</td>\n",
       "      <td>String Quartet No. 09 in C major Opus 59</td>\n",
       "      <td>Beethoven, Ludwig van</td>\n",
       "      <td>1770.0</td>\n",
       "      <td>1827.0</td>\n",
       "      <td>['en']</td>\n",
       "      <td>16</td>\n",
       "      <td>{'Music', 'String quartets -- Scores'}</td>\n",
       "      <td>Image</td>\n",
       "    </tr>\n",
       "    <tr>\n",
       "      <th>67246</th>\n",
       "      <td>PG7092</td>\n",
       "      <td>String Quartet No. 07 in F major Opus 59</td>\n",
       "      <td>Beethoven, Ludwig van</td>\n",
       "      <td>1770.0</td>\n",
       "      <td>1827.0</td>\n",
       "      <td>['en']</td>\n",
       "      <td>3</td>\n",
       "      <td>{'Music', 'String quartets -- Scores'}</td>\n",
       "      <td>Image</td>\n",
       "    </tr>\n",
       "    <tr>\n",
       "      <th>67247</th>\n",
       "      <td>PG7093</td>\n",
       "      <td>String Quartet No. 08 in E minor Opus 59</td>\n",
       "      <td>Beethoven, Ludwig van</td>\n",
       "      <td>1770.0</td>\n",
       "      <td>1827.0</td>\n",
       "      <td>['en']</td>\n",
       "      <td>10</td>\n",
       "      <td>{'String quartets -- Scores', 'Music'}</td>\n",
       "      <td>Image</td>\n",
       "    </tr>\n",
       "    <tr>\n",
       "      <th>67707</th>\n",
       "      <td>PG7507</td>\n",
       "      <td>String Quartet No. 13 in B flat major Opus 130</td>\n",
       "      <td>Beethoven, Ludwig van</td>\n",
       "      <td>1770.0</td>\n",
       "      <td>1827.0</td>\n",
       "      <td>['en']</td>\n",
       "      <td>2</td>\n",
       "      <td>{'String quartets -- Scores', 'Music'}</td>\n",
       "      <td>Image</td>\n",
       "    </tr>\n",
       "    <tr>\n",
       "      <th>69772</th>\n",
       "      <td>PG9392</td>\n",
       "      <td>Prelude in E Minor, Op. 28, No. 4</td>\n",
       "      <td>Chopin, Frédéric</td>\n",
       "      <td>1810.0</td>\n",
       "      <td>1849.0</td>\n",
       "      <td>['en']</td>\n",
       "      <td>40</td>\n",
       "      <td>{'Piano music'}</td>\n",
       "      <td>Image</td>\n",
       "    </tr>\n",
       "  </tbody>\n",
       "</table>\n",
       "</div>"
      ],
      "text/plain": [
       "            id                                              title  \\\n",
       "1108   PG11001           String Quartet No. 05 in A major Opus 18   \n",
       "1109   PG11002  String Quartet No. 11 in F minor Opus 95 \"Seri...   \n",
       "1944   PG11755  String Quartet No. 10 in E flat major Opus 74 ...   \n",
       "2381   PG12149           String Quartet No. 03 in D major Opus 18   \n",
       "2479   PG12237          String Quartet No. 16 in F major Opus 135   \n",
       "2986   PG12695           String Quartet No. 04 in C minor Opus 18   \n",
       "3412   PG13078     String Quartet No. 12 in E flat major Opus 127   \n",
       "3413   PG13079    String Quartet No. 14 in C-sharp minor Opus 131   \n",
       "3495   PG13153          String Quartet No. 15 in A minor Opus 132   \n",
       "3850   PG13473      String Quartet No. 06 in B flat major Opus 18   \n",
       "3980   PG13590  British Folk-Music Settings Nr. 4, \"Shepherd's...   \n",
       "22348  PG30156  Second Overture In Solomon: Sinfonia, The Arri...   \n",
       "41610   PG4749           String Quartet No. 01 in F major Opus 18   \n",
       "41622   PG4750             String Quartet No. 1 in G major, K. 80   \n",
       "41633   PG4751            String Quartet No. 2 in D major, K. 155   \n",
       "43832   PG4949    Brandenburg Concerto No. 2 in F Major, BWV 1047   \n",
       "43844   PG4950           String Quartet No. 02 in G major Opus 18   \n",
       "43855   PG4951  String Quartet No. 17 in B flat major, \"Hunt\",...   \n",
       "46488   PG5188  String Quartet No. 57 in C Major, Op. 74, No. ...   \n",
       "46499   PG5189            String Quartet in C minor, Op. 51 no. 1   \n",
       "46511   PG5190    Brandenburg Concerto No. 5 in D Major, BWV 1050   \n",
       "51365   PG5627  String Quartet No. 10 in E-flat Major, Opus 12...   \n",
       "51443   PG5634                Große Fuge in B flat major Opus 133   \n",
       "51454   PG5635            String Quartet No. 3 in G Major, K. 156   \n",
       "52332   PG5714  String Quartet No. 58 in F Major, Op. 74, No. ...   \n",
       "54228   PG5885     Prelude and Fugue in E-Flat Major, Op. 99 no.3   \n",
       "54239   PG5886            String Quartet in F Major, Op. 74 no. 2   \n",
       "56439   PG6084                  Quartet in a minor, op. 41, no. 1   \n",
       "65179   PG6871           String Quartet No. 09 in C major Opus 59   \n",
       "67246   PG7092           String Quartet No. 07 in F major Opus 59   \n",
       "67247   PG7093           String Quartet No. 08 in E minor Opus 59   \n",
       "67707   PG7507     String Quartet No. 13 in B flat major Opus 130   \n",
       "69772   PG9392                  Prelude in E Minor, Op. 28, No. 4   \n",
       "\n",
       "                         author  authoryearofbirth  authoryearofdeath  \\\n",
       "1108      Beethoven, Ludwig van             1770.0             1827.0   \n",
       "1109      Beethoven, Ludwig van             1770.0             1827.0   \n",
       "1944      Beethoven, Ludwig van             1770.0             1827.0   \n",
       "2381      Beethoven, Ludwig van             1770.0             1827.0   \n",
       "2479      Beethoven, Ludwig van             1770.0             1827.0   \n",
       "2986      Beethoven, Ludwig van             1770.0             1827.0   \n",
       "3412      Beethoven, Ludwig van             1770.0             1827.0   \n",
       "3413      Beethoven, Ludwig van             1770.0             1827.0   \n",
       "3495      Beethoven, Ludwig van             1770.0             1827.0   \n",
       "3850      Beethoven, Ludwig van             1770.0             1827.0   \n",
       "3980                        NaN                NaN                NaN   \n",
       "22348   Handel, George Frideric             1685.0             1759.0   \n",
       "41610     Beethoven, Ludwig van             1770.0             1827.0   \n",
       "41622  Mozart, Wolfgang Amadeus             1756.0             1791.0   \n",
       "41633  Mozart, Wolfgang Amadeus             1756.0             1791.0   \n",
       "43832    Bach, Johann Sebastian             1685.0             1750.0   \n",
       "43844     Beethoven, Ludwig van             1770.0             1827.0   \n",
       "43855  Mozart, Wolfgang Amadeus             1756.0             1791.0   \n",
       "46488             Haydn, Joseph             1732.0             1809.0   \n",
       "46499          Brahms, Johannes             1833.0             1897.0   \n",
       "46511    Bach, Johann Sebastian             1685.0             1750.0   \n",
       "51365           Schubert, Franz             1797.0             1828.0   \n",
       "51443     Beethoven, Ludwig van             1770.0             1827.0   \n",
       "51454  Mozart, Wolfgang Amadeus             1756.0             1791.0   \n",
       "52332             Haydn, Joseph             1732.0             1809.0   \n",
       "54228      Saint-Saëns, Camille             1835.0             1921.0   \n",
       "54239             Haydn, Joseph             1732.0             1809.0   \n",
       "56439          Schumann, Robert             1810.0             1856.0   \n",
       "65179     Beethoven, Ludwig van             1770.0             1827.0   \n",
       "67246     Beethoven, Ludwig van             1770.0             1827.0   \n",
       "67247     Beethoven, Ludwig van             1770.0             1827.0   \n",
       "67707     Beethoven, Ludwig van             1770.0             1827.0   \n",
       "69772          Chopin, Frédéric             1810.0             1849.0   \n",
       "\n",
       "      language  downloads                                           subjects  \\\n",
       "1108    ['en']          5             {'Music', 'String quartets -- Scores'}   \n",
       "1109    ['en']          6             {'String quartets -- Scores', 'Music'}   \n",
       "1944    ['en']         15             {'Music', 'String quartets -- Scores'}   \n",
       "2381    ['en']         15             {'String quartets -- Scores', 'Music'}   \n",
       "2479    ['en']         21             {'Music', 'String quartets -- Scores'}   \n",
       "2986    ['en']         11             {'Music', 'String quartets -- Scores'}   \n",
       "3412    ['en']          8             {'String quartets -- Scores', 'Music'}   \n",
       "3413    ['en']         14             {'String quartets -- Scores', 'Music'}   \n",
       "3495    ['en']         36             {'String quartets -- Scores', 'Music'}   \n",
       "3850    ['en']          7             {'Music', 'String quartets -- Scores'}   \n",
       "3980    ['en']         30   {'Morris dances', 'Folk dance music -- England'}   \n",
       "22348   ['en']         20                          {'Oratorios -- Excerpts'}   \n",
       "41610   ['en']         36             {'String quartets -- Scores', 'Music'}   \n",
       "41622   ['en']         12                      {'String quartets -- Scores'}   \n",
       "41633   ['en']          7                      {'String quartets -- Scores'}   \n",
       "43832   ['en']         71                                {'Concerti grossi'}   \n",
       "43844   ['en']         18             {'String quartets -- Scores', 'Music'}   \n",
       "43855   ['en']         20                      {'String quartets -- Scores'}   \n",
       "46488   ['en']          9                      {'String quartets -- Scores'}   \n",
       "46499   ['en']         18                      {'String quartets -- Scores'}   \n",
       "46511   ['en']         26                                {'Concerti grossi'}   \n",
       "51365   ['en']         15                      {'String quartets -- Scores'}   \n",
       "51443   ['en']         38  {'Canons, fugues, etc.', 'String quartets -- S...   \n",
       "51454   ['en']         12                      {'String quartets -- Scores'}   \n",
       "52332   ['en']         11                      {'String quartets -- Scores'}   \n",
       "54228   ['en']         25                                    {'Organ music'}   \n",
       "54239   ['en']         55                      {'String quartets -- Scores'}   \n",
       "56439   ['en']         15                      {'String quartets -- Scores'}   \n",
       "65179   ['en']         16             {'Music', 'String quartets -- Scores'}   \n",
       "67246   ['en']          3             {'Music', 'String quartets -- Scores'}   \n",
       "67247   ['en']         10             {'String quartets -- Scores', 'Music'}   \n",
       "67707   ['en']          2             {'String quartets -- Scores', 'Music'}   \n",
       "69772   ['en']         40                                    {'Piano music'}   \n",
       "\n",
       "        type  \n",
       "1108   Image  \n",
       "1109   Image  \n",
       "1944   Image  \n",
       "2381   Image  \n",
       "2479   Image  \n",
       "2986   Image  \n",
       "3412   Image  \n",
       "3413   Image  \n",
       "3495   Image  \n",
       "3850   Image  \n",
       "3980   Image  \n",
       "22348  Image  \n",
       "41610  Image  \n",
       "41622  Image  \n",
       "41633  Image  \n",
       "43832  Image  \n",
       "43844  Image  \n",
       "43855  Image  \n",
       "46488  Image  \n",
       "46499  Image  \n",
       "46511  Image  \n",
       "51365  Image  \n",
       "51443  Image  \n",
       "51454  Image  \n",
       "52332  Image  \n",
       "54228  Image  \n",
       "54239  Image  \n",
       "56439  Image  \n",
       "65179  Image  \n",
       "67246  Image  \n",
       "67247  Image  \n",
       "67707  Image  \n",
       "69772  Image  "
      ]
     },
     "execution_count": 9,
     "metadata": {},
     "output_type": "execute_result"
    }
   ],
   "source": [
    "library.loc[(~library['id'].isin(books_list)) & (library['type'] == 'Image')]"
   ]
  },
  {
   "cell_type": "code",
   "execution_count": 10,
   "metadata": {},
   "outputs": [
    {
     "data": {
      "text/html": [
       "<div>\n",
       "<style scoped>\n",
       "    .dataframe tbody tr th:only-of-type {\n",
       "        vertical-align: middle;\n",
       "    }\n",
       "\n",
       "    .dataframe tbody tr th {\n",
       "        vertical-align: top;\n",
       "    }\n",
       "\n",
       "    .dataframe thead th {\n",
       "        text-align: right;\n",
       "    }\n",
       "</style>\n",
       "<table border=\"1\" class=\"dataframe\">\n",
       "  <thead>\n",
       "    <tr style=\"text-align: right;\">\n",
       "      <th></th>\n",
       "      <th>id</th>\n",
       "      <th>title</th>\n",
       "      <th>author</th>\n",
       "      <th>authoryearofbirth</th>\n",
       "      <th>authoryearofdeath</th>\n",
       "      <th>language</th>\n",
       "      <th>downloads</th>\n",
       "      <th>subjects</th>\n",
       "      <th>type</th>\n",
       "    </tr>\n",
       "  </thead>\n",
       "  <tbody>\n",
       "    <tr>\n",
       "      <th>1661</th>\n",
       "      <td>PG114</td>\n",
       "      <td>The Tenniel Illustrations for Carroll's Alice ...</td>\n",
       "      <td>Tenniel, John</td>\n",
       "      <td>1820.0</td>\n",
       "      <td>1914.0</td>\n",
       "      <td>['en']</td>\n",
       "      <td>391</td>\n",
       "      <td>{\"Children's stories\", 'Fantasy fiction'}</td>\n",
       "      <td>StillImage</td>\n",
       "    </tr>\n",
       "    <tr>\n",
       "      <th>15515</th>\n",
       "      <td>PG239</td>\n",
       "      <td>Radar Map of the United States</td>\n",
       "      <td>United States</td>\n",
       "      <td>NaN</td>\n",
       "      <td>NaN</td>\n",
       "      <td>['en']</td>\n",
       "      <td>27</td>\n",
       "      <td>{'United States -- Maps'}</td>\n",
       "      <td>StillImage</td>\n",
       "    </tr>\n",
       "    <tr>\n",
       "      <th>67797</th>\n",
       "      <td>PG758</td>\n",
       "      <td>LandSat Picture of Washington, DC</td>\n",
       "      <td>United States. National Aeronautics and Space ...</td>\n",
       "      <td>NaN</td>\n",
       "      <td>NaN</td>\n",
       "      <td>['en']</td>\n",
       "      <td>36</td>\n",
       "      <td>{'Washington (D.C.) -- Remote-sensing images'}</td>\n",
       "      <td>StillImage</td>\n",
       "    </tr>\n",
       "  </tbody>\n",
       "</table>\n",
       "</div>"
      ],
      "text/plain": [
       "          id                                              title  \\\n",
       "1661   PG114  The Tenniel Illustrations for Carroll's Alice ...   \n",
       "15515  PG239                     Radar Map of the United States   \n",
       "67797  PG758                  LandSat Picture of Washington, DC   \n",
       "\n",
       "                                                  author  authoryearofbirth  \\\n",
       "1661                                       Tenniel, John             1820.0   \n",
       "15515                                      United States                NaN   \n",
       "67797  United States. National Aeronautics and Space ...                NaN   \n",
       "\n",
       "       authoryearofdeath language  downloads  \\\n",
       "1661              1914.0   ['en']        391   \n",
       "15515                NaN   ['en']         27   \n",
       "67797                NaN   ['en']         36   \n",
       "\n",
       "                                             subjects        type  \n",
       "1661        {\"Children's stories\", 'Fantasy fiction'}  StillImage  \n",
       "15515                       {'United States -- Maps'}  StillImage  \n",
       "67797  {'Washington (D.C.) -- Remote-sensing images'}  StillImage  "
      ]
     },
     "execution_count": 10,
     "metadata": {},
     "output_type": "execute_result"
    }
   ],
   "source": [
    "library.loc[(~library['id'].isin(books_list)) & (library['type'] == 'StillImage')]"
   ]
  },
  {
   "attachments": {},
   "cell_type": "markdown",
   "metadata": {},
   "source": [
    "And finally, Collection contains 'Project Gutenberg DVD: The July 2006 Special' and the only not downloaded text is just empty."
   ]
  },
  {
   "cell_type": "code",
   "execution_count": 11,
   "metadata": {},
   "outputs": [
    {
     "data": {
      "text/html": [
       "<div>\n",
       "<style scoped>\n",
       "    .dataframe tbody tr th:only-of-type {\n",
       "        vertical-align: middle;\n",
       "    }\n",
       "\n",
       "    .dataframe tbody tr th {\n",
       "        vertical-align: top;\n",
       "    }\n",
       "\n",
       "    .dataframe thead th {\n",
       "        text-align: right;\n",
       "    }\n",
       "</style>\n",
       "<table border=\"1\" class=\"dataframe\">\n",
       "  <thead>\n",
       "    <tr style=\"text-align: right;\">\n",
       "      <th></th>\n",
       "      <th>id</th>\n",
       "      <th>title</th>\n",
       "      <th>author</th>\n",
       "      <th>authoryearofbirth</th>\n",
       "      <th>authoryearofdeath</th>\n",
       "      <th>language</th>\n",
       "      <th>downloads</th>\n",
       "      <th>subjects</th>\n",
       "      <th>type</th>\n",
       "    </tr>\n",
       "  </thead>\n",
       "  <tbody>\n",
       "    <tr>\n",
       "      <th>10150</th>\n",
       "      <td>PG19159</td>\n",
       "      <td>Project Gutenberg DVD: The July 2006 Special</td>\n",
       "      <td>NaN</td>\n",
       "      <td>NaN</td>\n",
       "      <td>NaN</td>\n",
       "      <td>['en']</td>\n",
       "      <td>73</td>\n",
       "      <td>set()</td>\n",
       "      <td>Collection</td>\n",
       "    </tr>\n",
       "  </tbody>\n",
       "</table>\n",
       "</div>"
      ],
      "text/plain": [
       "            id                                         title author  \\\n",
       "10150  PG19159  Project Gutenberg DVD: The July 2006 Special    NaN   \n",
       "\n",
       "       authoryearofbirth  authoryearofdeath language  downloads subjects  \\\n",
       "10150                NaN                NaN   ['en']         73    set()   \n",
       "\n",
       "             type  \n",
       "10150  Collection  "
      ]
     },
     "execution_count": 11,
     "metadata": {},
     "output_type": "execute_result"
    }
   ],
   "source": [
    "library.loc[(~library['id'].isin(books_list)) & (library['type'] == 'Collection')]"
   ]
  },
  {
   "cell_type": "code",
   "execution_count": 12,
   "metadata": {},
   "outputs": [
    {
     "data": {
      "text/html": [
       "<div>\n",
       "<style scoped>\n",
       "    .dataframe tbody tr th:only-of-type {\n",
       "        vertical-align: middle;\n",
       "    }\n",
       "\n",
       "    .dataframe tbody tr th {\n",
       "        vertical-align: top;\n",
       "    }\n",
       "\n",
       "    .dataframe thead th {\n",
       "        text-align: right;\n",
       "    }\n",
       "</style>\n",
       "<table border=\"1\" class=\"dataframe\">\n",
       "  <thead>\n",
       "    <tr style=\"text-align: right;\">\n",
       "      <th></th>\n",
       "      <th>id</th>\n",
       "      <th>title</th>\n",
       "      <th>author</th>\n",
       "      <th>authoryearofbirth</th>\n",
       "      <th>authoryearofdeath</th>\n",
       "      <th>language</th>\n",
       "      <th>downloads</th>\n",
       "      <th>subjects</th>\n",
       "      <th>type</th>\n",
       "    </tr>\n",
       "  </thead>\n",
       "  <tbody>\n",
       "    <tr>\n",
       "      <th>69464</th>\n",
       "      <td>PG90907</td>\n",
       "      <td>NaN</td>\n",
       "      <td>NaN</td>\n",
       "      <td>NaN</td>\n",
       "      <td>NaN</td>\n",
       "      <td>['en']</td>\n",
       "      <td>1</td>\n",
       "      <td>set()</td>\n",
       "      <td>Text</td>\n",
       "    </tr>\n",
       "  </tbody>\n",
       "</table>\n",
       "</div>"
      ],
      "text/plain": [
       "            id title author  authoryearofbirth  authoryearofdeath language  \\\n",
       "69464  PG90907   NaN    NaN                NaN                NaN   ['en']   \n",
       "\n",
       "       downloads subjects  type  \n",
       "69464          1    set()  Text  "
      ]
     },
     "execution_count": 12,
     "metadata": {},
     "output_type": "execute_result"
    }
   ],
   "source": [
    "library.loc[(~library['id'].isin(books_list)) & (library['type'] == 'Text')]"
   ]
  },
  {
   "cell_type": "code",
   "execution_count": 13,
   "metadata": {},
   "outputs": [
    {
     "data": {
      "text/html": [
       "<div>\n",
       "<style scoped>\n",
       "    .dataframe tbody tr th:only-of-type {\n",
       "        vertical-align: middle;\n",
       "    }\n",
       "\n",
       "    .dataframe tbody tr th {\n",
       "        vertical-align: top;\n",
       "    }\n",
       "\n",
       "    .dataframe thead th {\n",
       "        text-align: right;\n",
       "    }\n",
       "</style>\n",
       "<table border=\"1\" class=\"dataframe\">\n",
       "  <thead>\n",
       "    <tr style=\"text-align: right;\">\n",
       "      <th></th>\n",
       "      <th>id</th>\n",
       "      <th>title</th>\n",
       "      <th>author</th>\n",
       "      <th>authoryearofbirth</th>\n",
       "      <th>authoryearofdeath</th>\n",
       "      <th>language</th>\n",
       "      <th>downloads</th>\n",
       "      <th>subjects</th>\n",
       "      <th>type</th>\n",
       "    </tr>\n",
       "  </thead>\n",
       "  <tbody>\n",
       "    <tr>\n",
       "      <th>22880</th>\n",
       "      <td>PG30637</td>\n",
       "      <td>Writings in the United Amateur, 1915-1922</td>\n",
       "      <td>Lovecraft, H. P. (Howard Phillips)</td>\n",
       "      <td>1890.0</td>\n",
       "      <td>1937.0</td>\n",
       "      <td>['en']</td>\n",
       "      <td>331</td>\n",
       "      <td>{'Periodicals', 'Literature -- History and cri...</td>\n",
       "      <td>NaN</td>\n",
       "    </tr>\n",
       "    <tr>\n",
       "      <th>23804</th>\n",
       "      <td>PG31469</td>\n",
       "      <td>The Shunned House</td>\n",
       "      <td>Lovecraft, H. P. (Howard Phillips)</td>\n",
       "      <td>1890.0</td>\n",
       "      <td>1937.0</td>\n",
       "      <td>['en']</td>\n",
       "      <td>406</td>\n",
       "      <td>{'Haunted houses -- Fiction', 'Horror tales, A...</td>\n",
       "      <td>NaN</td>\n",
       "    </tr>\n",
       "    <tr>\n",
       "      <th>44538</th>\n",
       "      <td>PG50133</td>\n",
       "      <td>The Dunwich Horror</td>\n",
       "      <td>Lovecraft, H. P. (Howard Phillips)</td>\n",
       "      <td>1890.0</td>\n",
       "      <td>1937.0</td>\n",
       "      <td>['en']</td>\n",
       "      <td>789</td>\n",
       "      <td>{'American fiction -- 20th century', 'Fantasy ...</td>\n",
       "      <td>NaN</td>\n",
       "    </tr>\n",
       "    <tr>\n",
       "      <th>64643</th>\n",
       "      <td>PG68236</td>\n",
       "      <td>The colour out of space</td>\n",
       "      <td>Lovecraft, H. P. (Howard Phillips)</td>\n",
       "      <td>1890.0</td>\n",
       "      <td>1937.0</td>\n",
       "      <td>['en']</td>\n",
       "      <td>572</td>\n",
       "      <td>{'Extraterrestrial beings -- Fiction', 'Horror...</td>\n",
       "      <td>NaN</td>\n",
       "    </tr>\n",
       "    <tr>\n",
       "      <th>64695</th>\n",
       "      <td>PG68283</td>\n",
       "      <td>The call of Cthulhu</td>\n",
       "      <td>Lovecraft, H. P. (Howard Phillips)</td>\n",
       "      <td>1890.0</td>\n",
       "      <td>1937.0</td>\n",
       "      <td>['en']</td>\n",
       "      <td>2045</td>\n",
       "      <td>{'Cthulhu (Fictitious character) -- Fiction', ...</td>\n",
       "      <td>NaN</td>\n",
       "    </tr>\n",
       "    <tr>\n",
       "      <th>64987</th>\n",
       "      <td>PG68547</td>\n",
       "      <td>He</td>\n",
       "      <td>Lovecraft, H. P. (Howard Phillips)</td>\n",
       "      <td>1890.0</td>\n",
       "      <td>1937.0</td>\n",
       "      <td>['en']</td>\n",
       "      <td>187</td>\n",
       "      <td>{'New York (N.Y.) -- Fiction', 'Horror tales',...</td>\n",
       "      <td>NaN</td>\n",
       "    </tr>\n",
       "    <tr>\n",
       "      <th>64994</th>\n",
       "      <td>PG68553</td>\n",
       "      <td>The festival</td>\n",
       "      <td>Lovecraft, H. P. (Howard Phillips)</td>\n",
       "      <td>1890.0</td>\n",
       "      <td>1937.0</td>\n",
       "      <td>['en']</td>\n",
       "      <td>247</td>\n",
       "      <td>{'Horror tales', 'New England -- Fiction', 'Sh...</td>\n",
       "      <td>NaN</td>\n",
       "    </tr>\n",
       "    <tr>\n",
       "      <th>67130</th>\n",
       "      <td>PG70478</td>\n",
       "      <td>The silver key</td>\n",
       "      <td>Lovecraft, H.P.</td>\n",
       "      <td>NaN</td>\n",
       "      <td>NaN</td>\n",
       "      <td>['en']</td>\n",
       "      <td>0</td>\n",
       "      <td>set()</td>\n",
       "      <td>NaN</td>\n",
       "    </tr>\n",
       "    <tr>\n",
       "      <th>67139</th>\n",
       "      <td>PG70486</td>\n",
       "      <td>The lurking fear</td>\n",
       "      <td>Lovecraft, H. P. (Howard Phillips)</td>\n",
       "      <td>1890.0</td>\n",
       "      <td>1937.0</td>\n",
       "      <td>['en']</td>\n",
       "      <td>1169</td>\n",
       "      <td>{'Horror tales', 'Catskill Mountains Region (N...</td>\n",
       "      <td>NaN</td>\n",
       "    </tr>\n",
       "  </tbody>\n",
       "</table>\n",
       "</div>"
      ],
      "text/plain": [
       "            id                                      title  \\\n",
       "22880  PG30637  Writings in the United Amateur, 1915-1922   \n",
       "23804  PG31469                          The Shunned House   \n",
       "44538  PG50133                         The Dunwich Horror   \n",
       "64643  PG68236                    The colour out of space   \n",
       "64695  PG68283                        The call of Cthulhu   \n",
       "64987  PG68547                                         He   \n",
       "64994  PG68553                               The festival   \n",
       "67130  PG70478                             The silver key   \n",
       "67139  PG70486                           The lurking fear   \n",
       "\n",
       "                                   author  authoryearofbirth  \\\n",
       "22880  Lovecraft, H. P. (Howard Phillips)             1890.0   \n",
       "23804  Lovecraft, H. P. (Howard Phillips)             1890.0   \n",
       "44538  Lovecraft, H. P. (Howard Phillips)             1890.0   \n",
       "64643  Lovecraft, H. P. (Howard Phillips)             1890.0   \n",
       "64695  Lovecraft, H. P. (Howard Phillips)             1890.0   \n",
       "64987  Lovecraft, H. P. (Howard Phillips)             1890.0   \n",
       "64994  Lovecraft, H. P. (Howard Phillips)             1890.0   \n",
       "67130                     Lovecraft, H.P.                NaN   \n",
       "67139  Lovecraft, H. P. (Howard Phillips)             1890.0   \n",
       "\n",
       "       authoryearofdeath language  downloads  \\\n",
       "22880             1937.0   ['en']        331   \n",
       "23804             1937.0   ['en']        406   \n",
       "44538             1937.0   ['en']        789   \n",
       "64643             1937.0   ['en']        572   \n",
       "64695             1937.0   ['en']       2045   \n",
       "64987             1937.0   ['en']        187   \n",
       "64994             1937.0   ['en']        247   \n",
       "67130                NaN   ['en']          0   \n",
       "67139             1937.0   ['en']       1169   \n",
       "\n",
       "                                                subjects type  \n",
       "22880  {'Periodicals', 'Literature -- History and cri...  NaN  \n",
       "23804  {'Haunted houses -- Fiction', 'Horror tales, A...  NaN  \n",
       "44538  {'American fiction -- 20th century', 'Fantasy ...  NaN  \n",
       "64643  {'Extraterrestrial beings -- Fiction', 'Horror...  NaN  \n",
       "64695  {'Cthulhu (Fictitious character) -- Fiction', ...  NaN  \n",
       "64987  {'New York (N.Y.) -- Fiction', 'Horror tales',...  NaN  \n",
       "64994  {'Horror tales', 'New England -- Fiction', 'Sh...  NaN  \n",
       "67130                                              set()  NaN  \n",
       "67139  {'Horror tales', 'Catskill Mountains Region (N...  NaN  "
      ]
     },
     "execution_count": 13,
     "metadata": {},
     "output_type": "execute_result"
    }
   ],
   "source": [
    "library.loc[library['author'].str.find('Lovecraft') > -1]"
   ]
  },
  {
   "attachments": {},
   "cell_type": "markdown",
   "metadata": {},
   "source": [
    "## Sorting out English books"
   ]
  },
  {
   "attachments": {},
   "cell_type": "markdown",
   "metadata": {},
   "source": [
    "Starting with 70449 \"books\" in the catalogue, first select all the texts in the library that are marked as being in english ('en').\n",
    "\n",
    "That reduces the library to 56954 books."
   ]
  },
  {
   "cell_type": "code",
   "execution_count": 14,
   "metadata": {},
   "outputs": [],
   "source": [
    "library_en = library.loc[library['language'].str.find('en') > -1]"
   ]
  },
  {
   "attachments": {},
   "cell_type": "markdown",
   "metadata": {},
   "source": [
    "Further, for right now I'm also going to drop all of the additional files that were not downloaded:\n",
    "- NaN 1991\n",
    "- Sound 1039\n",
    "- Dataset 83\n",
    "- Image 33\n",
    "- MovingImage 7\n",
    "- StillImage 3\n",
    "- Collection 1\n",
    "- Text 1\n",
    "\n",
    "That additionally reduces the library to 53796 books."
   ]
  },
  {
   "cell_type": "code",
   "execution_count": 15,
   "metadata": {},
   "outputs": [],
   "source": [
    "library_en = library_en.loc[library_en['id'].isin(books_list)]"
   ]
  },
  {
   "attachments": {},
   "cell_type": "markdown",
   "metadata": {},
   "source": [
    "Finally, deleting some files accompanying sound, dataset, etc.. that got downloaded. Only 20 total."
   ]
  },
  {
   "cell_type": "code",
   "execution_count": 16,
   "metadata": {},
   "outputs": [],
   "source": [
    "library_en = library_en[library_en['type'].isna()]"
   ]
  },
  {
   "attachments": {},
   "cell_type": "markdown",
   "metadata": {},
   "source": [
    "Final count of books to potentially use is 53776!"
   ]
  },
  {
   "attachments": {},
   "cell_type": "markdown",
   "metadata": {},
   "source": [
    "## Beginning Exploration of Authors"
   ]
  },
  {
   "attachments": {},
   "cell_type": "markdown",
   "metadata": {},
   "source": [
    "There are 6345 books with 10 or less downloads. Something to possibly consider removing."
   ]
  },
  {
   "cell_type": "code",
   "execution_count": 17,
   "metadata": {},
   "outputs": [
    {
     "data": {
      "text/html": [
       "<div>\n",
       "<style scoped>\n",
       "    .dataframe tbody tr th:only-of-type {\n",
       "        vertical-align: middle;\n",
       "    }\n",
       "\n",
       "    .dataframe tbody tr th {\n",
       "        vertical-align: top;\n",
       "    }\n",
       "\n",
       "    .dataframe thead th {\n",
       "        text-align: right;\n",
       "    }\n",
       "</style>\n",
       "<table border=\"1\" class=\"dataframe\">\n",
       "  <thead>\n",
       "    <tr style=\"text-align: right;\">\n",
       "      <th></th>\n",
       "      <th>id</th>\n",
       "      <th>title</th>\n",
       "      <th>author</th>\n",
       "      <th>authoryearofbirth</th>\n",
       "      <th>authoryearofdeath</th>\n",
       "      <th>language</th>\n",
       "      <th>downloads</th>\n",
       "      <th>subjects</th>\n",
       "      <th>type</th>\n",
       "    </tr>\n",
       "  </thead>\n",
       "  <tbody>\n",
       "    <tr>\n",
       "      <th>53</th>\n",
       "      <td>PG10049</td>\n",
       "      <td>Old Lady Mary: A Story of the Seen and the Unseen</td>\n",
       "      <td>Oliphant, Mrs. (Margaret)</td>\n",
       "      <td>1828.0</td>\n",
       "      <td>1897.0</td>\n",
       "      <td>['en']</td>\n",
       "      <td>10</td>\n",
       "      <td>{'Death -- Fiction', 'Inheritance and successi...</td>\n",
       "      <td>NaN</td>\n",
       "    </tr>\n",
       "    <tr>\n",
       "      <th>355</th>\n",
       "      <td>PG10320</td>\n",
       "      <td>Dotty Dimple at Play</td>\n",
       "      <td>May, Sophie</td>\n",
       "      <td>1833.0</td>\n",
       "      <td>1906.0</td>\n",
       "      <td>['en']</td>\n",
       "      <td>10</td>\n",
       "      <td>{'Children -- Conduct of life -- Juvenile fict...</td>\n",
       "      <td>NaN</td>\n",
       "    </tr>\n",
       "    <tr>\n",
       "      <th>364</th>\n",
       "      <td>PG10329</td>\n",
       "      <td>Snubby Nose and Tippy Toes</td>\n",
       "      <td>Smith, Laura Rountree</td>\n",
       "      <td>1876.0</td>\n",
       "      <td>1924.0</td>\n",
       "      <td>['en']</td>\n",
       "      <td>7</td>\n",
       "      <td>{'Rabbits -- Juvenile fiction', 'Animals -- Ju...</td>\n",
       "      <td>NaN</td>\n",
       "    </tr>\n",
       "    <tr>\n",
       "      <th>438</th>\n",
       "      <td>PG10396</td>\n",
       "      <td>Andy the Acrobat: Or, Out with the Greatest Sh...</td>\n",
       "      <td>Harkness, Peter T.</td>\n",
       "      <td>NaN</td>\n",
       "      <td>NaN</td>\n",
       "      <td>['en']</td>\n",
       "      <td>10</td>\n",
       "      <td>{'Circus -- Juvenile fiction'}</td>\n",
       "      <td>NaN</td>\n",
       "    </tr>\n",
       "    <tr>\n",
       "      <th>486</th>\n",
       "      <td>PG10439</td>\n",
       "      <td>From Yauco to Las Marias: A recent campaign in...</td>\n",
       "      <td>Herrman, Karl Stephen</td>\n",
       "      <td>NaN</td>\n",
       "      <td>NaN</td>\n",
       "      <td>['en']</td>\n",
       "      <td>10</td>\n",
       "      <td>{'Spanish-American War, 1898 -- Regimental his...</td>\n",
       "      <td>NaN</td>\n",
       "    </tr>\n",
       "    <tr>\n",
       "      <th>...</th>\n",
       "      <td>...</td>\n",
       "      <td>...</td>\n",
       "      <td>...</td>\n",
       "      <td>...</td>\n",
       "      <td>...</td>\n",
       "      <td>...</td>\n",
       "      <td>...</td>\n",
       "      <td>...</td>\n",
       "      <td>...</td>\n",
       "    </tr>\n",
       "    <tr>\n",
       "      <th>69600</th>\n",
       "      <td>PG9237</td>\n",
       "      <td>A Bell's Biography</td>\n",
       "      <td>Hawthorne, Nathaniel</td>\n",
       "      <td>1804.0</td>\n",
       "      <td>1864.0</td>\n",
       "      <td>['en']</td>\n",
       "      <td>8</td>\n",
       "      <td>{'Bells'}</td>\n",
       "      <td>NaN</td>\n",
       "    </tr>\n",
       "    <tr>\n",
       "      <th>69606</th>\n",
       "      <td>PG9242</td>\n",
       "      <td>Old Ticonderoga, a Picture of the Past: (From:...</td>\n",
       "      <td>Hawthorne, Nathaniel</td>\n",
       "      <td>1804.0</td>\n",
       "      <td>1864.0</td>\n",
       "      <td>['en']</td>\n",
       "      <td>7</td>\n",
       "      <td>{'New England -- Social life and customs -- Fi...</td>\n",
       "      <td>NaN</td>\n",
       "    </tr>\n",
       "    <tr>\n",
       "      <th>69608</th>\n",
       "      <td>PG9244</td>\n",
       "      <td>Little Daffydowndilly: (From: \"The Snow Image ...</td>\n",
       "      <td>Hawthorne, Nathaniel</td>\n",
       "      <td>1804.0</td>\n",
       "      <td>1864.0</td>\n",
       "      <td>['en']</td>\n",
       "      <td>10</td>\n",
       "      <td>{'New England -- Social life and customs -- Fi...</td>\n",
       "      <td>NaN</td>\n",
       "    </tr>\n",
       "    <tr>\n",
       "      <th>69706</th>\n",
       "      <td>PG9332</td>\n",
       "      <td>Georgie's Present, or, Tales of Newfoundland</td>\n",
       "      <td>Brightwell, C. L. (Cecilia Lucy)</td>\n",
       "      <td>1811.0</td>\n",
       "      <td>1875.0</td>\n",
       "      <td>['en']</td>\n",
       "      <td>9</td>\n",
       "      <td>{'Newfoundland and Labrador -- Fiction'}</td>\n",
       "      <td>NaN</td>\n",
       "    </tr>\n",
       "    <tr>\n",
       "      <th>69778</th>\n",
       "      <td>PG9398</td>\n",
       "      <td>Gloria and Treeless Street</td>\n",
       "      <td>Donnell, Annie Hamilton</td>\n",
       "      <td>1862.0</td>\n",
       "      <td>1943.0</td>\n",
       "      <td>['en']</td>\n",
       "      <td>10</td>\n",
       "      <td>{'Tenement houses -- Fiction', 'Poor -- Fictio...</td>\n",
       "      <td>NaN</td>\n",
       "    </tr>\n",
       "  </tbody>\n",
       "</table>\n",
       "<p>6345 rows × 9 columns</p>\n",
       "</div>"
      ],
      "text/plain": [
       "            id                                              title  \\\n",
       "53     PG10049  Old Lady Mary: A Story of the Seen and the Unseen   \n",
       "355    PG10320                               Dotty Dimple at Play   \n",
       "364    PG10329                         Snubby Nose and Tippy Toes   \n",
       "438    PG10396  Andy the Acrobat: Or, Out with the Greatest Sh...   \n",
       "486    PG10439  From Yauco to Las Marias: A recent campaign in...   \n",
       "...        ...                                                ...   \n",
       "69600   PG9237                                 A Bell's Biography   \n",
       "69606   PG9242  Old Ticonderoga, a Picture of the Past: (From:...   \n",
       "69608   PG9244  Little Daffydowndilly: (From: \"The Snow Image ...   \n",
       "69706   PG9332       Georgie's Present, or, Tales of Newfoundland   \n",
       "69778   PG9398                         Gloria and Treeless Street   \n",
       "\n",
       "                                 author  authoryearofbirth  authoryearofdeath  \\\n",
       "53            Oliphant, Mrs. (Margaret)             1828.0             1897.0   \n",
       "355                         May, Sophie             1833.0             1906.0   \n",
       "364               Smith, Laura Rountree             1876.0             1924.0   \n",
       "438                  Harkness, Peter T.                NaN                NaN   \n",
       "486               Herrman, Karl Stephen                NaN                NaN   \n",
       "...                                 ...                ...                ...   \n",
       "69600              Hawthorne, Nathaniel             1804.0             1864.0   \n",
       "69606              Hawthorne, Nathaniel             1804.0             1864.0   \n",
       "69608              Hawthorne, Nathaniel             1804.0             1864.0   \n",
       "69706  Brightwell, C. L. (Cecilia Lucy)             1811.0             1875.0   \n",
       "69778           Donnell, Annie Hamilton             1862.0             1943.0   \n",
       "\n",
       "      language  downloads                                           subjects  \\\n",
       "53      ['en']         10  {'Death -- Fiction', 'Inheritance and successi...   \n",
       "355     ['en']         10  {'Children -- Conduct of life -- Juvenile fict...   \n",
       "364     ['en']          7  {'Rabbits -- Juvenile fiction', 'Animals -- Ju...   \n",
       "438     ['en']         10                     {'Circus -- Juvenile fiction'}   \n",
       "486     ['en']         10  {'Spanish-American War, 1898 -- Regimental his...   \n",
       "...        ...        ...                                                ...   \n",
       "69600   ['en']          8                                          {'Bells'}   \n",
       "69606   ['en']          7  {'New England -- Social life and customs -- Fi...   \n",
       "69608   ['en']         10  {'New England -- Social life and customs -- Fi...   \n",
       "69706   ['en']          9           {'Newfoundland and Labrador -- Fiction'}   \n",
       "69778   ['en']         10  {'Tenement houses -- Fiction', 'Poor -- Fictio...   \n",
       "\n",
       "      type  \n",
       "53     NaN  \n",
       "355    NaN  \n",
       "364    NaN  \n",
       "438    NaN  \n",
       "486    NaN  \n",
       "...    ...  \n",
       "69600  NaN  \n",
       "69606  NaN  \n",
       "69608  NaN  \n",
       "69706  NaN  \n",
       "69778  NaN  \n",
       "\n",
       "[6345 rows x 9 columns]"
      ]
     },
     "execution_count": 17,
     "metadata": {},
     "output_type": "execute_result"
    }
   ],
   "source": [
    "library_en[library_en['downloads'] <= 10]"
   ]
  },
  {
   "attachments": {},
   "cell_type": "markdown",
   "metadata": {},
   "source": [
    "Grouping by author, I noticed that there's 117 titles by \"unknown\" author, 601 \"anonymous\" and 3422 \"various\". Upon further inspection of Various, they are majority \"periodicals\", meaning various magazines and so I decided it was safe to remove that.\n",
    "\n",
    "As for unknown and anonymous, those might be interesting to check once I have a model, but as is, since I'm looking for writing style, I do want to know who the author is. (lol at Happy and Gay Marching Away - children's poetry by Unknown author)."
   ]
  },
  {
   "cell_type": "code",
   "execution_count": 18,
   "metadata": {},
   "outputs": [
    {
     "data": {
      "text/html": [
       "<div>\n",
       "<style scoped>\n",
       "    .dataframe tbody tr th:only-of-type {\n",
       "        vertical-align: middle;\n",
       "    }\n",
       "\n",
       "    .dataframe tbody tr th {\n",
       "        vertical-align: top;\n",
       "    }\n",
       "\n",
       "    .dataframe thead th {\n",
       "        text-align: right;\n",
       "    }\n",
       "</style>\n",
       "<table border=\"1\" class=\"dataframe\">\n",
       "  <thead>\n",
       "    <tr style=\"text-align: right;\">\n",
       "      <th></th>\n",
       "      <th>title</th>\n",
       "    </tr>\n",
       "    <tr>\n",
       "      <th>author</th>\n",
       "      <th></th>\n",
       "    </tr>\n",
       "  </thead>\n",
       "  <tbody>\n",
       "    <tr>\n",
       "      <th>Various</th>\n",
       "      <td>3422</td>\n",
       "    </tr>\n",
       "    <tr>\n",
       "      <th>Anonymous</th>\n",
       "      <td>601</td>\n",
       "    </tr>\n",
       "    <tr>\n",
       "      <th>Shakespeare, William</th>\n",
       "      <td>178</td>\n",
       "    </tr>\n",
       "    <tr>\n",
       "      <th>Ebers, Georg</th>\n",
       "      <td>163</td>\n",
       "    </tr>\n",
       "    <tr>\n",
       "      <th>Parker, Gilbert</th>\n",
       "      <td>132</td>\n",
       "    </tr>\n",
       "    <tr>\n",
       "      <th>Oliphant, Mrs. (Margaret)</th>\n",
       "      <td>132</td>\n",
       "    </tr>\n",
       "    <tr>\n",
       "      <th>Kingston, William Henry Giles</th>\n",
       "      <td>132</td>\n",
       "    </tr>\n",
       "    <tr>\n",
       "      <th>Twain, Mark</th>\n",
       "      <td>128</td>\n",
       "    </tr>\n",
       "    <tr>\n",
       "      <th>Fenn, George Manville</th>\n",
       "      <td>128</td>\n",
       "    </tr>\n",
       "    <tr>\n",
       "      <th>Unknown</th>\n",
       "      <td>117</td>\n",
       "    </tr>\n",
       "    <tr>\n",
       "      <th>Balzac, Honoré de</th>\n",
       "      <td>116</td>\n",
       "    </tr>\n",
       "    <tr>\n",
       "      <th>Meredith, George</th>\n",
       "      <td>111</td>\n",
       "    </tr>\n",
       "    <tr>\n",
       "      <th>Jacobs, W. W. (William Wymark)</th>\n",
       "      <td>111</td>\n",
       "    </tr>\n",
       "    <tr>\n",
       "      <th>Alger, Horatio, Jr.</th>\n",
       "      <td>110</td>\n",
       "    </tr>\n",
       "    <tr>\n",
       "      <th>Howells, William Dean</th>\n",
       "      <td>106</td>\n",
       "    </tr>\n",
       "    <tr>\n",
       "      <th>Motley, John Lothrop</th>\n",
       "      <td>102</td>\n",
       "    </tr>\n",
       "    <tr>\n",
       "      <th>Henty, G. A. (George Alfred)</th>\n",
       "      <td>99</td>\n",
       "    </tr>\n",
       "    <tr>\n",
       "      <th>Ballantyne, R. M. (Robert Michael)</th>\n",
       "      <td>98</td>\n",
       "    </tr>\n",
       "    <tr>\n",
       "      <th>James, Henry</th>\n",
       "      <td>92</td>\n",
       "    </tr>\n",
       "    <tr>\n",
       "      <th>Pepys, Samuel</th>\n",
       "      <td>86</td>\n",
       "    </tr>\n",
       "  </tbody>\n",
       "</table>\n",
       "</div>"
      ],
      "text/plain": [
       "                                    title\n",
       "author                                   \n",
       "Various                              3422\n",
       "Anonymous                             601\n",
       "Shakespeare, William                  178\n",
       "Ebers, Georg                          163\n",
       "Parker, Gilbert                       132\n",
       "Oliphant, Mrs. (Margaret)             132\n",
       "Kingston, William Henry Giles         132\n",
       "Twain, Mark                           128\n",
       "Fenn, George Manville                 128\n",
       "Unknown                               117\n",
       "Balzac, Honoré de                     116\n",
       "Meredith, George                      111\n",
       "Jacobs, W. W. (William Wymark)        111\n",
       "Alger, Horatio, Jr.                   110\n",
       "Howells, William Dean                 106\n",
       "Motley, John Lothrop                  102\n",
       "Henty, G. A. (George Alfred)           99\n",
       "Ballantyne, R. M. (Robert Michael)     98\n",
       "James, Henry                           92\n",
       "Pepys, Samuel                          86"
      ]
     },
     "execution_count": 18,
     "metadata": {},
     "output_type": "execute_result"
    }
   ],
   "source": [
    "library_en.groupby('author')[['title']].count().sort_values(by='title', ascending=False).head(20)"
   ]
  },
  {
   "cell_type": "code",
   "execution_count": 19,
   "metadata": {},
   "outputs": [
    {
     "data": {
      "text/plain": [
       "{'English wit and humor -- Periodicals'}                                                                                            550\n",
       "{'Periodicals'}                                                                                                                     233\n",
       "{'Questions and answers -- Periodicals'}                                                                                            220\n",
       "{'Popular literature -- Great Britain -- Periodicals'}                                                                              195\n",
       "{\"Children's periodicals, American\"}                                                                                                162\n",
       "{'Congregational churches -- Missions -- Periodicals', 'Home missions -- Periodicals'}                                              145\n",
       "{'Encyclopedias and dictionaries'}                                                                                                  136\n",
       "{'American periodicals'}                                                                                                            117\n",
       "{\"Children's periodicals\"}                                                                                                          103\n",
       "{'England -- Periodicals', 'Scotland -- Periodicals'}                                                                                98\n",
       "{\"Children's literature -- Periodicals\"}                                                                                             88\n",
       "{'Literature, Modern -- 19th century -- Periodicals', 'Literature -- Periodicals'}                                                   84\n",
       "{'Science -- Periodicals'}                                                                                                           62\n",
       "{'Ireland -- Periodicals'}                                                                                                           52\n",
       "{'History, Modern -- 19th century -- Juvenile literature -- Periodicals'}                                                            49\n",
       "{\"Children's literature, American -- Periodicals\"}                                                                                   48\n",
       "{'Literature, Modern -- 19th century -- Periodicals', 'Science -- Periodicals'}                                                      48\n",
       "{'Natural history -- Periodicals', 'Birds -- Periodicals'}                                                                           47\n",
       "{'American wit and humor -- Periodicals'}                                                                                            42\n",
       "{'Literature, Modern -- 19th century -- Periodicals', 'United States -- Politics and government -- 19th century -- Periodicals'}     36\n",
       "Name: subjects, dtype: int64"
      ]
     },
     "execution_count": 19,
     "metadata": {},
     "output_type": "execute_result"
    }
   ],
   "source": [
    "library_en[library_en['author'] == 'Various']['subjects'].value_counts().head(20)"
   ]
  },
  {
   "attachments": {},
   "cell_type": "markdown",
   "metadata": {},
   "source": [
    "Below, keeping authors that are not Anonymous, Unknown or Various, which cuts down to 49636 books."
   ]
  },
  {
   "cell_type": "code",
   "execution_count": 20,
   "metadata": {},
   "outputs": [],
   "source": [
    "library_en = library_en[~library_en['author'].isin(['Anonymous', 'Unknown', 'Various'])]"
   ]
  },
  {
   "attachments": {},
   "cell_type": "markdown",
   "metadata": {},
   "source": [
    "For starters, I'll just look at top 6 authors (based on # of books)."
   ]
  },
  {
   "cell_type": "code",
   "execution_count": 21,
   "metadata": {},
   "outputs": [],
   "source": [
    "top_six_authors_list = library_en.groupby('author')['title'].count().sort_values(ascending=False).head(6).index.to_list()"
   ]
  },
  {
   "cell_type": "code",
   "execution_count": 22,
   "metadata": {},
   "outputs": [],
   "source": [
    "library_top_six = library_en[library_en['author'].isin(top_six_authors_list)]"
   ]
  },
  {
   "attachments": {},
   "cell_type": "markdown",
   "metadata": {},
   "source": [
    "## Reading and Tokenizing Books"
   ]
  },
  {
   "attachments": {},
   "cell_type": "markdown",
   "metadata": {},
   "source": [
    "Function that opens files and extracts the text (leaving the Gutenberg info at top and bottom out)."
   ]
  },
  {
   "cell_type": "code",
   "execution_count": 23,
   "metadata": {},
   "outputs": [],
   "source": [
    "def import_book(filepath):\n",
    "    \n",
    "    with open(filepath, encoding = 'utf-8') as fi:\n",
    "        book = fi.read()\n",
    "\n",
    "    if(not re.search('\\*\\*\\* START OF .+? \\*\\*\\*', book)):\n",
    "        book_start = 0\n",
    "    else:\n",
    "        book_start = re.search('\\*\\*\\* START OF .+? \\*\\*\\*', book).end()\n",
    "\n",
    "    if(not re.search('\\*\\*\\* END OF .+? \\*\\*\\*', book)):\n",
    "        book_end = -1\n",
    "    else:\n",
    "        book_end = re.search('\\*\\*\\* END OF .+? \\*\\*\\*', book).start()\n",
    "\n",
    "    book = book[book_start : book_end]\n",
    "\n",
    "    return book"
   ]
  },
  {
   "attachments": {},
   "cell_type": "markdown",
   "metadata": {},
   "source": [
    "Process the top 6 authors books;\n",
    "\n",
    "> NOTE: here I found out that some files have strange characters and won't be opened. I wil lhave to decide what to do with those."
   ]
  },
  {
   "cell_type": "code",
   "execution_count": 24,
   "metadata": {},
   "outputs": [
    {
     "name": "stderr",
     "output_type": "stream",
     "text": [
      "/var/folders/3t/x8rz35tn765cm0bkf_n4ydlh0000gn/T/ipykernel_55570/4033238918.py:8: SettingWithCopyWarning: \n",
      "A value is trying to be set on a copy of a slice from a DataFrame.\n",
      "Try using .loc[row_indexer,col_indexer] = value instead\n",
      "\n",
      "See the caveats in the documentation: https://pandas.pydata.org/pandas-docs/stable/user_guide/indexing.html#returning-a-view-versus-a-copy\n",
      "  library_top_six.loc[library_top_six['id'] == book_id, 'book_content'] = book\n"
     ]
    },
    {
     "name": "stdout",
     "output_type": "stream",
     "text": [
      "could not open ../data/raw/PG3184_raw.txt\n",
      "could not open ../data/raw/PG3185_raw.txt\n",
      "could not open ../data/raw/PG6191_raw.txt\n"
     ]
    }
   ],
   "source": [
    "for book_id in library_top_six['id']:\n",
    "    \n",
    "    filepath = f'../data/raw/{book_id}_raw.txt'\n",
    "\n",
    "    try:\n",
    "        book = import_book(filepath)\n",
    "\n",
    "        library_top_six.loc[library_top_six['id'] == book_id, 'book_content'] = book\n",
    "        \n",
    "    except:\n",
    "        print('could not open', filepath)\n",
    "\n",
    "        library_top_six.loc[library_top_six['id'] == book_id, 'book_content'] = 'could not open'\n",
    "\n",
    "    "
   ]
  },
  {
   "cell_type": "code",
   "execution_count": 25,
   "metadata": {},
   "outputs": [],
   "source": [
    "# there are some books who had weird characters and were not able to open\n",
    "library_unopened_books = library_top_six.loc[library_top_six['book_content'] == 'could not open']\n",
    "\n",
    "library_top_six = library_top_six.loc[library_top_six['book_content'] != 'could not open']"
   ]
  },
  {
   "cell_type": "code",
   "execution_count": 26,
   "metadata": {},
   "outputs": [],
   "source": [
    "# to see more in a column of df\n",
    "# pd.set_option('display.max_colwidth', 50)"
   ]
  },
  {
   "cell_type": "code",
   "execution_count": 28,
   "metadata": {},
   "outputs": [
    {
     "data": {
      "text/plain": [
       "{'Shakespeare, William': 0,\n",
       " 'Ebers, Georg': 1,\n",
       " 'Parker, Gilbert': 2,\n",
       " 'Kingston, William Henry Giles': 3,\n",
       " 'Oliphant, Mrs. (Margaret)': 4,\n",
       " 'Twain, Mark': 5}"
      ]
     },
     "execution_count": 28,
     "metadata": {},
     "output_type": "execute_result"
    }
   ],
   "source": [
    "top_six_authors_dict = {top_six_authors_list[i]: i for i in range(6)}\n",
    "\n",
    "top_six_authors_dict\n",
    "\n",
    "library_top_six = library_top_six.replace({'author': top_six_authors_dict})"
   ]
  },
  {
   "cell_type": "code",
   "execution_count": 29,
   "metadata": {},
   "outputs": [],
   "source": [
    "X = library_top_six[['book_content']]\n",
    "y = library_top_six['author']\n",
    "\n",
    "X_train, X_test, y_train, y_test = train_test_split(X, y, random_state = 321, stratify = y)"
   ]
  },
  {
   "cell_type": "code",
   "execution_count": 49,
   "metadata": {},
   "outputs": [],
   "source": [
    "pipe_vect_logreg = Pipeline(\n",
    "    steps = [\n",
    "        #('vect', CountVectorizer(min_df=2, max_df=0.8)),\n",
    "        ('vect', TfidfVectorizer(min_df=2, max_df=0.8, ngram_range=(1,2))),\n",
    "        ('logreg', LogisticRegression(max_iter = 10000))\n",
    "    ]\n",
    ")"
   ]
  },
  {
   "cell_type": "code",
   "execution_count": 50,
   "metadata": {},
   "outputs": [
    {
     "name": "stdout",
     "output_type": "stream",
     "text": [
      "0.9722222222222222\n",
      "[[45  0  0  0  0  0]\n",
      " [ 0 41  0  0  0  0]\n",
      " [ 1  0 31  0  1  0]\n",
      " [ 0  0  0 33  0  0]\n",
      " [ 0  0  0  0 32  1]\n",
      " [ 3  0  0  0  0 28]]\n",
      "              precision    recall  f1-score   support\n",
      "\n",
      "           0       0.92      1.00      0.96        45\n",
      "           1       1.00      1.00      1.00        41\n",
      "           2       1.00      0.94      0.97        33\n",
      "           3       1.00      1.00      1.00        33\n",
      "           4       0.97      0.97      0.97        33\n",
      "           5       0.97      0.90      0.93        31\n",
      "\n",
      "    accuracy                           0.97       216\n",
      "   macro avg       0.98      0.97      0.97       216\n",
      "weighted avg       0.97      0.97      0.97       216\n",
      "\n"
     ]
    }
   ],
   "source": [
    "pipe_vect_logreg.fit(X_train['book_content'], y_train)\n",
    "y_pred = pipe_vect_logreg.predict(X_test['book_content'])\n",
    "\n",
    "print(accuracy_score(y_test, y_pred))\n",
    "\n",
    "print(confusion_matrix(y_test, y_pred))\n",
    "\n",
    "print(classification_report(y_test, y_pred))"
   ]
  },
  {
   "cell_type": "code",
   "execution_count": 53,
   "metadata": {},
   "outputs": [
    {
     "data": {
      "application/vnd.plotly.v1+json": {
       "config": {
        "plotlyServerURL": "https://plot.ly"
       },
       "data": [
        {
         "coloraxis": "coloraxis",
         "hovertemplate": "Predicted Label: %{x}<br>True Label: %{y}<br>color: %{z}<extra></extra>",
         "name": "0",
         "texttemplate": "%{z}",
         "type": "heatmap",
         "x": [
          "Shakespeare, William",
          "Ebers, Georg",
          "Parker, Gilbert",
          "Kingston, William Henry Giles",
          "Oliphant, Mrs. (Margaret)",
          "Twain, Mark"
         ],
         "xaxis": "x",
         "y": [
          "Shakespeare, William",
          "Ebers, Georg",
          "Parker, Gilbert",
          "Kingston, William Henry Giles",
          "Oliphant, Mrs. (Margaret)",
          "Twain, Mark"
         ],
         "yaxis": "y",
         "z": [
          [
           45,
           0,
           0,
           0,
           0,
           0
          ],
          [
           0,
           41,
           0,
           0,
           0,
           0
          ],
          [
           1,
           0,
           31,
           0,
           1,
           0
          ],
          [
           0,
           0,
           0,
           33,
           0,
           0
          ],
          [
           0,
           0,
           0,
           0,
           32,
           1
          ],
          [
           3,
           0,
           0,
           0,
           0,
           28
          ]
         ]
        }
       ],
       "layout": {
        "coloraxis": {
         "colorscale": [
          [
           0,
           "rgb(209, 238, 234)"
          ],
          [
           0.16666666666666666,
           "rgb(168, 219, 217)"
          ],
          [
           0.3333333333333333,
           "rgb(133, 196, 201)"
          ],
          [
           0.5,
           "rgb(104, 171, 184)"
          ],
          [
           0.6666666666666666,
           "rgb(79, 144, 166)"
          ],
          [
           0.8333333333333334,
           "rgb(59, 115, 143)"
          ],
          [
           1,
           "rgb(42, 86, 116)"
          ]
         ],
         "showscale": false
        },
        "height": 800,
        "margin": {
         "t": 60
        },
        "template": {
         "data": {
          "bar": [
           {
            "error_x": {
             "color": "#2a3f5f"
            },
            "error_y": {
             "color": "#2a3f5f"
            },
            "marker": {
             "line": {
              "color": "#E5ECF6",
              "width": 0.5
             },
             "pattern": {
              "fillmode": "overlay",
              "size": 10,
              "solidity": 0.2
             }
            },
            "type": "bar"
           }
          ],
          "barpolar": [
           {
            "marker": {
             "line": {
              "color": "#E5ECF6",
              "width": 0.5
             },
             "pattern": {
              "fillmode": "overlay",
              "size": 10,
              "solidity": 0.2
             }
            },
            "type": "barpolar"
           }
          ],
          "carpet": [
           {
            "aaxis": {
             "endlinecolor": "#2a3f5f",
             "gridcolor": "white",
             "linecolor": "white",
             "minorgridcolor": "white",
             "startlinecolor": "#2a3f5f"
            },
            "baxis": {
             "endlinecolor": "#2a3f5f",
             "gridcolor": "white",
             "linecolor": "white",
             "minorgridcolor": "white",
             "startlinecolor": "#2a3f5f"
            },
            "type": "carpet"
           }
          ],
          "choropleth": [
           {
            "colorbar": {
             "outlinewidth": 0,
             "ticks": ""
            },
            "type": "choropleth"
           }
          ],
          "contour": [
           {
            "colorbar": {
             "outlinewidth": 0,
             "ticks": ""
            },
            "colorscale": [
             [
              0,
              "#0d0887"
             ],
             [
              0.1111111111111111,
              "#46039f"
             ],
             [
              0.2222222222222222,
              "#7201a8"
             ],
             [
              0.3333333333333333,
              "#9c179e"
             ],
             [
              0.4444444444444444,
              "#bd3786"
             ],
             [
              0.5555555555555556,
              "#d8576b"
             ],
             [
              0.6666666666666666,
              "#ed7953"
             ],
             [
              0.7777777777777778,
              "#fb9f3a"
             ],
             [
              0.8888888888888888,
              "#fdca26"
             ],
             [
              1,
              "#f0f921"
             ]
            ],
            "type": "contour"
           }
          ],
          "contourcarpet": [
           {
            "colorbar": {
             "outlinewidth": 0,
             "ticks": ""
            },
            "type": "contourcarpet"
           }
          ],
          "heatmap": [
           {
            "colorbar": {
             "outlinewidth": 0,
             "ticks": ""
            },
            "colorscale": [
             [
              0,
              "#0d0887"
             ],
             [
              0.1111111111111111,
              "#46039f"
             ],
             [
              0.2222222222222222,
              "#7201a8"
             ],
             [
              0.3333333333333333,
              "#9c179e"
             ],
             [
              0.4444444444444444,
              "#bd3786"
             ],
             [
              0.5555555555555556,
              "#d8576b"
             ],
             [
              0.6666666666666666,
              "#ed7953"
             ],
             [
              0.7777777777777778,
              "#fb9f3a"
             ],
             [
              0.8888888888888888,
              "#fdca26"
             ],
             [
              1,
              "#f0f921"
             ]
            ],
            "type": "heatmap"
           }
          ],
          "heatmapgl": [
           {
            "colorbar": {
             "outlinewidth": 0,
             "ticks": ""
            },
            "colorscale": [
             [
              0,
              "#0d0887"
             ],
             [
              0.1111111111111111,
              "#46039f"
             ],
             [
              0.2222222222222222,
              "#7201a8"
             ],
             [
              0.3333333333333333,
              "#9c179e"
             ],
             [
              0.4444444444444444,
              "#bd3786"
             ],
             [
              0.5555555555555556,
              "#d8576b"
             ],
             [
              0.6666666666666666,
              "#ed7953"
             ],
             [
              0.7777777777777778,
              "#fb9f3a"
             ],
             [
              0.8888888888888888,
              "#fdca26"
             ],
             [
              1,
              "#f0f921"
             ]
            ],
            "type": "heatmapgl"
           }
          ],
          "histogram": [
           {
            "marker": {
             "pattern": {
              "fillmode": "overlay",
              "size": 10,
              "solidity": 0.2
             }
            },
            "type": "histogram"
           }
          ],
          "histogram2d": [
           {
            "colorbar": {
             "outlinewidth": 0,
             "ticks": ""
            },
            "colorscale": [
             [
              0,
              "#0d0887"
             ],
             [
              0.1111111111111111,
              "#46039f"
             ],
             [
              0.2222222222222222,
              "#7201a8"
             ],
             [
              0.3333333333333333,
              "#9c179e"
             ],
             [
              0.4444444444444444,
              "#bd3786"
             ],
             [
              0.5555555555555556,
              "#d8576b"
             ],
             [
              0.6666666666666666,
              "#ed7953"
             ],
             [
              0.7777777777777778,
              "#fb9f3a"
             ],
             [
              0.8888888888888888,
              "#fdca26"
             ],
             [
              1,
              "#f0f921"
             ]
            ],
            "type": "histogram2d"
           }
          ],
          "histogram2dcontour": [
           {
            "colorbar": {
             "outlinewidth": 0,
             "ticks": ""
            },
            "colorscale": [
             [
              0,
              "#0d0887"
             ],
             [
              0.1111111111111111,
              "#46039f"
             ],
             [
              0.2222222222222222,
              "#7201a8"
             ],
             [
              0.3333333333333333,
              "#9c179e"
             ],
             [
              0.4444444444444444,
              "#bd3786"
             ],
             [
              0.5555555555555556,
              "#d8576b"
             ],
             [
              0.6666666666666666,
              "#ed7953"
             ],
             [
              0.7777777777777778,
              "#fb9f3a"
             ],
             [
              0.8888888888888888,
              "#fdca26"
             ],
             [
              1,
              "#f0f921"
             ]
            ],
            "type": "histogram2dcontour"
           }
          ],
          "mesh3d": [
           {
            "colorbar": {
             "outlinewidth": 0,
             "ticks": ""
            },
            "type": "mesh3d"
           }
          ],
          "parcoords": [
           {
            "line": {
             "colorbar": {
              "outlinewidth": 0,
              "ticks": ""
             }
            },
            "type": "parcoords"
           }
          ],
          "pie": [
           {
            "automargin": true,
            "type": "pie"
           }
          ],
          "scatter": [
           {
            "fillpattern": {
             "fillmode": "overlay",
             "size": 10,
             "solidity": 0.2
            },
            "type": "scatter"
           }
          ],
          "scatter3d": [
           {
            "line": {
             "colorbar": {
              "outlinewidth": 0,
              "ticks": ""
             }
            },
            "marker": {
             "colorbar": {
              "outlinewidth": 0,
              "ticks": ""
             }
            },
            "type": "scatter3d"
           }
          ],
          "scattercarpet": [
           {
            "marker": {
             "colorbar": {
              "outlinewidth": 0,
              "ticks": ""
             }
            },
            "type": "scattercarpet"
           }
          ],
          "scattergeo": [
           {
            "marker": {
             "colorbar": {
              "outlinewidth": 0,
              "ticks": ""
             }
            },
            "type": "scattergeo"
           }
          ],
          "scattergl": [
           {
            "marker": {
             "colorbar": {
              "outlinewidth": 0,
              "ticks": ""
             }
            },
            "type": "scattergl"
           }
          ],
          "scattermapbox": [
           {
            "marker": {
             "colorbar": {
              "outlinewidth": 0,
              "ticks": ""
             }
            },
            "type": "scattermapbox"
           }
          ],
          "scatterpolar": [
           {
            "marker": {
             "colorbar": {
              "outlinewidth": 0,
              "ticks": ""
             }
            },
            "type": "scatterpolar"
           }
          ],
          "scatterpolargl": [
           {
            "marker": {
             "colorbar": {
              "outlinewidth": 0,
              "ticks": ""
             }
            },
            "type": "scatterpolargl"
           }
          ],
          "scatterternary": [
           {
            "marker": {
             "colorbar": {
              "outlinewidth": 0,
              "ticks": ""
             }
            },
            "type": "scatterternary"
           }
          ],
          "surface": [
           {
            "colorbar": {
             "outlinewidth": 0,
             "ticks": ""
            },
            "colorscale": [
             [
              0,
              "#0d0887"
             ],
             [
              0.1111111111111111,
              "#46039f"
             ],
             [
              0.2222222222222222,
              "#7201a8"
             ],
             [
              0.3333333333333333,
              "#9c179e"
             ],
             [
              0.4444444444444444,
              "#bd3786"
             ],
             [
              0.5555555555555556,
              "#d8576b"
             ],
             [
              0.6666666666666666,
              "#ed7953"
             ],
             [
              0.7777777777777778,
              "#fb9f3a"
             ],
             [
              0.8888888888888888,
              "#fdca26"
             ],
             [
              1,
              "#f0f921"
             ]
            ],
            "type": "surface"
           }
          ],
          "table": [
           {
            "cells": {
             "fill": {
              "color": "#EBF0F8"
             },
             "line": {
              "color": "white"
             }
            },
            "header": {
             "fill": {
              "color": "#C8D4E3"
             },
             "line": {
              "color": "white"
             }
            },
            "type": "table"
           }
          ]
         },
         "layout": {
          "annotationdefaults": {
           "arrowcolor": "#2a3f5f",
           "arrowhead": 0,
           "arrowwidth": 1
          },
          "autotypenumbers": "strict",
          "coloraxis": {
           "colorbar": {
            "outlinewidth": 0,
            "ticks": ""
           }
          },
          "colorscale": {
           "diverging": [
            [
             0,
             "#8e0152"
            ],
            [
             0.1,
             "#c51b7d"
            ],
            [
             0.2,
             "#de77ae"
            ],
            [
             0.3,
             "#f1b6da"
            ],
            [
             0.4,
             "#fde0ef"
            ],
            [
             0.5,
             "#f7f7f7"
            ],
            [
             0.6,
             "#e6f5d0"
            ],
            [
             0.7,
             "#b8e186"
            ],
            [
             0.8,
             "#7fbc41"
            ],
            [
             0.9,
             "#4d9221"
            ],
            [
             1,
             "#276419"
            ]
           ],
           "sequential": [
            [
             0,
             "#0d0887"
            ],
            [
             0.1111111111111111,
             "#46039f"
            ],
            [
             0.2222222222222222,
             "#7201a8"
            ],
            [
             0.3333333333333333,
             "#9c179e"
            ],
            [
             0.4444444444444444,
             "#bd3786"
            ],
            [
             0.5555555555555556,
             "#d8576b"
            ],
            [
             0.6666666666666666,
             "#ed7953"
            ],
            [
             0.7777777777777778,
             "#fb9f3a"
            ],
            [
             0.8888888888888888,
             "#fdca26"
            ],
            [
             1,
             "#f0f921"
            ]
           ],
           "sequentialminus": [
            [
             0,
             "#0d0887"
            ],
            [
             0.1111111111111111,
             "#46039f"
            ],
            [
             0.2222222222222222,
             "#7201a8"
            ],
            [
             0.3333333333333333,
             "#9c179e"
            ],
            [
             0.4444444444444444,
             "#bd3786"
            ],
            [
             0.5555555555555556,
             "#d8576b"
            ],
            [
             0.6666666666666666,
             "#ed7953"
            ],
            [
             0.7777777777777778,
             "#fb9f3a"
            ],
            [
             0.8888888888888888,
             "#fdca26"
            ],
            [
             1,
             "#f0f921"
            ]
           ]
          },
          "colorway": [
           "#636efa",
           "#EF553B",
           "#00cc96",
           "#ab63fa",
           "#FFA15A",
           "#19d3f3",
           "#FF6692",
           "#B6E880",
           "#FF97FF",
           "#FECB52"
          ],
          "font": {
           "color": "#2a3f5f"
          },
          "geo": {
           "bgcolor": "white",
           "lakecolor": "white",
           "landcolor": "#E5ECF6",
           "showlakes": true,
           "showland": true,
           "subunitcolor": "white"
          },
          "hoverlabel": {
           "align": "left"
          },
          "hovermode": "closest",
          "mapbox": {
           "style": "light"
          },
          "paper_bgcolor": "white",
          "plot_bgcolor": "#E5ECF6",
          "polar": {
           "angularaxis": {
            "gridcolor": "white",
            "linecolor": "white",
            "ticks": ""
           },
           "bgcolor": "#E5ECF6",
           "radialaxis": {
            "gridcolor": "white",
            "linecolor": "white",
            "ticks": ""
           }
          },
          "scene": {
           "xaxis": {
            "backgroundcolor": "#E5ECF6",
            "gridcolor": "white",
            "gridwidth": 2,
            "linecolor": "white",
            "showbackground": true,
            "ticks": "",
            "zerolinecolor": "white"
           },
           "yaxis": {
            "backgroundcolor": "#E5ECF6",
            "gridcolor": "white",
            "gridwidth": 2,
            "linecolor": "white",
            "showbackground": true,
            "ticks": "",
            "zerolinecolor": "white"
           },
           "zaxis": {
            "backgroundcolor": "#E5ECF6",
            "gridcolor": "white",
            "gridwidth": 2,
            "linecolor": "white",
            "showbackground": true,
            "ticks": "",
            "zerolinecolor": "white"
           }
          },
          "shapedefaults": {
           "line": {
            "color": "#2a3f5f"
           }
          },
          "ternary": {
           "aaxis": {
            "gridcolor": "white",
            "linecolor": "white",
            "ticks": ""
           },
           "baxis": {
            "gridcolor": "white",
            "linecolor": "white",
            "ticks": ""
           },
           "bgcolor": "#E5ECF6",
           "caxis": {
            "gridcolor": "white",
            "linecolor": "white",
            "ticks": ""
           }
          },
          "title": {
           "x": 0.05
          },
          "xaxis": {
           "automargin": true,
           "gridcolor": "white",
           "linecolor": "white",
           "ticks": "",
           "title": {
            "standoff": 15
           },
           "zerolinecolor": "white",
           "zerolinewidth": 2
          },
          "yaxis": {
           "automargin": true,
           "gridcolor": "white",
           "linecolor": "white",
           "ticks": "",
           "title": {
            "standoff": 15
           },
           "zerolinecolor": "white",
           "zerolinewidth": 2
          }
         }
        },
        "width": 1000,
        "xaxis": {
         "anchor": "y",
         "constrain": "domain",
         "domain": [
          0,
          1
         ],
         "scaleanchor": "y",
         "title": {
          "text": "Predicted Label"
         }
        },
        "yaxis": {
         "anchor": "x",
         "autorange": "reversed",
         "constrain": "domain",
         "domain": [
          0,
          1
         ],
         "title": {
          "text": "True Label"
         }
        }
       }
      }
     },
     "metadata": {},
     "output_type": "display_data"
    }
   ],
   "source": [
    "fig = px.imshow(confusion_matrix(y_test, y_pred),\n",
    "                width=1000,\n",
    "                height=800,\n",
    "                text_auto=True,\n",
    "                labels=dict(x=\"Predicted Label\",\n",
    "                            y=\"True Label\"),\n",
    "                            x=tuple(top_six_authors_dict.keys()),\n",
    "                            y=tuple(top_six_authors_dict.keys()),\n",
    "                            color_continuous_scale='Teal'\n",
    "                            )\n",
    "\n",
    "fig.update(layout_coloraxis_showscale=False)\n",
    "\n",
    "fig.show()"
   ]
  },
  {
   "cell_type": "code",
   "execution_count": null,
   "metadata": {},
   "outputs": [],
   "source": []
  }
 ],
 "metadata": {
  "kernelspec": {
   "display_name": "base",
   "language": "python",
   "name": "python3"
  },
  "language_info": {
   "codemirror_mode": {
    "name": "ipython",
    "version": 3
   },
   "file_extension": ".py",
   "mimetype": "text/x-python",
   "name": "python",
   "nbconvert_exporter": "python",
   "pygments_lexer": "ipython3",
   "version": "3.9.12"
  },
  "orig_nbformat": 4
 },
 "nbformat": 4,
 "nbformat_minor": 2
}
