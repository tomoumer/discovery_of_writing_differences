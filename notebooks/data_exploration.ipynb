{
 "cells": [
  {
   "attachments": {},
   "cell_type": "markdown",
   "metadata": {},
   "source": [
    "# Discovery of Writing Differences\n",
    "\n",
    "Capstone project by Tomo Umer"
   ]
  },
  {
   "attachments": {},
   "cell_type": "markdown",
   "metadata": {},
   "source": [
    "<img src=\"https://tomoumerdotcom.files.wordpress.com/2022/04/cropped-pho_logo_notext.png\" alt=\"PRAISE DOG\" style=\"width:400px;height:400px;\"/>\n",
    "\n"
   ]
  },
  {
   "attachments": {},
   "cell_type": "markdown",
   "metadata": {},
   "source": [
    "## Imports"
   ]
  },
  {
   "cell_type": "code",
   "execution_count": 1,
   "metadata": {},
   "outputs": [],
   "source": [
    "import pandas as pd\n",
    "import numpy as np\n",
    "import re\n",
    "import glob\n",
    "\n",
    "from sklearn.model_selection import train_test_split\n",
    "from sklearn.metrics import accuracy_score, confusion_matrix, classification_report, ConfusionMatrixDisplay\n",
    "from sklearn.feature_extraction.text import CountVectorizer, TfidfVectorizer\n",
    "from sklearn.linear_model import LogisticRegression\n",
    "from sklearn.pipeline import Pipeline\n",
    "from sklearn.neural_network import MLPClassifier, MLPRegressor\n",
    "from sklearn.preprocessing import MaxAbsScaler\n",
    "from copy import deepcopy\n",
    "\n",
    "import plotly.express as px\n",
    "import matplotlib.pyplot as plt\n",
    "import seaborn as sns\n",
    "\n",
    "import umap\n",
    "from scipy import spatial\n",
    "from scipy.cluster.hierarchy import linkage, dendrogram"
   ]
  },
  {
   "attachments": {},
   "cell_type": "markdown",
   "metadata": {},
   "source": [
    "## Exploring Available Books\n",
    "\n",
    "An initial exploration of available books. "
   ]
  },
  {
   "attachments": {},
   "cell_type": "markdown",
   "metadata": {},
   "source": [
    "To start with, figure out which books were not downloaded and yet they are present in the metadata csv!"
   ]
  },
  {
   "cell_type": "code",
   "execution_count": 2,
   "metadata": {},
   "outputs": [
    {
     "data": {
      "text/plain": [
       "3435"
      ]
     },
     "execution_count": 2,
     "metadata": {},
     "output_type": "execute_result"
    }
   ],
   "source": [
    "# list of books downloaded successfully into the /raw/ folder\n",
    "books_list = []\n",
    "\n",
    "for name in glob.glob('../data/raw/*'):\n",
    "    books_list.append(re.findall(r'PG\\d*', name)[0])\n",
    "\n",
    "# the metadata (books that should be there)\n",
    "library = pd.read_csv('../data/metadata.csv')\n",
    "\n",
    "# the difference\n",
    "len(library) - len(books_list)"
   ]
  },
  {
   "attachments": {},
   "cell_type": "markdown",
   "metadata": {},
   "source": [
    "There are 3435 \"books\" listed in the metadata that did not get downloaded."
   ]
  },
  {
   "cell_type": "code",
   "execution_count": 3,
   "metadata": {},
   "outputs": [
    {
     "data": {
      "text/plain": [
       "NaN            2215\n",
       "Sound          1104\n",
       "Dataset          83\n",
       "Image            33\n",
       "MovingImage       7\n",
       "StillImage        3\n",
       "Collection        1\n",
       "Text              1\n",
       "Name: type, dtype: int64"
      ]
     },
     "execution_count": 3,
     "metadata": {},
     "output_type": "execute_result"
    }
   ],
   "source": [
    "library.loc[~library['id'].isin(books_list)]['type'].value_counts(dropna=False)"
   ]
  },
  {
   "attachments": {},
   "cell_type": "markdown",
   "metadata": {},
   "source": [
    "Starting with those that are marked as 'type' being NaN. From my exploration further on, those are actually books. I might have to come back to it at a later date and figure out why those books were not downloaded."
   ]
  },
  {
   "cell_type": "code",
   "execution_count": 4,
   "metadata": {},
   "outputs": [
    {
     "data": {
      "text/html": [
       "<div>\n",
       "<style scoped>\n",
       "    .dataframe tbody tr th:only-of-type {\n",
       "        vertical-align: middle;\n",
       "    }\n",
       "\n",
       "    .dataframe tbody tr th {\n",
       "        vertical-align: top;\n",
       "    }\n",
       "\n",
       "    .dataframe thead th {\n",
       "        text-align: right;\n",
       "    }\n",
       "</style>\n",
       "<table border=\"1\" class=\"dataframe\">\n",
       "  <thead>\n",
       "    <tr style=\"text-align: right;\">\n",
       "      <th></th>\n",
       "      <th>id</th>\n",
       "      <th>title</th>\n",
       "      <th>author</th>\n",
       "      <th>authoryearofbirth</th>\n",
       "      <th>authoryearofdeath</th>\n",
       "      <th>language</th>\n",
       "      <th>downloads</th>\n",
       "      <th>subjects</th>\n",
       "      <th>type</th>\n",
       "    </tr>\n",
       "  </thead>\n",
       "  <tbody>\n",
       "    <tr>\n",
       "      <th>606</th>\n",
       "      <td>PG10547</td>\n",
       "      <td>Topsy-Turvy</td>\n",
       "      <td>Verne, Jules</td>\n",
       "      <td>1828.0</td>\n",
       "      <td>1905.0</td>\n",
       "      <td>['en']</td>\n",
       "      <td>126</td>\n",
       "      <td>{'Science fiction, French -- Translations into...</td>\n",
       "      <td>NaN</td>\n",
       "    </tr>\n",
       "    <tr>\n",
       "      <th>703</th>\n",
       "      <td>PG10634</td>\n",
       "      <td>The Queen of Hearts, and Sing a Song for Sixpence</td>\n",
       "      <td>Caldecott, Randolph</td>\n",
       "      <td>1846.0</td>\n",
       "      <td>1886.0</td>\n",
       "      <td>['en']</td>\n",
       "      <td>44</td>\n",
       "      <td>{'Picture books for children', 'Nursery rhymes...</td>\n",
       "      <td>NaN</td>\n",
       "    </tr>\n",
       "    <tr>\n",
       "      <th>841</th>\n",
       "      <td>PG10762</td>\n",
       "      <td>Impressions of Theophrastus Such</td>\n",
       "      <td>Eliot, George</td>\n",
       "      <td>1819.0</td>\n",
       "      <td>1880.0</td>\n",
       "      <td>['en']</td>\n",
       "      <td>110</td>\n",
       "      <td>{'Authors -- Fiction', 'England -- Fiction', '...</td>\n",
       "      <td>NaN</td>\n",
       "    </tr>\n",
       "    <tr>\n",
       "      <th>923</th>\n",
       "      <td>PG10836</td>\n",
       "      <td>The Algebra of Logic</td>\n",
       "      <td>Couturat, Louis</td>\n",
       "      <td>1868.0</td>\n",
       "      <td>1914.0</td>\n",
       "      <td>['en']</td>\n",
       "      <td>97</td>\n",
       "      <td>{'Logic, Symbolic and mathematical', 'Algebrai...</td>\n",
       "      <td>NaN</td>\n",
       "    </tr>\n",
       "    <tr>\n",
       "      <th>1106</th>\n",
       "      <td>PG10</td>\n",
       "      <td>The King James Version of the Bible</td>\n",
       "      <td>NaN</td>\n",
       "      <td>NaN</td>\n",
       "      <td>NaN</td>\n",
       "      <td>['en']</td>\n",
       "      <td>5831</td>\n",
       "      <td>{'Bible'}</td>\n",
       "      <td>NaN</td>\n",
       "    </tr>\n",
       "  </tbody>\n",
       "</table>\n",
       "</div>"
      ],
      "text/plain": [
       "           id                                              title  \\\n",
       "606   PG10547                                        Topsy-Turvy   \n",
       "703   PG10634  The Queen of Hearts, and Sing a Song for Sixpence   \n",
       "841   PG10762                   Impressions of Theophrastus Such   \n",
       "923   PG10836                               The Algebra of Logic   \n",
       "1106     PG10                The King James Version of the Bible   \n",
       "\n",
       "                   author  authoryearofbirth  authoryearofdeath language  \\\n",
       "606          Verne, Jules             1828.0             1905.0   ['en']   \n",
       "703   Caldecott, Randolph             1846.0             1886.0   ['en']   \n",
       "841         Eliot, George             1819.0             1880.0   ['en']   \n",
       "923       Couturat, Louis             1868.0             1914.0   ['en']   \n",
       "1106                  NaN                NaN                NaN   ['en']   \n",
       "\n",
       "      downloads                                           subjects type  \n",
       "606         126  {'Science fiction, French -- Translations into...  NaN  \n",
       "703          44  {'Picture books for children', 'Nursery rhymes...  NaN  \n",
       "841         110  {'Authors -- Fiction', 'England -- Fiction', '...  NaN  \n",
       "923          97  {'Logic, Symbolic and mathematical', 'Algebrai...  NaN  \n",
       "1106       5831                                          {'Bible'}  NaN  "
      ]
     },
     "execution_count": 4,
     "metadata": {},
     "output_type": "execute_result"
    }
   ],
   "source": [
    "library.loc[(~library['id'].isin(books_list)) & (library['type'].isna())].head()"
   ]
  },
  {
   "attachments": {},
   "cell_type": "markdown",
   "metadata": {},
   "source": [
    "For 'Sound' I don't care that yhey did not get downloaded -  I'm only looking for books and not for audio files."
   ]
  },
  {
   "cell_type": "code",
   "execution_count": 5,
   "metadata": {},
   "outputs": [
    {
     "data": {
      "text/html": [
       "<div>\n",
       "<style scoped>\n",
       "    .dataframe tbody tr th:only-of-type {\n",
       "        vertical-align: middle;\n",
       "    }\n",
       "\n",
       "    .dataframe tbody tr th {\n",
       "        vertical-align: top;\n",
       "    }\n",
       "\n",
       "    .dataframe thead th {\n",
       "        text-align: right;\n",
       "    }\n",
       "</style>\n",
       "<table border=\"1\" class=\"dataframe\">\n",
       "  <thead>\n",
       "    <tr style=\"text-align: right;\">\n",
       "      <th></th>\n",
       "      <th>id</th>\n",
       "      <th>title</th>\n",
       "      <th>author</th>\n",
       "      <th>authoryearofbirth</th>\n",
       "      <th>authoryearofdeath</th>\n",
       "      <th>language</th>\n",
       "      <th>downloads</th>\n",
       "      <th>subjects</th>\n",
       "      <th>type</th>\n",
       "    </tr>\n",
       "  </thead>\n",
       "  <tbody>\n",
       "    <tr>\n",
       "      <th>151</th>\n",
       "      <td>PG10137</td>\n",
       "      <td>Mary Had a Little Lamb: Recording taken from M...</td>\n",
       "      <td>Edison, Thomas A. (Thomas Alva)</td>\n",
       "      <td>1847.0</td>\n",
       "      <td>1931.0</td>\n",
       "      <td>['en']</td>\n",
       "      <td>21</td>\n",
       "      <td>{'Nursery rhymes, American'}</td>\n",
       "      <td>Sound</td>\n",
       "    </tr>\n",
       "    <tr>\n",
       "      <th>168</th>\n",
       "      <td>PG10152</td>\n",
       "      <td>Voice Trial - Kinetophone actor audition</td>\n",
       "      <td>Lett, Bob</td>\n",
       "      <td>NaN</td>\n",
       "      <td>NaN</td>\n",
       "      <td>['en']</td>\n",
       "      <td>4</td>\n",
       "      <td>{'Auditions'}</td>\n",
       "      <td>Sound</td>\n",
       "    </tr>\n",
       "    <tr>\n",
       "      <th>169</th>\n",
       "      <td>PG10153</td>\n",
       "      <td>Voice Trial - Kinetophone Actor Audition</td>\n",
       "      <td>Lenord, Frank</td>\n",
       "      <td>NaN</td>\n",
       "      <td>NaN</td>\n",
       "      <td>['en']</td>\n",
       "      <td>4</td>\n",
       "      <td>{'Auditions'}</td>\n",
       "      <td>Sound</td>\n",
       "    </tr>\n",
       "    <tr>\n",
       "      <th>170</th>\n",
       "      <td>PG10154</td>\n",
       "      <td>Voice Trial - Kinetophone Actor Audition</td>\n",
       "      <td>Schultz, Siegfried Von</td>\n",
       "      <td>NaN</td>\n",
       "      <td>NaN</td>\n",
       "      <td>['en']</td>\n",
       "      <td>0</td>\n",
       "      <td>{'Auditions'}</td>\n",
       "      <td>Sound</td>\n",
       "    </tr>\n",
       "    <tr>\n",
       "      <th>171</th>\n",
       "      <td>PG10155</td>\n",
       "      <td>The Right of the People to Rule</td>\n",
       "      <td>Roosevelt, Theodore</td>\n",
       "      <td>1858.0</td>\n",
       "      <td>1919.0</td>\n",
       "      <td>['en']</td>\n",
       "      <td>9</td>\n",
       "      <td>{'Progressivism (United States politics)', 'Po...</td>\n",
       "      <td>Sound</td>\n",
       "    </tr>\n",
       "  </tbody>\n",
       "</table>\n",
       "</div>"
      ],
      "text/plain": [
       "          id                                              title  \\\n",
       "151  PG10137  Mary Had a Little Lamb: Recording taken from M...   \n",
       "168  PG10152           Voice Trial - Kinetophone actor audition   \n",
       "169  PG10153           Voice Trial - Kinetophone Actor Audition   \n",
       "170  PG10154           Voice Trial - Kinetophone Actor Audition   \n",
       "171  PG10155                    The Right of the People to Rule   \n",
       "\n",
       "                              author  authoryearofbirth  authoryearofdeath  \\\n",
       "151  Edison, Thomas A. (Thomas Alva)             1847.0             1931.0   \n",
       "168                        Lett, Bob                NaN                NaN   \n",
       "169                    Lenord, Frank                NaN                NaN   \n",
       "170           Schultz, Siegfried Von                NaN                NaN   \n",
       "171              Roosevelt, Theodore             1858.0             1919.0   \n",
       "\n",
       "    language  downloads                                           subjects  \\\n",
       "151   ['en']         21                       {'Nursery rhymes, American'}   \n",
       "168   ['en']          4                                      {'Auditions'}   \n",
       "169   ['en']          4                                      {'Auditions'}   \n",
       "170   ['en']          0                                      {'Auditions'}   \n",
       "171   ['en']          9  {'Progressivism (United States politics)', 'Po...   \n",
       "\n",
       "      type  \n",
       "151  Sound  \n",
       "168  Sound  \n",
       "169  Sound  \n",
       "170  Sound  \n",
       "171  Sound  "
      ]
     },
     "execution_count": 5,
     "metadata": {},
     "output_type": "execute_result"
    }
   ],
   "source": [
    "library.loc[(~library['id'].isin(books_list)) & (library['type'] == 'Sound')].head()"
   ]
  },
  {
   "attachments": {},
   "cell_type": "markdown",
   "metadata": {},
   "source": [
    "Next up, \"datasets\". It appears the vast majority of them are genomes. There are 10 calculations of square roots and 1/pi to a million digits. And 'Moby Word Lists' is just info on gutenberg, disclaimers, etc..."
   ]
  },
  {
   "cell_type": "code",
   "execution_count": 6,
   "metadata": {},
   "outputs": [
    {
     "data": {
      "text/html": [
       "<div>\n",
       "<style scoped>\n",
       "    .dataframe tbody tr th:only-of-type {\n",
       "        vertical-align: middle;\n",
       "    }\n",
       "\n",
       "    .dataframe tbody tr th {\n",
       "        vertical-align: top;\n",
       "    }\n",
       "\n",
       "    .dataframe thead th {\n",
       "        text-align: right;\n",
       "    }\n",
       "</style>\n",
       "<table border=\"1\" class=\"dataframe\">\n",
       "  <thead>\n",
       "    <tr style=\"text-align: right;\">\n",
       "      <th></th>\n",
       "      <th>id</th>\n",
       "    </tr>\n",
       "    <tr>\n",
       "      <th>author</th>\n",
       "      <th></th>\n",
       "    </tr>\n",
       "  </thead>\n",
       "  <tbody>\n",
       "    <tr>\n",
       "      <th>Bonnell, Jerry T.</th>\n",
       "      <td>2</td>\n",
       "    </tr>\n",
       "    <tr>\n",
       "      <th>De Forest, Norman L.</th>\n",
       "      <td>1</td>\n",
       "    </tr>\n",
       "    <tr>\n",
       "      <th>Human Genome Project</th>\n",
       "      <td>72</td>\n",
       "    </tr>\n",
       "    <tr>\n",
       "      <th>Kanada, Yasumasa</th>\n",
       "      <td>1</td>\n",
       "    </tr>\n",
       "    <tr>\n",
       "      <th>Kerr, Stan</th>\n",
       "      <td>1</td>\n",
       "    </tr>\n",
       "    <tr>\n",
       "      <th>Nemiroff, Robert J.</th>\n",
       "      <td>5</td>\n",
       "    </tr>\n",
       "    <tr>\n",
       "      <th>Ward, Grady</th>\n",
       "      <td>1</td>\n",
       "    </tr>\n",
       "  </tbody>\n",
       "</table>\n",
       "</div>"
      ],
      "text/plain": [
       "                      id\n",
       "author                  \n",
       "Bonnell, Jerry T.      2\n",
       "De Forest, Norman L.   1\n",
       "Human Genome Project  72\n",
       "Kanada, Yasumasa       1\n",
       "Kerr, Stan             1\n",
       "Nemiroff, Robert J.    5\n",
       "Ward, Grady            1"
      ]
     },
     "execution_count": 6,
     "metadata": {},
     "output_type": "execute_result"
    }
   ],
   "source": [
    "library.loc[(~library['id'].isin(books_list)) & (library['type'] == 'Dataset')].groupby('author')[['id']].count()"
   ]
  },
  {
   "attachments": {},
   "cell_type": "markdown",
   "metadata": {},
   "source": [
    "Onto checking out the 'images'! the 'Image' contains music sheets. 'MovingImage' contains comets video, rotating earth and 5 nuclear test videos. 'StillImages' contain a kids story illustrated and two maps/ map images."
   ]
  },
  {
   "cell_type": "code",
   "execution_count": 7,
   "metadata": {},
   "outputs": [
    {
     "data": {
      "text/html": [
       "<div>\n",
       "<style scoped>\n",
       "    .dataframe tbody tr th:only-of-type {\n",
       "        vertical-align: middle;\n",
       "    }\n",
       "\n",
       "    .dataframe tbody tr th {\n",
       "        vertical-align: top;\n",
       "    }\n",
       "\n",
       "    .dataframe thead th {\n",
       "        text-align: right;\n",
       "    }\n",
       "</style>\n",
       "<table border=\"1\" class=\"dataframe\">\n",
       "  <thead>\n",
       "    <tr style=\"text-align: right;\">\n",
       "      <th></th>\n",
       "      <th>id</th>\n",
       "      <th>title</th>\n",
       "      <th>author</th>\n",
       "      <th>authoryearofbirth</th>\n",
       "      <th>authoryearofdeath</th>\n",
       "      <th>language</th>\n",
       "      <th>downloads</th>\n",
       "      <th>subjects</th>\n",
       "      <th>type</th>\n",
       "    </tr>\n",
       "  </thead>\n",
       "  <tbody>\n",
       "    <tr>\n",
       "      <th>1108</th>\n",
       "      <td>PG11001</td>\n",
       "      <td>String Quartet No. 05 in A major Opus 18</td>\n",
       "      <td>Beethoven, Ludwig van</td>\n",
       "      <td>1770.0</td>\n",
       "      <td>1827.0</td>\n",
       "      <td>['en']</td>\n",
       "      <td>5</td>\n",
       "      <td>{'Music', 'String quartets -- Scores'}</td>\n",
       "      <td>Image</td>\n",
       "    </tr>\n",
       "    <tr>\n",
       "      <th>1109</th>\n",
       "      <td>PG11002</td>\n",
       "      <td>String Quartet No. 11 in F minor Opus 95 \"Seri...</td>\n",
       "      <td>Beethoven, Ludwig van</td>\n",
       "      <td>1770.0</td>\n",
       "      <td>1827.0</td>\n",
       "      <td>['en']</td>\n",
       "      <td>6</td>\n",
       "      <td>{'String quartets -- Scores', 'Music'}</td>\n",
       "      <td>Image</td>\n",
       "    </tr>\n",
       "    <tr>\n",
       "      <th>1944</th>\n",
       "      <td>PG11755</td>\n",
       "      <td>String Quartet No. 10 in E flat major Opus 74 ...</td>\n",
       "      <td>Beethoven, Ludwig van</td>\n",
       "      <td>1770.0</td>\n",
       "      <td>1827.0</td>\n",
       "      <td>['en']</td>\n",
       "      <td>15</td>\n",
       "      <td>{'Music', 'String quartets -- Scores'}</td>\n",
       "      <td>Image</td>\n",
       "    </tr>\n",
       "    <tr>\n",
       "      <th>2381</th>\n",
       "      <td>PG12149</td>\n",
       "      <td>String Quartet No. 03 in D major Opus 18</td>\n",
       "      <td>Beethoven, Ludwig van</td>\n",
       "      <td>1770.0</td>\n",
       "      <td>1827.0</td>\n",
       "      <td>['en']</td>\n",
       "      <td>15</td>\n",
       "      <td>{'String quartets -- Scores', 'Music'}</td>\n",
       "      <td>Image</td>\n",
       "    </tr>\n",
       "    <tr>\n",
       "      <th>2479</th>\n",
       "      <td>PG12237</td>\n",
       "      <td>String Quartet No. 16 in F major Opus 135</td>\n",
       "      <td>Beethoven, Ludwig van</td>\n",
       "      <td>1770.0</td>\n",
       "      <td>1827.0</td>\n",
       "      <td>['en']</td>\n",
       "      <td>21</td>\n",
       "      <td>{'Music', 'String quartets -- Scores'}</td>\n",
       "      <td>Image</td>\n",
       "    </tr>\n",
       "  </tbody>\n",
       "</table>\n",
       "</div>"
      ],
      "text/plain": [
       "           id                                              title  \\\n",
       "1108  PG11001           String Quartet No. 05 in A major Opus 18   \n",
       "1109  PG11002  String Quartet No. 11 in F minor Opus 95 \"Seri...   \n",
       "1944  PG11755  String Quartet No. 10 in E flat major Opus 74 ...   \n",
       "2381  PG12149           String Quartet No. 03 in D major Opus 18   \n",
       "2479  PG12237          String Quartet No. 16 in F major Opus 135   \n",
       "\n",
       "                     author  authoryearofbirth  authoryearofdeath language  \\\n",
       "1108  Beethoven, Ludwig van             1770.0             1827.0   ['en']   \n",
       "1109  Beethoven, Ludwig van             1770.0             1827.0   ['en']   \n",
       "1944  Beethoven, Ludwig van             1770.0             1827.0   ['en']   \n",
       "2381  Beethoven, Ludwig van             1770.0             1827.0   ['en']   \n",
       "2479  Beethoven, Ludwig van             1770.0             1827.0   ['en']   \n",
       "\n",
       "      downloads                                subjects   type  \n",
       "1108          5  {'Music', 'String quartets -- Scores'}  Image  \n",
       "1109          6  {'String quartets -- Scores', 'Music'}  Image  \n",
       "1944         15  {'Music', 'String quartets -- Scores'}  Image  \n",
       "2381         15  {'String quartets -- Scores', 'Music'}  Image  \n",
       "2479         21  {'Music', 'String quartets -- Scores'}  Image  "
      ]
     },
     "execution_count": 7,
     "metadata": {},
     "output_type": "execute_result"
    }
   ],
   "source": [
    "library.loc[(~library['id'].isin(books_list)) & (library['type'] == 'Image')].head()"
   ]
  },
  {
   "cell_type": "code",
   "execution_count": 8,
   "metadata": {},
   "outputs": [
    {
     "data": {
      "text/html": [
       "<div>\n",
       "<style scoped>\n",
       "    .dataframe tbody tr th:only-of-type {\n",
       "        vertical-align: middle;\n",
       "    }\n",
       "\n",
       "    .dataframe tbody tr th {\n",
       "        vertical-align: top;\n",
       "    }\n",
       "\n",
       "    .dataframe thead th {\n",
       "        text-align: right;\n",
       "    }\n",
       "</style>\n",
       "<table border=\"1\" class=\"dataframe\">\n",
       "  <thead>\n",
       "    <tr style=\"text-align: right;\">\n",
       "      <th></th>\n",
       "      <th>id</th>\n",
       "      <th>title</th>\n",
       "      <th>author</th>\n",
       "      <th>authoryearofbirth</th>\n",
       "      <th>authoryearofdeath</th>\n",
       "      <th>language</th>\n",
       "      <th>downloads</th>\n",
       "      <th>subjects</th>\n",
       "      <th>type</th>\n",
       "    </tr>\n",
       "  </thead>\n",
       "  <tbody>\n",
       "    <tr>\n",
       "      <th>1661</th>\n",
       "      <td>PG114</td>\n",
       "      <td>The Tenniel Illustrations for Carroll's Alice ...</td>\n",
       "      <td>Tenniel, John</td>\n",
       "      <td>1820.0</td>\n",
       "      <td>1914.0</td>\n",
       "      <td>['en']</td>\n",
       "      <td>391</td>\n",
       "      <td>{\"Children's stories\", 'Fantasy fiction'}</td>\n",
       "      <td>StillImage</td>\n",
       "    </tr>\n",
       "    <tr>\n",
       "      <th>15515</th>\n",
       "      <td>PG239</td>\n",
       "      <td>Radar Map of the United States</td>\n",
       "      <td>United States</td>\n",
       "      <td>NaN</td>\n",
       "      <td>NaN</td>\n",
       "      <td>['en']</td>\n",
       "      <td>27</td>\n",
       "      <td>{'United States -- Maps'}</td>\n",
       "      <td>StillImage</td>\n",
       "    </tr>\n",
       "    <tr>\n",
       "      <th>67797</th>\n",
       "      <td>PG758</td>\n",
       "      <td>LandSat Picture of Washington, DC</td>\n",
       "      <td>United States. National Aeronautics and Space ...</td>\n",
       "      <td>NaN</td>\n",
       "      <td>NaN</td>\n",
       "      <td>['en']</td>\n",
       "      <td>36</td>\n",
       "      <td>{'Washington (D.C.) -- Remote-sensing images'}</td>\n",
       "      <td>StillImage</td>\n",
       "    </tr>\n",
       "  </tbody>\n",
       "</table>\n",
       "</div>"
      ],
      "text/plain": [
       "          id                                              title  \\\n",
       "1661   PG114  The Tenniel Illustrations for Carroll's Alice ...   \n",
       "15515  PG239                     Radar Map of the United States   \n",
       "67797  PG758                  LandSat Picture of Washington, DC   \n",
       "\n",
       "                                                  author  authoryearofbirth  \\\n",
       "1661                                       Tenniel, John             1820.0   \n",
       "15515                                      United States                NaN   \n",
       "67797  United States. National Aeronautics and Space ...                NaN   \n",
       "\n",
       "       authoryearofdeath language  downloads  \\\n",
       "1661              1914.0   ['en']        391   \n",
       "15515                NaN   ['en']         27   \n",
       "67797                NaN   ['en']         36   \n",
       "\n",
       "                                             subjects        type  \n",
       "1661        {\"Children's stories\", 'Fantasy fiction'}  StillImage  \n",
       "15515                       {'United States -- Maps'}  StillImage  \n",
       "67797  {'Washington (D.C.) -- Remote-sensing images'}  StillImage  "
      ]
     },
     "execution_count": 8,
     "metadata": {},
     "output_type": "execute_result"
    }
   ],
   "source": [
    "library.loc[(~library['id'].isin(books_list)) & (library['type'] == 'StillImage')]"
   ]
  },
  {
   "attachments": {},
   "cell_type": "markdown",
   "metadata": {},
   "source": [
    "And finally, Collection contains 'Project Gutenberg DVD: The July 2006 Special' and the only not downloaded text is just empty."
   ]
  },
  {
   "cell_type": "code",
   "execution_count": 9,
   "metadata": {},
   "outputs": [
    {
     "data": {
      "text/html": [
       "<div>\n",
       "<style scoped>\n",
       "    .dataframe tbody tr th:only-of-type {\n",
       "        vertical-align: middle;\n",
       "    }\n",
       "\n",
       "    .dataframe tbody tr th {\n",
       "        vertical-align: top;\n",
       "    }\n",
       "\n",
       "    .dataframe thead th {\n",
       "        text-align: right;\n",
       "    }\n",
       "</style>\n",
       "<table border=\"1\" class=\"dataframe\">\n",
       "  <thead>\n",
       "    <tr style=\"text-align: right;\">\n",
       "      <th></th>\n",
       "      <th>id</th>\n",
       "      <th>title</th>\n",
       "      <th>author</th>\n",
       "      <th>authoryearofbirth</th>\n",
       "      <th>authoryearofdeath</th>\n",
       "      <th>language</th>\n",
       "      <th>downloads</th>\n",
       "      <th>subjects</th>\n",
       "      <th>type</th>\n",
       "    </tr>\n",
       "  </thead>\n",
       "  <tbody>\n",
       "    <tr>\n",
       "      <th>10150</th>\n",
       "      <td>PG19159</td>\n",
       "      <td>Project Gutenberg DVD: The July 2006 Special</td>\n",
       "      <td>NaN</td>\n",
       "      <td>NaN</td>\n",
       "      <td>NaN</td>\n",
       "      <td>['en']</td>\n",
       "      <td>73</td>\n",
       "      <td>set()</td>\n",
       "      <td>Collection</td>\n",
       "    </tr>\n",
       "  </tbody>\n",
       "</table>\n",
       "</div>"
      ],
      "text/plain": [
       "            id                                         title author  \\\n",
       "10150  PG19159  Project Gutenberg DVD: The July 2006 Special    NaN   \n",
       "\n",
       "       authoryearofbirth  authoryearofdeath language  downloads subjects  \\\n",
       "10150                NaN                NaN   ['en']         73    set()   \n",
       "\n",
       "             type  \n",
       "10150  Collection  "
      ]
     },
     "execution_count": 9,
     "metadata": {},
     "output_type": "execute_result"
    }
   ],
   "source": [
    "library.loc[(~library['id'].isin(books_list)) & (library['type'] == 'Collection')]"
   ]
  },
  {
   "cell_type": "code",
   "execution_count": 10,
   "metadata": {},
   "outputs": [
    {
     "data": {
      "text/html": [
       "<div>\n",
       "<style scoped>\n",
       "    .dataframe tbody tr th:only-of-type {\n",
       "        vertical-align: middle;\n",
       "    }\n",
       "\n",
       "    .dataframe tbody tr th {\n",
       "        vertical-align: top;\n",
       "    }\n",
       "\n",
       "    .dataframe thead th {\n",
       "        text-align: right;\n",
       "    }\n",
       "</style>\n",
       "<table border=\"1\" class=\"dataframe\">\n",
       "  <thead>\n",
       "    <tr style=\"text-align: right;\">\n",
       "      <th></th>\n",
       "      <th>id</th>\n",
       "      <th>title</th>\n",
       "      <th>author</th>\n",
       "      <th>authoryearofbirth</th>\n",
       "      <th>authoryearofdeath</th>\n",
       "      <th>language</th>\n",
       "      <th>downloads</th>\n",
       "      <th>subjects</th>\n",
       "      <th>type</th>\n",
       "    </tr>\n",
       "  </thead>\n",
       "  <tbody>\n",
       "    <tr>\n",
       "      <th>69464</th>\n",
       "      <td>PG90907</td>\n",
       "      <td>NaN</td>\n",
       "      <td>NaN</td>\n",
       "      <td>NaN</td>\n",
       "      <td>NaN</td>\n",
       "      <td>['en']</td>\n",
       "      <td>1</td>\n",
       "      <td>set()</td>\n",
       "      <td>Text</td>\n",
       "    </tr>\n",
       "  </tbody>\n",
       "</table>\n",
       "</div>"
      ],
      "text/plain": [
       "            id title author  authoryearofbirth  authoryearofdeath language  \\\n",
       "69464  PG90907   NaN    NaN                NaN                NaN   ['en']   \n",
       "\n",
       "       downloads subjects  type  \n",
       "69464          1    set()  Text  "
      ]
     },
     "execution_count": 10,
     "metadata": {},
     "output_type": "execute_result"
    }
   ],
   "source": [
    "library.loc[(~library['id'].isin(books_list)) & (library['type'] == 'Text')]"
   ]
  },
  {
   "cell_type": "code",
   "execution_count": 11,
   "metadata": {},
   "outputs": [],
   "source": [
    "# to find specific authors\n",
    "# library.loc[library['author'].str.find('Lovecraft') > -1]"
   ]
  },
  {
   "attachments": {},
   "cell_type": "markdown",
   "metadata": {},
   "source": [
    "## Selecting English books\n",
    "\n",
    "Filtering down to just English books (removing images, etc...)"
   ]
  },
  {
   "attachments": {},
   "cell_type": "markdown",
   "metadata": {},
   "source": [
    "Starting with 70449 \"books\" in the catalogue, first select all the texts in the library that are marked as being in english ('en').\n",
    "\n",
    "That reduces the library to 56954 books."
   ]
  },
  {
   "cell_type": "code",
   "execution_count": 12,
   "metadata": {},
   "outputs": [],
   "source": [
    "library_en = library.loc[library['language'].str.find('en') > -1]"
   ]
  },
  {
   "attachments": {},
   "cell_type": "markdown",
   "metadata": {},
   "source": [
    "Further, for right now I'm also going to drop all of the additional files that were not downloaded (that I briefly explored in the previous part):\n",
    "- NaN 1991\n",
    "- Sound 1039\n",
    "- Dataset 83\n",
    "- Image 33\n",
    "- MovingImage 7\n",
    "- StillImage 3\n",
    "- Collection 1\n",
    "- Text 1\n",
    "\n",
    "That additionally reduces the library to 53796 books."
   ]
  },
  {
   "cell_type": "code",
   "execution_count": 13,
   "metadata": {},
   "outputs": [],
   "source": [
    "library_en = library_en.loc[library_en['id'].isin(books_list)]"
   ]
  },
  {
   "attachments": {},
   "cell_type": "markdown",
   "metadata": {},
   "source": [
    "Finally, deleting some files accompanying sound, dataset, etc.. that got downloaded. Only 20 total."
   ]
  },
  {
   "cell_type": "code",
   "execution_count": 14,
   "metadata": {},
   "outputs": [],
   "source": [
    "library_en = library_en[library_en['type'].isna()]"
   ]
  },
  {
   "attachments": {},
   "cell_type": "markdown",
   "metadata": {},
   "source": [
    "Final count of books to potentially use is 53776!"
   ]
  },
  {
   "attachments": {},
   "cell_type": "markdown",
   "metadata": {},
   "source": [
    "## Beginning Exploration of Authors\n",
    "\n",
    "Choosing authors to use for further analysis."
   ]
  },
  {
   "attachments": {},
   "cell_type": "markdown",
   "metadata": {},
   "source": [
    "There are:\n",
    "- 6345 books with 10 or less downloads \n",
    "- 42617 books with 100 or less downloads\n",
    "\n",
    "Potentially worth considering!"
   ]
  },
  {
   "cell_type": "code",
   "execution_count": 15,
   "metadata": {},
   "outputs": [
    {
     "data": {
      "text/plain": [
       "(6345, 9)"
      ]
     },
     "execution_count": 15,
     "metadata": {},
     "output_type": "execute_result"
    }
   ],
   "source": [
    "library_en[library_en['downloads'] <= 10].shape"
   ]
  },
  {
   "attachments": {},
   "cell_type": "markdown",
   "metadata": {},
   "source": [
    "Grouping by author, I noticed that there's 117 titles by \"unknown\" author, 601 \"anonymous\" and 3422 \"various\". Upon further inspection of Various, they are majority \"periodicals\", meaning various magazines and so I decided it was safe to remove that.\n",
    "\n",
    "As for unknown and anonymous, those might be interesting to check once I have a model, but as is, since I'm looking for writing style, I do want to know who the author is. (lol at Happy and Gay Marching Away - children's poetry by Unknown author)."
   ]
  },
  {
   "cell_type": "code",
   "execution_count": 16,
   "metadata": {},
   "outputs": [
    {
     "data": {
      "text/html": [
       "<div>\n",
       "<style scoped>\n",
       "    .dataframe tbody tr th:only-of-type {\n",
       "        vertical-align: middle;\n",
       "    }\n",
       "\n",
       "    .dataframe tbody tr th {\n",
       "        vertical-align: top;\n",
       "    }\n",
       "\n",
       "    .dataframe thead th {\n",
       "        text-align: right;\n",
       "    }\n",
       "</style>\n",
       "<table border=\"1\" class=\"dataframe\">\n",
       "  <thead>\n",
       "    <tr style=\"text-align: right;\">\n",
       "      <th></th>\n",
       "      <th>title</th>\n",
       "    </tr>\n",
       "    <tr>\n",
       "      <th>author</th>\n",
       "      <th></th>\n",
       "    </tr>\n",
       "  </thead>\n",
       "  <tbody>\n",
       "    <tr>\n",
       "      <th>Various</th>\n",
       "      <td>3422</td>\n",
       "    </tr>\n",
       "    <tr>\n",
       "      <th>Anonymous</th>\n",
       "      <td>601</td>\n",
       "    </tr>\n",
       "    <tr>\n",
       "      <th>Shakespeare, William</th>\n",
       "      <td>178</td>\n",
       "    </tr>\n",
       "    <tr>\n",
       "      <th>Ebers, Georg</th>\n",
       "      <td>163</td>\n",
       "    </tr>\n",
       "    <tr>\n",
       "      <th>Parker, Gilbert</th>\n",
       "      <td>132</td>\n",
       "    </tr>\n",
       "    <tr>\n",
       "      <th>Oliphant, Mrs. (Margaret)</th>\n",
       "      <td>132</td>\n",
       "    </tr>\n",
       "    <tr>\n",
       "      <th>Kingston, William Henry Giles</th>\n",
       "      <td>132</td>\n",
       "    </tr>\n",
       "    <tr>\n",
       "      <th>Twain, Mark</th>\n",
       "      <td>128</td>\n",
       "    </tr>\n",
       "    <tr>\n",
       "      <th>Fenn, George Manville</th>\n",
       "      <td>128</td>\n",
       "    </tr>\n",
       "    <tr>\n",
       "      <th>Unknown</th>\n",
       "      <td>117</td>\n",
       "    </tr>\n",
       "    <tr>\n",
       "      <th>Balzac, Honoré de</th>\n",
       "      <td>116</td>\n",
       "    </tr>\n",
       "    <tr>\n",
       "      <th>Meredith, George</th>\n",
       "      <td>111</td>\n",
       "    </tr>\n",
       "    <tr>\n",
       "      <th>Jacobs, W. W. (William Wymark)</th>\n",
       "      <td>111</td>\n",
       "    </tr>\n",
       "    <tr>\n",
       "      <th>Alger, Horatio, Jr.</th>\n",
       "      <td>110</td>\n",
       "    </tr>\n",
       "    <tr>\n",
       "      <th>Howells, William Dean</th>\n",
       "      <td>106</td>\n",
       "    </tr>\n",
       "    <tr>\n",
       "      <th>Motley, John Lothrop</th>\n",
       "      <td>102</td>\n",
       "    </tr>\n",
       "    <tr>\n",
       "      <th>Henty, G. A. (George Alfred)</th>\n",
       "      <td>99</td>\n",
       "    </tr>\n",
       "    <tr>\n",
       "      <th>Ballantyne, R. M. (Robert Michael)</th>\n",
       "      <td>98</td>\n",
       "    </tr>\n",
       "    <tr>\n",
       "      <th>James, Henry</th>\n",
       "      <td>92</td>\n",
       "    </tr>\n",
       "    <tr>\n",
       "      <th>Pepys, Samuel</th>\n",
       "      <td>86</td>\n",
       "    </tr>\n",
       "    <tr>\n",
       "      <th>Dickens, Charles</th>\n",
       "      <td>86</td>\n",
       "    </tr>\n",
       "    <tr>\n",
       "      <th>Stratemeyer, Edward</th>\n",
       "      <td>83</td>\n",
       "    </tr>\n",
       "    <tr>\n",
       "      <th>Doyle, Arthur Conan</th>\n",
       "      <td>82</td>\n",
       "    </tr>\n",
       "    <tr>\n",
       "      <th>Trollope, Anthony</th>\n",
       "      <td>81</td>\n",
       "    </tr>\n",
       "    <tr>\n",
       "      <th>Stevenson, Robert Louis</th>\n",
       "      <td>81</td>\n",
       "    </tr>\n",
       "    <tr>\n",
       "      <th>Library of Congress. Copyright Office</th>\n",
       "      <td>78</td>\n",
       "    </tr>\n",
       "    <tr>\n",
       "      <th>Lang, Andrew</th>\n",
       "      <td>78</td>\n",
       "    </tr>\n",
       "    <tr>\n",
       "      <th>Le Queux, William</th>\n",
       "      <td>77</td>\n",
       "    </tr>\n",
       "    <tr>\n",
       "      <th>Churchill, Winston</th>\n",
       "      <td>74</td>\n",
       "    </tr>\n",
       "    <tr>\n",
       "      <th>Baum, L. Frank (Lyman Frank)</th>\n",
       "      <td>74</td>\n",
       "    </tr>\n",
       "  </tbody>\n",
       "</table>\n",
       "</div>"
      ],
      "text/plain": [
       "                                       title\n",
       "author                                      \n",
       "Various                                 3422\n",
       "Anonymous                                601\n",
       "Shakespeare, William                     178\n",
       "Ebers, Georg                             163\n",
       "Parker, Gilbert                          132\n",
       "Oliphant, Mrs. (Margaret)                132\n",
       "Kingston, William Henry Giles            132\n",
       "Twain, Mark                              128\n",
       "Fenn, George Manville                    128\n",
       "Unknown                                  117\n",
       "Balzac, Honoré de                        116\n",
       "Meredith, George                         111\n",
       "Jacobs, W. W. (William Wymark)           111\n",
       "Alger, Horatio, Jr.                      110\n",
       "Howells, William Dean                    106\n",
       "Motley, John Lothrop                     102\n",
       "Henty, G. A. (George Alfred)              99\n",
       "Ballantyne, R. M. (Robert Michael)        98\n",
       "James, Henry                              92\n",
       "Pepys, Samuel                             86\n",
       "Dickens, Charles                          86\n",
       "Stratemeyer, Edward                       83\n",
       "Doyle, Arthur Conan                       82\n",
       "Trollope, Anthony                         81\n",
       "Stevenson, Robert Louis                   81\n",
       "Library of Congress. Copyright Office     78\n",
       "Lang, Andrew                              78\n",
       "Le Queux, William                         77\n",
       "Churchill, Winston                        74\n",
       "Baum, L. Frank (Lyman Frank)              74"
      ]
     },
     "execution_count": 16,
     "metadata": {},
     "output_type": "execute_result"
    }
   ],
   "source": [
    "library_en.groupby('author')[['title']].count().sort_values(by='title', ascending=False).head(30)"
   ]
  },
  {
   "cell_type": "code",
   "execution_count": 17,
   "metadata": {},
   "outputs": [
    {
     "data": {
      "text/plain": [
       "{'English wit and humor -- Periodicals'}                                                                                            550\n",
       "{'Periodicals'}                                                                                                                     233\n",
       "{'Questions and answers -- Periodicals'}                                                                                            220\n",
       "{'Popular literature -- Great Britain -- Periodicals'}                                                                              195\n",
       "{\"Children's periodicals, American\"}                                                                                                162\n",
       "{'Congregational churches -- Missions -- Periodicals', 'Home missions -- Periodicals'}                                              145\n",
       "{'Encyclopedias and dictionaries'}                                                                                                  136\n",
       "{'American periodicals'}                                                                                                            117\n",
       "{\"Children's periodicals\"}                                                                                                          103\n",
       "{'England -- Periodicals', 'Scotland -- Periodicals'}                                                                                98\n",
       "{\"Children's literature -- Periodicals\"}                                                                                             88\n",
       "{'Literature, Modern -- 19th century -- Periodicals', 'Literature -- Periodicals'}                                                   84\n",
       "{'Science -- Periodicals'}                                                                                                           62\n",
       "{'Ireland -- Periodicals'}                                                                                                           52\n",
       "{'History, Modern -- 19th century -- Juvenile literature -- Periodicals'}                                                            49\n",
       "{\"Children's literature, American -- Periodicals\"}                                                                                   48\n",
       "{'Literature, Modern -- 19th century -- Periodicals', 'Science -- Periodicals'}                                                      48\n",
       "{'Natural history -- Periodicals', 'Birds -- Periodicals'}                                                                           47\n",
       "{'American wit and humor -- Periodicals'}                                                                                            42\n",
       "{'Literature, Modern -- 19th century -- Periodicals', 'United States -- Politics and government -- 19th century -- Periodicals'}     36\n",
       "Name: subjects, dtype: int64"
      ]
     },
     "execution_count": 17,
     "metadata": {},
     "output_type": "execute_result"
    }
   ],
   "source": [
    "library_en[library_en['author'] == 'Various']['subjects'].value_counts().head(20)"
   ]
  },
  {
   "attachments": {},
   "cell_type": "markdown",
   "metadata": {},
   "source": [
    "Below, keeping authors that are not Anonymous, Unknown or Various, which cuts down to 49636 books."
   ]
  },
  {
   "cell_type": "code",
   "execution_count": 18,
   "metadata": {},
   "outputs": [],
   "source": [
    "library_en = library_en[~library_en['author'].isin(['Anonymous', 'Unknown', 'Various'])]"
   ]
  },
  {
   "attachments": {},
   "cell_type": "markdown",
   "metadata": {},
   "source": [
    "Ideas for selecting authors:\n",
    "- first I started with top 6 based on the total # of books written\n",
    "    - used `library_en.groupby('author')['title'].count().sort_values(ascending=False).head(6).index.to_list()`\n",
    "- another idea was to look at most downloads over last 30 days\n",
    "- another one to look based on the decade"
   ]
  },
  {
   "cell_type": "code",
   "execution_count": 19,
   "metadata": {},
   "outputs": [
    {
     "data": {
      "text/html": [
       "<div>\n",
       "<style scoped>\n",
       "    .dataframe tbody tr th:only-of-type {\n",
       "        vertical-align: middle;\n",
       "    }\n",
       "\n",
       "    .dataframe tbody tr th {\n",
       "        vertical-align: top;\n",
       "    }\n",
       "\n",
       "    .dataframe thead th {\n",
       "        text-align: right;\n",
       "    }\n",
       "</style>\n",
       "<table border=\"1\" class=\"dataframe\">\n",
       "  <thead>\n",
       "    <tr style=\"text-align: right;\">\n",
       "      <th></th>\n",
       "      <th>id</th>\n",
       "      <th>title</th>\n",
       "      <th>author</th>\n",
       "      <th>authoryearofbirth</th>\n",
       "      <th>authoryearofdeath</th>\n",
       "      <th>language</th>\n",
       "      <th>downloads</th>\n",
       "      <th>subjects</th>\n",
       "      <th>type</th>\n",
       "    </tr>\n",
       "  </thead>\n",
       "  <tbody>\n",
       "    <tr>\n",
       "      <th>5702</th>\n",
       "      <td>PG1513</td>\n",
       "      <td>Romeo and Juliet</td>\n",
       "      <td>Shakespeare, William</td>\n",
       "      <td>1564.0</td>\n",
       "      <td>1616.0</td>\n",
       "      <td>['en']</td>\n",
       "      <td>166112</td>\n",
       "      <td>{'Juliet (Fictitious character) -- Drama', 'Ro...</td>\n",
       "      <td>NaN</td>\n",
       "    </tr>\n",
       "    <tr>\n",
       "      <th>18200</th>\n",
       "      <td>PG2641</td>\n",
       "      <td>A Room with a View</td>\n",
       "      <td>Forster, E. M. (Edward Morgan)</td>\n",
       "      <td>1879.0</td>\n",
       "      <td>1970.0</td>\n",
       "      <td>['en']</td>\n",
       "      <td>145035</td>\n",
       "      <td>{'British -- Italy -- Fiction', 'Florence (Ita...</td>\n",
       "      <td>NaN</td>\n",
       "    </tr>\n",
       "    <tr>\n",
       "      <th>30065</th>\n",
       "      <td>PG37106</td>\n",
       "      <td>Little Women; Or, Meg, Jo, Beth, and Amy</td>\n",
       "      <td>Alcott, Louisa May</td>\n",
       "      <td>1832.0</td>\n",
       "      <td>1888.0</td>\n",
       "      <td>['en']</td>\n",
       "      <td>139345</td>\n",
       "      <td>{'Bildungsromans', 'March family (Fictitious c...</td>\n",
       "      <td>NaN</td>\n",
       "    </tr>\n",
       "    <tr>\n",
       "      <th>5102</th>\n",
       "      <td>PG145</td>\n",
       "      <td>Middlemarch</td>\n",
       "      <td>Eliot, George</td>\n",
       "      <td>1819.0</td>\n",
       "      <td>1880.0</td>\n",
       "      <td>['en']</td>\n",
       "      <td>138208</td>\n",
       "      <td>{'Bildungsromans', 'Married people -- Fiction'...</td>\n",
       "      <td>NaN</td>\n",
       "    </tr>\n",
       "    <tr>\n",
       "      <th>18867</th>\n",
       "      <td>PG2701</td>\n",
       "      <td>Moby Dick; Or, The Whale</td>\n",
       "      <td>Melville, Herman</td>\n",
       "      <td>1819.0</td>\n",
       "      <td>1891.0</td>\n",
       "      <td>['en']</td>\n",
       "      <td>135040</td>\n",
       "      <td>{'Whaling -- Fiction', 'Psychological fiction'...</td>\n",
       "      <td>NaN</td>\n",
       "    </tr>\n",
       "  </tbody>\n",
       "</table>\n",
       "</div>"
      ],
      "text/plain": [
       "            id                                     title  \\\n",
       "5702    PG1513                          Romeo and Juliet   \n",
       "18200   PG2641                        A Room with a View   \n",
       "30065  PG37106  Little Women; Or, Meg, Jo, Beth, and Amy   \n",
       "5102     PG145                               Middlemarch   \n",
       "18867   PG2701                  Moby Dick; Or, The Whale   \n",
       "\n",
       "                               author  authoryearofbirth  authoryearofdeath  \\\n",
       "5702             Shakespeare, William             1564.0             1616.0   \n",
       "18200  Forster, E. M. (Edward Morgan)             1879.0             1970.0   \n",
       "30065              Alcott, Louisa May             1832.0             1888.0   \n",
       "5102                    Eliot, George             1819.0             1880.0   \n",
       "18867                Melville, Herman             1819.0             1891.0   \n",
       "\n",
       "      language  downloads                                           subjects  \\\n",
       "5702    ['en']     166112  {'Juliet (Fictitious character) -- Drama', 'Ro...   \n",
       "18200   ['en']     145035  {'British -- Italy -- Fiction', 'Florence (Ita...   \n",
       "30065   ['en']     139345  {'Bildungsromans', 'March family (Fictitious c...   \n",
       "5102    ['en']     138208  {'Bildungsromans', 'Married people -- Fiction'...   \n",
       "18867   ['en']     135040  {'Whaling -- Fiction', 'Psychological fiction'...   \n",
       "\n",
       "      type  \n",
       "5702   NaN  \n",
       "18200  NaN  \n",
       "30065  NaN  \n",
       "5102   NaN  \n",
       "18867  NaN  "
      ]
     },
     "metadata": {},
     "output_type": "display_data"
    },
    {
     "data": {
      "text/html": [
       "<div>\n",
       "<style scoped>\n",
       "    .dataframe tbody tr th:only-of-type {\n",
       "        vertical-align: middle;\n",
       "    }\n",
       "\n",
       "    .dataframe tbody tr th {\n",
       "        vertical-align: top;\n",
       "    }\n",
       "\n",
       "    .dataframe thead th {\n",
       "        text-align: right;\n",
       "    }\n",
       "</style>\n",
       "<table border=\"1\" class=\"dataframe\">\n",
       "  <thead>\n",
       "    <tr style=\"text-align: right;\">\n",
       "      <th></th>\n",
       "      <th>downloads</th>\n",
       "    </tr>\n",
       "    <tr>\n",
       "      <th>author</th>\n",
       "      <th></th>\n",
       "    </tr>\n",
       "  </thead>\n",
       "  <tbody>\n",
       "    <tr>\n",
       "      <th>Smollett, T. (Tobias)</th>\n",
       "      <td>364524</td>\n",
       "    </tr>\n",
       "    <tr>\n",
       "      <th>Shakespeare, William</th>\n",
       "      <td>333424</td>\n",
       "    </tr>\n",
       "    <tr>\n",
       "      <th>Alcott, Louisa May</th>\n",
       "      <td>154321</td>\n",
       "    </tr>\n",
       "    <tr>\n",
       "      <th>Forster, E. M. (Edward Morgan)</th>\n",
       "      <td>150394</td>\n",
       "    </tr>\n",
       "    <tr>\n",
       "      <th>Eliot, George</th>\n",
       "      <td>145394</td>\n",
       "    </tr>\n",
       "  </tbody>\n",
       "</table>\n",
       "</div>"
      ],
      "text/plain": [
       "                                downloads\n",
       "author                                   \n",
       "Smollett, T. (Tobias)              364524\n",
       "Shakespeare, William               333424\n",
       "Alcott, Louisa May                 154321\n",
       "Forster, E. M. (Edward Morgan)     150394\n",
       "Eliot, George                      145394"
      ]
     },
     "metadata": {},
     "output_type": "display_data"
    }
   ],
   "source": [
    "# note: downloads are for the last 30 days\n",
    "display(library_en.sort_values(by='downloads', ascending=False).head())\n",
    "\n",
    "display(library_en.groupby('author')[['downloads']].sum().sort_values(by='downloads', ascending=False).head())"
   ]
  },
  {
   "cell_type": "code",
   "execution_count": 20,
   "metadata": {},
   "outputs": [],
   "source": [
    "# function to calculate centuy of living, taking int account both birth and death where possible\n",
    "def calc_century(birth, death):\n",
    "\n",
    "    if np.isnan(birth) & np.isnan(death):\n",
    "        x = np.NaN\n",
    "\n",
    "    elif np.isnan(birth):\n",
    "        x = int(death/100)\n",
    "    \n",
    "    elif np.isnan(death):\n",
    "        x = int(birth/100)\n",
    "\n",
    "    else:\n",
    "        x = int((birth + (death/2 - birth/2)) / 100)\n",
    "\n",
    "    return x"
   ]
  },
  {
   "cell_type": "code",
   "execution_count": 21,
   "metadata": {},
   "outputs": [],
   "source": [
    "library_en['authorcentury'] = library_en.apply(lambda x: calc_century(x.authoryearofbirth, x.authoryearofdeath), axis=1)"
   ]
  },
  {
   "cell_type": "code",
   "execution_count": 22,
   "metadata": {},
   "outputs": [
    {
     "data": {
      "text/plain": [
       "authorcentury\n",
       " 18.0            8194\n",
       "NaN              4573\n",
       " 19.0            4487\n",
       " 17.0             559\n",
       " 16.0             227\n",
       " 15.0             104\n",
       " 0.0               18\n",
       " 14.0              17\n",
       " 13.0              14\n",
       " 12.0              10\n",
       "-4.0                8\n",
       " 11.0               6\n",
       "-3.0                6\n",
       " 10.0               6\n",
       " 3.0                5\n",
       " 2.0                3\n",
       " 7.0                3\n",
       " 5.0                2\n",
       " 9.0                2\n",
       " 6.0                2\n",
       "-2.0                2\n",
       " 1.0                2\n",
       " 20.0               1\n",
       "-7.0                1\n",
       "-5.0                1\n",
       " 4.0                1\n",
       "-1.0                1\n",
       " 8.0                1\n",
       "dtype: int64"
      ]
     },
     "execution_count": 22,
     "metadata": {},
     "output_type": "execute_result"
    }
   ],
   "source": [
    "# Using that calculation, out of 18256 authors, and the breakdown is below\n",
    "# note the NaN means they didn't have either yearofbirth or yearofdeath\n",
    "library_en.groupby('author')[['authorcentury']].max().value_counts(dropna=False)"
   ]
  },
  {
   "cell_type": "code",
   "execution_count": 23,
   "metadata": {},
   "outputs": [
    {
     "data": {
      "text/html": [
       "<div>\n",
       "<style scoped>\n",
       "    .dataframe tbody tr th:only-of-type {\n",
       "        vertical-align: middle;\n",
       "    }\n",
       "\n",
       "    .dataframe tbody tr th {\n",
       "        vertical-align: top;\n",
       "    }\n",
       "\n",
       "    .dataframe thead th {\n",
       "        text-align: right;\n",
       "    }\n",
       "</style>\n",
       "<table border=\"1\" class=\"dataframe\">\n",
       "  <thead>\n",
       "    <tr style=\"text-align: right;\">\n",
       "      <th></th>\n",
       "      <th>title</th>\n",
       "    </tr>\n",
       "    <tr>\n",
       "      <th>author</th>\n",
       "      <th></th>\n",
       "    </tr>\n",
       "  </thead>\n",
       "  <tbody>\n",
       "    <tr>\n",
       "      <th>Jacobs, W. W. (William Wymark)</th>\n",
       "      <td>111</td>\n",
       "    </tr>\n",
       "    <tr>\n",
       "      <th>Churchill, Winston</th>\n",
       "      <td>74</td>\n",
       "    </tr>\n",
       "    <tr>\n",
       "      <th>Wells, H. G. (Herbert George)</th>\n",
       "      <td>71</td>\n",
       "    </tr>\n",
       "    <tr>\n",
       "      <th>Leinster, Murray</th>\n",
       "      <td>68</td>\n",
       "    </tr>\n",
       "    <tr>\n",
       "      <th>Garrett, Randall</th>\n",
       "      <td>67</td>\n",
       "    </tr>\n",
       "    <tr>\n",
       "      <th>Kipling, Rudyard</th>\n",
       "      <td>67</td>\n",
       "    </tr>\n",
       "    <tr>\n",
       "      <th>Smith, George O. (George Oliver)</th>\n",
       "      <td>63</td>\n",
       "    </tr>\n",
       "    <tr>\n",
       "      <th>Barbour, Ralph Henry</th>\n",
       "      <td>61</td>\n",
       "    </tr>\n",
       "    <tr>\n",
       "      <th>Chesterton, G. K. (Gilbert Keith)</th>\n",
       "      <td>60</td>\n",
       "    </tr>\n",
       "    <tr>\n",
       "      <th>Wells, Carolyn</th>\n",
       "      <td>59</td>\n",
       "    </tr>\n",
       "    <tr>\n",
       "      <th>Galsworthy, John</th>\n",
       "      <td>56</td>\n",
       "    </tr>\n",
       "    <tr>\n",
       "      <th>Garis, Howard Roger</th>\n",
       "      <td>55</td>\n",
       "    </tr>\n",
       "    <tr>\n",
       "      <th>Oppenheim, E. Phillips (Edward Phillips)</th>\n",
       "      <td>54</td>\n",
       "    </tr>\n",
       "    <tr>\n",
       "      <th>Standish, Burt L.</th>\n",
       "      <td>53</td>\n",
       "    </tr>\n",
       "    <tr>\n",
       "      <th>Benson, E. F. (Edward Frederic)</th>\n",
       "      <td>50</td>\n",
       "    </tr>\n",
       "    <tr>\n",
       "      <th>Belloc, Hilaire</th>\n",
       "      <td>46</td>\n",
       "    </tr>\n",
       "    <tr>\n",
       "      <th>Bindloss, Harold</th>\n",
       "      <td>45</td>\n",
       "    </tr>\n",
       "    <tr>\n",
       "      <th>Burgess, Thornton W. (Thornton Waldo)</th>\n",
       "      <td>45</td>\n",
       "    </tr>\n",
       "    <tr>\n",
       "      <th>Snell, Roy J. (Roy Judson)</th>\n",
       "      <td>44</td>\n",
       "    </tr>\n",
       "    <tr>\n",
       "      <th>Westerman, Percy F. (Percy Francis)</th>\n",
       "      <td>44</td>\n",
       "    </tr>\n",
       "    <tr>\n",
       "      <th>Marlowe, Stephen</th>\n",
       "      <td>44</td>\n",
       "    </tr>\n",
       "    <tr>\n",
       "      <th>Wodehouse, P. G. (Pelham Grenville)</th>\n",
       "      <td>42</td>\n",
       "    </tr>\n",
       "    <tr>\n",
       "      <th>Quiller-Couch, Arthur</th>\n",
       "      <td>41</td>\n",
       "    </tr>\n",
       "    <tr>\n",
       "      <th>Sinclair, Upton</th>\n",
       "      <td>41</td>\n",
       "    </tr>\n",
       "    <tr>\n",
       "      <th>Shaw, Bernard</th>\n",
       "      <td>41</td>\n",
       "    </tr>\n",
       "    <tr>\n",
       "      <th>Bower, B. M.</th>\n",
       "      <td>40</td>\n",
       "    </tr>\n",
       "    <tr>\n",
       "      <th>Bailey, Arthur Scott</th>\n",
       "      <td>39</td>\n",
       "    </tr>\n",
       "    <tr>\n",
       "      <th>Chase, Josephine</th>\n",
       "      <td>38</td>\n",
       "    </tr>\n",
       "    <tr>\n",
       "      <th>Walton, Bryce</th>\n",
       "      <td>37</td>\n",
       "    </tr>\n",
       "    <tr>\n",
       "      <th>Harper, Charles G. (Charles George)</th>\n",
       "      <td>37</td>\n",
       "    </tr>\n",
       "  </tbody>\n",
       "</table>\n",
       "</div>"
      ],
      "text/plain": [
       "                                          title\n",
       "author                                         \n",
       "Jacobs, W. W. (William Wymark)              111\n",
       "Churchill, Winston                           74\n",
       "Wells, H. G. (Herbert George)                71\n",
       "Leinster, Murray                             68\n",
       "Garrett, Randall                             67\n",
       "Kipling, Rudyard                             67\n",
       "Smith, George O. (George Oliver)             63\n",
       "Barbour, Ralph Henry                         61\n",
       "Chesterton, G. K. (Gilbert Keith)            60\n",
       "Wells, Carolyn                               59\n",
       "Galsworthy, John                             56\n",
       "Garis, Howard Roger                          55\n",
       "Oppenheim, E. Phillips (Edward Phillips)     54\n",
       "Standish, Burt L.                            53\n",
       "Benson, E. F. (Edward Frederic)              50\n",
       "Belloc, Hilaire                              46\n",
       "Bindloss, Harold                             45\n",
       "Burgess, Thornton W. (Thornton Waldo)        45\n",
       "Snell, Roy J. (Roy Judson)                   44\n",
       "Westerman, Percy F. (Percy Francis)          44\n",
       "Marlowe, Stephen                             44\n",
       "Wodehouse, P. G. (Pelham Grenville)          42\n",
       "Quiller-Couch, Arthur                        41\n",
       "Sinclair, Upton                              41\n",
       "Shaw, Bernard                                41\n",
       "Bower, B. M.                                 40\n",
       "Bailey, Arthur Scott                         39\n",
       "Chase, Josephine                             38\n",
       "Walton, Bryce                                37\n",
       "Harper, Charles G. (Charles George)          37"
      ]
     },
     "metadata": {},
     "output_type": "display_data"
    },
    {
     "data": {
      "text/html": [
       "<div>\n",
       "<style scoped>\n",
       "    .dataframe tbody tr th:only-of-type {\n",
       "        vertical-align: middle;\n",
       "    }\n",
       "\n",
       "    .dataframe tbody tr th {\n",
       "        vertical-align: top;\n",
       "    }\n",
       "\n",
       "    .dataframe thead th {\n",
       "        text-align: right;\n",
       "    }\n",
       "</style>\n",
       "<table border=\"1\" class=\"dataframe\">\n",
       "  <thead>\n",
       "    <tr style=\"text-align: right;\">\n",
       "      <th></th>\n",
       "      <th>downloads</th>\n",
       "    </tr>\n",
       "    <tr>\n",
       "      <th>author</th>\n",
       "      <th></th>\n",
       "    </tr>\n",
       "  </thead>\n",
       "  <tbody>\n",
       "    <tr>\n",
       "      <th>Forster, E. M. (Edward Morgan)</th>\n",
       "      <td>150394</td>\n",
       "    </tr>\n",
       "    <tr>\n",
       "      <th>Montgomery, L. M. (Lucy Maud)</th>\n",
       "      <td>134515</td>\n",
       "    </tr>\n",
       "    <tr>\n",
       "      <th>Von Arnim, Elizabeth</th>\n",
       "      <td>129547</td>\n",
       "    </tr>\n",
       "    <tr>\n",
       "      <th>Fitzgerald, F. Scott (Francis Scott)</th>\n",
       "      <td>32201</td>\n",
       "    </tr>\n",
       "    <tr>\n",
       "      <th>Joyce, James</th>\n",
       "      <td>30549</td>\n",
       "    </tr>\n",
       "    <tr>\n",
       "      <th>Christie, Agatha</th>\n",
       "      <td>22893</td>\n",
       "    </tr>\n",
       "    <tr>\n",
       "      <th>Kipling, Rudyard</th>\n",
       "      <td>21170</td>\n",
       "    </tr>\n",
       "    <tr>\n",
       "      <th>Kafka, Franz</th>\n",
       "      <td>20066</td>\n",
       "    </tr>\n",
       "    <tr>\n",
       "      <th>Wells, H. G. (Herbert George)</th>\n",
       "      <td>20005</td>\n",
       "    </tr>\n",
       "    <tr>\n",
       "      <th>Chesterton, G. K. (Gilbert Keith)</th>\n",
       "      <td>18338</td>\n",
       "    </tr>\n",
       "    <tr>\n",
       "      <th>Du Bois, W. E. B. (William Edward Burghardt)</th>\n",
       "      <td>18046</td>\n",
       "    </tr>\n",
       "    <tr>\n",
       "      <th>Shaw, Bernard</th>\n",
       "      <td>16939</td>\n",
       "    </tr>\n",
       "    <tr>\n",
       "      <th>Russell, Bertrand</th>\n",
       "      <td>13334</td>\n",
       "    </tr>\n",
       "    <tr>\n",
       "      <th>Leinster, Murray</th>\n",
       "      <td>13090</td>\n",
       "    </tr>\n",
       "    <tr>\n",
       "      <th>Wodehouse, P. G. (Pelham Grenville)</th>\n",
       "      <td>11884</td>\n",
       "    </tr>\n",
       "    <tr>\n",
       "      <th>Milne, A. A. (Alan Alexander)</th>\n",
       "      <td>11868</td>\n",
       "    </tr>\n",
       "    <tr>\n",
       "      <th>Potter, Beatrix</th>\n",
       "      <td>10940</td>\n",
       "    </tr>\n",
       "    <tr>\n",
       "      <th>Burroughs, Edgar Rice</th>\n",
       "      <td>10367</td>\n",
       "    </tr>\n",
       "    <tr>\n",
       "      <th>Dick, Philip K.</th>\n",
       "      <td>9722</td>\n",
       "    </tr>\n",
       "    <tr>\n",
       "      <th>Sinclair, Upton</th>\n",
       "      <td>8772</td>\n",
       "    </tr>\n",
       "    <tr>\n",
       "      <th>Gibran, Kahlil</th>\n",
       "      <td>8689</td>\n",
       "    </tr>\n",
       "    <tr>\n",
       "      <th>Ward, Grady</th>\n",
       "      <td>8431</td>\n",
       "    </tr>\n",
       "    <tr>\n",
       "      <th>Smith, George O. (George Oliver)</th>\n",
       "      <td>7520</td>\n",
       "    </tr>\n",
       "    <tr>\n",
       "      <th>Tagore, Rabindranath</th>\n",
       "      <td>7237</td>\n",
       "    </tr>\n",
       "    <tr>\n",
       "      <th>Galsworthy, John</th>\n",
       "      <td>6764</td>\n",
       "    </tr>\n",
       "    <tr>\n",
       "      <th>Burgess, Thornton W. (Thornton Waldo)</th>\n",
       "      <td>6492</td>\n",
       "    </tr>\n",
       "    <tr>\n",
       "      <th>Leiber, Fritz</th>\n",
       "      <td>6011</td>\n",
       "    </tr>\n",
       "    <tr>\n",
       "      <th>Lovecraft, H. P. (Howard Phillips)</th>\n",
       "      <td>5746</td>\n",
       "    </tr>\n",
       "    <tr>\n",
       "      <th>Lawrence, D. H. (David Herbert)</th>\n",
       "      <td>5482</td>\n",
       "    </tr>\n",
       "    <tr>\n",
       "      <th>Glaspell, Susan</th>\n",
       "      <td>5189</td>\n",
       "    </tr>\n",
       "  </tbody>\n",
       "</table>\n",
       "</div>"
      ],
      "text/plain": [
       "                                              downloads\n",
       "author                                                 \n",
       "Forster, E. M. (Edward Morgan)                   150394\n",
       "Montgomery, L. M. (Lucy Maud)                    134515\n",
       "Von Arnim, Elizabeth                             129547\n",
       "Fitzgerald, F. Scott (Francis Scott)              32201\n",
       "Joyce, James                                      30549\n",
       "Christie, Agatha                                  22893\n",
       "Kipling, Rudyard                                  21170\n",
       "Kafka, Franz                                      20066\n",
       "Wells, H. G. (Herbert George)                     20005\n",
       "Chesterton, G. K. (Gilbert Keith)                 18338\n",
       "Du Bois, W. E. B. (William Edward Burghardt)      18046\n",
       "Shaw, Bernard                                     16939\n",
       "Russell, Bertrand                                 13334\n",
       "Leinster, Murray                                  13090\n",
       "Wodehouse, P. G. (Pelham Grenville)               11884\n",
       "Milne, A. A. (Alan Alexander)                     11868\n",
       "Potter, Beatrix                                   10940\n",
       "Burroughs, Edgar Rice                             10367\n",
       "Dick, Philip K.                                    9722\n",
       "Sinclair, Upton                                    8772\n",
       "Gibran, Kahlil                                     8689\n",
       "Ward, Grady                                        8431\n",
       "Smith, George O. (George Oliver)                   7520\n",
       "Tagore, Rabindranath                               7237\n",
       "Galsworthy, John                                   6764\n",
       "Burgess, Thornton W. (Thornton Waldo)              6492\n",
       "Leiber, Fritz                                      6011\n",
       "Lovecraft, H. P. (Howard Phillips)                 5746\n",
       "Lawrence, D. H. (David Herbert)                    5482\n",
       "Glaspell, Susan                                    5189"
      ]
     },
     "metadata": {},
     "output_type": "display_data"
    }
   ],
   "source": [
    "cte = 19.0\n",
    "\n",
    "display(library_en.loc[library_en['authorcentury'] == cte].groupby('author')[['title']].count().sort_values(by='title',ascending=False).head(30)) #\n",
    "\n",
    "display(library_en.loc[library_en['authorcentury'] == cte].groupby('author')[['downloads']].sum().sort_values(by='downloads',ascending=False).head(30))\n",
    "\n",
    "\n",
    "#display(library_en.loc[(library_en['authorcentury'] == cte) & (library_en['author'] == 'Flaubert, Gustave')])\n",
    "#display(library_en.loc[(library_en['authorcentury'] == cte)])"
   ]
  },
  {
   "attachments": {},
   "cell_type": "markdown",
   "metadata": {},
   "source": [
    "using centuries and looking authors that I'm at least somewhat familiar with, I came up with a list of 36."
   ]
  },
  {
   "cell_type": "code",
   "execution_count": 24,
   "metadata": {},
   "outputs": [],
   "source": [
    "# Plato (spurious and doubtful works)\n",
    "# Shakespeare (spurious and doubtful works)\n",
    "# unknoen or not enough: -2 ce, 2ce - 11ce\n",
    "# -1 ce, only 1 book from Cato; to check how long\n",
    "select_authors = [\n",
    "    'Homer',\n",
    "    #'Confucius',\n",
    "    #'Herodotus',\n",
    "    'Plato',\n",
    "    'Seneca, Lucius Annaeus',\n",
    "    #'Marcus Aurelius, Emperor of Rome',\n",
    "    'Dante Alighieri',\n",
    "    #'Thomas, Aquinas, Saint',\n",
    "    #'Boccaccio, Giovanni',\n",
    "    #'Leonardo, da Vinci', -- only 4 books\n",
    "    #'Machiavelli, Niccolò',\n",
    "    'Shakespeare, William',\n",
    "    'Defoe, Daniel',\n",
    "    'Austen, Jane',\n",
    "    'Twain, Mark',\n",
    "    #'Dickens, Charles',\n",
    "    #'Doyle, Arthur Conan',\n",
    "    #'Dumas, Alexandre',\n",
    "    'Tolstoy, Leo, graf',\n",
    "    'Verne, Jules',\n",
    "    'Nietzsche, Friedrich Wilhelm',\n",
    "    #'Ibsen, Henrik', \n",
    "    'Poe, Edgar Allan',\n",
    "    #'Stoker, Bram',\n",
    "    #'Emerson, Ralph Waldo',\n",
    "    #'Wilde, Oscar',\n",
    "    #'Dostoyevsky, Fyodor', -- gets confused with mark twain a lot!\n",
    "    #'Fitzgerald, F. Scott (Francis Scott)',\n",
    "    #'Joyce, James',\n",
    "    'Christie, Agatha', \n",
    "    #'Kafka, Franz',\n",
    "    'Dick, Philip K.',\n",
    "    'Lovecraft, H. P. (Howard Phillips)',\n",
    "    #'Dickinson, Emily',\n",
    "    #'Hobbes, Thomas',\n",
    "    #'Melville, Herman'\n",
    "]"
   ]
  },
  {
   "cell_type": "code",
   "execution_count": 25,
   "metadata": {},
   "outputs": [],
   "source": [
    "# select_authors = library_en.groupby('author')['title'].count().sort_values(ascending=False).head(6).index.to_list()"
   ]
  },
  {
   "cell_type": "code",
   "execution_count": 26,
   "metadata": {},
   "outputs": [],
   "source": [
    "library_select = library_en[library_en['author'].isin(select_authors)]"
   ]
  },
  {
   "cell_type": "code",
   "execution_count": 27,
   "metadata": {},
   "outputs": [],
   "source": [
    "test_authors = [\n",
    "    'Homer',\n",
    "    'Confucius',\n",
    "    'Herodotus',\n",
    "    'Plato',\n",
    "    'Seneca, Lucius Annaeus',\n",
    "    'Marcus Aurelius, Emperor of Rome',\n",
    "    'Dante Alighieri',\n",
    "    'Thomas, Aquinas, Saint',\n",
    "    'Boccaccio, Giovanni',\n",
    "    'Leonardo, da Vinci',\n",
    "    'Machiavelli, Niccolò',\n",
    "    'Shakespeare, William',\n",
    "    'Defoe, Daniel',\n",
    "    'Austen, Jane',\n",
    "    'Twain, Mark',\n",
    "    'Dickens, Charles',\n",
    "    'Doyle, Arthur Conan',\n",
    "    'Dumas, Alexandre',\n",
    "    'Tolstoy, Leo, graf',\n",
    "    'Verne, Jules',\n",
    "    'Nietzsche, Friedrich Wilhelm',\n",
    "    'Ibsen, Henrik', \n",
    "    'Poe, Edgar Allan',\n",
    "    'Stoker, Bram',\n",
    "    'Emerson, Ralph Waldo',\n",
    "    'Wilde, Oscar',\n",
    "    'Dostoyevsky, Fyodor',\n",
    "    'Fitzgerald, F. Scott (Francis Scott)',\n",
    "    'Joyce, James',\n",
    "    'Christie, Agatha', \n",
    "    'Kafka, Franz',\n",
    "    'Dick, Philip K.',\n",
    "    'Lovecraft, H. P. (Howard Phillips)',\n",
    "    'Dickinson, Emily',\n",
    "    'Hobbes, Thomas',\n",
    "    'Melville, Herman'\n",
    "]"
   ]
  },
  {
   "cell_type": "code",
   "execution_count": 28,
   "metadata": {},
   "outputs": [
    {
     "data": {
      "text/html": [
       "<div>\n",
       "<style scoped>\n",
       "    .dataframe tbody tr th:only-of-type {\n",
       "        vertical-align: middle;\n",
       "    }\n",
       "\n",
       "    .dataframe tbody tr th {\n",
       "        vertical-align: top;\n",
       "    }\n",
       "\n",
       "    .dataframe thead th {\n",
       "        text-align: right;\n",
       "    }\n",
       "</style>\n",
       "<table border=\"1\" class=\"dataframe\">\n",
       "  <thead>\n",
       "    <tr style=\"text-align: right;\">\n",
       "      <th></th>\n",
       "      <th>id</th>\n",
       "      <th>title</th>\n",
       "      <th>authoryearofbirth</th>\n",
       "      <th>authoryearofdeath</th>\n",
       "      <th>language</th>\n",
       "      <th>downloads</th>\n",
       "      <th>subjects</th>\n",
       "      <th>type</th>\n",
       "      <th>authorcentury</th>\n",
       "    </tr>\n",
       "    <tr>\n",
       "      <th>author</th>\n",
       "      <th></th>\n",
       "      <th></th>\n",
       "      <th></th>\n",
       "      <th></th>\n",
       "      <th></th>\n",
       "      <th></th>\n",
       "      <th></th>\n",
       "      <th></th>\n",
       "      <th></th>\n",
       "    </tr>\n",
       "  </thead>\n",
       "  <tbody>\n",
       "    <tr>\n",
       "      <th>Austen, Jane</th>\n",
       "      <td>14</td>\n",
       "      <td>14</td>\n",
       "      <td>14</td>\n",
       "      <td>14</td>\n",
       "      <td>14</td>\n",
       "      <td>14</td>\n",
       "      <td>14</td>\n",
       "      <td>0</td>\n",
       "      <td>14</td>\n",
       "    </tr>\n",
       "    <tr>\n",
       "      <th>Boccaccio, Giovanni</th>\n",
       "      <td>6</td>\n",
       "      <td>6</td>\n",
       "      <td>6</td>\n",
       "      <td>6</td>\n",
       "      <td>6</td>\n",
       "      <td>6</td>\n",
       "      <td>6</td>\n",
       "      <td>0</td>\n",
       "      <td>6</td>\n",
       "    </tr>\n",
       "    <tr>\n",
       "      <th>Christie, Agatha</th>\n",
       "      <td>11</td>\n",
       "      <td>11</td>\n",
       "      <td>11</td>\n",
       "      <td>11</td>\n",
       "      <td>11</td>\n",
       "      <td>11</td>\n",
       "      <td>11</td>\n",
       "      <td>0</td>\n",
       "      <td>11</td>\n",
       "    </tr>\n",
       "    <tr>\n",
       "      <th>Confucius</th>\n",
       "      <td>5</td>\n",
       "      <td>5</td>\n",
       "      <td>5</td>\n",
       "      <td>5</td>\n",
       "      <td>5</td>\n",
       "      <td>5</td>\n",
       "      <td>5</td>\n",
       "      <td>0</td>\n",
       "      <td>5</td>\n",
       "    </tr>\n",
       "    <tr>\n",
       "      <th>Dante Alighieri</th>\n",
       "      <td>19</td>\n",
       "      <td>19</td>\n",
       "      <td>19</td>\n",
       "      <td>19</td>\n",
       "      <td>19</td>\n",
       "      <td>19</td>\n",
       "      <td>19</td>\n",
       "      <td>0</td>\n",
       "      <td>19</td>\n",
       "    </tr>\n",
       "    <tr>\n",
       "      <th>Defoe, Daniel</th>\n",
       "      <td>45</td>\n",
       "      <td>45</td>\n",
       "      <td>0</td>\n",
       "      <td>45</td>\n",
       "      <td>45</td>\n",
       "      <td>45</td>\n",
       "      <td>45</td>\n",
       "      <td>0</td>\n",
       "      <td>45</td>\n",
       "    </tr>\n",
       "    <tr>\n",
       "      <th>Dick, Philip K.</th>\n",
       "      <td>14</td>\n",
       "      <td>14</td>\n",
       "      <td>14</td>\n",
       "      <td>14</td>\n",
       "      <td>14</td>\n",
       "      <td>14</td>\n",
       "      <td>14</td>\n",
       "      <td>0</td>\n",
       "      <td>14</td>\n",
       "    </tr>\n",
       "    <tr>\n",
       "      <th>Dickens, Charles</th>\n",
       "      <td>86</td>\n",
       "      <td>86</td>\n",
       "      <td>86</td>\n",
       "      <td>86</td>\n",
       "      <td>86</td>\n",
       "      <td>86</td>\n",
       "      <td>86</td>\n",
       "      <td>0</td>\n",
       "      <td>86</td>\n",
       "    </tr>\n",
       "    <tr>\n",
       "      <th>Dickinson, Emily</th>\n",
       "      <td>4</td>\n",
       "      <td>4</td>\n",
       "      <td>4</td>\n",
       "      <td>4</td>\n",
       "      <td>4</td>\n",
       "      <td>4</td>\n",
       "      <td>4</td>\n",
       "      <td>0</td>\n",
       "      <td>4</td>\n",
       "    </tr>\n",
       "    <tr>\n",
       "      <th>Dostoyevsky, Fyodor</th>\n",
       "      <td>13</td>\n",
       "      <td>13</td>\n",
       "      <td>13</td>\n",
       "      <td>13</td>\n",
       "      <td>13</td>\n",
       "      <td>13</td>\n",
       "      <td>13</td>\n",
       "      <td>0</td>\n",
       "      <td>13</td>\n",
       "    </tr>\n",
       "    <tr>\n",
       "      <th>Doyle, Arthur Conan</th>\n",
       "      <td>82</td>\n",
       "      <td>82</td>\n",
       "      <td>82</td>\n",
       "      <td>82</td>\n",
       "      <td>82</td>\n",
       "      <td>82</td>\n",
       "      <td>82</td>\n",
       "      <td>0</td>\n",
       "      <td>82</td>\n",
       "    </tr>\n",
       "    <tr>\n",
       "      <th>Dumas, Alexandre</th>\n",
       "      <td>63</td>\n",
       "      <td>63</td>\n",
       "      <td>63</td>\n",
       "      <td>63</td>\n",
       "      <td>63</td>\n",
       "      <td>63</td>\n",
       "      <td>63</td>\n",
       "      <td>0</td>\n",
       "      <td>63</td>\n",
       "    </tr>\n",
       "    <tr>\n",
       "      <th>Emerson, Ralph Waldo</th>\n",
       "      <td>12</td>\n",
       "      <td>12</td>\n",
       "      <td>12</td>\n",
       "      <td>12</td>\n",
       "      <td>12</td>\n",
       "      <td>12</td>\n",
       "      <td>12</td>\n",
       "      <td>0</td>\n",
       "      <td>12</td>\n",
       "    </tr>\n",
       "    <tr>\n",
       "      <th>Fitzgerald, F. Scott (Francis Scott)</th>\n",
       "      <td>7</td>\n",
       "      <td>7</td>\n",
       "      <td>7</td>\n",
       "      <td>7</td>\n",
       "      <td>7</td>\n",
       "      <td>7</td>\n",
       "      <td>7</td>\n",
       "      <td>0</td>\n",
       "      <td>7</td>\n",
       "    </tr>\n",
       "    <tr>\n",
       "      <th>Herodotus</th>\n",
       "      <td>4</td>\n",
       "      <td>4</td>\n",
       "      <td>4</td>\n",
       "      <td>4</td>\n",
       "      <td>4</td>\n",
       "      <td>4</td>\n",
       "      <td>4</td>\n",
       "      <td>0</td>\n",
       "      <td>4</td>\n",
       "    </tr>\n",
       "    <tr>\n",
       "      <th>Hobbes, Thomas</th>\n",
       "      <td>2</td>\n",
       "      <td>2</td>\n",
       "      <td>2</td>\n",
       "      <td>2</td>\n",
       "      <td>2</td>\n",
       "      <td>2</td>\n",
       "      <td>2</td>\n",
       "      <td>0</td>\n",
       "      <td>2</td>\n",
       "    </tr>\n",
       "    <tr>\n",
       "      <th>Homer</th>\n",
       "      <td>14</td>\n",
       "      <td>14</td>\n",
       "      <td>14</td>\n",
       "      <td>14</td>\n",
       "      <td>14</td>\n",
       "      <td>14</td>\n",
       "      <td>14</td>\n",
       "      <td>0</td>\n",
       "      <td>14</td>\n",
       "    </tr>\n",
       "    <tr>\n",
       "      <th>Ibsen, Henrik</th>\n",
       "      <td>21</td>\n",
       "      <td>21</td>\n",
       "      <td>21</td>\n",
       "      <td>21</td>\n",
       "      <td>21</td>\n",
       "      <td>21</td>\n",
       "      <td>21</td>\n",
       "      <td>0</td>\n",
       "      <td>21</td>\n",
       "    </tr>\n",
       "    <tr>\n",
       "      <th>Joyce, James</th>\n",
       "      <td>6</td>\n",
       "      <td>6</td>\n",
       "      <td>6</td>\n",
       "      <td>6</td>\n",
       "      <td>6</td>\n",
       "      <td>6</td>\n",
       "      <td>6</td>\n",
       "      <td>0</td>\n",
       "      <td>6</td>\n",
       "    </tr>\n",
       "    <tr>\n",
       "      <th>Kafka, Franz</th>\n",
       "      <td>2</td>\n",
       "      <td>2</td>\n",
       "      <td>2</td>\n",
       "      <td>2</td>\n",
       "      <td>2</td>\n",
       "      <td>2</td>\n",
       "      <td>2</td>\n",
       "      <td>0</td>\n",
       "      <td>2</td>\n",
       "    </tr>\n",
       "    <tr>\n",
       "      <th>Leonardo, da Vinci</th>\n",
       "      <td>4</td>\n",
       "      <td>4</td>\n",
       "      <td>4</td>\n",
       "      <td>4</td>\n",
       "      <td>4</td>\n",
       "      <td>4</td>\n",
       "      <td>4</td>\n",
       "      <td>0</td>\n",
       "      <td>4</td>\n",
       "    </tr>\n",
       "    <tr>\n",
       "      <th>Lovecraft, H. P. (Howard Phillips)</th>\n",
       "      <td>8</td>\n",
       "      <td>8</td>\n",
       "      <td>8</td>\n",
       "      <td>8</td>\n",
       "      <td>8</td>\n",
       "      <td>8</td>\n",
       "      <td>8</td>\n",
       "      <td>0</td>\n",
       "      <td>8</td>\n",
       "    </tr>\n",
       "    <tr>\n",
       "      <th>Machiavelli, Niccolò</th>\n",
       "      <td>5</td>\n",
       "      <td>5</td>\n",
       "      <td>5</td>\n",
       "      <td>5</td>\n",
       "      <td>5</td>\n",
       "      <td>5</td>\n",
       "      <td>5</td>\n",
       "      <td>0</td>\n",
       "      <td>5</td>\n",
       "    </tr>\n",
       "    <tr>\n",
       "      <th>Marcus Aurelius, Emperor of Rome</th>\n",
       "      <td>5</td>\n",
       "      <td>5</td>\n",
       "      <td>5</td>\n",
       "      <td>5</td>\n",
       "      <td>5</td>\n",
       "      <td>5</td>\n",
       "      <td>5</td>\n",
       "      <td>0</td>\n",
       "      <td>5</td>\n",
       "    </tr>\n",
       "    <tr>\n",
       "      <th>Melville, Herman</th>\n",
       "      <td>19</td>\n",
       "      <td>19</td>\n",
       "      <td>19</td>\n",
       "      <td>19</td>\n",
       "      <td>19</td>\n",
       "      <td>19</td>\n",
       "      <td>19</td>\n",
       "      <td>0</td>\n",
       "      <td>19</td>\n",
       "    </tr>\n",
       "    <tr>\n",
       "      <th>Nietzsche, Friedrich Wilhelm</th>\n",
       "      <td>26</td>\n",
       "      <td>26</td>\n",
       "      <td>26</td>\n",
       "      <td>26</td>\n",
       "      <td>26</td>\n",
       "      <td>26</td>\n",
       "      <td>26</td>\n",
       "      <td>0</td>\n",
       "      <td>26</td>\n",
       "    </tr>\n",
       "    <tr>\n",
       "      <th>Plato</th>\n",
       "      <td>29</td>\n",
       "      <td>29</td>\n",
       "      <td>29</td>\n",
       "      <td>29</td>\n",
       "      <td>29</td>\n",
       "      <td>29</td>\n",
       "      <td>29</td>\n",
       "      <td>0</td>\n",
       "      <td>29</td>\n",
       "    </tr>\n",
       "    <tr>\n",
       "      <th>Poe, Edgar Allan</th>\n",
       "      <td>19</td>\n",
       "      <td>19</td>\n",
       "      <td>19</td>\n",
       "      <td>19</td>\n",
       "      <td>19</td>\n",
       "      <td>19</td>\n",
       "      <td>19</td>\n",
       "      <td>0</td>\n",
       "      <td>19</td>\n",
       "    </tr>\n",
       "    <tr>\n",
       "      <th>Seneca, Lucius Annaeus</th>\n",
       "      <td>7</td>\n",
       "      <td>7</td>\n",
       "      <td>0</td>\n",
       "      <td>7</td>\n",
       "      <td>7</td>\n",
       "      <td>7</td>\n",
       "      <td>7</td>\n",
       "      <td>0</td>\n",
       "      <td>7</td>\n",
       "    </tr>\n",
       "    <tr>\n",
       "      <th>Shakespeare, William</th>\n",
       "      <td>178</td>\n",
       "      <td>178</td>\n",
       "      <td>178</td>\n",
       "      <td>178</td>\n",
       "      <td>178</td>\n",
       "      <td>178</td>\n",
       "      <td>178</td>\n",
       "      <td>0</td>\n",
       "      <td>178</td>\n",
       "    </tr>\n",
       "    <tr>\n",
       "      <th>Stoker, Bram</th>\n",
       "      <td>13</td>\n",
       "      <td>13</td>\n",
       "      <td>13</td>\n",
       "      <td>13</td>\n",
       "      <td>13</td>\n",
       "      <td>13</td>\n",
       "      <td>13</td>\n",
       "      <td>0</td>\n",
       "      <td>13</td>\n",
       "    </tr>\n",
       "    <tr>\n",
       "      <th>Thomas, Aquinas, Saint</th>\n",
       "      <td>5</td>\n",
       "      <td>5</td>\n",
       "      <td>0</td>\n",
       "      <td>5</td>\n",
       "      <td>5</td>\n",
       "      <td>5</td>\n",
       "      <td>5</td>\n",
       "      <td>0</td>\n",
       "      <td>5</td>\n",
       "    </tr>\n",
       "    <tr>\n",
       "      <th>Tolstoy, Leo, graf</th>\n",
       "      <td>46</td>\n",
       "      <td>46</td>\n",
       "      <td>46</td>\n",
       "      <td>46</td>\n",
       "      <td>46</td>\n",
       "      <td>46</td>\n",
       "      <td>46</td>\n",
       "      <td>0</td>\n",
       "      <td>46</td>\n",
       "    </tr>\n",
       "    <tr>\n",
       "      <th>Twain, Mark</th>\n",
       "      <td>128</td>\n",
       "      <td>128</td>\n",
       "      <td>128</td>\n",
       "      <td>128</td>\n",
       "      <td>128</td>\n",
       "      <td>128</td>\n",
       "      <td>128</td>\n",
       "      <td>0</td>\n",
       "      <td>128</td>\n",
       "    </tr>\n",
       "    <tr>\n",
       "      <th>Verne, Jules</th>\n",
       "      <td>46</td>\n",
       "      <td>46</td>\n",
       "      <td>46</td>\n",
       "      <td>46</td>\n",
       "      <td>46</td>\n",
       "      <td>46</td>\n",
       "      <td>46</td>\n",
       "      <td>0</td>\n",
       "      <td>46</td>\n",
       "    </tr>\n",
       "    <tr>\n",
       "      <th>Wilde, Oscar</th>\n",
       "      <td>33</td>\n",
       "      <td>33</td>\n",
       "      <td>33</td>\n",
       "      <td>33</td>\n",
       "      <td>33</td>\n",
       "      <td>33</td>\n",
       "      <td>33</td>\n",
       "      <td>0</td>\n",
       "      <td>33</td>\n",
       "    </tr>\n",
       "  </tbody>\n",
       "</table>\n",
       "</div>"
      ],
      "text/plain": [
       "                                       id  title  authoryearofbirth  \\\n",
       "author                                                                \n",
       "Austen, Jane                           14     14                 14   \n",
       "Boccaccio, Giovanni                     6      6                  6   \n",
       "Christie, Agatha                       11     11                 11   \n",
       "Confucius                               5      5                  5   \n",
       "Dante Alighieri                        19     19                 19   \n",
       "Defoe, Daniel                          45     45                  0   \n",
       "Dick, Philip K.                        14     14                 14   \n",
       "Dickens, Charles                       86     86                 86   \n",
       "Dickinson, Emily                        4      4                  4   \n",
       "Dostoyevsky, Fyodor                    13     13                 13   \n",
       "Doyle, Arthur Conan                    82     82                 82   \n",
       "Dumas, Alexandre                       63     63                 63   \n",
       "Emerson, Ralph Waldo                   12     12                 12   \n",
       "Fitzgerald, F. Scott (Francis Scott)    7      7                  7   \n",
       "Herodotus                               4      4                  4   \n",
       "Hobbes, Thomas                          2      2                  2   \n",
       "Homer                                  14     14                 14   \n",
       "Ibsen, Henrik                          21     21                 21   \n",
       "Joyce, James                            6      6                  6   \n",
       "Kafka, Franz                            2      2                  2   \n",
       "Leonardo, da Vinci                      4      4                  4   \n",
       "Lovecraft, H. P. (Howard Phillips)      8      8                  8   \n",
       "Machiavelli, Niccolò                    5      5                  5   \n",
       "Marcus Aurelius, Emperor of Rome        5      5                  5   \n",
       "Melville, Herman                       19     19                 19   \n",
       "Nietzsche, Friedrich Wilhelm           26     26                 26   \n",
       "Plato                                  29     29                 29   \n",
       "Poe, Edgar Allan                       19     19                 19   \n",
       "Seneca, Lucius Annaeus                  7      7                  0   \n",
       "Shakespeare, William                  178    178                178   \n",
       "Stoker, Bram                           13     13                 13   \n",
       "Thomas, Aquinas, Saint                  5      5                  0   \n",
       "Tolstoy, Leo, graf                     46     46                 46   \n",
       "Twain, Mark                           128    128                128   \n",
       "Verne, Jules                           46     46                 46   \n",
       "Wilde, Oscar                           33     33                 33   \n",
       "\n",
       "                                      authoryearofdeath  language  downloads  \\\n",
       "author                                                                         \n",
       "Austen, Jane                                         14        14         14   \n",
       "Boccaccio, Giovanni                                   6         6          6   \n",
       "Christie, Agatha                                     11        11         11   \n",
       "Confucius                                             5         5          5   \n",
       "Dante Alighieri                                      19        19         19   \n",
       "Defoe, Daniel                                        45        45         45   \n",
       "Dick, Philip K.                                      14        14         14   \n",
       "Dickens, Charles                                     86        86         86   \n",
       "Dickinson, Emily                                      4         4          4   \n",
       "Dostoyevsky, Fyodor                                  13        13         13   \n",
       "Doyle, Arthur Conan                                  82        82         82   \n",
       "Dumas, Alexandre                                     63        63         63   \n",
       "Emerson, Ralph Waldo                                 12        12         12   \n",
       "Fitzgerald, F. Scott (Francis Scott)                  7         7          7   \n",
       "Herodotus                                             4         4          4   \n",
       "Hobbes, Thomas                                        2         2          2   \n",
       "Homer                                                14        14         14   \n",
       "Ibsen, Henrik                                        21        21         21   \n",
       "Joyce, James                                          6         6          6   \n",
       "Kafka, Franz                                          2         2          2   \n",
       "Leonardo, da Vinci                                    4         4          4   \n",
       "Lovecraft, H. P. (Howard Phillips)                    8         8          8   \n",
       "Machiavelli, Niccolò                                  5         5          5   \n",
       "Marcus Aurelius, Emperor of Rome                      5         5          5   \n",
       "Melville, Herman                                     19        19         19   \n",
       "Nietzsche, Friedrich Wilhelm                         26        26         26   \n",
       "Plato                                                29        29         29   \n",
       "Poe, Edgar Allan                                     19        19         19   \n",
       "Seneca, Lucius Annaeus                                7         7          7   \n",
       "Shakespeare, William                                178       178        178   \n",
       "Stoker, Bram                                         13        13         13   \n",
       "Thomas, Aquinas, Saint                                5         5          5   \n",
       "Tolstoy, Leo, graf                                   46        46         46   \n",
       "Twain, Mark                                         128       128        128   \n",
       "Verne, Jules                                         46        46         46   \n",
       "Wilde, Oscar                                         33        33         33   \n",
       "\n",
       "                                      subjects  type  authorcentury  \n",
       "author                                                               \n",
       "Austen, Jane                                14     0             14  \n",
       "Boccaccio, Giovanni                          6     0              6  \n",
       "Christie, Agatha                            11     0             11  \n",
       "Confucius                                    5     0              5  \n",
       "Dante Alighieri                             19     0             19  \n",
       "Defoe, Daniel                               45     0             45  \n",
       "Dick, Philip K.                             14     0             14  \n",
       "Dickens, Charles                            86     0             86  \n",
       "Dickinson, Emily                             4     0              4  \n",
       "Dostoyevsky, Fyodor                         13     0             13  \n",
       "Doyle, Arthur Conan                         82     0             82  \n",
       "Dumas, Alexandre                            63     0             63  \n",
       "Emerson, Ralph Waldo                        12     0             12  \n",
       "Fitzgerald, F. Scott (Francis Scott)         7     0              7  \n",
       "Herodotus                                    4     0              4  \n",
       "Hobbes, Thomas                               2     0              2  \n",
       "Homer                                       14     0             14  \n",
       "Ibsen, Henrik                               21     0             21  \n",
       "Joyce, James                                 6     0              6  \n",
       "Kafka, Franz                                 2     0              2  \n",
       "Leonardo, da Vinci                           4     0              4  \n",
       "Lovecraft, H. P. (Howard Phillips)           8     0              8  \n",
       "Machiavelli, Niccolò                         5     0              5  \n",
       "Marcus Aurelius, Emperor of Rome             5     0              5  \n",
       "Melville, Herman                            19     0             19  \n",
       "Nietzsche, Friedrich Wilhelm                26     0             26  \n",
       "Plato                                       29     0             29  \n",
       "Poe, Edgar Allan                            19     0             19  \n",
       "Seneca, Lucius Annaeus                       7     0              7  \n",
       "Shakespeare, William                       178     0            178  \n",
       "Stoker, Bram                                13     0             13  \n",
       "Thomas, Aquinas, Saint                       5     0              5  \n",
       "Tolstoy, Leo, graf                          46     0             46  \n",
       "Twain, Mark                                128     0            128  \n",
       "Verne, Jules                                46     0             46  \n",
       "Wilde, Oscar                                33     0             33  "
      ]
     },
     "execution_count": 28,
     "metadata": {},
     "output_type": "execute_result"
    }
   ],
   "source": [
    "library_en[library_en['author'].isin(test_authors)].groupby('author').count()"
   ]
  },
  {
   "attachments": {},
   "cell_type": "markdown",
   "metadata": {},
   "source": [
    "## Reading and Tokenizing Books\n",
    "\n",
    "Code to read in the actual texts, clean them (using TFIDF tokenizer) and a quick LogReg for reference."
   ]
  },
  {
   "attachments": {},
   "cell_type": "markdown",
   "metadata": {},
   "source": [
    "Function that opens files and extracts the text (leaving the Gutenberg info at top and bottom out)."
   ]
  },
  {
   "cell_type": "code",
   "execution_count": 29,
   "metadata": {},
   "outputs": [],
   "source": [
    "def import_book(filepath):\n",
    "    \n",
    "    try:\n",
    "        with open(filepath, encoding = 'utf-8') as fi:\n",
    "            book = fi.read()\n",
    "\n",
    "    except:\n",
    "        # note: when using this, the weird characters, such as ì get left out!\n",
    "        with open(filepath, encoding = 'unicode_escape') as fi:\n",
    "            book = fi.read()\n",
    "\n",
    "    if(not re.search('\\*\\*\\* START OF .+? \\*\\*\\*', book)):\n",
    "        book_start = 0\n",
    "    else:\n",
    "        book_start = re.search('\\*\\*\\* START OF .+? \\*\\*\\*', book).end()\n",
    "\n",
    "    if(not re.search('\\*\\*\\* END OF .+? \\*\\*\\*', book)):\n",
    "        book_end = -1\n",
    "    else:\n",
    "        book_end = re.search('\\*\\*\\* END OF .+? \\*\\*\\*', book).start()\n",
    "\n",
    "    book = book[book_start : book_end]\n",
    "\n",
    "    return book"
   ]
  },
  {
   "attachments": {},
   "cell_type": "markdown",
   "metadata": {},
   "source": [
    "Process the selected authors books:"
   ]
  },
  {
   "cell_type": "code",
   "execution_count": 30,
   "metadata": {},
   "outputs": [
    {
     "name": "stderr",
     "output_type": "stream",
     "text": [
      "/var/folders/3t/x8rz35tn765cm0bkf_n4ydlh0000gn/T/ipykernel_81704/3256863269.py:8: SettingWithCopyWarning: \n",
      "A value is trying to be set on a copy of a slice from a DataFrame.\n",
      "Try using .loc[row_indexer,col_indexer] = value instead\n",
      "\n",
      "See the caveats in the documentation: https://pandas.pydata.org/pandas-docs/stable/user_guide/indexing.html#returning-a-view-versus-a-copy\n",
      "  library_select.loc[library_select['id'] == book_id, 'book_content'] = book\n"
     ]
    }
   ],
   "source": [
    "for book_id in library_select['id']:\n",
    "    \n",
    "    filepath = f'../data/raw/{book_id}_raw.txt'\n",
    "\n",
    "    try:\n",
    "        book = import_book(filepath)\n",
    "\n",
    "        library_select.loc[library_select['id'] == book_id, 'book_content'] = book\n",
    "        \n",
    "    except:\n",
    "        print('could not open', filepath)\n",
    "\n",
    "        library_select.loc[library_select['id'] == book_id, 'book_content'] = 'could not open'\n",
    "\n",
    "    "
   ]
  },
  {
   "cell_type": "code",
   "execution_count": 31,
   "metadata": {},
   "outputs": [],
   "source": [
    "# there are some books who had weird characters and were not able to open\n",
    "library_unopened_books = library_select.loc[library_select['book_content'] == 'could not open']\n",
    "\n",
    "library_select = library_select.loc[library_select['book_content'] != 'could not open']"
   ]
  },
  {
   "cell_type": "code",
   "execution_count": 32,
   "metadata": {},
   "outputs": [],
   "source": [
    "# to see more in a column of df\n",
    "# pd.set_option('display.max_colwidth', 50) #set it to None to display all"
   ]
  },
  {
   "cell_type": "code",
   "execution_count": 33,
   "metadata": {},
   "outputs": [],
   "source": [
    "authors_to_num = {select_authors[i]: i for i in range(len(select_authors))}\n",
    "\n",
    "library_select = library_select.replace({'author': authors_to_num})\n",
    "\n",
    "# to invert the above\n",
    "num_to_authors = {v: k for k, v in authors_to_num.items()}"
   ]
  },
  {
   "cell_type": "code",
   "execution_count": 34,
   "metadata": {},
   "outputs": [
    {
     "data": {
      "text/plain": [
       "{'Homer': 0,\n",
       " 'Plato': 1,\n",
       " 'Seneca, Lucius Annaeus': 2,\n",
       " 'Dante Alighieri': 3,\n",
       " 'Shakespeare, William': 4,\n",
       " 'Defoe, Daniel': 5,\n",
       " 'Austen, Jane': 6,\n",
       " 'Twain, Mark': 7,\n",
       " 'Tolstoy, Leo, graf': 8,\n",
       " 'Verne, Jules': 9,\n",
       " 'Nietzsche, Friedrich Wilhelm': 10,\n",
       " 'Poe, Edgar Allan': 11,\n",
       " 'Christie, Agatha': 12,\n",
       " 'Dick, Philip K.': 13,\n",
       " 'Lovecraft, H. P. (Howard Phillips)': 14}"
      ]
     },
     "execution_count": 34,
     "metadata": {},
     "output_type": "execute_result"
    }
   ],
   "source": [
    "authors_to_num"
   ]
  },
  {
   "cell_type": "code",
   "execution_count": 35,
   "metadata": {},
   "outputs": [],
   "source": [
    "X = library_select[['book_content']]\n",
    "y = library_select['author']\n",
    "\n",
    "X_train, X_test, y_train, y_test = train_test_split(X, y, random_state = 321, stratify = y)"
   ]
  },
  {
   "cell_type": "code",
   "execution_count": 36,
   "metadata": {},
   "outputs": [
    {
     "name": "stdout",
     "output_type": "stream",
     "text": [
      "(453, 1)\n",
      "(151, 1)\n"
     ]
    }
   ],
   "source": [
    "print(X_train.shape)\n",
    "\n",
    "print(X_test.shape)"
   ]
  },
  {
   "cell_type": "code",
   "execution_count": 37,
   "metadata": {},
   "outputs": [],
   "source": [
    "pipe_logreg = Pipeline(\n",
    "    steps = [\n",
    "        ('vect', TfidfVectorizer(min_df=2, max_df=0.8, ngram_range=(1,2))),\n",
    "        ('logreg', LogisticRegression(max_iter = 10000))\n",
    "    ]\n",
    ")"
   ]
  },
  {
   "cell_type": "code",
   "execution_count": 38,
   "metadata": {},
   "outputs": [
    {
     "name": "stdout",
     "output_type": "stream",
     "text": [
      "accuracy score: 0.8013245033112583 \n",
      "\n",
      "---- confusion matrix ------\n",
      "[[ 2  0  0  0  1  0  0  0  0  0  0  0  0  0  0]\n",
      " [ 0  6  0  0  0  0  0  1  0  0  0  0  0  0  0]\n",
      " [ 0  0  0  0  0  1  0  1  0  0  0  0  0  0  0]\n",
      " [ 0  0  0  5  0  0  0  0  0  0  0  0  0  0  0]\n",
      " [ 0  0  0  0 45  0  0  0  0  0  0  0  0  0  0]\n",
      " [ 0  0  0  0  2  9  0  0  0  0  0  0  0  0  0]\n",
      " [ 0  0  0  0  0  0  0  4  0  0  0  0  0  0  0]\n",
      " [ 0  0  0  0  0  0  0 32  0  0  0  0  0  0  0]\n",
      " [ 0  0  0  0  0  0  0  6  5  0  0  0  0  0  0]\n",
      " [ 0  0  0  0  0  0  0  4  0  8  0  0  0  0  0]\n",
      " [ 0  0  0  0  1  0  0  0  0  0  5  0  0  0  0]\n",
      " [ 0  0  0  0  3  0  0  0  0  1  0  1  0  0  0]\n",
      " [ 0  0  0  0  0  0  0  0  0  0  0  0  3  0  0]\n",
      " [ 0  0  0  0  0  0  0  3  0  0  0  0  0  0  0]\n",
      " [ 0  0  0  0  0  0  0  2  0  0  0  0  0  0  0]] \n",
      "\n",
      "-------- classification report ---------\n",
      "              precision    recall  f1-score   support\n",
      "\n",
      "           0       1.00      0.67      0.80         3\n",
      "           1       1.00      0.86      0.92         7\n",
      "           2       0.00      0.00      0.00         2\n",
      "           3       1.00      1.00      1.00         5\n",
      "           4       0.87      1.00      0.93        45\n",
      "           5       0.90      0.82      0.86        11\n",
      "           6       0.00      0.00      0.00         4\n",
      "           7       0.60      1.00      0.75        32\n",
      "           8       1.00      0.45      0.62        11\n",
      "           9       0.89      0.67      0.76        12\n",
      "          10       1.00      0.83      0.91         6\n",
      "          11       1.00      0.20      0.33         5\n",
      "          12       1.00      1.00      1.00         3\n",
      "          13       0.00      0.00      0.00         3\n",
      "          14       0.00      0.00      0.00         2\n",
      "\n",
      "    accuracy                           0.80       151\n",
      "   macro avg       0.68      0.57      0.59       151\n",
      "weighted avg       0.79      0.80      0.76       151\n",
      "\n"
     ]
    },
    {
     "name": "stderr",
     "output_type": "stream",
     "text": [
      "/Users/tomoumer/opt/anaconda3/lib/python3.9/site-packages/sklearn/metrics/_classification.py:1344: UndefinedMetricWarning: Precision and F-score are ill-defined and being set to 0.0 in labels with no predicted samples. Use `zero_division` parameter to control this behavior.\n",
      "  _warn_prf(average, modifier, msg_start, len(result))\n",
      "/Users/tomoumer/opt/anaconda3/lib/python3.9/site-packages/sklearn/metrics/_classification.py:1344: UndefinedMetricWarning: Precision and F-score are ill-defined and being set to 0.0 in labels with no predicted samples. Use `zero_division` parameter to control this behavior.\n",
      "  _warn_prf(average, modifier, msg_start, len(result))\n",
      "/Users/tomoumer/opt/anaconda3/lib/python3.9/site-packages/sklearn/metrics/_classification.py:1344: UndefinedMetricWarning: Precision and F-score are ill-defined and being set to 0.0 in labels with no predicted samples. Use `zero_division` parameter to control this behavior.\n",
      "  _warn_prf(average, modifier, msg_start, len(result))\n"
     ]
    }
   ],
   "source": [
    "pipe_logreg.fit(X_train['book_content'], y_train)\n",
    "y_pred = pipe_logreg.predict(X_test['book_content'])\n",
    "\n",
    "print('accuracy score:', accuracy_score(y_test, y_pred), '\\n')\n",
    "print('---- confusion matrix ------')\n",
    "print(confusion_matrix(y_test, y_pred), '\\n')\n",
    "print('-------- classification report ---------')\n",
    "print(classification_report(y_test, y_pred))"
   ]
  },
  {
   "cell_type": "code",
   "execution_count": 39,
   "metadata": {},
   "outputs": [
    {
     "data": {
      "application/vnd.plotly.v1+json": {
       "config": {
        "plotlyServerURL": "https://plot.ly"
       },
       "data": [
        {
         "coloraxis": "coloraxis",
         "hovertemplate": "Predicted Label: %{x}<br>True Label: %{y}<br>color: %{z}<extra></extra>",
         "name": "0",
         "texttemplate": "%{z}",
         "type": "heatmap",
         "x": [
          "Homer",
          "Plato",
          "Seneca, Lucius Annaeus",
          "Dante Alighieri",
          "Shakespeare, William",
          "Defoe, Daniel",
          "Austen, Jane",
          "Twain, Mark",
          "Tolstoy, Leo, graf",
          "Verne, Jules",
          "Nietzsche, Friedrich Wilhelm",
          "Poe, Edgar Allan",
          "Christie, Agatha",
          "Dick, Philip K.",
          "Lovecraft, H. P. (Howard Phillips)"
         ],
         "xaxis": "x",
         "y": [
          "Homer",
          "Plato",
          "Seneca, Lucius Annaeus",
          "Dante Alighieri",
          "Shakespeare, William",
          "Defoe, Daniel",
          "Austen, Jane",
          "Twain, Mark",
          "Tolstoy, Leo, graf",
          "Verne, Jules",
          "Nietzsche, Friedrich Wilhelm",
          "Poe, Edgar Allan",
          "Christie, Agatha",
          "Dick, Philip K.",
          "Lovecraft, H. P. (Howard Phillips)"
         ],
         "yaxis": "y",
         "z": [
          [
           2,
           0,
           0,
           0,
           1,
           0,
           0,
           0,
           0,
           0,
           0,
           0,
           0,
           0,
           0
          ],
          [
           0,
           6,
           0,
           0,
           0,
           0,
           0,
           1,
           0,
           0,
           0,
           0,
           0,
           0,
           0
          ],
          [
           0,
           0,
           0,
           0,
           0,
           1,
           0,
           1,
           0,
           0,
           0,
           0,
           0,
           0,
           0
          ],
          [
           0,
           0,
           0,
           5,
           0,
           0,
           0,
           0,
           0,
           0,
           0,
           0,
           0,
           0,
           0
          ],
          [
           0,
           0,
           0,
           0,
           45,
           0,
           0,
           0,
           0,
           0,
           0,
           0,
           0,
           0,
           0
          ],
          [
           0,
           0,
           0,
           0,
           2,
           9,
           0,
           0,
           0,
           0,
           0,
           0,
           0,
           0,
           0
          ],
          [
           0,
           0,
           0,
           0,
           0,
           0,
           0,
           4,
           0,
           0,
           0,
           0,
           0,
           0,
           0
          ],
          [
           0,
           0,
           0,
           0,
           0,
           0,
           0,
           32,
           0,
           0,
           0,
           0,
           0,
           0,
           0
          ],
          [
           0,
           0,
           0,
           0,
           0,
           0,
           0,
           6,
           5,
           0,
           0,
           0,
           0,
           0,
           0
          ],
          [
           0,
           0,
           0,
           0,
           0,
           0,
           0,
           4,
           0,
           8,
           0,
           0,
           0,
           0,
           0
          ],
          [
           0,
           0,
           0,
           0,
           1,
           0,
           0,
           0,
           0,
           0,
           5,
           0,
           0,
           0,
           0
          ],
          [
           0,
           0,
           0,
           0,
           3,
           0,
           0,
           0,
           0,
           1,
           0,
           1,
           0,
           0,
           0
          ],
          [
           0,
           0,
           0,
           0,
           0,
           0,
           0,
           0,
           0,
           0,
           0,
           0,
           3,
           0,
           0
          ],
          [
           0,
           0,
           0,
           0,
           0,
           0,
           0,
           3,
           0,
           0,
           0,
           0,
           0,
           0,
           0
          ],
          [
           0,
           0,
           0,
           0,
           0,
           0,
           0,
           2,
           0,
           0,
           0,
           0,
           0,
           0,
           0
          ]
         ]
        }
       ],
       "layout": {
        "coloraxis": {
         "colorscale": [
          [
           0,
           "rgb(209, 238, 234)"
          ],
          [
           0.16666666666666666,
           "rgb(168, 219, 217)"
          ],
          [
           0.3333333333333333,
           "rgb(133, 196, 201)"
          ],
          [
           0.5,
           "rgb(104, 171, 184)"
          ],
          [
           0.6666666666666666,
           "rgb(79, 144, 166)"
          ],
          [
           0.8333333333333334,
           "rgb(59, 115, 143)"
          ],
          [
           1,
           "rgb(42, 86, 116)"
          ]
         ],
         "showscale": false
        },
        "height": 800,
        "margin": {
         "t": 60
        },
        "template": {
         "data": {
          "bar": [
           {
            "error_x": {
             "color": "#2a3f5f"
            },
            "error_y": {
             "color": "#2a3f5f"
            },
            "marker": {
             "line": {
              "color": "#E5ECF6",
              "width": 0.5
             },
             "pattern": {
              "fillmode": "overlay",
              "size": 10,
              "solidity": 0.2
             }
            },
            "type": "bar"
           }
          ],
          "barpolar": [
           {
            "marker": {
             "line": {
              "color": "#E5ECF6",
              "width": 0.5
             },
             "pattern": {
              "fillmode": "overlay",
              "size": 10,
              "solidity": 0.2
             }
            },
            "type": "barpolar"
           }
          ],
          "carpet": [
           {
            "aaxis": {
             "endlinecolor": "#2a3f5f",
             "gridcolor": "white",
             "linecolor": "white",
             "minorgridcolor": "white",
             "startlinecolor": "#2a3f5f"
            },
            "baxis": {
             "endlinecolor": "#2a3f5f",
             "gridcolor": "white",
             "linecolor": "white",
             "minorgridcolor": "white",
             "startlinecolor": "#2a3f5f"
            },
            "type": "carpet"
           }
          ],
          "choropleth": [
           {
            "colorbar": {
             "outlinewidth": 0,
             "ticks": ""
            },
            "type": "choropleth"
           }
          ],
          "contour": [
           {
            "colorbar": {
             "outlinewidth": 0,
             "ticks": ""
            },
            "colorscale": [
             [
              0,
              "#0d0887"
             ],
             [
              0.1111111111111111,
              "#46039f"
             ],
             [
              0.2222222222222222,
              "#7201a8"
             ],
             [
              0.3333333333333333,
              "#9c179e"
             ],
             [
              0.4444444444444444,
              "#bd3786"
             ],
             [
              0.5555555555555556,
              "#d8576b"
             ],
             [
              0.6666666666666666,
              "#ed7953"
             ],
             [
              0.7777777777777778,
              "#fb9f3a"
             ],
             [
              0.8888888888888888,
              "#fdca26"
             ],
             [
              1,
              "#f0f921"
             ]
            ],
            "type": "contour"
           }
          ],
          "contourcarpet": [
           {
            "colorbar": {
             "outlinewidth": 0,
             "ticks": ""
            },
            "type": "contourcarpet"
           }
          ],
          "heatmap": [
           {
            "colorbar": {
             "outlinewidth": 0,
             "ticks": ""
            },
            "colorscale": [
             [
              0,
              "#0d0887"
             ],
             [
              0.1111111111111111,
              "#46039f"
             ],
             [
              0.2222222222222222,
              "#7201a8"
             ],
             [
              0.3333333333333333,
              "#9c179e"
             ],
             [
              0.4444444444444444,
              "#bd3786"
             ],
             [
              0.5555555555555556,
              "#d8576b"
             ],
             [
              0.6666666666666666,
              "#ed7953"
             ],
             [
              0.7777777777777778,
              "#fb9f3a"
             ],
             [
              0.8888888888888888,
              "#fdca26"
             ],
             [
              1,
              "#f0f921"
             ]
            ],
            "type": "heatmap"
           }
          ],
          "heatmapgl": [
           {
            "colorbar": {
             "outlinewidth": 0,
             "ticks": ""
            },
            "colorscale": [
             [
              0,
              "#0d0887"
             ],
             [
              0.1111111111111111,
              "#46039f"
             ],
             [
              0.2222222222222222,
              "#7201a8"
             ],
             [
              0.3333333333333333,
              "#9c179e"
             ],
             [
              0.4444444444444444,
              "#bd3786"
             ],
             [
              0.5555555555555556,
              "#d8576b"
             ],
             [
              0.6666666666666666,
              "#ed7953"
             ],
             [
              0.7777777777777778,
              "#fb9f3a"
             ],
             [
              0.8888888888888888,
              "#fdca26"
             ],
             [
              1,
              "#f0f921"
             ]
            ],
            "type": "heatmapgl"
           }
          ],
          "histogram": [
           {
            "marker": {
             "pattern": {
              "fillmode": "overlay",
              "size": 10,
              "solidity": 0.2
             }
            },
            "type": "histogram"
           }
          ],
          "histogram2d": [
           {
            "colorbar": {
             "outlinewidth": 0,
             "ticks": ""
            },
            "colorscale": [
             [
              0,
              "#0d0887"
             ],
             [
              0.1111111111111111,
              "#46039f"
             ],
             [
              0.2222222222222222,
              "#7201a8"
             ],
             [
              0.3333333333333333,
              "#9c179e"
             ],
             [
              0.4444444444444444,
              "#bd3786"
             ],
             [
              0.5555555555555556,
              "#d8576b"
             ],
             [
              0.6666666666666666,
              "#ed7953"
             ],
             [
              0.7777777777777778,
              "#fb9f3a"
             ],
             [
              0.8888888888888888,
              "#fdca26"
             ],
             [
              1,
              "#f0f921"
             ]
            ],
            "type": "histogram2d"
           }
          ],
          "histogram2dcontour": [
           {
            "colorbar": {
             "outlinewidth": 0,
             "ticks": ""
            },
            "colorscale": [
             [
              0,
              "#0d0887"
             ],
             [
              0.1111111111111111,
              "#46039f"
             ],
             [
              0.2222222222222222,
              "#7201a8"
             ],
             [
              0.3333333333333333,
              "#9c179e"
             ],
             [
              0.4444444444444444,
              "#bd3786"
             ],
             [
              0.5555555555555556,
              "#d8576b"
             ],
             [
              0.6666666666666666,
              "#ed7953"
             ],
             [
              0.7777777777777778,
              "#fb9f3a"
             ],
             [
              0.8888888888888888,
              "#fdca26"
             ],
             [
              1,
              "#f0f921"
             ]
            ],
            "type": "histogram2dcontour"
           }
          ],
          "mesh3d": [
           {
            "colorbar": {
             "outlinewidth": 0,
             "ticks": ""
            },
            "type": "mesh3d"
           }
          ],
          "parcoords": [
           {
            "line": {
             "colorbar": {
              "outlinewidth": 0,
              "ticks": ""
             }
            },
            "type": "parcoords"
           }
          ],
          "pie": [
           {
            "automargin": true,
            "type": "pie"
           }
          ],
          "scatter": [
           {
            "fillpattern": {
             "fillmode": "overlay",
             "size": 10,
             "solidity": 0.2
            },
            "type": "scatter"
           }
          ],
          "scatter3d": [
           {
            "line": {
             "colorbar": {
              "outlinewidth": 0,
              "ticks": ""
             }
            },
            "marker": {
             "colorbar": {
              "outlinewidth": 0,
              "ticks": ""
             }
            },
            "type": "scatter3d"
           }
          ],
          "scattercarpet": [
           {
            "marker": {
             "colorbar": {
              "outlinewidth": 0,
              "ticks": ""
             }
            },
            "type": "scattercarpet"
           }
          ],
          "scattergeo": [
           {
            "marker": {
             "colorbar": {
              "outlinewidth": 0,
              "ticks": ""
             }
            },
            "type": "scattergeo"
           }
          ],
          "scattergl": [
           {
            "marker": {
             "colorbar": {
              "outlinewidth": 0,
              "ticks": ""
             }
            },
            "type": "scattergl"
           }
          ],
          "scattermapbox": [
           {
            "marker": {
             "colorbar": {
              "outlinewidth": 0,
              "ticks": ""
             }
            },
            "type": "scattermapbox"
           }
          ],
          "scatterpolar": [
           {
            "marker": {
             "colorbar": {
              "outlinewidth": 0,
              "ticks": ""
             }
            },
            "type": "scatterpolar"
           }
          ],
          "scatterpolargl": [
           {
            "marker": {
             "colorbar": {
              "outlinewidth": 0,
              "ticks": ""
             }
            },
            "type": "scatterpolargl"
           }
          ],
          "scatterternary": [
           {
            "marker": {
             "colorbar": {
              "outlinewidth": 0,
              "ticks": ""
             }
            },
            "type": "scatterternary"
           }
          ],
          "surface": [
           {
            "colorbar": {
             "outlinewidth": 0,
             "ticks": ""
            },
            "colorscale": [
             [
              0,
              "#0d0887"
             ],
             [
              0.1111111111111111,
              "#46039f"
             ],
             [
              0.2222222222222222,
              "#7201a8"
             ],
             [
              0.3333333333333333,
              "#9c179e"
             ],
             [
              0.4444444444444444,
              "#bd3786"
             ],
             [
              0.5555555555555556,
              "#d8576b"
             ],
             [
              0.6666666666666666,
              "#ed7953"
             ],
             [
              0.7777777777777778,
              "#fb9f3a"
             ],
             [
              0.8888888888888888,
              "#fdca26"
             ],
             [
              1,
              "#f0f921"
             ]
            ],
            "type": "surface"
           }
          ],
          "table": [
           {
            "cells": {
             "fill": {
              "color": "#EBF0F8"
             },
             "line": {
              "color": "white"
             }
            },
            "header": {
             "fill": {
              "color": "#C8D4E3"
             },
             "line": {
              "color": "white"
             }
            },
            "type": "table"
           }
          ]
         },
         "layout": {
          "annotationdefaults": {
           "arrowcolor": "#2a3f5f",
           "arrowhead": 0,
           "arrowwidth": 1
          },
          "autotypenumbers": "strict",
          "coloraxis": {
           "colorbar": {
            "outlinewidth": 0,
            "ticks": ""
           }
          },
          "colorscale": {
           "diverging": [
            [
             0,
             "#8e0152"
            ],
            [
             0.1,
             "#c51b7d"
            ],
            [
             0.2,
             "#de77ae"
            ],
            [
             0.3,
             "#f1b6da"
            ],
            [
             0.4,
             "#fde0ef"
            ],
            [
             0.5,
             "#f7f7f7"
            ],
            [
             0.6,
             "#e6f5d0"
            ],
            [
             0.7,
             "#b8e186"
            ],
            [
             0.8,
             "#7fbc41"
            ],
            [
             0.9,
             "#4d9221"
            ],
            [
             1,
             "#276419"
            ]
           ],
           "sequential": [
            [
             0,
             "#0d0887"
            ],
            [
             0.1111111111111111,
             "#46039f"
            ],
            [
             0.2222222222222222,
             "#7201a8"
            ],
            [
             0.3333333333333333,
             "#9c179e"
            ],
            [
             0.4444444444444444,
             "#bd3786"
            ],
            [
             0.5555555555555556,
             "#d8576b"
            ],
            [
             0.6666666666666666,
             "#ed7953"
            ],
            [
             0.7777777777777778,
             "#fb9f3a"
            ],
            [
             0.8888888888888888,
             "#fdca26"
            ],
            [
             1,
             "#f0f921"
            ]
           ],
           "sequentialminus": [
            [
             0,
             "#0d0887"
            ],
            [
             0.1111111111111111,
             "#46039f"
            ],
            [
             0.2222222222222222,
             "#7201a8"
            ],
            [
             0.3333333333333333,
             "#9c179e"
            ],
            [
             0.4444444444444444,
             "#bd3786"
            ],
            [
             0.5555555555555556,
             "#d8576b"
            ],
            [
             0.6666666666666666,
             "#ed7953"
            ],
            [
             0.7777777777777778,
             "#fb9f3a"
            ],
            [
             0.8888888888888888,
             "#fdca26"
            ],
            [
             1,
             "#f0f921"
            ]
           ]
          },
          "colorway": [
           "#636efa",
           "#EF553B",
           "#00cc96",
           "#ab63fa",
           "#FFA15A",
           "#19d3f3",
           "#FF6692",
           "#B6E880",
           "#FF97FF",
           "#FECB52"
          ],
          "font": {
           "color": "#2a3f5f"
          },
          "geo": {
           "bgcolor": "white",
           "lakecolor": "white",
           "landcolor": "#E5ECF6",
           "showlakes": true,
           "showland": true,
           "subunitcolor": "white"
          },
          "hoverlabel": {
           "align": "left"
          },
          "hovermode": "closest",
          "mapbox": {
           "style": "light"
          },
          "paper_bgcolor": "white",
          "plot_bgcolor": "#E5ECF6",
          "polar": {
           "angularaxis": {
            "gridcolor": "white",
            "linecolor": "white",
            "ticks": ""
           },
           "bgcolor": "#E5ECF6",
           "radialaxis": {
            "gridcolor": "white",
            "linecolor": "white",
            "ticks": ""
           }
          },
          "scene": {
           "xaxis": {
            "backgroundcolor": "#E5ECF6",
            "gridcolor": "white",
            "gridwidth": 2,
            "linecolor": "white",
            "showbackground": true,
            "ticks": "",
            "zerolinecolor": "white"
           },
           "yaxis": {
            "backgroundcolor": "#E5ECF6",
            "gridcolor": "white",
            "gridwidth": 2,
            "linecolor": "white",
            "showbackground": true,
            "ticks": "",
            "zerolinecolor": "white"
           },
           "zaxis": {
            "backgroundcolor": "#E5ECF6",
            "gridcolor": "white",
            "gridwidth": 2,
            "linecolor": "white",
            "showbackground": true,
            "ticks": "",
            "zerolinecolor": "white"
           }
          },
          "shapedefaults": {
           "line": {
            "color": "#2a3f5f"
           }
          },
          "ternary": {
           "aaxis": {
            "gridcolor": "white",
            "linecolor": "white",
            "ticks": ""
           },
           "baxis": {
            "gridcolor": "white",
            "linecolor": "white",
            "ticks": ""
           },
           "bgcolor": "#E5ECF6",
           "caxis": {
            "gridcolor": "white",
            "linecolor": "white",
            "ticks": ""
           }
          },
          "title": {
           "x": 0.05
          },
          "xaxis": {
           "automargin": true,
           "gridcolor": "white",
           "linecolor": "white",
           "ticks": "",
           "title": {
            "standoff": 15
           },
           "zerolinecolor": "white",
           "zerolinewidth": 2
          },
          "yaxis": {
           "automargin": true,
           "gridcolor": "white",
           "linecolor": "white",
           "ticks": "",
           "title": {
            "standoff": 15
           },
           "zerolinecolor": "white",
           "zerolinewidth": 2
          }
         }
        },
        "width": 1000,
        "xaxis": {
         "anchor": "y",
         "constrain": "domain",
         "domain": [
          0,
          1
         ],
         "scaleanchor": "y",
         "title": {
          "text": "Predicted Label"
         }
        },
        "yaxis": {
         "anchor": "x",
         "autorange": "reversed",
         "constrain": "domain",
         "domain": [
          0,
          1
         ],
         "title": {
          "text": "True Label"
         }
        }
       }
      }
     },
     "metadata": {},
     "output_type": "display_data"
    }
   ],
   "source": [
    "fig = px.imshow(confusion_matrix(y_test, y_pred),\n",
    "                width=1000,\n",
    "                height=800,\n",
    "                text_auto=True,\n",
    "                labels=dict(x=\"Predicted Label\",\n",
    "                            y=\"True Label\"),\n",
    "                            x=tuple(authors_to_num.keys()),\n",
    "                            y=tuple(authors_to_num.keys()),\n",
    "                            color_continuous_scale='Teal'\n",
    "                            )\n",
    "\n",
    "fig.update(layout_coloraxis_showscale=False)\n",
    "\n",
    "fig.show()"
   ]
  },
  {
   "cell_type": "code",
   "execution_count": 40,
   "metadata": {},
   "outputs": [
    {
     "data": {
      "text/plain": [
       "{'000': 24,\n",
       " '000 100': 27,\n",
       " '000 000': 26,\n",
       " '000 11': 28,\n",
       " '000 apiece': 49,\n",
       " '000 do': 96,\n",
       " '000 and': 46,\n",
       " '000 altogether': 42,\n",
       " '000 along': 39,\n",
       " '000 charity': 78,\n",
       " '000 at': 53,\n",
       " '000 copies': 85,\n",
       " '000 acres': 35,\n",
       " '00': 0,\n",
       " '000 daily': 90,\n",
       " '00 in': 14,\n",
       " '000 dollars': 97,\n",
       " '00 but': 7,\n",
       " '00 to': 21,\n",
       " '00 for': 12,\n",
       " '00 enclosed': 11,\n",
       " '000 but': 70,\n",
       " '000 already': 40,\n",
       " '000 critics': 87,\n",
       " '000 am': 43,\n",
       " '00 cash': 8,\n",
       " '000 cash': 75,\n",
       " '000 day': 91,\n",
       " '000 books': 67,\n",
       " '000 an': 45,\n",
       " '000 due': 99,\n",
       " '000 banknote': 56,\n",
       " '000 above': 33,\n",
       " '000 anyway': 48,\n",
       " '000 before': 59,\n",
       " '000 are': 51,\n",
       " '000 american': 44,\n",
       " '000 designers': 92,\n",
       " '00 dear': 10,\n",
       " '000 children': 79,\n",
       " '000 00': 25,\n",
       " '000 bottles': 68,\n",
       " '000 coming': 82,\n",
       " '000 beriah': 61,\n",
       " '000 appropriation': 50,\n",
       " '000 committee': 83,\n",
       " '000 all': 37,\n",
       " '000 cubic': 89,\n",
       " '00 99': 4,\n",
       " '000 bequest': 60,\n",
       " '000 chapter': 77,\n",
       " '00 25': 3,\n",
       " '000 almost': 38,\n",
       " '000 bodies': 65,\n",
       " '000 according': 34,\n",
       " '000 cattle': 76,\n",
       " '000 corn': 86,\n",
       " '00 1814': 2,\n",
       " '00 total': 22,\n",
       " '000 cigars': 81,\n",
       " '00 half': 13,\n",
       " '000 by': 72,\n",
       " '000 as': 52,\n",
       " '000 distributed': 95,\n",
       " '000 buy': 71,\n",
       " '000 australasian': 54,\n",
       " '000 about': 32,\n",
       " '000 brahmin': 69,\n",
       " '000 120': 29,\n",
       " '000 blacks': 64,\n",
       " '000 boers': 66,\n",
       " '00 000': 1,\n",
       " '000 carloads': 74,\n",
       " '000 after': 36,\n",
       " '000 car': 73,\n",
       " '000 diamond': 93,\n",
       " '000 another': 47,\n",
       " '000 christian': 80,\n",
       " '00 as': 6,\n",
       " '000 also': 41,\n",
       " '000 berlin': 62,\n",
       " '000 40': 31,\n",
       " '000 constantinople': 84,\n",
       " '000 35': 30,\n",
       " '00 year': 23,\n",
       " '00 railroad': 17,\n",
       " '000 died': 94,\n",
       " '000 besides': 63,\n",
       " '000 bank': 55,\n",
       " '000 be': 57,\n",
       " '00 the': 19,\n",
       " '000 ducats': 98,\n",
       " '000 crowns': 88,\n",
       " '000 because': 58,\n",
       " '00 this': 20,\n",
       " '00 cloth': 9,\n",
       " '00 sheep': 18,\n",
       " '00 life': 15,\n",
       " '00 per': 16,\n",
       " '00 and': 5}"
      ]
     },
     "execution_count": 40,
     "metadata": {},
     "output_type": "execute_result"
    }
   ],
   "source": [
    "#pipe_vect_logreg['vect'].vocabulary_['î']\n",
    "\n",
    "{k:v for (k,v) in pipe_logreg['vect'].vocabulary_.items() if v < 100}"
   ]
  },
  {
   "attachments": {},
   "cell_type": "markdown",
   "metadata": {},
   "source": [
    "To test out my logic, let's see how my own two books measure up!"
   ]
  },
  {
   "cell_type": "code",
   "execution_count": 41,
   "metadata": {},
   "outputs": [],
   "source": [
    "my_books = pd.DataFrame()\n",
    "\n",
    "for book_name in ('Deathway', 'Lambda'):\n",
    "        filepath = f'../data/{book_name} by Tomo Umer.txt'\n",
    "\n",
    "        with open(filepath, encoding = 'utf-8') as fi:\n",
    "                book = fi.read()\n",
    "        \n",
    "        tmp_book = pd.DataFrame({'author': 'Umer, Tomo', 'title': [book_name], 'book_content': [book]})\n",
    "\n",
    "        my_books = pd.concat([my_books, tmp_book], ignore_index = True)"
   ]
  },
  {
   "cell_type": "code",
   "execution_count": 42,
   "metadata": {},
   "outputs": [
    {
     "data": {
      "text/plain": [
       "array([[0.02029298, 0.03419099, 0.01283456, 0.02385755, 0.0583285 ,\n",
       "        0.0591933 , 0.029467  , 0.40714309, 0.12373347, 0.07491894,\n",
       "        0.03642717, 0.03409835, 0.0252581 , 0.04187842, 0.0183776 ],\n",
       "       [0.02207658, 0.03731079, 0.01318853, 0.02362659, 0.05778261,\n",
       "        0.06207341, 0.02540676, 0.37576187, 0.11593824, 0.09501839,\n",
       "        0.03805186, 0.0356088 , 0.02589545, 0.05296558, 0.01929454]])"
      ]
     },
     "execution_count": 42,
     "metadata": {},
     "output_type": "execute_result"
    }
   ],
   "source": [
    "pipe_logreg.predict_proba(my_books['book_content'])"
   ]
  },
  {
   "attachments": {},
   "cell_type": "markdown",
   "metadata": {},
   "source": [
    "It would appear both of my books are most similar to Mark Twain!"
   ]
  },
  {
   "cell_type": "code",
   "execution_count": 43,
   "metadata": {},
   "outputs": [
    {
     "data": {
      "text/html": [
       "<div>\n",
       "<style scoped>\n",
       "    .dataframe tbody tr th:only-of-type {\n",
       "        vertical-align: middle;\n",
       "    }\n",
       "\n",
       "    .dataframe tbody tr th {\n",
       "        vertical-align: top;\n",
       "    }\n",
       "\n",
       "    .dataframe thead th {\n",
       "        text-align: right;\n",
       "    }\n",
       "</style>\n",
       "<table border=\"1\" class=\"dataframe\">\n",
       "  <thead>\n",
       "    <tr style=\"text-align: right;\">\n",
       "      <th></th>\n",
       "      <th>Homer</th>\n",
       "      <th>Plato</th>\n",
       "      <th>Seneca, Lucius Annaeus</th>\n",
       "      <th>Dante Alighieri</th>\n",
       "      <th>Shakespeare, William</th>\n",
       "      <th>Defoe, Daniel</th>\n",
       "      <th>Austen, Jane</th>\n",
       "      <th>Twain, Mark</th>\n",
       "      <th>Tolstoy, Leo, graf</th>\n",
       "      <th>Verne, Jules</th>\n",
       "      <th>Nietzsche, Friedrich Wilhelm</th>\n",
       "      <th>Poe, Edgar Allan</th>\n",
       "      <th>Christie, Agatha</th>\n",
       "      <th>Dick, Philip K.</th>\n",
       "      <th>Lovecraft, H. P. (Howard Phillips)</th>\n",
       "    </tr>\n",
       "  </thead>\n",
       "  <tbody>\n",
       "    <tr>\n",
       "      <th>0</th>\n",
       "      <td>0.020293</td>\n",
       "      <td>0.034191</td>\n",
       "      <td>0.012835</td>\n",
       "      <td>0.023858</td>\n",
       "      <td>0.058328</td>\n",
       "      <td>0.059193</td>\n",
       "      <td>0.029467</td>\n",
       "      <td>0.407143</td>\n",
       "      <td>0.123733</td>\n",
       "      <td>0.074919</td>\n",
       "      <td>0.036427</td>\n",
       "      <td>0.034098</td>\n",
       "      <td>0.025258</td>\n",
       "      <td>0.041878</td>\n",
       "      <td>0.018378</td>\n",
       "    </tr>\n",
       "    <tr>\n",
       "      <th>1</th>\n",
       "      <td>0.022077</td>\n",
       "      <td>0.037311</td>\n",
       "      <td>0.013189</td>\n",
       "      <td>0.023627</td>\n",
       "      <td>0.057783</td>\n",
       "      <td>0.062073</td>\n",
       "      <td>0.025407</td>\n",
       "      <td>0.375762</td>\n",
       "      <td>0.115938</td>\n",
       "      <td>0.095018</td>\n",
       "      <td>0.038052</td>\n",
       "      <td>0.035609</td>\n",
       "      <td>0.025895</td>\n",
       "      <td>0.052966</td>\n",
       "      <td>0.019295</td>\n",
       "    </tr>\n",
       "  </tbody>\n",
       "</table>\n",
       "</div>"
      ],
      "text/plain": [
       "      Homer     Plato  Seneca, Lucius Annaeus  Dante Alighieri  \\\n",
       "0  0.020293  0.034191                0.012835         0.023858   \n",
       "1  0.022077  0.037311                0.013189         0.023627   \n",
       "\n",
       "   Shakespeare, William  Defoe, Daniel  Austen, Jane  Twain, Mark  \\\n",
       "0              0.058328       0.059193      0.029467     0.407143   \n",
       "1              0.057783       0.062073      0.025407     0.375762   \n",
       "\n",
       "   Tolstoy, Leo, graf  Verne, Jules  Nietzsche, Friedrich Wilhelm  \\\n",
       "0            0.123733      0.074919                      0.036427   \n",
       "1            0.115938      0.095018                      0.038052   \n",
       "\n",
       "   Poe, Edgar Allan  Christie, Agatha  Dick, Philip K.  \\\n",
       "0          0.034098          0.025258         0.041878   \n",
       "1          0.035609          0.025895         0.052966   \n",
       "\n",
       "   Lovecraft, H. P. (Howard Phillips)  \n",
       "0                            0.018378  \n",
       "1                            0.019295  "
      ]
     },
     "execution_count": 43,
     "metadata": {},
     "output_type": "execute_result"
    }
   ],
   "source": [
    "pd.DataFrame(pipe_logreg.predict_proba(my_books['book_content']),columns=authors_to_num.keys())"
   ]
  },
  {
   "cell_type": "code",
   "execution_count": 44,
   "metadata": {},
   "outputs": [
    {
     "data": {
      "text/html": [
       "<div>\n",
       "<style scoped>\n",
       "    .dataframe tbody tr th:only-of-type {\n",
       "        vertical-align: middle;\n",
       "    }\n",
       "\n",
       "    .dataframe tbody tr th {\n",
       "        vertical-align: top;\n",
       "    }\n",
       "\n",
       "    .dataframe thead th {\n",
       "        text-align: right;\n",
       "    }\n",
       "</style>\n",
       "<table border=\"1\" class=\"dataframe\">\n",
       "  <thead>\n",
       "    <tr style=\"text-align: right;\">\n",
       "      <th></th>\n",
       "      <th>Authors</th>\n",
       "      <th>Deathway</th>\n",
       "      <th>Lambda</th>\n",
       "    </tr>\n",
       "  </thead>\n",
       "  <tbody>\n",
       "    <tr>\n",
       "      <th>0</th>\n",
       "      <td>Homer</td>\n",
       "      <td>0.020293</td>\n",
       "      <td>0.022077</td>\n",
       "    </tr>\n",
       "    <tr>\n",
       "      <th>1</th>\n",
       "      <td>Plato</td>\n",
       "      <td>0.034191</td>\n",
       "      <td>0.037311</td>\n",
       "    </tr>\n",
       "    <tr>\n",
       "      <th>2</th>\n",
       "      <td>Seneca, Lucius Annaeus</td>\n",
       "      <td>0.012835</td>\n",
       "      <td>0.013189</td>\n",
       "    </tr>\n",
       "    <tr>\n",
       "      <th>3</th>\n",
       "      <td>Dante Alighieri</td>\n",
       "      <td>0.023858</td>\n",
       "      <td>0.023627</td>\n",
       "    </tr>\n",
       "    <tr>\n",
       "      <th>4</th>\n",
       "      <td>Shakespeare, William</td>\n",
       "      <td>0.058328</td>\n",
       "      <td>0.057783</td>\n",
       "    </tr>\n",
       "    <tr>\n",
       "      <th>5</th>\n",
       "      <td>Defoe, Daniel</td>\n",
       "      <td>0.059193</td>\n",
       "      <td>0.062073</td>\n",
       "    </tr>\n",
       "    <tr>\n",
       "      <th>6</th>\n",
       "      <td>Austen, Jane</td>\n",
       "      <td>0.029467</td>\n",
       "      <td>0.025407</td>\n",
       "    </tr>\n",
       "    <tr>\n",
       "      <th>7</th>\n",
       "      <td>Twain, Mark</td>\n",
       "      <td>0.407143</td>\n",
       "      <td>0.375762</td>\n",
       "    </tr>\n",
       "    <tr>\n",
       "      <th>8</th>\n",
       "      <td>Tolstoy, Leo, graf</td>\n",
       "      <td>0.123733</td>\n",
       "      <td>0.115938</td>\n",
       "    </tr>\n",
       "    <tr>\n",
       "      <th>9</th>\n",
       "      <td>Verne, Jules</td>\n",
       "      <td>0.074919</td>\n",
       "      <td>0.095018</td>\n",
       "    </tr>\n",
       "    <tr>\n",
       "      <th>10</th>\n",
       "      <td>Nietzsche, Friedrich Wilhelm</td>\n",
       "      <td>0.036427</td>\n",
       "      <td>0.038052</td>\n",
       "    </tr>\n",
       "    <tr>\n",
       "      <th>11</th>\n",
       "      <td>Poe, Edgar Allan</td>\n",
       "      <td>0.034098</td>\n",
       "      <td>0.035609</td>\n",
       "    </tr>\n",
       "    <tr>\n",
       "      <th>12</th>\n",
       "      <td>Christie, Agatha</td>\n",
       "      <td>0.025258</td>\n",
       "      <td>0.025895</td>\n",
       "    </tr>\n",
       "    <tr>\n",
       "      <th>13</th>\n",
       "      <td>Dick, Philip K.</td>\n",
       "      <td>0.041878</td>\n",
       "      <td>0.052966</td>\n",
       "    </tr>\n",
       "    <tr>\n",
       "      <th>14</th>\n",
       "      <td>Lovecraft, H. P. (Howard Phillips)</td>\n",
       "      <td>0.018378</td>\n",
       "      <td>0.019295</td>\n",
       "    </tr>\n",
       "  </tbody>\n",
       "</table>\n",
       "</div>"
      ],
      "text/plain": [
       "                               Authors  Deathway    Lambda\n",
       "0                                Homer  0.020293  0.022077\n",
       "1                                Plato  0.034191  0.037311\n",
       "2               Seneca, Lucius Annaeus  0.012835  0.013189\n",
       "3                      Dante Alighieri  0.023858  0.023627\n",
       "4                 Shakespeare, William  0.058328  0.057783\n",
       "5                        Defoe, Daniel  0.059193  0.062073\n",
       "6                         Austen, Jane  0.029467  0.025407\n",
       "7                          Twain, Mark  0.407143  0.375762\n",
       "8                   Tolstoy, Leo, graf  0.123733  0.115938\n",
       "9                         Verne, Jules  0.074919  0.095018\n",
       "10        Nietzsche, Friedrich Wilhelm  0.036427  0.038052\n",
       "11                    Poe, Edgar Allan  0.034098  0.035609\n",
       "12                    Christie, Agatha  0.025258  0.025895\n",
       "13                     Dick, Philip K.  0.041878  0.052966\n",
       "14  Lovecraft, H. P. (Howard Phillips)  0.018378  0.019295"
      ]
     },
     "execution_count": 44,
     "metadata": {},
     "output_type": "execute_result"
    }
   ],
   "source": [
    "test_df = pd.DataFrame(pipe_logreg.predict_proba(my_books['book_content']).T, columns=['Deathway', 'Lambda'])\n",
    "\n",
    "test_df.insert (0, 'Authors', authors_to_num.keys())\n",
    "\n",
    "test_df"
   ]
  },
  {
   "attachments": {},
   "cell_type": "markdown",
   "metadata": {},
   "source": [
    "## Neural Networks\n",
    "\n",
    "Using neural networks in order to obtain a better representation of similarity (by using an intermediate hidden layer of 100 neurons)."
   ]
  },
  {
   "cell_type": "code",
   "execution_count": 45,
   "metadata": {},
   "outputs": [],
   "source": [
    "pipe_nn = Pipeline(\n",
    "    steps = [\n",
    "        ('vect', TfidfVectorizer(min_df=2, max_df=0.8, ngram_range=(1,2))),\n",
    "        ('scaler', MaxAbsScaler()),  #this is needed in order to make it converge in a reasonable time!\n",
    "        ('nn', MLPClassifier(verbose = True,\n",
    "                             hidden_layer_sizes = (100, 100),\n",
    "                             #activation = 'tanh',\n",
    "                             #max_iter = 10000,\n",
    "                             #alpha=0.05\n",
    "                             ))\n",
    "    ]\n",
    ")"
   ]
  },
  {
   "cell_type": "code",
   "execution_count": 46,
   "metadata": {},
   "outputs": [
    {
     "name": "stdout",
     "output_type": "stream",
     "text": [
      "Iteration 1, loss = 2.10755286\n",
      "Iteration 2, loss = 0.15095454\n",
      "Iteration 3, loss = 0.02281472\n",
      "Iteration 4, loss = 0.01447424\n",
      "Iteration 5, loss = 0.01267023\n",
      "Iteration 6, loss = 0.01124547\n",
      "Iteration 7, loss = 0.01009275\n",
      "Iteration 8, loss = 0.00946950\n",
      "Iteration 9, loss = 0.00860922\n",
      "Iteration 10, loss = 0.00817250\n",
      "Iteration 11, loss = 0.00798869\n",
      "Iteration 12, loss = 0.00753339\n",
      "Iteration 13, loss = 0.00684209\n",
      "Iteration 14, loss = 0.00667702\n",
      "Iteration 15, loss = 0.00634995\n",
      "Iteration 16, loss = 0.00634933\n",
      "Iteration 17, loss = 0.00613059\n",
      "Iteration 18, loss = 0.00584089\n",
      "Iteration 19, loss = 0.00545278\n",
      "Iteration 20, loss = 0.00518912\n",
      "Iteration 21, loss = 0.00493152\n",
      "Iteration 22, loss = 0.00477026\n",
      "Iteration 23, loss = 0.00460441\n",
      "Iteration 24, loss = 0.00450107\n",
      "Iteration 25, loss = 0.00427651\n",
      "Iteration 26, loss = 0.00427685\n",
      "Iteration 27, loss = 0.00421340\n",
      "Iteration 28, loss = 0.00403383\n",
      "Iteration 29, loss = 0.00384119\n",
      "Iteration 30, loss = 0.00378519\n",
      "Iteration 31, loss = 0.00374959\n",
      "Iteration 32, loss = 0.00365819\n",
      "Iteration 33, loss = 0.00355840\n",
      "Iteration 34, loss = 0.00363211\n",
      "Iteration 35, loss = 0.00329042\n",
      "Iteration 36, loss = 0.00324014\n",
      "Iteration 37, loss = 0.00337720\n",
      "Iteration 38, loss = 0.00345665\n",
      "Iteration 39, loss = 0.00338231\n",
      "Iteration 40, loss = 0.00330582\n",
      "Iteration 41, loss = 0.00300549\n",
      "Iteration 42, loss = 0.00334592\n",
      "Iteration 43, loss = 0.00306401\n",
      "Iteration 44, loss = 0.00286090\n",
      "Iteration 45, loss = 0.00279891\n",
      "Iteration 46, loss = 0.00275733\n",
      "Iteration 47, loss = 0.00274345\n",
      "Iteration 48, loss = 0.00270065\n",
      "Iteration 49, loss = 0.00268372\n",
      "Iteration 50, loss = 0.00261596\n",
      "Iteration 51, loss = 0.00261432\n",
      "Iteration 52, loss = 0.00257048\n",
      "Iteration 53, loss = 0.00251138\n",
      "Iteration 54, loss = 0.00272704\n",
      "Iteration 55, loss = 0.00250001\n",
      "Training loss did not improve more than tol=0.000100 for 10 consecutive epochs. Stopping.\n",
      "accuracy score: 0.8278145695364238 \n",
      "\n",
      "---- confusion matrix ------\n",
      "[[ 3  0  0  0  0  0  0  0  0  0  0  0  0  0  0]\n",
      " [ 0  7  0  0  0  0  0  0  0  0  0  0  0  0  0]\n",
      " [ 0  1  0  0  1  0  0  0  0  0  0  0  0  0  0]\n",
      " [ 0  0  0  4  0  0  0  0  0  1  0  0  0  0  0]\n",
      " [ 0  0  0  0 45  0  0  0  0  0  0  0  0  0  0]\n",
      " [ 0  0  0  0  2  7  0  0  0  2  0  0  0  0  0]\n",
      " [ 0  0  0  0  0  0  4  0  0  0  0  0  0  0  0]\n",
      " [ 0  0  0  0  0  0  0 18  4  9  0  0  1  0  0]\n",
      " [ 0  0  0  0  0  0  0  0 10  0  0  0  1  0  0]\n",
      " [ 0  0  0  0  0  0  0  0  0 12  0  0  0  0  0]\n",
      " [ 0  1  0  0  0  0  0  0  0  0  5  0  0  0  0]\n",
      " [ 0  0  0  0  0  0  0  0  1  0  0  4  0  0  0]\n",
      " [ 0  0  0  0  0  0  0  0  0  0  0  0  3  0  0]\n",
      " [ 0  0  0  0  0  0  0  0  0  0  0  0  0  3  0]\n",
      " [ 0  1  0  0  0  0  0  0  0  1  0  0  0  0  0]] \n",
      "\n",
      "-------- classification report ---------\n",
      "              precision    recall  f1-score   support\n",
      "\n",
      "           0       1.00      1.00      1.00         3\n",
      "           1       0.70      1.00      0.82         7\n",
      "           2       0.00      0.00      0.00         2\n",
      "           3       1.00      0.80      0.89         5\n",
      "           4       0.94      1.00      0.97        45\n",
      "           5       1.00      0.64      0.78        11\n",
      "           6       1.00      1.00      1.00         4\n",
      "           7       1.00      0.56      0.72        32\n",
      "           8       0.67      0.91      0.77        11\n",
      "           9       0.48      1.00      0.65        12\n",
      "          10       1.00      0.83      0.91         6\n",
      "          11       1.00      0.80      0.89         5\n",
      "          12       0.60      1.00      0.75         3\n",
      "          13       1.00      1.00      1.00         3\n",
      "          14       0.00      0.00      0.00         2\n",
      "\n",
      "    accuracy                           0.83       151\n",
      "   macro avg       0.76      0.77      0.74       151\n",
      "weighted avg       0.87      0.83      0.82       151\n",
      "\n"
     ]
    },
    {
     "name": "stderr",
     "output_type": "stream",
     "text": [
      "/Users/tomoumer/opt/anaconda3/lib/python3.9/site-packages/sklearn/metrics/_classification.py:1344: UndefinedMetricWarning:\n",
      "\n",
      "Precision and F-score are ill-defined and being set to 0.0 in labels with no predicted samples. Use `zero_division` parameter to control this behavior.\n",
      "\n",
      "/Users/tomoumer/opt/anaconda3/lib/python3.9/site-packages/sklearn/metrics/_classification.py:1344: UndefinedMetricWarning:\n",
      "\n",
      "Precision and F-score are ill-defined and being set to 0.0 in labels with no predicted samples. Use `zero_division` parameter to control this behavior.\n",
      "\n",
      "/Users/tomoumer/opt/anaconda3/lib/python3.9/site-packages/sklearn/metrics/_classification.py:1344: UndefinedMetricWarning:\n",
      "\n",
      "Precision and F-score are ill-defined and being set to 0.0 in labels with no predicted samples. Use `zero_division` parameter to control this behavior.\n",
      "\n"
     ]
    }
   ],
   "source": [
    "pipe_nn.fit(X_train['book_content'], y_train)\n",
    "y_pred = pipe_nn.predict(X_test['book_content'])\n",
    "\n",
    "print('accuracy score:', accuracy_score(y_test, y_pred), '\\n')\n",
    "print('---- confusion matrix ------')\n",
    "print(confusion_matrix(y_test, y_pred), '\\n')\n",
    "print('-------- classification report ---------')\n",
    "print(classification_report(y_test, y_pred))"
   ]
  },
  {
   "attachments": {},
   "cell_type": "markdown",
   "metadata": {},
   "source": [
    "Seeing the predictions:"
   ]
  },
  {
   "cell_type": "code",
   "execution_count": 47,
   "metadata": {},
   "outputs": [
    {
     "data": {
      "application/vnd.plotly.v1+json": {
       "config": {
        "plotlyServerURL": "https://plot.ly"
       },
       "data": [
        {
         "coloraxis": "coloraxis",
         "hovertemplate": "Predicted Label: %{x}<br>True Label: %{y}<br>color: %{z}<extra></extra>",
         "name": "0",
         "texttemplate": "%{z}",
         "type": "heatmap",
         "x": [
          "Homer",
          "Plato",
          "Seneca, Lucius Annaeus",
          "Dante Alighieri",
          "Shakespeare, William",
          "Defoe, Daniel",
          "Austen, Jane",
          "Twain, Mark",
          "Tolstoy, Leo, graf",
          "Verne, Jules",
          "Nietzsche, Friedrich Wilhelm",
          "Poe, Edgar Allan",
          "Christie, Agatha",
          "Dick, Philip K.",
          "Lovecraft, H. P. (Howard Phillips)"
         ],
         "xaxis": "x",
         "y": [
          "Homer",
          "Plato",
          "Seneca, Lucius Annaeus",
          "Dante Alighieri",
          "Shakespeare, William",
          "Defoe, Daniel",
          "Austen, Jane",
          "Twain, Mark",
          "Tolstoy, Leo, graf",
          "Verne, Jules",
          "Nietzsche, Friedrich Wilhelm",
          "Poe, Edgar Allan",
          "Christie, Agatha",
          "Dick, Philip K.",
          "Lovecraft, H. P. (Howard Phillips)"
         ],
         "yaxis": "y",
         "z": [
          [
           14,
           0,
           0,
           0,
           0,
           0,
           0,
           0,
           0,
           0,
           0,
           0,
           0,
           0,
           0
          ],
          [
           0,
           29,
           0,
           0,
           0,
           0,
           0,
           0,
           0,
           0,
           0,
           0,
           0,
           0,
           0
          ],
          [
           0,
           1,
           5,
           0,
           1,
           0,
           0,
           0,
           0,
           0,
           0,
           0,
           0,
           0,
           0
          ],
          [
           0,
           0,
           0,
           18,
           0,
           0,
           0,
           0,
           0,
           1,
           0,
           0,
           0,
           0,
           0
          ],
          [
           0,
           0,
           0,
           0,
           178,
           0,
           0,
           0,
           0,
           0,
           0,
           0,
           0,
           0,
           0
          ],
          [
           0,
           0,
           0,
           0,
           2,
           41,
           0,
           0,
           0,
           2,
           0,
           0,
           0,
           0,
           0
          ],
          [
           0,
           0,
           0,
           0,
           0,
           0,
           14,
           0,
           0,
           0,
           0,
           0,
           0,
           0,
           0
          ],
          [
           0,
           0,
           0,
           0,
           0,
           0,
           0,
           114,
           4,
           9,
           0,
           0,
           1,
           0,
           0
          ],
          [
           0,
           0,
           0,
           0,
           0,
           0,
           0,
           0,
           45,
           0,
           0,
           0,
           1,
           0,
           0
          ],
          [
           0,
           0,
           0,
           0,
           0,
           0,
           0,
           0,
           0,
           46,
           0,
           0,
           0,
           0,
           0
          ],
          [
           0,
           1,
           0,
           0,
           0,
           0,
           0,
           0,
           0,
           0,
           25,
           0,
           0,
           0,
           0
          ],
          [
           0,
           0,
           0,
           0,
           0,
           0,
           0,
           0,
           1,
           0,
           0,
           18,
           0,
           0,
           0
          ],
          [
           0,
           0,
           0,
           0,
           0,
           0,
           0,
           0,
           0,
           0,
           0,
           0,
           11,
           0,
           0
          ],
          [
           0,
           0,
           0,
           0,
           0,
           0,
           0,
           0,
           0,
           0,
           0,
           0,
           0,
           14,
           0
          ],
          [
           0,
           1,
           0,
           0,
           0,
           0,
           0,
           0,
           0,
           1,
           0,
           0,
           0,
           0,
           6
          ]
         ]
        }
       ],
       "layout": {
        "coloraxis": {
         "colorscale": [
          [
           0,
           "rgb(209, 238, 234)"
          ],
          [
           0.16666666666666666,
           "rgb(168, 219, 217)"
          ],
          [
           0.3333333333333333,
           "rgb(133, 196, 201)"
          ],
          [
           0.5,
           "rgb(104, 171, 184)"
          ],
          [
           0.6666666666666666,
           "rgb(79, 144, 166)"
          ],
          [
           0.8333333333333334,
           "rgb(59, 115, 143)"
          ],
          [
           1,
           "rgb(42, 86, 116)"
          ]
         ],
         "showscale": false
        },
        "height": 800,
        "margin": {
         "t": 60
        },
        "template": {
         "data": {
          "bar": [
           {
            "error_x": {
             "color": "#2a3f5f"
            },
            "error_y": {
             "color": "#2a3f5f"
            },
            "marker": {
             "line": {
              "color": "#E5ECF6",
              "width": 0.5
             },
             "pattern": {
              "fillmode": "overlay",
              "size": 10,
              "solidity": 0.2
             }
            },
            "type": "bar"
           }
          ],
          "barpolar": [
           {
            "marker": {
             "line": {
              "color": "#E5ECF6",
              "width": 0.5
             },
             "pattern": {
              "fillmode": "overlay",
              "size": 10,
              "solidity": 0.2
             }
            },
            "type": "barpolar"
           }
          ],
          "carpet": [
           {
            "aaxis": {
             "endlinecolor": "#2a3f5f",
             "gridcolor": "white",
             "linecolor": "white",
             "minorgridcolor": "white",
             "startlinecolor": "#2a3f5f"
            },
            "baxis": {
             "endlinecolor": "#2a3f5f",
             "gridcolor": "white",
             "linecolor": "white",
             "minorgridcolor": "white",
             "startlinecolor": "#2a3f5f"
            },
            "type": "carpet"
           }
          ],
          "choropleth": [
           {
            "colorbar": {
             "outlinewidth": 0,
             "ticks": ""
            },
            "type": "choropleth"
           }
          ],
          "contour": [
           {
            "colorbar": {
             "outlinewidth": 0,
             "ticks": ""
            },
            "colorscale": [
             [
              0,
              "#0d0887"
             ],
             [
              0.1111111111111111,
              "#46039f"
             ],
             [
              0.2222222222222222,
              "#7201a8"
             ],
             [
              0.3333333333333333,
              "#9c179e"
             ],
             [
              0.4444444444444444,
              "#bd3786"
             ],
             [
              0.5555555555555556,
              "#d8576b"
             ],
             [
              0.6666666666666666,
              "#ed7953"
             ],
             [
              0.7777777777777778,
              "#fb9f3a"
             ],
             [
              0.8888888888888888,
              "#fdca26"
             ],
             [
              1,
              "#f0f921"
             ]
            ],
            "type": "contour"
           }
          ],
          "contourcarpet": [
           {
            "colorbar": {
             "outlinewidth": 0,
             "ticks": ""
            },
            "type": "contourcarpet"
           }
          ],
          "heatmap": [
           {
            "colorbar": {
             "outlinewidth": 0,
             "ticks": ""
            },
            "colorscale": [
             [
              0,
              "#0d0887"
             ],
             [
              0.1111111111111111,
              "#46039f"
             ],
             [
              0.2222222222222222,
              "#7201a8"
             ],
             [
              0.3333333333333333,
              "#9c179e"
             ],
             [
              0.4444444444444444,
              "#bd3786"
             ],
             [
              0.5555555555555556,
              "#d8576b"
             ],
             [
              0.6666666666666666,
              "#ed7953"
             ],
             [
              0.7777777777777778,
              "#fb9f3a"
             ],
             [
              0.8888888888888888,
              "#fdca26"
             ],
             [
              1,
              "#f0f921"
             ]
            ],
            "type": "heatmap"
           }
          ],
          "heatmapgl": [
           {
            "colorbar": {
             "outlinewidth": 0,
             "ticks": ""
            },
            "colorscale": [
             [
              0,
              "#0d0887"
             ],
             [
              0.1111111111111111,
              "#46039f"
             ],
             [
              0.2222222222222222,
              "#7201a8"
             ],
             [
              0.3333333333333333,
              "#9c179e"
             ],
             [
              0.4444444444444444,
              "#bd3786"
             ],
             [
              0.5555555555555556,
              "#d8576b"
             ],
             [
              0.6666666666666666,
              "#ed7953"
             ],
             [
              0.7777777777777778,
              "#fb9f3a"
             ],
             [
              0.8888888888888888,
              "#fdca26"
             ],
             [
              1,
              "#f0f921"
             ]
            ],
            "type": "heatmapgl"
           }
          ],
          "histogram": [
           {
            "marker": {
             "pattern": {
              "fillmode": "overlay",
              "size": 10,
              "solidity": 0.2
             }
            },
            "type": "histogram"
           }
          ],
          "histogram2d": [
           {
            "colorbar": {
             "outlinewidth": 0,
             "ticks": ""
            },
            "colorscale": [
             [
              0,
              "#0d0887"
             ],
             [
              0.1111111111111111,
              "#46039f"
             ],
             [
              0.2222222222222222,
              "#7201a8"
             ],
             [
              0.3333333333333333,
              "#9c179e"
             ],
             [
              0.4444444444444444,
              "#bd3786"
             ],
             [
              0.5555555555555556,
              "#d8576b"
             ],
             [
              0.6666666666666666,
              "#ed7953"
             ],
             [
              0.7777777777777778,
              "#fb9f3a"
             ],
             [
              0.8888888888888888,
              "#fdca26"
             ],
             [
              1,
              "#f0f921"
             ]
            ],
            "type": "histogram2d"
           }
          ],
          "histogram2dcontour": [
           {
            "colorbar": {
             "outlinewidth": 0,
             "ticks": ""
            },
            "colorscale": [
             [
              0,
              "#0d0887"
             ],
             [
              0.1111111111111111,
              "#46039f"
             ],
             [
              0.2222222222222222,
              "#7201a8"
             ],
             [
              0.3333333333333333,
              "#9c179e"
             ],
             [
              0.4444444444444444,
              "#bd3786"
             ],
             [
              0.5555555555555556,
              "#d8576b"
             ],
             [
              0.6666666666666666,
              "#ed7953"
             ],
             [
              0.7777777777777778,
              "#fb9f3a"
             ],
             [
              0.8888888888888888,
              "#fdca26"
             ],
             [
              1,
              "#f0f921"
             ]
            ],
            "type": "histogram2dcontour"
           }
          ],
          "mesh3d": [
           {
            "colorbar": {
             "outlinewidth": 0,
             "ticks": ""
            },
            "type": "mesh3d"
           }
          ],
          "parcoords": [
           {
            "line": {
             "colorbar": {
              "outlinewidth": 0,
              "ticks": ""
             }
            },
            "type": "parcoords"
           }
          ],
          "pie": [
           {
            "automargin": true,
            "type": "pie"
           }
          ],
          "scatter": [
           {
            "fillpattern": {
             "fillmode": "overlay",
             "size": 10,
             "solidity": 0.2
            },
            "type": "scatter"
           }
          ],
          "scatter3d": [
           {
            "line": {
             "colorbar": {
              "outlinewidth": 0,
              "ticks": ""
             }
            },
            "marker": {
             "colorbar": {
              "outlinewidth": 0,
              "ticks": ""
             }
            },
            "type": "scatter3d"
           }
          ],
          "scattercarpet": [
           {
            "marker": {
             "colorbar": {
              "outlinewidth": 0,
              "ticks": ""
             }
            },
            "type": "scattercarpet"
           }
          ],
          "scattergeo": [
           {
            "marker": {
             "colorbar": {
              "outlinewidth": 0,
              "ticks": ""
             }
            },
            "type": "scattergeo"
           }
          ],
          "scattergl": [
           {
            "marker": {
             "colorbar": {
              "outlinewidth": 0,
              "ticks": ""
             }
            },
            "type": "scattergl"
           }
          ],
          "scattermapbox": [
           {
            "marker": {
             "colorbar": {
              "outlinewidth": 0,
              "ticks": ""
             }
            },
            "type": "scattermapbox"
           }
          ],
          "scatterpolar": [
           {
            "marker": {
             "colorbar": {
              "outlinewidth": 0,
              "ticks": ""
             }
            },
            "type": "scatterpolar"
           }
          ],
          "scatterpolargl": [
           {
            "marker": {
             "colorbar": {
              "outlinewidth": 0,
              "ticks": ""
             }
            },
            "type": "scatterpolargl"
           }
          ],
          "scatterternary": [
           {
            "marker": {
             "colorbar": {
              "outlinewidth": 0,
              "ticks": ""
             }
            },
            "type": "scatterternary"
           }
          ],
          "surface": [
           {
            "colorbar": {
             "outlinewidth": 0,
             "ticks": ""
            },
            "colorscale": [
             [
              0,
              "#0d0887"
             ],
             [
              0.1111111111111111,
              "#46039f"
             ],
             [
              0.2222222222222222,
              "#7201a8"
             ],
             [
              0.3333333333333333,
              "#9c179e"
             ],
             [
              0.4444444444444444,
              "#bd3786"
             ],
             [
              0.5555555555555556,
              "#d8576b"
             ],
             [
              0.6666666666666666,
              "#ed7953"
             ],
             [
              0.7777777777777778,
              "#fb9f3a"
             ],
             [
              0.8888888888888888,
              "#fdca26"
             ],
             [
              1,
              "#f0f921"
             ]
            ],
            "type": "surface"
           }
          ],
          "table": [
           {
            "cells": {
             "fill": {
              "color": "#EBF0F8"
             },
             "line": {
              "color": "white"
             }
            },
            "header": {
             "fill": {
              "color": "#C8D4E3"
             },
             "line": {
              "color": "white"
             }
            },
            "type": "table"
           }
          ]
         },
         "layout": {
          "annotationdefaults": {
           "arrowcolor": "#2a3f5f",
           "arrowhead": 0,
           "arrowwidth": 1
          },
          "autotypenumbers": "strict",
          "coloraxis": {
           "colorbar": {
            "outlinewidth": 0,
            "ticks": ""
           }
          },
          "colorscale": {
           "diverging": [
            [
             0,
             "#8e0152"
            ],
            [
             0.1,
             "#c51b7d"
            ],
            [
             0.2,
             "#de77ae"
            ],
            [
             0.3,
             "#f1b6da"
            ],
            [
             0.4,
             "#fde0ef"
            ],
            [
             0.5,
             "#f7f7f7"
            ],
            [
             0.6,
             "#e6f5d0"
            ],
            [
             0.7,
             "#b8e186"
            ],
            [
             0.8,
             "#7fbc41"
            ],
            [
             0.9,
             "#4d9221"
            ],
            [
             1,
             "#276419"
            ]
           ],
           "sequential": [
            [
             0,
             "#0d0887"
            ],
            [
             0.1111111111111111,
             "#46039f"
            ],
            [
             0.2222222222222222,
             "#7201a8"
            ],
            [
             0.3333333333333333,
             "#9c179e"
            ],
            [
             0.4444444444444444,
             "#bd3786"
            ],
            [
             0.5555555555555556,
             "#d8576b"
            ],
            [
             0.6666666666666666,
             "#ed7953"
            ],
            [
             0.7777777777777778,
             "#fb9f3a"
            ],
            [
             0.8888888888888888,
             "#fdca26"
            ],
            [
             1,
             "#f0f921"
            ]
           ],
           "sequentialminus": [
            [
             0,
             "#0d0887"
            ],
            [
             0.1111111111111111,
             "#46039f"
            ],
            [
             0.2222222222222222,
             "#7201a8"
            ],
            [
             0.3333333333333333,
             "#9c179e"
            ],
            [
             0.4444444444444444,
             "#bd3786"
            ],
            [
             0.5555555555555556,
             "#d8576b"
            ],
            [
             0.6666666666666666,
             "#ed7953"
            ],
            [
             0.7777777777777778,
             "#fb9f3a"
            ],
            [
             0.8888888888888888,
             "#fdca26"
            ],
            [
             1,
             "#f0f921"
            ]
           ]
          },
          "colorway": [
           "#636efa",
           "#EF553B",
           "#00cc96",
           "#ab63fa",
           "#FFA15A",
           "#19d3f3",
           "#FF6692",
           "#B6E880",
           "#FF97FF",
           "#FECB52"
          ],
          "font": {
           "color": "#2a3f5f"
          },
          "geo": {
           "bgcolor": "white",
           "lakecolor": "white",
           "landcolor": "#E5ECF6",
           "showlakes": true,
           "showland": true,
           "subunitcolor": "white"
          },
          "hoverlabel": {
           "align": "left"
          },
          "hovermode": "closest",
          "mapbox": {
           "style": "light"
          },
          "paper_bgcolor": "white",
          "plot_bgcolor": "#E5ECF6",
          "polar": {
           "angularaxis": {
            "gridcolor": "white",
            "linecolor": "white",
            "ticks": ""
           },
           "bgcolor": "#E5ECF6",
           "radialaxis": {
            "gridcolor": "white",
            "linecolor": "white",
            "ticks": ""
           }
          },
          "scene": {
           "xaxis": {
            "backgroundcolor": "#E5ECF6",
            "gridcolor": "white",
            "gridwidth": 2,
            "linecolor": "white",
            "showbackground": true,
            "ticks": "",
            "zerolinecolor": "white"
           },
           "yaxis": {
            "backgroundcolor": "#E5ECF6",
            "gridcolor": "white",
            "gridwidth": 2,
            "linecolor": "white",
            "showbackground": true,
            "ticks": "",
            "zerolinecolor": "white"
           },
           "zaxis": {
            "backgroundcolor": "#E5ECF6",
            "gridcolor": "white",
            "gridwidth": 2,
            "linecolor": "white",
            "showbackground": true,
            "ticks": "",
            "zerolinecolor": "white"
           }
          },
          "shapedefaults": {
           "line": {
            "color": "#2a3f5f"
           }
          },
          "ternary": {
           "aaxis": {
            "gridcolor": "white",
            "linecolor": "white",
            "ticks": ""
           },
           "baxis": {
            "gridcolor": "white",
            "linecolor": "white",
            "ticks": ""
           },
           "bgcolor": "#E5ECF6",
           "caxis": {
            "gridcolor": "white",
            "linecolor": "white",
            "ticks": ""
           }
          },
          "title": {
           "x": 0.05
          },
          "xaxis": {
           "automargin": true,
           "gridcolor": "white",
           "linecolor": "white",
           "ticks": "",
           "title": {
            "standoff": 15
           },
           "zerolinecolor": "white",
           "zerolinewidth": 2
          },
          "yaxis": {
           "automargin": true,
           "gridcolor": "white",
           "linecolor": "white",
           "ticks": "",
           "title": {
            "standoff": 15
           },
           "zerolinecolor": "white",
           "zerolinewidth": 2
          }
         }
        },
        "width": 1000,
        "xaxis": {
         "anchor": "y",
         "constrain": "domain",
         "domain": [
          0,
          1
         ],
         "scaleanchor": "y",
         "title": {
          "text": "Predicted Label"
         }
        },
        "yaxis": {
         "anchor": "x",
         "autorange": "reversed",
         "constrain": "domain",
         "domain": [
          0,
          1
         ],
         "title": {
          "text": "True Label"
         }
        }
       }
      }
     },
     "metadata": {},
     "output_type": "display_data"
    }
   ],
   "source": [
    "fig = px.imshow(confusion_matrix(library_select['author'], pipe_nn.predict(library_select['book_content'])),\n",
    "                width=1000,\n",
    "                height=800,\n",
    "                text_auto=True,\n",
    "                labels=dict(x=\"Predicted Label\",\n",
    "                            y=\"True Label\"),\n",
    "                            x=tuple(authors_to_num.keys()),\n",
    "                            y=tuple(authors_to_num.keys()),\n",
    "                            color_continuous_scale='Teal'\n",
    "                            )\n",
    "\n",
    "fig.update(layout_coloraxis_showscale=False)\n",
    "\n",
    "fig.show()"
   ]
  },
  {
   "attachments": {},
   "cell_type": "markdown",
   "metadata": {},
   "source": [
    "## Encoding and lower-dimensional representation of the NN"
   ]
  },
  {
   "attachments": {},
   "cell_type": "markdown",
   "metadata": {},
   "source": [
    "Now that I have the neural network fit, I need to create an autoencoder with that."
   ]
  },
  {
   "cell_type": "code",
   "execution_count": 48,
   "metadata": {},
   "outputs": [],
   "source": [
    "# have to use the regressor because classifiers thinks we're expecting int results, even if we chop it off before final step!\n",
    "# :2 and layers = 3 if I use two hidden layers with nn; for one, reduce those by 1\n",
    "encoder = MLPRegressor()\n",
    "encoder.coefs_ = pipe_nn['nn'].coefs_[:2]\n",
    "encoder.intercepts_ = pipe_nn['nn'].intercepts_[:2]\n",
    "encoder.n_layers_ = 3\n",
    "encoder.out_activation_ = 'relu'"
   ]
  },
  {
   "cell_type": "code",
   "execution_count": 49,
   "metadata": {},
   "outputs": [],
   "source": [
    "# copy the pipeline\n",
    "pipe_nn_encoder = deepcopy(pipe_nn)\n",
    "\n",
    "# remove the classifier\n",
    "pipe_nn_encoder.steps.pop(2)\n",
    "\n",
    "# append the new encoder (essentially, it contains all layers minus the final one)\n",
    "pipe_nn_encoder.steps.append(['enc', encoder])"
   ]
  },
  {
   "cell_type": "code",
   "execution_count": 50,
   "metadata": {},
   "outputs": [],
   "source": [
    "# projection = pipe_nn_encoder.predict(X_test['book_content'])\n",
    "\n",
    "# plt.figure(figsize = (10,6))\n",
    "# sns.scatterplot(x=projection[:,0], y=projection[:,1], hue = y_test.astype('category'))\n",
    "# plt.legend(bbox_to_anchor = (1,1));\n"
   ]
  },
  {
   "cell_type": "code",
   "execution_count": 51,
   "metadata": {},
   "outputs": [],
   "source": [
    "# now using predict from the encoder to get the 100-dimensional projection of the top six authors\n",
    "nn_represent_select = pipe_nn_encoder.predict(library_select['book_content'])"
   ]
  },
  {
   "attachments": {},
   "cell_type": "markdown",
   "metadata": {},
   "source": [
    "Next use UMAP to represent the 100 dimensional projection into a 2d one!"
   ]
  },
  {
   "cell_type": "code",
   "execution_count": 52,
   "metadata": {},
   "outputs": [
    {
     "data": {
      "text/html": [
       "<style>#sk-container-id-1 {color: black;background-color: white;}#sk-container-id-1 pre{padding: 0;}#sk-container-id-1 div.sk-toggleable {background-color: white;}#sk-container-id-1 label.sk-toggleable__label {cursor: pointer;display: block;width: 100%;margin-bottom: 0;padding: 0.3em;box-sizing: border-box;text-align: center;}#sk-container-id-1 label.sk-toggleable__label-arrow:before {content: \"▸\";float: left;margin-right: 0.25em;color: #696969;}#sk-container-id-1 label.sk-toggleable__label-arrow:hover:before {color: black;}#sk-container-id-1 div.sk-estimator:hover label.sk-toggleable__label-arrow:before {color: black;}#sk-container-id-1 div.sk-toggleable__content {max-height: 0;max-width: 0;overflow: hidden;text-align: left;background-color: #f0f8ff;}#sk-container-id-1 div.sk-toggleable__content pre {margin: 0.2em;color: black;border-radius: 0.25em;background-color: #f0f8ff;}#sk-container-id-1 input.sk-toggleable__control:checked~div.sk-toggleable__content {max-height: 200px;max-width: 100%;overflow: auto;}#sk-container-id-1 input.sk-toggleable__control:checked~label.sk-toggleable__label-arrow:before {content: \"▾\";}#sk-container-id-1 div.sk-estimator input.sk-toggleable__control:checked~label.sk-toggleable__label {background-color: #d4ebff;}#sk-container-id-1 div.sk-label input.sk-toggleable__control:checked~label.sk-toggleable__label {background-color: #d4ebff;}#sk-container-id-1 input.sk-hidden--visually {border: 0;clip: rect(1px 1px 1px 1px);clip: rect(1px, 1px, 1px, 1px);height: 1px;margin: -1px;overflow: hidden;padding: 0;position: absolute;width: 1px;}#sk-container-id-1 div.sk-estimator {font-family: monospace;background-color: #f0f8ff;border: 1px dotted black;border-radius: 0.25em;box-sizing: border-box;margin-bottom: 0.5em;}#sk-container-id-1 div.sk-estimator:hover {background-color: #d4ebff;}#sk-container-id-1 div.sk-parallel-item::after {content: \"\";width: 100%;border-bottom: 1px solid gray;flex-grow: 1;}#sk-container-id-1 div.sk-label:hover label.sk-toggleable__label {background-color: #d4ebff;}#sk-container-id-1 div.sk-serial::before {content: \"\";position: absolute;border-left: 1px solid gray;box-sizing: border-box;top: 0;bottom: 0;left: 50%;z-index: 0;}#sk-container-id-1 div.sk-serial {display: flex;flex-direction: column;align-items: center;background-color: white;padding-right: 0.2em;padding-left: 0.2em;position: relative;}#sk-container-id-1 div.sk-item {position: relative;z-index: 1;}#sk-container-id-1 div.sk-parallel {display: flex;align-items: stretch;justify-content: center;background-color: white;position: relative;}#sk-container-id-1 div.sk-item::before, #sk-container-id-1 div.sk-parallel-item::before {content: \"\";position: absolute;border-left: 1px solid gray;box-sizing: border-box;top: 0;bottom: 0;left: 50%;z-index: -1;}#sk-container-id-1 div.sk-parallel-item {display: flex;flex-direction: column;z-index: 1;position: relative;background-color: white;}#sk-container-id-1 div.sk-parallel-item:first-child::after {align-self: flex-end;width: 50%;}#sk-container-id-1 div.sk-parallel-item:last-child::after {align-self: flex-start;width: 50%;}#sk-container-id-1 div.sk-parallel-item:only-child::after {width: 0;}#sk-container-id-1 div.sk-dashed-wrapped {border: 1px dashed gray;margin: 0 0.4em 0.5em 0.4em;box-sizing: border-box;padding-bottom: 0.4em;background-color: white;}#sk-container-id-1 div.sk-label label {font-family: monospace;font-weight: bold;display: inline-block;line-height: 1.2em;}#sk-container-id-1 div.sk-label-container {text-align: center;}#sk-container-id-1 div.sk-container {/* jupyter's `normalize.less` sets `[hidden] { display: none; }` but bootstrap.min.css set `[hidden] { display: none !important; }` so we also need the `!important` here to be able to override the default hidden behavior on the sphinx rendered scikit-learn.org. See: https://github.com/scikit-learn/scikit-learn/issues/21755 */display: inline-block !important;position: relative;}#sk-container-id-1 div.sk-text-repr-fallback {display: none;}</style><div id=\"sk-container-id-1\" class=\"sk-top-container\"><div class=\"sk-text-repr-fallback\"><pre>UMAP(tqdm_kwds={&#x27;bar_format&#x27;: &#x27;{desc}: {percentage:3.0f}%| {bar} {n_fmt}/{total_fmt} [{elapsed}]&#x27;, &#x27;desc&#x27;: &#x27;Epochs completed&#x27;, &#x27;disable&#x27;: True})</pre><b>In a Jupyter environment, please rerun this cell to show the HTML representation or trust the notebook. <br />On GitHub, the HTML representation is unable to render, please try loading this page with nbviewer.org.</b></div><div class=\"sk-container\" hidden><div class=\"sk-item\"><div class=\"sk-estimator sk-toggleable\"><input class=\"sk-toggleable__control sk-hidden--visually\" id=\"sk-estimator-id-1\" type=\"checkbox\" checked><label for=\"sk-estimator-id-1\" class=\"sk-toggleable__label sk-toggleable__label-arrow\">UMAP</label><div class=\"sk-toggleable__content\"><pre>UMAP(tqdm_kwds={&#x27;bar_format&#x27;: &#x27;{desc}: {percentage:3.0f}%| {bar} {n_fmt}/{total_fmt} [{elapsed}]&#x27;, &#x27;desc&#x27;: &#x27;Epochs completed&#x27;, &#x27;disable&#x27;: True})</pre></div></div></div></div></div>"
      ],
      "text/plain": [
       "UMAP(tqdm_kwds={'bar_format': '{desc}: {percentage:3.0f}%| {bar} {n_fmt}/{total_fmt} [{elapsed}]', 'desc': 'Epochs completed', 'disable': True})"
      ]
     },
     "execution_count": 52,
     "metadata": {},
     "output_type": "execute_result"
    }
   ],
   "source": [
    "umap_mnist = umap.UMAP()\n",
    "umap_mnist.fit(nn_represent_select)"
   ]
  },
  {
   "cell_type": "code",
   "execution_count": 53,
   "metadata": {},
   "outputs": [
    {
     "data": {
      "image/png": "[encoded data removed]",
      "text/plain": [
       "<Figure size 1600x800 with 1 Axes>"
      ]
     },
     "metadata": {},
     "output_type": "display_data"
    }
   ],
   "source": [
    "umap_projection = umap_mnist.transform(nn_represent_select)\n",
    "\n",
    "plt.figure(figsize = (16,8))\n",
    "sns.scatterplot(x=umap_projection[:,0], y=umap_projection[:,1], \n",
    "                hue = library_select.replace({'author': num_to_authors})['author'].astype('category'),\n",
    "               alpha = 0.7);"
   ]
  },
  {
   "cell_type": "code",
   "execution_count": 54,
   "metadata": {},
   "outputs": [
    {
     "data": {
      "image/png": "[encoded data removed]",
      "text/plain": [
       "<Figure size 1600x800 with 1 Axes>"
      ]
     },
     "metadata": {},
     "output_type": "display_data"
    }
   ],
   "source": [
    "plt.figure(figsize = (16,8))\n",
    "sns.scatterplot(x=umap_projection[:,0], y=umap_projection[:,1], \n",
    "                hue = library_select['authorcentury'].astype('category'),\n",
    "               alpha = 0.7);"
   ]
  },
  {
   "cell_type": "code",
   "execution_count": 55,
   "metadata": {},
   "outputs": [
    {
     "name": "stdout",
     "output_type": "stream",
     "text": [
      "(604, 11)\n",
      "(604, 100)\n"
     ]
    }
   ],
   "source": [
    "print(library_select.shape)\n",
    "print(nn_represent_select.shape)"
   ]
  },
  {
   "attachments": {},
   "cell_type": "markdown",
   "metadata": {},
   "source": [
    "## Cosine Similarity\n",
    "\n",
    "Another way to look at the produced weights and which ones are similar"
   ]
  },
  {
   "cell_type": "code",
   "execution_count": 56,
   "metadata": {},
   "outputs": [],
   "source": [
    "library_select_vec = pd.DataFrame(nn_represent_select, columns=[f'dim_{x}' for x in range(100)])"
   ]
  },
  {
   "cell_type": "code",
   "execution_count": 57,
   "metadata": {},
   "outputs": [],
   "source": [
    "library_select_vec = pd.concat([library_select[['title', 'author']].replace({'author': num_to_authors}),\n",
    "                                 library_select_vec.set_index(library_select.index)], axis=1)"
   ]
  },
  {
   "attachments": {},
   "cell_type": "markdown",
   "metadata": {},
   "source": [
    "Calculating cosine similarity - for a first attempt, group it by author."
   ]
  },
  {
   "cell_type": "code",
   "execution_count": 58,
   "metadata": {},
   "outputs": [],
   "source": [
    "library_select_grouped = library_select_vec.drop(columns=['title']).groupby('author').mean()"
   ]
  },
  {
   "cell_type": "code",
   "execution_count": 59,
   "metadata": {},
   "outputs": [],
   "source": [
    "dists = spatial.distance.pdist(library_select_grouped.values, metric = 'cosine')"
   ]
  },
  {
   "attachments": {},
   "cell_type": "markdown",
   "metadata": {},
   "source": [
    "example to calculate the dist between phillip k dick and lovecradt, need to get the correct index for dist.\n",
    "\n",
    "Position in daataframe: 3 phillip k dick, 7 lovecraft\n",
    "\n",
    "for i < j < m:\n",
    "\n",
    "m * i + j - ((i + 2) * (i + 1)) // 2\n"
   ]
  },
  {
   "cell_type": "code",
   "execution_count": 60,
   "metadata": {},
   "outputs": [
    {
     "data": {
      "text/plain": [
       "42"
      ]
     },
     "execution_count": 60,
     "metadata": {},
     "output_type": "execute_result"
    }
   ],
   "source": [
    "15 * 3 + 7 - ((3+2) * (3+1)) // 2"
   ]
  },
  {
   "cell_type": "code",
   "execution_count": 61,
   "metadata": {},
   "outputs": [
    {
     "data": {
      "text/plain": [
       "0.2972182931634252"
      ]
     },
     "execution_count": 61,
     "metadata": {},
     "output_type": "execute_result"
    }
   ],
   "source": [
    "dists[42]"
   ]
  },
  {
   "cell_type": "code",
   "execution_count": 62,
   "metadata": {},
   "outputs": [
    {
     "data": {
      "image/png": "[encoded data removed]",
      "text/plain": [
       "<Figure size 1200x800 with 1 Axes>"
      ]
     },
     "metadata": {},
     "output_type": "display_data"
    }
   ],
   "source": [
    "mergings = linkage(dists, method='complete')\n",
    "\n",
    "plt.figure(figsize = (12,8))\n",
    "dendrogram(mergings,\n",
    "           labels = list(library_select_grouped.index),\n",
    "           leaf_rotation = 90,\n",
    "           leaf_font_size = 6);\n",
    "\n",
    "plt.tight_layout()\n",
    "#plt.savefig('images/dendogram_complete_cosine.png', transparent=False, facecolor='white', dpi = 150);"
   ]
  },
  {
   "cell_type": "code",
   "execution_count": 63,
   "metadata": {},
   "outputs": [],
   "source": [
    "# this is a bit convoluted, but .. I first concatenate all the texts in the pandas series which returns an extremely long string\n",
    "# I then turn that string into a pandas series (the predict requires an iterable object)\n",
    "# pipe_nn_encoder.predict(pd.Series(library_top_six.loc[library_top_six['author'] == 0]['book_content'].str.cat()))"
   ]
  },
  {
   "attachments": {},
   "cell_type": "markdown",
   "metadata": {},
   "source": [
    "## Introducing New Text"
   ]
  },
  {
   "cell_type": "code",
   "execution_count": 64,
   "metadata": {},
   "outputs": [
    {
     "data": {
      "text/html": [
       "<div>\n",
       "<style scoped>\n",
       "    .dataframe tbody tr th:only-of-type {\n",
       "        vertical-align: middle;\n",
       "    }\n",
       "\n",
       "    .dataframe tbody tr th {\n",
       "        vertical-align: top;\n",
       "    }\n",
       "\n",
       "    .dataframe thead th {\n",
       "        text-align: right;\n",
       "    }\n",
       "</style>\n",
       "<table border=\"1\" class=\"dataframe\">\n",
       "  <thead>\n",
       "    <tr style=\"text-align: right;\">\n",
       "      <th></th>\n",
       "      <th>author</th>\n",
       "      <th>title</th>\n",
       "      <th>book_content</th>\n",
       "    </tr>\n",
       "  </thead>\n",
       "  <tbody>\n",
       "    <tr>\n",
       "      <th>0</th>\n",
       "      <td>Umer, Tomo</td>\n",
       "      <td>Deathway</td>\n",
       "      <td>DeathwayIndex\\nIntroduction\\nMy second novel! ...</td>\n",
       "    </tr>\n",
       "    <tr>\n",
       "      <th>1</th>\n",
       "      <td>Umer, Tomo</td>\n",
       "      <td>Lambda</td>\n",
       "      <td>Lambda\\n\\n\\n\\n\\n\\n\\n\\n\\n\\n\\n\\n\\n\\n\\n\\n\\n\\n\\n\\n...</td>\n",
       "    </tr>\n",
       "  </tbody>\n",
       "</table>\n",
       "</div>"
      ],
      "text/plain": [
       "       author     title                                       book_content\n",
       "0  Umer, Tomo  Deathway  DeathwayIndex\\nIntroduction\\nMy second novel! ...\n",
       "1  Umer, Tomo    Lambda  Lambda\\n\\n\\n\\n\\n\\n\\n\\n\\n\\n\\n\\n\\n\\n\\n\\n\\n\\n\\n\\n..."
      ]
     },
     "execution_count": 64,
     "metadata": {},
     "output_type": "execute_result"
    }
   ],
   "source": [
    "my_books"
   ]
  },
  {
   "cell_type": "code",
   "execution_count": 65,
   "metadata": {},
   "outputs": [],
   "source": [
    "new_texts = pipe_nn_encoder.predict(my_books['book_content'])"
   ]
  },
  {
   "cell_type": "code",
   "execution_count": 66,
   "metadata": {},
   "outputs": [],
   "source": [
    "# can I do it like this or do I need to add it before?\n",
    "umap_projection_new = umap_mnist.transform(new_texts)"
   ]
  },
  {
   "cell_type": "code",
   "execution_count": 67,
   "metadata": {},
   "outputs": [],
   "source": [
    "# add the new text(s)\n",
    "umap_projection_new = np.concatenate((umap_projection, umap_projection_new), 0)"
   ]
  },
  {
   "cell_type": "code",
   "execution_count": 68,
   "metadata": {},
   "outputs": [],
   "source": [
    "#plt.figure(figsize = (16,8))\n",
    "#palette = sns.color_palette(\"viridis\", 16) #sns.color_palette(\"Paired\")\n",
    "#sns.scatterplot(x=umap_projection_new[:,0], y=umap_projection_new[:,1], \n",
    "#                hue = pd.concat([library_select.replace({'author': num_to_authors})['author'], my_books['author']]).astype('category'),\n",
    "#                #palette=palette,\n",
    "#               alpha = 0.7);"
   ]
  },
  {
   "cell_type": "code",
   "execution_count": 69,
   "metadata": {},
   "outputs": [],
   "source": [
    "library_select_proj = pd.DataFrame(umap_projection_new, columns=[f'proj_{x}' for x in range(2)])"
   ]
  },
  {
   "cell_type": "code",
   "execution_count": 70,
   "metadata": {},
   "outputs": [],
   "source": [
    "library_select_new = pd.concat([library_select.replace({'author': num_to_authors})[['title','author']], my_books[['title', 'author']]])"
   ]
  },
  {
   "cell_type": "code",
   "execution_count": 71,
   "metadata": {},
   "outputs": [],
   "source": [
    "library_select_proj = pd.concat([library_select_new,\n",
    "                                 library_select_proj.set_index(library_select_new.index)], axis=1)"
   ]
  },
  {
   "cell_type": "code",
   "execution_count": 72,
   "metadata": {},
   "outputs": [
    {
     "data": {
      "text/html": [
       "<div>\n",
       "<style scoped>\n",
       "    .dataframe tbody tr th:only-of-type {\n",
       "        vertical-align: middle;\n",
       "    }\n",
       "\n",
       "    .dataframe tbody tr th {\n",
       "        vertical-align: top;\n",
       "    }\n",
       "\n",
       "    .dataframe thead th {\n",
       "        text-align: right;\n",
       "    }\n",
       "</style>\n",
       "<table border=\"1\" class=\"dataframe\">\n",
       "  <thead>\n",
       "    <tr style=\"text-align: right;\">\n",
       "      <th></th>\n",
       "      <th>title</th>\n",
       "      <th>author</th>\n",
       "      <th>proj_0</th>\n",
       "      <th>proj_1</th>\n",
       "    </tr>\n",
       "  </thead>\n",
       "  <tbody>\n",
       "    <tr>\n",
       "      <th>1</th>\n",
       "      <td>Apocolocyntosis</td>\n",
       "      <td>Seneca, Lucius Annaeus</td>\n",
       "      <td>9.578647</td>\n",
       "      <td>0.924581</td>\n",
       "    </tr>\n",
       "    <tr>\n",
       "      <th>21</th>\n",
       "      <td>Divine Comedy, Longfellow's Translation, Hell</td>\n",
       "      <td>Dante Alighieri</td>\n",
       "      <td>7.326895</td>\n",
       "      <td>1.217704</td>\n",
       "    </tr>\n",
       "    <tr>\n",
       "      <th>32</th>\n",
       "      <td>Divine Comedy, Longfellow's Translation, Purga...</td>\n",
       "      <td>Dante Alighieri</td>\n",
       "      <td>7.374713</td>\n",
       "      <td>1.279579</td>\n",
       "    </tr>\n",
       "    <tr>\n",
       "      <th>34</th>\n",
       "      <td>The Complete Poetical Works of Edgar Allan Poe...</td>\n",
       "      <td>Poe, Edgar Allan</td>\n",
       "      <td>11.815406</td>\n",
       "      <td>-2.210218</td>\n",
       "    </tr>\n",
       "    <tr>\n",
       "      <th>43</th>\n",
       "      <td>Divine Comedy, Longfellow's Translation, Paradise</td>\n",
       "      <td>Dante Alighieri</td>\n",
       "      <td>7.356929</td>\n",
       "      <td>1.284400</td>\n",
       "    </tr>\n",
       "    <tr>\n",
       "      <th>...</th>\n",
       "      <td>...</td>\n",
       "      <td>...</td>\n",
       "      <td>...</td>\n",
       "      <td>...</td>\n",
       "    </tr>\n",
       "    <tr>\n",
       "      <th>70269</th>\n",
       "      <td>Tour through the Eastern Counties of England, ...</td>\n",
       "      <td>Defoe, Daniel</td>\n",
       "      <td>7.112865</td>\n",
       "      <td>-2.287408</td>\n",
       "    </tr>\n",
       "    <tr>\n",
       "      <th>70291</th>\n",
       "      <td>Father Sergius</td>\n",
       "      <td>Tolstoy, Leo, graf</td>\n",
       "      <td>10.639836</td>\n",
       "      <td>0.221259</td>\n",
       "    </tr>\n",
       "    <tr>\n",
       "      <th>70302</th>\n",
       "      <td>Master and Man</td>\n",
       "      <td>Tolstoy, Leo, graf</td>\n",
       "      <td>9.492620</td>\n",
       "      <td>0.168352</td>\n",
       "    </tr>\n",
       "    <tr>\n",
       "      <th>0</th>\n",
       "      <td>Deathway</td>\n",
       "      <td>Umer, Tomo</td>\n",
       "      <td>10.726421</td>\n",
       "      <td>-1.431574</td>\n",
       "    </tr>\n",
       "    <tr>\n",
       "      <th>1</th>\n",
       "      <td>Lambda</td>\n",
       "      <td>Umer, Tomo</td>\n",
       "      <td>11.011533</td>\n",
       "      <td>-1.436869</td>\n",
       "    </tr>\n",
       "  </tbody>\n",
       "</table>\n",
       "<p>606 rows × 4 columns</p>\n",
       "</div>"
      ],
      "text/plain": [
       "                                                   title  \\\n",
       "1                                        Apocolocyntosis   \n",
       "21         Divine Comedy, Longfellow's Translation, Hell   \n",
       "32     Divine Comedy, Longfellow's Translation, Purga...   \n",
       "34     The Complete Poetical Works of Edgar Allan Poe...   \n",
       "43     Divine Comedy, Longfellow's Translation, Paradise   \n",
       "...                                                  ...   \n",
       "70269  Tour through the Eastern Counties of England, ...   \n",
       "70291                                     Father Sergius   \n",
       "70302                                     Master and Man   \n",
       "0                                               Deathway   \n",
       "1                                                 Lambda   \n",
       "\n",
       "                       author     proj_0    proj_1  \n",
       "1      Seneca, Lucius Annaeus   9.578647  0.924581  \n",
       "21            Dante Alighieri   7.326895  1.217704  \n",
       "32            Dante Alighieri   7.374713  1.279579  \n",
       "34           Poe, Edgar Allan  11.815406 -2.210218  \n",
       "43            Dante Alighieri   7.356929  1.284400  \n",
       "...                       ...        ...       ...  \n",
       "70269           Defoe, Daniel   7.112865 -2.287408  \n",
       "70291      Tolstoy, Leo, graf  10.639836  0.221259  \n",
       "70302      Tolstoy, Leo, graf   9.492620  0.168352  \n",
       "0                  Umer, Tomo  10.726421 -1.431574  \n",
       "1                  Umer, Tomo  11.011533 -1.436869  \n",
       "\n",
       "[606 rows x 4 columns]"
      ]
     },
     "execution_count": 72,
     "metadata": {},
     "output_type": "execute_result"
    }
   ],
   "source": [
    "library_select_proj"
   ]
  },
  {
   "cell_type": "code",
   "execution_count": 73,
   "metadata": {},
   "outputs": [
    {
     "data": {
      "application/vnd.plotly.v1+json": {
       "config": {
        "plotlyServerURL": "https://plot.ly"
       },
       "data": [
        {
         "customdata": [
          [
           "Apocolocyntosis"
          ],
          [
           "L. Annaeus Seneca on Benefits"
          ],
          [
           "Two Tragedies of Seneca: Medea and The Daughters of Troy: Rendered into English Verse"
          ],
          [
           "Seneca's Morals of a Happy Life, Benefits, Anger and Clemency"
          ],
          [
           "The Tragedies of Seneca: Translated into English Verse, to Which Have Been Appended Comparative Analyses of the Corresponding Greek and Roman Plays, and a Mythological Index"
          ],
          [
           "Index of the Project Gutenberg Works of Lucius Annaeus Seneca"
          ],
          [
           "Minor Dialogues, Together With the Dialogue on Clemency"
          ]
         ],
         "hovertemplate": "author=Seneca, Lucius Annaeus<br>proj_0=%{x}<br>proj_1=%{y}<br>title=%{customdata[0]}<extra></extra>",
         "legendgroup": "Seneca, Lucius Annaeus",
         "marker": {
          "color": "#636efa",
          "symbol": "circle"
         },
         "mode": "markers",
         "name": "Seneca, Lucius Annaeus",
         "orientation": "v",
         "showlegend": true,
         "type": "scatter",
         "x": [
          9.578646659851074,
          10.796550750732422,
          10.547869682312012,
          7.3189215660095215,
          9.347589492797852,
          9.421399116516113,
          11.181051254272461
         ],
         "xaxis": "x",
         "y": [
          0.9245807528495789,
          0.5503160357475281,
          0.7637278437614441,
          -1.9555535316467285,
          -2.280888557434082,
          1.03867506980896,
          -1.1486661434173584
         ],
         "yaxis": "y"
        },
        {
         "customdata": [
          [
           "Divine Comedy, Longfellow's Translation, Hell"
          ],
          [
           "Divine Comedy, Longfellow's Translation, Purgatory"
          ],
          [
           "Divine Comedy, Longfellow's Translation, Paradise"
          ],
          [
           "Divine Comedy, Longfellow's Translation, Complete"
          ],
          [
           "Divine Comedy, Cary's Translation, Hell"
          ],
          [
           "Divine Comedy, Cary's Translation, Purgatory"
          ],
          [
           "Divine Comedy, Cary's Translation, Paradise"
          ],
          [
           "Divine Comedy, Cary's Translation, Complete"
          ],
          [
           "The Banquet (Il Convito)"
          ],
          [
           "The Divine Comedy, Volume 1, Hell"
          ],
          [
           "The Divine Comedy, Volume 2, Purgatory"
          ],
          [
           "The Divine Comedy, Volume 3, Paradise"
          ],
          [
           "The New Life (La Vita Nuova)"
          ],
          [
           "The Divine Comedy of Dante Alighieri: The Inferno"
          ],
          [
           "The Vision of Dante: A story for little children and a talk to their mothers: (Second Edition)"
          ],
          [
           "The vision of hell.: By Dante Alighieri.; Translated by Rev. Henry Francis Cary, M.A.; and illustrated with the seventy-five designs of Gustave Doré."
          ],
          [
           "The Divine Comedy by Dante, Illustrated, Purgatory, Complete"
          ],
          [
           "The Divine Comedy by Dante, Illustrated, Paradise, Complete"
          ],
          [
           "The divine comedy"
          ]
         ],
         "hovertemplate": "author=Dante Alighieri<br>proj_0=%{x}<br>proj_1=%{y}<br>title=%{customdata[0]}<extra></extra>",
         "legendgroup": "Dante Alighieri",
         "marker": {
          "color": "#EF553B",
          "symbol": "circle"
         },
         "mode": "markers",
         "name": "Dante Alighieri",
         "orientation": "v",
         "showlegend": true,
         "type": "scatter",
         "x": [
          7.326895236968994,
          7.37471342086792,
          7.356929302215576,
          7.3750410079956055,
          7.368879318237305,
          7.357934951782227,
          7.3940253257751465,
          7.4047746658325195,
          8.062580108642578,
          7.502494812011719,
          7.633877277374268,
          7.593654632568359,
          8.185112953186035,
          8.36829662322998,
          9.221226692199707,
          7.452154636383057,
          7.309791088104248,
          7.444844722747803,
          7.348398208618164
         ],
         "xaxis": "x",
         "y": [
          1.21770441532135,
          1.2795785665512085,
          1.2843999862670898,
          1.2709095478057861,
          1.2830727100372314,
          1.3656275272369385,
          1.3065615892410278,
          1.295683741569519,
          0.6702966094017029,
          0.9759528636932373,
          0.7616984248161316,
          0.7403234839439392,
          0.6880889534950256,
          -1.044996976852417,
          0.8848174214363098,
          1.2296711206436157,
          1.4245314598083496,
          1.320051670074463,
          1.3749130964279175
         ],
         "yaxis": "y"
        },
        {
         "customdata": [
          [
           "The Complete Poetical Works of Edgar Allan Poe: Including Essays on Poetry"
          ],
          [
           "First Project Gutenberg Collection of Edgar Allan Poe"
          ],
          [
           "The Cask of Amontillado"
          ],
          [
           "The Masque of the Red Death"
          ],
          [
           "The Raven"
          ],
          [
           "Le Corbeau = The Raven"
          ],
          [
           "The Raven"
          ],
          [
           "The Works of Edgar Allan Poe — Volume 1"
          ],
          [
           "The Works of Edgar Allan Poe — Volume 2"
          ],
          [
           "The Works of Edgar Allan Poe — Volume 3"
          ],
          [
           "The Works of Edgar Allan Poe — Volume 4"
          ],
          [
           "The Works of Edgar Allan Poe — Volume 5"
          ],
          [
           "The Works of Edgar Allan Poe, The Raven Edition: Table Of Contents And Index Of The Five Volumes"
          ],
          [
           "Eureka: A Prose Poem"
          ],
          [
           "The Raven: Illustrated"
          ],
          [
           "The Bells, and Other Poems"
          ],
          [
           "The Narrative of Arthur Gordon Pym of Nantucket: Comprising the details of a mutiny and atrocious butchery on board the American brig Grampus, on her way to the South Seas, in the month of June, 1827."
          ],
          [
           "The Raven, and The Philosophy of Composition"
          ],
          [
           "Selections from Poe"
          ]
         ],
         "hovertemplate": "author=Poe, Edgar Allan<br>proj_0=%{x}<br>proj_1=%{y}<br>title=%{customdata[0]}<extra></extra>",
         "legendgroup": "Poe, Edgar Allan",
         "marker": {
          "color": "#00cc96",
          "symbol": "circle"
         },
         "mode": "markers",
         "name": "Poe, Edgar Allan",
         "orientation": "v",
         "showlegend": true,
         "type": "scatter",
         "x": [
          11.81540584564209,
          9.598483085632324,
          9.458786964416504,
          9.503739356994629,
          9.372722625732422,
          9.5697603225708,
          9.553667068481445,
          11.892216682434082,
          11.77403450012207,
          12.312807083129883,
          11.895183563232422,
          11.805980682373047,
          11.837456703186035,
          9.78245735168457,
          9.362958908081055,
          9.767313957214355,
          12.32453441619873,
          9.548430442810059,
          11.869782447814941
         ],
         "xaxis": "x",
         "y": [
          -2.2102177143096924,
          0.7858335375785828,
          1.0332802534103394,
          0.846031904220581,
          1.0802323818206787,
          0.8984839916229248,
          0.9534903764724731,
          -2.3197343349456787,
          -2.3702449798583984,
          -2.6145381927490234,
          -2.3439137935638428,
          -2.215665578842163,
          -2.298184871673584,
          0.23853372037410736,
          1.0429950952529907,
          0.40212780237197876,
          -2.6181366443634033,
          0.8721122145652771,
          -2.2700111865997314
         ],
         "yaxis": "y"
        },
        {
         "customdata": [
          [
           "The Complete Works of William Shakespeare"
          ],
          [
           "Shakespeare's Sonnets"
          ],
          [
           "Venus and Adonis"
          ],
          [
           "The Tragedie of Hamlet, Prince of Denmark: A Study with the Text of the Folio of 1623"
          ],
          [
           "The First Part of Henry the Sixth"
          ],
          [
           "The Second Part of King Henry the Sixth"
          ],
          [
           "The Third Part of King Henry the Sixth"
          ],
          [
           "King Richard III"
          ],
          [
           "The Comedy of Errors"
          ],
          [
           "The Sonnets"
          ],
          [
           "The Tragedy of Titus Andronicus"
          ],
          [
           "The Taming of the Shrew"
          ],
          [
           "The Two Gentlemen of Verona"
          ],
          [
           "Love's Labour's Lost"
          ],
          [
           "King John"
          ],
          [
           "King Richard the Second"
          ],
          [
           "The Tragedy of Romeo and Juliet"
          ],
          [
           "A Midsummer Night's Dream"
          ],
          [
           "The Merchant of Venice"
          ],
          [
           "The First Part of King Henry the Fourth"
          ],
          [
           "The Merry Wives of Windsor"
          ],
          [
           "Second Part of King Henry IV"
          ],
          [
           "Much Ado about Nothing"
          ],
          [
           "The Life of King Henry the Fifth"
          ],
          [
           "The Tragedy of Julius Caesar"
          ],
          [
           "As You Like It"
          ],
          [
           "The Tragedy of Hamlet, Prince of Denmark"
          ],
          [
           "Twelfth Night; Or, What You Will"
          ],
          [
           "Troilus and Cressida"
          ],
          [
           "All's Well That Ends Well"
          ],
          [
           "Measure for Measure"
          ],
          [
           "The Tragedy of Othello, Moor of Venice"
          ],
          [
           "The Tragedy of King Lear"
          ],
          [
           "The Tragedy of Macbeth"
          ],
          [
           "The Tragedy of Antony and Cleopatra"
          ],
          [
           "The Tragedy of Coriolanus"
          ],
          [
           "The Life of Timon of Athens"
          ],
          [
           "Cymbeline"
          ],
          [
           "The Winter's Tale"
          ],
          [
           "The Tempest"
          ],
          [
           "King Henry the Eighth"
          ],
          [
           "A Lover's Complaint"
          ],
          [
           "Shakespeare's play of the Merchant of Venice: Arranged for Representation at the Princess's Theatre, with Historical and Explanatory Notes by Charles Kean, F.S.A."
          ],
          [
           "King Henry VI, the first part"
          ],
          [
           "King Henry VI, the second part"
          ],
          [
           "King Henry VI, the third part"
          ],
          [
           "King Richard III"
          ],
          [
           "The Comedy of Errors"
          ],
          [
           "The Rape of Lucrece"
          ],
          [
           "The Rape of Lucrece"
          ],
          [
           "The Tragedy of Titus Andronicus"
          ],
          [
           "The Taming of the Shrew"
          ],
          [
           "The Two Gentlemen of Verona"
          ],
          [
           "Love's Labour's Lost"
          ],
          [
           "King John"
          ],
          [
           "King Richard II"
          ],
          [
           "Romeo and Juliet"
          ],
          [
           "A Midsummer Night's Dream"
          ],
          [
           "The Merchant of Venice"
          ],
          [
           "King Henry IV, the First Part"
          ],
          [
           "The Merry Wives of Windsor"
          ],
          [
           "King Henry IV, the Second Part"
          ],
          [
           "Much Ado about Nothing"
          ],
          [
           "Much Ado about Nothing"
          ],
          [
           "The Life of King Henry V"
          ],
          [
           "Julius Caesar"
          ],
          [
           "As You Like It"
          ],
          [
           "Hamlet, Prince of Denmark"
          ],
          [
           "The Phoenix and the Turtle"
          ],
          [
           "Twelfth Night; Or, What You Will"
          ],
          [
           "Twelfth Night; Or, What You Will"
          ],
          [
           "Troilus and Cressida"
          ],
          [
           "All's Well That Ends Well"
          ],
          [
           "Measure for Measure"
          ],
          [
           "Othello, the Moor of Venice"
          ],
          [
           "The Tragedy of King Lear"
          ],
          [
           "Macbeth"
          ],
          [
           "Antony and Cleopatra"
          ],
          [
           "The Tragedy of Coriolanus"
          ],
          [
           "The Life of Timon of Athens"
          ],
          [
           "Pericles, Prince of Tyre"
          ],
          [
           "Cymbeline"
          ],
          [
           "The Winter's Tale"
          ],
          [
           "The Tempest"
          ],
          [
           "The Life of Henry the Eighth"
          ],
          [
           "A Lover's Complaint"
          ],
          [
           "The Passionate Pilgrim"
          ],
          [
           "The Passionate Pilgrim"
          ],
          [
           "Sonnets on Sundry Notes of Music"
          ],
          [
           "Henry VI, Part 1"
          ],
          [
           "King Richard III"
          ],
          [
           "The Comedy of Errors"
          ],
          [
           "Titus Andronicus"
          ],
          [
           "The Taming of the Shrew"
          ],
          [
           "Two Gentlemen of Verona"
          ],
          [
           "Love's Labour's Lost"
          ],
          [
           "King John"
          ],
          [
           "King Richard II"
          ],
          [
           "Romeo and Juliet"
          ],
          [
           "A Midsummer Night's Dream"
          ],
          [
           "The Merchant of Venice"
          ],
          [
           "King Henry IV, Part 1"
          ],
          [
           "The Merry Wives of Windsor"
          ],
          [
           "King Henry IV, Part 2"
          ],
          [
           "Much Ado about Nothing"
          ],
          [
           "King Henry V"
          ],
          [
           "Julius Caesar"
          ],
          [
           "As You Like It"
          ],
          [
           "Hamlet"
          ],
          [
           "Troilus and Cressida"
          ],
          [
           "All's Well That Ends Well"
          ],
          [
           "Measure for Measure"
          ],
          [
           "Othello"
          ],
          [
           "King Lear"
          ],
          [
           "Macbeth"
          ],
          [
           "Antony and Cleopatra"
          ],
          [
           "Coriolanus"
          ],
          [
           "Timon of Athens"
          ],
          [
           "Cymbeline"
          ],
          [
           "The Winter's Tale"
          ],
          [
           "The Tempest"
          ],
          [
           "King Henry VIII"
          ],
          [
           "The Tempest"
          ],
          [
           "The Two Gentlemen of Verona"
          ],
          [
           "The Merry Wives of Windsor"
          ],
          [
           "Measure for Measure"
          ],
          [
           "The Comedy of Errors"
          ],
          [
           "Much Ado about Nothing"
          ],
          [
           "Love's Labour's Lost"
          ],
          [
           "A Midsummer Night's Dream"
          ],
          [
           "The Merchant of Venice"
          ],
          [
           "As You Like It"
          ],
          [
           "The Taming of the Shrew"
          ],
          [
           "All's Well That Ends Well"
          ],
          [
           "Twelfth Night"
          ],
          [
           "The Winter's Tale"
          ],
          [
           "King John"
          ],
          [
           "Richard II"
          ],
          [
           "Henry IV, Part 1"
          ],
          [
           "Much Ado About Nothing"
          ],
          [
           "Henry V"
          ],
          [
           "Henry VI, Part 1"
          ],
          [
           "Henry VI, Part 2"
          ],
          [
           "Henry VI, Part 3"
          ],
          [
           "Richard III"
          ],
          [
           "Henry VIII"
          ],
          [
           "Coriolanus"
          ],
          [
           "Titus Andronicus"
          ],
          [
           "Romeo and Juliet"
          ],
          [
           "Timon of Athens"
          ],
          [
           "Julius Caesar"
          ],
          [
           "Macbeth"
          ],
          [
           "Hamlet"
          ],
          [
           "King Lear"
          ],
          [
           "Othello"
          ],
          [
           "Antony and Cleopatra"
          ],
          [
           "Cymbeline"
          ],
          [
           "Shakespeare's First Folio"
          ],
          [
           "King Henry the Fifth: Arranged for Representation at the Princess's Theatre"
          ],
          [
           "The Works of William Shakespeare [Cambridge Edition] [Vol. 1 of 9]: Introduction and Publisher's Advertising"
          ],
          [
           "The Tempest: The Works of William Shakespeare [Cambridge Edition] [9 vols.]"
          ],
          [
           "Two Gentlemen of Verona: The Works of William Shakespeare [Cambridge Edition] [9 vols.]"
          ],
          [
           "The Merry Wives of Windsor: The Works of William Shakespeare [Cambridge Edition] [9 vols.]"
          ],
          [
           "Measure for Measure: The Works of William Shakespeare [Cambridge Edition] [9 vols.]"
          ],
          [
           "The Comedy of Errors: The Works of William Shakespeare [Cambridge Edition] [9 vols.]"
          ],
          [
           "Hamlet, Prince of Denmark"
          ],
          [
           "The New Hudson Shakespeare: Julius Cæsar"
          ],
          [
           "The Works of William Shakespeare [Cambridge Edition] [Vol. 2 of 9]"
          ],
          [
           "Shakespeare's Comedy of The Tempest"
          ],
          [
           "The Works of William Shakespeare [Cambridge Edition] [Vol. 7 of 9]"
          ],
          [
           "Shakespeare's Tragedy of Romeo and Juliet"
          ],
          [
           "The Works of William Shakespeare [Cambridge Edition] [Vol. 6 of 9]"
          ],
          [
           "The Works of William Shakespeare [Cambridge Edition] [Vol. 8 of 9]"
          ],
          [
           "The Works of William Shakespeare [Cambridge Edition] [Vol. 5 of 9]"
          ],
          [
           "The Works of William Shakespeare [Cambridge Edition] [Vol. 4 of 9]"
          ],
          [
           "The Works of William Shakespeare [Cambridge Edition] [Vol. 3 of 9]"
          ],
          [
           "Shakspeare's Mental Photographs"
          ],
          [
           "Flowers from Shakespeare's Garden: A Posy from the Plays"
          ]
         ],
         "hovertemplate": "author=Shakespeare, William<br>proj_0=%{x}<br>proj_1=%{y}<br>title=%{customdata[0]}<extra></extra>",
         "legendgroup": "Shakespeare, William",
         "marker": {
          "color": "#ab63fa",
          "symbol": "circle"
         },
         "mode": "markers",
         "name": "Shakespeare, William",
         "orientation": "v",
         "showlegend": true,
         "type": "scatter",
         "x": [
          3.3774616718292236,
          6.9970526695251465,
          7.074212551116943,
          6.979549884796143,
          2.860363006591797,
          4.151492595672607,
          4.032788276672363,
          4.167072296142578,
          6.726640701293945,
          7.032013893127441,
          3.0468292236328125,
          3.8507277965545654,
          4.284939765930176,
          1.6756850481033325,
          3.0078318119049072,
          3.4121906757354736,
          4.091555118560791,
          4.895756244659424,
          3.6041667461395264,
          3.400674343109131,
          4.829169750213623,
          1.9964892864227295,
          3.655480146408081,
          2.4590699672698975,
          4.063078880310059,
          4.929650783538818,
          3.784484624862671,
          4.2588701248168945,
          3.4611587524414062,
          3.698601245880127,
          4.877954959869385,
          1.7109522819519043,
          3.674503803253174,
          3.5024988651275635,
          1.7185081243515015,
          3.9676287174224854,
          4.909911155700684,
          4.051584243774414,
          1.8057641983032227,
          3.753568410873413,
          2.5307648181915283,
          7.304325103759766,
          3.611844301223755,
          2.8424134254455566,
          4.162519454956055,
          4.130718231201172,
          4.252321720123291,
          6.7583909034729,
          3.3769891262054443,
          3.422358989715576,
          3.188669204711914,
          3.835611581802368,
          4.304326057434082,
          1.6682475805282593,
          3.064995527267456,
          3.3163604736328125,
          4.286054611206055,
          4.925619125366211,
          3.659791946411133,
          3.3894951343536377,
          4.813004016876221,
          1.995352029800415,
          6.817152500152588,
          3.591360330581665,
          2.402801275253296,
          4.062193870544434,
          4.931917190551758,
          3.8057315349578857,
          7.679943084716797,
          4.290595531463623,
          4.199721813201904,
          3.4767138957977295,
          3.750948667526245,
          4.8795576095581055,
          1.6684714555740356,
          3.6579434871673584,
          3.50496244430542,
          1.756246566772461,
          3.9866857528686523,
          4.914758205413818,
          7.211143493652344,
          4.0407586097717285,
          1.7930675745010376,
          3.696202039718628,
          2.576125383377075,
          7.593021392822266,
          7.210146903991699,
          7.189842224121094,
          7.2262067794799805,
          2.805431365966797,
          4.158917427062988,
          6.694314956665039,
          3.199204921722412,
          3.8699636459350586,
          4.258492469787598,
          1.7278169393539429,
          3.031200647354126,
          3.4180407524108887,
          4.044787883758545,
          4.879995822906494,
          3.544773817062378,
          3.4051218032836914,
          4.810852527618408,
          2.0195207595825195,
          3.6402342319488525,
          2.4016218185424805,
          4.063253402709961,
          4.840857982635498,
          3.7330594062805176,
          3.460589647293091,
          3.6641905307769775,
          4.842036247253418,
          1.746941328048706,
          3.689023017883301,
          3.493300676345825,
          1.7857959270477295,
          3.9812183380126953,
          4.879066467285156,
          4.021821022033691,
          1.8014909029006958,
          3.7915704250335693,
          2.501941442489624,
          2.368420362472534,
          3.950010299682617,
          3.791851758956909,
          4.747535705566406,
          3.29801869392395,
          3.024101495742798,
          3.4697976112365723,
          3.7789502143859863,
          3.1441256999969482,
          4.71510124206543,
          2.6185543537139893,
          2.7870078086853027,
          3.2061803340911865,
          2.3517351150512695,
          2.8914411067962646,
          2.7396950721740723,
          3.0230371952056885,
          2.960096597671509,
          2.722099781036377,
          2.8567018508911133,
          3.6184234619140625,
          3.557788610458374,
          3.5143096446990967,
          2.546262741088867,
          3.3730075359344482,
          2.662320852279663,
          2.729936122894287,
          3.7082021236419678,
          4.1399970054626465,
          3.889878511428833,
          3.4458694458007812,
          3.6390268802642822,
          1.748462200164795,
          2.488713026046753,
          3.033165454864502,
          3.4004766941070557,
          3.9752321243286133,
          7.354592323303223,
          3.9053430557250977,
          4.22170877456665,
          4.689793109893799,
          4.879461288452148,
          6.578573226928711,
          4.081564903259277,
          4.152433395385742,
          3.7322745323181152,
          3.722532033920288,
          2.420226812362671,
          3.794696569442749,
          2.370704174041748,
          2.6707139015197754,
          2.609902858734131,
          2.387784242630005,
          2.7122578620910645,
          7.747117042541504,
          7.641691207885742
         ],
         "xaxis": "x",
         "y": [
          5.1972198486328125,
          0.33698028326034546,
          0.278226375579834,
          0.31436076760292053,
          3.999258518218994,
          4.643838405609131,
          4.673779010772705,
          4.5758209228515625,
          0.44522303342819214,
          0.2735132575035095,
          2.884211540222168,
          3.615370988845825,
          2.1280317306518555,
          3.243422269821167,
          2.970186471939087,
          2.8628976345062256,
          4.2611212730407715,
          3.4444851875305176,
          2.6844723224639893,
          3.6860549449920654,
          3.155359983444214,
          3.5651001930236816,
          3.4240670204162598,
          4.205374240875244,
          1.9628788232803345,
          3.4298758506774902,
          4.471926689147949,
          2.2803940773010254,
          3.18742299079895,
          2.471625328063965,
          3.7437920570373535,
          3.2316129207611084,
          4.38772439956665,
          2.816688299179077,
          3.3424971103668213,
          3.857778310775757,
          3.3998095989227295,
          4.268369674682617,
          3.741523504257202,
          2.4974117279052734,
          4.235690116882324,
          0.07893259823322296,
          2.7897021770477295,
          4.020000457763672,
          4.557307720184326,
          4.459230899810791,
          4.430568218231201,
          0.45254671573638916,
          4.209395408630371,
          4.168543338775635,
          2.8600895404815674,
          3.6304945945739746,
          2.0964181423187256,
          3.2596781253814697,
          2.915159225463867,
          2.9143733978271484,
          3.3685896396636963,
          3.3639702796936035,
          2.7040066719055176,
          3.5830492973327637,
          3.0702567100524902,
          3.583427906036377,
          0.4077305197715759,
          3.3304123878479004,
          4.096479415893555,
          1.9571876525878906,
          3.3603832721710205,
          4.423624515533447,
          -0.3676525354385376,
          2.257255792617798,
          2.304292678833008,
          3.2023420333862305,
          2.419708490371704,
          3.8634798526763916,
          3.2904813289642334,
          4.3357014656066895,
          2.8008899688720703,
          3.3985066413879395,
          3.832707405090332,
          3.400017738342285,
          0.14700275659561157,
          4.299389839172363,
          3.774256706237793,
          2.5785868167877197,
          4.284537315368652,
          -0.17346253991127014,
          0.20238669216632843,
          0.20146198570728302,
          0.15295624732971191,
          4.013257026672363,
          4.549745082855225,
          0.47446268796920776,
          2.843606472015381,
          3.6453099250793457,
          2.096896171569824,
          3.2513492107391357,
          2.936713218688965,
          2.9333717823028564,
          4.233846187591553,
          3.445847749710083,
          2.784472703933716,
          3.7034659385681152,
          3.1619107723236084,
          3.557814836502075,
          3.418731451034546,
          4.149619102478027,
          1.9486030340194702,
          3.428791046142578,
          4.456882476806641,
          3.1994802951812744,
          2.509645700454712,
          3.843327760696411,
          3.183102607727051,
          4.411576747894287,
          2.828357458114624,
          3.4111576080322266,
          3.846168279647827,
          3.420474052429199,
          4.245207786560059,
          3.749173402786255,
          2.687676191329956,
          4.227458953857422,
          3.9948067665100098,
          4.7558393478393555,
          5.085446357727051,
          3.9658901691436768,
          2.9683339595794678,
          3.924034833908081,
          5.271419048309326,
          5.079616546630859,
          3.351229190826416,
          3.4809019565582275,
          4.491845607757568,
          4.556040287017822,
          3.209986925125122,
          4.299887180328369,
          3.8177902698516846,
          4.332277774810791,
          3.762784004211426,
          3.962893486022949,
          4.568702697753906,
          3.941216468811035,
          5.200265407562256,
          5.2198405265808105,
          5.2397942543029785,
          4.4392876625061035,
          5.165534973144531,
          4.234531879425049,
          4.555449962615967,
          5.1059770584106445,
          2.0295803546905518,
          4.843120098114014,
          5.152045249938965,
          4.366272926330566,
          3.220867395401001,
          4.293981552124023,
          4.837006568908691,
          5.197131633758545,
          2.854144334793091,
          0.12872007489204407,
          2.514343500137329,
          2.1538219451904297,
          2.861562490463257,
          3.7322700023651123,
          0.5225697159767151,
          2.4275779724121094,
          2.0266811847686768,
          2.8642048835754395,
          2.5621533393859863,
          3.9171338081359863,
          3.7047476768493652,
          4.066708087921143,
          3.467278480529785,
          3.533215284347534,
          4.1950883865356445,
          3.414803981781006,
          -0.07863667607307434,
          -0.3339925706386566
         ],
         "yaxis": "y"
        },
        {
         "customdata": [
          [
           "The Tragedy of Pudd'nhead Wilson"
          ],
          [
           "Extract from Captain Stormfield's Visit to Heaven"
          ],
          [
           "A Horse's Tale"
          ],
          [
           "A Tramp Abroad"
          ],
          [
           "The Man That Corrupted Hadleyburg"
          ],
          [
           "The $30,000 Bequest, and Other Stories"
          ],
          [
           "The Prince and the Pauper"
          ],
          [
           "Extracts from Adam's Diary, translated from the original ms."
          ],
          [
           "Editorial Wild Oats"
          ],
          [
           "Chapters from My Autobiography"
          ],
          [
           "Is Shakespeare Dead?: From My Autobiography"
          ],
          [
           "Life on the Mississippi"
          ],
          [
           "On the Decay of the Art of Lying"
          ],
          [
           "Personal Recollections of Joan of Arc — Volume 1"
          ],
          [
           "Personal Recollections of Joan of Arc — Volume 2"
          ],
          [
           "The Works of Mark Twain: An Index of all Project Gutenberg Editions"
          ],
          [
           "Following the Equator: A Journey Around the World"
          ],
          [
           "In Defence of Harriet Shelley"
          ],
          [
           "Fenimore Cooper's Literary Offences"
          ],
          [
           "Essays on Paul Bourget"
          ],
          [
           "A Dog's Tale"
          ],
          [
           "Mark Twain's Burlesque Autobiography"
          ],
          [
           "The Innocents Abroad"
          ],
          [
           "Roughing It"
          ],
          [
           "The Gilded Age: A Tale of Today"
          ],
          [
           "The American Claimant"
          ],
          [
           "A Double Barrelled Detective Story"
          ],
          [
           "The Stolen White Elephant"
          ],
          [
           "Some Rambling Notes of an Idle Excursion"
          ],
          [
           "The Facts Concerning the Recent Carnival of Crime in Connecticut"
          ],
          [
           "Alonzo Fitz, and Other Stories"
          ],
          [
           "Those Extraordinary Twins"
          ],
          [
           "The Mysterious Stranger, and Other Stories"
          ],
          [
           "Christian Science"
          ],
          [
           "Mark Twain's Speeches"
          ],
          [
           "Sketches New and Old"
          ],
          [
           "1601: Conversation as it was by the Social Fireside in the Time of the Tudors"
          ],
          [
           "Goldsmith's Friend Abroad Again"
          ],
          [
           "The Curious Republic of Gondour, and Other Whimsical Sketches"
          ],
          [
           "Mark Twain's Letters — Volume 1 (1853-1866)"
          ],
          [
           "Mark Twain's Letters — Volume 2 (1867-1875)"
          ],
          [
           "Mark Twain's Letters — Volume 3 (1876-1885)"
          ],
          [
           "Mark Twain's Letters — Volume 4 (1886-1900)"
          ],
          [
           "Mark Twain's Letters — Volume 5 (1901-1906)"
          ],
          [
           "Mark Twain's Letters — Volume 6 (1907-1910)"
          ],
          [
           "Mark Twain's Letters — Complete (1853-1910)"
          ],
          [
           "The Entire Project Gutenberg Works of Mark Twain"
          ],
          [
           "The Adventures of Huckleberry Finn (Tom Sawyer's Comrade)"
          ],
          [
           "How to Tell a Story, and Other Essays"
          ],
          [
           "The Man That Corrupted Hadleyburg, and Other Stories"
          ],
          [
           "The Treaty With China, its Provisions Explained: New York Tribune, Tuesday, August 28, 1868"
          ],
          [
           "Quotations from the Project Gutenberg Editions of the Works of Mark Twain"
          ],
          [
           "The Mysterious Stranger: A Romance"
          ],
          [
           "The Innocents Abroad — Volume 01"
          ],
          [
           "The Innocents Abroad — Volume 02"
          ],
          [
           "The Innocents Abroad — Volume 03"
          ],
          [
           "The Innocents Abroad — Volume 04"
          ],
          [
           "The Innocents Abroad — Volume 05"
          ],
          [
           "The Innocents Abroad — Volume 06"
          ],
          [
           "A Tramp Abroad — Volume 01"
          ],
          [
           "A Tramp Abroad — Volume 02"
          ],
          [
           "A Tramp Abroad — Volume 03"
          ],
          [
           "A Tramp Abroad — Volume 04"
          ],
          [
           "A Tramp Abroad — Volume 05"
          ],
          [
           "A Tramp Abroad — Volume 06"
          ],
          [
           "A Tramp Abroad — Volume 07"
          ],
          [
           "Following the Equator: A Journey Around the World. Part 1"
          ],
          [
           "Following the Equator: A Journey Around the World. Part 2"
          ],
          [
           "Following the Equator: A Journey Around the World. Part 3"
          ],
          [
           "Following the Equator: A Journey Around the World. Part 4"
          ],
          [
           "Following the Equator: A Journey Around the World. Part 5"
          ],
          [
           "Following the Equator: A Journey Around the World. Part 6"
          ],
          [
           "Following the Equator: A Journey Around the World. Part 7"
          ],
          [
           "The Gilded Age, Part 1."
          ],
          [
           "The Gilded Age, Part 2."
          ],
          [
           "The Gilded Age, Part 3."
          ],
          [
           "The Gilded Age, Part 4."
          ],
          [
           "The Gilded Age, Part 5."
          ],
          [
           "The Gilded Age, Part 6."
          ],
          [
           "The Gilded Age, Part 7."
          ],
          [
           "Sketches New and Old, Part 1."
          ],
          [
           "Sketches New and Old, Part 2."
          ],
          [
           "Sketches New and Old, Part 3."
          ],
          [
           "Sketches New and Old, Part 4."
          ],
          [
           "Sketches New and Old, Part 5."
          ],
          [
           "Sketches New and Old, Part 6."
          ],
          [
           "Sketches New and Old, Part 7."
          ],
          [
           "Merry Tales"
          ],
          [
           "Moments with Mark Twain"
          ],
          [
           "The £1,000,000 bank-note, and other new stories"
          ],
          [
           "To the Person Sitting in Darkness"
          ],
          [
           "King Leopold's Soliloquy: A Defense of His Congo Rule"
          ],
          [
           "Europe and elsewhere"
          ],
          [
           "Adventures of Huckleberry Finn, Chapters 01 to 05"
          ],
          [
           "Adventures of Huckleberry Finn, Chapters 06 to 10"
          ],
          [
           "Adventures of Huckleberry Finn, Chapters 11 to 15"
          ],
          [
           "Adventures of Huckleberry Finn, Chapters 16 to 20"
          ],
          [
           "Adventures of Huckleberry Finn, Chapters 21 to 25"
          ],
          [
           "Adventures of Huckleberry Finn, Chapters 26 to 30"
          ],
          [
           "Adventures of Huckleberry Finn, Chapters 31 to 35"
          ],
          [
           "Adventures of Huckleberry Finn, Chapters 36 to the Last"
          ],
          [
           "The Prince and the Pauper, Part 1."
          ],
          [
           "The Prince and the Pauper, Part 2."
          ],
          [
           "The Prince and the Pauper, Part 3."
          ],
          [
           "The Prince and the Pauper, Part 4."
          ],
          [
           "The Prince and the Pauper, Part 5."
          ],
          [
           "The Prince and the Pauper, Part 6."
          ],
          [
           "The Prince and the Pauper, Part 7."
          ],
          [
           "The Prince and the Pauper, Part 8."
          ],
          [
           "The Prince and the Pauper, Part 9."
          ],
          [
           "The Adventures of Tom Sawyer, Part 1."
          ],
          [
           "The Adventures of Tom Sawyer, Part 2."
          ],
          [
           "The Adventures of Tom Sawyer, Part 3."
          ],
          [
           "The Adventures of Tom Sawyer, Part 4."
          ],
          [
           "The Adventures of Tom Sawyer, Part 5."
          ],
          [
           "The Adventures of Tom Sawyer, Part 6."
          ],
          [
           "The Adventures of Tom Sawyer, Part 7."
          ],
          [
           "The Adventures of Tom Sawyer, Part 8."
          ],
          [
           "A Connecticut Yankee in King Arthur's Court, Part 1."
          ],
          [
           "A Connecticut Yankee in King Arthur's Court, Part 2."
          ],
          [
           "A Connecticut Yankee in King Arthur's Court, Part 3."
          ],
          [
           "A Connecticut Yankee in King Arthur's Court, Part 4."
          ],
          [
           "A Connecticut Yankee in King Arthur's Court, Part 5."
          ],
          [
           "A Connecticut Yankee in King Arthur's Court, Part 6."
          ],
          [
           "A Connecticut Yankee in King Arthur's Court, Part 7."
          ],
          [
           "A Connecticut Yankee in King Arthur's Court, Part 8."
          ],
          [
           "A Connecticut Yankee in King Arthur's Court, Part 9."
          ],
          [
           "Eve's Diary, Complete"
          ]
         ],
         "hovertemplate": "author=Twain, Mark<br>proj_0=%{x}<br>proj_1=%{y}<br>title=%{customdata[0]}<extra></extra>",
         "legendgroup": "Twain, Mark",
         "marker": {
          "color": "#FFA15A",
          "symbol": "circle"
         },
         "mode": "markers",
         "name": "Twain, Mark",
         "orientation": "v",
         "showlegend": true,
         "type": "scatter",
         "x": [
          10.430167198181152,
          9.606029510498047,
          10.54323673248291,
          10.683772087097168,
          9.671009063720703,
          10.868176460266113,
          9.86999797821045,
          9.733572959899902,
          9.488513946533203,
          10.954044342041016,
          9.353653907775879,
          11.561271667480469,
          9.209622383117676,
          10.302213668823242,
          10.398154258728027,
          9.2501220703125,
          10.788986206054688,
          9.3231782913208,
          8.722724914550781,
          9.252463340759277,
          8.69765567779541,
          9.044685363769531,
          10.985128402709961,
          11.653844833374023,
          10.366996765136719,
          10.89333438873291,
          9.817859649658203,
          9.169366836547852,
          9.673428535461426,
          8.757561683654785,
          10.91457748413086,
          10.360358238220215,
          10.042961120605469,
          10.390746116638184,
          10.240212440490723,
          10.856682777404785,
          9.112436294555664,
          10.422609329223633,
          9.91676139831543,
          10.93268871307373,
          10.80274486541748,
          11.180285453796387,
          11.212926864624023,
          10.618800163269043,
          11.16800594329834,
          11.154597282409668,
          11.061142921447754,
          10.567444801330566,
          8.721588134765625,
          10.244293212890625,
          8.575913429260254,
          9.38046932220459,
          10.05319881439209,
          10.561484336853027,
          10.780049324035645,
          10.95466136932373,
          10.979633331298828,
          10.411517143249512,
          10.506011962890625,
          9.555313110351562,
          9.55600357055664,
          11.041929244995117,
          10.081300735473633,
          10.785543441772461,
          10.20683765411377,
          11.309907913208008,
          10.760915756225586,
          10.290188789367676,
          10.426119804382324,
          10.49530029296875,
          10.64449691772461,
          10.420231819152832,
          10.527724266052246,
          10.002411842346191,
          10.242727279663086,
          9.534544944763184,
          10.449644088745117,
          10.198572158813477,
          10.173619270324707,
          10.18560791015625,
          10.114323616027832,
          10.135890007019043,
          10.708040237426758,
          10.647380828857422,
          9.673330307006836,
          10.572912216186523,
          10.248824119567871,
          10.13375186920166,
          10.95918083190918,
          10.868253707885742,
          8.695189476013184,
          8.770964622497559,
          10.793831825256348,
          9.70827579498291,
          9.873384475708008,
          10.095806121826172,
          10.106846809387207,
          10.003578186035156,
          10.319825172424316,
          10.009185791015625,
          10.328836441040039,
          8.805826187133789,
          8.943471908569336,
          8.729410171508789,
          8.977073669433594,
          9.742717742919922,
          10.504638671875,
          8.866316795349121,
          8.858330726623535,
          9.78662395477295,
          9.192994117736816,
          10.002008438110352,
          9.85840892791748,
          10.41282844543457,
          9.494405746459961,
          8.863954544067383,
          8.694674491882324,
          9.457510948181152,
          9.488214492797852,
          9.455249786376953,
          9.24275016784668,
          9.947270393371582,
          9.411120414733887,
          9.85546588897705,
          10.441620826721191,
          10.504801750183105,
          9.39422607421875,
          8.788366317749023
         ],
         "xaxis": "x",
         "y": [
          -1.085279107093811,
          9.361701011657715,
          -1.1634217500686646,
          9.376431465148926,
          9.44163703918457,
          8.754338264465332,
          8.705052375793457,
          9.532181739807129,
          9.116522789001465,
          -1.3921536207199097,
          8.65420150756836,
          -1.365110158920288,
          0.5876296162605286,
          8.350763320922852,
          8.38076400756836,
          0.9190845489501953,
          9.520064353942871,
          9.041109085083008,
          9.073467254638672,
          8.804579734802246,
          9.139878273010254,
          9.150689125061035,
          8.870080947875977,
          -1.4192134141921997,
          8.332733154296875,
          -1.2759270668029785,
          9.344117164611816,
          9.152935981750488,
          8.731720924377441,
          9.010152816772461,
          -1.3111271858215332,
          -0.9723272919654846,
          8.55162239074707,
          -0.9014438986778259,
          9.352607727050781,
          8.533208847045898,
          8.832992553710938,
          -1.0080089569091797,
          8.640037536621094,
          9.218360900878906,
          8.647897720336914,
          9.023518562316895,
          9.036271095275879,
          9.139863014221191,
          8.992881774902344,
          9.033809661865234,
          8.870917320251465,
          9.176290512084961,
          9.338534355163574,
          8.779150009155273,
          9.240839958190918,
          9.160564422607422,
          8.534676551818848,
          8.87341022491455,
          9.175407409667969,
          8.930121421813965,
          8.921113967895508,
          8.833924293518066,
          8.87710189819336,
          9.544071197509766,
          8.681702613830566,
          -1.2814421653747559,
          9.233439445495605,
          9.404277801513672,
          9.612340927124023,
          -1.2076420783996582,
          9.547737121582031,
          9.647412300109863,
          9.689614295959473,
          9.348386764526367,
          9.55451774597168,
          9.651681900024414,
          9.611977577209473,
          8.962915420532227,
          8.24850845336914,
          9.35590934753418,
          9.296639442443848,
          8.217705726623535,
          8.305389404296875,
          8.23337459564209,
          8.614959716796875,
          9.082419395446777,
          8.593871116638184,
          8.559073448181152,
          8.733633995056152,
          8.507826805114746,
          9.326108932495117,
          8.907414436340332,
          8.865156173706055,
          8.697955131530762,
          9.230972290039062,
          9.252670288085938,
          9.249187469482422,
          9.471283912658691,
          9.498766899108887,
          9.412495613098145,
          9.45994758605957,
          9.383851051330566,
          9.259828567504883,
          9.325162887573242,
          9.264195442199707,
          8.97789192199707,
          9.085002899169922,
          9.033733367919922,
          8.977767944335938,
          8.899969100952148,
          -1.1685752868652344,
          8.898436546325684,
          9.021066665649414,
          9.436779975891113,
          9.050969123840332,
          8.826559066772461,
          9.394183158874512,
          -1.1414084434509277,
          9.414926528930664,
          9.156600952148438,
          9.310739517211914,
          0.13419821858406067,
          9.057814598083496,
          8.826858520507812,
          8.815804481506348,
          9.469573974609375,
          8.760492324829102,
          8.863066673278809,
          -1.1550886631011963,
          -1.1450122594833374,
          9.377450942993164,
          9.1104097366333
         ],
         "yaxis": "y"
        },
        {
         "customdata": [
          [
           "An Antarctic Mystery"
          ],
          [
           "Around the World in Eighty Days"
          ],
          [
           "The Adventures of a Special Correspondent Among the Various Races and Countries of Central Asia: Being the Exploits and Experiences of Claudius Bombarnac of \"The Twentieth Century\""
          ],
          [
           "Facing the Flag"
          ],
          [
           "Dick Sand: A Captain at Fifteen"
          ],
          [
           "The Mysterious Island"
          ],
          [
           "The Moon-Voyage"
          ],
          [
           "Ticket No. \"9672\""
          ],
          [
           "Off on a Comet! a Journey through Planetary Space"
          ],
          [
           "The Underground City; Or, The Black Indies: (Sometimes Called The Child of the Cavern)"
          ],
          [
           "A Voyage in a Balloon (1852)"
          ],
          [
           "All Around the Moon"
          ],
          [
           "Twenty Thousand Leagues under the Sea"
          ],
          [
           "The Survivors of the Chancellor: Diary of J.R. Kazallon, Passenger"
          ],
          [
           "The Survivors of the Chancellor"
          ],
          [
           "Michael Strogoff; Or, The Courier of the Czar"
          ],
          [
           "A Journey to the Centre of the Earth"
          ],
          [
           "In the Year 2889"
          ],
          [
           "In Search of the Castaways; Or, The Children of Captain Grant"
          ],
          [
           "The Secret of the Island"
          ],
          [
           "Around the World in Eighty Days. Junior Deluxe Edition"
          ],
          [
           "The English at the North Pole: Part I of the Adventures of Captain Hatteras"
          ],
          [
           "Godfrey Morgan: A Californian Mystery"
          ],
          [
           "Celebrated Travels and Travellers, Part 1.: The Exploration of the World"
          ],
          [
           "Twenty Thousand Leagues Under the Seas: An Underwater Tour of the World"
          ],
          [
           "Celebrated Travels and Travellers, Part 2.: The Great Navigators of the Eighteenth Century"
          ],
          [
           "Celebrated Travels and Travellers, Part 3.: The Great Explorers of the Nineteenth Century"
          ],
          [
           "The Pearl of Lima: A Story of True Love"
          ],
          [
           "A Winter Amid the Ice, and Other Thrilling Stories"
          ],
          [
           "The Voyages and Adventures of Captain Hatteras"
          ],
          [
           "Eight Hundred Leagues on the Amazon"
          ],
          [
           "Round the World in Eighty Days"
          ],
          [
           "Abandoned"
          ],
          [
           "Five Weeks in a Balloon: Or, Journeys and Discoveries in Africa by Three Englishmen"
          ],
          [
           "A Journey into the Interior of the Earth"
          ],
          [
           "Robur the Conqueror"
          ],
          [
           "The Master of the World"
          ],
          [
           "From the Earth to the Moon, Direct in Ninety-Seven Hours and Twenty Minutes: and a Trip Round It"
          ],
          [
           "In Search of the Castaways: A Romantic Narrative of the Loss of Captain Grant of the Brig Britannia and of the Adventures of His Children and Friends in His Discovery and Rescue"
          ],
          [
           "Index of the Project Gutenberg Works of Jules Verne"
          ],
          [
           "The Purchase of the North Pole: A sequel to \"From the earth to the moon\""
          ],
          [
           "The Castaways of the Flag: The Final Adventures of the Swiss Family Robinson"
          ],
          [
           "Meridiana: The Adventures of Three Englishmen and Three Russians: In  South Africa"
          ],
          [
           "A Floating City, and The Blockade Runners"
          ],
          [
           "The Fur Country: Or, Seventy Degrees North Latitude"
          ],
          [
           "The Mysterious Island"
          ]
         ],
         "hovertemplate": "author=Verne, Jules<br>proj_0=%{x}<br>proj_1=%{y}<br>title=%{customdata[0]}<extra></extra>",
         "legendgroup": "Verne, Jules",
         "marker": {
          "color": "#19d3f3",
          "symbol": "circle"
         },
         "mode": "markers",
         "name": "Verne, Jules",
         "orientation": "v",
         "showlegend": true,
         "type": "scatter",
         "x": [
          13.213379859924316,
          13.442855834960938,
          13.15081787109375,
          13.13598918914795,
          13.140496253967285,
          12.674044609069824,
          13.018793106079102,
          9.695625305175781,
          13.434483528137207,
          13.051889419555664,
          9.69414234161377,
          13.004449844360352,
          12.776724815368652,
          12.877161026000977,
          12.915206909179688,
          13.216819763183594,
          12.854602813720703,
          9.399935722351074,
          12.795903205871582,
          12.778231620788574,
          13.39526081085205,
          13.265316009521484,
          13.194851875305176,
          12.680220603942871,
          12.754215240478516,
          12.794529914855957,
          12.644526481628418,
          13.131013870239258,
          13.058469772338867,
          13.217445373535156,
          13.181403160095215,
          13.408653259277344,
          12.70131778717041,
          12.900185585021973,
          13.037642478942871,
          13.199409484863281,
          13.37636947631836,
          13.210476875305176,
          12.733057022094727,
          13.291049003601074,
          13.303460121154785,
          13.229413032531738,
          13.11557388305664,
          13.175318717956543,
          12.802094459533691,
          12.794134140014648
         ],
         "xaxis": "x",
         "y": [
          -2.299342393875122,
          -2.29176926612854,
          -2.3241753578186035,
          -1.9098175764083862,
          -2.619877576828003,
          -2.934321880340576,
          -2.5469772815704346,
          -0.5494568943977356,
          -2.4239354133605957,
          -1.792107343673706,
          -0.4107888340950012,
          -2.5420002937316895,
          -2.7171854972839355,
          -2.5864033699035645,
          -2.6308069229125977,
          -2.671010971069336,
          -2.6618764400482178,
          0.17367681860923767,
          -2.6893203258514404,
          -2.9474527835845947,
          -2.237602710723877,
          -2.660540819168091,
          -1.9574806690216064,
          -2.8025062084198,
          -2.7750916481018066,
          -2.7714695930480957,
          -2.803388833999634,
          -1.7735530138015747,
          -2.462162733078003,
          -2.107945203781128,
          -2.6256275177001953,
          -2.1794252395629883,
          -2.872920274734497,
          -2.7037620544433594,
          -2.6859564781188965,
          -2.1419270038604736,
          -2.466883420944214,
          -2.118244171142578,
          -2.6742477416992188,
          -2.5237841606140137,
          -2.008805513381958,
          -2.0364840030670166,
          -2.359659433364868,
          -2.661064386367798,
          -2.7789971828460693,
          -2.897198438644409
         ],
         "yaxis": "y"
        },
        {
         "customdata": [
          [
           "Persuasion"
          ],
          [
           "Love and Freindship [sic]"
          ],
          [
           "Northanger Abbey"
          ],
          [
           "Pride and Prejudice"
          ],
          [
           "Mansfield Park"
          ],
          [
           "Emma"
          ],
          [
           "Sense and Sensibility"
          ],
          [
           "Sense and Sensibility"
          ],
          [
           "The Complete Project Gutenberg Works of Jane Austen: A Linked Index of all PG Editions of Jane Austen"
          ],
          [
           "Pride and Prejudice, a play founded on Jane Austen's novel"
          ],
          [
           "The Letters of Jane Austen: Selected from the compilation of her great nephew, Edward, Lord Bradbourne"
          ],
          [
           "Pride and Prejudice"
          ],
          [
           "The Watsons: By Jane Austen, Concluded by L. Oulton"
          ],
          [
           "Lady Susan"
          ]
         ],
         "hovertemplate": "author=Austen, Jane<br>proj_0=%{x}<br>proj_1=%{y}<br>title=%{customdata[0]}<extra></extra>",
         "legendgroup": "Austen, Jane",
         "marker": {
          "color": "#FF6692",
          "symbol": "circle"
         },
         "mode": "markers",
         "name": "Austen, Jane",
         "orientation": "v",
         "showlegend": true,
         "type": "scatter",
         "x": [
          9.434178352355957,
          9.426586151123047,
          9.654062271118164,
          7.333206653594971,
          9.645400047302246,
          9.518199920654297,
          9.479589462280273,
          9.413052558898926,
          9.241129875183105,
          9.379361152648926,
          9.399017333984375,
          7.3707356452941895,
          9.43871021270752,
          9.39659309387207
         ],
         "xaxis": "x",
         "y": [
          -1.0262190103530884,
          -0.9645220637321472,
          -0.948556661605835,
          -2.533005475997925,
          -0.9662572741508484,
          -0.8737151622772217,
          -1.0733613967895508,
          -1.1098508834838867,
          0.8859769105911255,
          -0.8989337086677551,
          -1.1153926849365234,
          -2.496021270751953,
          -0.9338687062263489,
          -0.8973340392112732
         ],
         "yaxis": "y"
        },
        {
         "customdata": [
          [
           "The Life and Adventures of Robinson Crusoe of York, Mariner, Volume 1: With an Account of His Travels Round Three Parts of the Globe,; Written By Himself, in Two Volumes"
          ],
          [
           "From London to Land's End: and Two Letters from the \"Journey through England by a Gentleman\""
          ],
          [
           "The Life and Most Surprising Adventures of Robinson Crusoe, of York, Mariner (1801)"
          ],
          [
           "Memoirs of a Cavalier: A Military Journal of the Wars in Germany, and the Wars in England.; From the Year 1632 to the Year 1648."
          ],
          [
           "The Life and Adventures of Robinson Crusoe (1808)"
          ],
          [
           "The History of the Remarkable Life of John Sheppard: Containing a Particular Account of His Many Robberies and Escapes"
          ],
          [
           "A Vindication of the Press"
          ],
          [
           "Military Memoirs of Capt. George Carleton"
          ],
          [
           "Memoirs of Major Alexander Ramkins (1718)"
          ],
          [
           "The Complete English Tradesman (1839 ed.)"
          ],
          [
           "History of the Plague in London"
          ],
          [
           "Dickory Cronke: The Dumb Philosopher, or, Great Britain's Wonder"
          ],
          [
           "Everybody's Business Is Nobody's Business: Or, Private Abuses, Public Grievances; Exemplified in the Pride, Insolence, and Exorbitant Wages of Our Women, Servants, Footmen, &c."
          ],
          [
           "Atalantis Major"
          ],
          [
           "The True-Born Englishman: A Satire"
          ],
          [
           "The Fortunate Mistress (Parts 1 and 2): or a History of the Life of Mademoiselle de Beleau Known by the Name of the Lady Roxana"
          ],
          [
           "The History of the Devil, As Well Ancient as Modern: In Two Parts"
          ],
          [
           "An Appeal to Honour and Justice, Though It Be of His Worst Enemies.: Being A True Account of His Conduct in Public Affairs."
          ],
          [
           "An Humble Proposal to the People of England, for the Increase of their Trade, and Encouragement of Their Manufactures: Whether the Present Uncertainty of Affairs Issues in Peace or War"
          ],
          [
           "Second Thoughts are Best: Or a Further Improvement of a Late Scheme to Prevent Street Robberies"
          ],
          [
           "Augusta Triumphans: Or, the Way to Make London the Most Flourishing City in the Universe"
          ],
          [
           "A New Voyage Round the World by a Course Never Sailed Before"
          ],
          [
           "A True Relation of the Apparition of one Mrs. Veal: The Next Day after Her Death, to one Mrs. Bargrave, at Canterbury, the 8th of September, 1705; which Apparition Recommends the Perusal of Drelincourt's Book of Consolations against the Fears of Death"
          ],
          [
           "Reasons Against the Succession of the House of Hanover: With an Enquiry How Far the Abdication of King James, Supposing It to Be Legal, Ought to Affect the Person of the Pretender"
          ],
          [
           "A Seasonable Warning and Caution against the Insinuations of Papists and Jacobites in favour of the Pretender: Being a Letter from an Englishman at the Court of Hanover"
          ],
          [
           "An Answer to a Question that Nobody thinks of, viz., But what if the Queen should Die?"
          ],
          [
           "The Lay-Man's Sermon upon the Late Storm: Held forth at an Honest Coffee-House-Conventicle"
          ],
          [
           "And What if the Pretender should Come?: Or Some Considerations of the Advantages and Real Consequences of the Pretender's Possessing the Crown of Great Britain"
          ],
          [
           "The Fortunes and Misfortunes of the Famous Moll Flanders"
          ],
          [
           "A Short Narrative of the Life and Actions of His Grace John, D. of Marlborogh"
          ],
          [
           "A Journal of the Plague Year: Being Observations or Memorials of the Most Remarkable Occurrences, as Well Public as Private, Which Happened in London During the Last Great Visitation in 1665. Written by a Citizen Who Continued All the While in London"
          ],
          [
           "The King of Pirates: Being an Account of the Famous Enterprises of Captain Avery, the Mock King of Madagascar"
          ],
          [
           "A General History of the Pyrates:: from their first rise and settlement in the island of Providence, to the present time"
          ],
          [
           "An Essay Upon Projects"
          ],
          [
           "The Storm. An Essay."
          ],
          [
           "The Storm: or, a Collection of the most Remarkable Casualties and Disasters which Happen'd in the Late Dreadful Tempest, both by Sea and Land"
          ],
          [
           "The Life and Adventures of Robinson Crusoe"
          ],
          [
           "The History and Remarkable Life of the Truly Honourable Colonel Jacque, Commonly Called Colonel Jack"
          ],
          [
           "The Friendly Daemon, or the Generous Apparition: Being a True Narrative of a Miraculous Cure, Newly Perform'd Upon That Famous Deaf and Dumb Gentleman, Dr. Duncan Campbel, by a Familiar Spirit That Appear'd to Him in a White Surplice, Like a Cathedral Singing Boy"
          ],
          [
           "The Further Adventures of Robinson Crusoe"
          ],
          [
           "The History of the Pyrates. Vol. II.: Containing the lives of Captain Misson, Captain Bowen, Captain Kidd, Captain Tew, Captain Halsey, Captain White, Captain Condent, Captain Bellamy, Captain Fly, Captain Howard, Captain Lewis, Captain Cornelius, Captain Williams, Captain Burgess, Captain North, and their several crews"
          ],
          [
           "The Life, Adventures & Piracies of the Famous Captain Singleton"
          ],
          [
           "Robinson Crusoe, Told to the Children by John Lang"
          ],
          [
           "The Consolidator; or, Memoirs of Sundry Transactions from the World in the Moon"
          ],
          [
           "Tour through the Eastern Counties of England, 1722"
          ]
         ],
         "hovertemplate": "author=Defoe, Daniel<br>proj_0=%{x}<br>proj_1=%{y}<br>title=%{customdata[0]}<extra></extra>",
         "legendgroup": "Defoe, Daniel",
         "marker": {
          "color": "#B6E880",
          "symbol": "circle"
         },
         "mode": "markers",
         "name": "Defoe, Daniel",
         "orientation": "v",
         "showlegend": true,
         "type": "scatter",
         "x": [
          6.859939098358154,
          7.25559663772583,
          6.813338279724121,
          6.919737339019775,
          6.835047245025635,
          7.474464416503906,
          7.435512065887451,
          7.028049945831299,
          7.121145725250244,
          6.852357387542725,
          6.874934196472168,
          7.390366077423096,
          7.553948879241943,
          7.347507953643799,
          7.9233527183532715,
          7.1127142906188965,
          7.328877925872803,
          7.39329195022583,
          7.330930233001709,
          7.5302863121032715,
          7.495102882385254,
          7.131410121917725,
          7.9089179039001465,
          7.804896354675293,
          7.650638103485107,
          7.802544116973877,
          7.600275993347168,
          7.617629528045654,
          6.966859817504883,
          7.713107585906982,
          6.876185894012451,
          7.107845306396484,
          6.909017086029053,
          7.174028396606445,
          7.621896743774414,
          6.999451160430908,
          6.827789783477783,
          6.956206321716309,
          7.662878036499023,
          7.005789279937744,
          6.986915588378906,
          7.123177528381348,
          7.651342391967773,
          6.897156238555908,
          7.112864971160889
         ],
         "xaxis": "x",
         "y": [
          -2.737480640411377,
          -1.9662703275680542,
          -2.7472002506256104,
          -2.3627219200134277,
          -2.7375411987304688,
          -1.4068548679351807,
          -1.4486647844314575,
          -2.5229272842407227,
          -2.0247106552124023,
          -2.5420446395874023,
          -2.660983085632324,
          -1.5062386989593506,
          -1.2943097352981567,
          -1.5532337427139282,
          -1.0186024904251099,
          -2.2426650524139404,
          -1.6094963550567627,
          -1.5193909406661987,
          -1.569667935371399,
          -1.2618780136108398,
          -1.346803069114685,
          -2.3320915699005127,
          -0.766016960144043,
          -0.9470692276954651,
          -1.1376454830169678,
          -1.0660817623138428,
          -1.1605384349822998,
          -1.2525914907455444,
          -2.5134239196777344,
          -1.1257702112197876,
          -2.5910086631774902,
          -2.107877254486084,
          -2.670858144760132,
          -2.0669262409210205,
          -0.5851373672485352,
          -2.3495380878448486,
          -2.7119622230529785,
          -2.440605640411377,
          -1.2837588787078857,
          -2.4573333263397217,
          -2.567538022994995,
          -2.26713228225708,
          -1.2428712844848633,
          -2.430940628051758,
          -2.2874081134796143
         ],
         "yaxis": "y"
        },
        {
         "customdata": [
          [
           "The Secret Adversary"
          ],
          [
           "The Murder on the Links"
          ],
          [
           "The Man in the Brown Suit"
          ],
          [
           "Poirot Investigates"
          ],
          [
           "The Secret of Chimneys"
          ],
          [
           "The Plymouth Express Affair"
          ],
          [
           "The Hunter's Lodge Case"
          ],
          [
           "The Missing Will"
          ],
          [
           "The murder of Roger Ackroyd"
          ],
          [
           "The Big Four"
          ],
          [
           "The Mysterious Affair at Styles"
          ]
         ],
         "hovertemplate": "author=Christie, Agatha<br>proj_0=%{x}<br>proj_1=%{y}<br>title=%{customdata[0]}<extra></extra>",
         "legendgroup": "Christie, Agatha",
         "marker": {
          "color": "#FF97FF",
          "symbol": "circle"
         },
         "mode": "markers",
         "name": "Christie, Agatha",
         "orientation": "v",
         "showlegend": true,
         "type": "scatter",
         "x": [
          9.586468696594238,
          9.58782958984375,
          9.949400901794434,
          9.487626075744629,
          9.711873054504395,
          9.366572380065918,
          9.341697692871094,
          9.398964881896973,
          9.71367073059082,
          9.695679664611816,
          9.600419044494629
         ],
         "xaxis": "x",
         "y": [
          -0.27314862608909607,
          -0.3603709638118744,
          -0.4692596197128296,
          -0.18876482546329498,
          -0.39528122544288635,
          -0.0509476475417614,
          0.158796489238739,
          0.2534187436103821,
          -0.4239332973957062,
          -0.3497748374938965,
          -0.34500226378440857
         ],
         "yaxis": "y"
        },
        {
         "customdata": [
          [
           "Apology, Crito, and Phaedo of Socrates"
          ],
          [
           "The Republic"
          ],
          [
           "The Republic"
          ],
          [
           "Critias"
          ],
          [
           "Timaeus"
          ],
          [
           "Lysis"
          ],
          [
           "Charmides"
          ],
          [
           "Laches"
          ],
          [
           "Protagoras"
          ],
          [
           "Euthydemus"
          ],
          [
           "Symposium"
          ],
          [
           "Cratylus"
          ],
          [
           "Ion"
          ],
          [
           "Phaedrus"
          ],
          [
           "Euthyphro"
          ],
          [
           "Meno"
          ],
          [
           "Apology"
          ],
          [
           "Crito"
          ],
          [
           "Phaedo"
          ],
          [
           "Gorgias"
          ],
          [
           "Menexenus"
          ],
          [
           "Parmenides"
          ],
          [
           "Theaetetus"
          ],
          [
           "Sophist"
          ],
          [
           "Statesman"
          ],
          [
           "Philebus"
          ],
          [
           "Laws"
          ],
          [
           "The Project Gutenberg Works of Plato: An Index"
          ],
          [
           "The Republic of Plato"
          ]
         ],
         "hovertemplate": "author=Plato<br>proj_0=%{x}<br>proj_1=%{y}<br>title=%{customdata[0]}<extra></extra>",
         "legendgroup": "Plato",
         "marker": {
          "color": "#FECB52",
          "symbol": "circle"
         },
         "mode": "markers",
         "name": "Plato",
         "orientation": "v",
         "showlegend": true,
         "type": "scatter",
         "x": [
          11.926325798034668,
          11.937610626220703,
          11.915273666381836,
          11.525822639465332,
          11.876148223876953,
          11.432948112487793,
          11.860125541687012,
          11.304471969604492,
          11.754305839538574,
          11.36528205871582,
          11.61117172241211,
          11.38270092010498,
          11.236654281616211,
          11.870281219482422,
          11.162805557250977,
          11.543588638305664,
          11.746604919433594,
          11.318950653076172,
          11.946110725402832,
          11.711119651794434,
          11.669857025146484,
          11.859602928161621,
          11.517526626586914,
          11.417015075683594,
          11.276378631591797,
          11.738597869873047,
          11.867253303527832,
          9.333861351013184,
          11.952229499816895
         ],
         "xaxis": "x",
         "y": [
          1.6242215633392334,
          0.4225025177001953,
          0.5197452902793884,
          1.7805142402648926,
          1.4712648391723633,
          1.883303165435791,
          1.775550365447998,
          1.8950453996658325,
          1.985702633857727,
          1.9194666147232056,
          1.921904444694519,
          1.8598010540008545,
          1.900974988937378,
          1.84298574924469,
          1.8149700164794922,
          1.8998018503189087,
          1.9261337518692017,
          1.9876176118850708,
          1.7295541763305664,
          1.958025574684143,
          1.9851659536361694,
          1.76575767993927,
          1.8616021871566772,
          1.9316004514694214,
          1.9272170066833496,
          1.8213454484939575,
          1.8839943408966064,
          1.0585005283355713,
          0.5577139854431152
         ],
         "yaxis": "y"
        },
        {
         "customdata": [
          [
           "Anna Karenina"
          ],
          [
           "The Awakening: (The Resurrection)"
          ],
          [
           "Resurrection"
          ],
          [
           "Childhood"
          ],
          [
           "The Forged Coupon, and Other Stories"
          ],
          [
           "Boyhood"
          ],
          [
           "War and Peace"
          ],
          [
           "Youth"
          ],
          [
           "Plays: Complete Edition, Including the Posthumous Plays"
          ],
          [
           "The Power of Darkness"
          ],
          [
           "The First Distiller"
          ],
          [
           "Fruits of Culture"
          ],
          [
           "The Live Corpse"
          ],
          [
           "The Cause of it All"
          ],
          [
           "The Light Shines in Darkness"
          ],
          [
           "\"Bethink Yourselves!\""
          ],
          [
           "Tolstoy on Shakespeare: A Critical Essay on Shakespeare"
          ],
          [
           "The Census in Moscow"
          ],
          [
           "What to Do? Thoughts Evoked By the Census of Moscow"
          ],
          [
           "What to Do? Thoughts Evoked by the Census of Moscow"
          ],
          [
           "On the Significance of Science and Art"
          ],
          [
           "Fables for Children, Stories for Children, Natural Science Stories, Popular Education, Decembrists, Moral Tales"
          ],
          [
           "Where Love is There God is Also"
          ],
          [
           "What Shall We Do?"
          ],
          [
           "A Russian Proprietor, and Other Stories"
          ],
          [
           "\"The Kingdom of God Is Within You\": Christianity Not as a Mystic Religion but as a New Theory of Life"
          ],
          [
           "The Kingdom of God is Within You / Christianity and Patriotism / Miscellanies"
          ],
          [
           "The Kingdom of God is Within You; What is Art?"
          ],
          [
           "My Religion"
          ],
          [
           "Katia"
          ],
          [
           "\"The Kingdom of God Is Within You\": Christianity Not as a Mystic Religion but as a New Theory of Life"
          ],
          [
           "The Journal of Leo Tolstoi (First Volume—1895-1899)"
          ],
          [
           "Sevastopol"
          ],
          [
           "The Cossacks: A Tale of 1852"
          ],
          [
           "Three Days in the Village, and Other Sketches.: Written from September 1909 to July 1910."
          ],
          [
           "Tolstoi for the young: Select tales from Tolstoi"
          ],
          [
           "The Invaders, and Other Stories"
          ],
          [
           "Index of the Project Gutenberg Works of Leon Tolstoy"
          ],
          [
           "Sebastopol"
          ],
          [
           "What Men Live By, and Other Tales"
          ],
          [
           "What Is Art?"
          ],
          [
           "The Devil"
          ],
          [
           "The Kreutzer Sonata and Other Stories"
          ],
          [
           "A Letter to a Hindu"
          ],
          [
           "Father Sergius"
          ],
          [
           "Master and Man"
          ]
         ],
         "hovertemplate": "author=Tolstoy, Leo, graf<br>proj_0=%{x}<br>proj_1=%{y}<br>title=%{customdata[0]}<extra></extra>",
         "legendgroup": "Tolstoy, Leo, graf",
         "marker": {
          "color": "#636efa",
          "symbol": "circle"
         },
         "mode": "markers",
         "name": "Tolstoy, Leo, graf",
         "orientation": "v",
         "showlegend": true,
         "type": "scatter",
         "x": [
          11.500594139099121,
          11.703324317932129,
          11.44960880279541,
          11.07086181640625,
          11.287262916564941,
          10.453790664672852,
          11.503924369812012,
          11.326251029968262,
          9.52109146118164,
          10.148107528686523,
          10.126127243041992,
          10.206361770629883,
          10.25075912475586,
          9.990779876708984,
          10.29564380645752,
          10.73376178741455,
          10.78026294708252,
          10.010948181152344,
          11.386222839355469,
          11.40316104888916,
          10.992080688476562,
          11.357010841369629,
          10.33664321899414,
          11.627411842346191,
          11.28077220916748,
          11.63965129852295,
          11.634122848510742,
          11.707657814025879,
          10.942760467529297,
          11.086369514465332,
          11.624216079711914,
          10.735156059265137,
          11.078056335449219,
          10.83102035522461,
          10.710052490234375,
          10.572580337524414,
          11.468204498291016,
          9.363964080810547,
          11.182478904724121,
          10.675148010253906,
          11.673218727111816,
          10.630123138427734,
          11.244486808776855,
          10.444605827331543,
          10.639836311340332,
          9.492620468139648
         ],
         "xaxis": "x",
         "y": [
          -0.838858962059021,
          -0.46657639741897583,
          -0.9265385270118713,
          -1.2156896591186523,
          -0.767566442489624,
          -0.9372365474700928,
          -0.8650399446487427,
          -1.1546683311462402,
          0.8494345545768738,
          0.593028724193573,
          0.6744998693466187,
          0.5966613292694092,
          0.6112719178199768,
          0.7172189354896545,
          0.5878445506095886,
          -0.3997187912464142,
          -0.41369789838790894,
          0.6466836333274841,
          -0.5474714636802673,
          -0.4832095801830292,
          -0.3871930241584778,
          -1.0108226537704468,
          0.5470311045646667,
          -0.3332192599773407,
          -1.1050392389297485,
          -0.40555599331855774,
          -0.38827863335609436,
          -0.35941633582115173,
          -0.5691041946411133,
          -0.9277869462966919,
          -0.4301082193851471,
          -0.6179201602935791,
          -0.25739946961402893,
          -0.8765541911125183,
          0.23130910098552704,
          -0.9654670357704163,
          -1.0748720169067383,
          1.050894856452942,
          -1.1072291135787964,
          -0.8242584466934204,
          -0.39040136337280273,
          0.27251651883125305,
          -1.1198279857635498,
          0.5527858138084412,
          0.22125883400440216,
          0.16835236549377441
         ],
         "yaxis": "y"
        },
        {
         "customdata": [
          [
           "The Iliad of Homer: Translated into English Blank Verse by William Cowper"
          ],
          [
           "The Odyssey: Rendered into English prose for the use of those who cannot read the original"
          ],
          [
           "The Odyssey of Homer"
          ],
          [
           "The Iliad"
          ],
          [
           "The Iliad"
          ],
          [
           "The Odyssey of Homer"
          ],
          [
           "Odysseus, the Hero of Ithaca: Adapted from the Third Book of the Primary Schools of Athens, Greece"
          ],
          [
           "The Iliad"
          ],
          [
           "The Odyssey"
          ],
          [
           "The Adventures of Ulysses the Wanderer"
          ],
          [
           "The Odysseys of Homer, together with the shorter poems"
          ],
          [
           "The Iliads of Homer: Translated according to the Greek"
          ],
          [
           "The Iliad"
          ],
          [
           "The Iliad"
          ]
         ],
         "hovertemplate": "author=Homer<br>proj_0=%{x}<br>proj_1=%{y}<br>title=%{customdata[0]}<extra></extra>",
         "legendgroup": "Homer",
         "marker": {
          "color": "#EF553B",
          "symbol": "circle"
         },
         "mode": "markers",
         "name": "Homer",
         "orientation": "v",
         "showlegend": true,
         "type": "scatter",
         "x": [
          9.388545036315918,
          9.279058456420898,
          9.350630760192871,
          9.3676118850708,
          9.332320213317871,
          9.404839515686035,
          10.09617805480957,
          9.357789993286133,
          9.425080299377441,
          10.192337036132812,
          9.315775871276855,
          9.400825500488281,
          9.391866683959961,
          9.406582832336426
         ],
         "xaxis": "x",
         "y": [
          -2.722862482070923,
          -2.5063283443450928,
          -2.481823205947876,
          -2.6318767070770264,
          -2.548079490661621,
          -2.7204554080963135,
          -1.5225690603256226,
          -2.607055425643921,
          -2.634763717651367,
          -1.32146418094635,
          -2.5360095500946045,
          -2.720536470413208,
          -2.698132276535034,
          -2.740149736404419
         ],
         "yaxis": "y"
        },
        {
         "customdata": [
          [
           "Homer and Classical Philology"
          ],
          [
           "We Philologists: Complete Works of Friedrich Nietzsche, Volume 8"
          ],
          [
           "The Antichrist"
          ],
          [
           "Thus Spake Zarathustra: A Book for All and None"
          ],
          [
           "The Case of Wagner, Nietzsche Contra Wagner, and Selected Aphorisms."
          ],
          [
           "On the Future of our Educational Institutions"
          ],
          [
           "Human, All-Too-Human: A Book for Free Spirits, Part 2"
          ],
          [
           "Human, All Too Human: A Book for Free Spirits"
          ],
          [
           "Thoughts Out of Season, Part II"
          ],
          [
           "The Dawn of Day"
          ],
          [
           "Beyond Good and Evil"
          ],
          [
           "The Birth of Tragedy; or, Hellenism and Pessimism"
          ],
          [
           "Early Greek Philosophy & Other Essays: Collected Works, Volume Two"
          ],
          [
           "On the Future of our Educational Institutions; Homer and Classical Philology: Complete Works, Volume Three"
          ],
          [
           "Thoughts out of Season, Part I: David Strauss, the Confessor and the Writer - Richard Wagner in Bayreuth."
          ],
          [
           "Human, All-Too-Human: A Book for Free Spirits, Part 1: Complete Works, Volume Six"
          ],
          [
           "The Joyful Wisdom (\"La Gaya Scienza\"): Complete Works, Volume Ten"
          ],
          [
           "The Case of Wagner: Complete Works, Volume 8"
          ],
          [
           "Ecce Homo: Complete Works, Volume Seventeen"
          ],
          [
           "The Twilight of the Idols; or, How to Philosophize with the Hammer. The Antichrist: Complete Works, Volume Sixteen"
          ],
          [
           "The Genealogy of Morals: The Complete Works, Volume Thirteen, edited by Dr. Oscar Levy."
          ],
          [
           "The Joyful Wisdom (\"La Gaya Scienza\")"
          ],
          [
           "The Will to Power: An Attempted Transvaluation of All Values. Book I and II"
          ],
          [
           "The Will to Power: An Attempted Transvaluation of All Values. Book III and IV"
          ],
          [
           "Thoughts out of Season, Part I"
          ],
          [
           "Index of the Project Gutenberg Works of Friedrich Nietzsche"
          ]
         ],
         "hovertemplate": "author=Nietzsche, Friedrich Wilhelm<br>proj_0=%{x}<br>proj_1=%{y}<br>title=%{customdata[0]}<extra></extra>",
         "legendgroup": "Nietzsche, Friedrich Wilhelm",
         "marker": {
          "color": "#00cc96",
          "symbol": "circle"
         },
         "mode": "markers",
         "name": "Nietzsche, Friedrich Wilhelm",
         "orientation": "v",
         "showlegend": true,
         "type": "scatter",
         "x": [
          8.084494590759277,
          8.760308265686035,
          8.717804908752441,
          8.193889617919922,
          8.8245210647583,
          8.78107738494873,
          8.843109130859375,
          8.777724266052246,
          8.764018058776855,
          8.775093078613281,
          8.769707679748535,
          8.731764793395996,
          8.831624031066895,
          8.802148818969727,
          8.67699909210205,
          8.810198783874512,
          8.676647186279297,
          8.78896427154541,
          8.756476402282715,
          8.767691612243652,
          8.728588104248047,
          8.661197662353516,
          8.769501686096191,
          8.717811584472656,
          8.726189613342285,
          9.391420364379883
         ],
         "xaxis": "x",
         "y": [
          -1.0458284616470337,
          -7.294797420501709,
          -7.292601108551025,
          -1.048454999923706,
          -7.490442752838135,
          -7.289840221405029,
          -7.362835884094238,
          -7.014298439025879,
          -7.506915092468262,
          -7.555212020874023,
          -7.60546350479126,
          -7.265336513519287,
          -7.41436767578125,
          -7.321034908294678,
          -7.5460052490234375,
          -7.514623641967773,
          -7.63126802444458,
          -7.500576496124268,
          -7.496331691741943,
          -7.61151647567749,
          -7.044195652008057,
          -7.652702331542969,
          -7.561430931091309,
          -7.2115559577941895,
          -7.502078056335449,
          1.075463891029358
         ],
         "yaxis": "y"
        },
        {
         "customdata": [
          [
           "Beyond Lies the Wub"
          ],
          [
           "Beyond the Door"
          ],
          [
           "The Crystal Crypt"
          ],
          [
           "The Defenders"
          ],
          [
           "The Gun"
          ],
          [
           "The Skull"
          ],
          [
           "The Eyes Have It"
          ],
          [
           "Second Variety"
          ],
          [
           "The Variable Man"
          ],
          [
           "Mr. Spaceship"
          ],
          [
           "Piper in the Woods"
          ],
          [
           "Tony and the Beetles"
          ],
          [
           "The Hanging Stranger"
          ],
          [
           "Prize ship"
          ]
         ],
         "hovertemplate": "author=Dick, Philip K.<br>proj_0=%{x}<br>proj_1=%{y}<br>title=%{customdata[0]}<extra></extra>",
         "legendgroup": "Dick, Philip K.",
         "marker": {
          "color": "#ab63fa",
          "symbol": "circle"
         },
         "mode": "markers",
         "name": "Dick, Philip K.",
         "orientation": "v",
         "showlegend": true,
         "type": "scatter",
         "x": [
          9.043771743774414,
          9.152836799621582,
          9.279916763305664,
          8.68579387664795,
          8.730095863342285,
          9.343388557434082,
          9.356742858886719,
          8.705297470092773,
          8.687756538391113,
          8.661293029785156,
          8.640560150146484,
          8.79982852935791,
          8.769885063171387,
          8.686768531799316
         ],
         "xaxis": "x",
         "y": [
          0.5378138422966003,
          0.664328932762146,
          0.136856809258461,
          0.581620454788208,
          0.6062813401222229,
          0.2518438994884491,
          0.48609501123428345,
          0.5166100859642029,
          0.6096569299697876,
          0.5829183459281921,
          0.5860699415206909,
          0.5830463767051697,
          0.49858230352401733,
          0.5598258376121521
         ],
         "yaxis": "y"
        },
        {
         "customdata": [
          [
           "Writings in the United Amateur, 1915-1922"
          ],
          [
           "The Shunned House"
          ],
          [
           "The Dunwich Horror"
          ],
          [
           "The colour out of space"
          ],
          [
           "The call of Cthulhu"
          ],
          [
           "He"
          ],
          [
           "The festival"
          ],
          [
           "The lurking fear"
          ]
         ],
         "hovertemplate": "author=Lovecraft, H. P. (Howard Phillips)<br>proj_0=%{x}<br>proj_1=%{y}<br>title=%{customdata[0]}<extra></extra>",
         "legendgroup": "Lovecraft, H. P. (Howard Phillips)",
         "marker": {
          "color": "#FFA15A",
          "symbol": "circle"
         },
         "mode": "markers",
         "name": "Lovecraft, H. P. (Howard Phillips)",
         "orientation": "v",
         "showlegend": true,
         "type": "scatter",
         "x": [
          10.380753517150879,
          10.090585708618164,
          9.872357368469238,
          9.867984771728516,
          10.005361557006836,
          9.861977577209473,
          9.782379150390625,
          9.888313293457031
         ],
         "xaxis": "x",
         "y": [
          -0.9855532646179199,
          -0.9369036555290222,
          1.2681280374526978,
          1.2468549013137817,
          1.344994068145752,
          1.2132790088653564,
          1.2049524784088135,
          1.274156928062439
         ],
         "yaxis": "y"
        },
        {
         "customdata": [
          [
           "Deathway"
          ],
          [
           "Lambda"
          ]
         ],
         "hovertemplate": "author=Umer, Tomo<br>proj_0=%{x}<br>proj_1=%{y}<br>title=%{customdata[0]}<extra></extra>",
         "legendgroup": "Umer, Tomo",
         "marker": {
          "color": "#19d3f3",
          "symbol": "circle"
         },
         "mode": "markers",
         "name": "Umer, Tomo",
         "orientation": "v",
         "showlegend": true,
         "type": "scatter",
         "x": [
          10.726421356201172,
          11.0115327835083
         ],
         "xaxis": "x",
         "y": [
          -1.4315743446350098,
          -1.4368690252304077
         ],
         "yaxis": "y"
        }
       ],
       "layout": {
        "height": 800,
        "legend": {
         "title": {
          "text": "author"
         },
         "tracegroupgap": 0
        },
        "margin": {
         "t": 60
        },
        "template": {
         "data": {
          "bar": [
           {
            "error_x": {
             "color": "#2a3f5f"
            },
            "error_y": {
             "color": "#2a3f5f"
            },
            "marker": {
             "line": {
              "color": "#E5ECF6",
              "width": 0.5
             },
             "pattern": {
              "fillmode": "overlay",
              "size": 10,
              "solidity": 0.2
             }
            },
            "type": "bar"
           }
          ],
          "barpolar": [
           {
            "marker": {
             "line": {
              "color": "#E5ECF6",
              "width": 0.5
             },
             "pattern": {
              "fillmode": "overlay",
              "size": 10,
              "solidity": 0.2
             }
            },
            "type": "barpolar"
           }
          ],
          "carpet": [
           {
            "aaxis": {
             "endlinecolor": "#2a3f5f",
             "gridcolor": "white",
             "linecolor": "white",
             "minorgridcolor": "white",
             "startlinecolor": "#2a3f5f"
            },
            "baxis": {
             "endlinecolor": "#2a3f5f",
             "gridcolor": "white",
             "linecolor": "white",
             "minorgridcolor": "white",
             "startlinecolor": "#2a3f5f"
            },
            "type": "carpet"
           }
          ],
          "choropleth": [
           {
            "colorbar": {
             "outlinewidth": 0,
             "ticks": ""
            },
            "type": "choropleth"
           }
          ],
          "contour": [
           {
            "colorbar": {
             "outlinewidth": 0,
             "ticks": ""
            },
            "colorscale": [
             [
              0,
              "#0d0887"
             ],
             [
              0.1111111111111111,
              "#46039f"
             ],
             [
              0.2222222222222222,
              "#7201a8"
             ],
             [
              0.3333333333333333,
              "#9c179e"
             ],
             [
              0.4444444444444444,
              "#bd3786"
             ],
             [
              0.5555555555555556,
              "#d8576b"
             ],
             [
              0.6666666666666666,
              "#ed7953"
             ],
             [
              0.7777777777777778,
              "#fb9f3a"
             ],
             [
              0.8888888888888888,
              "#fdca26"
             ],
             [
              1,
              "#f0f921"
             ]
            ],
            "type": "contour"
           }
          ],
          "contourcarpet": [
           {
            "colorbar": {
             "outlinewidth": 0,
             "ticks": ""
            },
            "type": "contourcarpet"
           }
          ],
          "heatmap": [
           {
            "colorbar": {
             "outlinewidth": 0,
             "ticks": ""
            },
            "colorscale": [
             [
              0,
              "#0d0887"
             ],
             [
              0.1111111111111111,
              "#46039f"
             ],
             [
              0.2222222222222222,
              "#7201a8"
             ],
             [
              0.3333333333333333,
              "#9c179e"
             ],
             [
              0.4444444444444444,
              "#bd3786"
             ],
             [
              0.5555555555555556,
              "#d8576b"
             ],
             [
              0.6666666666666666,
              "#ed7953"
             ],
             [
              0.7777777777777778,
              "#fb9f3a"
             ],
             [
              0.8888888888888888,
              "#fdca26"
             ],
             [
              1,
              "#f0f921"
             ]
            ],
            "type": "heatmap"
           }
          ],
          "heatmapgl": [
           {
            "colorbar": {
             "outlinewidth": 0,
             "ticks": ""
            },
            "colorscale": [
             [
              0,
              "#0d0887"
             ],
             [
              0.1111111111111111,
              "#46039f"
             ],
             [
              0.2222222222222222,
              "#7201a8"
             ],
             [
              0.3333333333333333,
              "#9c179e"
             ],
             [
              0.4444444444444444,
              "#bd3786"
             ],
             [
              0.5555555555555556,
              "#d8576b"
             ],
             [
              0.6666666666666666,
              "#ed7953"
             ],
             [
              0.7777777777777778,
              "#fb9f3a"
             ],
             [
              0.8888888888888888,
              "#fdca26"
             ],
             [
              1,
              "#f0f921"
             ]
            ],
            "type": "heatmapgl"
           }
          ],
          "histogram": [
           {
            "marker": {
             "pattern": {
              "fillmode": "overlay",
              "size": 10,
              "solidity": 0.2
             }
            },
            "type": "histogram"
           }
          ],
          "histogram2d": [
           {
            "colorbar": {
             "outlinewidth": 0,
             "ticks": ""
            },
            "colorscale": [
             [
              0,
              "#0d0887"
             ],
             [
              0.1111111111111111,
              "#46039f"
             ],
             [
              0.2222222222222222,
              "#7201a8"
             ],
             [
              0.3333333333333333,
              "#9c179e"
             ],
             [
              0.4444444444444444,
              "#bd3786"
             ],
             [
              0.5555555555555556,
              "#d8576b"
             ],
             [
              0.6666666666666666,
              "#ed7953"
             ],
             [
              0.7777777777777778,
              "#fb9f3a"
             ],
             [
              0.8888888888888888,
              "#fdca26"
             ],
             [
              1,
              "#f0f921"
             ]
            ],
            "type": "histogram2d"
           }
          ],
          "histogram2dcontour": [
           {
            "colorbar": {
             "outlinewidth": 0,
             "ticks": ""
            },
            "colorscale": [
             [
              0,
              "#0d0887"
             ],
             [
              0.1111111111111111,
              "#46039f"
             ],
             [
              0.2222222222222222,
              "#7201a8"
             ],
             [
              0.3333333333333333,
              "#9c179e"
             ],
             [
              0.4444444444444444,
              "#bd3786"
             ],
             [
              0.5555555555555556,
              "#d8576b"
             ],
             [
              0.6666666666666666,
              "#ed7953"
             ],
             [
              0.7777777777777778,
              "#fb9f3a"
             ],
             [
              0.8888888888888888,
              "#fdca26"
             ],
             [
              1,
              "#f0f921"
             ]
            ],
            "type": "histogram2dcontour"
           }
          ],
          "mesh3d": [
           {
            "colorbar": {
             "outlinewidth": 0,
             "ticks": ""
            },
            "type": "mesh3d"
           }
          ],
          "parcoords": [
           {
            "line": {
             "colorbar": {
              "outlinewidth": 0,
              "ticks": ""
             }
            },
            "type": "parcoords"
           }
          ],
          "pie": [
           {
            "automargin": true,
            "type": "pie"
           }
          ],
          "scatter": [
           {
            "fillpattern": {
             "fillmode": "overlay",
             "size": 10,
             "solidity": 0.2
            },
            "type": "scatter"
           }
          ],
          "scatter3d": [
           {
            "line": {
             "colorbar": {
              "outlinewidth": 0,
              "ticks": ""
             }
            },
            "marker": {
             "colorbar": {
              "outlinewidth": 0,
              "ticks": ""
             }
            },
            "type": "scatter3d"
           }
          ],
          "scattercarpet": [
           {
            "marker": {
             "colorbar": {
              "outlinewidth": 0,
              "ticks": ""
             }
            },
            "type": "scattercarpet"
           }
          ],
          "scattergeo": [
           {
            "marker": {
             "colorbar": {
              "outlinewidth": 0,
              "ticks": ""
             }
            },
            "type": "scattergeo"
           }
          ],
          "scattergl": [
           {
            "marker": {
             "colorbar": {
              "outlinewidth": 0,
              "ticks": ""
             }
            },
            "type": "scattergl"
           }
          ],
          "scattermapbox": [
           {
            "marker": {
             "colorbar": {
              "outlinewidth": 0,
              "ticks": ""
             }
            },
            "type": "scattermapbox"
           }
          ],
          "scatterpolar": [
           {
            "marker": {
             "colorbar": {
              "outlinewidth": 0,
              "ticks": ""
             }
            },
            "type": "scatterpolar"
           }
          ],
          "scatterpolargl": [
           {
            "marker": {
             "colorbar": {
              "outlinewidth": 0,
              "ticks": ""
             }
            },
            "type": "scatterpolargl"
           }
          ],
          "scatterternary": [
           {
            "marker": {
             "colorbar": {
              "outlinewidth": 0,
              "ticks": ""
             }
            },
            "type": "scatterternary"
           }
          ],
          "surface": [
           {
            "colorbar": {
             "outlinewidth": 0,
             "ticks": ""
            },
            "colorscale": [
             [
              0,
              "#0d0887"
             ],
             [
              0.1111111111111111,
              "#46039f"
             ],
             [
              0.2222222222222222,
              "#7201a8"
             ],
             [
              0.3333333333333333,
              "#9c179e"
             ],
             [
              0.4444444444444444,
              "#bd3786"
             ],
             [
              0.5555555555555556,
              "#d8576b"
             ],
             [
              0.6666666666666666,
              "#ed7953"
             ],
             [
              0.7777777777777778,
              "#fb9f3a"
             ],
             [
              0.8888888888888888,
              "#fdca26"
             ],
             [
              1,
              "#f0f921"
             ]
            ],
            "type": "surface"
           }
          ],
          "table": [
           {
            "cells": {
             "fill": {
              "color": "#EBF0F8"
             },
             "line": {
              "color": "white"
             }
            },
            "header": {
             "fill": {
              "color": "#C8D4E3"
             },
             "line": {
              "color": "white"
             }
            },
            "type": "table"
           }
          ]
         },
         "layout": {
          "annotationdefaults": {
           "arrowcolor": "#2a3f5f",
           "arrowhead": 0,
           "arrowwidth": 1
          },
          "autotypenumbers": "strict",
          "coloraxis": {
           "colorbar": {
            "outlinewidth": 0,
            "ticks": ""
           }
          },
          "colorscale": {
           "diverging": [
            [
             0,
             "#8e0152"
            ],
            [
             0.1,
             "#c51b7d"
            ],
            [
             0.2,
             "#de77ae"
            ],
            [
             0.3,
             "#f1b6da"
            ],
            [
             0.4,
             "#fde0ef"
            ],
            [
             0.5,
             "#f7f7f7"
            ],
            [
             0.6,
             "#e6f5d0"
            ],
            [
             0.7,
             "#b8e186"
            ],
            [
             0.8,
             "#7fbc41"
            ],
            [
             0.9,
             "#4d9221"
            ],
            [
             1,
             "#276419"
            ]
           ],
           "sequential": [
            [
             0,
             "#0d0887"
            ],
            [
             0.1111111111111111,
             "#46039f"
            ],
            [
             0.2222222222222222,
             "#7201a8"
            ],
            [
             0.3333333333333333,
             "#9c179e"
            ],
            [
             0.4444444444444444,
             "#bd3786"
            ],
            [
             0.5555555555555556,
             "#d8576b"
            ],
            [
             0.6666666666666666,
             "#ed7953"
            ],
            [
             0.7777777777777778,
             "#fb9f3a"
            ],
            [
             0.8888888888888888,
             "#fdca26"
            ],
            [
             1,
             "#f0f921"
            ]
           ],
           "sequentialminus": [
            [
             0,
             "#0d0887"
            ],
            [
             0.1111111111111111,
             "#46039f"
            ],
            [
             0.2222222222222222,
             "#7201a8"
            ],
            [
             0.3333333333333333,
             "#9c179e"
            ],
            [
             0.4444444444444444,
             "#bd3786"
            ],
            [
             0.5555555555555556,
             "#d8576b"
            ],
            [
             0.6666666666666666,
             "#ed7953"
            ],
            [
             0.7777777777777778,
             "#fb9f3a"
            ],
            [
             0.8888888888888888,
             "#fdca26"
            ],
            [
             1,
             "#f0f921"
            ]
           ]
          },
          "colorway": [
           "#636efa",
           "#EF553B",
           "#00cc96",
           "#ab63fa",
           "#FFA15A",
           "#19d3f3",
           "#FF6692",
           "#B6E880",
           "#FF97FF",
           "#FECB52"
          ],
          "font": {
           "color": "#2a3f5f"
          },
          "geo": {
           "bgcolor": "white",
           "lakecolor": "white",
           "landcolor": "#E5ECF6",
           "showlakes": true,
           "showland": true,
           "subunitcolor": "white"
          },
          "hoverlabel": {
           "align": "left"
          },
          "hovermode": "closest",
          "mapbox": {
           "style": "light"
          },
          "paper_bgcolor": "white",
          "plot_bgcolor": "#E5ECF6",
          "polar": {
           "angularaxis": {
            "gridcolor": "white",
            "linecolor": "white",
            "ticks": ""
           },
           "bgcolor": "#E5ECF6",
           "radialaxis": {
            "gridcolor": "white",
            "linecolor": "white",
            "ticks": ""
           }
          },
          "scene": {
           "xaxis": {
            "backgroundcolor": "#E5ECF6",
            "gridcolor": "white",
            "gridwidth": 2,
            "linecolor": "white",
            "showbackground": true,
            "ticks": "",
            "zerolinecolor": "white"
           },
           "yaxis": {
            "backgroundcolor": "#E5ECF6",
            "gridcolor": "white",
            "gridwidth": 2,
            "linecolor": "white",
            "showbackground": true,
            "ticks": "",
            "zerolinecolor": "white"
           },
           "zaxis": {
            "backgroundcolor": "#E5ECF6",
            "gridcolor": "white",
            "gridwidth": 2,
            "linecolor": "white",
            "showbackground": true,
            "ticks": "",
            "zerolinecolor": "white"
           }
          },
          "shapedefaults": {
           "line": {
            "color": "#2a3f5f"
           }
          },
          "ternary": {
           "aaxis": {
            "gridcolor": "white",
            "linecolor": "white",
            "ticks": ""
           },
           "baxis": {
            "gridcolor": "white",
            "linecolor": "white",
            "ticks": ""
           },
           "bgcolor": "#E5ECF6",
           "caxis": {
            "gridcolor": "white",
            "linecolor": "white",
            "ticks": ""
           }
          },
          "title": {
           "x": 0.05
          },
          "xaxis": {
           "automargin": true,
           "gridcolor": "white",
           "linecolor": "white",
           "ticks": "",
           "title": {
            "standoff": 15
           },
           "zerolinecolor": "white",
           "zerolinewidth": 2
          },
          "yaxis": {
           "automargin": true,
           "gridcolor": "white",
           "linecolor": "white",
           "ticks": "",
           "title": {
            "standoff": 15
           },
           "zerolinecolor": "white",
           "zerolinewidth": 2
          }
         }
        },
        "width": 1200,
        "xaxis": {
         "anchor": "y",
         "domain": [
          0,
          1
         ],
         "title": {
          "text": "proj_0"
         }
        },
        "yaxis": {
         "anchor": "x",
         "domain": [
          0,
          1
         ],
         "title": {
          "text": "proj_1"
         }
        }
       }
      }
     },
     "metadata": {},
     "output_type": "display_data"
    }
   ],
   "source": [
    "fig = px.scatter(data_frame = library_select_proj,\n",
    "                 x='proj_0',\n",
    "                 y='proj_1',\n",
    "                 width=1200,\n",
    "                 height=800,\n",
    "                 color= 'author',\n",
    "                 hover_data= ['title']\n",
    "                 )\n",
    "\n",
    "fig.show()"
   ]
  },
  {
   "cell_type": "code",
   "execution_count": null,
   "metadata": {},
   "outputs": [],
   "source": []
  }
 ],
 "metadata": {
  "kernelspec": {
   "display_name": "base",
   "language": "python",
   "name": "python3"
  },
  "language_info": {
   "codemirror_mode": {
    "name": "ipython",
    "version": 3
   },
   "file_extension": ".py",
   "mimetype": "text/x-python",
   "name": "python",
   "nbconvert_exporter": "python",
   "pygments_lexer": "ipython3",
   "version": "3.9.12"
  },
  "orig_nbformat": 4
 },
 "nbformat": 4,
 "nbformat_minor": 2
}
