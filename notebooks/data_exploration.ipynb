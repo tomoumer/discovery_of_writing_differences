{
 "cells": [
  {
   "attachments": {},
   "cell_type": "markdown",
   "metadata": {},
   "source": [
    "# Discovery of Writing Differences\n",
    "\n",
    "Capstone project by Tomo Umer"
   ]
  },
  {
   "attachments": {},
   "cell_type": "markdown",
   "metadata": {},
   "source": [
    "<img src=\"https://tomoumerdotcom.files.wordpress.com/2022/04/cropped-pho_logo_notext.png\" alt=\"PRAISE DOG\" style=\"width:400px;height:400px;\"/>\n",
    "\n"
   ]
  },
  {
   "attachments": {},
   "cell_type": "markdown",
   "metadata": {},
   "source": [
    "## Imports"
   ]
  },
  {
   "cell_type": "code",
   "execution_count": 1,
   "metadata": {},
   "outputs": [],
   "source": [
    "import pandas as pd\n",
    "import numpy as np\n",
    "import re\n",
    "import glob\n",
    "\n",
    "from sklearn.model_selection import train_test_split\n",
    "from sklearn.metrics import accuracy_score, confusion_matrix, classification_report, ConfusionMatrixDisplay\n",
    "from sklearn.feature_extraction.text import CountVectorizer, TfidfVectorizer\n",
    "from sklearn.linear_model import LogisticRegression\n",
    "from sklearn.pipeline import Pipeline\n",
    "from sklearn.neural_network import MLPClassifier, MLPRegressor\n",
    "from sklearn.preprocessing import MaxAbsScaler\n",
    "from copy import deepcopy\n",
    "\n",
    "import plotly.express as px\n",
    "import matplotlib.pyplot as plt\n",
    "import seaborn as sns\n",
    "\n",
    "import umap\n",
    "from scipy import spatial\n",
    "from scipy.cluster.hierarchy import linkage, dendrogram"
   ]
  },
  {
   "attachments": {},
   "cell_type": "markdown",
   "metadata": {},
   "source": [
    "## Exploring Available Books"
   ]
  },
  {
   "attachments": {},
   "cell_type": "markdown",
   "metadata": {},
   "source": [
    "To start with, figure out which books were not downloaded and yet they are present in the metadata csv!"
   ]
  },
  {
   "cell_type": "code",
   "execution_count": 2,
   "metadata": {},
   "outputs": [
    {
     "data": {
      "text/plain": [
       "3435"
      ]
     },
     "execution_count": 2,
     "metadata": {},
     "output_type": "execute_result"
    }
   ],
   "source": [
    "# list of books downloaded successfully into the /raw/ folder\n",
    "books_list = []\n",
    "\n",
    "for name in glob.glob('../data/raw/*'):\n",
    "    books_list.append(re.findall(r'PG\\d*', name)[0])\n",
    "\n",
    "# the metadata (books that should be there)\n",
    "library = pd.read_csv('../data/metadata.csv')\n",
    "\n",
    "# the difference\n",
    "len(library) - len(books_list)"
   ]
  },
  {
   "attachments": {},
   "cell_type": "markdown",
   "metadata": {},
   "source": [
    "There are 3435 \"books\" listed in the metadata that did not get downloaded."
   ]
  },
  {
   "cell_type": "code",
   "execution_count": 3,
   "metadata": {},
   "outputs": [
    {
     "data": {
      "text/plain": [
       "NaN            2215\n",
       "Sound          1104\n",
       "Dataset          83\n",
       "Image            33\n",
       "MovingImage       7\n",
       "StillImage        3\n",
       "Collection        1\n",
       "Text              1\n",
       "Name: type, dtype: int64"
      ]
     },
     "execution_count": 3,
     "metadata": {},
     "output_type": "execute_result"
    }
   ],
   "source": [
    "library.loc[~library['id'].isin(books_list)]['type'].value_counts(dropna=False)"
   ]
  },
  {
   "attachments": {},
   "cell_type": "markdown",
   "metadata": {},
   "source": [
    "Starting with those that are marked as 'type' being NaN. From my exploration further on, those are actually books. I might have to come back to it at a later date and figure out why those books were not downloaded."
   ]
  },
  {
   "cell_type": "code",
   "execution_count": 4,
   "metadata": {},
   "outputs": [
    {
     "data": {
      "text/html": [
       "<div>\n",
       "<style scoped>\n",
       "    .dataframe tbody tr th:only-of-type {\n",
       "        vertical-align: middle;\n",
       "    }\n",
       "\n",
       "    .dataframe tbody tr th {\n",
       "        vertical-align: top;\n",
       "    }\n",
       "\n",
       "    .dataframe thead th {\n",
       "        text-align: right;\n",
       "    }\n",
       "</style>\n",
       "<table border=\"1\" class=\"dataframe\">\n",
       "  <thead>\n",
       "    <tr style=\"text-align: right;\">\n",
       "      <th></th>\n",
       "      <th>id</th>\n",
       "      <th>title</th>\n",
       "      <th>author</th>\n",
       "      <th>authoryearofbirth</th>\n",
       "      <th>authoryearofdeath</th>\n",
       "      <th>language</th>\n",
       "      <th>downloads</th>\n",
       "      <th>subjects</th>\n",
       "      <th>type</th>\n",
       "    </tr>\n",
       "  </thead>\n",
       "  <tbody>\n",
       "    <tr>\n",
       "      <th>606</th>\n",
       "      <td>PG10547</td>\n",
       "      <td>Topsy-Turvy</td>\n",
       "      <td>Verne, Jules</td>\n",
       "      <td>1828.0</td>\n",
       "      <td>1905.0</td>\n",
       "      <td>['en']</td>\n",
       "      <td>126</td>\n",
       "      <td>{'Science fiction, French -- Translations into...</td>\n",
       "      <td>NaN</td>\n",
       "    </tr>\n",
       "    <tr>\n",
       "      <th>703</th>\n",
       "      <td>PG10634</td>\n",
       "      <td>The Queen of Hearts, and Sing a Song for Sixpence</td>\n",
       "      <td>Caldecott, Randolph</td>\n",
       "      <td>1846.0</td>\n",
       "      <td>1886.0</td>\n",
       "      <td>['en']</td>\n",
       "      <td>44</td>\n",
       "      <td>{'Picture books for children', 'Nursery rhymes...</td>\n",
       "      <td>NaN</td>\n",
       "    </tr>\n",
       "    <tr>\n",
       "      <th>841</th>\n",
       "      <td>PG10762</td>\n",
       "      <td>Impressions of Theophrastus Such</td>\n",
       "      <td>Eliot, George</td>\n",
       "      <td>1819.0</td>\n",
       "      <td>1880.0</td>\n",
       "      <td>['en']</td>\n",
       "      <td>110</td>\n",
       "      <td>{'Authors -- Fiction', 'England -- Fiction', '...</td>\n",
       "      <td>NaN</td>\n",
       "    </tr>\n",
       "    <tr>\n",
       "      <th>923</th>\n",
       "      <td>PG10836</td>\n",
       "      <td>The Algebra of Logic</td>\n",
       "      <td>Couturat, Louis</td>\n",
       "      <td>1868.0</td>\n",
       "      <td>1914.0</td>\n",
       "      <td>['en']</td>\n",
       "      <td>97</td>\n",
       "      <td>{'Logic, Symbolic and mathematical', 'Algebrai...</td>\n",
       "      <td>NaN</td>\n",
       "    </tr>\n",
       "    <tr>\n",
       "      <th>1106</th>\n",
       "      <td>PG10</td>\n",
       "      <td>The King James Version of the Bible</td>\n",
       "      <td>NaN</td>\n",
       "      <td>NaN</td>\n",
       "      <td>NaN</td>\n",
       "      <td>['en']</td>\n",
       "      <td>5831</td>\n",
       "      <td>{'Bible'}</td>\n",
       "      <td>NaN</td>\n",
       "    </tr>\n",
       "  </tbody>\n",
       "</table>\n",
       "</div>"
      ],
      "text/plain": [
       "           id                                              title  \\\n",
       "606   PG10547                                        Topsy-Turvy   \n",
       "703   PG10634  The Queen of Hearts, and Sing a Song for Sixpence   \n",
       "841   PG10762                   Impressions of Theophrastus Such   \n",
       "923   PG10836                               The Algebra of Logic   \n",
       "1106     PG10                The King James Version of the Bible   \n",
       "\n",
       "                   author  authoryearofbirth  authoryearofdeath language  \\\n",
       "606          Verne, Jules             1828.0             1905.0   ['en']   \n",
       "703   Caldecott, Randolph             1846.0             1886.0   ['en']   \n",
       "841         Eliot, George             1819.0             1880.0   ['en']   \n",
       "923       Couturat, Louis             1868.0             1914.0   ['en']   \n",
       "1106                  NaN                NaN                NaN   ['en']   \n",
       "\n",
       "      downloads                                           subjects type  \n",
       "606         126  {'Science fiction, French -- Translations into...  NaN  \n",
       "703          44  {'Picture books for children', 'Nursery rhymes...  NaN  \n",
       "841         110  {'Authors -- Fiction', 'England -- Fiction', '...  NaN  \n",
       "923          97  {'Logic, Symbolic and mathematical', 'Algebrai...  NaN  \n",
       "1106       5831                                          {'Bible'}  NaN  "
      ]
     },
     "execution_count": 4,
     "metadata": {},
     "output_type": "execute_result"
    }
   ],
   "source": [
    "library.loc[(~library['id'].isin(books_list)) & (library['type'].isna())].head()"
   ]
  },
  {
   "attachments": {},
   "cell_type": "markdown",
   "metadata": {},
   "source": [
    "For 'Sound' I don't care that yhey did not get downloaded -  I'm only looking for books and not for audio files."
   ]
  },
  {
   "cell_type": "code",
   "execution_count": 5,
   "metadata": {},
   "outputs": [
    {
     "data": {
      "text/html": [
       "<div>\n",
       "<style scoped>\n",
       "    .dataframe tbody tr th:only-of-type {\n",
       "        vertical-align: middle;\n",
       "    }\n",
       "\n",
       "    .dataframe tbody tr th {\n",
       "        vertical-align: top;\n",
       "    }\n",
       "\n",
       "    .dataframe thead th {\n",
       "        text-align: right;\n",
       "    }\n",
       "</style>\n",
       "<table border=\"1\" class=\"dataframe\">\n",
       "  <thead>\n",
       "    <tr style=\"text-align: right;\">\n",
       "      <th></th>\n",
       "      <th>id</th>\n",
       "      <th>title</th>\n",
       "      <th>author</th>\n",
       "      <th>authoryearofbirth</th>\n",
       "      <th>authoryearofdeath</th>\n",
       "      <th>language</th>\n",
       "      <th>downloads</th>\n",
       "      <th>subjects</th>\n",
       "      <th>type</th>\n",
       "    </tr>\n",
       "  </thead>\n",
       "  <tbody>\n",
       "    <tr>\n",
       "      <th>151</th>\n",
       "      <td>PG10137</td>\n",
       "      <td>Mary Had a Little Lamb: Recording taken from M...</td>\n",
       "      <td>Edison, Thomas A. (Thomas Alva)</td>\n",
       "      <td>1847.0</td>\n",
       "      <td>1931.0</td>\n",
       "      <td>['en']</td>\n",
       "      <td>21</td>\n",
       "      <td>{'Nursery rhymes, American'}</td>\n",
       "      <td>Sound</td>\n",
       "    </tr>\n",
       "    <tr>\n",
       "      <th>168</th>\n",
       "      <td>PG10152</td>\n",
       "      <td>Voice Trial - Kinetophone actor audition</td>\n",
       "      <td>Lett, Bob</td>\n",
       "      <td>NaN</td>\n",
       "      <td>NaN</td>\n",
       "      <td>['en']</td>\n",
       "      <td>4</td>\n",
       "      <td>{'Auditions'}</td>\n",
       "      <td>Sound</td>\n",
       "    </tr>\n",
       "    <tr>\n",
       "      <th>169</th>\n",
       "      <td>PG10153</td>\n",
       "      <td>Voice Trial - Kinetophone Actor Audition</td>\n",
       "      <td>Lenord, Frank</td>\n",
       "      <td>NaN</td>\n",
       "      <td>NaN</td>\n",
       "      <td>['en']</td>\n",
       "      <td>4</td>\n",
       "      <td>{'Auditions'}</td>\n",
       "      <td>Sound</td>\n",
       "    </tr>\n",
       "    <tr>\n",
       "      <th>170</th>\n",
       "      <td>PG10154</td>\n",
       "      <td>Voice Trial - Kinetophone Actor Audition</td>\n",
       "      <td>Schultz, Siegfried Von</td>\n",
       "      <td>NaN</td>\n",
       "      <td>NaN</td>\n",
       "      <td>['en']</td>\n",
       "      <td>0</td>\n",
       "      <td>{'Auditions'}</td>\n",
       "      <td>Sound</td>\n",
       "    </tr>\n",
       "    <tr>\n",
       "      <th>171</th>\n",
       "      <td>PG10155</td>\n",
       "      <td>The Right of the People to Rule</td>\n",
       "      <td>Roosevelt, Theodore</td>\n",
       "      <td>1858.0</td>\n",
       "      <td>1919.0</td>\n",
       "      <td>['en']</td>\n",
       "      <td>9</td>\n",
       "      <td>{'Progressivism (United States politics)', 'Po...</td>\n",
       "      <td>Sound</td>\n",
       "    </tr>\n",
       "  </tbody>\n",
       "</table>\n",
       "</div>"
      ],
      "text/plain": [
       "          id                                              title  \\\n",
       "151  PG10137  Mary Had a Little Lamb: Recording taken from M...   \n",
       "168  PG10152           Voice Trial - Kinetophone actor audition   \n",
       "169  PG10153           Voice Trial - Kinetophone Actor Audition   \n",
       "170  PG10154           Voice Trial - Kinetophone Actor Audition   \n",
       "171  PG10155                    The Right of the People to Rule   \n",
       "\n",
       "                              author  authoryearofbirth  authoryearofdeath  \\\n",
       "151  Edison, Thomas A. (Thomas Alva)             1847.0             1931.0   \n",
       "168                        Lett, Bob                NaN                NaN   \n",
       "169                    Lenord, Frank                NaN                NaN   \n",
       "170           Schultz, Siegfried Von                NaN                NaN   \n",
       "171              Roosevelt, Theodore             1858.0             1919.0   \n",
       "\n",
       "    language  downloads                                           subjects  \\\n",
       "151   ['en']         21                       {'Nursery rhymes, American'}   \n",
       "168   ['en']          4                                      {'Auditions'}   \n",
       "169   ['en']          4                                      {'Auditions'}   \n",
       "170   ['en']          0                                      {'Auditions'}   \n",
       "171   ['en']          9  {'Progressivism (United States politics)', 'Po...   \n",
       "\n",
       "      type  \n",
       "151  Sound  \n",
       "168  Sound  \n",
       "169  Sound  \n",
       "170  Sound  \n",
       "171  Sound  "
      ]
     },
     "execution_count": 5,
     "metadata": {},
     "output_type": "execute_result"
    }
   ],
   "source": [
    "library.loc[(~library['id'].isin(books_list)) & (library['type'] == 'Sound')].head()"
   ]
  },
  {
   "attachments": {},
   "cell_type": "markdown",
   "metadata": {},
   "source": [
    "Next up, \"datasets\". It appears the vast majority of them are genomes. There are 10 calculations of square roots and 1/pi to a million digits. And 'Moby Word Lists' is just info on gutenberg, disclaimers, etc..."
   ]
  },
  {
   "cell_type": "code",
   "execution_count": 6,
   "metadata": {},
   "outputs": [
    {
     "data": {
      "text/html": [
       "<div>\n",
       "<style scoped>\n",
       "    .dataframe tbody tr th:only-of-type {\n",
       "        vertical-align: middle;\n",
       "    }\n",
       "\n",
       "    .dataframe tbody tr th {\n",
       "        vertical-align: top;\n",
       "    }\n",
       "\n",
       "    .dataframe thead th {\n",
       "        text-align: right;\n",
       "    }\n",
       "</style>\n",
       "<table border=\"1\" class=\"dataframe\">\n",
       "  <thead>\n",
       "    <tr style=\"text-align: right;\">\n",
       "      <th></th>\n",
       "      <th>id</th>\n",
       "    </tr>\n",
       "    <tr>\n",
       "      <th>author</th>\n",
       "      <th></th>\n",
       "    </tr>\n",
       "  </thead>\n",
       "  <tbody>\n",
       "    <tr>\n",
       "      <th>Bonnell, Jerry T.</th>\n",
       "      <td>2</td>\n",
       "    </tr>\n",
       "    <tr>\n",
       "      <th>De Forest, Norman L.</th>\n",
       "      <td>1</td>\n",
       "    </tr>\n",
       "    <tr>\n",
       "      <th>Human Genome Project</th>\n",
       "      <td>72</td>\n",
       "    </tr>\n",
       "    <tr>\n",
       "      <th>Kanada, Yasumasa</th>\n",
       "      <td>1</td>\n",
       "    </tr>\n",
       "    <tr>\n",
       "      <th>Kerr, Stan</th>\n",
       "      <td>1</td>\n",
       "    </tr>\n",
       "    <tr>\n",
       "      <th>Nemiroff, Robert J.</th>\n",
       "      <td>5</td>\n",
       "    </tr>\n",
       "    <tr>\n",
       "      <th>Ward, Grady</th>\n",
       "      <td>1</td>\n",
       "    </tr>\n",
       "  </tbody>\n",
       "</table>\n",
       "</div>"
      ],
      "text/plain": [
       "                      id\n",
       "author                  \n",
       "Bonnell, Jerry T.      2\n",
       "De Forest, Norman L.   1\n",
       "Human Genome Project  72\n",
       "Kanada, Yasumasa       1\n",
       "Kerr, Stan             1\n",
       "Nemiroff, Robert J.    5\n",
       "Ward, Grady            1"
      ]
     },
     "execution_count": 6,
     "metadata": {},
     "output_type": "execute_result"
    }
   ],
   "source": [
    "library.loc[(~library['id'].isin(books_list)) & (library['type'] == 'Dataset')].groupby('author')[['id']].count()"
   ]
  },
  {
   "attachments": {},
   "cell_type": "markdown",
   "metadata": {},
   "source": [
    "Onto checking out the 'images'! the 'Image' contains music sheets. 'MovingImage' contains comets video, rotating earth and 5 nuclear test videos. 'StillImages' contain a kids story illustrated and two maps/ map images."
   ]
  },
  {
   "cell_type": "code",
   "execution_count": 7,
   "metadata": {},
   "outputs": [
    {
     "data": {
      "text/html": [
       "<div>\n",
       "<style scoped>\n",
       "    .dataframe tbody tr th:only-of-type {\n",
       "        vertical-align: middle;\n",
       "    }\n",
       "\n",
       "    .dataframe tbody tr th {\n",
       "        vertical-align: top;\n",
       "    }\n",
       "\n",
       "    .dataframe thead th {\n",
       "        text-align: right;\n",
       "    }\n",
       "</style>\n",
       "<table border=\"1\" class=\"dataframe\">\n",
       "  <thead>\n",
       "    <tr style=\"text-align: right;\">\n",
       "      <th></th>\n",
       "      <th>id</th>\n",
       "      <th>title</th>\n",
       "      <th>author</th>\n",
       "      <th>authoryearofbirth</th>\n",
       "      <th>authoryearofdeath</th>\n",
       "      <th>language</th>\n",
       "      <th>downloads</th>\n",
       "      <th>subjects</th>\n",
       "      <th>type</th>\n",
       "    </tr>\n",
       "  </thead>\n",
       "  <tbody>\n",
       "    <tr>\n",
       "      <th>1108</th>\n",
       "      <td>PG11001</td>\n",
       "      <td>String Quartet No. 05 in A major Opus 18</td>\n",
       "      <td>Beethoven, Ludwig van</td>\n",
       "      <td>1770.0</td>\n",
       "      <td>1827.0</td>\n",
       "      <td>['en']</td>\n",
       "      <td>5</td>\n",
       "      <td>{'Music', 'String quartets -- Scores'}</td>\n",
       "      <td>Image</td>\n",
       "    </tr>\n",
       "    <tr>\n",
       "      <th>1109</th>\n",
       "      <td>PG11002</td>\n",
       "      <td>String Quartet No. 11 in F minor Opus 95 \"Seri...</td>\n",
       "      <td>Beethoven, Ludwig van</td>\n",
       "      <td>1770.0</td>\n",
       "      <td>1827.0</td>\n",
       "      <td>['en']</td>\n",
       "      <td>6</td>\n",
       "      <td>{'String quartets -- Scores', 'Music'}</td>\n",
       "      <td>Image</td>\n",
       "    </tr>\n",
       "    <tr>\n",
       "      <th>1944</th>\n",
       "      <td>PG11755</td>\n",
       "      <td>String Quartet No. 10 in E flat major Opus 74 ...</td>\n",
       "      <td>Beethoven, Ludwig van</td>\n",
       "      <td>1770.0</td>\n",
       "      <td>1827.0</td>\n",
       "      <td>['en']</td>\n",
       "      <td>15</td>\n",
       "      <td>{'Music', 'String quartets -- Scores'}</td>\n",
       "      <td>Image</td>\n",
       "    </tr>\n",
       "    <tr>\n",
       "      <th>2381</th>\n",
       "      <td>PG12149</td>\n",
       "      <td>String Quartet No. 03 in D major Opus 18</td>\n",
       "      <td>Beethoven, Ludwig van</td>\n",
       "      <td>1770.0</td>\n",
       "      <td>1827.0</td>\n",
       "      <td>['en']</td>\n",
       "      <td>15</td>\n",
       "      <td>{'String quartets -- Scores', 'Music'}</td>\n",
       "      <td>Image</td>\n",
       "    </tr>\n",
       "    <tr>\n",
       "      <th>2479</th>\n",
       "      <td>PG12237</td>\n",
       "      <td>String Quartet No. 16 in F major Opus 135</td>\n",
       "      <td>Beethoven, Ludwig van</td>\n",
       "      <td>1770.0</td>\n",
       "      <td>1827.0</td>\n",
       "      <td>['en']</td>\n",
       "      <td>21</td>\n",
       "      <td>{'Music', 'String quartets -- Scores'}</td>\n",
       "      <td>Image</td>\n",
       "    </tr>\n",
       "  </tbody>\n",
       "</table>\n",
       "</div>"
      ],
      "text/plain": [
       "           id                                              title  \\\n",
       "1108  PG11001           String Quartet No. 05 in A major Opus 18   \n",
       "1109  PG11002  String Quartet No. 11 in F minor Opus 95 \"Seri...   \n",
       "1944  PG11755  String Quartet No. 10 in E flat major Opus 74 ...   \n",
       "2381  PG12149           String Quartet No. 03 in D major Opus 18   \n",
       "2479  PG12237          String Quartet No. 16 in F major Opus 135   \n",
       "\n",
       "                     author  authoryearofbirth  authoryearofdeath language  \\\n",
       "1108  Beethoven, Ludwig van             1770.0             1827.0   ['en']   \n",
       "1109  Beethoven, Ludwig van             1770.0             1827.0   ['en']   \n",
       "1944  Beethoven, Ludwig van             1770.0             1827.0   ['en']   \n",
       "2381  Beethoven, Ludwig van             1770.0             1827.0   ['en']   \n",
       "2479  Beethoven, Ludwig van             1770.0             1827.0   ['en']   \n",
       "\n",
       "      downloads                                subjects   type  \n",
       "1108          5  {'Music', 'String quartets -- Scores'}  Image  \n",
       "1109          6  {'String quartets -- Scores', 'Music'}  Image  \n",
       "1944         15  {'Music', 'String quartets -- Scores'}  Image  \n",
       "2381         15  {'String quartets -- Scores', 'Music'}  Image  \n",
       "2479         21  {'Music', 'String quartets -- Scores'}  Image  "
      ]
     },
     "execution_count": 7,
     "metadata": {},
     "output_type": "execute_result"
    }
   ],
   "source": [
    "library.loc[(~library['id'].isin(books_list)) & (library['type'] == 'Image')].head()"
   ]
  },
  {
   "cell_type": "code",
   "execution_count": 8,
   "metadata": {},
   "outputs": [
    {
     "data": {
      "text/html": [
       "<div>\n",
       "<style scoped>\n",
       "    .dataframe tbody tr th:only-of-type {\n",
       "        vertical-align: middle;\n",
       "    }\n",
       "\n",
       "    .dataframe tbody tr th {\n",
       "        vertical-align: top;\n",
       "    }\n",
       "\n",
       "    .dataframe thead th {\n",
       "        text-align: right;\n",
       "    }\n",
       "</style>\n",
       "<table border=\"1\" class=\"dataframe\">\n",
       "  <thead>\n",
       "    <tr style=\"text-align: right;\">\n",
       "      <th></th>\n",
       "      <th>id</th>\n",
       "      <th>title</th>\n",
       "      <th>author</th>\n",
       "      <th>authoryearofbirth</th>\n",
       "      <th>authoryearofdeath</th>\n",
       "      <th>language</th>\n",
       "      <th>downloads</th>\n",
       "      <th>subjects</th>\n",
       "      <th>type</th>\n",
       "    </tr>\n",
       "  </thead>\n",
       "  <tbody>\n",
       "    <tr>\n",
       "      <th>1661</th>\n",
       "      <td>PG114</td>\n",
       "      <td>The Tenniel Illustrations for Carroll's Alice ...</td>\n",
       "      <td>Tenniel, John</td>\n",
       "      <td>1820.0</td>\n",
       "      <td>1914.0</td>\n",
       "      <td>['en']</td>\n",
       "      <td>391</td>\n",
       "      <td>{\"Children's stories\", 'Fantasy fiction'}</td>\n",
       "      <td>StillImage</td>\n",
       "    </tr>\n",
       "    <tr>\n",
       "      <th>15515</th>\n",
       "      <td>PG239</td>\n",
       "      <td>Radar Map of the United States</td>\n",
       "      <td>United States</td>\n",
       "      <td>NaN</td>\n",
       "      <td>NaN</td>\n",
       "      <td>['en']</td>\n",
       "      <td>27</td>\n",
       "      <td>{'United States -- Maps'}</td>\n",
       "      <td>StillImage</td>\n",
       "    </tr>\n",
       "    <tr>\n",
       "      <th>67797</th>\n",
       "      <td>PG758</td>\n",
       "      <td>LandSat Picture of Washington, DC</td>\n",
       "      <td>United States. National Aeronautics and Space ...</td>\n",
       "      <td>NaN</td>\n",
       "      <td>NaN</td>\n",
       "      <td>['en']</td>\n",
       "      <td>36</td>\n",
       "      <td>{'Washington (D.C.) -- Remote-sensing images'}</td>\n",
       "      <td>StillImage</td>\n",
       "    </tr>\n",
       "  </tbody>\n",
       "</table>\n",
       "</div>"
      ],
      "text/plain": [
       "          id                                              title  \\\n",
       "1661   PG114  The Tenniel Illustrations for Carroll's Alice ...   \n",
       "15515  PG239                     Radar Map of the United States   \n",
       "67797  PG758                  LandSat Picture of Washington, DC   \n",
       "\n",
       "                                                  author  authoryearofbirth  \\\n",
       "1661                                       Tenniel, John             1820.0   \n",
       "15515                                      United States                NaN   \n",
       "67797  United States. National Aeronautics and Space ...                NaN   \n",
       "\n",
       "       authoryearofdeath language  downloads  \\\n",
       "1661              1914.0   ['en']        391   \n",
       "15515                NaN   ['en']         27   \n",
       "67797                NaN   ['en']         36   \n",
       "\n",
       "                                             subjects        type  \n",
       "1661        {\"Children's stories\", 'Fantasy fiction'}  StillImage  \n",
       "15515                       {'United States -- Maps'}  StillImage  \n",
       "67797  {'Washington (D.C.) -- Remote-sensing images'}  StillImage  "
      ]
     },
     "execution_count": 8,
     "metadata": {},
     "output_type": "execute_result"
    }
   ],
   "source": [
    "library.loc[(~library['id'].isin(books_list)) & (library['type'] == 'StillImage')]"
   ]
  },
  {
   "attachments": {},
   "cell_type": "markdown",
   "metadata": {},
   "source": [
    "And finally, Collection contains 'Project Gutenberg DVD: The July 2006 Special' and the only not downloaded text is just empty."
   ]
  },
  {
   "cell_type": "code",
   "execution_count": 9,
   "metadata": {},
   "outputs": [
    {
     "data": {
      "text/html": [
       "<div>\n",
       "<style scoped>\n",
       "    .dataframe tbody tr th:only-of-type {\n",
       "        vertical-align: middle;\n",
       "    }\n",
       "\n",
       "    .dataframe tbody tr th {\n",
       "        vertical-align: top;\n",
       "    }\n",
       "\n",
       "    .dataframe thead th {\n",
       "        text-align: right;\n",
       "    }\n",
       "</style>\n",
       "<table border=\"1\" class=\"dataframe\">\n",
       "  <thead>\n",
       "    <tr style=\"text-align: right;\">\n",
       "      <th></th>\n",
       "      <th>id</th>\n",
       "      <th>title</th>\n",
       "      <th>author</th>\n",
       "      <th>authoryearofbirth</th>\n",
       "      <th>authoryearofdeath</th>\n",
       "      <th>language</th>\n",
       "      <th>downloads</th>\n",
       "      <th>subjects</th>\n",
       "      <th>type</th>\n",
       "    </tr>\n",
       "  </thead>\n",
       "  <tbody>\n",
       "    <tr>\n",
       "      <th>10150</th>\n",
       "      <td>PG19159</td>\n",
       "      <td>Project Gutenberg DVD: The July 2006 Special</td>\n",
       "      <td>NaN</td>\n",
       "      <td>NaN</td>\n",
       "      <td>NaN</td>\n",
       "      <td>['en']</td>\n",
       "      <td>73</td>\n",
       "      <td>set()</td>\n",
       "      <td>Collection</td>\n",
       "    </tr>\n",
       "  </tbody>\n",
       "</table>\n",
       "</div>"
      ],
      "text/plain": [
       "            id                                         title author  \\\n",
       "10150  PG19159  Project Gutenberg DVD: The July 2006 Special    NaN   \n",
       "\n",
       "       authoryearofbirth  authoryearofdeath language  downloads subjects  \\\n",
       "10150                NaN                NaN   ['en']         73    set()   \n",
       "\n",
       "             type  \n",
       "10150  Collection  "
      ]
     },
     "execution_count": 9,
     "metadata": {},
     "output_type": "execute_result"
    }
   ],
   "source": [
    "library.loc[(~library['id'].isin(books_list)) & (library['type'] == 'Collection')]"
   ]
  },
  {
   "cell_type": "code",
   "execution_count": 10,
   "metadata": {},
   "outputs": [
    {
     "data": {
      "text/html": [
       "<div>\n",
       "<style scoped>\n",
       "    .dataframe tbody tr th:only-of-type {\n",
       "        vertical-align: middle;\n",
       "    }\n",
       "\n",
       "    .dataframe tbody tr th {\n",
       "        vertical-align: top;\n",
       "    }\n",
       "\n",
       "    .dataframe thead th {\n",
       "        text-align: right;\n",
       "    }\n",
       "</style>\n",
       "<table border=\"1\" class=\"dataframe\">\n",
       "  <thead>\n",
       "    <tr style=\"text-align: right;\">\n",
       "      <th></th>\n",
       "      <th>id</th>\n",
       "      <th>title</th>\n",
       "      <th>author</th>\n",
       "      <th>authoryearofbirth</th>\n",
       "      <th>authoryearofdeath</th>\n",
       "      <th>language</th>\n",
       "      <th>downloads</th>\n",
       "      <th>subjects</th>\n",
       "      <th>type</th>\n",
       "    </tr>\n",
       "  </thead>\n",
       "  <tbody>\n",
       "    <tr>\n",
       "      <th>69464</th>\n",
       "      <td>PG90907</td>\n",
       "      <td>NaN</td>\n",
       "      <td>NaN</td>\n",
       "      <td>NaN</td>\n",
       "      <td>NaN</td>\n",
       "      <td>['en']</td>\n",
       "      <td>1</td>\n",
       "      <td>set()</td>\n",
       "      <td>Text</td>\n",
       "    </tr>\n",
       "  </tbody>\n",
       "</table>\n",
       "</div>"
      ],
      "text/plain": [
       "            id title author  authoryearofbirth  authoryearofdeath language  \\\n",
       "69464  PG90907   NaN    NaN                NaN                NaN   ['en']   \n",
       "\n",
       "       downloads subjects  type  \n",
       "69464          1    set()  Text  "
      ]
     },
     "execution_count": 10,
     "metadata": {},
     "output_type": "execute_result"
    }
   ],
   "source": [
    "library.loc[(~library['id'].isin(books_list)) & (library['type'] == 'Text')]"
   ]
  },
  {
   "cell_type": "code",
   "execution_count": 11,
   "metadata": {},
   "outputs": [],
   "source": [
    "# to find specific authors\n",
    "# library.loc[library['author'].str.find('Lovecraft') > -1]"
   ]
  },
  {
   "attachments": {},
   "cell_type": "markdown",
   "metadata": {},
   "source": [
    "## Selecting English books"
   ]
  },
  {
   "attachments": {},
   "cell_type": "markdown",
   "metadata": {},
   "source": [
    "Starting with 70449 \"books\" in the catalogue, first select all the texts in the library that are marked as being in english ('en').\n",
    "\n",
    "That reduces the library to 56954 books."
   ]
  },
  {
   "cell_type": "code",
   "execution_count": 12,
   "metadata": {},
   "outputs": [],
   "source": [
    "library_en = library.loc[library['language'].str.find('en') > -1]"
   ]
  },
  {
   "attachments": {},
   "cell_type": "markdown",
   "metadata": {},
   "source": [
    "Further, for right now I'm also going to drop all of the additional files that were not downloaded (that I briefly explored in the previous part):\n",
    "- NaN 1991\n",
    "- Sound 1039\n",
    "- Dataset 83\n",
    "- Image 33\n",
    "- MovingImage 7\n",
    "- StillImage 3\n",
    "- Collection 1\n",
    "- Text 1\n",
    "\n",
    "That additionally reduces the library to 53796 books."
   ]
  },
  {
   "cell_type": "code",
   "execution_count": 13,
   "metadata": {},
   "outputs": [],
   "source": [
    "library_en = library_en.loc[library_en['id'].isin(books_list)]"
   ]
  },
  {
   "attachments": {},
   "cell_type": "markdown",
   "metadata": {},
   "source": [
    "Finally, deleting some files accompanying sound, dataset, etc.. that got downloaded. Only 20 total."
   ]
  },
  {
   "cell_type": "code",
   "execution_count": 14,
   "metadata": {},
   "outputs": [],
   "source": [
    "library_en = library_en[library_en['type'].isna()]"
   ]
  },
  {
   "attachments": {},
   "cell_type": "markdown",
   "metadata": {},
   "source": [
    "Final count of books to potentially use is 53776!"
   ]
  },
  {
   "attachments": {},
   "cell_type": "markdown",
   "metadata": {},
   "source": [
    "## Beginning Exploration of Authors"
   ]
  },
  {
   "attachments": {},
   "cell_type": "markdown",
   "metadata": {},
   "source": [
    "There are:\n",
    "- 6345 books with 10 or less downloads \n",
    "- 42617 books with 100 or less downloads\n",
    "\n",
    "Potentially worth considering!"
   ]
  },
  {
   "cell_type": "code",
   "execution_count": 15,
   "metadata": {},
   "outputs": [
    {
     "data": {
      "text/plain": [
       "(6345, 9)"
      ]
     },
     "execution_count": 15,
     "metadata": {},
     "output_type": "execute_result"
    }
   ],
   "source": [
    "library_en[library_en['downloads'] <= 10].shape"
   ]
  },
  {
   "attachments": {},
   "cell_type": "markdown",
   "metadata": {},
   "source": [
    "Grouping by author, I noticed that there's 117 titles by \"unknown\" author, 601 \"anonymous\" and 3422 \"various\". Upon further inspection of Various, they are majority \"periodicals\", meaning various magazines and so I decided it was safe to remove that.\n",
    "\n",
    "As for unknown and anonymous, those might be interesting to check once I have a model, but as is, since I'm looking for writing style, I do want to know who the author is. (lol at Happy and Gay Marching Away - children's poetry by Unknown author)."
   ]
  },
  {
   "cell_type": "code",
   "execution_count": 16,
   "metadata": {},
   "outputs": [
    {
     "data": {
      "text/html": [
       "<div>\n",
       "<style scoped>\n",
       "    .dataframe tbody tr th:only-of-type {\n",
       "        vertical-align: middle;\n",
       "    }\n",
       "\n",
       "    .dataframe tbody tr th {\n",
       "        vertical-align: top;\n",
       "    }\n",
       "\n",
       "    .dataframe thead th {\n",
       "        text-align: right;\n",
       "    }\n",
       "</style>\n",
       "<table border=\"1\" class=\"dataframe\">\n",
       "  <thead>\n",
       "    <tr style=\"text-align: right;\">\n",
       "      <th></th>\n",
       "      <th>title</th>\n",
       "    </tr>\n",
       "    <tr>\n",
       "      <th>author</th>\n",
       "      <th></th>\n",
       "    </tr>\n",
       "  </thead>\n",
       "  <tbody>\n",
       "    <tr>\n",
       "      <th>Various</th>\n",
       "      <td>3422</td>\n",
       "    </tr>\n",
       "    <tr>\n",
       "      <th>Anonymous</th>\n",
       "      <td>601</td>\n",
       "    </tr>\n",
       "    <tr>\n",
       "      <th>Shakespeare, William</th>\n",
       "      <td>178</td>\n",
       "    </tr>\n",
       "    <tr>\n",
       "      <th>Ebers, Georg</th>\n",
       "      <td>163</td>\n",
       "    </tr>\n",
       "    <tr>\n",
       "      <th>Parker, Gilbert</th>\n",
       "      <td>132</td>\n",
       "    </tr>\n",
       "    <tr>\n",
       "      <th>Oliphant, Mrs. (Margaret)</th>\n",
       "      <td>132</td>\n",
       "    </tr>\n",
       "    <tr>\n",
       "      <th>Kingston, William Henry Giles</th>\n",
       "      <td>132</td>\n",
       "    </tr>\n",
       "    <tr>\n",
       "      <th>Twain, Mark</th>\n",
       "      <td>128</td>\n",
       "    </tr>\n",
       "    <tr>\n",
       "      <th>Fenn, George Manville</th>\n",
       "      <td>128</td>\n",
       "    </tr>\n",
       "    <tr>\n",
       "      <th>Unknown</th>\n",
       "      <td>117</td>\n",
       "    </tr>\n",
       "    <tr>\n",
       "      <th>Balzac, Honoré de</th>\n",
       "      <td>116</td>\n",
       "    </tr>\n",
       "    <tr>\n",
       "      <th>Meredith, George</th>\n",
       "      <td>111</td>\n",
       "    </tr>\n",
       "    <tr>\n",
       "      <th>Jacobs, W. W. (William Wymark)</th>\n",
       "      <td>111</td>\n",
       "    </tr>\n",
       "    <tr>\n",
       "      <th>Alger, Horatio, Jr.</th>\n",
       "      <td>110</td>\n",
       "    </tr>\n",
       "    <tr>\n",
       "      <th>Howells, William Dean</th>\n",
       "      <td>106</td>\n",
       "    </tr>\n",
       "    <tr>\n",
       "      <th>Motley, John Lothrop</th>\n",
       "      <td>102</td>\n",
       "    </tr>\n",
       "    <tr>\n",
       "      <th>Henty, G. A. (George Alfred)</th>\n",
       "      <td>99</td>\n",
       "    </tr>\n",
       "    <tr>\n",
       "      <th>Ballantyne, R. M. (Robert Michael)</th>\n",
       "      <td>98</td>\n",
       "    </tr>\n",
       "    <tr>\n",
       "      <th>James, Henry</th>\n",
       "      <td>92</td>\n",
       "    </tr>\n",
       "    <tr>\n",
       "      <th>Pepys, Samuel</th>\n",
       "      <td>86</td>\n",
       "    </tr>\n",
       "    <tr>\n",
       "      <th>Dickens, Charles</th>\n",
       "      <td>86</td>\n",
       "    </tr>\n",
       "    <tr>\n",
       "      <th>Stratemeyer, Edward</th>\n",
       "      <td>83</td>\n",
       "    </tr>\n",
       "    <tr>\n",
       "      <th>Doyle, Arthur Conan</th>\n",
       "      <td>82</td>\n",
       "    </tr>\n",
       "    <tr>\n",
       "      <th>Trollope, Anthony</th>\n",
       "      <td>81</td>\n",
       "    </tr>\n",
       "    <tr>\n",
       "      <th>Stevenson, Robert Louis</th>\n",
       "      <td>81</td>\n",
       "    </tr>\n",
       "    <tr>\n",
       "      <th>Library of Congress. Copyright Office</th>\n",
       "      <td>78</td>\n",
       "    </tr>\n",
       "    <tr>\n",
       "      <th>Lang, Andrew</th>\n",
       "      <td>78</td>\n",
       "    </tr>\n",
       "    <tr>\n",
       "      <th>Le Queux, William</th>\n",
       "      <td>77</td>\n",
       "    </tr>\n",
       "    <tr>\n",
       "      <th>Churchill, Winston</th>\n",
       "      <td>74</td>\n",
       "    </tr>\n",
       "    <tr>\n",
       "      <th>Baum, L. Frank (Lyman Frank)</th>\n",
       "      <td>74</td>\n",
       "    </tr>\n",
       "  </tbody>\n",
       "</table>\n",
       "</div>"
      ],
      "text/plain": [
       "                                       title\n",
       "author                                      \n",
       "Various                                 3422\n",
       "Anonymous                                601\n",
       "Shakespeare, William                     178\n",
       "Ebers, Georg                             163\n",
       "Parker, Gilbert                          132\n",
       "Oliphant, Mrs. (Margaret)                132\n",
       "Kingston, William Henry Giles            132\n",
       "Twain, Mark                              128\n",
       "Fenn, George Manville                    128\n",
       "Unknown                                  117\n",
       "Balzac, Honoré de                        116\n",
       "Meredith, George                         111\n",
       "Jacobs, W. W. (William Wymark)           111\n",
       "Alger, Horatio, Jr.                      110\n",
       "Howells, William Dean                    106\n",
       "Motley, John Lothrop                     102\n",
       "Henty, G. A. (George Alfred)              99\n",
       "Ballantyne, R. M. (Robert Michael)        98\n",
       "James, Henry                              92\n",
       "Pepys, Samuel                             86\n",
       "Dickens, Charles                          86\n",
       "Stratemeyer, Edward                       83\n",
       "Doyle, Arthur Conan                       82\n",
       "Trollope, Anthony                         81\n",
       "Stevenson, Robert Louis                   81\n",
       "Library of Congress. Copyright Office     78\n",
       "Lang, Andrew                              78\n",
       "Le Queux, William                         77\n",
       "Churchill, Winston                        74\n",
       "Baum, L. Frank (Lyman Frank)              74"
      ]
     },
     "execution_count": 16,
     "metadata": {},
     "output_type": "execute_result"
    }
   ],
   "source": [
    "library_en.groupby('author')[['title']].count().sort_values(by='title', ascending=False).head(30)"
   ]
  },
  {
   "cell_type": "code",
   "execution_count": 17,
   "metadata": {},
   "outputs": [
    {
     "data": {
      "text/plain": [
       "{'English wit and humor -- Periodicals'}                                                                                            550\n",
       "{'Periodicals'}                                                                                                                     233\n",
       "{'Questions and answers -- Periodicals'}                                                                                            220\n",
       "{'Popular literature -- Great Britain -- Periodicals'}                                                                              195\n",
       "{\"Children's periodicals, American\"}                                                                                                162\n",
       "{'Congregational churches -- Missions -- Periodicals', 'Home missions -- Periodicals'}                                              145\n",
       "{'Encyclopedias and dictionaries'}                                                                                                  136\n",
       "{'American periodicals'}                                                                                                            117\n",
       "{\"Children's periodicals\"}                                                                                                          103\n",
       "{'England -- Periodicals', 'Scotland -- Periodicals'}                                                                                98\n",
       "{\"Children's literature -- Periodicals\"}                                                                                             88\n",
       "{'Literature, Modern -- 19th century -- Periodicals', 'Literature -- Periodicals'}                                                   84\n",
       "{'Science -- Periodicals'}                                                                                                           62\n",
       "{'Ireland -- Periodicals'}                                                                                                           52\n",
       "{'History, Modern -- 19th century -- Juvenile literature -- Periodicals'}                                                            49\n",
       "{\"Children's literature, American -- Periodicals\"}                                                                                   48\n",
       "{'Literature, Modern -- 19th century -- Periodicals', 'Science -- Periodicals'}                                                      48\n",
       "{'Natural history -- Periodicals', 'Birds -- Periodicals'}                                                                           47\n",
       "{'American wit and humor -- Periodicals'}                                                                                            42\n",
       "{'Literature, Modern -- 19th century -- Periodicals', 'United States -- Politics and government -- 19th century -- Periodicals'}     36\n",
       "Name: subjects, dtype: int64"
      ]
     },
     "execution_count": 17,
     "metadata": {},
     "output_type": "execute_result"
    }
   ],
   "source": [
    "library_en[library_en['author'] == 'Various']['subjects'].value_counts().head(20)"
   ]
  },
  {
   "attachments": {},
   "cell_type": "markdown",
   "metadata": {},
   "source": [
    "Below, keeping authors that are not Anonymous, Unknown or Various, which cuts down to 49636 books."
   ]
  },
  {
   "cell_type": "code",
   "execution_count": 18,
   "metadata": {},
   "outputs": [],
   "source": [
    "library_en = library_en[~library_en['author'].isin(['Anonymous', 'Unknown', 'Various'])]"
   ]
  },
  {
   "attachments": {},
   "cell_type": "markdown",
   "metadata": {},
   "source": [
    "Ideas for selecting authors:\n",
    "- first I started with top 6 based on the total # of books written\n",
    "    - used `library_en.groupby('author')['title'].count().sort_values(ascending=False).head(6).index.to_list()`\n",
    "- another idea was to look at most downloads over last 30 days\n",
    "- another one to look based on the decade"
   ]
  },
  {
   "cell_type": "code",
   "execution_count": 19,
   "metadata": {},
   "outputs": [
    {
     "data": {
      "text/html": [
       "<div>\n",
       "<style scoped>\n",
       "    .dataframe tbody tr th:only-of-type {\n",
       "        vertical-align: middle;\n",
       "    }\n",
       "\n",
       "    .dataframe tbody tr th {\n",
       "        vertical-align: top;\n",
       "    }\n",
       "\n",
       "    .dataframe thead th {\n",
       "        text-align: right;\n",
       "    }\n",
       "</style>\n",
       "<table border=\"1\" class=\"dataframe\">\n",
       "  <thead>\n",
       "    <tr style=\"text-align: right;\">\n",
       "      <th></th>\n",
       "      <th>id</th>\n",
       "      <th>title</th>\n",
       "      <th>author</th>\n",
       "      <th>authoryearofbirth</th>\n",
       "      <th>authoryearofdeath</th>\n",
       "      <th>language</th>\n",
       "      <th>downloads</th>\n",
       "      <th>subjects</th>\n",
       "      <th>type</th>\n",
       "    </tr>\n",
       "  </thead>\n",
       "  <tbody>\n",
       "    <tr>\n",
       "      <th>5702</th>\n",
       "      <td>PG1513</td>\n",
       "      <td>Romeo and Juliet</td>\n",
       "      <td>Shakespeare, William</td>\n",
       "      <td>1564.0</td>\n",
       "      <td>1616.0</td>\n",
       "      <td>['en']</td>\n",
       "      <td>166112</td>\n",
       "      <td>{'Juliet (Fictitious character) -- Drama', 'Ro...</td>\n",
       "      <td>NaN</td>\n",
       "    </tr>\n",
       "    <tr>\n",
       "      <th>18200</th>\n",
       "      <td>PG2641</td>\n",
       "      <td>A Room with a View</td>\n",
       "      <td>Forster, E. M. (Edward Morgan)</td>\n",
       "      <td>1879.0</td>\n",
       "      <td>1970.0</td>\n",
       "      <td>['en']</td>\n",
       "      <td>145035</td>\n",
       "      <td>{'British -- Italy -- Fiction', 'Florence (Ita...</td>\n",
       "      <td>NaN</td>\n",
       "    </tr>\n",
       "    <tr>\n",
       "      <th>30065</th>\n",
       "      <td>PG37106</td>\n",
       "      <td>Little Women; Or, Meg, Jo, Beth, and Amy</td>\n",
       "      <td>Alcott, Louisa May</td>\n",
       "      <td>1832.0</td>\n",
       "      <td>1888.0</td>\n",
       "      <td>['en']</td>\n",
       "      <td>139345</td>\n",
       "      <td>{'Bildungsromans', 'March family (Fictitious c...</td>\n",
       "      <td>NaN</td>\n",
       "    </tr>\n",
       "    <tr>\n",
       "      <th>5102</th>\n",
       "      <td>PG145</td>\n",
       "      <td>Middlemarch</td>\n",
       "      <td>Eliot, George</td>\n",
       "      <td>1819.0</td>\n",
       "      <td>1880.0</td>\n",
       "      <td>['en']</td>\n",
       "      <td>138208</td>\n",
       "      <td>{'Bildungsromans', 'Married people -- Fiction'...</td>\n",
       "      <td>NaN</td>\n",
       "    </tr>\n",
       "    <tr>\n",
       "      <th>18867</th>\n",
       "      <td>PG2701</td>\n",
       "      <td>Moby Dick; Or, The Whale</td>\n",
       "      <td>Melville, Herman</td>\n",
       "      <td>1819.0</td>\n",
       "      <td>1891.0</td>\n",
       "      <td>['en']</td>\n",
       "      <td>135040</td>\n",
       "      <td>{'Whaling -- Fiction', 'Psychological fiction'...</td>\n",
       "      <td>NaN</td>\n",
       "    </tr>\n",
       "  </tbody>\n",
       "</table>\n",
       "</div>"
      ],
      "text/plain": [
       "            id                                     title  \\\n",
       "5702    PG1513                          Romeo and Juliet   \n",
       "18200   PG2641                        A Room with a View   \n",
       "30065  PG37106  Little Women; Or, Meg, Jo, Beth, and Amy   \n",
       "5102     PG145                               Middlemarch   \n",
       "18867   PG2701                  Moby Dick; Or, The Whale   \n",
       "\n",
       "                               author  authoryearofbirth  authoryearofdeath  \\\n",
       "5702             Shakespeare, William             1564.0             1616.0   \n",
       "18200  Forster, E. M. (Edward Morgan)             1879.0             1970.0   \n",
       "30065              Alcott, Louisa May             1832.0             1888.0   \n",
       "5102                    Eliot, George             1819.0             1880.0   \n",
       "18867                Melville, Herman             1819.0             1891.0   \n",
       "\n",
       "      language  downloads                                           subjects  \\\n",
       "5702    ['en']     166112  {'Juliet (Fictitious character) -- Drama', 'Ro...   \n",
       "18200   ['en']     145035  {'British -- Italy -- Fiction', 'Florence (Ita...   \n",
       "30065   ['en']     139345  {'Bildungsromans', 'March family (Fictitious c...   \n",
       "5102    ['en']     138208  {'Bildungsromans', 'Married people -- Fiction'...   \n",
       "18867   ['en']     135040  {'Whaling -- Fiction', 'Psychological fiction'...   \n",
       "\n",
       "      type  \n",
       "5702   NaN  \n",
       "18200  NaN  \n",
       "30065  NaN  \n",
       "5102   NaN  \n",
       "18867  NaN  "
      ]
     },
     "metadata": {},
     "output_type": "display_data"
    },
    {
     "data": {
      "text/html": [
       "<div>\n",
       "<style scoped>\n",
       "    .dataframe tbody tr th:only-of-type {\n",
       "        vertical-align: middle;\n",
       "    }\n",
       "\n",
       "    .dataframe tbody tr th {\n",
       "        vertical-align: top;\n",
       "    }\n",
       "\n",
       "    .dataframe thead th {\n",
       "        text-align: right;\n",
       "    }\n",
       "</style>\n",
       "<table border=\"1\" class=\"dataframe\">\n",
       "  <thead>\n",
       "    <tr style=\"text-align: right;\">\n",
       "      <th></th>\n",
       "      <th>downloads</th>\n",
       "    </tr>\n",
       "    <tr>\n",
       "      <th>author</th>\n",
       "      <th></th>\n",
       "    </tr>\n",
       "  </thead>\n",
       "  <tbody>\n",
       "    <tr>\n",
       "      <th>Smollett, T. (Tobias)</th>\n",
       "      <td>364524</td>\n",
       "    </tr>\n",
       "    <tr>\n",
       "      <th>Shakespeare, William</th>\n",
       "      <td>333424</td>\n",
       "    </tr>\n",
       "    <tr>\n",
       "      <th>Alcott, Louisa May</th>\n",
       "      <td>154321</td>\n",
       "    </tr>\n",
       "    <tr>\n",
       "      <th>Forster, E. M. (Edward Morgan)</th>\n",
       "      <td>150394</td>\n",
       "    </tr>\n",
       "    <tr>\n",
       "      <th>Eliot, George</th>\n",
       "      <td>145394</td>\n",
       "    </tr>\n",
       "  </tbody>\n",
       "</table>\n",
       "</div>"
      ],
      "text/plain": [
       "                                downloads\n",
       "author                                   \n",
       "Smollett, T. (Tobias)              364524\n",
       "Shakespeare, William               333424\n",
       "Alcott, Louisa May                 154321\n",
       "Forster, E. M. (Edward Morgan)     150394\n",
       "Eliot, George                      145394"
      ]
     },
     "metadata": {},
     "output_type": "display_data"
    }
   ],
   "source": [
    "# note: downloads are for the last 30 days\n",
    "display(library_en.sort_values(by='downloads', ascending=False).head())\n",
    "\n",
    "display(library_en.groupby('author')[['downloads']].sum().sort_values(by='downloads', ascending=False).head())"
   ]
  },
  {
   "cell_type": "code",
   "execution_count": 20,
   "metadata": {},
   "outputs": [],
   "source": [
    "# function to calculate centuy of living, taking int account both birth and death where possible\n",
    "def calc_century(birth, death):\n",
    "\n",
    "    if np.isnan(birth) & np.isnan(death):\n",
    "        x = np.NaN\n",
    "\n",
    "    elif np.isnan(birth):\n",
    "        x = int(death/100)\n",
    "    \n",
    "    elif np.isnan(death):\n",
    "        x = int(birth/100)\n",
    "\n",
    "    else:\n",
    "        x = int((birth + (death/2 - birth/2)) / 100)\n",
    "\n",
    "    return x"
   ]
  },
  {
   "cell_type": "code",
   "execution_count": 22,
   "metadata": {},
   "outputs": [],
   "source": [
    "library_en['authorcentury'] = library_en.apply(lambda x: calc_century(x.authoryearofbirth, x.authoryearofdeath), axis=1)"
   ]
  },
  {
   "cell_type": "code",
   "execution_count": 23,
   "metadata": {},
   "outputs": [
    {
     "data": {
      "text/plain": [
       "authorcentury\n",
       " 18.0            8194\n",
       "NaN              4573\n",
       " 19.0            4487\n",
       " 17.0             559\n",
       " 16.0             227\n",
       " 15.0             104\n",
       " 0.0               18\n",
       " 14.0              17\n",
       " 13.0              14\n",
       " 12.0              10\n",
       "-4.0                8\n",
       " 11.0               6\n",
       "-3.0                6\n",
       " 10.0               6\n",
       " 3.0                5\n",
       " 2.0                3\n",
       " 7.0                3\n",
       " 5.0                2\n",
       " 9.0                2\n",
       " 6.0                2\n",
       "-2.0                2\n",
       " 1.0                2\n",
       " 20.0               1\n",
       "-7.0                1\n",
       "-5.0                1\n",
       " 4.0                1\n",
       "-1.0                1\n",
       " 8.0                1\n",
       "dtype: int64"
      ]
     },
     "execution_count": 23,
     "metadata": {},
     "output_type": "execute_result"
    }
   ],
   "source": [
    "# Using that calculation, out of 18256 authors, and the breakdown is below\n",
    "# note the NaN means they didn't have either yearofbirth or yearofdeath\n",
    "library_en.groupby('author')[['authorcentury']].max().value_counts(dropna=False)"
   ]
  },
  {
   "cell_type": "code",
   "execution_count": 48,
   "metadata": {},
   "outputs": [
    {
     "data": {
      "text/html": [
       "<div>\n",
       "<style scoped>\n",
       "    .dataframe tbody tr th:only-of-type {\n",
       "        vertical-align: middle;\n",
       "    }\n",
       "\n",
       "    .dataframe tbody tr th {\n",
       "        vertical-align: top;\n",
       "    }\n",
       "\n",
       "    .dataframe thead th {\n",
       "        text-align: right;\n",
       "    }\n",
       "</style>\n",
       "<table border=\"1\" class=\"dataframe\">\n",
       "  <thead>\n",
       "    <tr style=\"text-align: right;\">\n",
       "      <th></th>\n",
       "      <th>id</th>\n",
       "      <th>title</th>\n",
       "      <th>authoryearofbirth</th>\n",
       "      <th>authoryearofdeath</th>\n",
       "      <th>language</th>\n",
       "      <th>downloads</th>\n",
       "      <th>subjects</th>\n",
       "      <th>type</th>\n",
       "      <th>authorcentury</th>\n",
       "    </tr>\n",
       "    <tr>\n",
       "      <th>author</th>\n",
       "      <th></th>\n",
       "      <th></th>\n",
       "      <th></th>\n",
       "      <th></th>\n",
       "      <th></th>\n",
       "      <th></th>\n",
       "      <th></th>\n",
       "      <th></th>\n",
       "      <th></th>\n",
       "    </tr>\n",
       "  </thead>\n",
       "  <tbody>\n",
       "    <tr>\n",
       "      <th>Muhammad, Prophet</th>\n",
       "      <td>1</td>\n",
       "      <td>1</td>\n",
       "      <td>0</td>\n",
       "      <td>1</td>\n",
       "      <td>1</td>\n",
       "      <td>1</td>\n",
       "      <td>1</td>\n",
       "      <td>0</td>\n",
       "      <td>1</td>\n",
       "    </tr>\n",
       "    <tr>\n",
       "      <th>Sengcan</th>\n",
       "      <td>1</td>\n",
       "      <td>1</td>\n",
       "      <td>0</td>\n",
       "      <td>1</td>\n",
       "      <td>1</td>\n",
       "      <td>1</td>\n",
       "      <td>1</td>\n",
       "      <td>0</td>\n",
       "      <td>1</td>\n",
       "    </tr>\n",
       "  </tbody>\n",
       "</table>\n",
       "</div>"
      ],
      "text/plain": [
       "                   id  title  authoryearofbirth  authoryearofdeath  language  \\\n",
       "author                                                                         \n",
       "Muhammad, Prophet   1      1                  0                  1         1   \n",
       "Sengcan             1      1                  0                  1         1   \n",
       "\n",
       "                   downloads  subjects  type  authorcentury  \n",
       "author                                                       \n",
       "Muhammad, Prophet          1         1     0              1  \n",
       "Sengcan                    1         1     0              1  "
      ]
     },
     "metadata": {},
     "output_type": "display_data"
    },
    {
     "data": {
      "text/html": [
       "<div>\n",
       "<style scoped>\n",
       "    .dataframe tbody tr th:only-of-type {\n",
       "        vertical-align: middle;\n",
       "    }\n",
       "\n",
       "    .dataframe tbody tr th {\n",
       "        vertical-align: top;\n",
       "    }\n",
       "\n",
       "    .dataframe thead th {\n",
       "        text-align: right;\n",
       "    }\n",
       "</style>\n",
       "<table border=\"1\" class=\"dataframe\">\n",
       "  <thead>\n",
       "    <tr style=\"text-align: right;\">\n",
       "      <th></th>\n",
       "      <th>id</th>\n",
       "      <th>title</th>\n",
       "      <th>author</th>\n",
       "      <th>authoryearofbirth</th>\n",
       "      <th>authoryearofdeath</th>\n",
       "      <th>language</th>\n",
       "      <th>downloads</th>\n",
       "      <th>subjects</th>\n",
       "      <th>type</th>\n",
       "      <th>authorcentury</th>\n",
       "    </tr>\n",
       "  </thead>\n",
       "  <tbody>\n",
       "    <tr>\n",
       "      <th>31701</th>\n",
       "      <td>PG38580</td>\n",
       "      <td>True Heart/Mind</td>\n",
       "      <td>Sengcan</td>\n",
       "      <td>NaN</td>\n",
       "      <td>606.0</td>\n",
       "      <td>['en', 'zh']</td>\n",
       "      <td>36</td>\n",
       "      <td>{'Zen Buddhism'}</td>\n",
       "      <td>NaN</td>\n",
       "      <td>6.0</td>\n",
       "    </tr>\n",
       "    <tr>\n",
       "      <th>53747</th>\n",
       "      <td>PG58426</td>\n",
       "      <td>The Speeches &amp; Table-Talk of the Prophet Mohammad</td>\n",
       "      <td>Muhammad, Prophet</td>\n",
       "      <td>NaN</td>\n",
       "      <td>632.0</td>\n",
       "      <td>['en']</td>\n",
       "      <td>64</td>\n",
       "      <td>{'Religious life -- Islam', 'Muhammad, Prophet...</td>\n",
       "      <td>NaN</td>\n",
       "      <td>6.0</td>\n",
       "    </tr>\n",
       "  </tbody>\n",
       "</table>\n",
       "</div>"
      ],
      "text/plain": [
       "            id                                              title  \\\n",
       "31701  PG38580                                    True Heart/Mind   \n",
       "53747  PG58426  The Speeches & Table-Talk of the Prophet Mohammad   \n",
       "\n",
       "                  author  authoryearofbirth  authoryearofdeath      language  \\\n",
       "31701            Sengcan                NaN              606.0  ['en', 'zh']   \n",
       "53747  Muhammad, Prophet                NaN              632.0        ['en']   \n",
       "\n",
       "       downloads                                           subjects type  \\\n",
       "31701         36                                   {'Zen Buddhism'}  NaN   \n",
       "53747         64  {'Religious life -- Islam', 'Muhammad, Prophet...  NaN   \n",
       "\n",
       "       authorcentury  \n",
       "31701            6.0  \n",
       "53747            6.0  "
      ]
     },
     "metadata": {},
     "output_type": "display_data"
    }
   ],
   "source": [
    "cte = 6.0\n",
    "\n",
    "display(library_en.loc[library_en['authorcentury'] == cte].groupby('author').count())\n",
    "\n",
    "display(library_en.loc[library_en['authorcentury'] == cte])"
   ]
  },
  {
   "cell_type": "code",
   "execution_count": null,
   "metadata": {},
   "outputs": [],
   "source": [
    "# Plato (spurious and doubtful works)\n",
    "# unknoen: -2 ce, 2ce, 3ce, 4ce, 5ce, \n",
    "# -1 ce, only 1 book from Cato; to check how long\n",
    "['Homer', 'Confucius', 'Herodotus', 'Plato', 'Seneca, Lucius Annaeus', 'Marcus Aurelius, Emperor of Rome'\n",
    "]"
   ]
  },
  {
   "cell_type": "code",
   "execution_count": null,
   "metadata": {},
   "outputs": [],
   "source": [
    "select_authors = library_en.groupby('author')['title'].count().sort_values(ascending=False).head(6).index.to_list()"
   ]
  },
  {
   "cell_type": "code",
   "execution_count": null,
   "metadata": {},
   "outputs": [],
   "source": [
    "select_authors = ['Shakespeare, William', 'Melville, Herman', 'Dumas, Alexandre', 'Austen, Jane',\n",
    "'Fitzgerald, F. Scott (Francis Scott)', 'Ibsen, Henrik', 'Stoker, Bram', 'Dickens, Charles',\n",
    "'Doyle, Arthur Conan', 'Kafka, Franz', 'Tolstoy, Leo, graf', 'Dostoyevsky, Fyodor', 'Joyce, James',\n",
    "'Machiavelli, Niccolò', 'Homer', 'Hobbes, Thomas', 'Plato', 'Nietzsche, Friedrich Wilhelm', 'Poe, Edgar Allan',\n",
    "'Christie, Agatha', 'Twain, Mark', 'Verne, Jules', 'Dickinson, Emily', 'Dick, Philip K.', 'Plato', 'Lovecraft, H. P. (Howard Phillips)']"
   ]
  },
  {
   "cell_type": "code",
   "execution_count": null,
   "metadata": {},
   "outputs": [],
   "source": [
    "library_en[library_en['author'].isin(select_authors)].groupby('author')['authoryearofbirth'].max()"
   ]
  },
  {
   "cell_type": "code",
   "execution_count": null,
   "metadata": {},
   "outputs": [],
   "source": [
    "library_top_six = library_en[library_en['author'].isin(top_six_authors_list)]"
   ]
  },
  {
   "attachments": {},
   "cell_type": "markdown",
   "metadata": {},
   "source": [
    "Just some interesting authors that I recognize...\n",
    "- Shakespeare, William\n",
    "- Melville, Herman\n",
    "- Dumas, Alexandre\n",
    "- Austen, Jane\n",
    "- Fitzgerald, F. Scott (Francis Scott)\n",
    "- Ibsen, Henrik\n",
    "- Stoker, Bram\n",
    "- Dickens, Charles\n",
    "- Doyle, Arthur Conan\n",
    "- Kafka, Franz\n",
    "- Tolstoy, Leo, graf\n",
    "- Dostoyevsky, Fyodor\n",
    "- Joyce, James\n",
    "- Machiavelli, Niccolò\n",
    "- Homer\n",
    "- Hobbes, Thomas\n",
    "- Plato\n",
    "- Nietzsche, Friedrich Wilhelm\n",
    "- Poe, Edgar Allan\n",
    "- Christie, Agatha\n",
    "- Twain, Mark\n",
    "- Verne, Jules\n",
    "- Dickinson, Emily\n",
    "- Dick, Philip K.\n",
    "- Plato\n",
    "- Lovecraft, H. P. (Howard Phillips)"
   ]
  },
  {
   "attachments": {},
   "cell_type": "markdown",
   "metadata": {},
   "source": [
    "Authors based on most downloads;"
   ]
  },
  {
   "cell_type": "code",
   "execution_count": null,
   "metadata": {},
   "outputs": [],
   "source": []
  },
  {
   "attachments": {},
   "cell_type": "markdown",
   "metadata": {},
   "source": [
    "## Reading and Tokenizing Books"
   ]
  },
  {
   "attachments": {},
   "cell_type": "markdown",
   "metadata": {},
   "source": [
    "Function that opens files and extracts the text (leaving the Gutenberg info at top and bottom out)."
   ]
  },
  {
   "cell_type": "code",
   "execution_count": null,
   "metadata": {},
   "outputs": [],
   "source": [
    "def import_book(filepath):\n",
    "    \n",
    "    try:\n",
    "        with open(filepath, encoding = 'utf-8') as fi:\n",
    "            book = fi.read()\n",
    "\n",
    "    except:\n",
    "        # note: when using this, the weird characters, such as ì get left out!\n",
    "        with open(filepath, encoding = 'unicode_escape') as fi:\n",
    "            book = fi.read()\n",
    "\n",
    "    if(not re.search('\\*\\*\\* START OF .+? \\*\\*\\*', book)):\n",
    "        book_start = 0\n",
    "    else:\n",
    "        book_start = re.search('\\*\\*\\* START OF .+? \\*\\*\\*', book).end()\n",
    "\n",
    "    if(not re.search('\\*\\*\\* END OF .+? \\*\\*\\*', book)):\n",
    "        book_end = -1\n",
    "    else:\n",
    "        book_end = re.search('\\*\\*\\* END OF .+? \\*\\*\\*', book).start()\n",
    "\n",
    "    book = book[book_start : book_end]\n",
    "\n",
    "    return book"
   ]
  },
  {
   "attachments": {},
   "cell_type": "markdown",
   "metadata": {},
   "source": [
    "Process the top 6 authors books;\n",
    "\n",
    "> NOTE: here I found out that some files have strange characters and won't be opened. I wil lhave to decide what to do with those."
   ]
  },
  {
   "cell_type": "code",
   "execution_count": null,
   "metadata": {},
   "outputs": [],
   "source": [
    "for book_id in library_top_six['id']:\n",
    "    \n",
    "    filepath = f'../data/raw/{book_id}_raw.txt'\n",
    "\n",
    "    try:\n",
    "        book = import_book(filepath)\n",
    "\n",
    "        library_top_six.loc[library_top_six['id'] == book_id, 'book_content'] = book\n",
    "        \n",
    "    except:\n",
    "        print('could not open', filepath)\n",
    "\n",
    "        library_top_six.loc[library_top_six['id'] == book_id, 'book_content'] = 'could not open'\n",
    "\n",
    "    "
   ]
  },
  {
   "cell_type": "code",
   "execution_count": null,
   "metadata": {},
   "outputs": [],
   "source": [
    "# there are some books who had weird characters and were not able to open\n",
    "library_unopened_books = library_top_six.loc[library_top_six['book_content'] == 'could not open']\n",
    "\n",
    "library_top_six = library_top_six.loc[library_top_six['book_content'] != 'could not open']"
   ]
  },
  {
   "cell_type": "code",
   "execution_count": null,
   "metadata": {},
   "outputs": [],
   "source": [
    "# to see more in a column of df\n",
    "# pd.set_option('display.max_colwidth', 50) #set it to None to display all"
   ]
  },
  {
   "cell_type": "code",
   "execution_count": null,
   "metadata": {},
   "outputs": [],
   "source": [
    "top_six_authors_dict = {top_six_authors_list[i]: i for i in range(6)}\n",
    "\n",
    "library_top_six = library_top_six.replace({'author': top_six_authors_dict})"
   ]
  },
  {
   "cell_type": "code",
   "execution_count": null,
   "metadata": {},
   "outputs": [],
   "source": [
    "# to invert the above\n",
    "num_to_author = {v: k for k, v in top_six_authors_dict.items()}"
   ]
  },
  {
   "cell_type": "code",
   "execution_count": null,
   "metadata": {},
   "outputs": [],
   "source": [
    "top_six_authors_dict"
   ]
  },
  {
   "cell_type": "code",
   "execution_count": null,
   "metadata": {},
   "outputs": [],
   "source": [
    "X = library_top_six[['book_content']]\n",
    "y = library_top_six['author']\n",
    "\n",
    "X_train, X_test, y_train, y_test = train_test_split(X, y, random_state = 321, stratify = y)"
   ]
  },
  {
   "cell_type": "code",
   "execution_count": null,
   "metadata": {},
   "outputs": [],
   "source": [
    "X_train.shape\n",
    "\n",
    "X_test.shape"
   ]
  },
  {
   "cell_type": "code",
   "execution_count": null,
   "metadata": {},
   "outputs": [],
   "source": [
    "pipe_vect_logreg = Pipeline(\n",
    "    steps = [\n",
    "        ('vect', TfidfVectorizer(min_df=2, max_df=0.8, ngram_range=(1,2))),\n",
    "        ('logreg', LogisticRegression(max_iter = 10000))\n",
    "    ]\n",
    ")"
   ]
  },
  {
   "cell_type": "code",
   "execution_count": null,
   "metadata": {},
   "outputs": [],
   "source": [
    "pipe_vect_logreg.fit(X_train['book_content'], y_train)\n",
    "y_pred = pipe_vect_logreg.predict(X_test['book_content'])\n",
    "\n",
    "print('accuracy score:', accuracy_score(y_test, y_pred), '\\n')\n",
    "print('---- confusion matrix ------')\n",
    "print(confusion_matrix(y_test, y_pred), '\\n')\n",
    "print('-------- classification report ---------')\n",
    "print(classification_report(y_test, y_pred))"
   ]
  },
  {
   "cell_type": "code",
   "execution_count": null,
   "metadata": {},
   "outputs": [],
   "source": [
    "fig = px.imshow(confusion_matrix(y_test, y_pred),\n",
    "                width=1000,\n",
    "                height=800,\n",
    "                text_auto=True,\n",
    "                labels=dict(x=\"Predicted Label\",\n",
    "                            y=\"True Label\"),\n",
    "                            x=tuple(top_six_authors_dict.keys()),\n",
    "                            y=tuple(top_six_authors_dict.keys()),\n",
    "                            color_continuous_scale='Teal'\n",
    "                            )\n",
    "\n",
    "fig.update(layout_coloraxis_showscale=False)\n",
    "\n",
    "fig.show()"
   ]
  },
  {
   "cell_type": "code",
   "execution_count": null,
   "metadata": {},
   "outputs": [],
   "source": [
    "#pipe_vect_logreg['vect'].vocabulary_['î']\n",
    "\n",
    "{k:v for (k,v) in pipe_vect_logreg['vect'].vocabulary_.items() if v < 100}"
   ]
  },
  {
   "attachments": {},
   "cell_type": "markdown",
   "metadata": {},
   "source": [
    "To test out my logic, let's see how my own two books measure up!"
   ]
  },
  {
   "cell_type": "code",
   "execution_count": null,
   "metadata": {},
   "outputs": [],
   "source": [
    "my_books = pd.DataFrame()\n",
    "\n",
    "for book_name in ('Deathway', 'Lambda'):\n",
    "        filepath = f'../data/{book_name} by Tomo Umer.txt'\n",
    "\n",
    "        with open(filepath, encoding = 'utf-8') as fi:\n",
    "                book = fi.read()\n",
    "        \n",
    "        tmp_book = pd.DataFrame({'title': [book_name], 'book_content': [book]})\n",
    "\n",
    "        my_books = pd.concat([my_books, tmp_book], ignore_index = True)"
   ]
  },
  {
   "cell_type": "code",
   "execution_count": null,
   "metadata": {},
   "outputs": [],
   "source": [
    "pipe_vect_logreg.predict_proba(my_books['book_content'])"
   ]
  },
  {
   "attachments": {},
   "cell_type": "markdown",
   "metadata": {},
   "source": [
    "It would appear both of my books are most similar to Mark Twain!"
   ]
  },
  {
   "cell_type": "code",
   "execution_count": null,
   "metadata": {},
   "outputs": [],
   "source": [
    "pd.DataFrame(pipe_vect_logreg.predict_proba(my_books['book_content']),columns=top_six_authors_dict.keys())"
   ]
  },
  {
   "cell_type": "code",
   "execution_count": null,
   "metadata": {},
   "outputs": [],
   "source": [
    "test_df = pd.DataFrame(pipe_vect_logreg.predict_proba(my_books['book_content']).T, columns=['Deathway', 'Lambda'])\n",
    "\n",
    "test_df.insert (0, 'Authors', top_six_authors_dict.keys())\n",
    "\n",
    "test_df"
   ]
  },
  {
   "attachments": {},
   "cell_type": "markdown",
   "metadata": {},
   "source": [
    "## Neural Networks\n",
    "\n",
    "Using neural networks in order to obtain a better representation of similarity (by using an intermediate hidden layer of 100 neurons)."
   ]
  },
  {
   "cell_type": "code",
   "execution_count": null,
   "metadata": {},
   "outputs": [],
   "source": [
    "pipe_vect_nn = Pipeline(\n",
    "    steps = [\n",
    "        ('vect', TfidfVectorizer(min_df=2, max_df=0.8, ngram_range=(1,2))),\n",
    "        ('scaler', MaxAbsScaler()),  #this is needed in order to make it converge in a reasonable time!\n",
    "        ('nn', MLPClassifier(verbose = True,\n",
    "                             hidden_layer_sizes = (100, ),\n",
    "                             #activation = 'tanh',\n",
    "                             #max_iter = 10000,\n",
    "                             #alpha=0.05\n",
    "                             ))\n",
    "    ]\n",
    ")"
   ]
  },
  {
   "cell_type": "code",
   "execution_count": null,
   "metadata": {},
   "outputs": [],
   "source": [
    "pipe_vect_nn.fit(X_train['book_content'], y_train)\n",
    "y_pred = pipe_vect_nn.predict(X_test['book_content'])\n",
    "\n",
    "print('accuracy score:', accuracy_score(y_test, y_pred), '\\n')\n",
    "print('---- confusion matrix ------')\n",
    "print(confusion_matrix(y_test, y_pred), '\\n')\n",
    "print('-------- classification report ---------')\n",
    "print(classification_report(y_test, y_pred))"
   ]
  },
  {
   "attachments": {},
   "cell_type": "markdown",
   "metadata": {},
   "source": [
    "Now that I have the neural network fit, I need to create an autoencoder with that."
   ]
  },
  {
   "cell_type": "code",
   "execution_count": null,
   "metadata": {},
   "outputs": [],
   "source": [
    "# have to use the regressor because classifiers thinks we're expecting int results, even if we chop it off before final step!\n",
    "encoder = MLPRegressor()\n",
    "encoder.coefs_ = pipe_vect_nn['nn'].coefs_[:1]\n",
    "encoder.intercepts_ = pipe_vect_nn['nn'].intercepts_[:1]\n",
    "encoder.n_layers_ = 2\n",
    "encoder.out_activation_ = 'relu'"
   ]
  },
  {
   "cell_type": "code",
   "execution_count": null,
   "metadata": {},
   "outputs": [],
   "source": [
    "# copy the pipeline\n",
    "pipe_vect_encoder = deepcopy(pipe_vect_nn)\n",
    "\n",
    "# remove the classifier\n",
    "pipe_vect_encoder.steps.pop(2)\n",
    "\n",
    "# append the new encoder (essentially, it contains all layers minus the final one)\n",
    "pipe_vect_encoder.steps.append(['enc', encoder])"
   ]
  },
  {
   "cell_type": "code",
   "execution_count": null,
   "metadata": {},
   "outputs": [],
   "source": [
    "# projection = pipe_vect_encoder.predict(X_test['book_content'])\n",
    "\n",
    "# plt.figure(figsize = (10,6))\n",
    "# sns.scatterplot(x=projection[:,0], y=projection[:,1], hue = y_test.astype('category'))\n",
    "# plt.legend(bbox_to_anchor = (1,1));\n"
   ]
  },
  {
   "cell_type": "code",
   "execution_count": null,
   "metadata": {},
   "outputs": [],
   "source": [
    "# now using predict from the encoder to get the 100-dimensional projection of the top six authors\n",
    "nn_represent_top_six = pipe_vect_encoder.predict(library_top_six['book_content'])"
   ]
  },
  {
   "attachments": {},
   "cell_type": "markdown",
   "metadata": {},
   "source": [
    "Next use UMAP to represent the 100 dimensional projection into a 2d one!"
   ]
  },
  {
   "cell_type": "code",
   "execution_count": null,
   "metadata": {},
   "outputs": [],
   "source": [
    "umap_mnist = umap.UMAP()\n",
    "umap_mnist.fit(nn_represent_top_six)"
   ]
  },
  {
   "cell_type": "code",
   "execution_count": null,
   "metadata": {},
   "outputs": [],
   "source": [
    "umap_projection = umap_mnist.transform(nn_represent_top_six)\n",
    "\n",
    "plt.figure(figsize = (10,6))\n",
    "sns.scatterplot(x=umap_projection[:,0], y=umap_projection[:,1], \n",
    "                hue = library_top_six['author'].astype('category'),\n",
    "               alpha = 0.7);"
   ]
  },
  {
   "attachments": {},
   "cell_type": "markdown",
   "metadata": {},
   "source": [
    "Now to use the encoder to see how the six authors get represented in this 100-dimensional space."
   ]
  },
  {
   "cell_type": "code",
   "execution_count": null,
   "metadata": {},
   "outputs": [],
   "source": [
    "print(library_top_six.shape)\n",
    "print(nn_represent_top_six.shape)"
   ]
  },
  {
   "cell_type": "code",
   "execution_count": null,
   "metadata": {},
   "outputs": [],
   "source": [
    "library_top_six_breakdown = pd.DataFrame(nn_represent_top_six, columns=[f'dim_{x}' for x in range(100)])"
   ]
  },
  {
   "cell_type": "code",
   "execution_count": null,
   "metadata": {},
   "outputs": [],
   "source": [
    "library_title_author = library_top_six[['title', 'author']].replace({'author': num_to_author})"
   ]
  },
  {
   "cell_type": "code",
   "execution_count": null,
   "metadata": {},
   "outputs": [],
   "source": [
    "library_top_six_breakdown = pd.concat([library_title_author, library_top_six_breakdown.set_index(library_title_author.index)], axis=1)"
   ]
  },
  {
   "attachments": {},
   "cell_type": "markdown",
   "metadata": {},
   "source": [
    "Calculating cosine similarity"
   ]
  },
  {
   "attachments": {},
   "cell_type": "markdown",
   "metadata": {},
   "source": [
    "In order to plot it, I'll condense the authors."
   ]
  },
  {
   "cell_type": "code",
   "execution_count": null,
   "metadata": {},
   "outputs": [],
   "source": [
    "library_top_six_grouped = library_top_six_breakdown.drop(columns=['title']).groupby('author').mean()"
   ]
  },
  {
   "cell_type": "code",
   "execution_count": null,
   "metadata": {},
   "outputs": [],
   "source": [
    "dists = spatial.distance.pdist(library_top_six_grouped.values, metric = 'cosine')"
   ]
  },
  {
   "cell_type": "code",
   "execution_count": null,
   "metadata": {},
   "outputs": [],
   "source": [
    "mergings = linkage(dists, method='complete')\n",
    "\n",
    "plt.figure(figsize = (12,8))\n",
    "dendrogram(mergings,\n",
    "           labels = list(library_top_six_grouped.index),\n",
    "           leaf_rotation = 90,\n",
    "           leaf_font_size = 6);\n",
    "\n",
    "plt.tight_layout()\n",
    "#plt.savefig('images/dendogram_complete_cosine.png', transparent=False, facecolor='white', dpi = 150);"
   ]
  },
  {
   "cell_type": "code",
   "execution_count": null,
   "metadata": {},
   "outputs": [],
   "source": [
    "# this is a bit convoluted, but .. I first concatenate all the texts in the pandas series which returns an extremely long string\n",
    "# I then turn that string into a pandas series (the predict requires an iterable object)\n",
    "# pipe_vect_encoder.predict(pd.Series(library_top_six.loc[library_top_six['author'] == 0]['book_content'].str.cat()))"
   ]
  }
 ],
 "metadata": {
  "kernelspec": {
   "display_name": "base",
   "language": "python",
   "name": "python3"
  },
  "language_info": {
   "codemirror_mode": {
    "name": "ipython",
    "version": 3
   },
   "file_extension": ".py",
   "mimetype": "text/x-python",
   "name": "python",
   "nbconvert_exporter": "python",
   "pygments_lexer": "ipython3",
   "version": "3.9.12"
  },
  "orig_nbformat": 4
 },
 "nbformat": 4,
 "nbformat_minor": 2
}
