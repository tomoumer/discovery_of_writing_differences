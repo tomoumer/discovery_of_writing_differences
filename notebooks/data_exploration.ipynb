{
 "cells": [
  {
   "attachments": {},
   "cell_type": "markdown",
   "metadata": {},
   "source": [
    "# Discovery of Writing Differences - Data Exploration\n",
    "\n",
    "Capstone project by Tomo Umer"
   ]
  },
  {
   "attachments": {},
   "cell_type": "markdown",
   "metadata": {},
   "source": [
    "<img src=\"https://tomoumerdotcom.files.wordpress.com/2022/04/cropped-pho_logo_notext.png\" alt=\"PRAISE DOG\" style=\"width:400px;height:400px;\"/>"
   ]
  },
  {
   "attachments": {},
   "cell_type": "markdown",
   "metadata": {},
   "source": [
    "## Imports"
   ]
  },
  {
   "cell_type": "code",
   "execution_count": 42,
   "metadata": {},
   "outputs": [],
   "source": [
    "import pandas as pd\n",
    "import numpy as np\n",
    "import re\n",
    "import glob\n",
    "import plotly.express as px\n",
    "import pickle\n",
    "\n",
    "from sklearn.model_selection import train_test_split\n",
    "from sklearn.metrics import accuracy_score, confusion_matrix, classification_report\n",
    "from sklearn.feature_extraction.text import TfidfVectorizer\n",
    "from sklearn.linear_model import LogisticRegression\n",
    "from sklearn.pipeline import Pipeline\n",
    "\n",
    "\n",
    "# import matplotlib.pyplot as plt\n",
    "# import seaborn as sns\n",
    "# from sklearn.neural_network import MLPClassifier, MLPRegressor\n",
    "# from sklearn.preprocessing import MaxAbsScaler\n",
    "# from copy import deepcopy\n",
    "\n",
    "# import umap\n",
    "# from scipy import spatial\n",
    "# from scipy.cluster.hierarchy import linkage, dendrogram"
   ]
  },
  {
   "attachments": {},
   "cell_type": "markdown",
   "metadata": {},
   "source": [
    "## Exploring Available Books\n",
    "\n",
    "An initial exploration of available books and what was not downloaded (but should, according to the metadata)."
   ]
  },
  {
   "attachments": {},
   "cell_type": "markdown",
   "metadata": {},
   "source": [
    "To start with, figure out which books were not downloaded and yet they are present in the metadata csv!"
   ]
  },
  {
   "cell_type": "code",
   "execution_count": 2,
   "metadata": {},
   "outputs": [
    {
     "data": {
      "text/plain": [
       "3435"
      ]
     },
     "execution_count": 2,
     "metadata": {},
     "output_type": "execute_result"
    }
   ],
   "source": [
    "books_list = []\n",
    "\n",
    "# list of books downloaded successfully into the /raw/ folder\n",
    "for name in glob.glob('../data/raw/*'):\n",
    "    books_list.append(re.findall(r'PG\\d*', name)[0])\n",
    "\n",
    "# the metadata (books that should be there)\n",
    "library = pd.read_csv('../data/metadata.csv')\n",
    "\n",
    "# the difference\n",
    "len(library) - len(books_list)"
   ]
  },
  {
   "attachments": {},
   "cell_type": "markdown",
   "metadata": {},
   "source": [
    "There are 3435 \"books\" listed in the metadata that did not get downloaded."
   ]
  },
  {
   "cell_type": "code",
   "execution_count": 3,
   "metadata": {},
   "outputs": [
    {
     "name": "stdout",
     "output_type": "stream",
     "text": [
      "NaN            2215\n",
      "Sound          1104\n",
      "Dataset          83\n",
      "Image            33\n",
      "MovingImage       7\n",
      "StillImage        3\n",
      "Collection        1\n",
      "Text              1\n",
      "Name: type, dtype: int64\n",
      "\n",
      "English missing only:\n",
      "NaN            1991\n",
      "Sound          1039\n",
      "Dataset          83\n",
      "Image            33\n",
      "MovingImage       7\n",
      "StillImage        3\n",
      "Collection        1\n",
      "Text              1\n",
      "Name: type, dtype: int64\n"
     ]
    }
   ],
   "source": [
    "missing_library = library.loc[~library['id'].isin(books_list)]\n",
    "\n",
    "print(missing_library['type'].value_counts(dropna=False))\n",
    "print('\\nEnglish missing only:')\n",
    "print(missing_library.loc[missing_library['language'].str.find('en') > -1]['type'].value_counts(dropna=False))"
   ]
  },
  {
   "attachments": {},
   "cell_type": "markdown",
   "metadata": {},
   "source": [
    "Initially, I filtered them one by one and explored the contents. For the sake of keeping the notebook cleaner, I decided to compact the code below, to display (up to) five rows for each category:\n",
    "\n",
    "- 'NaNs' are the actual books; so I am missing 2215 of them in my local library. If I get the time I'd like to explore why they did not get downloaded\n",
    "- 'Sounds' are fequently transcriptions of speeches. Not interested in those.\n",
    "- 'Datasets' are primarily Human Genome Project (72 of them). There are 10 calculations of square roots and 1/pi to a million digits. 'Moby Word Lists' is just info on gutenberg, disclaimers, etc...\n",
    "- the 'Image' contains music sheets\n",
    "- 'MovingImage' contains comets video, rotating earth and 5 nuclear test videos\n",
    "- 'StillImages' contain a kids story illustrated and two maps/ map images\n",
    "- 'Collection' contains 'Project Gutenberg DVD: The July 2006 Special' and the only not downloaded text is just empty.\n",
    "- And then there is 'text' which I'm sure it was supposed to be for books, but it's just NaNs all around"
   ]
  },
  {
   "cell_type": "code",
   "execution_count": 4,
   "metadata": {},
   "outputs": [
    {
     "data": {
      "text/html": [
       "<div>\n",
       "<style scoped>\n",
       "    .dataframe tbody tr th:only-of-type {\n",
       "        vertical-align: middle;\n",
       "    }\n",
       "\n",
       "    .dataframe tbody tr th {\n",
       "        vertical-align: top;\n",
       "    }\n",
       "\n",
       "    .dataframe thead th {\n",
       "        text-align: right;\n",
       "    }\n",
       "</style>\n",
       "<table border=\"1\" class=\"dataframe\">\n",
       "  <thead>\n",
       "    <tr style=\"text-align: right;\">\n",
       "      <th></th>\n",
       "      <th>id</th>\n",
       "      <th>title</th>\n",
       "      <th>author</th>\n",
       "      <th>authoryearofbirth</th>\n",
       "      <th>authoryearofdeath</th>\n",
       "      <th>language</th>\n",
       "      <th>downloads</th>\n",
       "      <th>subjects</th>\n",
       "      <th>type</th>\n",
       "    </tr>\n",
       "  </thead>\n",
       "  <tbody>\n",
       "    <tr>\n",
       "      <th>151</th>\n",
       "      <td>PG10137</td>\n",
       "      <td>Mary Had a Little Lamb: Recording taken from M...</td>\n",
       "      <td>Edison, Thomas A. (Thomas Alva)</td>\n",
       "      <td>1847.0</td>\n",
       "      <td>1931.0</td>\n",
       "      <td>['en']</td>\n",
       "      <td>21</td>\n",
       "      <td>{'Nursery rhymes, American'}</td>\n",
       "      <td>Sound</td>\n",
       "    </tr>\n",
       "    <tr>\n",
       "      <th>168</th>\n",
       "      <td>PG10152</td>\n",
       "      <td>Voice Trial - Kinetophone actor audition</td>\n",
       "      <td>Lett, Bob</td>\n",
       "      <td>NaN</td>\n",
       "      <td>NaN</td>\n",
       "      <td>['en']</td>\n",
       "      <td>4</td>\n",
       "      <td>{'Auditions'}</td>\n",
       "      <td>Sound</td>\n",
       "    </tr>\n",
       "    <tr>\n",
       "      <th>169</th>\n",
       "      <td>PG10153</td>\n",
       "      <td>Voice Trial - Kinetophone Actor Audition</td>\n",
       "      <td>Lenord, Frank</td>\n",
       "      <td>NaN</td>\n",
       "      <td>NaN</td>\n",
       "      <td>['en']</td>\n",
       "      <td>4</td>\n",
       "      <td>{'Auditions'}</td>\n",
       "      <td>Sound</td>\n",
       "    </tr>\n",
       "    <tr>\n",
       "      <th>170</th>\n",
       "      <td>PG10154</td>\n",
       "      <td>Voice Trial - Kinetophone Actor Audition</td>\n",
       "      <td>Schultz, Siegfried Von</td>\n",
       "      <td>NaN</td>\n",
       "      <td>NaN</td>\n",
       "      <td>['en']</td>\n",
       "      <td>0</td>\n",
       "      <td>{'Auditions'}</td>\n",
       "      <td>Sound</td>\n",
       "    </tr>\n",
       "    <tr>\n",
       "      <th>171</th>\n",
       "      <td>PG10155</td>\n",
       "      <td>The Right of the People to Rule</td>\n",
       "      <td>Roosevelt, Theodore</td>\n",
       "      <td>1858.0</td>\n",
       "      <td>1919.0</td>\n",
       "      <td>['en']</td>\n",
       "      <td>9</td>\n",
       "      <td>{'Progressivism (United States politics)', 'Po...</td>\n",
       "      <td>Sound</td>\n",
       "    </tr>\n",
       "  </tbody>\n",
       "</table>\n",
       "</div>"
      ],
      "text/plain": [
       "          id                                              title  \\\n",
       "151  PG10137  Mary Had a Little Lamb: Recording taken from M...   \n",
       "168  PG10152           Voice Trial - Kinetophone actor audition   \n",
       "169  PG10153           Voice Trial - Kinetophone Actor Audition   \n",
       "170  PG10154           Voice Trial - Kinetophone Actor Audition   \n",
       "171  PG10155                    The Right of the People to Rule   \n",
       "\n",
       "                              author  authoryearofbirth  authoryearofdeath  \\\n",
       "151  Edison, Thomas A. (Thomas Alva)             1847.0             1931.0   \n",
       "168                        Lett, Bob                NaN                NaN   \n",
       "169                    Lenord, Frank                NaN                NaN   \n",
       "170           Schultz, Siegfried Von                NaN                NaN   \n",
       "171              Roosevelt, Theodore             1858.0             1919.0   \n",
       "\n",
       "    language  downloads                                           subjects  \\\n",
       "151   ['en']         21                       {'Nursery rhymes, American'}   \n",
       "168   ['en']          4                                      {'Auditions'}   \n",
       "169   ['en']          4                                      {'Auditions'}   \n",
       "170   ['en']          0                                      {'Auditions'}   \n",
       "171   ['en']          9  {'Progressivism (United States politics)', 'Po...   \n",
       "\n",
       "      type  \n",
       "151  Sound  \n",
       "168  Sound  \n",
       "169  Sound  \n",
       "170  Sound  \n",
       "171  Sound  "
      ]
     },
     "metadata": {},
     "output_type": "display_data"
    },
    {
     "data": {
      "text/html": [
       "<div>\n",
       "<style scoped>\n",
       "    .dataframe tbody tr th:only-of-type {\n",
       "        vertical-align: middle;\n",
       "    }\n",
       "\n",
       "    .dataframe tbody tr th {\n",
       "        vertical-align: top;\n",
       "    }\n",
       "\n",
       "    .dataframe thead th {\n",
       "        text-align: right;\n",
       "    }\n",
       "</style>\n",
       "<table border=\"1\" class=\"dataframe\">\n",
       "  <thead>\n",
       "    <tr style=\"text-align: right;\">\n",
       "      <th></th>\n",
       "      <th>id</th>\n",
       "      <th>title</th>\n",
       "      <th>author</th>\n",
       "      <th>authoryearofbirth</th>\n",
       "      <th>authoryearofdeath</th>\n",
       "      <th>language</th>\n",
       "      <th>downloads</th>\n",
       "      <th>subjects</th>\n",
       "      <th>type</th>\n",
       "    </tr>\n",
       "  </thead>\n",
       "  <tbody>\n",
       "    <tr>\n",
       "      <th>606</th>\n",
       "      <td>PG10547</td>\n",
       "      <td>Topsy-Turvy</td>\n",
       "      <td>Verne, Jules</td>\n",
       "      <td>1828.0</td>\n",
       "      <td>1905.0</td>\n",
       "      <td>['en']</td>\n",
       "      <td>126</td>\n",
       "      <td>{'Science fiction, French -- Translations into...</td>\n",
       "      <td>NaN</td>\n",
       "    </tr>\n",
       "    <tr>\n",
       "      <th>703</th>\n",
       "      <td>PG10634</td>\n",
       "      <td>The Queen of Hearts, and Sing a Song for Sixpence</td>\n",
       "      <td>Caldecott, Randolph</td>\n",
       "      <td>1846.0</td>\n",
       "      <td>1886.0</td>\n",
       "      <td>['en']</td>\n",
       "      <td>44</td>\n",
       "      <td>{'Picture books for children', 'Nursery rhymes...</td>\n",
       "      <td>NaN</td>\n",
       "    </tr>\n",
       "    <tr>\n",
       "      <th>841</th>\n",
       "      <td>PG10762</td>\n",
       "      <td>Impressions of Theophrastus Such</td>\n",
       "      <td>Eliot, George</td>\n",
       "      <td>1819.0</td>\n",
       "      <td>1880.0</td>\n",
       "      <td>['en']</td>\n",
       "      <td>110</td>\n",
       "      <td>{'Authors -- Fiction', 'England -- Fiction', '...</td>\n",
       "      <td>NaN</td>\n",
       "    </tr>\n",
       "    <tr>\n",
       "      <th>923</th>\n",
       "      <td>PG10836</td>\n",
       "      <td>The Algebra of Logic</td>\n",
       "      <td>Couturat, Louis</td>\n",
       "      <td>1868.0</td>\n",
       "      <td>1914.0</td>\n",
       "      <td>['en']</td>\n",
       "      <td>97</td>\n",
       "      <td>{'Logic, Symbolic and mathematical', 'Algebrai...</td>\n",
       "      <td>NaN</td>\n",
       "    </tr>\n",
       "    <tr>\n",
       "      <th>1106</th>\n",
       "      <td>PG10</td>\n",
       "      <td>The King James Version of the Bible</td>\n",
       "      <td>NaN</td>\n",
       "      <td>NaN</td>\n",
       "      <td>NaN</td>\n",
       "      <td>['en']</td>\n",
       "      <td>5831</td>\n",
       "      <td>{'Bible'}</td>\n",
       "      <td>NaN</td>\n",
       "    </tr>\n",
       "  </tbody>\n",
       "</table>\n",
       "</div>"
      ],
      "text/plain": [
       "           id                                              title  \\\n",
       "606   PG10547                                        Topsy-Turvy   \n",
       "703   PG10634  The Queen of Hearts, and Sing a Song for Sixpence   \n",
       "841   PG10762                   Impressions of Theophrastus Such   \n",
       "923   PG10836                               The Algebra of Logic   \n",
       "1106     PG10                The King James Version of the Bible   \n",
       "\n",
       "                   author  authoryearofbirth  authoryearofdeath language  \\\n",
       "606          Verne, Jules             1828.0             1905.0   ['en']   \n",
       "703   Caldecott, Randolph             1846.0             1886.0   ['en']   \n",
       "841         Eliot, George             1819.0             1880.0   ['en']   \n",
       "923       Couturat, Louis             1868.0             1914.0   ['en']   \n",
       "1106                  NaN                NaN                NaN   ['en']   \n",
       "\n",
       "      downloads                                           subjects type  \n",
       "606         126  {'Science fiction, French -- Translations into...  NaN  \n",
       "703          44  {'Picture books for children', 'Nursery rhymes...  NaN  \n",
       "841         110  {'Authors -- Fiction', 'England -- Fiction', '...  NaN  \n",
       "923          97  {'Logic, Symbolic and mathematical', 'Algebrai...  NaN  \n",
       "1106       5831                                          {'Bible'}  NaN  "
      ]
     },
     "metadata": {},
     "output_type": "display_data"
    },
    {
     "data": {
      "text/html": [
       "<div>\n",
       "<style scoped>\n",
       "    .dataframe tbody tr th:only-of-type {\n",
       "        vertical-align: middle;\n",
       "    }\n",
       "\n",
       "    .dataframe tbody tr th {\n",
       "        vertical-align: top;\n",
       "    }\n",
       "\n",
       "    .dataframe thead th {\n",
       "        text-align: right;\n",
       "    }\n",
       "</style>\n",
       "<table border=\"1\" class=\"dataframe\">\n",
       "  <thead>\n",
       "    <tr style=\"text-align: right;\">\n",
       "      <th></th>\n",
       "      <th>id</th>\n",
       "      <th>title</th>\n",
       "      <th>author</th>\n",
       "      <th>authoryearofbirth</th>\n",
       "      <th>authoryearofdeath</th>\n",
       "      <th>language</th>\n",
       "      <th>downloads</th>\n",
       "      <th>subjects</th>\n",
       "      <th>type</th>\n",
       "    </tr>\n",
       "  </thead>\n",
       "  <tbody>\n",
       "    <tr>\n",
       "      <th>1108</th>\n",
       "      <td>PG11001</td>\n",
       "      <td>String Quartet No. 05 in A major Opus 18</td>\n",
       "      <td>Beethoven, Ludwig van</td>\n",
       "      <td>1770.0</td>\n",
       "      <td>1827.0</td>\n",
       "      <td>['en']</td>\n",
       "      <td>5</td>\n",
       "      <td>{'Music', 'String quartets -- Scores'}</td>\n",
       "      <td>Image</td>\n",
       "    </tr>\n",
       "    <tr>\n",
       "      <th>1109</th>\n",
       "      <td>PG11002</td>\n",
       "      <td>String Quartet No. 11 in F minor Opus 95 \"Seri...</td>\n",
       "      <td>Beethoven, Ludwig van</td>\n",
       "      <td>1770.0</td>\n",
       "      <td>1827.0</td>\n",
       "      <td>['en']</td>\n",
       "      <td>6</td>\n",
       "      <td>{'String quartets -- Scores', 'Music'}</td>\n",
       "      <td>Image</td>\n",
       "    </tr>\n",
       "    <tr>\n",
       "      <th>1944</th>\n",
       "      <td>PG11755</td>\n",
       "      <td>String Quartet No. 10 in E flat major Opus 74 ...</td>\n",
       "      <td>Beethoven, Ludwig van</td>\n",
       "      <td>1770.0</td>\n",
       "      <td>1827.0</td>\n",
       "      <td>['en']</td>\n",
       "      <td>15</td>\n",
       "      <td>{'Music', 'String quartets -- Scores'}</td>\n",
       "      <td>Image</td>\n",
       "    </tr>\n",
       "    <tr>\n",
       "      <th>2381</th>\n",
       "      <td>PG12149</td>\n",
       "      <td>String Quartet No. 03 in D major Opus 18</td>\n",
       "      <td>Beethoven, Ludwig van</td>\n",
       "      <td>1770.0</td>\n",
       "      <td>1827.0</td>\n",
       "      <td>['en']</td>\n",
       "      <td>15</td>\n",
       "      <td>{'String quartets -- Scores', 'Music'}</td>\n",
       "      <td>Image</td>\n",
       "    </tr>\n",
       "    <tr>\n",
       "      <th>2479</th>\n",
       "      <td>PG12237</td>\n",
       "      <td>String Quartet No. 16 in F major Opus 135</td>\n",
       "      <td>Beethoven, Ludwig van</td>\n",
       "      <td>1770.0</td>\n",
       "      <td>1827.0</td>\n",
       "      <td>['en']</td>\n",
       "      <td>21</td>\n",
       "      <td>{'Music', 'String quartets -- Scores'}</td>\n",
       "      <td>Image</td>\n",
       "    </tr>\n",
       "  </tbody>\n",
       "</table>\n",
       "</div>"
      ],
      "text/plain": [
       "           id                                              title  \\\n",
       "1108  PG11001           String Quartet No. 05 in A major Opus 18   \n",
       "1109  PG11002  String Quartet No. 11 in F minor Opus 95 \"Seri...   \n",
       "1944  PG11755  String Quartet No. 10 in E flat major Opus 74 ...   \n",
       "2381  PG12149           String Quartet No. 03 in D major Opus 18   \n",
       "2479  PG12237          String Quartet No. 16 in F major Opus 135   \n",
       "\n",
       "                     author  authoryearofbirth  authoryearofdeath language  \\\n",
       "1108  Beethoven, Ludwig van             1770.0             1827.0   ['en']   \n",
       "1109  Beethoven, Ludwig van             1770.0             1827.0   ['en']   \n",
       "1944  Beethoven, Ludwig van             1770.0             1827.0   ['en']   \n",
       "2381  Beethoven, Ludwig van             1770.0             1827.0   ['en']   \n",
       "2479  Beethoven, Ludwig van             1770.0             1827.0   ['en']   \n",
       "\n",
       "      downloads                                subjects   type  \n",
       "1108          5  {'Music', 'String quartets -- Scores'}  Image  \n",
       "1109          6  {'String quartets -- Scores', 'Music'}  Image  \n",
       "1944         15  {'Music', 'String quartets -- Scores'}  Image  \n",
       "2381         15  {'String quartets -- Scores', 'Music'}  Image  \n",
       "2479         21  {'Music', 'String quartets -- Scores'}  Image  "
      ]
     },
     "metadata": {},
     "output_type": "display_data"
    },
    {
     "data": {
      "text/html": [
       "<div>\n",
       "<style scoped>\n",
       "    .dataframe tbody tr th:only-of-type {\n",
       "        vertical-align: middle;\n",
       "    }\n",
       "\n",
       "    .dataframe tbody tr th {\n",
       "        vertical-align: top;\n",
       "    }\n",
       "\n",
       "    .dataframe thead th {\n",
       "        text-align: right;\n",
       "    }\n",
       "</style>\n",
       "<table border=\"1\" class=\"dataframe\">\n",
       "  <thead>\n",
       "    <tr style=\"text-align: right;\">\n",
       "      <th></th>\n",
       "      <th>id</th>\n",
       "      <th>title</th>\n",
       "      <th>author</th>\n",
       "      <th>authoryearofbirth</th>\n",
       "      <th>authoryearofdeath</th>\n",
       "      <th>language</th>\n",
       "      <th>downloads</th>\n",
       "      <th>subjects</th>\n",
       "      <th>type</th>\n",
       "    </tr>\n",
       "  </thead>\n",
       "  <tbody>\n",
       "    <tr>\n",
       "      <th>1661</th>\n",
       "      <td>PG114</td>\n",
       "      <td>The Tenniel Illustrations for Carroll's Alice ...</td>\n",
       "      <td>Tenniel, John</td>\n",
       "      <td>1820.0</td>\n",
       "      <td>1914.0</td>\n",
       "      <td>['en']</td>\n",
       "      <td>391</td>\n",
       "      <td>{\"Children's stories\", 'Fantasy fiction'}</td>\n",
       "      <td>StillImage</td>\n",
       "    </tr>\n",
       "    <tr>\n",
       "      <th>15515</th>\n",
       "      <td>PG239</td>\n",
       "      <td>Radar Map of the United States</td>\n",
       "      <td>United States</td>\n",
       "      <td>NaN</td>\n",
       "      <td>NaN</td>\n",
       "      <td>['en']</td>\n",
       "      <td>27</td>\n",
       "      <td>{'United States -- Maps'}</td>\n",
       "      <td>StillImage</td>\n",
       "    </tr>\n",
       "    <tr>\n",
       "      <th>67797</th>\n",
       "      <td>PG758</td>\n",
       "      <td>LandSat Picture of Washington, DC</td>\n",
       "      <td>United States. National Aeronautics and Space ...</td>\n",
       "      <td>NaN</td>\n",
       "      <td>NaN</td>\n",
       "      <td>['en']</td>\n",
       "      <td>36</td>\n",
       "      <td>{'Washington (D.C.) -- Remote-sensing images'}</td>\n",
       "      <td>StillImage</td>\n",
       "    </tr>\n",
       "  </tbody>\n",
       "</table>\n",
       "</div>"
      ],
      "text/plain": [
       "          id                                              title  \\\n",
       "1661   PG114  The Tenniel Illustrations for Carroll's Alice ...   \n",
       "15515  PG239                     Radar Map of the United States   \n",
       "67797  PG758                  LandSat Picture of Washington, DC   \n",
       "\n",
       "                                                  author  authoryearofbirth  \\\n",
       "1661                                       Tenniel, John             1820.0   \n",
       "15515                                      United States                NaN   \n",
       "67797  United States. National Aeronautics and Space ...                NaN   \n",
       "\n",
       "       authoryearofdeath language  downloads  \\\n",
       "1661              1914.0   ['en']        391   \n",
       "15515                NaN   ['en']         27   \n",
       "67797                NaN   ['en']         36   \n",
       "\n",
       "                                             subjects        type  \n",
       "1661        {\"Children's stories\", 'Fantasy fiction'}  StillImage  \n",
       "15515                       {'United States -- Maps'}  StillImage  \n",
       "67797  {'Washington (D.C.) -- Remote-sensing images'}  StillImage  "
      ]
     },
     "metadata": {},
     "output_type": "display_data"
    },
    {
     "data": {
      "text/html": [
       "<div>\n",
       "<style scoped>\n",
       "    .dataframe tbody tr th:only-of-type {\n",
       "        vertical-align: middle;\n",
       "    }\n",
       "\n",
       "    .dataframe tbody tr th {\n",
       "        vertical-align: top;\n",
       "    }\n",
       "\n",
       "    .dataframe thead th {\n",
       "        text-align: right;\n",
       "    }\n",
       "</style>\n",
       "<table border=\"1\" class=\"dataframe\">\n",
       "  <thead>\n",
       "    <tr style=\"text-align: right;\">\n",
       "      <th></th>\n",
       "      <th>id</th>\n",
       "      <th>title</th>\n",
       "      <th>author</th>\n",
       "      <th>authoryearofbirth</th>\n",
       "      <th>authoryearofdeath</th>\n",
       "      <th>language</th>\n",
       "      <th>downloads</th>\n",
       "      <th>subjects</th>\n",
       "      <th>type</th>\n",
       "    </tr>\n",
       "  </thead>\n",
       "  <tbody>\n",
       "    <tr>\n",
       "      <th>1966</th>\n",
       "      <td>PG11775</td>\n",
       "      <td>Human Genome Project, Build 34, Chromosome Num...</td>\n",
       "      <td>Human Genome Project</td>\n",
       "      <td>NaN</td>\n",
       "      <td>NaN</td>\n",
       "      <td>['en']</td>\n",
       "      <td>37</td>\n",
       "      <td>{'Nucleotide sequence'}</td>\n",
       "      <td>Dataset</td>\n",
       "    </tr>\n",
       "    <tr>\n",
       "      <th>1967</th>\n",
       "      <td>PG11776</td>\n",
       "      <td>Human Genome Project, Build 34, Chromosome Num...</td>\n",
       "      <td>Human Genome Project</td>\n",
       "      <td>NaN</td>\n",
       "      <td>NaN</td>\n",
       "      <td>['en']</td>\n",
       "      <td>6</td>\n",
       "      <td>{'Nucleotide sequence'}</td>\n",
       "      <td>Dataset</td>\n",
       "    </tr>\n",
       "    <tr>\n",
       "      <th>1968</th>\n",
       "      <td>PG11777</td>\n",
       "      <td>Human Genome Project, Build 34, Chromosome Num...</td>\n",
       "      <td>Human Genome Project</td>\n",
       "      <td>NaN</td>\n",
       "      <td>NaN</td>\n",
       "      <td>['en']</td>\n",
       "      <td>2</td>\n",
       "      <td>{'Nucleotide sequence'}</td>\n",
       "      <td>Dataset</td>\n",
       "    </tr>\n",
       "    <tr>\n",
       "      <th>1969</th>\n",
       "      <td>PG11778</td>\n",
       "      <td>Human Genome Project, Build 34, Chromosome Num...</td>\n",
       "      <td>Human Genome Project</td>\n",
       "      <td>NaN</td>\n",
       "      <td>NaN</td>\n",
       "      <td>['en']</td>\n",
       "      <td>3</td>\n",
       "      <td>{'Nucleotide sequence'}</td>\n",
       "      <td>Dataset</td>\n",
       "    </tr>\n",
       "    <tr>\n",
       "      <th>1970</th>\n",
       "      <td>PG11779</td>\n",
       "      <td>Human Genome Project, Build 34, Chromosome Num...</td>\n",
       "      <td>Human Genome Project</td>\n",
       "      <td>NaN</td>\n",
       "      <td>NaN</td>\n",
       "      <td>['en']</td>\n",
       "      <td>1</td>\n",
       "      <td>{'Nucleotide sequence'}</td>\n",
       "      <td>Dataset</td>\n",
       "    </tr>\n",
       "  </tbody>\n",
       "</table>\n",
       "</div>"
      ],
      "text/plain": [
       "           id                                              title  \\\n",
       "1966  PG11775  Human Genome Project, Build 34, Chromosome Num...   \n",
       "1967  PG11776  Human Genome Project, Build 34, Chromosome Num...   \n",
       "1968  PG11777  Human Genome Project, Build 34, Chromosome Num...   \n",
       "1969  PG11778  Human Genome Project, Build 34, Chromosome Num...   \n",
       "1970  PG11779  Human Genome Project, Build 34, Chromosome Num...   \n",
       "\n",
       "                    author  authoryearofbirth  authoryearofdeath language  \\\n",
       "1966  Human Genome Project                NaN                NaN   ['en']   \n",
       "1967  Human Genome Project                NaN                NaN   ['en']   \n",
       "1968  Human Genome Project                NaN                NaN   ['en']   \n",
       "1969  Human Genome Project                NaN                NaN   ['en']   \n",
       "1970  Human Genome Project                NaN                NaN   ['en']   \n",
       "\n",
       "      downloads                 subjects     type  \n",
       "1966         37  {'Nucleotide sequence'}  Dataset  \n",
       "1967          6  {'Nucleotide sequence'}  Dataset  \n",
       "1968          2  {'Nucleotide sequence'}  Dataset  \n",
       "1969          3  {'Nucleotide sequence'}  Dataset  \n",
       "1970          1  {'Nucleotide sequence'}  Dataset  "
      ]
     },
     "metadata": {},
     "output_type": "display_data"
    },
    {
     "data": {
      "text/html": [
       "<div>\n",
       "<style scoped>\n",
       "    .dataframe tbody tr th:only-of-type {\n",
       "        vertical-align: middle;\n",
       "    }\n",
       "\n",
       "    .dataframe tbody tr th {\n",
       "        vertical-align: top;\n",
       "    }\n",
       "\n",
       "    .dataframe thead th {\n",
       "        text-align: right;\n",
       "    }\n",
       "</style>\n",
       "<table border=\"1\" class=\"dataframe\">\n",
       "  <thead>\n",
       "    <tr style=\"text-align: right;\">\n",
       "      <th></th>\n",
       "      <th>id</th>\n",
       "      <th>title</th>\n",
       "      <th>author</th>\n",
       "      <th>authoryearofbirth</th>\n",
       "      <th>authoryearofdeath</th>\n",
       "      <th>language</th>\n",
       "      <th>downloads</th>\n",
       "      <th>subjects</th>\n",
       "      <th>type</th>\n",
       "    </tr>\n",
       "  </thead>\n",
       "  <tbody>\n",
       "    <tr>\n",
       "      <th>3416</th>\n",
       "      <td>PG13082</td>\n",
       "      <td>Images of Comet Wild 2, Taken by NASA's Stardu...</td>\n",
       "      <td>United States. National Aeronautics and Space ...</td>\n",
       "      <td>NaN</td>\n",
       "      <td>NaN</td>\n",
       "      <td>['en']</td>\n",
       "      <td>38</td>\n",
       "      <td>{'Comets'}</td>\n",
       "      <td>MovingImage</td>\n",
       "    </tr>\n",
       "    <tr>\n",
       "      <th>17404</th>\n",
       "      <td>PG256</td>\n",
       "      <td>Motion Picture of Rotating Earth</td>\n",
       "      <td>United States</td>\n",
       "      <td>NaN</td>\n",
       "      <td>NaN</td>\n",
       "      <td>['en']</td>\n",
       "      <td>41</td>\n",
       "      <td>{'World maps'}</td>\n",
       "      <td>MovingImage</td>\n",
       "    </tr>\n",
       "    <tr>\n",
       "      <th>46756</th>\n",
       "      <td>PG5212</td>\n",
       "      <td>Film: Trinity Shot (first US Atomic Test)</td>\n",
       "      <td>NaN</td>\n",
       "      <td>NaN</td>\n",
       "      <td>NaN</td>\n",
       "      <td>['en']</td>\n",
       "      <td>26</td>\n",
       "      <td>{'Nuclear weapons -- Testing', 'Manhattan Proj...</td>\n",
       "      <td>MovingImage</td>\n",
       "    </tr>\n",
       "    <tr>\n",
       "      <th>46767</th>\n",
       "      <td>PG5213</td>\n",
       "      <td>Film: the Bikini Island ABLE Atomic Test</td>\n",
       "      <td>NaN</td>\n",
       "      <td>NaN</td>\n",
       "      <td>NaN</td>\n",
       "      <td>['en']</td>\n",
       "      <td>17</td>\n",
       "      <td>{'Nuclear weapons -- Marshall Islands -- Bikin...</td>\n",
       "      <td>MovingImage</td>\n",
       "    </tr>\n",
       "    <tr>\n",
       "      <th>46778</th>\n",
       "      <td>PG5214</td>\n",
       "      <td>Film: the Bikini Island BAKER Atomic Test</td>\n",
       "      <td>NaN</td>\n",
       "      <td>NaN</td>\n",
       "      <td>NaN</td>\n",
       "      <td>['en']</td>\n",
       "      <td>15</td>\n",
       "      <td>{'Nuclear weapons -- Marshall Islands -- Bikin...</td>\n",
       "      <td>MovingImage</td>\n",
       "    </tr>\n",
       "  </tbody>\n",
       "</table>\n",
       "</div>"
      ],
      "text/plain": [
       "            id                                              title  \\\n",
       "3416   PG13082  Images of Comet Wild 2, Taken by NASA's Stardu...   \n",
       "17404    PG256                   Motion Picture of Rotating Earth   \n",
       "46756   PG5212          Film: Trinity Shot (first US Atomic Test)   \n",
       "46767   PG5213           Film: the Bikini Island ABLE Atomic Test   \n",
       "46778   PG5214          Film: the Bikini Island BAKER Atomic Test   \n",
       "\n",
       "                                                  author  authoryearofbirth  \\\n",
       "3416   United States. National Aeronautics and Space ...                NaN   \n",
       "17404                                      United States                NaN   \n",
       "46756                                                NaN                NaN   \n",
       "46767                                                NaN                NaN   \n",
       "46778                                                NaN                NaN   \n",
       "\n",
       "       authoryearofdeath language  downloads  \\\n",
       "3416                 NaN   ['en']         38   \n",
       "17404                NaN   ['en']         41   \n",
       "46756                NaN   ['en']         26   \n",
       "46767                NaN   ['en']         17   \n",
       "46778                NaN   ['en']         15   \n",
       "\n",
       "                                                subjects         type  \n",
       "3416                                          {'Comets'}  MovingImage  \n",
       "17404                                     {'World maps'}  MovingImage  \n",
       "46756  {'Nuclear weapons -- Testing', 'Manhattan Proj...  MovingImage  \n",
       "46767  {'Nuclear weapons -- Marshall Islands -- Bikin...  MovingImage  \n",
       "46778  {'Nuclear weapons -- Marshall Islands -- Bikin...  MovingImage  "
      ]
     },
     "metadata": {},
     "output_type": "display_data"
    },
    {
     "data": {
      "text/html": [
       "<div>\n",
       "<style scoped>\n",
       "    .dataframe tbody tr th:only-of-type {\n",
       "        vertical-align: middle;\n",
       "    }\n",
       "\n",
       "    .dataframe tbody tr th {\n",
       "        vertical-align: top;\n",
       "    }\n",
       "\n",
       "    .dataframe thead th {\n",
       "        text-align: right;\n",
       "    }\n",
       "</style>\n",
       "<table border=\"1\" class=\"dataframe\">\n",
       "  <thead>\n",
       "    <tr style=\"text-align: right;\">\n",
       "      <th></th>\n",
       "      <th>id</th>\n",
       "      <th>title</th>\n",
       "      <th>author</th>\n",
       "      <th>authoryearofbirth</th>\n",
       "      <th>authoryearofdeath</th>\n",
       "      <th>language</th>\n",
       "      <th>downloads</th>\n",
       "      <th>subjects</th>\n",
       "      <th>type</th>\n",
       "    </tr>\n",
       "  </thead>\n",
       "  <tbody>\n",
       "    <tr>\n",
       "      <th>10150</th>\n",
       "      <td>PG19159</td>\n",
       "      <td>Project Gutenberg DVD: The July 2006 Special</td>\n",
       "      <td>NaN</td>\n",
       "      <td>NaN</td>\n",
       "      <td>NaN</td>\n",
       "      <td>['en']</td>\n",
       "      <td>73</td>\n",
       "      <td>set()</td>\n",
       "      <td>Collection</td>\n",
       "    </tr>\n",
       "  </tbody>\n",
       "</table>\n",
       "</div>"
      ],
      "text/plain": [
       "            id                                         title author  \\\n",
       "10150  PG19159  Project Gutenberg DVD: The July 2006 Special    NaN   \n",
       "\n",
       "       authoryearofbirth  authoryearofdeath language  downloads subjects  \\\n",
       "10150                NaN                NaN   ['en']         73    set()   \n",
       "\n",
       "             type  \n",
       "10150  Collection  "
      ]
     },
     "metadata": {},
     "output_type": "display_data"
    },
    {
     "data": {
      "text/html": [
       "<div>\n",
       "<style scoped>\n",
       "    .dataframe tbody tr th:only-of-type {\n",
       "        vertical-align: middle;\n",
       "    }\n",
       "\n",
       "    .dataframe tbody tr th {\n",
       "        vertical-align: top;\n",
       "    }\n",
       "\n",
       "    .dataframe thead th {\n",
       "        text-align: right;\n",
       "    }\n",
       "</style>\n",
       "<table border=\"1\" class=\"dataframe\">\n",
       "  <thead>\n",
       "    <tr style=\"text-align: right;\">\n",
       "      <th></th>\n",
       "      <th>id</th>\n",
       "      <th>title</th>\n",
       "      <th>author</th>\n",
       "      <th>authoryearofbirth</th>\n",
       "      <th>authoryearofdeath</th>\n",
       "      <th>language</th>\n",
       "      <th>downloads</th>\n",
       "      <th>subjects</th>\n",
       "      <th>type</th>\n",
       "    </tr>\n",
       "  </thead>\n",
       "  <tbody>\n",
       "    <tr>\n",
       "      <th>69464</th>\n",
       "      <td>PG90907</td>\n",
       "      <td>NaN</td>\n",
       "      <td>NaN</td>\n",
       "      <td>NaN</td>\n",
       "      <td>NaN</td>\n",
       "      <td>['en']</td>\n",
       "      <td>1</td>\n",
       "      <td>set()</td>\n",
       "      <td>Text</td>\n",
       "    </tr>\n",
       "  </tbody>\n",
       "</table>\n",
       "</div>"
      ],
      "text/plain": [
       "            id title author  authoryearofbirth  authoryearofdeath language  \\\n",
       "69464  PG90907   NaN    NaN                NaN                NaN   ['en']   \n",
       "\n",
       "       downloads subjects  type  \n",
       "69464          1    set()  Text  "
      ]
     },
     "metadata": {},
     "output_type": "display_data"
    }
   ],
   "source": [
    "# get a list of the file types (note: it's the same as in the full library)\n",
    "file_types = missing_library['type'].unique()\n",
    "\n",
    "# loop over the list and display dataframes belonging to those 8 different types\n",
    "for file_type in file_types:\n",
    "    filtered_library = missing_library.loc[missing_library['type'].isna() if file_type is np.nan\n",
    "                                           else missing_library['type'] == file_type]\n",
    "    display(filtered_library.head())\n"
   ]
  },
  {
   "cell_type": "code",
   "execution_count": 5,
   "metadata": {},
   "outputs": [],
   "source": [
    "# to find specific authors\n",
    "# library.loc[library['author'].str.find('Lovecraft') > -1]"
   ]
  },
  {
   "attachments": {},
   "cell_type": "markdown",
   "metadata": {},
   "source": [
    "## Selecting (usable) English books\n",
    "\n",
    "Filtering down to just books (removing other file types) and then specifically focussing on English books only."
   ]
  },
  {
   "attachments": {},
   "cell_type": "markdown",
   "metadata": {},
   "source": [
    "This part is done in three steps, starting from the metadata \"library\":\n",
    "1. Select books, i.e., \"type\" being NaN (see exploration above)\n",
    "2. Select just only works makred as \"English\"\n",
    "3. Select works that have actually been downloaded"
   ]
  },
  {
   "cell_type": "code",
   "execution_count": 6,
   "metadata": {},
   "outputs": [
    {
     "name": "stdout",
     "output_type": "stream",
     "text": [
      "Full Collection: 70449\n",
      "Books Only: 69197\n",
      "English Books: 55767\n",
      "Downloaded English Books: 53776\n"
     ]
    }
   ],
   "source": [
    "print('Full Collection:', len(library))\n",
    "\n",
    "library_en = library.loc[library['type'].isna()]\n",
    "\n",
    "print('Books Only:', len(library_en))\n",
    "\n",
    "library_en = library_en.loc[library_en['language'].str.find('en') > -1]\n",
    "\n",
    "print('English Books:', len(library_en))\n",
    "\n",
    "library_en = library_en.loc[library_en['id'].isin(books_list)]\n",
    "\n",
    "print('Downloaded English Books:', len(library_en))"
   ]
  },
  {
   "attachments": {},
   "cell_type": "markdown",
   "metadata": {},
   "source": [
    "Furthermore, it may be worth considering that the vast majority of books haas less than 100 downloads in the last 30 days."
   ]
  },
  {
   "cell_type": "code",
   "execution_count": 7,
   "metadata": {},
   "outputs": [
    {
     "name": "stdout",
     "output_type": "stream",
     "text": [
      "6345\n",
      "46562\n",
      "53138\n"
     ]
    }
   ],
   "source": [
    "print(library_en[library_en['downloads'] <= 10].shape[0])\n",
    "print(library_en[library_en['downloads'] <= 100].shape[0])\n",
    "print(library_en[library_en['downloads'] <= 1000].shape[0])"
   ]
  },
  {
   "attachments": {},
   "cell_type": "markdown",
   "metadata": {},
   "source": [
    "## Selecting Book Authors\n",
    "\n",
    "Choosing authors to use for further analysis. Given memory (and time) constraints, I will need to limit this analysis to a few select authors. "
   ]
  },
  {
   "attachments": {},
   "cell_type": "markdown",
   "metadata": {},
   "source": [
    "Grouping by author, I noticed that there's 117 titles by \"unknown\" author, 601 \"anonymous\" and 3422 \"various\". Upon further inspection of Various, they are majority \"periodicals\", meaning various magazines and so I decided it was safe to remove that.\n",
    "`library_en[library_en['author'] == 'Various']['subjects'].value_counts().head(20)`\n",
    "\n",
    "As for unknown and anonymous, those might be interesting to check once I have a model, but as is, since I'm looking for writing style, I do want to know who the author is.The umbrella of anonymous might have too many different authors within (lol at Happy and Gay Marching Away - children's poetry by Unknown author)."
   ]
  },
  {
   "cell_type": "code",
   "execution_count": 8,
   "metadata": {},
   "outputs": [
    {
     "data": {
      "text/html": [
       "<div>\n",
       "<style scoped>\n",
       "    .dataframe tbody tr th:only-of-type {\n",
       "        vertical-align: middle;\n",
       "    }\n",
       "\n",
       "    .dataframe tbody tr th {\n",
       "        vertical-align: top;\n",
       "    }\n",
       "\n",
       "    .dataframe thead th {\n",
       "        text-align: right;\n",
       "    }\n",
       "</style>\n",
       "<table border=\"1\" class=\"dataframe\">\n",
       "  <thead>\n",
       "    <tr style=\"text-align: right;\">\n",
       "      <th></th>\n",
       "      <th>title</th>\n",
       "    </tr>\n",
       "    <tr>\n",
       "      <th>author</th>\n",
       "      <th></th>\n",
       "    </tr>\n",
       "  </thead>\n",
       "  <tbody>\n",
       "    <tr>\n",
       "      <th>Various</th>\n",
       "      <td>3422</td>\n",
       "    </tr>\n",
       "    <tr>\n",
       "      <th>Anonymous</th>\n",
       "      <td>601</td>\n",
       "    </tr>\n",
       "    <tr>\n",
       "      <th>Shakespeare, William</th>\n",
       "      <td>178</td>\n",
       "    </tr>\n",
       "    <tr>\n",
       "      <th>Ebers, Georg</th>\n",
       "      <td>163</td>\n",
       "    </tr>\n",
       "    <tr>\n",
       "      <th>Parker, Gilbert</th>\n",
       "      <td>132</td>\n",
       "    </tr>\n",
       "    <tr>\n",
       "      <th>Oliphant, Mrs. (Margaret)</th>\n",
       "      <td>132</td>\n",
       "    </tr>\n",
       "    <tr>\n",
       "      <th>Kingston, William Henry Giles</th>\n",
       "      <td>132</td>\n",
       "    </tr>\n",
       "    <tr>\n",
       "      <th>Twain, Mark</th>\n",
       "      <td>128</td>\n",
       "    </tr>\n",
       "    <tr>\n",
       "      <th>Fenn, George Manville</th>\n",
       "      <td>128</td>\n",
       "    </tr>\n",
       "    <tr>\n",
       "      <th>Unknown</th>\n",
       "      <td>117</td>\n",
       "    </tr>\n",
       "  </tbody>\n",
       "</table>\n",
       "</div>"
      ],
      "text/plain": [
       "                               title\n",
       "author                              \n",
       "Various                         3422\n",
       "Anonymous                        601\n",
       "Shakespeare, William             178\n",
       "Ebers, Georg                     163\n",
       "Parker, Gilbert                  132\n",
       "Oliphant, Mrs. (Margaret)        132\n",
       "Kingston, William Henry Giles    132\n",
       "Twain, Mark                      128\n",
       "Fenn, George Manville            128\n",
       "Unknown                          117"
      ]
     },
     "execution_count": 8,
     "metadata": {},
     "output_type": "execute_result"
    }
   ],
   "source": [
    "library_en.groupby('author')[['title']].count().sort_values(by='title', ascending=False).head(10)"
   ]
  },
  {
   "cell_type": "code",
   "execution_count": 9,
   "metadata": {},
   "outputs": [
    {
     "name": "stdout",
     "output_type": "stream",
     "text": [
      "Downloaded English Books by known authors: 49636\n"
     ]
    }
   ],
   "source": [
    "library_en = library_en[~library_en['author'].isin(['Anonymous', 'Unknown', 'Various'])]\n",
    "\n",
    "print('Downloaded English Books by known authors:', len(library_en))"
   ]
  },
  {
   "attachments": {},
   "cell_type": "markdown",
   "metadata": {},
   "source": [
    "Ideas for selecting authors:\n",
    "- first I started with top 6 based on the total # of books written to make sure my logic works\n",
    "    - used `library_en.groupby('author')['title'].count().sort_values(ascending=False).head(6).index.to_list()`\n",
    "\n",
    "Other possible options included:\n",
    "- most downloads over last 30 days\n",
    "- at least 1000 downloads over last 30 days\n",
    "- select based on the century\n",
    "- personal preference\n",
    "\n",
    "I went back and forth on this a lot and rewrote a bunch of code, including various selects and eliminations. Current approach is to get authors by century, make sure they have at least 5 books written and limit to 70 most popular if they have more (to reduce class imbalance), as well as make sure I know of the author."
   ]
  },
  {
   "cell_type": "code",
   "execution_count": 10,
   "metadata": {},
   "outputs": [],
   "source": [
    "# function to calculate century of living, taking int account both birth and death years where possible\n",
    "def calc_century(birth, death):\n",
    "\n",
    "    if np.isnan(birth) & np.isnan(death):\n",
    "        x = np.NaN\n",
    "        return x\n",
    "\n",
    "    elif np.isnan(birth):\n",
    "        x = death\n",
    "    elif np.isnan(death):\n",
    "        x = birth\n",
    "    else:\n",
    "        x = (birth + (death/2 - birth/2))\n",
    "\n",
    "    # adjust for how centuries are calculated; the first +1 adjusts for the shift of one year, because year 0 is skipped\n",
    "    # and then the // 100 + 1 adjusts for the correct century, e.g. 19th is 1901 - 2000\n",
    "    if x >= 0:\n",
    "        x = (x - 1) // 100 + 1\n",
    "\n",
    "    # the same logic from above is not needed for years before 0\n",
    "    else:\n",
    "        x = x // 100 \n",
    "\n",
    "    return int(x)"
   ]
  },
  {
   "cell_type": "code",
   "execution_count": 11,
   "metadata": {},
   "outputs": [],
   "source": [
    "# function to convert the numeric int representation of century to ordinal, plus appending BCE or CE\n",
    "def annotate_century(num_century):\n",
    "\n",
    "    if np.isnan(num_century):\n",
    "        return 'unknown'\n",
    "    elif int(num_century) < 0 :\n",
    "        ctry = ' century BCE'\n",
    "        num_century = abs(int(num_century))\n",
    "    else:\n",
    "        num_century = int(num_century)\n",
    "        ctry = ' century CE'\n",
    "\n",
    "\n",
    "    # determine ordinal numbering\n",
    "    if (num_century % 10 == 1) and (num_century % 100 != 11):\n",
    "        ordinal_century = str(num_century) + 'st'\n",
    "\n",
    "    elif (num_century % 10 == 2) and (num_century % 100 != 12):\n",
    "        ordinal_century = str(num_century) + 'nd'\n",
    "\n",
    "    elif (num_century % 10 == 3) and (num_century % 100 != 13):\n",
    "        ordinal_century = str(num_century) + 'rd'\n",
    "        \n",
    "    else:\n",
    "        ordinal_century = str(num_century) + 'th'\n",
    "\n",
    "    return ordinal_century + ctry"
   ]
  },
  {
   "cell_type": "code",
   "execution_count": 12,
   "metadata": {},
   "outputs": [],
   "source": [
    "library_en['authorcentury'] = library_en.apply(lambda x: calc_century(x.authoryearofbirth, x.authoryearofdeath), axis=1)"
   ]
  },
  {
   "attachments": {},
   "cell_type": "markdown",
   "metadata": {},
   "source": [
    "Here's a breakdown of number authors per century. Most of them are of course concentrated in the 19th or 20th century, plus the unknown. History is written by the victors."
   ]
  },
  {
   "cell_type": "code",
   "execution_count": 13,
   "metadata": {},
   "outputs": [
    {
     "data": {
      "text/html": [
       "<div>\n",
       "<style scoped>\n",
       "    .dataframe tbody tr th:only-of-type {\n",
       "        vertical-align: middle;\n",
       "    }\n",
       "\n",
       "    .dataframe tbody tr th {\n",
       "        vertical-align: top;\n",
       "    }\n",
       "\n",
       "    .dataframe thead th {\n",
       "        text-align: right;\n",
       "    }\n",
       "</style>\n",
       "<table border=\"1\" class=\"dataframe\">\n",
       "  <thead>\n",
       "    <tr style=\"text-align: right;\">\n",
       "      <th></th>\n",
       "      <th>authorcentury</th>\n",
       "      <th>author</th>\n",
       "    </tr>\n",
       "  </thead>\n",
       "  <tbody>\n",
       "    <tr>\n",
       "      <th>0</th>\n",
       "      <td>7th century BCE</td>\n",
       "      <td>1</td>\n",
       "    </tr>\n",
       "    <tr>\n",
       "      <th>1</th>\n",
       "      <td>6th century BCE</td>\n",
       "      <td>1</td>\n",
       "    </tr>\n",
       "    <tr>\n",
       "      <th>2</th>\n",
       "      <td>5th century BCE</td>\n",
       "      <td>8</td>\n",
       "    </tr>\n",
       "    <tr>\n",
       "      <th>3</th>\n",
       "      <td>4th century BCE</td>\n",
       "      <td>6</td>\n",
       "    </tr>\n",
       "    <tr>\n",
       "      <th>4</th>\n",
       "      <td>3rd century BCE</td>\n",
       "      <td>2</td>\n",
       "    </tr>\n",
       "    <tr>\n",
       "      <th>5</th>\n",
       "      <td>2nd century BCE</td>\n",
       "      <td>1</td>\n",
       "    </tr>\n",
       "    <tr>\n",
       "      <th>6</th>\n",
       "      <td>1st century BCE</td>\n",
       "      <td>9</td>\n",
       "    </tr>\n",
       "    <tr>\n",
       "      <th>7</th>\n",
       "      <td>1st century CE</td>\n",
       "      <td>9</td>\n",
       "    </tr>\n",
       "    <tr>\n",
       "      <th>8</th>\n",
       "      <td>2nd century CE</td>\n",
       "      <td>2</td>\n",
       "    </tr>\n",
       "    <tr>\n",
       "      <th>9</th>\n",
       "      <td>3rd century CE</td>\n",
       "      <td>3</td>\n",
       "    </tr>\n",
       "    <tr>\n",
       "      <th>10</th>\n",
       "      <td>4th century CE</td>\n",
       "      <td>5</td>\n",
       "    </tr>\n",
       "    <tr>\n",
       "      <th>11</th>\n",
       "      <td>5th century CE</td>\n",
       "      <td>1</td>\n",
       "    </tr>\n",
       "    <tr>\n",
       "      <th>12</th>\n",
       "      <td>6th century CE</td>\n",
       "      <td>2</td>\n",
       "    </tr>\n",
       "    <tr>\n",
       "      <th>13</th>\n",
       "      <td>7th century CE</td>\n",
       "      <td>2</td>\n",
       "    </tr>\n",
       "    <tr>\n",
       "      <th>14</th>\n",
       "      <td>8th century CE</td>\n",
       "      <td>3</td>\n",
       "    </tr>\n",
       "    <tr>\n",
       "      <th>15</th>\n",
       "      <td>9th century CE</td>\n",
       "      <td>1</td>\n",
       "    </tr>\n",
       "    <tr>\n",
       "      <th>16</th>\n",
       "      <td>10th century CE</td>\n",
       "      <td>2</td>\n",
       "    </tr>\n",
       "    <tr>\n",
       "      <th>17</th>\n",
       "      <td>11th century CE</td>\n",
       "      <td>6</td>\n",
       "    </tr>\n",
       "    <tr>\n",
       "      <th>18</th>\n",
       "      <td>12th century CE</td>\n",
       "      <td>6</td>\n",
       "    </tr>\n",
       "    <tr>\n",
       "      <th>19</th>\n",
       "      <td>13th century CE</td>\n",
       "      <td>10</td>\n",
       "    </tr>\n",
       "    <tr>\n",
       "      <th>20</th>\n",
       "      <td>14th century CE</td>\n",
       "      <td>14</td>\n",
       "    </tr>\n",
       "    <tr>\n",
       "      <th>21</th>\n",
       "      <td>15th century CE</td>\n",
       "      <td>18</td>\n",
       "    </tr>\n",
       "    <tr>\n",
       "      <th>22</th>\n",
       "      <td>16th century CE</td>\n",
       "      <td>106</td>\n",
       "    </tr>\n",
       "    <tr>\n",
       "      <th>23</th>\n",
       "      <td>17th century CE</td>\n",
       "      <td>237</td>\n",
       "    </tr>\n",
       "    <tr>\n",
       "      <th>24</th>\n",
       "      <td>18th century CE</td>\n",
       "      <td>585</td>\n",
       "    </tr>\n",
       "    <tr>\n",
       "      <th>25</th>\n",
       "      <td>19th century CE</td>\n",
       "      <td>8370</td>\n",
       "    </tr>\n",
       "    <tr>\n",
       "      <th>26</th>\n",
       "      <td>20th century CE</td>\n",
       "      <td>4306</td>\n",
       "    </tr>\n",
       "    <tr>\n",
       "      <th>27</th>\n",
       "      <td>21st century CE</td>\n",
       "      <td>1</td>\n",
       "    </tr>\n",
       "    <tr>\n",
       "      <th>28</th>\n",
       "      <td>unknown</td>\n",
       "      <td>4595</td>\n",
       "    </tr>\n",
       "  </tbody>\n",
       "</table>\n",
       "</div>"
      ],
      "text/plain": [
       "      authorcentury  author\n",
       "0   7th century BCE       1\n",
       "1   6th century BCE       1\n",
       "2   5th century BCE       8\n",
       "3   4th century BCE       6\n",
       "4   3rd century BCE       2\n",
       "5   2nd century BCE       1\n",
       "6   1st century BCE       9\n",
       "7    1st century CE       9\n",
       "8    2nd century CE       2\n",
       "9    3rd century CE       3\n",
       "10   4th century CE       5\n",
       "11   5th century CE       1\n",
       "12   6th century CE       2\n",
       "13   7th century CE       2\n",
       "14   8th century CE       3\n",
       "15   9th century CE       1\n",
       "16  10th century CE       2\n",
       "17  11th century CE       6\n",
       "18  12th century CE       6\n",
       "19  13th century CE      10\n",
       "20  14th century CE      14\n",
       "21  15th century CE      18\n",
       "22  16th century CE     106\n",
       "23  17th century CE     237\n",
       "24  18th century CE     585\n",
       "25  19th century CE    8370\n",
       "26  20th century CE    4306\n",
       "27  21st century CE       1\n",
       "28          unknown    4595"
      ]
     },
     "metadata": {},
     "output_type": "display_data"
    }
   ],
   "source": [
    "authors_by_century = library_en.groupby('authorcentury', dropna=False)[['author']].nunique().reset_index()\n",
    "\n",
    "authors_by_century['authorcentury'] = authors_by_century['authorcentury'].apply(annotate_century)\n",
    "\n",
    "display(authors_by_century)"
   ]
  },
  {
   "attachments": {},
   "cell_type": "markdown",
   "metadata": {},
   "source": [
    "The next few blocks of code are various explorations into the numbers by authors. Like stated before, I ultimately decided for a personalized approach. Will keep the blocks here for reference:"
   ]
  },
  {
   "cell_type": "code",
   "execution_count": 14,
   "metadata": {},
   "outputs": [
    {
     "data": {
      "text/html": [
       "<div>\n",
       "<style scoped>\n",
       "    .dataframe tbody tr th:only-of-type {\n",
       "        vertical-align: middle;\n",
       "    }\n",
       "\n",
       "    .dataframe tbody tr th {\n",
       "        vertical-align: top;\n",
       "    }\n",
       "\n",
       "    .dataframe thead th {\n",
       "        text-align: right;\n",
       "    }\n",
       "</style>\n",
       "<table border=\"1\" class=\"dataframe\">\n",
       "  <thead>\n",
       "    <tr style=\"text-align: right;\">\n",
       "      <th></th>\n",
       "      <th>title</th>\n",
       "      <th>authorcentury</th>\n",
       "    </tr>\n",
       "    <tr>\n",
       "      <th>author</th>\n",
       "      <th></th>\n",
       "      <th></th>\n",
       "    </tr>\n",
       "  </thead>\n",
       "  <tbody>\n",
       "    <tr>\n",
       "      <th>Dickens, Charles</th>\n",
       "      <td>12</td>\n",
       "      <td>19.0</td>\n",
       "    </tr>\n",
       "    <tr>\n",
       "      <th>Shakespeare, William</th>\n",
       "      <td>12</td>\n",
       "      <td>16.0</td>\n",
       "    </tr>\n",
       "    <tr>\n",
       "      <th>Doyle, Arthur Conan</th>\n",
       "      <td>10</td>\n",
       "      <td>19.0</td>\n",
       "    </tr>\n",
       "    <tr>\n",
       "      <th>Nietzsche, Friedrich Wilhelm</th>\n",
       "      <td>9</td>\n",
       "      <td>19.0</td>\n",
       "    </tr>\n",
       "    <tr>\n",
       "      <th>Twain, Mark</th>\n",
       "      <td>9</td>\n",
       "      <td>19.0</td>\n",
       "    </tr>\n",
       "    <tr>\n",
       "      <th>Plato</th>\n",
       "      <td>8</td>\n",
       "      <td>-4.0</td>\n",
       "    </tr>\n",
       "    <tr>\n",
       "      <th>Christie, Agatha</th>\n",
       "      <td>8</td>\n",
       "      <td>20.0</td>\n",
       "    </tr>\n",
       "    <tr>\n",
       "      <th>Austen, Jane</th>\n",
       "      <td>8</td>\n",
       "      <td>18.0</td>\n",
       "    </tr>\n",
       "    <tr>\n",
       "      <th>Wilde, Oscar</th>\n",
       "      <td>7</td>\n",
       "      <td>19.0</td>\n",
       "    </tr>\n",
       "    <tr>\n",
       "      <th>Dostoyevsky, Fyodor</th>\n",
       "      <td>6</td>\n",
       "      <td>19.0</td>\n",
       "    </tr>\n",
       "    <tr>\n",
       "      <th>Chesterton, G. K. (Gilbert Keith)</th>\n",
       "      <td>6</td>\n",
       "      <td>20.0</td>\n",
       "    </tr>\n",
       "    <tr>\n",
       "      <th>Chekhov, Anton Pavlovich</th>\n",
       "      <td>5</td>\n",
       "      <td>19.0</td>\n",
       "    </tr>\n",
       "    <tr>\n",
       "      <th>Wells, H. G. (Herbert George)</th>\n",
       "      <td>5</td>\n",
       "      <td>20.0</td>\n",
       "    </tr>\n",
       "    <tr>\n",
       "      <th>Tolstoy, Leo, graf</th>\n",
       "      <td>5</td>\n",
       "      <td>19.0</td>\n",
       "    </tr>\n",
       "    <tr>\n",
       "      <th>Leinster, Murray</th>\n",
       "      <td>5</td>\n",
       "      <td>20.0</td>\n",
       "    </tr>\n",
       "    <tr>\n",
       "      <th>Homer</th>\n",
       "      <td>5</td>\n",
       "      <td>-7.0</td>\n",
       "    </tr>\n",
       "    <tr>\n",
       "      <th>Schopenhauer, Arthur</th>\n",
       "      <td>4</td>\n",
       "      <td>19.0</td>\n",
       "    </tr>\n",
       "    <tr>\n",
       "      <th>James, Henry</th>\n",
       "      <td>4</td>\n",
       "      <td>19.0</td>\n",
       "    </tr>\n",
       "    <tr>\n",
       "      <th>Poe, Edgar Allan</th>\n",
       "      <td>4</td>\n",
       "      <td>19.0</td>\n",
       "    </tr>\n",
       "    <tr>\n",
       "      <th>Kant, Immanuel</th>\n",
       "      <td>4</td>\n",
       "      <td>18.0</td>\n",
       "    </tr>\n",
       "  </tbody>\n",
       "</table>\n",
       "</div>"
      ],
      "text/plain": [
       "                                   title  authorcentury\n",
       "author                                                 \n",
       "Dickens, Charles                      12           19.0\n",
       "Shakespeare, William                  12           16.0\n",
       "Doyle, Arthur Conan                   10           19.0\n",
       "Nietzsche, Friedrich Wilhelm           9           19.0\n",
       "Twain, Mark                            9           19.0\n",
       "Plato                                  8           -4.0\n",
       "Christie, Agatha                       8           20.0\n",
       "Austen, Jane                           8           18.0\n",
       "Wilde, Oscar                           7           19.0\n",
       "Dostoyevsky, Fyodor                    6           19.0\n",
       "Chesterton, G. K. (Gilbert Keith)      6           20.0\n",
       "Chekhov, Anton Pavlovich               5           19.0\n",
       "Wells, H. G. (Herbert George)          5           20.0\n",
       "Tolstoy, Leo, graf                     5           19.0\n",
       "Leinster, Murray                       5           20.0\n",
       "Homer                                  5           -7.0\n",
       "Schopenhauer, Arthur                   4           19.0\n",
       "James, Henry                           4           19.0\n",
       "Poe, Edgar Allan                       4           19.0\n",
       "Kant, Immanuel                         4           18.0"
      ]
     },
     "execution_count": 14,
     "metadata": {},
     "output_type": "execute_result"
    }
   ],
   "source": [
    "# authors with more than 1000 downloads over last 30 days\n",
    "(\n",
    "library_en.loc[library_en['downloads'] > 1000]\n",
    "    .groupby('author')[['title','authorcentury']]\n",
    "    .agg({'title':'count', 'authorcentury':'max'})\n",
    "    .sort_values(by='title', ascending=False)\n",
    "    .head(20)\n",
    ")"
   ]
  },
  {
   "cell_type": "code",
   "execution_count": 15,
   "metadata": {},
   "outputs": [
    {
     "data": {
      "text/html": [
       "<div>\n",
       "<style scoped>\n",
       "    .dataframe tbody tr th:only-of-type {\n",
       "        vertical-align: middle;\n",
       "    }\n",
       "\n",
       "    .dataframe tbody tr th {\n",
       "        vertical-align: top;\n",
       "    }\n",
       "\n",
       "    .dataframe thead th {\n",
       "        text-align: right;\n",
       "    }\n",
       "</style>\n",
       "<table border=\"1\" class=\"dataframe\">\n",
       "  <thead>\n",
       "    <tr style=\"text-align: right;\">\n",
       "      <th></th>\n",
       "      <th>id</th>\n",
       "      <th>title</th>\n",
       "      <th>author</th>\n",
       "      <th>authoryearofbirth</th>\n",
       "      <th>authoryearofdeath</th>\n",
       "      <th>language</th>\n",
       "      <th>downloads</th>\n",
       "      <th>subjects</th>\n",
       "      <th>type</th>\n",
       "      <th>authorcentury</th>\n",
       "    </tr>\n",
       "  </thead>\n",
       "  <tbody>\n",
       "    <tr>\n",
       "      <th>5702</th>\n",
       "      <td>PG1513</td>\n",
       "      <td>Romeo and Juliet</td>\n",
       "      <td>Shakespeare, William</td>\n",
       "      <td>1564.0</td>\n",
       "      <td>1616.0</td>\n",
       "      <td>['en']</td>\n",
       "      <td>166112</td>\n",
       "      <td>{'Juliet (Fictitious character) -- Drama', 'Ro...</td>\n",
       "      <td>NaN</td>\n",
       "      <td>16.0</td>\n",
       "    </tr>\n",
       "    <tr>\n",
       "      <th>18200</th>\n",
       "      <td>PG2641</td>\n",
       "      <td>A Room with a View</td>\n",
       "      <td>Forster, E. M. (Edward Morgan)</td>\n",
       "      <td>1879.0</td>\n",
       "      <td>1970.0</td>\n",
       "      <td>['en']</td>\n",
       "      <td>145035</td>\n",
       "      <td>{'British -- Italy -- Fiction', 'Florence (Ita...</td>\n",
       "      <td>NaN</td>\n",
       "      <td>20.0</td>\n",
       "    </tr>\n",
       "    <tr>\n",
       "      <th>30065</th>\n",
       "      <td>PG37106</td>\n",
       "      <td>Little Women; Or, Meg, Jo, Beth, and Amy</td>\n",
       "      <td>Alcott, Louisa May</td>\n",
       "      <td>1832.0</td>\n",
       "      <td>1888.0</td>\n",
       "      <td>['en']</td>\n",
       "      <td>139345</td>\n",
       "      <td>{'Bildungsromans', 'March family (Fictitious c...</td>\n",
       "      <td>NaN</td>\n",
       "      <td>19.0</td>\n",
       "    </tr>\n",
       "    <tr>\n",
       "      <th>5102</th>\n",
       "      <td>PG145</td>\n",
       "      <td>Middlemarch</td>\n",
       "      <td>Eliot, George</td>\n",
       "      <td>1819.0</td>\n",
       "      <td>1880.0</td>\n",
       "      <td>['en']</td>\n",
       "      <td>138208</td>\n",
       "      <td>{'Bildungsromans', 'Married people -- Fiction'...</td>\n",
       "      <td>NaN</td>\n",
       "      <td>19.0</td>\n",
       "    </tr>\n",
       "    <tr>\n",
       "      <th>18867</th>\n",
       "      <td>PG2701</td>\n",
       "      <td>Moby Dick; Or, The Whale</td>\n",
       "      <td>Melville, Herman</td>\n",
       "      <td>1819.0</td>\n",
       "      <td>1891.0</td>\n",
       "      <td>['en']</td>\n",
       "      <td>135040</td>\n",
       "      <td>{'Whaling -- Fiction', 'Psychological fiction'...</td>\n",
       "      <td>NaN</td>\n",
       "      <td>19.0</td>\n",
       "    </tr>\n",
       "  </tbody>\n",
       "</table>\n",
       "</div>"
      ],
      "text/plain": [
       "            id                                     title  \\\n",
       "5702    PG1513                          Romeo and Juliet   \n",
       "18200   PG2641                        A Room with a View   \n",
       "30065  PG37106  Little Women; Or, Meg, Jo, Beth, and Amy   \n",
       "5102     PG145                               Middlemarch   \n",
       "18867   PG2701                  Moby Dick; Or, The Whale   \n",
       "\n",
       "                               author  authoryearofbirth  authoryearofdeath  \\\n",
       "5702             Shakespeare, William             1564.0             1616.0   \n",
       "18200  Forster, E. M. (Edward Morgan)             1879.0             1970.0   \n",
       "30065              Alcott, Louisa May             1832.0             1888.0   \n",
       "5102                    Eliot, George             1819.0             1880.0   \n",
       "18867                Melville, Herman             1819.0             1891.0   \n",
       "\n",
       "      language  downloads                                           subjects  \\\n",
       "5702    ['en']     166112  {'Juliet (Fictitious character) -- Drama', 'Ro...   \n",
       "18200   ['en']     145035  {'British -- Italy -- Fiction', 'Florence (Ita...   \n",
       "30065   ['en']     139345  {'Bildungsromans', 'March family (Fictitious c...   \n",
       "5102    ['en']     138208  {'Bildungsromans', 'Married people -- Fiction'...   \n",
       "18867   ['en']     135040  {'Whaling -- Fiction', 'Psychological fiction'...   \n",
       "\n",
       "      type  authorcentury  \n",
       "5702   NaN           16.0  \n",
       "18200  NaN           20.0  \n",
       "30065  NaN           19.0  \n",
       "5102   NaN           19.0  \n",
       "18867  NaN           19.0  "
      ]
     },
     "metadata": {},
     "output_type": "display_data"
    },
    {
     "data": {
      "text/html": [
       "<div>\n",
       "<style scoped>\n",
       "    .dataframe tbody tr th:only-of-type {\n",
       "        vertical-align: middle;\n",
       "    }\n",
       "\n",
       "    .dataframe tbody tr th {\n",
       "        vertical-align: top;\n",
       "    }\n",
       "\n",
       "    .dataframe thead th {\n",
       "        text-align: right;\n",
       "    }\n",
       "</style>\n",
       "<table border=\"1\" class=\"dataframe\">\n",
       "  <thead>\n",
       "    <tr style=\"text-align: right;\">\n",
       "      <th></th>\n",
       "      <th>downloads</th>\n",
       "      <th>authorcentury</th>\n",
       "    </tr>\n",
       "    <tr>\n",
       "      <th>author</th>\n",
       "      <th></th>\n",
       "      <th></th>\n",
       "    </tr>\n",
       "  </thead>\n",
       "  <tbody>\n",
       "    <tr>\n",
       "      <th>Smollett, T. (Tobias)</th>\n",
       "      <td>364524</td>\n",
       "      <td>18.0</td>\n",
       "    </tr>\n",
       "    <tr>\n",
       "      <th>Shakespeare, William</th>\n",
       "      <td>333424</td>\n",
       "      <td>16.0</td>\n",
       "    </tr>\n",
       "    <tr>\n",
       "      <th>Alcott, Louisa May</th>\n",
       "      <td>154321</td>\n",
       "      <td>19.0</td>\n",
       "    </tr>\n",
       "    <tr>\n",
       "      <th>Forster, E. M. (Edward Morgan)</th>\n",
       "      <td>150394</td>\n",
       "      <td>20.0</td>\n",
       "    </tr>\n",
       "    <tr>\n",
       "      <th>Eliot, George</th>\n",
       "      <td>145394</td>\n",
       "      <td>19.0</td>\n",
       "    </tr>\n",
       "  </tbody>\n",
       "</table>\n",
       "</div>"
      ],
      "text/plain": [
       "                                downloads  authorcentury\n",
       "author                                                  \n",
       "Smollett, T. (Tobias)              364524           18.0\n",
       "Shakespeare, William               333424           16.0\n",
       "Alcott, Louisa May                 154321           19.0\n",
       "Forster, E. M. (Edward Morgan)     150394           20.0\n",
       "Eliot, George                      145394           19.0"
      ]
     },
     "metadata": {},
     "output_type": "display_data"
    }
   ],
   "source": [
    "# authors based on number of downloads overall\n",
    "display(library_en.sort_values(by='downloads', ascending=False).head())\n",
    "\n",
    "display(library_en.groupby('author')[['downloads','authorcentury']].agg({'downloads':'sum', 'authorcentury':'max'}).sort_values(by='downloads', ascending=False).head())"
   ]
  },
  {
   "cell_type": "code",
   "execution_count": 16,
   "metadata": {},
   "outputs": [],
   "source": [
    "# same as above, but by century if interested in that\n",
    "# cte = 19\n",
    "\n",
    "# display(library_en.loc[library_en['authorcentury'] == cte].groupby('author')[['title']].count().sort_values(by='title',ascending=False).head()) #\n",
    "# display(library_en.loc[library_en['authorcentury'] == cte].groupby('author')[['downloads']].sum().sort_values(by='downloads',ascending=False).head())"
   ]
  },
  {
   "attachments": {},
   "cell_type": "markdown",
   "metadata": {},
   "source": [
    "Finally, my approach to chosing the authors (ended up with 22), was an iterative process. This was my initial setup:\n",
    "```    \n",
    "        library_en\n",
    "        .loc[(library_en['author'].isin(select_authors)) | (library_en['authorcentury'] >= -7.)]\n",
    "        .groupby('author')\n",
    "        .agg({'authorcentury': 'max', 'title':'count', 'downloads': 'max'})\n",
    "        .sort_values(by=['authorcentury', 'title', 'downloads'], ascending=[True, False, False])\n",
    "        .head(30)\n",
    "```\n",
    "The authors list was empty and for the century essentially I picked all (no books are older than 7th BCE). Afterwards it was an iterative process:\n",
    "1. for each century, pick at an author with at least 5 books that I recognize (if possible)\n",
    "2. add the author to the select_authors list, and increase the authorcentury filter by 1\n",
    "3. note: for later centuries I started picking more authors\n",
    "4. make any adjustments to authors names or cut down # of books if too many"
   ]
  },
  {
   "cell_type": "code",
   "execution_count": 17,
   "metadata": {},
   "outputs": [],
   "source": [
    "# changed the name to pull together Plato and Shakespeare\n",
    "library_en = library_en.replace({'author': {'Plato (spurious and doubtful works)': 'Plato'}})\n",
    "library_en = library_en.replace({'author': {'Shakespeare (spurious and doubtful works)': 'Shakespeare, William'}})"
   ]
  },
  {
   "cell_type": "code",
   "execution_count": 18,
   "metadata": {},
   "outputs": [],
   "source": [
    "# I was listing all the authors to remove and that list grew waay too big ... instead will build it with select\n",
    "\n",
    "# possibly Virgil instead of Cicero, Marcus Tullius \n",
    "# possibly change seneca\n",
    "# possibly keep Plotinus, for 2nd century philosophy\n",
    "# Omar Khayyam only possible candidate for 10th ?\n",
    "# giovanni bocaccio may need to be replaced by petrarca francesco\n",
    "select_authors = [\n",
    "    'Homer',\n",
    "    'Confucius',\n",
    "    'Plato',\n",
    "    'Cicero, Marcus Tullius',\n",
    "    'Seneca, Lucius Annaeus',\n",
    "    'Marcus Aurelius, Emperor of Rome',\n",
    "    'Dante Alighieri',\n",
    "    'Boccaccio, Giovanni',\n",
    "    'Machiavelli, Niccolò',\n",
    "    'Shakespeare, William',\n",
    "    'Molière',\n",
    "    'Defoe, Daniel',\n",
    "    'Jefferson, Thomas', # maybe maybe not,\n",
    "    'Austen, Jane',\n",
    "    'Twain, Mark',\n",
    "    'Dickens, Charles',\n",
    "    'Doyle, Arthur Conan',\n",
    "    'Dumas, Alexandre',\n",
    "    'Churchill, Winston',\n",
    "    'Dick, Philip K.',\n",
    "    'Huxley, Aldous',\n",
    "    'Lovecraft, H. P. (Howard Phillips)'\n",
    "]"
   ]
  },
  {
   "cell_type": "code",
   "execution_count": 19,
   "metadata": {},
   "outputs": [
    {
     "data": {
      "text/plain": [
       "22"
      ]
     },
     "execution_count": 19,
     "metadata": {},
     "output_type": "execute_result"
    }
   ],
   "source": [
    "len(select_authors)"
   ]
  },
  {
   "cell_type": "code",
   "execution_count": 20,
   "metadata": {},
   "outputs": [
    {
     "data": {
      "text/html": [
       "<div>\n",
       "<style scoped>\n",
       "    .dataframe tbody tr th:only-of-type {\n",
       "        vertical-align: middle;\n",
       "    }\n",
       "\n",
       "    .dataframe tbody tr th {\n",
       "        vertical-align: top;\n",
       "    }\n",
       "\n",
       "    .dataframe thead th {\n",
       "        text-align: right;\n",
       "    }\n",
       "</style>\n",
       "<table border=\"1\" class=\"dataframe\">\n",
       "  <thead>\n",
       "    <tr style=\"text-align: right;\">\n",
       "      <th></th>\n",
       "      <th>authorcentury</th>\n",
       "      <th>title</th>\n",
       "      <th>downloads</th>\n",
       "    </tr>\n",
       "    <tr>\n",
       "      <th>author</th>\n",
       "      <th></th>\n",
       "      <th></th>\n",
       "      <th></th>\n",
       "    </tr>\n",
       "  </thead>\n",
       "  <tbody>\n",
       "    <tr>\n",
       "      <th>Homer</th>\n",
       "      <td>-7.0</td>\n",
       "      <td>14</td>\n",
       "      <td>11357</td>\n",
       "    </tr>\n",
       "    <tr>\n",
       "      <th>Confucius</th>\n",
       "      <td>-6.0</td>\n",
       "      <td>5</td>\n",
       "      <td>469</td>\n",
       "    </tr>\n",
       "    <tr>\n",
       "      <th>Plato</th>\n",
       "      <td>-4.0</td>\n",
       "      <td>33</td>\n",
       "      <td>8046</td>\n",
       "    </tr>\n",
       "    <tr>\n",
       "      <th>Cicero, Marcus Tullius</th>\n",
       "      <td>-1.0</td>\n",
       "      <td>14</td>\n",
       "      <td>1103</td>\n",
       "    </tr>\n",
       "    <tr>\n",
       "      <th>Seneca, Lucius Annaeus</th>\n",
       "      <td>1.0</td>\n",
       "      <td>7</td>\n",
       "      <td>590</td>\n",
       "    </tr>\n",
       "    <tr>\n",
       "      <th>Marcus Aurelius, Emperor of Rome</th>\n",
       "      <td>2.0</td>\n",
       "      <td>5</td>\n",
       "      <td>6999</td>\n",
       "    </tr>\n",
       "    <tr>\n",
       "      <th>Dante Alighieri</th>\n",
       "      <td>13.0</td>\n",
       "      <td>19</td>\n",
       "      <td>6896</td>\n",
       "    </tr>\n",
       "    <tr>\n",
       "      <th>Boccaccio, Giovanni</th>\n",
       "      <td>14.0</td>\n",
       "      <td>6</td>\n",
       "      <td>2695</td>\n",
       "    </tr>\n",
       "    <tr>\n",
       "      <th>Machiavelli, Niccolò</th>\n",
       "      <td>15.0</td>\n",
       "      <td>5</td>\n",
       "      <td>12776</td>\n",
       "    </tr>\n",
       "    <tr>\n",
       "      <th>Shakespeare, William</th>\n",
       "      <td>16.0</td>\n",
       "      <td>188</td>\n",
       "      <td>166112</td>\n",
       "    </tr>\n",
       "    <tr>\n",
       "      <th>Molière</th>\n",
       "      <td>17.0</td>\n",
       "      <td>18</td>\n",
       "      <td>1288</td>\n",
       "    </tr>\n",
       "    <tr>\n",
       "      <th>Defoe, Daniel</th>\n",
       "      <td>18.0</td>\n",
       "      <td>45</td>\n",
       "      <td>5977</td>\n",
       "    </tr>\n",
       "    <tr>\n",
       "      <th>Jefferson, Thomas</th>\n",
       "      <td>18.0</td>\n",
       "      <td>19</td>\n",
       "      <td>1165</td>\n",
       "    </tr>\n",
       "    <tr>\n",
       "      <th>Austen, Jane</th>\n",
       "      <td>18.0</td>\n",
       "      <td>14</td>\n",
       "      <td>59861</td>\n",
       "    </tr>\n",
       "    <tr>\n",
       "      <th>Twain, Mark</th>\n",
       "      <td>19.0</td>\n",
       "      <td>128</td>\n",
       "      <td>4101</td>\n",
       "    </tr>\n",
       "    <tr>\n",
       "      <th>Dickens, Charles</th>\n",
       "      <td>19.0</td>\n",
       "      <td>86</td>\n",
       "      <td>19636</td>\n",
       "    </tr>\n",
       "    <tr>\n",
       "      <th>Doyle, Arthur Conan</th>\n",
       "      <td>19.0</td>\n",
       "      <td>82</td>\n",
       "      <td>18979</td>\n",
       "    </tr>\n",
       "    <tr>\n",
       "      <th>Dumas, Alexandre</th>\n",
       "      <td>19.0</td>\n",
       "      <td>63</td>\n",
       "      <td>112767</td>\n",
       "    </tr>\n",
       "    <tr>\n",
       "      <th>Churchill, Winston</th>\n",
       "      <td>20.0</td>\n",
       "      <td>74</td>\n",
       "      <td>333</td>\n",
       "    </tr>\n",
       "    <tr>\n",
       "      <th>Dick, Philip K.</th>\n",
       "      <td>20.0</td>\n",
       "      <td>14</td>\n",
       "      <td>2405</td>\n",
       "    </tr>\n",
       "    <tr>\n",
       "      <th>Huxley, Aldous</th>\n",
       "      <td>20.0</td>\n",
       "      <td>12</td>\n",
       "      <td>434</td>\n",
       "    </tr>\n",
       "    <tr>\n",
       "      <th>Lovecraft, H. P. (Howard Phillips)</th>\n",
       "      <td>20.0</td>\n",
       "      <td>8</td>\n",
       "      <td>2045</td>\n",
       "    </tr>\n",
       "  </tbody>\n",
       "</table>\n",
       "</div>"
      ],
      "text/plain": [
       "                                    authorcentury  title  downloads\n",
       "author                                                             \n",
       "Homer                                        -7.0     14      11357\n",
       "Confucius                                    -6.0      5        469\n",
       "Plato                                        -4.0     33       8046\n",
       "Cicero, Marcus Tullius                       -1.0     14       1103\n",
       "Seneca, Lucius Annaeus                        1.0      7        590\n",
       "Marcus Aurelius, Emperor of Rome              2.0      5       6999\n",
       "Dante Alighieri                              13.0     19       6896\n",
       "Boccaccio, Giovanni                          14.0      6       2695\n",
       "Machiavelli, Niccolò                         15.0      5      12776\n",
       "Shakespeare, William                         16.0    188     166112\n",
       "Molière                                      17.0     18       1288\n",
       "Defoe, Daniel                                18.0     45       5977\n",
       "Jefferson, Thomas                            18.0     19       1165\n",
       "Austen, Jane                                 18.0     14      59861\n",
       "Twain, Mark                                  19.0    128       4101\n",
       "Dickens, Charles                             19.0     86      19636\n",
       "Doyle, Arthur Conan                          19.0     82      18979\n",
       "Dumas, Alexandre                             19.0     63     112767\n",
       "Churchill, Winston                           20.0     74        333\n",
       "Dick, Philip K.                              20.0     14       2405\n",
       "Huxley, Aldous                               20.0     12        434\n",
       "Lovecraft, H. P. (Howard Phillips)           20.0      8       2045"
      ]
     },
     "execution_count": 20,
     "metadata": {},
     "output_type": "execute_result"
    }
   ],
   "source": [
    "(\n",
    "    library_en\n",
    "        .loc[(library_en['author'].isin(select_authors)) | (library_en['authorcentury'] >= 22.)]\n",
    "        .groupby('author')\n",
    "        .agg({'authorcentury': 'max', 'title':'count', 'downloads': 'max'})\n",
    "        .sort_values(by=['authorcentury', 'title', 'downloads'], ascending=[True, False, False])\n",
    "        .head(30)\n",
    "        #.tail(10)\n",
    ")"
   ]
  },
  {
   "cell_type": "code",
   "execution_count": 21,
   "metadata": {},
   "outputs": [
    {
     "data": {
      "text/html": [
       "<div>\n",
       "<style scoped>\n",
       "    .dataframe tbody tr th:only-of-type {\n",
       "        vertical-align: middle;\n",
       "    }\n",
       "\n",
       "    .dataframe tbody tr th {\n",
       "        vertical-align: top;\n",
       "    }\n",
       "\n",
       "    .dataframe thead th {\n",
       "        text-align: right;\n",
       "    }\n",
       "</style>\n",
       "<table border=\"1\" class=\"dataframe\">\n",
       "  <thead>\n",
       "    <tr style=\"text-align: right;\">\n",
       "      <th></th>\n",
       "      <th>id</th>\n",
       "      <th>title</th>\n",
       "      <th>author</th>\n",
       "      <th>authoryearofbirth</th>\n",
       "      <th>authoryearofdeath</th>\n",
       "      <th>language</th>\n",
       "      <th>downloads</th>\n",
       "      <th>subjects</th>\n",
       "      <th>type</th>\n",
       "      <th>authorcentury</th>\n",
       "    </tr>\n",
       "  </thead>\n",
       "  <tbody>\n",
       "    <tr>\n",
       "      <th>5702</th>\n",
       "      <td>PG1513</td>\n",
       "      <td>Romeo and Juliet</td>\n",
       "      <td>Shakespeare, William</td>\n",
       "      <td>1564.0</td>\n",
       "      <td>1616.0</td>\n",
       "      <td>['en']</td>\n",
       "      <td>166112</td>\n",
       "      <td>{'Juliet (Fictitious character) -- Drama', 'Ro...</td>\n",
       "      <td>NaN</td>\n",
       "      <td>16.0</td>\n",
       "    </tr>\n",
       "    <tr>\n",
       "      <th>110</th>\n",
       "      <td>PG100</td>\n",
       "      <td>The Complete Works of William Shakespeare</td>\n",
       "      <td>Shakespeare, William</td>\n",
       "      <td>1564.0</td>\n",
       "      <td>1616.0</td>\n",
       "      <td>['en']</td>\n",
       "      <td>124452</td>\n",
       "      <td>{'English drama -- Early modern and Elizabetha...</td>\n",
       "      <td>NaN</td>\n",
       "      <td>16.0</td>\n",
       "    </tr>\n",
       "    <tr>\n",
       "      <th>14452</th>\n",
       "      <td>PG23042</td>\n",
       "      <td>The Tempest: The Works of William Shakespeare ...</td>\n",
       "      <td>Shakespeare, William</td>\n",
       "      <td>1564.0</td>\n",
       "      <td>1616.0</td>\n",
       "      <td>['en']</td>\n",
       "      <td>6820</td>\n",
       "      <td>{'Spirits -- Drama', 'Tragicomedy', 'Shipwreck...</td>\n",
       "      <td>NaN</td>\n",
       "      <td>16.0</td>\n",
       "    </tr>\n",
       "    <tr>\n",
       "      <th>5824</th>\n",
       "      <td>PG1524</td>\n",
       "      <td>Hamlet, Prince of Denmark</td>\n",
       "      <td>Shakespeare, William</td>\n",
       "      <td>1564.0</td>\n",
       "      <td>1616.0</td>\n",
       "      <td>['en']</td>\n",
       "      <td>4015</td>\n",
       "      <td>{'Kings and rulers -- Succession -- Drama', 'H...</td>\n",
       "      <td>NaN</td>\n",
       "      <td>16.0</td>\n",
       "    </tr>\n",
       "    <tr>\n",
       "      <th>19689</th>\n",
       "      <td>PG27761</td>\n",
       "      <td>Hamlet, Prince of Denmark</td>\n",
       "      <td>Shakespeare, William</td>\n",
       "      <td>1564.0</td>\n",
       "      <td>1616.0</td>\n",
       "      <td>['en']</td>\n",
       "      <td>3638</td>\n",
       "      <td>{'Kings and rulers -- Succession -- Drama', 'H...</td>\n",
       "      <td>NaN</td>\n",
       "      <td>16.0</td>\n",
       "    </tr>\n",
       "    <tr>\n",
       "      <th>5924</th>\n",
       "      <td>PG1533</td>\n",
       "      <td>Macbeth</td>\n",
       "      <td>Shakespeare, William</td>\n",
       "      <td>1564.0</td>\n",
       "      <td>1616.0</td>\n",
       "      <td>['en']</td>\n",
       "      <td>2911</td>\n",
       "      <td>{'Scotland -- Kings and rulers -- Drama', 'Reg...</td>\n",
       "      <td>NaN</td>\n",
       "      <td>16.0</td>\n",
       "    </tr>\n",
       "    <tr>\n",
       "      <th>1250</th>\n",
       "      <td>PG1112</td>\n",
       "      <td>The Tragedy of Romeo and Juliet</td>\n",
       "      <td>Shakespeare, William</td>\n",
       "      <td>1564.0</td>\n",
       "      <td>1616.0</td>\n",
       "      <td>['en']</td>\n",
       "      <td>1512</td>\n",
       "      <td>{'Juliet (Fictitious character) -- Drama', 'Ro...</td>\n",
       "      <td>NaN</td>\n",
       "      <td>16.0</td>\n",
       "    </tr>\n",
       "    <tr>\n",
       "      <th>5902</th>\n",
       "      <td>PG1531</td>\n",
       "      <td>Othello, the Moor of Venice</td>\n",
       "      <td>Shakespeare, William</td>\n",
       "      <td>1564.0</td>\n",
       "      <td>1616.0</td>\n",
       "      <td>['en']</td>\n",
       "      <td>1443</td>\n",
       "      <td>{'Jealousy -- Drama', 'Interracial marriage --...</td>\n",
       "      <td>NaN</td>\n",
       "      <td>16.0</td>\n",
       "    </tr>\n",
       "    <tr>\n",
       "      <th>5713</th>\n",
       "      <td>PG1514</td>\n",
       "      <td>A Midsummer Night's Dream</td>\n",
       "      <td>Shakespeare, William</td>\n",
       "      <td>1564.0</td>\n",
       "      <td>1616.0</td>\n",
       "      <td>['en']</td>\n",
       "      <td>1399</td>\n",
       "      <td>{'Fairy plays', 'Courtship -- Drama', 'Athens ...</td>\n",
       "      <td>NaN</td>\n",
       "      <td>16.0</td>\n",
       "    </tr>\n",
       "    <tr>\n",
       "      <th>5724</th>\n",
       "      <td>PG1515</td>\n",
       "      <td>The Merchant of Venice</td>\n",
       "      <td>Shakespeare, William</td>\n",
       "      <td>1564.0</td>\n",
       "      <td>1616.0</td>\n",
       "      <td>['en']</td>\n",
       "      <td>1159</td>\n",
       "      <td>{'Venice (Italy) -- Drama', 'Jews -- Italy -- ...</td>\n",
       "      <td>NaN</td>\n",
       "      <td>16.0</td>\n",
       "    </tr>\n",
       "  </tbody>\n",
       "</table>\n",
       "</div>"
      ],
      "text/plain": [
       "            id                                              title  \\\n",
       "5702    PG1513                                   Romeo and Juliet   \n",
       "110      PG100          The Complete Works of William Shakespeare   \n",
       "14452  PG23042  The Tempest: The Works of William Shakespeare ...   \n",
       "5824    PG1524                          Hamlet, Prince of Denmark   \n",
       "19689  PG27761                          Hamlet, Prince of Denmark   \n",
       "5924    PG1533                                            Macbeth   \n",
       "1250    PG1112                    The Tragedy of Romeo and Juliet   \n",
       "5902    PG1531                        Othello, the Moor of Venice   \n",
       "5713    PG1514                          A Midsummer Night's Dream   \n",
       "5724    PG1515                             The Merchant of Venice   \n",
       "\n",
       "                     author  authoryearofbirth  authoryearofdeath language  \\\n",
       "5702   Shakespeare, William             1564.0             1616.0   ['en']   \n",
       "110    Shakespeare, William             1564.0             1616.0   ['en']   \n",
       "14452  Shakespeare, William             1564.0             1616.0   ['en']   \n",
       "5824   Shakespeare, William             1564.0             1616.0   ['en']   \n",
       "19689  Shakespeare, William             1564.0             1616.0   ['en']   \n",
       "5924   Shakespeare, William             1564.0             1616.0   ['en']   \n",
       "1250   Shakespeare, William             1564.0             1616.0   ['en']   \n",
       "5902   Shakespeare, William             1564.0             1616.0   ['en']   \n",
       "5713   Shakespeare, William             1564.0             1616.0   ['en']   \n",
       "5724   Shakespeare, William             1564.0             1616.0   ['en']   \n",
       "\n",
       "       downloads                                           subjects type  \\\n",
       "5702      166112  {'Juliet (Fictitious character) -- Drama', 'Ro...  NaN   \n",
       "110       124452  {'English drama -- Early modern and Elizabetha...  NaN   \n",
       "14452       6820  {'Spirits -- Drama', 'Tragicomedy', 'Shipwreck...  NaN   \n",
       "5824        4015  {'Kings and rulers -- Succession -- Drama', 'H...  NaN   \n",
       "19689       3638  {'Kings and rulers -- Succession -- Drama', 'H...  NaN   \n",
       "5924        2911  {'Scotland -- Kings and rulers -- Drama', 'Reg...  NaN   \n",
       "1250        1512  {'Juliet (Fictitious character) -- Drama', 'Ro...  NaN   \n",
       "5902        1443  {'Jealousy -- Drama', 'Interracial marriage --...  NaN   \n",
       "5713        1399  {'Fairy plays', 'Courtship -- Drama', 'Athens ...  NaN   \n",
       "5724        1159  {'Venice (Italy) -- Drama', 'Jews -- Italy -- ...  NaN   \n",
       "\n",
       "       authorcentury  \n",
       "5702            16.0  \n",
       "110             16.0  \n",
       "14452           16.0  \n",
       "5824            16.0  \n",
       "19689           16.0  \n",
       "5924            16.0  \n",
       "1250            16.0  \n",
       "5902            16.0  \n",
       "5713            16.0  \n",
       "5724            16.0  "
      ]
     },
     "execution_count": 21,
     "metadata": {},
     "output_type": "execute_result"
    }
   ],
   "source": [
    "# this was to see individual authors and thier most popular works\n",
    "library_en.loc[library_en['author'] == 'Shakespeare, William'].sort_values(by='downloads', ascending=False).head(10)"
   ]
  },
  {
   "cell_type": "code",
   "execution_count": 22,
   "metadata": {},
   "outputs": [],
   "source": [
    "# to check/open individual books when needed\n",
    "# book_id = 'PG65972'\n",
    "# with open(f'../data/raw/{book_id}_raw.txt', encoding = 'utf-8') as fi:\n",
    "#              book = fi.read()\n",
    "\n",
    "# len(book)"
   ]
  },
  {
   "cell_type": "code",
   "execution_count": 23,
   "metadata": {},
   "outputs": [],
   "source": [
    "# this is to count the books in order based on descending popularity; +1 is there to start the count at 1 and not 0\n",
    "# note: I could also sort them randomly\n",
    "library_en['book_count'] =  (\n",
    "     library_en\n",
    "        .sort_values(\"downloads\", ascending=False)\n",
    "        .groupby('author')\n",
    "        .cumcount() + 1\n",
    ")"
   ]
  },
  {
   "cell_type": "code",
   "execution_count": 24,
   "metadata": {},
   "outputs": [],
   "source": [
    "# get the authors that I selected above\n",
    "library_select = library_en.loc[(library_en['author'].isin(select_authors))]\n",
    "\n",
    "# for authors with more than 70 books, filter it down to 70\n",
    "library_select = library_select.loc[library_select['book_count'] <= 70.]"
   ]
  },
  {
   "cell_type": "code",
   "execution_count": 25,
   "metadata": {},
   "outputs": [],
   "source": [
    "# for authors with too many books, randomly generate 100 of his books to remove, leaving 88; might decide to remove from top or bottom based on popularity\n",
    "# old code\n",
    "# rm_shakespeare = library_en.loc[library_en['author'] == 'Shakespeare, William'].sample(n=100, replace=False, random_state=42)['id']\n",
    "\n",
    "# similar to shakespeare, leaving 88\n",
    "# rm_twain = library_en.loc[library_en['author'] == 'Twain, Mark'].sample(n=40, replace=False, random_state=42)['id']\n",
    "\n",
    "# library_select = library_en[(library_en['author'].isin(select_authors))\n",
    "#                             & (~library_en['id'].isin(rm_shakespeare))\n",
    "#                             & (~library_en['id'].isin(rm_twain))]"
   ]
  },
  {
   "attachments": {},
   "cell_type": "markdown",
   "metadata": {},
   "source": [
    "## Reading Book Contents\n",
    "\n",
    "Code to read in the actual texts (from library_select)"
   ]
  },
  {
   "attachments": {},
   "cell_type": "markdown",
   "metadata": {},
   "source": [
    "Function that opens files and extracts the text (leaving the Gutenberg info at top and bottom out)."
   ]
  },
  {
   "cell_type": "code",
   "execution_count": 26,
   "metadata": {},
   "outputs": [],
   "source": [
    "def import_book(filepath):\n",
    "    \n",
    "    try:\n",
    "        with open(filepath, encoding = 'utf-8') as fi:\n",
    "            book = fi.read()\n",
    "\n",
    "    except:\n",
    "        # note: when using this, the weird characters, such as ì get left out!\n",
    "        with open(filepath, encoding = 'unicode_escape') as fi:\n",
    "            book = fi.read()\n",
    "\n",
    "    if(not re.search('\\*\\*\\* START OF .+? \\*\\*\\*', book)):\n",
    "        book_start = 0\n",
    "    else:\n",
    "        book_start = re.search('\\*\\*\\* START OF .+? \\*\\*\\*', book).end()\n",
    "\n",
    "    if(not re.search('\\*\\*\\* END OF .+? \\*\\*\\*', book)):\n",
    "        book_end = -1\n",
    "    else:\n",
    "        book_end = re.search('\\*\\*\\* END OF .+? \\*\\*\\*', book).start()\n",
    "\n",
    "    book = book[book_start : book_end]\n",
    "\n",
    "    return book"
   ]
  },
  {
   "attachments": {},
   "cell_type": "markdown",
   "metadata": {},
   "source": [
    "Process the selected authors books and save their texts into library_select:"
   ]
  },
  {
   "cell_type": "code",
   "execution_count": 27,
   "metadata": {},
   "outputs": [],
   "source": [
    "for book_id in library_select['id']:\n",
    "    \n",
    "    filepath = f'../data/raw/{book_id}_raw.txt'\n",
    "\n",
    "    try:\n",
    "        book = import_book(filepath)\n",
    "\n",
    "        library_select.loc[library_select['id'] == book_id, 'book_content'] = book\n",
    "        \n",
    "    except:\n",
    "        print('could not open', filepath)\n",
    "\n",
    "        library_select.loc[library_select['id'] == book_id, 'book_content'] = 'could not open'\n",
    "\n",
    "    "
   ]
  },
  {
   "cell_type": "code",
   "execution_count": 28,
   "metadata": {},
   "outputs": [
    {
     "name": "stdout",
     "output_type": "stream",
     "text": [
      "could not open: (0, 12)\n",
      "shape of library_select: (651, 12)\n"
     ]
    }
   ],
   "source": [
    "# there are some books who had weird characters and were not able to open; fixed that\n",
    "library_unopened_books = library_select.loc[library_select['book_content'] == 'could not open']\n",
    "print('could not open:', library_unopened_books.shape)\n",
    "\n",
    "library_select = library_select.loc[library_select['book_content'] != 'could not open']\n",
    "print('shape of library_select:', library_select.shape)"
   ]
  },
  {
   "cell_type": "code",
   "execution_count": null,
   "metadata": {},
   "outputs": [],
   "source": [
    "# to see more in a column of df; set 50 to None to display all\n",
    "# pd.set_option('display.max_colwidth', 50) "
   ]
  },
  {
   "cell_type": "code",
   "execution_count": 29,
   "metadata": {},
   "outputs": [],
   "source": [
    "#library_select.to_pickle('../data/library_select01.pkl')"
   ]
  },
  {
   "attachments": {},
   "cell_type": "markdown",
   "metadata": {},
   "source": [
    "## Testing with LogReg\n",
    "\n",
    "This part does not need to be run (and therefore it is commented). Testing purposes only."
   ]
  },
  {
   "cell_type": "code",
   "execution_count": 30,
   "metadata": {},
   "outputs": [],
   "source": [
    "# # dictionary of\n",
    "# authors_to_num = {select_authors[i]: i for i in range(len(select_authors))}\n",
    "\n",
    "# library_select = library_select.replace({'author': authors_to_num})\n",
    "\n",
    "# # to invert the above\n",
    "# num_to_authors = {v: k for k, v in authors_to_num.items()}"
   ]
  },
  {
   "cell_type": "code",
   "execution_count": 31,
   "metadata": {},
   "outputs": [
    {
     "data": {
      "text/plain": [
       "{'Homer': 0,\n",
       " 'Confucius': 1,\n",
       " 'Plato': 2,\n",
       " 'Cicero, Marcus Tullius': 3,\n",
       " 'Seneca, Lucius Annaeus': 4,\n",
       " 'Marcus Aurelius, Emperor of Rome': 5,\n",
       " 'Dante Alighieri': 6,\n",
       " 'Boccaccio, Giovanni': 7,\n",
       " 'Machiavelli, Niccolò': 8,\n",
       " 'Shakespeare, William': 9,\n",
       " 'Molière': 10,\n",
       " 'Defoe, Daniel': 11,\n",
       " 'Jefferson, Thomas': 12,\n",
       " 'Austen, Jane': 13,\n",
       " 'Twain, Mark': 14,\n",
       " 'Dickens, Charles': 15,\n",
       " 'Doyle, Arthur Conan': 16,\n",
       " 'Dumas, Alexandre': 17,\n",
       " 'Churchill, Winston': 18,\n",
       " 'Dick, Philip K.': 19,\n",
       " 'Huxley, Aldous': 20,\n",
       " 'Lovecraft, H. P. (Howard Phillips)': 21}"
      ]
     },
     "execution_count": 31,
     "metadata": {},
     "output_type": "execute_result"
    }
   ],
   "source": [
    "# authors_to_num"
   ]
  },
  {
   "cell_type": "code",
   "execution_count": 32,
   "metadata": {},
   "outputs": [],
   "source": [
    "# X = library_select[['book_content']]\n",
    "# y = library_select['author']\n",
    "\n",
    "# X_train, X_test, y_train, y_test = train_test_split(X, y, random_state = 42, stratify = y)"
   ]
  },
  {
   "cell_type": "code",
   "execution_count": 33,
   "metadata": {},
   "outputs": [
    {
     "name": "stdout",
     "output_type": "stream",
     "text": [
      "(488, 1)\n",
      "(163, 1)\n"
     ]
    }
   ],
   "source": [
    "# print(X_train.shape)\n",
    "\n",
    "# print(X_test.shape)"
   ]
  },
  {
   "cell_type": "code",
   "execution_count": 34,
   "metadata": {},
   "outputs": [],
   "source": [
    "# pipe_logreg = Pipeline(\n",
    "#     steps = [\n",
    "#         ('vect', TfidfVectorizer(min_df=2, max_df=0.8, ngram_range=(1,2))),\n",
    "#         ('logreg', LogisticRegression(max_iter = 10000))\n",
    "#     ]\n",
    "# )"
   ]
  },
  {
   "cell_type": "code",
   "execution_count": 35,
   "metadata": {},
   "outputs": [
    {
     "name": "stdout",
     "output_type": "stream",
     "text": [
      "accuracy score: 0.7852760736196319 \n",
      "\n",
      "---- confusion matrix ------\n",
      "[[ 2  0  0  0  0  0  0  0  0  1  0  0  0  0  0  0  0  0  0  0  0  0]\n",
      " [ 0  0  0  0  0  0  0  0  0  0  0  0  0  0  0  0  0  1  0  0  0  0]\n",
      " [ 0  0  7  0  0  0  0  0  0  0  0  0  0  0  1  0  0  0  0  0  0  0]\n",
      " [ 0  0  1  1  0  0  0  0  0  0  0  0  0  0  0  0  1  0  0  0  0  0]\n",
      " [ 0  0  0  0  0  0  0  0  0  1  0  0  0  0  1  0  0  0  0  0  0  0]\n",
      " [ 0  0  0  0  0  0  0  0  0  1  0  0  0  0  0  0  0  0  0  0  0  0]\n",
      " [ 0  0  0  0  0  0  4  0  0  0  0  0  0  0  0  1  0  0  0  0  0  0]\n",
      " [ 0  0  0  0  0  0  0  0  0  1  0  0  0  0  0  0  0  0  0  0  0  0]\n",
      " [ 0  0  0  0  0  0  0  0  0  0  0  0  0  0  0  0  0  1  0  0  0  0]\n",
      " [ 0  0  0  0  0  0  0  0  0 17  0  0  0  0  0  1  0  0  0  0  0  0]\n",
      " [ 0  0  0  0  0  0  0  0  0  1  0  0  0  0  0  0  0  3  1  0  0  0]\n",
      " [ 0  0  0  0  0  0  0  0  0  0  0  8  0  0  0  3  0  0  0  0  0  0]\n",
      " [ 0  0  0  0  0  0  0  0  0  0  0  0  5  0  0  0  0  0  0  0  0  0]\n",
      " [ 0  0  0  0  0  0  0  0  0  0  0  0  0  1  0  2  0  0  0  0  0  0]\n",
      " [ 0  0  0  0  0  0  0  0  0  0  0  0  0  0 17  1  0  0  0  0  0  0]\n",
      " [ 0  0  0  0  0  0  0  0  0  0  0  0  0  0  0 18  0  0  0  0  0  0]\n",
      " [ 0  0  0  0  0  0  0  0  0  0  0  0  0  0  0  1 16  0  1  0  0  0]\n",
      " [ 0  0  0  0  0  0  0  0  0  0  0  0  0  0  0  1  0 15  0  0  0  0]\n",
      " [ 0  0  0  0  0  0  0  0  0  0  0  0  0  0  0  0  1  0 17  0  0  0]\n",
      " [ 0  0  0  0  0  0  0  0  0  0  0  0  0  0  3  0  0  0  0  0  0  0]\n",
      " [ 0  0  0  0  0  0  0  0  0  0  0  0  0  0  2  0  0  0  1  0  0  0]\n",
      " [ 0  0  0  0  0  0  0  0  0  0  0  0  0  0  1  0  1  0  0  0  0  0]] \n",
      "\n",
      "-------- classification report ---------\n",
      "              precision    recall  f1-score   support\n",
      "\n",
      "           0       1.00      0.67      0.80         3\n",
      "           1       0.00      0.00      0.00         1\n",
      "           2       0.88      0.88      0.88         8\n",
      "           3       1.00      0.33      0.50         3\n",
      "           4       0.00      0.00      0.00         2\n",
      "           5       0.00      0.00      0.00         1\n",
      "           6       1.00      0.80      0.89         5\n",
      "           7       0.00      0.00      0.00         1\n",
      "           8       0.00      0.00      0.00         1\n",
      "           9       0.77      0.94      0.85        18\n",
      "          10       0.00      0.00      0.00         5\n",
      "          11       1.00      0.73      0.84        11\n",
      "          12       1.00      1.00      1.00         5\n",
      "          13       1.00      0.33      0.50         3\n",
      "          14       0.68      0.94      0.79        18\n",
      "          15       0.64      1.00      0.78        18\n",
      "          16       0.84      0.89      0.86        18\n",
      "          17       0.75      0.94      0.83        16\n",
      "          18       0.85      0.94      0.89        18\n",
      "          19       0.00      0.00      0.00         3\n",
      "          20       0.00      0.00      0.00         3\n",
      "          21       0.00      0.00      0.00         2\n",
      "\n",
      "    accuracy                           0.79       163\n",
      "   macro avg       0.52      0.47      0.47       163\n",
      "weighted avg       0.72      0.79      0.73       163\n",
      "\n"
     ]
    },
    {
     "name": "stderr",
     "output_type": "stream",
     "text": [
      "/Users/tomoumer/opt/anaconda3/lib/python3.9/site-packages/sklearn/metrics/_classification.py:1344: UndefinedMetricWarning: Precision and F-score are ill-defined and being set to 0.0 in labels with no predicted samples. Use `zero_division` parameter to control this behavior.\n",
      "  _warn_prf(average, modifier, msg_start, len(result))\n",
      "/Users/tomoumer/opt/anaconda3/lib/python3.9/site-packages/sklearn/metrics/_classification.py:1344: UndefinedMetricWarning: Precision and F-score are ill-defined and being set to 0.0 in labels with no predicted samples. Use `zero_division` parameter to control this behavior.\n",
      "  _warn_prf(average, modifier, msg_start, len(result))\n",
      "/Users/tomoumer/opt/anaconda3/lib/python3.9/site-packages/sklearn/metrics/_classification.py:1344: UndefinedMetricWarning: Precision and F-score are ill-defined and being set to 0.0 in labels with no predicted samples. Use `zero_division` parameter to control this behavior.\n",
      "  _warn_prf(average, modifier, msg_start, len(result))\n"
     ]
    }
   ],
   "source": [
    "# pipe_logreg.fit(X_train['book_content'], y_train)\n",
    "# y_pred = pipe_logreg.predict(X_test['book_content'])\n",
    "\n",
    "# print('accuracy score:', accuracy_score(y_test, y_pred), '\\n')\n",
    "# print('---- confusion matrix ------')\n",
    "# print(confusion_matrix(y_test, y_pred), '\\n')\n",
    "# print('-------- classification report ---------')\n",
    "# print(classification_report(y_test, y_pred))"
   ]
  },
  {
   "cell_type": "code",
   "execution_count": 36,
   "metadata": {},
   "outputs": [
    {
     "data": {
      "application/vnd.plotly.v1+json": {
       "config": {
        "plotlyServerURL": "https://plot.ly"
       },
       "data": [
        {
         "coloraxis": "coloraxis",
         "hovertemplate": "Predicted Label: %{x}<br>True Label: %{y}<br>color: %{z}<extra></extra>",
         "name": "0",
         "texttemplate": "%{z}",
         "type": "heatmap",
         "x": [
          "Homer",
          "Confucius",
          "Plato",
          "Cicero, Marcus Tullius",
          "Seneca, Lucius Annaeus",
          "Marcus Aurelius, Emperor of Rome",
          "Dante Alighieri",
          "Boccaccio, Giovanni",
          "Machiavelli, Niccolò",
          "Shakespeare, William",
          "Molière",
          "Defoe, Daniel",
          "Jefferson, Thomas",
          "Austen, Jane",
          "Twain, Mark",
          "Dickens, Charles",
          "Doyle, Arthur Conan",
          "Dumas, Alexandre",
          "Churchill, Winston",
          "Dick, Philip K.",
          "Huxley, Aldous",
          "Lovecraft, H. P. (Howard Phillips)"
         ],
         "xaxis": "x",
         "y": [
          "Homer",
          "Confucius",
          "Plato",
          "Cicero, Marcus Tullius",
          "Seneca, Lucius Annaeus",
          "Marcus Aurelius, Emperor of Rome",
          "Dante Alighieri",
          "Boccaccio, Giovanni",
          "Machiavelli, Niccolò",
          "Shakespeare, William",
          "Molière",
          "Defoe, Daniel",
          "Jefferson, Thomas",
          "Austen, Jane",
          "Twain, Mark",
          "Dickens, Charles",
          "Doyle, Arthur Conan",
          "Dumas, Alexandre",
          "Churchill, Winston",
          "Dick, Philip K.",
          "Huxley, Aldous",
          "Lovecraft, H. P. (Howard Phillips)"
         ],
         "yaxis": "y",
         "z": [
          [
           2,
           0,
           0,
           0,
           0,
           0,
           0,
           0,
           0,
           1,
           0,
           0,
           0,
           0,
           0,
           0,
           0,
           0,
           0,
           0,
           0,
           0
          ],
          [
           0,
           0,
           0,
           0,
           0,
           0,
           0,
           0,
           0,
           0,
           0,
           0,
           0,
           0,
           0,
           0,
           0,
           1,
           0,
           0,
           0,
           0
          ],
          [
           0,
           0,
           7,
           0,
           0,
           0,
           0,
           0,
           0,
           0,
           0,
           0,
           0,
           0,
           1,
           0,
           0,
           0,
           0,
           0,
           0,
           0
          ],
          [
           0,
           0,
           1,
           1,
           0,
           0,
           0,
           0,
           0,
           0,
           0,
           0,
           0,
           0,
           0,
           0,
           1,
           0,
           0,
           0,
           0,
           0
          ],
          [
           0,
           0,
           0,
           0,
           0,
           0,
           0,
           0,
           0,
           1,
           0,
           0,
           0,
           0,
           1,
           0,
           0,
           0,
           0,
           0,
           0,
           0
          ],
          [
           0,
           0,
           0,
           0,
           0,
           0,
           0,
           0,
           0,
           1,
           0,
           0,
           0,
           0,
           0,
           0,
           0,
           0,
           0,
           0,
           0,
           0
          ],
          [
           0,
           0,
           0,
           0,
           0,
           0,
           4,
           0,
           0,
           0,
           0,
           0,
           0,
           0,
           0,
           1,
           0,
           0,
           0,
           0,
           0,
           0
          ],
          [
           0,
           0,
           0,
           0,
           0,
           0,
           0,
           0,
           0,
           1,
           0,
           0,
           0,
           0,
           0,
           0,
           0,
           0,
           0,
           0,
           0,
           0
          ],
          [
           0,
           0,
           0,
           0,
           0,
           0,
           0,
           0,
           0,
           0,
           0,
           0,
           0,
           0,
           0,
           0,
           0,
           1,
           0,
           0,
           0,
           0
          ],
          [
           0,
           0,
           0,
           0,
           0,
           0,
           0,
           0,
           0,
           17,
           0,
           0,
           0,
           0,
           0,
           1,
           0,
           0,
           0,
           0,
           0,
           0
          ],
          [
           0,
           0,
           0,
           0,
           0,
           0,
           0,
           0,
           0,
           1,
           0,
           0,
           0,
           0,
           0,
           0,
           0,
           3,
           1,
           0,
           0,
           0
          ],
          [
           0,
           0,
           0,
           0,
           0,
           0,
           0,
           0,
           0,
           0,
           0,
           8,
           0,
           0,
           0,
           3,
           0,
           0,
           0,
           0,
           0,
           0
          ],
          [
           0,
           0,
           0,
           0,
           0,
           0,
           0,
           0,
           0,
           0,
           0,
           0,
           5,
           0,
           0,
           0,
           0,
           0,
           0,
           0,
           0,
           0
          ],
          [
           0,
           0,
           0,
           0,
           0,
           0,
           0,
           0,
           0,
           0,
           0,
           0,
           0,
           1,
           0,
           2,
           0,
           0,
           0,
           0,
           0,
           0
          ],
          [
           0,
           0,
           0,
           0,
           0,
           0,
           0,
           0,
           0,
           0,
           0,
           0,
           0,
           0,
           17,
           1,
           0,
           0,
           0,
           0,
           0,
           0
          ],
          [
           0,
           0,
           0,
           0,
           0,
           0,
           0,
           0,
           0,
           0,
           0,
           0,
           0,
           0,
           0,
           18,
           0,
           0,
           0,
           0,
           0,
           0
          ],
          [
           0,
           0,
           0,
           0,
           0,
           0,
           0,
           0,
           0,
           0,
           0,
           0,
           0,
           0,
           0,
           1,
           16,
           0,
           1,
           0,
           0,
           0
          ],
          [
           0,
           0,
           0,
           0,
           0,
           0,
           0,
           0,
           0,
           0,
           0,
           0,
           0,
           0,
           0,
           1,
           0,
           15,
           0,
           0,
           0,
           0
          ],
          [
           0,
           0,
           0,
           0,
           0,
           0,
           0,
           0,
           0,
           0,
           0,
           0,
           0,
           0,
           0,
           0,
           1,
           0,
           17,
           0,
           0,
           0
          ],
          [
           0,
           0,
           0,
           0,
           0,
           0,
           0,
           0,
           0,
           0,
           0,
           0,
           0,
           0,
           3,
           0,
           0,
           0,
           0,
           0,
           0,
           0
          ],
          [
           0,
           0,
           0,
           0,
           0,
           0,
           0,
           0,
           0,
           0,
           0,
           0,
           0,
           0,
           2,
           0,
           0,
           0,
           1,
           0,
           0,
           0
          ],
          [
           0,
           0,
           0,
           0,
           0,
           0,
           0,
           0,
           0,
           0,
           0,
           0,
           0,
           0,
           1,
           0,
           1,
           0,
           0,
           0,
           0,
           0
          ]
         ]
        }
       ],
       "layout": {
        "coloraxis": {
         "colorscale": [
          [
           0,
           "rgb(209, 238, 234)"
          ],
          [
           0.16666666666666666,
           "rgb(168, 219, 217)"
          ],
          [
           0.3333333333333333,
           "rgb(133, 196, 201)"
          ],
          [
           0.5,
           "rgb(104, 171, 184)"
          ],
          [
           0.6666666666666666,
           "rgb(79, 144, 166)"
          ],
          [
           0.8333333333333334,
           "rgb(59, 115, 143)"
          ],
          [
           1,
           "rgb(42, 86, 116)"
          ]
         ],
         "showscale": false
        },
        "height": 800,
        "margin": {
         "t": 60
        },
        "template": {
         "data": {
          "bar": [
           {
            "error_x": {
             "color": "#2a3f5f"
            },
            "error_y": {
             "color": "#2a3f5f"
            },
            "marker": {
             "line": {
              "color": "#E5ECF6",
              "width": 0.5
             },
             "pattern": {
              "fillmode": "overlay",
              "size": 10,
              "solidity": 0.2
             }
            },
            "type": "bar"
           }
          ],
          "barpolar": [
           {
            "marker": {
             "line": {
              "color": "#E5ECF6",
              "width": 0.5
             },
             "pattern": {
              "fillmode": "overlay",
              "size": 10,
              "solidity": 0.2
             }
            },
            "type": "barpolar"
           }
          ],
          "carpet": [
           {
            "aaxis": {
             "endlinecolor": "#2a3f5f",
             "gridcolor": "white",
             "linecolor": "white",
             "minorgridcolor": "white",
             "startlinecolor": "#2a3f5f"
            },
            "baxis": {
             "endlinecolor": "#2a3f5f",
             "gridcolor": "white",
             "linecolor": "white",
             "minorgridcolor": "white",
             "startlinecolor": "#2a3f5f"
            },
            "type": "carpet"
           }
          ],
          "choropleth": [
           {
            "colorbar": {
             "outlinewidth": 0,
             "ticks": ""
            },
            "type": "choropleth"
           }
          ],
          "contour": [
           {
            "colorbar": {
             "outlinewidth": 0,
             "ticks": ""
            },
            "colorscale": [
             [
              0,
              "#0d0887"
             ],
             [
              0.1111111111111111,
              "#46039f"
             ],
             [
              0.2222222222222222,
              "#7201a8"
             ],
             [
              0.3333333333333333,
              "#9c179e"
             ],
             [
              0.4444444444444444,
              "#bd3786"
             ],
             [
              0.5555555555555556,
              "#d8576b"
             ],
             [
              0.6666666666666666,
              "#ed7953"
             ],
             [
              0.7777777777777778,
              "#fb9f3a"
             ],
             [
              0.8888888888888888,
              "#fdca26"
             ],
             [
              1,
              "#f0f921"
             ]
            ],
            "type": "contour"
           }
          ],
          "contourcarpet": [
           {
            "colorbar": {
             "outlinewidth": 0,
             "ticks": ""
            },
            "type": "contourcarpet"
           }
          ],
          "heatmap": [
           {
            "colorbar": {
             "outlinewidth": 0,
             "ticks": ""
            },
            "colorscale": [
             [
              0,
              "#0d0887"
             ],
             [
              0.1111111111111111,
              "#46039f"
             ],
             [
              0.2222222222222222,
              "#7201a8"
             ],
             [
              0.3333333333333333,
              "#9c179e"
             ],
             [
              0.4444444444444444,
              "#bd3786"
             ],
             [
              0.5555555555555556,
              "#d8576b"
             ],
             [
              0.6666666666666666,
              "#ed7953"
             ],
             [
              0.7777777777777778,
              "#fb9f3a"
             ],
             [
              0.8888888888888888,
              "#fdca26"
             ],
             [
              1,
              "#f0f921"
             ]
            ],
            "type": "heatmap"
           }
          ],
          "heatmapgl": [
           {
            "colorbar": {
             "outlinewidth": 0,
             "ticks": ""
            },
            "colorscale": [
             [
              0,
              "#0d0887"
             ],
             [
              0.1111111111111111,
              "#46039f"
             ],
             [
              0.2222222222222222,
              "#7201a8"
             ],
             [
              0.3333333333333333,
              "#9c179e"
             ],
             [
              0.4444444444444444,
              "#bd3786"
             ],
             [
              0.5555555555555556,
              "#d8576b"
             ],
             [
              0.6666666666666666,
              "#ed7953"
             ],
             [
              0.7777777777777778,
              "#fb9f3a"
             ],
             [
              0.8888888888888888,
              "#fdca26"
             ],
             [
              1,
              "#f0f921"
             ]
            ],
            "type": "heatmapgl"
           }
          ],
          "histogram": [
           {
            "marker": {
             "pattern": {
              "fillmode": "overlay",
              "size": 10,
              "solidity": 0.2
             }
            },
            "type": "histogram"
           }
          ],
          "histogram2d": [
           {
            "colorbar": {
             "outlinewidth": 0,
             "ticks": ""
            },
            "colorscale": [
             [
              0,
              "#0d0887"
             ],
             [
              0.1111111111111111,
              "#46039f"
             ],
             [
              0.2222222222222222,
              "#7201a8"
             ],
             [
              0.3333333333333333,
              "#9c179e"
             ],
             [
              0.4444444444444444,
              "#bd3786"
             ],
             [
              0.5555555555555556,
              "#d8576b"
             ],
             [
              0.6666666666666666,
              "#ed7953"
             ],
             [
              0.7777777777777778,
              "#fb9f3a"
             ],
             [
              0.8888888888888888,
              "#fdca26"
             ],
             [
              1,
              "#f0f921"
             ]
            ],
            "type": "histogram2d"
           }
          ],
          "histogram2dcontour": [
           {
            "colorbar": {
             "outlinewidth": 0,
             "ticks": ""
            },
            "colorscale": [
             [
              0,
              "#0d0887"
             ],
             [
              0.1111111111111111,
              "#46039f"
             ],
             [
              0.2222222222222222,
              "#7201a8"
             ],
             [
              0.3333333333333333,
              "#9c179e"
             ],
             [
              0.4444444444444444,
              "#bd3786"
             ],
             [
              0.5555555555555556,
              "#d8576b"
             ],
             [
              0.6666666666666666,
              "#ed7953"
             ],
             [
              0.7777777777777778,
              "#fb9f3a"
             ],
             [
              0.8888888888888888,
              "#fdca26"
             ],
             [
              1,
              "#f0f921"
             ]
            ],
            "type": "histogram2dcontour"
           }
          ],
          "mesh3d": [
           {
            "colorbar": {
             "outlinewidth": 0,
             "ticks": ""
            },
            "type": "mesh3d"
           }
          ],
          "parcoords": [
           {
            "line": {
             "colorbar": {
              "outlinewidth": 0,
              "ticks": ""
             }
            },
            "type": "parcoords"
           }
          ],
          "pie": [
           {
            "automargin": true,
            "type": "pie"
           }
          ],
          "scatter": [
           {
            "fillpattern": {
             "fillmode": "overlay",
             "size": 10,
             "solidity": 0.2
            },
            "type": "scatter"
           }
          ],
          "scatter3d": [
           {
            "line": {
             "colorbar": {
              "outlinewidth": 0,
              "ticks": ""
             }
            },
            "marker": {
             "colorbar": {
              "outlinewidth": 0,
              "ticks": ""
             }
            },
            "type": "scatter3d"
           }
          ],
          "scattercarpet": [
           {
            "marker": {
             "colorbar": {
              "outlinewidth": 0,
              "ticks": ""
             }
            },
            "type": "scattercarpet"
           }
          ],
          "scattergeo": [
           {
            "marker": {
             "colorbar": {
              "outlinewidth": 0,
              "ticks": ""
             }
            },
            "type": "scattergeo"
           }
          ],
          "scattergl": [
           {
            "marker": {
             "colorbar": {
              "outlinewidth": 0,
              "ticks": ""
             }
            },
            "type": "scattergl"
           }
          ],
          "scattermapbox": [
           {
            "marker": {
             "colorbar": {
              "outlinewidth": 0,
              "ticks": ""
             }
            },
            "type": "scattermapbox"
           }
          ],
          "scatterpolar": [
           {
            "marker": {
             "colorbar": {
              "outlinewidth": 0,
              "ticks": ""
             }
            },
            "type": "scatterpolar"
           }
          ],
          "scatterpolargl": [
           {
            "marker": {
             "colorbar": {
              "outlinewidth": 0,
              "ticks": ""
             }
            },
            "type": "scatterpolargl"
           }
          ],
          "scatterternary": [
           {
            "marker": {
             "colorbar": {
              "outlinewidth": 0,
              "ticks": ""
             }
            },
            "type": "scatterternary"
           }
          ],
          "surface": [
           {
            "colorbar": {
             "outlinewidth": 0,
             "ticks": ""
            },
            "colorscale": [
             [
              0,
              "#0d0887"
             ],
             [
              0.1111111111111111,
              "#46039f"
             ],
             [
              0.2222222222222222,
              "#7201a8"
             ],
             [
              0.3333333333333333,
              "#9c179e"
             ],
             [
              0.4444444444444444,
              "#bd3786"
             ],
             [
              0.5555555555555556,
              "#d8576b"
             ],
             [
              0.6666666666666666,
              "#ed7953"
             ],
             [
              0.7777777777777778,
              "#fb9f3a"
             ],
             [
              0.8888888888888888,
              "#fdca26"
             ],
             [
              1,
              "#f0f921"
             ]
            ],
            "type": "surface"
           }
          ],
          "table": [
           {
            "cells": {
             "fill": {
              "color": "#EBF0F8"
             },
             "line": {
              "color": "white"
             }
            },
            "header": {
             "fill": {
              "color": "#C8D4E3"
             },
             "line": {
              "color": "white"
             }
            },
            "type": "table"
           }
          ]
         },
         "layout": {
          "annotationdefaults": {
           "arrowcolor": "#2a3f5f",
           "arrowhead": 0,
           "arrowwidth": 1
          },
          "autotypenumbers": "strict",
          "coloraxis": {
           "colorbar": {
            "outlinewidth": 0,
            "ticks": ""
           }
          },
          "colorscale": {
           "diverging": [
            [
             0,
             "#8e0152"
            ],
            [
             0.1,
             "#c51b7d"
            ],
            [
             0.2,
             "#de77ae"
            ],
            [
             0.3,
             "#f1b6da"
            ],
            [
             0.4,
             "#fde0ef"
            ],
            [
             0.5,
             "#f7f7f7"
            ],
            [
             0.6,
             "#e6f5d0"
            ],
            [
             0.7,
             "#b8e186"
            ],
            [
             0.8,
             "#7fbc41"
            ],
            [
             0.9,
             "#4d9221"
            ],
            [
             1,
             "#276419"
            ]
           ],
           "sequential": [
            [
             0,
             "#0d0887"
            ],
            [
             0.1111111111111111,
             "#46039f"
            ],
            [
             0.2222222222222222,
             "#7201a8"
            ],
            [
             0.3333333333333333,
             "#9c179e"
            ],
            [
             0.4444444444444444,
             "#bd3786"
            ],
            [
             0.5555555555555556,
             "#d8576b"
            ],
            [
             0.6666666666666666,
             "#ed7953"
            ],
            [
             0.7777777777777778,
             "#fb9f3a"
            ],
            [
             0.8888888888888888,
             "#fdca26"
            ],
            [
             1,
             "#f0f921"
            ]
           ],
           "sequentialminus": [
            [
             0,
             "#0d0887"
            ],
            [
             0.1111111111111111,
             "#46039f"
            ],
            [
             0.2222222222222222,
             "#7201a8"
            ],
            [
             0.3333333333333333,
             "#9c179e"
            ],
            [
             0.4444444444444444,
             "#bd3786"
            ],
            [
             0.5555555555555556,
             "#d8576b"
            ],
            [
             0.6666666666666666,
             "#ed7953"
            ],
            [
             0.7777777777777778,
             "#fb9f3a"
            ],
            [
             0.8888888888888888,
             "#fdca26"
            ],
            [
             1,
             "#f0f921"
            ]
           ]
          },
          "colorway": [
           "#636efa",
           "#EF553B",
           "#00cc96",
           "#ab63fa",
           "#FFA15A",
           "#19d3f3",
           "#FF6692",
           "#B6E880",
           "#FF97FF",
           "#FECB52"
          ],
          "font": {
           "color": "#2a3f5f"
          },
          "geo": {
           "bgcolor": "white",
           "lakecolor": "white",
           "landcolor": "#E5ECF6",
           "showlakes": true,
           "showland": true,
           "subunitcolor": "white"
          },
          "hoverlabel": {
           "align": "left"
          },
          "hovermode": "closest",
          "mapbox": {
           "style": "light"
          },
          "paper_bgcolor": "white",
          "plot_bgcolor": "#E5ECF6",
          "polar": {
           "angularaxis": {
            "gridcolor": "white",
            "linecolor": "white",
            "ticks": ""
           },
           "bgcolor": "#E5ECF6",
           "radialaxis": {
            "gridcolor": "white",
            "linecolor": "white",
            "ticks": ""
           }
          },
          "scene": {
           "xaxis": {
            "backgroundcolor": "#E5ECF6",
            "gridcolor": "white",
            "gridwidth": 2,
            "linecolor": "white",
            "showbackground": true,
            "ticks": "",
            "zerolinecolor": "white"
           },
           "yaxis": {
            "backgroundcolor": "#E5ECF6",
            "gridcolor": "white",
            "gridwidth": 2,
            "linecolor": "white",
            "showbackground": true,
            "ticks": "",
            "zerolinecolor": "white"
           },
           "zaxis": {
            "backgroundcolor": "#E5ECF6",
            "gridcolor": "white",
            "gridwidth": 2,
            "linecolor": "white",
            "showbackground": true,
            "ticks": "",
            "zerolinecolor": "white"
           }
          },
          "shapedefaults": {
           "line": {
            "color": "#2a3f5f"
           }
          },
          "ternary": {
           "aaxis": {
            "gridcolor": "white",
            "linecolor": "white",
            "ticks": ""
           },
           "baxis": {
            "gridcolor": "white",
            "linecolor": "white",
            "ticks": ""
           },
           "bgcolor": "#E5ECF6",
           "caxis": {
            "gridcolor": "white",
            "linecolor": "white",
            "ticks": ""
           }
          },
          "title": {
           "x": 0.05
          },
          "xaxis": {
           "automargin": true,
           "gridcolor": "white",
           "linecolor": "white",
           "ticks": "",
           "title": {
            "standoff": 15
           },
           "zerolinecolor": "white",
           "zerolinewidth": 2
          },
          "yaxis": {
           "automargin": true,
           "gridcolor": "white",
           "linecolor": "white",
           "ticks": "",
           "title": {
            "standoff": 15
           },
           "zerolinecolor": "white",
           "zerolinewidth": 2
          }
         }
        },
        "width": 1000,
        "xaxis": {
         "anchor": "y",
         "constrain": "domain",
         "domain": [
          0,
          1
         ],
         "scaleanchor": "y",
         "title": {
          "text": "Predicted Label"
         }
        },
        "yaxis": {
         "anchor": "x",
         "autorange": "reversed",
         "constrain": "domain",
         "domain": [
          0,
          1
         ],
         "title": {
          "text": "True Label"
         }
        }
       }
      }
     },
     "metadata": {},
     "output_type": "display_data"
    }
   ],
   "source": [
    "# fig = px.imshow(confusion_matrix(y_test, y_pred),\n",
    "#                 width=1000,\n",
    "#                 height=800,\n",
    "#                 text_auto=True,\n",
    "#                 labels=dict(x=\"Predicted Label\",\n",
    "#                             y=\"True Label\"),\n",
    "#                             x=tuple(authors_to_num.keys()),\n",
    "#                             y=tuple(authors_to_num.keys()),\n",
    "#                             color_continuous_scale='Teal'\n",
    "#                             )\n",
    "\n",
    "# fig.update(layout_coloraxis_showscale=False)\n",
    "\n",
    "# fig.show()"
   ]
  },
  {
   "cell_type": "code",
   "execution_count": null,
   "metadata": {},
   "outputs": [],
   "source": [
    "## pipe_logreg['vect'].vocabulary_['î']\n",
    "\n",
    "# {k:v for (k,v) in pipe_logreg['vect'].vocabulary_.items() if v < 100}"
   ]
  },
  {
   "attachments": {},
   "cell_type": "markdown",
   "metadata": {},
   "source": [
    "To test out my logic, let's see how my own two books measure up!"
   ]
  },
  {
   "cell_type": "code",
   "execution_count": 37,
   "metadata": {},
   "outputs": [],
   "source": [
    "# my_books = pd.DataFrame()\n",
    "\n",
    "# for book_name in ('Deathway', 'Lambda'):\n",
    "#         filepath = f'../data/{book_name} by Tomo Umer.txt'\n",
    "\n",
    "#         with open(filepath, encoding = 'utf-8') as fi:\n",
    "#                 book = fi.read()\n",
    "        \n",
    "#         tmp_book = pd.DataFrame({'author': 'Umer, Tomo', 'title': [book_name], 'book_content': [book]})\n",
    "\n",
    "#         my_books = pd.concat([my_books, tmp_book], ignore_index = True)"
   ]
  },
  {
   "cell_type": "code",
   "execution_count": 38,
   "metadata": {},
   "outputs": [
    {
     "data": {
      "text/plain": [
       "array([[0.01963602, 0.0100785 , 0.03989145, 0.0226394 , 0.0120409 ,\n",
       "        0.00939012, 0.02137647, 0.01181939, 0.01006743, 0.06986171,\n",
       "        0.03240526, 0.06026573, 0.02139153, 0.02858198, 0.15240591,\n",
       "        0.08705393, 0.10671567, 0.09747233, 0.10807764, 0.03636318,\n",
       "        0.02565156, 0.01681391],\n",
       "       [0.01831437, 0.00908287, 0.03338067, 0.02032388, 0.01147422,\n",
       "        0.00861281, 0.01941812, 0.01074654, 0.00937859, 0.04410456,\n",
       "        0.02611377, 0.05346753, 0.0199214 , 0.02352118, 0.19562366,\n",
       "        0.0792841 , 0.13909651, 0.09462172, 0.10154841, 0.04111203,\n",
       "        0.02513155, 0.01572151]])"
      ]
     },
     "execution_count": 38,
     "metadata": {},
     "output_type": "execute_result"
    }
   ],
   "source": [
    "# pipe_logreg.predict_proba(my_books['book_content'])"
   ]
  },
  {
   "attachments": {},
   "cell_type": "markdown",
   "metadata": {},
   "source": [
    "It would appear both of my books are most similar to Mark Twain!"
   ]
  },
  {
   "cell_type": "code",
   "execution_count": 39,
   "metadata": {},
   "outputs": [
    {
     "data": {
      "text/html": [
       "<div>\n",
       "<style scoped>\n",
       "    .dataframe tbody tr th:only-of-type {\n",
       "        vertical-align: middle;\n",
       "    }\n",
       "\n",
       "    .dataframe tbody tr th {\n",
       "        vertical-align: top;\n",
       "    }\n",
       "\n",
       "    .dataframe thead th {\n",
       "        text-align: right;\n",
       "    }\n",
       "</style>\n",
       "<table border=\"1\" class=\"dataframe\">\n",
       "  <thead>\n",
       "    <tr style=\"text-align: right;\">\n",
       "      <th></th>\n",
       "      <th>Homer</th>\n",
       "      <th>Confucius</th>\n",
       "      <th>Plato</th>\n",
       "      <th>Cicero, Marcus Tullius</th>\n",
       "      <th>Seneca, Lucius Annaeus</th>\n",
       "      <th>Marcus Aurelius, Emperor of Rome</th>\n",
       "      <th>Dante Alighieri</th>\n",
       "      <th>Boccaccio, Giovanni</th>\n",
       "      <th>Machiavelli, Niccolò</th>\n",
       "      <th>Shakespeare, William</th>\n",
       "      <th>...</th>\n",
       "      <th>Jefferson, Thomas</th>\n",
       "      <th>Austen, Jane</th>\n",
       "      <th>Twain, Mark</th>\n",
       "      <th>Dickens, Charles</th>\n",
       "      <th>Doyle, Arthur Conan</th>\n",
       "      <th>Dumas, Alexandre</th>\n",
       "      <th>Churchill, Winston</th>\n",
       "      <th>Dick, Philip K.</th>\n",
       "      <th>Huxley, Aldous</th>\n",
       "      <th>Lovecraft, H. P. (Howard Phillips)</th>\n",
       "    </tr>\n",
       "  </thead>\n",
       "  <tbody>\n",
       "    <tr>\n",
       "      <th>0</th>\n",
       "      <td>0.019636</td>\n",
       "      <td>0.010079</td>\n",
       "      <td>0.039891</td>\n",
       "      <td>0.022639</td>\n",
       "      <td>0.012041</td>\n",
       "      <td>0.009390</td>\n",
       "      <td>0.021376</td>\n",
       "      <td>0.011819</td>\n",
       "      <td>0.010067</td>\n",
       "      <td>0.069862</td>\n",
       "      <td>...</td>\n",
       "      <td>0.021392</td>\n",
       "      <td>0.028582</td>\n",
       "      <td>0.152406</td>\n",
       "      <td>0.087054</td>\n",
       "      <td>0.106716</td>\n",
       "      <td>0.097472</td>\n",
       "      <td>0.108078</td>\n",
       "      <td>0.036363</td>\n",
       "      <td>0.025652</td>\n",
       "      <td>0.016814</td>\n",
       "    </tr>\n",
       "    <tr>\n",
       "      <th>1</th>\n",
       "      <td>0.018314</td>\n",
       "      <td>0.009083</td>\n",
       "      <td>0.033381</td>\n",
       "      <td>0.020324</td>\n",
       "      <td>0.011474</td>\n",
       "      <td>0.008613</td>\n",
       "      <td>0.019418</td>\n",
       "      <td>0.010747</td>\n",
       "      <td>0.009379</td>\n",
       "      <td>0.044105</td>\n",
       "      <td>...</td>\n",
       "      <td>0.019921</td>\n",
       "      <td>0.023521</td>\n",
       "      <td>0.195624</td>\n",
       "      <td>0.079284</td>\n",
       "      <td>0.139097</td>\n",
       "      <td>0.094622</td>\n",
       "      <td>0.101548</td>\n",
       "      <td>0.041112</td>\n",
       "      <td>0.025132</td>\n",
       "      <td>0.015722</td>\n",
       "    </tr>\n",
       "  </tbody>\n",
       "</table>\n",
       "<p>2 rows × 22 columns</p>\n",
       "</div>"
      ],
      "text/plain": [
       "      Homer  Confucius     Plato  Cicero, Marcus Tullius  \\\n",
       "0  0.019636   0.010079  0.039891                0.022639   \n",
       "1  0.018314   0.009083  0.033381                0.020324   \n",
       "\n",
       "   Seneca, Lucius Annaeus  Marcus Aurelius, Emperor of Rome  Dante Alighieri  \\\n",
       "0                0.012041                          0.009390         0.021376   \n",
       "1                0.011474                          0.008613         0.019418   \n",
       "\n",
       "   Boccaccio, Giovanni  Machiavelli, Niccolò  Shakespeare, William  ...  \\\n",
       "0             0.011819              0.010067              0.069862  ...   \n",
       "1             0.010747              0.009379              0.044105  ...   \n",
       "\n",
       "   Jefferson, Thomas  Austen, Jane  Twain, Mark  Dickens, Charles  \\\n",
       "0           0.021392      0.028582     0.152406          0.087054   \n",
       "1           0.019921      0.023521     0.195624          0.079284   \n",
       "\n",
       "   Doyle, Arthur Conan  Dumas, Alexandre  Churchill, Winston  Dick, Philip K.  \\\n",
       "0             0.106716          0.097472            0.108078         0.036363   \n",
       "1             0.139097          0.094622            0.101548         0.041112   \n",
       "\n",
       "   Huxley, Aldous  Lovecraft, H. P. (Howard Phillips)  \n",
       "0        0.025652                            0.016814  \n",
       "1        0.025132                            0.015722  \n",
       "\n",
       "[2 rows x 22 columns]"
      ]
     },
     "execution_count": 39,
     "metadata": {},
     "output_type": "execute_result"
    }
   ],
   "source": [
    "# pd.DataFrame(pipe_logreg.predict_proba(my_books['book_content']),columns=authors_to_num.keys())"
   ]
  },
  {
   "cell_type": "code",
   "execution_count": 40,
   "metadata": {},
   "outputs": [
    {
     "data": {
      "text/html": [
       "<div>\n",
       "<style scoped>\n",
       "    .dataframe tbody tr th:only-of-type {\n",
       "        vertical-align: middle;\n",
       "    }\n",
       "\n",
       "    .dataframe tbody tr th {\n",
       "        vertical-align: top;\n",
       "    }\n",
       "\n",
       "    .dataframe thead th {\n",
       "        text-align: right;\n",
       "    }\n",
       "</style>\n",
       "<table border=\"1\" class=\"dataframe\">\n",
       "  <thead>\n",
       "    <tr style=\"text-align: right;\">\n",
       "      <th></th>\n",
       "      <th>Authors</th>\n",
       "      <th>Deathway</th>\n",
       "      <th>Lambda</th>\n",
       "    </tr>\n",
       "  </thead>\n",
       "  <tbody>\n",
       "    <tr>\n",
       "      <th>0</th>\n",
       "      <td>Homer</td>\n",
       "      <td>0.019636</td>\n",
       "      <td>0.018314</td>\n",
       "    </tr>\n",
       "    <tr>\n",
       "      <th>1</th>\n",
       "      <td>Confucius</td>\n",
       "      <td>0.010079</td>\n",
       "      <td>0.009083</td>\n",
       "    </tr>\n",
       "    <tr>\n",
       "      <th>2</th>\n",
       "      <td>Plato</td>\n",
       "      <td>0.039891</td>\n",
       "      <td>0.033381</td>\n",
       "    </tr>\n",
       "    <tr>\n",
       "      <th>3</th>\n",
       "      <td>Cicero, Marcus Tullius</td>\n",
       "      <td>0.022639</td>\n",
       "      <td>0.020324</td>\n",
       "    </tr>\n",
       "    <tr>\n",
       "      <th>4</th>\n",
       "      <td>Seneca, Lucius Annaeus</td>\n",
       "      <td>0.012041</td>\n",
       "      <td>0.011474</td>\n",
       "    </tr>\n",
       "    <tr>\n",
       "      <th>5</th>\n",
       "      <td>Marcus Aurelius, Emperor of Rome</td>\n",
       "      <td>0.009390</td>\n",
       "      <td>0.008613</td>\n",
       "    </tr>\n",
       "    <tr>\n",
       "      <th>6</th>\n",
       "      <td>Dante Alighieri</td>\n",
       "      <td>0.021376</td>\n",
       "      <td>0.019418</td>\n",
       "    </tr>\n",
       "    <tr>\n",
       "      <th>7</th>\n",
       "      <td>Boccaccio, Giovanni</td>\n",
       "      <td>0.011819</td>\n",
       "      <td>0.010747</td>\n",
       "    </tr>\n",
       "    <tr>\n",
       "      <th>8</th>\n",
       "      <td>Machiavelli, Niccolò</td>\n",
       "      <td>0.010067</td>\n",
       "      <td>0.009379</td>\n",
       "    </tr>\n",
       "    <tr>\n",
       "      <th>9</th>\n",
       "      <td>Shakespeare, William</td>\n",
       "      <td>0.069862</td>\n",
       "      <td>0.044105</td>\n",
       "    </tr>\n",
       "    <tr>\n",
       "      <th>10</th>\n",
       "      <td>Molière</td>\n",
       "      <td>0.032405</td>\n",
       "      <td>0.026114</td>\n",
       "    </tr>\n",
       "    <tr>\n",
       "      <th>11</th>\n",
       "      <td>Defoe, Daniel</td>\n",
       "      <td>0.060266</td>\n",
       "      <td>0.053468</td>\n",
       "    </tr>\n",
       "    <tr>\n",
       "      <th>12</th>\n",
       "      <td>Jefferson, Thomas</td>\n",
       "      <td>0.021392</td>\n",
       "      <td>0.019921</td>\n",
       "    </tr>\n",
       "    <tr>\n",
       "      <th>13</th>\n",
       "      <td>Austen, Jane</td>\n",
       "      <td>0.028582</td>\n",
       "      <td>0.023521</td>\n",
       "    </tr>\n",
       "    <tr>\n",
       "      <th>14</th>\n",
       "      <td>Twain, Mark</td>\n",
       "      <td>0.152406</td>\n",
       "      <td>0.195624</td>\n",
       "    </tr>\n",
       "    <tr>\n",
       "      <th>15</th>\n",
       "      <td>Dickens, Charles</td>\n",
       "      <td>0.087054</td>\n",
       "      <td>0.079284</td>\n",
       "    </tr>\n",
       "    <tr>\n",
       "      <th>16</th>\n",
       "      <td>Doyle, Arthur Conan</td>\n",
       "      <td>0.106716</td>\n",
       "      <td>0.139097</td>\n",
       "    </tr>\n",
       "    <tr>\n",
       "      <th>17</th>\n",
       "      <td>Dumas, Alexandre</td>\n",
       "      <td>0.097472</td>\n",
       "      <td>0.094622</td>\n",
       "    </tr>\n",
       "    <tr>\n",
       "      <th>18</th>\n",
       "      <td>Churchill, Winston</td>\n",
       "      <td>0.108078</td>\n",
       "      <td>0.101548</td>\n",
       "    </tr>\n",
       "    <tr>\n",
       "      <th>19</th>\n",
       "      <td>Dick, Philip K.</td>\n",
       "      <td>0.036363</td>\n",
       "      <td>0.041112</td>\n",
       "    </tr>\n",
       "    <tr>\n",
       "      <th>20</th>\n",
       "      <td>Huxley, Aldous</td>\n",
       "      <td>0.025652</td>\n",
       "      <td>0.025132</td>\n",
       "    </tr>\n",
       "    <tr>\n",
       "      <th>21</th>\n",
       "      <td>Lovecraft, H. P. (Howard Phillips)</td>\n",
       "      <td>0.016814</td>\n",
       "      <td>0.015722</td>\n",
       "    </tr>\n",
       "  </tbody>\n",
       "</table>\n",
       "</div>"
      ],
      "text/plain": [
       "                               Authors  Deathway    Lambda\n",
       "0                                Homer  0.019636  0.018314\n",
       "1                            Confucius  0.010079  0.009083\n",
       "2                                Plato  0.039891  0.033381\n",
       "3               Cicero, Marcus Tullius  0.022639  0.020324\n",
       "4               Seneca, Lucius Annaeus  0.012041  0.011474\n",
       "5     Marcus Aurelius, Emperor of Rome  0.009390  0.008613\n",
       "6                      Dante Alighieri  0.021376  0.019418\n",
       "7                  Boccaccio, Giovanni  0.011819  0.010747\n",
       "8                 Machiavelli, Niccolò  0.010067  0.009379\n",
       "9                 Shakespeare, William  0.069862  0.044105\n",
       "10                             Molière  0.032405  0.026114\n",
       "11                       Defoe, Daniel  0.060266  0.053468\n",
       "12                   Jefferson, Thomas  0.021392  0.019921\n",
       "13                        Austen, Jane  0.028582  0.023521\n",
       "14                         Twain, Mark  0.152406  0.195624\n",
       "15                    Dickens, Charles  0.087054  0.079284\n",
       "16                 Doyle, Arthur Conan  0.106716  0.139097\n",
       "17                    Dumas, Alexandre  0.097472  0.094622\n",
       "18                  Churchill, Winston  0.108078  0.101548\n",
       "19                     Dick, Philip K.  0.036363  0.041112\n",
       "20                      Huxley, Aldous  0.025652  0.025132\n",
       "21  Lovecraft, H. P. (Howard Phillips)  0.016814  0.015722"
      ]
     },
     "execution_count": 40,
     "metadata": {},
     "output_type": "execute_result"
    }
   ],
   "source": [
    "# test_df = pd.DataFrame(pipe_logreg.predict_proba(my_books['book_content']).T, columns=['Deathway', 'Lambda'])\n",
    "\n",
    "# test_df.insert (0, 'Authors', authors_to_num.keys())\n",
    "\n",
    "# test_df"
   ]
  },
  {
   "attachments": {},
   "cell_type": "markdown",
   "metadata": {},
   "source": [
    "## Cosine Similarity\n",
    "\n",
    "Another way to look at the produced weights and which ones are similar"
   ]
  },
  {
   "attachments": {},
   "cell_type": "markdown",
   "metadata": {},
   "source": [
    "Calculating cosine similarity - for a first attempt, group it by author."
   ]
  },
  {
   "cell_type": "code",
   "execution_count": 56,
   "metadata": {},
   "outputs": [],
   "source": [
    "library_select_grouped = library_select_vec.drop(columns=['title']).groupby('author').mean()"
   ]
  },
  {
   "cell_type": "code",
   "execution_count": 57,
   "metadata": {},
   "outputs": [],
   "source": [
    "dists = spatial.distance.pdist(library_select_grouped.values, metric = 'cosine')"
   ]
  },
  {
   "attachments": {},
   "cell_type": "markdown",
   "metadata": {},
   "source": [
    "example to calculate the dist between phillip k dick and lovecradt, need to get the correct index for dist.\n",
    "\n",
    "Position in daataframe: 3 phillip k dick, 7 lovecraft\n",
    "\n",
    "for i < j < m:\n",
    "\n",
    "m * i + j - ((i + 2) * (i + 1)) // 2\n"
   ]
  },
  {
   "cell_type": "code",
   "execution_count": 58,
   "metadata": {},
   "outputs": [
    {
     "data": {
      "text/plain": [
       "42"
      ]
     },
     "execution_count": 58,
     "metadata": {},
     "output_type": "execute_result"
    }
   ],
   "source": [
    "15 * 3 + 7 - ((3+2) * (3+1)) // 2"
   ]
  },
  {
   "cell_type": "code",
   "execution_count": 59,
   "metadata": {},
   "outputs": [],
   "source": [
    "#dists[42]"
   ]
  },
  {
   "cell_type": "code",
   "execution_count": 60,
   "metadata": {},
   "outputs": [
    {
     "data": {
      "image/png": "[encoded data removed]",
      "text/plain": [
       "<Figure size 1200x800 with 1 Axes>"
      ]
     },
     "metadata": {},
     "output_type": "display_data"
    }
   ],
   "source": [
    "mergings = linkage(dists, method='complete')\n",
    "\n",
    "plt.figure(figsize = (12,8))\n",
    "dendrogram(mergings,\n",
    "           labels = list(library_select_grouped.index),\n",
    "           leaf_rotation = 90,\n",
    "           leaf_font_size = 6);\n",
    "\n",
    "plt.tight_layout()\n",
    "#plt.savefig('images/dendogram_complete_cosine.png', transparent=False, facecolor='white', dpi = 150);"
   ]
  },
  {
   "cell_type": "code",
   "execution_count": 61,
   "metadata": {},
   "outputs": [],
   "source": [
    "# this is a bit convoluted, but .. I first concatenate all the texts in the pandas series which returns an extremely long string\n",
    "# I then turn that string into a pandas series (the predict requires an iterable object)\n",
    "# pipe_nn_encoder.predict(pd.Series(library_top_six.loc[library_top_six['author'] == 0]['book_content'].str.cat()))"
   ]
  },
  {
   "attachments": {},
   "cell_type": "markdown",
   "metadata": {},
   "source": [
    "## Introducing New Text"
   ]
  },
  {
   "cell_type": "code",
   "execution_count": 62,
   "metadata": {},
   "outputs": [
    {
     "data": {
      "text/html": [
       "<div>\n",
       "<style scoped>\n",
       "    .dataframe tbody tr th:only-of-type {\n",
       "        vertical-align: middle;\n",
       "    }\n",
       "\n",
       "    .dataframe tbody tr th {\n",
       "        vertical-align: top;\n",
       "    }\n",
       "\n",
       "    .dataframe thead th {\n",
       "        text-align: right;\n",
       "    }\n",
       "</style>\n",
       "<table border=\"1\" class=\"dataframe\">\n",
       "  <thead>\n",
       "    <tr style=\"text-align: right;\">\n",
       "      <th></th>\n",
       "      <th>author</th>\n",
       "      <th>title</th>\n",
       "      <th>book_content</th>\n",
       "    </tr>\n",
       "  </thead>\n",
       "  <tbody>\n",
       "    <tr>\n",
       "      <th>0</th>\n",
       "      <td>Umer, Tomo</td>\n",
       "      <td>Deathway</td>\n",
       "      <td>DeathwayIndex\\nIntroduction\\nMy second novel! ...</td>\n",
       "    </tr>\n",
       "    <tr>\n",
       "      <th>1</th>\n",
       "      <td>Umer, Tomo</td>\n",
       "      <td>Lambda</td>\n",
       "      <td>Lambda\\n\\n\\n\\n\\n\\n\\n\\n\\n\\n\\n\\n\\n\\n\\n\\n\\n\\n\\n\\n...</td>\n",
       "    </tr>\n",
       "  </tbody>\n",
       "</table>\n",
       "</div>"
      ],
      "text/plain": [
       "       author     title                                       book_content\n",
       "0  Umer, Tomo  Deathway  DeathwayIndex\\nIntroduction\\nMy second novel! ...\n",
       "1  Umer, Tomo    Lambda  Lambda\\n\\n\\n\\n\\n\\n\\n\\n\\n\\n\\n\\n\\n\\n\\n\\n\\n\\n\\n\\n..."
      ]
     },
     "execution_count": 62,
     "metadata": {},
     "output_type": "execute_result"
    }
   ],
   "source": [
    "my_books"
   ]
  },
  {
   "cell_type": "code",
   "execution_count": 63,
   "metadata": {},
   "outputs": [],
   "source": [
    "new_texts = pipe_nn_encoder.predict(my_books['book_content'])"
   ]
  },
  {
   "cell_type": "code",
   "execution_count": 64,
   "metadata": {},
   "outputs": [],
   "source": [
    "# can I do it like this or do I need to add it before?\n",
    "umap_projection_new = umap_mnist.transform(new_texts)"
   ]
  },
  {
   "cell_type": "code",
   "execution_count": 65,
   "metadata": {},
   "outputs": [],
   "source": [
    "# add the new text(s)\n",
    "umap_projection_new = np.concatenate((umap_projection, umap_projection_new), 0)"
   ]
  },
  {
   "cell_type": "code",
   "execution_count": 66,
   "metadata": {},
   "outputs": [],
   "source": [
    "#plt.figure(figsize = (16,8))\n",
    "#palette = sns.color_palette(\"viridis\", 16) #sns.color_palette(\"Paired\")\n",
    "#sns.scatterplot(x=umap_projection_new[:,0], y=umap_projection_new[:,1], \n",
    "#                hue = pd.concat([library_select.replace({'author': num_to_authors})['author'], my_books['author']]).astype('category'),\n",
    "#                #palette=palette,\n",
    "#               alpha = 0.7);"
   ]
  },
  {
   "cell_type": "code",
   "execution_count": 67,
   "metadata": {},
   "outputs": [],
   "source": [
    "library_select_proj = pd.DataFrame(umap_projection_new, columns=[f'proj_{x}' for x in range(2)])"
   ]
  },
  {
   "cell_type": "code",
   "execution_count": 68,
   "metadata": {},
   "outputs": [],
   "source": [
    "library_select_new = pd.concat([library_select.replace({'author': num_to_authors})[['title','author']], my_books[['title', 'author']]])"
   ]
  },
  {
   "cell_type": "code",
   "execution_count": 69,
   "metadata": {},
   "outputs": [],
   "source": [
    "library_select_proj = pd.concat([library_select_new,\n",
    "                                 library_select_proj.set_index(library_select_new.index)], axis=1)"
   ]
  },
  {
   "cell_type": "code",
   "execution_count": 70,
   "metadata": {},
   "outputs": [
    {
     "data": {
      "text/html": [
       "<div>\n",
       "<style scoped>\n",
       "    .dataframe tbody tr th:only-of-type {\n",
       "        vertical-align: middle;\n",
       "    }\n",
       "\n",
       "    .dataframe tbody tr th {\n",
       "        vertical-align: top;\n",
       "    }\n",
       "\n",
       "    .dataframe thead th {\n",
       "        text-align: right;\n",
       "    }\n",
       "</style>\n",
       "<table border=\"1\" class=\"dataframe\">\n",
       "  <thead>\n",
       "    <tr style=\"text-align: right;\">\n",
       "      <th></th>\n",
       "      <th>title</th>\n",
       "      <th>author</th>\n",
       "      <th>proj_0</th>\n",
       "      <th>proj_1</th>\n",
       "    </tr>\n",
       "  </thead>\n",
       "  <tbody>\n",
       "    <tr>\n",
       "      <th>1</th>\n",
       "      <td>Apocolocyntosis</td>\n",
       "      <td>Seneca, Lucius Annaeus</td>\n",
       "      <td>6.723675</td>\n",
       "      <td>7.191339</td>\n",
       "    </tr>\n",
       "    <tr>\n",
       "      <th>6</th>\n",
       "      <td>La Fiammetta</td>\n",
       "      <td>Boccaccio, Giovanni</td>\n",
       "      <td>5.590945</td>\n",
       "      <td>8.721720</td>\n",
       "    </tr>\n",
       "    <tr>\n",
       "      <th>21</th>\n",
       "      <td>Divine Comedy, Longfellow's Translation, Hell</td>\n",
       "      <td>Dante Alighieri</td>\n",
       "      <td>5.171262</td>\n",
       "      <td>5.667461</td>\n",
       "    </tr>\n",
       "    <tr>\n",
       "      <th>32</th>\n",
       "      <td>Divine Comedy, Longfellow's Translation, Purga...</td>\n",
       "      <td>Dante Alighieri</td>\n",
       "      <td>5.179149</td>\n",
       "      <td>5.687298</td>\n",
       "    </tr>\n",
       "    <tr>\n",
       "      <th>43</th>\n",
       "      <td>Divine Comedy, Longfellow's Translation, Paradise</td>\n",
       "      <td>Dante Alighieri</td>\n",
       "      <td>5.378969</td>\n",
       "      <td>5.793653</td>\n",
       "    </tr>\n",
       "    <tr>\n",
       "      <th>...</th>\n",
       "      <td>...</td>\n",
       "      <td>...</td>\n",
       "      <td>...</td>\n",
       "      <td>...</td>\n",
       "    </tr>\n",
       "    <tr>\n",
       "      <th>70091</th>\n",
       "      <td>Nicholas Nickleby</td>\n",
       "      <td>Dickens, Charles</td>\n",
       "      <td>9.260446</td>\n",
       "      <td>6.998053</td>\n",
       "    </tr>\n",
       "    <tr>\n",
       "      <th>70102</th>\n",
       "      <td>Martin Chuzzlewit</td>\n",
       "      <td>Dickens, Charles</td>\n",
       "      <td>9.428117</td>\n",
       "      <td>7.256976</td>\n",
       "    </tr>\n",
       "    <tr>\n",
       "      <th>70269</th>\n",
       "      <td>Tour through the Eastern Counties of England, ...</td>\n",
       "      <td>Defoe, Daniel</td>\n",
       "      <td>6.606389</td>\n",
       "      <td>1.534494</td>\n",
       "    </tr>\n",
       "    <tr>\n",
       "      <th>0</th>\n",
       "      <td>Deathway</td>\n",
       "      <td>Umer, Tomo</td>\n",
       "      <td>7.034669</td>\n",
       "      <td>8.214521</td>\n",
       "    </tr>\n",
       "    <tr>\n",
       "      <th>1</th>\n",
       "      <td>Lambda</td>\n",
       "      <td>Umer, Tomo</td>\n",
       "      <td>7.808421</td>\n",
       "      <td>6.594462</td>\n",
       "    </tr>\n",
       "  </tbody>\n",
       "</table>\n",
       "<p>653 rows × 4 columns</p>\n",
       "</div>"
      ],
      "text/plain": [
       "                                                   title  \\\n",
       "1                                        Apocolocyntosis   \n",
       "6                                           La Fiammetta   \n",
       "21         Divine Comedy, Longfellow's Translation, Hell   \n",
       "32     Divine Comedy, Longfellow's Translation, Purga...   \n",
       "43     Divine Comedy, Longfellow's Translation, Paradise   \n",
       "...                                                  ...   \n",
       "70091                                  Nicholas Nickleby   \n",
       "70102                                  Martin Chuzzlewit   \n",
       "70269  Tour through the Eastern Counties of England, ...   \n",
       "0                                               Deathway   \n",
       "1                                                 Lambda   \n",
       "\n",
       "                       author    proj_0    proj_1  \n",
       "1      Seneca, Lucius Annaeus  6.723675  7.191339  \n",
       "6         Boccaccio, Giovanni  5.590945  8.721720  \n",
       "21            Dante Alighieri  5.171262  5.667461  \n",
       "32            Dante Alighieri  5.179149  5.687298  \n",
       "43            Dante Alighieri  5.378969  5.793653  \n",
       "...                       ...       ...       ...  \n",
       "70091        Dickens, Charles  9.260446  6.998053  \n",
       "70102        Dickens, Charles  9.428117  7.256976  \n",
       "70269           Defoe, Daniel  6.606389  1.534494  \n",
       "0                  Umer, Tomo  7.034669  8.214521  \n",
       "1                  Umer, Tomo  7.808421  6.594462  \n",
       "\n",
       "[653 rows x 4 columns]"
      ]
     },
     "execution_count": 70,
     "metadata": {},
     "output_type": "execute_result"
    }
   ],
   "source": [
    "library_select_proj"
   ]
  },
  {
   "cell_type": "code",
   "execution_count": 71,
   "metadata": {},
   "outputs": [
    {
     "data": {
      "application/vnd.plotly.v1+json": {
       "config": {
        "plotlyServerURL": "https://plot.ly"
       },
       "data": [
        {
         "customdata": [
          [
           "Apocolocyntosis"
          ],
          [
           "L. Annaeus Seneca on Benefits"
          ],
          [
           "Two Tragedies of Seneca: Medea and The Daughters of Troy: Rendered into English Verse"
          ],
          [
           "Seneca's Morals of a Happy Life, Benefits, Anger and Clemency"
          ],
          [
           "The Tragedies of Seneca: Translated into English Verse, to Which Have Been Appended Comparative Analyses of the Corresponding Greek and Roman Plays, and a Mythological Index"
          ],
          [
           "Index of the Project Gutenberg Works of Lucius Annaeus Seneca"
          ],
          [
           "Minor Dialogues, Together With the Dialogue on Clemency"
          ]
         ],
         "hovertemplate": "author=Seneca, Lucius Annaeus<br>proj_0=%{x}<br>proj_1=%{y}<br>title=%{customdata[0]}<extra></extra>",
         "legendgroup": "Seneca, Lucius Annaeus",
         "marker": {
          "color": "#636efa",
          "symbol": "circle"
         },
         "mode": "markers",
         "name": "Seneca, Lucius Annaeus",
         "orientation": "v",
         "showlegend": true,
         "type": "scatter",
         "x": [
          6.723674774169922,
          8.786388397216797,
          6.301605701446533,
          9.012613296508789,
          5.658226013183594,
          6.192149639129639,
          8.852704048156738
         ],
         "xaxis": "x",
         "y": [
          7.191339492797852,
          5.48002290725708,
          6.0187296867370605,
          5.1820597648620605,
          5.78148889541626,
          8.257223129272461,
          5.16187858581543
         ],
         "yaxis": "y"
        },
        {
         "customdata": [
          [
           "La Fiammetta"
          ],
          [
           "The Decameron, Volume II"
          ],
          [
           "The Decameron of Giovanni Boccaccio"
          ],
          [
           "The Decameron, Volume I"
          ],
          [
           "The Decameron (Day 1 to Day 5): Containing an hundred pleasant Novels"
          ],
          [
           "The Decameron (Day 6 to Day 10): Containing an hundred pleasant Novels"
          ]
         ],
         "hovertemplate": "author=Boccaccio, Giovanni<br>proj_0=%{x}<br>proj_1=%{y}<br>title=%{customdata[0]}<extra></extra>",
         "legendgroup": "Boccaccio, Giovanni",
         "marker": {
          "color": "#EF553B",
          "symbol": "circle"
         },
         "mode": "markers",
         "name": "Boccaccio, Giovanni",
         "orientation": "v",
         "showlegend": true,
         "type": "scatter",
         "x": [
          5.590944766998291,
          5.996792793273926,
          5.991408824920654,
          5.819087505340576,
          5.808918476104736,
          5.913052558898926
         ],
         "xaxis": "x",
         "y": [
          8.721719741821289,
          6.201101303100586,
          6.220169544219971,
          6.084131240844727,
          6.583523273468018,
          6.302694797515869
         ],
         "yaxis": "y"
        },
        {
         "customdata": [
          [
           "Divine Comedy, Longfellow's Translation, Hell"
          ],
          [
           "Divine Comedy, Longfellow's Translation, Purgatory"
          ],
          [
           "Divine Comedy, Longfellow's Translation, Paradise"
          ],
          [
           "Divine Comedy, Longfellow's Translation, Complete"
          ],
          [
           "Divine Comedy, Cary's Translation, Hell"
          ],
          [
           "Divine Comedy, Cary's Translation, Purgatory"
          ],
          [
           "Divine Comedy, Cary's Translation, Paradise"
          ],
          [
           "Divine Comedy, Cary's Translation, Complete"
          ],
          [
           "The Banquet (Il Convito)"
          ],
          [
           "The Divine Comedy, Volume 1, Hell"
          ],
          [
           "The Divine Comedy, Volume 2, Purgatory"
          ],
          [
           "The Divine Comedy, Volume 3, Paradise"
          ],
          [
           "The New Life (La Vita Nuova)"
          ],
          [
           "The Divine Comedy of Dante Alighieri: The Inferno"
          ],
          [
           "The Vision of Dante: A story for little children and a talk to their mothers: (Second Edition)"
          ],
          [
           "The vision of hell.: By Dante Alighieri.; Translated by Rev. Henry Francis Cary, M.A.; and illustrated with the seventy-five designs of Gustave Doré."
          ],
          [
           "The Divine Comedy by Dante, Illustrated, Purgatory, Complete"
          ],
          [
           "The Divine Comedy by Dante, Illustrated, Paradise, Complete"
          ],
          [
           "The divine comedy"
          ]
         ],
         "hovertemplate": "author=Dante Alighieri<br>proj_0=%{x}<br>proj_1=%{y}<br>title=%{customdata[0]}<extra></extra>",
         "legendgroup": "Dante Alighieri",
         "marker": {
          "color": "#00cc96",
          "symbol": "circle"
         },
         "mode": "markers",
         "name": "Dante Alighieri",
         "orientation": "v",
         "showlegend": true,
         "type": "scatter",
         "x": [
          5.171262264251709,
          5.179149150848389,
          5.378968715667725,
          5.173269271850586,
          5.011963844299316,
          5.146449565887451,
          4.9955949783325195,
          5.005829334259033,
          5.168770790100098,
          5.2192301750183105,
          5.258327960968018,
          5.18955135345459,
          6.5504279136657715,
          5.289214134216309,
          6.596841335296631,
          5.059535980224609,
          5.113699436187744,
          5.079634189605713,
          5.004692554473877
         ],
         "xaxis": "x",
         "y": [
          5.667460918426514,
          5.68729829788208,
          5.793652534484863,
          5.667538166046143,
          5.540009498596191,
          5.691192150115967,
          5.53374719619751,
          5.523101806640625,
          5.64479398727417,
          5.72388219833374,
          5.726479530334473,
          5.684885025024414,
          6.8113179206848145,
          5.7648444175720215,
          7.755147457122803,
          5.583402633666992,
          5.617412567138672,
          5.5899128913879395,
          5.524143695831299
         ],
         "yaxis": "y"
        },
        {
         "customdata": [
          [
           "Chinese Literature: Comprising the Analects of Confucius, the Sayings of Mencius, the Shi-King, the Travels of Fâ-Hien, and the Sorrows of Han"
          ],
          [
           "The Sayings of Confucius"
          ],
          [
           "The Analects of Confucius (from the Chinese Classics)"
          ],
          [
           "The Wisdom of Confucius: with Critical and Biographical Sketches"
          ],
          [
           "The Sayings of Confucius: A New Translation of the Greater Part of the Confucian Analects"
          ]
         ],
         "hovertemplate": "author=Confucius<br>proj_0=%{x}<br>proj_1=%{y}<br>title=%{customdata[0]}<extra></extra>",
         "legendgroup": "Confucius",
         "marker": {
          "color": "#ab63fa",
          "symbol": "circle"
         },
         "mode": "markers",
         "name": "Confucius",
         "orientation": "v",
         "showlegend": true,
         "type": "scatter",
         "x": [
          8.74199104309082,
          6.5752177238464355,
          6.598959922790527,
          8.628615379333496,
          6.840424060821533
         ],
         "xaxis": "x",
         "y": [
          8.056159973144531,
          8.22851276397705,
          8.4959135055542,
          8.078540802001953,
          8.628445625305176
         ],
         "yaxis": "y"
        },
        {
         "customdata": [
          [
           "The Complete Works of William Shakespeare"
          ],
          [
           "Shakespeare's Sonnets"
          ],
          [
           "Venus and Adonis"
          ],
          [
           "King Richard III"
          ],
          [
           "The Sonnets"
          ],
          [
           "The Tragedy of Titus Andronicus"
          ],
          [
           "The Taming of the Shrew"
          ],
          [
           "King John"
          ],
          [
           "The Tragedy of Romeo and Juliet"
          ],
          [
           "The Merchant of Venice"
          ],
          [
           "The Tragedy of Julius Caesar"
          ],
          [
           "As You Like It"
          ],
          [
           "The Tragedy of King Lear"
          ],
          [
           "The Tragedy of Macbeth"
          ],
          [
           "King Richard III"
          ],
          [
           "The Rape of Lucrece"
          ],
          [
           "The Taming of the Shrew"
          ],
          [
           "Romeo and Juliet"
          ],
          [
           "A Midsummer Night's Dream"
          ],
          [
           "The Merchant of Venice"
          ],
          [
           "King Henry IV, the First Part"
          ],
          [
           "Much Ado about Nothing"
          ],
          [
           "The Life of King Henry V"
          ],
          [
           "Julius Caesar"
          ],
          [
           "As You Like It"
          ],
          [
           "Hamlet, Prince of Denmark"
          ],
          [
           "Twelfth Night; Or, What You Will"
          ],
          [
           "Troilus and Cressida"
          ],
          [
           "All's Well That Ends Well"
          ],
          [
           "Othello, the Moor of Venice"
          ],
          [
           "The Tragedy of King Lear"
          ],
          [
           "Macbeth"
          ],
          [
           "Antony and Cleopatra"
          ],
          [
           "The Tragedy of Coriolanus"
          ],
          [
           "The Winter's Tale"
          ],
          [
           "The Tempest"
          ],
          [
           "The Two Noble Kinsmen"
          ],
          [
           "Sir Thomas More"
          ],
          [
           "King Edward III"
          ],
          [
           "Romeo and Juliet"
          ],
          [
           "A Midsummer Night's Dream"
          ],
          [
           "King Henry IV, Part 1"
          ],
          [
           "Julius Caesar"
          ],
          [
           "Hamlet"
          ],
          [
           "King Lear"
          ],
          [
           "Macbeth"
          ],
          [
           "The Winter's Tale"
          ],
          [
           "A Midsummer Night's Dream"
          ],
          [
           "The Merchant of Venice"
          ],
          [
           "Twelfth Night"
          ],
          [
           "Richard II"
          ],
          [
           "Henry IV, Part 1"
          ],
          [
           "Henry V"
          ],
          [
           "Romeo and Juliet"
          ],
          [
           "Julius Caesar"
          ],
          [
           "Macbeth"
          ],
          [
           "Hamlet"
          ],
          [
           "Othello"
          ],
          [
           "Shakespeare's First Folio"
          ],
          [
           "The Tempest: The Works of William Shakespeare [Cambridge Edition] [9 vols.]"
          ],
          [
           "Two Gentlemen of Verona: The Works of William Shakespeare [Cambridge Edition] [9 vols.]"
          ],
          [
           "The Merry Wives of Windsor: The Works of William Shakespeare [Cambridge Edition] [9 vols.]"
          ],
          [
           "Measure for Measure: The Works of William Shakespeare [Cambridge Edition] [9 vols.]"
          ],
          [
           "The Comedy of Errors: The Works of William Shakespeare [Cambridge Edition] [9 vols.]"
          ],
          [
           "Hamlet, Prince of Denmark"
          ],
          [
           "The New Hudson Shakespeare: Julius Cæsar"
          ],
          [
           "The Works of William Shakespeare [Cambridge Edition] [Vol. 2 of 9]"
          ],
          [
           "The Works of William Shakespeare [Cambridge Edition] [Vol. 7 of 9]"
          ],
          [
           "Shakespeare's Tragedy of Romeo and Juliet"
          ],
          [
           "Flowers from Shakespeare's Garden: A Posy from the Plays"
          ]
         ],
         "hovertemplate": "author=Shakespeare, William<br>proj_0=%{x}<br>proj_1=%{y}<br>title=%{customdata[0]}<extra></extra>",
         "legendgroup": "Shakespeare, William",
         "marker": {
          "color": "#FFA15A",
          "symbol": "circle"
         },
         "mode": "markers",
         "name": "Shakespeare, William",
         "orientation": "v",
         "showlegend": true,
         "type": "scatter",
         "x": [
          1.7967323064804077,
          2.426269054412842,
          4.179628849029541,
          2.733604907989502,
          2.356825113296509,
          3.3581738471984863,
          3.121272563934326,
          3.2006473541259766,
          2.009192943572998,
          2.4465582370758057,
          2.8235061168670654,
          2.586791515350342,
          2.111786127090454,
          2.5017969608306885,
          2.826575756072998,
          3.748347520828247,
          3.2420389652252197,
          2.2677104473114014,
          2.408625364303589,
          2.538431406021118,
          2.8740711212158203,
          2.6977245807647705,
          2.6077558994293213,
          2.958972692489624,
          2.5359132289886475,
          3.0452446937561035,
          4.037009239196777,
          4.907105445861816,
          3.335512161254883,
          3.4859437942504883,
          2.2538158893585205,
          2.548442840576172,
          4.587540626525879,
          4.549027442932129,
          2.6857306957244873,
          3.1186363697052,
          3.19458270072937,
          3.4398446083068848,
          3.370570659637451,
          2.043036699295044,
          2.3972420692443848,
          2.7928051948547363,
          2.869868516921997,
          2.8304359912872314,
          2.1943490505218506,
          2.4424338340759277,
          2.7119500637054443,
          2.232715606689453,
          2.0070137977600098,
          2.117830753326416,
          2.0703186988830566,
          2.543062686920166,
          2.5149831771850586,
          1.896736979484558,
          2.4173057079315186,
          2.558151960372925,
          1.927208423614502,
          2.293537139892578,
          2.031187057495117,
          3.1091504096984863,
          2.968604326248169,
          3.353303909301758,
          2.8561418056488037,
          4.193087577819824,
          3.4907748699188232,
          3.022073268890381,
          2.4251177310943604,
          2.5911943912506104,
          2.34804368019104,
          7.476953983306885
         ],
         "xaxis": "x",
         "y": [
          5.364920139312744,
          5.899324417114258,
          6.697734355926514,
          6.1240458488464355,
          5.915422439575195,
          6.264232635498047,
          6.383061408996582,
          6.100593090057373,
          5.57051944732666,
          5.568685531616211,
          6.2896552085876465,
          5.727756023406982,
          5.989590167999268,
          6.243246555328369,
          6.1133856773376465,
          6.323599815368652,
          6.445802688598633,
          5.782402038574219,
          5.637366771697998,
          5.612610816955566,
          6.284913063049316,
          6.191074848175049,
          6.042693614959717,
          6.363047122955322,
          5.674692630767822,
          5.975554943084717,
          6.637216091156006,
          7.003785133361816,
          6.2940826416015625,
          6.288517951965332,
          6.0472846031188965,
          6.232933521270752,
          6.8263349533081055,
          6.792757511138916,
          6.221965789794922,
          6.429728031158447,
          6.409942626953125,
          6.347881317138672,
          6.399914264678955,
          5.5902628898620605,
          5.5540947914123535,
          6.246814250946045,
          6.30242395401001,
          5.829102039337158,
          6.038215160369873,
          6.238976955413818,
          6.1021952629089355,
          5.4970269203186035,
          5.53737735748291,
          5.598937511444092,
          5.529644012451172,
          6.225761890411377,
          5.9531989097595215,
          5.4691948890686035,
          5.940760135650635,
          6.177792549133301,
          5.483015537261963,
          5.922905445098877,
          5.564836025238037,
          6.411693572998047,
          6.149683475494385,
          6.2460761070251465,
          5.982432842254639,
          6.6851325035095215,
          6.30427360534668,
          6.415889263153076,
          5.461209774017334,
          5.755282878875732,
          5.5626444816589355,
          7.698513984680176
         ],
         "yaxis": "y"
        },
        {
         "customdata": [
          [
           "Bleak House"
          ],
          [
           "Three Ghost Stories"
          ],
          [
           "The Seven Poor Travellers"
          ],
          [
           "The Holly-Tree"
          ],
          [
           "Great Expectations"
          ],
          [
           "The Perils of Certain English Prisoners"
          ],
          [
           "A Message from the Sea"
          ],
          [
           "Somebody's Luggage"
          ],
          [
           "Doctor Marigold"
          ],
          [
           "Mrs. Lirriper's Lodgings"
          ],
          [
           "The Wreck of the Golden Mary"
          ],
          [
           "Some Christmas Stories"
          ],
          [
           "The Loving Ballad of Lord Bateman"
          ],
          [
           "A Christmas Carol"
          ],
          [
           "The Cricket on the Hearth"
          ],
          [
           "The Magic Fishbone: A Holiday Romance from the Pen of Miss Alice Rainbird, Aged 7"
          ],
          [
           "A Christmas Carol"
          ],
          [
           "The Letters of Charles Dickens. Vol. 1, 1833-1856"
          ],
          [
           "The Letters of Charles Dickens. Vol. 2, 1857-1870"
          ],
          [
           "The Letters of Charles Dickens. Vol. 3, 1836-1870"
          ],
          [
           "Bardell v. Pickwick"
          ],
          [
           "Mugby Junction"
          ],
          [
           "Tales from Dickens"
          ],
          [
           "A Christmas Carol: The original manuscript"
          ],
          [
           "Dickens' Stories About Children Every Child Can Read"
          ],
          [
           "The Poems and Verses of Charles Dickens"
          ],
          [
           "Charles Dickens' Children Stories"
          ],
          [
           "The Cricket on the Hearth: A Fairy Tale of Home"
          ],
          [
           "The Battle of Life: A Love Story"
          ],
          [
           "A Child's Dream of a Star"
          ],
          [
           "The Personal History of David Copperfield"
          ],
          [
           "Scenes and Characters from the Works of Charles Dickens: Being Eight Hundred and Sixty-six Pictures Printed from the Original Wood Blocks"
          ],
          [
           "Oliver Twist; or, The Parish Boy's Progress. Illustrated"
          ],
          [
           "Oliver Twist, Vol. 1 (of 3)"
          ],
          [
           "Oliver Twist, Vol. 2 (of 3)"
          ],
          [
           "The Posthumous Papers of the Pickwick Club, v. 1 (of 2)"
          ],
          [
           "The Posthumous Papers of the Pickwick Club, v. 2 (of 2)"
          ],
          [
           "The Mystery of Edwin Drood"
          ],
          [
           "The Pickwick Papers"
          ],
          [
           "Index of the Project Gutenberg Works of Charles Dickens"
          ],
          [
           "Master Humphrey's Clock"
          ],
          [
           "The Haunted Man and the Ghost's Bargain"
          ],
          [
           "Pictures from Italy"
          ],
          [
           "The Chimes: A Goblin Story of Some Bells That Rang an Old Year out and a New Year In"
          ],
          [
           "American Notes"
          ],
          [
           "The Battle of Life"
          ],
          [
           "The Cricket on the Hearth: A Fairy Tale of Home"
          ],
          [
           "A Child's History of England"
          ],
          [
           "The Old Curiosity Shop"
          ],
          [
           "Oliver Twist"
          ],
          [
           "David Copperfield"
          ],
          [
           "Hard Times"
          ],
          [
           "Hunted Down: The Detective Stories of Charles Dickens"
          ],
          [
           "Holiday Romance"
          ],
          [
           "George Silverman's Explanation"
          ],
          [
           "Dombey and Son"
          ],
          [
           "Speeches: Literary and Social"
          ],
          [
           "Reprinted Pieces"
          ],
          [
           "Sketches by Boz, Illustrative of Every-Day Life and Every-Day People"
          ],
          [
           "Our Mutual Friend"
          ],
          [
           "Mudfog and Other Sketches"
          ],
          [
           "The Uncommercial Traveller"
          ],
          [
           "Sketches of Young Couples"
          ],
          [
           "Barnaby Rudge: A Tale of the Riots of 'Eighty"
          ],
          [
           "Sunday Under Three Heads"
          ],
          [
           "To Be Read at Dusk"
          ],
          [
           "The Lamplighter"
          ],
          [
           "Little Dorrit"
          ],
          [
           "Nicholas Nickleby"
          ],
          [
           "Martin Chuzzlewit"
          ]
         ],
         "hovertemplate": "author=Dickens, Charles<br>proj_0=%{x}<br>proj_1=%{y}<br>title=%{customdata[0]}<extra></extra>",
         "legendgroup": "Dickens, Charles",
         "marker": {
          "color": "#19d3f3",
          "symbol": "circle"
         },
         "mode": "markers",
         "name": "Dickens, Charles",
         "orientation": "v",
         "showlegend": true,
         "type": "scatter",
         "x": [
          9.288130760192871,
          8.954558372497559,
          8.463547706604004,
          8.511824607849121,
          9.723169326782227,
          8.862896919250488,
          8.195122718811035,
          9.007200241088867,
          8.628190994262695,
          8.385520935058594,
          8.715295791625977,
          8.885834693908691,
          7.756283760070801,
          9.533799171447754,
          9.151203155517578,
          7.836216926574707,
          9.47941780090332,
          9.40158462524414,
          9.548770904541016,
          8.516732215881348,
          8.650413513183594,
          9.244355201721191,
          9.118834495544434,
          9.4135103225708,
          9.864970207214355,
          8.131093978881836,
          9.045034408569336,
          9.144286155700684,
          9.405488014221191,
          6.247711181640625,
          10.09584903717041,
          7.15971040725708,
          9.8980073928833,
          9.106904029846191,
          9.87705135345459,
          10.084840774536133,
          10.04143238067627,
          9.10822868347168,
          10.087656021118164,
          7.768864154815674,
          9.037617683410645,
          8.598041534423828,
          9.967048645019531,
          8.562655448913574,
          9.913875579833984,
          9.426730155944824,
          9.220254898071289,
          9.43233585357666,
          9.95515251159668,
          9.807719230651855,
          10.045353889465332,
          9.021158218383789,
          8.442022323608398,
          8.049206733703613,
          8.320663452148438,
          8.563255310058594,
          9.514241218566895,
          9.86387825012207,
          9.874063491821289,
          9.562837600708008,
          9.674116134643555,
          9.971382141113281,
          8.890559196472168,
          9.94826602935791,
          8.727001190185547,
          7.832502365112305,
          8.105026245117188,
          8.828840255737305,
          9.260445594787598,
          9.428116798400879
         ],
         "xaxis": "x",
         "y": [
          7.35890531539917,
          7.115872383117676,
          7.089421272277832,
          7.1653265953063965,
          7.484109401702881,
          7.106686592102051,
          7.202908515930176,
          7.192531108856201,
          7.094783306121826,
          7.17726469039917,
          7.068414688110352,
          7.30367374420166,
          7.430746078491211,
          7.128623962402344,
          7.370047569274902,
          7.393913269042969,
          7.097847938537598,
          7.077371597290039,
          7.352148532867432,
          6.978230953216553,
          7.563629150390625,
          7.27641487121582,
          6.974762439727783,
          7.169323444366455,
          7.470026016235352,
          7.210424423217773,
          7.000246524810791,
          7.391605854034424,
          7.267624378204346,
          8.235249519348145,
          7.404428482055664,
          8.369441986083984,
          7.510573387145996,
          7.520040035247803,
          7.524890422821045,
          7.487957954406738,
          7.460849761962891,
          7.449738502502441,
          7.4477128982543945,
          7.5196990966796875,
          6.983578205108643,
          7.23661994934082,
          7.0712456703186035,
          7.057364463806152,
          7.275150775909424,
          7.346004962921143,
          7.345273017883301,
          7.2728776931762695,
          7.267777919769287,
          7.569433689117432,
          7.30449914932251,
          7.328620910644531,
          7.123965740203857,
          7.299804210662842,
          7.162189483642578,
          7.383149147033691,
          7.338106632232666,
          7.403148651123047,
          7.404101848602295,
          7.42783260345459,
          7.389732837677002,
          6.988657474517822,
          7.036472797393799,
          7.150956153869629,
          6.9997172355651855,
          7.409234523773193,
          7.331109523773193,
          7.399022102355957,
          6.998052597045898,
          7.2569756507873535
         ],
         "yaxis": "y"
        },
        {
         "customdata": [
          [
           "The Tragedy of Pudd'nhead Wilson"
          ],
          [
           "Extract from Captain Stormfield's Visit to Heaven"
          ],
          [
           "A Horse's Tale"
          ],
          [
           "A Tramp Abroad"
          ],
          [
           "The Man That Corrupted Hadleyburg"
          ],
          [
           "The $30,000 Bequest, and Other Stories"
          ],
          [
           "The Prince and the Pauper"
          ],
          [
           "Extracts from Adam's Diary, translated from the original ms."
          ],
          [
           "Editorial Wild Oats"
          ],
          [
           "Chapters from My Autobiography"
          ],
          [
           "Is Shakespeare Dead?: From My Autobiography"
          ],
          [
           "Life on the Mississippi"
          ],
          [
           "On the Decay of the Art of Lying"
          ],
          [
           "Personal Recollections of Joan of Arc — Volume 1"
          ],
          [
           "Personal Recollections of Joan of Arc — Volume 2"
          ],
          [
           "The Works of Mark Twain: An Index of all Project Gutenberg Editions"
          ],
          [
           "Following the Equator: A Journey Around the World"
          ],
          [
           "In Defence of Harriet Shelley"
          ],
          [
           "Fenimore Cooper's Literary Offences"
          ],
          [
           "Essays on Paul Bourget"
          ],
          [
           "A Dog's Tale"
          ],
          [
           "Mark Twain's Burlesque Autobiography"
          ],
          [
           "The Innocents Abroad"
          ],
          [
           "Roughing It"
          ],
          [
           "The Gilded Age: A Tale of Today"
          ],
          [
           "The American Claimant"
          ],
          [
           "A Double Barrelled Detective Story"
          ],
          [
           "The Stolen White Elephant"
          ],
          [
           "Some Rambling Notes of an Idle Excursion"
          ],
          [
           "The Facts Concerning the Recent Carnival of Crime in Connecticut"
          ],
          [
           "Alonzo Fitz, and Other Stories"
          ],
          [
           "Those Extraordinary Twins"
          ],
          [
           "The Mysterious Stranger, and Other Stories"
          ],
          [
           "Christian Science"
          ],
          [
           "Mark Twain's Speeches"
          ],
          [
           "Sketches New and Old"
          ],
          [
           "1601: Conversation as it was by the Social Fireside in the Time of the Tudors"
          ],
          [
           "The Curious Republic of Gondour, and Other Whimsical Sketches"
          ],
          [
           "Mark Twain's Letters — Volume 1 (1853-1866)"
          ],
          [
           "Mark Twain's Letters — Volume 2 (1867-1875)"
          ],
          [
           "Mark Twain's Letters — Volume 3 (1876-1885)"
          ],
          [
           "Mark Twain's Letters — Volume 4 (1886-1900)"
          ],
          [
           "Mark Twain's Letters — Volume 5 (1901-1906)"
          ],
          [
           "Mark Twain's Letters — Complete (1853-1910)"
          ],
          [
           "The Entire Project Gutenberg Works of Mark Twain"
          ],
          [
           "The Adventures of Huckleberry Finn (Tom Sawyer's Comrade)"
          ],
          [
           "How to Tell a Story, and Other Essays"
          ],
          [
           "The Man That Corrupted Hadleyburg, and Other Stories"
          ],
          [
           "The Treaty With China, its Provisions Explained: New York Tribune, Tuesday, August 28, 1868"
          ],
          [
           "The Mysterious Stranger: A Romance"
          ],
          [
           "The Innocents Abroad — Volume 01"
          ],
          [
           "The Innocents Abroad — Volume 05"
          ],
          [
           "A Tramp Abroad — Volume 07"
          ],
          [
           "Following the Equator: A Journey Around the World. Part 3"
          ],
          [
           "Sketches New and Old, Part 1."
          ],
          [
           "Merry Tales"
          ],
          [
           "Moments with Mark Twain"
          ],
          [
           "The £1,000,000 bank-note, and other new stories"
          ],
          [
           "To the Person Sitting in Darkness"
          ],
          [
           "King Leopold's Soliloquy: A Defense of His Congo Rule"
          ],
          [
           "Europe and elsewhere"
          ],
          [
           "Adventures of Huckleberry Finn, Chapters 01 to 05"
          ],
          [
           "Adventures of Huckleberry Finn, Chapters 06 to 10"
          ],
          [
           "Adventures of Huckleberry Finn, Chapters 11 to 15"
          ],
          [
           "Adventures of Huckleberry Finn, Chapters 16 to 20"
          ],
          [
           "Adventures of Huckleberry Finn, Chapters 26 to 30"
          ],
          [
           "The Adventures of Tom Sawyer, Part 1."
          ],
          [
           "The Adventures of Tom Sawyer, Part 2."
          ],
          [
           "A Connecticut Yankee in King Arthur's Court, Part 1."
          ],
          [
           "Eve's Diary, Complete"
          ]
         ],
         "hovertemplate": "author=Twain, Mark<br>proj_0=%{x}<br>proj_1=%{y}<br>title=%{customdata[0]}<extra></extra>",
         "legendgroup": "Twain, Mark",
         "marker": {
          "color": "#FF6692",
          "symbol": "circle"
         },
         "mode": "markers",
         "name": "Twain, Mark",
         "orientation": "v",
         "showlegend": true,
         "type": "scatter",
         "x": [
          3.672314405441284,
          4.018394470214844,
          4.1927289962768555,
          3.746549367904663,
          4.076409816741943,
          3.9595680236816406,
          3.7071869373321533,
          4.5709710121154785,
          4.0526323318481445,
          3.8450913429260254,
          4.163706302642822,
          3.868816375732422,
          4.757575511932373,
          3.5470407009124756,
          4.261913776397705,
          6.298714637756348,
          3.9166314601898193,
          3.9659950733184814,
          4.535632133483887,
          4.306705951690674,
          4.585417747497559,
          4.333043098449707,
          3.9550492763519287,
          3.7595417499542236,
          4.020665645599365,
          3.8253750801086426,
          3.620032548904419,
          4.436013698577881,
          4.060027122497559,
          4.226650238037109,
          3.9825470447540283,
          3.6332554817199707,
          4.014839172363281,
          4.208572864532471,
          3.8623852729797363,
          3.983896255493164,
          3.9777300357818604,
          4.007781982421875,
          4.005749225616455,
          4.091099262237549,
          3.9368340969085693,
          3.8348050117492676,
          4.042596340179443,
          3.9461917877197266,
          3.916248321533203,
          3.560962200164795,
          4.255536079406738,
          3.937721014022827,
          4.4784088134765625,
          3.9332191944122314,
          3.784360885620117,
          3.9424452781677246,
          3.6844875812530518,
          3.8201935291290283,
          3.9224050045013428,
          3.842135429382324,
          3.790821075439453,
          4.048378944396973,
          4.375942707061768,
          4.299612045288086,
          3.8587591648101807,
          3.885094404220581,
          3.6638543605804443,
          3.7462522983551025,
          3.5332112312316895,
          3.6040008068084717,
          4.305776596069336,
          4.230201244354248,
          4.221844673156738,
          4.35552453994751
         ],
         "xaxis": "x",
         "y": [
          0.8207448720932007,
          1.5245203971862793,
          1.610640048980713,
          -0.2896113395690918,
          0.6120411157608032,
          0.2642064094543457,
          -0.00023327716917265207,
          1.6197643280029297,
          0.9084151983261108,
          -0.13302212953567505,
          0.9438284635543823,
          -0.41064247488975525,
          1.7386667728424072,
          0.8743369579315186,
          1.8404171466827393,
          8.277495384216309,
          -0.4003358483314514,
          1.4298747777938843,
          1.5695186853408813,
          1.3203628063201904,
          1.6240485906600952,
          1.4353127479553223,
          -0.3830832839012146,
          0.35690438747406006,
          0.23764349520206451,
          0.15222766995429993,
          1.0827140808105469,
          1.5233651399612427,
          0.8623799681663513,
          1.68143892288208,
          0.4072764813899994,
          1.0326166152954102,
          0.40825581550598145,
          1.555336594581604,
          -0.2386002391576767,
          -0.0267738476395607,
          1.4183580875396729,
          1.0849608182907104,
          0.16031379997730255,
          0.574669599533081,
          0.0409456305205822,
          -0.12870949506759644,
          0.46911898255348206,
          -0.045442353934049606,
          -0.421273410320282,
          0.7095392942428589,
          1.478524923324585,
          -0.4365007281303406,
          1.6333924531936646,
          0.35318249464035034,
          -0.03429071977734566,
          -0.3747984766960144,
          -0.09895896911621094,
          0.18360206484794617,
          0.5618011355400085,
          0.06805409491062164,
          -0.1591591238975525,
          0.23169414699077606,
          1.3865866661071777,
          1.2443673610687256,
          -0.03751878812909126,
          1.2831708192825317,
          1.126830816268921,
          1.251563310623169,
          0.8682011365890503,
          1.0335067510604858,
          1.4986885786056519,
          1.322221279144287,
          1.1328436136245728,
          1.6137808561325073
         ],
         "yaxis": "y"
        },
        {
         "customdata": [
          [
           "The Green Flag, and Other Stories of War and Sport"
          ],
          [
           "Uncle Bernac: A Memory of the Empire"
          ],
          [
           "The Return of Sherlock Holmes"
          ],
          [
           "The Exploits of Brigadier Gerard"
          ],
          [
           "The Refugees: A Tale of Two Continents"
          ],
          [
           "The Great Shadow and Other Napoleonic Tales"
          ],
          [
           "The Poison Belt"
          ],
          [
           "The Firm of Girdlestone"
          ],
          [
           "The Lost World"
          ],
          [
           "The New Revelation"
          ],
          [
           "The Adventures of Gerard"
          ],
          [
           "The Adventures of Sherlock Holmes"
          ],
          [
           "The Sign of the Four"
          ],
          [
           "A Desert Drama: Being The Tragedy Of The \"Korosko\""
          ],
          [
           "The Return of Sherlock Holmes"
          ],
          [
           "Danger! and Other Stories"
          ],
          [
           "The Adventure of Wisteria Lodge"
          ],
          [
           "The Adventure of the Cardboard Box"
          ],
          [
           "The Adventure of the Red Circle"
          ],
          [
           "The Adventure of the Bruce-Partington Plans"
          ],
          [
           "The Adventure of the Dying Detective"
          ],
          [
           "The Disappearance of Lady Frances Carfax"
          ],
          [
           "The Adventure of the Devil's Foot"
          ],
          [
           "His Last Bow: An Epilogue of Sherlock Holmes"
          ],
          [
           "A Study in Scarlet"
          ],
          [
           "The War in South Africa, Its Cause and Conduct"
          ],
          [
           "The Last of the Legions and Other Tales of Long Ago"
          ],
          [
           "Sir Nigel"
          ],
          [
           "The Hound of the Baskervilles"
          ],
          [
           "The Stark Munro Letters: Being series of twelve letters written by J. Stark Munro, M.B., to his friend and former fellow-student, Herbert Swanborough, of Lowell, Massachusetts, during the years 1881-1884"
          ],
          [
           "The Captain of the Polestar, and Other Tales"
          ],
          [
           "The Great Boer War"
          ],
          [
           "The Hound of the Baskervilles"
          ],
          [
           "The Great Keinplatz Experiment and Other Tales of Twilight and the Unseen"
          ],
          [
           "The Valley of Fear"
          ],
          [
           "The Dealings of Captain Sharkey, and Other Tales of Pirates"
          ],
          [
           "The Man from Archangel, and Other Tales of Adventure"
          ],
          [
           "The Parasite: A Story"
          ],
          [
           "Beyond the City"
          ],
          [
           "The Crime of the Congo"
          ],
          [
           "The Valley of Fear"
          ],
          [
           "The Croxley Master: A Great Tale Of The Prize Ring"
          ],
          [
           "The Wanderings of a Spiritualist"
          ],
          [
           "The German War"
          ],
          [
           "Round the Red Lamp: Being Facts and Fancies of Medical Life"
          ],
          [
           "The Vital Message"
          ],
          [
           "The Coming of the Fairies"
          ],
          [
           "Adventures of Sherlock Holmes: Illustrated"
          ],
          [
           "Rodney Stone"
          ],
          [
           "A Duet, with an Occasional Chorus"
          ],
          [
           "Through the Magic Door"
          ],
          [
           "Tales of Terror and Mystery"
          ],
          [
           "Round the Fire Stories"
          ],
          [
           "Index of the Project Gutenberg Works of Arthur Conan Doyle"
          ],
          [
           "The Case for Spirit Photography: With corroborative evidence by experienced researchers and photographers"
          ],
          [
           "The British Campaign in France and Flanders, 1914"
          ],
          [
           "The British Campaign in France and Flanders, 1916"
          ],
          [
           "The British Campaign in France and Flanders, 1917"
          ],
          [
           "Memories and Adventures"
          ],
          [
           "The Curse of Eve"
          ],
          [
           "The land of mist"
          ],
          [
           "My friend the murderer, and other mysteries and adventures"
          ],
          [
           "The case-book of Sherlock Holmes"
          ],
          [
           "The case of Oscar Slater"
          ],
          [
           "The Mystery of Cloomber"
          ],
          [
           "The Memoirs of Sherlock Holmes"
          ],
          [
           "The Doings of Raffles Haw"
          ],
          [
           "The Last Galley; Impressions and Tales"
          ],
          [
           "The White Company"
          ],
          [
           "Micah Clarke: His Statement as made to his three grandchildren Joseph, Gervas and Reuben During the Hard Winter of 1734"
          ]
         ],
         "hovertemplate": "author=Doyle, Arthur Conan<br>proj_0=%{x}<br>proj_1=%{y}<br>title=%{customdata[0]}<extra></extra>",
         "legendgroup": "Doyle, Arthur Conan",
         "marker": {
          "color": "#B6E880",
          "symbol": "circle"
         },
         "mode": "markers",
         "name": "Doyle, Arthur Conan",
         "orientation": "v",
         "showlegend": true,
         "type": "scatter",
         "x": [
          8.248435020446777,
          8.20203685760498,
          7.991800785064697,
          8.296453475952148,
          8.200554847717285,
          8.13205623626709,
          7.789149761199951,
          8.100232124328613,
          8.224065780639648,
          7.509149074554443,
          8.283453941345215,
          8.302364349365234,
          8.224138259887695,
          7.818166255950928,
          7.999596118927002,
          8.250556945800781,
          7.428679466247559,
          7.285647869110107,
          7.293145656585693,
          7.60755729675293,
          7.279977321624756,
          7.105915546417236,
          7.4069108963012695,
          7.530282974243164,
          8.238236427307129,
          7.565799713134766,
          8.098432540893555,
          8.046401977539062,
          8.158976554870605,
          8.271993637084961,
          8.410096168518066,
          7.844008445739746,
          8.159773826599121,
          8.363749504089355,
          8.10486125946045,
          8.322343826293945,
          8.288192749023438,
          7.621077537536621,
          8.011290550231934,
          7.54713773727417,
          8.154646873474121,
          7.698574066162109,
          8.258752822875977,
          7.91748571395874,
          8.405275344848633,
          7.767672061920166,
          7.75960636138916,
          8.260202407836914,
          8.249420166015625,
          8.256744384765625,
          8.06699275970459,
          8.143294334411621,
          8.155024528503418,
          7.39356803894043,
          6.9900431632995605,
          7.701988697052002,
          7.842422962188721,
          7.6506781578063965,
          8.26804256439209,
          7.385122776031494,
          7.8961639404296875,
          8.39798641204834,
          7.905270099639893,
          7.3624114990234375,
          8.094888687133789,
          8.123323440551758,
          7.744004249572754,
          8.15906810760498,
          7.953909397125244,
          8.417585372924805
         ],
         "xaxis": "x",
         "y": [
          4.224499702453613,
          5.8931803703308105,
          3.7416493892669678,
          5.626399993896484,
          3.780510425567627,
          3.861159324645996,
          5.191802978515625,
          3.895874261856079,
          4.561707973480225,
          4.9529709815979,
          4.751668930053711,
          5.680156707763672,
          5.559376239776611,
          4.845593452453613,
          3.7605020999908447,
          4.538611888885498,
          6.3976006507873535,
          5.201803207397461,
          5.168936729431152,
          5.263488292694092,
          5.303027153015137,
          7.080867290496826,
          5.1153740882873535,
          5.144767761230469,
          3.990488052368164,
          4.57951545715332,
          3.872075319290161,
          4.684852600097656,
          3.849452018737793,
          4.528363227844238,
          4.625704288482666,
          4.528735637664795,
          3.872936964035034,
          4.838332653045654,
          4.234981536865234,
          4.1646952629089355,
          4.0715203285217285,
          5.2697529792785645,
          6.414227485656738,
          4.771978378295898,
          4.330455780029297,
          5.1630024909973145,
          4.4788498878479,
          5.972282409667969,
          4.968326091766357,
          5.332444190979004,
          5.170413970947266,
          5.675802707672119,
          4.488276481628418,
          6.838263034820557,
          3.81851863861084,
          4.275740146636963,
          4.222077369689941,
          5.281222343444824,
          7.198226451873779,
          4.507192611694336,
          4.49641227722168,
          5.046889781951904,
          4.100546836853027,
          5.423558235168457,
          6.0085906982421875,
          4.467202663421631,
          3.8419244289398193,
          5.178700923919678,
          3.842471122741699,
          4.766552448272705,
          5.22933292388916,
          3.948194980621338,
          5.043936729431152,
          4.659469127655029
         ],
         "yaxis": "y"
        },
        {
         "customdata": [
          [
           "Persuasion"
          ],
          [
           "Love and Freindship [sic]"
          ],
          [
           "Northanger Abbey"
          ],
          [
           "Pride and Prejudice"
          ],
          [
           "Mansfield Park"
          ],
          [
           "Emma"
          ],
          [
           "Sense and Sensibility"
          ],
          [
           "Sense and Sensibility"
          ],
          [
           "The Complete Project Gutenberg Works of Jane Austen: A Linked Index of all PG Editions of Jane Austen"
          ],
          [
           "Pride and Prejudice, a play founded on Jane Austen's novel"
          ],
          [
           "The Letters of Jane Austen: Selected from the compilation of her great nephew, Edward, Lord Bradbourne"
          ],
          [
           "Pride and Prejudice"
          ],
          [
           "The Watsons: By Jane Austen, Concluded by L. Oulton"
          ],
          [
           "Lady Susan"
          ]
         ],
         "hovertemplate": "author=Austen, Jane<br>proj_0=%{x}<br>proj_1=%{y}<br>title=%{customdata[0]}<extra></extra>",
         "legendgroup": "Austen, Jane",
         "marker": {
          "color": "#FF97FF",
          "symbol": "circle"
         },
         "mode": "markers",
         "name": "Austen, Jane",
         "orientation": "v",
         "showlegend": true,
         "type": "scatter",
         "x": [
          8.33213996887207,
          8.355426788330078,
          8.477664947509766,
          9.015610694885254,
          8.577200889587402,
          8.50301742553711,
          10.464822769165039,
          10.414780616760254,
          6.2997283935546875,
          6.8438944816589355,
          8.537039756774902,
          9.019428253173828,
          8.406098365783691,
          8.113444328308105
         ],
         "xaxis": "x",
         "y": [
          7.928021430969238,
          8.07318115234375,
          8.277238845825195,
          8.201581001281738,
          8.177482604980469,
          8.136677742004395,
          12.08045482635498,
          12.076416015625,
          8.283768653869629,
          8.276241302490234,
          8.205431938171387,
          8.230191230773926,
          8.084976196289062,
          7.978275775909424
         ],
         "yaxis": "y"
        },
        {
         "customdata": [
          [
           "Discourses on the First Decade of Titus Livius"
          ],
          [
           "The Prince"
          ],
          [
           "Machiavelli, Volume I"
          ],
          [
           "History of Florence and of the Affairs of Italy: From the Earliest Times to the Death of Lorenzo the Magnificent"
          ],
          [
           "The Prince"
          ]
         ],
         "hovertemplate": "author=Machiavelli, Niccolò<br>proj_0=%{x}<br>proj_1=%{y}<br>title=%{customdata[0]}<extra></extra>",
         "legendgroup": "Machiavelli, Niccolò",
         "marker": {
          "color": "#FECB52",
          "symbol": "circle"
         },
         "mode": "markers",
         "name": "Machiavelli, Niccolò",
         "orientation": "v",
         "showlegend": true,
         "type": "scatter",
         "x": [
          8.82258415222168,
          6.819829940795898,
          5.323600769042969,
          6.900811195373535,
          6.936861038208008
         ],
         "xaxis": "x",
         "y": [
          5.220859527587891,
          6.816037654876709,
          6.78093957901001,
          6.721067428588867,
          6.780181884765625
         ],
         "yaxis": "y"
        },
        {
         "customdata": [
          [
           "The Orations of Marcus Tullius Cicero, Volume 4"
          ],
          [
           "Cato Maior de Senectute with Introduction and Notes"
          ],
          [
           "Academica"
          ],
          [
           "Cicero's Tusculan Disputations: Also, Treatises On The Nature Of The Gods, And On The Commonwealth"
          ],
          [
           "The Letters of Cicero, Volume 1: The Whole Extant Correspodence in Chronological Order"
          ],
          [
           "Treatises on Friendship and Old Age"
          ],
          [
           "Letters of Marcus Tullius Cicero"
          ],
          [
           "The Academic Questions, Treatise De Finibus, and Tusculan Disputations, of M.T. Cicero, With a Sketch of the Greek Philosophers Mentioned by Cicero"
          ],
          [
           "Speeches against Catilina"
          ],
          [
           "De Officiis"
          ],
          [
           "Cicero: Letters to Atticus, Vol. 2 of 3"
          ],
          [
           "Cicero: Letters to Atticus, Vol. 3 of 3"
          ],
          [
           "The republic of Cicero: Translated from the Latin; and Accompanied With a Critical and Historical Introduction."
          ],
          [
           "Cicero: Letters to Atticus, Vol. 1 of 3"
          ]
         ],
         "hovertemplate": "author=Cicero, Marcus Tullius<br>proj_0=%{x}<br>proj_1=%{y}<br>title=%{customdata[0]}<extra></extra>",
         "legendgroup": "Cicero, Marcus Tullius",
         "marker": {
          "color": "#636efa",
          "symbol": "circle"
         },
         "mode": "markers",
         "name": "Cicero, Marcus Tullius",
         "orientation": "v",
         "showlegend": true,
         "type": "scatter",
         "x": [
          8.945096015930176,
          9.748003959655762,
          9.7557373046875,
          8.987295150756836,
          9.136225700378418,
          8.811659812927246,
          9.114925384521484,
          8.989691734313965,
          9.709793090820312,
          9.692179679870605,
          9.688813209533691,
          9.738157272338867,
          8.931624412536621,
          9.670769691467285
         ],
         "xaxis": "x",
         "y": [
          5.474359512329102,
          4.983987331390381,
          4.97453498840332,
          5.25848913192749,
          5.1650285720825195,
          5.426430702209473,
          5.133901596069336,
          5.29762601852417,
          5.004237651824951,
          5.010786056518555,
          5.00744104385376,
          4.9886932373046875,
          5.343759536743164,
          5.034553527832031
         ],
         "yaxis": "y"
        },
        {
         "customdata": [
          [
           "The Life and Adventures of Robinson Crusoe of York, Mariner, Volume 1: With an Account of His Travels Round Three Parts of the Globe,; Written By Himself, in Two Volumes"
          ],
          [
           "From London to Land's End: and Two Letters from the \"Journey through England by a Gentleman\""
          ],
          [
           "The Life and Most Surprising Adventures of Robinson Crusoe, of York, Mariner (1801)"
          ],
          [
           "Memoirs of a Cavalier: A Military Journal of the Wars in Germany, and the Wars in England.; From the Year 1632 to the Year 1648."
          ],
          [
           "The Life and Adventures of Robinson Crusoe (1808)"
          ],
          [
           "The History of the Remarkable Life of John Sheppard: Containing a Particular Account of His Many Robberies and Escapes"
          ],
          [
           "A Vindication of the Press"
          ],
          [
           "Military Memoirs of Capt. George Carleton"
          ],
          [
           "Memoirs of Major Alexander Ramkins (1718)"
          ],
          [
           "The Complete English Tradesman (1839 ed.)"
          ],
          [
           "History of the Plague in London"
          ],
          [
           "Dickory Cronke: The Dumb Philosopher, or, Great Britain's Wonder"
          ],
          [
           "Everybody's Business Is Nobody's Business: Or, Private Abuses, Public Grievances; Exemplified in the Pride, Insolence, and Exorbitant Wages of Our Women, Servants, Footmen, &c."
          ],
          [
           "Atalantis Major"
          ],
          [
           "The True-Born Englishman: A Satire"
          ],
          [
           "The Fortunate Mistress (Parts 1 and 2): or a History of the Life of Mademoiselle de Beleau Known by the Name of the Lady Roxana"
          ],
          [
           "The History of the Devil, As Well Ancient as Modern: In Two Parts"
          ],
          [
           "An Appeal to Honour and Justice, Though It Be of His Worst Enemies.: Being A True Account of His Conduct in Public Affairs."
          ],
          [
           "An Humble Proposal to the People of England, for the Increase of their Trade, and Encouragement of Their Manufactures: Whether the Present Uncertainty of Affairs Issues in Peace or War"
          ],
          [
           "Second Thoughts are Best: Or a Further Improvement of a Late Scheme to Prevent Street Robberies"
          ],
          [
           "Augusta Triumphans: Or, the Way to Make London the Most Flourishing City in the Universe"
          ],
          [
           "A New Voyage Round the World by a Course Never Sailed Before"
          ],
          [
           "A True Relation of the Apparition of one Mrs. Veal: The Next Day after Her Death, to one Mrs. Bargrave, at Canterbury, the 8th of September, 1705; which Apparition Recommends the Perusal of Drelincourt's Book of Consolations against the Fears of Death"
          ],
          [
           "Reasons Against the Succession of the House of Hanover: With an Enquiry How Far the Abdication of King James, Supposing It to Be Legal, Ought to Affect the Person of the Pretender"
          ],
          [
           "A Seasonable Warning and Caution against the Insinuations of Papists and Jacobites in favour of the Pretender: Being a Letter from an Englishman at the Court of Hanover"
          ],
          [
           "An Answer to a Question that Nobody thinks of, viz., But what if the Queen should Die?"
          ],
          [
           "The Lay-Man's Sermon upon the Late Storm: Held forth at an Honest Coffee-House-Conventicle"
          ],
          [
           "And What if the Pretender should Come?: Or Some Considerations of the Advantages and Real Consequences of the Pretender's Possessing the Crown of Great Britain"
          ],
          [
           "The Fortunes and Misfortunes of the Famous Moll Flanders"
          ],
          [
           "A Short Narrative of the Life and Actions of His Grace John, D. of Marlborogh"
          ],
          [
           "A Journal of the Plague Year: Being Observations or Memorials of the Most Remarkable Occurrences, as Well Public as Private, Which Happened in London During the Last Great Visitation in 1665. Written by a Citizen Who Continued All the While in London"
          ],
          [
           "The King of Pirates: Being an Account of the Famous Enterprises of Captain Avery, the Mock King of Madagascar"
          ],
          [
           "A General History of the Pyrates:: from their first rise and settlement in the island of Providence, to the present time"
          ],
          [
           "An Essay Upon Projects"
          ],
          [
           "The Storm. An Essay."
          ],
          [
           "The Storm: or, a Collection of the most Remarkable Casualties and Disasters which Happen'd in the Late Dreadful Tempest, both by Sea and Land"
          ],
          [
           "The Life and Adventures of Robinson Crusoe"
          ],
          [
           "The History and Remarkable Life of the Truly Honourable Colonel Jacque, Commonly Called Colonel Jack"
          ],
          [
           "The Friendly Daemon, or the Generous Apparition: Being a True Narrative of a Miraculous Cure, Newly Perform'd Upon That Famous Deaf and Dumb Gentleman, Dr. Duncan Campbel, by a Familiar Spirit That Appear'd to Him in a White Surplice, Like a Cathedral Singing Boy"
          ],
          [
           "The Further Adventures of Robinson Crusoe"
          ],
          [
           "The History of the Pyrates. Vol. II.: Containing the lives of Captain Misson, Captain Bowen, Captain Kidd, Captain Tew, Captain Halsey, Captain White, Captain Condent, Captain Bellamy, Captain Fly, Captain Howard, Captain Lewis, Captain Cornelius, Captain Williams, Captain Burgess, Captain North, and their several crews"
          ],
          [
           "The Life, Adventures & Piracies of the Famous Captain Singleton"
          ],
          [
           "Robinson Crusoe, Told to the Children by John Lang"
          ],
          [
           "The Consolidator; or, Memoirs of Sundry Transactions from the World in the Moon"
          ],
          [
           "Tour through the Eastern Counties of England, 1722"
          ]
         ],
         "hovertemplate": "author=Defoe, Daniel<br>proj_0=%{x}<br>proj_1=%{y}<br>title=%{customdata[0]}<extra></extra>",
         "legendgroup": "Defoe, Daniel",
         "marker": {
          "color": "#EF553B",
          "symbol": "circle"
         },
         "mode": "markers",
         "name": "Defoe, Daniel",
         "orientation": "v",
         "showlegend": true,
         "type": "scatter",
         "x": [
          7.047203540802002,
          6.821369647979736,
          6.9130330085754395,
          6.602568626403809,
          7.072676658630371,
          6.1994829177856445,
          6.045947551727295,
          6.877417087554932,
          6.262421131134033,
          6.606809616088867,
          6.789146423339844,
          6.0682268142700195,
          8.24954891204834,
          6.1722564697265625,
          6.550685405731201,
          6.743560791015625,
          6.254140377044678,
          6.261064529418945,
          6.193261623382568,
          5.677090167999268,
          8.240753173828125,
          6.7086992263793945,
          5.667669296264648,
          5.823700904846191,
          5.828067779541016,
          5.824885845184326,
          5.8895673751831055,
          5.77374792098999,
          7.006493091583252,
          6.022831439971924,
          6.805441379547119,
          6.406517028808594,
          6.793884754180908,
          6.697334289550781,
          5.719517707824707,
          6.971535682678223,
          7.130815505981445,
          6.774679183959961,
          5.775879383087158,
          7.011107921600342,
          6.920079231262207,
          6.774324417114258,
          7.325372219085693,
          6.522597789764404,
          6.606389045715332
         ],
         "xaxis": "x",
         "y": [
          1.4329994916915894,
          1.800059199333191,
          1.641595721244812,
          1.5295007228851318,
          1.4107089042663574,
          1.9068979024887085,
          1.9906895160675049,
          1.6754237413406372,
          1.8428285121917725,
          1.4963059425354004,
          1.892538070678711,
          2.017014741897583,
          7.160574913024902,
          1.9160072803497314,
          1.7018908262252808,
          1.7631218433380127,
          1.8634164333343506,
          1.8283827304840088,
          1.9086695909500122,
          2.0454611778259277,
          7.035494327545166,
          1.5847651958465576,
          2.3195269107818604,
          2.194141149520874,
          2.175588607788086,
          2.1000471115112305,
          2.1242496967315674,
          2.123922824859619,
          1.5267517566680908,
          2.0546488761901855,
          1.8168292045593262,
          1.7597352266311646,
          1.5618776082992554,
          1.5837777853012085,
          2.2619481086730957,
          1.5531598329544067,
          1.501004695892334,
          1.5129386186599731,
          2.1730613708496094,
          1.5166587829589844,
          1.7533077001571655,
          1.4954373836517334,
          7.014343738555908,
          1.4921663999557495,
          1.5344942808151245
         ],
         "yaxis": "y"
        },
        {
         "customdata": [
          [
           "The Count of Monte Cristo, Illustrated"
          ],
          [
           "The Three Musketeers"
          ],
          [
           "Ten Years Later"
          ],
          [
           "Twenty Years After"
          ],
          [
           "The Son of Clemenceau, A Novel of Modern Love and Life"
          ],
          [
           "The Forty-Five Guardsmen"
          ],
          [
           "Camille (La Dame aux Camilias)"
          ],
          [
           "The Vicomte de Bragelonne; Or, Ten Years Later: Being the completion of \"The Three Musketeers\" and \"Twenty Years After\""
          ],
          [
           "The Queen's Necklace"
          ],
          [
           "The Vicomte De Bragelonne"
          ],
          [
           "Ten Years Later"
          ],
          [
           "Louise de la Valliere"
          ],
          [
           "The Regent's Daughter"
          ],
          [
           "The Conspirators: The Chevalier d'Harmental"
          ],
          [
           "The Borgias: Celebrated Crimes"
          ],
          [
           "Cenci: Celebrated Crimes"
          ],
          [
           "Massacres of the South (1551-1815): Celebrated Crimes"
          ],
          [
           "Mary Stuart: Celebrated Crimes"
          ],
          [
           "Karl Ludwig Sand: Celebrated Crimes"
          ],
          [
           "Urbain Grandier: Celebrated Crimes"
          ],
          [
           "Nisida: Celebrated Crimes"
          ],
          [
           "Derues: Celebrated Crimes"
          ],
          [
           "La Constantin: Celebrated Crimes"
          ],
          [
           "Joan of Naples: Celebrated Crimes"
          ],
          [
           "Man in the Iron Mask (an Essay)"
          ],
          [
           "Martin Guerre: Celebrated Crimes"
          ],
          [
           "Ali Pacha: Celebrated Crimes"
          ],
          [
           "The Countess of Saint Geran: Celebrated Crimes"
          ],
          [
           "Murat: Celebrated Crimes"
          ],
          [
           "Marquise Brinvillier: Celebrated Crimes"
          ],
          [
           "Vaninka: Celebrated Crimes"
          ],
          [
           "Marquise De Ganges: Celebrated Crimes"
          ],
          [
           "The Man in the Iron Mask"
          ],
          [
           "Celebrated Crimes (Complete)"
          ],
          [
           "Marguerite de Valois"
          ],
          [
           "The Prussian Terror"
          ],
          [
           "Widger's Quotations from the Project Gutenberg Editions of Dumas' Celebrated Crimes"
          ],
          [
           "The Princess of Bagdad: A Play In Three Acts"
          ],
          [
           "Captain Paul"
          ],
          [
           "The Sicilian Bandit: From the Volume \"Captain Paul\""
          ],
          [
           "The Corsican Brothers"
          ],
          [
           "The Hero of the People: A Historical Romance of Love, Liberty and Loyalty"
          ],
          [
           "The Mesmerist's Victim"
          ],
          [
           "The Countess of Charny; or, The Execution of King Louis XVI"
          ],
          [
           "The Royal Life Guard; or, the flight of the royal family.: A historical romance of the suppression of the French monarchy"
          ],
          [
           "Taking the Bastile; Or, Pitou the Peasant: A Historical Story of the Great French Revolution"
          ],
          [
           "Balsamo, the Magician; or, The Memoirs of a Physician"
          ],
          [
           "My Memoirs, Vol. I, 1802 to 1821"
          ],
          [
           "The Last Vendée; or, the She-Wolves of Machecoul"
          ],
          [
           "My Memoirs, Vol. II, 1822 to 1825"
          ],
          [
           "My Memoirs, Vol. III, 1826 to 1830"
          ],
          [
           "My Memoirs, Vol. IV, 1830 to 1831"
          ],
          [
           "My Memoirs, Vol. V, 1831 to 1832"
          ],
          [
           "The Wolf-Leader"
          ],
          [
           "My Memoirs, Vol. VI, 1832 to 1833"
          ],
          [
           "The War of Women, Volume 1"
          ],
          [
           "The War of Women, Volume 2"
          ],
          [
           "Index of the Project Gutenberg Works of Alexandre Dumas, [père]"
          ],
          [
           "The Whites and the Blues"
          ],
          [
           "Ascanio"
          ],
          [
           "The Companions of Jehu"
          ],
          [
           "Chicot the Jester"
          ],
          [
           "The Black Tulip"
          ]
         ],
         "hovertemplate": "author=Dumas, Alexandre<br>proj_0=%{x}<br>proj_1=%{y}<br>title=%{customdata[0]}<extra></extra>",
         "legendgroup": "Dumas, Alexandre",
         "marker": {
          "color": "#00cc96",
          "symbol": "circle"
         },
         "mode": "markers",
         "name": "Dumas, Alexandre",
         "orientation": "v",
         "showlegend": true,
         "type": "scatter",
         "x": [
          10.09347915649414,
          9.881528854370117,
          10.444258689880371,
          9.956266403198242,
          8.456424713134766,
          10.185441970825195,
          10.467292785644531,
          10.362167358398438,
          10.158334732055664,
          10.42878532409668,
          10.1185941696167,
          10.428030967712402,
          9.974616050720215,
          10.046260833740234,
          10.442547798156738,
          10.38956069946289,
          10.396139144897461,
          10.362723350524902,
          10.53248119354248,
          10.464083671569824,
          10.487517356872559,
          10.569113731384277,
          10.43256950378418,
          10.393916130065918,
          10.283202171325684,
          10.340019226074219,
          10.367063522338867,
          10.299782752990723,
          10.265618324279785,
          10.37133502960205,
          10.2567720413208,
          10.148270606994629,
          10.455904960632324,
          10.415014266967773,
          10.002630233764648,
          10.151959419250488,
          10.23220157623291,
          10.12949275970459,
          10.143692970275879,
          6.970481872558594,
          9.986947059631348,
          10.689352035522461,
          9.978354454040527,
          10.756019592285156,
          10.410913467407227,
          10.69805908203125,
          10.728578567504883,
          10.336215019226074,
          10.075882911682129,
          10.659680366516113,
          10.109341621398926,
          10.068825721740723,
          10.083268165588379,
          9.928199768066406,
          10.221513748168945,
          9.966708183288574,
          10.098464965820312,
          10.35260009765625,
          10.413185119628906,
          10.118425369262695,
          10.237054824829102,
          10.006034851074219,
          9.959569931030273
         ],
         "xaxis": "x",
         "y": [
          11.740497589111328,
          11.188197135925293,
          12.606684684753418,
          11.261879920959473,
          7.779629230499268,
          12.092761039733887,
          11.41417121887207,
          12.664030075073242,
          11.006614685058594,
          12.578193664550781,
          11.862894058227539,
          12.658684730529785,
          11.426193237304688,
          11.629288673400879,
          12.600296020507812,
          11.619720458984375,
          12.593332290649414,
          12.464282035827637,
          11.560623168945312,
          11.720390319824219,
          11.951959609985352,
          11.92768669128418,
          11.438931465148926,
          12.300628662109375,
          11.620105743408203,
          11.095870018005371,
          12.406455993652344,
          11.306865692138672,
          11.490452766418457,
          11.43780517578125,
          11.197345733642578,
          11.15447998046875,
          12.566444396972656,
          12.649493217468262,
          10.968679428100586,
          11.013991355895996,
          11.151056289672852,
          11.002968788146973,
          11.848664283752441,
          7.874279975891113,
          11.065505027770996,
          11.992481231689453,
          11.109298706054688,
          11.817983627319336,
          11.84321117401123,
          11.80454158782959,
          11.884662628173828,
          12.479002952575684,
          11.133269309997559,
          12.093314170837402,
          11.861252784729004,
          11.756186485290527,
          11.781036376953125,
          11.049637794494629,
          12.106882095336914,
          11.046019554138184,
          11.020196914672852,
          11.237177848815918,
          12.139800071716309,
          11.731119155883789,
          12.231901168823242,
          11.465335845947266,
          10.908422470092773
         ],
         "yaxis": "y"
        },
        {
         "customdata": [
          [
           "Apology, Crito, and Phaedo of Socrates"
          ],
          [
           "The Republic"
          ],
          [
           "The Republic"
          ],
          [
           "Critias"
          ],
          [
           "Timaeus"
          ],
          [
           "Lysis"
          ],
          [
           "Charmides"
          ],
          [
           "Laches"
          ],
          [
           "Protagoras"
          ],
          [
           "Euthydemus"
          ],
          [
           "Symposium"
          ],
          [
           "Cratylus"
          ],
          [
           "Ion"
          ],
          [
           "Phaedrus"
          ],
          [
           "Euthyphro"
          ],
          [
           "Meno"
          ],
          [
           "Apology"
          ],
          [
           "Crito"
          ],
          [
           "Phaedo"
          ],
          [
           "Gorgias"
          ],
          [
           "Lesser Hippias"
          ],
          [
           "Alcibiades I"
          ],
          [
           "Alcibiades II"
          ],
          [
           "Eryxias"
          ],
          [
           "Menexenus"
          ],
          [
           "Parmenides"
          ],
          [
           "Theaetetus"
          ],
          [
           "Sophist"
          ],
          [
           "Statesman"
          ],
          [
           "Philebus"
          ],
          [
           "Laws"
          ],
          [
           "The Project Gutenberg Works of Plato: An Index"
          ],
          [
           "The Republic of Plato"
          ]
         ],
         "hovertemplate": "author=Plato<br>proj_0=%{x}<br>proj_1=%{y}<br>title=%{customdata[0]}<extra></extra>",
         "legendgroup": "Plato",
         "marker": {
          "color": "#ab63fa",
          "symbol": "circle"
         },
         "mode": "markers",
         "name": "Plato",
         "orientation": "v",
         "showlegend": true,
         "type": "scatter",
         "x": [
          12.063976287841797,
          5.917744159698486,
          5.930014610290527,
          6.905540943145752,
          12.074273109436035,
          11.657947540283203,
          12.044249534606934,
          11.467955589294434,
          11.966226577758789,
          11.687636375427246,
          11.732279777526855,
          11.95779037475586,
          11.445573806762695,
          11.986620903015137,
          11.469232559204102,
          11.712510108947754,
          11.981827735900879,
          11.513309478759766,
          11.861063003540039,
          11.90892219543457,
          11.532814025878906,
          11.479574203491211,
          11.495509147644043,
          11.542487144470215,
          11.74238109588623,
          11.992194175720215,
          12.008464813232422,
          11.93673038482666,
          11.852563858032227,
          11.993226051330566,
          11.796231269836426,
          6.332493782043457,
          5.905002593994141
         ],
         "xaxis": "x",
         "y": [
          3.0279295444488525,
          0.21878643333911896,
          0.24680864810943604,
          7.021817684173584,
          3.0104150772094727,
          3.4781386852264404,
          3.0430033206939697,
          3.7045040130615234,
          3.134188652038574,
          3.4502925872802734,
          3.353919744491577,
          3.138759136199951,
          3.7284247875213623,
          3.1134772300720215,
          3.7052714824676514,
          3.443033456802368,
          3.1224215030670166,
          3.6578640937805176,
          3.2334976196289062,
          3.191655397415161,
          3.636146306991577,
          3.695380449295044,
          3.674722671508789,
          3.6222777366638184,
          3.378065824508667,
          3.1030220985412598,
          3.0874123573303223,
          3.1628897190093994,
          3.2540228366851807,
          3.102944850921631,
          3.275597095489502,
          8.336179733276367,
          0.2213737666606903
         ],
         "yaxis": "y"
        },
        {
         "customdata": [
          [
           "London to Ladysmith via Pretoria"
          ],
          [
           "Liberalism and the Social Problem"
          ],
          [
           "The Works of Winston Churchill: A Linked Index of the Project Gutenberg Editions"
          ],
          [
           "The Dwelling Place of Light — Volume 1"
          ],
          [
           "The Dwelling Place of Light — Volume 2"
          ],
          [
           "The Dwelling Place of Light — Volume 3"
          ],
          [
           "The Dwelling Place of Light — Complete"
          ],
          [
           "Mr. Crewe's Career — Volume 1"
          ],
          [
           "Mr. Crewe's Career — Volume 2"
          ],
          [
           "Mr. Crewe's Career — Volume 3"
          ],
          [
           "Mr. Crewe's Career — Complete"
          ],
          [
           "A Far Country — Volume 1"
          ],
          [
           "A Far Country — Volume 2"
          ],
          [
           "A Far Country — Volume 3"
          ],
          [
           "A Far Country — Complete"
          ],
          [
           "Coniston — Volume 01"
          ],
          [
           "Coniston — Volume 02"
          ],
          [
           "Coniston — Volume 03"
          ],
          [
           "Coniston — Volume 04"
          ],
          [
           "Coniston — Complete"
          ],
          [
           "The Crossing"
          ],
          [
           "Ian Hamilton's March"
          ],
          [
           "Lord Randolph Churchill"
          ],
          [
           "My African Journey"
          ],
          [
           "The River War: An Account of the Reconquest of the Sudan"
          ],
          [
           "Savrola: A Tale of the Revolution in Laurania"
          ],
          [
           "The Inside of the Cup — Volume 01"
          ],
          [
           "The Inside of the Cup — Volume 02"
          ],
          [
           "The Inside of the Cup — Volume 03"
          ],
          [
           "The Inside of the Cup — Volume 04"
          ],
          [
           "The Inside of the Cup — Volume 05"
          ],
          [
           "The Inside of the Cup — Volume 06"
          ],
          [
           "The Inside of the Cup — Volume 07"
          ],
          [
           "The Inside of the Cup — Volume 08"
          ],
          [
           "The Inside of the Cup — Complete"
          ],
          [
           "Richard Carvel — Volume 01"
          ],
          [
           "Richard Carvel — Volume 02"
          ],
          [
           "Richard Carvel — Volume 03"
          ],
          [
           "Richard Carvel — Volume 04"
          ],
          [
           "Richard Carvel — Volume 05"
          ],
          [
           "Richard Carvel — Volume 06"
          ],
          [
           "Richard Carvel — Volume 07"
          ],
          [
           "Richard Carvel — Volume 08"
          ],
          [
           "Richard Carvel — Complete"
          ],
          [
           "A Modern Chronicle — Volume 01"
          ],
          [
           "A Modern Chronicle — Volume 02"
          ],
          [
           "A Modern Chronicle — Volume 03"
          ],
          [
           "A Modern Chronicle — Volume 05"
          ],
          [
           "A Modern Chronicle — Volume 06"
          ],
          [
           "A Modern Chronicle — Complete"
          ],
          [
           "The Celebrity, Volume 01"
          ],
          [
           "The Celebrity, Volume 03"
          ],
          [
           "The Celebrity, Volume 04"
          ],
          [
           "The Celebrity, Complete"
          ],
          [
           "The Crisis — Volume 01"
          ],
          [
           "The Crisis — Volume 02"
          ],
          [
           "The Crisis — Volume 03"
          ],
          [
           "The Crisis — Volume 04"
          ],
          [
           "The Crisis — Volume 05"
          ],
          [
           "The Crisis — Volume 06"
          ],
          [
           "The Crisis — Volume 07"
          ],
          [
           "The Crisis — Volume 08"
          ],
          [
           "The Crisis — Complete"
          ],
          [
           "Dr. Jonathan"
          ],
          [
           "A Traveller in War-Time"
          ],
          [
           "An essay on the American contribution and the democratic idea"
          ],
          [
           "Project Gutenberg Complete Works of Winston Churchill"
          ],
          [
           "Index of the Project Gutenberg Works of Sir Winston Spencer Churchill"
          ],
          [
           "The World Crisis, Volume 1 (of 6)"
          ],
          [
           "Mr. Keegan's Elopement"
          ]
         ],
         "hovertemplate": "author=Churchill, Winston<br>proj_0=%{x}<br>proj_1=%{y}<br>title=%{customdata[0]}<extra></extra>",
         "legendgroup": "Churchill, Winston",
         "marker": {
          "color": "#FFA15A",
          "symbol": "circle"
         },
         "mode": "markers",
         "name": "Churchill, Winston",
         "orientation": "v",
         "showlegend": true,
         "type": "scatter",
         "x": [
          6.58731746673584,
          6.316344738006592,
          6.684525012969971,
          5.826826095581055,
          5.915066719055176,
          5.772332668304443,
          5.820521831512451,
          6.511026382446289,
          6.545220851898193,
          6.493490695953369,
          6.536632537841797,
          6.450199127197266,
          6.545130729675293,
          6.370584487915039,
          6.376091957092285,
          6.301955699920654,
          6.3054327964782715,
          6.5556769371032715,
          6.5191192626953125,
          6.38720178604126,
          6.644408226013184,
          6.732385158538818,
          6.6823015213012695,
          7.892770767211914,
          6.7119975090026855,
          6.229013442993164,
          6.304119110107422,
          6.280233860015869,
          6.416040420532227,
          6.6266069412231445,
          6.394474506378174,
          6.303488254547119,
          6.359997749328613,
          5.9472174644470215,
          6.322789669036865,
          6.601797580718994,
          6.282538890838623,
          6.292321681976318,
          5.841691970825195,
          7.072666168212891,
          6.202188014984131,
          6.2345662117004395,
          7.660798072814941,
          6.265957832336426,
          6.660262107849121,
          6.677638053894043,
          6.682869911193848,
          6.707558631896973,
          6.6780266761779785,
          6.652363300323486,
          6.668732166290283,
          6.843025207519531,
          6.8630805015563965,
          6.897722244262695,
          6.527281761169434,
          6.424971580505371,
          6.673699855804443,
          6.67411994934082,
          6.356069564819336,
          6.603034496307373,
          6.609933376312256,
          6.240535259246826,
          6.60430908203125,
          6.712274551391602,
          6.768646240234375,
          6.56095027923584,
          6.588881492614746,
          6.673455238342285,
          6.369832515716553,
          6.660964012145996
         ],
         "xaxis": "x",
         "y": [
          11.372294425964355,
          11.301948547363281,
          8.840145111083984,
          10.801891326904297,
          10.888232231140137,
          10.802947998046875,
          10.826349258422852,
          11.484825134277344,
          11.586663246154785,
          11.520899772644043,
          11.58045768737793,
          10.524467468261719,
          10.859527587890625,
          11.224411010742188,
          11.082296371459961,
          10.875831604003906,
          10.886295318603516,
          9.661223411560059,
          11.30213451385498,
          11.074105262756348,
          10.40990161895752,
          10.974842071533203,
          10.155441284179688,
          6.060948371887207,
          11.041356086730957,
          10.66199779510498,
          11.050259590148926,
          11.331551551818848,
          11.107086181640625,
          10.917031288146973,
          11.331851959228516,
          11.2258939743042,
          11.075264930725098,
          10.811397552490234,
          11.314730644226074,
          9.859617233276367,
          10.060694694519043,
          10.086609840393066,
          10.76166820526123,
          8.741284370422363,
          10.362473487854004,
          10.249939918518066,
          7.925954818725586,
          10.504457473754883,
          10.315673828125,
          9.57011604309082,
          9.805962562561035,
          10.081947326660156,
          10.07628059387207,
          10.155218124389648,
          9.081149101257324,
          8.222939491271973,
          8.1513032913208,
          8.640497207641602,
          10.871153831481934,
          10.724529266357422,
          10.409562110900879,
          10.784554481506348,
          11.016167640686035,
          10.62155532836914,
          10.579511642456055,
          10.53179931640625,
          10.729037284851074,
          9.013875007629395,
          10.892877578735352,
          9.638309478759766,
          11.622579574584961,
          9.749716758728027,
          11.27131462097168,
          9.085662841796875
         ],
         "yaxis": "y"
        },
        {
         "customdata": [
          [
           "Thoughts of Marcus Aurelius Antoninus"
          ],
          [
           "Meditations"
          ],
          [
           "The Meditations of the Emperor Marcus Aurelius Antoninus: A new rendering based on the Foulis translation of 1742"
          ],
          [
           "Index of the Project Gutenberg Works of Marcus Aurelius Antoninus"
          ],
          [
           "Thoughts of Marcus Aurelius"
          ]
         ],
         "hovertemplate": "author=Marcus Aurelius, Emperor of Rome<br>proj_0=%{x}<br>proj_1=%{y}<br>title=%{customdata[0]}<extra></extra>",
         "legendgroup": "Marcus Aurelius, Emperor of Rome",
         "marker": {
          "color": "#19d3f3",
          "symbol": "circle"
         },
         "mode": "markers",
         "name": "Marcus Aurelius, Emperor of Rome",
         "orientation": "v",
         "showlegend": true,
         "type": "scatter",
         "x": [
          3.464282512664795,
          6.538817405700684,
          3.086995840072632,
          6.584112167358398,
          3.560911178588867
         ],
         "xaxis": "x",
         "y": [
          6.119441986083984,
          7.060365200042725,
          5.873790264129639,
          8.068380355834961,
          6.135869979858398
         ],
         "yaxis": "y"
        },
        {
         "customdata": [
          [
           "The Iliad of Homer: Translated into English Blank Verse by William Cowper"
          ],
          [
           "The Odyssey: Rendered into English prose for the use of those who cannot read the original"
          ],
          [
           "The Odyssey of Homer"
          ],
          [
           "The Iliad"
          ],
          [
           "The Iliad"
          ],
          [
           "The Odyssey of Homer"
          ],
          [
           "Odysseus, the Hero of Ithaca: Adapted from the Third Book of the Primary Schools of Athens, Greece"
          ],
          [
           "The Iliad"
          ],
          [
           "The Odyssey"
          ],
          [
           "The Adventures of Ulysses the Wanderer"
          ],
          [
           "The Odysseys of Homer, together with the shorter poems"
          ],
          [
           "The Iliads of Homer: Translated according to the Greek"
          ],
          [
           "The Iliad"
          ],
          [
           "The Iliad"
          ]
         ],
         "hovertemplate": "author=Homer<br>proj_0=%{x}<br>proj_1=%{y}<br>title=%{customdata[0]}<extra></extra>",
         "legendgroup": "Homer",
         "marker": {
          "color": "#FF6692",
          "symbol": "circle"
         },
         "mode": "markers",
         "name": "Homer",
         "orientation": "v",
         "showlegend": true,
         "type": "scatter",
         "x": [
          6.388548374176025,
          6.642682075500488,
          6.552844047546387,
          6.341107368469238,
          6.391292095184326,
          6.333999156951904,
          6.833716869354248,
          6.42368221282959,
          6.502663612365723,
          6.952385902404785,
          6.469725608825684,
          6.400872230529785,
          6.404406547546387,
          6.429985046386719
         ],
         "xaxis": "x",
         "y": [
          5.468708515167236,
          5.8772125244140625,
          5.786646366119385,
          5.546735763549805,
          5.523144721984863,
          5.537550449371338,
          5.878363609313965,
          5.578915119171143,
          5.775240898132324,
          5.87796688079834,
          5.803393363952637,
          5.5443115234375,
          5.516800880432129,
          5.488377571105957
         ],
         "yaxis": "y"
        },
        {
         "customdata": [
          [
           "The Declaration of Independence of The United States of America"
          ],
          [
           "Memoir, Correspondence, and Miscellanies, From the Papers of Thomas Jefferson, Volume 1"
          ],
          [
           "Memoir, Correspondence, and Miscellanies, From the Papers of Thomas Jefferson, Volume 2"
          ],
          [
           "Memoir, Correspondence, and Miscellanies, From the Papers of Thomas Jefferson, Volume 3"
          ],
          [
           "Memoir, Correspondence, and Miscellanies, From the Papers of Thomas Jefferson, Volume 4"
          ],
          [
           "The Declaration of Independence of the United States of America"
          ],
          [
           "The Writings of Thomas Jefferson: Library Edition - Vol. 6 (of 20)"
          ],
          [
           "The Memoirs, Correspondence, and Miscellanies, From the Papers of Thomas Jefferson: A Linked Index to the Project Gutenberg Editions"
          ],
          [
           "United States Declaration of Independence"
          ],
          [
           "The Writings of Thomas Jefferson, Vol. 1 (of 9): Being His Autobiography, Correspondence, Reports, Messages, Addresses, and Other Writings, Official and Private"
          ],
          [
           "The Writings of Thomas Jefferson, Vol. 2 (of 9): Being His Autobiography, Correspondence, Reports, Messages, Addresses, and Other Writings, Official and Private"
          ],
          [
           "State of the Union Addresses"
          ],
          [
           "The Writings of Thomas Jefferson, Vol. 3 (of 9): Being His Autobiography, Correspondence, Reports, Messages, Addresses, and Other Writings, Official and Private"
          ],
          [
           "The Writings of Thomas Jefferson, Vol. 4 (of 9): Being His Autobiography, Correspondence, Reports, Messages, Addresses, and Other Writings, Official and Private"
          ],
          [
           "The Writings of Thomas Jefferson, Vol. 5 (of 9): Being His Autobiography, Correspondence, Reports, Messages, Addresses, and Other Writings, Official and Private"
          ],
          [
           "The Writings of Thomas Jefferson, Vol. 6 (of 9): Being His Autobiography, Correspondence, Reports, Messages, Addresses, and Other Writings, Official and Private"
          ],
          [
           "The Writings of Thomas Jefferson, Vol. 7 (of 9): Being His Autobiography, Correspondence, Reports, Messages, Addresses, and Other Writings, Official and Private"
          ],
          [
           "The Writings of Thomas Jefferson, Vol. 8 (of 9): Being His Autobiography, Correspondence, Reports, Messages, Addresses, and Other Writings, Official and Private"
          ],
          [
           "The Writings of Thomas Jefferson, Vol. 9 (of 9): Being His Autobiography, Correspondence, Reports, Messages, Addresses, and Other Writings, Official and Private"
          ]
         ],
         "hovertemplate": "author=Jefferson, Thomas<br>proj_0=%{x}<br>proj_1=%{y}<br>title=%{customdata[0]}<extra></extra>",
         "legendgroup": "Jefferson, Thomas",
         "marker": {
          "color": "#B6E880",
          "symbol": "circle"
         },
         "mode": "markers",
         "name": "Jefferson, Thomas",
         "orientation": "v",
         "showlegend": true,
         "type": "scatter",
         "x": [
          7.448488235473633,
          6.148376941680908,
          6.199184894561768,
          6.157844066619873,
          6.115388870239258,
          5.911436557769775,
          6.268261432647705,
          5.8655548095703125,
          6.50923490524292,
          6.1381754875183105,
          6.2663469314575195,
          6.146684646606445,
          6.11821174621582,
          6.142167568206787,
          6.1271820068359375,
          6.141876697540283,
          6.1212944984436035,
          6.1713056564331055,
          6.195029258728027
         ],
         "xaxis": "x",
         "y": [
          7.67573356628418,
          0.2926887571811676,
          0.5076501369476318,
          0.4214042127132416,
          0.3794593811035156,
          2.018659830093384,
          0.6284258365631104,
          2.109384536743164,
          8.23299789428711,
          0.3454933166503906,
          0.713166356086731,
          0.9761050939559937,
          0.40406009554862976,
          0.45482003688812256,
          0.7077733278274536,
          0.582787275314331,
          0.4250570237636566,
          0.8139054179191589,
          0.531284511089325
         ],
         "yaxis": "y"
        },
        {
         "customdata": [
          [
           "Crome Yellow"
          ],
          [
           "The Defeat of Youth, and Other Poems"
          ],
          [
           "Mortal Coils"
          ],
          [
           "The Burning Wheel"
          ],
          [
           "Leda"
          ],
          [
           "Limbo"
          ],
          [
           "Index of the Project Gutenberg Works of Aldous Huxley"
          ],
          [
           "Antic Hay"
          ],
          [
           "On the Margin: Notes and Essays"
          ],
          [
           "Jonah: Christmas 1917"
          ],
          [
           "Little Mexican & Other Stories"
          ],
          [
           "Selected Poems"
          ]
         ],
         "hovertemplate": "author=Huxley, Aldous<br>proj_0=%{x}<br>proj_1=%{y}<br>title=%{customdata[0]}<extra></extra>",
         "legendgroup": "Huxley, Aldous",
         "marker": {
          "color": "#FF97FF",
          "symbol": "circle"
         },
         "mode": "markers",
         "name": "Huxley, Aldous",
         "orientation": "v",
         "showlegend": true,
         "type": "scatter",
         "x": [
          8.112532615661621,
          7.707857131958008,
          7.92136287689209,
          7.219254016876221,
          7.14784049987793,
          8.029107093811035,
          6.3224992752075195,
          8.073660850524902,
          8.078606605529785,
          7.3823561668396,
          8.11378002166748,
          7.465282917022705
         ],
         "xaxis": "x",
         "y": [
          7.930109024047852,
          8.316516876220703,
          8.534347534179688,
          8.077093124389648,
          6.620621681213379,
          8.591498374938965,
          8.22982120513916,
          8.577982902526855,
          8.610881805419922,
          7.796565055847168,
          8.544998168945312,
          8.21389102935791
         ],
         "yaxis": "y"
        },
        {
         "customdata": [
          [
           "Tartuffe; Or, The Hypocrite"
          ],
          [
           "Amphitryon"
          ],
          [
           "The Flying Doctor: (Le Médecin Volant)"
          ],
          [
           "The Jealousy of le Barbouillé: (La Jalousie du Barbouillé)"
          ],
          [
           "Tartuffe; Or, The Hypocrite"
          ],
          [
           "The Middle-Class Gentleman"
          ],
          [
           "The Pretentious Young Ladies"
          ],
          [
           "The Blunderer"
          ],
          [
           "The Love-Tiff"
          ],
          [
           "The Bores: A Comedy in Three Acts"
          ],
          [
           "Sganarelle, or, the Self-Deceived Husband"
          ],
          [
           "Don Garcia of Navarre; Or, the Jealous Prince. A Heroic Comedy in Five Acts."
          ],
          [
           "The School for Husbands"
          ],
          [
           "The Miser"
          ],
          [
           "Monsieur De Pourceaugnac"
          ],
          [
           "The Magnificent Lovers (Les Amants magnifiques)"
          ],
          [
           "The Shopkeeper Turned Gentleman"
          ],
          [
           "The Imaginary Invalid"
          ]
         ],
         "hovertemplate": "author=Molière<br>proj_0=%{x}<br>proj_1=%{y}<br>title=%{customdata[0]}<extra></extra>",
         "legendgroup": "Molière",
         "marker": {
          "color": "#FECB52",
          "symbol": "circle"
         },
         "mode": "markers",
         "name": "Molière",
         "orientation": "v",
         "showlegend": true,
         "type": "scatter",
         "x": [
          6.531473159790039,
          5.895685195922852,
          6.217832565307617,
          5.967950344085693,
          5.840555667877197,
          6.252518653869629,
          5.82768440246582,
          5.932244777679443,
          5.82814359664917,
          6.998812675476074,
          5.864808082580566,
          5.860404014587402,
          6.5655083656311035,
          5.888050556182861,
          5.885711669921875,
          5.853039264678955,
          5.890804767608643,
          5.915221691131592
         ],
         "xaxis": "x",
         "y": [
          7.873470783233643,
          7.798900604248047,
          8.246963500976562,
          7.967236042022705,
          7.7355852127075195,
          8.202679634094238,
          7.765198707580566,
          7.80294132232666,
          7.700179100036621,
          7.777126312255859,
          7.733139991760254,
          7.75673770904541,
          7.806509494781494,
          7.829010963439941,
          7.736827373504639,
          7.681443214416504,
          7.817867279052734,
          7.884858131408691
         ],
         "yaxis": "y"
        },
        {
         "customdata": [
          [
           "Beyond Lies the Wub"
          ],
          [
           "Beyond the Door"
          ],
          [
           "The Crystal Crypt"
          ],
          [
           "The Defenders"
          ],
          [
           "The Gun"
          ],
          [
           "The Skull"
          ],
          [
           "The Eyes Have It"
          ],
          [
           "Second Variety"
          ],
          [
           "The Variable Man"
          ],
          [
           "Mr. Spaceship"
          ],
          [
           "Piper in the Woods"
          ],
          [
           "Tony and the Beetles"
          ],
          [
           "The Hanging Stranger"
          ],
          [
           "Prize ship"
          ]
         ],
         "hovertemplate": "author=Dick, Philip K.<br>proj_0=%{x}<br>proj_1=%{y}<br>title=%{customdata[0]}<extra></extra>",
         "legendgroup": "Dick, Philip K.",
         "marker": {
          "color": "#636efa",
          "symbol": "circle"
         },
         "mode": "markers",
         "name": "Dick, Philip K.",
         "orientation": "v",
         "showlegend": true,
         "type": "scatter",
         "x": [
          5.865203857421875,
          6.385701656341553,
          5.667164325714111,
          5.576025009155273,
          5.817066669464111,
          6.5594892501831055,
          6.066704273223877,
          5.668732643127441,
          5.592557430267334,
          5.556147575378418,
          5.642842769622803,
          5.707468032836914,
          5.601438522338867,
          6.442044258117676
         ],
         "xaxis": "x",
         "y": [
          8.681558609008789,
          8.343133926391602,
          8.845232009887695,
          8.950526237487793,
          8.835402488708496,
          8.228601455688477,
          8.51278305053711,
          8.945635795593262,
          8.932943344116211,
          8.944323539733887,
          8.845590591430664,
          8.783302307128906,
          8.91998291015625,
          8.19172477722168
         ],
         "yaxis": "y"
        },
        {
         "customdata": [
          [
           "Writings in the United Amateur, 1915-1922"
          ],
          [
           "The Shunned House"
          ],
          [
           "The Dunwich Horror"
          ],
          [
           "The colour out of space"
          ],
          [
           "The call of Cthulhu"
          ],
          [
           "He"
          ],
          [
           "The festival"
          ],
          [
           "The lurking fear"
          ]
         ],
         "hovertemplate": "author=Lovecraft, H. P. (Howard Phillips)<br>proj_0=%{x}<br>proj_1=%{y}<br>title=%{customdata[0]}<extra></extra>",
         "legendgroup": "Lovecraft, H. P. (Howard Phillips)",
         "marker": {
          "color": "#EF553B",
          "symbol": "circle"
         },
         "mode": "markers",
         "name": "Lovecraft, H. P. (Howard Phillips)",
         "orientation": "v",
         "showlegend": true,
         "type": "scatter",
         "x": [
          4.807687282562256,
          4.714096546173096,
          4.769628524780273,
          4.888667583465576,
          4.776011943817139,
          6.884178638458252,
          6.954535484313965,
          7.036639213562012
         ],
         "xaxis": "x",
         "y": [
          2.3343918323516846,
          2.116332530975342,
          2.3077166080474854,
          2.1986584663391113,
          2.242394208908081,
          7.342978477478027,
          7.401841163635254,
          6.987194538116455
         ],
         "yaxis": "y"
        },
        {
         "customdata": [
          [
           "Deathway"
          ],
          [
           "Lambda"
          ]
         ],
         "hovertemplate": "author=Umer, Tomo<br>proj_0=%{x}<br>proj_1=%{y}<br>title=%{customdata[0]}<extra></extra>",
         "legendgroup": "Umer, Tomo",
         "marker": {
          "color": "#00cc96",
          "symbol": "circle"
         },
         "mode": "markers",
         "name": "Umer, Tomo",
         "orientation": "v",
         "showlegend": true,
         "type": "scatter",
         "x": [
          7.034668922424316,
          7.8084211349487305
         ],
         "xaxis": "x",
         "y": [
          8.214521408081055,
          6.594461917877197
         ],
         "yaxis": "y"
        }
       ],
       "layout": {
        "height": 800,
        "legend": {
         "title": {
          "text": "author"
         },
         "tracegroupgap": 0
        },
        "margin": {
         "t": 60
        },
        "template": {
         "data": {
          "bar": [
           {
            "error_x": {
             "color": "#2a3f5f"
            },
            "error_y": {
             "color": "#2a3f5f"
            },
            "marker": {
             "line": {
              "color": "#E5ECF6",
              "width": 0.5
             },
             "pattern": {
              "fillmode": "overlay",
              "size": 10,
              "solidity": 0.2
             }
            },
            "type": "bar"
           }
          ],
          "barpolar": [
           {
            "marker": {
             "line": {
              "color": "#E5ECF6",
              "width": 0.5
             },
             "pattern": {
              "fillmode": "overlay",
              "size": 10,
              "solidity": 0.2
             }
            },
            "type": "barpolar"
           }
          ],
          "carpet": [
           {
            "aaxis": {
             "endlinecolor": "#2a3f5f",
             "gridcolor": "white",
             "linecolor": "white",
             "minorgridcolor": "white",
             "startlinecolor": "#2a3f5f"
            },
            "baxis": {
             "endlinecolor": "#2a3f5f",
             "gridcolor": "white",
             "linecolor": "white",
             "minorgridcolor": "white",
             "startlinecolor": "#2a3f5f"
            },
            "type": "carpet"
           }
          ],
          "choropleth": [
           {
            "colorbar": {
             "outlinewidth": 0,
             "ticks": ""
            },
            "type": "choropleth"
           }
          ],
          "contour": [
           {
            "colorbar": {
             "outlinewidth": 0,
             "ticks": ""
            },
            "colorscale": [
             [
              0,
              "#0d0887"
             ],
             [
              0.1111111111111111,
              "#46039f"
             ],
             [
              0.2222222222222222,
              "#7201a8"
             ],
             [
              0.3333333333333333,
              "#9c179e"
             ],
             [
              0.4444444444444444,
              "#bd3786"
             ],
             [
              0.5555555555555556,
              "#d8576b"
             ],
             [
              0.6666666666666666,
              "#ed7953"
             ],
             [
              0.7777777777777778,
              "#fb9f3a"
             ],
             [
              0.8888888888888888,
              "#fdca26"
             ],
             [
              1,
              "#f0f921"
             ]
            ],
            "type": "contour"
           }
          ],
          "contourcarpet": [
           {
            "colorbar": {
             "outlinewidth": 0,
             "ticks": ""
            },
            "type": "contourcarpet"
           }
          ],
          "heatmap": [
           {
            "colorbar": {
             "outlinewidth": 0,
             "ticks": ""
            },
            "colorscale": [
             [
              0,
              "#0d0887"
             ],
             [
              0.1111111111111111,
              "#46039f"
             ],
             [
              0.2222222222222222,
              "#7201a8"
             ],
             [
              0.3333333333333333,
              "#9c179e"
             ],
             [
              0.4444444444444444,
              "#bd3786"
             ],
             [
              0.5555555555555556,
              "#d8576b"
             ],
             [
              0.6666666666666666,
              "#ed7953"
             ],
             [
              0.7777777777777778,
              "#fb9f3a"
             ],
             [
              0.8888888888888888,
              "#fdca26"
             ],
             [
              1,
              "#f0f921"
             ]
            ],
            "type": "heatmap"
           }
          ],
          "heatmapgl": [
           {
            "colorbar": {
             "outlinewidth": 0,
             "ticks": ""
            },
            "colorscale": [
             [
              0,
              "#0d0887"
             ],
             [
              0.1111111111111111,
              "#46039f"
             ],
             [
              0.2222222222222222,
              "#7201a8"
             ],
             [
              0.3333333333333333,
              "#9c179e"
             ],
             [
              0.4444444444444444,
              "#bd3786"
             ],
             [
              0.5555555555555556,
              "#d8576b"
             ],
             [
              0.6666666666666666,
              "#ed7953"
             ],
             [
              0.7777777777777778,
              "#fb9f3a"
             ],
             [
              0.8888888888888888,
              "#fdca26"
             ],
             [
              1,
              "#f0f921"
             ]
            ],
            "type": "heatmapgl"
           }
          ],
          "histogram": [
           {
            "marker": {
             "pattern": {
              "fillmode": "overlay",
              "size": 10,
              "solidity": 0.2
             }
            },
            "type": "histogram"
           }
          ],
          "histogram2d": [
           {
            "colorbar": {
             "outlinewidth": 0,
             "ticks": ""
            },
            "colorscale": [
             [
              0,
              "#0d0887"
             ],
             [
              0.1111111111111111,
              "#46039f"
             ],
             [
              0.2222222222222222,
              "#7201a8"
             ],
             [
              0.3333333333333333,
              "#9c179e"
             ],
             [
              0.4444444444444444,
              "#bd3786"
             ],
             [
              0.5555555555555556,
              "#d8576b"
             ],
             [
              0.6666666666666666,
              "#ed7953"
             ],
             [
              0.7777777777777778,
              "#fb9f3a"
             ],
             [
              0.8888888888888888,
              "#fdca26"
             ],
             [
              1,
              "#f0f921"
             ]
            ],
            "type": "histogram2d"
           }
          ],
          "histogram2dcontour": [
           {
            "colorbar": {
             "outlinewidth": 0,
             "ticks": ""
            },
            "colorscale": [
             [
              0,
              "#0d0887"
             ],
             [
              0.1111111111111111,
              "#46039f"
             ],
             [
              0.2222222222222222,
              "#7201a8"
             ],
             [
              0.3333333333333333,
              "#9c179e"
             ],
             [
              0.4444444444444444,
              "#bd3786"
             ],
             [
              0.5555555555555556,
              "#d8576b"
             ],
             [
              0.6666666666666666,
              "#ed7953"
             ],
             [
              0.7777777777777778,
              "#fb9f3a"
             ],
             [
              0.8888888888888888,
              "#fdca26"
             ],
             [
              1,
              "#f0f921"
             ]
            ],
            "type": "histogram2dcontour"
           }
          ],
          "mesh3d": [
           {
            "colorbar": {
             "outlinewidth": 0,
             "ticks": ""
            },
            "type": "mesh3d"
           }
          ],
          "parcoords": [
           {
            "line": {
             "colorbar": {
              "outlinewidth": 0,
              "ticks": ""
             }
            },
            "type": "parcoords"
           }
          ],
          "pie": [
           {
            "automargin": true,
            "type": "pie"
           }
          ],
          "scatter": [
           {
            "fillpattern": {
             "fillmode": "overlay",
             "size": 10,
             "solidity": 0.2
            },
            "type": "scatter"
           }
          ],
          "scatter3d": [
           {
            "line": {
             "colorbar": {
              "outlinewidth": 0,
              "ticks": ""
             }
            },
            "marker": {
             "colorbar": {
              "outlinewidth": 0,
              "ticks": ""
             }
            },
            "type": "scatter3d"
           }
          ],
          "scattercarpet": [
           {
            "marker": {
             "colorbar": {
              "outlinewidth": 0,
              "ticks": ""
             }
            },
            "type": "scattercarpet"
           }
          ],
          "scattergeo": [
           {
            "marker": {
             "colorbar": {
              "outlinewidth": 0,
              "ticks": ""
             }
            },
            "type": "scattergeo"
           }
          ],
          "scattergl": [
           {
            "marker": {
             "colorbar": {
              "outlinewidth": 0,
              "ticks": ""
             }
            },
            "type": "scattergl"
           }
          ],
          "scattermapbox": [
           {
            "marker": {
             "colorbar": {
              "outlinewidth": 0,
              "ticks": ""
             }
            },
            "type": "scattermapbox"
           }
          ],
          "scatterpolar": [
           {
            "marker": {
             "colorbar": {
              "outlinewidth": 0,
              "ticks": ""
             }
            },
            "type": "scatterpolar"
           }
          ],
          "scatterpolargl": [
           {
            "marker": {
             "colorbar": {
              "outlinewidth": 0,
              "ticks": ""
             }
            },
            "type": "scatterpolargl"
           }
          ],
          "scatterternary": [
           {
            "marker": {
             "colorbar": {
              "outlinewidth": 0,
              "ticks": ""
             }
            },
            "type": "scatterternary"
           }
          ],
          "surface": [
           {
            "colorbar": {
             "outlinewidth": 0,
             "ticks": ""
            },
            "colorscale": [
             [
              0,
              "#0d0887"
             ],
             [
              0.1111111111111111,
              "#46039f"
             ],
             [
              0.2222222222222222,
              "#7201a8"
             ],
             [
              0.3333333333333333,
              "#9c179e"
             ],
             [
              0.4444444444444444,
              "#bd3786"
             ],
             [
              0.5555555555555556,
              "#d8576b"
             ],
             [
              0.6666666666666666,
              "#ed7953"
             ],
             [
              0.7777777777777778,
              "#fb9f3a"
             ],
             [
              0.8888888888888888,
              "#fdca26"
             ],
             [
              1,
              "#f0f921"
             ]
            ],
            "type": "surface"
           }
          ],
          "table": [
           {
            "cells": {
             "fill": {
              "color": "#EBF0F8"
             },
             "line": {
              "color": "white"
             }
            },
            "header": {
             "fill": {
              "color": "#C8D4E3"
             },
             "line": {
              "color": "white"
             }
            },
            "type": "table"
           }
          ]
         },
         "layout": {
          "annotationdefaults": {
           "arrowcolor": "#2a3f5f",
           "arrowhead": 0,
           "arrowwidth": 1
          },
          "autotypenumbers": "strict",
          "coloraxis": {
           "colorbar": {
            "outlinewidth": 0,
            "ticks": ""
           }
          },
          "colorscale": {
           "diverging": [
            [
             0,
             "#8e0152"
            ],
            [
             0.1,
             "#c51b7d"
            ],
            [
             0.2,
             "#de77ae"
            ],
            [
             0.3,
             "#f1b6da"
            ],
            [
             0.4,
             "#fde0ef"
            ],
            [
             0.5,
             "#f7f7f7"
            ],
            [
             0.6,
             "#e6f5d0"
            ],
            [
             0.7,
             "#b8e186"
            ],
            [
             0.8,
             "#7fbc41"
            ],
            [
             0.9,
             "#4d9221"
            ],
            [
             1,
             "#276419"
            ]
           ],
           "sequential": [
            [
             0,
             "#0d0887"
            ],
            [
             0.1111111111111111,
             "#46039f"
            ],
            [
             0.2222222222222222,
             "#7201a8"
            ],
            [
             0.3333333333333333,
             "#9c179e"
            ],
            [
             0.4444444444444444,
             "#bd3786"
            ],
            [
             0.5555555555555556,
             "#d8576b"
            ],
            [
             0.6666666666666666,
             "#ed7953"
            ],
            [
             0.7777777777777778,
             "#fb9f3a"
            ],
            [
             0.8888888888888888,
             "#fdca26"
            ],
            [
             1,
             "#f0f921"
            ]
           ],
           "sequentialminus": [
            [
             0,
             "#0d0887"
            ],
            [
             0.1111111111111111,
             "#46039f"
            ],
            [
             0.2222222222222222,
             "#7201a8"
            ],
            [
             0.3333333333333333,
             "#9c179e"
            ],
            [
             0.4444444444444444,
             "#bd3786"
            ],
            [
             0.5555555555555556,
             "#d8576b"
            ],
            [
             0.6666666666666666,
             "#ed7953"
            ],
            [
             0.7777777777777778,
             "#fb9f3a"
            ],
            [
             0.8888888888888888,
             "#fdca26"
            ],
            [
             1,
             "#f0f921"
            ]
           ]
          },
          "colorway": [
           "#636efa",
           "#EF553B",
           "#00cc96",
           "#ab63fa",
           "#FFA15A",
           "#19d3f3",
           "#FF6692",
           "#B6E880",
           "#FF97FF",
           "#FECB52"
          ],
          "font": {
           "color": "#2a3f5f"
          },
          "geo": {
           "bgcolor": "white",
           "lakecolor": "white",
           "landcolor": "#E5ECF6",
           "showlakes": true,
           "showland": true,
           "subunitcolor": "white"
          },
          "hoverlabel": {
           "align": "left"
          },
          "hovermode": "closest",
          "mapbox": {
           "style": "light"
          },
          "paper_bgcolor": "white",
          "plot_bgcolor": "#E5ECF6",
          "polar": {
           "angularaxis": {
            "gridcolor": "white",
            "linecolor": "white",
            "ticks": ""
           },
           "bgcolor": "#E5ECF6",
           "radialaxis": {
            "gridcolor": "white",
            "linecolor": "white",
            "ticks": ""
           }
          },
          "scene": {
           "xaxis": {
            "backgroundcolor": "#E5ECF6",
            "gridcolor": "white",
            "gridwidth": 2,
            "linecolor": "white",
            "showbackground": true,
            "ticks": "",
            "zerolinecolor": "white"
           },
           "yaxis": {
            "backgroundcolor": "#E5ECF6",
            "gridcolor": "white",
            "gridwidth": 2,
            "linecolor": "white",
            "showbackground": true,
            "ticks": "",
            "zerolinecolor": "white"
           },
           "zaxis": {
            "backgroundcolor": "#E5ECF6",
            "gridcolor": "white",
            "gridwidth": 2,
            "linecolor": "white",
            "showbackground": true,
            "ticks": "",
            "zerolinecolor": "white"
           }
          },
          "shapedefaults": {
           "line": {
            "color": "#2a3f5f"
           }
          },
          "ternary": {
           "aaxis": {
            "gridcolor": "white",
            "linecolor": "white",
            "ticks": ""
           },
           "baxis": {
            "gridcolor": "white",
            "linecolor": "white",
            "ticks": ""
           },
           "bgcolor": "#E5ECF6",
           "caxis": {
            "gridcolor": "white",
            "linecolor": "white",
            "ticks": ""
           }
          },
          "title": {
           "x": 0.05
          },
          "xaxis": {
           "automargin": true,
           "gridcolor": "white",
           "linecolor": "white",
           "ticks": "",
           "title": {
            "standoff": 15
           },
           "zerolinecolor": "white",
           "zerolinewidth": 2
          },
          "yaxis": {
           "automargin": true,
           "gridcolor": "white",
           "linecolor": "white",
           "ticks": "",
           "title": {
            "standoff": 15
           },
           "zerolinecolor": "white",
           "zerolinewidth": 2
          }
         }
        },
        "width": 1200,
        "xaxis": {
         "anchor": "y",
         "domain": [
          0,
          1
         ],
         "title": {
          "text": "proj_0"
         }
        },
        "yaxis": {
         "anchor": "x",
         "domain": [
          0,
          1
         ],
         "title": {
          "text": "proj_1"
         }
        }
       }
      }
     },
     "metadata": {},
     "output_type": "display_data"
    }
   ],
   "source": [
    "fig = px.scatter(data_frame = library_select_proj,\n",
    "                 x='proj_0',\n",
    "                 y='proj_1',\n",
    "                 width=1200,\n",
    "                 height=800,\n",
    "                 color= 'author',\n",
    "                 hover_data= ['title']\n",
    "                 )\n",
    "\n",
    "fig.show()"
   ]
  },
  {
   "cell_type": "code",
   "execution_count": null,
   "metadata": {},
   "outputs": [],
   "source": []
  }
 ],
 "metadata": {
  "kernelspec": {
   "display_name": "base",
   "language": "python",
   "name": "python3"
  },
  "language_info": {
   "codemirror_mode": {
    "name": "ipython",
    "version": 3
   },
   "file_extension": ".py",
   "mimetype": "text/x-python",
   "name": "python",
   "nbconvert_exporter": "python",
   "pygments_lexer": "ipython3",
   "version": "3.9.12"
  },
  "orig_nbformat": 4
 },
 "nbformat": 4,
 "nbformat_minor": 2
}
